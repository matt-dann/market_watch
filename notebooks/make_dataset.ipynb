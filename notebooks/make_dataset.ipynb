{
 "cells": [
  {
   "cell_type": "code",
   "execution_count": 1,
   "id": "cf3beb18",
   "metadata": {
    "execution": {
     "iopub.execute_input": "2022-03-06T05:00:05.346463Z",
     "iopub.status.busy": "2022-03-06T05:00:05.346167Z",
     "iopub.status.idle": "2022-03-06T05:00:18.375236Z",
     "shell.execute_reply": "2022-03-06T05:00:18.374512Z"
    },
    "papermill": {
     "duration": 13.041219,
     "end_time": "2022-03-06T05:00:18.377279",
     "exception": false,
     "start_time": "2022-03-06T05:00:05.336060",
     "status": "completed"
    },
    "tags": []
   },
   "outputs": [],
   "source": [
    "# import click\n",
    "# import logging\n",
    "import pandas as pd\n",
    "from sklearn import datasets\n",
    "from pathlib import Path"
   ]
  },
  {
   "cell_type": "code",
   "execution_count": 2,
   "id": "3c14f042",
   "metadata": {
    "execution": {
     "iopub.execute_input": "2022-03-06T05:00:18.388014Z",
     "iopub.status.busy": "2022-03-06T05:00:18.387829Z",
     "iopub.status.idle": "2022-03-06T05:00:18.395049Z",
     "shell.execute_reply": "2022-03-06T05:00:18.394493Z"
    },
    "papermill": {
     "duration": 0.014006,
     "end_time": "2022-03-06T05:00:18.396754",
     "exception": false,
     "start_time": "2022-03-06T05:00:18.382748",
     "status": "completed"
    },
    "tags": []
   },
   "outputs": [],
   "source": [
    "from dotenv import find_dotenv, load_dotenv"
   ]
  },
  {
   "cell_type": "code",
   "execution_count": 3,
   "id": "862fcabd",
   "metadata": {
    "execution": {
     "iopub.execute_input": "2022-03-06T05:00:18.405747Z",
     "iopub.status.busy": "2022-03-06T05:00:18.405572Z",
     "iopub.status.idle": "2022-03-06T05:00:18.407943Z",
     "shell.execute_reply": "2022-03-06T05:00:18.407514Z"
    },
    "lines_to_next_cell": 2,
    "papermill": {
     "duration": 0.008586,
     "end_time": "2022-03-06T05:00:18.409436",
     "exception": false,
     "start_time": "2022-03-06T05:00:18.400850",
     "status": "completed"
    },
    "tags": [
     "parameters"
    ]
   },
   "outputs": [],
   "source": [
    "# declare a list tasks whose products you want to use as inputs\n",
    "upstream = None\n"
   ]
  },
  {
   "cell_type": "code",
   "execution_count": 4,
   "id": "2977a2c3",
   "metadata": {
    "execution": {
     "iopub.execute_input": "2022-03-06T05:00:18.418992Z",
     "iopub.status.busy": "2022-03-06T05:00:18.418802Z",
     "iopub.status.idle": "2022-03-06T05:00:18.421159Z",
     "shell.execute_reply": "2022-03-06T05:00:18.420775Z"
    },
    "papermill": {
     "duration": 0.008591,
     "end_time": "2022-03-06T05:00:18.422680",
     "exception": false,
     "start_time": "2022-03-06T05:00:18.414089",
     "status": "completed"
    },
    "tags": [
     "injected-parameters"
    ]
   },
   "outputs": [],
   "source": [
    "# Parameters\n",
    "product = {\n",
    "    \"nb\": \"/Users/aiujdm2/market_watch/notebooks/make_dataset.ipynb\",\n",
    "    \"data\": \"/Users/aiujdm2/market_watch/data/raw/iris.parquet\",\n",
    "}\n"
   ]
  },
  {
   "cell_type": "code",
   "execution_count": 5,
   "id": "897a8e9d",
   "metadata": {
    "execution": {
     "iopub.execute_input": "2022-03-06T05:00:18.431672Z",
     "iopub.status.busy": "2022-03-06T05:00:18.431521Z",
     "iopub.status.idle": "2022-03-06T05:00:18.434840Z",
     "shell.execute_reply": "2022-03-06T05:00:18.434388Z"
    },
    "papermill": {
     "duration": 0.009541,
     "end_time": "2022-03-06T05:00:18.436411",
     "exception": false,
     "start_time": "2022-03-06T05:00:18.426870",
     "status": "completed"
    },
    "tags": []
   },
   "outputs": [],
   "source": [
    "def make_dataset(product):\n",
    "\n",
    "    d = datasets.load_iris()\n",
    "    df = pd.DataFrame(d['data'])\n",
    "    df.columns = d['feature_names']\n",
    "    df['target'] = d['target']\n",
    "\n",
    "    Path(str(product['data'])).parent.mkdir(exist_ok=True, parents=True)\n",
    "\n",
    "    df.to_parquet(str(product['data']))"
   ]
  },
  {
   "cell_type": "code",
   "execution_count": 6,
   "id": "d92599b4",
   "metadata": {
    "execution": {
     "iopub.execute_input": "2022-03-06T05:00:18.445744Z",
     "iopub.status.busy": "2022-03-06T05:00:18.445583Z",
     "iopub.status.idle": "2022-03-06T05:00:18.472625Z",
     "shell.execute_reply": "2022-03-06T05:00:18.471966Z"
    },
    "papermill": {
     "duration": 0.033833,
     "end_time": "2022-03-06T05:00:18.474520",
     "exception": false,
     "start_time": "2022-03-06T05:00:18.440687",
     "status": "completed"
    },
    "tags": []
   },
   "outputs": [],
   "source": [
    "make_dataset(product)"
   ]
  },
  {
   "cell_type": "markdown",
   "id": "cce72102",
   "metadata": {
    "papermill": {
     "duration": 0.00514,
     "end_time": "2022-03-06T05:00:18.484669",
     "exception": false,
     "start_time": "2022-03-06T05:00:18.479529",
     "status": "completed"
    },
    "tags": []
   },
   "source": [
    "\n",
    "@click.command()\n",
    "@click.argument('input_filepath', type=click.Path(exists=True))\n",
    "@click.argument('output_filepath', type=click.Path())\n",
    "def main(input_filepath, output_filepath):\n",
    "    \"\"\" Runs data processing scripts to turn raw data from (../raw) into\n",
    "        cleaned data ready to be analyzed (saved in ../processed).\n",
    "    \"\"\"\n",
    "    logger = logging.getLogger(__name__)\n",
    "    logger.info('making final data set from raw data')\n",
    "\n",
    "\n",
    "if __name__ == '__main__':\n",
    "    log_fmt = '%(asctime)s - %(name)s - %(levelname)s - %(message)s'\n",
    "    logging.basicConfig(level=logging.INFO, format=log_fmt)\n",
    "\n",
    "    # not used in this stub but often useful for finding various files\n",
    "    project_dir = Path(__file__).resolve().parents[2]\n",
    "\n",
    "    # find .env automagically by walking up directories until it's found, then\n",
    "    # load up the .env entries as environment variables\n",
    "    load_dotenv(find_dotenv())\n",
    "    make_dataset(product)\n",
    "\n",
    "    main()"
   ]
  }
 ],
 "metadata": {
  "jupytext": {
   "cell_metadata_filter": "tags,-all",
   "main_language": "python",
   "notebook_metadata_filter": "-all",
   "text_representation": {
    "extension": ".py",
    "format_name": "light"
   }
  },
  "kernelspec": {
   "display_name": "Python 3 (ipykernel)",
   "language": "python",
   "name": "python3"
  },
  "language_info": {
   "codemirror_mode": {
    "name": "ipython",
    "version": 3
   },
   "file_extension": ".py",
   "mimetype": "text/x-python",
   "name": "python",
   "nbconvert_exporter": "python",
   "pygments_lexer": "ipython3",
   "version": "3.9.10"
  },
  "papermill": {
   "duration": 14.401796,
   "end_time": "2022-03-06T05:00:18.807630",
   "exception": null,
   "input_path": "/var/folders/b0/4tc1nfbd6z7_vhx4nxcj2n91c0l9h6/T/tmpuybin_6e.ipynb",
   "output_path": "/Users/aiujdm2/market_watch/notebooks/make_dataset.ipynb",
   "parameters": {
    "product": {
     "data": "/Users/aiujdm2/market_watch/data/raw/iris.parquet",
     "nb": "/Users/aiujdm2/market_watch/notebooks/make_dataset.ipynb"
    }
   },
   "start_time": "2022-03-06T05:00:04.405834"
  }
 },
 "nbformat": 4,
 "nbformat_minor": 5
}