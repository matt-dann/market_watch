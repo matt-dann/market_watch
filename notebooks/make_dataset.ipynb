{
 "cells": [
  {
   "cell_type": "code",
   "execution_count": 1,
   "id": "2e4cc057",
   "metadata": {
    "execution": {
     "iopub.execute_input": "2022-03-06T02:03:43.578345Z",
     "iopub.status.busy": "2022-03-06T02:03:43.578052Z",
     "iopub.status.idle": "2022-03-06T02:03:44.164873Z",
     "shell.execute_reply": "2022-03-06T02:03:44.164308Z"
    },
    "papermill": {
     "duration": 0.597264,
     "end_time": "2022-03-06T02:03:44.166613",
     "exception": false,
     "start_time": "2022-03-06T02:03:43.569349",
     "status": "completed"
    },
    "tags": []
   },
   "outputs": [],
   "source": [
    "# import click\n",
    "# import logging\n",
    "import pandas as pd\n",
    "from sklearn import datasets\n",
    "from pathlib import Path"
   ]
  },
  {
   "cell_type": "code",
   "execution_count": 2,
   "id": "616cb234",
   "metadata": {
    "execution": {
     "iopub.execute_input": "2022-03-06T02:03:44.176691Z",
     "iopub.status.busy": "2022-03-06T02:03:44.176358Z",
     "iopub.status.idle": "2022-03-06T02:03:44.183607Z",
     "shell.execute_reply": "2022-03-06T02:03:44.183148Z"
    },
    "papermill": {
     "duration": 0.014313,
     "end_time": "2022-03-06T02:03:44.185489",
     "exception": false,
     "start_time": "2022-03-06T02:03:44.171176",
     "status": "completed"
    },
    "tags": []
   },
   "outputs": [],
   "source": [
    "from dotenv import find_dotenv, load_dotenv"
   ]
  },
  {
   "cell_type": "code",
   "execution_count": 3,
   "id": "fd9fe7b1",
   "metadata": {
    "execution": {
     "iopub.execute_input": "2022-03-06T02:03:44.194142Z",
     "iopub.status.busy": "2022-03-06T02:03:44.193832Z",
     "iopub.status.idle": "2022-03-06T02:03:44.197143Z",
     "shell.execute_reply": "2022-03-06T02:03:44.196478Z"
    },
    "lines_to_next_cell": 2,
    "papermill": {
     "duration": 0.009929,
     "end_time": "2022-03-06T02:03:44.199088",
     "exception": false,
     "start_time": "2022-03-06T02:03:44.189159",
     "status": "completed"
    },
    "tags": [
     "parameters"
    ]
   },
   "outputs": [],
   "source": [
    "# declare a list tasks whose products you want to use as inputs\n",
    "upstream = None\n"
   ]
  },
  {
   "cell_type": "code",
   "execution_count": 4,
   "id": "995c7367",
   "metadata": {
    "execution": {
     "iopub.execute_input": "2022-03-06T02:03:44.208063Z",
     "iopub.status.busy": "2022-03-06T02:03:44.207808Z",
     "iopub.status.idle": "2022-03-06T02:03:44.211331Z",
     "shell.execute_reply": "2022-03-06T02:03:44.210458Z"
    },
    "papermill": {
     "duration": 0.010212,
     "end_time": "2022-03-06T02:03:44.213491",
     "exception": false,
     "start_time": "2022-03-06T02:03:44.203279",
     "status": "completed"
    },
    "tags": [
     "injected-parameters"
    ]
   },
   "outputs": [],
   "source": [
    "# Parameters\n",
    "product = {\n",
    "    \"nb\": \"/Users/aiujdm2/market_watch/notebooks/make_dataset.ipynb\",\n",
    "    \"data\": \"/Users/aiujdm2/market_watch/data/raw/iris.parquet\",\n",
    "}\n"
   ]
  },
  {
   "cell_type": "code",
   "execution_count": 5,
   "id": "3533ac4c",
   "metadata": {
    "execution": {
     "iopub.execute_input": "2022-03-06T02:03:44.222215Z",
     "iopub.status.busy": "2022-03-06T02:03:44.221986Z",
     "iopub.status.idle": "2022-03-06T02:03:44.226317Z",
     "shell.execute_reply": "2022-03-06T02:03:44.225442Z"
    },
    "papermill": {
     "duration": 0.010714,
     "end_time": "2022-03-06T02:03:44.228106",
     "exception": false,
     "start_time": "2022-03-06T02:03:44.217392",
     "status": "completed"
    },
    "tags": []
   },
   "outputs": [],
   "source": [
    "def make_dataset(product):\n",
    "\n",
    "    d = datasets.load_iris()\n",
    "    df = pd.DataFrame(d['data'])\n",
    "    df.columns = d['feature_names']\n",
    "    df['target'] = d['target']\n",
    "\n",
    "    Path(str(product['data'])).parent.mkdir(exist_ok=True, parents=True)\n",
    "\n",
    "    df.to_parquet(str(product['data']))"
   ]
  },
  {
   "cell_type": "code",
   "execution_count": 6,
   "id": "7007e2ea",
   "metadata": {
    "execution": {
     "iopub.execute_input": "2022-03-06T02:03:44.237009Z",
     "iopub.status.busy": "2022-03-06T02:03:44.236857Z",
     "iopub.status.idle": "2022-03-06T02:03:44.259738Z",
     "shell.execute_reply": "2022-03-06T02:03:44.259192Z"
    },
    "papermill": {
     "duration": 0.029285,
     "end_time": "2022-03-06T02:03:44.261344",
     "exception": false,
     "start_time": "2022-03-06T02:03:44.232059",
     "status": "completed"
    },
    "tags": []
   },
   "outputs": [],
   "source": [
    "make_dataset(product)"
   ]
  },
  {
   "cell_type": "markdown",
   "id": "4e6a7920",
   "metadata": {
    "papermill": {
     "duration": 0.004213,
     "end_time": "2022-03-06T02:03:44.269862",
     "exception": false,
     "start_time": "2022-03-06T02:03:44.265649",
     "status": "completed"
    },
    "tags": []
   },
   "source": [
    "\n",
    "@click.command()\n",
    "@click.argument('input_filepath', type=click.Path(exists=True))\n",
    "@click.argument('output_filepath', type=click.Path())\n",
    "def main(input_filepath, output_filepath):\n",
    "    \"\"\" Runs data processing scripts to turn raw data from (../raw) into\n",
    "        cleaned data ready to be analyzed (saved in ../processed).\n",
    "    \"\"\"\n",
    "    logger = logging.getLogger(__name__)\n",
    "    logger.info('making final data set from raw data')\n",
    "\n",
    "\n",
    "if __name__ == '__main__':\n",
    "    log_fmt = '%(asctime)s - %(name)s - %(levelname)s - %(message)s'\n",
    "    logging.basicConfig(level=logging.INFO, format=log_fmt)\n",
    "\n",
    "    # not used in this stub but often useful for finding various files\n",
    "    project_dir = Path(__file__).resolve().parents[2]\n",
    "\n",
    "    # find .env automagically by walking up directories until it's found, then\n",
    "    # load up the .env entries as environment variables\n",
    "    load_dotenv(find_dotenv())\n",
    "    make_dataset(product)\n",
    "\n",
    "    main()"
   ]
  }
 ],
 "metadata": {
  "jupytext": {
   "cell_metadata_filter": "tags,-all",
   "main_language": "python",
   "notebook_metadata_filter": "-all",
   "text_representation": {
    "extension": ".py",
    "format_name": "light"
   }
  },
  "kernelspec": {
   "display_name": "Python 3 (ipykernel)",
   "language": "python",
   "name": "python3"
  },
  "language_info": {
   "codemirror_mode": {
    "name": "ipython",
    "version": 3
   },
   "file_extension": ".py",
   "mimetype": "text/x-python",
   "name": "python",
   "nbconvert_exporter": "python",
   "pygments_lexer": "ipython3",
   "version": "3.9.10"
  },
  "papermill": {
   "duration": 1.950366,
   "end_time": "2022-03-06T02:03:44.594309",
   "exception": null,
   "input_path": "/var/folders/b0/4tc1nfbd6z7_vhx4nxcj2n91c0l9h6/T/tmpdk2q8aag.ipynb",
   "output_path": "/Users/aiujdm2/market_watch/notebooks/make_dataset.ipynb",
   "parameters": {
    "product": {
     "data": "/Users/aiujdm2/market_watch/data/raw/iris.parquet",
     "nb": "/Users/aiujdm2/market_watch/notebooks/make_dataset.ipynb"
    }
   },
   "start_time": "2022-03-06T02:03:42.643943"
  }
 },
 "nbformat": 4,
 "nbformat_minor": 5
}