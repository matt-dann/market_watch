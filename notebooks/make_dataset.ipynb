{
 "cells": [
  {
   "cell_type": "code",
   "execution_count": 1,
   "id": "fb867ec0",
   "metadata": {
    "execution": {
     "iopub.execute_input": "2022-03-06T05:26:45.301473Z",
     "iopub.status.busy": "2022-03-06T05:26:45.301182Z",
     "iopub.status.idle": "2022-03-06T05:26:46.098898Z",
     "shell.execute_reply": "2022-03-06T05:26:46.098313Z"
    },
    "papermill": {
     "duration": 0.808538,
     "end_time": "2022-03-06T05:26:46.100977",
     "exception": false,
     "start_time": "2022-03-06T05:26:45.292439",
     "status": "completed"
    },
    "tags": []
   },
   "outputs": [],
   "source": [
    "# import click\n",
    "# import logging\n",
    "import pandas as pd\n",
    "from sklearn import datasets\n",
    "from pathlib import Path"
   ]
  },
  {
   "cell_type": "code",
   "execution_count": 2,
   "id": "a455f52f",
   "metadata": {
    "execution": {
     "iopub.execute_input": "2022-03-06T05:26:46.111915Z",
     "iopub.status.busy": "2022-03-06T05:26:46.111705Z",
     "iopub.status.idle": "2022-03-06T05:26:46.118424Z",
     "shell.execute_reply": "2022-03-06T05:26:46.117829Z"
    },
    "papermill": {
     "duration": 0.013803,
     "end_time": "2022-03-06T05:26:46.120180",
     "exception": false,
     "start_time": "2022-03-06T05:26:46.106377",
     "status": "completed"
    },
    "tags": []
   },
   "outputs": [],
   "source": [
    "from dotenv import find_dotenv, load_dotenv"
   ]
  },
  {
   "cell_type": "code",
   "execution_count": 3,
   "id": "71e8e410",
   "metadata": {
    "execution": {
     "iopub.execute_input": "2022-03-06T05:26:46.129770Z",
     "iopub.status.busy": "2022-03-06T05:26:46.129601Z",
     "iopub.status.idle": "2022-03-06T05:26:46.131901Z",
     "shell.execute_reply": "2022-03-06T05:26:46.131507Z"
    },
    "lines_to_next_cell": 2,
    "papermill": {
     "duration": 0.008887,
     "end_time": "2022-03-06T05:26:46.133712",
     "exception": false,
     "start_time": "2022-03-06T05:26:46.124825",
     "status": "completed"
    },
    "tags": [
     "parameters"
    ]
   },
   "outputs": [],
   "source": [
    "# declare a list tasks whose products you want to use as inputs\n",
    "upstream = None\n"
   ]
  },
  {
   "cell_type": "code",
   "execution_count": 4,
   "id": "636566b8",
   "metadata": {
    "execution": {
     "iopub.execute_input": "2022-03-06T05:26:46.142776Z",
     "iopub.status.busy": "2022-03-06T05:26:46.142598Z",
     "iopub.status.idle": "2022-03-06T05:26:46.145155Z",
     "shell.execute_reply": "2022-03-06T05:26:46.144639Z"
    },
    "papermill": {
     "duration": 0.00905,
     "end_time": "2022-03-06T05:26:46.146808",
     "exception": false,
     "start_time": "2022-03-06T05:26:46.137758",
     "status": "completed"
    },
    "tags": [
     "injected-parameters"
    ]
   },
   "outputs": [],
   "source": [
    "# Parameters\n",
    "product = {\n",
    "    \"nb\": \"/Users/aiujdm2/market_watch/notebooks/make_dataset.ipynb\",\n",
    "    \"data\": \"/Users/aiujdm2/market_watch/data/raw/iris.parquet\",\n",
    "}\n"
   ]
  },
  {
   "cell_type": "code",
   "execution_count": 5,
   "id": "bce4ba09",
   "metadata": {
    "execution": {
     "iopub.execute_input": "2022-03-06T05:26:46.155389Z",
     "iopub.status.busy": "2022-03-06T05:26:46.155172Z",
     "iopub.status.idle": "2022-03-06T05:26:46.158572Z",
     "shell.execute_reply": "2022-03-06T05:26:46.158136Z"
    },
    "papermill": {
     "duration": 0.009809,
     "end_time": "2022-03-06T05:26:46.160473",
     "exception": false,
     "start_time": "2022-03-06T05:26:46.150664",
     "status": "completed"
    },
    "tags": []
   },
   "outputs": [],
   "source": [
    "def make_dataset(product):\n",
    "\n",
    "    d = datasets.load_iris()\n",
    "    df = pd.DataFrame(d['data'])\n",
    "    df.columns = d['feature_names']\n",
    "    df['target'] = d['target']\n",
    "\n",
    "    Path(str(product['data'])).parent.mkdir(exist_ok=True, parents=True)\n",
    "\n",
    "    df.to_parquet(str(product['data']))"
   ]
  },
  {
   "cell_type": "code",
   "execution_count": 6,
   "id": "a7fd6285",
   "metadata": {
    "execution": {
     "iopub.execute_input": "2022-03-06T05:26:46.169569Z",
     "iopub.status.busy": "2022-03-06T05:26:46.169423Z",
     "iopub.status.idle": "2022-03-06T05:26:46.203477Z",
     "shell.execute_reply": "2022-03-06T05:26:46.202813Z"
    },
    "papermill": {
     "duration": 0.04083,
     "end_time": "2022-03-06T05:26:46.205453",
     "exception": false,
     "start_time": "2022-03-06T05:26:46.164623",
     "status": "completed"
    },
    "tags": []
   },
   "outputs": [],
   "source": [
    "make_dataset(product)"
   ]
  },
  {
   "cell_type": "markdown",
   "id": "e6dc485b",
   "metadata": {
    "papermill": {
     "duration": 0.005264,
     "end_time": "2022-03-06T05:26:46.216319",
     "exception": false,
     "start_time": "2022-03-06T05:26:46.211055",
     "status": "completed"
    },
    "tags": []
   },
   "source": [
    "\n",
    "@click.command()\n",
    "@click.argument('input_filepath', type=click.Path(exists=True))\n",
    "@click.argument('output_filepath', type=click.Path())\n",
    "def main(input_filepath, output_filepath):\n",
    "    \"\"\" Runs data processing scripts to turn raw data from (../raw) into\n",
    "        cleaned data ready to be analyzed (saved in ../processed).\n",
    "    \"\"\"\n",
    "    logger = logging.getLogger(__name__)\n",
    "    logger.info('making final data set from raw data')\n",
    "\n",
    "\n",
    "if __name__ == '__main__':\n",
    "    log_fmt = '%(asctime)s - %(name)s - %(levelname)s - %(message)s'\n",
    "    logging.basicConfig(level=logging.INFO, format=log_fmt)\n",
    "\n",
    "    # not used in this stub but often useful for finding various files\n",
    "    project_dir = Path(__file__).resolve().parents[2]\n",
    "\n",
    "    # find .env automagically by walking up directories until it's found, then\n",
    "    # load up the .env entries as environment variables\n",
    "    load_dotenv(find_dotenv())\n",
    "    make_dataset(product)\n",
    "\n",
    "    main()"
   ]
  }
 ],
 "metadata": {
  "jupytext": {
   "cell_metadata_filter": "tags,-all",
   "main_language": "python",
   "notebook_metadata_filter": "-all",
   "text_representation": {
    "extension": ".py",
    "format_name": "light"
   }
  },
  "kernelspec": {
   "display_name": "Python 3 (ipykernel)",
   "language": "python",
   "name": "python3"
  },
  "language_info": {
   "codemirror_mode": {
    "name": "ipython",
    "version": 3
   },
   "file_extension": ".py",
   "mimetype": "text/x-python",
   "name": "python",
   "nbconvert_exporter": "python",
   "pygments_lexer": "ipython3",
   "version": "3.9.10"
  },
  "papermill": {
   "duration": 2.026995,
   "end_time": "2022-03-06T05:26:46.542403",
   "exception": null,
   "input_path": "/var/folders/b0/4tc1nfbd6z7_vhx4nxcj2n91c0l9h6/T/tmp5uey2a95.ipynb",
   "output_path": "/Users/aiujdm2/market_watch/notebooks/make_dataset.ipynb",
   "parameters": {
    "product": {
     "data": "/Users/aiujdm2/market_watch/data/raw/iris.parquet",
     "nb": "/Users/aiujdm2/market_watch/notebooks/make_dataset.ipynb"
    }
   },
   "start_time": "2022-03-06T05:26:44.515408"
  }
 },
 "nbformat": 4,
 "nbformat_minor": 5
}