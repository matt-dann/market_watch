{
 "cells": [
  {
   "cell_type": "code",
   "execution_count": 1,
   "id": "0056ab59",
   "metadata": {
    "execution": {
     "iopub.execute_input": "2022-03-08T21:48:06.197539Z",
     "iopub.status.busy": "2022-03-08T21:48:06.197262Z",
     "iopub.status.idle": "2022-03-08T21:48:07.595878Z",
     "shell.execute_reply": "2022-03-08T21:48:07.595371Z"
    },
    "papermill": {
     "duration": 1.407639,
     "end_time": "2022-03-08T21:48:07.597712",
     "exception": false,
     "start_time": "2022-03-08T21:48:06.190073",
     "status": "completed"
    },
    "tags": []
   },
   "outputs": [],
   "source": [
    "# import click\n",
    "# import logging\n",
    "import pandas as pd\n",
    "from sklearn import datasets\n",
    "from pathlib import Path"
   ]
  },
  {
   "cell_type": "code",
   "execution_count": 2,
   "id": "e7681533",
   "metadata": {
    "execution": {
     "iopub.execute_input": "2022-03-08T21:48:07.607300Z",
     "iopub.status.busy": "2022-03-08T21:48:07.607070Z",
     "iopub.status.idle": "2022-03-08T21:48:07.610111Z",
     "shell.execute_reply": "2022-03-08T21:48:07.609461Z"
    },
    "lines_to_next_cell": 2,
    "papermill": {
     "duration": 0.010338,
     "end_time": "2022-03-08T21:48:07.612138",
     "exception": false,
     "start_time": "2022-03-08T21:48:07.601800",
     "status": "completed"
    },
    "tags": [
     "parameters"
    ]
   },
   "outputs": [],
   "source": [
    "# declare a list tasks whose products you want to use as inputs\n",
    "upstream = None\n"
   ]
  },
  {
   "cell_type": "code",
   "execution_count": 3,
   "id": "83193ec3",
   "metadata": {
    "execution": {
     "iopub.execute_input": "2022-03-08T21:48:07.622559Z",
     "iopub.status.busy": "2022-03-08T21:48:07.622318Z",
     "iopub.status.idle": "2022-03-08T21:48:07.625565Z",
     "shell.execute_reply": "2022-03-08T21:48:07.624949Z"
    },
    "papermill": {
     "duration": 0.010751,
     "end_time": "2022-03-08T21:48:07.627360",
     "exception": false,
     "start_time": "2022-03-08T21:48:07.616609",
     "status": "completed"
    },
    "tags": [
     "injected-parameters"
    ]
   },
   "outputs": [],
   "source": [
    "# Parameters\n",
    "product = {\n",
    "    \"nb\": \"/Users/aiujdm2/market_watch/notebooks/make_dataset.ipynb\",\n",
    "    \"data\": \"/Users/aiujdm2/market_watch/data/raw/iris.parquet\",\n",
    "}\n"
   ]
  },
  {
   "cell_type": "code",
   "execution_count": 4,
   "id": "1c6ec001",
   "metadata": {
    "execution": {
     "iopub.execute_input": "2022-03-08T21:48:07.640002Z",
     "iopub.status.busy": "2022-03-08T21:48:07.639757Z",
     "iopub.status.idle": "2022-03-08T21:48:07.644520Z",
     "shell.execute_reply": "2022-03-08T21:48:07.643818Z"
    },
    "papermill": {
     "duration": 0.013243,
     "end_time": "2022-03-08T21:48:07.646526",
     "exception": false,
     "start_time": "2022-03-08T21:48:07.633283",
     "status": "completed"
    },
    "tags": []
   },
   "outputs": [],
   "source": [
    "def make_dataset(product):\n",
    "\n",
    "    d = datasets.load_iris()\n",
    "    df = pd.DataFrame(d['data'])\n",
    "    df.columns = d['feature_names']\n",
    "    df['target'] = d['target']\n",
    "\n",
    "    Path(str(product['data'])).parent.mkdir(exist_ok=True, parents=True)\n",
    "\n",
    "    df.to_parquet(str(product['data']))"
   ]
  },
  {
   "cell_type": "code",
   "execution_count": 5,
   "id": "43e6247e",
   "metadata": {
    "execution": {
     "iopub.execute_input": "2022-03-08T21:48:07.660201Z",
     "iopub.status.busy": "2022-03-08T21:48:07.659866Z",
     "iopub.status.idle": "2022-03-08T21:48:07.712253Z",
     "shell.execute_reply": "2022-03-08T21:48:07.711686Z"
    },
    "papermill": {
     "duration": 0.061329,
     "end_time": "2022-03-08T21:48:07.714430",
     "exception": false,
     "start_time": "2022-03-08T21:48:07.653101",
     "status": "completed"
    },
    "tags": []
   },
   "outputs": [],
   "source": [
    "make_dataset(product)"
   ]
  },
  {
   "cell_type": "markdown",
   "id": "3806e46f",
   "metadata": {
    "papermill": {
     "duration": 0.005985,
     "end_time": "2022-03-08T21:48:07.725498",
     "exception": false,
     "start_time": "2022-03-08T21:48:07.719513",
     "status": "completed"
    },
    "tags": []
   },
   "source": [
    "\n",
    "@click.command()\n",
    "@click.argument('input_filepath', type=click.Path(exists=True))\n",
    "@click.argument('output_filepath', type=click.Path())\n",
    "def main(input_filepath, output_filepath):\n",
    "    \"\"\" Runs data processing scripts to turn raw data from (../raw) into\n",
    "        cleaned data ready to be analyzed (saved in ../processed).\n",
    "    \"\"\"\n",
    "    logger = logging.getLogger(__name__)\n",
    "    logger.info('making final data set from raw data')\n",
    "\n",
    "\n",
    "if __name__ == '__main__':\n",
    "    log_fmt = '%(asctime)s - %(name)s - %(levelname)s - %(message)s'\n",
    "    logging.basicConfig(level=logging.INFO, format=log_fmt)\n",
    "\n",
    "    # not used in this stub but often useful for finding various files\n",
    "    project_dir = Path(__file__).resolve().parents[2]\n",
    "\n",
    "    # find .env automagically by walking up directories until it's found, then\n",
    "    # load up the .env entries as environment variables\n",
    "    load_dotenv(find_dotenv())\n",
    "    make_dataset(product)\n",
    "\n",
    "    main()"
   ]
  }
 ],
 "metadata": {
  "jupytext": {
   "cell_metadata_filter": "tags,-all",
   "main_language": "python",
   "notebook_metadata_filter": "-all",
   "text_representation": {
    "extension": ".py",
    "format_name": "light"
   }
  },
  "kernelspec": {
   "display_name": "Python 3 (ipykernel)",
   "language": "python",
   "name": "python3"
  },
  "language_info": {
   "codemirror_mode": {
    "name": "ipython",
    "version": 3
   },
   "file_extension": ".py",
   "mimetype": "text/x-python",
   "name": "python",
   "nbconvert_exporter": "python",
   "pygments_lexer": "ipython3",
   "version": "3.9.10"
  },
  "papermill": {
   "duration": 2.812124,
   "end_time": "2022-03-08T21:48:08.049843",
   "exception": null,
   "input_path": "/var/folders/b0/4tc1nfbd6z7_vhx4nxcj2n91c0l9h6/T/tmpj0e6kcjf.ipynb",
   "output_path": "/Users/aiujdm2/market_watch/notebooks/make_dataset.ipynb",
   "parameters": {
    "product": {
     "data": "/Users/aiujdm2/market_watch/data/raw/iris.parquet",
     "nb": "/Users/aiujdm2/market_watch/notebooks/make_dataset.ipynb"
    }
   },
   "start_time": "2022-03-08T21:48:05.237719"
  }
 },
 "nbformat": 4,
 "nbformat_minor": 5
}