{
 "cells": [
  {
   "cell_type": "code",
   "execution_count": 1,
   "id": "ca0a3c18",
   "metadata": {
    "execution": {
     "iopub.execute_input": "2022-03-06T05:00:19.768213Z",
     "iopub.status.busy": "2022-03-06T05:00:19.767920Z",
     "iopub.status.idle": "2022-03-06T05:00:20.050580Z",
     "shell.execute_reply": "2022-03-06T05:00:20.050028Z"
    },
    "papermill": {
     "duration": 0.292093,
     "end_time": "2022-03-06T05:00:20.052307",
     "exception": false,
     "start_time": "2022-03-06T05:00:19.760214",
     "status": "completed"
    },
    "tags": []
   },
   "outputs": [],
   "source": [
    "import pandas as pd"
   ]
  },
  {
   "cell_type": "code",
   "execution_count": 2,
   "id": "f1d48d88",
   "metadata": {
    "execution": {
     "iopub.execute_input": "2022-03-06T05:00:20.059715Z",
     "iopub.status.busy": "2022-03-06T05:00:20.059552Z",
     "iopub.status.idle": "2022-03-06T05:00:20.062184Z",
     "shell.execute_reply": "2022-03-06T05:00:20.061501Z"
    },
    "lines_to_next_cell": 2,
    "papermill": {
     "duration": 0.008074,
     "end_time": "2022-03-06T05:00:20.063803",
     "exception": false,
     "start_time": "2022-03-06T05:00:20.055729",
     "status": "completed"
    },
    "tags": [
     "parameters"
    ]
   },
   "outputs": [],
   "source": [
    "# declare a list tasks whose products you want to use as inputs\n",
    "upstream = ['make_dataset']\n"
   ]
  },
  {
   "cell_type": "code",
   "execution_count": 3,
   "id": "5b936a49",
   "metadata": {
    "execution": {
     "iopub.execute_input": "2022-03-06T05:00:20.070836Z",
     "iopub.status.busy": "2022-03-06T05:00:20.070674Z",
     "iopub.status.idle": "2022-03-06T05:00:20.073768Z",
     "shell.execute_reply": "2022-03-06T05:00:20.073199Z"
    },
    "papermill": {
     "duration": 0.008414,
     "end_time": "2022-03-06T05:00:20.075390",
     "exception": false,
     "start_time": "2022-03-06T05:00:20.066976",
     "status": "completed"
    },
    "tags": [
     "injected-parameters"
    ]
   },
   "outputs": [],
   "source": [
    "# Parameters\n",
    "upstream = {\n",
    "    \"make_dataset\": {\n",
    "        \"nb\": \"/Users/aiujdm2/market_watch/notebooks/make_dataset.ipynb\",\n",
    "        \"data\": \"/Users/aiujdm2/market_watch/data/raw/iris.parquet\",\n",
    "    }\n",
    "}\n",
    "product = {\n",
    "    \"nb\": \"/Users/aiujdm2/market_watch/notebooks/build_features.ipynb\",\n",
    "    \"data\": \"/Users/aiujdm2/market_watch/data/features/features.parquet\",\n",
    "}\n"
   ]
  },
  {
   "cell_type": "code",
   "execution_count": 4,
   "id": "3ca410f3",
   "metadata": {
    "execution": {
     "iopub.execute_input": "2022-03-06T05:00:20.083402Z",
     "iopub.status.busy": "2022-03-06T05:00:20.083218Z",
     "iopub.status.idle": "2022-03-06T05:00:20.087327Z",
     "shell.execute_reply": "2022-03-06T05:00:20.086856Z"
    },
    "papermill": {
     "duration": 0.01012,
     "end_time": "2022-03-06T05:00:20.088744",
     "exception": false,
     "start_time": "2022-03-06T05:00:20.078624",
     "status": "completed"
    },
    "tags": []
   },
   "outputs": [],
   "source": [
    "def build_features(product):\n",
    "    data = pd.read_parquet(str(upstream['make_dataset']['data']))\n",
    "    data['sepal area (cm2)'] = data['sepal length (cm)'] * data['sepal width (cm)']\n",
    "    data.to_parquet(str(product['data']))"
   ]
  },
  {
   "cell_type": "code",
   "execution_count": 5,
   "id": "46806f18",
   "metadata": {
    "execution": {
     "iopub.execute_input": "2022-03-06T05:00:20.096583Z",
     "iopub.status.busy": "2022-03-06T05:00:20.096419Z",
     "iopub.status.idle": "2022-03-06T05:00:20.539856Z",
     "shell.execute_reply": "2022-03-06T05:00:20.539419Z"
    },
    "papermill": {
     "duration": 0.44952,
     "end_time": "2022-03-06T05:00:20.541595",
     "exception": false,
     "start_time": "2022-03-06T05:00:20.092075",
     "status": "completed"
    },
    "tags": []
   },
   "outputs": [],
   "source": [
    "build_features(product)"
   ]
  }
 ],
 "metadata": {
  "jupytext": {
   "cell_metadata_filter": "tags,-all",
   "main_language": "python",
   "notebook_metadata_filter": "-all",
   "text_representation": {
    "extension": ".py",
    "format_name": "light"
   }
  },
  "kernelspec": {
   "display_name": "Python 3 (ipykernel)",
   "language": "python",
   "name": "python3"
  },
  "language_info": {
   "codemirror_mode": {
    "name": "ipython",
    "version": 3
   },
   "file_extension": ".py",
   "mimetype": "text/x-python",
   "name": "python",
   "nbconvert_exporter": "python",
   "pygments_lexer": "ipython3",
   "version": "3.9.10"
  },
  "papermill": {
   "duration": 1.93148,
   "end_time": "2022-03-06T05:00:20.765740",
   "exception": null,
   "input_path": "/var/folders/b0/4tc1nfbd6z7_vhx4nxcj2n91c0l9h6/T/tmpmy4virjt.ipynb",
   "output_path": "/Users/aiujdm2/market_watch/notebooks/build_features.ipynb",
   "parameters": {
    "product": {
     "data": "/Users/aiujdm2/market_watch/data/features/features.parquet",
     "nb": "/Users/aiujdm2/market_watch/notebooks/build_features.ipynb"
    },
    "upstream": {
     "make_dataset": {
      "data": "/Users/aiujdm2/market_watch/data/raw/iris.parquet",
      "nb": "/Users/aiujdm2/market_watch/notebooks/make_dataset.ipynb"
     }
    }
   },
   "start_time": "2022-03-06T05:00:18.834260"
  }
 },
 "nbformat": 4,
 "nbformat_minor": 5
}