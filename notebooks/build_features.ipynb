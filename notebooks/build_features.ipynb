{
 "cells": [
  {
   "cell_type": "code",
   "execution_count": 1,
   "id": "f60f0c68",
   "metadata": {
    "execution": {
     "iopub.execute_input": "2022-03-06T02:07:57.218658Z",
     "iopub.status.busy": "2022-03-06T02:07:57.218354Z",
     "iopub.status.idle": "2022-03-06T02:07:57.494345Z",
     "shell.execute_reply": "2022-03-06T02:07:57.493750Z"
    },
    "papermill": {
     "duration": 0.285642,
     "end_time": "2022-03-06T02:07:57.496189",
     "exception": false,
     "start_time": "2022-03-06T02:07:57.210547",
     "status": "completed"
    },
    "tags": []
   },
   "outputs": [],
   "source": [
    "import pandas as pd"
   ]
  },
  {
   "cell_type": "code",
   "execution_count": 2,
   "id": "cb5882b2",
   "metadata": {
    "execution": {
     "iopub.execute_input": "2022-03-06T02:07:57.503810Z",
     "iopub.status.busy": "2022-03-06T02:07:57.503635Z",
     "iopub.status.idle": "2022-03-06T02:07:57.505939Z",
     "shell.execute_reply": "2022-03-06T02:07:57.505503Z"
    },
    "lines_to_next_cell": 2,
    "papermill": {
     "duration": 0.00786,
     "end_time": "2022-03-06T02:07:57.507694",
     "exception": false,
     "start_time": "2022-03-06T02:07:57.499834",
     "status": "completed"
    },
    "tags": [
     "parameters"
    ]
   },
   "outputs": [],
   "source": [
    "# declare a list tasks whose products you want to use as inputs\n",
    "upstream = ['make_dataset']\n"
   ]
  },
  {
   "cell_type": "code",
   "execution_count": 3,
   "id": "390b5147",
   "metadata": {
    "execution": {
     "iopub.execute_input": "2022-03-06T02:07:57.514807Z",
     "iopub.status.busy": "2022-03-06T02:07:57.514607Z",
     "iopub.status.idle": "2022-03-06T02:07:57.517731Z",
     "shell.execute_reply": "2022-03-06T02:07:57.517163Z"
    },
    "papermill": {
     "duration": 0.00866,
     "end_time": "2022-03-06T02:07:57.519523",
     "exception": false,
     "start_time": "2022-03-06T02:07:57.510863",
     "status": "completed"
    },
    "tags": [
     "injected-parameters"
    ]
   },
   "outputs": [],
   "source": [
    "# Parameters\n",
    "upstream = {\n",
    "    \"make_dataset\": {\n",
    "        \"nb\": \"/Users/aiujdm2/market_watch/notebooks/make_dataset.ipynb\",\n",
    "        \"data\": \"/Users/aiujdm2/market_watch/data/raw/iris.parquet\",\n",
    "    }\n",
    "}\n",
    "product = {\n",
    "    \"nb\": \"/Users/aiujdm2/market_watch/notebooks/build_features.ipynb\",\n",
    "    \"data\": \"/Users/aiujdm2/market_watch/data/features/features.parquet\",\n",
    "}\n"
   ]
  },
  {
   "cell_type": "code",
   "execution_count": 4,
   "id": "837d63fd",
   "metadata": {
    "execution": {
     "iopub.execute_input": "2022-03-06T02:07:57.527212Z",
     "iopub.status.busy": "2022-03-06T02:07:57.527055Z",
     "iopub.status.idle": "2022-03-06T02:07:57.530340Z",
     "shell.execute_reply": "2022-03-06T02:07:57.529900Z"
    },
    "papermill": {
     "duration": 0.008998,
     "end_time": "2022-03-06T02:07:57.532045",
     "exception": false,
     "start_time": "2022-03-06T02:07:57.523047",
     "status": "completed"
    },
    "tags": []
   },
   "outputs": [],
   "source": [
    "def build_features(product):\n",
    "    data = pd.read_parquet(str(upstream['make_dataset']['data']))\n",
    "    data['sepal area (cm2)'] = data['sepal length (cm)'] * data['sepal width (cm)']\n",
    "    data.to_parquet(str(product['data']))"
   ]
  },
  {
   "cell_type": "code",
   "execution_count": 5,
   "id": "50c9ff9b",
   "metadata": {
    "execution": {
     "iopub.execute_input": "2022-03-06T02:07:57.539612Z",
     "iopub.status.busy": "2022-03-06T02:07:57.539449Z",
     "iopub.status.idle": "2022-03-06T02:07:57.569231Z",
     "shell.execute_reply": "2022-03-06T02:07:57.568640Z"
    },
    "papermill": {
     "duration": 0.035413,
     "end_time": "2022-03-06T02:07:57.570939",
     "exception": false,
     "start_time": "2022-03-06T02:07:57.535526",
     "status": "completed"
    },
    "tags": []
   },
   "outputs": [],
   "source": [
    "build_features(product)"
   ]
  }
 ],
 "metadata": {
  "jupytext": {
   "cell_metadata_filter": "tags,-all",
   "main_language": "python",
   "notebook_metadata_filter": "-all",
   "text_representation": {
    "extension": ".py",
    "format_name": "light"
   }
  },
  "kernelspec": {
   "display_name": "Python 3 (ipykernel)",
   "language": "python",
   "name": "python3"
  },
  "language_info": {
   "codemirror_mode": {
    "name": "ipython",
    "version": 3
   },
   "file_extension": ".py",
   "mimetype": "text/x-python",
   "name": "python",
   "nbconvert_exporter": "python",
   "pygments_lexer": "ipython3",
   "version": "3.9.10"
  },
  "papermill": {
   "duration": 1.507199,
   "end_time": "2022-03-06T02:07:57.793894",
   "exception": null,
   "input_path": "/var/folders/b0/4tc1nfbd6z7_vhx4nxcj2n91c0l9h6/T/tmp7i5mlwc0.ipynb",
   "output_path": "/Users/aiujdm2/market_watch/notebooks/build_features.ipynb",
   "parameters": {
    "product": {
     "data": "/Users/aiujdm2/market_watch/data/features/features.parquet",
     "nb": "/Users/aiujdm2/market_watch/notebooks/build_features.ipynb"
    },
    "upstream": {
     "make_dataset": {
      "data": "/Users/aiujdm2/market_watch/data/raw/iris.parquet",
      "nb": "/Users/aiujdm2/market_watch/notebooks/make_dataset.ipynb"
     }
    }
   },
   "start_time": "2022-03-06T02:07:56.286695"
  }
 },
 "nbformat": 4,
 "nbformat_minor": 5
}