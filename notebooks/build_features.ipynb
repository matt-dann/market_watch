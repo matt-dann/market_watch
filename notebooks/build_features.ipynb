{
 "cells": [
  {
   "cell_type": "code",
   "execution_count": 1,
   "id": "d4a8f688",
   "metadata": {
    "execution": {
     "iopub.execute_input": "2022-03-06T05:26:47.539034Z",
     "iopub.status.busy": "2022-03-06T05:26:47.538748Z",
     "iopub.status.idle": "2022-03-06T05:26:47.822622Z",
     "shell.execute_reply": "2022-03-06T05:26:47.822060Z"
    },
    "papermill": {
     "duration": 0.293633,
     "end_time": "2022-03-06T05:26:47.824724",
     "exception": false,
     "start_time": "2022-03-06T05:26:47.531091",
     "status": "completed"
    },
    "tags": []
   },
   "outputs": [],
   "source": [
    "import pandas as pd"
   ]
  },
  {
   "cell_type": "code",
   "execution_count": 2,
   "id": "8c20e2db",
   "metadata": {
    "execution": {
     "iopub.execute_input": "2022-03-06T05:26:47.833853Z",
     "iopub.status.busy": "2022-03-06T05:26:47.833638Z",
     "iopub.status.idle": "2022-03-06T05:26:47.836387Z",
     "shell.execute_reply": "2022-03-06T05:26:47.835852Z"
    },
    "lines_to_next_cell": 2,
    "papermill": {
     "duration": 0.008663,
     "end_time": "2022-03-06T05:26:47.837997",
     "exception": false,
     "start_time": "2022-03-06T05:26:47.829334",
     "status": "completed"
    },
    "tags": [
     "parameters"
    ]
   },
   "outputs": [],
   "source": [
    "# declare a list tasks whose products you want to use as inputs\n",
    "upstream = ['make_dataset']\n"
   ]
  },
  {
   "cell_type": "code",
   "execution_count": 3,
   "id": "2704002f",
   "metadata": {
    "execution": {
     "iopub.execute_input": "2022-03-06T05:26:47.846438Z",
     "iopub.status.busy": "2022-03-06T05:26:47.846248Z",
     "iopub.status.idle": "2022-03-06T05:26:47.849236Z",
     "shell.execute_reply": "2022-03-06T05:26:47.848812Z"
    },
    "papermill": {
     "duration": 0.008919,
     "end_time": "2022-03-06T05:26:47.850785",
     "exception": false,
     "start_time": "2022-03-06T05:26:47.841866",
     "status": "completed"
    },
    "tags": [
     "injected-parameters"
    ]
   },
   "outputs": [],
   "source": [
    "# Parameters\n",
    "upstream = {\n",
    "    \"make_dataset\": {\n",
    "        \"nb\": \"/Users/aiujdm2/market_watch/notebooks/make_dataset.ipynb\",\n",
    "        \"data\": \"/Users/aiujdm2/market_watch/data/raw/iris.parquet\",\n",
    "    }\n",
    "}\n",
    "product = {\n",
    "    \"nb\": \"/Users/aiujdm2/market_watch/notebooks/build_features.ipynb\",\n",
    "    \"data\": \"/Users/aiujdm2/market_watch/data/features/features.parquet\",\n",
    "}\n"
   ]
  },
  {
   "cell_type": "code",
   "execution_count": 4,
   "id": "8e3a9100",
   "metadata": {
    "execution": {
     "iopub.execute_input": "2022-03-06T05:26:47.858619Z",
     "iopub.status.busy": "2022-03-06T05:26:47.858454Z",
     "iopub.status.idle": "2022-03-06T05:26:47.861644Z",
     "shell.execute_reply": "2022-03-06T05:26:47.861211Z"
    },
    "papermill": {
     "duration": 0.008798,
     "end_time": "2022-03-06T05:26:47.863119",
     "exception": false,
     "start_time": "2022-03-06T05:26:47.854321",
     "status": "completed"
    },
    "tags": []
   },
   "outputs": [],
   "source": [
    "def build_features(product):\n",
    "    data = pd.read_parquet(str(upstream['make_dataset']['data']))\n",
    "    data['sepal area (cm2)'] = data['sepal length (cm)'] * data['sepal width (cm)']\n",
    "    data.to_parquet(str(product['data']))"
   ]
  },
  {
   "cell_type": "code",
   "execution_count": 5,
   "id": "3f57df10",
   "metadata": {
    "execution": {
     "iopub.execute_input": "2022-03-06T05:26:47.870775Z",
     "iopub.status.busy": "2022-03-06T05:26:47.870617Z",
     "iopub.status.idle": "2022-03-06T05:26:47.902818Z",
     "shell.execute_reply": "2022-03-06T05:26:47.902247Z"
    },
    "papermill": {
     "duration": 0.038175,
     "end_time": "2022-03-06T05:26:47.904608",
     "exception": false,
     "start_time": "2022-03-06T05:26:47.866433",
     "status": "completed"
    },
    "tags": []
   },
   "outputs": [],
   "source": [
    "build_features(product)"
   ]
  }
 ],
 "metadata": {
  "jupytext": {
   "cell_metadata_filter": "tags,-all",
   "main_language": "python",
   "notebook_metadata_filter": "-all",
   "text_representation": {
    "extension": ".py",
    "format_name": "light"
   }
  },
  "kernelspec": {
   "display_name": "Python 3 (ipykernel)",
   "language": "python",
   "name": "python3"
  },
  "language_info": {
   "codemirror_mode": {
    "name": "ipython",
    "version": 3
   },
   "file_extension": ".py",
   "mimetype": "text/x-python",
   "name": "python",
   "nbconvert_exporter": "python",
   "pygments_lexer": "ipython3",
   "version": "3.9.10"
  },
  "papermill": {
   "duration": 1.558931,
   "end_time": "2022-03-06T05:26:48.128717",
   "exception": null,
   "input_path": "/var/folders/b0/4tc1nfbd6z7_vhx4nxcj2n91c0l9h6/T/tmp5gt28tws.ipynb",
   "output_path": "/Users/aiujdm2/market_watch/notebooks/build_features.ipynb",
   "parameters": {
    "product": {
     "data": "/Users/aiujdm2/market_watch/data/features/features.parquet",
     "nb": "/Users/aiujdm2/market_watch/notebooks/build_features.ipynb"
    },
    "upstream": {
     "make_dataset": {
      "data": "/Users/aiujdm2/market_watch/data/raw/iris.parquet",
      "nb": "/Users/aiujdm2/market_watch/notebooks/make_dataset.ipynb"
     }
    }
   },
   "start_time": "2022-03-06T05:26:46.569786"
  }
 },
 "nbformat": 4,
 "nbformat_minor": 5
}