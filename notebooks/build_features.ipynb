{
 "cells": [
  {
   "cell_type": "code",
   "execution_count": 1,
   "id": "2ddeeb46",
   "metadata": {
    "execution": {
     "iopub.execute_input": "2022-03-13T14:35:06.310121Z",
     "iopub.status.busy": "2022-03-13T14:35:06.309829Z",
     "iopub.status.idle": "2022-03-13T14:35:06.607677Z",
     "shell.execute_reply": "2022-03-13T14:35:06.607073Z"
    },
    "papermill": {
     "duration": 0.307831,
     "end_time": "2022-03-13T14:35:06.609629",
     "exception": false,
     "start_time": "2022-03-13T14:35:06.301798",
     "status": "completed"
    },
    "tags": []
   },
   "outputs": [],
   "source": [
    "import pandas as pd"
   ]
  },
  {
   "cell_type": "code",
   "execution_count": 2,
   "id": "b37a1a4a",
   "metadata": {
    "execution": {
     "iopub.execute_input": "2022-03-13T14:35:06.618093Z",
     "iopub.status.busy": "2022-03-13T14:35:06.617919Z",
     "iopub.status.idle": "2022-03-13T14:35:06.620756Z",
     "shell.execute_reply": "2022-03-13T14:35:06.620092Z"
    },
    "lines_to_next_cell": 2,
    "papermill": {
     "duration": 0.008291,
     "end_time": "2022-03-13T14:35:06.622268",
     "exception": false,
     "start_time": "2022-03-13T14:35:06.613977",
     "status": "completed"
    },
    "tags": [
     "parameters"
    ]
   },
   "outputs": [],
   "source": [
    "# declare a list tasks whose products you want to use as inputs\n",
    "upstream = ['make_dataset']\n"
   ]
  },
  {
   "cell_type": "code",
   "execution_count": 3,
   "id": "5f7e7750",
   "metadata": {
    "execution": {
     "iopub.execute_input": "2022-03-13T14:35:06.630165Z",
     "iopub.status.busy": "2022-03-13T14:35:06.629957Z",
     "iopub.status.idle": "2022-03-13T14:35:06.633107Z",
     "shell.execute_reply": "2022-03-13T14:35:06.632681Z"
    },
    "papermill": {
     "duration": 0.009275,
     "end_time": "2022-03-13T14:35:06.635134",
     "exception": false,
     "start_time": "2022-03-13T14:35:06.625859",
     "status": "completed"
    },
    "tags": [
     "injected-parameters"
    ]
   },
   "outputs": [],
   "source": [
    "# Parameters\n",
    "upstream = {\n",
    "    \"make_dataset\": {\n",
    "        \"nb\": \"/Users/aiujdm2/market_watch/notebooks/make_dataset.ipynb\",\n",
    "        \"data\": \"/Users/aiujdm2/market_watch/data/raw/iris.parquet\",\n",
    "    }\n",
    "}\n",
    "product = {\n",
    "    \"nb\": \"/Users/aiujdm2/market_watch/notebooks/build_features.ipynb\",\n",
    "    \"data\": \"/Users/aiujdm2/market_watch/data/features/features.parquet\",\n",
    "}\n"
   ]
  },
  {
   "cell_type": "code",
   "execution_count": 4,
   "id": "534db81f",
   "metadata": {
    "execution": {
     "iopub.execute_input": "2022-03-13T14:35:06.643461Z",
     "iopub.status.busy": "2022-03-13T14:35:06.643247Z",
     "iopub.status.idle": "2022-03-13T14:35:06.647053Z",
     "shell.execute_reply": "2022-03-13T14:35:06.646459Z"
    },
    "papermill": {
     "duration": 0.010707,
     "end_time": "2022-03-13T14:35:06.649216",
     "exception": false,
     "start_time": "2022-03-13T14:35:06.638509",
     "status": "completed"
    },
    "tags": []
   },
   "outputs": [],
   "source": [
    "def build_features(product):\n",
    "    data = pd.read_parquet(str(upstream['make_dataset']['data']))\n",
    "    data['sepal area (cm2)'] = data['sepal length (cm)'] * data['sepal width (cm)']\n",
    "    data.to_parquet(str(product['data']))\n",
    "    print(\"Hello\")"
   ]
  },
  {
   "cell_type": "code",
   "execution_count": 5,
   "id": "543240b4",
   "metadata": {
    "execution": {
     "iopub.execute_input": "2022-03-13T14:35:06.659583Z",
     "iopub.status.busy": "2022-03-13T14:35:06.659347Z",
     "iopub.status.idle": "2022-03-13T14:35:06.742532Z",
     "shell.execute_reply": "2022-03-13T14:35:06.742020Z"
    },
    "papermill": {
     "duration": 0.089872,
     "end_time": "2022-03-13T14:35:06.743984",
     "exception": false,
     "start_time": "2022-03-13T14:35:06.654112",
     "status": "completed"
    },
    "tags": []
   },
   "outputs": [
    {
     "name": "stdout",
     "output_type": "stream",
     "text": [
      "Hello\n"
     ]
    }
   ],
   "source": [
    "build_features(product)"
   ]
  }
 ],
 "metadata": {
  "jupytext": {
   "cell_metadata_filter": "tags,-all",
   "main_language": "python",
   "notebook_metadata_filter": "-all",
   "text_representation": {
    "extension": ".py",
    "format_name": "light"
   }
  },
  "kernelspec": {
   "display_name": "Python 3 (ipykernel)",
   "language": "python",
   "name": "python3"
  },
  "language_info": {
   "codemirror_mode": {
    "name": "ipython",
    "version": 3
   },
   "file_extension": ".py",
   "mimetype": "text/x-python",
   "name": "python",
   "nbconvert_exporter": "python",
   "pygments_lexer": "ipython3",
   "version": "3.9.10"
  },
  "papermill": {
   "duration": 1.603057,
   "end_time": "2022-03-13T14:35:06.965543",
   "exception": null,
   "input_path": "/var/folders/b0/4tc1nfbd6z7_vhx4nxcj2n91c0l9h6/T/tmp16_ubzsa.ipynb",
   "output_path": "/Users/aiujdm2/market_watch/notebooks/build_features.ipynb",
   "parameters": {
    "product": {
     "data": "/Users/aiujdm2/market_watch/data/features/features.parquet",
     "nb": "/Users/aiujdm2/market_watch/notebooks/build_features.ipynb"
    },
    "upstream": {
     "make_dataset": {
      "data": "/Users/aiujdm2/market_watch/data/raw/iris.parquet",
      "nb": "/Users/aiujdm2/market_watch/notebooks/make_dataset.ipynb"
     }
    }
   },
   "start_time": "2022-03-13T14:35:05.362486"
  }
 },
 "nbformat": 4,
 "nbformat_minor": 5
}