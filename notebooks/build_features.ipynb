{
 "cells": [
  {
   "cell_type": "code",
   "execution_count": 1,
   "id": "b995d335",
   "metadata": {
    "execution": {
     "iopub.execute_input": "2022-03-13T19:27:48.005915Z",
     "iopub.status.busy": "2022-03-13T19:27:48.005736Z",
     "iopub.status.idle": "2022-03-13T19:27:48.291819Z",
     "shell.execute_reply": "2022-03-13T19:27:48.291331Z"
    },
    "papermill": {
     "duration": 0.292228,
     "end_time": "2022-03-13T19:27:48.293754",
     "exception": false,
     "start_time": "2022-03-13T19:27:48.001526",
     "status": "completed"
    },
    "tags": []
   },
   "outputs": [],
   "source": [
    "import pandas as pd"
   ]
  },
  {
   "cell_type": "code",
   "execution_count": 2,
   "id": "dff8af60",
   "metadata": {
    "execution": {
     "iopub.execute_input": "2022-03-13T19:27:48.302247Z",
     "iopub.status.busy": "2022-03-13T19:27:48.301984Z",
     "iopub.status.idle": "2022-03-13T19:27:48.304179Z",
     "shell.execute_reply": "2022-03-13T19:27:48.303777Z"
    },
    "lines_to_next_cell": 2,
    "papermill": {
     "duration": 0.007992,
     "end_time": "2022-03-13T19:27:48.305927",
     "exception": false,
     "start_time": "2022-03-13T19:27:48.297935",
     "status": "completed"
    },
    "tags": [
     "parameters"
    ]
   },
   "outputs": [],
   "source": [
    "# declare a list tasks whose products you want to use as inputs\n",
    "upstream = ['make_dataset']\n"
   ]
  },
  {
   "cell_type": "code",
   "execution_count": 3,
   "id": "e709923b",
   "metadata": {
    "execution": {
     "iopub.execute_input": "2022-03-13T19:27:48.313831Z",
     "iopub.status.busy": "2022-03-13T19:27:48.313675Z",
     "iopub.status.idle": "2022-03-13T19:27:48.316170Z",
     "shell.execute_reply": "2022-03-13T19:27:48.315835Z"
    },
    "papermill": {
     "duration": 0.007349,
     "end_time": "2022-03-13T19:27:48.317428",
     "exception": false,
     "start_time": "2022-03-13T19:27:48.310079",
     "status": "completed"
    },
    "tags": [
     "injected-parameters"
    ]
   },
   "outputs": [],
   "source": [
    "# Parameters\n",
    "upstream = {\"make_dataset\": {\"nb\": \"/Users/egorkopylov/market_watch/notebooks/make_dataset.ipynb\", \"data\": \"/Users/egorkopylov/market_watch/data/raw/iris.parquet\"}}\n",
    "product = {\"nb\": \"/Users/egorkopylov/market_watch/notebooks/build_features.ipynb\", \"data\": \"/Users/egorkopylov/market_watch/data/features/features.parquet\"}\n"
   ]
  },
  {
   "cell_type": "code",
   "execution_count": 4,
   "id": "752623c6",
   "metadata": {
    "execution": {
     "iopub.execute_input": "2022-03-13T19:27:48.324347Z",
     "iopub.status.busy": "2022-03-13T19:27:48.324065Z",
     "iopub.status.idle": "2022-03-13T19:27:48.326883Z",
     "shell.execute_reply": "2022-03-13T19:27:48.326483Z"
    },
    "papermill": {
     "duration": 0.007617,
     "end_time": "2022-03-13T19:27:48.328174",
     "exception": false,
     "start_time": "2022-03-13T19:27:48.320557",
     "status": "completed"
    },
    "tags": []
   },
   "outputs": [],
   "source": [
    "def build_features(product):\n",
    "    data = pd.read_parquet(str(upstream['make_dataset']['data']))\n",
    "    data['sepal area (cm2)'] = data['sepal length (cm)'] * data['sepal width (cm)']\n",
    "    data.to_parquet(str(product['data']))\n",
    "    print(\"Hello\")"
   ]
  },
  {
   "cell_type": "code",
   "execution_count": 5,
   "id": "2f60a0bf",
   "metadata": {
    "execution": {
     "iopub.execute_input": "2022-03-13T19:27:48.335067Z",
     "iopub.status.busy": "2022-03-13T19:27:48.334866Z",
     "iopub.status.idle": "2022-03-13T19:27:49.867062Z",
     "shell.execute_reply": "2022-03-13T19:27:49.866731Z"
    },
    "papermill": {
     "duration": 1.537138,
     "end_time": "2022-03-13T19:27:49.868310",
     "exception": false,
     "start_time": "2022-03-13T19:27:48.331172",
     "status": "completed"
    },
    "tags": []
   },
   "outputs": [
    {
     "name": "stdout",
     "output_type": "stream",
     "text": [
      "Hello\n"
     ]
    }
   ],
   "source": [
    "build_features(product)"
   ]
  }
 ],
 "metadata": {
  "jupytext": {
   "cell_metadata_filter": "tags,-all",
   "main_language": "python",
   "notebook_metadata_filter": "-all",
   "text_representation": {
    "extension": ".py",
    "format_name": "light"
   }
  },
  "kernelspec": {
   "display_name": "Python 3 (ipykernel)",
   "language": "python",
   "name": "python3"
  },
  "language_info": {
   "codemirror_mode": {
    "name": "ipython",
    "version": 3
   },
   "file_extension": ".py",
   "mimetype": "text/x-python",
   "name": "python",
   "nbconvert_exporter": "python",
   "pygments_lexer": "ipython3",
   "version": "3.8.9"
  },
  "papermill": {
   "duration": 3.049731,
   "end_time": "2022-03-13T19:27:50.089848",
   "exception": null,
   "input_path": "/var/folders/vc/syjgmwd50sgd_0vvjx82rpym0000gn/T/tmpy5z6bv6a.ipynb",
   "output_path": "/Users/egorkopylov/market_watch/notebooks/build_features.ipynb",
   "parameters": {
    "product": {
     "data": "/Users/egorkopylov/market_watch/data/features/features.parquet",
     "nb": "/Users/egorkopylov/market_watch/notebooks/build_features.ipynb"
    },
    "upstream": {
     "make_dataset": {
      "data": "/Users/egorkopylov/market_watch/data/raw/iris.parquet",
      "nb": "/Users/egorkopylov/market_watch/notebooks/make_dataset.ipynb"
     }
    }
   },
   "start_time": "2022-03-13T19:27:47.040117"
  }
 },
 "nbformat": 4,
 "nbformat_minor": 5
}