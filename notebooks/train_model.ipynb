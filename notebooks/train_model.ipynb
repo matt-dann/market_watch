{
 "cells": [
  {
   "cell_type": "markdown",
   "id": "69505a5d",
   "metadata": {
    "papermill": {
     "duration": 0.009889,
     "end_time": "2022-03-06T05:00:21.656551",
     "exception": false,
     "start_time": "2022-03-06T05:00:21.646662",
     "status": "completed"
    },
    "tags": []
   },
   "source": [
    "Train a model"
   ]
  },
  {
   "cell_type": "code",
   "execution_count": 1,
   "id": "46461595",
   "metadata": {
    "execution": {
     "iopub.execute_input": "2022-03-06T05:00:21.673067Z",
     "iopub.status.busy": "2022-03-06T05:00:21.672781Z",
     "iopub.status.idle": "2022-03-06T05:00:26.185691Z",
     "shell.execute_reply": "2022-03-06T05:00:26.185114Z"
    },
    "papermill": {
     "duration": 4.523114,
     "end_time": "2022-03-06T05:00:26.187449",
     "exception": false,
     "start_time": "2022-03-06T05:00:21.664335",
     "status": "completed"
    },
    "tags": []
   },
   "outputs": [],
   "source": [
    "import pickle\n",
    "\n",
    "import pandas as pd\n",
    "from sklearn.model_selection import train_test_split\n",
    "from sklearn.metrics import classification_report\n",
    "from sklearn.ensemble import RandomForestClassifier\n",
    "from sklearn_evaluation import plot"
   ]
  },
  {
   "cell_type": "code",
   "execution_count": 2,
   "id": "c6795d64",
   "metadata": {
    "execution": {
     "iopub.execute_input": "2022-03-06T05:00:26.199387Z",
     "iopub.status.busy": "2022-03-06T05:00:26.199174Z",
     "iopub.status.idle": "2022-03-06T05:00:26.202523Z",
     "shell.execute_reply": "2022-03-06T05:00:26.201768Z"
    },
    "papermill": {
     "duration": 0.011409,
     "end_time": "2022-03-06T05:00:26.204522",
     "exception": false,
     "start_time": "2022-03-06T05:00:26.193113",
     "status": "completed"
    },
    "tags": [
     "parameters"
    ]
   },
   "outputs": [],
   "source": [
    "upstream = ['build_features']\n",
    "product = None"
   ]
  },
  {
   "cell_type": "code",
   "execution_count": 3,
   "id": "4f36b38e",
   "metadata": {
    "execution": {
     "iopub.execute_input": "2022-03-06T05:00:26.217935Z",
     "iopub.status.busy": "2022-03-06T05:00:26.217746Z",
     "iopub.status.idle": "2022-03-06T05:00:26.220773Z",
     "shell.execute_reply": "2022-03-06T05:00:26.220199Z"
    },
    "papermill": {
     "duration": 0.011782,
     "end_time": "2022-03-06T05:00:26.222466",
     "exception": false,
     "start_time": "2022-03-06T05:00:26.210684",
     "status": "completed"
    },
    "tags": [
     "injected-parameters"
    ]
   },
   "outputs": [],
   "source": [
    "# Parameters\n",
    "upstream = {\n",
    "    \"build_features\": {\n",
    "        \"nb\": \"/Users/aiujdm2/market_watch/notebooks/build_features.ipynb\",\n",
    "        \"data\": \"/Users/aiujdm2/market_watch/data/features/features.parquet\",\n",
    "    }\n",
    "}\n",
    "product = {\n",
    "    \"nb\": \"/Users/aiujdm2/market_watch/notebooks/train_model.ipynb\",\n",
    "    \"model\": \"/Users/aiujdm2/market_watch/models/model.pkl\",\n",
    "}\n"
   ]
  },
  {
   "cell_type": "code",
   "execution_count": 4,
   "id": "cf2ff7e1",
   "metadata": {
    "execution": {
     "iopub.execute_input": "2022-03-06T05:00:26.234544Z",
     "iopub.status.busy": "2022-03-06T05:00:26.234383Z",
     "iopub.status.idle": "2022-03-06T05:00:26.271577Z",
     "shell.execute_reply": "2022-03-06T05:00:26.270991Z"
    },
    "papermill": {
     "duration": 0.045176,
     "end_time": "2022-03-06T05:00:26.273282",
     "exception": false,
     "start_time": "2022-03-06T05:00:26.228106",
     "status": "completed"
    },
    "tags": []
   },
   "outputs": [],
   "source": [
    "df = pd.read_parquet(str(upstream['build_features']['data']))\n",
    "X = df.drop('target', axis='columns')\n",
    "y = df.target"
   ]
  },
  {
   "cell_type": "code",
   "execution_count": 5,
   "id": "19d65012",
   "metadata": {
    "execution": {
     "iopub.execute_input": "2022-03-06T05:00:26.285623Z",
     "iopub.status.busy": "2022-03-06T05:00:26.285458Z",
     "iopub.status.idle": "2022-03-06T05:00:26.289447Z",
     "shell.execute_reply": "2022-03-06T05:00:26.288751Z"
    },
    "papermill": {
     "duration": 0.011766,
     "end_time": "2022-03-06T05:00:26.290931",
     "exception": false,
     "start_time": "2022-03-06T05:00:26.279165",
     "status": "completed"
    },
    "tags": []
   },
   "outputs": [],
   "source": [
    "X_train, X_test, y_train, y_test = train_test_split(X,\n",
    "                                                    y,\n",
    "                                                    test_size=0.33,\n",
    "                                                    random_state=42)"
   ]
  },
  {
   "cell_type": "code",
   "execution_count": 6,
   "id": "a00a8281",
   "metadata": {
    "execution": {
     "iopub.execute_input": "2022-03-06T05:00:26.303325Z",
     "iopub.status.busy": "2022-03-06T05:00:26.303121Z",
     "iopub.status.idle": "2022-03-06T05:00:26.396752Z",
     "shell.execute_reply": "2022-03-06T05:00:26.396334Z"
    },
    "papermill": {
     "duration": 0.101676,
     "end_time": "2022-03-06T05:00:26.398377",
     "exception": false,
     "start_time": "2022-03-06T05:00:26.296701",
     "status": "completed"
    },
    "tags": []
   },
   "outputs": [
    {
     "data": {
      "text/plain": [
       "RandomForestClassifier()"
      ]
     },
     "execution_count": 6,
     "metadata": {},
     "output_type": "execute_result"
    }
   ],
   "source": [
    "clf = RandomForestClassifier()\n",
    "clf.fit(X_train, y_train)"
   ]
  },
  {
   "cell_type": "code",
   "execution_count": 7,
   "id": "ce1624f6",
   "metadata": {
    "execution": {
     "iopub.execute_input": "2022-03-06T05:00:26.411752Z",
     "iopub.status.busy": "2022-03-06T05:00:26.411594Z",
     "iopub.status.idle": "2022-03-06T05:00:26.423959Z",
     "shell.execute_reply": "2022-03-06T05:00:26.423474Z"
    },
    "papermill": {
     "duration": 0.020605,
     "end_time": "2022-03-06T05:00:26.425374",
     "exception": false,
     "start_time": "2022-03-06T05:00:26.404769",
     "status": "completed"
    },
    "tags": []
   },
   "outputs": [],
   "source": [
    "y_pred = clf.predict(X_test)"
   ]
  },
  {
   "cell_type": "code",
   "execution_count": 8,
   "id": "3bfeedd0",
   "metadata": {
    "execution": {
     "iopub.execute_input": "2022-03-06T05:00:26.438652Z",
     "iopub.status.busy": "2022-03-06T05:00:26.438498Z",
     "iopub.status.idle": "2022-03-06T05:00:26.445160Z",
     "shell.execute_reply": "2022-03-06T05:00:26.444768Z"
    },
    "papermill": {
     "duration": 0.014725,
     "end_time": "2022-03-06T05:00:26.446569",
     "exception": false,
     "start_time": "2022-03-06T05:00:26.431844",
     "status": "completed"
    },
    "tags": []
   },
   "outputs": [
    {
     "name": "stdout",
     "output_type": "stream",
     "text": [
      "              precision    recall  f1-score   support\n",
      "\n",
      "           0       1.00      1.00      1.00        19\n",
      "           1       0.94      1.00      0.97        15\n",
      "           2       1.00      0.94      0.97        16\n",
      "\n",
      "    accuracy                           0.98        50\n",
      "   macro avg       0.98      0.98      0.98        50\n",
      "weighted avg       0.98      0.98      0.98        50\n",
      "\n"
     ]
    }
   ],
   "source": [
    "print(classification_report(y_test, y_pred))"
   ]
  },
  {
   "cell_type": "code",
   "execution_count": 9,
   "id": "6f1ef98b",
   "metadata": {
    "execution": {
     "iopub.execute_input": "2022-03-06T05:00:26.461126Z",
     "iopub.status.busy": "2022-03-06T05:00:26.460942Z",
     "iopub.status.idle": "2022-03-06T05:00:26.600028Z",
     "shell.execute_reply": "2022-03-06T05:00:26.599489Z"
    },
    "papermill": {
     "duration": 0.148104,
     "end_time": "2022-03-06T05:00:26.601483",
     "exception": false,
     "start_time": "2022-03-06T05:00:26.453379",
     "status": "completed"
    },
    "tags": []
   },
   "outputs": [
    {
     "data": {
      "text/plain": [
       "<AxesSubplot:title={'center':'Confusion matrix'}, xlabel='Predicted label', ylabel='True label'>"
      ]
     },
     "execution_count": 9,
     "metadata": {},
     "output_type": "execute_result"
    },
    {
     "data": {
      "image/png": "[encoded data removed]",
      "text/plain": [
       "<Figure size 432x288 with 2 Axes>"
      ]
     },
     "metadata": {
      "needs_background": "light"
     },
     "output_type": "display_data"
    }
   ],
   "source": [
    "plot.confusion_matrix(y_test, y_pred)"
   ]
  },
  {
   "cell_type": "code",
   "execution_count": 10,
   "id": "7438fd27",
   "metadata": {
    "execution": {
     "iopub.execute_input": "2022-03-06T05:00:26.617690Z",
     "iopub.status.busy": "2022-03-06T05:00:26.617530Z",
     "iopub.status.idle": "2022-03-06T05:00:26.623332Z",
     "shell.execute_reply": "2022-03-06T05:00:26.622904Z"
    },
    "papermill": {
     "duration": 0.015376,
     "end_time": "2022-03-06T05:00:26.624703",
     "exception": false,
     "start_time": "2022-03-06T05:00:26.609327",
     "status": "completed"
    },
    "tags": []
   },
   "outputs": [],
   "source": [
    "with open(product['model'], 'wb') as f:\n",
    "    pickle.dump(clf, f)"
   ]
  }
 ],
 "metadata": {
  "jupytext": {
   "cell_metadata_filter": "tags,-all",
   "main_language": "python",
   "notebook_metadata_filter": "-all",
   "text_representation": {
    "extension": ".py",
    "format_name": "percent"
   }
  },
  "kernelspec": {
   "display_name": "Python 3 (ipykernel)",
   "language": "python",
   "name": "python3"
  },
  "language_info": {
   "codemirror_mode": {
    "name": "ipython",
    "version": 3
   },
   "file_extension": ".py",
   "mimetype": "text/x-python",
   "name": "python",
   "nbconvert_exporter": "python",
   "pygments_lexer": "ipython3",
   "version": "3.9.10"
  },
  "papermill": {
   "duration": 6.255597,
   "end_time": "2022-03-06T05:00:27.053496",
   "exception": null,
   "input_path": "/var/folders/b0/4tc1nfbd6z7_vhx4nxcj2n91c0l9h6/T/tmpgd7unuzq.ipynb",
   "output_path": "/Users/aiujdm2/market_watch/notebooks/train_model.ipynb",
   "parameters": {
    "product": {
     "model": "/Users/aiujdm2/market_watch/models/model.pkl",
     "nb": "/Users/aiujdm2/market_watch/notebooks/train_model.ipynb"
    },
    "upstream": {
     "build_features": {
      "data": "/Users/aiujdm2/market_watch/data/features/features.parquet",
      "nb": "/Users/aiujdm2/market_watch/notebooks/build_features.ipynb"
     }
    }
   },
   "start_time": "2022-03-06T05:00:20.797899"
  }
 },
 "nbformat": 4,
 "nbformat_minor": 5
}