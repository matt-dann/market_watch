{
 "cells": [
  {
   "cell_type": "markdown",
   "id": "9dcb8919",
   "metadata": {
    "papermill": {
     "duration": 0.010076,
     "end_time": "2022-03-06T05:26:49.139681",
     "exception": false,
     "start_time": "2022-03-06T05:26:49.129605",
     "status": "completed"
    },
    "tags": []
   },
   "source": [
    "Train a model"
   ]
  },
  {
   "cell_type": "code",
   "execution_count": 1,
   "id": "8e5253cd",
   "metadata": {
    "execution": {
     "iopub.execute_input": "2022-03-06T05:26:49.156738Z",
     "iopub.status.busy": "2022-03-06T05:26:49.156466Z",
     "iopub.status.idle": "2022-03-06T05:26:50.514920Z",
     "shell.execute_reply": "2022-03-06T05:26:50.514353Z"
    },
    "papermill": {
     "duration": 1.370031,
     "end_time": "2022-03-06T05:26:50.517593",
     "exception": false,
     "start_time": "2022-03-06T05:26:49.147562",
     "status": "completed"
    },
    "tags": []
   },
   "outputs": [],
   "source": [
    "import pickle\n",
    "\n",
    "import pandas as pd\n",
    "from sklearn.model_selection import train_test_split\n",
    "from sklearn.metrics import classification_report\n",
    "from sklearn.ensemble import RandomForestClassifier\n",
    "from sklearn_evaluation import plot"
   ]
  },
  {
   "cell_type": "code",
   "execution_count": 2,
   "id": "22fb9375",
   "metadata": {
    "execution": {
     "iopub.execute_input": "2022-03-06T05:26:50.533864Z",
     "iopub.status.busy": "2022-03-06T05:26:50.533659Z",
     "iopub.status.idle": "2022-03-06T05:26:50.536497Z",
     "shell.execute_reply": "2022-03-06T05:26:50.535827Z"
    },
    "papermill": {
     "duration": 0.01192,
     "end_time": "2022-03-06T05:26:50.538166",
     "exception": false,
     "start_time": "2022-03-06T05:26:50.526246",
     "status": "completed"
    },
    "tags": [
     "parameters"
    ]
   },
   "outputs": [],
   "source": [
    "upstream = ['build_features']\n",
    "product = None"
   ]
  },
  {
   "cell_type": "code",
   "execution_count": 3,
   "id": "4d3010b0",
   "metadata": {
    "execution": {
     "iopub.execute_input": "2022-03-06T05:26:50.551472Z",
     "iopub.status.busy": "2022-03-06T05:26:50.551262Z",
     "iopub.status.idle": "2022-03-06T05:26:50.554897Z",
     "shell.execute_reply": "2022-03-06T05:26:50.554270Z"
    },
    "papermill": {
     "duration": 0.011892,
     "end_time": "2022-03-06T05:26:50.556613",
     "exception": false,
     "start_time": "2022-03-06T05:26:50.544721",
     "status": "completed"
    },
    "tags": [
     "injected-parameters"
    ]
   },
   "outputs": [],
   "source": [
    "# Parameters\n",
    "upstream = {\n",
    "    \"build_features\": {\n",
    "        \"nb\": \"/Users/aiujdm2/market_watch/notebooks/build_features.ipynb\",\n",
    "        \"data\": \"/Users/aiujdm2/market_watch/data/features/features.parquet\",\n",
    "    }\n",
    "}\n",
    "product = {\n",
    "    \"nb\": \"/Users/aiujdm2/market_watch/notebooks/train_model.ipynb\",\n",
    "    \"model\": \"/Users/aiujdm2/market_watch/models/model.pkl\",\n",
    "}\n"
   ]
  },
  {
   "cell_type": "code",
   "execution_count": 4,
   "id": "fcb15ea6",
   "metadata": {
    "execution": {
     "iopub.execute_input": "2022-03-06T05:26:50.568527Z",
     "iopub.status.busy": "2022-03-06T05:26:50.568357Z",
     "iopub.status.idle": "2022-03-06T05:26:50.606188Z",
     "shell.execute_reply": "2022-03-06T05:26:50.605604Z"
    },
    "papermill": {
     "duration": 0.04611,
     "end_time": "2022-03-06T05:26:50.608117",
     "exception": false,
     "start_time": "2022-03-06T05:26:50.562007",
     "status": "completed"
    },
    "tags": []
   },
   "outputs": [],
   "source": [
    "df = pd.read_parquet(str(upstream['build_features']['data']))\n",
    "X = df.drop('target', axis='columns')\n",
    "y = df.target"
   ]
  },
  {
   "cell_type": "code",
   "execution_count": 5,
   "id": "63ba6cb1",
   "metadata": {
    "execution": {
     "iopub.execute_input": "2022-03-06T05:26:50.620647Z",
     "iopub.status.busy": "2022-03-06T05:26:50.620488Z",
     "iopub.status.idle": "2022-03-06T05:26:50.625828Z",
     "shell.execute_reply": "2022-03-06T05:26:50.625354Z"
    },
    "papermill": {
     "duration": 0.013124,
     "end_time": "2022-03-06T05:26:50.627354",
     "exception": false,
     "start_time": "2022-03-06T05:26:50.614230",
     "status": "completed"
    },
    "tags": []
   },
   "outputs": [],
   "source": [
    "X_train, X_test, y_train, y_test = train_test_split(X,\n",
    "                                                    y,\n",
    "                                                    test_size=0.33,\n",
    "                                                    random_state=42)"
   ]
  },
  {
   "cell_type": "code",
   "execution_count": 6,
   "id": "40161305",
   "metadata": {
    "execution": {
     "iopub.execute_input": "2022-03-06T05:26:50.640986Z",
     "iopub.status.busy": "2022-03-06T05:26:50.640788Z",
     "iopub.status.idle": "2022-03-06T05:26:50.735108Z",
     "shell.execute_reply": "2022-03-06T05:26:50.734697Z"
    },
    "papermill": {
     "duration": 0.102523,
     "end_time": "2022-03-06T05:26:50.736589",
     "exception": false,
     "start_time": "2022-03-06T05:26:50.634066",
     "status": "completed"
    },
    "tags": []
   },
   "outputs": [
    {
     "data": {
      "text/plain": [
       "RandomForestClassifier()"
      ]
     },
     "execution_count": 6,
     "metadata": {},
     "output_type": "execute_result"
    }
   ],
   "source": [
    "clf = RandomForestClassifier()\n",
    "clf.fit(X_train, y_train)"
   ]
  },
  {
   "cell_type": "code",
   "execution_count": 7,
   "id": "5f11444c",
   "metadata": {
    "execution": {
     "iopub.execute_input": "2022-03-06T05:26:50.750222Z",
     "iopub.status.busy": "2022-03-06T05:26:50.750066Z",
     "iopub.status.idle": "2022-03-06T05:26:50.762374Z",
     "shell.execute_reply": "2022-03-06T05:26:50.761989Z"
    },
    "papermill": {
     "duration": 0.020691,
     "end_time": "2022-03-06T05:26:50.763805",
     "exception": false,
     "start_time": "2022-03-06T05:26:50.743114",
     "status": "completed"
    },
    "tags": []
   },
   "outputs": [],
   "source": [
    "y_pred = clf.predict(X_test)"
   ]
  },
  {
   "cell_type": "code",
   "execution_count": 8,
   "id": "bde7b297",
   "metadata": {
    "execution": {
     "iopub.execute_input": "2022-03-06T05:26:50.777190Z",
     "iopub.status.busy": "2022-03-06T05:26:50.777038Z",
     "iopub.status.idle": "2022-03-06T05:26:50.783138Z",
     "shell.execute_reply": "2022-03-06T05:26:50.782750Z"
    },
    "papermill": {
     "duration": 0.014471,
     "end_time": "2022-03-06T05:26:50.784694",
     "exception": false,
     "start_time": "2022-03-06T05:26:50.770223",
     "status": "completed"
    },
    "tags": []
   },
   "outputs": [
    {
     "name": "stdout",
     "output_type": "stream",
     "text": [
      "              precision    recall  f1-score   support\n",
      "\n",
      "           0       1.00      1.00      1.00        19\n",
      "           1       0.94      1.00      0.97        15\n",
      "           2       1.00      0.94      0.97        16\n",
      "\n",
      "    accuracy                           0.98        50\n",
      "   macro avg       0.98      0.98      0.98        50\n",
      "weighted avg       0.98      0.98      0.98        50\n",
      "\n"
     ]
    }
   ],
   "source": [
    "print(classification_report(y_test, y_pred))"
   ]
  },
  {
   "cell_type": "code",
   "execution_count": 9,
   "id": "ae2083d7",
   "metadata": {
    "execution": {
     "iopub.execute_input": "2022-03-06T05:26:50.798705Z",
     "iopub.status.busy": "2022-03-06T05:26:50.798542Z",
     "iopub.status.idle": "2022-03-06T05:26:50.932425Z",
     "shell.execute_reply": "2022-03-06T05:26:50.931912Z"
    },
    "papermill": {
     "duration": 0.142584,
     "end_time": "2022-03-06T05:26:50.934050",
     "exception": false,
     "start_time": "2022-03-06T05:26:50.791466",
     "status": "completed"
    },
    "tags": []
   },
   "outputs": [
    {
     "data": {
      "text/plain": [
       "<AxesSubplot:title={'center':'Confusion matrix'}, xlabel='Predicted label', ylabel='True label'>"
      ]
     },
     "execution_count": 9,
     "metadata": {},
     "output_type": "execute_result"
    },
    {
     "data": {
      "image/png": "[encoded data removed]",
      "text/plain": [
       "<Figure size 432x288 with 2 Axes>"
      ]
     },
     "metadata": {
      "needs_background": "light"
     },
     "output_type": "display_data"
    }
   ],
   "source": [
    "plot.confusion_matrix(y_test, y_pred)"
   ]
  },
  {
   "cell_type": "code",
   "execution_count": 10,
   "id": "eec97811",
   "metadata": {
    "execution": {
     "iopub.execute_input": "2022-03-06T05:26:50.950255Z",
     "iopub.status.busy": "2022-03-06T05:26:50.950075Z",
     "iopub.status.idle": "2022-03-06T05:26:50.955547Z",
     "shell.execute_reply": "2022-03-06T05:26:50.955086Z"
    },
    "papermill": {
     "duration": 0.015058,
     "end_time": "2022-03-06T05:26:50.956929",
     "exception": false,
     "start_time": "2022-03-06T05:26:50.941871",
     "status": "completed"
    },
    "tags": []
   },
   "outputs": [],
   "source": [
    "with open(product['model'], 'wb') as f:\n",
    "    pickle.dump(clf, f)"
   ]
  }
 ],
 "metadata": {
  "jupytext": {
   "cell_metadata_filter": "tags,-all",
   "main_language": "python",
   "notebook_metadata_filter": "-all",
   "text_representation": {
    "extension": ".py",
    "format_name": "percent"
   }
  },
  "kernelspec": {
   "display_name": "Python 3 (ipykernel)",
   "language": "python",
   "name": "python3"
  },
  "language_info": {
   "codemirror_mode": {
    "name": "ipython",
    "version": 3
   },
   "file_extension": ".py",
   "mimetype": "text/x-python",
   "name": "python",
   "nbconvert_exporter": "python",
   "pygments_lexer": "ipython3",
   "version": "3.9.10"
  },
  "papermill": {
   "duration": 3.227128,
   "end_time": "2022-03-06T05:26:51.387376",
   "exception": null,
   "input_path": "/var/folders/b0/4tc1nfbd6z7_vhx4nxcj2n91c0l9h6/T/tmp9pppv_se.ipynb",
   "output_path": "/Users/aiujdm2/market_watch/notebooks/train_model.ipynb",
   "parameters": {
    "product": {
     "model": "/Users/aiujdm2/market_watch/models/model.pkl",
     "nb": "/Users/aiujdm2/market_watch/notebooks/train_model.ipynb"
    },
    "upstream": {
     "build_features": {
      "data": "/Users/aiujdm2/market_watch/data/features/features.parquet",
      "nb": "/Users/aiujdm2/market_watch/notebooks/build_features.ipynb"
     }
    }
   },
   "start_time": "2022-03-06T05:26:48.160248"
  }
 },
 "nbformat": 4,
 "nbformat_minor": 5
}