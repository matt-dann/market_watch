{
 "cells": [
  {
   "cell_type": "code",
   "execution_count": 1,
   "id": "c886be27",
   "metadata": {
    "execution": {
     "iopub.execute_input": "2022-04-18T16:11:59.973966Z",
     "iopub.status.busy": "2022-04-18T16:11:59.973678Z",
     "iopub.status.idle": "2022-04-18T16:11:59.981180Z",
     "shell.execute_reply": "2022-04-18T16:11:59.980683Z"
    },
    "papermill": {
     "duration": 0.027732,
     "end_time": "2022-04-18T16:11:59.983046",
     "exception": false,
     "start_time": "2022-04-18T16:11:59.955314",
     "status": "completed"
    },
    "tags": [
     "parameters"
    ]
   },
   "outputs": [],
   "source": [
    "# your parameters here...\n",
    "upstream = ['fetch_n_filter_gdelt_bq', 'normalize_security_names']"
   ]
  },
  {
   "cell_type": "code",
   "execution_count": 2,
   "id": "f0be6693",
   "metadata": {
    "execution": {
     "iopub.execute_input": "2022-04-18T16:12:00.012907Z",
     "iopub.status.busy": "2022-04-18T16:12:00.012682Z",
     "iopub.status.idle": "2022-04-18T16:12:00.016417Z",
     "shell.execute_reply": "2022-04-18T16:12:00.015929Z"
    },
    "papermill": {
     "duration": 0.02029,
     "end_time": "2022-04-18T16:12:00.018160",
     "exception": false,
     "start_time": "2022-04-18T16:11:59.997870",
     "status": "completed"
    },
    "tags": [
     "injected-parameters"
    ]
   },
   "outputs": [],
   "source": [
    "# Parameters\n",
    "upstream = {\n",
    "    \"normalize_security_names\": {\n",
    "        \"nb\": \"/Users/aiujdm2/market_watch/output/notebooks/normalize_security_names.ipynb\",\n",
    "        \"data\": \"/Users/aiujdm2/market_watch/output/data/interim/normalized_security_names.csv\",\n",
    "    },\n",
    "    \"fetch_n_filter_gdelt_bq\": {\n",
    "        \"nb\": \"/Users/aiujdm2/market_watch/output/notebooks/fetch_n_filter_gdelt_bq.ipynb\",\n",
    "        \"data\": \"/Users/aiujdm2/market_watch/output/data/raw/gdelt_gkg_bqdata-raw.csv\",\n",
    "    },\n",
    "}\n",
    "product = {\n",
    "    \"nb\": \"/Users/aiujdm2/market_watch/output/notebooks/clean_gdelt_data.ipynb\",\n",
    "    \"data\": \"/Users/aiujdm2/market_watch/output/data/interim/gdelt_gkg_data-cleaned.csv\",\n",
    "}\n"
   ]
  },
  {
   "cell_type": "code",
   "execution_count": 3,
   "id": "306ab709",
   "metadata": {
    "execution": {
     "iopub.execute_input": "2022-04-18T16:12:00.043069Z",
     "iopub.status.busy": "2022-04-18T16:12:00.042399Z",
     "iopub.status.idle": "2022-04-18T16:12:00.742132Z",
     "shell.execute_reply": "2022-04-18T16:12:00.741572Z"
    },
    "papermill": {
     "duration": 0.712663,
     "end_time": "2022-04-18T16:12:00.743802",
     "exception": false,
     "start_time": "2022-04-18T16:12:00.031139",
     "status": "completed"
    },
    "tags": []
   },
   "outputs": [],
   "source": [
    "# your code here...\n",
    "import pandas as pd\n",
    "import numpy as np\n",
    "from pathlib import Path\n",
    "import nltk\n",
    "import time\n",
    "import re\n",
    "from time import time\n",
    "import json\n",
    "import ast\n",
    "from src.utils import preprocess_text\n",
    "from collections import Counter\n",
    "from src.utils import fuzz_similarity, preprocess_text\n",
    "from nltk.corpus import stopwords"
   ]
  },
  {
   "cell_type": "code",
   "execution_count": 4,
   "id": "e531a1f2",
   "metadata": {
    "execution": {
     "iopub.execute_input": "2022-04-18T16:12:00.765970Z",
     "iopub.status.busy": "2022-04-18T16:12:00.765708Z",
     "iopub.status.idle": "2022-04-18T16:12:00.949645Z",
     "shell.execute_reply": "2022-04-18T16:12:00.949120Z"
    },
    "papermill": {
     "duration": 0.196759,
     "end_time": "2022-04-18T16:12:00.951358",
     "exception": false,
     "start_time": "2022-04-18T16:12:00.754599",
     "status": "completed"
    },
    "tags": []
   },
   "outputs": [
    {
     "name": "stderr",
     "output_type": "stream",
     "text": [
      "[nltk_data] Downloading package stopwords to\n",
      "[nltk_data]     /Users/aiujdm2/nltk_data...\n",
      "[nltk_data]   Package stopwords is already up-to-date!\n",
      "[nltk_data] Downloading package omw-1.4 to /Users/aiujdm2/nltk_data...\n",
      "[nltk_data]   Package omw-1.4 is already up-to-date!\n"
     ]
    }
   ],
   "source": [
    "nltk.download('stopwords')\n",
    "nltk.download('omw-1.4')\n",
    "stops = set(stopwords.words('english'))\n",
    "pd.options.display.max_colwidth = 200"
   ]
  },
  {
   "cell_type": "code",
   "execution_count": 5,
   "id": "cc735faf",
   "metadata": {
    "execution": {
     "iopub.execute_input": "2022-04-18T16:12:00.975401Z",
     "iopub.status.busy": "2022-04-18T16:12:00.975216Z",
     "iopub.status.idle": "2022-04-18T16:12:01.094885Z",
     "shell.execute_reply": "2022-04-18T16:12:01.094396Z"
    },
    "papermill": {
     "duration": 0.132525,
     "end_time": "2022-04-18T16:12:01.096559",
     "exception": false,
     "start_time": "2022-04-18T16:12:00.964034",
     "status": "completed"
    },
    "tags": []
   },
   "outputs": [
    {
     "name": "stdout",
     "output_type": "stream",
     "text": [
      "<class 'pandas.core.frame.DataFrame'>\n",
      "Int64Index: 4477 entries, 0 to 9212\n",
      "Data columns (total 4 columns):\n",
      " #   Column       Non-Null Count  Dtype \n",
      "---  ------       --------------  ----- \n",
      " 0   cik          4477 non-null   int64 \n",
      " 1   ticker       4477 non-null   object\n",
      " 2   full_name    4477 non-null   object\n",
      " 3   former_name  4477 non-null   object\n",
      "dtypes: int64(1), object(3)\n",
      "memory usage: 174.9+ KB\n"
     ]
    }
   ],
   "source": [
    "gdelt_file_path = upstream['fetch_n_filter_gdelt_bq']['data']\n",
    "securities_file_path = upstream['normalize_security_names']['data']\n",
    "gdelt_df = pd.read_csv(gdelt_file_path, index_col=0)\n",
    "securities_df = pd.read_csv(securities_file_path, index_col=0)\n",
    "securities_df.dropna(subset=['former_name'], inplace=True)\n",
    "securities_df.info()"
   ]
  },
  {
   "cell_type": "code",
   "execution_count": 6,
   "id": "e1385c74",
   "metadata": {
    "execution": {
     "iopub.execute_input": "2022-04-18T16:12:01.121001Z",
     "iopub.status.busy": "2022-04-18T16:12:01.120837Z",
     "iopub.status.idle": "2022-04-18T16:12:01.128570Z",
     "shell.execute_reply": "2022-04-18T16:12:01.128138Z"
    },
    "papermill": {
     "duration": 0.021012,
     "end_time": "2022-04-18T16:12:01.130070",
     "exception": false,
     "start_time": "2022-04-18T16:12:01.109058",
     "status": "completed"
    },
    "tags": []
   },
   "outputs": [
    {
     "data": {
      "text/plain": [
       "Index(['GKGRECORDID', 'DATE', 'SourceCollectionIdentifier',\n",
       "       'DocumentIdentifier', 'Locations', 'Persons', 'Organizations', 'Tone'],\n",
       "      dtype='object')"
      ]
     },
     "execution_count": 6,
     "metadata": {},
     "output_type": "execute_result"
    }
   ],
   "source": [
    "gdelt_df.columns"
   ]
  },
  {
   "cell_type": "code",
   "execution_count": 7,
   "id": "3bca4ebb",
   "metadata": {
    "execution": {
     "iopub.execute_input": "2022-04-18T16:12:01.154266Z",
     "iopub.status.busy": "2022-04-18T16:12:01.154083Z",
     "iopub.status.idle": "2022-04-18T16:12:01.161142Z",
     "shell.execute_reply": "2022-04-18T16:12:01.160738Z"
    },
    "papermill": {
     "duration": 0.021129,
     "end_time": "2022-04-18T16:12:01.162736",
     "exception": false,
     "start_time": "2022-04-18T16:12:01.141607",
     "status": "completed"
    },
    "tags": []
   },
   "outputs": [
    {
     "data": {
      "text/html": [
       "<div>\n",
       "<style scoped>\n",
       "    .dataframe tbody tr th:only-of-type {\n",
       "        vertical-align: middle;\n",
       "    }\n",
       "\n",
       "    .dataframe tbody tr th {\n",
       "        vertical-align: top;\n",
       "    }\n",
       "\n",
       "    .dataframe thead th {\n",
       "        text-align: right;\n",
       "    }\n",
       "</style>\n",
       "<table border=\"1\" class=\"dataframe\">\n",
       "  <thead>\n",
       "    <tr style=\"text-align: right;\">\n",
       "      <th></th>\n",
       "      <th>cik</th>\n",
       "      <th>ticker</th>\n",
       "      <th>full_name</th>\n",
       "      <th>former_name</th>\n",
       "    </tr>\n",
       "  </thead>\n",
       "  <tbody>\n",
       "    <tr>\n",
       "      <th>0</th>\n",
       "      <td>1599298</td>\n",
       "      <td>SMMT</td>\n",
       "      <td>summit therapeutics</td>\n",
       "      <td>summit therapeutics</td>\n",
       "    </tr>\n",
       "    <tr>\n",
       "      <th>3</th>\n",
       "      <td>33934</td>\n",
       "      <td>CRF</td>\n",
       "      <td>cornerstone total return</td>\n",
       "      <td>eis</td>\n",
       "    </tr>\n",
       "    <tr>\n",
       "      <th>6</th>\n",
       "      <td>845611</td>\n",
       "      <td>GCV</td>\n",
       "      <td>gabelli convertible income securities</td>\n",
       "      <td>gabelli convertible securities</td>\n",
       "    </tr>\n",
       "    <tr>\n",
       "      <th>10</th>\n",
       "      <td>1839412</td>\n",
       "      <td>QTEK</td>\n",
       "      <td>qualtek services</td>\n",
       "      <td>roth ch acquisition iii</td>\n",
       "    </tr>\n",
       "    <tr>\n",
       "      <th>13</th>\n",
       "      <td>851520</td>\n",
       "      <td>EXPO</td>\n",
       "      <td>exponent</td>\n",
       "      <td>failure</td>\n",
       "    </tr>\n",
       "  </tbody>\n",
       "</table>\n",
       "</div>"
      ],
      "text/plain": [
       "        cik ticker                              full_name  \\\n",
       "0   1599298   SMMT                    summit therapeutics   \n",
       "3     33934    CRF               cornerstone total return   \n",
       "6    845611    GCV  gabelli convertible income securities   \n",
       "10  1839412   QTEK                       qualtek services   \n",
       "13   851520   EXPO                               exponent   \n",
       "\n",
       "                       former_name  \n",
       "0              summit therapeutics  \n",
       "3                              eis  \n",
       "6   gabelli convertible securities  \n",
       "10         roth ch acquisition iii  \n",
       "13                         failure  "
      ]
     },
     "execution_count": 7,
     "metadata": {},
     "output_type": "execute_result"
    }
   ],
   "source": [
    "securities_df.head()"
   ]
  },
  {
   "cell_type": "code",
   "execution_count": 8,
   "id": "2ab32c84",
   "metadata": {
    "execution": {
     "iopub.execute_input": "2022-04-18T16:12:01.187125Z",
     "iopub.status.busy": "2022-04-18T16:12:01.186968Z",
     "iopub.status.idle": "2022-04-18T16:12:01.394181Z",
     "shell.execute_reply": "2022-04-18T16:12:01.393448Z"
    },
    "papermill": {
     "duration": 0.221222,
     "end_time": "2022-04-18T16:12:01.395856",
     "exception": false,
     "start_time": "2022-04-18T16:12:01.174634",
     "status": "completed"
    },
    "tags": []
   },
   "outputs": [],
   "source": [
    "#  drop rows where no organizations names were extracted\n",
    "gdelt_df = gdelt_df.dropna(subset=['Organizations'])\n",
    "gdelt_df = gdelt_df.replace(to_replace= ['Google', 'Facebook', 'YouTube', 'Youtube'], value=['alphabet', 'meta platforms', 'alphabet', 'alphabet'], regex=True)"
   ]
  },
  {
   "cell_type": "code",
   "execution_count": 9,
   "id": "67f98e80",
   "metadata": {
    "execution": {
     "iopub.execute_input": "2022-04-18T16:12:01.421043Z",
     "iopub.status.busy": "2022-04-18T16:12:01.420801Z",
     "iopub.status.idle": "2022-04-18T16:12:01.464793Z",
     "shell.execute_reply": "2022-04-18T16:12:01.464227Z"
    },
    "papermill": {
     "duration": 0.05807,
     "end_time": "2022-04-18T16:12:01.466474",
     "exception": false,
     "start_time": "2022-04-18T16:12:01.408404",
     "status": "completed"
    },
    "tags": []
   },
   "outputs": [],
   "source": [
    "#  get rid of numeric position of org name mention by only extracting alpha names\n",
    "# Extract only names not the index\n",
    "gdelt_df.Organizations = gdelt_df.Organizations.map(lambda x: re.split(r',\\d+;?', x))"
   ]
  },
  {
   "cell_type": "code",
   "execution_count": 10,
   "id": "755e61f8",
   "metadata": {
    "execution": {
     "iopub.execute_input": "2022-04-18T16:12:01.491106Z",
     "iopub.status.busy": "2022-04-18T16:12:01.490946Z",
     "iopub.status.idle": "2022-04-18T16:12:51.880783Z",
     "shell.execute_reply": "2022-04-18T16:12:51.880217Z"
    },
    "papermill": {
     "duration": 50.404137,
     "end_time": "2022-04-18T16:12:51.882544",
     "exception": false,
     "start_time": "2022-04-18T16:12:01.478407",
     "status": "completed"
    },
    "tags": []
   },
   "outputs": [],
   "source": [
    "def preprocess_orgs(x):\n",
    "    return preprocess_text(x, eng=True)\n",
    "\n",
    "gdelt_df.Organizations = gdelt_df.Organizations.apply(preprocess_orgs)"
   ]
  },
  {
   "cell_type": "code",
   "execution_count": 11,
   "id": "5d8a9660",
   "metadata": {
    "execution": {
     "iopub.execute_input": "2022-04-18T16:12:51.907846Z",
     "iopub.status.busy": "2022-04-18T16:12:51.907608Z",
     "iopub.status.idle": "2022-04-18T16:12:53.291484Z",
     "shell.execute_reply": "2022-04-18T16:12:53.290935Z"
    },
    "papermill": {
     "duration": 1.398314,
     "end_time": "2022-04-18T16:12:53.293166",
     "exception": false,
     "start_time": "2022-04-18T16:12:51.894852",
     "status": "completed"
    },
    "tags": []
   },
   "outputs": [],
   "source": [
    "gdelt_df.Organizations = gdelt_df.Organizations.replace(to_replace=securities_df.former_name.to_list(), value=securities_df.full_name.to_list())"
   ]
  },
  {
   "cell_type": "code",
   "execution_count": 12,
   "id": "035d37d4",
   "metadata": {
    "execution": {
     "iopub.execute_input": "2022-04-18T16:12:53.317333Z",
     "iopub.status.busy": "2022-04-18T16:12:53.317086Z",
     "iopub.status.idle": "2022-04-18T16:12:53.343113Z",
     "shell.execute_reply": "2022-04-18T16:12:53.342462Z"
    },
    "lines_to_next_cell": 0,
    "papermill": {
     "duration": 0.040228,
     "end_time": "2022-04-18T16:12:53.345098",
     "exception": false,
     "start_time": "2022-04-18T16:12:53.304870",
     "status": "completed"
    },
    "tags": []
   },
   "outputs": [],
   "source": [
    "def count_orgs(x):\n",
    "    return x if type(x) is float or len(x) == 0 else Counter(x)\n",
    "\n",
    "gdelt_df.Organizations = gdelt_df.Organizations.apply(count_orgs)"
   ]
  },
  {
   "cell_type": "code",
   "execution_count": 13,
   "id": "07be45ee",
   "metadata": {
    "execution": {
     "iopub.execute_input": "2022-04-18T16:12:53.370872Z",
     "iopub.status.busy": "2022-04-18T16:12:53.370714Z",
     "iopub.status.idle": "2022-04-18T16:12:56.034037Z",
     "shell.execute_reply": "2022-04-18T16:12:56.033481Z"
    },
    "papermill": {
     "duration": 2.678424,
     "end_time": "2022-04-18T16:12:56.035791",
     "exception": false,
     "start_time": "2022-04-18T16:12:53.357367",
     "status": "completed"
    },
    "tags": []
   },
   "outputs": [],
   "source": [
    "securities_names = preprocess_text(securities_df.full_name)\n",
    "gdelt_df.Organizations = gdelt_df.Organizations.apply(lambda x: { key:x[key] for key in x.keys() if key in securities_names and key != 'Tooshorttext'})\n",
    "gdelt_df = gdelt_df[gdelt_df.Organizations.str.len() != 0]"
   ]
  },
  {
   "cell_type": "code",
   "execution_count": 14,
   "id": "5b0ee6b7",
   "metadata": {
    "execution": {
     "iopub.execute_input": "2022-04-18T16:12:56.061286Z",
     "iopub.status.busy": "2022-04-18T16:12:56.061076Z",
     "iopub.status.idle": "2022-04-18T16:12:56.075604Z",
     "shell.execute_reply": "2022-04-18T16:12:56.074993Z"
    },
    "papermill": {
     "duration": 0.029193,
     "end_time": "2022-04-18T16:12:56.077286",
     "exception": false,
     "start_time": "2022-04-18T16:12:56.048093",
     "status": "completed"
    },
    "tags": []
   },
   "outputs": [
    {
     "name": "stdout",
     "output_type": "stream",
     "text": [
      "<class 'pandas.core.frame.DataFrame'>\n",
      "Int64Index: 8912 entries, 0 to 10551\n",
      "Data columns (total 8 columns):\n",
      " #   Column                      Non-Null Count  Dtype \n",
      "---  ------                      --------------  ----- \n",
      " 0   GKGRECORDID                 8912 non-null   object\n",
      " 1   DATE                        8912 non-null   int64 \n",
      " 2   SourceCollectionIdentifier  8912 non-null   int64 \n",
      " 3   DocumentIdentifier          8912 non-null   object\n",
      " 4   Locations                   7523 non-null   object\n",
      " 5   Persons                     7385 non-null   object\n",
      " 6   Organizations               8912 non-null   object\n",
      " 7   Tone                        8912 non-null   object\n",
      "dtypes: int64(2), object(6)\n",
      "memory usage: 626.6+ KB\n"
     ]
    }
   ],
   "source": [
    "gdelt_df.info()"
   ]
  },
  {
   "cell_type": "code",
   "execution_count": 15,
   "id": "56cb1212",
   "metadata": {
    "execution": {
     "iopub.execute_input": "2022-04-18T16:12:56.102796Z",
     "iopub.status.busy": "2022-04-18T16:12:56.102563Z",
     "iopub.status.idle": "2022-04-18T16:12:56.203732Z",
     "shell.execute_reply": "2022-04-18T16:12:56.203218Z"
    },
    "lines_to_next_cell": 2,
    "papermill": {
     "duration": 0.115606,
     "end_time": "2022-04-18T16:12:56.205457",
     "exception": false,
     "start_time": "2022-04-18T16:12:56.089851",
     "status": "completed"
    },
    "tags": []
   },
   "outputs": [],
   "source": [
    "def split_locations(location_list):\n",
    "    location_names = []\n",
    "    if type(location_list) is not float:\n",
    "        for location_string in location_list:\n",
    "            loc_parts = location_string.split('#')\n",
    "            # We are only interested in full location name which is second entry in location string           \n",
    "            location_names.append(loc_parts[1]) if len(loc_parts) > 1 else np.nan\n",
    "            \n",
    "    return location_names\n",
    "# Locations are semi-colons(;) seperated and each location string is further seperated by hash(#)\n",
    "gdelt_df.Locations = gdelt_df.Locations.str.split(';').apply(split_locations)\n",
    "#  Remove duplicates\n",
    "gdelt_df.Locations = gdelt_df.Locations.map(set)"
   ]
  },
  {
   "cell_type": "code",
   "execution_count": 16,
   "id": "16ee575f",
   "metadata": {
    "execution": {
     "iopub.execute_input": "2022-04-18T16:12:56.235790Z",
     "iopub.status.busy": "2022-04-18T16:12:56.235635Z",
     "iopub.status.idle": "2022-04-18T16:12:56.260438Z",
     "shell.execute_reply": "2022-04-18T16:12:56.259913Z"
    },
    "papermill": {
     "duration": 0.041117,
     "end_time": "2022-04-18T16:12:56.262197",
     "exception": false,
     "start_time": "2022-04-18T16:12:56.221080",
     "status": "completed"
    },
    "tags": []
   },
   "outputs": [],
   "source": [
    "#  Clean some data elements\n",
    "gdelt_df.Persons = gdelt_df.Persons.str.findall(pat=\"[A-Z][a-z]+ [A-Z][a-z]+\")\n",
    "#  Remove duplicates\n",
    "gdelt_df.Persons = gdelt_df.Persons.map(set, na_action='ignore')"
   ]
  },
  {
   "cell_type": "code",
   "execution_count": 17,
   "id": "89d53d78",
   "metadata": {
    "execution": {
     "iopub.execute_input": "2022-04-18T16:12:56.290520Z",
     "iopub.status.busy": "2022-04-18T16:12:56.290317Z",
     "iopub.status.idle": "2022-04-18T16:12:56.301411Z",
     "shell.execute_reply": "2022-04-18T16:12:56.300954Z"
    },
    "papermill": {
     "duration": 0.026004,
     "end_time": "2022-04-18T16:12:56.302942",
     "exception": false,
     "start_time": "2022-04-18T16:12:56.276938",
     "status": "completed"
    },
    "tags": []
   },
   "outputs": [],
   "source": [
    "gdelt_df.Tone = gdelt_df.Tone.str.split(',')"
   ]
  },
  {
   "cell_type": "code",
   "execution_count": 18,
   "id": "80d38f77",
   "metadata": {
    "execution": {
     "iopub.execute_input": "2022-04-18T16:12:56.330759Z",
     "iopub.status.busy": "2022-04-18T16:12:56.330563Z",
     "iopub.status.idle": "2022-04-18T16:12:56.341143Z",
     "shell.execute_reply": "2022-04-18T16:12:56.340685Z"
    },
    "papermill": {
     "duration": 0.025232,
     "end_time": "2022-04-18T16:12:56.342710",
     "exception": false,
     "start_time": "2022-04-18T16:12:56.317478",
     "status": "completed"
    },
    "tags": []
   },
   "outputs": [],
   "source": [
    "# Clean Tone\n",
    "gdelt_df['AvgTone'] = gdelt_df.Tone.apply(lambda x: x[0])\n",
    "gdelt_df['PosScore'] = gdelt_df.Tone.apply(lambda x: x[1])\n",
    "gdelt_df['NegScore'] = gdelt_df.Tone.apply(lambda x: x[2])\n",
    "gdelt_df['Polarity'] = gdelt_df.Tone.apply(lambda x: x[3])"
   ]
  },
  {
   "cell_type": "code",
   "execution_count": 19,
   "id": "bbe995cf",
   "metadata": {
    "execution": {
     "iopub.execute_input": "2022-04-18T16:12:56.372186Z",
     "iopub.status.busy": "2022-04-18T16:12:56.372021Z",
     "iopub.status.idle": "2022-04-18T16:12:56.379641Z",
     "shell.execute_reply": "2022-04-18T16:12:56.379149Z"
    },
    "lines_to_next_cell": 2,
    "papermill": {
     "duration": 0.02343,
     "end_time": "2022-04-18T16:12:56.381387",
     "exception": false,
     "start_time": "2022-04-18T16:12:56.357957",
     "status": "completed"
    },
    "tags": []
   },
   "outputs": [],
   "source": [
    "gdelt_df.drop([\"Tone\", \"DATE\", \"SourceCollectionIdentifier\", \"DocumentIdentifier\"], axis = 1, inplace=True)"
   ]
  },
  {
   "cell_type": "code",
   "execution_count": 20,
   "id": "0baf535e",
   "metadata": {
    "execution": {
     "iopub.execute_input": "2022-04-18T16:12:56.410669Z",
     "iopub.status.busy": "2022-04-18T16:12:56.410485Z",
     "iopub.status.idle": "2022-04-18T16:12:56.424832Z",
     "shell.execute_reply": "2022-04-18T16:12:56.424412Z"
    },
    "papermill": {
     "duration": 0.029513,
     "end_time": "2022-04-18T16:12:56.426261",
     "exception": false,
     "start_time": "2022-04-18T16:12:56.396748",
     "status": "completed"
    },
    "tags": []
   },
   "outputs": [
    {
     "data": {
      "text/html": [
       "<div>\n",
       "<style scoped>\n",
       "    .dataframe tbody tr th:only-of-type {\n",
       "        vertical-align: middle;\n",
       "    }\n",
       "\n",
       "    .dataframe tbody tr th {\n",
       "        vertical-align: top;\n",
       "    }\n",
       "\n",
       "    .dataframe thead th {\n",
       "        text-align: right;\n",
       "    }\n",
       "</style>\n",
       "<table border=\"1\" class=\"dataframe\">\n",
       "  <thead>\n",
       "    <tr style=\"text-align: right;\">\n",
       "      <th></th>\n",
       "      <th>GKGRECORDID</th>\n",
       "      <th>Locations</th>\n",
       "      <th>Persons</th>\n",
       "      <th>Organizations</th>\n",
       "      <th>AvgTone</th>\n",
       "      <th>PosScore</th>\n",
       "      <th>NegScore</th>\n",
       "      <th>Polarity</th>\n",
       "    </tr>\n",
       "  </thead>\n",
       "  <tbody>\n",
       "    <tr>\n",
       "      <th>431</th>\n",
       "      <td>20211220113000-727</td>\n",
       "      <td>{American, Massachusetts, United States, Nigeria, South African}</td>\n",
       "      <td>{Elizabeth Warren, Elon Musk}</td>\n",
       "      <td>{'twitter': 1, 'tesla': 1}</td>\n",
       "      <td>1.70648464163823</td>\n",
       "      <td>3.41296928327645</td>\n",
       "      <td>1.70648464163823</td>\n",
       "      <td>5.11945392491468</td>\n",
       "    </tr>\n",
       "    <tr>\n",
       "      <th>5766</th>\n",
       "      <td>20220417070000-110</td>\n",
       "      <td>{Americans}</td>\n",
       "      <td>NaN</td>\n",
       "      <td>{'tesla': 1, 'meta platforms': 1, 'nvidia': 1, 'netflix': 1}</td>\n",
       "      <td>1.98300283286119</td>\n",
       "      <td>4.95750708215297</td>\n",
       "      <td>2.97450424929179</td>\n",
       "      <td>7.93201133144476</td>\n",
       "    </tr>\n",
       "    <tr>\n",
       "      <th>7038</th>\n",
       "      <td>20220415140000-620</td>\n",
       "      <td>{Mexico, El Salvador, Mexican, Honduras, Miami, Florida, United States, Portuguese}</td>\n",
       "      <td>{Aparna Chennapragada, Michael Saylor, Jack Mallers, Clifford Stoll, Indira Kempis, Cathie Wood, Francis Suarez, Warren Buffett}</td>\n",
       "      <td>{'tesla': 1, 'apple': 1, 'costco wholesale': 1}</td>\n",
       "      <td>1.02803738317757</td>\n",
       "      <td>2.80373831775701</td>\n",
       "      <td>1.77570093457944</td>\n",
       "      <td>4.57943925233645</td>\n",
       "    </tr>\n",
       "    <tr>\n",
       "      <th>7215</th>\n",
       "      <td>20220307233000-1386</td>\n",
       "      <td>{Melbourne, Victoria, Australia, Tampa, Florida, United States, Berlin, Berlin, Germany, Russia, Saudi Arabia, Ukraine, Russian, Iran}</td>\n",
       "      <td>{Piper Sandler, Jared Dinges, Antony Blinken}</td>\n",
       "      <td>{'ralph lauren': 2, 'mosaic': 3, 'nasdaq': 10, 'schlumberger': 4}</td>\n",
       "      <td>-1.69312169312169</td>\n",
       "      <td>0.846560846560847</td>\n",
       "      <td>2.53968253968254</td>\n",
       "      <td>3.38624338624339</td>\n",
       "    </tr>\n",
       "    <tr>\n",
       "      <th>7281</th>\n",
       "      <td>20220304210000-1414</td>\n",
       "      <td>{Ukraine, Russia, Russian, Texas, United States}</td>\n",
       "      <td>{Morgan Stanley, Raymond James, Gary Steele, Elon Musk}</td>\n",
       "      <td>{'morgan stanley': 2, 'newmont': 2, 'nasdaq': 13, 'broadcom': 3}</td>\n",
       "      <td>-0.116009280742459</td>\n",
       "      <td>1.85614849187935</td>\n",
       "      <td>1.97215777262181</td>\n",
       "      <td>3.82830626450116</td>\n",
       "    </tr>\n",
       "    <tr>\n",
       "      <th>2431</th>\n",
       "      <td>20220106183000-1747</td>\n",
       "      <td>{Italian}</td>\n",
       "      <td>{David Keller, Sam Abuelsamid, Emmanuel Rosner}</td>\n",
       "      <td>{'thomson reuters': 1, 'tesla': 1, 'lucid': 1}</td>\n",
       "      <td>-1.03359173126615</td>\n",
       "      <td>1.80878552971576</td>\n",
       "      <td>2.84237726098191</td>\n",
       "      <td>4.65116279069767</td>\n",
       "    </tr>\n",
       "    <tr>\n",
       "      <th>6149</th>\n",
       "      <td>20220217203000-1546</td>\n",
       "      <td>{Ohio, United States}</td>\n",
       "      <td>{Henrik Fisker}</td>\n",
       "      <td>{'tesla': 1}</td>\n",
       "      <td>2.17755443886097</td>\n",
       "      <td>2.84757118927973</td>\n",
       "      <td>0.670016750418761</td>\n",
       "      <td>3.51758793969849</td>\n",
       "    </tr>\n",
       "    <tr>\n",
       "      <th>10427</th>\n",
       "      <td>20220406153000-T1801</td>\n",
       "      <td>{Opstina Palilula, 00, Serbia, Belgrade, Serbia (General), }</td>\n",
       "      <td>NaN</td>\n",
       "      <td>{'tesla': 3}</td>\n",
       "      <td>1.13636363636364</td>\n",
       "      <td>1.13636363636364</td>\n",
       "      <td>0</td>\n",
       "      <td>1.13636363636364</td>\n",
       "    </tr>\n",
       "    <tr>\n",
       "      <th>2147</th>\n",
       "      <td>20220209034500-638</td>\n",
       "      <td>{Florida, United States, Fort Lauderdale, Florida, United States, Nevada, United States}</td>\n",
       "      <td>{James Riley, Barrett Riley}</td>\n",
       "      <td>{'tesla': 1}</td>\n",
       "      <td>-3.46740638002774</td>\n",
       "      <td>1.94174757281553</td>\n",
       "      <td>5.40915395284327</td>\n",
       "      <td>7.35090152565881</td>\n",
       "    </tr>\n",
       "    <tr>\n",
       "      <th>6933</th>\n",
       "      <td>20220405230000-303</td>\n",
       "      <td>{California, United States}</td>\n",
       "      <td>{Jack Dorsey, Michael Hiltzik, Parag Agrawal, Donald Trump, Mark Zuckerberg, Elon Musk, Matt Rourke}</td>\n",
       "      <td>{'twitter': 29, 'tesla': 1}</td>\n",
       "      <td>-2.73410799726589</td>\n",
       "      <td>2.32399179767601</td>\n",
       "      <td>5.0580997949419</td>\n",
       "      <td>7.38209159261791</td>\n",
       "    </tr>\n",
       "  </tbody>\n",
       "</table>\n",
       "</div>"
      ],
      "text/plain": [
       "                GKGRECORDID  \\\n",
       "431      20211220113000-727   \n",
       "5766     20220417070000-110   \n",
       "7038     20220415140000-620   \n",
       "7215    20220307233000-1386   \n",
       "7281    20220304210000-1414   \n",
       "2431    20220106183000-1747   \n",
       "6149    20220217203000-1546   \n",
       "10427  20220406153000-T1801   \n",
       "2147     20220209034500-638   \n",
       "6933     20220405230000-303   \n",
       "\n",
       "                                                                                                                                    Locations  \\\n",
       "431                                                                          {American, Massachusetts, United States, Nigeria, South African}   \n",
       "5766                                                                                                                              {Americans}   \n",
       "7038                                                      {Mexico, El Salvador, Mexican, Honduras, Miami, Florida, United States, Portuguese}   \n",
       "7215   {Melbourne, Victoria, Australia, Tampa, Florida, United States, Berlin, Berlin, Germany, Russia, Saudi Arabia, Ukraine, Russian, Iran}   \n",
       "7281                                                                                         {Ukraine, Russia, Russian, Texas, United States}   \n",
       "2431                                                                                                                                {Italian}   \n",
       "6149                                                                                                                    {Ohio, United States}   \n",
       "10427                                                                            {Opstina Palilula, 00, Serbia, Belgrade, Serbia (General), }   \n",
       "2147                                                 {Florida, United States, Fort Lauderdale, Florida, United States, Nevada, United States}   \n",
       "6933                                                                                                              {California, United States}   \n",
       "\n",
       "                                                                                                                                Persons  \\\n",
       "431                                                                                                       {Elizabeth Warren, Elon Musk}   \n",
       "5766                                                                                                                                NaN   \n",
       "7038   {Aparna Chennapragada, Michael Saylor, Jack Mallers, Clifford Stoll, Indira Kempis, Cathie Wood, Francis Suarez, Warren Buffett}   \n",
       "7215                                                                                      {Piper Sandler, Jared Dinges, Antony Blinken}   \n",
       "7281                                                                            {Morgan Stanley, Raymond James, Gary Steele, Elon Musk}   \n",
       "2431                                                                                    {David Keller, Sam Abuelsamid, Emmanuel Rosner}   \n",
       "6149                                                                                                                    {Henrik Fisker}   \n",
       "10427                                                                                                                               NaN   \n",
       "2147                                                                                                       {James Riley, Barrett Riley}   \n",
       "6933                               {Jack Dorsey, Michael Hiltzik, Parag Agrawal, Donald Trump, Mark Zuckerberg, Elon Musk, Matt Rourke}   \n",
       "\n",
       "                                                           Organizations  \\\n",
       "431                                           {'twitter': 1, 'tesla': 1}   \n",
       "5766        {'tesla': 1, 'meta platforms': 1, 'nvidia': 1, 'netflix': 1}   \n",
       "7038                     {'tesla': 1, 'apple': 1, 'costco wholesale': 1}   \n",
       "7215   {'ralph lauren': 2, 'mosaic': 3, 'nasdaq': 10, 'schlumberger': 4}   \n",
       "7281    {'morgan stanley': 2, 'newmont': 2, 'nasdaq': 13, 'broadcom': 3}   \n",
       "2431                      {'thomson reuters': 1, 'tesla': 1, 'lucid': 1}   \n",
       "6149                                                        {'tesla': 1}   \n",
       "10427                                                       {'tesla': 3}   \n",
       "2147                                                        {'tesla': 1}   \n",
       "6933                                         {'twitter': 29, 'tesla': 1}   \n",
       "\n",
       "                  AvgTone           PosScore           NegScore  \\\n",
       "431      1.70648464163823   3.41296928327645   1.70648464163823   \n",
       "5766     1.98300283286119   4.95750708215297   2.97450424929179   \n",
       "7038     1.02803738317757   2.80373831775701   1.77570093457944   \n",
       "7215    -1.69312169312169  0.846560846560847   2.53968253968254   \n",
       "7281   -0.116009280742459   1.85614849187935   1.97215777262181   \n",
       "2431    -1.03359173126615   1.80878552971576   2.84237726098191   \n",
       "6149     2.17755443886097   2.84757118927973  0.670016750418761   \n",
       "10427    1.13636363636364   1.13636363636364                  0   \n",
       "2147    -3.46740638002774   1.94174757281553   5.40915395284327   \n",
       "6933    -2.73410799726589   2.32399179767601    5.0580997949419   \n",
       "\n",
       "               Polarity  \n",
       "431    5.11945392491468  \n",
       "5766   7.93201133144476  \n",
       "7038   4.57943925233645  \n",
       "7215   3.38624338624339  \n",
       "7281   3.82830626450116  \n",
       "2431   4.65116279069767  \n",
       "6149   3.51758793969849  \n",
       "10427  1.13636363636364  \n",
       "2147   7.35090152565881  \n",
       "6933   7.38209159261791  "
      ]
     },
     "execution_count": 20,
     "metadata": {},
     "output_type": "execute_result"
    }
   ],
   "source": [
    "gdelt_df.sample(10)"
   ]
  },
  {
   "cell_type": "code",
   "execution_count": 21,
   "id": "dc658809",
   "metadata": {
    "execution": {
     "iopub.execute_input": "2022-04-18T16:12:56.454331Z",
     "iopub.status.busy": "2022-04-18T16:12:56.454176Z",
     "iopub.status.idle": "2022-04-18T16:12:56.544597Z",
     "shell.execute_reply": "2022-04-18T16:12:56.544182Z"
    },
    "papermill": {
     "duration": 0.10601,
     "end_time": "2022-04-18T16:12:56.546273",
     "exception": false,
     "start_time": "2022-04-18T16:12:56.440263",
     "status": "completed"
    },
    "tags": []
   },
   "outputs": [
    {
     "name": "stdout",
     "output_type": "stream",
     "text": [
      "Saved file /Users/aiujdm2/market_watch/output/data/interim/gdelt_gkg_data-cleaned.csv\n"
     ]
    }
   ],
   "source": [
    "output_file_path = product['data']\n",
    "Path(output_file_path).parent.mkdir(exist_ok=True, parents=True)\n",
    "gdelt_df.to_csv(output_file_path)\n",
    "print(f\"Saved file {output_file_path}\")"
   ]
  },
  {
   "cell_type": "code",
   "execution_count": 22,
   "id": "41eb234d",
   "metadata": {
    "execution": {
     "iopub.execute_input": "2022-04-18T16:12:56.575020Z",
     "iopub.status.busy": "2022-04-18T16:12:56.574817Z",
     "iopub.status.idle": "2022-04-18T16:12:56.581654Z",
     "shell.execute_reply": "2022-04-18T16:12:56.580735Z"
    },
    "papermill": {
     "duration": 0.022648,
     "end_time": "2022-04-18T16:12:56.583404",
     "exception": false,
     "start_time": "2022-04-18T16:12:56.560756",
     "status": "completed"
    },
    "tags": []
   },
   "outputs": [],
   "source": [
    "del gdelt_df, securities_df"
   ]
  },
  {
   "cell_type": "code",
   "execution_count": null,
   "id": "941062da",
   "metadata": {
    "papermill": {
     "duration": 0.013872,
     "end_time": "2022-04-18T16:12:56.611090",
     "exception": false,
     "start_time": "2022-04-18T16:12:56.597218",
     "status": "completed"
    },
    "tags": []
   },
   "outputs": [],
   "source": []
  }
 ],
 "metadata": {
  "jupytext": {
   "cell_metadata_filter": "tags,-all",
   "main_language": "python",
   "notebook_metadata_filter": "-all",
   "text_representation": {
    "extension": ".py",
    "format_name": "light"
   }
  },
  "kernelspec": {
   "display_name": "Python 3 (ipykernel)",
   "language": "python",
   "name": "python3"
  },
  "language_info": {
   "codemirror_mode": {
    "name": "ipython",
    "version": 3
   },
   "file_extension": ".py",
   "mimetype": "text/x-python",
   "name": "python",
   "nbconvert_exporter": "python",
   "pygments_lexer": "ipython3",
   "version": "3.9.10"
  },
  "papermill": {
   "duration": 58.051965,
   "end_time": "2022-04-18T16:12:57.150838",
   "exception": null,
   "input_path": "/var/folders/b0/4tc1nfbd6z7_vhx4nxcj2n91c0l9h6/T/tmp_36zaj8l.ipynb",
   "output_path": "/Users/aiujdm2/market_watch/output/notebooks/clean_gdelt_data.ipynb",
   "parameters": {
    "product": {
     "data": "/Users/aiujdm2/market_watch/output/data/interim/gdelt_gkg_data-cleaned.csv",
     "nb": "/Users/aiujdm2/market_watch/output/notebooks/clean_gdelt_data.ipynb"
    },
    "upstream": {
     "fetch_n_filter_gdelt_bq": {
      "data": "/Users/aiujdm2/market_watch/output/data/raw/gdelt_gkg_bqdata-raw.csv",
      "nb": "/Users/aiujdm2/market_watch/output/notebooks/fetch_n_filter_gdelt_bq.ipynb"
     },
     "normalize_security_names": {
      "data": "/Users/aiujdm2/market_watch/output/data/interim/normalized_security_names.csv",
      "nb": "/Users/aiujdm2/market_watch/output/notebooks/normalize_security_names.ipynb"
     }
    }
   },
   "start_time": "2022-04-18T16:11:59.098873"
  }
 },
 "nbformat": 4,
 "nbformat_minor": 5
}