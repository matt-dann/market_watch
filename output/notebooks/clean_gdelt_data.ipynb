{
 "cells": [
  {
   "cell_type": "code",
   "execution_count": 1,
   "id": "31f02e7d",
   "metadata": {
    "execution": {
     "iopub.execute_input": "2022-04-18T04:40:23.950472Z",
     "iopub.status.busy": "2022-04-18T04:40:23.950194Z",
     "iopub.status.idle": "2022-04-18T04:40:23.958043Z",
     "shell.execute_reply": "2022-04-18T04:40:23.957311Z"
    },
    "papermill": {
     "duration": 0.02844,
     "end_time": "2022-04-18T04:40:23.960281",
     "exception": false,
     "start_time": "2022-04-18T04:40:23.931841",
     "status": "completed"
    },
    "tags": [
     "parameters"
    ]
   },
   "outputs": [],
   "source": [
    "# your parameters here...\n",
    "upstream = ['fetch_n_filter_gdelt_bq', 'normalize_security_names']"
   ]
  },
  {
   "cell_type": "code",
   "execution_count": 2,
   "id": "91bb1c60",
   "metadata": {
    "execution": {
     "iopub.execute_input": "2022-04-18T04:40:23.989074Z",
     "iopub.status.busy": "2022-04-18T04:40:23.988865Z",
     "iopub.status.idle": "2022-04-18T04:40:23.992565Z",
     "shell.execute_reply": "2022-04-18T04:40:23.992053Z"
    },
    "papermill": {
     "duration": 0.019291,
     "end_time": "2022-04-18T04:40:23.994184",
     "exception": false,
     "start_time": "2022-04-18T04:40:23.974893",
     "status": "completed"
    },
    "tags": [
     "injected-parameters"
    ]
   },
   "outputs": [],
   "source": [
    "# Parameters\n",
    "upstream = {\n",
    "    \"normalize_security_names\": {\n",
    "        \"nb\": \"/Users/aiujdm2/market_watch/output/notebooks/normalize_security_names.ipynb\",\n",
    "        \"data\": \"/Users/aiujdm2/market_watch/output/data/interim/normalized_security_names.csv\",\n",
    "    },\n",
    "    \"fetch_n_filter_gdelt_bq\": {\n",
    "        \"nb\": \"/Users/aiujdm2/market_watch/output/notebooks/fetch_n_filter_gdelt_bq.ipynb\",\n",
    "        \"data\": \"/Users/aiujdm2/market_watch/output/data/raw/gdelt_gkg_bqdata-raw.csv\",\n",
    "    },\n",
    "}\n",
    "product = {\n",
    "    \"nb\": \"/Users/aiujdm2/market_watch/output/notebooks/clean_gdelt_data.ipynb\",\n",
    "    \"data\": \"/Users/aiujdm2/market_watch/output/data/interim/gdelt_gkg_data-cleaned.csv\",\n",
    "}\n"
   ]
  },
  {
   "cell_type": "code",
   "execution_count": 3,
   "id": "ba73b62c",
   "metadata": {
    "execution": {
     "iopub.execute_input": "2022-04-18T04:40:24.018558Z",
     "iopub.status.busy": "2022-04-18T04:40:24.018372Z",
     "iopub.status.idle": "2022-04-18T04:40:24.710014Z",
     "shell.execute_reply": "2022-04-18T04:40:24.709436Z"
    },
    "papermill": {
     "duration": 0.705407,
     "end_time": "2022-04-18T04:40:24.711678",
     "exception": false,
     "start_time": "2022-04-18T04:40:24.006271",
     "status": "completed"
    },
    "tags": []
   },
   "outputs": [],
   "source": [
    "# your code here...\n",
    "import pandas as pd\n",
    "import numpy as np\n",
    "from pathlib import Path\n",
    "import nltk\n",
    "import time\n",
    "import re\n",
    "from time import time\n",
    "import json\n",
    "import ast\n",
    "from src.utils import preprocess_text\n",
    "from collections import Counter\n",
    "from src.utils import fuzz_similarity, preprocess_text\n",
    "from nltk.corpus import stopwords"
   ]
  },
  {
   "cell_type": "code",
   "execution_count": 4,
   "id": "ed590d94",
   "metadata": {
    "execution": {
     "iopub.execute_input": "2022-04-18T04:40:24.734534Z",
     "iopub.status.busy": "2022-04-18T04:40:24.734305Z",
     "iopub.status.idle": "2022-04-18T04:40:24.934867Z",
     "shell.execute_reply": "2022-04-18T04:40:24.934364Z"
    },
    "papermill": {
     "duration": 0.213735,
     "end_time": "2022-04-18T04:40:24.936520",
     "exception": false,
     "start_time": "2022-04-18T04:40:24.722785",
     "status": "completed"
    },
    "tags": []
   },
   "outputs": [
    {
     "name": "stderr",
     "output_type": "stream",
     "text": [
      "[nltk_data] Downloading package stopwords to\n",
      "[nltk_data]     /Users/aiujdm2/nltk_data...\n",
      "[nltk_data]   Package stopwords is already up-to-date!\n",
      "[nltk_data] Downloading package omw-1.4 to /Users/aiujdm2/nltk_data...\n",
      "[nltk_data]   Package omw-1.4 is already up-to-date!\n"
     ]
    }
   ],
   "source": [
    "nltk.download('stopwords')\n",
    "nltk.download('omw-1.4')\n",
    "stops = set(stopwords.words('english'))\n",
    "pd.options.display.max_colwidth = 200"
   ]
  },
  {
   "cell_type": "code",
   "execution_count": 5,
   "id": "f641db06",
   "metadata": {
    "execution": {
     "iopub.execute_input": "2022-04-18T04:40:24.962872Z",
     "iopub.status.busy": "2022-04-18T04:40:24.962631Z",
     "iopub.status.idle": "2022-04-18T04:40:25.085327Z",
     "shell.execute_reply": "2022-04-18T04:40:25.084787Z"
    },
    "papermill": {
     "duration": 0.13707,
     "end_time": "2022-04-18T04:40:25.087163",
     "exception": false,
     "start_time": "2022-04-18T04:40:24.950093",
     "status": "completed"
    },
    "tags": []
   },
   "outputs": [
    {
     "name": "stdout",
     "output_type": "stream",
     "text": [
      "<class 'pandas.core.frame.DataFrame'>\n",
      "Int64Index: 4475 entries, 0 to 9211\n",
      "Data columns (total 4 columns):\n",
      " #   Column       Non-Null Count  Dtype \n",
      "---  ------       --------------  ----- \n",
      " 0   cik          4475 non-null   int64 \n",
      " 1   ticker       4475 non-null   object\n",
      " 2   full_name    4475 non-null   object\n",
      " 3   former_name  4475 non-null   object\n",
      "dtypes: int64(1), object(3)\n",
      "memory usage: 174.8+ KB\n"
     ]
    }
   ],
   "source": [
    "gdelt_file_path = upstream['fetch_n_filter_gdelt_bq']['data']\n",
    "securities_file_path = upstream['normalize_security_names']['data']\n",
    "gdelt_df = pd.read_csv(gdelt_file_path, index_col=0)\n",
    "securities_df = pd.read_csv(securities_file_path, index_col=0)\n",
    "securities_df.dropna(subset=['former_name'], inplace=True)\n",
    "securities_df.info()"
   ]
  },
  {
   "cell_type": "code",
   "execution_count": 6,
   "id": "0637449d",
   "metadata": {
    "execution": {
     "iopub.execute_input": "2022-04-18T04:40:25.112961Z",
     "iopub.status.busy": "2022-04-18T04:40:25.112773Z",
     "iopub.status.idle": "2022-04-18T04:40:25.121231Z",
     "shell.execute_reply": "2022-04-18T04:40:25.120676Z"
    },
    "papermill": {
     "duration": 0.022576,
     "end_time": "2022-04-18T04:40:25.123206",
     "exception": false,
     "start_time": "2022-04-18T04:40:25.100630",
     "status": "completed"
    },
    "tags": []
   },
   "outputs": [
    {
     "data": {
      "text/plain": [
       "Index(['GKGRECORDID', 'DATE', 'SourceCollectionIdentifier',\n",
       "       'DocumentIdentifier', 'Locations', 'Persons', 'Organizations', 'Tone'],\n",
       "      dtype='object')"
      ]
     },
     "execution_count": 6,
     "metadata": {},
     "output_type": "execute_result"
    }
   ],
   "source": [
    "gdelt_df.columns"
   ]
  },
  {
   "cell_type": "code",
   "execution_count": 7,
   "id": "1aedfdeb",
   "metadata": {
    "execution": {
     "iopub.execute_input": "2022-04-18T04:40:25.148514Z",
     "iopub.status.busy": "2022-04-18T04:40:25.148299Z",
     "iopub.status.idle": "2022-04-18T04:40:25.155301Z",
     "shell.execute_reply": "2022-04-18T04:40:25.154867Z"
    },
    "papermill": {
     "duration": 0.021532,
     "end_time": "2022-04-18T04:40:25.157046",
     "exception": false,
     "start_time": "2022-04-18T04:40:25.135514",
     "status": "completed"
    },
    "tags": []
   },
   "outputs": [
    {
     "data": {
      "text/html": [
       "<div>\n",
       "<style scoped>\n",
       "    .dataframe tbody tr th:only-of-type {\n",
       "        vertical-align: middle;\n",
       "    }\n",
       "\n",
       "    .dataframe tbody tr th {\n",
       "        vertical-align: top;\n",
       "    }\n",
       "\n",
       "    .dataframe thead th {\n",
       "        text-align: right;\n",
       "    }\n",
       "</style>\n",
       "<table border=\"1\" class=\"dataframe\">\n",
       "  <thead>\n",
       "    <tr style=\"text-align: right;\">\n",
       "      <th></th>\n",
       "      <th>cik</th>\n",
       "      <th>ticker</th>\n",
       "      <th>full_name</th>\n",
       "      <th>former_name</th>\n",
       "    </tr>\n",
       "  </thead>\n",
       "  <tbody>\n",
       "    <tr>\n",
       "      <th>0</th>\n",
       "      <td>1052752</td>\n",
       "      <td>GTY</td>\n",
       "      <td>getty realty</td>\n",
       "      <td>getty realty</td>\n",
       "    </tr>\n",
       "    <tr>\n",
       "      <th>2</th>\n",
       "      <td>1642178</td>\n",
       "      <td>AGNPF</td>\n",
       "      <td>algernon pharmaceuticals</td>\n",
       "      <td>breathtec biomedical</td>\n",
       "    </tr>\n",
       "    <tr>\n",
       "      <th>3</th>\n",
       "      <td>815556</td>\n",
       "      <td>FAST</td>\n",
       "      <td>fastenal</td>\n",
       "      <td>fastenal</td>\n",
       "    </tr>\n",
       "    <tr>\n",
       "      <th>5</th>\n",
       "      <td>1818644</td>\n",
       "      <td>LIDR</td>\n",
       "      <td>aeye</td>\n",
       "      <td>cf finance acquisition iii</td>\n",
       "    </tr>\n",
       "    <tr>\n",
       "      <th>6</th>\n",
       "      <td>924805</td>\n",
       "      <td>FRHC</td>\n",
       "      <td>freedom</td>\n",
       "      <td>bmb munai</td>\n",
       "    </tr>\n",
       "  </tbody>\n",
       "</table>\n",
       "</div>"
      ],
      "text/plain": [
       "       cik ticker                 full_name                 former_name\n",
       "0  1052752    GTY              getty realty                getty realty\n",
       "2  1642178  AGNPF  algernon pharmaceuticals        breathtec biomedical\n",
       "3   815556   FAST                  fastenal                    fastenal\n",
       "5  1818644   LIDR                      aeye  cf finance acquisition iii\n",
       "6   924805   FRHC                   freedom                   bmb munai"
      ]
     },
     "execution_count": 7,
     "metadata": {},
     "output_type": "execute_result"
    }
   ],
   "source": [
    "securities_df.head()"
   ]
  },
  {
   "cell_type": "code",
   "execution_count": 8,
   "id": "7dc99e41",
   "metadata": {
    "execution": {
     "iopub.execute_input": "2022-04-18T04:40:25.182042Z",
     "iopub.status.busy": "2022-04-18T04:40:25.181887Z",
     "iopub.status.idle": "2022-04-18T04:40:25.390504Z",
     "shell.execute_reply": "2022-04-18T04:40:25.389589Z"
    },
    "papermill": {
     "duration": 0.223395,
     "end_time": "2022-04-18T04:40:25.392270",
     "exception": false,
     "start_time": "2022-04-18T04:40:25.168875",
     "status": "completed"
    },
    "tags": []
   },
   "outputs": [],
   "source": [
    "#  drop rows where no organizations names were extracted\n",
    "gdelt_df = gdelt_df.dropna(subset=['Organizations'])\n",
    "gdelt_df = gdelt_df.replace(to_replace= ['Google', 'Facebook', 'YouTube', 'Youtube'], value=['alphabet', 'meta platforms', 'alphabet', 'alphabet'], regex=True)"
   ]
  },
  {
   "cell_type": "code",
   "execution_count": 9,
   "id": "5862c7c1",
   "metadata": {
    "execution": {
     "iopub.execute_input": "2022-04-18T04:40:25.418682Z",
     "iopub.status.busy": "2022-04-18T04:40:25.418065Z",
     "iopub.status.idle": "2022-04-18T04:40:25.463217Z",
     "shell.execute_reply": "2022-04-18T04:40:25.462600Z"
    },
    "papermill": {
     "duration": 0.059522,
     "end_time": "2022-04-18T04:40:25.464914",
     "exception": false,
     "start_time": "2022-04-18T04:40:25.405392",
     "status": "completed"
    },
    "tags": []
   },
   "outputs": [],
   "source": [
    "#  get rid of numeric position of org name mention by only extracting alpha names\n",
    "# Extract only names not the index\n",
    "gdelt_df.Organizations = gdelt_df.Organizations.map(lambda x: re.split(r',\\d+;?', x))"
   ]
  },
  {
   "cell_type": "code",
   "execution_count": 10,
   "id": "c85f3ecb",
   "metadata": {
    "execution": {
     "iopub.execute_input": "2022-04-18T04:40:25.492625Z",
     "iopub.status.busy": "2022-04-18T04:40:25.492459Z",
     "iopub.status.idle": "2022-04-18T04:41:15.942535Z",
     "shell.execute_reply": "2022-04-18T04:41:15.941962Z"
    },
    "papermill": {
     "duration": 50.464813,
     "end_time": "2022-04-18T04:41:15.944182",
     "exception": false,
     "start_time": "2022-04-18T04:40:25.479369",
     "status": "completed"
    },
    "tags": []
   },
   "outputs": [],
   "source": [
    "def preprocess_orgs(x):\n",
    "    return preprocess_text(x, eng=True)\n",
    "\n",
    "gdelt_df.Organizations = gdelt_df.Organizations.apply(preprocess_orgs)"
   ]
  },
  {
   "cell_type": "code",
   "execution_count": 11,
   "id": "d799e84e",
   "metadata": {
    "execution": {
     "iopub.execute_input": "2022-04-18T04:41:15.969915Z",
     "iopub.status.busy": "2022-04-18T04:41:15.969666Z",
     "iopub.status.idle": "2022-04-18T04:41:17.357858Z",
     "shell.execute_reply": "2022-04-18T04:41:17.357291Z"
    },
    "papermill": {
     "duration": 1.403089,
     "end_time": "2022-04-18T04:41:17.359655",
     "exception": false,
     "start_time": "2022-04-18T04:41:15.956566",
     "status": "completed"
    },
    "tags": []
   },
   "outputs": [],
   "source": [
    "gdelt_df.Organizations = gdelt_df.Organizations.replace(to_replace=securities_df.former_name.to_list(), value=securities_df.full_name.to_list())"
   ]
  },
  {
   "cell_type": "code",
   "execution_count": 12,
   "id": "17331c86",
   "metadata": {
    "execution": {
     "iopub.execute_input": "2022-04-18T04:41:17.385569Z",
     "iopub.status.busy": "2022-04-18T04:41:17.385278Z",
     "iopub.status.idle": "2022-04-18T04:41:17.411124Z",
     "shell.execute_reply": "2022-04-18T04:41:17.410652Z"
    },
    "lines_to_next_cell": 0,
    "papermill": {
     "duration": 0.040472,
     "end_time": "2022-04-18T04:41:17.412614",
     "exception": false,
     "start_time": "2022-04-18T04:41:17.372142",
     "status": "completed"
    },
    "tags": []
   },
   "outputs": [],
   "source": [
    "def count_orgs(x):\n",
    "    return x if type(x) is float or len(x) == 0 else Counter(x)\n",
    "\n",
    "gdelt_df.Organizations = gdelt_df.Organizations.apply(count_orgs)"
   ]
  },
  {
   "cell_type": "code",
   "execution_count": 13,
   "id": "f3147b2b",
   "metadata": {
    "execution": {
     "iopub.execute_input": "2022-04-18T04:41:17.438729Z",
     "iopub.status.busy": "2022-04-18T04:41:17.438464Z",
     "iopub.status.idle": "2022-04-18T04:41:20.283514Z",
     "shell.execute_reply": "2022-04-18T04:41:20.282837Z"
    },
    "papermill": {
     "duration": 2.861213,
     "end_time": "2022-04-18T04:41:20.286684",
     "exception": false,
     "start_time": "2022-04-18T04:41:17.425471",
     "status": "completed"
    },
    "tags": []
   },
   "outputs": [],
   "source": [
    "securities_names = preprocess_text(securities_df.full_name)\n",
    "gdelt_df.Organizations = gdelt_df.Organizations.apply(lambda x: { key:x[key] for key in x.keys() if key in securities_names and key != 'Tooshorttext'})\n",
    "gdelt_df = gdelt_df[gdelt_df.Organizations.str.len() != 0]"
   ]
  },
  {
   "cell_type": "code",
   "execution_count": 14,
   "id": "514001d4",
   "metadata": {
    "execution": {
     "iopub.execute_input": "2022-04-18T04:41:20.319389Z",
     "iopub.status.busy": "2022-04-18T04:41:20.319158Z",
     "iopub.status.idle": "2022-04-18T04:41:20.333641Z",
     "shell.execute_reply": "2022-04-18T04:41:20.332994Z"
    },
    "papermill": {
     "duration": 0.031204,
     "end_time": "2022-04-18T04:41:20.335612",
     "exception": false,
     "start_time": "2022-04-18T04:41:20.304408",
     "status": "completed"
    },
    "tags": []
   },
   "outputs": [
    {
     "name": "stdout",
     "output_type": "stream",
     "text": [
      "<class 'pandas.core.frame.DataFrame'>\n",
      "Int64Index: 8912 entries, 0 to 10551\n",
      "Data columns (total 8 columns):\n",
      " #   Column                      Non-Null Count  Dtype \n",
      "---  ------                      --------------  ----- \n",
      " 0   GKGRECORDID                 8912 non-null   object\n",
      " 1   DATE                        8912 non-null   int64 \n",
      " 2   SourceCollectionIdentifier  8912 non-null   int64 \n",
      " 3   DocumentIdentifier          8912 non-null   object\n",
      " 4   Locations                   7523 non-null   object\n",
      " 5   Persons                     7385 non-null   object\n",
      " 6   Organizations               8912 non-null   object\n",
      " 7   Tone                        8912 non-null   object\n",
      "dtypes: int64(2), object(6)\n",
      "memory usage: 626.6+ KB\n"
     ]
    }
   ],
   "source": [
    "gdelt_df.info()"
   ]
  },
  {
   "cell_type": "code",
   "execution_count": 15,
   "id": "9485d665",
   "metadata": {
    "execution": {
     "iopub.execute_input": "2022-04-18T04:41:20.363102Z",
     "iopub.status.busy": "2022-04-18T04:41:20.362859Z",
     "iopub.status.idle": "2022-04-18T04:41:20.462325Z",
     "shell.execute_reply": "2022-04-18T04:41:20.461625Z"
    },
    "lines_to_next_cell": 2,
    "papermill": {
     "duration": 0.115409,
     "end_time": "2022-04-18T04:41:20.464348",
     "exception": false,
     "start_time": "2022-04-18T04:41:20.348939",
     "status": "completed"
    },
    "tags": []
   },
   "outputs": [],
   "source": [
    "def split_locations(location_list):\n",
    "    location_names = []\n",
    "    if type(location_list) is not float:\n",
    "        for location_string in location_list:\n",
    "            loc_parts = location_string.split('#')\n",
    "            # We are only interested in full location name which is second entry in location string           \n",
    "            location_names.append(loc_parts[1]) if len(loc_parts) > 1 else np.nan\n",
    "            \n",
    "    return location_names\n",
    "# Locations are semi-colons(;) seperated and each location string is further seperated by hash(#)\n",
    "gdelt_df.Locations = gdelt_df.Locations.str.split(';').apply(split_locations)\n",
    "#  Remove duplicates\n",
    "gdelt_df.Locations = gdelt_df.Locations.map(set)"
   ]
  },
  {
   "cell_type": "code",
   "execution_count": 16,
   "id": "162d59bc",
   "metadata": {
    "execution": {
     "iopub.execute_input": "2022-04-18T04:41:20.498209Z",
     "iopub.status.busy": "2022-04-18T04:41:20.498014Z",
     "iopub.status.idle": "2022-04-18T04:41:20.524230Z",
     "shell.execute_reply": "2022-04-18T04:41:20.523558Z"
    },
    "papermill": {
     "duration": 0.045032,
     "end_time": "2022-04-18T04:41:20.526080",
     "exception": false,
     "start_time": "2022-04-18T04:41:20.481048",
     "status": "completed"
    },
    "tags": []
   },
   "outputs": [],
   "source": [
    "#  Clean some data elements\n",
    "gdelt_df.Persons = gdelt_df.Persons.str.findall(pat=\"[A-Z][a-z]+ [A-Z][a-z]+\")\n",
    "#  Remove duplicates\n",
    "gdelt_df.Persons = gdelt_df.Persons.map(set, na_action='ignore')"
   ]
  },
  {
   "cell_type": "code",
   "execution_count": 17,
   "id": "b13729ea",
   "metadata": {
    "execution": {
     "iopub.execute_input": "2022-04-18T04:41:20.558210Z",
     "iopub.status.busy": "2022-04-18T04:41:20.558021Z",
     "iopub.status.idle": "2022-04-18T04:41:20.570119Z",
     "shell.execute_reply": "2022-04-18T04:41:20.569610Z"
    },
    "papermill": {
     "duration": 0.029268,
     "end_time": "2022-04-18T04:41:20.571661",
     "exception": false,
     "start_time": "2022-04-18T04:41:20.542393",
     "status": "completed"
    },
    "tags": []
   },
   "outputs": [],
   "source": [
    "gdelt_df.Tone = gdelt_df.Tone.str.split(',')"
   ]
  },
  {
   "cell_type": "code",
   "execution_count": 18,
   "id": "972f3b8b",
   "metadata": {
    "execution": {
     "iopub.execute_input": "2022-04-18T04:41:20.601048Z",
     "iopub.status.busy": "2022-04-18T04:41:20.600864Z",
     "iopub.status.idle": "2022-04-18T04:41:20.612457Z",
     "shell.execute_reply": "2022-04-18T04:41:20.611873Z"
    },
    "papermill": {
     "duration": 0.027733,
     "end_time": "2022-04-18T04:41:20.614132",
     "exception": false,
     "start_time": "2022-04-18T04:41:20.586399",
     "status": "completed"
    },
    "tags": []
   },
   "outputs": [],
   "source": [
    "# Clean Tone\n",
    "gdelt_df['AvgTone'] = gdelt_df.Tone.apply(lambda x: x[0])\n",
    "gdelt_df['PosScore'] = gdelt_df.Tone.apply(lambda x: x[1])\n",
    "gdelt_df['NegScore'] = gdelt_df.Tone.apply(lambda x: x[2])\n",
    "gdelt_df['Polarity'] = gdelt_df.Tone.apply(lambda x: x[3])"
   ]
  },
  {
   "cell_type": "code",
   "execution_count": 19,
   "id": "536b2ed7",
   "metadata": {
    "execution": {
     "iopub.execute_input": "2022-04-18T04:41:20.647819Z",
     "iopub.status.busy": "2022-04-18T04:41:20.647555Z",
     "iopub.status.idle": "2022-04-18T04:41:20.656076Z",
     "shell.execute_reply": "2022-04-18T04:41:20.655617Z"
    },
    "lines_to_next_cell": 2,
    "papermill": {
     "duration": 0.027152,
     "end_time": "2022-04-18T04:41:20.657754",
     "exception": false,
     "start_time": "2022-04-18T04:41:20.630602",
     "status": "completed"
    },
    "tags": []
   },
   "outputs": [],
   "source": [
    "gdelt_df.drop([\"Tone\", \"DATE\", \"SourceCollectionIdentifier\", \"DocumentIdentifier\"], axis = 1, inplace=True)"
   ]
  },
  {
   "cell_type": "code",
   "execution_count": 20,
   "id": "5214b84d",
   "metadata": {
    "execution": {
     "iopub.execute_input": "2022-04-18T04:41:20.690428Z",
     "iopub.status.busy": "2022-04-18T04:41:20.690160Z",
     "iopub.status.idle": "2022-04-18T04:41:20.705092Z",
     "shell.execute_reply": "2022-04-18T04:41:20.704546Z"
    },
    "papermill": {
     "duration": 0.032295,
     "end_time": "2022-04-18T04:41:20.706590",
     "exception": false,
     "start_time": "2022-04-18T04:41:20.674295",
     "status": "completed"
    },
    "tags": []
   },
   "outputs": [
    {
     "data": {
      "text/html": [
       "<div>\n",
       "<style scoped>\n",
       "    .dataframe tbody tr th:only-of-type {\n",
       "        vertical-align: middle;\n",
       "    }\n",
       "\n",
       "    .dataframe tbody tr th {\n",
       "        vertical-align: top;\n",
       "    }\n",
       "\n",
       "    .dataframe thead th {\n",
       "        text-align: right;\n",
       "    }\n",
       "</style>\n",
       "<table border=\"1\" class=\"dataframe\">\n",
       "  <thead>\n",
       "    <tr style=\"text-align: right;\">\n",
       "      <th></th>\n",
       "      <th>GKGRECORDID</th>\n",
       "      <th>Locations</th>\n",
       "      <th>Persons</th>\n",
       "      <th>Organizations</th>\n",
       "      <th>AvgTone</th>\n",
       "      <th>PosScore</th>\n",
       "      <th>NegScore</th>\n",
       "      <th>Polarity</th>\n",
       "    </tr>\n",
       "  </thead>\n",
       "  <tbody>\n",
       "    <tr>\n",
       "      <th>1011</th>\n",
       "      <td>20220104080000-510</td>\n",
       "      <td>{Beijing, Beijing, China, Shanghai, Shanghai, China, American, Washington, Washington, United States, United States, Taiwan, China, Chinese, Xinjiang, Jiangxi, China}</td>\n",
       "      <td>{Elon Musk, Ibrahim Hooper}</td>\n",
       "      <td>{'walmart': 3, 'tesla': 1}</td>\n",
       "      <td>-4.0920716112532</td>\n",
       "      <td>2.0460358056266</td>\n",
       "      <td>6.1381074168798</td>\n",
       "      <td>8.18414322250639</td>\n",
       "    </tr>\n",
       "    <tr>\n",
       "      <th>4979</th>\n",
       "      <td>20220126100000-1142</td>\n",
       "      <td>{Fremont, California, United States, South Carolina, United States, Japanese, Spartanburg, South Carolina, United States, Shanghai, Shanghai, China, American, Germany, Berlin, Berlin, Germany, Chi...</td>\n",
       "      <td>NaN</td>\n",
       "      <td>{'tesla': 1}</td>\n",
       "      <td>0</td>\n",
       "      <td>1.56599552572707</td>\n",
       "      <td>1.56599552572707</td>\n",
       "      <td>3.13199105145414</td>\n",
       "    </tr>\n",
       "    <tr>\n",
       "      <th>5695</th>\n",
       "      <td>20220214080000-869</td>\n",
       "      <td>{Tokyo, Tokyo, Japan, Japan, Japanese, United States}</td>\n",
       "      <td>{Satoko Matsushima, Hideyuki Ishiguro, Mitsushige Akino}</td>\n",
       "      <td>{'tesla': 1}</td>\n",
       "      <td>0.255427841634738</td>\n",
       "      <td>2.04342273307791</td>\n",
       "      <td>1.78799489144317</td>\n",
       "      <td>3.83141762452107</td>\n",
       "    </tr>\n",
       "    <tr>\n",
       "      <th>4226</th>\n",
       "      <td>20220322021500-646</td>\n",
       "      <td>{Americans, United States, America}</td>\n",
       "      <td>{David Massey, Valuewalk Pixaline, Warren Buffett, Larry Fink}</td>\n",
       "      <td>{'nvidia': 1, 'nasdaq': 13, 'tesla': 1, 'home depot': 1, 'meta platforms': 1, 'blackrock': 15, 'clearway': 2, 'apple': 1}</td>\n",
       "      <td>1.97250448296473</td>\n",
       "      <td>3.82546323968918</td>\n",
       "      <td>1.85295875672445</td>\n",
       "      <td>5.67842199641363</td>\n",
       "    </tr>\n",
       "    <tr>\n",
       "      <th>933</th>\n",
       "      <td>20220115104500-470</td>\n",
       "      <td>{Chinese}</td>\n",
       "      <td>NaN</td>\n",
       "      <td>{'gamestop': 3, 'ocugen': 1, 'tesla': 1, 'meta platforms': 2}</td>\n",
       "      <td>0.28735632183908</td>\n",
       "      <td>1.72413793103448</td>\n",
       "      <td>1.4367816091954</td>\n",
       "      <td>3.16091954022989</td>\n",
       "    </tr>\n",
       "    <tr>\n",
       "      <th>7154</th>\n",
       "      <td>20220406223000-T823</td>\n",
       "      <td>{New York, United States, United States}</td>\n",
       "      <td>{Donald Trump, Elon Musk}</td>\n",
       "      <td>{'twitter': 24, 'tesla': 1}</td>\n",
       "      <td>-2.42914979757085</td>\n",
       "      <td>1.72064777327935</td>\n",
       "      <td>4.1497975708502</td>\n",
       "      <td>5.87044534412955</td>\n",
       "    </tr>\n",
       "    <tr>\n",
       "      <th>7120</th>\n",
       "      <td>20220313004500-T560</td>\n",
       "      <td>{Russian, Serbian, Qatar, Hollywood, California, United States, Serbia, Ukraine, Belgrade, Serbia (General), }</td>\n",
       "      <td>NaN</td>\n",
       "      <td>{'tesla': 1}</td>\n",
       "      <td>9.1970802919708</td>\n",
       "      <td>11.8248175182482</td>\n",
       "      <td>2.62773722627737</td>\n",
       "      <td>14.4525547445255</td>\n",
       "    </tr>\n",
       "    <tr>\n",
       "      <th>4239</th>\n",
       "      <td>20220208093000-964</td>\n",
       "      <td>{California, United States, Michigan, United States}</td>\n",
       "      <td>{Tesla Cybertruck, Teejay Boris, Elon Musk, Sawyer Merritt}</td>\n",
       "      <td>{'twitter': 1, 'tesla': 2}</td>\n",
       "      <td>-1.83206106870229</td>\n",
       "      <td>1.06870229007634</td>\n",
       "      <td>2.90076335877863</td>\n",
       "      <td>3.96946564885496</td>\n",
       "    </tr>\n",
       "    <tr>\n",
       "      <th>288</th>\n",
       "      <td>20211222081500-489</td>\n",
       "      <td>{Berlin, Berlin, Germany, Germany, German}</td>\n",
       "      <td>{Axel Vogel}</td>\n",
       "      <td>{'tesla': 1}</td>\n",
       "      <td>-0.72463768115942</td>\n",
       "      <td>1.44927536231884</td>\n",
       "      <td>2.17391304347826</td>\n",
       "      <td>3.6231884057971</td>\n",
       "    </tr>\n",
       "    <tr>\n",
       "      <th>1899</th>\n",
       "      <td>20220202040000-584</td>\n",
       "      <td>{California, United States, Alameda County, California, United States, Americans, American}</td>\n",
       "      <td>{Tesla Lathrop, Owen Diaz, Kaylen Barker, Bernard Alexander, Tesla Fremont}</td>\n",
       "      <td>{'tesla': 1}</td>\n",
       "      <td>-7.04761904761905</td>\n",
       "      <td>1.33333333333333</td>\n",
       "      <td>8.38095238095238</td>\n",
       "      <td>9.71428571428571</td>\n",
       "    </tr>\n",
       "  </tbody>\n",
       "</table>\n",
       "</div>"
      ],
      "text/plain": [
       "              GKGRECORDID  \\\n",
       "1011   20220104080000-510   \n",
       "4979  20220126100000-1142   \n",
       "5695   20220214080000-869   \n",
       "4226   20220322021500-646   \n",
       "933    20220115104500-470   \n",
       "7154  20220406223000-T823   \n",
       "7120  20220313004500-T560   \n",
       "4239   20220208093000-964   \n",
       "288    20211222081500-489   \n",
       "1899   20220202040000-584   \n",
       "\n",
       "                                                                                                                                                                                                    Locations  \\\n",
       "1011                                   {Beijing, Beijing, China, Shanghai, Shanghai, China, American, Washington, Washington, United States, United States, Taiwan, China, Chinese, Xinjiang, Jiangxi, China}   \n",
       "4979  {Fremont, California, United States, South Carolina, United States, Japanese, Spartanburg, South Carolina, United States, Shanghai, Shanghai, China, American, Germany, Berlin, Berlin, Germany, Chi...   \n",
       "5695                                                                                                                                                    {Tokyo, Tokyo, Japan, Japan, Japanese, United States}   \n",
       "4226                                                                                                                                                                      {Americans, United States, America}   \n",
       "933                                                                                                                                                                                                 {Chinese}   \n",
       "7154                                                                                                                                                                 {New York, United States, United States}   \n",
       "7120                                                                                           {Russian, Serbian, Qatar, Hollywood, California, United States, Serbia, Ukraine, Belgrade, Serbia (General), }   \n",
       "4239                                                                                                                                                     {California, United States, Michigan, United States}   \n",
       "288                                                                                                                                                                {Berlin, Berlin, Germany, Germany, German}   \n",
       "1899                                                                                                              {California, United States, Alameda County, California, United States, Americans, American}   \n",
       "\n",
       "                                                                          Persons  \\\n",
       "1011                                                  {Elon Musk, Ibrahim Hooper}   \n",
       "4979                                                                          NaN   \n",
       "5695                     {Satoko Matsushima, Hideyuki Ishiguro, Mitsushige Akino}   \n",
       "4226               {David Massey, Valuewalk Pixaline, Warren Buffett, Larry Fink}   \n",
       "933                                                                           NaN   \n",
       "7154                                                    {Donald Trump, Elon Musk}   \n",
       "7120                                                                          NaN   \n",
       "4239                  {Tesla Cybertruck, Teejay Boris, Elon Musk, Sawyer Merritt}   \n",
       "288                                                                  {Axel Vogel}   \n",
       "1899  {Tesla Lathrop, Owen Diaz, Kaylen Barker, Bernard Alexander, Tesla Fremont}   \n",
       "\n",
       "                                                                                                                  Organizations  \\\n",
       "1011                                                                                                 {'walmart': 3, 'tesla': 1}   \n",
       "4979                                                                                                               {'tesla': 1}   \n",
       "5695                                                                                                               {'tesla': 1}   \n",
       "4226  {'nvidia': 1, 'nasdaq': 13, 'tesla': 1, 'home depot': 1, 'meta platforms': 1, 'blackrock': 15, 'clearway': 2, 'apple': 1}   \n",
       "933                                                               {'gamestop': 3, 'ocugen': 1, 'tesla': 1, 'meta platforms': 2}   \n",
       "7154                                                                                                {'twitter': 24, 'tesla': 1}   \n",
       "7120                                                                                                               {'tesla': 1}   \n",
       "4239                                                                                                 {'twitter': 1, 'tesla': 2}   \n",
       "288                                                                                                                {'tesla': 1}   \n",
       "1899                                                                                                               {'tesla': 1}   \n",
       "\n",
       "                AvgTone          PosScore          NegScore          Polarity  \n",
       "1011   -4.0920716112532   2.0460358056266   6.1381074168798  8.18414322250639  \n",
       "4979                  0  1.56599552572707  1.56599552572707  3.13199105145414  \n",
       "5695  0.255427841634738  2.04342273307791  1.78799489144317  3.83141762452107  \n",
       "4226   1.97250448296473  3.82546323968918  1.85295875672445  5.67842199641363  \n",
       "933    0.28735632183908  1.72413793103448   1.4367816091954  3.16091954022989  \n",
       "7154  -2.42914979757085  1.72064777327935   4.1497975708502  5.87044534412955  \n",
       "7120    9.1970802919708  11.8248175182482  2.62773722627737  14.4525547445255  \n",
       "4239  -1.83206106870229  1.06870229007634  2.90076335877863  3.96946564885496  \n",
       "288   -0.72463768115942  1.44927536231884  2.17391304347826   3.6231884057971  \n",
       "1899  -7.04761904761905  1.33333333333333  8.38095238095238  9.71428571428571  "
      ]
     },
     "execution_count": 20,
     "metadata": {},
     "output_type": "execute_result"
    }
   ],
   "source": [
    "gdelt_df.sample(10)"
   ]
  },
  {
   "cell_type": "code",
   "execution_count": 21,
   "id": "307f5ae6",
   "metadata": {
    "execution": {
     "iopub.execute_input": "2022-04-18T04:41:20.737260Z",
     "iopub.status.busy": "2022-04-18T04:41:20.737065Z",
     "iopub.status.idle": "2022-04-18T04:41:20.832128Z",
     "shell.execute_reply": "2022-04-18T04:41:20.831634Z"
    },
    "papermill": {
     "duration": 0.112283,
     "end_time": "2022-04-18T04:41:20.833629",
     "exception": false,
     "start_time": "2022-04-18T04:41:20.721346",
     "status": "completed"
    },
    "tags": []
   },
   "outputs": [
    {
     "name": "stdout",
     "output_type": "stream",
     "text": [
      "Saved file /Users/aiujdm2/market_watch/output/data/interim/gdelt_gkg_data-cleaned.csv\n"
     ]
    }
   ],
   "source": [
    "output_file_path = product['data']\n",
    "Path(output_file_path).parent.mkdir(exist_ok=True, parents=True)\n",
    "gdelt_df.to_csv(output_file_path)\n",
    "print(f\"Saved file {output_file_path}\")"
   ]
  },
  {
   "cell_type": "code",
   "execution_count": 22,
   "id": "84018d03",
   "metadata": {
    "execution": {
     "iopub.execute_input": "2022-04-18T04:41:20.863773Z",
     "iopub.status.busy": "2022-04-18T04:41:20.863616Z",
     "iopub.status.idle": "2022-04-18T04:41:20.869647Z",
     "shell.execute_reply": "2022-04-18T04:41:20.869181Z"
    },
    "papermill": {
     "duration": 0.022741,
     "end_time": "2022-04-18T04:41:20.871209",
     "exception": false,
     "start_time": "2022-04-18T04:41:20.848468",
     "status": "completed"
    },
    "tags": []
   },
   "outputs": [],
   "source": [
    "del gdelt_df, securities_df"
   ]
  },
  {
   "cell_type": "code",
   "execution_count": null,
   "id": "5068b29e",
   "metadata": {
    "papermill": {
     "duration": 0.014211,
     "end_time": "2022-04-18T04:41:20.901115",
     "exception": false,
     "start_time": "2022-04-18T04:41:20.886904",
     "status": "completed"
    },
    "tags": []
   },
   "outputs": [],
   "source": []
  }
 ],
 "metadata": {
  "jupytext": {
   "cell_metadata_filter": "tags,-all",
   "main_language": "python",
   "notebook_metadata_filter": "-all",
   "text_representation": {
    "extension": ".py",
    "format_name": "light"
   }
  },
  "kernelspec": {
   "display_name": "Python 3 (ipykernel)",
   "language": "python",
   "name": "python3"
  },
  "language_info": {
   "codemirror_mode": {
    "name": "ipython",
    "version": 3
   },
   "file_extension": ".py",
   "mimetype": "text/x-python",
   "name": "python",
   "nbconvert_exporter": "python",
   "pygments_lexer": "ipython3",
   "version": "3.9.10"
  },
  "papermill": {
   "duration": 58.553368,
   "end_time": "2022-04-18T04:41:21.442851",
   "exception": null,
   "input_path": "/var/folders/b0/4tc1nfbd6z7_vhx4nxcj2n91c0l9h6/T/tmptxhdcjt9.ipynb",
   "output_path": "/Users/aiujdm2/market_watch/output/notebooks/clean_gdelt_data.ipynb",
   "parameters": {
    "product": {
     "data": "/Users/aiujdm2/market_watch/output/data/interim/gdelt_gkg_data-cleaned.csv",
     "nb": "/Users/aiujdm2/market_watch/output/notebooks/clean_gdelt_data.ipynb"
    },
    "upstream": {
     "fetch_n_filter_gdelt_bq": {
      "data": "/Users/aiujdm2/market_watch/output/data/raw/gdelt_gkg_bqdata-raw.csv",
      "nb": "/Users/aiujdm2/market_watch/output/notebooks/fetch_n_filter_gdelt_bq.ipynb"
     },
     "normalize_security_names": {
      "data": "/Users/aiujdm2/market_watch/output/data/interim/normalized_security_names.csv",
      "nb": "/Users/aiujdm2/market_watch/output/notebooks/normalize_security_names.ipynb"
     }
    }
   },
   "start_time": "2022-04-18T04:40:22.889483"
  }
 },
 "nbformat": 4,
 "nbformat_minor": 5
}