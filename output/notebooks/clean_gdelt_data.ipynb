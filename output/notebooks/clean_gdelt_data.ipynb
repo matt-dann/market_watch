{
 "cells": [
  {
   "cell_type": "code",
   "execution_count": 1,
   "id": "0d0f7db0",
   "metadata": {
    "execution": {
     "iopub.execute_input": "2022-03-23T16:37:38.720690Z",
     "iopub.status.busy": "2022-03-23T16:37:38.720398Z",
     "iopub.status.idle": "2022-03-23T16:37:38.728236Z",
     "shell.execute_reply": "2022-03-23T16:37:38.727619Z"
    },
    "papermill": {
     "duration": 0.023443,
     "end_time": "2022-03-23T16:37:38.730246",
     "exception": false,
     "start_time": "2022-03-23T16:37:38.706803",
     "status": "completed"
    },
    "tags": [
     "parameters"
    ]
   },
   "outputs": [],
   "source": [
    "# your parameters here...\n",
    "upstream = ['fetch_n_filter_gdelt_bq']"
   ]
  },
  {
   "cell_type": "code",
   "execution_count": 2,
   "id": "7afca5e2",
   "metadata": {
    "execution": {
     "iopub.execute_input": "2022-03-23T16:37:38.751959Z",
     "iopub.status.busy": "2022-03-23T16:37:38.751725Z",
     "iopub.status.idle": "2022-03-23T16:37:38.755535Z",
     "shell.execute_reply": "2022-03-23T16:37:38.754944Z"
    },
    "papermill": {
     "duration": 0.016638,
     "end_time": "2022-03-23T16:37:38.757493",
     "exception": false,
     "start_time": "2022-03-23T16:37:38.740855",
     "status": "completed"
    },
    "tags": [
     "injected-parameters"
    ]
   },
   "outputs": [],
   "source": [
    "# Parameters\n",
    "path_params = {\"sp_500_path\": \"data/external/\"}\n",
    "upstream = {\n",
    "    \"fetch_n_filter_gdelt_bq\": {\n",
    "        \"nb\": \"/Users/aiujdm2/market_watch/output/notebooks/fetch_n_filter_gdelt_bq.ipynb\",\n",
    "        \"data\": \"/Users/aiujdm2/market_watch/output/data/raw/gdelt-gkg-bq.csv\",\n",
    "    }\n",
    "}\n",
    "product = {\n",
    "    \"nb\": \"/Users/aiujdm2/market_watch/output/notebooks/clean_gdelt_data.ipynb\",\n",
    "    \"data\": \"/Users/aiujdm2/market_watch/output/data/interim/cleaned-gdelt-data.csv\",\n",
    "}\n"
   ]
  },
  {
   "cell_type": "code",
   "execution_count": 3,
   "id": "29d2257e",
   "metadata": {
    "execution": {
     "iopub.execute_input": "2022-03-23T16:37:38.776807Z",
     "iopub.status.busy": "2022-03-23T16:37:38.776580Z",
     "iopub.status.idle": "2022-03-23T16:37:39.044284Z",
     "shell.execute_reply": "2022-03-23T16:37:39.043106Z"
    },
    "papermill": {
     "duration": 0.279711,
     "end_time": "2022-03-23T16:37:39.046498",
     "exception": false,
     "start_time": "2022-03-23T16:37:38.766787",
     "status": "completed"
    },
    "tags": []
   },
   "outputs": [],
   "source": [
    "# your code here...\n",
    "import pandas as pd\n",
    "import numpy as np\n",
    "from pathlib import Path\n",
    "\n",
    "pd.options.display.max_colwidth = 200"
   ]
  },
  {
   "cell_type": "code",
   "execution_count": 4,
   "id": "dce0e260",
   "metadata": {
    "execution": {
     "iopub.execute_input": "2022-03-23T16:37:39.062142Z",
     "iopub.status.busy": "2022-03-23T16:37:39.061981Z",
     "iopub.status.idle": "2022-03-23T16:37:39.070145Z",
     "shell.execute_reply": "2022-03-23T16:37:39.069750Z"
    },
    "papermill": {
     "duration": 0.017624,
     "end_time": "2022-03-23T16:37:39.071762",
     "exception": false,
     "start_time": "2022-03-23T16:37:39.054138",
     "status": "completed"
    },
    "tags": []
   },
   "outputs": [
    {
     "name": "stdout",
     "output_type": "stream",
     "text": [
      "Index(['GKGRECORDID', 'DATE', 'SourceCollectionIdentifier',\n",
      "       'DocumentIdentifier', 'Locations', 'Persons', 'Organizations', 'Tone'],\n",
      "      dtype='object')\n"
     ]
    }
   ],
   "source": [
    "input_file_path = upstream['fetch_n_filter_gdelt_bq']['data']\n",
    "\n",
    "data_df = pd.read_csv(input_file_path, index_col=0)\n",
    "print(data_df.columns)"
   ]
  },
  {
   "cell_type": "code",
   "execution_count": 5,
   "id": "b190a957",
   "metadata": {
    "execution": {
     "iopub.execute_input": "2022-03-23T16:37:39.087882Z",
     "iopub.status.busy": "2022-03-23T16:37:39.087700Z",
     "iopub.status.idle": "2022-03-23T16:37:39.093350Z",
     "shell.execute_reply": "2022-03-23T16:37:39.092940Z"
    },
    "lines_to_next_cell": 2,
    "papermill": {
     "duration": 0.015711,
     "end_time": "2022-03-23T16:37:39.094938",
     "exception": false,
     "start_time": "2022-03-23T16:37:39.079227",
     "status": "completed"
    },
    "tags": []
   },
   "outputs": [],
   "source": [
    "def split_locations(location_list):\n",
    "    location_names = []\n",
    "    if type(location_list) is not float:\n",
    "        for location_string in location_list:\n",
    "            loc_parts = location_string.split('#')\n",
    "            location_names.append(loc_parts[1]) if len(loc_parts) > 1 else np.nan\n",
    "            \n",
    "    return location_names\n",
    "\n",
    "data_df.Locations = data_df.Locations.str.split(';').apply(split_locations)"
   ]
  },
  {
   "cell_type": "code",
   "execution_count": 6,
   "id": "2e0349c0",
   "metadata": {
    "execution": {
     "iopub.execute_input": "2022-03-23T16:37:39.111417Z",
     "iopub.status.busy": "2022-03-23T16:37:39.111263Z",
     "iopub.status.idle": "2022-03-23T16:37:39.114566Z",
     "shell.execute_reply": "2022-03-23T16:37:39.114157Z"
    },
    "papermill": {
     "duration": 0.013296,
     "end_time": "2022-03-23T16:37:39.116124",
     "exception": false,
     "start_time": "2022-03-23T16:37:39.102828",
     "status": "completed"
    },
    "tags": []
   },
   "outputs": [],
   "source": [
    "#  Clean some data elements\n",
    "data_df.Persons = data_df.Persons.str.findall(pat=\"[A-Z][a-z]+ [A-Z][a-z]+\")"
   ]
  },
  {
   "cell_type": "code",
   "execution_count": 7,
   "id": "aa14df26",
   "metadata": {
    "execution": {
     "iopub.execute_input": "2022-03-23T16:37:39.132572Z",
     "iopub.status.busy": "2022-03-23T16:37:39.132419Z",
     "iopub.status.idle": "2022-03-23T16:37:39.134557Z",
     "shell.execute_reply": "2022-03-23T16:37:39.134125Z"
    },
    "papermill": {
     "duration": 0.012299,
     "end_time": "2022-03-23T16:37:39.136152",
     "exception": false,
     "start_time": "2022-03-23T16:37:39.123853",
     "status": "completed"
    },
    "tags": []
   },
   "outputs": [],
   "source": [
    "# data_df.Organizations = data_df.Organizations.str.replace(\"Tesla|Tesla Motors|Tesla Inc\", '').str.findall(pat=\"[A-Z][a-z]+ [A-Z][a-z]+\")"
   ]
  },
  {
   "cell_type": "code",
   "execution_count": 8,
   "id": "fa76421a",
   "metadata": {
    "execution": {
     "iopub.execute_input": "2022-03-23T16:37:39.152626Z",
     "iopub.status.busy": "2022-03-23T16:37:39.152475Z",
     "iopub.status.idle": "2022-03-23T16:37:39.155705Z",
     "shell.execute_reply": "2022-03-23T16:37:39.155297Z"
    },
    "papermill": {
     "duration": 0.013306,
     "end_time": "2022-03-23T16:37:39.157237",
     "exception": false,
     "start_time": "2022-03-23T16:37:39.143931",
     "status": "completed"
    },
    "tags": []
   },
   "outputs": [],
   "source": [
    "data_df.Tone = data_df.Tone.str.split(',')"
   ]
  },
  {
   "cell_type": "code",
   "execution_count": 9,
   "id": "5361460e",
   "metadata": {
    "execution": {
     "iopub.execute_input": "2022-03-23T16:37:39.173898Z",
     "iopub.status.busy": "2022-03-23T16:37:39.173732Z",
     "iopub.status.idle": "2022-03-23T16:37:39.178857Z",
     "shell.execute_reply": "2022-03-23T16:37:39.178419Z"
    },
    "papermill": {
     "duration": 0.015225,
     "end_time": "2022-03-23T16:37:39.180373",
     "exception": false,
     "start_time": "2022-03-23T16:37:39.165148",
     "status": "completed"
    },
    "tags": []
   },
   "outputs": [],
   "source": [
    "# Clean Tone\n",
    "data_df['AvgTone'] = data_df.Tone.apply(lambda x: x[0])\n",
    "data_df['PosScore'] = data_df.Tone.apply(lambda x: x[1])\n",
    "data_df['NegScore'] = data_df.Tone.apply(lambda x: x[2])\n",
    "data_df['Polarity'] = data_df.Tone.apply(lambda x: x[3])"
   ]
  },
  {
   "cell_type": "code",
   "execution_count": 10,
   "id": "4f0ebd75",
   "metadata": {
    "execution": {
     "iopub.execute_input": "2022-03-23T16:37:39.197335Z",
     "iopub.status.busy": "2022-03-23T16:37:39.197172Z",
     "iopub.status.idle": "2022-03-23T16:37:39.206628Z",
     "shell.execute_reply": "2022-03-23T16:37:39.206190Z"
    },
    "lines_to_end_of_cell_marker": 0,
    "lines_to_next_cell": 1,
    "papermill": {
     "duration": 0.019706,
     "end_time": "2022-03-23T16:37:39.208064",
     "exception": false,
     "start_time": "2022-03-23T16:37:39.188358",
     "status": "completed"
    },
    "tags": []
   },
   "outputs": [],
   "source": [
    "threshold = 1\n",
    "path = path_params['sp_500_path'] + 'sp500_list.xlsx'\n",
    "\n",
    "\n",
    "def get_rel_company_names(path):\n",
    "    rel_company = pd.read_excel(path)\n",
    "    rel_company = rel_company['Security']\n",
    "    expand_rel_company = {}\n",
    "    for company in rel_company:\n",
    "        company = company.lower()\n",
    "        company_name_list = []\n",
    "        company_name_list.append(company)\n",
    "        for postfix in ['inc', 'inc.', 'incorporation', 'corp.', 'corp', 'corporation']:\n",
    "            if postfix in company_name_list[0]:\n",
    "                break\n",
    "        for postfix in ['inc', 'incorporation', 'corp', 'corporation']:\n",
    "            company_name_list.append(company_name_list[0] + ' ' + postfix)\n",
    "        words = company.split(' ')\n",
    "        for n in range(1, len(words)):\n",
    "            if words[0:n] not in company_name_list:\n",
    "                company_name_list.append(' '.join(words[0:n]))\n",
    "        expand_rel_company.update({company: company_name_list})\n",
    "    return expand_rel_company\n",
    "\n",
    "\n",
    "def filter_org_col(org_cell, rel_comp_dict, threshold):\n",
    "    result_dict = {}\n",
    "    if org_cell != None:\n",
    "        try:\n",
    "            org_cell.split(';')\n",
    "        except:\n",
    "            print(org_cell)\n",
    "        for item in org_cell.split(';'):\n",
    "            word = item.split(',')[0]\n",
    "            rel_company_names = [val for list_ in rel_comp_dict.values() for val in list_]\n",
    "            if word in rel_company_names:\n",
    "                for key, names_list in rel_comp_dict.items():\n",
    "                    if word in names_list:\n",
    "                        if key in result_dict.keys():\n",
    "                            result_dict.update({key: result_dict[key] + 1})\n",
    "                        else:\n",
    "                            result_dict.update({key : 1})\n",
    "            else:\n",
    "                if word in result_dict.keys():\n",
    "                    result_dict.update({word : result_dict[word] +1})\n",
    "                else:\n",
    "                    result_dict.update({word : 1})\n",
    "    result_dict = {key: val for key, val in result_dict.items() if val >= threshold}\n",
    "    return result_dict\n",
    "\n",
    "\n",
    "def extract_company_articles(df, path, threshold):\n",
    "    '''\n",
    "    Ectract all article that contain company_name from csv files.\n",
    "    Parameters:\n",
    "        Company_name= main company to filter for\n",
    "        path= path to GDELT csv's\n",
    "        path2= path to list to SP500 csv\n",
    "        threshold= minimum count for related company to be included\n",
    "    '''\n",
    "    rel_company_dict = get_rel_company_names(path)\n",
    "    df['Org Count'] = df['Organizations'].map(lambda x: filter_org_col(x, rel_company_dict, threshold), na_action='ignore')\n",
    "\n",
    "    return df\n"
   ]
  },
  {
   "cell_type": "code",
   "execution_count": 11,
   "id": "6dc8ecdc",
   "metadata": {
    "execution": {
     "iopub.execute_input": "2022-03-23T16:37:39.225048Z",
     "iopub.status.busy": "2022-03-23T16:37:39.224888Z",
     "iopub.status.idle": "2022-03-23T16:37:39.708645Z",
     "shell.execute_reply": "2022-03-23T16:37:39.707803Z"
    },
    "papermill": {
     "duration": 0.494439,
     "end_time": "2022-03-23T16:37:39.710570",
     "exception": false,
     "start_time": "2022-03-23T16:37:39.216131",
     "status": "completed"
    },
    "tags": []
   },
   "outputs": [
    {
     "name": "stdout",
     "output_type": "stream",
     "text": [
      "CPU times: user 421 ms, sys: 29 ms, total: 450 ms\n",
      "Wall time: 480 ms\n"
     ]
    }
   ],
   "source": [
    "%%time\n",
    "data_df = extract_company_articles(data_df, path, threshold)"
   ]
  },
  {
   "cell_type": "code",
   "execution_count": 12,
   "id": "56a443ac",
   "metadata": {
    "execution": {
     "iopub.execute_input": "2022-03-23T16:37:39.728440Z",
     "iopub.status.busy": "2022-03-23T16:37:39.728207Z",
     "iopub.status.idle": "2022-03-23T16:37:39.732816Z",
     "shell.execute_reply": "2022-03-23T16:37:39.732290Z"
    },
    "lines_to_next_cell": 2,
    "papermill": {
     "duration": 0.015689,
     "end_time": "2022-03-23T16:37:39.734610",
     "exception": false,
     "start_time": "2022-03-23T16:37:39.718921",
     "status": "completed"
    },
    "tags": []
   },
   "outputs": [],
   "source": [
    "data_df.drop([\"Tone\", \"DATE\", \"SourceCollectionIdentifier\", \"DocumentIdentifier\"], axis = 1, inplace=True)"
   ]
  },
  {
   "cell_type": "code",
   "execution_count": 13,
   "id": "0b8b9864",
   "metadata": {
    "execution": {
     "iopub.execute_input": "2022-03-23T16:37:39.753269Z",
     "iopub.status.busy": "2022-03-23T16:37:39.752720Z",
     "iopub.status.idle": "2022-03-23T16:37:39.761114Z",
     "shell.execute_reply": "2022-03-23T16:37:39.760499Z"
    },
    "papermill": {
     "duration": 0.019619,
     "end_time": "2022-03-23T16:37:39.763073",
     "exception": false,
     "start_time": "2022-03-23T16:37:39.743454",
     "status": "completed"
    },
    "tags": []
   },
   "outputs": [
    {
     "name": "stdout",
     "output_type": "stream",
     "text": [
      "Saved file /Users/aiujdm2/market_watch/output/data/interim/cleaned-gdelt-data.csv\n"
     ]
    }
   ],
   "source": [
    "output_file_path = product['data']\n",
    "Path(output_file_path).parent.mkdir(exist_ok=True, parents=True)\n",
    "data_df.to_csv(output_file_path)\n",
    "print(f\"Saved file {output_file_path}\")"
   ]
  },
  {
   "cell_type": "code",
   "execution_count": null,
   "id": "e3a36aff",
   "metadata": {
    "papermill": {
     "duration": 0.008171,
     "end_time": "2022-03-23T16:37:39.779701",
     "exception": false,
     "start_time": "2022-03-23T16:37:39.771530",
     "status": "completed"
    },
    "tags": []
   },
   "outputs": [],
   "source": []
  }
 ],
 "metadata": {
  "jupytext": {
   "cell_metadata_filter": "tags,-all",
   "main_language": "python",
   "notebook_metadata_filter": "-all",
   "text_representation": {
    "extension": ".py",
    "format_name": "light"
   }
  },
  "kernelspec": {
   "display_name": "Python 3 (ipykernel)",
   "language": "python",
   "name": "python3"
  },
  "language_info": {
   "codemirror_mode": {
    "name": "ipython",
    "version": 3
   },
   "file_extension": ".py",
   "mimetype": "text/x-python",
   "name": "python",
   "nbconvert_exporter": "python",
   "pygments_lexer": "ipython3",
   "version": "3.9.10"
  },
  "papermill": {
   "duration": 2.303503,
   "end_time": "2022-03-23T16:37:40.007703",
   "exception": null,
   "input_path": "/var/folders/b0/4tc1nfbd6z7_vhx4nxcj2n91c0l9h6/T/tmps5lc2cps.ipynb",
   "output_path": "/Users/aiujdm2/market_watch/output/notebooks/clean_gdelt_data.ipynb",
   "parameters": {
    "path_params": {
     "sp_500_path": "data/external/"
    },
    "product": {
     "data": "/Users/aiujdm2/market_watch/output/data/interim/cleaned-gdelt-data.csv",
     "nb": "/Users/aiujdm2/market_watch/output/notebooks/clean_gdelt_data.ipynb"
    },
    "upstream": {
     "fetch_n_filter_gdelt_bq": {
      "data": "/Users/aiujdm2/market_watch/output/data/raw/gdelt-gkg-bq.csv",
      "nb": "/Users/aiujdm2/market_watch/output/notebooks/fetch_n_filter_gdelt_bq.ipynb"
     }
    }
   },
   "start_time": "2022-03-23T16:37:37.704200"
  }
 },
 "nbformat": 4,
 "nbformat_minor": 5
}