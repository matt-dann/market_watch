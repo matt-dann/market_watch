{
 "cells": [
  {
   "cell_type": "code",
   "execution_count": 1,
   "id": "9067821b",
   "metadata": {
    "execution": {
     "iopub.execute_input": "2022-04-19T17:45:07.683049Z",
     "iopub.status.busy": "2022-04-19T17:45:07.682385Z",
     "iopub.status.idle": "2022-04-19T17:45:07.702242Z",
     "shell.execute_reply": "2022-04-19T17:45:07.701037Z"
    },
    "papermill": {
     "duration": 0.040546,
     "end_time": "2022-04-19T17:45:07.704435",
     "exception": false,
     "start_time": "2022-04-19T17:45:07.663889",
     "status": "completed"
    },
    "tags": [
     "parameters"
    ]
   },
   "outputs": [],
   "source": [
    "# your parameters here...\n",
    "upstream = ['fetch_n_filter_gdelt_bq', 'normalize_security_names']"
   ]
  },
  {
   "cell_type": "code",
   "execution_count": 2,
   "id": "5a184b6a",
   "metadata": {
    "execution": {
     "iopub.execute_input": "2022-04-19T17:45:07.718057Z",
     "iopub.status.busy": "2022-04-19T17:45:07.717744Z",
     "iopub.status.idle": "2022-04-19T17:45:07.724139Z",
     "shell.execute_reply": "2022-04-19T17:45:07.723133Z"
    },
    "papermill": {
     "duration": 0.015291,
     "end_time": "2022-04-19T17:45:07.726174",
     "exception": false,
     "start_time": "2022-04-19T17:45:07.710883",
     "status": "completed"
    },
    "tags": [
     "injected-parameters"
    ]
   },
   "outputs": [],
   "source": [
    "# Parameters\n",
    "upstream = {\n",
    "    \"fetch_n_filter_gdelt_bq\": {\n",
    "        \"nb\": \"/root/market_watch/output/notebooks/fetch_n_filter_gdelt_bq.ipynb\",\n",
    "        \"data\": \"/root/market_watch/output/data/raw/gdelt_gkg_bqdata-raw.csv\",\n",
    "    },\n",
    "    \"normalize_security_names\": {\n",
    "        \"nb\": \"/root/market_watch/output/notebooks/normalize_security_names.ipynb\",\n",
    "        \"data\": \"/root/market_watch/output/data/interim/normalized_security_names.csv\",\n",
    "    },\n",
    "}\n",
    "product = {\n",
    "    \"nb\": \"/root/market_watch/output/notebooks/clean_gdelt_data.ipynb\",\n",
    "    \"data\": \"/root/market_watch/output/data/interim/gdelt_gkg_data-cleaned.csv\",\n",
    "}\n"
   ]
  },
  {
   "cell_type": "code",
   "execution_count": 3,
   "id": "ca7a7280",
   "metadata": {
    "execution": {
     "iopub.execute_input": "2022-04-19T17:45:07.735327Z",
     "iopub.status.busy": "2022-04-19T17:45:07.735139Z",
     "iopub.status.idle": "2022-04-19T17:45:08.498816Z",
     "shell.execute_reply": "2022-04-19T17:45:08.498171Z"
    },
    "papermill": {
     "duration": 0.76915,
     "end_time": "2022-04-19T17:45:08.500110",
     "exception": false,
     "start_time": "2022-04-19T17:45:07.730960",
     "status": "completed"
    },
    "tags": []
   },
   "outputs": [
    {
     "name": "stderr",
     "output_type": "stream",
     "text": [
      "[nltk_data] Downloading package wordnet to /root/nltk_data...\n",
      "[nltk_data]   Package wordnet is already up-to-date!\n",
      "[nltk_data] Downloading package stopwords to /root/nltk_data...\n",
      "[nltk_data]   Package stopwords is already up-to-date!\n",
      "[nltk_data] Downloading package omw-1.4 to /root/nltk_data...\n",
      "[nltk_data]   Package omw-1.4 is already up-to-date!\n"
     ]
    }
   ],
   "source": [
    "# your code here...\n",
    "import pandas as pd\n",
    "import numpy as np\n",
    "from pathlib import Path\n",
    "import nltk\n",
    "import time\n",
    "import re\n",
    "from time import time\n",
    "import json\n",
    "import ast\n",
    "from src.utils import preprocess_text\n",
    "from collections import Counter\n",
    "from src.utils import fuzz_similarity, preprocess_text\n",
    "from nltk.corpus import stopwords"
   ]
  },
  {
   "cell_type": "code",
   "execution_count": 4,
   "id": "36398520",
   "metadata": {
    "execution": {
     "iopub.execute_input": "2022-04-19T17:45:08.507736Z",
     "iopub.status.busy": "2022-04-19T17:45:08.507556Z",
     "iopub.status.idle": "2022-04-19T17:45:08.513046Z",
     "shell.execute_reply": "2022-04-19T17:45:08.512475Z"
    },
    "papermill": {
     "duration": 0.010822,
     "end_time": "2022-04-19T17:45:08.514178",
     "exception": false,
     "start_time": "2022-04-19T17:45:08.503356",
     "status": "completed"
    },
    "tags": []
   },
   "outputs": [
    {
     "name": "stderr",
     "output_type": "stream",
     "text": [
      "[nltk_data] Downloading package wordnet to /root/nltk_data...\n",
      "[nltk_data]   Package wordnet is already up-to-date!\n",
      "[nltk_data] Downloading package stopwords to /root/nltk_data...\n",
      "[nltk_data]   Package stopwords is already up-to-date!\n",
      "[nltk_data] Downloading package omw-1.4 to /root/nltk_data...\n",
      "[nltk_data]   Package omw-1.4 is already up-to-date!\n"
     ]
    }
   ],
   "source": [
    "nltk.download('wordnet')\n",
    "nltk.download('stopwords')\n",
    "nltk.download('omw-1.4')\n",
    "stops = set(stopwords.words('english'))\n",
    "pd.options.display.max_colwidth = 200"
   ]
  },
  {
   "cell_type": "code",
   "execution_count": 5,
   "id": "b34d66be",
   "metadata": {
    "execution": {
     "iopub.execute_input": "2022-04-19T17:45:08.521273Z",
     "iopub.status.busy": "2022-04-19T17:45:08.521113Z",
     "iopub.status.idle": "2022-04-19T17:45:08.524375Z",
     "shell.execute_reply": "2022-04-19T17:45:08.523757Z"
    },
    "papermill": {
     "duration": 0.008214,
     "end_time": "2022-04-19T17:45:08.525624",
     "exception": false,
     "start_time": "2022-04-19T17:45:08.517410",
     "status": "completed"
    },
    "tags": []
   },
   "outputs": [],
   "source": [
    "gdelt_file_path = upstream['fetch_n_filter_gdelt_bq']['data']\n",
    "securities_file_path = upstream['normalize_security_names']['data']"
   ]
  },
  {
   "cell_type": "code",
   "execution_count": 6,
   "id": "127e7c71",
   "metadata": {
    "execution": {
     "iopub.execute_input": "2022-04-19T17:45:08.533032Z",
     "iopub.status.busy": "2022-04-19T17:45:08.532857Z",
     "iopub.status.idle": "2022-04-19T17:45:08.643173Z",
     "shell.execute_reply": "2022-04-19T17:45:08.642510Z"
    },
    "papermill": {
     "duration": 0.115523,
     "end_time": "2022-04-19T17:45:08.644421",
     "exception": false,
     "start_time": "2022-04-19T17:45:08.528898",
     "status": "completed"
    },
    "tags": []
   },
   "outputs": [
    {
     "name": "stdout",
     "output_type": "stream",
     "text": [
      "<class 'pandas.core.frame.DataFrame'>\n",
      "Int64Index: 4477 entries, 1 to 9211\n",
      "Data columns (total 4 columns):\n",
      " #   Column       Non-Null Count  Dtype \n",
      "---  ------       --------------  ----- \n",
      " 0   cik          4477 non-null   int64 \n",
      " 1   ticker       4477 non-null   object\n",
      " 2   full_name    4477 non-null   object\n",
      " 3   former_name  4477 non-null   object\n",
      "dtypes: int64(1), object(3)\n",
      "memory usage: 174.9+ KB\n"
     ]
    }
   ],
   "source": [
    "gdelt_df = pd.read_csv(gdelt_file_path, index_col=0)\n",
    "securities_df = pd.read_csv(securities_file_path, index_col=0)\n",
    "securities_df.dropna(subset=['former_name'], inplace=True)\n",
    "securities_df.info()"
   ]
  },
  {
   "cell_type": "code",
   "execution_count": 7,
   "id": "95f18238",
   "metadata": {
    "execution": {
     "iopub.execute_input": "2022-04-19T17:45:08.652490Z",
     "iopub.status.busy": "2022-04-19T17:45:08.652320Z",
     "iopub.status.idle": "2022-04-19T17:45:08.660398Z",
     "shell.execute_reply": "2022-04-19T17:45:08.659835Z"
    },
    "papermill": {
     "duration": 0.013124,
     "end_time": "2022-04-19T17:45:08.661531",
     "exception": false,
     "start_time": "2022-04-19T17:45:08.648407",
     "status": "completed"
    },
    "tags": []
   },
   "outputs": [
    {
     "data": {
      "text/plain": [
       "Index(['GKGRECORDID', 'DATE', 'SourceCollectionIdentifier',\n",
       "       'DocumentIdentifier', 'Locations', 'Persons', 'Organizations', 'Tone'],\n",
       "      dtype='object')"
      ]
     },
     "execution_count": 7,
     "metadata": {},
     "output_type": "execute_result"
    }
   ],
   "source": [
    "gdelt_df.columns"
   ]
  },
  {
   "cell_type": "code",
   "execution_count": 8,
   "id": "adba6f39",
   "metadata": {
    "execution": {
     "iopub.execute_input": "2022-04-19T17:45:08.669313Z",
     "iopub.status.busy": "2022-04-19T17:45:08.669144Z",
     "iopub.status.idle": "2022-04-19T17:45:08.676829Z",
     "shell.execute_reply": "2022-04-19T17:45:08.676209Z"
    },
    "papermill": {
     "duration": 0.013224,
     "end_time": "2022-04-19T17:45:08.678062",
     "exception": false,
     "start_time": "2022-04-19T17:45:08.664838",
     "status": "completed"
    },
    "tags": []
   },
   "outputs": [
    {
     "data": {
      "text/html": [
       "<div>\n",
       "<style scoped>\n",
       "    .dataframe tbody tr th:only-of-type {\n",
       "        vertical-align: middle;\n",
       "    }\n",
       "\n",
       "    .dataframe tbody tr th {\n",
       "        vertical-align: top;\n",
       "    }\n",
       "\n",
       "    .dataframe thead th {\n",
       "        text-align: right;\n",
       "    }\n",
       "</style>\n",
       "<table border=\"1\" class=\"dataframe\">\n",
       "  <thead>\n",
       "    <tr style=\"text-align: right;\">\n",
       "      <th></th>\n",
       "      <th>cik</th>\n",
       "      <th>ticker</th>\n",
       "      <th>full_name</th>\n",
       "      <th>former_name</th>\n",
       "    </tr>\n",
       "  </thead>\n",
       "  <tbody>\n",
       "    <tr>\n",
       "      <th>1</th>\n",
       "      <td>1471727</td>\n",
       "      <td>BTTR</td>\n",
       "      <td>better choice</td>\n",
       "      <td>sport endurance</td>\n",
       "    </tr>\n",
       "    <tr>\n",
       "      <th>4</th>\n",
       "      <td>1513818</td>\n",
       "      <td>ARAV</td>\n",
       "      <td>aravive</td>\n",
       "      <td>versartis</td>\n",
       "    </tr>\n",
       "    <tr>\n",
       "      <th>5</th>\n",
       "      <td>1320854</td>\n",
       "      <td>RAIL</td>\n",
       "      <td>freightcar america</td>\n",
       "      <td>fca acquisition</td>\n",
       "    </tr>\n",
       "    <tr>\n",
       "      <th>8</th>\n",
       "      <td>1826000</td>\n",
       "      <td>LTCH</td>\n",
       "      <td>latch</td>\n",
       "      <td>ts innovation acquisitions</td>\n",
       "    </tr>\n",
       "    <tr>\n",
       "      <th>9</th>\n",
       "      <td>1707919</td>\n",
       "      <td>CENN</td>\n",
       "      <td>cenntro electric</td>\n",
       "      <td>naked brand</td>\n",
       "    </tr>\n",
       "  </tbody>\n",
       "</table>\n",
       "</div>"
      ],
      "text/plain": [
       "       cik ticker           full_name                 former_name\n",
       "1  1471727   BTTR       better choice             sport endurance\n",
       "4  1513818   ARAV             aravive                   versartis\n",
       "5  1320854   RAIL  freightcar america             fca acquisition\n",
       "8  1826000   LTCH               latch  ts innovation acquisitions\n",
       "9  1707919   CENN    cenntro electric                 naked brand"
      ]
     },
     "execution_count": 8,
     "metadata": {},
     "output_type": "execute_result"
    }
   ],
   "source": [
    "securities_df.head()"
   ]
  },
  {
   "cell_type": "code",
   "execution_count": 9,
   "id": "48b901de",
   "metadata": {
    "execution": {
     "iopub.execute_input": "2022-04-19T17:45:08.685793Z",
     "iopub.status.busy": "2022-04-19T17:45:08.685642Z",
     "iopub.status.idle": "2022-04-19T17:45:08.908594Z",
     "shell.execute_reply": "2022-04-19T17:45:08.908011Z"
    },
    "papermill": {
     "duration": 0.228425,
     "end_time": "2022-04-19T17:45:08.910042",
     "exception": false,
     "start_time": "2022-04-19T17:45:08.681617",
     "status": "completed"
    },
    "tags": []
   },
   "outputs": [],
   "source": [
    "#  drop rows where no organizations names were extracted\n",
    "gdelt_df = gdelt_df.dropna(subset=['Organizations'])\n",
    "gdelt_df = gdelt_df.replace(to_replace= ['Google', 'Facebook', 'YouTube', 'Youtube'], value=['alphabet', 'meta platforms', 'alphabet', 'alphabet'], regex=True)"
   ]
  },
  {
   "cell_type": "code",
   "execution_count": 10,
   "id": "b3f5612a",
   "metadata": {
    "execution": {
     "iopub.execute_input": "2022-04-19T17:45:08.918486Z",
     "iopub.status.busy": "2022-04-19T17:45:08.918322Z",
     "iopub.status.idle": "2022-04-19T17:45:08.957165Z",
     "shell.execute_reply": "2022-04-19T17:45:08.956565Z"
    },
    "papermill": {
     "duration": 0.044571,
     "end_time": "2022-04-19T17:45:08.958540",
     "exception": false,
     "start_time": "2022-04-19T17:45:08.913969",
     "status": "completed"
    },
    "tags": []
   },
   "outputs": [],
   "source": [
    "#  get rid of numeric position of org name mention by only extracting alpha names\n",
    "# Extract only names not the index\n",
    "gdelt_df.Organizations = gdelt_df.Organizations.map(lambda x: re.split(r',\\d+;?', x))"
   ]
  },
  {
   "cell_type": "code",
   "execution_count": 11,
   "id": "667a36ac",
   "metadata": {
    "execution": {
     "iopub.execute_input": "2022-04-19T17:45:08.966665Z",
     "iopub.status.busy": "2022-04-19T17:45:08.966489Z",
     "iopub.status.idle": "2022-04-19T17:46:00.594146Z",
     "shell.execute_reply": "2022-04-19T17:46:00.593451Z"
    },
    "papermill": {
     "duration": 51.633294,
     "end_time": "2022-04-19T17:46:00.595520",
     "exception": false,
     "start_time": "2022-04-19T17:45:08.962226",
     "status": "completed"
    },
    "tags": []
   },
   "outputs": [],
   "source": [
    "def preprocess_orgs(x):\n",
    "    return preprocess_text(x, eng=True)\n",
    "\n",
    "gdelt_df.Organizations = gdelt_df.Organizations.apply(preprocess_orgs)"
   ]
  },
  {
   "cell_type": "code",
   "execution_count": 12,
   "id": "d118cce5",
   "metadata": {
    "execution": {
     "iopub.execute_input": "2022-04-19T17:46:00.605643Z",
     "iopub.status.busy": "2022-04-19T17:46:00.604865Z",
     "iopub.status.idle": "2022-04-19T17:46:02.144543Z",
     "shell.execute_reply": "2022-04-19T17:46:02.143929Z"
    },
    "papermill": {
     "duration": 1.546032,
     "end_time": "2022-04-19T17:46:02.145986",
     "exception": false,
     "start_time": "2022-04-19T17:46:00.599954",
     "status": "completed"
    },
    "tags": []
   },
   "outputs": [],
   "source": [
    "gdelt_df.Organizations = gdelt_df.Organizations.replace(to_replace=securities_df.former_name.to_list(), value=securities_df.full_name.to_list())"
   ]
  },
  {
   "cell_type": "code",
   "execution_count": 13,
   "id": "c6596833",
   "metadata": {
    "execution": {
     "iopub.execute_input": "2022-04-19T17:46:02.154930Z",
     "iopub.status.busy": "2022-04-19T17:46:02.154754Z",
     "iopub.status.idle": "2022-04-19T17:46:02.170225Z",
     "shell.execute_reply": "2022-04-19T17:46:02.169669Z"
    },
    "papermill": {
     "duration": 0.021458,
     "end_time": "2022-04-19T17:46:02.171404",
     "exception": false,
     "start_time": "2022-04-19T17:46:02.149946",
     "status": "completed"
    },
    "tags": []
   },
   "outputs": [
    {
     "name": "stdout",
     "output_type": "stream",
     "text": [
      "<class 'pandas.core.frame.DataFrame'>\n",
      "Int64Index: 10666 entries, 0 to 10699\n",
      "Data columns (total 8 columns):\n",
      " #   Column                      Non-Null Count  Dtype \n",
      "---  ------                      --------------  ----- \n",
      " 0   GKGRECORDID                 10666 non-null  object\n",
      " 1   DATE                        10666 non-null  int64 \n",
      " 2   SourceCollectionIdentifier  10666 non-null  int64 \n",
      " 3   DocumentIdentifier          10666 non-null  object\n",
      " 4   Locations                   9098 non-null   object\n",
      " 5   Persons                     8518 non-null   object\n",
      " 6   Organizations               10666 non-null  object\n",
      " 7   Tone                        10666 non-null  object\n",
      "dtypes: int64(2), object(6)\n",
      "memory usage: 750.0+ KB\n"
     ]
    }
   ],
   "source": [
    "gdelt_df.info()"
   ]
  },
  {
   "cell_type": "code",
   "execution_count": 14,
   "id": "fffddf65",
   "metadata": {
    "execution": {
     "iopub.execute_input": "2022-04-19T17:46:02.179640Z",
     "iopub.status.busy": "2022-04-19T17:46:02.179484Z",
     "iopub.status.idle": "2022-04-19T17:46:02.220680Z",
     "shell.execute_reply": "2022-04-19T17:46:02.220114Z"
    },
    "lines_to_next_cell": 0,
    "papermill": {
     "duration": 0.046805,
     "end_time": "2022-04-19T17:46:02.221855",
     "exception": false,
     "start_time": "2022-04-19T17:46:02.175050",
     "status": "completed"
    },
    "tags": []
   },
   "outputs": [
    {
     "name": "stdout",
     "output_type": "stream",
     "text": [
      "<class 'pandas.core.frame.DataFrame'>\n",
      "Int64Index: 10666 entries, 0 to 10699\n",
      "Data columns (total 8 columns):\n",
      " #   Column                      Non-Null Count  Dtype \n",
      "---  ------                      --------------  ----- \n",
      " 0   GKGRECORDID                 10666 non-null  object\n",
      " 1   DATE                        10666 non-null  int64 \n",
      " 2   SourceCollectionIdentifier  10666 non-null  int64 \n",
      " 3   DocumentIdentifier          10666 non-null  object\n",
      " 4   Locations                   9098 non-null   object\n",
      " 5   Persons                     8518 non-null   object\n",
      " 6   Organizations               10666 non-null  object\n",
      " 7   Tone                        10666 non-null  object\n",
      "dtypes: int64(2), object(6)\n",
      "memory usage: 750.0+ KB\n"
     ]
    }
   ],
   "source": [
    "def count_orgs(x):\n",
    "    return x if type(x) is float or x is None or len(x) == 0 else Counter(x)\n",
    "\n",
    "gdelt_df.Organizations = gdelt_df.Organizations.apply(count_orgs)\n",
    "gdelt_df.dropna(subset=['Organizations'], inplace=True)\n",
    "gdelt_df.info()"
   ]
  },
  {
   "cell_type": "code",
   "execution_count": 15,
   "id": "bc8ceae2",
   "metadata": {
    "execution": {
     "iopub.execute_input": "2022-04-19T17:46:02.232436Z",
     "iopub.status.busy": "2022-04-19T17:46:02.232275Z",
     "iopub.status.idle": "2022-04-19T17:46:06.346899Z",
     "shell.execute_reply": "2022-04-19T17:46:06.346223Z"
    },
    "papermill": {
     "duration": 4.122806,
     "end_time": "2022-04-19T17:46:06.348289",
     "exception": false,
     "start_time": "2022-04-19T17:46:02.225483",
     "status": "completed"
    },
    "tags": []
   },
   "outputs": [],
   "source": [
    "securities_names = preprocess_text(securities_df.full_name)\n",
    "gdelt_df.Organizations = gdelt_df.Organizations.apply(lambda x: { key:x[key] for key in x.keys() if key in securities_names and key != 'Tooshorttext'})\n",
    "gdelt_df = gdelt_df[gdelt_df.Organizations.str.len() != 0]"
   ]
  },
  {
   "cell_type": "code",
   "execution_count": 16,
   "id": "51821f85",
   "metadata": {
    "execution": {
     "iopub.execute_input": "2022-04-19T17:46:06.357789Z",
     "iopub.status.busy": "2022-04-19T17:46:06.357610Z",
     "iopub.status.idle": "2022-04-19T17:46:06.370722Z",
     "shell.execute_reply": "2022-04-19T17:46:06.370080Z"
    },
    "papermill": {
     "duration": 0.019494,
     "end_time": "2022-04-19T17:46:06.372061",
     "exception": false,
     "start_time": "2022-04-19T17:46:06.352567",
     "status": "completed"
    },
    "tags": []
   },
   "outputs": [
    {
     "name": "stdout",
     "output_type": "stream",
     "text": [
      "<class 'pandas.core.frame.DataFrame'>\n",
      "Int64Index: 9042 entries, 0 to 10698\n",
      "Data columns (total 8 columns):\n",
      " #   Column                      Non-Null Count  Dtype \n",
      "---  ------                      --------------  ----- \n",
      " 0   GKGRECORDID                 9042 non-null   object\n",
      " 1   DATE                        9042 non-null   int64 \n",
      " 2   SourceCollectionIdentifier  9042 non-null   int64 \n",
      " 3   DocumentIdentifier          9042 non-null   object\n",
      " 4   Locations                   7618 non-null   object\n",
      " 5   Persons                     7460 non-null   object\n",
      " 6   Organizations               9042 non-null   object\n",
      " 7   Tone                        9042 non-null   object\n",
      "dtypes: int64(2), object(6)\n",
      "memory usage: 635.8+ KB\n"
     ]
    }
   ],
   "source": [
    "gdelt_df.info()"
   ]
  },
  {
   "cell_type": "code",
   "execution_count": 17,
   "id": "0d5a4499",
   "metadata": {
    "execution": {
     "iopub.execute_input": "2022-04-19T17:46:06.380575Z",
     "iopub.status.busy": "2022-04-19T17:46:06.380410Z",
     "iopub.status.idle": "2022-04-19T17:46:06.465204Z",
     "shell.execute_reply": "2022-04-19T17:46:06.464551Z"
    },
    "lines_to_next_cell": 2,
    "papermill": {
     "duration": 0.090865,
     "end_time": "2022-04-19T17:46:06.466597",
     "exception": false,
     "start_time": "2022-04-19T17:46:06.375732",
     "status": "completed"
    },
    "tags": []
   },
   "outputs": [],
   "source": [
    "def split_locations(location_list):\n",
    "    location_names = []\n",
    "    if type(location_list) is not float:\n",
    "        for location_string in location_list:\n",
    "            loc_parts = location_string.split('#')\n",
    "            # We are only interested in full location name which is second entry in location string           \n",
    "            location_names.append(loc_parts[1]) if len(loc_parts) > 1 else np.nan\n",
    "            \n",
    "    return location_names\n",
    "# Locations are semi-colons(;) seperated and each location string is further seperated by hash(#)\n",
    "gdelt_df.Locations = gdelt_df.Locations.str.split(';').apply(split_locations)\n",
    "#  Remove duplicates\n",
    "gdelt_df.Locations = gdelt_df.Locations.map(set)"
   ]
  },
  {
   "cell_type": "code",
   "execution_count": 18,
   "id": "1a6af160",
   "metadata": {
    "execution": {
     "iopub.execute_input": "2022-04-19T17:46:06.475657Z",
     "iopub.status.busy": "2022-04-19T17:46:06.475490Z",
     "iopub.status.idle": "2022-04-19T17:46:06.497638Z",
     "shell.execute_reply": "2022-04-19T17:46:06.496999Z"
    },
    "papermill": {
     "duration": 0.028085,
     "end_time": "2022-04-19T17:46:06.498814",
     "exception": false,
     "start_time": "2022-04-19T17:46:06.470729",
     "status": "completed"
    },
    "tags": []
   },
   "outputs": [],
   "source": [
    "#  Clean some data elements\n",
    "gdelt_df.Persons = gdelt_df.Persons.str.findall(pat=\"[A-Z][a-z]+ [A-Z][a-z]+\")\n",
    "#  Remove duplicates\n",
    "gdelt_df.Persons = gdelt_df.Persons.map(set, na_action='ignore')"
   ]
  },
  {
   "cell_type": "code",
   "execution_count": 19,
   "id": "3e793786",
   "metadata": {
    "execution": {
     "iopub.execute_input": "2022-04-19T17:46:06.507448Z",
     "iopub.status.busy": "2022-04-19T17:46:06.507290Z",
     "iopub.status.idle": "2022-04-19T17:46:06.518506Z",
     "shell.execute_reply": "2022-04-19T17:46:06.517870Z"
    },
    "papermill": {
     "duration": 0.017066,
     "end_time": "2022-04-19T17:46:06.519797",
     "exception": false,
     "start_time": "2022-04-19T17:46:06.502731",
     "status": "completed"
    },
    "tags": []
   },
   "outputs": [],
   "source": [
    "gdelt_df.Tone = gdelt_df.Tone.str.split(',')"
   ]
  },
  {
   "cell_type": "code",
   "execution_count": 20,
   "id": "9861ece3",
   "metadata": {
    "execution": {
     "iopub.execute_input": "2022-04-19T17:46:06.528745Z",
     "iopub.status.busy": "2022-04-19T17:46:06.528583Z",
     "iopub.status.idle": "2022-04-19T17:46:06.541147Z",
     "shell.execute_reply": "2022-04-19T17:46:06.540512Z"
    },
    "papermill": {
     "duration": 0.018249,
     "end_time": "2022-04-19T17:46:06.542313",
     "exception": false,
     "start_time": "2022-04-19T17:46:06.524064",
     "status": "completed"
    },
    "tags": []
   },
   "outputs": [],
   "source": [
    "# Clean Tone\n",
    "gdelt_df['AvgTone'] = gdelt_df.Tone.apply(lambda x: x[0])\n",
    "gdelt_df['PosScore'] = gdelt_df.Tone.apply(lambda x: x[1])\n",
    "gdelt_df['NegScore'] = gdelt_df.Tone.apply(lambda x: x[2])\n",
    "gdelt_df['Polarity'] = gdelt_df.Tone.apply(lambda x: x[3])"
   ]
  },
  {
   "cell_type": "code",
   "execution_count": 21,
   "id": "70abce68",
   "metadata": {
    "execution": {
     "iopub.execute_input": "2022-04-19T17:46:06.550828Z",
     "iopub.status.busy": "2022-04-19T17:46:06.550666Z",
     "iopub.status.idle": "2022-04-19T17:46:06.559573Z",
     "shell.execute_reply": "2022-04-19T17:46:06.558929Z"
    },
    "lines_to_next_cell": 2,
    "papermill": {
     "duration": 0.01445,
     "end_time": "2022-04-19T17:46:06.560800",
     "exception": false,
     "start_time": "2022-04-19T17:46:06.546350",
     "status": "completed"
    },
    "tags": []
   },
   "outputs": [],
   "source": [
    "gdelt_df.drop([\"Tone\", \"DATE\", \"SourceCollectionIdentifier\", \"DocumentIdentifier\"], axis = 1, inplace=True)"
   ]
  },
  {
   "cell_type": "code",
   "execution_count": 22,
   "id": "52445312",
   "metadata": {
    "execution": {
     "iopub.execute_input": "2022-04-19T17:46:06.569712Z",
     "iopub.status.busy": "2022-04-19T17:46:06.569554Z",
     "iopub.status.idle": "2022-04-19T17:46:06.585807Z",
     "shell.execute_reply": "2022-04-19T17:46:06.585213Z"
    },
    "papermill": {
     "duration": 0.022111,
     "end_time": "2022-04-19T17:46:06.587019",
     "exception": false,
     "start_time": "2022-04-19T17:46:06.564908",
     "status": "completed"
    },
    "tags": []
   },
   "outputs": [
    {
     "data": {
      "text/html": [
       "<div>\n",
       "<style scoped>\n",
       "    .dataframe tbody tr th:only-of-type {\n",
       "        vertical-align: middle;\n",
       "    }\n",
       "\n",
       "    .dataframe tbody tr th {\n",
       "        vertical-align: top;\n",
       "    }\n",
       "\n",
       "    .dataframe thead th {\n",
       "        text-align: right;\n",
       "    }\n",
       "</style>\n",
       "<table border=\"1\" class=\"dataframe\">\n",
       "  <thead>\n",
       "    <tr style=\"text-align: right;\">\n",
       "      <th></th>\n",
       "      <th>GKGRECORDID</th>\n",
       "      <th>Locations</th>\n",
       "      <th>Persons</th>\n",
       "      <th>Organizations</th>\n",
       "      <th>AvgTone</th>\n",
       "      <th>PosScore</th>\n",
       "      <th>NegScore</th>\n",
       "      <th>Polarity</th>\n",
       "    </tr>\n",
       "  </thead>\n",
       "  <tbody>\n",
       "    <tr>\n",
       "      <th>8182</th>\n",
       "      <td>20220218174500-977</td>\n",
       "      <td>{Japan, Seoul, Soul-T'ukpyolsi, South Korea, Korea, South Korea, Tokyo, Tokyo, Japan}</td>\n",
       "      <td>NaN</td>\n",
       "      <td>{'tesla': 2}</td>\n",
       "      <td>0</td>\n",
       "      <td>3.16091954022989</td>\n",
       "      <td>3.16091954022989</td>\n",
       "      <td>6.32183908045977</td>\n",
       "    </tr>\n",
       "    <tr>\n",
       "      <th>1623</th>\n",
       "      <td>20220104121500-127</td>\n",
       "      <td>{Americans, Taiwan, Xinjiang, Jiangxi, China, Beijing, Beijing, China, United States, Massachusetts, United States, Wuhan, Hubei, China, American, Boston, Massachusetts, United States, Salamanca, ...</td>\n",
       "      <td>{Yorker Trisha, Steve Jobs, Liz Wagner, Elizabeth Holmes, Yogananda Pittman, Kent Albright, Elon Musk, Eric Adams, Ibrahim Hooper, Qingyuani Sayno, Justin Voldman, Sokhary Chau, Chuck Wexler}</td>\n",
       "      <td>{'tesla': 1, 'meta platforms': 1, 'netflix': 1, 'johnson johnson': 1}</td>\n",
       "      <td>-3.90731485688323</td>\n",
       "      <td>1.99909132212631</td>\n",
       "      <td>5.90640617900954</td>\n",
       "      <td>7.90549750113585</td>\n",
       "    </tr>\n",
       "    <tr>\n",
       "      <th>460</th>\n",
       "      <td>20211224050000-231</td>\n",
       "      <td>{United Kingdom, Japan, Norway, Poland, Australia, Netherlands, Germany, Iceland, China, America, Singapore}</td>\n",
       "      <td>{Jesse Maida}</td>\n",
       "      <td>{'tesla': 3}</td>\n",
       "      <td>1.08147080028839</td>\n",
       "      <td>2.45133381398702</td>\n",
       "      <td>1.36986301369863</td>\n",
       "      <td>3.82119682768565</td>\n",
       "    </tr>\n",
       "    <tr>\n",
       "      <th>4691</th>\n",
       "      <td>20220218001500-T771</td>\n",
       "      <td>{United States, Australia, Shenzhen, Guangdong, China, Changsha, Hunan, China, Changan, Shaanxi, China, Guangdong, Jilin, China, China, New Market, Queensland, Australia, Shanghai, Shanghai, China...</td>\n",
       "      <td>{Li Jie, Jin Ji}</td>\n",
       "      <td>{'tesla': 1}</td>\n",
       "      <td>-1.13924050632911</td>\n",
       "      <td>1.9620253164557</td>\n",
       "      <td>3.10126582278481</td>\n",
       "      <td>5.06329113924051</td>\n",
       "    </tr>\n",
       "    <tr>\n",
       "      <th>10225</th>\n",
       "      <td>20220413130000-876</td>\n",
       "      <td>{New York, United States, Russia, Highpeak, New York, United States, Russian, China, Ukraine}</td>\n",
       "      <td>{Jim Cramer, Jeff Lawson}</td>\n",
       "      <td>{'tesla': 1, 'devon': 3, 'nortonlifelock': 1, 'coterra': 3}</td>\n",
       "      <td>0.592300098716683</td>\n",
       "      <td>2.36920039486673</td>\n",
       "      <td>1.77690029615005</td>\n",
       "      <td>4.14610069101678</td>\n",
       "    </tr>\n",
       "    <tr>\n",
       "      <th>2792</th>\n",
       "      <td>20220127060000-129</td>\n",
       "      <td>{}</td>\n",
       "      <td>{Tesla Cybertruck, Henry Singleton}</td>\n",
       "      <td>{'tesla': 1}</td>\n",
       "      <td>0.247524752475247</td>\n",
       "      <td>1.98019801980198</td>\n",
       "      <td>1.73267326732673</td>\n",
       "      <td>3.71287128712871</td>\n",
       "    </tr>\n",
       "    <tr>\n",
       "      <th>1068</th>\n",
       "      <td>20211231153000-839</td>\n",
       "      <td>{}</td>\n",
       "      <td>NaN</td>\n",
       "      <td>{'tesla': 2}</td>\n",
       "      <td>-0.619195046439628</td>\n",
       "      <td>4.95356037151703</td>\n",
       "      <td>5.57275541795666</td>\n",
       "      <td>10.5263157894737</td>\n",
       "    </tr>\n",
       "    <tr>\n",
       "      <th>10388</th>\n",
       "      <td>20220328051500-850</td>\n",
       "      <td>{}</td>\n",
       "      <td>{Elon Musk}</td>\n",
       "      <td>{'twitter': 6, 'tesla': 1}</td>\n",
       "      <td>0.757575757575757</td>\n",
       "      <td>3.40909090909091</td>\n",
       "      <td>2.65151515151515</td>\n",
       "      <td>6.06060606060606</td>\n",
       "    </tr>\n",
       "    <tr>\n",
       "      <th>3020</th>\n",
       "      <td>20220106180000-1599</td>\n",
       "      <td>{Austria, Japanese, French, Hungarian, Canadian, German, South Korea, Tokyo, Tokyo, Japan}</td>\n",
       "      <td>{Kenichiro Yoshida, Las Vegas, James Dyson, Takaki Nakanishi}</td>\n",
       "      <td>{'thomson reuters': 1, 'tesla': 1, 'panasonic': 3, 'sony': 9, 'apple': 1}</td>\n",
       "      <td>-0.595238095238095</td>\n",
       "      <td>2.5297619047619</td>\n",
       "      <td>3.125</td>\n",
       "      <td>5.65476190476191</td>\n",
       "    </tr>\n",
       "    <tr>\n",
       "      <th>6969</th>\n",
       "      <td>20220216161500-1176</td>\n",
       "      <td>{}</td>\n",
       "      <td>{Elon Musk}</td>\n",
       "      <td>{'tesla': 1}</td>\n",
       "      <td>-3.48525469168901</td>\n",
       "      <td>2.14477211796247</td>\n",
       "      <td>5.63002680965147</td>\n",
       "      <td>7.77479892761394</td>\n",
       "    </tr>\n",
       "  </tbody>\n",
       "</table>\n",
       "</div>"
      ],
      "text/plain": [
       "               GKGRECORDID  \\\n",
       "8182    20220218174500-977   \n",
       "1623    20220104121500-127   \n",
       "460     20211224050000-231   \n",
       "4691   20220218001500-T771   \n",
       "10225   20220413130000-876   \n",
       "2792    20220127060000-129   \n",
       "1068    20211231153000-839   \n",
       "10388   20220328051500-850   \n",
       "3020   20220106180000-1599   \n",
       "6969   20220216161500-1176   \n",
       "\n",
       "                                                                                                                                                                                                     Locations  \\\n",
       "8182                                                                                                                     {Japan, Seoul, Soul-T'ukpyolsi, South Korea, Korea, South Korea, Tokyo, Tokyo, Japan}   \n",
       "1623   {Americans, Taiwan, Xinjiang, Jiangxi, China, Beijing, Beijing, China, United States, Massachusetts, United States, Wuhan, Hubei, China, American, Boston, Massachusetts, United States, Salamanca, ...   \n",
       "460                                                                                               {United Kingdom, Japan, Norway, Poland, Australia, Netherlands, Germany, Iceland, China, America, Singapore}   \n",
       "4691   {United States, Australia, Shenzhen, Guangdong, China, Changsha, Hunan, China, Changan, Shaanxi, China, Guangdong, Jilin, China, China, New Market, Queensland, Australia, Shanghai, Shanghai, China...   \n",
       "10225                                                                                                            {New York, United States, Russia, Highpeak, New York, United States, Russian, China, Ukraine}   \n",
       "2792                                                                                                                                                                                                        {}   \n",
       "1068                                                                                                                                                                                                        {}   \n",
       "10388                                                                                                                                                                                                       {}   \n",
       "3020                                                                                                                {Austria, Japanese, French, Hungarian, Canadian, German, South Korea, Tokyo, Tokyo, Japan}   \n",
       "6969                                                                                                                                                                                                        {}   \n",
       "\n",
       "                                                                                                                                                                                               Persons  \\\n",
       "8182                                                                                                                                                                                               NaN   \n",
       "1623   {Yorker Trisha, Steve Jobs, Liz Wagner, Elizabeth Holmes, Yogananda Pittman, Kent Albright, Elon Musk, Eric Adams, Ibrahim Hooper, Qingyuani Sayno, Justin Voldman, Sokhary Chau, Chuck Wexler}   \n",
       "460                                                                                                                                                                                      {Jesse Maida}   \n",
       "4691                                                                                                                                                                                  {Li Jie, Jin Ji}   \n",
       "10225                                                                                                                                                                        {Jim Cramer, Jeff Lawson}   \n",
       "2792                                                                                                                                                               {Tesla Cybertruck, Henry Singleton}   \n",
       "1068                                                                                                                                                                                               NaN   \n",
       "10388                                                                                                                                                                                      {Elon Musk}   \n",
       "3020                                                                                                                                     {Kenichiro Yoshida, Las Vegas, James Dyson, Takaki Nakanishi}   \n",
       "6969                                                                                                                                                                                       {Elon Musk}   \n",
       "\n",
       "                                                                   Organizations  \\\n",
       "8182                                                                {'tesla': 2}   \n",
       "1623       {'tesla': 1, 'meta platforms': 1, 'netflix': 1, 'johnson johnson': 1}   \n",
       "460                                                                 {'tesla': 3}   \n",
       "4691                                                                {'tesla': 1}   \n",
       "10225                {'tesla': 1, 'devon': 3, 'nortonlifelock': 1, 'coterra': 3}   \n",
       "2792                                                                {'tesla': 1}   \n",
       "1068                                                                {'tesla': 2}   \n",
       "10388                                                 {'twitter': 6, 'tesla': 1}   \n",
       "3020   {'thomson reuters': 1, 'tesla': 1, 'panasonic': 3, 'sony': 9, 'apple': 1}   \n",
       "6969                                                                {'tesla': 1}   \n",
       "\n",
       "                  AvgTone          PosScore          NegScore  \\\n",
       "8182                    0  3.16091954022989  3.16091954022989   \n",
       "1623    -3.90731485688323  1.99909132212631  5.90640617900954   \n",
       "460      1.08147080028839  2.45133381398702  1.36986301369863   \n",
       "4691    -1.13924050632911   1.9620253164557  3.10126582278481   \n",
       "10225   0.592300098716683  2.36920039486673  1.77690029615005   \n",
       "2792    0.247524752475247  1.98019801980198  1.73267326732673   \n",
       "1068   -0.619195046439628  4.95356037151703  5.57275541795666   \n",
       "10388   0.757575757575757  3.40909090909091  2.65151515151515   \n",
       "3020   -0.595238095238095   2.5297619047619             3.125   \n",
       "6969    -3.48525469168901  2.14477211796247  5.63002680965147   \n",
       "\n",
       "               Polarity  \n",
       "8182   6.32183908045977  \n",
       "1623   7.90549750113585  \n",
       "460    3.82119682768565  \n",
       "4691   5.06329113924051  \n",
       "10225  4.14610069101678  \n",
       "2792   3.71287128712871  \n",
       "1068   10.5263157894737  \n",
       "10388  6.06060606060606  \n",
       "3020   5.65476190476191  \n",
       "6969   7.77479892761394  "
      ]
     },
     "execution_count": 22,
     "metadata": {},
     "output_type": "execute_result"
    }
   ],
   "source": [
    "gdelt_df.sample(10)"
   ]
  },
  {
   "cell_type": "code",
   "execution_count": 23,
   "id": "760165a1",
   "metadata": {
    "execution": {
     "iopub.execute_input": "2022-04-19T17:46:06.596989Z",
     "iopub.status.busy": "2022-04-19T17:46:06.596811Z",
     "iopub.status.idle": "2022-04-19T17:46:06.687352Z",
     "shell.execute_reply": "2022-04-19T17:46:06.686723Z"
    },
    "papermill": {
     "duration": 0.097037,
     "end_time": "2022-04-19T17:46:06.688590",
     "exception": false,
     "start_time": "2022-04-19T17:46:06.591553",
     "status": "completed"
    },
    "tags": []
   },
   "outputs": [
    {
     "name": "stdout",
     "output_type": "stream",
     "text": [
      "Saved file /root/market_watch/output/data/interim/gdelt_gkg_data-cleaned.csv\n"
     ]
    }
   ],
   "source": [
    "output_file_path = product['data']\n",
    "Path(output_file_path).parent.mkdir(exist_ok=True, parents=True)\n",
    "gdelt_df.to_csv(output_file_path)\n",
    "print(f\"Saved file {output_file_path}\")"
   ]
  },
  {
   "cell_type": "code",
   "execution_count": 24,
   "id": "847b0606",
   "metadata": {
    "execution": {
     "iopub.execute_input": "2022-04-19T17:46:06.698531Z",
     "iopub.status.busy": "2022-04-19T17:46:06.698368Z",
     "iopub.status.idle": "2022-04-19T17:46:06.704740Z",
     "shell.execute_reply": "2022-04-19T17:46:06.704105Z"
    },
    "papermill": {
     "duration": 0.012866,
     "end_time": "2022-04-19T17:46:06.705987",
     "exception": false,
     "start_time": "2022-04-19T17:46:06.693121",
     "status": "completed"
    },
    "tags": []
   },
   "outputs": [],
   "source": [
    "del gdelt_df, securities_df"
   ]
  },
  {
   "cell_type": "code",
   "execution_count": null,
   "id": "f69076d8",
   "metadata": {
    "papermill": {
     "duration": 0.004212,
     "end_time": "2022-04-19T17:46:06.715027",
     "exception": false,
     "start_time": "2022-04-19T17:46:06.710815",
     "status": "completed"
    },
    "tags": []
   },
   "outputs": [],
   "source": []
  }
 ],
 "metadata": {
  "jupytext": {
   "cell_metadata_filter": "tags,-all",
   "main_language": "python",
   "notebook_metadata_filter": "-all",
   "text_representation": {
    "extension": ".py",
    "format_name": "light"
   }
  },
  "kernelspec": {
   "display_name": "Python 3 (ipykernel)",
   "language": "python",
   "name": "python3"
  },
  "language_info": {
   "codemirror_mode": {
    "name": "ipython",
    "version": 3
   },
   "file_extension": ".py",
   "mimetype": "text/x-python",
   "name": "python",
   "nbconvert_exporter": "python",
   "pygments_lexer": "ipython3",
   "version": "3.8.13"
  },
  "papermill": {
   "duration": 63.044446,
   "end_time": "2022-04-19T17:46:09.972376",
   "exception": null,
   "input_path": "/tmp/tmpqvfkuljg.ipynb",
   "output_path": "/root/market_watch/output/notebooks/clean_gdelt_data.ipynb",
   "parameters": {
    "product": {
     "data": "/root/market_watch/output/data/interim/gdelt_gkg_data-cleaned.csv",
     "nb": "/root/market_watch/output/notebooks/clean_gdelt_data.ipynb"
    },
    "upstream": {
     "fetch_n_filter_gdelt_bq": {
      "data": "/root/market_watch/output/data/raw/gdelt_gkg_bqdata-raw.csv",
      "nb": "/root/market_watch/output/notebooks/fetch_n_filter_gdelt_bq.ipynb"
     },
     "normalize_security_names": {
      "data": "/root/market_watch/output/data/interim/normalized_security_names.csv",
      "nb": "/root/market_watch/output/notebooks/normalize_security_names.ipynb"
     }
    }
   },
   "start_time": "2022-04-19T17:45:06.927930"
  }
 },
 "nbformat": 4,
 "nbformat_minor": 5
}