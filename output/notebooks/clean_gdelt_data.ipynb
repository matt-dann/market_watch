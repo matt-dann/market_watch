{
 "cells": [
  {
   "cell_type": "code",
   "execution_count": 1,
   "id": "b27e6e92",
   "metadata": {
    "execution": {
     "iopub.execute_input": "2022-04-19T04:22:51.228792Z",
     "iopub.status.busy": "2022-04-19T04:22:51.228467Z",
     "iopub.status.idle": "2022-04-19T04:22:51.236010Z",
     "shell.execute_reply": "2022-04-19T04:22:51.235356Z"
    },
    "papermill": {
     "duration": 0.028981,
     "end_time": "2022-04-19T04:22:51.238139",
     "exception": false,
     "start_time": "2022-04-19T04:22:51.209158",
     "status": "completed"
    },
    "tags": [
     "parameters"
    ]
   },
   "outputs": [],
   "source": [
    "# your parameters here...\n",
    "upstream = ['fetch_n_filter_gdelt_bq', 'normalize_security_names']"
   ]
  },
  {
   "cell_type": "code",
   "execution_count": 2,
   "id": "01569a3c",
   "metadata": {
    "execution": {
     "iopub.execute_input": "2022-04-19T04:22:51.267332Z",
     "iopub.status.busy": "2022-04-19T04:22:51.267122Z",
     "iopub.status.idle": "2022-04-19T04:22:51.270700Z",
     "shell.execute_reply": "2022-04-19T04:22:51.270213Z"
    },
    "papermill": {
     "duration": 0.019668,
     "end_time": "2022-04-19T04:22:51.272416",
     "exception": false,
     "start_time": "2022-04-19T04:22:51.252748",
     "status": "completed"
    },
    "tags": [
     "injected-parameters"
    ]
   },
   "outputs": [],
   "source": [
    "# Parameters\n",
    "upstream = {\n",
    "    \"normalize_security_names\": {\n",
    "        \"nb\": \"/Users/aiujdm2/market_watch/output/notebooks/normalize_security_names.ipynb\",\n",
    "        \"data\": \"/Users/aiujdm2/market_watch/output/data/interim/normalized_security_names.csv\",\n",
    "    },\n",
    "    \"fetch_n_filter_gdelt_bq\": {\n",
    "        \"nb\": \"/Users/aiujdm2/market_watch/output/notebooks/fetch_n_filter_gdelt_bq.ipynb\",\n",
    "        \"data\": \"/Users/aiujdm2/market_watch/output/data/raw/gdelt_gkg_bqdata-raw.csv\",\n",
    "    },\n",
    "}\n",
    "product = {\n",
    "    \"nb\": \"/Users/aiujdm2/market_watch/output/notebooks/clean_gdelt_data.ipynb\",\n",
    "    \"data\": \"/Users/aiujdm2/market_watch/output/data/interim/gdelt_gkg_data-cleaned.csv\",\n",
    "}\n"
   ]
  },
  {
   "cell_type": "code",
   "execution_count": 3,
   "id": "78510c31",
   "metadata": {
    "execution": {
     "iopub.execute_input": "2022-04-19T04:22:51.297351Z",
     "iopub.status.busy": "2022-04-19T04:22:51.297129Z",
     "iopub.status.idle": "2022-04-19T04:22:51.990048Z",
     "shell.execute_reply": "2022-04-19T04:22:51.989488Z"
    },
    "papermill": {
     "duration": 0.706966,
     "end_time": "2022-04-19T04:22:51.991809",
     "exception": false,
     "start_time": "2022-04-19T04:22:51.284843",
     "status": "completed"
    },
    "tags": []
   },
   "outputs": [],
   "source": [
    "# your code here...\n",
    "import pandas as pd\n",
    "import numpy as np\n",
    "from pathlib import Path\n",
    "import nltk\n",
    "import time\n",
    "import re\n",
    "from time import time\n",
    "import json\n",
    "import ast\n",
    "from src.utils import preprocess_text\n",
    "from collections import Counter\n",
    "from src.utils import fuzz_similarity, preprocess_text\n",
    "from nltk.corpus import stopwords"
   ]
  },
  {
   "cell_type": "code",
   "execution_count": 4,
   "id": "920546fe",
   "metadata": {
    "execution": {
     "iopub.execute_input": "2022-04-19T04:22:52.016153Z",
     "iopub.status.busy": "2022-04-19T04:22:52.015835Z",
     "iopub.status.idle": "2022-04-19T04:22:52.173868Z",
     "shell.execute_reply": "2022-04-19T04:22:52.173374Z"
    },
    "papermill": {
     "duration": 0.171714,
     "end_time": "2022-04-19T04:22:52.175583",
     "exception": false,
     "start_time": "2022-04-19T04:22:52.003869",
     "status": "completed"
    },
    "tags": []
   },
   "outputs": [
    {
     "name": "stderr",
     "output_type": "stream",
     "text": [
      "[nltk_data] Downloading package stopwords to\n",
      "[nltk_data]     /Users/aiujdm2/nltk_data...\n",
      "[nltk_data]   Package stopwords is already up-to-date!\n",
      "[nltk_data] Downloading package omw-1.4 to /Users/aiujdm2/nltk_data...\n",
      "[nltk_data]   Package omw-1.4 is already up-to-date!\n"
     ]
    }
   ],
   "source": [
    "nltk.download('stopwords')\n",
    "nltk.download('omw-1.4')\n",
    "stops = set(stopwords.words('english'))\n",
    "pd.options.display.max_colwidth = 200"
   ]
  },
  {
   "cell_type": "code",
   "execution_count": 5,
   "id": "e3cb6f8d",
   "metadata": {
    "execution": {
     "iopub.execute_input": "2022-04-19T04:22:52.201832Z",
     "iopub.status.busy": "2022-04-19T04:22:52.201498Z",
     "iopub.status.idle": "2022-04-19T04:22:52.325817Z",
     "shell.execute_reply": "2022-04-19T04:22:52.325286Z"
    },
    "papermill": {
     "duration": 0.139502,
     "end_time": "2022-04-19T04:22:52.327670",
     "exception": false,
     "start_time": "2022-04-19T04:22:52.188168",
     "status": "completed"
    },
    "tags": []
   },
   "outputs": [
    {
     "name": "stdout",
     "output_type": "stream",
     "text": [
      "<class 'pandas.core.frame.DataFrame'>\n",
      "Int64Index: 4477 entries, 0 to 9212\n",
      "Data columns (total 4 columns):\n",
      " #   Column       Non-Null Count  Dtype \n",
      "---  ------       --------------  ----- \n",
      " 0   cik          4477 non-null   int64 \n",
      " 1   ticker       4477 non-null   object\n",
      " 2   full_name    4477 non-null   object\n",
      " 3   former_name  4477 non-null   object\n",
      "dtypes: int64(1), object(3)\n",
      "memory usage: 174.9+ KB\n"
     ]
    }
   ],
   "source": [
    "gdelt_file_path = upstream['fetch_n_filter_gdelt_bq']['data']\n",
    "securities_file_path = upstream['normalize_security_names']['data']\n",
    "gdelt_df = pd.read_csv(gdelt_file_path, index_col=0)\n",
    "securities_df = pd.read_csv(securities_file_path, index_col=0)\n",
    "securities_df.dropna(subset=['former_name'], inplace=True)\n",
    "securities_df.info()"
   ]
  },
  {
   "cell_type": "code",
   "execution_count": 6,
   "id": "24ad1c49",
   "metadata": {
    "execution": {
     "iopub.execute_input": "2022-04-19T04:22:52.353319Z",
     "iopub.status.busy": "2022-04-19T04:22:52.353102Z",
     "iopub.status.idle": "2022-04-19T04:22:52.360694Z",
     "shell.execute_reply": "2022-04-19T04:22:52.360309Z"
    },
    "papermill": {
     "duration": 0.021581,
     "end_time": "2022-04-19T04:22:52.362245",
     "exception": false,
     "start_time": "2022-04-19T04:22:52.340664",
     "status": "completed"
    },
    "tags": []
   },
   "outputs": [
    {
     "data": {
      "text/plain": [
       "Index(['GKGRECORDID', 'DATE', 'SourceCollectionIdentifier',\n",
       "       'DocumentIdentifier', 'Locations', 'Persons', 'Organizations', 'Tone'],\n",
       "      dtype='object')"
      ]
     },
     "execution_count": 6,
     "metadata": {},
     "output_type": "execute_result"
    }
   ],
   "source": [
    "gdelt_df.columns"
   ]
  },
  {
   "cell_type": "code",
   "execution_count": 7,
   "id": "5c6daf91",
   "metadata": {
    "execution": {
     "iopub.execute_input": "2022-04-19T04:22:52.387580Z",
     "iopub.status.busy": "2022-04-19T04:22:52.387422Z",
     "iopub.status.idle": "2022-04-19T04:22:52.393921Z",
     "shell.execute_reply": "2022-04-19T04:22:52.393472Z"
    },
    "papermill": {
     "duration": 0.020803,
     "end_time": "2022-04-19T04:22:52.395517",
     "exception": false,
     "start_time": "2022-04-19T04:22:52.374714",
     "status": "completed"
    },
    "tags": []
   },
   "outputs": [
    {
     "data": {
      "text/html": [
       "<div>\n",
       "<style scoped>\n",
       "    .dataframe tbody tr th:only-of-type {\n",
       "        vertical-align: middle;\n",
       "    }\n",
       "\n",
       "    .dataframe tbody tr th {\n",
       "        vertical-align: top;\n",
       "    }\n",
       "\n",
       "    .dataframe thead th {\n",
       "        text-align: right;\n",
       "    }\n",
       "</style>\n",
       "<table border=\"1\" class=\"dataframe\">\n",
       "  <thead>\n",
       "    <tr style=\"text-align: right;\">\n",
       "      <th></th>\n",
       "      <th>cik</th>\n",
       "      <th>ticker</th>\n",
       "      <th>full_name</th>\n",
       "      <th>former_name</th>\n",
       "    </tr>\n",
       "  </thead>\n",
       "  <tbody>\n",
       "    <tr>\n",
       "      <th>0</th>\n",
       "      <td>1599298</td>\n",
       "      <td>SMMT</td>\n",
       "      <td>summit therapeutics</td>\n",
       "      <td>summit therapeutics</td>\n",
       "    </tr>\n",
       "    <tr>\n",
       "      <th>3</th>\n",
       "      <td>33934</td>\n",
       "      <td>CRF</td>\n",
       "      <td>cornerstone total return</td>\n",
       "      <td>eis</td>\n",
       "    </tr>\n",
       "    <tr>\n",
       "      <th>6</th>\n",
       "      <td>845611</td>\n",
       "      <td>GCV</td>\n",
       "      <td>gabelli convertible income securities</td>\n",
       "      <td>gabelli convertible securities</td>\n",
       "    </tr>\n",
       "    <tr>\n",
       "      <th>10</th>\n",
       "      <td>1839412</td>\n",
       "      <td>QTEK</td>\n",
       "      <td>qualtek services</td>\n",
       "      <td>roth ch acquisition iii</td>\n",
       "    </tr>\n",
       "    <tr>\n",
       "      <th>13</th>\n",
       "      <td>851520</td>\n",
       "      <td>EXPO</td>\n",
       "      <td>exponent</td>\n",
       "      <td>failure</td>\n",
       "    </tr>\n",
       "  </tbody>\n",
       "</table>\n",
       "</div>"
      ],
      "text/plain": [
       "        cik ticker                              full_name  \\\n",
       "0   1599298   SMMT                    summit therapeutics   \n",
       "3     33934    CRF               cornerstone total return   \n",
       "6    845611    GCV  gabelli convertible income securities   \n",
       "10  1839412   QTEK                       qualtek services   \n",
       "13   851520   EXPO                               exponent   \n",
       "\n",
       "                       former_name  \n",
       "0              summit therapeutics  \n",
       "3                              eis  \n",
       "6   gabelli convertible securities  \n",
       "10         roth ch acquisition iii  \n",
       "13                         failure  "
      ]
     },
     "execution_count": 7,
     "metadata": {},
     "output_type": "execute_result"
    }
   ],
   "source": [
    "securities_df.head()"
   ]
  },
  {
   "cell_type": "code",
   "execution_count": 8,
   "id": "b59478a6",
   "metadata": {
    "execution": {
     "iopub.execute_input": "2022-04-19T04:22:52.421079Z",
     "iopub.status.busy": "2022-04-19T04:22:52.420927Z",
     "iopub.status.idle": "2022-04-19T04:22:52.628043Z",
     "shell.execute_reply": "2022-04-19T04:22:52.627490Z"
    },
    "papermill": {
     "duration": 0.221847,
     "end_time": "2022-04-19T04:22:52.629702",
     "exception": false,
     "start_time": "2022-04-19T04:22:52.407855",
     "status": "completed"
    },
    "tags": []
   },
   "outputs": [],
   "source": [
    "#  drop rows where no organizations names were extracted\n",
    "gdelt_df = gdelt_df.dropna(subset=['Organizations'])\n",
    "gdelt_df = gdelt_df.replace(to_replace= ['Google', 'Facebook', 'YouTube', 'Youtube'], value=['alphabet', 'meta platforms', 'alphabet', 'alphabet'], regex=True)"
   ]
  },
  {
   "cell_type": "code",
   "execution_count": 9,
   "id": "6976bc89",
   "metadata": {
    "execution": {
     "iopub.execute_input": "2022-04-19T04:22:52.656000Z",
     "iopub.status.busy": "2022-04-19T04:22:52.655733Z",
     "iopub.status.idle": "2022-04-19T04:22:52.699618Z",
     "shell.execute_reply": "2022-04-19T04:22:52.699054Z"
    },
    "papermill": {
     "duration": 0.058903,
     "end_time": "2022-04-19T04:22:52.701291",
     "exception": false,
     "start_time": "2022-04-19T04:22:52.642388",
     "status": "completed"
    },
    "tags": []
   },
   "outputs": [],
   "source": [
    "#  get rid of numeric position of org name mention by only extracting alpha names\n",
    "# Extract only names not the index\n",
    "gdelt_df.Organizations = gdelt_df.Organizations.map(lambda x: re.split(r',\\d+;?', x))"
   ]
  },
  {
   "cell_type": "code",
   "execution_count": 10,
   "id": "f8c1a3e0",
   "metadata": {
    "execution": {
     "iopub.execute_input": "2022-04-19T04:22:52.728571Z",
     "iopub.status.busy": "2022-04-19T04:22:52.728408Z",
     "iopub.status.idle": "2022-04-19T04:23:42.969268Z",
     "shell.execute_reply": "2022-04-19T04:23:42.968703Z"
    },
    "papermill": {
     "duration": 50.256098,
     "end_time": "2022-04-19T04:23:42.970975",
     "exception": false,
     "start_time": "2022-04-19T04:22:52.714877",
     "status": "completed"
    },
    "tags": []
   },
   "outputs": [],
   "source": [
    "def preprocess_orgs(x):\n",
    "    return preprocess_text(x, eng=True)\n",
    "\n",
    "gdelt_df.Organizations = gdelt_df.Organizations.apply(preprocess_orgs)"
   ]
  },
  {
   "cell_type": "code",
   "execution_count": 11,
   "id": "23808306",
   "metadata": {
    "execution": {
     "iopub.execute_input": "2022-04-19T04:23:42.998133Z",
     "iopub.status.busy": "2022-04-19T04:23:42.997888Z",
     "iopub.status.idle": "2022-04-19T04:23:44.352207Z",
     "shell.execute_reply": "2022-04-19T04:23:44.351598Z"
    },
    "papermill": {
     "duration": 1.370049,
     "end_time": "2022-04-19T04:23:44.353968",
     "exception": false,
     "start_time": "2022-04-19T04:23:42.983919",
     "status": "completed"
    },
    "tags": []
   },
   "outputs": [],
   "source": [
    "gdelt_df.Organizations = gdelt_df.Organizations.replace(to_replace=securities_df.former_name.to_list(), value=securities_df.full_name.to_list())"
   ]
  },
  {
   "cell_type": "code",
   "execution_count": 12,
   "id": "2c2eea58",
   "metadata": {
    "execution": {
     "iopub.execute_input": "2022-04-19T04:23:44.381639Z",
     "iopub.status.busy": "2022-04-19T04:23:44.381362Z",
     "iopub.status.idle": "2022-04-19T04:23:44.396635Z",
     "shell.execute_reply": "2022-04-19T04:23:44.396084Z"
    },
    "papermill": {
     "duration": 0.030692,
     "end_time": "2022-04-19T04:23:44.398327",
     "exception": false,
     "start_time": "2022-04-19T04:23:44.367635",
     "status": "completed"
    },
    "tags": []
   },
   "outputs": [
    {
     "name": "stdout",
     "output_type": "stream",
     "text": [
      "<class 'pandas.core.frame.DataFrame'>\n",
      "Int64Index: 10520 entries, 0 to 10552\n",
      "Data columns (total 8 columns):\n",
      " #   Column                      Non-Null Count  Dtype \n",
      "---  ------                      --------------  ----- \n",
      " 0   GKGRECORDID                 10520 non-null  object\n",
      " 1   DATE                        10520 non-null  int64 \n",
      " 2   SourceCollectionIdentifier  10520 non-null  int64 \n",
      " 3   DocumentIdentifier          10520 non-null  object\n",
      " 4   Locations                   8987 non-null   object\n",
      " 5   Persons                     8435 non-null   object\n",
      " 6   Organizations               10520 non-null  object\n",
      " 7   Tone                        10520 non-null  object\n",
      "dtypes: int64(2), object(6)\n",
      "memory usage: 739.7+ KB\n"
     ]
    }
   ],
   "source": [
    "gdelt_df.info()"
   ]
  },
  {
   "cell_type": "code",
   "execution_count": 13,
   "id": "460d4077",
   "metadata": {
    "execution": {
     "iopub.execute_input": "2022-04-19T04:23:44.424893Z",
     "iopub.status.busy": "2022-04-19T04:23:44.424702Z",
     "iopub.status.idle": "2022-04-19T04:23:44.463351Z",
     "shell.execute_reply": "2022-04-19T04:23:44.462929Z"
    },
    "lines_to_next_cell": 0,
    "papermill": {
     "duration": 0.053934,
     "end_time": "2022-04-19T04:23:44.465156",
     "exception": false,
     "start_time": "2022-04-19T04:23:44.411222",
     "status": "completed"
    },
    "tags": []
   },
   "outputs": [
    {
     "name": "stdout",
     "output_type": "stream",
     "text": [
      "<class 'pandas.core.frame.DataFrame'>\n",
      "Int64Index: 10520 entries, 0 to 10552\n",
      "Data columns (total 8 columns):\n",
      " #   Column                      Non-Null Count  Dtype \n",
      "---  ------                      --------------  ----- \n",
      " 0   GKGRECORDID                 10520 non-null  object\n",
      " 1   DATE                        10520 non-null  int64 \n",
      " 2   SourceCollectionIdentifier  10520 non-null  int64 \n",
      " 3   DocumentIdentifier          10520 non-null  object\n",
      " 4   Locations                   8987 non-null   object\n",
      " 5   Persons                     8435 non-null   object\n",
      " 6   Organizations               10520 non-null  object\n",
      " 7   Tone                        10520 non-null  object\n",
      "dtypes: int64(2), object(6)\n",
      "memory usage: 739.7+ KB\n"
     ]
    }
   ],
   "source": [
    "def count_orgs(x):\n",
    "    return x if type(x) is float or x is None or len(x) == 0 else Counter(x)\n",
    "\n",
    "gdelt_df.Organizations = gdelt_df.Organizations.apply(count_orgs)\n",
    "gdelt_df.dropna(subset=['Organizations'], inplace=True)\n",
    "gdelt_df.info()"
   ]
  },
  {
   "cell_type": "code",
   "execution_count": 14,
   "id": "f459fdbb",
   "metadata": {
    "execution": {
     "iopub.execute_input": "2022-04-19T04:23:44.493999Z",
     "iopub.status.busy": "2022-04-19T04:23:44.493804Z",
     "iopub.status.idle": "2022-04-19T04:23:47.159047Z",
     "shell.execute_reply": "2022-04-19T04:23:47.158481Z"
    },
    "papermill": {
     "duration": 2.681796,
     "end_time": "2022-04-19T04:23:47.160731",
     "exception": false,
     "start_time": "2022-04-19T04:23:44.478935",
     "status": "completed"
    },
    "tags": []
   },
   "outputs": [],
   "source": [
    "securities_names = preprocess_text(securities_df.full_name)\n",
    "gdelt_df.Organizations = gdelt_df.Organizations.apply(lambda x: { key:x[key] for key in x.keys() if key in securities_names and key != 'Tooshorttext'})\n",
    "gdelt_df = gdelt_df[gdelt_df.Organizations.str.len() != 0]"
   ]
  },
  {
   "cell_type": "code",
   "execution_count": 15,
   "id": "f7d8ffd4",
   "metadata": {
    "execution": {
     "iopub.execute_input": "2022-04-19T04:23:47.189466Z",
     "iopub.status.busy": "2022-04-19T04:23:47.188912Z",
     "iopub.status.idle": "2022-04-19T04:23:47.203071Z",
     "shell.execute_reply": "2022-04-19T04:23:47.202385Z"
    },
    "papermill": {
     "duration": 0.030483,
     "end_time": "2022-04-19T04:23:47.205101",
     "exception": false,
     "start_time": "2022-04-19T04:23:47.174618",
     "status": "completed"
    },
    "tags": []
   },
   "outputs": [
    {
     "name": "stdout",
     "output_type": "stream",
     "text": [
      "<class 'pandas.core.frame.DataFrame'>\n",
      "Int64Index: 8912 entries, 0 to 10551\n",
      "Data columns (total 8 columns):\n",
      " #   Column                      Non-Null Count  Dtype \n",
      "---  ------                      --------------  ----- \n",
      " 0   GKGRECORDID                 8912 non-null   object\n",
      " 1   DATE                        8912 non-null   int64 \n",
      " 2   SourceCollectionIdentifier  8912 non-null   int64 \n",
      " 3   DocumentIdentifier          8912 non-null   object\n",
      " 4   Locations                   7523 non-null   object\n",
      " 5   Persons                     7385 non-null   object\n",
      " 6   Organizations               8912 non-null   object\n",
      " 7   Tone                        8912 non-null   object\n",
      "dtypes: int64(2), object(6)\n",
      "memory usage: 626.6+ KB\n"
     ]
    }
   ],
   "source": [
    "gdelt_df.info()"
   ]
  },
  {
   "cell_type": "code",
   "execution_count": 16,
   "id": "3001db87",
   "metadata": {
    "execution": {
     "iopub.execute_input": "2022-04-19T04:23:47.233984Z",
     "iopub.status.busy": "2022-04-19T04:23:47.233740Z",
     "iopub.status.idle": "2022-04-19T04:23:47.330832Z",
     "shell.execute_reply": "2022-04-19T04:23:47.330144Z"
    },
    "lines_to_next_cell": 2,
    "papermill": {
     "duration": 0.113499,
     "end_time": "2022-04-19T04:23:47.332776",
     "exception": false,
     "start_time": "2022-04-19T04:23:47.219277",
     "status": "completed"
    },
    "tags": []
   },
   "outputs": [],
   "source": [
    "def split_locations(location_list):\n",
    "    location_names = []\n",
    "    if type(location_list) is not float:\n",
    "        for location_string in location_list:\n",
    "            loc_parts = location_string.split('#')\n",
    "            # We are only interested in full location name which is second entry in location string           \n",
    "            location_names.append(loc_parts[1]) if len(loc_parts) > 1 else np.nan\n",
    "            \n",
    "    return location_names\n",
    "# Locations are semi-colons(;) seperated and each location string is further seperated by hash(#)\n",
    "gdelt_df.Locations = gdelt_df.Locations.str.split(';').apply(split_locations)\n",
    "#  Remove duplicates\n",
    "gdelt_df.Locations = gdelt_df.Locations.map(set)"
   ]
  },
  {
   "cell_type": "code",
   "execution_count": 17,
   "id": "48c20d2a",
   "metadata": {
    "execution": {
     "iopub.execute_input": "2022-04-19T04:23:47.366887Z",
     "iopub.status.busy": "2022-04-19T04:23:47.366663Z",
     "iopub.status.idle": "2022-04-19T04:23:47.392435Z",
     "shell.execute_reply": "2022-04-19T04:23:47.391702Z"
    },
    "papermill": {
     "duration": 0.044779,
     "end_time": "2022-04-19T04:23:47.395296",
     "exception": false,
     "start_time": "2022-04-19T04:23:47.350517",
     "status": "completed"
    },
    "tags": []
   },
   "outputs": [],
   "source": [
    "#  Clean some data elements\n",
    "gdelt_df.Persons = gdelt_df.Persons.str.findall(pat=\"[A-Z][a-z]+ [A-Z][a-z]+\")\n",
    "#  Remove duplicates\n",
    "gdelt_df.Persons = gdelt_df.Persons.map(set, na_action='ignore')"
   ]
  },
  {
   "cell_type": "code",
   "execution_count": 18,
   "id": "ea3b3e15",
   "metadata": {
    "execution": {
     "iopub.execute_input": "2022-04-19T04:23:47.430067Z",
     "iopub.status.busy": "2022-04-19T04:23:47.429906Z",
     "iopub.status.idle": "2022-04-19T04:23:47.441346Z",
     "shell.execute_reply": "2022-04-19T04:23:47.440855Z"
    },
    "papermill": {
     "duration": 0.028851,
     "end_time": "2022-04-19T04:23:47.443011",
     "exception": false,
     "start_time": "2022-04-19T04:23:47.414160",
     "status": "completed"
    },
    "tags": []
   },
   "outputs": [],
   "source": [
    "gdelt_df.Tone = gdelt_df.Tone.str.split(',')"
   ]
  },
  {
   "cell_type": "code",
   "execution_count": 19,
   "id": "ab0b0664",
   "metadata": {
    "execution": {
     "iopub.execute_input": "2022-04-19T04:23:47.474629Z",
     "iopub.status.busy": "2022-04-19T04:23:47.474407Z",
     "iopub.status.idle": "2022-04-19T04:23:47.485882Z",
     "shell.execute_reply": "2022-04-19T04:23:47.485375Z"
    },
    "papermill": {
     "duration": 0.027808,
     "end_time": "2022-04-19T04:23:47.487418",
     "exception": false,
     "start_time": "2022-04-19T04:23:47.459610",
     "status": "completed"
    },
    "tags": []
   },
   "outputs": [],
   "source": [
    "# Clean Tone\n",
    "gdelt_df['AvgTone'] = gdelt_df.Tone.apply(lambda x: x[0])\n",
    "gdelt_df['PosScore'] = gdelt_df.Tone.apply(lambda x: x[1])\n",
    "gdelt_df['NegScore'] = gdelt_df.Tone.apply(lambda x: x[2])\n",
    "gdelt_df['Polarity'] = gdelt_df.Tone.apply(lambda x: x[3])"
   ]
  },
  {
   "cell_type": "code",
   "execution_count": 20,
   "id": "54d16ae6",
   "metadata": {
    "execution": {
     "iopub.execute_input": "2022-04-19T04:23:47.520078Z",
     "iopub.status.busy": "2022-04-19T04:23:47.519896Z",
     "iopub.status.idle": "2022-04-19T04:23:47.527412Z",
     "shell.execute_reply": "2022-04-19T04:23:47.526946Z"
    },
    "lines_to_next_cell": 2,
    "papermill": {
     "duration": 0.023998,
     "end_time": "2022-04-19T04:23:47.528961",
     "exception": false,
     "start_time": "2022-04-19T04:23:47.504963",
     "status": "completed"
    },
    "tags": []
   },
   "outputs": [],
   "source": [
    "gdelt_df.drop([\"Tone\", \"DATE\", \"SourceCollectionIdentifier\", \"DocumentIdentifier\"], axis = 1, inplace=True)"
   ]
  },
  {
   "cell_type": "code",
   "execution_count": 21,
   "id": "9f3a7863",
   "metadata": {
    "execution": {
     "iopub.execute_input": "2022-04-19T04:23:47.561888Z",
     "iopub.status.busy": "2022-04-19T04:23:47.561728Z",
     "iopub.status.idle": "2022-04-19T04:23:47.575680Z",
     "shell.execute_reply": "2022-04-19T04:23:47.575267Z"
    },
    "papermill": {
     "duration": 0.031167,
     "end_time": "2022-04-19T04:23:47.577233",
     "exception": false,
     "start_time": "2022-04-19T04:23:47.546066",
     "status": "completed"
    },
    "tags": []
   },
   "outputs": [
    {
     "data": {
      "text/html": [
       "<div>\n",
       "<style scoped>\n",
       "    .dataframe tbody tr th:only-of-type {\n",
       "        vertical-align: middle;\n",
       "    }\n",
       "\n",
       "    .dataframe tbody tr th {\n",
       "        vertical-align: top;\n",
       "    }\n",
       "\n",
       "    .dataframe thead th {\n",
       "        text-align: right;\n",
       "    }\n",
       "</style>\n",
       "<table border=\"1\" class=\"dataframe\">\n",
       "  <thead>\n",
       "    <tr style=\"text-align: right;\">\n",
       "      <th></th>\n",
       "      <th>GKGRECORDID</th>\n",
       "      <th>Locations</th>\n",
       "      <th>Persons</th>\n",
       "      <th>Organizations</th>\n",
       "      <th>AvgTone</th>\n",
       "      <th>PosScore</th>\n",
       "      <th>NegScore</th>\n",
       "      <th>Polarity</th>\n",
       "    </tr>\n",
       "  </thead>\n",
       "  <tbody>\n",
       "    <tr>\n",
       "      <th>7381</th>\n",
       "      <td>20220413213000-983</td>\n",
       "      <td>{Nevada, United States, Fish Lake Valley, Nevada, United States, United States, America, Elko, Nevada, United States, American, Esmeralda County, Nevada, United States}</td>\n",
       "      <td>{Tom Lewis}</td>\n",
       "      <td>{'lithium': 7}</td>\n",
       "      <td>0.414937759336099</td>\n",
       "      <td>2.0746887966805</td>\n",
       "      <td>1.6597510373444</td>\n",
       "      <td>3.7344398340249</td>\n",
       "    </tr>\n",
       "    <tr>\n",
       "      <th>2283</th>\n",
       "      <td>20220106221500-1718</td>\n",
       "      <td>{Oregon, United States, California, United States, Americans, Myrtle Creek, Oregon, United States}</td>\n",
       "      <td>{Russell Anthony, Andrew Aaron}</td>\n",
       "      <td>{'tesla': 1}</td>\n",
       "      <td>-4.8</td>\n",
       "      <td>2.4</td>\n",
       "      <td>7.2</td>\n",
       "      <td>9.6</td>\n",
       "    </tr>\n",
       "    <tr>\n",
       "      <th>1023</th>\n",
       "      <td>20220104083000-656</td>\n",
       "      <td>{Xinjiang, Jiangxi, China, China, Beijing, Beijing, China}</td>\n",
       "      <td>NaN</td>\n",
       "      <td>{'tesla': 1}</td>\n",
       "      <td>0</td>\n",
       "      <td>0.380952380952381</td>\n",
       "      <td>0.380952380952381</td>\n",
       "      <td>0.761904761904762</td>\n",
       "    </tr>\n",
       "    <tr>\n",
       "      <th>7989</th>\n",
       "      <td>20220310183000-875</td>\n",
       "      <td>{Bengaluru, Karnataka, India, China, New York, United States, Shanghai, Shanghai, China}</td>\n",
       "      <td>{Perri Dong, Lewis Krauskopf, Nivedita Balu, Jonathan Oatis, Medha Singh, Tiyashi Datta, Jason Xue}</td>\n",
       "      <td>{'apple': 1, 'tesla': 1}</td>\n",
       "      <td>-1.88679245283019</td>\n",
       "      <td>0.838574423480084</td>\n",
       "      <td>2.72536687631027</td>\n",
       "      <td>3.56394129979036</td>\n",
       "    </tr>\n",
       "    <tr>\n",
       "      <th>3640</th>\n",
       "      <td>20211230173000-1111</td>\n",
       "      <td>{Texas, United States, China, Shanghai, Shanghai, China}</td>\n",
       "      <td>{Tesla Gigafactory}</td>\n",
       "      <td>{'tesla': 1}</td>\n",
       "      <td>-0.51413881748072</td>\n",
       "      <td>3.59897172236504</td>\n",
       "      <td>4.11311053984576</td>\n",
       "      <td>7.7120822622108</td>\n",
       "    </tr>\n",
       "    <tr>\n",
       "      <th>9340</th>\n",
       "      <td>20220314110000-96</td>\n",
       "      <td>{Hong Kong, China, London, London, City Of, United Kingdom, United Kingdom, Ukraine}</td>\n",
       "      <td>{Elon Musk}</td>\n",
       "      <td>{'tesla': 1}</td>\n",
       "      <td>-2.38095238095238</td>\n",
       "      <td>2.38095238095238</td>\n",
       "      <td>4.76190476190476</td>\n",
       "      <td>7.14285714285714</td>\n",
       "    </tr>\n",
       "    <tr>\n",
       "      <th>9072</th>\n",
       "      <td>20220303193000-739</td>\n",
       "      <td>{Fremont, California, United States, White House, District Of Columbia, United States, California, United States}</td>\n",
       "      <td>{Brian Rothenberg, Elon Musk, Gene Simmons, Joe Biden}</td>\n",
       "      <td>{'twitter': 2, 'tesla': 1}</td>\n",
       "      <td>-0.367647058823529</td>\n",
       "      <td>3.125</td>\n",
       "      <td>3.49264705882353</td>\n",
       "      <td>6.61764705882353</td>\n",
       "    </tr>\n",
       "    <tr>\n",
       "      <th>883</th>\n",
       "      <td>20220130094500-314</td>\n",
       "      <td>{}</td>\n",
       "      <td>{Cathie Wood, Cathie Ark}</td>\n",
       "      <td>{'roku': 1, 'teladoc health': 1, 'tesla': 1}</td>\n",
       "      <td>0</td>\n",
       "      <td>2.5830258302583</td>\n",
       "      <td>2.5830258302583</td>\n",
       "      <td>5.16605166051661</td>\n",
       "    </tr>\n",
       "    <tr>\n",
       "      <th>1515</th>\n",
       "      <td>20211230094500-2</td>\n",
       "      <td>{Texas, United States}</td>\n",
       "      <td>{Ted Cruz, Pramila Jayapal, Elon Musk}</td>\n",
       "      <td>{'twitter': 3, 'tesla': 2}</td>\n",
       "      <td>-1.77664974619289</td>\n",
       "      <td>1.77664974619289</td>\n",
       "      <td>3.55329949238579</td>\n",
       "      <td>5.32994923857868</td>\n",
       "    </tr>\n",
       "    <tr>\n",
       "      <th>2922</th>\n",
       "      <td>20220103133000-775</td>\n",
       "      <td>{China, Norway, Germany}</td>\n",
       "      <td>NaN</td>\n",
       "      <td>{'tesla': 1}</td>\n",
       "      <td>-1.71428571428571</td>\n",
       "      <td>1.71428571428571</td>\n",
       "      <td>3.42857142857143</td>\n",
       "      <td>5.14285714285714</td>\n",
       "    </tr>\n",
       "  </tbody>\n",
       "</table>\n",
       "</div>"
      ],
      "text/plain": [
       "              GKGRECORDID  \\\n",
       "7381   20220413213000-983   \n",
       "2283  20220106221500-1718   \n",
       "1023   20220104083000-656   \n",
       "7989   20220310183000-875   \n",
       "3640  20211230173000-1111   \n",
       "9340    20220314110000-96   \n",
       "9072   20220303193000-739   \n",
       "883    20220130094500-314   \n",
       "1515     20211230094500-2   \n",
       "2922   20220103133000-775   \n",
       "\n",
       "                                                                                                                                                                     Locations  \\\n",
       "7381  {Nevada, United States, Fish Lake Valley, Nevada, United States, United States, America, Elko, Nevada, United States, American, Esmeralda County, Nevada, United States}   \n",
       "2283                                                                        {Oregon, United States, California, United States, Americans, Myrtle Creek, Oregon, United States}   \n",
       "1023                                                                                                                {Xinjiang, Jiangxi, China, China, Beijing, Beijing, China}   \n",
       "7989                                                                                  {Bengaluru, Karnataka, India, China, New York, United States, Shanghai, Shanghai, China}   \n",
       "3640                                                                                                                  {Texas, United States, China, Shanghai, Shanghai, China}   \n",
       "9340                                                                                      {Hong Kong, China, London, London, City Of, United Kingdom, United Kingdom, Ukraine}   \n",
       "9072                                                         {Fremont, California, United States, White House, District Of Columbia, United States, California, United States}   \n",
       "883                                                                                                                                                                         {}   \n",
       "1515                                                                                                                                                    {Texas, United States}   \n",
       "2922                                                                                                                                                  {China, Norway, Germany}   \n",
       "\n",
       "                                                                                                  Persons  \\\n",
       "7381                                                                                          {Tom Lewis}   \n",
       "2283                                                                      {Russell Anthony, Andrew Aaron}   \n",
       "1023                                                                                                  NaN   \n",
       "7989  {Perri Dong, Lewis Krauskopf, Nivedita Balu, Jonathan Oatis, Medha Singh, Tiyashi Datta, Jason Xue}   \n",
       "3640                                                                                  {Tesla Gigafactory}   \n",
       "9340                                                                                          {Elon Musk}   \n",
       "9072                                               {Brian Rothenberg, Elon Musk, Gene Simmons, Joe Biden}   \n",
       "883                                                                             {Cathie Wood, Cathie Ark}   \n",
       "1515                                                               {Ted Cruz, Pramila Jayapal, Elon Musk}   \n",
       "2922                                                                                                  NaN   \n",
       "\n",
       "                                     Organizations             AvgTone  \\\n",
       "7381                                {'lithium': 7}   0.414937759336099   \n",
       "2283                                  {'tesla': 1}                -4.8   \n",
       "1023                                  {'tesla': 1}                   0   \n",
       "7989                      {'apple': 1, 'tesla': 1}   -1.88679245283019   \n",
       "3640                                  {'tesla': 1}   -0.51413881748072   \n",
       "9340                                  {'tesla': 1}   -2.38095238095238   \n",
       "9072                    {'twitter': 2, 'tesla': 1}  -0.367647058823529   \n",
       "883   {'roku': 1, 'teladoc health': 1, 'tesla': 1}                   0   \n",
       "1515                    {'twitter': 3, 'tesla': 2}   -1.77664974619289   \n",
       "2922                                  {'tesla': 1}   -1.71428571428571   \n",
       "\n",
       "               PosScore           NegScore           Polarity  \n",
       "7381    2.0746887966805    1.6597510373444    3.7344398340249  \n",
       "2283                2.4                7.2                9.6  \n",
       "1023  0.380952380952381  0.380952380952381  0.761904761904762  \n",
       "7989  0.838574423480084   2.72536687631027   3.56394129979036  \n",
       "3640   3.59897172236504   4.11311053984576    7.7120822622108  \n",
       "9340   2.38095238095238   4.76190476190476   7.14285714285714  \n",
       "9072              3.125   3.49264705882353   6.61764705882353  \n",
       "883     2.5830258302583    2.5830258302583   5.16605166051661  \n",
       "1515   1.77664974619289   3.55329949238579   5.32994923857868  \n",
       "2922   1.71428571428571   3.42857142857143   5.14285714285714  "
      ]
     },
     "execution_count": 21,
     "metadata": {},
     "output_type": "execute_result"
    }
   ],
   "source": [
    "gdelt_df.sample(10)"
   ]
  },
  {
   "cell_type": "code",
   "execution_count": 22,
   "id": "05b1727f",
   "metadata": {
    "execution": {
     "iopub.execute_input": "2022-04-19T04:23:47.607894Z",
     "iopub.status.busy": "2022-04-19T04:23:47.607691Z",
     "iopub.status.idle": "2022-04-19T04:23:47.699279Z",
     "shell.execute_reply": "2022-04-19T04:23:47.698825Z"
    },
    "papermill": {
     "duration": 0.108533,
     "end_time": "2022-04-19T04:23:47.700892",
     "exception": false,
     "start_time": "2022-04-19T04:23:47.592359",
     "status": "completed"
    },
    "tags": []
   },
   "outputs": [
    {
     "name": "stdout",
     "output_type": "stream",
     "text": [
      "Saved file /Users/aiujdm2/market_watch/output/data/interim/gdelt_gkg_data-cleaned.csv\n"
     ]
    }
   ],
   "source": [
    "output_file_path = product['data']\n",
    "Path(output_file_path).parent.mkdir(exist_ok=True, parents=True)\n",
    "gdelt_df.to_csv(output_file_path)\n",
    "print(f\"Saved file {output_file_path}\")"
   ]
  },
  {
   "cell_type": "code",
   "execution_count": 23,
   "id": "8366965f",
   "metadata": {
    "execution": {
     "iopub.execute_input": "2022-04-19T04:23:47.732187Z",
     "iopub.status.busy": "2022-04-19T04:23:47.732027Z",
     "iopub.status.idle": "2022-04-19T04:23:47.738297Z",
     "shell.execute_reply": "2022-04-19T04:23:47.737819Z"
    },
    "papermill": {
     "duration": 0.023764,
     "end_time": "2022-04-19T04:23:47.739960",
     "exception": false,
     "start_time": "2022-04-19T04:23:47.716196",
     "status": "completed"
    },
    "tags": []
   },
   "outputs": [],
   "source": [
    "del gdelt_df, securities_df"
   ]
  },
  {
   "cell_type": "code",
   "execution_count": null,
   "id": "1803b29c",
   "metadata": {
    "papermill": {
     "duration": 0.015408,
     "end_time": "2022-04-19T04:23:47.772427",
     "exception": false,
     "start_time": "2022-04-19T04:23:47.757019",
     "status": "completed"
    },
    "tags": []
   },
   "outputs": [],
   "source": []
  }
 ],
 "metadata": {
  "jupytext": {
   "cell_metadata_filter": "tags,-all",
   "main_language": "python",
   "notebook_metadata_filter": "-all",
   "text_representation": {
    "extension": ".py",
    "format_name": "light"
   }
  },
  "kernelspec": {
   "display_name": "Python 3 (ipykernel)",
   "language": "python",
   "name": "python3"
  },
  "language_info": {
   "codemirror_mode": {
    "name": "ipython",
    "version": 3
   },
   "file_extension": ".py",
   "mimetype": "text/x-python",
   "name": "python",
   "nbconvert_exporter": "python",
   "pygments_lexer": "ipython3",
   "version": "3.9.10"
  },
  "papermill": {
   "duration": 58.200525,
   "end_time": "2022-04-19T04:23:48.311405",
   "exception": null,
   "input_path": "/var/folders/b0/4tc1nfbd6z7_vhx4nxcj2n91c0l9h6/T/tmpjn_y8kr5.ipynb",
   "output_path": "/Users/aiujdm2/market_watch/output/notebooks/clean_gdelt_data.ipynb",
   "parameters": {
    "product": {
     "data": "/Users/aiujdm2/market_watch/output/data/interim/gdelt_gkg_data-cleaned.csv",
     "nb": "/Users/aiujdm2/market_watch/output/notebooks/clean_gdelt_data.ipynb"
    },
    "upstream": {
     "fetch_n_filter_gdelt_bq": {
      "data": "/Users/aiujdm2/market_watch/output/data/raw/gdelt_gkg_bqdata-raw.csv",
      "nb": "/Users/aiujdm2/market_watch/output/notebooks/fetch_n_filter_gdelt_bq.ipynb"
     },
     "normalize_security_names": {
      "data": "/Users/aiujdm2/market_watch/output/data/interim/normalized_security_names.csv",
      "nb": "/Users/aiujdm2/market_watch/output/notebooks/normalize_security_names.ipynb"
     }
    }
   },
   "start_time": "2022-04-19T04:22:50.110880"
  }
 },
 "nbformat": 4,
 "nbformat_minor": 5
}