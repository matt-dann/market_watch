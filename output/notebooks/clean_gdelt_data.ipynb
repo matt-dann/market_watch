{
 "cells": [
  {
   "cell_type": "code",
   "execution_count": 1,
   "id": "57744bd8",
   "metadata": {
    "execution": {
     "iopub.execute_input": "2022-04-06T17:43:34.425865Z",
     "iopub.status.busy": "2022-04-06T17:43:34.423768Z",
     "iopub.status.idle": "2022-04-06T17:43:34.447183Z",
     "shell.execute_reply": "2022-04-06T17:43:34.445399Z"
    },
    "papermill": {
     "duration": 0.043511,
     "end_time": "2022-04-06T17:43:34.450860",
     "exception": false,
     "start_time": "2022-04-06T17:43:34.407349",
     "status": "completed"
    },
    "tags": [
     "parameters"
    ]
   },
   "outputs": [],
   "source": [
    "# your parameters here...\n",
    "upstream = ['fetch_n_filter_gdelt_bq']"
   ]
  },
  {
   "cell_type": "code",
   "execution_count": 2,
   "id": "a600d6ed",
   "metadata": {
    "execution": {
     "iopub.execute_input": "2022-04-06T17:43:34.465544Z",
     "iopub.status.busy": "2022-04-06T17:43:34.465062Z",
     "iopub.status.idle": "2022-04-06T17:43:34.474578Z",
     "shell.execute_reply": "2022-04-06T17:43:34.472978Z"
    },
    "papermill": {
     "duration": 0.020588,
     "end_time": "2022-04-06T17:43:34.477937",
     "exception": false,
     "start_time": "2022-04-06T17:43:34.457349",
     "status": "completed"
    },
    "tags": [
     "injected-parameters"
    ]
   },
   "outputs": [],
   "source": [
    "# Parameters\n",
    "path_params = {\"sp_500_path\": \"data/external/\"}\n",
    "upstream = {\n",
    "    \"fetch_n_filter_gdelt_bq\": {\n",
    "        \"nb\": \"/root/market_watch/output/notebooks/fetch_n_filter_gdelt_bq.ipynb\",\n",
    "        \"data\": \"/root/market_watch/output/data/raw/gdelt_gkg_bqdata-raw.csv\",\n",
    "    }\n",
    "}\n",
    "product = {\n",
    "    \"nb\": \"/root/market_watch/output/notebooks/clean_gdelt_data.ipynb\",\n",
    "    \"data\": \"/root/market_watch/output/data/interim/gdelt_gkg_data-cleaned.csv\",\n",
    "}\n"
   ]
  },
  {
   "cell_type": "code",
   "execution_count": 3,
   "id": "f8911eba",
   "metadata": {
    "execution": {
     "iopub.execute_input": "2022-04-06T17:43:34.493311Z",
     "iopub.status.busy": "2022-04-06T17:43:34.491706Z",
     "iopub.status.idle": "2022-04-06T17:43:34.717558Z",
     "shell.execute_reply": "2022-04-06T17:43:34.716960Z"
    },
    "papermill": {
     "duration": 0.235533,
     "end_time": "2022-04-06T17:43:34.719054",
     "exception": false,
     "start_time": "2022-04-06T17:43:34.483521",
     "status": "completed"
    },
    "tags": []
   },
   "outputs": [],
   "source": [
    "# your code here...\n",
    "import pandas as pd\n",
    "import numpy as np\n",
    "from pathlib import Path\n",
    "\n",
    "pd.options.display.max_colwidth = 200"
   ]
  },
  {
   "cell_type": "code",
   "execution_count": 4,
   "id": "ed4c0b5d",
   "metadata": {
    "execution": {
     "iopub.execute_input": "2022-04-06T17:43:34.725088Z",
     "iopub.status.busy": "2022-04-06T17:43:34.724881Z",
     "iopub.status.idle": "2022-04-06T17:43:34.787353Z",
     "shell.execute_reply": "2022-04-06T17:43:34.786702Z"
    },
    "papermill": {
     "duration": 0.06731,
     "end_time": "2022-04-06T17:43:34.788690",
     "exception": false,
     "start_time": "2022-04-06T17:43:34.721380",
     "status": "completed"
    },
    "tags": []
   },
   "outputs": [
    {
     "name": "stdout",
     "output_type": "stream",
     "text": [
      "Index(['GKGRECORDID', 'DATE', 'SourceCollectionIdentifier',\n",
      "       'DocumentIdentifier', 'Locations', 'Persons', 'Organizations', 'Tone'],\n",
      "      dtype='object')\n"
     ]
    }
   ],
   "source": [
    "input_file_path = upstream['fetch_n_filter_gdelt_bq']['data']\n",
    "\n",
    "data_df = pd.read_csv(input_file_path, index_col=0)\n",
    "print(data_df.columns)"
   ]
  },
  {
   "cell_type": "code",
   "execution_count": 5,
   "id": "f7fa737b",
   "metadata": {
    "execution": {
     "iopub.execute_input": "2022-04-06T17:43:34.793621Z",
     "iopub.status.busy": "2022-04-06T17:43:34.793460Z",
     "iopub.status.idle": "2022-04-06T17:43:34.854095Z",
     "shell.execute_reply": "2022-04-06T17:43:34.853492Z"
    },
    "lines_to_next_cell": 2,
    "papermill": {
     "duration": 0.064837,
     "end_time": "2022-04-06T17:43:34.855556",
     "exception": false,
     "start_time": "2022-04-06T17:43:34.790719",
     "status": "completed"
    },
    "tags": []
   },
   "outputs": [],
   "source": [
    "def split_locations(location_list):\n",
    "    location_names = []\n",
    "    if type(location_list) is not float:\n",
    "        for location_string in location_list:\n",
    "            loc_parts = location_string.split('#')\n",
    "            location_names.append(loc_parts[1]) if len(loc_parts) > 1 else np.nan\n",
    "            \n",
    "    return location_names\n",
    "\n",
    "data_df.Locations = data_df.Locations.str.split(';').apply(split_locations)"
   ]
  },
  {
   "cell_type": "code",
   "execution_count": 6,
   "id": "e45f5c3e",
   "metadata": {
    "execution": {
     "iopub.execute_input": "2022-04-06T17:43:34.861050Z",
     "iopub.status.busy": "2022-04-06T17:43:34.860876Z",
     "iopub.status.idle": "2022-04-06T17:43:34.875011Z",
     "shell.execute_reply": "2022-04-06T17:43:34.874362Z"
    },
    "papermill": {
     "duration": 0.018363,
     "end_time": "2022-04-06T17:43:34.876200",
     "exception": false,
     "start_time": "2022-04-06T17:43:34.857837",
     "status": "completed"
    },
    "tags": []
   },
   "outputs": [],
   "source": [
    "#  Clean some data elements\n",
    "data_df.Persons = data_df.Persons.str.findall(pat=\"[A-Z][a-z]+ [A-Z][a-z]+\")"
   ]
  },
  {
   "cell_type": "code",
   "execution_count": 7,
   "id": "2c29698f",
   "metadata": {
    "execution": {
     "iopub.execute_input": "2022-04-06T17:43:34.881621Z",
     "iopub.status.busy": "2022-04-06T17:43:34.881346Z",
     "iopub.status.idle": "2022-04-06T17:43:34.884553Z",
     "shell.execute_reply": "2022-04-06T17:43:34.883939Z"
    },
    "papermill": {
     "duration": 0.007657,
     "end_time": "2022-04-06T17:43:34.885955",
     "exception": false,
     "start_time": "2022-04-06T17:43:34.878298",
     "status": "completed"
    },
    "tags": []
   },
   "outputs": [],
   "source": [
    "# data_df.Organizations = data_df.Organizations.str.replace(\"Tesla|Tesla Motors|Tesla Inc\", '').str.findall(pat=\"[A-Z][a-z]+ [A-Z][a-z]+\")"
   ]
  },
  {
   "cell_type": "code",
   "execution_count": 8,
   "id": "fef2883d",
   "metadata": {
    "execution": {
     "iopub.execute_input": "2022-04-06T17:43:34.893704Z",
     "iopub.status.busy": "2022-04-06T17:43:34.893542Z",
     "iopub.status.idle": "2022-04-06T17:43:34.902498Z",
     "shell.execute_reply": "2022-04-06T17:43:34.901857Z"
    },
    "papermill": {
     "duration": 0.015606,
     "end_time": "2022-04-06T17:43:34.903786",
     "exception": false,
     "start_time": "2022-04-06T17:43:34.888180",
     "status": "completed"
    },
    "tags": []
   },
   "outputs": [],
   "source": [
    "data_df.Tone = data_df.Tone.str.split(',')"
   ]
  },
  {
   "cell_type": "code",
   "execution_count": 9,
   "id": "efad9852",
   "metadata": {
    "execution": {
     "iopub.execute_input": "2022-04-06T17:43:34.909096Z",
     "iopub.status.busy": "2022-04-06T17:43:34.908936Z",
     "iopub.status.idle": "2022-04-06T17:43:34.919189Z",
     "shell.execute_reply": "2022-04-06T17:43:34.918547Z"
    },
    "papermill": {
     "duration": 0.014555,
     "end_time": "2022-04-06T17:43:34.920489",
     "exception": false,
     "start_time": "2022-04-06T17:43:34.905934",
     "status": "completed"
    },
    "tags": []
   },
   "outputs": [],
   "source": [
    "# Clean Tone\n",
    "data_df['AvgTone'] = data_df.Tone.apply(lambda x: x[0])\n",
    "data_df['PosScore'] = data_df.Tone.apply(lambda x: x[1])\n",
    "data_df['NegScore'] = data_df.Tone.apply(lambda x: x[2])\n",
    "data_df['Polarity'] = data_df.Tone.apply(lambda x: x[3])"
   ]
  },
  {
   "cell_type": "code",
   "execution_count": 10,
   "id": "be8fc7cf",
   "metadata": {
    "execution": {
     "iopub.execute_input": "2022-04-06T17:43:34.926133Z",
     "iopub.status.busy": "2022-04-06T17:43:34.925972Z",
     "iopub.status.idle": "2022-04-06T17:43:34.935554Z",
     "shell.execute_reply": "2022-04-06T17:43:34.934928Z"
    },
    "lines_to_end_of_cell_marker": 0,
    "lines_to_next_cell": 1,
    "papermill": {
     "duration": 0.013838,
     "end_time": "2022-04-06T17:43:34.936713",
     "exception": false,
     "start_time": "2022-04-06T17:43:34.922875",
     "status": "completed"
    },
    "tags": []
   },
   "outputs": [],
   "source": [
    "threshold = 1\n",
    "path = path_params['sp_500_path'] + 'sp500_list.xlsx'\n",
    "\n",
    "\n",
    "def get_rel_company_names(path):\n",
    "    rel_company = pd.read_excel(path)\n",
    "    rel_company = rel_company['Security']\n",
    "    expand_rel_company = {}\n",
    "    for company in rel_company:\n",
    "        company = company.lower()\n",
    "        company_name_list = []\n",
    "        company_name_list.append(company)\n",
    "        for postfix in ['inc', 'inc.', 'incorporation', 'corp.', 'corp', 'corporation']:\n",
    "            if postfix in company_name_list[0]:\n",
    "                break\n",
    "        for postfix in ['inc', 'incorporation', 'corp', 'corporation']:\n",
    "            company_name_list.append(company_name_list[0] + ' ' + postfix)\n",
    "        words = company.split(' ')\n",
    "        for n in range(1, len(words)):\n",
    "            if words[0:n] not in company_name_list:\n",
    "                company_name_list.append(' '.join(words[0:n]))\n",
    "        expand_rel_company.update({company: company_name_list})\n",
    "    return expand_rel_company\n",
    "\n",
    "\n",
    "def filter_org_col(org_cell, rel_comp_dict, threshold):\n",
    "    result_dict = {}\n",
    "    if org_cell != None:\n",
    "        try:\n",
    "            org_cell.split(';')\n",
    "        except:\n",
    "            print(org_cell)\n",
    "        for item in org_cell.split(';'):\n",
    "            word = item.split(',')[0]\n",
    "            rel_company_names = [val for list_ in rel_comp_dict.values() for val in list_]\n",
    "            if word in rel_company_names:\n",
    "                for key, names_list in rel_comp_dict.items():\n",
    "                    if word in names_list:\n",
    "                        if key in result_dict.keys():\n",
    "                            result_dict.update({key: result_dict[key] + 1})\n",
    "                        else:\n",
    "                            result_dict.update({key : 1})\n",
    "            else:\n",
    "                if word in result_dict.keys():\n",
    "                    result_dict.update({word : result_dict[word] +1})\n",
    "                else:\n",
    "                    result_dict.update({word : 1})\n",
    "    result_dict = {key: val for key, val in result_dict.items() if val >= threshold}\n",
    "    return result_dict\n",
    "\n",
    "\n",
    "def extract_company_articles(df, path, threshold):\n",
    "    '''\n",
    "    Ectract all article that contain company_name from csv files.\n",
    "    Parameters:\n",
    "        Company_name= main company to filter for\n",
    "        path= path to GDELT csv's\n",
    "        path2= path to list to SP500 csv\n",
    "        threshold= minimum count for related company to be included\n",
    "    '''\n",
    "    rel_company_dict = get_rel_company_names(path)\n",
    "    df['Org Count'] = df['Organizations'].map(lambda x: filter_org_col(x, rel_company_dict, threshold), na_action='ignore')\n",
    "\n",
    "    return df\n"
   ]
  },
  {
   "cell_type": "code",
   "execution_count": 11,
   "id": "76d72a7c",
   "metadata": {
    "execution": {
     "iopub.execute_input": "2022-04-06T17:43:34.942116Z",
     "iopub.status.busy": "2022-04-06T17:43:34.941956Z",
     "iopub.status.idle": "2022-04-06T17:43:47.381313Z",
     "shell.execute_reply": "2022-04-06T17:43:47.380507Z"
    },
    "papermill": {
     "duration": 12.443769,
     "end_time": "2022-04-06T17:43:47.382603",
     "exception": false,
     "start_time": "2022-04-06T17:43:34.938834",
     "status": "completed"
    },
    "tags": []
   },
   "outputs": [
    {
     "name": "stdout",
     "output_type": "stream",
     "text": [
      "CPU times: user 12.4 s, sys: 2.98 ms, total: 12.4 s\n",
      "Wall time: 12.4 s\n"
     ]
    }
   ],
   "source": [
    "%%time\n",
    "data_df = extract_company_articles(data_df, path, threshold)"
   ]
  },
  {
   "cell_type": "code",
   "execution_count": 12,
   "id": "eb38a3e5",
   "metadata": {
    "execution": {
     "iopub.execute_input": "2022-04-06T17:43:47.388627Z",
     "iopub.status.busy": "2022-04-06T17:43:47.388457Z",
     "iopub.status.idle": "2022-04-06T17:43:47.396778Z",
     "shell.execute_reply": "2022-04-06T17:43:47.396177Z"
    },
    "lines_to_next_cell": 2,
    "papermill": {
     "duration": 0.012816,
     "end_time": "2022-04-06T17:43:47.397929",
     "exception": false,
     "start_time": "2022-04-06T17:43:47.385113",
     "status": "completed"
    },
    "tags": []
   },
   "outputs": [],
   "source": [
    "data_df.drop([\"Tone\", \"DATE\", \"SourceCollectionIdentifier\", \"DocumentIdentifier\"], axis = 1, inplace=True)"
   ]
  },
  {
   "cell_type": "code",
   "execution_count": 13,
   "id": "1d9e893c",
   "metadata": {
    "execution": {
     "iopub.execute_input": "2022-04-06T17:43:47.404127Z",
     "iopub.status.busy": "2022-04-06T17:43:47.403965Z",
     "iopub.status.idle": "2022-04-06T17:43:47.533860Z",
     "shell.execute_reply": "2022-04-06T17:43:47.533279Z"
    },
    "papermill": {
     "duration": 0.134534,
     "end_time": "2022-04-06T17:43:47.535034",
     "exception": false,
     "start_time": "2022-04-06T17:43:47.400500",
     "status": "completed"
    },
    "tags": []
   },
   "outputs": [
    {
     "name": "stdout",
     "output_type": "stream",
     "text": [
      "Saved file /root/market_watch/output/data/interim/gdelt_gkg_data-cleaned.csv\n"
     ]
    }
   ],
   "source": [
    "output_file_path = product['data']\n",
    "Path(output_file_path).parent.mkdir(exist_ok=True, parents=True)\n",
    "data_df.to_csv(output_file_path)\n",
    "print(f\"Saved file {output_file_path}\")"
   ]
  },
  {
   "cell_type": "code",
   "execution_count": null,
   "id": "580f8b00",
   "metadata": {
    "papermill": {
     "duration": 0.002566,
     "end_time": "2022-04-06T17:43:47.540160",
     "exception": false,
     "start_time": "2022-04-06T17:43:47.537594",
     "status": "completed"
    },
    "tags": []
   },
   "outputs": [],
   "source": []
  }
 ],
 "metadata": {
  "jupytext": {
   "cell_metadata_filter": "tags,-all",
   "main_language": "python",
   "notebook_metadata_filter": "-all",
   "text_representation": {
    "extension": ".py",
    "format_name": "light"
   }
  },
  "kernelspec": {
   "display_name": "Python 3 (ipykernel)",
   "language": "python",
   "name": "python3"
  },
  "language_info": {
   "codemirror_mode": {
    "name": "ipython",
    "version": 3
   },
   "file_extension": ".py",
   "mimetype": "text/x-python",
   "name": "python",
   "nbconvert_exporter": "python",
   "pygments_lexer": "ipython3",
   "version": "3.8.13"
  },
  "papermill": {
   "duration": 14.292826,
   "end_time": "2022-04-06T17:43:47.765794",
   "exception": null,
   "input_path": "/tmp/tmpf05b42u5.ipynb",
   "output_path": "/root/market_watch/output/notebooks/clean_gdelt_data.ipynb",
   "parameters": {
    "path_params": {
     "sp_500_path": "data/external/"
    },
    "product": {
     "data": "/root/market_watch/output/data/interim/gdelt_gkg_data-cleaned.csv",
     "nb": "/root/market_watch/output/notebooks/clean_gdelt_data.ipynb"
    },
    "upstream": {
     "fetch_n_filter_gdelt_bq": {
      "data": "/root/market_watch/output/data/raw/gdelt_gkg_bqdata-raw.csv",
      "nb": "/root/market_watch/output/notebooks/fetch_n_filter_gdelt_bq.ipynb"
     }
    }
   },
   "start_time": "2022-04-06T17:43:33.472968"
  }
 },
 "nbformat": 4,
 "nbformat_minor": 5
}