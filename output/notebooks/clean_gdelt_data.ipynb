{
 "cells": [
  {
   "cell_type": "code",
   "execution_count": 1,
   "id": "0012cde1",
   "metadata": {
    "execution": {
     "iopub.execute_input": "2022-03-22T20:43:59.592214Z",
     "iopub.status.busy": "2022-03-22T20:43:59.591907Z",
     "iopub.status.idle": "2022-03-22T20:43:59.599744Z",
     "shell.execute_reply": "2022-03-22T20:43:59.599161Z"
    },
    "papermill": {
     "duration": 0.024139,
     "end_time": "2022-03-22T20:43:59.601977",
     "exception": false,
     "start_time": "2022-03-22T20:43:59.577838",
     "status": "completed"
    },
    "tags": [
     "parameters"
    ]
   },
   "outputs": [],
   "source": [
    "# your parameters here...\n",
    "upstream = ['fetch_n_filter_gdelt_bq']"
   ]
  },
  {
   "cell_type": "code",
   "execution_count": 2,
   "id": "72f9a805",
   "metadata": {
    "execution": {
     "iopub.execute_input": "2022-03-22T20:43:59.623871Z",
     "iopub.status.busy": "2022-03-22T20:43:59.623634Z",
     "iopub.status.idle": "2022-03-22T20:43:59.627419Z",
     "shell.execute_reply": "2022-03-22T20:43:59.626802Z"
    },
    "papermill": {
     "duration": 0.016563,
     "end_time": "2022-03-22T20:43:59.629261",
     "exception": false,
     "start_time": "2022-03-22T20:43:59.612698",
     "status": "completed"
    },
    "tags": [
     "injected-parameters"
    ]
   },
   "outputs": [],
   "source": [
    "# Parameters\n",
    "path_params = {\"sp_500_path\": \"data/external/\"}\n",
    "upstream = {\n",
    "    \"fetch_n_filter_gdelt_bq\": {\n",
    "        \"nb\": \"/Users/aiujdm2/market_watch/output/notebooks/fetch_n_filter_gdelt_bq.ipynb\",\n",
    "        \"data\": \"/Users/aiujdm2/market_watch/output/data/raw/gdelt-gkg-bq.csv\",\n",
    "    }\n",
    "}\n",
    "product = {\n",
    "    \"nb\": \"/Users/aiujdm2/market_watch/output/notebooks/clean_gdelt_data.ipynb\",\n",
    "    \"data\": \"/Users/aiujdm2/market_watch/output/data/interim/cleaned-gdelt-data.csv\",\n",
    "}\n"
   ]
  },
  {
   "cell_type": "code",
   "execution_count": 3,
   "id": "263a55c9",
   "metadata": {
    "execution": {
     "iopub.execute_input": "2022-03-22T20:43:59.649389Z",
     "iopub.status.busy": "2022-03-22T20:43:59.649141Z",
     "iopub.status.idle": "2022-03-22T20:43:59.935268Z",
     "shell.execute_reply": "2022-03-22T20:43:59.934623Z"
    },
    "papermill": {
     "duration": 0.298,
     "end_time": "2022-03-22T20:43:59.936939",
     "exception": false,
     "start_time": "2022-03-22T20:43:59.638939",
     "status": "completed"
    },
    "tags": []
   },
   "outputs": [],
   "source": [
    "# your code here...\n",
    "import pandas as pd\n",
    "import numpy as np\n",
    "from pathlib import Path\n",
    "\n",
    "pd.options.display.max_colwidth = 200"
   ]
  },
  {
   "cell_type": "code",
   "execution_count": 4,
   "id": "080eaddb",
   "metadata": {
    "execution": {
     "iopub.execute_input": "2022-03-22T20:43:59.954042Z",
     "iopub.status.busy": "2022-03-22T20:43:59.953804Z",
     "iopub.status.idle": "2022-03-22T20:44:00.059481Z",
     "shell.execute_reply": "2022-03-22T20:44:00.058857Z"
    },
    "papermill": {
     "duration": 0.116505,
     "end_time": "2022-03-22T20:44:00.061375",
     "exception": false,
     "start_time": "2022-03-22T20:43:59.944870",
     "status": "completed"
    },
    "tags": []
   },
   "outputs": [
    {
     "name": "stdout",
     "output_type": "stream",
     "text": [
      "Index(['GKGRECORDID', 'DATE', 'SourceCollectionIdentifier',\n",
      "       'DocumentIdentifier', 'Locations', 'Persons', 'Organizations', 'Tone'],\n",
      "      dtype='object')\n"
     ]
    }
   ],
   "source": [
    "input_file_path = upstream['fetch_n_filter_gdelt_bq']['data']\n",
    "\n",
    "data_df = pd.read_csv(input_file_path, index_col=0)\n",
    "print(data_df.columns)"
   ]
  },
  {
   "cell_type": "code",
   "execution_count": 5,
   "id": "00eca027",
   "metadata": {
    "execution": {
     "iopub.execute_input": "2022-03-22T20:44:00.083190Z",
     "iopub.status.busy": "2022-03-22T20:44:00.082963Z",
     "iopub.status.idle": "2022-03-22T20:44:00.176861Z",
     "shell.execute_reply": "2022-03-22T20:44:00.176380Z"
    },
    "lines_to_next_cell": 2,
    "papermill": {
     "duration": 0.106262,
     "end_time": "2022-03-22T20:44:00.178398",
     "exception": false,
     "start_time": "2022-03-22T20:44:00.072136",
     "status": "completed"
    },
    "tags": []
   },
   "outputs": [],
   "source": [
    "def split_locations(location_list):\n",
    "    location_names = []\n",
    "    if type(location_list) is not float:\n",
    "        for location_string in location_list:\n",
    "            loc_parts = location_string.split('#')\n",
    "            location_names.append(loc_parts[1]) if len(loc_parts) > 1 else np.nan\n",
    "            \n",
    "    return location_names\n",
    "\n",
    "data_df.Locations = data_df.Locations.str.split(';').apply(split_locations)"
   ]
  },
  {
   "cell_type": "code",
   "execution_count": 6,
   "id": "8fa4fe02",
   "metadata": {
    "execution": {
     "iopub.execute_input": "2022-03-22T20:44:00.198447Z",
     "iopub.status.busy": "2022-03-22T20:44:00.198244Z",
     "iopub.status.idle": "2022-03-22T20:44:00.214413Z",
     "shell.execute_reply": "2022-03-22T20:44:00.213757Z"
    },
    "papermill": {
     "duration": 0.028228,
     "end_time": "2022-03-22T20:44:00.216155",
     "exception": false,
     "start_time": "2022-03-22T20:44:00.187927",
     "status": "completed"
    },
    "tags": []
   },
   "outputs": [],
   "source": [
    "#  Clean some data elements\n",
    "data_df.Persons = data_df.Persons.str.findall(pat=\"[A-Z][a-z]+ [A-Z][a-z]+\")"
   ]
  },
  {
   "cell_type": "code",
   "execution_count": 7,
   "id": "b8c1a5d3",
   "metadata": {
    "execution": {
     "iopub.execute_input": "2022-03-22T20:44:00.235154Z",
     "iopub.status.busy": "2022-03-22T20:44:00.234961Z",
     "iopub.status.idle": "2022-03-22T20:44:00.237705Z",
     "shell.execute_reply": "2022-03-22T20:44:00.237171Z"
    },
    "papermill": {
     "duration": 0.013657,
     "end_time": "2022-03-22T20:44:00.239331",
     "exception": false,
     "start_time": "2022-03-22T20:44:00.225674",
     "status": "completed"
    },
    "tags": []
   },
   "outputs": [],
   "source": [
    "# data_df.Organizations = data_df.Organizations.str.replace(\"Tesla|Tesla Motors|Tesla Inc\", '').str.findall(pat=\"[A-Z][a-z]+ [A-Z][a-z]+\")"
   ]
  },
  {
   "cell_type": "code",
   "execution_count": 8,
   "id": "8aa5a6a8",
   "metadata": {
    "execution": {
     "iopub.execute_input": "2022-03-22T20:44:00.256430Z",
     "iopub.status.busy": "2022-03-22T20:44:00.256247Z",
     "iopub.status.idle": "2022-03-22T20:44:00.264937Z",
     "shell.execute_reply": "2022-03-22T20:44:00.264428Z"
    },
    "papermill": {
     "duration": 0.019087,
     "end_time": "2022-03-22T20:44:00.266554",
     "exception": false,
     "start_time": "2022-03-22T20:44:00.247467",
     "status": "completed"
    },
    "tags": []
   },
   "outputs": [],
   "source": [
    "data_df.Tone = data_df.Tone.str.split(',')"
   ]
  },
  {
   "cell_type": "code",
   "execution_count": 9,
   "id": "a5cb0e35",
   "metadata": {
    "execution": {
     "iopub.execute_input": "2022-03-22T20:44:00.283872Z",
     "iopub.status.busy": "2022-03-22T20:44:00.283685Z",
     "iopub.status.idle": "2022-03-22T20:44:00.293550Z",
     "shell.execute_reply": "2022-03-22T20:44:00.293029Z"
    },
    "papermill": {
     "duration": 0.020245,
     "end_time": "2022-03-22T20:44:00.295134",
     "exception": false,
     "start_time": "2022-03-22T20:44:00.274889",
     "status": "completed"
    },
    "tags": []
   },
   "outputs": [],
   "source": [
    "# Clean Tone\n",
    "data_df['AvgTone'] = data_df.Tone.apply(lambda x: x[0])\n",
    "data_df['PosScore'] = data_df.Tone.apply(lambda x: x[1])\n",
    "data_df['NegScore'] = data_df.Tone.apply(lambda x: x[2])\n",
    "data_df['Polarity'] = data_df.Tone.apply(lambda x: x[3])"
   ]
  },
  {
   "cell_type": "code",
   "execution_count": 10,
   "id": "ddde07f5",
   "metadata": {
    "execution": {
     "iopub.execute_input": "2022-03-22T20:44:00.314596Z",
     "iopub.status.busy": "2022-03-22T20:44:00.314385Z",
     "iopub.status.idle": "2022-03-22T20:44:00.324289Z",
     "shell.execute_reply": "2022-03-22T20:44:00.323807Z"
    },
    "lines_to_end_of_cell_marker": 0,
    "lines_to_next_cell": 1,
    "papermill": {
     "duration": 0.020799,
     "end_time": "2022-03-22T20:44:00.325996",
     "exception": false,
     "start_time": "2022-03-22T20:44:00.305197",
     "status": "completed"
    },
    "tags": []
   },
   "outputs": [],
   "source": [
    "threshold = 1\n",
    "path = path_params['sp_500_path'] + 'sp500_list.xlsx'\n",
    "\n",
    "\n",
    "def get_rel_company_names(path):\n",
    "    rel_company = pd.read_excel(path)\n",
    "    rel_company = rel_company['Security']\n",
    "    expand_rel_company = {}\n",
    "    for company in rel_company:\n",
    "        company = company.lower()\n",
    "        company_name_list = []\n",
    "        company_name_list.append(company)\n",
    "        for postfix in ['inc', 'inc.', 'incorporation', 'corp.', 'corp', 'corporation']:\n",
    "            if postfix in company_name_list[0]:\n",
    "                break\n",
    "        for postfix in ['inc', 'incorporation', 'corp', 'corporation']:\n",
    "            company_name_list.append(company_name_list[0] + ' ' + postfix)\n",
    "        words = company.split(' ')\n",
    "        for n in range(1, len(words)):\n",
    "            if words[0:n] not in company_name_list:\n",
    "                company_name_list.append(' '.join(words[0:n]))\n",
    "        expand_rel_company.update({company: company_name_list})\n",
    "    return expand_rel_company\n",
    "\n",
    "\n",
    "def filter_org_col(org_cell, rel_comp_dict, threshold):\n",
    "    result_dict = {}\n",
    "    if org_cell != None:\n",
    "        try:\n",
    "            org_cell.split(';')\n",
    "        except:\n",
    "            print(org_cell)\n",
    "        for item in org_cell.split(';'):\n",
    "            word = item.split(',')[0]\n",
    "            rel_company_names = [val for list_ in rel_comp_dict.values() for val in list_]\n",
    "            if word in rel_company_names:\n",
    "                for key, names_list in rel_comp_dict.items():\n",
    "                    if word in names_list:\n",
    "                        if key in result_dict.keys():\n",
    "                            result_dict.update({key: result_dict[key] + 1})\n",
    "                        else:\n",
    "                            result_dict.update({key : 1})\n",
    "            else:\n",
    "                if word in result_dict.keys():\n",
    "                    result_dict.update({word : result_dict[word] +1})\n",
    "                else:\n",
    "                    result_dict.update({word : 1})\n",
    "    result_dict = {key: val for key, val in result_dict.items() if val >= threshold}\n",
    "    return result_dict\n",
    "\n",
    "\n",
    "def extract_company_articles(df, path, threshold):\n",
    "    '''\n",
    "    Ectract all article that contain company_name from csv files.\n",
    "    Parameters:\n",
    "        Company_name= main company to filter for\n",
    "        path= path to GDELT csv's\n",
    "        path2= path to list to SP500 csv\n",
    "        threshold= minimum count for related company to be included\n",
    "    '''\n",
    "    rel_company_dict = get_rel_company_names(path)\n",
    "    df['Org Count'] = df['Organizations'].map(lambda x: filter_org_col(x, rel_company_dict, threshold), na_action='ignore')\n",
    "\n",
    "    return df\n"
   ]
  },
  {
   "cell_type": "code",
   "execution_count": 11,
   "id": "2b88b104",
   "metadata": {
    "execution": {
     "iopub.execute_input": "2022-03-22T20:44:00.344066Z",
     "iopub.status.busy": "2022-03-22T20:44:00.343874Z",
     "iopub.status.idle": "2022-03-22T20:44:10.562218Z",
     "shell.execute_reply": "2022-03-22T20:44:10.561477Z"
    },
    "papermill": {
     "duration": 10.229105,
     "end_time": "2022-03-22T20:44:10.563844",
     "exception": false,
     "start_time": "2022-03-22T20:44:00.334739",
     "status": "completed"
    },
    "tags": []
   },
   "outputs": [
    {
     "name": "stdout",
     "output_type": "stream",
     "text": [
      "CPU times: user 10.1 s, sys: 45.3 ms, total: 10.2 s\n",
      "Wall time: 10.2 s\n"
     ]
    }
   ],
   "source": [
    "%%time\n",
    "data_df = extract_company_articles(data_df, path, threshold)"
   ]
  },
  {
   "cell_type": "code",
   "execution_count": 12,
   "id": "710383a4",
   "metadata": {
    "execution": {
     "iopub.execute_input": "2022-03-22T20:44:10.583020Z",
     "iopub.status.busy": "2022-03-22T20:44:10.582772Z",
     "iopub.status.idle": "2022-03-22T20:44:10.590859Z",
     "shell.execute_reply": "2022-03-22T20:44:10.590402Z"
    },
    "lines_to_next_cell": 2,
    "papermill": {
     "duration": 0.019413,
     "end_time": "2022-03-22T20:44:10.592575",
     "exception": false,
     "start_time": "2022-03-22T20:44:10.573162",
     "status": "completed"
    },
    "tags": []
   },
   "outputs": [],
   "source": [
    "data_df.drop([\"Tone\", \"DATE\", \"SourceCollectionIdentifier\", \"DocumentIdentifier\"], axis = 1, inplace=True)"
   ]
  },
  {
   "cell_type": "code",
   "execution_count": 13,
   "id": "63bcaa9f",
   "metadata": {
    "execution": {
     "iopub.execute_input": "2022-03-22T20:44:10.614915Z",
     "iopub.status.busy": "2022-03-22T20:44:10.614690Z",
     "iopub.status.idle": "2022-03-22T20:44:10.781254Z",
     "shell.execute_reply": "2022-03-22T20:44:10.780763Z"
    },
    "papermill": {
     "duration": 0.179767,
     "end_time": "2022-03-22T20:44:10.782894",
     "exception": false,
     "start_time": "2022-03-22T20:44:10.603127",
     "status": "completed"
    },
    "tags": []
   },
   "outputs": [
    {
     "name": "stdout",
     "output_type": "stream",
     "text": [
      "Saved file /Users/aiujdm2/market_watch/output/data/interim/cleaned-gdelt-data.csv\n"
     ]
    }
   ],
   "source": [
    "output_file_path = product['data']\n",
    "Path(output_file_path).parent.mkdir(exist_ok=True, parents=True)\n",
    "data_df.to_csv(output_file_path)\n",
    "print(f\"Saved file {output_file_path}\")"
   ]
  },
  {
   "cell_type": "code",
   "execution_count": null,
   "id": "c1f876ea",
   "metadata": {
    "papermill": {
     "duration": 0.009982,
     "end_time": "2022-03-22T20:44:10.803650",
     "exception": false,
     "start_time": "2022-03-22T20:44:10.793668",
     "status": "completed"
    },
    "tags": []
   },
   "outputs": [],
   "source": []
  }
 ],
 "metadata": {
  "jupytext": {
   "cell_metadata_filter": "tags,-all",
   "main_language": "python",
   "notebook_metadata_filter": "-all",
   "text_representation": {
    "extension": ".py",
    "format_name": "light"
   }
  },
  "kernelspec": {
   "display_name": "Python 3 (ipykernel)",
   "language": "python",
   "name": "python3"
  },
  "language_info": {
   "codemirror_mode": {
    "name": "ipython",
    "version": 3
   },
   "file_extension": ".py",
   "mimetype": "text/x-python",
   "name": "python",
   "nbconvert_exporter": "python",
   "pygments_lexer": "ipython3",
   "version": "3.9.10"
  },
  "papermill": {
   "duration": 12.487269,
   "end_time": "2022-03-22T20:44:11.132194",
   "exception": null,
   "input_path": "/var/folders/b0/4tc1nfbd6z7_vhx4nxcj2n91c0l9h6/T/tmp1ow10t6g.ipynb",
   "output_path": "/Users/aiujdm2/market_watch/output/notebooks/clean_gdelt_data.ipynb",
   "parameters": {
    "path_params": {
     "sp_500_path": "data/external/"
    },
    "product": {
     "data": "/Users/aiujdm2/market_watch/output/data/interim/cleaned-gdelt-data.csv",
     "nb": "/Users/aiujdm2/market_watch/output/notebooks/clean_gdelt_data.ipynb"
    },
    "upstream": {
     "fetch_n_filter_gdelt_bq": {
      "data": "/Users/aiujdm2/market_watch/output/data/raw/gdelt-gkg-bq.csv",
      "nb": "/Users/aiujdm2/market_watch/output/notebooks/fetch_n_filter_gdelt_bq.ipynb"
     }
    }
   },
   "start_time": "2022-03-22T20:43:58.644925"
  }
 },
 "nbformat": 4,
 "nbformat_minor": 5
}