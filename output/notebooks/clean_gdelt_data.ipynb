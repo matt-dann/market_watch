{
 "cells": [
  {
   "cell_type": "code",
   "execution_count": 1,
   "id": "9938e519",
   "metadata": {
    "execution": {
     "iopub.execute_input": "2022-03-23T18:06:02.608502Z",
     "iopub.status.busy": "2022-03-23T18:06:02.608213Z",
     "iopub.status.idle": "2022-03-23T18:06:02.615542Z",
     "shell.execute_reply": "2022-03-23T18:06:02.614918Z"
    },
    "papermill": {
     "duration": 0.022603,
     "end_time": "2022-03-23T18:06:02.617556",
     "exception": false,
     "start_time": "2022-03-23T18:06:02.594953",
     "status": "completed"
    },
    "tags": [
     "parameters"
    ]
   },
   "outputs": [],
   "source": [
    "# your parameters here...\n",
    "upstream = ['fetch_n_filter_gdelt_bq']"
   ]
  },
  {
   "cell_type": "code",
   "execution_count": 2,
   "id": "3e9e3deb",
   "metadata": {
    "execution": {
     "iopub.execute_input": "2022-03-23T18:06:02.638292Z",
     "iopub.status.busy": "2022-03-23T18:06:02.638058Z",
     "iopub.status.idle": "2022-03-23T18:06:02.641779Z",
     "shell.execute_reply": "2022-03-23T18:06:02.641261Z"
    },
    "papermill": {
     "duration": 0.015831,
     "end_time": "2022-03-23T18:06:02.643516",
     "exception": false,
     "start_time": "2022-03-23T18:06:02.627685",
     "status": "completed"
    },
    "tags": [
     "injected-parameters"
    ]
   },
   "outputs": [],
   "source": [
    "# Parameters\n",
    "path_params = {\"sp_500_path\": \"data/external/\"}\n",
    "upstream = {\n",
    "    \"fetch_n_filter_gdelt_bq\": {\n",
    "        \"nb\": \"/Users/aiujdm2/market_watch/output/notebooks/fetch_n_filter_gdelt_bq.ipynb\",\n",
    "        \"data\": \"/Users/aiujdm2/market_watch/output/data/raw/gdelt_gkg_bqdata-raw.csv\",\n",
    "    }\n",
    "}\n",
    "product = {\n",
    "    \"nb\": \"/Users/aiujdm2/market_watch/output/notebooks/clean_gdelt_data.ipynb\",\n",
    "    \"data\": \"/Users/aiujdm2/market_watch/output/data/interim/gdelt_gkg_data-cleaned.csv\",\n",
    "}\n"
   ]
  },
  {
   "cell_type": "code",
   "execution_count": 3,
   "id": "9383ed30",
   "metadata": {
    "execution": {
     "iopub.execute_input": "2022-03-23T18:06:02.661976Z",
     "iopub.status.busy": "2022-03-23T18:06:02.661797Z",
     "iopub.status.idle": "2022-03-23T18:06:02.946224Z",
     "shell.execute_reply": "2022-03-23T18:06:02.945516Z"
    },
    "papermill": {
     "duration": 0.295504,
     "end_time": "2022-03-23T18:06:02.948139",
     "exception": false,
     "start_time": "2022-03-23T18:06:02.652635",
     "status": "completed"
    },
    "tags": []
   },
   "outputs": [],
   "source": [
    "# your code here...\n",
    "import pandas as pd\n",
    "import numpy as np\n",
    "from pathlib import Path\n",
    "\n",
    "pd.options.display.max_colwidth = 200"
   ]
  },
  {
   "cell_type": "code",
   "execution_count": 4,
   "id": "3404b7d0",
   "metadata": {
    "execution": {
     "iopub.execute_input": "2022-03-23T18:06:02.967265Z",
     "iopub.status.busy": "2022-03-23T18:06:02.967024Z",
     "iopub.status.idle": "2022-03-23T18:06:03.059972Z",
     "shell.execute_reply": "2022-03-23T18:06:03.059458Z"
    },
    "papermill": {
     "duration": 0.104448,
     "end_time": "2022-03-23T18:06:03.061782",
     "exception": false,
     "start_time": "2022-03-23T18:06:02.957334",
     "status": "completed"
    },
    "tags": []
   },
   "outputs": [
    {
     "name": "stdout",
     "output_type": "stream",
     "text": [
      "Index(['GKGRECORDID', 'DATE', 'SourceCollectionIdentifier',\n",
      "       'DocumentIdentifier', 'Locations', 'Persons', 'Organizations', 'Tone'],\n",
      "      dtype='object')\n"
     ]
    }
   ],
   "source": [
    "input_file_path = upstream['fetch_n_filter_gdelt_bq']['data']\n",
    "\n",
    "data_df = pd.read_csv(input_file_path, index_col=0)\n",
    "print(data_df.columns)"
   ]
  },
  {
   "cell_type": "code",
   "execution_count": 5,
   "id": "c0d4e08f",
   "metadata": {
    "execution": {
     "iopub.execute_input": "2022-03-23T18:06:03.083097Z",
     "iopub.status.busy": "2022-03-23T18:06:03.082866Z",
     "iopub.status.idle": "2022-03-23T18:06:03.177127Z",
     "shell.execute_reply": "2022-03-23T18:06:03.176603Z"
    },
    "lines_to_next_cell": 2,
    "papermill": {
     "duration": 0.10701,
     "end_time": "2022-03-23T18:06:03.179039",
     "exception": false,
     "start_time": "2022-03-23T18:06:03.072029",
     "status": "completed"
    },
    "tags": []
   },
   "outputs": [],
   "source": [
    "def split_locations(location_list):\n",
    "    location_names = []\n",
    "    if type(location_list) is not float:\n",
    "        for location_string in location_list:\n",
    "            loc_parts = location_string.split('#')\n",
    "            location_names.append(loc_parts[1]) if len(loc_parts) > 1 else np.nan\n",
    "            \n",
    "    return location_names\n",
    "\n",
    "data_df.Locations = data_df.Locations.str.split(';').apply(split_locations)"
   ]
  },
  {
   "cell_type": "code",
   "execution_count": 6,
   "id": "a0cea2f3",
   "metadata": {
    "execution": {
     "iopub.execute_input": "2022-03-23T18:06:03.198100Z",
     "iopub.status.busy": "2022-03-23T18:06:03.197898Z",
     "iopub.status.idle": "2022-03-23T18:06:03.212005Z",
     "shell.execute_reply": "2022-03-23T18:06:03.211544Z"
    },
    "papermill": {
     "duration": 0.024951,
     "end_time": "2022-03-23T18:06:03.213479",
     "exception": false,
     "start_time": "2022-03-23T18:06:03.188528",
     "status": "completed"
    },
    "tags": []
   },
   "outputs": [],
   "source": [
    "#  Clean some data elements\n",
    "data_df.Persons = data_df.Persons.str.findall(pat=\"[A-Z][a-z]+ [A-Z][a-z]+\")"
   ]
  },
  {
   "cell_type": "code",
   "execution_count": 7,
   "id": "d51db9af",
   "metadata": {
    "execution": {
     "iopub.execute_input": "2022-03-23T18:06:03.233698Z",
     "iopub.status.busy": "2022-03-23T18:06:03.233467Z",
     "iopub.status.idle": "2022-03-23T18:06:03.236413Z",
     "shell.execute_reply": "2022-03-23T18:06:03.235824Z"
    },
    "papermill": {
     "duration": 0.01524,
     "end_time": "2022-03-23T18:06:03.238113",
     "exception": false,
     "start_time": "2022-03-23T18:06:03.222873",
     "status": "completed"
    },
    "tags": []
   },
   "outputs": [],
   "source": [
    "# data_df.Organizations = data_df.Organizations.str.replace(\"Tesla|Tesla Motors|Tesla Inc\", '').str.findall(pat=\"[A-Z][a-z]+ [A-Z][a-z]+\")"
   ]
  },
  {
   "cell_type": "code",
   "execution_count": 8,
   "id": "c63ba23d",
   "metadata": {
    "execution": {
     "iopub.execute_input": "2022-03-23T18:06:03.255944Z",
     "iopub.status.busy": "2022-03-23T18:06:03.255748Z",
     "iopub.status.idle": "2022-03-23T18:06:03.264861Z",
     "shell.execute_reply": "2022-03-23T18:06:03.264365Z"
    },
    "papermill": {
     "duration": 0.019448,
     "end_time": "2022-03-23T18:06:03.266685",
     "exception": false,
     "start_time": "2022-03-23T18:06:03.247237",
     "status": "completed"
    },
    "tags": []
   },
   "outputs": [],
   "source": [
    "data_df.Tone = data_df.Tone.str.split(',')"
   ]
  },
  {
   "cell_type": "code",
   "execution_count": 9,
   "id": "f5a3ac16",
   "metadata": {
    "execution": {
     "iopub.execute_input": "2022-03-23T18:06:03.284452Z",
     "iopub.status.busy": "2022-03-23T18:06:03.284256Z",
     "iopub.status.idle": "2022-03-23T18:06:03.294255Z",
     "shell.execute_reply": "2022-03-23T18:06:03.293685Z"
    },
    "papermill": {
     "duration": 0.021229,
     "end_time": "2022-03-23T18:06:03.296192",
     "exception": false,
     "start_time": "2022-03-23T18:06:03.274963",
     "status": "completed"
    },
    "tags": []
   },
   "outputs": [],
   "source": [
    "# Clean Tone\n",
    "data_df['AvgTone'] = data_df.Tone.apply(lambda x: x[0])\n",
    "data_df['PosScore'] = data_df.Tone.apply(lambda x: x[1])\n",
    "data_df['NegScore'] = data_df.Tone.apply(lambda x: x[2])\n",
    "data_df['Polarity'] = data_df.Tone.apply(lambda x: x[3])"
   ]
  },
  {
   "cell_type": "code",
   "execution_count": 10,
   "id": "dc0deee4",
   "metadata": {
    "execution": {
     "iopub.execute_input": "2022-03-23T18:06:03.316948Z",
     "iopub.status.busy": "2022-03-23T18:06:03.316619Z",
     "iopub.status.idle": "2022-03-23T18:06:03.328532Z",
     "shell.execute_reply": "2022-03-23T18:06:03.327878Z"
    },
    "lines_to_end_of_cell_marker": 0,
    "lines_to_next_cell": 1,
    "papermill": {
     "duration": 0.024029,
     "end_time": "2022-03-23T18:06:03.330261",
     "exception": false,
     "start_time": "2022-03-23T18:06:03.306232",
     "status": "completed"
    },
    "tags": []
   },
   "outputs": [],
   "source": [
    "threshold = 1\n",
    "path = path_params['sp_500_path'] + 'sp500_list.xlsx'\n",
    "\n",
    "\n",
    "def get_rel_company_names(path):\n",
    "    rel_company = pd.read_excel(path)\n",
    "    rel_company = rel_company['Security']\n",
    "    expand_rel_company = {}\n",
    "    for company in rel_company:\n",
    "        company = company.lower()\n",
    "        company_name_list = []\n",
    "        company_name_list.append(company)\n",
    "        for postfix in ['inc', 'inc.', 'incorporation', 'corp.', 'corp', 'corporation']:\n",
    "            if postfix in company_name_list[0]:\n",
    "                break\n",
    "        for postfix in ['inc', 'incorporation', 'corp', 'corporation']:\n",
    "            company_name_list.append(company_name_list[0] + ' ' + postfix)\n",
    "        words = company.split(' ')\n",
    "        for n in range(1, len(words)):\n",
    "            if words[0:n] not in company_name_list:\n",
    "                company_name_list.append(' '.join(words[0:n]))\n",
    "        expand_rel_company.update({company: company_name_list})\n",
    "    return expand_rel_company\n",
    "\n",
    "\n",
    "def filter_org_col(org_cell, rel_comp_dict, threshold):\n",
    "    result_dict = {}\n",
    "    if org_cell != None:\n",
    "        try:\n",
    "            org_cell.split(';')\n",
    "        except:\n",
    "            print(org_cell)\n",
    "        for item in org_cell.split(';'):\n",
    "            word = item.split(',')[0]\n",
    "            rel_company_names = [val for list_ in rel_comp_dict.values() for val in list_]\n",
    "            if word in rel_company_names:\n",
    "                for key, names_list in rel_comp_dict.items():\n",
    "                    if word in names_list:\n",
    "                        if key in result_dict.keys():\n",
    "                            result_dict.update({key: result_dict[key] + 1})\n",
    "                        else:\n",
    "                            result_dict.update({key : 1})\n",
    "            else:\n",
    "                if word in result_dict.keys():\n",
    "                    result_dict.update({word : result_dict[word] +1})\n",
    "                else:\n",
    "                    result_dict.update({word : 1})\n",
    "    result_dict = {key: val for key, val in result_dict.items() if val >= threshold}\n",
    "    return result_dict\n",
    "\n",
    "\n",
    "def extract_company_articles(df, path, threshold):\n",
    "    '''\n",
    "    Ectract all article that contain company_name from csv files.\n",
    "    Parameters:\n",
    "        Company_name= main company to filter for\n",
    "        path= path to GDELT csv's\n",
    "        path2= path to list to SP500 csv\n",
    "        threshold= minimum count for related company to be included\n",
    "    '''\n",
    "    rel_company_dict = get_rel_company_names(path)\n",
    "    df['Org Count'] = df['Organizations'].map(lambda x: filter_org_col(x, rel_company_dict, threshold), na_action='ignore')\n",
    "\n",
    "    return df\n"
   ]
  },
  {
   "cell_type": "code",
   "execution_count": 11,
   "id": "cbaf8053",
   "metadata": {
    "execution": {
     "iopub.execute_input": "2022-03-23T18:06:03.349829Z",
     "iopub.status.busy": "2022-03-23T18:06:03.349646Z",
     "iopub.status.idle": "2022-03-23T18:06:13.122701Z",
     "shell.execute_reply": "2022-03-23T18:06:13.122267Z"
    },
    "papermill": {
     "duration": 9.784167,
     "end_time": "2022-03-23T18:06:13.124404",
     "exception": false,
     "start_time": "2022-03-23T18:06:03.340237",
     "status": "completed"
    },
    "tags": []
   },
   "outputs": [
    {
     "name": "stdout",
     "output_type": "stream",
     "text": [
      "CPU times: user 9.74 s, sys: 25.8 ms, total: 9.77 s\n",
      "Wall time: 9.77 s\n"
     ]
    }
   ],
   "source": [
    "%%time\n",
    "data_df = extract_company_articles(data_df, path, threshold)"
   ]
  },
  {
   "cell_type": "code",
   "execution_count": 12,
   "id": "d129bdac",
   "metadata": {
    "execution": {
     "iopub.execute_input": "2022-03-23T18:06:13.142180Z",
     "iopub.status.busy": "2022-03-23T18:06:13.142000Z",
     "iopub.status.idle": "2022-03-23T18:06:13.148884Z",
     "shell.execute_reply": "2022-03-23T18:06:13.148293Z"
    },
    "lines_to_next_cell": 2,
    "papermill": {
     "duration": 0.017728,
     "end_time": "2022-03-23T18:06:13.150705",
     "exception": false,
     "start_time": "2022-03-23T18:06:13.132977",
     "status": "completed"
    },
    "tags": []
   },
   "outputs": [],
   "source": [
    "data_df.drop([\"Tone\", \"DATE\", \"SourceCollectionIdentifier\", \"DocumentIdentifier\"], axis = 1, inplace=True)"
   ]
  },
  {
   "cell_type": "code",
   "execution_count": 13,
   "id": "8b1dfcca",
   "metadata": {
    "execution": {
     "iopub.execute_input": "2022-03-23T18:06:13.169241Z",
     "iopub.status.busy": "2022-03-23T18:06:13.169068Z",
     "iopub.status.idle": "2022-03-23T18:06:13.328378Z",
     "shell.execute_reply": "2022-03-23T18:06:13.327933Z"
    },
    "papermill": {
     "duration": 0.170312,
     "end_time": "2022-03-23T18:06:13.329960",
     "exception": false,
     "start_time": "2022-03-23T18:06:13.159648",
     "status": "completed"
    },
    "tags": []
   },
   "outputs": [
    {
     "name": "stdout",
     "output_type": "stream",
     "text": [
      "Saved file /Users/aiujdm2/market_watch/output/data/interim/gdelt_gkg_data-cleaned.csv\n"
     ]
    }
   ],
   "source": [
    "output_file_path = product['data']\n",
    "Path(output_file_path).parent.mkdir(exist_ok=True, parents=True)\n",
    "data_df.to_csv(output_file_path)\n",
    "print(f\"Saved file {output_file_path}\")"
   ]
  },
  {
   "cell_type": "code",
   "execution_count": null,
   "id": "8d1f8568",
   "metadata": {
    "papermill": {
     "duration": 0.008589,
     "end_time": "2022-03-23T18:06:13.347493",
     "exception": false,
     "start_time": "2022-03-23T18:06:13.338904",
     "status": "completed"
    },
    "tags": []
   },
   "outputs": [],
   "source": []
  }
 ],
 "metadata": {
  "jupytext": {
   "cell_metadata_filter": "tags,-all",
   "main_language": "python",
   "notebook_metadata_filter": "-all",
   "text_representation": {
    "extension": ".py",
    "format_name": "light"
   }
  },
  "kernelspec": {
   "display_name": "Python 3 (ipykernel)",
   "language": "python",
   "name": "python3"
  },
  "language_info": {
   "codemirror_mode": {
    "name": "ipython",
    "version": 3
   },
   "file_extension": ".py",
   "mimetype": "text/x-python",
   "name": "python",
   "nbconvert_exporter": "python",
   "pygments_lexer": "ipython3",
   "version": "3.9.10"
  },
  "papermill": {
   "duration": 12.048872,
   "end_time": "2022-03-23T18:06:13.576984",
   "exception": null,
   "input_path": "/var/folders/b0/4tc1nfbd6z7_vhx4nxcj2n91c0l9h6/T/tmpawxkkn9v.ipynb",
   "output_path": "/Users/aiujdm2/market_watch/output/notebooks/clean_gdelt_data.ipynb",
   "parameters": {
    "path_params": {
     "sp_500_path": "data/external/"
    },
    "product": {
     "data": "/Users/aiujdm2/market_watch/output/data/interim/gdelt_gkg_data-cleaned.csv",
     "nb": "/Users/aiujdm2/market_watch/output/notebooks/clean_gdelt_data.ipynb"
    },
    "upstream": {
     "fetch_n_filter_gdelt_bq": {
      "data": "/Users/aiujdm2/market_watch/output/data/raw/gdelt_gkg_bqdata-raw.csv",
      "nb": "/Users/aiujdm2/market_watch/output/notebooks/fetch_n_filter_gdelt_bq.ipynb"
     }
    }
   },
   "start_time": "2022-03-23T18:06:01.528112"
  }
 },
 "nbformat": 4,
 "nbformat_minor": 5
}