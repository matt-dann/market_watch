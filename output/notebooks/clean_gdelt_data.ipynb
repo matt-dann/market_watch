{
 "cells": [
  {
   "cell_type": "code",
   "execution_count": 1,
   "id": "139ae24a",
   "metadata": {
    "execution": {
     "iopub.execute_input": "2022-03-23T18:29:57.135239Z",
     "iopub.status.busy": "2022-03-23T18:29:57.134953Z",
     "iopub.status.idle": "2022-03-23T18:29:57.142634Z",
     "shell.execute_reply": "2022-03-23T18:29:57.141989Z"
    },
    "papermill": {
     "duration": 0.023146,
     "end_time": "2022-03-23T18:29:57.144695",
     "exception": false,
     "start_time": "2022-03-23T18:29:57.121549",
     "status": "completed"
    },
    "tags": [
     "parameters"
    ]
   },
   "outputs": [],
   "source": [
    "# your parameters here...\n",
    "upstream = ['fetch_n_filter_gdelt_bq']"
   ]
  },
  {
   "cell_type": "code",
   "execution_count": 2,
   "id": "2bca58d5",
   "metadata": {
    "execution": {
     "iopub.execute_input": "2022-03-23T18:29:57.164406Z",
     "iopub.status.busy": "2022-03-23T18:29:57.164167Z",
     "iopub.status.idle": "2022-03-23T18:29:57.167827Z",
     "shell.execute_reply": "2022-03-23T18:29:57.167280Z"
    },
    "papermill": {
     "duration": 0.015172,
     "end_time": "2022-03-23T18:29:57.169630",
     "exception": false,
     "start_time": "2022-03-23T18:29:57.154458",
     "status": "completed"
    },
    "tags": [
     "injected-parameters"
    ]
   },
   "outputs": [],
   "source": [
    "# Parameters\n",
    "path_params = {\"sp_500_path\": \"data/external/\"}\n",
    "upstream = {\n",
    "    \"fetch_n_filter_gdelt_bq\": {\n",
    "        \"nb\": \"/Users/aiujdm2/market_watch/output/notebooks/fetch_n_filter_gdelt_bq.ipynb\",\n",
    "        \"data\": \"/Users/aiujdm2/market_watch/output/data/raw/gdelt_gkg_bqdata-raw.csv\",\n",
    "    }\n",
    "}\n",
    "product = {\n",
    "    \"nb\": \"/Users/aiujdm2/market_watch/output/notebooks/clean_gdelt_data.ipynb\",\n",
    "    \"data\": \"/Users/aiujdm2/market_watch/output/data/interim/gdelt_gkg_data-cleaned.csv\",\n",
    "}\n"
   ]
  },
  {
   "cell_type": "code",
   "execution_count": 3,
   "id": "c1b59117",
   "metadata": {
    "execution": {
     "iopub.execute_input": "2022-03-23T18:29:57.187594Z",
     "iopub.status.busy": "2022-03-23T18:29:57.187406Z",
     "iopub.status.idle": "2022-03-23T18:29:57.476964Z",
     "shell.execute_reply": "2022-03-23T18:29:57.476391Z"
    },
    "papermill": {
     "duration": 0.300494,
     "end_time": "2022-03-23T18:29:57.478784",
     "exception": false,
     "start_time": "2022-03-23T18:29:57.178290",
     "status": "completed"
    },
    "tags": []
   },
   "outputs": [],
   "source": [
    "# your code here...\n",
    "import pandas as pd\n",
    "import numpy as np\n",
    "from pathlib import Path\n",
    "\n",
    "pd.options.display.max_colwidth = 200"
   ]
  },
  {
   "cell_type": "code",
   "execution_count": 4,
   "id": "6c3d6355",
   "metadata": {
    "execution": {
     "iopub.execute_input": "2022-03-23T18:29:57.495815Z",
     "iopub.status.busy": "2022-03-23T18:29:57.495619Z",
     "iopub.status.idle": "2022-03-23T18:29:57.570498Z",
     "shell.execute_reply": "2022-03-23T18:29:57.570063Z"
    },
    "papermill": {
     "duration": 0.085088,
     "end_time": "2022-03-23T18:29:57.572128",
     "exception": false,
     "start_time": "2022-03-23T18:29:57.487040",
     "status": "completed"
    },
    "tags": []
   },
   "outputs": [
    {
     "name": "stdout",
     "output_type": "stream",
     "text": [
      "Index(['GKGRECORDID', 'DATE', 'SourceCollectionIdentifier',\n",
      "       'DocumentIdentifier', 'Locations', 'Persons', 'Organizations', 'Tone'],\n",
      "      dtype='object')\n"
     ]
    }
   ],
   "source": [
    "input_file_path = upstream['fetch_n_filter_gdelt_bq']['data']\n",
    "\n",
    "data_df = pd.read_csv(input_file_path, index_col=0)\n",
    "print(data_df.columns)"
   ]
  },
  {
   "cell_type": "code",
   "execution_count": 5,
   "id": "e5e1b411",
   "metadata": {
    "execution": {
     "iopub.execute_input": "2022-03-23T18:29:57.589762Z",
     "iopub.status.busy": "2022-03-23T18:29:57.589598Z",
     "iopub.status.idle": "2022-03-23T18:29:57.673194Z",
     "shell.execute_reply": "2022-03-23T18:29:57.672633Z"
    },
    "lines_to_next_cell": 2,
    "papermill": {
     "duration": 0.095511,
     "end_time": "2022-03-23T18:29:57.676159",
     "exception": false,
     "start_time": "2022-03-23T18:29:57.580648",
     "status": "completed"
    },
    "tags": []
   },
   "outputs": [],
   "source": [
    "def split_locations(location_list):\n",
    "    location_names = []\n",
    "    if type(location_list) is not float:\n",
    "        for location_string in location_list:\n",
    "            loc_parts = location_string.split('#')\n",
    "            location_names.append(loc_parts[1]) if len(loc_parts) > 1 else np.nan\n",
    "            \n",
    "    return location_names\n",
    "\n",
    "data_df.Locations = data_df.Locations.str.split(';').apply(split_locations)"
   ]
  },
  {
   "cell_type": "code",
   "execution_count": 6,
   "id": "f8228681",
   "metadata": {
    "execution": {
     "iopub.execute_input": "2022-03-23T18:29:57.697083Z",
     "iopub.status.busy": "2022-03-23T18:29:57.696843Z",
     "iopub.status.idle": "2022-03-23T18:29:57.712941Z",
     "shell.execute_reply": "2022-03-23T18:29:57.712357Z"
    },
    "papermill": {
     "duration": 0.027471,
     "end_time": "2022-03-23T18:29:57.714734",
     "exception": false,
     "start_time": "2022-03-23T18:29:57.687263",
     "status": "completed"
    },
    "tags": []
   },
   "outputs": [],
   "source": [
    "#  Clean some data elements\n",
    "data_df.Persons = data_df.Persons.str.findall(pat=\"[A-Z][a-z]+ [A-Z][a-z]+\")"
   ]
  },
  {
   "cell_type": "code",
   "execution_count": 7,
   "id": "02394c01",
   "metadata": {
    "execution": {
     "iopub.execute_input": "2022-03-23T18:29:57.732593Z",
     "iopub.status.busy": "2022-03-23T18:29:57.732424Z",
     "iopub.status.idle": "2022-03-23T18:29:57.734799Z",
     "shell.execute_reply": "2022-03-23T18:29:57.734365Z"
    },
    "papermill": {
     "duration": 0.012419,
     "end_time": "2022-03-23T18:29:57.736291",
     "exception": false,
     "start_time": "2022-03-23T18:29:57.723872",
     "status": "completed"
    },
    "tags": []
   },
   "outputs": [],
   "source": [
    "# data_df.Organizations = data_df.Organizations.str.replace(\"Tesla|Tesla Motors|Tesla Inc\", '').str.findall(pat=\"[A-Z][a-z]+ [A-Z][a-z]+\")"
   ]
  },
  {
   "cell_type": "code",
   "execution_count": 8,
   "id": "15001fe7",
   "metadata": {
    "execution": {
     "iopub.execute_input": "2022-03-23T18:29:57.752386Z",
     "iopub.status.busy": "2022-03-23T18:29:57.752224Z",
     "iopub.status.idle": "2022-03-23T18:29:57.761153Z",
     "shell.execute_reply": "2022-03-23T18:29:57.760485Z"
    },
    "papermill": {
     "duration": 0.01882,
     "end_time": "2022-03-23T18:29:57.762612",
     "exception": false,
     "start_time": "2022-03-23T18:29:57.743792",
     "status": "completed"
    },
    "tags": []
   },
   "outputs": [],
   "source": [
    "data_df.Tone = data_df.Tone.str.split(',')"
   ]
  },
  {
   "cell_type": "code",
   "execution_count": 9,
   "id": "55745dab",
   "metadata": {
    "execution": {
     "iopub.execute_input": "2022-03-23T18:29:57.778487Z",
     "iopub.status.busy": "2022-03-23T18:29:57.778330Z",
     "iopub.status.idle": "2022-03-23T18:29:57.786914Z",
     "shell.execute_reply": "2022-03-23T18:29:57.786443Z"
    },
    "papermill": {
     "duration": 0.018243,
     "end_time": "2022-03-23T18:29:57.788452",
     "exception": false,
     "start_time": "2022-03-23T18:29:57.770209",
     "status": "completed"
    },
    "tags": []
   },
   "outputs": [],
   "source": [
    "# Clean Tone\n",
    "data_df['AvgTone'] = data_df.Tone.apply(lambda x: x[0])\n",
    "data_df['PosScore'] = data_df.Tone.apply(lambda x: x[1])\n",
    "data_df['NegScore'] = data_df.Tone.apply(lambda x: x[2])\n",
    "data_df['Polarity'] = data_df.Tone.apply(lambda x: x[3])"
   ]
  },
  {
   "cell_type": "code",
   "execution_count": 10,
   "id": "7c45fb50",
   "metadata": {
    "execution": {
     "iopub.execute_input": "2022-03-23T18:29:57.805005Z",
     "iopub.status.busy": "2022-03-23T18:29:57.804845Z",
     "iopub.status.idle": "2022-03-23T18:29:57.815135Z",
     "shell.execute_reply": "2022-03-23T18:29:57.814587Z"
    },
    "lines_to_end_of_cell_marker": 0,
    "lines_to_next_cell": 1,
    "papermill": {
     "duration": 0.020594,
     "end_time": "2022-03-23T18:29:57.816988",
     "exception": false,
     "start_time": "2022-03-23T18:29:57.796394",
     "status": "completed"
    },
    "tags": []
   },
   "outputs": [],
   "source": [
    "threshold = 1\n",
    "path = path_params['sp_500_path'] + 'sp500_list.xlsx'\n",
    "\n",
    "\n",
    "def get_rel_company_names(path):\n",
    "    rel_company = pd.read_excel(path)\n",
    "    rel_company = rel_company['Security']\n",
    "    expand_rel_company = {}\n",
    "    for company in rel_company:\n",
    "        company = company.lower()\n",
    "        company_name_list = []\n",
    "        company_name_list.append(company)\n",
    "        for postfix in ['inc', 'inc.', 'incorporation', 'corp.', 'corp', 'corporation']:\n",
    "            if postfix in company_name_list[0]:\n",
    "                break\n",
    "        for postfix in ['inc', 'incorporation', 'corp', 'corporation']:\n",
    "            company_name_list.append(company_name_list[0] + ' ' + postfix)\n",
    "        words = company.split(' ')\n",
    "        for n in range(1, len(words)):\n",
    "            if words[0:n] not in company_name_list:\n",
    "                company_name_list.append(' '.join(words[0:n]))\n",
    "        expand_rel_company.update({company: company_name_list})\n",
    "    return expand_rel_company\n",
    "\n",
    "\n",
    "def filter_org_col(org_cell, rel_comp_dict, threshold):\n",
    "    result_dict = {}\n",
    "    if org_cell != None:\n",
    "        try:\n",
    "            org_cell.split(';')\n",
    "        except:\n",
    "            print(org_cell)\n",
    "        for item in org_cell.split(';'):\n",
    "            word = item.split(',')[0]\n",
    "            rel_company_names = [val for list_ in rel_comp_dict.values() for val in list_]\n",
    "            if word in rel_company_names:\n",
    "                for key, names_list in rel_comp_dict.items():\n",
    "                    if word in names_list:\n",
    "                        if key in result_dict.keys():\n",
    "                            result_dict.update({key: result_dict[key] + 1})\n",
    "                        else:\n",
    "                            result_dict.update({key : 1})\n",
    "            else:\n",
    "                if word in result_dict.keys():\n",
    "                    result_dict.update({word : result_dict[word] +1})\n",
    "                else:\n",
    "                    result_dict.update({word : 1})\n",
    "    result_dict = {key: val for key, val in result_dict.items() if val >= threshold}\n",
    "    return result_dict\n",
    "\n",
    "\n",
    "def extract_company_articles(df, path, threshold):\n",
    "    '''\n",
    "    Ectract all article that contain company_name from csv files.\n",
    "    Parameters:\n",
    "        Company_name= main company to filter for\n",
    "        path= path to GDELT csv's\n",
    "        path2= path to list to SP500 csv\n",
    "        threshold= minimum count for related company to be included\n",
    "    '''\n",
    "    rel_company_dict = get_rel_company_names(path)\n",
    "    df['Org Count'] = df['Organizations'].map(lambda x: filter_org_col(x, rel_company_dict, threshold), na_action='ignore')\n",
    "\n",
    "    return df\n"
   ]
  },
  {
   "cell_type": "code",
   "execution_count": 11,
   "id": "58dd8491",
   "metadata": {
    "execution": {
     "iopub.execute_input": "2022-03-23T18:29:57.835877Z",
     "iopub.status.busy": "2022-03-23T18:29:57.835702Z",
     "iopub.status.idle": "2022-03-23T18:30:08.364141Z",
     "shell.execute_reply": "2022-03-23T18:30:08.363667Z"
    },
    "papermill": {
     "duration": 10.539634,
     "end_time": "2022-03-23T18:30:08.365847",
     "exception": false,
     "start_time": "2022-03-23T18:29:57.826213",
     "status": "completed"
    },
    "tags": []
   },
   "outputs": [
    {
     "name": "stdout",
     "output_type": "stream",
     "text": [
      "CPU times: user 10.5 s, sys: 43.9 ms, total: 10.5 s\n",
      "Wall time: 10.5 s\n"
     ]
    }
   ],
   "source": [
    "%%time\n",
    "data_df = extract_company_articles(data_df, path, threshold)"
   ]
  },
  {
   "cell_type": "code",
   "execution_count": 12,
   "id": "8623e6f3",
   "metadata": {
    "execution": {
     "iopub.execute_input": "2022-03-23T18:30:08.382796Z",
     "iopub.status.busy": "2022-03-23T18:30:08.382637Z",
     "iopub.status.idle": "2022-03-23T18:30:08.390368Z",
     "shell.execute_reply": "2022-03-23T18:30:08.389926Z"
    },
    "lines_to_next_cell": 2,
    "papermill": {
     "duration": 0.018299,
     "end_time": "2022-03-23T18:30:08.392401",
     "exception": false,
     "start_time": "2022-03-23T18:30:08.374102",
     "status": "completed"
    },
    "tags": []
   },
   "outputs": [],
   "source": [
    "data_df.drop([\"Tone\", \"DATE\", \"SourceCollectionIdentifier\", \"DocumentIdentifier\"], axis = 1, inplace=True)"
   ]
  },
  {
   "cell_type": "code",
   "execution_count": 13,
   "id": "0137116d",
   "metadata": {
    "execution": {
     "iopub.execute_input": "2022-03-23T18:30:08.409717Z",
     "iopub.status.busy": "2022-03-23T18:30:08.409545Z",
     "iopub.status.idle": "2022-03-23T18:30:08.565508Z",
     "shell.execute_reply": "2022-03-23T18:30:08.565025Z"
    },
    "papermill": {
     "duration": 0.167004,
     "end_time": "2022-03-23T18:30:08.567393",
     "exception": false,
     "start_time": "2022-03-23T18:30:08.400389",
     "status": "completed"
    },
    "tags": []
   },
   "outputs": [
    {
     "name": "stdout",
     "output_type": "stream",
     "text": [
      "Saved file /Users/aiujdm2/market_watch/output/data/interim/gdelt_gkg_data-cleaned.csv\n"
     ]
    }
   ],
   "source": [
    "output_file_path = product['data']\n",
    "Path(output_file_path).parent.mkdir(exist_ok=True, parents=True)\n",
    "data_df.to_csv(output_file_path)\n",
    "print(f\"Saved file {output_file_path}\")"
   ]
  },
  {
   "cell_type": "code",
   "execution_count": null,
   "id": "cb294a02",
   "metadata": {
    "papermill": {
     "duration": 0.007956,
     "end_time": "2022-03-23T18:30:08.583711",
     "exception": false,
     "start_time": "2022-03-23T18:30:08.575755",
     "status": "completed"
    },
    "tags": []
   },
   "outputs": [],
   "source": []
  }
 ],
 "metadata": {
  "jupytext": {
   "cell_metadata_filter": "tags,-all",
   "main_language": "python",
   "notebook_metadata_filter": "-all",
   "text_representation": {
    "extension": ".py",
    "format_name": "light"
   }
  },
  "kernelspec": {
   "display_name": "Python 3 (ipykernel)",
   "language": "python",
   "name": "python3"
  },
  "language_info": {
   "codemirror_mode": {
    "name": "ipython",
    "version": 3
   },
   "file_extension": ".py",
   "mimetype": "text/x-python",
   "name": "python",
   "nbconvert_exporter": "python",
   "pygments_lexer": "ipython3",
   "version": "3.9.10"
  },
  "papermill": {
   "duration": 12.714358,
   "end_time": "2022-03-23T18:30:08.813142",
   "exception": null,
   "input_path": "/var/folders/b0/4tc1nfbd6z7_vhx4nxcj2n91c0l9h6/T/tmpjapbl24t.ipynb",
   "output_path": "/Users/aiujdm2/market_watch/output/notebooks/clean_gdelt_data.ipynb",
   "parameters": {
    "path_params": {
     "sp_500_path": "data/external/"
    },
    "product": {
     "data": "/Users/aiujdm2/market_watch/output/data/interim/gdelt_gkg_data-cleaned.csv",
     "nb": "/Users/aiujdm2/market_watch/output/notebooks/clean_gdelt_data.ipynb"
    },
    "upstream": {
     "fetch_n_filter_gdelt_bq": {
      "data": "/Users/aiujdm2/market_watch/output/data/raw/gdelt_gkg_bqdata-raw.csv",
      "nb": "/Users/aiujdm2/market_watch/output/notebooks/fetch_n_filter_gdelt_bq.ipynb"
     }
    }
   },
   "start_time": "2022-03-23T18:29:56.098784"
  }
 },
 "nbformat": 4,
 "nbformat_minor": 5
}