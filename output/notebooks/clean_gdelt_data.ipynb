{
 "cells": [
  {
   "cell_type": "code",
   "execution_count": 1,
   "id": "15eb1e42",
   "metadata": {
    "execution": {
     "iopub.execute_input": "2022-03-22T00:11:22.056239Z",
     "iopub.status.busy": "2022-03-22T00:11:22.055953Z",
     "iopub.status.idle": "2022-03-22T00:11:22.063821Z",
     "shell.execute_reply": "2022-03-22T00:11:22.062977Z"
    },
    "papermill": {
     "duration": 0.021813,
     "end_time": "2022-03-22T00:11:22.066037",
     "exception": false,
     "start_time": "2022-03-22T00:11:22.044224",
     "status": "completed"
    },
    "tags": [
     "parameters"
    ]
   },
   "outputs": [],
   "source": [
    "# your parameters here...\n",
    "upstream = ['fetch_n_filter_gdelt_bq']"
   ]
  },
  {
   "cell_type": "code",
   "execution_count": 2,
   "id": "cbacfe78",
   "metadata": {
    "execution": {
     "iopub.execute_input": "2022-03-22T00:11:22.084119Z",
     "iopub.status.busy": "2022-03-22T00:11:22.083894Z",
     "iopub.status.idle": "2022-03-22T00:11:22.087256Z",
     "shell.execute_reply": "2022-03-22T00:11:22.086708Z"
    },
    "papermill": {
     "duration": 0.014112,
     "end_time": "2022-03-22T00:11:22.089004",
     "exception": false,
     "start_time": "2022-03-22T00:11:22.074892",
     "status": "completed"
    },
    "tags": [
     "injected-parameters"
    ]
   },
   "outputs": [],
   "source": [
    "# Parameters\n",
    "upstream = {\n",
    "    \"fetch_n_filter_gdelt_bq\": {\n",
    "        \"nb\": \"/Users/aiujdm2/market_watch/output/notebooks/fetch_n_filter_gdelt_bq.ipynb\",\n",
    "        \"data\": \"/Users/aiujdm2/market_watch/output/data/raw/gdelt-gkg-bq.csv\",\n",
    "    }\n",
    "}\n",
    "product = {\n",
    "    \"nb\": \"/Users/aiujdm2/market_watch/output/notebooks/clean_gdelt_data.ipynb\",\n",
    "    \"data\": \"/Users/aiujdm2/market_watch/output/data/interim/cleaned-gdelt-data.csv\",\n",
    "}\n"
   ]
  },
  {
   "cell_type": "code",
   "execution_count": 3,
   "id": "567cad30",
   "metadata": {
    "execution": {
     "iopub.execute_input": "2022-03-22T00:11:22.105558Z",
     "iopub.status.busy": "2022-03-22T00:11:22.105339Z",
     "iopub.status.idle": "2022-03-22T00:11:22.407512Z",
     "shell.execute_reply": "2022-03-22T00:11:22.406908Z"
    },
    "papermill": {
     "duration": 0.31258,
     "end_time": "2022-03-22T00:11:22.409550",
     "exception": false,
     "start_time": "2022-03-22T00:11:22.096970",
     "status": "completed"
    },
    "tags": []
   },
   "outputs": [],
   "source": [
    "# your code here...\n",
    "import pandas as pd\n",
    "import numpy as np\n",
    "from pathlib import Path"
   ]
  },
  {
   "cell_type": "code",
   "execution_count": 4,
   "id": "c0064c16",
   "metadata": {
    "execution": {
     "iopub.execute_input": "2022-03-22T00:11:22.428198Z",
     "iopub.status.busy": "2022-03-22T00:11:22.427944Z",
     "iopub.status.idle": "2022-03-22T00:11:22.524814Z",
     "shell.execute_reply": "2022-03-22T00:11:22.524226Z"
    },
    "papermill": {
     "duration": 0.108298,
     "end_time": "2022-03-22T00:11:22.526724",
     "exception": false,
     "start_time": "2022-03-22T00:11:22.418426",
     "status": "completed"
    },
    "tags": []
   },
   "outputs": [
    {
     "name": "stdout",
     "output_type": "stream",
     "text": [
      "Index(['GKGRECORDID', 'DATE', 'SourceCollectionIdentifier',\n",
      "       'DocumentIdentifier', 'Locations', 'Persons', 'Organizations', 'Tone'],\n",
      "      dtype='object')\n"
     ]
    }
   ],
   "source": [
    "input_file_path = upstream['fetch_n_filter_gdelt_bq']['data']\n",
    "\n",
    "data_df = pd.read_csv(input_file_path, index_col=0)\n",
    "print(data_df.columns)"
   ]
  },
  {
   "cell_type": "code",
   "execution_count": 5,
   "id": "86846513",
   "metadata": {
    "execution": {
     "iopub.execute_input": "2022-03-22T00:11:22.546082Z",
     "iopub.status.busy": "2022-03-22T00:11:22.545853Z",
     "iopub.status.idle": "2022-03-22T00:11:22.649476Z",
     "shell.execute_reply": "2022-03-22T00:11:22.648894Z"
    },
    "lines_to_next_cell": 2,
    "papermill": {
     "duration": 0.115437,
     "end_time": "2022-03-22T00:11:22.651552",
     "exception": false,
     "start_time": "2022-03-22T00:11:22.536115",
     "status": "completed"
    },
    "tags": []
   },
   "outputs": [],
   "source": [
    "def split_locations(location_list):\n",
    "    location_names = []\n",
    "    if type(location_list) is not float:\n",
    "        for location_string in location_list:\n",
    "            loc_parts = location_string.split('#')\n",
    "            location_names.append(loc_parts[1]) if len(loc_parts) > 1 else np.nan\n",
    "            \n",
    "    return location_names\n",
    "\n",
    "data_df.Locations = data_df.Locations.str.split(';').apply(split_locations)"
   ]
  },
  {
   "cell_type": "code",
   "execution_count": 6,
   "id": "2c165820",
   "metadata": {
    "execution": {
     "iopub.execute_input": "2022-03-22T00:11:22.671623Z",
     "iopub.status.busy": "2022-03-22T00:11:22.671383Z",
     "iopub.status.idle": "2022-03-22T00:11:22.689530Z",
     "shell.execute_reply": "2022-03-22T00:11:22.688874Z"
    },
    "papermill": {
     "duration": 0.030197,
     "end_time": "2022-03-22T00:11:22.691446",
     "exception": false,
     "start_time": "2022-03-22T00:11:22.661249",
     "status": "completed"
    },
    "tags": []
   },
   "outputs": [],
   "source": [
    "#  Clean some data elements\n",
    "data_df.Persons = data_df.Persons.str.findall(pat=\"[A-Z][a-z]+ [A-Z][a-z]+\")"
   ]
  },
  {
   "cell_type": "code",
   "execution_count": 7,
   "id": "dfe0e0e5",
   "metadata": {
    "execution": {
     "iopub.execute_input": "2022-03-22T00:11:22.710812Z",
     "iopub.status.busy": "2022-03-22T00:11:22.710577Z",
     "iopub.status.idle": "2022-03-22T00:11:22.891278Z",
     "shell.execute_reply": "2022-03-22T00:11:22.890635Z"
    },
    "papermill": {
     "duration": 0.192438,
     "end_time": "2022-03-22T00:11:22.893111",
     "exception": false,
     "start_time": "2022-03-22T00:11:22.700673",
     "status": "completed"
    },
    "tags": []
   },
   "outputs": [
    {
     "name": "stderr",
     "output_type": "stream",
     "text": [
      "/var/folders/b0/4tc1nfbd6z7_vhx4nxcj2n91c0l9h6/T/ipykernel_18971/2748311790.py:1: FutureWarning: The default value of regex will change from True to False in a future version.\n",
      "  data_df.Organizations = data_df.Organizations.str.replace(\"Tesla|Tesla Motors|Tesla Inc\", '').str.findall(pat=\"[A-Z][a-z]+ [A-Z][a-z]+\")\n"
     ]
    }
   ],
   "source": [
    "data_df.Organizations = data_df.Organizations.str.replace(\"Tesla|Tesla Motors|Tesla Inc\", '').str.findall(pat=\"[A-Z][a-z]+ [A-Z][a-z]+\")"
   ]
  },
  {
   "cell_type": "code",
   "execution_count": 8,
   "id": "c5830cd1",
   "metadata": {
    "execution": {
     "iopub.execute_input": "2022-03-22T00:11:22.911815Z",
     "iopub.status.busy": "2022-03-22T00:11:22.911545Z",
     "iopub.status.idle": "2022-03-22T00:11:22.923885Z",
     "shell.execute_reply": "2022-03-22T00:11:22.923280Z"
    },
    "papermill": {
     "duration": 0.023501,
     "end_time": "2022-03-22T00:11:22.925651",
     "exception": false,
     "start_time": "2022-03-22T00:11:22.902150",
     "status": "completed"
    },
    "tags": []
   },
   "outputs": [],
   "source": [
    "data_df.Tone = data_df.Tone.str.split(',')"
   ]
  },
  {
   "cell_type": "code",
   "execution_count": 9,
   "id": "f6d24057",
   "metadata": {
    "execution": {
     "iopub.execute_input": "2022-03-22T00:11:22.944499Z",
     "iopub.status.busy": "2022-03-22T00:11:22.944308Z",
     "iopub.status.idle": "2022-03-22T00:11:22.953410Z",
     "shell.execute_reply": "2022-03-22T00:11:22.952898Z"
    },
    "papermill": {
     "duration": 0.020307,
     "end_time": "2022-03-22T00:11:22.955135",
     "exception": false,
     "start_time": "2022-03-22T00:11:22.934828",
     "status": "completed"
    },
    "tags": []
   },
   "outputs": [],
   "source": [
    "# Clean Tone\n",
    "data_df['AvgTone'] = data_df.Tone.apply(lambda x: x[0])\n",
    "data_df['PosScore'] = data_df.Tone.apply(lambda x: x[1])\n",
    "data_df['NegScore'] = data_df.Tone.apply(lambda x: x[2])\n",
    "data_df['Polarity'] = data_df.Tone.apply(lambda x: x[3])"
   ]
  },
  {
   "cell_type": "code",
   "execution_count": 10,
   "id": "c384cebb",
   "metadata": {
    "execution": {
     "iopub.execute_input": "2022-03-22T00:11:22.972073Z",
     "iopub.status.busy": "2022-03-22T00:11:22.971879Z",
     "iopub.status.idle": "2022-03-22T00:11:22.978032Z",
     "shell.execute_reply": "2022-03-22T00:11:22.977598Z"
    },
    "papermill": {
     "duration": 0.015778,
     "end_time": "2022-03-22T00:11:22.979585",
     "exception": false,
     "start_time": "2022-03-22T00:11:22.963807",
     "status": "completed"
    },
    "tags": []
   },
   "outputs": [],
   "source": [
    "data_df.drop([\"Tone\", \"DATE\", \"SourceCollectionIdentifier\", \"DocumentIdentifier\"], axis = 1, inplace=True)"
   ]
  },
  {
   "cell_type": "code",
   "execution_count": 11,
   "id": "ea88b50f",
   "metadata": {
    "execution": {
     "iopub.execute_input": "2022-03-22T00:11:22.996279Z",
     "iopub.status.busy": "2022-03-22T00:11:22.996122Z",
     "iopub.status.idle": "2022-03-22T00:11:23.116804Z",
     "shell.execute_reply": "2022-03-22T00:11:23.116200Z"
    },
    "papermill": {
     "duration": 0.130944,
     "end_time": "2022-03-22T00:11:23.118841",
     "exception": false,
     "start_time": "2022-03-22T00:11:22.987897",
     "status": "completed"
    },
    "tags": []
   },
   "outputs": [
    {
     "name": "stdout",
     "output_type": "stream",
     "text": [
      "Saved file /Users/aiujdm2/market_watch/output/data/interim/cleaned-gdelt-data.csv\n"
     ]
    }
   ],
   "source": [
    "output_file_path = product['data']\n",
    "Path(output_file_path).parent.mkdir(exist_ok=True, parents=True)\n",
    "data_df.to_csv(output_file_path)\n",
    "print(f\"Saved file {output_file_path}\")"
   ]
  },
  {
   "cell_type": "code",
   "execution_count": null,
   "id": "508b112c",
   "metadata": {
    "papermill": {
     "duration": 0.007266,
     "end_time": "2022-03-22T00:11:23.133770",
     "exception": false,
     "start_time": "2022-03-22T00:11:23.126504",
     "status": "completed"
    },
    "tags": []
   },
   "outputs": [],
   "source": []
  }
 ],
 "metadata": {
  "jupytext": {
   "cell_metadata_filter": "tags,-all",
   "main_language": "python",
   "notebook_metadata_filter": "-all",
   "text_representation": {
    "extension": ".py",
    "format_name": "light"
   }
  },
  "kernelspec": {
   "display_name": "Python 3 (ipykernel)",
   "language": "python",
   "name": "python3"
  },
  "language_info": {
   "codemirror_mode": {
    "name": "ipython",
    "version": 3
   },
   "file_extension": ".py",
   "mimetype": "text/x-python",
   "name": "python",
   "nbconvert_exporter": "python",
   "pygments_lexer": "ipython3",
   "version": "3.9.10"
  },
  "papermill": {
   "duration": 2.390185,
   "end_time": "2022-03-22T00:11:23.362854",
   "exception": null,
   "input_path": "/var/folders/b0/4tc1nfbd6z7_vhx4nxcj2n91c0l9h6/T/tmp3vy7bwps.ipynb",
   "output_path": "/Users/aiujdm2/market_watch/output/notebooks/clean_gdelt_data.ipynb",
   "parameters": {
    "product": {
     "data": "/Users/aiujdm2/market_watch/output/data/interim/cleaned-gdelt-data.csv",
     "nb": "/Users/aiujdm2/market_watch/output/notebooks/clean_gdelt_data.ipynb"
    },
    "upstream": {
     "fetch_n_filter_gdelt_bq": {
      "data": "/Users/aiujdm2/market_watch/output/data/raw/gdelt-gkg-bq.csv",
      "nb": "/Users/aiujdm2/market_watch/output/notebooks/fetch_n_filter_gdelt_bq.ipynb"
     }
    }
   },
   "start_time": "2022-03-22T00:11:20.972669"
  }
 },
 "nbformat": 4,
 "nbformat_minor": 5
}