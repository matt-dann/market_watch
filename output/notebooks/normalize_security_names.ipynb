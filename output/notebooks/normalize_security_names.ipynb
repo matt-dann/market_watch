{
 "cells": [
  {
   "cell_type": "code",
   "execution_count": 1,
   "id": "7b677237",
   "metadata": {
    "execution": {
     "iopub.execute_input": "2022-04-18T16:11:52.163657Z",
     "iopub.status.busy": "2022-04-18T16:11:52.163362Z",
     "iopub.status.idle": "2022-04-18T16:11:52.171192Z",
     "shell.execute_reply": "2022-04-18T16:11:52.170599Z"
    },
    "papermill": {
     "duration": 0.021965,
     "end_time": "2022-04-18T16:11:52.173188",
     "exception": false,
     "start_time": "2022-04-18T16:11:52.151223",
     "status": "completed"
    },
    "tags": [
     "parameters"
    ]
   },
   "outputs": [],
   "source": [
    "# declare a list tasks whose products you want to use as inputs\n",
    "upstream = ['fetch_securities']\n"
   ]
  },
  {
   "cell_type": "code",
   "execution_count": 2,
   "id": "d3a8ec56",
   "metadata": {
    "execution": {
     "iopub.execute_input": "2022-04-18T16:11:52.190950Z",
     "iopub.status.busy": "2022-04-18T16:11:52.190742Z",
     "iopub.status.idle": "2022-04-18T16:11:52.194181Z",
     "shell.execute_reply": "2022-04-18T16:11:52.193662Z"
    },
    "papermill": {
     "duration": 0.013828,
     "end_time": "2022-04-18T16:11:52.195817",
     "exception": false,
     "start_time": "2022-04-18T16:11:52.181989",
     "status": "completed"
    },
    "tags": [
     "injected-parameters"
    ]
   },
   "outputs": [],
   "source": [
    "# Parameters\n",
    "upstream = {\n",
    "    \"fetch_securities\": {\n",
    "        \"nb\": \"/Users/aiujdm2/market_watch/output/notebooks/fetch_securities.ipynb\",\n",
    "        \"data\": \"/Users/aiujdm2/market_watch/output/data/raw/securities.csv\",\n",
    "    }\n",
    "}\n",
    "product = {\n",
    "    \"nb\": \"/Users/aiujdm2/market_watch/output/notebooks/normalize_security_names.ipynb\",\n",
    "    \"data\": \"/Users/aiujdm2/market_watch/output/data/interim/normalized_security_names.csv\",\n",
    "}\n"
   ]
  },
  {
   "cell_type": "code",
   "execution_count": 3,
   "id": "f75014ab",
   "metadata": {
    "execution": {
     "iopub.execute_input": "2022-04-18T16:11:52.211313Z",
     "iopub.status.busy": "2022-04-18T16:11:52.211112Z",
     "iopub.status.idle": "2022-04-18T16:11:52.921945Z",
     "shell.execute_reply": "2022-04-18T16:11:52.921184Z"
    },
    "papermill": {
     "duration": 0.720607,
     "end_time": "2022-04-18T16:11:52.923834",
     "exception": false,
     "start_time": "2022-04-18T16:11:52.203227",
     "status": "completed"
    },
    "tags": []
   },
   "outputs": [],
   "source": [
    "import ast\n",
    "import pandas as pd\n",
    "import numpy as np\n",
    "import json\n",
    "from pathlib import Path\n",
    "from src.utils import preprocess_text"
   ]
  },
  {
   "cell_type": "code",
   "execution_count": 4,
   "id": "9d10bce8",
   "metadata": {
    "execution": {
     "iopub.execute_input": "2022-04-18T16:11:52.937450Z",
     "iopub.status.busy": "2022-04-18T16:11:52.937125Z",
     "iopub.status.idle": "2022-04-18T16:11:52.967726Z",
     "shell.execute_reply": "2022-04-18T16:11:52.967173Z"
    },
    "papermill": {
     "duration": 0.039368,
     "end_time": "2022-04-18T16:11:52.969421",
     "exception": false,
     "start_time": "2022-04-18T16:11:52.930053",
     "status": "completed"
    },
    "tags": []
   },
   "outputs": [],
   "source": [
    "securities_file_path = upstream['fetch_securities']['data']\n",
    "securities_df = pd.read_csv(securities_file_path, index_col=0)"
   ]
  },
  {
   "cell_type": "code",
   "execution_count": 5,
   "id": "c12297cd",
   "metadata": {
    "execution": {
     "iopub.execute_input": "2022-04-18T16:11:52.983766Z",
     "iopub.status.busy": "2022-04-18T16:11:52.983583Z",
     "iopub.status.idle": "2022-04-18T16:11:52.990061Z",
     "shell.execute_reply": "2022-04-18T16:11:52.989441Z"
    },
    "papermill": {
     "duration": 0.015972,
     "end_time": "2022-04-18T16:11:52.992154",
     "exception": false,
     "start_time": "2022-04-18T16:11:52.976182",
     "status": "completed"
    },
    "tags": []
   },
   "outputs": [],
   "source": [
    "securities_df.drop_duplicates(subset=['cik'], inplace=True)"
   ]
  },
  {
   "cell_type": "code",
   "execution_count": 6,
   "id": "244d7206",
   "metadata": {
    "execution": {
     "iopub.execute_input": "2022-04-18T16:11:53.007865Z",
     "iopub.status.busy": "2022-04-18T16:11:53.007692Z",
     "iopub.status.idle": "2022-04-18T16:11:53.022597Z",
     "shell.execute_reply": "2022-04-18T16:11:53.022210Z"
    },
    "papermill": {
     "duration": 0.024852,
     "end_time": "2022-04-18T16:11:53.024370",
     "exception": false,
     "start_time": "2022-04-18T16:11:52.999518",
     "status": "completed"
    },
    "tags": []
   },
   "outputs": [
    {
     "name": "stdout",
     "output_type": "stream",
     "text": [
      "<class 'pandas.core.frame.DataFrame'>\n",
      "Int64Index: 9213 entries, 0 to 9212\n",
      "Data columns (total 12 columns):\n",
      " #   Column                 Non-Null Count  Dtype  \n",
      "---  ------                 --------------  -----  \n",
      " 0   cik                    9213 non-null   int64  \n",
      " 1   ticker                 9213 non-null   object \n",
      " 2   exchanges              9213 non-null   object \n",
      " 3   ein                    9203 non-null   float64\n",
      " 4   full_name              9213 non-null   object \n",
      " 5   former_names           9213 non-null   object \n",
      " 6   short_name             499 non-null    object \n",
      " 7   gics_sector            499 non-null    object \n",
      " 8   gics_sub_industry      499 non-null    object \n",
      " 9   sic                    8428 non-null   float64\n",
      " 10  sic_description        8414 non-null   object \n",
      " 11  headquarters_location  499 non-null    object \n",
      "dtypes: float64(2), int64(1), object(9)\n",
      "memory usage: 935.7+ KB\n"
     ]
    }
   ],
   "source": [
    "securities_df.info()"
   ]
  },
  {
   "cell_type": "code",
   "execution_count": 7,
   "id": "6a08bbef",
   "metadata": {
    "execution": {
     "iopub.execute_input": "2022-04-18T16:11:53.038287Z",
     "iopub.status.busy": "2022-04-18T16:11:53.038120Z",
     "iopub.status.idle": "2022-04-18T16:11:53.058565Z",
     "shell.execute_reply": "2022-04-18T16:11:53.058145Z"
    },
    "papermill": {
     "duration": 0.029087,
     "end_time": "2022-04-18T16:11:53.060111",
     "exception": false,
     "start_time": "2022-04-18T16:11:53.031024",
     "status": "completed"
    },
    "tags": []
   },
   "outputs": [
    {
     "data": {
      "text/html": [
       "<div>\n",
       "<style scoped>\n",
       "    .dataframe tbody tr th:only-of-type {\n",
       "        vertical-align: middle;\n",
       "    }\n",
       "\n",
       "    .dataframe tbody tr th {\n",
       "        vertical-align: top;\n",
       "    }\n",
       "\n",
       "    .dataframe thead th {\n",
       "        text-align: right;\n",
       "    }\n",
       "</style>\n",
       "<table border=\"1\" class=\"dataframe\">\n",
       "  <thead>\n",
       "    <tr style=\"text-align: right;\">\n",
       "      <th></th>\n",
       "      <th>cik</th>\n",
       "      <th>ticker</th>\n",
       "      <th>exchanges</th>\n",
       "      <th>ein</th>\n",
       "      <th>full_name</th>\n",
       "      <th>former_names</th>\n",
       "      <th>short_name</th>\n",
       "      <th>gics_sector</th>\n",
       "      <th>gics_sub_industry</th>\n",
       "      <th>sic</th>\n",
       "      <th>sic_description</th>\n",
       "      <th>headquarters_location</th>\n",
       "    </tr>\n",
       "  </thead>\n",
       "  <tbody>\n",
       "    <tr>\n",
       "      <th>1</th>\n",
       "      <td>1843100</td>\n",
       "      <td>SAMA</td>\n",
       "      <td>['Nasdaq', 'Nasdaq', 'Nasdaq']</td>\n",
       "      <td>861206818.0</td>\n",
       "      <td>Schultze Special Purpose Acquisition Corp. II</td>\n",
       "      <td>NaN</td>\n",
       "      <td>NaN</td>\n",
       "      <td>NaN</td>\n",
       "      <td>NaN</td>\n",
       "      <td>6770.0</td>\n",
       "      <td>Blank Checks</td>\n",
       "      <td>NaN</td>\n",
       "    </tr>\n",
       "    <tr>\n",
       "      <th>2</th>\n",
       "      <td>1527753</td>\n",
       "      <td>PSNL</td>\n",
       "      <td>['Nasdaq']</td>\n",
       "      <td>275411038.0</td>\n",
       "      <td>Personalis, Inc.</td>\n",
       "      <td>NaN</td>\n",
       "      <td>NaN</td>\n",
       "      <td>NaN</td>\n",
       "      <td>NaN</td>\n",
       "      <td>8071.0</td>\n",
       "      <td>Services-Medical Laboratories</td>\n",
       "      <td>NaN</td>\n",
       "    </tr>\n",
       "    <tr>\n",
       "      <th>4</th>\n",
       "      <td>1437731</td>\n",
       "      <td>TGSGY</td>\n",
       "      <td>['OTC', 'OTC']</td>\n",
       "      <td>0.0</td>\n",
       "      <td>TGS NOPEC Geophysical CO</td>\n",
       "      <td>NaN</td>\n",
       "      <td>NaN</td>\n",
       "      <td>NaN</td>\n",
       "      <td>NaN</td>\n",
       "      <td>NaN</td>\n",
       "      <td>NaN</td>\n",
       "      <td>NaN</td>\n",
       "    </tr>\n",
       "    <tr>\n",
       "      <th>5</th>\n",
       "      <td>1816723</td>\n",
       "      <td>GRFX</td>\n",
       "      <td>['', 'OTC']</td>\n",
       "      <td>0.0</td>\n",
       "      <td>Graphex Group Ltd</td>\n",
       "      <td>NaN</td>\n",
       "      <td>NaN</td>\n",
       "      <td>NaN</td>\n",
       "      <td>NaN</td>\n",
       "      <td>3620.0</td>\n",
       "      <td>Electrical Industrial Apparatus</td>\n",
       "      <td>NaN</td>\n",
       "    </tr>\n",
       "    <tr>\n",
       "      <th>7</th>\n",
       "      <td>1044378</td>\n",
       "      <td>BIOC</td>\n",
       "      <td>['Nasdaq']</td>\n",
       "      <td>800943522.0</td>\n",
       "      <td>BIOCEPT INC</td>\n",
       "      <td>NaN</td>\n",
       "      <td>NaN</td>\n",
       "      <td>NaN</td>\n",
       "      <td>NaN</td>\n",
       "      <td>8071.0</td>\n",
       "      <td>Services-Medical Laboratories</td>\n",
       "      <td>NaN</td>\n",
       "    </tr>\n",
       "    <tr>\n",
       "      <th>...</th>\n",
       "      <td>...</td>\n",
       "      <td>...</td>\n",
       "      <td>...</td>\n",
       "      <td>...</td>\n",
       "      <td>...</td>\n",
       "      <td>...</td>\n",
       "      <td>...</td>\n",
       "      <td>...</td>\n",
       "      <td>...</td>\n",
       "      <td>...</td>\n",
       "      <td>...</td>\n",
       "      <td>...</td>\n",
       "    </tr>\n",
       "    <tr>\n",
       "      <th>9205</th>\n",
       "      <td>914156</td>\n",
       "      <td>UFPT</td>\n",
       "      <td>['Nasdaq']</td>\n",
       "      <td>42314970.0</td>\n",
       "      <td>UFP TECHNOLOGIES INC</td>\n",
       "      <td>NaN</td>\n",
       "      <td>NaN</td>\n",
       "      <td>NaN</td>\n",
       "      <td>NaN</td>\n",
       "      <td>3841.0</td>\n",
       "      <td>Surgical &amp; Medical Instruments &amp; Apparatus</td>\n",
       "      <td>NaN</td>\n",
       "    </tr>\n",
       "    <tr>\n",
       "      <th>9206</th>\n",
       "      <td>1778982</td>\n",
       "      <td>HUIZ</td>\n",
       "      <td>['Nasdaq']</td>\n",
       "      <td>0.0</td>\n",
       "      <td>Huize Holding Ltd</td>\n",
       "      <td>NaN</td>\n",
       "      <td>NaN</td>\n",
       "      <td>NaN</td>\n",
       "      <td>NaN</td>\n",
       "      <td>6411.0</td>\n",
       "      <td>Insurance Agents, Brokers &amp; Service</td>\n",
       "      <td>NaN</td>\n",
       "    </tr>\n",
       "    <tr>\n",
       "      <th>9207</th>\n",
       "      <td>1297184</td>\n",
       "      <td>AMPH</td>\n",
       "      <td>['Nasdaq']</td>\n",
       "      <td>330702205.0</td>\n",
       "      <td>Amphastar Pharmaceuticals, Inc.</td>\n",
       "      <td>NaN</td>\n",
       "      <td>NaN</td>\n",
       "      <td>NaN</td>\n",
       "      <td>NaN</td>\n",
       "      <td>2834.0</td>\n",
       "      <td>Pharmaceutical Preparations</td>\n",
       "      <td>NaN</td>\n",
       "    </tr>\n",
       "    <tr>\n",
       "      <th>9208</th>\n",
       "      <td>56873</td>\n",
       "      <td>KR</td>\n",
       "      <td>['NYSE']</td>\n",
       "      <td>310345740.0</td>\n",
       "      <td>KROGER CO</td>\n",
       "      <td>NaN</td>\n",
       "      <td>Kroger</td>\n",
       "      <td>Consumer Staples</td>\n",
       "      <td>Food Retail</td>\n",
       "      <td>5411.0</td>\n",
       "      <td>Retail-Grocery Stores</td>\n",
       "      <td>Cincinnati, Ohio</td>\n",
       "    </tr>\n",
       "    <tr>\n",
       "      <th>9210</th>\n",
       "      <td>1370450</td>\n",
       "      <td>WLDN</td>\n",
       "      <td>['Nasdaq']</td>\n",
       "      <td>141951112.0</td>\n",
       "      <td>Willdan Group, Inc.</td>\n",
       "      <td>NaN</td>\n",
       "      <td>NaN</td>\n",
       "      <td>NaN</td>\n",
       "      <td>NaN</td>\n",
       "      <td>8711.0</td>\n",
       "      <td>Services-Engineering Services</td>\n",
       "      <td>NaN</td>\n",
       "    </tr>\n",
       "  </tbody>\n",
       "</table>\n",
       "<p>4736 rows × 12 columns</p>\n",
       "</div>"
      ],
      "text/plain": [
       "          cik ticker                       exchanges          ein  \\\n",
       "1     1843100   SAMA  ['Nasdaq', 'Nasdaq', 'Nasdaq']  861206818.0   \n",
       "2     1527753   PSNL                      ['Nasdaq']  275411038.0   \n",
       "4     1437731  TGSGY                  ['OTC', 'OTC']          0.0   \n",
       "5     1816723   GRFX                     ['', 'OTC']          0.0   \n",
       "7     1044378   BIOC                      ['Nasdaq']  800943522.0   \n",
       "...       ...    ...                             ...          ...   \n",
       "9205   914156   UFPT                      ['Nasdaq']   42314970.0   \n",
       "9206  1778982   HUIZ                      ['Nasdaq']          0.0   \n",
       "9207  1297184   AMPH                      ['Nasdaq']  330702205.0   \n",
       "9208    56873     KR                        ['NYSE']  310345740.0   \n",
       "9210  1370450   WLDN                      ['Nasdaq']  141951112.0   \n",
       "\n",
       "                                          full_name former_names short_name  \\\n",
       "1     Schultze Special Purpose Acquisition Corp. II          NaN        NaN   \n",
       "2                                  Personalis, Inc.          NaN        NaN   \n",
       "4                          TGS NOPEC Geophysical CO          NaN        NaN   \n",
       "5                                 Graphex Group Ltd          NaN        NaN   \n",
       "7                                       BIOCEPT INC          NaN        NaN   \n",
       "...                                             ...          ...        ...   \n",
       "9205                           UFP TECHNOLOGIES INC          NaN        NaN   \n",
       "9206                              Huize Holding Ltd          NaN        NaN   \n",
       "9207                Amphastar Pharmaceuticals, Inc.          NaN        NaN   \n",
       "9208                                      KROGER CO          NaN     Kroger   \n",
       "9210                            Willdan Group, Inc.          NaN        NaN   \n",
       "\n",
       "           gics_sector gics_sub_industry     sic  \\\n",
       "1                  NaN               NaN  6770.0   \n",
       "2                  NaN               NaN  8071.0   \n",
       "4                  NaN               NaN     NaN   \n",
       "5                  NaN               NaN  3620.0   \n",
       "7                  NaN               NaN  8071.0   \n",
       "...                ...               ...     ...   \n",
       "9205               NaN               NaN  3841.0   \n",
       "9206               NaN               NaN  6411.0   \n",
       "9207               NaN               NaN  2834.0   \n",
       "9208  Consumer Staples       Food Retail  5411.0   \n",
       "9210               NaN               NaN  8711.0   \n",
       "\n",
       "                                 sic_description headquarters_location  \n",
       "1                                   Blank Checks                   NaN  \n",
       "2                  Services-Medical Laboratories                   NaN  \n",
       "4                                            NaN                   NaN  \n",
       "5                Electrical Industrial Apparatus                   NaN  \n",
       "7                  Services-Medical Laboratories                   NaN  \n",
       "...                                          ...                   ...  \n",
       "9205  Surgical & Medical Instruments & Apparatus                   NaN  \n",
       "9206         Insurance Agents, Brokers & Service                   NaN  \n",
       "9207                 Pharmaceutical Preparations                   NaN  \n",
       "9208                       Retail-Grocery Stores      Cincinnati, Ohio  \n",
       "9210               Services-Engineering Services                   NaN  \n",
       "\n",
       "[4736 rows x 12 columns]"
      ]
     },
     "execution_count": 7,
     "metadata": {},
     "output_type": "execute_result"
    }
   ],
   "source": [
    "securities_df.former_names.replace('[]', np.nan, inplace=True)\n",
    "securities_df[securities_df.former_names.isnull()]"
   ]
  },
  {
   "cell_type": "code",
   "execution_count": 8,
   "id": "c22fc466",
   "metadata": {
    "execution": {
     "iopub.execute_input": "2022-04-18T16:11:53.075649Z",
     "iopub.status.busy": "2022-04-18T16:11:53.075463Z",
     "iopub.status.idle": "2022-04-18T16:11:53.080893Z",
     "shell.execute_reply": "2022-04-18T16:11:53.080343Z"
    },
    "papermill": {
     "duration": 0.014924,
     "end_time": "2022-04-18T16:11:53.082424",
     "exception": false,
     "start_time": "2022-04-18T16:11:53.067500",
     "status": "completed"
    },
    "tags": []
   },
   "outputs": [],
   "source": [
    "def nomalize_names(securities_df):\n",
    "    def extract_name(string):\n",
    "        if len(str(string).strip()) > 5:\n",
    "            string = ast.literal_eval(string)\n",
    "            string = json.dumps(string)\n",
    "            lst = json.loads(string)\n",
    "            name = lst[0][\"name\"]\n",
    "            return name\n",
    "        else:\n",
    "            return np.nan\n",
    "            \n",
    "    securities_df['former_name'] = securities_df.former_names.apply(extract_name)\n",
    "    securities_df = securities_df.replace(to_replace=[\"/[A-Za-z]+/?\"], value=[''], regex=True)\n",
    "    securities_df = securities_df.replace(to_replace=[r'\\\\DE\\\\'], value=[''], regex=True)\n",
    "    \n",
    "    not_null_cond = ~securities_df['former_name'].isnull()\n",
    "    \n",
    "    securities_df.loc[not_null_cond,'former_name'] = preprocess_text(securities_df.loc[not_null_cond,'former_name'])\n",
    "    \n",
    "    securities_df['full_name'] = preprocess_text(securities_df.full_name)\n",
    "    securities_df.replace('[]', np.nan, inplace=True)\n",
    "\n",
    "    columns_to_select = ['cik','ticker','full_name', 'former_name']\n",
    "    \n",
    "    return securities_df[columns_to_select]"
   ]
  },
  {
   "cell_type": "code",
   "execution_count": 9,
   "id": "d3e91fdb",
   "metadata": {
    "execution": {
     "iopub.execute_input": "2022-04-18T16:11:53.097307Z",
     "iopub.status.busy": "2022-04-18T16:11:53.097136Z",
     "iopub.status.idle": "2022-04-18T16:11:55.809200Z",
     "shell.execute_reply": "2022-04-18T16:11:55.808640Z"
    },
    "papermill": {
     "duration": 2.721524,
     "end_time": "2022-04-18T16:11:55.811008",
     "exception": false,
     "start_time": "2022-04-18T16:11:53.089484",
     "status": "completed"
    },
    "tags": []
   },
   "outputs": [],
   "source": [
    "securities_df = nomalize_names(securities_df)"
   ]
  },
  {
   "cell_type": "code",
   "execution_count": 10,
   "id": "1ae1a750",
   "metadata": {
    "execution": {
     "iopub.execute_input": "2022-04-18T16:11:55.826201Z",
     "iopub.status.busy": "2022-04-18T16:11:55.825989Z",
     "iopub.status.idle": "2022-04-18T16:11:55.853330Z",
     "shell.execute_reply": "2022-04-18T16:11:55.852862Z"
    },
    "papermill": {
     "duration": 0.036812,
     "end_time": "2022-04-18T16:11:55.854936",
     "exception": false,
     "start_time": "2022-04-18T16:11:55.818124",
     "status": "completed"
    },
    "tags": []
   },
   "outputs": [
    {
     "name": "stdout",
     "output_type": "stream",
     "text": [
      "Saved file /Users/aiujdm2/market_watch/output/data/interim/normalized_security_names.csv\n"
     ]
    }
   ],
   "source": [
    "output_file_path = product['data']\n",
    "Path(output_file_path).parent.mkdir(exist_ok=True, parents=True)\n",
    "securities_df.to_csv(output_file_path)\n",
    "print(f\"Saved file {output_file_path}\")"
   ]
  },
  {
   "cell_type": "code",
   "execution_count": null,
   "id": "af44af73",
   "metadata": {
    "papermill": {
     "duration": 0.00746,
     "end_time": "2022-04-18T16:11:55.869868",
     "exception": false,
     "start_time": "2022-04-18T16:11:55.862408",
     "status": "completed"
    },
    "tags": []
   },
   "outputs": [],
   "source": []
  },
  {
   "cell_type": "code",
   "execution_count": null,
   "id": "37a1b5a9",
   "metadata": {
    "papermill": {
     "duration": 0.007803,
     "end_time": "2022-04-18T16:11:55.884830",
     "exception": false,
     "start_time": "2022-04-18T16:11:55.877027",
     "status": "completed"
    },
    "tags": []
   },
   "outputs": [],
   "source": []
  }
 ],
 "metadata": {
  "jupytext": {
   "cell_metadata_filter": "tags,-all",
   "main_language": "python",
   "notebook_metadata_filter": "-all",
   "text_representation": {
    "extension": ".py",
    "format_name": "light"
   }
  },
  "kernelspec": {
   "display_name": "Python 3 (ipykernel)",
   "language": "python",
   "name": "python3"
  },
  "language_info": {
   "codemirror_mode": {
    "name": "ipython",
    "version": 3
   },
   "file_extension": ".py",
   "mimetype": "text/x-python",
   "name": "python",
   "nbconvert_exporter": "python",
   "pygments_lexer": "ipython3",
   "version": "3.9.10"
  },
  "papermill": {
   "duration": 8.085217,
   "end_time": "2022-04-18T16:11:59.039713",
   "exception": null,
   "input_path": "/var/folders/b0/4tc1nfbd6z7_vhx4nxcj2n91c0l9h6/T/tmpbrse2vgl.ipynb",
   "output_path": "/Users/aiujdm2/market_watch/output/notebooks/normalize_security_names.ipynb",
   "parameters": {
    "product": {
     "data": "/Users/aiujdm2/market_watch/output/data/interim/normalized_security_names.csv",
     "nb": "/Users/aiujdm2/market_watch/output/notebooks/normalize_security_names.ipynb"
    },
    "upstream": {
     "fetch_securities": {
      "data": "/Users/aiujdm2/market_watch/output/data/raw/securities.csv",
      "nb": "/Users/aiujdm2/market_watch/output/notebooks/fetch_securities.ipynb"
     }
    }
   },
   "start_time": "2022-04-18T16:11:50.954496"
  }
 },
 "nbformat": 4,
 "nbformat_minor": 5
}