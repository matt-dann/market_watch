{
 "cells": [
  {
   "cell_type": "code",
   "execution_count": 1,
   "id": "b90bdd24",
   "metadata": {
    "execution": {
     "iopub.execute_input": "2022-04-18T04:40:18.698511Z",
     "iopub.status.busy": "2022-04-18T04:40:18.698216Z",
     "iopub.status.idle": "2022-04-18T04:40:18.705776Z",
     "shell.execute_reply": "2022-04-18T04:40:18.705226Z"
    },
    "papermill": {
     "duration": 0.021783,
     "end_time": "2022-04-18T04:40:18.707634",
     "exception": false,
     "start_time": "2022-04-18T04:40:18.685851",
     "status": "completed"
    },
    "tags": [
     "parameters"
    ]
   },
   "outputs": [],
   "source": [
    "# declare a list tasks whose products you want to use as inputs\n",
    "upstream = ['fetch_securities']\n"
   ]
  },
  {
   "cell_type": "code",
   "execution_count": 2,
   "id": "0e38f95a",
   "metadata": {
    "execution": {
     "iopub.execute_input": "2022-04-18T04:40:18.725550Z",
     "iopub.status.busy": "2022-04-18T04:40:18.725351Z",
     "iopub.status.idle": "2022-04-18T04:40:18.728789Z",
     "shell.execute_reply": "2022-04-18T04:40:18.728253Z"
    },
    "papermill": {
     "duration": 0.013888,
     "end_time": "2022-04-18T04:40:18.730460",
     "exception": false,
     "start_time": "2022-04-18T04:40:18.716572",
     "status": "completed"
    },
    "tags": [
     "injected-parameters"
    ]
   },
   "outputs": [],
   "source": [
    "# Parameters\n",
    "upstream = {\n",
    "    \"fetch_securities\": {\n",
    "        \"nb\": \"/Users/aiujdm2/market_watch/output/notebooks/fetch_securities.ipynb\",\n",
    "        \"data\": \"/Users/aiujdm2/market_watch/output/data/raw/securities.csv\",\n",
    "    }\n",
    "}\n",
    "product = {\n",
    "    \"nb\": \"/Users/aiujdm2/market_watch/output/notebooks/normalize_security_names.ipynb\",\n",
    "    \"data\": \"/Users/aiujdm2/market_watch/output/data/interim/normalized_security_names.csv\",\n",
    "}\n"
   ]
  },
  {
   "cell_type": "code",
   "execution_count": 3,
   "id": "ba8fcd34",
   "metadata": {
    "execution": {
     "iopub.execute_input": "2022-04-18T04:40:18.746628Z",
     "iopub.status.busy": "2022-04-18T04:40:18.746427Z",
     "iopub.status.idle": "2022-04-18T04:40:19.431199Z",
     "shell.execute_reply": "2022-04-18T04:40:19.430609Z"
    },
    "papermill": {
     "duration": 0.694693,
     "end_time": "2022-04-18T04:40:19.432879",
     "exception": false,
     "start_time": "2022-04-18T04:40:18.738186",
     "status": "completed"
    },
    "tags": []
   },
   "outputs": [],
   "source": [
    "import ast\n",
    "import pandas as pd\n",
    "import numpy as np\n",
    "import json\n",
    "from pathlib import Path\n",
    "from src.utils import preprocess_text"
   ]
  },
  {
   "cell_type": "code",
   "execution_count": 4,
   "id": "042c897d",
   "metadata": {
    "execution": {
     "iopub.execute_input": "2022-04-18T04:40:19.446282Z",
     "iopub.status.busy": "2022-04-18T04:40:19.446077Z",
     "iopub.status.idle": "2022-04-18T04:40:19.472350Z",
     "shell.execute_reply": "2022-04-18T04:40:19.471725Z"
    },
    "papermill": {
     "duration": 0.034887,
     "end_time": "2022-04-18T04:40:19.474209",
     "exception": false,
     "start_time": "2022-04-18T04:40:19.439322",
     "status": "completed"
    },
    "tags": []
   },
   "outputs": [],
   "source": [
    "securities_file_path = upstream['fetch_securities']['data']\n",
    "securities_df = pd.read_csv(securities_file_path, index_col=0)"
   ]
  },
  {
   "cell_type": "code",
   "execution_count": 5,
   "id": "d4f643bb",
   "metadata": {
    "execution": {
     "iopub.execute_input": "2022-04-18T04:40:19.488099Z",
     "iopub.status.busy": "2022-04-18T04:40:19.487917Z",
     "iopub.status.idle": "2022-04-18T04:40:19.493890Z",
     "shell.execute_reply": "2022-04-18T04:40:19.493316Z"
    },
    "papermill": {
     "duration": 0.015197,
     "end_time": "2022-04-18T04:40:19.495687",
     "exception": false,
     "start_time": "2022-04-18T04:40:19.480490",
     "status": "completed"
    },
    "tags": []
   },
   "outputs": [],
   "source": [
    "securities_df.drop_duplicates(subset=['cik'], inplace=True)"
   ]
  },
  {
   "cell_type": "code",
   "execution_count": 6,
   "id": "f8fea72a",
   "metadata": {
    "execution": {
     "iopub.execute_input": "2022-04-18T04:40:19.510272Z",
     "iopub.status.busy": "2022-04-18T04:40:19.510090Z",
     "iopub.status.idle": "2022-04-18T04:40:19.525367Z",
     "shell.execute_reply": "2022-04-18T04:40:19.524961Z"
    },
    "papermill": {
     "duration": 0.024176,
     "end_time": "2022-04-18T04:40:19.526993",
     "exception": false,
     "start_time": "2022-04-18T04:40:19.502817",
     "status": "completed"
    },
    "tags": []
   },
   "outputs": [
    {
     "name": "stdout",
     "output_type": "stream",
     "text": [
      "<class 'pandas.core.frame.DataFrame'>\n",
      "Int64Index: 9213 entries, 0 to 9212\n",
      "Data columns (total 12 columns):\n",
      " #   Column                 Non-Null Count  Dtype  \n",
      "---  ------                 --------------  -----  \n",
      " 0   cik                    9213 non-null   int64  \n",
      " 1   ticker                 9213 non-null   object \n",
      " 2   exchanges              9213 non-null   object \n",
      " 3   ein                    9203 non-null   float64\n",
      " 4   full_name              9213 non-null   object \n",
      " 5   former_names           9213 non-null   object \n",
      " 6   short_name             499 non-null    object \n",
      " 7   gics_sector            499 non-null    object \n",
      " 8   gics_sub_industry      499 non-null    object \n",
      " 9   sic                    8428 non-null   float64\n",
      " 10  sic_description        8414 non-null   object \n",
      " 11  headquarters_location  499 non-null    object \n",
      "dtypes: float64(2), int64(1), object(9)\n",
      "memory usage: 935.7+ KB\n"
     ]
    }
   ],
   "source": [
    "securities_df.info()"
   ]
  },
  {
   "cell_type": "code",
   "execution_count": 7,
   "id": "60650aa7",
   "metadata": {
    "execution": {
     "iopub.execute_input": "2022-04-18T04:40:19.541085Z",
     "iopub.status.busy": "2022-04-18T04:40:19.540899Z",
     "iopub.status.idle": "2022-04-18T04:40:19.560801Z",
     "shell.execute_reply": "2022-04-18T04:40:19.560377Z"
    },
    "papermill": {
     "duration": 0.028698,
     "end_time": "2022-04-18T04:40:19.562306",
     "exception": false,
     "start_time": "2022-04-18T04:40:19.533608",
     "status": "completed"
    },
    "tags": []
   },
   "outputs": [
    {
     "data": {
      "text/html": [
       "<div>\n",
       "<style scoped>\n",
       "    .dataframe tbody tr th:only-of-type {\n",
       "        vertical-align: middle;\n",
       "    }\n",
       "\n",
       "    .dataframe tbody tr th {\n",
       "        vertical-align: top;\n",
       "    }\n",
       "\n",
       "    .dataframe thead th {\n",
       "        text-align: right;\n",
       "    }\n",
       "</style>\n",
       "<table border=\"1\" class=\"dataframe\">\n",
       "  <thead>\n",
       "    <tr style=\"text-align: right;\">\n",
       "      <th></th>\n",
       "      <th>cik</th>\n",
       "      <th>ticker</th>\n",
       "      <th>exchanges</th>\n",
       "      <th>ein</th>\n",
       "      <th>full_name</th>\n",
       "      <th>former_names</th>\n",
       "      <th>short_name</th>\n",
       "      <th>gics_sector</th>\n",
       "      <th>gics_sub_industry</th>\n",
       "      <th>sic</th>\n",
       "      <th>sic_description</th>\n",
       "      <th>headquarters_location</th>\n",
       "    </tr>\n",
       "  </thead>\n",
       "  <tbody>\n",
       "    <tr>\n",
       "      <th>1</th>\n",
       "      <td>947559</td>\n",
       "      <td>FBMS</td>\n",
       "      <td>['Nasdaq']</td>\n",
       "      <td>640862173.0</td>\n",
       "      <td>FIRST BANCSHARES INC /MS/</td>\n",
       "      <td>NaN</td>\n",
       "      <td>NaN</td>\n",
       "      <td>NaN</td>\n",
       "      <td>NaN</td>\n",
       "      <td>6021.0</td>\n",
       "      <td>National Commercial Banks</td>\n",
       "      <td>NaN</td>\n",
       "    </tr>\n",
       "    <tr>\n",
       "      <th>4</th>\n",
       "      <td>1515317</td>\n",
       "      <td>MAGE</td>\n",
       "      <td>['OTC']</td>\n",
       "      <td>273566922.0</td>\n",
       "      <td>MAGELLAN GOLD Corp</td>\n",
       "      <td>NaN</td>\n",
       "      <td>NaN</td>\n",
       "      <td>NaN</td>\n",
       "      <td>NaN</td>\n",
       "      <td>1000.0</td>\n",
       "      <td>Metal Mining</td>\n",
       "      <td>NaN</td>\n",
       "    </tr>\n",
       "    <tr>\n",
       "      <th>7</th>\n",
       "      <td>1294325</td>\n",
       "      <td>CLPBY</td>\n",
       "      <td>['OTC', 'OTC']</td>\n",
       "      <td>0.0</td>\n",
       "      <td>COLOPLAST A/S</td>\n",
       "      <td>NaN</td>\n",
       "      <td>NaN</td>\n",
       "      <td>NaN</td>\n",
       "      <td>NaN</td>\n",
       "      <td>NaN</td>\n",
       "      <td>NaN</td>\n",
       "      <td>NaN</td>\n",
       "    </tr>\n",
       "    <tr>\n",
       "      <th>9</th>\n",
       "      <td>1844336</td>\n",
       "      <td>FTVI</td>\n",
       "      <td>['Nasdaq', 'Nasdaq', 'Nasdaq']</td>\n",
       "      <td>853742586.0</td>\n",
       "      <td>FINTECH ACQUISITION CORP VI</td>\n",
       "      <td>NaN</td>\n",
       "      <td>NaN</td>\n",
       "      <td>NaN</td>\n",
       "      <td>NaN</td>\n",
       "      <td>6770.0</td>\n",
       "      <td>Blank Checks</td>\n",
       "      <td>NaN</td>\n",
       "    </tr>\n",
       "    <tr>\n",
       "      <th>10</th>\n",
       "      <td>1734262</td>\n",
       "      <td>CTK</td>\n",
       "      <td>['NYSE']</td>\n",
       "      <td>0.0</td>\n",
       "      <td>CooTek(Cayman)Inc.</td>\n",
       "      <td>NaN</td>\n",
       "      <td>NaN</td>\n",
       "      <td>NaN</td>\n",
       "      <td>NaN</td>\n",
       "      <td>7374.0</td>\n",
       "      <td>Services-Computer Processing &amp; Data Preparation</td>\n",
       "      <td>NaN</td>\n",
       "    </tr>\n",
       "    <tr>\n",
       "      <th>...</th>\n",
       "      <td>...</td>\n",
       "      <td>...</td>\n",
       "      <td>...</td>\n",
       "      <td>...</td>\n",
       "      <td>...</td>\n",
       "      <td>...</td>\n",
       "      <td>...</td>\n",
       "      <td>...</td>\n",
       "      <td>...</td>\n",
       "      <td>...</td>\n",
       "      <td>...</td>\n",
       "      <td>...</td>\n",
       "    </tr>\n",
       "    <tr>\n",
       "      <th>9203</th>\n",
       "      <td>8858</td>\n",
       "      <td>AVT</td>\n",
       "      <td>['Nasdaq']</td>\n",
       "      <td>111890605.0</td>\n",
       "      <td>AVNET INC</td>\n",
       "      <td>NaN</td>\n",
       "      <td>NaN</td>\n",
       "      <td>NaN</td>\n",
       "      <td>NaN</td>\n",
       "      <td>5065.0</td>\n",
       "      <td>Wholesale-Electronic Parts &amp; Equipment, NEC</td>\n",
       "      <td>NaN</td>\n",
       "    </tr>\n",
       "    <tr>\n",
       "      <th>9204</th>\n",
       "      <td>8063</td>\n",
       "      <td>ATRO</td>\n",
       "      <td>['Nasdaq', 'OTC']</td>\n",
       "      <td>160959303.0</td>\n",
       "      <td>ASTRONICS CORP</td>\n",
       "      <td>NaN</td>\n",
       "      <td>NaN</td>\n",
       "      <td>NaN</td>\n",
       "      <td>NaN</td>\n",
       "      <td>3728.0</td>\n",
       "      <td>Aircraft Parts &amp; Auxiliary Equipment, NEC</td>\n",
       "      <td>NaN</td>\n",
       "    </tr>\n",
       "    <tr>\n",
       "      <th>9207</th>\n",
       "      <td>1692063</td>\n",
       "      <td>SNDR</td>\n",
       "      <td>['NYSE']</td>\n",
       "      <td>391258315.0</td>\n",
       "      <td>Schneider National, Inc.</td>\n",
       "      <td>NaN</td>\n",
       "      <td>NaN</td>\n",
       "      <td>NaN</td>\n",
       "      <td>NaN</td>\n",
       "      <td>4213.0</td>\n",
       "      <td>Trucking (No Local)</td>\n",
       "      <td>NaN</td>\n",
       "    </tr>\n",
       "    <tr>\n",
       "      <th>9210</th>\n",
       "      <td>1874981</td>\n",
       "      <td>USAX</td>\n",
       "      <td>['']</td>\n",
       "      <td>863599901.0</td>\n",
       "      <td>USA Acquisition Corp.</td>\n",
       "      <td>NaN</td>\n",
       "      <td>NaN</td>\n",
       "      <td>NaN</td>\n",
       "      <td>NaN</td>\n",
       "      <td>6770.0</td>\n",
       "      <td>Blank Checks</td>\n",
       "      <td>NaN</td>\n",
       "    </tr>\n",
       "    <tr>\n",
       "      <th>9212</th>\n",
       "      <td>1845123</td>\n",
       "      <td>IVCP</td>\n",
       "      <td>['Nasdaq', 'Nasdaq', 'Nasdaq']</td>\n",
       "      <td>0.0</td>\n",
       "      <td>Swiftmerge Acquisition Corp.</td>\n",
       "      <td>NaN</td>\n",
       "      <td>NaN</td>\n",
       "      <td>NaN</td>\n",
       "      <td>NaN</td>\n",
       "      <td>6770.0</td>\n",
       "      <td>Blank Checks</td>\n",
       "      <td>NaN</td>\n",
       "    </tr>\n",
       "  </tbody>\n",
       "</table>\n",
       "<p>4738 rows × 12 columns</p>\n",
       "</div>"
      ],
      "text/plain": [
       "          cik ticker                       exchanges          ein  \\\n",
       "1      947559   FBMS                      ['Nasdaq']  640862173.0   \n",
       "4     1515317   MAGE                         ['OTC']  273566922.0   \n",
       "7     1294325  CLPBY                  ['OTC', 'OTC']          0.0   \n",
       "9     1844336   FTVI  ['Nasdaq', 'Nasdaq', 'Nasdaq']  853742586.0   \n",
       "10    1734262    CTK                        ['NYSE']          0.0   \n",
       "...       ...    ...                             ...          ...   \n",
       "9203     8858    AVT                      ['Nasdaq']  111890605.0   \n",
       "9204     8063   ATRO               ['Nasdaq', 'OTC']  160959303.0   \n",
       "9207  1692063   SNDR                        ['NYSE']  391258315.0   \n",
       "9210  1874981   USAX                            ['']  863599901.0   \n",
       "9212  1845123   IVCP  ['Nasdaq', 'Nasdaq', 'Nasdaq']          0.0   \n",
       "\n",
       "                         full_name former_names short_name gics_sector  \\\n",
       "1        FIRST BANCSHARES INC /MS/          NaN        NaN         NaN   \n",
       "4               MAGELLAN GOLD Corp          NaN        NaN         NaN   \n",
       "7                    COLOPLAST A/S          NaN        NaN         NaN   \n",
       "9      FINTECH ACQUISITION CORP VI          NaN        NaN         NaN   \n",
       "10              CooTek(Cayman)Inc.          NaN        NaN         NaN   \n",
       "...                            ...          ...        ...         ...   \n",
       "9203                     AVNET INC          NaN        NaN         NaN   \n",
       "9204                ASTRONICS CORP          NaN        NaN         NaN   \n",
       "9207      Schneider National, Inc.          NaN        NaN         NaN   \n",
       "9210         USA Acquisition Corp.          NaN        NaN         NaN   \n",
       "9212  Swiftmerge Acquisition Corp.          NaN        NaN         NaN   \n",
       "\n",
       "     gics_sub_industry     sic  \\\n",
       "1                  NaN  6021.0   \n",
       "4                  NaN  1000.0   \n",
       "7                  NaN     NaN   \n",
       "9                  NaN  6770.0   \n",
       "10                 NaN  7374.0   \n",
       "...                ...     ...   \n",
       "9203               NaN  5065.0   \n",
       "9204               NaN  3728.0   \n",
       "9207               NaN  4213.0   \n",
       "9210               NaN  6770.0   \n",
       "9212               NaN  6770.0   \n",
       "\n",
       "                                      sic_description headquarters_location  \n",
       "1                           National Commercial Banks                   NaN  \n",
       "4                                        Metal Mining                   NaN  \n",
       "7                                                 NaN                   NaN  \n",
       "9                                        Blank Checks                   NaN  \n",
       "10    Services-Computer Processing & Data Preparation                   NaN  \n",
       "...                                               ...                   ...  \n",
       "9203      Wholesale-Electronic Parts & Equipment, NEC                   NaN  \n",
       "9204        Aircraft Parts & Auxiliary Equipment, NEC                   NaN  \n",
       "9207                              Trucking (No Local)                   NaN  \n",
       "9210                                     Blank Checks                   NaN  \n",
       "9212                                     Blank Checks                   NaN  \n",
       "\n",
       "[4738 rows x 12 columns]"
      ]
     },
     "execution_count": 7,
     "metadata": {},
     "output_type": "execute_result"
    }
   ],
   "source": [
    "securities_df.former_names.replace('[]', np.nan, inplace=True)\n",
    "securities_df[securities_df.former_names.isnull()]"
   ]
  },
  {
   "cell_type": "code",
   "execution_count": 8,
   "id": "ba365804",
   "metadata": {
    "execution": {
     "iopub.execute_input": "2022-04-18T04:40:19.578464Z",
     "iopub.status.busy": "2022-04-18T04:40:19.578304Z",
     "iopub.status.idle": "2022-04-18T04:40:19.583405Z",
     "shell.execute_reply": "2022-04-18T04:40:19.582952Z"
    },
    "papermill": {
     "duration": 0.014562,
     "end_time": "2022-04-18T04:40:19.584913",
     "exception": false,
     "start_time": "2022-04-18T04:40:19.570351",
     "status": "completed"
    },
    "tags": []
   },
   "outputs": [],
   "source": [
    "def nomalize_names(securities_df):\n",
    "    def extract_name(string):\n",
    "        if len(str(string).strip()) > 5:\n",
    "            string = ast.literal_eval(string)\n",
    "            string = json.dumps(string)\n",
    "            lst = json.loads(string)\n",
    "            name = lst[0][\"name\"]\n",
    "            return name\n",
    "        else:\n",
    "            return np.nan\n",
    "            \n",
    "    securities_df['former_name'] = securities_df.former_names.apply(extract_name)\n",
    "    securities_df = securities_df.replace(to_replace=[\"/[A-Za-z]+/?\"], value=[''], regex=True)\n",
    "    securities_df = securities_df.replace(to_replace=[r'\\\\DE\\\\'], value=[''], regex=True)\n",
    "    \n",
    "    not_null_cond = ~securities_df['former_name'].isnull()\n",
    "    \n",
    "    securities_df.loc[not_null_cond,'former_name'] = preprocess_text(securities_df.loc[not_null_cond,'former_name'])\n",
    "    \n",
    "    securities_df['full_name'] = preprocess_text(securities_df.full_name)\n",
    "    securities_df.replace('[]', np.nan, inplace=True)\n",
    "\n",
    "    columns_to_select = ['cik','ticker','full_name', 'former_name']\n",
    "    \n",
    "    return securities_df[columns_to_select]"
   ]
  },
  {
   "cell_type": "code",
   "execution_count": 9,
   "id": "b7134857",
   "metadata": {
    "execution": {
     "iopub.execute_input": "2022-04-18T04:40:19.601558Z",
     "iopub.status.busy": "2022-04-18T04:40:19.601371Z",
     "iopub.status.idle": "2022-04-18T04:40:22.218689Z",
     "shell.execute_reply": "2022-04-18T04:40:22.218130Z"
    },
    "papermill": {
     "duration": 2.627694,
     "end_time": "2022-04-18T04:40:22.220397",
     "exception": false,
     "start_time": "2022-04-18T04:40:19.592703",
     "status": "completed"
    },
    "tags": []
   },
   "outputs": [],
   "source": [
    "securities_df = nomalize_names(securities_df)"
   ]
  },
  {
   "cell_type": "code",
   "execution_count": 10,
   "id": "c5cf357b",
   "metadata": {
    "execution": {
     "iopub.execute_input": "2022-04-18T04:40:22.235866Z",
     "iopub.status.busy": "2022-04-18T04:40:22.235673Z",
     "iopub.status.idle": "2022-04-18T04:40:22.259257Z",
     "shell.execute_reply": "2022-04-18T04:40:22.258836Z"
    },
    "papermill": {
     "duration": 0.033118,
     "end_time": "2022-04-18T04:40:22.261009",
     "exception": false,
     "start_time": "2022-04-18T04:40:22.227891",
     "status": "completed"
    },
    "tags": []
   },
   "outputs": [
    {
     "name": "stdout",
     "output_type": "stream",
     "text": [
      "Saved file /Users/aiujdm2/market_watch/output/data/interim/normalized_security_names.csv\n"
     ]
    }
   ],
   "source": [
    "output_file_path = product['data']\n",
    "Path(output_file_path).parent.mkdir(exist_ok=True, parents=True)\n",
    "securities_df.to_csv(output_file_path)\n",
    "print(f\"Saved file {output_file_path}\")"
   ]
  },
  {
   "cell_type": "code",
   "execution_count": null,
   "id": "cf0e0c72",
   "metadata": {
    "papermill": {
     "duration": 0.007647,
     "end_time": "2022-04-18T04:40:22.276759",
     "exception": false,
     "start_time": "2022-04-18T04:40:22.269112",
     "status": "completed"
    },
    "tags": []
   },
   "outputs": [],
   "source": []
  },
  {
   "cell_type": "code",
   "execution_count": null,
   "id": "00bc974d",
   "metadata": {
    "papermill": {
     "duration": 0.007524,
     "end_time": "2022-04-18T04:40:22.291958",
     "exception": false,
     "start_time": "2022-04-18T04:40:22.284434",
     "status": "completed"
    },
    "tags": []
   },
   "outputs": [],
   "source": []
  }
 ],
 "metadata": {
  "jupytext": {
   "cell_metadata_filter": "tags,-all",
   "main_language": "python",
   "notebook_metadata_filter": "-all",
   "text_representation": {
    "extension": ".py",
    "format_name": "light"
   }
  },
  "kernelspec": {
   "display_name": "Python 3 (ipykernel)",
   "language": "python",
   "name": "python3"
  },
  "language_info": {
   "codemirror_mode": {
    "name": "ipython",
    "version": 3
   },
   "file_extension": ".py",
   "mimetype": "text/x-python",
   "name": "python",
   "nbconvert_exporter": "python",
   "pygments_lexer": "ipython3",
   "version": "3.9.10"
  },
  "papermill": {
   "duration": 5.021742,
   "end_time": "2022-04-18T04:40:22.828739",
   "exception": null,
   "input_path": "/var/folders/b0/4tc1nfbd6z7_vhx4nxcj2n91c0l9h6/T/tmp3sjqy2pj.ipynb",
   "output_path": "/Users/aiujdm2/market_watch/output/notebooks/normalize_security_names.ipynb",
   "parameters": {
    "product": {
     "data": "/Users/aiujdm2/market_watch/output/data/interim/normalized_security_names.csv",
     "nb": "/Users/aiujdm2/market_watch/output/notebooks/normalize_security_names.ipynb"
    },
    "upstream": {
     "fetch_securities": {
      "data": "/Users/aiujdm2/market_watch/output/data/raw/securities.csv",
      "nb": "/Users/aiujdm2/market_watch/output/notebooks/fetch_securities.ipynb"
     }
    }
   },
   "start_time": "2022-04-18T04:40:17.806997"
  }
 },
 "nbformat": 4,
 "nbformat_minor": 5
}