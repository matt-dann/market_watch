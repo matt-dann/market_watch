{
 "cells": [
  {
   "cell_type": "code",
   "execution_count": 1,
   "id": "1805d4ff",
   "metadata": {
    "execution": {
     "iopub.execute_input": "2022-04-19T17:45:02.738168Z",
     "iopub.status.busy": "2022-04-19T17:45:02.736126Z",
     "iopub.status.idle": "2022-04-19T17:45:02.772041Z",
     "shell.execute_reply": "2022-04-19T17:45:02.768487Z"
    },
    "papermill": {
     "duration": 0.056535,
     "end_time": "2022-04-19T17:45:02.779226",
     "exception": false,
     "start_time": "2022-04-19T17:45:02.722691",
     "status": "completed"
    },
    "tags": [
     "parameters"
    ]
   },
   "outputs": [],
   "source": [
    "# declare a list tasks whose products you want to use as inputs\n",
    "upstream = ['fetch_securities']"
   ]
  },
  {
   "cell_type": "code",
   "execution_count": 2,
   "id": "95aaa208",
   "metadata": {
    "execution": {
     "iopub.execute_input": "2022-04-19T17:45:02.797736Z",
     "iopub.status.busy": "2022-04-19T17:45:02.796171Z",
     "iopub.status.idle": "2022-04-19T17:45:02.807804Z",
     "shell.execute_reply": "2022-04-19T17:45:02.805444Z"
    },
    "papermill": {
     "duration": 0.023568,
     "end_time": "2022-04-19T17:45:02.811961",
     "exception": false,
     "start_time": "2022-04-19T17:45:02.788393",
     "status": "completed"
    },
    "tags": [
     "injected-parameters"
    ]
   },
   "outputs": [],
   "source": [
    "# Parameters\n",
    "upstream = {\n",
    "    \"fetch_securities\": {\n",
    "        \"nb\": \"/root/market_watch/output/notebooks/fetch_securities.ipynb\",\n",
    "        \"data\": \"/root/market_watch/output/data/raw/securities.csv\",\n",
    "    }\n",
    "}\n",
    "product = {\n",
    "    \"nb\": \"/root/market_watch/output/notebooks/normalize_security_names.ipynb\",\n",
    "    \"data\": \"/root/market_watch/output/data/interim/normalized_security_names.csv\",\n",
    "}\n"
   ]
  },
  {
   "cell_type": "code",
   "execution_count": 3,
   "id": "294e718c",
   "metadata": {
    "execution": {
     "iopub.execute_input": "2022-04-19T17:45:02.820832Z",
     "iopub.status.busy": "2022-04-19T17:45:02.820494Z",
     "iopub.status.idle": "2022-04-19T17:45:03.601796Z",
     "shell.execute_reply": "2022-04-19T17:45:03.601169Z"
    },
    "papermill": {
     "duration": 0.787,
     "end_time": "2022-04-19T17:45:03.602972",
     "exception": false,
     "start_time": "2022-04-19T17:45:02.815972",
     "status": "completed"
    },
    "tags": []
   },
   "outputs": [
    {
     "name": "stderr",
     "output_type": "stream",
     "text": [
      "[nltk_data] Downloading package wordnet to /root/nltk_data...\n",
      "[nltk_data]   Package wordnet is already up-to-date!\n",
      "[nltk_data] Downloading package stopwords to /root/nltk_data...\n",
      "[nltk_data]   Package stopwords is already up-to-date!\n",
      "[nltk_data] Downloading package omw-1.4 to /root/nltk_data...\n",
      "[nltk_data]   Package omw-1.4 is already up-to-date!\n",
      "[nltk_data] Downloading package wordnet to /root/nltk_data...\n",
      "[nltk_data]   Package wordnet is already up-to-date!\n",
      "[nltk_data] Downloading package stopwords to /root/nltk_data...\n",
      "[nltk_data]   Package stopwords is already up-to-date!\n",
      "[nltk_data] Downloading package omw-1.4 to /root/nltk_data...\n",
      "[nltk_data]   Package omw-1.4 is already up-to-date!\n"
     ]
    },
    {
     "data": {
      "text/plain": [
       "True"
      ]
     },
     "execution_count": 3,
     "metadata": {},
     "output_type": "execute_result"
    }
   ],
   "source": [
    "import ast\n",
    "import pandas as pd\n",
    "import numpy as np\n",
    "import json\n",
    "from pathlib import Path\n",
    "from src.utils import preprocess_text\n",
    "\n",
    "import nltk\n",
    "nltk.download('wordnet')\n",
    "nltk.download('stopwords')\n",
    "nltk.download('omw-1.4')"
   ]
  },
  {
   "cell_type": "code",
   "execution_count": 4,
   "id": "46968db7",
   "metadata": {
    "execution": {
     "iopub.execute_input": "2022-04-19T17:45:03.608114Z",
     "iopub.status.busy": "2022-04-19T17:45:03.607812Z",
     "iopub.status.idle": "2022-04-19T17:45:03.632975Z",
     "shell.execute_reply": "2022-04-19T17:45:03.632304Z"
    },
    "papermill": {
     "duration": 0.029246,
     "end_time": "2022-04-19T17:45:03.634335",
     "exception": false,
     "start_time": "2022-04-19T17:45:03.605089",
     "status": "completed"
    },
    "tags": []
   },
   "outputs": [],
   "source": [
    "securities_file_path = upstream['fetch_securities']['data']\n",
    "securities_df = pd.read_csv(securities_file_path, index_col=0)"
   ]
  },
  {
   "cell_type": "code",
   "execution_count": 5,
   "id": "6a7d7dd9",
   "metadata": {
    "execution": {
     "iopub.execute_input": "2022-04-19T17:45:03.638663Z",
     "iopub.status.busy": "2022-04-19T17:45:03.638507Z",
     "iopub.status.idle": "2022-04-19T17:45:03.644546Z",
     "shell.execute_reply": "2022-04-19T17:45:03.643904Z"
    },
    "papermill": {
     "duration": 0.009741,
     "end_time": "2022-04-19T17:45:03.645812",
     "exception": false,
     "start_time": "2022-04-19T17:45:03.636071",
     "status": "completed"
    },
    "tags": []
   },
   "outputs": [],
   "source": [
    "securities_df.drop_duplicates(subset=['cik'], inplace=True)"
   ]
  },
  {
   "cell_type": "code",
   "execution_count": 6,
   "id": "e741581e",
   "metadata": {
    "execution": {
     "iopub.execute_input": "2022-04-19T17:45:03.650461Z",
     "iopub.status.busy": "2022-04-19T17:45:03.650305Z",
     "iopub.status.idle": "2022-04-19T17:45:03.667213Z",
     "shell.execute_reply": "2022-04-19T17:45:03.666579Z"
    },
    "papermill": {
     "duration": 0.020713,
     "end_time": "2022-04-19T17:45:03.668420",
     "exception": false,
     "start_time": "2022-04-19T17:45:03.647707",
     "status": "completed"
    },
    "tags": []
   },
   "outputs": [
    {
     "name": "stdout",
     "output_type": "stream",
     "text": [
      "<class 'pandas.core.frame.DataFrame'>\n",
      "Int64Index: 9213 entries, 0 to 9212\n",
      "Data columns (total 12 columns):\n",
      " #   Column                 Non-Null Count  Dtype  \n",
      "---  ------                 --------------  -----  \n",
      " 0   cik                    9213 non-null   int64  \n",
      " 1   ticker                 9213 non-null   object \n",
      " 2   exchanges              9213 non-null   object \n",
      " 3   ein                    9204 non-null   float64\n",
      " 4   full_name              9213 non-null   object \n",
      " 5   former_names           9213 non-null   object \n",
      " 6   short_name             499 non-null    object \n",
      " 7   gics_sector            499 non-null    object \n",
      " 8   gics_sub_industry      499 non-null    object \n",
      " 9   sic                    8428 non-null   float64\n",
      " 10  sic_description        8414 non-null   object \n",
      " 11  headquarters_location  499 non-null    object \n",
      "dtypes: float64(2), int64(1), object(9)\n",
      "memory usage: 935.7+ KB\n"
     ]
    }
   ],
   "source": [
    "securities_df.info()"
   ]
  },
  {
   "cell_type": "code",
   "execution_count": 7,
   "id": "78dea3ce",
   "metadata": {
    "execution": {
     "iopub.execute_input": "2022-04-19T17:45:03.672885Z",
     "iopub.status.busy": "2022-04-19T17:45:03.672725Z",
     "iopub.status.idle": "2022-04-19T17:45:03.690132Z",
     "shell.execute_reply": "2022-04-19T17:45:03.689511Z"
    },
    "papermill": {
     "duration": 0.020921,
     "end_time": "2022-04-19T17:45:03.691296",
     "exception": false,
     "start_time": "2022-04-19T17:45:03.670375",
     "status": "completed"
    },
    "tags": []
   },
   "outputs": [
    {
     "data": {
      "text/html": [
       "<div>\n",
       "<style scoped>\n",
       "    .dataframe tbody tr th:only-of-type {\n",
       "        vertical-align: middle;\n",
       "    }\n",
       "\n",
       "    .dataframe tbody tr th {\n",
       "        vertical-align: top;\n",
       "    }\n",
       "\n",
       "    .dataframe thead th {\n",
       "        text-align: right;\n",
       "    }\n",
       "</style>\n",
       "<table border=\"1\" class=\"dataframe\">\n",
       "  <thead>\n",
       "    <tr style=\"text-align: right;\">\n",
       "      <th></th>\n",
       "      <th>cik</th>\n",
       "      <th>ticker</th>\n",
       "      <th>exchanges</th>\n",
       "      <th>ein</th>\n",
       "      <th>full_name</th>\n",
       "      <th>former_names</th>\n",
       "      <th>short_name</th>\n",
       "      <th>gics_sector</th>\n",
       "      <th>gics_sub_industry</th>\n",
       "      <th>sic</th>\n",
       "      <th>sic_description</th>\n",
       "      <th>headquarters_location</th>\n",
       "    </tr>\n",
       "  </thead>\n",
       "  <tbody>\n",
       "    <tr>\n",
       "      <th>0</th>\n",
       "      <td>1603978</td>\n",
       "      <td>AQB</td>\n",
       "      <td>['Nasdaq']</td>\n",
       "      <td>43156167.0</td>\n",
       "      <td>AquaBounty Technologies, Inc.</td>\n",
       "      <td>NaN</td>\n",
       "      <td>NaN</td>\n",
       "      <td>NaN</td>\n",
       "      <td>NaN</td>\n",
       "      <td>900.0</td>\n",
       "      <td>Fishing, Hunting and Trapping</td>\n",
       "      <td>NaN</td>\n",
       "    </tr>\n",
       "    <tr>\n",
       "      <th>2</th>\n",
       "      <td>1268533</td>\n",
       "      <td>TYG</td>\n",
       "      <td>['NYSE']</td>\n",
       "      <td>0.0</td>\n",
       "      <td>TORTOISE ENERGY INFRASTRUCTURE CORP</td>\n",
       "      <td>NaN</td>\n",
       "      <td>NaN</td>\n",
       "      <td>NaN</td>\n",
       "      <td>NaN</td>\n",
       "      <td>NaN</td>\n",
       "      <td>NaN</td>\n",
       "      <td>NaN</td>\n",
       "    </tr>\n",
       "    <tr>\n",
       "      <th>3</th>\n",
       "      <td>23197</td>\n",
       "      <td>CMTL</td>\n",
       "      <td>['Nasdaq']</td>\n",
       "      <td>112139466.0</td>\n",
       "      <td>COMTECH TELECOMMUNICATIONS CORP /DE/</td>\n",
       "      <td>NaN</td>\n",
       "      <td>NaN</td>\n",
       "      <td>NaN</td>\n",
       "      <td>NaN</td>\n",
       "      <td>3663.0</td>\n",
       "      <td>Radio &amp; Tv Broadcasting &amp; Communications Equip...</td>\n",
       "      <td>NaN</td>\n",
       "    </tr>\n",
       "    <tr>\n",
       "      <th>6</th>\n",
       "      <td>1077428</td>\n",
       "      <td>TCBI</td>\n",
       "      <td>['Nasdaq', 'Nasdaq']</td>\n",
       "      <td>752679109.0</td>\n",
       "      <td>TEXAS CAPITAL BANCSHARES INC/TX</td>\n",
       "      <td>NaN</td>\n",
       "      <td>NaN</td>\n",
       "      <td>NaN</td>\n",
       "      <td>NaN</td>\n",
       "      <td>6022.0</td>\n",
       "      <td>State Commercial Banks</td>\n",
       "      <td>NaN</td>\n",
       "    </tr>\n",
       "    <tr>\n",
       "      <th>7</th>\n",
       "      <td>1059784</td>\n",
       "      <td>GNBT</td>\n",
       "      <td>['OTC']</td>\n",
       "      <td>820490211.0</td>\n",
       "      <td>GENEREX BIOTECHNOLOGY CORP</td>\n",
       "      <td>NaN</td>\n",
       "      <td>NaN</td>\n",
       "      <td>NaN</td>\n",
       "      <td>NaN</td>\n",
       "      <td>2834.0</td>\n",
       "      <td>Pharmaceutical Preparations</td>\n",
       "      <td>NaN</td>\n",
       "    </tr>\n",
       "    <tr>\n",
       "      <th>...</th>\n",
       "      <td>...</td>\n",
       "      <td>...</td>\n",
       "      <td>...</td>\n",
       "      <td>...</td>\n",
       "      <td>...</td>\n",
       "      <td>...</td>\n",
       "      <td>...</td>\n",
       "      <td>...</td>\n",
       "      <td>...</td>\n",
       "      <td>...</td>\n",
       "      <td>...</td>\n",
       "      <td>...</td>\n",
       "    </tr>\n",
       "    <tr>\n",
       "      <th>9205</th>\n",
       "      <td>1692427</td>\n",
       "      <td>NCSM</td>\n",
       "      <td>['Nasdaq']</td>\n",
       "      <td>461527455.0</td>\n",
       "      <td>NCS Multistage Holdings, Inc.</td>\n",
       "      <td>NaN</td>\n",
       "      <td>NaN</td>\n",
       "      <td>NaN</td>\n",
       "      <td>NaN</td>\n",
       "      <td>1389.0</td>\n",
       "      <td>Oil &amp; Gas Field Services, NEC</td>\n",
       "      <td>NaN</td>\n",
       "    </tr>\n",
       "    <tr>\n",
       "      <th>9206</th>\n",
       "      <td>1763543</td>\n",
       "      <td>UWHGF</td>\n",
       "      <td>['']</td>\n",
       "      <td>0.0</td>\n",
       "      <td>United World Holding Group Ltd.</td>\n",
       "      <td>NaN</td>\n",
       "      <td>NaN</td>\n",
       "      <td>NaN</td>\n",
       "      <td>NaN</td>\n",
       "      <td>7900.0</td>\n",
       "      <td>Services-Amusement &amp; Recreation Services</td>\n",
       "      <td>NaN</td>\n",
       "    </tr>\n",
       "    <tr>\n",
       "      <th>9209</th>\n",
       "      <td>1818794</td>\n",
       "      <td>DYN</td>\n",
       "      <td>['Nasdaq']</td>\n",
       "      <td>364883909.0</td>\n",
       "      <td>Dyne Therapeutics, Inc.</td>\n",
       "      <td>NaN</td>\n",
       "      <td>NaN</td>\n",
       "      <td>NaN</td>\n",
       "      <td>NaN</td>\n",
       "      <td>2834.0</td>\n",
       "      <td>Pharmaceutical Preparations</td>\n",
       "      <td>NaN</td>\n",
       "    </tr>\n",
       "    <tr>\n",
       "      <th>9210</th>\n",
       "      <td>1667944</td>\n",
       "      <td>WCFB</td>\n",
       "      <td>['OTC']</td>\n",
       "      <td>0.0</td>\n",
       "      <td>WCF Bancorp, Inc.</td>\n",
       "      <td>NaN</td>\n",
       "      <td>NaN</td>\n",
       "      <td>NaN</td>\n",
       "      <td>NaN</td>\n",
       "      <td>6035.0</td>\n",
       "      <td>Savings Institution, Federally Chartered</td>\n",
       "      <td>NaN</td>\n",
       "    </tr>\n",
       "    <tr>\n",
       "      <th>9212</th>\n",
       "      <td>1604464</td>\n",
       "      <td>ATRA</td>\n",
       "      <td>['Nasdaq']</td>\n",
       "      <td>460920988.0</td>\n",
       "      <td>Atara Biotherapeutics, Inc.</td>\n",
       "      <td>NaN</td>\n",
       "      <td>NaN</td>\n",
       "      <td>NaN</td>\n",
       "      <td>NaN</td>\n",
       "      <td>2836.0</td>\n",
       "      <td>Biological Products, (No Diagnostic Substances)</td>\n",
       "      <td>NaN</td>\n",
       "    </tr>\n",
       "  </tbody>\n",
       "</table>\n",
       "<p>4736 rows × 12 columns</p>\n",
       "</div>"
      ],
      "text/plain": [
       "          cik ticker             exchanges          ein  \\\n",
       "0     1603978    AQB            ['Nasdaq']   43156167.0   \n",
       "2     1268533    TYG              ['NYSE']          0.0   \n",
       "3       23197   CMTL            ['Nasdaq']  112139466.0   \n",
       "6     1077428   TCBI  ['Nasdaq', 'Nasdaq']  752679109.0   \n",
       "7     1059784   GNBT               ['OTC']  820490211.0   \n",
       "...       ...    ...                   ...          ...   \n",
       "9205  1692427   NCSM            ['Nasdaq']  461527455.0   \n",
       "9206  1763543  UWHGF                  ['']          0.0   \n",
       "9209  1818794    DYN            ['Nasdaq']  364883909.0   \n",
       "9210  1667944   WCFB               ['OTC']          0.0   \n",
       "9212  1604464   ATRA            ['Nasdaq']  460920988.0   \n",
       "\n",
       "                                 full_name former_names short_name  \\\n",
       "0            AquaBounty Technologies, Inc.          NaN        NaN   \n",
       "2      TORTOISE ENERGY INFRASTRUCTURE CORP          NaN        NaN   \n",
       "3     COMTECH TELECOMMUNICATIONS CORP /DE/          NaN        NaN   \n",
       "6          TEXAS CAPITAL BANCSHARES INC/TX          NaN        NaN   \n",
       "7               GENEREX BIOTECHNOLOGY CORP          NaN        NaN   \n",
       "...                                    ...          ...        ...   \n",
       "9205         NCS Multistage Holdings, Inc.          NaN        NaN   \n",
       "9206       United World Holding Group Ltd.          NaN        NaN   \n",
       "9209               Dyne Therapeutics, Inc.          NaN        NaN   \n",
       "9210                     WCF Bancorp, Inc.          NaN        NaN   \n",
       "9212           Atara Biotherapeutics, Inc.          NaN        NaN   \n",
       "\n",
       "     gics_sector gics_sub_industry     sic  \\\n",
       "0            NaN               NaN   900.0   \n",
       "2            NaN               NaN     NaN   \n",
       "3            NaN               NaN  3663.0   \n",
       "6            NaN               NaN  6022.0   \n",
       "7            NaN               NaN  2834.0   \n",
       "...          ...               ...     ...   \n",
       "9205         NaN               NaN  1389.0   \n",
       "9206         NaN               NaN  7900.0   \n",
       "9209         NaN               NaN  2834.0   \n",
       "9210         NaN               NaN  6035.0   \n",
       "9212         NaN               NaN  2836.0   \n",
       "\n",
       "                                        sic_description headquarters_location  \n",
       "0                         Fishing, Hunting and Trapping                   NaN  \n",
       "2                                                   NaN                   NaN  \n",
       "3     Radio & Tv Broadcasting & Communications Equip...                   NaN  \n",
       "6                                State Commercial Banks                   NaN  \n",
       "7                           Pharmaceutical Preparations                   NaN  \n",
       "...                                                 ...                   ...  \n",
       "9205                      Oil & Gas Field Services, NEC                   NaN  \n",
       "9206           Services-Amusement & Recreation Services                   NaN  \n",
       "9209                        Pharmaceutical Preparations                   NaN  \n",
       "9210           Savings Institution, Federally Chartered                   NaN  \n",
       "9212    Biological Products, (No Diagnostic Substances)                   NaN  \n",
       "\n",
       "[4736 rows x 12 columns]"
      ]
     },
     "execution_count": 7,
     "metadata": {},
     "output_type": "execute_result"
    }
   ],
   "source": [
    "securities_df.former_names.replace('[]', np.nan, inplace=True)\n",
    "securities_df[securities_df.former_names.isnull()]"
   ]
  },
  {
   "cell_type": "code",
   "execution_count": 8,
   "id": "10423b6e",
   "metadata": {
    "execution": {
     "iopub.execute_input": "2022-04-19T17:45:03.696450Z",
     "iopub.status.busy": "2022-04-19T17:45:03.696289Z",
     "iopub.status.idle": "2022-04-19T17:45:03.701921Z",
     "shell.execute_reply": "2022-04-19T17:45:03.701296Z"
    },
    "papermill": {
     "duration": 0.009679,
     "end_time": "2022-04-19T17:45:03.703148",
     "exception": false,
     "start_time": "2022-04-19T17:45:03.693469",
     "status": "completed"
    },
    "tags": []
   },
   "outputs": [],
   "source": [
    "def nomalize_names(securities_df):\n",
    "    def extract_name(string):\n",
    "        if len(str(string).strip()) > 5:\n",
    "            string = ast.literal_eval(string)\n",
    "            string = json.dumps(string)\n",
    "            lst = json.loads(string)\n",
    "            name = lst[0][\"name\"]\n",
    "            return name\n",
    "        else:\n",
    "            return np.nan\n",
    "            \n",
    "    securities_df['former_name'] = securities_df.former_names.apply(extract_name)\n",
    "    securities_df = securities_df.replace(to_replace=[\"/[A-Za-z]+/?\"], value=[''], regex=True)\n",
    "    securities_df = securities_df.replace(to_replace=[r'\\\\DE\\\\'], value=[''], regex=True)\n",
    "    \n",
    "    not_null_cond = ~securities_df['former_name'].isnull()\n",
    "    \n",
    "    securities_df.loc[not_null_cond,'former_name'] = preprocess_text(securities_df.loc[not_null_cond,'former_name'])\n",
    "    \n",
    "    securities_df['full_name'] = preprocess_text(securities_df.full_name)\n",
    "    securities_df.replace('[]', np.nan, inplace=True)\n",
    "\n",
    "    columns_to_select = ['cik','ticker','full_name', 'former_name']\n",
    "    \n",
    "    return securities_df[columns_to_select]"
   ]
  },
  {
   "cell_type": "code",
   "execution_count": 9,
   "id": "4f7af733",
   "metadata": {
    "execution": {
     "iopub.execute_input": "2022-04-19T17:45:03.708716Z",
     "iopub.status.busy": "2022-04-19T17:45:03.708566Z",
     "iopub.status.idle": "2022-04-19T17:45:06.403352Z",
     "shell.execute_reply": "2022-04-19T17:45:06.402709Z"
    },
    "papermill": {
     "duration": 2.699288,
     "end_time": "2022-04-19T17:45:06.404931",
     "exception": false,
     "start_time": "2022-04-19T17:45:03.705643",
     "status": "completed"
    },
    "tags": []
   },
   "outputs": [],
   "source": [
    "securities_df = nomalize_names(securities_df)"
   ]
  },
  {
   "cell_type": "code",
   "execution_count": 10,
   "id": "a1e99574",
   "metadata": {
    "execution": {
     "iopub.execute_input": "2022-04-19T17:45:06.415705Z",
     "iopub.status.busy": "2022-04-19T17:45:06.414794Z",
     "iopub.status.idle": "2022-04-19T17:45:06.436970Z",
     "shell.execute_reply": "2022-04-19T17:45:06.436305Z"
    },
    "papermill": {
     "duration": 0.026991,
     "end_time": "2022-04-19T17:45:06.438179",
     "exception": false,
     "start_time": "2022-04-19T17:45:06.411188",
     "status": "completed"
    },
    "tags": []
   },
   "outputs": [
    {
     "name": "stdout",
     "output_type": "stream",
     "text": [
      "Saved file /root/market_watch/output/data/interim/normalized_security_names.csv\n"
     ]
    }
   ],
   "source": [
    "output_file_path = product['data']\n",
    "Path(output_file_path).parent.mkdir(exist_ok=True, parents=True)\n",
    "securities_df.to_csv(output_file_path)\n",
    "print(f\"Saved file {output_file_path}\")"
   ]
  }
 ],
 "metadata": {
  "jupytext": {
   "cell_metadata_filter": "tags,-all",
   "main_language": "python",
   "notebook_metadata_filter": "-all",
   "text_representation": {
    "extension": ".py",
    "format_name": "light"
   }
  },
  "kernelspec": {
   "display_name": "Python 3 (ipykernel)",
   "language": "python",
   "name": "python3"
  },
  "language_info": {
   "codemirror_mode": {
    "name": "ipython",
    "version": 3
   },
   "file_extension": ".py",
   "mimetype": "text/x-python",
   "name": "python",
   "nbconvert_exporter": "python",
   "pygments_lexer": "ipython3",
   "version": "3.8.13"
  },
  "papermill": {
   "duration": 4.80929,
   "end_time": "2022-04-19T17:45:06.863409",
   "exception": null,
   "input_path": "/tmp/tmp9ruhctgm.ipynb",
   "output_path": "/root/market_watch/output/notebooks/normalize_security_names.ipynb",
   "parameters": {
    "product": {
     "data": "/root/market_watch/output/data/interim/normalized_security_names.csv",
     "nb": "/root/market_watch/output/notebooks/normalize_security_names.ipynb"
    },
    "upstream": {
     "fetch_securities": {
      "data": "/root/market_watch/output/data/raw/securities.csv",
      "nb": "/root/market_watch/output/notebooks/fetch_securities.ipynb"
     }
    }
   },
   "start_time": "2022-04-19T17:45:02.054119"
  }
 },
 "nbformat": 4,
 "nbformat_minor": 5
}