{
 "cells": [
  {
   "cell_type": "code",
   "execution_count": 1,
   "id": "da2577d3",
   "metadata": {
    "execution": {
     "iopub.execute_input": "2022-04-19T17:46:10.667732Z",
     "iopub.status.busy": "2022-04-19T17:46:10.665880Z",
     "iopub.status.idle": "2022-04-19T17:46:10.688687Z",
     "shell.execute_reply": "2022-04-19T17:46:10.686812Z"
    },
    "lines_to_next_cell": 0,
    "papermill": {
     "duration": 0.042541,
     "end_time": "2022-04-19T17:46:10.692953",
     "exception": false,
     "start_time": "2022-04-19T17:46:10.650412",
     "status": "completed"
    },
    "tags": [
     "parameters"
    ]
   },
   "outputs": [],
   "source": [
    "# declare a list tasks whose products you want to use as inputs\n",
    "upstream = ['clean_gdelt_data', 'normalize_security_names']\n"
   ]
  },
  {
   "cell_type": "code",
   "execution_count": 2,
   "id": "757ae546",
   "metadata": {
    "execution": {
     "iopub.execute_input": "2022-04-19T17:46:10.707015Z",
     "iopub.status.busy": "2022-04-19T17:46:10.705788Z",
     "iopub.status.idle": "2022-04-19T17:46:10.712650Z",
     "shell.execute_reply": "2022-04-19T17:46:10.711529Z"
    },
    "papermill": {
     "duration": 0.014187,
     "end_time": "2022-04-19T17:46:10.714973",
     "exception": false,
     "start_time": "2022-04-19T17:46:10.700786",
     "status": "completed"
    },
    "tags": [
     "injected-parameters"
    ]
   },
   "outputs": [],
   "source": [
    "# Parameters\n",
    "upstream = {\n",
    "    \"clean_gdelt_data\": {\n",
    "        \"nb\": \"/root/market_watch/output/notebooks/clean_gdelt_data.ipynb\",\n",
    "        \"data\": \"/root/market_watch/output/data/interim/gdelt_gkg_data-cleaned.csv\",\n",
    "    },\n",
    "    \"normalize_security_names\": {\n",
    "        \"nb\": \"/root/market_watch/output/notebooks/normalize_security_names.ipynb\",\n",
    "        \"data\": \"/root/market_watch/output/data/interim/normalized_security_names.csv\",\n",
    "    },\n",
    "}\n",
    "product = {\n",
    "    \"nb\": \"/root/market_watch/output/notebooks/total_org_count.ipynb\",\n",
    "    \"data\": \"/root/market_watch/output/data/interim/total_org_counts.csv\",\n",
    "}\n"
   ]
  },
  {
   "cell_type": "code",
   "execution_count": 3,
   "id": "7c3d2196",
   "metadata": {
    "execution": {
     "iopub.execute_input": "2022-04-19T17:46:10.724961Z",
     "iopub.status.busy": "2022-04-19T17:46:10.724668Z",
     "iopub.status.idle": "2022-04-19T17:46:10.933615Z",
     "shell.execute_reply": "2022-04-19T17:46:10.932821Z"
    },
    "papermill": {
     "duration": 0.216033,
     "end_time": "2022-04-19T17:46:10.935092",
     "exception": false,
     "start_time": "2022-04-19T17:46:10.719059",
     "status": "completed"
    },
    "tags": []
   },
   "outputs": [],
   "source": [
    "import pandas as pd\n",
    "from collections import Counter\n",
    "import json\n",
    "import ast\n",
    "from pathlib import Path"
   ]
  },
  {
   "cell_type": "code",
   "execution_count": 4,
   "id": "8d70a79e",
   "metadata": {
    "execution": {
     "iopub.execute_input": "2022-04-19T17:46:10.940565Z",
     "iopub.status.busy": "2022-04-19T17:46:10.940366Z",
     "iopub.status.idle": "2022-04-19T17:46:10.943935Z",
     "shell.execute_reply": "2022-04-19T17:46:10.943312Z"
    },
    "lines_to_next_cell": 2,
    "papermill": {
     "duration": 0.007805,
     "end_time": "2022-04-19T17:46:10.945114",
     "exception": false,
     "start_time": "2022-04-19T17:46:10.937309",
     "status": "completed"
    },
    "tags": []
   },
   "outputs": [],
   "source": [
    "output_file_path = product['data']\n",
    "gdelt_file_path = upstream['clean_gdelt_data']['data']\n",
    "security_file_path = upstream['normalize_security_names']['data']"
   ]
  },
  {
   "cell_type": "code",
   "execution_count": 5,
   "id": "877884fd",
   "metadata": {
    "execution": {
     "iopub.execute_input": "2022-04-19T17:46:10.949962Z",
     "iopub.status.busy": "2022-04-19T17:46:10.949756Z",
     "iopub.status.idle": "2022-04-19T17:46:10.982719Z",
     "shell.execute_reply": "2022-04-19T17:46:10.982092Z"
    },
    "papermill": {
     "duration": 0.036908,
     "end_time": "2022-04-19T17:46:10.984121",
     "exception": false,
     "start_time": "2022-04-19T17:46:10.947213",
     "status": "completed"
    },
    "tags": []
   },
   "outputs": [],
   "source": [
    "gdelt_df = pd.read_csv(gdelt_file_path, index_col=0)\n",
    "security_df = pd.read_csv(security_file_path, index_col=0)"
   ]
  },
  {
   "cell_type": "code",
   "execution_count": 6,
   "id": "a288a8bd",
   "metadata": {
    "execution": {
     "iopub.execute_input": "2022-04-19T17:46:10.989095Z",
     "iopub.status.busy": "2022-04-19T17:46:10.988940Z",
     "iopub.status.idle": "2022-04-19T17:46:11.001896Z",
     "shell.execute_reply": "2022-04-19T17:46:11.001317Z"
    },
    "papermill": {
     "duration": 0.016997,
     "end_time": "2022-04-19T17:46:11.003064",
     "exception": false,
     "start_time": "2022-04-19T17:46:10.986067",
     "status": "completed"
    },
    "tags": []
   },
   "outputs": [
    {
     "name": "stdout",
     "output_type": "stream",
     "text": [
      "<class 'pandas.core.frame.DataFrame'>\n",
      "Int64Index: 9042 entries, 0 to 10698\n",
      "Data columns (total 8 columns):\n",
      " #   Column         Non-Null Count  Dtype  \n",
      "---  ------         --------------  -----  \n",
      " 0   GKGRECORDID    9042 non-null   object \n",
      " 1   Locations      9042 non-null   object \n",
      " 2   Persons        7460 non-null   object \n",
      " 3   Organizations  9042 non-null   object \n",
      " 4   AvgTone        9042 non-null   float64\n",
      " 5   PosScore       9042 non-null   float64\n",
      " 6   NegScore       9042 non-null   float64\n",
      " 7   Polarity       9042 non-null   float64\n",
      "dtypes: float64(4), object(4)\n",
      "memory usage: 635.8+ KB\n"
     ]
    }
   ],
   "source": [
    "gdelt_df.info()"
   ]
  },
  {
   "cell_type": "code",
   "execution_count": 7,
   "id": "e0ebc316",
   "metadata": {
    "execution": {
     "iopub.execute_input": "2022-04-19T17:46:11.008322Z",
     "iopub.status.busy": "2022-04-19T17:46:11.008154Z",
     "iopub.status.idle": "2022-04-19T17:46:11.018656Z",
     "shell.execute_reply": "2022-04-19T17:46:11.018077Z"
    },
    "papermill": {
     "duration": 0.014664,
     "end_time": "2022-04-19T17:46:11.019780",
     "exception": false,
     "start_time": "2022-04-19T17:46:11.005116",
     "status": "completed"
    },
    "tags": []
   },
   "outputs": [
    {
     "name": "stdout",
     "output_type": "stream",
     "text": [
      "<class 'pandas.core.frame.DataFrame'>\n",
      "Int64Index: 9213 entries, 0 to 9212\n",
      "Data columns (total 4 columns):\n",
      " #   Column       Non-Null Count  Dtype \n",
      "---  ------       --------------  ----- \n",
      " 0   cik          9213 non-null   int64 \n",
      " 1   ticker       9213 non-null   object\n",
      " 2   full_name    9213 non-null   object\n",
      " 3   former_name  4477 non-null   object\n",
      "dtypes: int64(1), object(3)\n",
      "memory usage: 359.9+ KB\n"
     ]
    }
   ],
   "source": [
    "security_df.info()"
   ]
  },
  {
   "cell_type": "code",
   "execution_count": 8,
   "id": "7899715b",
   "metadata": {
    "execution": {
     "iopub.execute_input": "2022-04-19T17:46:11.025053Z",
     "iopub.status.busy": "2022-04-19T17:46:11.024902Z",
     "iopub.status.idle": "2022-04-19T17:46:11.224889Z",
     "shell.execute_reply": "2022-04-19T17:46:11.224269Z"
    },
    "papermill": {
     "duration": 0.204262,
     "end_time": "2022-04-19T17:46:11.226089",
     "exception": false,
     "start_time": "2022-04-19T17:46:11.021827",
     "status": "completed"
    },
    "tags": []
   },
   "outputs": [
    {
     "data": {
      "text/plain": [
       "0        None\n",
       "1        None\n",
       "2        None\n",
       "6        None\n",
       "7        None\n",
       "         ... \n",
       "10694    None\n",
       "10695    None\n",
       "10696    None\n",
       "10697    None\n",
       "10698    None\n",
       "Name: Organizations, Length: 9042, dtype: object"
      ]
     },
     "execution_count": 8,
     "metadata": {},
     "output_type": "execute_result"
    }
   ],
   "source": [
    "c = Counter()\n",
    "\n",
    "def update_counter(string):\n",
    "    if len(string.strip()) > 5:\n",
    "        string = ast.literal_eval(string)\n",
    "        string = json.dumps(string)\n",
    "        dictionary = json.loads(string)\n",
    "        c.update(dictionary)\n",
    "    \n",
    "gdelt_df['Organizations'].apply(update_counter)"
   ]
  },
  {
   "cell_type": "code",
   "execution_count": 9,
   "id": "4e33bb15",
   "metadata": {
    "execution": {
     "iopub.execute_input": "2022-04-19T17:46:11.234637Z",
     "iopub.status.busy": "2022-04-19T17:46:11.234470Z",
     "iopub.status.idle": "2022-04-19T17:46:11.238812Z",
     "shell.execute_reply": "2022-04-19T17:46:11.238231Z"
    },
    "papermill": {
     "duration": 0.011554,
     "end_time": "2022-04-19T17:46:11.240188",
     "exception": false,
     "start_time": "2022-04-19T17:46:11.228634",
     "status": "completed"
    },
    "tags": []
   },
   "outputs": [],
   "source": [
    "total_org_count_df = pd.DataFrame.from_dict(dict(c), orient='index', columns=['count'])"
   ]
  },
  {
   "cell_type": "code",
   "execution_count": 10,
   "id": "45cd0a91",
   "metadata": {
    "execution": {
     "iopub.execute_input": "2022-04-19T17:46:11.245904Z",
     "iopub.status.busy": "2022-04-19T17:46:11.245718Z",
     "iopub.status.idle": "2022-04-19T17:46:11.580070Z",
     "shell.execute_reply": "2022-04-19T17:46:11.579429Z"
    },
    "papermill": {
     "duration": 0.338628,
     "end_time": "2022-04-19T17:46:11.581294",
     "exception": false,
     "start_time": "2022-04-19T17:46:11.242666",
     "status": "completed"
    },
    "tags": []
   },
   "outputs": [],
   "source": [
    "full_name_lst = security_df.full_name.to_list()\n",
    "cik_lst = []\n",
    "for security in total_org_count_df.index:\n",
    "    if security in full_name_lst:\n",
    "        matching_rows = security_df[security_df['full_name'] == security]\n",
    "        # if len(matching_rows > 0):\n",
    "        cik_lst.append(matching_rows['ticker'].to_list()[0])"
   ]
  },
  {
   "cell_type": "code",
   "execution_count": 11,
   "id": "e460b163",
   "metadata": {
    "execution": {
     "iopub.execute_input": "2022-04-19T17:46:11.588005Z",
     "iopub.status.busy": "2022-04-19T17:46:11.587834Z",
     "iopub.status.idle": "2022-04-19T17:46:11.591099Z",
     "shell.execute_reply": "2022-04-19T17:46:11.590524Z"
    },
    "papermill": {
     "duration": 0.00824,
     "end_time": "2022-04-19T17:46:11.592283",
     "exception": false,
     "start_time": "2022-04-19T17:46:11.584043",
     "status": "completed"
    },
    "tags": []
   },
   "outputs": [],
   "source": [
    "assert len(cik_lst) == len(total_org_count_df.index)"
   ]
  },
  {
   "cell_type": "code",
   "execution_count": 12,
   "id": "31c98a3b",
   "metadata": {
    "execution": {
     "iopub.execute_input": "2022-04-19T17:46:11.597928Z",
     "iopub.status.busy": "2022-04-19T17:46:11.597780Z",
     "iopub.status.idle": "2022-04-19T17:46:11.601381Z",
     "shell.execute_reply": "2022-04-19T17:46:11.600741Z"
    },
    "papermill": {
     "duration": 0.007704,
     "end_time": "2022-04-19T17:46:11.602559",
     "exception": false,
     "start_time": "2022-04-19T17:46:11.594855",
     "status": "completed"
    },
    "tags": []
   },
   "outputs": [],
   "source": [
    "total_org_count_df['ticker'] = cik_lst"
   ]
  },
  {
   "cell_type": "code",
   "execution_count": 13,
   "id": "f6bde33a",
   "metadata": {
    "execution": {
     "iopub.execute_input": "2022-04-19T17:46:11.608100Z",
     "iopub.status.busy": "2022-04-19T17:46:11.607954Z",
     "iopub.status.idle": "2022-04-19T17:46:11.613164Z",
     "shell.execute_reply": "2022-04-19T17:46:11.612614Z"
    },
    "papermill": {
     "duration": 0.009524,
     "end_time": "2022-04-19T17:46:11.614446",
     "exception": false,
     "start_time": "2022-04-19T17:46:11.604922",
     "status": "completed"
    },
    "tags": []
   },
   "outputs": [
    {
     "name": "stdout",
     "output_type": "stream",
     "text": [
      "Saved file /root/market_watch/output/data/interim/total_org_counts.csv\n"
     ]
    }
   ],
   "source": [
    "output_file_path = product['data']\n",
    "Path(output_file_path).parent.mkdir(exist_ok=True, parents=True)\n",
    "total_org_count_df.to_csv(output_file_path)\n",
    "print(f\"Saved file {output_file_path}\")"
   ]
  },
  {
   "cell_type": "code",
   "execution_count": null,
   "id": "ba3557a6",
   "metadata": {
    "papermill": {
     "duration": 0.002551,
     "end_time": "2022-04-19T17:46:11.619460",
     "exception": false,
     "start_time": "2022-04-19T17:46:11.616909",
     "status": "completed"
    },
    "tags": []
   },
   "outputs": [],
   "source": []
  }
 ],
 "metadata": {
  "jupytext": {
   "cell_metadata_filter": "tags,-all",
   "main_language": "python",
   "notebook_metadata_filter": "-all",
   "text_representation": {
    "extension": ".py",
    "format_name": "light"
   }
  },
  "kernelspec": {
   "display_name": "Python 3 (ipykernel)",
   "language": "python",
   "name": "python3"
  },
  "language_info": {
   "codemirror_mode": {
    "name": "ipython",
    "version": 3
   },
   "file_extension": ".py",
   "mimetype": "text/x-python",
   "name": "python",
   "nbconvert_exporter": "python",
   "pygments_lexer": "ipython3",
   "version": "3.8.13"
  },
  "papermill": {
   "duration": 1.849296,
   "end_time": "2022-04-19T17:46:11.843583",
   "exception": null,
   "input_path": "/tmp/tmpdnhiy3l9.ipynb",
   "output_path": "/root/market_watch/output/notebooks/total_org_count.ipynb",
   "parameters": {
    "product": {
     "data": "/root/market_watch/output/data/interim/total_org_counts.csv",
     "nb": "/root/market_watch/output/notebooks/total_org_count.ipynb"
    },
    "upstream": {
     "clean_gdelt_data": {
      "data": "/root/market_watch/output/data/interim/gdelt_gkg_data-cleaned.csv",
      "nb": "/root/market_watch/output/notebooks/clean_gdelt_data.ipynb"
     },
     "normalize_security_names": {
      "data": "/root/market_watch/output/data/interim/normalized_security_names.csv",
      "nb": "/root/market_watch/output/notebooks/normalize_security_names.ipynb"
     }
    }
   },
   "start_time": "2022-04-19T17:46:09.994287"
  }
 },
 "nbformat": 4,
 "nbformat_minor": 5
}