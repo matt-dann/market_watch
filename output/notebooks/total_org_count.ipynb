{
 "cells": [
  {
   "cell_type": "code",
   "execution_count": 1,
   "id": "9dfe6581",
   "metadata": {
    "execution": {
     "iopub.execute_input": "2022-04-18T04:41:22.523823Z",
     "iopub.status.busy": "2022-04-18T04:41:22.523528Z",
     "iopub.status.idle": "2022-04-18T04:41:22.531612Z",
     "shell.execute_reply": "2022-04-18T04:41:22.531010Z"
    },
    "lines_to_next_cell": 0,
    "papermill": {
     "duration": 0.023565,
     "end_time": "2022-04-18T04:41:22.533581",
     "exception": false,
     "start_time": "2022-04-18T04:41:22.510016",
     "status": "completed"
    },
    "tags": [
     "parameters"
    ]
   },
   "outputs": [],
   "source": [
    "# declare a list tasks whose products you want to use as inputs\n",
    "upstream = ['clean_gdelt_data', 'normalize_security_names']\n"
   ]
  },
  {
   "cell_type": "code",
   "execution_count": 2,
   "id": "8543200d",
   "metadata": {
    "execution": {
     "iopub.execute_input": "2022-04-18T04:41:22.554400Z",
     "iopub.status.busy": "2022-04-18T04:41:22.554180Z",
     "iopub.status.idle": "2022-04-18T04:41:22.557820Z",
     "shell.execute_reply": "2022-04-18T04:41:22.557223Z"
    },
    "papermill": {
     "duration": 0.015741,
     "end_time": "2022-04-18T04:41:22.559543",
     "exception": false,
     "start_time": "2022-04-18T04:41:22.543802",
     "status": "completed"
    },
    "tags": [
     "injected-parameters"
    ]
   },
   "outputs": [],
   "source": [
    "# Parameters\n",
    "upstream = {\n",
    "    \"normalize_security_names\": {\n",
    "        \"nb\": \"/Users/aiujdm2/market_watch/output/notebooks/normalize_security_names.ipynb\",\n",
    "        \"data\": \"/Users/aiujdm2/market_watch/output/data/interim/normalized_security_names.csv\",\n",
    "    },\n",
    "    \"clean_gdelt_data\": {\n",
    "        \"nb\": \"/Users/aiujdm2/market_watch/output/notebooks/clean_gdelt_data.ipynb\",\n",
    "        \"data\": \"/Users/aiujdm2/market_watch/output/data/interim/gdelt_gkg_data-cleaned.csv\",\n",
    "    },\n",
    "}\n",
    "product = {\n",
    "    \"nb\": \"/Users/aiujdm2/market_watch/output/notebooks/total_org_count.ipynb\",\n",
    "    \"data\": \"/Users/aiujdm2/market_watch/output/data/interim/total_org_counts.csv\",\n",
    "}\n"
   ]
  },
  {
   "cell_type": "code",
   "execution_count": 3,
   "id": "d247c4b9",
   "metadata": {
    "execution": {
     "iopub.execute_input": "2022-04-18T04:41:22.577888Z",
     "iopub.status.busy": "2022-04-18T04:41:22.577679Z",
     "iopub.status.idle": "2022-04-18T04:41:22.844620Z",
     "shell.execute_reply": "2022-04-18T04:41:22.844060Z"
    },
    "papermill": {
     "duration": 0.277838,
     "end_time": "2022-04-18T04:41:22.846287",
     "exception": false,
     "start_time": "2022-04-18T04:41:22.568449",
     "status": "completed"
    },
    "tags": []
   },
   "outputs": [],
   "source": [
    "import pandas as pd\n",
    "from collections import Counter\n",
    "import json\n",
    "import ast\n",
    "from pathlib import Path"
   ]
  },
  {
   "cell_type": "code",
   "execution_count": 4,
   "id": "132063a1",
   "metadata": {
    "execution": {
     "iopub.execute_input": "2022-04-18T04:41:22.861865Z",
     "iopub.status.busy": "2022-04-18T04:41:22.861702Z",
     "iopub.status.idle": "2022-04-18T04:41:22.864666Z",
     "shell.execute_reply": "2022-04-18T04:41:22.864064Z"
    },
    "lines_to_next_cell": 2,
    "papermill": {
     "duration": 0.01242,
     "end_time": "2022-04-18T04:41:22.866251",
     "exception": false,
     "start_time": "2022-04-18T04:41:22.853831",
     "status": "completed"
    },
    "tags": []
   },
   "outputs": [],
   "source": [
    "output_file_path = product['data']\n",
    "gdelt_file_path = upstream['clean_gdelt_data']['data']\n",
    "security_file_path = upstream['normalize_security_names']['data']"
   ]
  },
  {
   "cell_type": "code",
   "execution_count": 5,
   "id": "0f7f192c",
   "metadata": {
    "execution": {
     "iopub.execute_input": "2022-04-18T04:41:22.883566Z",
     "iopub.status.busy": "2022-04-18T04:41:22.883303Z",
     "iopub.status.idle": "2022-04-18T04:41:22.923825Z",
     "shell.execute_reply": "2022-04-18T04:41:22.923270Z"
    },
    "papermill": {
     "duration": 0.051411,
     "end_time": "2022-04-18T04:41:22.925400",
     "exception": false,
     "start_time": "2022-04-18T04:41:22.873989",
     "status": "completed"
    },
    "tags": []
   },
   "outputs": [],
   "source": [
    "gdelt_df = pd.read_csv(gdelt_file_path, index_col=0)\n",
    "security_df = pd.read_csv(security_file_path, index_col=0)"
   ]
  },
  {
   "cell_type": "code",
   "execution_count": 6,
   "id": "6d29a7e5",
   "metadata": {
    "execution": {
     "iopub.execute_input": "2022-04-18T04:41:22.941213Z",
     "iopub.status.busy": "2022-04-18T04:41:22.941020Z",
     "iopub.status.idle": "2022-04-18T04:41:22.951927Z",
     "shell.execute_reply": "2022-04-18T04:41:22.951552Z"
    },
    "papermill": {
     "duration": 0.020341,
     "end_time": "2022-04-18T04:41:22.953454",
     "exception": false,
     "start_time": "2022-04-18T04:41:22.933113",
     "status": "completed"
    },
    "tags": []
   },
   "outputs": [
    {
     "name": "stdout",
     "output_type": "stream",
     "text": [
      "<class 'pandas.core.frame.DataFrame'>\n",
      "Int64Index: 8912 entries, 0 to 10551\n",
      "Data columns (total 8 columns):\n",
      " #   Column         Non-Null Count  Dtype  \n",
      "---  ------         --------------  -----  \n",
      " 0   GKGRECORDID    8912 non-null   object \n",
      " 1   Locations      8912 non-null   object \n",
      " 2   Persons        7385 non-null   object \n",
      " 3   Organizations  8912 non-null   object \n",
      " 4   AvgTone        8912 non-null   float64\n",
      " 5   PosScore       8912 non-null   float64\n",
      " 6   NegScore       8912 non-null   float64\n",
      " 7   Polarity       8912 non-null   float64\n",
      "dtypes: float64(4), object(4)\n",
      "memory usage: 626.6+ KB\n"
     ]
    }
   ],
   "source": [
    "gdelt_df.info()"
   ]
  },
  {
   "cell_type": "code",
   "execution_count": 7,
   "id": "4ce61c2b",
   "metadata": {
    "execution": {
     "iopub.execute_input": "2022-04-18T04:41:22.969516Z",
     "iopub.status.busy": "2022-04-18T04:41:22.969320Z",
     "iopub.status.idle": "2022-04-18T04:41:22.978851Z",
     "shell.execute_reply": "2022-04-18T04:41:22.978311Z"
    },
    "papermill": {
     "duration": 0.019329,
     "end_time": "2022-04-18T04:41:22.980461",
     "exception": false,
     "start_time": "2022-04-18T04:41:22.961132",
     "status": "completed"
    },
    "tags": []
   },
   "outputs": [
    {
     "name": "stdout",
     "output_type": "stream",
     "text": [
      "<class 'pandas.core.frame.DataFrame'>\n",
      "Int64Index: 9213 entries, 0 to 9212\n",
      "Data columns (total 4 columns):\n",
      " #   Column       Non-Null Count  Dtype \n",
      "---  ------       --------------  ----- \n",
      " 0   cik          9213 non-null   int64 \n",
      " 1   ticker       9213 non-null   object\n",
      " 2   full_name    9213 non-null   object\n",
      " 3   former_name  4475 non-null   object\n",
      "dtypes: int64(1), object(3)\n",
      "memory usage: 359.9+ KB\n"
     ]
    }
   ],
   "source": [
    "security_df.info()"
   ]
  },
  {
   "cell_type": "code",
   "execution_count": 8,
   "id": "8ec3e0a5",
   "metadata": {
    "execution": {
     "iopub.execute_input": "2022-04-18T04:41:22.997482Z",
     "iopub.status.busy": "2022-04-18T04:41:22.997324Z",
     "iopub.status.idle": "2022-04-18T04:41:23.211078Z",
     "shell.execute_reply": "2022-04-18T04:41:23.210653Z"
    },
    "papermill": {
     "duration": 0.22424,
     "end_time": "2022-04-18T04:41:23.213057",
     "exception": false,
     "start_time": "2022-04-18T04:41:22.988817",
     "status": "completed"
    },
    "tags": []
   },
   "outputs": [
    {
     "data": {
      "text/plain": [
       "0        None\n",
       "1        None\n",
       "2        None\n",
       "3        None\n",
       "6        None\n",
       "         ... \n",
       "10547    None\n",
       "10548    None\n",
       "10549    None\n",
       "10550    None\n",
       "10551    None\n",
       "Name: Organizations, Length: 8912, dtype: object"
      ]
     },
     "execution_count": 8,
     "metadata": {},
     "output_type": "execute_result"
    }
   ],
   "source": [
    "c = Counter()\n",
    "\n",
    "def update_counter(string):\n",
    "    if len(string.strip()) > 5:\n",
    "        string = ast.literal_eval(string)\n",
    "        string = json.dumps(string)\n",
    "        dictionary = json.loads(string)\n",
    "        c.update(dictionary)\n",
    "    \n",
    "gdelt_df['Organizations'].apply(update_counter)"
   ]
  },
  {
   "cell_type": "code",
   "execution_count": 9,
   "id": "c2236e32",
   "metadata": {
    "execution": {
     "iopub.execute_input": "2022-04-18T04:41:23.230087Z",
     "iopub.status.busy": "2022-04-18T04:41:23.229896Z",
     "iopub.status.idle": "2022-04-18T04:41:23.233704Z",
     "shell.execute_reply": "2022-04-18T04:41:23.233272Z"
    },
    "papermill": {
     "duration": 0.014183,
     "end_time": "2022-04-18T04:41:23.235455",
     "exception": false,
     "start_time": "2022-04-18T04:41:23.221272",
     "status": "completed"
    },
    "tags": []
   },
   "outputs": [],
   "source": [
    "total_org_count_df = pd.DataFrame.from_dict(dict(c), orient='index', columns=['count'])"
   ]
  },
  {
   "cell_type": "code",
   "execution_count": 10,
   "id": "f2b3797f",
   "metadata": {
    "execution": {
     "iopub.execute_input": "2022-04-18T04:41:23.253236Z",
     "iopub.status.busy": "2022-04-18T04:41:23.253029Z",
     "iopub.status.idle": "2022-04-18T04:41:23.498031Z",
     "shell.execute_reply": "2022-04-18T04:41:23.497433Z"
    },
    "papermill": {
     "duration": 0.256058,
     "end_time": "2022-04-18T04:41:23.499781",
     "exception": false,
     "start_time": "2022-04-18T04:41:23.243723",
     "status": "completed"
    },
    "tags": []
   },
   "outputs": [],
   "source": [
    "full_name_lst = security_df.full_name.to_list()\n",
    "cik_lst = []\n",
    "for security in total_org_count_df.index:\n",
    "    if security in full_name_lst:\n",
    "        matching_rows = security_df[security_df['full_name'] == security]\n",
    "        # if len(matching_rows > 0):\n",
    "        cik_lst.append(matching_rows['ticker'].to_list()[0])"
   ]
  },
  {
   "cell_type": "code",
   "execution_count": 11,
   "id": "45137e5b",
   "metadata": {
    "execution": {
     "iopub.execute_input": "2022-04-18T04:41:23.517448Z",
     "iopub.status.busy": "2022-04-18T04:41:23.517188Z",
     "iopub.status.idle": "2022-04-18T04:41:23.520727Z",
     "shell.execute_reply": "2022-04-18T04:41:23.520057Z"
    },
    "papermill": {
     "duration": 0.014183,
     "end_time": "2022-04-18T04:41:23.522538",
     "exception": false,
     "start_time": "2022-04-18T04:41:23.508355",
     "status": "completed"
    },
    "tags": []
   },
   "outputs": [],
   "source": [
    "assert len(cik_lst) == len(total_org_count_df.index)"
   ]
  },
  {
   "cell_type": "code",
   "execution_count": 12,
   "id": "aa8f1f38",
   "metadata": {
    "execution": {
     "iopub.execute_input": "2022-04-18T04:41:23.540249Z",
     "iopub.status.busy": "2022-04-18T04:41:23.540012Z",
     "iopub.status.idle": "2022-04-18T04:41:23.543900Z",
     "shell.execute_reply": "2022-04-18T04:41:23.543387Z"
    },
    "papermill": {
     "duration": 0.015147,
     "end_time": "2022-04-18T04:41:23.545704",
     "exception": false,
     "start_time": "2022-04-18T04:41:23.530557",
     "status": "completed"
    },
    "tags": []
   },
   "outputs": [],
   "source": [
    "total_org_count_df['ticker'] = cik_lst"
   ]
  },
  {
   "cell_type": "code",
   "execution_count": 13,
   "id": "464dfa05",
   "metadata": {
    "execution": {
     "iopub.execute_input": "2022-04-18T04:41:23.564252Z",
     "iopub.status.busy": "2022-04-18T04:41:23.564023Z",
     "iopub.status.idle": "2022-04-18T04:41:23.570800Z",
     "shell.execute_reply": "2022-04-18T04:41:23.570374Z"
    },
    "papermill": {
     "duration": 0.017249,
     "end_time": "2022-04-18T04:41:23.572259",
     "exception": false,
     "start_time": "2022-04-18T04:41:23.555010",
     "status": "completed"
    },
    "tags": []
   },
   "outputs": [
    {
     "name": "stdout",
     "output_type": "stream",
     "text": [
      "Saved file /Users/aiujdm2/market_watch/output/data/interim/total_org_counts.csv\n"
     ]
    }
   ],
   "source": [
    "output_file_path = product['data']\n",
    "Path(output_file_path).parent.mkdir(exist_ok=True, parents=True)\n",
    "total_org_count_df.to_csv(output_file_path)\n",
    "print(f\"Saved file {output_file_path}\")"
   ]
  },
  {
   "cell_type": "code",
   "execution_count": null,
   "id": "ac72c23c",
   "metadata": {
    "papermill": {
     "duration": 0.008711,
     "end_time": "2022-04-18T04:41:23.589624",
     "exception": false,
     "start_time": "2022-04-18T04:41:23.580913",
     "status": "completed"
    },
    "tags": []
   },
   "outputs": [],
   "source": []
  }
 ],
 "metadata": {
  "jupytext": {
   "cell_metadata_filter": "tags,-all",
   "main_language": "python",
   "notebook_metadata_filter": "-all",
   "text_representation": {
    "extension": ".py",
    "format_name": "light"
   }
  },
  "kernelspec": {
   "display_name": "Python 3 (ipykernel)",
   "language": "python",
   "name": "python3"
  },
  "language_info": {
   "codemirror_mode": {
    "name": "ipython",
    "version": 3
   },
   "file_extension": ".py",
   "mimetype": "text/x-python",
   "name": "python",
   "nbconvert_exporter": "python",
   "pygments_lexer": "ipython3",
   "version": "3.9.10"
  },
  "papermill": {
   "duration": 2.314363,
   "end_time": "2022-04-18T04:41:23.821216",
   "exception": null,
   "input_path": "/var/folders/b0/4tc1nfbd6z7_vhx4nxcj2n91c0l9h6/T/tmps_bnev7m.ipynb",
   "output_path": "/Users/aiujdm2/market_watch/output/notebooks/total_org_count.ipynb",
   "parameters": {
    "product": {
     "data": "/Users/aiujdm2/market_watch/output/data/interim/total_org_counts.csv",
     "nb": "/Users/aiujdm2/market_watch/output/notebooks/total_org_count.ipynb"
    },
    "upstream": {
     "clean_gdelt_data": {
      "data": "/Users/aiujdm2/market_watch/output/data/interim/gdelt_gkg_data-cleaned.csv",
      "nb": "/Users/aiujdm2/market_watch/output/notebooks/clean_gdelt_data.ipynb"
     },
     "normalize_security_names": {
      "data": "/Users/aiujdm2/market_watch/output/data/interim/normalized_security_names.csv",
      "nb": "/Users/aiujdm2/market_watch/output/notebooks/normalize_security_names.ipynb"
     }
    }
   },
   "start_time": "2022-04-18T04:41:21.506853"
  }
 },
 "nbformat": 4,
 "nbformat_minor": 5
}