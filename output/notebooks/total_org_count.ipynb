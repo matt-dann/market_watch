{
 "cells": [
  {
   "cell_type": "code",
   "execution_count": 1,
   "id": "3318547f",
   "metadata": {
    "execution": {
     "iopub.execute_input": "2022-04-18T16:12:58.228580Z",
     "iopub.status.busy": "2022-04-18T16:12:58.228286Z",
     "iopub.status.idle": "2022-04-18T16:12:58.235827Z",
     "shell.execute_reply": "2022-04-18T16:12:58.235273Z"
    },
    "lines_to_next_cell": 0,
    "papermill": {
     "duration": 0.022758,
     "end_time": "2022-04-18T16:12:58.237912",
     "exception": false,
     "start_time": "2022-04-18T16:12:58.215154",
     "status": "completed"
    },
    "tags": [
     "parameters"
    ]
   },
   "outputs": [],
   "source": [
    "# declare a list tasks whose products you want to use as inputs\n",
    "upstream = ['clean_gdelt_data', 'normalize_security_names']\n"
   ]
  },
  {
   "cell_type": "code",
   "execution_count": 2,
   "id": "c9da2942",
   "metadata": {
    "execution": {
     "iopub.execute_input": "2022-04-18T16:12:58.259086Z",
     "iopub.status.busy": "2022-04-18T16:12:58.258854Z",
     "iopub.status.idle": "2022-04-18T16:12:58.262818Z",
     "shell.execute_reply": "2022-04-18T16:12:58.262250Z"
    },
    "papermill": {
     "duration": 0.016815,
     "end_time": "2022-04-18T16:12:58.264634",
     "exception": false,
     "start_time": "2022-04-18T16:12:58.247819",
     "status": "completed"
    },
    "tags": [
     "injected-parameters"
    ]
   },
   "outputs": [],
   "source": [
    "# Parameters\n",
    "upstream = {\n",
    "    \"clean_gdelt_data\": {\n",
    "        \"nb\": \"/Users/aiujdm2/market_watch/output/notebooks/clean_gdelt_data.ipynb\",\n",
    "        \"data\": \"/Users/aiujdm2/market_watch/output/data/interim/gdelt_gkg_data-cleaned.csv\",\n",
    "    },\n",
    "    \"normalize_security_names\": {\n",
    "        \"nb\": \"/Users/aiujdm2/market_watch/output/notebooks/normalize_security_names.ipynb\",\n",
    "        \"data\": \"/Users/aiujdm2/market_watch/output/data/interim/normalized_security_names.csv\",\n",
    "    },\n",
    "}\n",
    "product = {\n",
    "    \"nb\": \"/Users/aiujdm2/market_watch/output/notebooks/total_org_count.ipynb\",\n",
    "    \"data\": \"/Users/aiujdm2/market_watch/output/data/interim/total_org_counts.csv\",\n",
    "}\n"
   ]
  },
  {
   "cell_type": "code",
   "execution_count": 3,
   "id": "baf8363f",
   "metadata": {
    "execution": {
     "iopub.execute_input": "2022-04-18T16:12:58.282722Z",
     "iopub.status.busy": "2022-04-18T16:12:58.282508Z",
     "iopub.status.idle": "2022-04-18T16:12:58.542646Z",
     "shell.execute_reply": "2022-04-18T16:12:58.542033Z"
    },
    "papermill": {
     "duration": 0.271077,
     "end_time": "2022-04-18T16:12:58.544391",
     "exception": false,
     "start_time": "2022-04-18T16:12:58.273314",
     "status": "completed"
    },
    "tags": []
   },
   "outputs": [],
   "source": [
    "import pandas as pd\n",
    "from collections import Counter\n",
    "import json\n",
    "import ast\n",
    "from pathlib import Path"
   ]
  },
  {
   "cell_type": "code",
   "execution_count": 4,
   "id": "01528673",
   "metadata": {
    "execution": {
     "iopub.execute_input": "2022-04-18T16:12:58.561255Z",
     "iopub.status.busy": "2022-04-18T16:12:58.561052Z",
     "iopub.status.idle": "2022-04-18T16:12:58.564574Z",
     "shell.execute_reply": "2022-04-18T16:12:58.563806Z"
    },
    "lines_to_next_cell": 2,
    "papermill": {
     "duration": 0.014009,
     "end_time": "2022-04-18T16:12:58.566623",
     "exception": false,
     "start_time": "2022-04-18T16:12:58.552614",
     "status": "completed"
    },
    "tags": []
   },
   "outputs": [],
   "source": [
    "output_file_path = product['data']\n",
    "gdelt_file_path = upstream['clean_gdelt_data']['data']\n",
    "security_file_path = upstream['normalize_security_names']['data']"
   ]
  },
  {
   "cell_type": "code",
   "execution_count": 5,
   "id": "681b5044",
   "metadata": {
    "execution": {
     "iopub.execute_input": "2022-04-18T16:12:58.582261Z",
     "iopub.status.busy": "2022-04-18T16:12:58.581636Z",
     "iopub.status.idle": "2022-04-18T16:12:58.621619Z",
     "shell.execute_reply": "2022-04-18T16:12:58.621040Z"
    },
    "papermill": {
     "duration": 0.04956,
     "end_time": "2022-04-18T16:12:58.623350",
     "exception": false,
     "start_time": "2022-04-18T16:12:58.573790",
     "status": "completed"
    },
    "tags": []
   },
   "outputs": [],
   "source": [
    "gdelt_df = pd.read_csv(gdelt_file_path, index_col=0)\n",
    "security_df = pd.read_csv(security_file_path, index_col=0)"
   ]
  },
  {
   "cell_type": "code",
   "execution_count": 6,
   "id": "cc33f63e",
   "metadata": {
    "execution": {
     "iopub.execute_input": "2022-04-18T16:12:58.638221Z",
     "iopub.status.busy": "2022-04-18T16:12:58.638017Z",
     "iopub.status.idle": "2022-04-18T16:12:58.649809Z",
     "shell.execute_reply": "2022-04-18T16:12:58.649373Z"
    },
    "papermill": {
     "duration": 0.02089,
     "end_time": "2022-04-18T16:12:58.651413",
     "exception": false,
     "start_time": "2022-04-18T16:12:58.630523",
     "status": "completed"
    },
    "tags": []
   },
   "outputs": [
    {
     "name": "stdout",
     "output_type": "stream",
     "text": [
      "<class 'pandas.core.frame.DataFrame'>\n",
      "Int64Index: 8912 entries, 0 to 10551\n",
      "Data columns (total 8 columns):\n",
      " #   Column         Non-Null Count  Dtype  \n",
      "---  ------         --------------  -----  \n",
      " 0   GKGRECORDID    8912 non-null   object \n",
      " 1   Locations      8912 non-null   object \n",
      " 2   Persons        7385 non-null   object \n",
      " 3   Organizations  8912 non-null   object \n",
      " 4   AvgTone        8912 non-null   float64\n",
      " 5   PosScore       8912 non-null   float64\n",
      " 6   NegScore       8912 non-null   float64\n",
      " 7   Polarity       8912 non-null   float64\n",
      "dtypes: float64(4), object(4)\n",
      "memory usage: 626.6+ KB\n"
     ]
    }
   ],
   "source": [
    "gdelt_df.info()"
   ]
  },
  {
   "cell_type": "code",
   "execution_count": 7,
   "id": "2799167c",
   "metadata": {
    "execution": {
     "iopub.execute_input": "2022-04-18T16:12:58.668380Z",
     "iopub.status.busy": "2022-04-18T16:12:58.668217Z",
     "iopub.status.idle": "2022-04-18T16:12:58.677435Z",
     "shell.execute_reply": "2022-04-18T16:12:58.677003Z"
    },
    "papermill": {
     "duration": 0.018945,
     "end_time": "2022-04-18T16:12:58.678997",
     "exception": false,
     "start_time": "2022-04-18T16:12:58.660052",
     "status": "completed"
    },
    "tags": []
   },
   "outputs": [
    {
     "name": "stdout",
     "output_type": "stream",
     "text": [
      "<class 'pandas.core.frame.DataFrame'>\n",
      "Int64Index: 9213 entries, 0 to 9212\n",
      "Data columns (total 4 columns):\n",
      " #   Column       Non-Null Count  Dtype \n",
      "---  ------       --------------  ----- \n",
      " 0   cik          9213 non-null   int64 \n",
      " 1   ticker       9213 non-null   object\n",
      " 2   full_name    9213 non-null   object\n",
      " 3   former_name  4477 non-null   object\n",
      "dtypes: int64(1), object(3)\n",
      "memory usage: 359.9+ KB\n"
     ]
    }
   ],
   "source": [
    "security_df.info()"
   ]
  },
  {
   "cell_type": "code",
   "execution_count": 8,
   "id": "7068eeb3",
   "metadata": {
    "execution": {
     "iopub.execute_input": "2022-04-18T16:12:58.695629Z",
     "iopub.status.busy": "2022-04-18T16:12:58.695466Z",
     "iopub.status.idle": "2022-04-18T16:12:58.912361Z",
     "shell.execute_reply": "2022-04-18T16:12:58.911873Z"
    },
    "papermill": {
     "duration": 0.227357,
     "end_time": "2022-04-18T16:12:58.914241",
     "exception": false,
     "start_time": "2022-04-18T16:12:58.686884",
     "status": "completed"
    },
    "tags": []
   },
   "outputs": [
    {
     "data": {
      "text/plain": [
       "0        None\n",
       "1        None\n",
       "2        None\n",
       "3        None\n",
       "6        None\n",
       "         ... \n",
       "10547    None\n",
       "10548    None\n",
       "10549    None\n",
       "10550    None\n",
       "10551    None\n",
       "Name: Organizations, Length: 8912, dtype: object"
      ]
     },
     "execution_count": 8,
     "metadata": {},
     "output_type": "execute_result"
    }
   ],
   "source": [
    "c = Counter()\n",
    "\n",
    "def update_counter(string):\n",
    "    if len(string.strip()) > 5:\n",
    "        string = ast.literal_eval(string)\n",
    "        string = json.dumps(string)\n",
    "        dictionary = json.loads(string)\n",
    "        c.update(dictionary)\n",
    "    \n",
    "gdelt_df['Organizations'].apply(update_counter)"
   ]
  },
  {
   "cell_type": "code",
   "execution_count": 9,
   "id": "2380776d",
   "metadata": {
    "execution": {
     "iopub.execute_input": "2022-04-18T16:12:58.930597Z",
     "iopub.status.busy": "2022-04-18T16:12:58.930405Z",
     "iopub.status.idle": "2022-04-18T16:12:58.934167Z",
     "shell.execute_reply": "2022-04-18T16:12:58.933676Z"
    },
    "papermill": {
     "duration": 0.013399,
     "end_time": "2022-04-18T16:12:58.935551",
     "exception": false,
     "start_time": "2022-04-18T16:12:58.922152",
     "status": "completed"
    },
    "tags": []
   },
   "outputs": [],
   "source": [
    "total_org_count_df = pd.DataFrame.from_dict(dict(c), orient='index', columns=['count'])"
   ]
  },
  {
   "cell_type": "code",
   "execution_count": 10,
   "id": "e61a385e",
   "metadata": {
    "execution": {
     "iopub.execute_input": "2022-04-18T16:12:58.953018Z",
     "iopub.status.busy": "2022-04-18T16:12:58.952849Z",
     "iopub.status.idle": "2022-04-18T16:12:59.199008Z",
     "shell.execute_reply": "2022-04-18T16:12:59.198442Z"
    },
    "papermill": {
     "duration": 0.25773,
     "end_time": "2022-04-18T16:12:59.201075",
     "exception": false,
     "start_time": "2022-04-18T16:12:58.943345",
     "status": "completed"
    },
    "tags": []
   },
   "outputs": [],
   "source": [
    "full_name_lst = security_df.full_name.to_list()\n",
    "cik_lst = []\n",
    "for security in total_org_count_df.index:\n",
    "    if security in full_name_lst:\n",
    "        matching_rows = security_df[security_df['full_name'] == security]\n",
    "        # if len(matching_rows > 0):\n",
    "        cik_lst.append(matching_rows['ticker'].to_list()[0])"
   ]
  },
  {
   "cell_type": "code",
   "execution_count": 11,
   "id": "b02c42c9",
   "metadata": {
    "execution": {
     "iopub.execute_input": "2022-04-18T16:12:59.218312Z",
     "iopub.status.busy": "2022-04-18T16:12:59.218012Z",
     "iopub.status.idle": "2022-04-18T16:12:59.221871Z",
     "shell.execute_reply": "2022-04-18T16:12:59.221232Z"
    },
    "papermill": {
     "duration": 0.014959,
     "end_time": "2022-04-18T16:12:59.224050",
     "exception": false,
     "start_time": "2022-04-18T16:12:59.209091",
     "status": "completed"
    },
    "tags": []
   },
   "outputs": [],
   "source": [
    "assert len(cik_lst) == len(total_org_count_df.index)"
   ]
  },
  {
   "cell_type": "code",
   "execution_count": 12,
   "id": "9ba70527",
   "metadata": {
    "execution": {
     "iopub.execute_input": "2022-04-18T16:12:59.241527Z",
     "iopub.status.busy": "2022-04-18T16:12:59.241284Z",
     "iopub.status.idle": "2022-04-18T16:12:59.245231Z",
     "shell.execute_reply": "2022-04-18T16:12:59.244813Z"
    },
    "papermill": {
     "duration": 0.014366,
     "end_time": "2022-04-18T16:12:59.246987",
     "exception": false,
     "start_time": "2022-04-18T16:12:59.232621",
     "status": "completed"
    },
    "tags": []
   },
   "outputs": [],
   "source": [
    "total_org_count_df['ticker'] = cik_lst"
   ]
  },
  {
   "cell_type": "code",
   "execution_count": 13,
   "id": "b7788af9",
   "metadata": {
    "execution": {
     "iopub.execute_input": "2022-04-18T16:12:59.264655Z",
     "iopub.status.busy": "2022-04-18T16:12:59.264487Z",
     "iopub.status.idle": "2022-04-18T16:12:59.269675Z",
     "shell.execute_reply": "2022-04-18T16:12:59.269290Z"
    },
    "papermill": {
     "duration": 0.01569,
     "end_time": "2022-04-18T16:12:59.271166",
     "exception": false,
     "start_time": "2022-04-18T16:12:59.255476",
     "status": "completed"
    },
    "tags": []
   },
   "outputs": [
    {
     "name": "stdout",
     "output_type": "stream",
     "text": [
      "Saved file /Users/aiujdm2/market_watch/output/data/interim/total_org_counts.csv\n"
     ]
    }
   ],
   "source": [
    "output_file_path = product['data']\n",
    "Path(output_file_path).parent.mkdir(exist_ok=True, parents=True)\n",
    "total_org_count_df.to_csv(output_file_path)\n",
    "print(f\"Saved file {output_file_path}\")"
   ]
  },
  {
   "cell_type": "code",
   "execution_count": null,
   "id": "20f955b0",
   "metadata": {
    "papermill": {
     "duration": 0.008585,
     "end_time": "2022-04-18T16:12:59.288421",
     "exception": false,
     "start_time": "2022-04-18T16:12:59.279836",
     "status": "completed"
    },
    "tags": []
   },
   "outputs": [],
   "source": []
  }
 ],
 "metadata": {
  "jupytext": {
   "cell_metadata_filter": "tags,-all",
   "main_language": "python",
   "notebook_metadata_filter": "-all",
   "text_representation": {
    "extension": ".py",
    "format_name": "light"
   }
  },
  "kernelspec": {
   "display_name": "Python 3 (ipykernel)",
   "language": "python",
   "name": "python3"
  },
  "language_info": {
   "codemirror_mode": {
    "name": "ipython",
    "version": 3
   },
   "file_extension": ".py",
   "mimetype": "text/x-python",
   "name": "python",
   "nbconvert_exporter": "python",
   "pygments_lexer": "ipython3",
   "version": "3.9.10"
  },
  "papermill": {
   "duration": 2.303746,
   "end_time": "2022-04-18T16:12:59.518052",
   "exception": null,
   "input_path": "/var/folders/b0/4tc1nfbd6z7_vhx4nxcj2n91c0l9h6/T/tmp_t6euiat.ipynb",
   "output_path": "/Users/aiujdm2/market_watch/output/notebooks/total_org_count.ipynb",
   "parameters": {
    "product": {
     "data": "/Users/aiujdm2/market_watch/output/data/interim/total_org_counts.csv",
     "nb": "/Users/aiujdm2/market_watch/output/notebooks/total_org_count.ipynb"
    },
    "upstream": {
     "clean_gdelt_data": {
      "data": "/Users/aiujdm2/market_watch/output/data/interim/gdelt_gkg_data-cleaned.csv",
      "nb": "/Users/aiujdm2/market_watch/output/notebooks/clean_gdelt_data.ipynb"
     },
     "normalize_security_names": {
      "data": "/Users/aiujdm2/market_watch/output/data/interim/normalized_security_names.csv",
      "nb": "/Users/aiujdm2/market_watch/output/notebooks/normalize_security_names.ipynb"
     }
    }
   },
   "start_time": "2022-04-18T16:12:57.214306"
  }
 },
 "nbformat": 4,
 "nbformat_minor": 5
}