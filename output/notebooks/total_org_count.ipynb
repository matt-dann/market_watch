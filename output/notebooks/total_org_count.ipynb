{
 "cells": [
  {
   "cell_type": "code",
   "execution_count": 1,
   "id": "41b78453",
   "metadata": {
    "execution": {
     "iopub.execute_input": "2022-04-19T04:23:49.468805Z",
     "iopub.status.busy": "2022-04-19T04:23:49.468504Z",
     "iopub.status.idle": "2022-04-19T04:23:49.475933Z",
     "shell.execute_reply": "2022-04-19T04:23:49.475384Z"
    },
    "lines_to_next_cell": 0,
    "papermill": {
     "duration": 0.022345,
     "end_time": "2022-04-19T04:23:49.477843",
     "exception": false,
     "start_time": "2022-04-19T04:23:49.455498",
     "status": "completed"
    },
    "tags": [
     "parameters"
    ]
   },
   "outputs": [],
   "source": [
    "# declare a list tasks whose products you want to use as inputs\n",
    "upstream = ['clean_gdelt_data', 'normalize_security_names']\n"
   ]
  },
  {
   "cell_type": "code",
   "execution_count": 2,
   "id": "0a04b581",
   "metadata": {
    "execution": {
     "iopub.execute_input": "2022-04-19T04:23:49.497000Z",
     "iopub.status.busy": "2022-04-19T04:23:49.496791Z",
     "iopub.status.idle": "2022-04-19T04:23:49.500255Z",
     "shell.execute_reply": "2022-04-19T04:23:49.499723Z"
    },
    "papermill": {
     "duration": 0.014503,
     "end_time": "2022-04-19T04:23:49.501918",
     "exception": false,
     "start_time": "2022-04-19T04:23:49.487415",
     "status": "completed"
    },
    "tags": [
     "injected-parameters"
    ]
   },
   "outputs": [],
   "source": [
    "# Parameters\n",
    "upstream = {\n",
    "    \"clean_gdelt_data\": {\n",
    "        \"nb\": \"/Users/aiujdm2/market_watch/output/notebooks/clean_gdelt_data.ipynb\",\n",
    "        \"data\": \"/Users/aiujdm2/market_watch/output/data/interim/gdelt_gkg_data-cleaned.csv\",\n",
    "    },\n",
    "    \"normalize_security_names\": {\n",
    "        \"nb\": \"/Users/aiujdm2/market_watch/output/notebooks/normalize_security_names.ipynb\",\n",
    "        \"data\": \"/Users/aiujdm2/market_watch/output/data/interim/normalized_security_names.csv\",\n",
    "    },\n",
    "}\n",
    "product = {\n",
    "    \"nb\": \"/Users/aiujdm2/market_watch/output/notebooks/total_org_count.ipynb\",\n",
    "    \"data\": \"/Users/aiujdm2/market_watch/output/data/interim/total_org_counts.csv\",\n",
    "}\n"
   ]
  },
  {
   "cell_type": "code",
   "execution_count": 3,
   "id": "000f29fc",
   "metadata": {
    "execution": {
     "iopub.execute_input": "2022-04-19T04:23:49.519523Z",
     "iopub.status.busy": "2022-04-19T04:23:49.519296Z",
     "iopub.status.idle": "2022-04-19T04:23:49.786895Z",
     "shell.execute_reply": "2022-04-19T04:23:49.786335Z"
    },
    "papermill": {
     "duration": 0.278336,
     "end_time": "2022-04-19T04:23:49.788595",
     "exception": false,
     "start_time": "2022-04-19T04:23:49.510259",
     "status": "completed"
    },
    "tags": []
   },
   "outputs": [],
   "source": [
    "import pandas as pd\n",
    "from collections import Counter\n",
    "import json\n",
    "import ast\n",
    "from pathlib import Path"
   ]
  },
  {
   "cell_type": "code",
   "execution_count": 4,
   "id": "41f34a36",
   "metadata": {
    "execution": {
     "iopub.execute_input": "2022-04-19T04:23:49.804359Z",
     "iopub.status.busy": "2022-04-19T04:23:49.804116Z",
     "iopub.status.idle": "2022-04-19T04:23:49.807566Z",
     "shell.execute_reply": "2022-04-19T04:23:49.806947Z"
    },
    "lines_to_next_cell": 2,
    "papermill": {
     "duration": 0.012666,
     "end_time": "2022-04-19T04:23:49.809255",
     "exception": false,
     "start_time": "2022-04-19T04:23:49.796589",
     "status": "completed"
    },
    "tags": []
   },
   "outputs": [],
   "source": [
    "output_file_path = product['data']\n",
    "gdelt_file_path = upstream['clean_gdelt_data']['data']\n",
    "security_file_path = upstream['normalize_security_names']['data']"
   ]
  },
  {
   "cell_type": "code",
   "execution_count": 5,
   "id": "1226444f",
   "metadata": {
    "execution": {
     "iopub.execute_input": "2022-04-19T04:23:49.824442Z",
     "iopub.status.busy": "2022-04-19T04:23:49.824210Z",
     "iopub.status.idle": "2022-04-19T04:23:49.860526Z",
     "shell.execute_reply": "2022-04-19T04:23:49.859969Z"
    },
    "papermill": {
     "duration": 0.045839,
     "end_time": "2022-04-19T04:23:49.862211",
     "exception": false,
     "start_time": "2022-04-19T04:23:49.816372",
     "status": "completed"
    },
    "tags": []
   },
   "outputs": [],
   "source": [
    "gdelt_df = pd.read_csv(gdelt_file_path, index_col=0)\n",
    "security_df = pd.read_csv(security_file_path, index_col=0)"
   ]
  },
  {
   "cell_type": "code",
   "execution_count": 6,
   "id": "9710c48e",
   "metadata": {
    "execution": {
     "iopub.execute_input": "2022-04-19T04:23:49.877058Z",
     "iopub.status.busy": "2022-04-19T04:23:49.876862Z",
     "iopub.status.idle": "2022-04-19T04:23:49.887627Z",
     "shell.execute_reply": "2022-04-19T04:23:49.887105Z"
    },
    "papermill": {
     "duration": 0.019875,
     "end_time": "2022-04-19T04:23:49.889165",
     "exception": false,
     "start_time": "2022-04-19T04:23:49.869290",
     "status": "completed"
    },
    "tags": []
   },
   "outputs": [
    {
     "name": "stdout",
     "output_type": "stream",
     "text": [
      "<class 'pandas.core.frame.DataFrame'>\n",
      "Int64Index: 8912 entries, 0 to 10551\n",
      "Data columns (total 8 columns):\n",
      " #   Column         Non-Null Count  Dtype  \n",
      "---  ------         --------------  -----  \n",
      " 0   GKGRECORDID    8912 non-null   object \n",
      " 1   Locations      8912 non-null   object \n",
      " 2   Persons        7385 non-null   object \n",
      " 3   Organizations  8912 non-null   object \n",
      " 4   AvgTone        8912 non-null   float64\n",
      " 5   PosScore       8912 non-null   float64\n",
      " 6   NegScore       8912 non-null   float64\n",
      " 7   Polarity       8912 non-null   float64\n",
      "dtypes: float64(4), object(4)\n",
      "memory usage: 626.6+ KB\n"
     ]
    }
   ],
   "source": [
    "gdelt_df.info()"
   ]
  },
  {
   "cell_type": "code",
   "execution_count": 7,
   "id": "21aaca5d",
   "metadata": {
    "execution": {
     "iopub.execute_input": "2022-04-19T04:23:49.905387Z",
     "iopub.status.busy": "2022-04-19T04:23:49.905158Z",
     "iopub.status.idle": "2022-04-19T04:23:49.915144Z",
     "shell.execute_reply": "2022-04-19T04:23:49.914651Z"
    },
    "papermill": {
     "duration": 0.02001,
     "end_time": "2022-04-19T04:23:49.916716",
     "exception": false,
     "start_time": "2022-04-19T04:23:49.896706",
     "status": "completed"
    },
    "tags": []
   },
   "outputs": [
    {
     "name": "stdout",
     "output_type": "stream",
     "text": [
      "<class 'pandas.core.frame.DataFrame'>\n",
      "Int64Index: 9213 entries, 0 to 9212\n",
      "Data columns (total 4 columns):\n",
      " #   Column       Non-Null Count  Dtype \n",
      "---  ------       --------------  ----- \n",
      " 0   cik          9213 non-null   int64 \n",
      " 1   ticker       9213 non-null   object\n",
      " 2   full_name    9213 non-null   object\n",
      " 3   former_name  4477 non-null   object\n",
      "dtypes: int64(1), object(3)\n",
      "memory usage: 359.9+ KB\n"
     ]
    }
   ],
   "source": [
    "security_df.info()"
   ]
  },
  {
   "cell_type": "code",
   "execution_count": 8,
   "id": "528af438",
   "metadata": {
    "execution": {
     "iopub.execute_input": "2022-04-19T04:23:49.933320Z",
     "iopub.status.busy": "2022-04-19T04:23:49.933158Z",
     "iopub.status.idle": "2022-04-19T04:23:50.148778Z",
     "shell.execute_reply": "2022-04-19T04:23:50.148090Z"
    },
    "papermill": {
     "duration": 0.225998,
     "end_time": "2022-04-19T04:23:50.150747",
     "exception": false,
     "start_time": "2022-04-19T04:23:49.924749",
     "status": "completed"
    },
    "tags": []
   },
   "outputs": [
    {
     "data": {
      "text/plain": [
       "0        None\n",
       "1        None\n",
       "2        None\n",
       "3        None\n",
       "6        None\n",
       "         ... \n",
       "10547    None\n",
       "10548    None\n",
       "10549    None\n",
       "10550    None\n",
       "10551    None\n",
       "Name: Organizations, Length: 8912, dtype: object"
      ]
     },
     "execution_count": 8,
     "metadata": {},
     "output_type": "execute_result"
    }
   ],
   "source": [
    "c = Counter()\n",
    "\n",
    "def update_counter(string):\n",
    "    if len(string.strip()) > 5:\n",
    "        string = ast.literal_eval(string)\n",
    "        string = json.dumps(string)\n",
    "        dictionary = json.loads(string)\n",
    "        c.update(dictionary)\n",
    "    \n",
    "gdelt_df['Organizations'].apply(update_counter)"
   ]
  },
  {
   "cell_type": "code",
   "execution_count": 9,
   "id": "8fda7fbf",
   "metadata": {
    "execution": {
     "iopub.execute_input": "2022-04-19T04:23:50.168046Z",
     "iopub.status.busy": "2022-04-19T04:23:50.167463Z",
     "iopub.status.idle": "2022-04-19T04:23:50.172330Z",
     "shell.execute_reply": "2022-04-19T04:23:50.171549Z"
    },
    "papermill": {
     "duration": 0.015957,
     "end_time": "2022-04-19T04:23:50.174726",
     "exception": false,
     "start_time": "2022-04-19T04:23:50.158769",
     "status": "completed"
    },
    "tags": []
   },
   "outputs": [],
   "source": [
    "total_org_count_df = pd.DataFrame.from_dict(dict(c), orient='index', columns=['count'])"
   ]
  },
  {
   "cell_type": "code",
   "execution_count": 10,
   "id": "58ae1a62",
   "metadata": {
    "execution": {
     "iopub.execute_input": "2022-04-19T04:23:50.192623Z",
     "iopub.status.busy": "2022-04-19T04:23:50.192466Z",
     "iopub.status.idle": "2022-04-19T04:23:50.438102Z",
     "shell.execute_reply": "2022-04-19T04:23:50.437536Z"
    },
    "papermill": {
     "duration": 0.256681,
     "end_time": "2022-04-19T04:23:50.439728",
     "exception": false,
     "start_time": "2022-04-19T04:23:50.183047",
     "status": "completed"
    },
    "tags": []
   },
   "outputs": [],
   "source": [
    "full_name_lst = security_df.full_name.to_list()\n",
    "cik_lst = []\n",
    "for security in total_org_count_df.index:\n",
    "    if security in full_name_lst:\n",
    "        matching_rows = security_df[security_df['full_name'] == security]\n",
    "        # if len(matching_rows > 0):\n",
    "        cik_lst.append(matching_rows['ticker'].to_list()[0])"
   ]
  },
  {
   "cell_type": "code",
   "execution_count": 11,
   "id": "0b1a00a2",
   "metadata": {
    "execution": {
     "iopub.execute_input": "2022-04-19T04:23:50.457321Z",
     "iopub.status.busy": "2022-04-19T04:23:50.457082Z",
     "iopub.status.idle": "2022-04-19T04:23:50.460583Z",
     "shell.execute_reply": "2022-04-19T04:23:50.460073Z"
    },
    "papermill": {
     "duration": 0.01395,
     "end_time": "2022-04-19T04:23:50.462351",
     "exception": false,
     "start_time": "2022-04-19T04:23:50.448401",
     "status": "completed"
    },
    "tags": []
   },
   "outputs": [],
   "source": [
    "assert len(cik_lst) == len(total_org_count_df.index)"
   ]
  },
  {
   "cell_type": "code",
   "execution_count": 12,
   "id": "6e24b6da",
   "metadata": {
    "execution": {
     "iopub.execute_input": "2022-04-19T04:23:50.480406Z",
     "iopub.status.busy": "2022-04-19T04:23:50.480136Z",
     "iopub.status.idle": "2022-04-19T04:23:50.483627Z",
     "shell.execute_reply": "2022-04-19T04:23:50.483179Z"
    },
    "papermill": {
     "duration": 0.015017,
     "end_time": "2022-04-19T04:23:50.485381",
     "exception": false,
     "start_time": "2022-04-19T04:23:50.470364",
     "status": "completed"
    },
    "tags": []
   },
   "outputs": [],
   "source": [
    "total_org_count_df['ticker'] = cik_lst"
   ]
  },
  {
   "cell_type": "code",
   "execution_count": 13,
   "id": "ec95a76f",
   "metadata": {
    "execution": {
     "iopub.execute_input": "2022-04-19T04:23:50.503027Z",
     "iopub.status.busy": "2022-04-19T04:23:50.502874Z",
     "iopub.status.idle": "2022-04-19T04:23:50.508649Z",
     "shell.execute_reply": "2022-04-19T04:23:50.508185Z"
    },
    "papermill": {
     "duration": 0.016376,
     "end_time": "2022-04-19T04:23:50.510269",
     "exception": false,
     "start_time": "2022-04-19T04:23:50.493893",
     "status": "completed"
    },
    "tags": []
   },
   "outputs": [
    {
     "name": "stdout",
     "output_type": "stream",
     "text": [
      "Saved file /Users/aiujdm2/market_watch/output/data/interim/total_org_counts.csv\n"
     ]
    }
   ],
   "source": [
    "output_file_path = product['data']\n",
    "Path(output_file_path).parent.mkdir(exist_ok=True, parents=True)\n",
    "total_org_count_df.to_csv(output_file_path)\n",
    "print(f\"Saved file {output_file_path}\")"
   ]
  },
  {
   "cell_type": "code",
   "execution_count": null,
   "id": "a3a5917c",
   "metadata": {
    "papermill": {
     "duration": 0.00856,
     "end_time": "2022-04-19T04:23:50.527592",
     "exception": false,
     "start_time": "2022-04-19T04:23:50.519032",
     "status": "completed"
    },
    "tags": []
   },
   "outputs": [],
   "source": []
  }
 ],
 "metadata": {
  "jupytext": {
   "cell_metadata_filter": "tags,-all",
   "main_language": "python",
   "notebook_metadata_filter": "-all",
   "text_representation": {
    "extension": ".py",
    "format_name": "light"
   }
  },
  "kernelspec": {
   "display_name": "Python 3 (ipykernel)",
   "language": "python",
   "name": "python3"
  },
  "language_info": {
   "codemirror_mode": {
    "name": "ipython",
    "version": 3
   },
   "file_extension": ".py",
   "mimetype": "text/x-python",
   "name": "python",
   "nbconvert_exporter": "python",
   "pygments_lexer": "ipython3",
   "version": "3.9.10"
  },
  "papermill": {
   "duration": 2.379691,
   "end_time": "2022-04-19T04:23:50.756719",
   "exception": null,
   "input_path": "/var/folders/b0/4tc1nfbd6z7_vhx4nxcj2n91c0l9h6/T/tmppu_97p7g.ipynb",
   "output_path": "/Users/aiujdm2/market_watch/output/notebooks/total_org_count.ipynb",
   "parameters": {
    "product": {
     "data": "/Users/aiujdm2/market_watch/output/data/interim/total_org_counts.csv",
     "nb": "/Users/aiujdm2/market_watch/output/notebooks/total_org_count.ipynb"
    },
    "upstream": {
     "clean_gdelt_data": {
      "data": "/Users/aiujdm2/market_watch/output/data/interim/gdelt_gkg_data-cleaned.csv",
      "nb": "/Users/aiujdm2/market_watch/output/notebooks/clean_gdelt_data.ipynb"
     },
     "normalize_security_names": {
      "data": "/Users/aiujdm2/market_watch/output/data/interim/normalized_security_names.csv",
      "nb": "/Users/aiujdm2/market_watch/output/notebooks/normalize_security_names.ipynb"
     }
    }
   },
   "start_time": "2022-04-19T04:23:48.377028"
  }
 },
 "nbformat": 4,
 "nbformat_minor": 5
}