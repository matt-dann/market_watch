{
 "cells": [
  {
   "cell_type": "code",
   "execution_count": 1,
   "id": "1445cd67",
   "metadata": {
    "execution": {
     "iopub.execute_input": "2022-04-19T19:57:13.389563Z",
     "iopub.status.busy": "2022-04-19T19:57:13.387840Z",
     "iopub.status.idle": "2022-04-19T19:57:13.413841Z",
     "shell.execute_reply": "2022-04-19T19:57:13.412368Z"
    },
    "papermill": {
     "duration": 0.038188,
     "end_time": "2022-04-19T19:57:13.416591",
     "exception": false,
     "start_time": "2022-04-19T19:57:13.378403",
     "status": "completed"
    },
    "tags": [
     "parameters"
    ]
   },
   "outputs": [],
   "source": [
    "# declare a list tasks whose products you want to use as inputs\n",
    "upstream = ['combine_fred_yahoo']"
   ]
  },
  {
   "cell_type": "code",
   "execution_count": 2,
   "id": "fa4bf95a",
   "metadata": {
    "execution": {
     "iopub.execute_input": "2022-04-19T19:57:13.425667Z",
     "iopub.status.busy": "2022-04-19T19:57:13.424866Z",
     "iopub.status.idle": "2022-04-19T19:57:13.431657Z",
     "shell.execute_reply": "2022-04-19T19:57:13.430169Z"
    },
    "papermill": {
     "duration": 0.01346,
     "end_time": "2022-04-19T19:57:13.434134",
     "exception": false,
     "start_time": "2022-04-19T19:57:13.420674",
     "status": "completed"
    },
    "tags": [
     "injected-parameters"
    ]
   },
   "outputs": [],
   "source": [
    "# Parameters\n",
    "upstream = {\n",
    "    \"combine_fred_yahoo\": {\n",
    "        \"nb\": \"/home/vgaurav/market_watch/output/notebooks/combine_fred_yahoo.ipynb\",\n",
    "        \"data\": \"/home/vgaurav/market_watch/output/data/raw/fred_yahoo.xlsx\",\n",
    "    }\n",
    "}\n",
    "product = {\"nb\": \"/home/vgaurav/market_watch/output/notebooks/train_model.ipynb\"}\n"
   ]
  },
  {
   "cell_type": "code",
   "execution_count": 3,
   "id": "4398f1eb",
   "metadata": {
    "execution": {
     "iopub.execute_input": "2022-04-19T19:57:13.441493Z",
     "iopub.status.busy": "2022-04-19T19:57:13.441273Z",
     "iopub.status.idle": "2022-04-19T19:57:14.018624Z",
     "shell.execute_reply": "2022-04-19T19:57:14.018106Z"
    },
    "papermill": {
     "duration": 0.582853,
     "end_time": "2022-04-19T19:57:14.019946",
     "exception": false,
     "start_time": "2022-04-19T19:57:13.437093",
     "status": "completed"
    },
    "tags": []
   },
   "outputs": [],
   "source": [
    "import os\n",
    "import ptan\n",
    "import pathlib\n",
    "import gym.wrappers\n",
    "import numpy as np\n",
    "import pandas as pd\n",
    "\n",
    "import torch\n",
    "import torch.optim as optim\n",
    "\n",
    "from ignite.engine import Engine\n",
    "from ignite.contrib.handlers import tensorboard_logger as tb_logger\n",
    "\n",
    "from src.models.lib import environ, data, models, common, validation\n",
    "\n",
    "SAVES_DIR = pathlib.Path(\"saves\")\n",
    "BATCH_SIZE = 32\n",
    "BARS_COUNT = 10\n",
    "\n",
    "EPS_START = 1.0\n",
    "EPS_FINAL = 0.1\n",
    "EPS_STEPS = 1000000\n",
    "\n",
    "GAMMA = 0.99\n",
    "\n",
    "REPLAY_SIZE = 100000\n",
    "REPLAY_INITIAL = 1000\n",
    "REWARD_STEPS = 2\n",
    "LEARNING_RATE = 0.0001\n",
    "STATES_TO_EVALUATE = 1000"
   ]
  },
  {
   "cell_type": "code",
   "execution_count": 4,
   "id": "eddb39a8",
   "metadata": {
    "execution": {
     "iopub.execute_input": "2022-04-19T19:57:14.023268Z",
     "iopub.status.busy": "2022-04-19T19:57:14.023127Z",
     "iopub.status.idle": "2022-04-19T19:57:14.445087Z",
     "shell.execute_reply": "2022-04-19T19:57:14.444505Z"
    },
    "lines_to_next_cell": 2,
    "papermill": {
     "duration": 0.424911,
     "end_time": "2022-04-19T19:57:14.446065",
     "exception": false,
     "start_time": "2022-04-19T19:57:14.021154",
     "status": "completed"
    },
    "tags": []
   },
   "outputs": [
    {
     "name": "stdout",
     "output_type": "stream",
     "text": [
      "GPU support is enabled\n"
     ]
    },
    {
     "data": {
      "text/plain": [
       "True"
      ]
     },
     "execution_count": 4,
     "metadata": {},
     "output_type": "execute_result"
    }
   ],
   "source": [
    "cuda = torch.cuda.is_available()\n",
    "print(f\"GPU support is {'enabled' if cuda else 'not available'}\")\n",
    "cuda"
   ]
  },
  {
   "cell_type": "code",
   "execution_count": 5,
   "id": "80d78153",
   "metadata": {
    "execution": {
     "iopub.execute_input": "2022-04-19T19:57:14.449269Z",
     "iopub.status.busy": "2022-04-19T19:57:14.449126Z",
     "iopub.status.idle": "2022-04-19T19:57:21.161364Z",
     "shell.execute_reply": "2022-04-19T19:57:21.160842Z"
    },
    "lines_to_next_cell": 2,
    "papermill": {
     "duration": 6.715019,
     "end_time": "2022-04-19T19:57:21.162399",
     "exception": false,
     "start_time": "2022-04-19T19:57:14.447380",
     "status": "completed"
    },
    "tags": []
   },
   "outputs": [
    {
     "name": "stderr",
     "output_type": "stream",
     "text": [
      "/home/vgaurav/.local/share/virtualenvs/market_watch-Aspyv5sc/lib/python3.8/site-packages/gym/utils/seeding.py:138: DeprecationWarning: \u001b[33mWARN: Function `hash_seed(seed, max_bytes)` is marked as deprecated and will be removed in the future. \u001b[0m\n",
      "  deprecation(\n",
      "/home/vgaurav/.local/share/virtualenvs/market_watch-Aspyv5sc/lib/python3.8/site-packages/gym/utils/seeding.py:175: DeprecationWarning: \u001b[33mWARN: Function `_bigint_from_bytes(bytes)` is marked as deprecated and will be removed in the future. \u001b[0m\n",
      "  deprecation(\n"
     ]
    }
   ],
   "source": [
    "run = 'test'\n",
    "# args = parser.parse_args()\n",
    "device = torch.device(\"cuda\" if cuda else \"cpu\")\n",
    "\n",
    "saves_path = SAVES_DIR / f\"conv-{run}\"\n",
    "saves_path.mkdir(parents=True, exist_ok=True)\n",
    "\n",
    "\n",
    "features = [\n",
    "    'High', 'Close', 'Low',\n",
    "    'Open' # open is broken. has shape (558, 415) vs (692, 403)\n",
    "    ]\n",
    "\n",
    "stock_data_path = upstream['combine_fred_yahoo']['data']\n",
    "dfs = pd.read_excel(stock_data_path, sheet_name=features)\n",
    "\n",
    "cols = None\n",
    "for feature in features:\n",
    "    if cols is None:\n",
    "        cols = dfs[feature].columns\n",
    "    else:\n",
    "        cols = np.intersect1d(cols, dfs[feature].columns)\n",
    "\n",
    "cols = [c for c in cols if 'date' not in c.lower()]\n",
    "data = np.array([\n",
    "    dfs[feature][cols] for feature in features\n",
    "]).astype(np.float32)\n",
    "\n",
    "env = environ.MarketWatchStocksEnv(data, bars_count=BARS_COUNT, state_1d=True)\n",
    "env_tst = environ.MarketWatchStocksEnv(data, bars_count=BARS_COUNT, state_1d=True)\n",
    "\n",
    "\n",
    "env = gym.wrappers.TimeLimit(env, max_episode_steps=1000)\n",
    "env_val = env_tst"
   ]
  },
  {
   "cell_type": "code",
   "execution_count": 6,
   "id": "da747a03",
   "metadata": {
    "execution": {
     "iopub.execute_input": "2022-04-19T19:57:21.165950Z",
     "iopub.status.busy": "2022-04-19T19:57:21.165794Z"
    },
    "papermill": {
     "duration": null,
     "end_time": null,
     "exception": false,
     "start_time": "2022-04-19T19:57:21.163735",
     "status": "running"
    },
    "tags": []
   },
   "outputs": [
    {
     "name": "stdout",
     "output_type": "stream",
     "text": [
      "Episode 100: reward=-4, steps=8, speed=0.0 f/s, elapsed=0:00:02\n"
     ]
    },
    {
     "name": "stdout",
     "output_type": "stream",
     "text": [
      "10: Best mean value updated -0.062 -> -0.062\n"
     ]
    },
    {
     "name": "stdout",
     "output_type": "stream",
     "text": [
      "mean_val $-0.10762025555595756, less than best -0.06197773676831275\n"
     ]
    },
    {
     "name": "stdout",
     "output_type": "stream",
     "text": [
      "mean_val $-0.1520497816381976, less than best -0.06197773676831275\n"
     ]
    },
    {
     "name": "stdout",
     "output_type": "stream",
     "text": [
      "mean_val $-0.1957495182286948, less than best -0.06197773676831275\n"
     ]
    },
    {
     "name": "stdout",
     "output_type": "stream",
     "text": [
      "mean_val $-0.23817035928368568, less than best -0.06197773676831275\n"
     ]
    },
    {
     "name": "stdout",
     "output_type": "stream",
     "text": [
      "mean_val $-0.27940057567320764, less than best -0.06197773676831275\n"
     ]
    },
    {
     "name": "stdout",
     "output_type": "stream",
     "text": [
      "mean_val $-0.3318737333174795, less than best -0.06197773676831275\n"
     ]
    },
    {
     "name": "stdout",
     "output_type": "stream",
     "text": [
      "mean_val $-0.38813579617999494, less than best -0.06197773676831275\n"
     ]
    },
    {
     "name": "stdout",
     "output_type": "stream",
     "text": [
      "mean_val $-0.4255446675233543, less than best -0.06197773676831275\n"
     ]
    },
    {
     "name": "stdout",
     "output_type": "stream",
     "text": [
      "mean_val $-0.4694188041612506, less than best -0.06197773676831275\n"
     ]
    },
    {
     "name": "stdout",
     "output_type": "stream",
     "text": [
      "mean_val $-0.5165102048777044, less than best -0.06197773676831275\n"
     ]
    },
    {
     "name": "stdout",
     "output_type": "stream",
     "text": [
      "mean_val $-0.5551581759937108, less than best -0.06197773676831275\n"
     ]
    },
    {
     "name": "stdout",
     "output_type": "stream",
     "text": [
      "mean_val $-0.594031204469502, less than best -0.06197773676831275\n"
     ]
    },
    {
     "name": "stdout",
     "output_type": "stream",
     "text": [
      "mean_val $-0.6389567963778973, less than best -0.06197773676831275\n"
     ]
    },
    {
     "name": "stdout",
     "output_type": "stream",
     "text": [
      "mean_val $-0.6728829219937325, less than best -0.06197773676831275\n"
     ]
    },
    {
     "name": "stdout",
     "output_type": "stream",
     "text": [
      "mean_val $-0.7064649816602468, less than best -0.06197773676831275\n"
     ]
    },
    {
     "name": "stdout",
     "output_type": "stream",
     "text": [
      "mean_val $-0.7402018303982913, less than best -0.06197773676831275\n"
     ]
    },
    {
     "name": "stdout",
     "output_type": "stream",
     "text": [
      "mean_val $-0.7743290541693568, less than best -0.06197773676831275\n"
     ]
    },
    {
     "name": "stdout",
     "output_type": "stream",
     "text": [
      "mean_val $-0.8103747190907598, less than best -0.06197773676831275\n"
     ]
    },
    {
     "name": "stdout",
     "output_type": "stream",
     "text": [
      "mean_val $-0.8568783137015998, less than best -0.06197773676831275\n"
     ]
    },
    {
     "name": "stdout",
     "output_type": "stream",
     "text": [
      "mean_val $-0.9102857243269682, less than best -0.06197773676831275\n"
     ]
    },
    {
     "name": "stdout",
     "output_type": "stream",
     "text": [
      "mean_val $-0.9213538193143904, less than best -0.06197773676831275\n"
     ]
    },
    {
     "name": "stdout",
     "output_type": "stream",
     "text": [
      "Episode 200: reward=-2, steps=12, speed=4.4 f/s, elapsed=0:00:55\n"
     ]
    },
    {
     "name": "stdout",
     "output_type": "stream",
     "text": [
      "mean_val $-0.9512658584862947, less than best -0.06197773676831275\n"
     ]
    },
    {
     "name": "stdout",
     "output_type": "stream",
     "text": [
      "mean_val $-0.9958063955418766, less than best -0.06197773676831275\n"
     ]
    },
    {
     "name": "stdout",
     "output_type": "stream",
     "text": [
      "mean_val $-1.0365040972828865, less than best -0.06197773676831275\n"
     ]
    },
    {
     "name": "stdout",
     "output_type": "stream",
     "text": [
      "mean_val $-1.054327073507011, less than best -0.06197773676831275\n"
     ]
    },
    {
     "name": "stdout",
     "output_type": "stream",
     "text": [
      "mean_val $-1.0643138522282243, less than best -0.06197773676831275\n"
     ]
    },
    {
     "name": "stdout",
     "output_type": "stream",
     "text": [
      "mean_val $-1.0614749658852816, less than best -0.06197773676831275\n"
     ]
    },
    {
     "name": "stdout",
     "output_type": "stream",
     "text": [
      "mean_val $-1.053081982769072, less than best -0.06197773676831275\n"
     ]
    },
    {
     "name": "stdout",
     "output_type": "stream",
     "text": [
      "mean_val $-1.0648898351937532, less than best -0.06197773676831275\n"
     ]
    },
    {
     "name": "stdout",
     "output_type": "stream",
     "text": [
      "mean_val $-1.0799097158014774, less than best -0.06197773676831275\n"
     ]
    },
    {
     "name": "stdout",
     "output_type": "stream",
     "text": [
      "mean_val $-1.0741623472422361, less than best -0.06197773676831275\n"
     ]
    },
    {
     "name": "stdout",
     "output_type": "stream",
     "text": [
      "mean_val $-1.0539975063875318, less than best -0.06197773676831275\n"
     ]
    },
    {
     "name": "stdout",
     "output_type": "stream",
     "text": [
      "mean_val $-1.0445513194426894, less than best -0.06197773676831275\n"
     ]
    },
    {
     "name": "stdout",
     "output_type": "stream",
     "text": [
      "mean_val $-1.031144494190812, less than best -0.06197773676831275\n"
     ]
    },
    {
     "name": "stdout",
     "output_type": "stream",
     "text": [
      "mean_val $-0.9897136585786939, less than best -0.06197773676831275\n"
     ]
    },
    {
     "name": "stdout",
     "output_type": "stream",
     "text": [
      "mean_val $-0.9599058963358402, less than best -0.06197773676831275\n"
     ]
    },
    {
     "name": "stdout",
     "output_type": "stream",
     "text": [
      "mean_val $-0.9644982344470918, less than best -0.06197773676831275\n"
     ]
    },
    {
     "name": "stdout",
     "output_type": "stream",
     "text": [
      "mean_val $-0.9626489486545324, less than best -0.06197773676831275\n"
     ]
    },
    {
     "name": "stdout",
     "output_type": "stream",
     "text": [
      "mean_val $-0.9549096487462521, less than best -0.06197773676831275\n"
     ]
    },
    {
     "name": "stdout",
     "output_type": "stream",
     "text": [
      "mean_val $-0.9419256481342018, less than best -0.06197773676831275\n"
     ]
    },
    {
     "name": "stdout",
     "output_type": "stream",
     "text": [
      "mean_val $-0.9292441117577255, less than best -0.06197773676831275\n"
     ]
    },
    {
     "name": "stdout",
     "output_type": "stream",
     "text": [
      "mean_val $-0.912672049831599, less than best -0.06197773676831275\n"
     ]
    },
    {
     "name": "stdout",
     "output_type": "stream",
     "text": [
      "mean_val $-0.8983630365692079, less than best -0.06197773676831275\n"
     ]
    },
    {
     "name": "stdout",
     "output_type": "stream",
     "text": [
      "mean_val $-0.9140937807969749, less than best -0.06197773676831275\n"
     ]
    },
    {
     "name": "stdout",
     "output_type": "stream",
     "text": [
      "mean_val $-0.9138155076652765, less than best -0.06197773676831275\n"
     ]
    },
    {
     "name": "stdout",
     "output_type": "stream",
     "text": [
      "mean_val $-0.8981135110370815, less than best -0.06197773676831275\n"
     ]
    },
    {
     "name": "stdout",
     "output_type": "stream",
     "text": [
      "mean_val $-0.8735243920236826, less than best -0.06197773676831275\n"
     ]
    },
    {
     "name": "stdout",
     "output_type": "stream",
     "text": [
      "mean_val $-0.8726231697946787, less than best -0.06197773676831275\n"
     ]
    },
    {
     "name": "stdout",
     "output_type": "stream",
     "text": [
      "mean_val $-0.8462350438348949, less than best -0.06197773676831275\n"
     ]
    },
    {
     "name": "stdout",
     "output_type": "stream",
     "text": [
      "mean_val $-0.8225297895260155, less than best -0.06197773676831275\n"
     ]
    },
    {
     "name": "stdout",
     "output_type": "stream",
     "text": [
      "mean_val $-0.8164832219481468, less than best -0.06197773676831275\n"
     ]
    },
    {
     "name": "stdout",
     "output_type": "stream",
     "text": [
      "mean_val $-0.8089371458627284, less than best -0.06197773676831275\n"
     ]
    },
    {
     "name": "stdout",
     "output_type": "stream",
     "text": [
      "mean_val $-0.7890307675115764, less than best -0.06197773676831275\n"
     ]
    },
    {
     "name": "stdout",
     "output_type": "stream",
     "text": [
      "mean_val $-0.7840071767568588, less than best -0.06197773676831275\n"
     ]
    },
    {
     "name": "stdout",
     "output_type": "stream",
     "text": [
      "mean_val $-0.7888493184000254, less than best -0.06197773676831275\n"
     ]
    },
    {
     "name": "stdout",
     "output_type": "stream",
     "text": [
      "mean_val $-0.7789020361378789, less than best -0.06197773676831275\n"
     ]
    },
    {
     "name": "stdout",
     "output_type": "stream",
     "text": [
      "mean_val $-0.7786035449244082, less than best -0.06197773676831275\n"
     ]
    },
    {
     "name": "stdout",
     "output_type": "stream",
     "text": [
      "mean_val $-0.7513212906196713, less than best -0.06197773676831275\n"
     ]
    },
    {
     "name": "stdout",
     "output_type": "stream",
     "text": [
      "mean_val $-0.7369994926266372, less than best -0.06197773676831275\n"
     ]
    },
    {
     "name": "stdout",
     "output_type": "stream",
     "text": [
      "mean_val $-0.7247247258201241, less than best -0.06197773676831275\n"
     ]
    },
    {
     "name": "stdout",
     "output_type": "stream",
     "text": [
      "mean_val $-0.7410803423263133, less than best -0.06197773676831275\n"
     ]
    },
    {
     "name": "stdout",
     "output_type": "stream",
     "text": [
      "mean_val $-0.7348032100126147, less than best -0.06197773676831275\n"
     ]
    },
    {
     "name": "stdout",
     "output_type": "stream",
     "text": [
      "mean_val $-0.7391571491025388, less than best -0.06197773676831275\n"
     ]
    },
    {
     "name": "stdout",
     "output_type": "stream",
     "text": [
      "mean_val $-0.7362648365087807, less than best -0.06197773676831275\n"
     ]
    },
    {
     "name": "stdout",
     "output_type": "stream",
     "text": [
      "mean_val $-0.7154776542447507, less than best -0.06197773676831275\n"
     ]
    },
    {
     "name": "stdout",
     "output_type": "stream",
     "text": [
      "mean_val $-0.7092593987472355, less than best -0.06197773676831275\n"
     ]
    },
    {
     "name": "stdout",
     "output_type": "stream",
     "text": [
      "mean_val $-0.7079924964345992, less than best -0.06197773676831275\n"
     ]
    },
    {
     "name": "stdout",
     "output_type": "stream",
     "text": [
      "mean_val $-0.7061227867379785, less than best -0.06197773676831275\n"
     ]
    },
    {
     "name": "stdout",
     "output_type": "stream",
     "text": [
      "mean_val $-0.6890785819850862, less than best -0.06197773676831275\n"
     ]
    },
    {
     "name": "stdout",
     "output_type": "stream",
     "text": [
      "mean_val $-0.6773346434347332, less than best -0.06197773676831275\n"
     ]
    },
    {
     "name": "stdout",
     "output_type": "stream",
     "text": [
      "mean_val $-0.6675650058314204, less than best -0.06197773676831275\n"
     ]
    },
    {
     "name": "stdout",
     "output_type": "stream",
     "text": [
      "mean_val $-0.6478525637649, less than best -0.06197773676831275\n"
     ]
    },
    {
     "name": "stdout",
     "output_type": "stream",
     "text": [
      "mean_val $-0.6139469046611339, less than best -0.06197773676831275\n"
     ]
    },
    {
     "name": "stdout",
     "output_type": "stream",
     "text": [
      "mean_val $-0.595665839035064, less than best -0.06197773676831275\n"
     ]
    },
    {
     "name": "stdout",
     "output_type": "stream",
     "text": [
      "mean_val $-0.5898755246307701, less than best -0.06197773676831275\n"
     ]
    },
    {
     "name": "stdout",
     "output_type": "stream",
     "text": [
      "Episode 300: reward=-6, steps=9, speed=4.4 f/s, elapsed=0:02:55\n"
     ]
    },
    {
     "name": "stdout",
     "output_type": "stream",
     "text": [
      "mean_val $-0.5905420950148255, less than best -0.06197773676831275\n"
     ]
    },
    {
     "name": "stdout",
     "output_type": "stream",
     "text": [
      "mean_val $-0.576495393877849, less than best -0.06197773676831275\n"
     ]
    },
    {
     "name": "stdout",
     "output_type": "stream",
     "text": [
      "mean_val $-0.5632956847548485, less than best -0.06197773676831275\n"
     ]
    },
    {
     "name": "stdout",
     "output_type": "stream",
     "text": [
      "mean_val $-0.5472545572556555, less than best -0.06197773676831275\n"
     ]
    },
    {
     "name": "stdout",
     "output_type": "stream",
     "text": [
      "mean_val $-0.5462254805024713, less than best -0.06197773676831275\n"
     ]
    },
    {
     "name": "stdout",
     "output_type": "stream",
     "text": [
      "mean_val $-0.5327047514729202, less than best -0.06197773676831275\n"
     ]
    },
    {
     "name": "stdout",
     "output_type": "stream",
     "text": [
      "mean_val $-0.5184470107778907, less than best -0.06197773676831275\n"
     ]
    },
    {
     "name": "stdout",
     "output_type": "stream",
     "text": [
      "mean_val $-0.5265924646519125, less than best -0.06197773676831275\n"
     ]
    },
    {
     "name": "stdout",
     "output_type": "stream",
     "text": [
      "mean_val $-0.5499458655249327, less than best -0.06197773676831275\n"
     ]
    },
    {
     "name": "stdout",
     "output_type": "stream",
     "text": [
      "mean_val $-0.5392888321075588, less than best -0.06197773676831275\n"
     ]
    },
    {
     "name": "stdout",
     "output_type": "stream",
     "text": [
      "mean_val $-0.5164421242661774, less than best -0.06197773676831275\n"
     ]
    },
    {
     "name": "stdout",
     "output_type": "stream",
     "text": [
      "mean_val $-0.5031698786187917, less than best -0.06197773676831275\n"
     ]
    },
    {
     "name": "stdout",
     "output_type": "stream",
     "text": [
      "mean_val $-0.5056373388506472, less than best -0.06197773676831275\n"
     ]
    },
    {
     "name": "stdout",
     "output_type": "stream",
     "text": [
      "mean_val $-0.5057244130875915, less than best -0.06197773676831275\n"
     ]
    },
    {
     "name": "stdout",
     "output_type": "stream",
     "text": [
      "mean_val $-0.48804541816934943, less than best -0.06197773676831275\n"
     ]
    },
    {
     "name": "stdout",
     "output_type": "stream",
     "text": [
      "mean_val $-0.49077134067192674, less than best -0.06197773676831275\n"
     ]
    },
    {
     "name": "stdout",
     "output_type": "stream",
     "text": [
      "mean_val $-0.5039822605904192, less than best -0.06197773676831275\n"
     ]
    },
    {
     "name": "stdout",
     "output_type": "stream",
     "text": [
      "mean_val $-0.5145560712553561, less than best -0.06197773676831275\n"
     ]
    },
    {
     "name": "stdout",
     "output_type": "stream",
     "text": [
      "mean_val $-0.5211662848014385, less than best -0.06197773676831275\n"
     ]
    },
    {
     "name": "stdout",
     "output_type": "stream",
     "text": [
      "mean_val $-0.5291597684845328, less than best -0.06197773676831275\n"
     ]
    },
    {
     "name": "stdout",
     "output_type": "stream",
     "text": [
      "mean_val $-0.540014500496909, less than best -0.06197773676831275\n"
     ]
    },
    {
     "name": "stdout",
     "output_type": "stream",
     "text": [
      "mean_val $-0.5463650734163821, less than best -0.06197773676831275\n"
     ]
    },
    {
     "name": "stdout",
     "output_type": "stream",
     "text": [
      "mean_val $-0.5202517749276012, less than best -0.06197773676831275\n"
     ]
    },
    {
     "name": "stdout",
     "output_type": "stream",
     "text": [
      "mean_val $-0.4928248368669301, less than best -0.06197773676831275\n"
     ]
    },
    {
     "name": "stdout",
     "output_type": "stream",
     "text": [
      "mean_val $-0.4707974884659052, less than best -0.06197773676831275\n"
     ]
    },
    {
     "name": "stdout",
     "output_type": "stream",
     "text": [
      "mean_val $-0.47665486903861165, less than best -0.06197773676831275\n"
     ]
    },
    {
     "name": "stdout",
     "output_type": "stream",
     "text": [
      "mean_val $-0.4668595613911748, less than best -0.06197773676831275\n"
     ]
    },
    {
     "name": "stdout",
     "output_type": "stream",
     "text": [
      "mean_val $-0.43184090475551784, less than best -0.06197773676831275\n"
     ]
    },
    {
     "name": "stdout",
     "output_type": "stream",
     "text": [
      "mean_val $-0.42086603469215333, less than best -0.06197773676831275\n"
     ]
    },
    {
     "name": "stdout",
     "output_type": "stream",
     "text": [
      "mean_val $-0.43352222302928567, less than best -0.06197773676831275\n"
     ]
    },
    {
     "name": "stdout",
     "output_type": "stream",
     "text": [
      "mean_val $-0.440894415602088, less than best -0.06197773676831275\n"
     ]
    },
    {
     "name": "stdout",
     "output_type": "stream",
     "text": [
      "mean_val $-0.4711053187493235, less than best -0.06197773676831275\n"
     ]
    },
    {
     "name": "stdout",
     "output_type": "stream",
     "text": [
      "mean_val $-0.4986420455388725, less than best -0.06197773676831275\n"
     ]
    },
    {
     "name": "stdout",
     "output_type": "stream",
     "text": [
      "mean_val $-0.4997203720267862, less than best -0.06197773676831275\n"
     ]
    },
    {
     "name": "stdout",
     "output_type": "stream",
     "text": [
      "mean_val $-0.5014599554706365, less than best -0.06197773676831275\n"
     ]
    },
    {
     "name": "stdout",
     "output_type": "stream",
     "text": [
      "mean_val $-0.4985346272587776, less than best -0.06197773676831275\n"
     ]
    },
    {
     "name": "stdout",
     "output_type": "stream",
     "text": [
      "mean_val $-0.48677383945323527, less than best -0.06197773676831275\n"
     ]
    },
    {
     "name": "stdout",
     "output_type": "stream",
     "text": [
      "mean_val $-0.48754516849294305, less than best -0.06197773676831275\n"
     ]
    },
    {
     "name": "stdout",
     "output_type": "stream",
     "text": [
      "mean_val $-0.49042097106575966, less than best -0.06197773676831275\n"
     ]
    },
    {
     "name": "stdout",
     "output_type": "stream",
     "text": [
      "mean_val $-0.5083414446562529, less than best -0.06197773676831275\n"
     ]
    },
    {
     "name": "stdout",
     "output_type": "stream",
     "text": [
      "mean_val $-0.5128406779840589, less than best -0.06197773676831275\n"
     ]
    },
    {
     "name": "stdout",
     "output_type": "stream",
     "text": [
      "mean_val $-0.5291198715567589, less than best -0.06197773676831275\n"
     ]
    },
    {
     "name": "stdout",
     "output_type": "stream",
     "text": [
      "mean_val $-0.5493549280799925, less than best -0.06197773676831275\n"
     ]
    },
    {
     "name": "stdout",
     "output_type": "stream",
     "text": [
      "mean_val $-0.5616327775642276, less than best -0.06197773676831275\n"
     ]
    },
    {
     "name": "stdout",
     "output_type": "stream",
     "text": [
      "mean_val $-0.5769732627086341, less than best -0.06197773676831275\n"
     ]
    },
    {
     "name": "stdout",
     "output_type": "stream",
     "text": [
      "mean_val $-0.5699534108862281, less than best -0.06197773676831275\n"
     ]
    },
    {
     "name": "stdout",
     "output_type": "stream",
     "text": [
      "mean_val $-0.561770292930305, less than best -0.06197773676831275\n"
     ]
    },
    {
     "name": "stdout",
     "output_type": "stream",
     "text": [
      "mean_val $-0.5672024036757648, less than best -0.06197773676831275\n"
     ]
    },
    {
     "name": "stdout",
     "output_type": "stream",
     "text": [
      "mean_val $-0.5693754181265831, less than best -0.06197773676831275\n"
     ]
    },
    {
     "name": "stdout",
     "output_type": "stream",
     "text": [
      "mean_val $-0.5690118186175823, less than best -0.06197773676831275\n"
     ]
    },
    {
     "name": "stdout",
     "output_type": "stream",
     "text": [
      "mean_val $-0.5936087383888662, less than best -0.06197773676831275\n"
     ]
    },
    {
     "name": "stdout",
     "output_type": "stream",
     "text": [
      "mean_val $-0.6174152768217027, less than best -0.06197773676831275\n"
     ]
    },
    {
     "name": "stdout",
     "output_type": "stream",
     "text": [
      "mean_val $-0.619238103274256, less than best -0.06197773676831275\n"
     ]
    },
    {
     "name": "stdout",
     "output_type": "stream",
     "text": [
      "mean_val $-0.6187323434278369, less than best -0.06197773676831275\n"
     ]
    },
    {
     "name": "stdout",
     "output_type": "stream",
     "text": [
      "mean_val $-0.5924100927077234, less than best -0.06197773676831275\n"
     ]
    },
    {
     "name": "stdout",
     "output_type": "stream",
     "text": [
      "mean_val $-0.5482840840704739, less than best -0.06197773676831275\n"
     ]
    },
    {
     "name": "stdout",
     "output_type": "stream",
     "text": [
      "mean_val $-0.5224225362762809, less than best -0.06197773676831275\n"
     ]
    },
    {
     "name": "stdout",
     "output_type": "stream",
     "text": [
      "mean_val $-0.5194428246468306, less than best -0.06197773676831275\n"
     ]
    },
    {
     "name": "stdout",
     "output_type": "stream",
     "text": [
      "mean_val $-0.49951288430020213, less than best -0.06197773676831275\n"
     ]
    },
    {
     "name": "stdout",
     "output_type": "stream",
     "text": [
      "mean_val $-0.4865885558538139, less than best -0.06197773676831275\n"
     ]
    },
    {
     "name": "stdout",
     "output_type": "stream",
     "text": [
      "mean_val $-0.5084908157587051, less than best -0.06197773676831275\n"
     ]
    },
    {
     "name": "stdout",
     "output_type": "stream",
     "text": [
      "Episode 400: reward=-4, steps=16, speed=4.4 f/s, elapsed=0:05:12\n"
     ]
    },
    {
     "name": "stdout",
     "output_type": "stream",
     "text": [
      "mean_val $-0.5275624562054873, less than best -0.06197773676831275\n"
     ]
    },
    {
     "name": "stdout",
     "output_type": "stream",
     "text": [
      "mean_val $-0.5259444797411561, less than best -0.06197773676831275\n"
     ]
    },
    {
     "name": "stdout",
     "output_type": "stream",
     "text": [
      "mean_val $-0.5249588028527796, less than best -0.06197773676831275\n"
     ]
    },
    {
     "name": "stdout",
     "output_type": "stream",
     "text": [
      "mean_val $-0.49665688211098313, less than best -0.06197773676831275\n"
     ]
    },
    {
     "name": "stdout",
     "output_type": "stream",
     "text": [
      "mean_val $-0.4862912120297551, less than best -0.06197773676831275\n"
     ]
    },
    {
     "name": "stdout",
     "output_type": "stream",
     "text": [
      "mean_val $-0.48234792333096266, less than best -0.06197773676831275\n"
     ]
    },
    {
     "name": "stdout",
     "output_type": "stream",
     "text": [
      "mean_val $-0.4843769818544388, less than best -0.06197773676831275\n"
     ]
    },
    {
     "name": "stdout",
     "output_type": "stream",
     "text": [
      "mean_val $-0.4859811053611338, less than best -0.06197773676831275\n"
     ]
    },
    {
     "name": "stdout",
     "output_type": "stream",
     "text": [
      "mean_val $-0.4982148688286543, less than best -0.06197773676831275\n"
     ]
    },
    {
     "name": "stdout",
     "output_type": "stream",
     "text": [
      "mean_val $-0.5053602079860866, less than best -0.06197773676831275\n"
     ]
    },
    {
     "name": "stdout",
     "output_type": "stream",
     "text": [
      "mean_val $-0.47256032517179847, less than best -0.06197773676831275\n"
     ]
    },
    {
     "name": "stdout",
     "output_type": "stream",
     "text": [
      "mean_val $-0.47039866354316473, less than best -0.06197773676831275\n"
     ]
    },
    {
     "name": "stdout",
     "output_type": "stream",
     "text": [
      "mean_val $-0.48232091683894396, less than best -0.06197773676831275\n"
     ]
    },
    {
     "name": "stdout",
     "output_type": "stream",
     "text": [
      "mean_val $-0.48968149768188596, less than best -0.06197773676831275\n"
     ]
    },
    {
     "name": "stdout",
     "output_type": "stream",
     "text": [
      "mean_val $-0.475736279040575, less than best -0.06197773676831275\n"
     ]
    },
    {
     "name": "stdout",
     "output_type": "stream",
     "text": [
      "mean_val $-0.47531788190826774, less than best -0.06197773676831275\n"
     ]
    },
    {
     "name": "stdout",
     "output_type": "stream",
     "text": [
      "mean_val $-0.4819168224930763, less than best -0.06197773676831275\n"
     ]
    },
    {
     "name": "stdout",
     "output_type": "stream",
     "text": [
      "mean_val $-0.491887750569731, less than best -0.06197773676831275\n"
     ]
    },
    {
     "name": "stdout",
     "output_type": "stream",
     "text": [
      "mean_val $-0.5112470807507634, less than best -0.06197773676831275\n"
     ]
    },
    {
     "name": "stdout",
     "output_type": "stream",
     "text": [
      "mean_val $-0.5222430503927171, less than best -0.06197773676831275\n"
     ]
    },
    {
     "name": "stdout",
     "output_type": "stream",
     "text": [
      "mean_val $-0.5291584888473153, less than best -0.06197773676831275\n"
     ]
    },
    {
     "name": "stdout",
     "output_type": "stream",
     "text": [
      "mean_val $-0.5438268659636378, less than best -0.06197773676831275\n"
     ]
    },
    {
     "name": "stdout",
     "output_type": "stream",
     "text": [
      "mean_val $-0.548888027202338, less than best -0.06197773676831275\n"
     ]
    },
    {
     "name": "stdout",
     "output_type": "stream",
     "text": [
      "mean_val $-0.5425974447280169, less than best -0.06197773676831275\n"
     ]
    },
    {
     "name": "stdout",
     "output_type": "stream",
     "text": [
      "mean_val $-0.5263679656200111, less than best -0.06197773676831275\n"
     ]
    },
    {
     "name": "stdout",
     "output_type": "stream",
     "text": [
      "mean_val $-0.5129117397591472, less than best -0.06197773676831275\n"
     ]
    },
    {
     "name": "stdout",
     "output_type": "stream",
     "text": [
      "mean_val $-0.5178625117987394, less than best -0.06197773676831275\n"
     ]
    },
    {
     "name": "stdout",
     "output_type": "stream",
     "text": [
      "mean_val $-0.5317338649183512, less than best -0.06197773676831275\n"
     ]
    },
    {
     "name": "stdout",
     "output_type": "stream",
     "text": [
      "mean_val $-0.5479961237870157, less than best -0.06197773676831275\n"
     ]
    },
    {
     "name": "stdout",
     "output_type": "stream",
     "text": [
      "mean_val $-0.5562099060043693, less than best -0.06197773676831275\n"
     ]
    },
    {
     "name": "stdout",
     "output_type": "stream",
     "text": [
      "mean_val $-0.5347268916666508, less than best -0.06197773676831275\n"
     ]
    },
    {
     "name": "stdout",
     "output_type": "stream",
     "text": [
      "mean_val $-0.52580535877496, less than best -0.06197773676831275\n"
     ]
    },
    {
     "name": "stdout",
     "output_type": "stream",
     "text": [
      "mean_val $-0.527734749019146, less than best -0.06197773676831275\n"
     ]
    },
    {
     "name": "stdout",
     "output_type": "stream",
     "text": [
      "mean_val $-0.533217357005924, less than best -0.06197773676831275\n"
     ]
    },
    {
     "name": "stdout",
     "output_type": "stream",
     "text": [
      "mean_val $-0.5014846106059849, less than best -0.06197773676831275\n"
     ]
    },
    {
     "name": "stdout",
     "output_type": "stream",
     "text": [
      "mean_val $-0.49462484614923596, less than best -0.06197773676831275\n"
     ]
    },
    {
     "name": "stdout",
     "output_type": "stream",
     "text": [
      "mean_val $-0.494599437341094, less than best -0.06197773676831275\n"
     ]
    },
    {
     "name": "stdout",
     "output_type": "stream",
     "text": [
      "mean_val $-0.49113920889794827, less than best -0.06197773676831275\n"
     ]
    },
    {
     "name": "stdout",
     "output_type": "stream",
     "text": [
      "mean_val $-0.47497384482994676, less than best -0.06197773676831275\n"
     ]
    },
    {
     "name": "stdout",
     "output_type": "stream",
     "text": [
      "mean_val $-0.48349957074970007, less than best -0.06197773676831275\n"
     ]
    },
    {
     "name": "stdout",
     "output_type": "stream",
     "text": [
      "mean_val $-0.48856264911592007, less than best -0.06197773676831275\n"
     ]
    }
   ],
   "source": [
    "net = models.DQNConv1DMarketWatch(env.observation_space.shape, env.action_space.n).to(device)\n",
    "tgt_net = ptan.agent.TargetNet(net)\n",
    "\n",
    "selector = ptan.actions.EpsilonGreedyActionSelector(EPS_START)\n",
    "eps_tracker = ptan.actions.EpsilonTracker(\n",
    "    selector, EPS_START, EPS_FINAL, EPS_STEPS)\n",
    "agent = ptan.agent.DQNAgent(net, selector, device=device, preprocessor=lambda x: common.state_preprocessor(x, device=device))\n",
    "exp_source = ptan.experience.ExperienceSourceFirstLast(\n",
    "    env, agent, GAMMA, steps_count=REWARD_STEPS)\n",
    "buffer = ptan.experience.ExperienceReplayBuffer(\n",
    "    exp_source, REPLAY_SIZE)\n",
    "optimizer = optim.Adam(net.parameters(), lr=LEARNING_RATE)\n",
    "\n",
    "\n",
    "def process_batch(engine, batch):\n",
    "    optimizer.zero_grad()\n",
    "    loss_v = common.calc_loss(\n",
    "        batch, net, tgt_net.target_model,\n",
    "        gamma=GAMMA ** REWARD_STEPS, device=device)\n",
    "    loss_v.backward()\n",
    "    optimizer.step()\n",
    "    eps_tracker.frame(engine.state.iteration)\n",
    "\n",
    "    if getattr(engine.state, \"eval_states\", None) is None:\n",
    "        eval_states = buffer.sample(STATES_TO_EVALUATE)\n",
    "        eval_states = [np.array(transition.state, copy=False)\n",
    "                       for transition in eval_states]\n",
    "        engine.state.eval_states = np.array(eval_states, copy=False)\n",
    "\n",
    "    return {\n",
    "        \"loss\": loss_v.item(),\n",
    "        \"epsilon\": selector.epsilon,\n",
    "    }\n",
    "\n",
    "\n",
    "engine = Engine(process_batch)\n",
    "tb = common.setup_ignite(engine, exp_source, f\"conv-{run}\",\n",
    "                         extra_metrics=('values_mean',))\n",
    "\n",
    "\n",
    "@engine.on(ptan.ignite.PeriodEvents.ITERS_10_COMPLETED)\n",
    "def sync_eval(engine: Engine):\n",
    "    tgt_net.sync()\n",
    "\n",
    "    mean_val = common.calc_values_of_states(\n",
    "        engine.state.eval_states, net, device=device)\n",
    "    engine.state.metrics[\"values_mean\"] = mean_val\n",
    "    is_first = False\n",
    "    if getattr(engine.state, \"best_mean_val\", None) is None:\n",
    "        engine.state.best_mean_val = mean_val\n",
    "        is_first = True\n",
    "\n",
    "    if engine.state.best_mean_val < mean_val or is_first:\n",
    "        print(\"%d: Best mean value updated %.3f -> %.3f\" % (\n",
    "            engine.state.iteration, engine.state.best_mean_val,\n",
    "            mean_val))\n",
    "        path = saves_path / (\"mean_value_%.3f.data\" % mean_val)\n",
    "        torch.save(net.state_dict(), path)\n",
    "        engine.state.best_mean_val = mean_val\n",
    "    else:\n",
    "        print(f'mean_val ${mean_val}, less than best {engine.state.best_mean_val}')\n",
    "\n",
    "def validate(engine: Engine):\n",
    "    res = validation.validation_run(env_tst, net, device=device)\n",
    "    print(\"%d: tst: %s\" % (engine.state.iteration, res))\n",
    "    for key, val in res.items():\n",
    "        engine.state.metrics[key + \"_tst\"] = val\n",
    "    res = validation.validation_run(env_val, net, device=device)\n",
    "    print(\"%d: val: %s\" % (engine.state.iteration, res))\n",
    "    for key, val in res.items():\n",
    "        engine.state.metrics[key + \"_val\"] = val\n",
    "    val_reward = res['episode_reward']\n",
    "    if getattr(engine.state, \"best_val_reward\", None) is None:\n",
    "        engine.state.best_val_reward = val_reward\n",
    "    if engine.state.best_val_reward < val_reward:\n",
    "        print(\"Best validation reward updated: %.3f -> %.3f, model saved\" % (\n",
    "            engine.state.best_val_reward, val_reward\n",
    "        ))\n",
    "        engine.state.best_val_reward = val_reward\n",
    "        path = saves_path / (\"val_reward-%.3f.data\" % val_reward)\n",
    "        torch.save(net.state_dict(), path)\n",
    "\n",
    "\n",
    "event = ptan.ignite.PeriodEvents.ITERS_100_COMPLETED\n",
    "tst_metrics = [m + \"_tst\" for m in validation.METRICS]\n",
    "tst_handler = tb_logger.OutputHandler(\n",
    "    tag=\"test\", metric_names=tst_metrics)\n",
    "tb.attach(engine, log_handler=tst_handler, event_name=event)\n",
    "\n",
    "val_metrics = [m + \"_val\" for m in validation.METRICS]\n",
    "val_handler = tb_logger.OutputHandler(\n",
    "    tag=\"validation\", metric_names=val_metrics)\n",
    "tb.attach(engine, log_handler=val_handler, event_name=event)\n",
    "\n",
    "engine.run(common.batch_generator(buffer, REPLAY_INITIAL, BATCH_SIZE))"
   ]
  },
  {
   "cell_type": "code",
   "execution_count": null,
   "id": "16999e32",
   "metadata": {
    "papermill": {
     "duration": null,
     "end_time": null,
     "exception": null,
     "start_time": null,
     "status": "pending"
    },
    "tags": []
   },
   "outputs": [],
   "source": []
  }
 ],
 "metadata": {
  "jupytext": {
   "cell_metadata_filter": "tags,-all",
   "executable": "/usr/bin/env python3",
   "main_language": "python",
   "notebook_metadata_filter": "-all",
   "text_representation": {
    "extension": ".py",
    "format_name": "percent"
   }
  },
  "kernelspec": {
   "display_name": "Python 3 (ipykernel)",
   "language": "python",
   "name": "python3"
  },
  "papermill": {
   "duration": null,
   "end_time": null,
   "exception": null,
   "input_path": "/tmp/tmpdasdtnq0.ipynb",
   "output_path": "/home/vgaurav/market_watch/output/notebooks/train_model.ipynb",
   "parameters": {
    "product": {
     "nb": "/home/vgaurav/market_watch/output/notebooks/train_model.ipynb"
    },
    "upstream": {
     "combine_fred_yahoo": {
      "data": "/home/vgaurav/market_watch/output/data/raw/fred_yahoo.xlsx",
      "nb": "/home/vgaurav/market_watch/output/notebooks/combine_fred_yahoo.ipynb"
     }
    }
   },
   "start_time": "2022-04-19T19:57:12.705982"
  }
 },
 "nbformat": 4,
 "nbformat_minor": 5
}