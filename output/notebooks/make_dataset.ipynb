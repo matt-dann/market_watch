{
 "cells": [
  {
   "cell_type": "code",
   "execution_count": 1,
   "id": "95745c02",
   "metadata": {
    "execution": {
     "iopub.execute_input": "2022-03-20T20:05:08.108209Z",
     "iopub.status.busy": "2022-03-20T20:05:08.107906Z",
     "iopub.status.idle": "2022-03-20T20:05:12.017701Z",
     "shell.execute_reply": "2022-03-20T20:05:12.016913Z"
    },
    "papermill": {
     "duration": 3.921054,
     "end_time": "2022-03-20T20:05:12.019866",
     "exception": false,
     "start_time": "2022-03-20T20:05:08.098812",
     "status": "completed"
    },
    "tags": []
   },
   "outputs": [],
   "source": [
    "# import click\n",
    "# import logging\n",
    "import pandas as pd\n",
    "from sklearn import datasets\n",
    "from pathlib import Path"
   ]
  },
  {
   "cell_type": "code",
   "execution_count": 2,
   "id": "ec0ec4f4",
   "metadata": {
    "execution": {
     "iopub.execute_input": "2022-03-20T20:05:12.030058Z",
     "iopub.status.busy": "2022-03-20T20:05:12.029848Z",
     "iopub.status.idle": "2022-03-20T20:05:12.032594Z",
     "shell.execute_reply": "2022-03-20T20:05:12.032009Z"
    },
    "lines_to_next_cell": 2,
    "papermill": {
     "duration": 0.009507,
     "end_time": "2022-03-20T20:05:12.034301",
     "exception": false,
     "start_time": "2022-03-20T20:05:12.024794",
     "status": "completed"
    },
    "tags": [
     "parameters"
    ]
   },
   "outputs": [],
   "source": [
    "# declare a list tasks whose products you want to use as inputs\n",
    "upstream = None\n"
   ]
  },
  {
   "cell_type": "code",
   "execution_count": 3,
   "id": "347ceffa",
   "metadata": {
    "execution": {
     "iopub.execute_input": "2022-03-20T20:05:12.043623Z",
     "iopub.status.busy": "2022-03-20T20:05:12.043432Z",
     "iopub.status.idle": "2022-03-20T20:05:12.046315Z",
     "shell.execute_reply": "2022-03-20T20:05:12.045709Z"
    },
    "papermill": {
     "duration": 0.008998,
     "end_time": "2022-03-20T20:05:12.047695",
     "exception": false,
     "start_time": "2022-03-20T20:05:12.038697",
     "status": "completed"
    },
    "tags": [
     "injected-parameters"
    ]
   },
   "outputs": [],
   "source": [
    "# Parameters\n",
    "product = {\n",
    "    \"nb\": \"/Users/aiujdm2/market_watch/output/notebooks/make_dataset.ipynb\",\n",
    "    \"data\": \"/Users/aiujdm2/market_watch/output/data/interim/iris.parquet\",\n",
    "}\n"
   ]
  },
  {
   "cell_type": "code",
   "execution_count": 4,
   "id": "8f177619",
   "metadata": {
    "execution": {
     "iopub.execute_input": "2022-03-20T20:05:12.055991Z",
     "iopub.status.busy": "2022-03-20T20:05:12.055756Z",
     "iopub.status.idle": "2022-03-20T20:05:12.059094Z",
     "shell.execute_reply": "2022-03-20T20:05:12.058637Z"
    },
    "papermill": {
     "duration": 0.009768,
     "end_time": "2022-03-20T20:05:12.061007",
     "exception": false,
     "start_time": "2022-03-20T20:05:12.051239",
     "status": "completed"
    },
    "tags": []
   },
   "outputs": [],
   "source": [
    "def make_dataset(product):\n",
    "\n",
    "    d = datasets.load_iris()\n",
    "    df = pd.DataFrame(d['data'])\n",
    "    df.columns = d['feature_names']\n",
    "    df['target'] = d['target']\n",
    "\n",
    "    Path(str(product['data'])).parent.mkdir(exist_ok=True, parents=True)\n",
    "\n",
    "    df.to_parquet(str(product['data']))"
   ]
  },
  {
   "cell_type": "code",
   "execution_count": 5,
   "id": "1fb2f750",
   "metadata": {
    "execution": {
     "iopub.execute_input": "2022-03-20T20:05:12.069012Z",
     "iopub.status.busy": "2022-03-20T20:05:12.068830Z",
     "iopub.status.idle": "2022-03-20T20:05:12.120718Z",
     "shell.execute_reply": "2022-03-20T20:05:12.120196Z"
    },
    "papermill": {
     "duration": 0.058113,
     "end_time": "2022-03-20T20:05:12.122639",
     "exception": false,
     "start_time": "2022-03-20T20:05:12.064526",
     "status": "completed"
    },
    "tags": []
   },
   "outputs": [],
   "source": [
    "make_dataset(product)"
   ]
  },
  {
   "cell_type": "markdown",
   "id": "869ed519",
   "metadata": {
    "papermill": {
     "duration": 0.004907,
     "end_time": "2022-03-20T20:05:12.132880",
     "exception": false,
     "start_time": "2022-03-20T20:05:12.127973",
     "status": "completed"
    },
    "tags": []
   },
   "source": [
    "\n",
    "@click.command()\n",
    "@click.argument('input_filepath', type=click.Path(exists=True))\n",
    "@click.argument('output_filepath', type=click.Path())\n",
    "def main(input_filepath, output_filepath):\n",
    "    \"\"\" Runs data processing scripts to turn raw data from (../raw) into\n",
    "        cleaned data ready to be analyzed (saved in ../processed).\n",
    "    \"\"\"\n",
    "    logger = logging.getLogger(__name__)\n",
    "    logger.info('making final data set from raw data')\n",
    "\n",
    "\n",
    "if __name__ == '__main__':\n",
    "    log_fmt = '%(asctime)s - %(name)s - %(levelname)s - %(message)s'\n",
    "    logging.basicConfig(level=logging.INFO, format=log_fmt)\n",
    "\n",
    "    # not used in this stub but often useful for finding various files\n",
    "    project_dir = Path(__file__).resolve().parents[2]\n",
    "\n",
    "    # find .env automagically by walking up directories until it's found, then\n",
    "    # load up the .env entries as environment variables\n",
    "    load_dotenv(find_dotenv())\n",
    "    make_dataset(product)\n",
    "\n",
    "    main()"
   ]
  }
 ],
 "metadata": {
  "jupytext": {
   "cell_metadata_filter": "tags,-all",
   "main_language": "python",
   "notebook_metadata_filter": "-all",
   "text_representation": {
    "extension": ".py",
    "format_name": "light"
   }
  },
  "kernelspec": {
   "display_name": "Python 3 (ipykernel)",
   "language": "python",
   "name": "python3"
  },
  "language_info": {
   "codemirror_mode": {
    "name": "ipython",
    "version": 3
   },
   "file_extension": ".py",
   "mimetype": "text/x-python",
   "name": "python",
   "nbconvert_exporter": "python",
   "pygments_lexer": "ipython3",
   "version": "3.9.10"
  },
  "papermill": {
   "duration": 5.291314,
   "end_time": "2022-03-20T20:05:12.457388",
   "exception": null,
   "input_path": "/var/folders/b0/4tc1nfbd6z7_vhx4nxcj2n91c0l9h6/T/tmp9svk34nz.ipynb",
   "output_path": "/Users/aiujdm2/market_watch/output/notebooks/make_dataset.ipynb",
   "parameters": {
    "product": {
     "data": "/Users/aiujdm2/market_watch/output/data/interim/iris.parquet",
     "nb": "/Users/aiujdm2/market_watch/output/notebooks/make_dataset.ipynb"
    }
   },
   "start_time": "2022-03-20T20:05:07.166074"
  }
 },
 "nbformat": 4,
 "nbformat_minor": 5
}