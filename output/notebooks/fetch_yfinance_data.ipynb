{
 "cells": [
  {
   "cell_type": "code",
   "execution_count": 1,
   "id": "4721203e",
   "metadata": {
    "execution": {
     "iopub.execute_input": "2022-04-18T16:13:03.212515Z",
     "iopub.status.busy": "2022-04-18T16:13:03.212227Z",
     "iopub.status.idle": "2022-04-18T16:13:03.220171Z",
     "shell.execute_reply": "2022-04-18T16:13:03.219563Z"
    },
    "lines_to_next_cell": 2,
    "papermill": {
     "duration": 0.021824,
     "end_time": "2022-04-18T16:13:03.222243",
     "exception": false,
     "start_time": "2022-04-18T16:13:03.200419",
     "status": "completed"
    },
    "tags": [
     "parameters"
    ]
   },
   "outputs": [],
   "source": [
    "# If this task has dependencies, list them them here\n",
    "# (e.g. upstream = ['some_task']), otherwise leave as None.\n",
    "upstream = ['total_org_count']\n",
    "\n",
    "# This is a placeholder, leave it as None\n",
    "product = None"
   ]
  },
  {
   "cell_type": "code",
   "execution_count": 2,
   "id": "d54cd35f",
   "metadata": {
    "execution": {
     "iopub.execute_input": "2022-04-18T16:13:03.240375Z",
     "iopub.status.busy": "2022-04-18T16:13:03.240165Z",
     "iopub.status.idle": "2022-04-18T16:13:03.244069Z",
     "shell.execute_reply": "2022-04-18T16:13:03.243538Z"
    },
    "papermill": {
     "duration": 0.014529,
     "end_time": "2022-04-18T16:13:03.245851",
     "exception": false,
     "start_time": "2022-04-18T16:13:03.231322",
     "status": "completed"
    },
    "tags": [
     "injected-parameters"
    ]
   },
   "outputs": [],
   "source": [
    "# Parameters\n",
    "sample_pct = 1\n",
    "rolling_window = 120\n",
    "yahoo_fields = [\"Open\", \"Close\", \"High\", \"Low\", \"Volume\"]\n",
    "snp_filter = False\n",
    "upstream = {\n",
    "    \"total_org_count\": {\n",
    "        \"nb\": \"/Users/aiujdm2/market_watch/output/notebooks/total_org_count.ipynb\",\n",
    "        \"data\": \"/Users/aiujdm2/market_watch/output/data/interim/total_org_counts.csv\",\n",
    "    }\n",
    "}\n",
    "product = {\n",
    "    \"nb\": \"/Users/aiujdm2/market_watch/output/notebooks/fetch_yfinance_data.ipynb\",\n",
    "    \"data\": \"/Users/aiujdm2/market_watch/output/data/raw/yfinance_ticker_data-raw.xlsx\",\n",
    "}\n"
   ]
  },
  {
   "cell_type": "code",
   "execution_count": 3,
   "id": "8214a401",
   "metadata": {
    "execution": {
     "iopub.execute_input": "2022-04-18T16:13:03.261759Z",
     "iopub.status.busy": "2022-04-18T16:13:03.261556Z",
     "iopub.status.idle": "2022-04-18T16:13:03.998691Z",
     "shell.execute_reply": "2022-04-18T16:13:03.998115Z"
    },
    "lines_to_next_cell": 2,
    "papermill": {
     "duration": 0.747136,
     "end_time": "2022-04-18T16:13:04.000505",
     "exception": false,
     "start_time": "2022-04-18T16:13:03.253369",
     "status": "completed"
    },
    "tags": []
   },
   "outputs": [],
   "source": [
    "# your code here...\n",
    "import yfinance as yf\n",
    "import pandas as pd\n",
    "from src import utils\n",
    "from tqdm import tqdm\n",
    "import time\n",
    "from pathlib import Path\n",
    "\n",
    "pd.set_option('display.float_format',  '{:,.2f}'.format)"
   ]
  },
  {
   "cell_type": "code",
   "execution_count": 4,
   "id": "de4e8434",
   "metadata": {
    "execution": {
     "iopub.execute_input": "2022-04-18T16:13:04.015211Z",
     "iopub.status.busy": "2022-04-18T16:13:04.015009Z",
     "iopub.status.idle": "2022-04-18T16:13:04.025175Z",
     "shell.execute_reply": "2022-04-18T16:13:04.024660Z"
    },
    "papermill": {
     "duration": 0.019305,
     "end_time": "2022-04-18T16:13:04.027195",
     "exception": false,
     "start_time": "2022-04-18T16:13:04.007890",
     "status": "completed"
    },
    "tags": []
   },
   "outputs": [
    {
     "name": "stdout",
     "output_type": "stream",
     "text": [
      "<class 'pandas.core.frame.DataFrame'>\n",
      "Index: 395 entries, lithium americas to codexis\n",
      "Data columns (total 2 columns):\n",
      " #   Column  Non-Null Count  Dtype \n",
      "---  ------  --------------  ----- \n",
      " 0   count   395 non-null    int64 \n",
      " 1   ticker  395 non-null    object\n",
      "dtypes: int64(1), object(1)\n",
      "memory usage: 9.3+ KB\n"
     ]
    }
   ],
   "source": [
    "securities_file_path = upstream['total_org_count']['data']\n",
    "\n",
    "securities_df = pd.read_csv(securities_file_path, index_col=0)\n",
    "securities_df.info()"
   ]
  },
  {
   "cell_type": "code",
   "execution_count": 5,
   "id": "0f897e8f",
   "metadata": {
    "execution": {
     "iopub.execute_input": "2022-04-18T16:13:04.041089Z",
     "iopub.status.busy": "2022-04-18T16:13:04.040894Z",
     "iopub.status.idle": "2022-04-18T16:13:04.043791Z",
     "shell.execute_reply": "2022-04-18T16:13:04.043255Z"
    },
    "papermill": {
     "duration": 0.011851,
     "end_time": "2022-04-18T16:13:04.045613",
     "exception": false,
     "start_time": "2022-04-18T16:13:04.033762",
     "status": "completed"
    },
    "tags": []
   },
   "outputs": [],
   "source": [
    "ticker_names = securities_df.ticker.to_list()"
   ]
  },
  {
   "cell_type": "code",
   "execution_count": 6,
   "id": "5a9870d7",
   "metadata": {
    "execution": {
     "iopub.execute_input": "2022-04-18T16:13:04.059428Z",
     "iopub.status.busy": "2022-04-18T16:13:04.059275Z",
     "iopub.status.idle": "2022-04-18T16:13:04.062742Z",
     "shell.execute_reply": "2022-04-18T16:13:04.062201Z"
    },
    "papermill": {
     "duration": 0.012105,
     "end_time": "2022-04-18T16:13:04.064276",
     "exception": false,
     "start_time": "2022-04-18T16:13:04.052171",
     "status": "completed"
    },
    "tags": []
   },
   "outputs": [],
   "source": [
    "start_date = utils.get_start_date(rolling_window)\n",
    "start_date = utils.general_date_format(start_date)"
   ]
  },
  {
   "cell_type": "code",
   "execution_count": 7,
   "id": "20618d87",
   "metadata": {
    "execution": {
     "iopub.execute_input": "2022-04-18T16:13:04.078341Z",
     "iopub.status.busy": "2022-04-18T16:13:04.078189Z",
     "iopub.status.idle": "2022-04-18T16:13:14.702853Z",
     "shell.execute_reply": "2022-04-18T16:13:14.701926Z"
    },
    "lines_to_next_cell": 2,
    "papermill": {
     "duration": 10.634671,
     "end_time": "2022-04-18T16:13:14.705495",
     "exception": false,
     "start_time": "2022-04-18T16:13:04.070824",
     "status": "completed"
    },
    "tags": []
   },
   "outputs": [
    {
     "name": "stdout",
     "output_type": "stream",
     "text": [
      "\r",
      "[                       0%                       ]\r",
      "[                       0%                       ]"
     ]
    },
    {
     "name": "stdout",
     "output_type": "stream",
     "text": [
      "\r",
      "[                       0%                       ]\r",
      "[                       0%                       ]\r",
      "[                       0%                       ]\r",
      "[                       0%                       ]\r",
      "[                       0%                       ]"
     ]
    },
    {
     "name": "stdout",
     "output_type": "stream",
     "text": [
      "\r",
      "[                       0%                       ]"
     ]
    },
    {
     "name": "stdout",
     "output_type": "stream",
     "text": [
      "\r",
      "[*                      2%                       ]  9 of 395 completed\r",
      "[*                      2%                       ]  9 of 395 completed\r",
      "[*                      2%                       ]  9 of 395 completed"
     ]
    },
    {
     "name": "stdout",
     "output_type": "stream",
     "text": [
      "\r",
      "[*                      3%                       ]  12 of 395 completed"
     ]
    },
    {
     "name": "stdout",
     "output_type": "stream",
     "text": [
      "\r",
      "[*                      3%                       ]  13 of 395 completed"
     ]
    },
    {
     "name": "stdout",
     "output_type": "stream",
     "text": [
      "\r",
      "[**                     4%                       ]  14 of 395 completed\r",
      "[**                     4%                       ]  14 of 395 completed\r",
      "[**                     4%                       ]  14 of 395 completed"
     ]
    },
    {
     "name": "stdout",
     "output_type": "stream",
     "text": [
      "\r",
      "[**                     4%                       ]  17 of 395 completed"
     ]
    },
    {
     "name": "stdout",
     "output_type": "stream",
     "text": [
      "\r",
      "[**                     4%                       ]  17 of 395 completed"
     ]
    },
    {
     "name": "stdout",
     "output_type": "stream",
     "text": [
      "\r",
      "[**                     5%                       ]  19 of 395 completed\r",
      "[**                     5%                       ]  20 of 395 completed\r",
      "[**                     5%                       ]  20 of 395 completed"
     ]
    },
    {
     "name": "stdout",
     "output_type": "stream",
     "text": [
      "\r",
      "[**                     5%                       ]  20 of 395 completed"
     ]
    },
    {
     "name": "stdout",
     "output_type": "stream",
     "text": [
      "\r",
      "[***                    6%                       ]  23 of 395 completed"
     ]
    },
    {
     "name": "stdout",
     "output_type": "stream",
     "text": [
      "\r",
      "[***                    6%                       ]  24 of 395 completed"
     ]
    },
    {
     "name": "stdout",
     "output_type": "stream",
     "text": [
      "\r",
      "[***                    6%                       ]  25 of 395 completed\r",
      "[***                    6%                       ]  25 of 395 completed"
     ]
    },
    {
     "name": "stdout",
     "output_type": "stream",
     "text": [
      "\r",
      "[***                    7%                       ]  27 of 395 completed"
     ]
    },
    {
     "name": "stdout",
     "output_type": "stream",
     "text": [
      "\r",
      "[***                    7%                       ]  28 of 395 completed"
     ]
    },
    {
     "name": "stdout",
     "output_type": "stream",
     "text": [
      "\r",
      "[***                    7%                       ]  29 of 395 completed"
     ]
    },
    {
     "name": "stdout",
     "output_type": "stream",
     "text": [
      "\r",
      "[****                   8%                       ]  30 of 395 completed"
     ]
    },
    {
     "name": "stdout",
     "output_type": "stream",
     "text": [
      "\r",
      "[****                   8%                       ]  31 of 395 completed"
     ]
    },
    {
     "name": "stdout",
     "output_type": "stream",
     "text": [
      "\r",
      "[****                   8%                       ]  31 of 395 completed\r",
      "[****                   8%                       ]  33 of 395 completed"
     ]
    },
    {
     "name": "stdout",
     "output_type": "stream",
     "text": [
      "\r",
      "[****                   8%                       ]  33 of 395 completed"
     ]
    },
    {
     "name": "stdout",
     "output_type": "stream",
     "text": [
      "\r",
      "[****                   9%                       ]  35 of 395 completed"
     ]
    },
    {
     "name": "stdout",
     "output_type": "stream",
     "text": [
      "\r",
      "[****                   9%                       ]  36 of 395 completed"
     ]
    },
    {
     "name": "stdout",
     "output_type": "stream",
     "text": [
      "\r",
      "[****                   9%                       ]  37 of 395 completed"
     ]
    },
    {
     "name": "stdout",
     "output_type": "stream",
     "text": [
      "\r",
      "[*****                 10%                       ]  38 of 395 completed"
     ]
    },
    {
     "name": "stdout",
     "output_type": "stream",
     "text": [
      "\r",
      "[*****                 10%                       ]  39 of 395 completed"
     ]
    },
    {
     "name": "stdout",
     "output_type": "stream",
     "text": [
      "\r",
      "[*****                 10%                       ]  40 of 395 completed"
     ]
    },
    {
     "name": "stdout",
     "output_type": "stream",
     "text": [
      "\r",
      "[*****                 10%                       ]  41 of 395 completed\r",
      "[*****                 10%                       ]  41 of 395 completed\r",
      "[*****                 10%                       ]  41 of 395 completed\r",
      "[*****                 10%                       ]  41 of 395 completed"
     ]
    },
    {
     "name": "stdout",
     "output_type": "stream",
     "text": [
      "\r",
      "[*****                 11%                       ]  45 of 395 completed\r",
      "[*****                 11%                       ]  45 of 395 completed"
     ]
    },
    {
     "name": "stdout",
     "output_type": "stream",
     "text": [
      "\r",
      "[******                12%                       ]  47 of 395 completed"
     ]
    },
    {
     "name": "stdout",
     "output_type": "stream",
     "text": [
      "\r",
      "[******                12%                       ]  47 of 395 completed\r",
      "[******                12%                       ]  47 of 395 completed"
     ]
    },
    {
     "name": "stdout",
     "output_type": "stream",
     "text": [
      "\r",
      "[******                13%                       ]  50 of 395 completed"
     ]
    },
    {
     "name": "stdout",
     "output_type": "stream",
     "text": [
      "\r",
      "[******                13%                       ]  51 of 395 completed"
     ]
    },
    {
     "name": "stdout",
     "output_type": "stream",
     "text": [
      "\r",
      "[******                13%                       ]  52 of 395 completed\r",
      "[******                13%                       ]  52 of 395 completed"
     ]
    },
    {
     "name": "stdout",
     "output_type": "stream",
     "text": [
      "\r",
      "[******                13%                       ]  52 of 395 completed"
     ]
    },
    {
     "name": "stdout",
     "output_type": "stream",
     "text": [
      "\r",
      "[*******               14%                       ]  55 of 395 completed"
     ]
    },
    {
     "name": "stdout",
     "output_type": "stream",
     "text": [
      "\r",
      "[*******               14%                       ]  56 of 395 completed"
     ]
    },
    {
     "name": "stdout",
     "output_type": "stream",
     "text": [
      "\r",
      "[*******               14%                       ]  56 of 395 completed\r",
      "[*******               15%                       ]  58 of 395 completed"
     ]
    },
    {
     "name": "stdout",
     "output_type": "stream",
     "text": [
      "\r",
      "[*******               15%                       ]  58 of 395 completed"
     ]
    },
    {
     "name": "stdout",
     "output_type": "stream",
     "text": [
      "\r",
      "[*******               15%                       ]  60 of 395 completed\r",
      "[*******               15%                       ]  61 of 395 completed"
     ]
    },
    {
     "name": "stdout",
     "output_type": "stream",
     "text": [
      "\r",
      "[********              16%                       ]  62 of 395 completed\r",
      "[********              16%                       ]  62 of 395 completed"
     ]
    },
    {
     "name": "stdout",
     "output_type": "stream",
     "text": [
      "\r",
      "[********              16%                       ]  64 of 395 completed"
     ]
    },
    {
     "name": "stdout",
     "output_type": "stream",
     "text": [
      "\r",
      "[********              16%                       ]  65 of 395 completed"
     ]
    },
    {
     "name": "stdout",
     "output_type": "stream",
     "text": [
      "\r",
      "[********              16%                       ]  65 of 395 completed"
     ]
    },
    {
     "name": "stdout",
     "output_type": "stream",
     "text": [
      "\r",
      "[********              17%                       ]  67 of 395 completed"
     ]
    },
    {
     "name": "stdout",
     "output_type": "stream",
     "text": [
      "\r",
      "[********              17%                       ]  68 of 395 completed"
     ]
    },
    {
     "name": "stdout",
     "output_type": "stream",
     "text": [
      "\r",
      "[********              17%                       ]  69 of 395 completed\r",
      "[********              17%                       ]  69 of 395 completed"
     ]
    },
    {
     "name": "stdout",
     "output_type": "stream",
     "text": [
      "\r",
      "[********              17%                       ]  69 of 395 completed"
     ]
    },
    {
     "name": "stdout",
     "output_type": "stream",
     "text": [
      "\r",
      "[*********             18%                       ]  72 of 395 completed"
     ]
    },
    {
     "name": "stdout",
     "output_type": "stream",
     "text": [
      "\r",
      "[*********             18%                       ]  73 of 395 completed\r",
      "[*********             18%                       ]  73 of 395 completed\r",
      "[*********             18%                       ]  73 of 395 completed"
     ]
    },
    {
     "name": "stdout",
     "output_type": "stream",
     "text": [
      "\r",
      "[*********             19%                       ]  76 of 395 completed"
     ]
    },
    {
     "name": "stdout",
     "output_type": "stream",
     "text": [
      "\r",
      "[*********             19%                       ]  77 of 395 completed"
     ]
    },
    {
     "name": "stdout",
     "output_type": "stream",
     "text": [
      "\r",
      "[**********            20%                       ]  78 of 395 completed"
     ]
    },
    {
     "name": "stdout",
     "output_type": "stream",
     "text": [
      "\r",
      "[**********            20%                       ]  79 of 395 completed"
     ]
    },
    {
     "name": "stdout",
     "output_type": "stream",
     "text": [
      "\r",
      "[**********            20%                       ]  80 of 395 completed\r",
      "[**********            20%                       ]  80 of 395 completed"
     ]
    },
    {
     "name": "stdout",
     "output_type": "stream",
     "text": [
      "\r",
      "[**********            20%                       ]  80 of 395 completed"
     ]
    },
    {
     "name": "stdout",
     "output_type": "stream",
     "text": [
      "\r",
      "[**********            21%                       ]  83 of 395 completed"
     ]
    },
    {
     "name": "stdout",
     "output_type": "stream",
     "text": [
      "\r",
      "[**********            21%                       ]  84 of 395 completed"
     ]
    },
    {
     "name": "stdout",
     "output_type": "stream",
     "text": [
      "\r",
      "[**********            21%                       ]  84 of 395 completed\r",
      "[**********            21%                       ]  84 of 395 completed"
     ]
    },
    {
     "name": "stdout",
     "output_type": "stream",
     "text": [
      "\r",
      "[***********           22%                       ]  87 of 395 completed"
     ]
    },
    {
     "name": "stdout",
     "output_type": "stream",
     "text": [
      "\r",
      "[***********           22%                       ]  88 of 395 completed"
     ]
    },
    {
     "name": "stdout",
     "output_type": "stream",
     "text": [
      "\r",
      "[***********           23%                       ]  89 of 395 completed"
     ]
    },
    {
     "name": "stdout",
     "output_type": "stream",
     "text": [
      "\r",
      "[***********           23%                       ]  90 of 395 completed\r",
      "[***********           23%                       ]  90 of 395 completed"
     ]
    },
    {
     "name": "stdout",
     "output_type": "stream",
     "text": [
      "\r",
      "[***********           23%                       ]  90 of 395 completed\r",
      "[***********           23%                       ]  90 of 395 completed\r",
      "[***********           23%                       ]  90 of 395 completed"
     ]
    },
    {
     "name": "stdout",
     "output_type": "stream",
     "text": [
      "\r",
      "[************          24%                       ]  95 of 395 completed"
     ]
    },
    {
     "name": "stdout",
     "output_type": "stream",
     "text": [
      "\r",
      "[************          24%                       ]  95 of 395 completed"
     ]
    },
    {
     "name": "stdout",
     "output_type": "stream",
     "text": [
      "\r",
      "[************          25%                       ]  97 of 395 completed"
     ]
    },
    {
     "name": "stdout",
     "output_type": "stream",
     "text": [
      "\r",
      "[************          25%                       ]  98 of 395 completed"
     ]
    },
    {
     "name": "stdout",
     "output_type": "stream",
     "text": [
      "\r",
      "[************          25%                       ]  99 of 395 completed"
     ]
    },
    {
     "name": "stdout",
     "output_type": "stream",
     "text": [
      "\r",
      "[************          25%                       ]  99 of 395 completed"
     ]
    },
    {
     "name": "stdout",
     "output_type": "stream",
     "text": [
      "\r",
      "[************          26%                       ]  101 of 395 completed"
     ]
    },
    {
     "name": "stdout",
     "output_type": "stream",
     "text": [
      "\r",
      "[************          26%                       ]  102 of 395 completed"
     ]
    },
    {
     "name": "stdout",
     "output_type": "stream",
     "text": [
      "\r",
      "[************          26%                       ]  103 of 395 completed"
     ]
    },
    {
     "name": "stdout",
     "output_type": "stream",
     "text": [
      "\r",
      "[************          26%                       ]  104 of 395 completed\r",
      "[************          26%                       ]  104 of 395 completed"
     ]
    },
    {
     "name": "stdout",
     "output_type": "stream",
     "text": [
      "\r",
      "[************          26%                       ]  104 of 395 completed"
     ]
    },
    {
     "name": "stdout",
     "output_type": "stream",
     "text": [
      "\r",
      "[*************         27%                       ]  107 of 395 completed\r",
      "[*************         27%                       ]  107 of 395 completed"
     ]
    },
    {
     "name": "stdout",
     "output_type": "stream",
     "text": [
      "\r",
      "[*************         28%                       ]  109 of 395 completed"
     ]
    },
    {
     "name": "stdout",
     "output_type": "stream",
     "text": [
      "\r",
      "[*************         28%                       ]  109 of 395 completed"
     ]
    },
    {
     "name": "stdout",
     "output_type": "stream",
     "text": [
      "\r",
      "[*************         28%                       ]  111 of 395 completed\r",
      "[*************         28%                       ]  112 of 395 completed"
     ]
    },
    {
     "name": "stdout",
     "output_type": "stream",
     "text": [
      "\r",
      "[**************        29%                       ]  113 of 395 completed"
     ]
    },
    {
     "name": "stdout",
     "output_type": "stream",
     "text": [
      "\r",
      "[**************        29%                       ]  114 of 395 completed"
     ]
    },
    {
     "name": "stdout",
     "output_type": "stream",
     "text": [
      "\r",
      "[**************        29%                       ]  115 of 395 completed"
     ]
    },
    {
     "name": "stdout",
     "output_type": "stream",
     "text": [
      "\r",
      "[**************        29%                       ]  115 of 395 completed\r",
      "[**************        29%                       ]  115 of 395 completed"
     ]
    },
    {
     "name": "stdout",
     "output_type": "stream",
     "text": [
      "\r",
      "[**************        30%                       ]  118 of 395 completed"
     ]
    },
    {
     "name": "stdout",
     "output_type": "stream",
     "text": [
      "\r",
      "[**************        30%                       ]  119 of 395 completed\r",
      "[**************        30%                       ]  119 of 395 completed"
     ]
    },
    {
     "name": "stdout",
     "output_type": "stream",
     "text": [
      "\r",
      "[***************       31%                       ]  121 of 395 completed\r",
      "[***************       31%                       ]  121 of 395 completed\r",
      "[***************       31%                       ]  121 of 395 completed\r",
      "[***************       31%                       ]  121 of 395 completed"
     ]
    },
    {
     "name": "stdout",
     "output_type": "stream",
     "text": [
      "\r",
      "[***************       32%                       ]  125 of 395 completed"
     ]
    },
    {
     "name": "stdout",
     "output_type": "stream",
     "text": [
      "\r",
      "[***************       32%                       ]  126 of 395 completed"
     ]
    },
    {
     "name": "stdout",
     "output_type": "stream",
     "text": [
      "\r",
      "[***************       32%                       ]  127 of 395 completed"
     ]
    },
    {
     "name": "stdout",
     "output_type": "stream",
     "text": [
      "\r",
      "[***************       32%                       ]  127 of 395 completed\r",
      "[***************       32%                       ]  127 of 395 completed"
     ]
    },
    {
     "name": "stdout",
     "output_type": "stream",
     "text": [
      "\r",
      "[****************      33%                       ]  130 of 395 completed"
     ]
    },
    {
     "name": "stdout",
     "output_type": "stream",
     "text": [
      "\r",
      "[****************      33%                       ]  131 of 395 completed\r",
      "[****************      33%                       ]  131 of 395 completed\r",
      "[****************      33%                       ]  131 of 395 completed\r",
      "[****************      33%                       ]  131 of 395 completed\r",
      "[****************      33%                       ]  131 of 395 completed"
     ]
    },
    {
     "name": "stdout",
     "output_type": "stream",
     "text": [
      "\r",
      "[****************      34%                       ]  136 of 395 completed\r",
      "[****************      34%                       ]  136 of 395 completed"
     ]
    },
    {
     "name": "stdout",
     "output_type": "stream",
     "text": [
      "\r",
      "[*****************     35%                       ]  138 of 395 completed"
     ]
    },
    {
     "name": "stdout",
     "output_type": "stream",
     "text": [
      "\r",
      "[*****************     35%                       ]  139 of 395 completed"
     ]
    },
    {
     "name": "stdout",
     "output_type": "stream",
     "text": [
      "\r",
      "[*****************     35%                       ]  140 of 395 completed"
     ]
    },
    {
     "name": "stdout",
     "output_type": "stream",
     "text": [
      "\r",
      "[*****************     36%                       ]  141 of 395 completed"
     ]
    },
    {
     "name": "stdout",
     "output_type": "stream",
     "text": [
      "\r",
      "[*****************     36%                       ]  142 of 395 completed\r",
      "[*****************     36%                       ]  142 of 395 completed"
     ]
    },
    {
     "name": "stdout",
     "output_type": "stream",
     "text": [
      "\r",
      "[*****************     36%                       ]  142 of 395 completed"
     ]
    },
    {
     "name": "stdout",
     "output_type": "stream",
     "text": [
      "\r",
      "[******************    37%                       ]  145 of 395 completed"
     ]
    },
    {
     "name": "stdout",
     "output_type": "stream",
     "text": [
      "\r",
      "[******************    37%                       ]  146 of 395 completed"
     ]
    },
    {
     "name": "stdout",
     "output_type": "stream",
     "text": [
      "\r",
      "[******************    37%                       ]  147 of 395 completed\r",
      "[******************    37%                       ]  147 of 395 completed\r",
      "[******************    37%                       ]  147 of 395 completed\r",
      "[******************    37%                       ]  147 of 395 completed"
     ]
    },
    {
     "name": "stdout",
     "output_type": "stream",
     "text": [
      "\r",
      "[******************    38%                       ]  151 of 395 completed"
     ]
    },
    {
     "name": "stdout",
     "output_type": "stream",
     "text": [
      "\r",
      "[******************    38%                       ]  152 of 395 completed"
     ]
    },
    {
     "name": "stdout",
     "output_type": "stream",
     "text": [
      "\r",
      "[*******************   39%                       ]  153 of 395 completed"
     ]
    },
    {
     "name": "stdout",
     "output_type": "stream",
     "text": [
      "\r",
      "[*******************   39%                       ]  154 of 395 completed"
     ]
    },
    {
     "name": "stdout",
     "output_type": "stream",
     "text": [
      "\r",
      "[*******************   39%                       ]  155 of 395 completed"
     ]
    },
    {
     "name": "stdout",
     "output_type": "stream",
     "text": [
      "\r",
      "[*******************   39%                       ]  156 of 395 completed"
     ]
    },
    {
     "name": "stdout",
     "output_type": "stream",
     "text": [
      "\r",
      "[*******************   39%                       ]  156 of 395 completed"
     ]
    },
    {
     "name": "stdout",
     "output_type": "stream",
     "text": [
      "\r",
      "[*******************   40%                       ]  158 of 395 completed"
     ]
    },
    {
     "name": "stdout",
     "output_type": "stream",
     "text": [
      "\r",
      "[*******************   40%                       ]  159 of 395 completed"
     ]
    },
    {
     "name": "stdout",
     "output_type": "stream",
     "text": [
      "\r",
      "[*******************   40%                       ]  159 of 395 completed"
     ]
    },
    {
     "name": "stdout",
     "output_type": "stream",
     "text": [
      "\r",
      "[********************  41%                       ]  161 of 395 completed\r",
      "[********************  41%                       ]  161 of 395 completed"
     ]
    },
    {
     "name": "stdout",
     "output_type": "stream",
     "text": [
      "\r",
      "[********************  41%                       ]  163 of 395 completed"
     ]
    },
    {
     "name": "stdout",
     "output_type": "stream",
     "text": [
      "\r",
      "[********************  42%                       ]  164 of 395 completed"
     ]
    },
    {
     "name": "stdout",
     "output_type": "stream",
     "text": [
      "\r",
      "[********************  42%                       ]  165 of 395 completed"
     ]
    },
    {
     "name": "stdout",
     "output_type": "stream",
     "text": [
      "\r",
      "[********************  42%                       ]  166 of 395 completed"
     ]
    },
    {
     "name": "stdout",
     "output_type": "stream",
     "text": [
      "\r",
      "[********************  42%                       ]  167 of 395 completed"
     ]
    },
    {
     "name": "stdout",
     "output_type": "stream",
     "text": [
      "\r",
      "[********************* 43%                       ]  168 of 395 completed\r",
      "[********************* 43%                       ]  168 of 395 completed"
     ]
    },
    {
     "name": "stdout",
     "output_type": "stream",
     "text": [
      "\r",
      "[********************* 43%                       ]  170 of 395 completed"
     ]
    },
    {
     "name": "stdout",
     "output_type": "stream",
     "text": [
      "\r",
      "[********************* 43%                       ]  171 of 395 completed"
     ]
    },
    {
     "name": "stdout",
     "output_type": "stream",
     "text": [
      "\r",
      "[********************* 44%                       ]  172 of 395 completed\r",
      "[********************* 44%                       ]  172 of 395 completed"
     ]
    },
    {
     "name": "stdout",
     "output_type": "stream",
     "text": [
      "\r",
      "[********************* 44%                       ]  174 of 395 completed"
     ]
    },
    {
     "name": "stdout",
     "output_type": "stream",
     "text": [
      "\r",
      "[********************* 44%                       ]  175 of 395 completed\r",
      "[********************* 44%                       ]  175 of 395 completed"
     ]
    },
    {
     "name": "stdout",
     "output_type": "stream",
     "text": [
      "\r",
      "[********************* 44%                       ]  175 of 395 completed"
     ]
    },
    {
     "name": "stdout",
     "output_type": "stream",
     "text": [
      "\r",
      "[**********************45%                       ]  178 of 395 completed"
     ]
    },
    {
     "name": "stdout",
     "output_type": "stream",
     "text": [
      "\r",
      "[**********************45%                       ]  179 of 395 completed"
     ]
    },
    {
     "name": "stdout",
     "output_type": "stream",
     "text": [
      "\r",
      "[**********************46%                       ]  180 of 395 completed\r",
      "[**********************46%                       ]  180 of 395 completed"
     ]
    },
    {
     "name": "stdout",
     "output_type": "stream",
     "text": [
      "\r",
      "[**********************46%                       ]  180 of 395 completed\r",
      "[**********************46%                       ]  180 of 395 completed\r",
      "[**********************46%                       ]  180 of 395 completed\r",
      "[**********************46%                       ]  180 of 395 completed\r",
      "[**********************46%                       ]  180 of 395 completed"
     ]
    },
    {
     "name": "stdout",
     "output_type": "stream",
     "text": [
      "\r",
      "[**********************47%                       ]  187 of 395 completed"
     ]
    },
    {
     "name": "stdout",
     "output_type": "stream",
     "text": [
      "\r",
      "[**********************47%                       ]  187 of 395 completed\r",
      "[**********************47%                       ]  187 of 395 completed"
     ]
    },
    {
     "name": "stdout",
     "output_type": "stream",
     "text": [
      "\r",
      "[**********************48%                       ]  190 of 395 completed"
     ]
    },
    {
     "name": "stdout",
     "output_type": "stream",
     "text": [
      "\r",
      "[**********************48%                       ]  191 of 395 completed"
     ]
    },
    {
     "name": "stdout",
     "output_type": "stream",
     "text": [
      "\r",
      "[**********************48%                       ]  191 of 395 completed\r",
      "[**********************48%                       ]  191 of 395 completed"
     ]
    },
    {
     "name": "stdout",
     "output_type": "stream",
     "text": [
      "\r",
      "[**********************49%                       ]  194 of 395 completed\r",
      "[**********************49%                       ]  194 of 395 completed"
     ]
    },
    {
     "name": "stdout",
     "output_type": "stream",
     "text": [
      "\r",
      "[**********************50%                       ]  196 of 395 completed"
     ]
    },
    {
     "name": "stdout",
     "output_type": "stream",
     "text": [
      "\r",
      "[**********************50%                       ]  196 of 395 completed\r",
      "[**********************50%                       ]  196 of 395 completed\r",
      "[**********************50%                       ]  196 of 395 completed\r",
      "[**********************50%                       ]  196 of 395 completed"
     ]
    },
    {
     "name": "stdout",
     "output_type": "stream",
     "text": [
      "\r",
      "[**********************51%                       ]  201 of 395 completed\r",
      "[**********************51%                       ]  201 of 395 completed"
     ]
    },
    {
     "name": "stdout",
     "output_type": "stream",
     "text": [
      "\r",
      "[**********************51%                       ]  203 of 395 completed"
     ]
    },
    {
     "name": "stdout",
     "output_type": "stream",
     "text": [
      "\r",
      "[**********************51%                       ]  203 of 395 completed"
     ]
    },
    {
     "name": "stdout",
     "output_type": "stream",
     "text": [
      "\r",
      "[**********************52%                       ]  205 of 395 completed"
     ]
    },
    {
     "name": "stdout",
     "output_type": "stream",
     "text": [
      "\r",
      "[**********************52%                       ]  205 of 395 completed"
     ]
    },
    {
     "name": "stdout",
     "output_type": "stream",
     "text": [
      "\r",
      "[**********************52%                       ]  207 of 395 completed"
     ]
    },
    {
     "name": "stdout",
     "output_type": "stream",
     "text": [
      "\r",
      "[**********************53%                       ]  208 of 395 completed\r",
      "[**********************53%                       ]  208 of 395 completed"
     ]
    },
    {
     "name": "stdout",
     "output_type": "stream",
     "text": [
      "\r",
      "[**********************53%                       ]  210 of 395 completed"
     ]
    },
    {
     "name": "stdout",
     "output_type": "stream",
     "text": [
      "\r",
      "[**********************53%                       ]  210 of 395 completed\r",
      "[**********************53%                       ]  210 of 395 completed"
     ]
    },
    {
     "name": "stdout",
     "output_type": "stream",
     "text": [
      "\r",
      "[**********************54%*                      ]  213 of 395 completed"
     ]
    },
    {
     "name": "stdout",
     "output_type": "stream",
     "text": [
      "\r",
      "[**********************54%*                      ]  214 of 395 completed"
     ]
    },
    {
     "name": "stdout",
     "output_type": "stream",
     "text": [
      "\r",
      "[**********************54%*                      ]  215 of 395 completed"
     ]
    },
    {
     "name": "stdout",
     "output_type": "stream",
     "text": [
      "\r",
      "[**********************55%*                      ]  216 of 395 completed\r",
      "[**********************55%*                      ]  216 of 395 completed"
     ]
    },
    {
     "name": "stdout",
     "output_type": "stream",
     "text": [
      "\r",
      "[**********************55%*                      ]  218 of 395 completed"
     ]
    },
    {
     "name": "stdout",
     "output_type": "stream",
     "text": [
      "\r",
      "[**********************55%*                      ]  219 of 395 completed"
     ]
    },
    {
     "name": "stdout",
     "output_type": "stream",
     "text": [
      "\r",
      "[**********************56%**                     ]  220 of 395 completed"
     ]
    },
    {
     "name": "stdout",
     "output_type": "stream",
     "text": [
      "\r",
      "[**********************56%**                     ]  220 of 395 completed"
     ]
    },
    {
     "name": "stdout",
     "output_type": "stream",
     "text": [
      "\r",
      "[**********************56%**                     ]  222 of 395 completed"
     ]
    },
    {
     "name": "stdout",
     "output_type": "stream",
     "text": [
      "\r",
      "[**********************56%**                     ]  223 of 395 completed\r",
      "[**********************57%**                     ]  224 of 395 completed"
     ]
    },
    {
     "name": "stdout",
     "output_type": "stream",
     "text": [
      "\r",
      "[**********************57%**                     ]  224 of 395 completed"
     ]
    },
    {
     "name": "stdout",
     "output_type": "stream",
     "text": [
      "\r",
      "[**********************57%**                     ]  226 of 395 completed\r",
      "[**********************57%**                     ]  226 of 395 completed"
     ]
    },
    {
     "name": "stdout",
     "output_type": "stream",
     "text": [
      "\r",
      "[**********************58%***                    ]  228 of 395 completed"
     ]
    },
    {
     "name": "stdout",
     "output_type": "stream",
     "text": [
      "\r",
      "[**********************58%***                    ]  229 of 395 completed"
     ]
    },
    {
     "name": "stdout",
     "output_type": "stream",
     "text": [
      "\r",
      "[**********************58%***                    ]  230 of 395 completed"
     ]
    },
    {
     "name": "stdout",
     "output_type": "stream",
     "text": [
      "\r",
      "[**********************58%***                    ]  231 of 395 completed"
     ]
    },
    {
     "name": "stdout",
     "output_type": "stream",
     "text": [
      "\r",
      "[**********************59%***                    ]  232 of 395 completed"
     ]
    },
    {
     "name": "stdout",
     "output_type": "stream",
     "text": [
      "\r",
      "[**********************59%***                    ]  233 of 395 completed"
     ]
    },
    {
     "name": "stdout",
     "output_type": "stream",
     "text": [
      "\r",
      "[**********************59%***                    ]  234 of 395 completed\r",
      "[**********************59%***                    ]  234 of 395 completed"
     ]
    },
    {
     "name": "stdout",
     "output_type": "stream",
     "text": [
      "\r",
      "[**********************60%****                   ]  236 of 395 completed\r",
      "[**********************60%****                   ]  236 of 395 completed"
     ]
    },
    {
     "name": "stdout",
     "output_type": "stream",
     "text": [
      "\r",
      "[**********************60%****                   ]  236 of 395 completed"
     ]
    },
    {
     "name": "stdout",
     "output_type": "stream",
     "text": [
      "\r",
      "[**********************61%****                   ]  239 of 395 completed"
     ]
    },
    {
     "name": "stdout",
     "output_type": "stream",
     "text": [
      "\r",
      "[**********************61%****                   ]  240 of 395 completed"
     ]
    },
    {
     "name": "stdout",
     "output_type": "stream",
     "text": [
      "\r",
      "[**********************61%****                   ]  241 of 395 completed"
     ]
    },
    {
     "name": "stdout",
     "output_type": "stream",
     "text": [
      "\r",
      "[**********************61%****                   ]  242 of 395 completed"
     ]
    },
    {
     "name": "stdout",
     "output_type": "stream",
     "text": [
      "\r",
      "[**********************62%*****                  ]  243 of 395 completed"
     ]
    },
    {
     "name": "stdout",
     "output_type": "stream",
     "text": [
      "\r",
      "[**********************62%*****                  ]  244 of 395 completed"
     ]
    },
    {
     "name": "stdout",
     "output_type": "stream",
     "text": [
      "\r",
      "[**********************62%*****                  ]  245 of 395 completed"
     ]
    },
    {
     "name": "stdout",
     "output_type": "stream",
     "text": [
      "\r",
      "[**********************62%*****                  ]  246 of 395 completed"
     ]
    },
    {
     "name": "stdout",
     "output_type": "stream",
     "text": [
      "\r",
      "[**********************63%*****                  ]  247 of 395 completed\r",
      "[**********************63%*****                  ]  247 of 395 completed"
     ]
    },
    {
     "name": "stdout",
     "output_type": "stream",
     "text": [
      "\r",
      "[**********************63%*****                  ]  247 of 395 completed"
     ]
    },
    {
     "name": "stdout",
     "output_type": "stream",
     "text": [
      "\r",
      "[**********************63%*****                  ]  250 of 395 completed"
     ]
    },
    {
     "name": "stdout",
     "output_type": "stream",
     "text": [
      "\r",
      "[**********************64%******                 ]  251 of 395 completed"
     ]
    },
    {
     "name": "stdout",
     "output_type": "stream",
     "text": [
      "\r",
      "[**********************64%******                 ]  251 of 395 completed"
     ]
    },
    {
     "name": "stdout",
     "output_type": "stream",
     "text": [
      "\r",
      "[**********************64%******                 ]  253 of 395 completed"
     ]
    },
    {
     "name": "stdout",
     "output_type": "stream",
     "text": [
      "\r",
      "[**********************64%******                 ]  253 of 395 completed"
     ]
    },
    {
     "name": "stdout",
     "output_type": "stream",
     "text": [
      "\r",
      "[**********************65%******                 ]  255 of 395 completed"
     ]
    },
    {
     "name": "stdout",
     "output_type": "stream",
     "text": [
      "\r",
      "[**********************65%******                 ]  256 of 395 completed"
     ]
    },
    {
     "name": "stdout",
     "output_type": "stream",
     "text": [
      "\r",
      "[**********************65%******                 ]  257 of 395 completed"
     ]
    },
    {
     "name": "stdout",
     "output_type": "stream",
     "text": [
      "\r",
      "[**********************65%******                 ]  258 of 395 completed"
     ]
    },
    {
     "name": "stdout",
     "output_type": "stream",
     "text": [
      "\r",
      "[**********************66%*******                ]  259 of 395 completed\r",
      "[**********************66%*******                ]  259 of 395 completed\r",
      "[**********************66%*******                ]  259 of 395 completed"
     ]
    },
    {
     "name": "stdout",
     "output_type": "stream",
     "text": [
      "\r",
      "[**********************66%*******                ]  262 of 395 completed"
     ]
    },
    {
     "name": "stdout",
     "output_type": "stream",
     "text": [
      "\r",
      "[**********************67%*******                ]  263 of 395 completed"
     ]
    },
    {
     "name": "stdout",
     "output_type": "stream",
     "text": [
      "\r",
      "[**********************67%*******                ]  263 of 395 completed"
     ]
    },
    {
     "name": "stdout",
     "output_type": "stream",
     "text": [
      "\r",
      "[**********************67%*******                ]  265 of 395 completed"
     ]
    },
    {
     "name": "stdout",
     "output_type": "stream",
     "text": [
      "\r",
      "[**********************67%*******                ]  265 of 395 completed"
     ]
    },
    {
     "name": "stdout",
     "output_type": "stream",
     "text": [
      "\r",
      "[**********************68%********               ]  267 of 395 completed"
     ]
    },
    {
     "name": "stdout",
     "output_type": "stream",
     "text": [
      "\r",
      "[**********************68%********               ]  268 of 395 completed"
     ]
    },
    {
     "name": "stdout",
     "output_type": "stream",
     "text": [
      "\r",
      "[**********************68%********               ]  269 of 395 completed"
     ]
    },
    {
     "name": "stdout",
     "output_type": "stream",
     "text": [
      "\r",
      "[**********************68%********               ]  270 of 395 completed"
     ]
    },
    {
     "name": "stdout",
     "output_type": "stream",
     "text": [
      "\r",
      "[**********************69%********               ]  271 of 395 completed\r",
      "[**********************69%********               ]  271 of 395 completed"
     ]
    },
    {
     "name": "stdout",
     "output_type": "stream",
     "text": [
      "\r",
      "[**********************69%********               ]  271 of 395 completed"
     ]
    },
    {
     "name": "stdout",
     "output_type": "stream",
     "text": [
      "\r",
      "[**********************69%********               ]  274 of 395 completed\r",
      "[**********************70%*********              ]  275 of 395 completed\r",
      "[**********************70%*********              ]  275 of 395 completed\r",
      "[**********************70%*********              ]  275 of 395 completed"
     ]
    },
    {
     "name": "stdout",
     "output_type": "stream",
     "text": [
      "\r",
      "[**********************70%*********              ]  278 of 395 completed"
     ]
    },
    {
     "name": "stdout",
     "output_type": "stream",
     "text": [
      "\r",
      "[**********************71%*********              ]  279 of 395 completed"
     ]
    },
    {
     "name": "stdout",
     "output_type": "stream",
     "text": [
      "\r",
      "[**********************71%*********              ]  280 of 395 completed"
     ]
    },
    {
     "name": "stdout",
     "output_type": "stream",
     "text": [
      "\r",
      "[**********************71%*********              ]  281 of 395 completed"
     ]
    },
    {
     "name": "stdout",
     "output_type": "stream",
     "text": [
      "\r",
      "[**********************71%*********              ]  282 of 395 completed\r",
      "[**********************71%*********              ]  282 of 395 completed\r",
      "[**********************71%*********              ]  282 of 395 completed"
     ]
    },
    {
     "name": "stdout",
     "output_type": "stream",
     "text": [
      "\r",
      "[**********************72%**********             ]  285 of 395 completed\r",
      "[**********************72%**********             ]  286 of 395 completed"
     ]
    },
    {
     "name": "stdout",
     "output_type": "stream",
     "text": [
      "\r",
      "[**********************72%**********             ]  286 of 395 completed"
     ]
    },
    {
     "name": "stdout",
     "output_type": "stream",
     "text": [
      "\r",
      "[**********************73%**********             ]  288 of 395 completed"
     ]
    },
    {
     "name": "stdout",
     "output_type": "stream",
     "text": [
      "\r",
      "[**********************73%**********             ]  288 of 395 completed\r",
      "[**********************73%**********             ]  288 of 395 completed"
     ]
    },
    {
     "name": "stdout",
     "output_type": "stream",
     "text": [
      "\r",
      "[**********************74%***********            ]  291 of 395 completed"
     ]
    },
    {
     "name": "stdout",
     "output_type": "stream",
     "text": [
      "\r",
      "[**********************74%***********            ]  292 of 395 completed"
     ]
    },
    {
     "name": "stdout",
     "output_type": "stream",
     "text": [
      "\r",
      "[**********************74%***********            ]  293 of 395 completed"
     ]
    },
    {
     "name": "stdout",
     "output_type": "stream",
     "text": [
      "\r",
      "[**********************74%***********            ]  294 of 395 completed"
     ]
    },
    {
     "name": "stdout",
     "output_type": "stream",
     "text": [
      "\r",
      "[**********************75%***********            ]  295 of 395 completed\r",
      "[**********************75%***********            ]  295 of 395 completed\r",
      "[**********************75%***********            ]  295 of 395 completed"
     ]
    },
    {
     "name": "stdout",
     "output_type": "stream",
     "text": [
      "\r",
      "[**********************75%***********            ]  295 of 395 completed"
     ]
    },
    {
     "name": "stdout",
     "output_type": "stream",
     "text": [
      "\r",
      "[**********************76%***********            ]  299 of 395 completed\r",
      "[**********************76%***********            ]  300 of 395 completed"
     ]
    },
    {
     "name": "stdout",
     "output_type": "stream",
     "text": [
      "\r",
      "[**********************76%***********            ]  300 of 395 completed\r",
      "[**********************76%***********            ]  300 of 395 completed\r",
      "[**********************76%***********            ]  300 of 395 completed"
     ]
    },
    {
     "name": "stdout",
     "output_type": "stream",
     "text": [
      "\r",
      "[**********************77%************           ]  304 of 395 completed"
     ]
    },
    {
     "name": "stdout",
     "output_type": "stream",
     "text": [
      "\r",
      "[**********************77%************           ]  305 of 395 completed"
     ]
    },
    {
     "name": "stdout",
     "output_type": "stream",
     "text": [
      "\r",
      "[**********************77%************           ]  306 of 395 completed"
     ]
    },
    {
     "name": "stdout",
     "output_type": "stream",
     "text": [
      "\r",
      "[**********************77%************           ]  306 of 395 completed\r",
      "[**********************77%************           ]  306 of 395 completed"
     ]
    },
    {
     "name": "stdout",
     "output_type": "stream",
     "text": [
      "\r",
      "[**********************78%************           ]  309 of 395 completed\r",
      "[**********************78%************           ]  309 of 395 completed\r",
      "[**********************78%************           ]  309 of 395 completed"
     ]
    },
    {
     "name": "stdout",
     "output_type": "stream",
     "text": [
      "\r",
      "[**********************78%************           ]  309 of 395 completed"
     ]
    },
    {
     "name": "stdout",
     "output_type": "stream",
     "text": [
      "\r",
      "[**********************79%*************          ]  313 of 395 completed"
     ]
    },
    {
     "name": "stdout",
     "output_type": "stream",
     "text": [
      "\r",
      "[**********************79%*************          ]  314 of 395 completed\r",
      "[**********************79%*************          ]  314 of 395 completed"
     ]
    },
    {
     "name": "stdout",
     "output_type": "stream",
     "text": [
      "\r",
      "[**********************80%*************          ]  316 of 395 completed"
     ]
    },
    {
     "name": "stdout",
     "output_type": "stream",
     "text": [
      "\r",
      "[**********************80%*************          ]  317 of 395 completed"
     ]
    },
    {
     "name": "stdout",
     "output_type": "stream",
     "text": [
      "\r",
      "[**********************81%**************         ]  318 of 395 completed"
     ]
    },
    {
     "name": "stdout",
     "output_type": "stream",
     "text": [
      "\r",
      "[**********************81%**************         ]  319 of 395 completed"
     ]
    },
    {
     "name": "stdout",
     "output_type": "stream",
     "text": [
      "\r",
      "[**********************81%**************         ]  320 of 395 completed"
     ]
    },
    {
     "name": "stdout",
     "output_type": "stream",
     "text": [
      "\r",
      "[**********************81%**************         ]  320 of 395 completed"
     ]
    },
    {
     "name": "stdout",
     "output_type": "stream",
     "text": [
      "\r",
      "[**********************82%**************         ]  322 of 395 completed"
     ]
    },
    {
     "name": "stdout",
     "output_type": "stream",
     "text": [
      "\r",
      "[**********************82%**************         ]  322 of 395 completed\r",
      "[**********************82%**************         ]  322 of 395 completed"
     ]
    },
    {
     "name": "stdout",
     "output_type": "stream",
     "text": [
      "\r",
      "[**********************82%**************         ]  325 of 395 completed\r",
      "[**********************82%**************         ]  325 of 395 completed"
     ]
    },
    {
     "name": "stdout",
     "output_type": "stream",
     "text": [
      "\r",
      "[**********************83%***************        ]  327 of 395 completed\r",
      "[**********************83%***************        ]  327 of 395 completed"
     ]
    },
    {
     "name": "stdout",
     "output_type": "stream",
     "text": [
      "\r",
      "[**********************83%***************        ]  329 of 395 completed"
     ]
    },
    {
     "name": "stdout",
     "output_type": "stream",
     "text": [
      "\r",
      "[**********************84%***************        ]  330 of 395 completed"
     ]
    },
    {
     "name": "stdout",
     "output_type": "stream",
     "text": [
      "\r",
      "[**********************84%***************        ]  331 of 395 completed"
     ]
    },
    {
     "name": "stdout",
     "output_type": "stream",
     "text": [
      "\r",
      "[**********************84%***************        ]  331 of 395 completed"
     ]
    },
    {
     "name": "stdout",
     "output_type": "stream",
     "text": [
      "\r",
      "[**********************84%***************        ]  333 of 395 completed"
     ]
    },
    {
     "name": "stdout",
     "output_type": "stream",
     "text": [
      "\r",
      "[**********************84%***************        ]  333 of 395 completed\r",
      "[**********************85%****************       ]  335 of 395 completed\r",
      "[**********************85%****************       ]  335 of 395 completed\r",
      "[**********************85%****************       ]  335 of 395 completed\r",
      "[**********************85%****************       ]  335 of 395 completed"
     ]
    },
    {
     "name": "stdout",
     "output_type": "stream",
     "text": [
      "\r",
      "[**********************85%****************       ]  335 of 395 completed"
     ]
    },
    {
     "name": "stdout",
     "output_type": "stream",
     "text": [
      "\r",
      "[**********************86%****************       ]  340 of 395 completed"
     ]
    },
    {
     "name": "stdout",
     "output_type": "stream",
     "text": [
      "\r",
      "[**********************86%****************       ]  341 of 395 completed"
     ]
    },
    {
     "name": "stdout",
     "output_type": "stream",
     "text": [
      "\r",
      "[**********************87%*****************      ]  342 of 395 completed"
     ]
    },
    {
     "name": "stdout",
     "output_type": "stream",
     "text": [
      "\r",
      "[**********************87%*****************      ]  343 of 395 completed"
     ]
    },
    {
     "name": "stdout",
     "output_type": "stream",
     "text": [
      "\r",
      "[**********************87%*****************      ]  344 of 395 completed\r",
      "[**********************87%*****************      ]  344 of 395 completed"
     ]
    },
    {
     "name": "stdout",
     "output_type": "stream",
     "text": [
      "\r",
      "[**********************88%*****************      ]  346 of 395 completed"
     ]
    },
    {
     "name": "stdout",
     "output_type": "stream",
     "text": [
      "\r",
      "[**********************88%*****************      ]  347 of 395 completed"
     ]
    },
    {
     "name": "stdout",
     "output_type": "stream",
     "text": [
      "\r",
      "[**********************88%*****************      ]  348 of 395 completed"
     ]
    },
    {
     "name": "stdout",
     "output_type": "stream",
     "text": [
      "\r",
      "[**********************88%*****************      ]  349 of 395 completed"
     ]
    },
    {
     "name": "stdout",
     "output_type": "stream",
     "text": [
      "\r",
      "[**********************89%******************     ]  350 of 395 completed"
     ]
    },
    {
     "name": "stdout",
     "output_type": "stream",
     "text": [
      "\r",
      "[**********************89%******************     ]  351 of 395 completed"
     ]
    },
    {
     "name": "stdout",
     "output_type": "stream",
     "text": [
      "\r",
      "[**********************89%******************     ]  352 of 395 completed\r",
      "[**********************89%******************     ]  352 of 395 completed"
     ]
    },
    {
     "name": "stdout",
     "output_type": "stream",
     "text": [
      "\r",
      "[**********************90%******************     ]  354 of 395 completed"
     ]
    },
    {
     "name": "stdout",
     "output_type": "stream",
     "text": [
      "\r",
      "[**********************90%******************     ]  355 of 395 completed"
     ]
    },
    {
     "name": "stdout",
     "output_type": "stream",
     "text": [
      "\r",
      "[**********************90%******************     ]  356 of 395 completed"
     ]
    },
    {
     "name": "stdout",
     "output_type": "stream",
     "text": [
      "\r",
      "[**********************90%******************     ]  357 of 395 completed"
     ]
    },
    {
     "name": "stdout",
     "output_type": "stream",
     "text": [
      "\r",
      "[**********************91%*******************    ]  358 of 395 completed"
     ]
    },
    {
     "name": "stdout",
     "output_type": "stream",
     "text": [
      "\r",
      "[**********************91%*******************    ]  359 of 395 completed"
     ]
    },
    {
     "name": "stdout",
     "output_type": "stream",
     "text": [
      "\r",
      "[**********************91%*******************    ]  360 of 395 completed"
     ]
    },
    {
     "name": "stdout",
     "output_type": "stream",
     "text": [
      "\r",
      "[**********************91%*******************    ]  361 of 395 completed"
     ]
    },
    {
     "name": "stdout",
     "output_type": "stream",
     "text": [
      "\r",
      "[**********************92%*******************    ]  362 of 395 completed"
     ]
    },
    {
     "name": "stdout",
     "output_type": "stream",
     "text": [
      "\r",
      "[**********************92%*******************    ]  363 of 395 completed"
     ]
    },
    {
     "name": "stdout",
     "output_type": "stream",
     "text": [
      "\r",
      "[**********************92%*******************    ]  364 of 395 completed"
     ]
    },
    {
     "name": "stdout",
     "output_type": "stream",
     "text": [
      "\r",
      "[**********************92%*******************    ]  365 of 395 completed"
     ]
    },
    {
     "name": "stdout",
     "output_type": "stream",
     "text": [
      "\r",
      "[**********************93%********************   ]  366 of 395 completed"
     ]
    },
    {
     "name": "stdout",
     "output_type": "stream",
     "text": [
      "\r",
      "[**********************93%********************   ]  367 of 395 completed"
     ]
    },
    {
     "name": "stdout",
     "output_type": "stream",
     "text": [
      "\r",
      "[**********************93%********************   ]  368 of 395 completed\r",
      "[**********************93%********************   ]  368 of 395 completed"
     ]
    },
    {
     "name": "stdout",
     "output_type": "stream",
     "text": [
      "\r",
      "[**********************94%********************   ]  370 of 395 completed"
     ]
    },
    {
     "name": "stdout",
     "output_type": "stream",
     "text": [
      "\r",
      "[**********************94%********************   ]  371 of 395 completed"
     ]
    },
    {
     "name": "stdout",
     "output_type": "stream",
     "text": [
      "\r",
      "[**********************94%********************   ]  372 of 395 completed"
     ]
    },
    {
     "name": "stdout",
     "output_type": "stream",
     "text": [
      "\r",
      "[**********************94%********************   ]  373 of 395 completed"
     ]
    },
    {
     "name": "stdout",
     "output_type": "stream",
     "text": [
      "\r",
      "[**********************95%*********************  ]  374 of 395 completed"
     ]
    },
    {
     "name": "stdout",
     "output_type": "stream",
     "text": [
      "\r",
      "[**********************95%*********************  ]  375 of 395 completed"
     ]
    },
    {
     "name": "stdout",
     "output_type": "stream",
     "text": [
      "\r",
      "[**********************95%*********************  ]  376 of 395 completed"
     ]
    },
    {
     "name": "stdout",
     "output_type": "stream",
     "text": [
      "\r",
      "[**********************95%*********************  ]  377 of 395 completed"
     ]
    },
    {
     "name": "stdout",
     "output_type": "stream",
     "text": [
      "\r",
      "[**********************96%*********************  ]  378 of 395 completed"
     ]
    },
    {
     "name": "stdout",
     "output_type": "stream",
     "text": [
      "\r",
      "[**********************96%*********************  ]  379 of 395 completed"
     ]
    },
    {
     "name": "stdout",
     "output_type": "stream",
     "text": [
      "\r",
      "[**********************96%*********************  ]  380 of 395 completed"
     ]
    },
    {
     "name": "stdout",
     "output_type": "stream",
     "text": [
      "\r",
      "[**********************96%*********************  ]  381 of 395 completed"
     ]
    },
    {
     "name": "stdout",
     "output_type": "stream",
     "text": [
      "\r",
      "[**********************97%********************** ]  382 of 395 completed"
     ]
    },
    {
     "name": "stdout",
     "output_type": "stream",
     "text": [
      "\r",
      "[**********************97%********************** ]  383 of 395 completed"
     ]
    },
    {
     "name": "stdout",
     "output_type": "stream",
     "text": [
      "\r",
      "[**********************97%********************** ]  383 of 395 completed"
     ]
    },
    {
     "name": "stdout",
     "output_type": "stream",
     "text": [
      "\r",
      "[**********************97%********************** ]  385 of 395 completed"
     ]
    },
    {
     "name": "stdout",
     "output_type": "stream",
     "text": [
      "\r",
      "[**********************98%********************** ]  386 of 395 completed"
     ]
    },
    {
     "name": "stdout",
     "output_type": "stream",
     "text": [
      "\r",
      "[**********************98%********************** ]  387 of 395 completed"
     ]
    },
    {
     "name": "stdout",
     "output_type": "stream",
     "text": [
      "\r",
      "[**********************98%********************** ]  388 of 395 completed"
     ]
    },
    {
     "name": "stdout",
     "output_type": "stream",
     "text": [
      "\r",
      "[**********************98%********************** ]  389 of 395 completed"
     ]
    },
    {
     "name": "stdout",
     "output_type": "stream",
     "text": [
      "\r",
      "[**********************99%***********************]  390 of 395 completed"
     ]
    },
    {
     "name": "stdout",
     "output_type": "stream",
     "text": [
      "\r",
      "[**********************99%***********************]  391 of 395 completed"
     ]
    },
    {
     "name": "stdout",
     "output_type": "stream",
     "text": [
      "\r",
      "[**********************99%***********************]  392 of 395 completed"
     ]
    },
    {
     "name": "stdout",
     "output_type": "stream",
     "text": [
      "\r",
      "[**********************99%***********************]  393 of 395 completed"
     ]
    },
    {
     "name": "stdout",
     "output_type": "stream",
     "text": [
      "\r",
      "[*********************100%***********************]  394 of 395 completed"
     ]
    },
    {
     "name": "stdout",
     "output_type": "stream",
     "text": [
      "\r",
      "[*********************100%***********************]  395 of 395 completed"
     ]
    },
    {
     "name": "stdout",
     "output_type": "stream",
     "text": [
      "\n",
      "\n",
      "20 Failed downloads:\n",
      "- GLXY: No data found, symbol may be delisted\n",
      "- WDS: No data found for this date range, symbol may be delisted\n",
      "- BLK: No data found for this date range, symbol may be delisted\n",
      "- DBI: No data found for this date range, symbol may be delisted\n",
      "- JEF: No data found for this date range, symbol may be delisted\n",
      "- WMT: No data found for this date range, symbol may be delisted\n",
      "- DUK: No data found for this date range, symbol may be delisted\n",
      "- NEE: No data found for this date range, symbol may be delisted\n",
      "- LNT: No data found for this date range, symbol may be delisted\n",
      "- NWL: No data found for this date range, symbol may be delisted\n",
      "- NLOK: No data found for this date range, symbol may be delisted\n",
      "- FICO: No data found for this date range, symbol may be delisted\n",
      "- VZ: No data found for this date range, symbol may be delisted\n",
      "- RL: No data found for this date range, symbol may be delisted\n",
      "- NGG: No data found for this date range, symbol may be delisted\n",
      "- ATVI: No data found for this date range, symbol may be delisted\n",
      "- SFDL: No data found for this date range, symbol may be delisted\n",
      "- TTM: No data found for this date range, symbol may be delisted\n",
      "- MCO: No data found for this date range, symbol may be delisted\n",
      "- TSN: No data found for this date range, symbol may be delisted\n"
     ]
    }
   ],
   "source": [
    "df= yf.download(ticker_names, start=start_date, threads=True, progress=True, timeout=1)"
   ]
  },
  {
   "cell_type": "code",
   "execution_count": 8,
   "id": "fe179162",
   "metadata": {
    "execution": {
     "iopub.execute_input": "2022-04-18T16:13:14.852174Z",
     "iopub.status.busy": "2022-04-18T16:13:14.851985Z",
     "iopub.status.idle": "2022-04-18T16:13:14.863151Z",
     "shell.execute_reply": "2022-04-18T16:13:14.862422Z"
    },
    "papermill": {
     "duration": 0.077912,
     "end_time": "2022-04-18T16:13:14.864816",
     "exception": false,
     "start_time": "2022-04-18T16:13:14.786904",
     "status": "completed"
    },
    "tags": []
   },
   "outputs": [],
   "source": [
    "df = df.sort_index()"
   ]
  },
  {
   "cell_type": "code",
   "execution_count": 9,
   "id": "0fd34b31",
   "metadata": {
    "execution": {
     "iopub.execute_input": "2022-04-18T16:13:14.993722Z",
     "iopub.status.busy": "2022-04-18T16:13:14.993537Z",
     "iopub.status.idle": "2022-04-18T16:13:15.326053Z",
     "shell.execute_reply": "2022-04-18T16:13:15.325549Z"
    },
    "papermill": {
     "duration": 0.399613,
     "end_time": "2022-04-18T16:13:15.327891",
     "exception": false,
     "start_time": "2022-04-18T16:13:14.928278",
     "status": "completed"
    },
    "tags": []
   },
   "outputs": [
    {
     "name": "stdout",
     "output_type": "stream",
     "text": [
      "Saved file /Users/aiujdm2/market_watch/output/data/raw/yfinance_all_ticker_data_Open-raw.csv\n",
      "Saved file /Users/aiujdm2/market_watch/output/data/raw/yfinance_all_ticker_data_Close-raw.csv\n",
      "Saved file /Users/aiujdm2/market_watch/output/data/raw/yfinance_all_ticker_data_High-raw.csv\n",
      "Saved file /Users/aiujdm2/market_watch/output/data/raw/yfinance_all_ticker_data_Low-raw.csv\n",
      "Saved file /Users/aiujdm2/market_watch/output/data/raw/yfinance_all_ticker_data_Volume-raw.csv\n"
     ]
    },
    {
     "name": "stdout",
     "output_type": "stream",
     "text": [
      "Saved file /Users/aiujdm2/market_watch/output/data/raw/yfinance_ticker_data-raw.xlsx\n"
     ]
    }
   ],
   "source": [
    "output_file_path = product['data']\n",
    "file_prefix = \"snp500\" if snp_filter == True else \"all\"\n",
    "\n",
    "parent_path = Path(output_file_path).parent\n",
    "\n",
    "for field in yahoo_fields:\n",
    "    file_path = str(parent_path) + f\"/yfinance_{file_prefix}_ticker_data_{field}-raw.csv\"\n",
    "    df[field].to_csv(file_path)\n",
    "    print(f\"Saved file {file_path}\")\n",
    "\n",
    "df.to_csv(output_file_path)\n",
    "print(f\"Saved file {output_file_path}\")  "
   ]
  },
  {
   "cell_type": "code",
   "execution_count": 10,
   "id": "56a1a3af",
   "metadata": {
    "execution": {
     "iopub.execute_input": "2022-04-18T16:13:15.457137Z",
     "iopub.status.busy": "2022-04-18T16:13:15.456947Z",
     "iopub.status.idle": "2022-04-18T16:13:18.136277Z",
     "shell.execute_reply": "2022-04-18T16:13:18.135844Z"
    },
    "papermill": {
     "duration": 2.746983,
     "end_time": "2022-04-18T16:13:18.137844",
     "exception": false,
     "start_time": "2022-04-18T16:13:15.390861",
     "status": "completed"
    },
    "tags": []
   },
   "outputs": [
    {
     "name": "stdout",
     "output_type": "stream",
     "text": [
      "Saved sheet Open\n"
     ]
    },
    {
     "name": "stdout",
     "output_type": "stream",
     "text": [
      "Saved sheet Close\n"
     ]
    },
    {
     "name": "stdout",
     "output_type": "stream",
     "text": [
      "Saved sheet High\n"
     ]
    },
    {
     "name": "stdout",
     "output_type": "stream",
     "text": [
      "Saved sheet Low\n",
      "Saved sheet Volume\n"
     ]
    },
    {
     "name": "stdout",
     "output_type": "stream",
     "text": [
      "Saved file /Users/aiujdm2/market_watch/output/data/raw/yfinance_ticker_data-raw.xlsx\n"
     ]
    }
   ],
   "source": [
    "with pd.ExcelWriter(output_file_path, engine='openpyxl') as writer:\n",
    "    for field in yahoo_fields:\n",
    "        df[field].to_excel(writer, sheet_name=field)\n",
    "        print(f\"Saved sheet {field}\")\n",
    "    \n",
    "print(f\"Saved file {output_file_path}\")"
   ]
  },
  {
   "cell_type": "code",
   "execution_count": 11,
   "id": "8dedce1f",
   "metadata": {
    "execution": {
     "iopub.execute_input": "2022-04-18T16:13:18.267213Z",
     "iopub.status.busy": "2022-04-18T16:13:18.266987Z",
     "iopub.status.idle": "2022-04-18T16:13:18.270087Z",
     "shell.execute_reply": "2022-04-18T16:13:18.269677Z"
    },
    "papermill": {
     "duration": 0.070125,
     "end_time": "2022-04-18T16:13:18.271549",
     "exception": false,
     "start_time": "2022-04-18T16:13:18.201424",
     "status": "completed"
    },
    "tags": []
   },
   "outputs": [],
   "source": [
    "del df, securities_df"
   ]
  },
  {
   "cell_type": "code",
   "execution_count": null,
   "id": "097c2e14",
   "metadata": {
    "papermill": {
     "duration": 0.064618,
     "end_time": "2022-04-18T16:13:18.400764",
     "exception": false,
     "start_time": "2022-04-18T16:13:18.336146",
     "status": "completed"
    },
    "tags": []
   },
   "outputs": [],
   "source": []
  }
 ],
 "metadata": {
  "jupytext": {
   "text_representation": {
    "extension": ".py",
    "format_name": "percent",
    "format_version": "1.3",
    "jupytext_version": "1.13.7"
   }
  },
  "kernelspec": {
   "display_name": "Python 3 (ipykernel)",
   "language": "python",
   "name": "python3"
  },
  "language_info": {
   "codemirror_mode": {
    "name": "ipython",
    "version": 3
   },
   "file_extension": ".py",
   "mimetype": "text/x-python",
   "name": "python",
   "nbconvert_exporter": "python",
   "pygments_lexer": "ipython3",
   "version": "3.9.10"
  },
  "papermill": {
   "duration": 19.161357,
   "end_time": "2022-04-18T16:13:21.343509",
   "exception": null,
   "input_path": "/var/folders/b0/4tc1nfbd6z7_vhx4nxcj2n91c0l9h6/T/tmpk6mke1op.ipynb",
   "output_path": "/Users/aiujdm2/market_watch/output/notebooks/fetch_yfinance_data.ipynb",
   "parameters": {
    "product": {
     "data": "/Users/aiujdm2/market_watch/output/data/raw/yfinance_ticker_data-raw.xlsx",
     "nb": "/Users/aiujdm2/market_watch/output/notebooks/fetch_yfinance_data.ipynb"
    },
    "rolling_window": 120,
    "sample_pct": 1,
    "snp_filter": false,
    "upstream": {
     "total_org_count": {
      "data": "/Users/aiujdm2/market_watch/output/data/interim/total_org_counts.csv",
      "nb": "/Users/aiujdm2/market_watch/output/notebooks/total_org_count.ipynb"
     }
    },
    "yahoo_fields": [
     "Open",
     "Close",
     "High",
     "Low",
     "Volume"
    ]
   },
   "start_time": "2022-04-18T16:13:02.182152"
  }
 },
 "nbformat": 4,
 "nbformat_minor": 5
}