{
 "cells": [
  {
   "cell_type": "code",
   "execution_count": 1,
   "id": "46d13998",
   "metadata": {
    "execution": {
     "iopub.execute_input": "2022-04-19T04:23:54.299726Z",
     "iopub.status.busy": "2022-04-19T04:23:54.299431Z",
     "iopub.status.idle": "2022-04-19T04:23:54.307348Z",
     "shell.execute_reply": "2022-04-19T04:23:54.306587Z"
    },
    "lines_to_next_cell": 2,
    "papermill": {
     "duration": 0.021711,
     "end_time": "2022-04-19T04:23:54.309371",
     "exception": false,
     "start_time": "2022-04-19T04:23:54.287660",
     "status": "completed"
    },
    "tags": [
     "parameters"
    ]
   },
   "outputs": [],
   "source": [
    "# If this task has dependencies, list them them here\n",
    "# (e.g. upstream = ['some_task']), otherwise leave as None.\n",
    "upstream = ['total_org_count']\n",
    "\n",
    "# This is a placeholder, leave it as None\n",
    "product = None"
   ]
  },
  {
   "cell_type": "code",
   "execution_count": 2,
   "id": "07547e07",
   "metadata": {
    "execution": {
     "iopub.execute_input": "2022-04-19T04:23:54.326596Z",
     "iopub.status.busy": "2022-04-19T04:23:54.326388Z",
     "iopub.status.idle": "2022-04-19T04:23:54.330149Z",
     "shell.execute_reply": "2022-04-19T04:23:54.329643Z"
    },
    "papermill": {
     "duration": 0.014144,
     "end_time": "2022-04-19T04:23:54.331914",
     "exception": false,
     "start_time": "2022-04-19T04:23:54.317770",
     "status": "completed"
    },
    "tags": [
     "injected-parameters"
    ]
   },
   "outputs": [],
   "source": [
    "# Parameters\n",
    "sample_pct = 1\n",
    "rolling_window = 120\n",
    "yahoo_fields = [\"Open\", \"Close\", \"High\", \"Low\", \"Volume\"]\n",
    "snp_filter = False\n",
    "upstream = {\n",
    "    \"total_org_count\": {\n",
    "        \"nb\": \"/Users/aiujdm2/market_watch/output/notebooks/total_org_count.ipynb\",\n",
    "        \"data\": \"/Users/aiujdm2/market_watch/output/data/interim/total_org_counts.csv\",\n",
    "    }\n",
    "}\n",
    "product = {\n",
    "    \"nb\": \"/Users/aiujdm2/market_watch/output/notebooks/fetch_yfinance_data.ipynb\",\n",
    "    \"data\": \"/Users/aiujdm2/market_watch/output/data/raw/yfinance_ticker_data-raw.xlsx\",\n",
    "}\n"
   ]
  },
  {
   "cell_type": "code",
   "execution_count": 3,
   "id": "41fce796",
   "metadata": {
    "execution": {
     "iopub.execute_input": "2022-04-19T04:23:54.347830Z",
     "iopub.status.busy": "2022-04-19T04:23:54.347616Z",
     "iopub.status.idle": "2022-04-19T04:23:55.082208Z",
     "shell.execute_reply": "2022-04-19T04:23:55.081127Z"
    },
    "lines_to_next_cell": 2,
    "papermill": {
     "duration": 0.744732,
     "end_time": "2022-04-19T04:23:55.084284",
     "exception": false,
     "start_time": "2022-04-19T04:23:54.339552",
     "status": "completed"
    },
    "tags": []
   },
   "outputs": [],
   "source": [
    "# your code here...\n",
    "import yfinance as yf\n",
    "import pandas as pd\n",
    "from src import utils\n",
    "from tqdm import tqdm\n",
    "import time\n",
    "from pathlib import Path\n",
    "\n",
    "pd.set_option('display.float_format',  '{:,.2f}'.format)"
   ]
  },
  {
   "cell_type": "code",
   "execution_count": 4,
   "id": "c741d242",
   "metadata": {
    "execution": {
     "iopub.execute_input": "2022-04-19T04:23:55.096836Z",
     "iopub.status.busy": "2022-04-19T04:23:55.096605Z",
     "iopub.status.idle": "2022-04-19T04:23:55.107414Z",
     "shell.execute_reply": "2022-04-19T04:23:55.106934Z"
    },
    "papermill": {
     "duration": 0.019036,
     "end_time": "2022-04-19T04:23:55.109207",
     "exception": false,
     "start_time": "2022-04-19T04:23:55.090171",
     "status": "completed"
    },
    "tags": []
   },
   "outputs": [
    {
     "name": "stdout",
     "output_type": "stream",
     "text": [
      "<class 'pandas.core.frame.DataFrame'>\n",
      "Index: 395 entries, lithium americas to codexis\n",
      "Data columns (total 2 columns):\n",
      " #   Column  Non-Null Count  Dtype \n",
      "---  ------  --------------  ----- \n",
      " 0   count   395 non-null    int64 \n",
      " 1   ticker  395 non-null    object\n",
      "dtypes: int64(1), object(1)\n",
      "memory usage: 9.3+ KB\n"
     ]
    }
   ],
   "source": [
    "securities_file_path = upstream['total_org_count']['data']\n",
    "\n",
    "securities_df = pd.read_csv(securities_file_path, index_col=0)\n",
    "securities_df.info()"
   ]
  },
  {
   "cell_type": "code",
   "execution_count": 5,
   "id": "fc2d2004",
   "metadata": {
    "execution": {
     "iopub.execute_input": "2022-04-19T04:23:55.124305Z",
     "iopub.status.busy": "2022-04-19T04:23:55.124116Z",
     "iopub.status.idle": "2022-04-19T04:23:55.126785Z",
     "shell.execute_reply": "2022-04-19T04:23:55.126386Z"
    },
    "papermill": {
     "duration": 0.012061,
     "end_time": "2022-04-19T04:23:55.128283",
     "exception": false,
     "start_time": "2022-04-19T04:23:55.116222",
     "status": "completed"
    },
    "tags": []
   },
   "outputs": [],
   "source": [
    "ticker_names = securities_df.ticker.to_list()"
   ]
  },
  {
   "cell_type": "code",
   "execution_count": 6,
   "id": "71bb33d4",
   "metadata": {
    "execution": {
     "iopub.execute_input": "2022-04-19T04:23:55.141980Z",
     "iopub.status.busy": "2022-04-19T04:23:55.141798Z",
     "iopub.status.idle": "2022-04-19T04:23:55.149082Z",
     "shell.execute_reply": "2022-04-19T04:23:55.148565Z"
    },
    "papermill": {
     "duration": 0.015976,
     "end_time": "2022-04-19T04:23:55.150722",
     "exception": false,
     "start_time": "2022-04-19T04:23:55.134746",
     "status": "completed"
    },
    "tags": []
   },
   "outputs": [],
   "source": [
    "start_date = utils.get_start_date(rolling_window)\n",
    "start_date = utils.general_date_format(start_date)"
   ]
  },
  {
   "cell_type": "code",
   "execution_count": 7,
   "id": "131468d5",
   "metadata": {
    "execution": {
     "iopub.execute_input": "2022-04-19T04:23:55.167095Z",
     "iopub.status.busy": "2022-04-19T04:23:55.166936Z",
     "iopub.status.idle": "2022-04-19T04:24:08.051855Z",
     "shell.execute_reply": "2022-04-19T04:24:08.050998Z"
    },
    "lines_to_next_cell": 2,
    "papermill": {
     "duration": 12.895406,
     "end_time": "2022-04-19T04:24:08.054012",
     "exception": false,
     "start_time": "2022-04-19T04:23:55.158606",
     "status": "completed"
    },
    "tags": []
   },
   "outputs": [
    {
     "name": "stdout",
     "output_type": "stream",
     "text": [
      "\r",
      "[                       0%                       ]"
     ]
    },
    {
     "name": "stdout",
     "output_type": "stream",
     "text": [
      "\r",
      "[                       0%                       ]\r",
      "[                       0%                       ]\r",
      "[                       0%                       ]\r",
      "[                       0%                       ]\r",
      "[                       0%                       ]\r",
      "[                       0%                       ]\r",
      "[                       0%                       ]\r",
      "[                       0%                       ]\r",
      "[                       0%                       ]\r",
      "[                       0%                       ]"
     ]
    },
    {
     "name": "stdout",
     "output_type": "stream",
     "text": [
      "\r",
      "[*                      3%                       ]  12 of 395 completed"
     ]
    },
    {
     "name": "stdout",
     "output_type": "stream",
     "text": [
      "\r",
      "[*                      3%                       ]  12 of 395 completed\r",
      "[*                      3%                       ]  12 of 395 completed\r",
      "[**                     4%                       ]  15 of 395 completed"
     ]
    },
    {
     "name": "stdout",
     "output_type": "stream",
     "text": [
      "\r",
      "[**                     4%                       ]  15 of 395 completed\r",
      "[**                     4%                       ]  17 of 395 completed\r",
      "[**                     4%                       ]  17 of 395 completed"
     ]
    },
    {
     "name": "stdout",
     "output_type": "stream",
     "text": [
      "\r",
      "[**                     5%                       ]  19 of 395 completed\r",
      "[**                     5%                       ]  19 of 395 completed\r",
      "[**                     5%                       ]  19 of 395 completed"
     ]
    },
    {
     "name": "stdout",
     "output_type": "stream",
     "text": [
      "\r",
      "[***                    6%                       ]  22 of 395 completed"
     ]
    },
    {
     "name": "stdout",
     "output_type": "stream",
     "text": [
      "\r",
      "[***                    6%                       ]  23 of 395 completed"
     ]
    },
    {
     "name": "stdout",
     "output_type": "stream",
     "text": [
      "\r",
      "[***                    6%                       ]  24 of 395 completed"
     ]
    },
    {
     "name": "stdout",
     "output_type": "stream",
     "text": [
      "\r",
      "[***                    6%                       ]  25 of 395 completed"
     ]
    },
    {
     "name": "stdout",
     "output_type": "stream",
     "text": [
      "\r",
      "[***                    7%                       ]  26 of 395 completed"
     ]
    },
    {
     "name": "stdout",
     "output_type": "stream",
     "text": [
      "\r",
      "[***                    7%                       ]  26 of 395 completed\r",
      "[***                    7%                       ]  26 of 395 completed\r",
      "[***                    7%                       ]  26 of 395 completed\r",
      "[***                    7%                       ]  26 of 395 completed\r",
      "[***                    7%                       ]  26 of 395 completed\r",
      "[***                    7%                       ]  26 of 395 completed"
     ]
    },
    {
     "name": "stdout",
     "output_type": "stream",
     "text": [
      "\r",
      "[***                    7%                       ]  26 of 395 completed"
     ]
    },
    {
     "name": "stdout",
     "output_type": "stream",
     "text": [
      "\r",
      "[****                   9%                       ]  34 of 395 completed"
     ]
    },
    {
     "name": "stdout",
     "output_type": "stream",
     "text": [
      "\r",
      "[****                   9%                       ]  35 of 395 completed"
     ]
    },
    {
     "name": "stdout",
     "output_type": "stream",
     "text": [
      "\r",
      "[****                   9%                       ]  36 of 395 completed"
     ]
    },
    {
     "name": "stdout",
     "output_type": "stream",
     "text": [
      "\r",
      "[****                   9%                       ]  37 of 395 completed"
     ]
    },
    {
     "name": "stdout",
     "output_type": "stream",
     "text": [
      "\r",
      "[*****                 10%                       ]  38 of 395 completed\r",
      "[*****                 10%                       ]  38 of 395 completed\r",
      "[*****                 10%                       ]  38 of 395 completed"
     ]
    },
    {
     "name": "stdout",
     "output_type": "stream",
     "text": [
      "\r",
      "[*****                 10%                       ]  38 of 395 completed\r",
      "[*****                 11%                       ]  42 of 395 completed\r",
      "[*****                 11%                       ]  42 of 395 completed\r",
      "[*****                 11%                       ]  42 of 395 completed\r",
      "[*****                 11%                       ]  42 of 395 completed"
     ]
    },
    {
     "name": "stdout",
     "output_type": "stream",
     "text": [
      "\r",
      "[******                12%                       ]  46 of 395 completed"
     ]
    },
    {
     "name": "stdout",
     "output_type": "stream",
     "text": [
      "\r",
      "[******                12%                       ]  46 of 395 completed"
     ]
    },
    {
     "name": "stdout",
     "output_type": "stream",
     "text": [
      "\r",
      "[******                12%                       ]  48 of 395 completed"
     ]
    },
    {
     "name": "stdout",
     "output_type": "stream",
     "text": [
      "\r",
      "[******                12%                       ]  49 of 395 completed"
     ]
    },
    {
     "name": "stdout",
     "output_type": "stream",
     "text": [
      "\r",
      "[******                13%                       ]  50 of 395 completed\r",
      "[******                13%                       ]  50 of 395 completed\r",
      "[******                13%                       ]  50 of 395 completed"
     ]
    },
    {
     "name": "stdout",
     "output_type": "stream",
     "text": [
      "\r",
      "[******                13%                       ]  53 of 395 completed\r",
      "[*******               14%                       ]  54 of 395 completed"
     ]
    },
    {
     "name": "stdout",
     "output_type": "stream",
     "text": [
      "\r",
      "[*******               14%                       ]  55 of 395 completed\r",
      "[*******               14%                       ]  55 of 395 completed"
     ]
    },
    {
     "name": "stdout",
     "output_type": "stream",
     "text": [
      "\r",
      "[*******               14%                       ]  57 of 395 completed"
     ]
    },
    {
     "name": "stdout",
     "output_type": "stream",
     "text": [
      "\r",
      "[*******               15%                       ]  58 of 395 completed\r",
      "[*******               15%                       ]  58 of 395 completed\r",
      "[*******               15%                       ]  58 of 395 completed"
     ]
    },
    {
     "name": "stdout",
     "output_type": "stream",
     "text": [
      "\r",
      "[*******               15%                       ]  58 of 395 completed"
     ]
    },
    {
     "name": "stdout",
     "output_type": "stream",
     "text": [
      "\r",
      "[********              16%                       ]  62 of 395 completed"
     ]
    },
    {
     "name": "stdout",
     "output_type": "stream",
     "text": [
      "\r",
      "[********              16%                       ]  62 of 395 completed\r",
      "[********              16%                       ]  64 of 395 completed"
     ]
    },
    {
     "name": "stdout",
     "output_type": "stream",
     "text": [
      "\r",
      "[********              16%                       ]  65 of 395 completed"
     ]
    },
    {
     "name": "stdout",
     "output_type": "stream",
     "text": [
      "\r",
      "[********              16%                       ]  65 of 395 completed\r",
      "[********              16%                       ]  65 of 395 completed\r",
      "[********              17%                       ]  68 of 395 completed\r",
      "[********              17%                       ]  68 of 395 completed"
     ]
    },
    {
     "name": "stdout",
     "output_type": "stream",
     "text": [
      "\r",
      "[*********             18%                       ]  70 of 395 completed"
     ]
    },
    {
     "name": "stdout",
     "output_type": "stream",
     "text": [
      "\r",
      "[*********             18%                       ]  70 of 395 completed"
     ]
    },
    {
     "name": "stdout",
     "output_type": "stream",
     "text": [
      "\r",
      "[*********             18%                       ]  72 of 395 completed"
     ]
    },
    {
     "name": "stdout",
     "output_type": "stream",
     "text": [
      "\r",
      "[*********             18%                       ]  73 of 395 completed"
     ]
    },
    {
     "name": "stdout",
     "output_type": "stream",
     "text": [
      "\r",
      "[*********             19%                       ]  74 of 395 completed"
     ]
    },
    {
     "name": "stdout",
     "output_type": "stream",
     "text": [
      "\r",
      "[*********             19%                       ]  75 of 395 completed"
     ]
    },
    {
     "name": "stdout",
     "output_type": "stream",
     "text": [
      "\r",
      "[*********             19%                       ]  76 of 395 completed"
     ]
    },
    {
     "name": "stdout",
     "output_type": "stream",
     "text": [
      "\r",
      "[*********             19%                       ]  76 of 395 completed"
     ]
    },
    {
     "name": "stdout",
     "output_type": "stream",
     "text": [
      "\r",
      "[**********            20%                       ]  78 of 395 completed"
     ]
    },
    {
     "name": "stdout",
     "output_type": "stream",
     "text": [
      "\r",
      "[**********            20%                       ]  78 of 395 completed\r",
      "[**********            20%                       ]  78 of 395 completed\r",
      "[**********            21%                       ]  81 of 395 completed"
     ]
    },
    {
     "name": "stdout",
     "output_type": "stream",
     "text": [
      "\r",
      "[**********            21%                       ]  81 of 395 completed"
     ]
    },
    {
     "name": "stdout",
     "output_type": "stream",
     "text": [
      "\r",
      "[**********            21%                       ]  81 of 395 completed"
     ]
    },
    {
     "name": "stdout",
     "output_type": "stream",
     "text": [
      "\r",
      "[**********            21%                       ]  84 of 395 completed"
     ]
    },
    {
     "name": "stdout",
     "output_type": "stream",
     "text": [
      "\r",
      "[***********           22%                       ]  85 of 395 completed"
     ]
    },
    {
     "name": "stdout",
     "output_type": "stream",
     "text": [
      "\r",
      "[***********           22%                       ]  86 of 395 completed"
     ]
    },
    {
     "name": "stdout",
     "output_type": "stream",
     "text": [
      "\r",
      "[***********           22%                       ]  87 of 395 completed"
     ]
    },
    {
     "name": "stdout",
     "output_type": "stream",
     "text": [
      "\r",
      "[***********           22%                       ]  88 of 395 completed"
     ]
    },
    {
     "name": "stdout",
     "output_type": "stream",
     "text": [
      "\r",
      "[***********           23%                       ]  89 of 395 completed\r",
      "[***********           23%                       ]  89 of 395 completed"
     ]
    },
    {
     "name": "stdout",
     "output_type": "stream",
     "text": [
      "\r",
      "[***********           23%                       ]  91 of 395 completed"
     ]
    },
    {
     "name": "stdout",
     "output_type": "stream",
     "text": [
      "\r",
      "[***********           23%                       ]  92 of 395 completed\r",
      "[***********           23%                       ]  92 of 395 completed"
     ]
    },
    {
     "name": "stdout",
     "output_type": "stream",
     "text": [
      "\r",
      "[************          24%                       ]  94 of 395 completed"
     ]
    },
    {
     "name": "stdout",
     "output_type": "stream",
     "text": [
      "\r",
      "[************          24%                       ]  94 of 395 completed\r",
      "[************          24%                       ]  94 of 395 completed"
     ]
    },
    {
     "name": "stdout",
     "output_type": "stream",
     "text": [
      "\r",
      "[************          25%                       ]  97 of 395 completed"
     ]
    },
    {
     "name": "stdout",
     "output_type": "stream",
     "text": [
      "\r",
      "[************          25%                       ]  98 of 395 completed"
     ]
    },
    {
     "name": "stdout",
     "output_type": "stream",
     "text": [
      "\r",
      "[************          25%                       ]  99 of 395 completed"
     ]
    },
    {
     "name": "stdout",
     "output_type": "stream",
     "text": [
      "\r",
      "[************          25%                       ]  100 of 395 completed"
     ]
    },
    {
     "name": "stdout",
     "output_type": "stream",
     "text": [
      "\r",
      "[************          26%                       ]  101 of 395 completed"
     ]
    },
    {
     "name": "stdout",
     "output_type": "stream",
     "text": [
      "\r",
      "[************          26%                       ]  102 of 395 completed\r",
      "[************          26%                       ]  102 of 395 completed"
     ]
    },
    {
     "name": "stdout",
     "output_type": "stream",
     "text": [
      "\r",
      "[************          26%                       ]  102 of 395 completed\r",
      "[************          26%                       ]  102 of 395 completed\r",
      "[************          26%                       ]  102 of 395 completed\r",
      "[************          26%                       ]  102 of 395 completed"
     ]
    },
    {
     "name": "stdout",
     "output_type": "stream",
     "text": [
      "\r",
      "[*************         27%                       ]  108 of 395 completed\r",
      "[*************         28%                       ]  109 of 395 completed"
     ]
    },
    {
     "name": "stdout",
     "output_type": "stream",
     "text": [
      "\r",
      "[*************         28%                       ]  110 of 395 completed"
     ]
    },
    {
     "name": "stdout",
     "output_type": "stream",
     "text": [
      "\r",
      "[*************         28%                       ]  110 of 395 completed"
     ]
    },
    {
     "name": "stdout",
     "output_type": "stream",
     "text": [
      "\r",
      "[*************         28%                       ]  112 of 395 completed"
     ]
    },
    {
     "name": "stdout",
     "output_type": "stream",
     "text": [
      "\r",
      "[**************        29%                       ]  113 of 395 completed"
     ]
    },
    {
     "name": "stdout",
     "output_type": "stream",
     "text": [
      "\r",
      "[**************        29%                       ]  114 of 395 completed"
     ]
    },
    {
     "name": "stdout",
     "output_type": "stream",
     "text": [
      "\r",
      "[**************        29%                       ]  114 of 395 completed"
     ]
    },
    {
     "name": "stdout",
     "output_type": "stream",
     "text": [
      "\r",
      "[**************        29%                       ]  116 of 395 completed"
     ]
    },
    {
     "name": "stdout",
     "output_type": "stream",
     "text": [
      "\r",
      "[**************        29%                       ]  116 of 395 completed\r",
      "[**************        30%                       ]  118 of 395 completed"
     ]
    },
    {
     "name": "stdout",
     "output_type": "stream",
     "text": [
      "\r",
      "[**************        30%                       ]  119 of 395 completed"
     ]
    },
    {
     "name": "stdout",
     "output_type": "stream",
     "text": [
      "\r",
      "[**************        30%                       ]  120 of 395 completed"
     ]
    },
    {
     "name": "stdout",
     "output_type": "stream",
     "text": [
      "\r",
      "[**************        30%                       ]  120 of 395 completed"
     ]
    },
    {
     "name": "stdout",
     "output_type": "stream",
     "text": [
      "\r",
      "[**************        30%                       ]  120 of 395 completed"
     ]
    },
    {
     "name": "stdout",
     "output_type": "stream",
     "text": [
      "\r",
      "[***************       31%                       ]  123 of 395 completed"
     ]
    },
    {
     "name": "stdout",
     "output_type": "stream",
     "text": [
      "\r",
      "[***************       31%                       ]  124 of 395 completed\r",
      "[***************       31%                       ]  124 of 395 completed"
     ]
    },
    {
     "name": "stdout",
     "output_type": "stream",
     "text": [
      "\r",
      "[***************       32%                       ]  126 of 395 completed"
     ]
    },
    {
     "name": "stdout",
     "output_type": "stream",
     "text": [
      "\r",
      "[***************       32%                       ]  127 of 395 completed"
     ]
    },
    {
     "name": "stdout",
     "output_type": "stream",
     "text": [
      "\r",
      "[***************       32%                       ]  128 of 395 completed"
     ]
    },
    {
     "name": "stdout",
     "output_type": "stream",
     "text": [
      "\r",
      "[****************      33%                       ]  129 of 395 completed"
     ]
    },
    {
     "name": "stdout",
     "output_type": "stream",
     "text": [
      "\r",
      "[****************      33%                       ]  130 of 395 completed"
     ]
    },
    {
     "name": "stdout",
     "output_type": "stream",
     "text": [
      "\r",
      "[****************      33%                       ]  131 of 395 completed"
     ]
    },
    {
     "name": "stdout",
     "output_type": "stream",
     "text": [
      "\r",
      "[****************      33%                       ]  131 of 395 completed"
     ]
    },
    {
     "name": "stdout",
     "output_type": "stream",
     "text": [
      "\r",
      "[****************      34%                       ]  133 of 395 completed"
     ]
    },
    {
     "name": "stdout",
     "output_type": "stream",
     "text": [
      "\r",
      "[****************      34%                       ]  133 of 395 completed"
     ]
    },
    {
     "name": "stdout",
     "output_type": "stream",
     "text": [
      "\r",
      "[****************      34%                       ]  135 of 395 completed"
     ]
    },
    {
     "name": "stdout",
     "output_type": "stream",
     "text": [
      "\r",
      "[****************      34%                       ]  135 of 395 completed"
     ]
    },
    {
     "name": "stdout",
     "output_type": "stream",
     "text": [
      "\r",
      "[*****************     35%                       ]  137 of 395 completed"
     ]
    },
    {
     "name": "stdout",
     "output_type": "stream",
     "text": [
      "\r",
      "[*****************     35%                       ]  137 of 395 completed"
     ]
    },
    {
     "name": "stdout",
     "output_type": "stream",
     "text": [
      "\r",
      "[*****************     35%                       ]  139 of 395 completed"
     ]
    },
    {
     "name": "stdout",
     "output_type": "stream",
     "text": [
      "\r",
      "[*****************     35%                       ]  140 of 395 completed"
     ]
    },
    {
     "name": "stdout",
     "output_type": "stream",
     "text": [
      "\r",
      "[*****************     36%                       ]  141 of 395 completed"
     ]
    },
    {
     "name": "stdout",
     "output_type": "stream",
     "text": [
      "\r",
      "[*****************     36%                       ]  142 of 395 completed"
     ]
    },
    {
     "name": "stdout",
     "output_type": "stream",
     "text": [
      "\r",
      "[*****************     36%                       ]  143 of 395 completed"
     ]
    },
    {
     "name": "stdout",
     "output_type": "stream",
     "text": [
      "\r",
      "[*****************     36%                       ]  144 of 395 completed"
     ]
    },
    {
     "name": "stdout",
     "output_type": "stream",
     "text": [
      "\r",
      "[******************    37%                       ]  145 of 395 completed"
     ]
    },
    {
     "name": "stdout",
     "output_type": "stream",
     "text": [
      "\r",
      "[******************    37%                       ]  146 of 395 completed"
     ]
    },
    {
     "name": "stdout",
     "output_type": "stream",
     "text": [
      "\r",
      "[******************    37%                       ]  147 of 395 completed"
     ]
    },
    {
     "name": "stdout",
     "output_type": "stream",
     "text": [
      "\r",
      "[******************    37%                       ]  148 of 395 completed"
     ]
    },
    {
     "name": "stdout",
     "output_type": "stream",
     "text": [
      "\r",
      "[******************    38%                       ]  149 of 395 completed"
     ]
    },
    {
     "name": "stdout",
     "output_type": "stream",
     "text": [
      "\r",
      "[******************    38%                       ]  150 of 395 completed"
     ]
    },
    {
     "name": "stdout",
     "output_type": "stream",
     "text": [
      "\r",
      "[******************    38%                       ]  151 of 395 completed\r",
      "[******************    38%                       ]  151 of 395 completed"
     ]
    },
    {
     "name": "stdout",
     "output_type": "stream",
     "text": [
      "\r",
      "[*******************   39%                       ]  153 of 395 completed"
     ]
    },
    {
     "name": "stdout",
     "output_type": "stream",
     "text": [
      "\r",
      "[*******************   39%                       ]  154 of 395 completed"
     ]
    },
    {
     "name": "stdout",
     "output_type": "stream",
     "text": [
      "\r",
      "[*******************   39%                       ]  155 of 395 completed\r",
      "[*******************   39%                       ]  155 of 395 completed"
     ]
    },
    {
     "name": "stdout",
     "output_type": "stream",
     "text": [
      "\r",
      "[*******************   40%                       ]  157 of 395 completed\r",
      "[*******************   40%                       ]  157 of 395 completed"
     ]
    },
    {
     "name": "stdout",
     "output_type": "stream",
     "text": [
      "\r",
      "[*******************   40%                       ]  159 of 395 completed"
     ]
    },
    {
     "name": "stdout",
     "output_type": "stream",
     "text": [
      "\r",
      "[********************  41%                       ]  160 of 395 completed"
     ]
    },
    {
     "name": "stdout",
     "output_type": "stream",
     "text": [
      "\r",
      "[********************  41%                       ]  161 of 395 completed"
     ]
    },
    {
     "name": "stdout",
     "output_type": "stream",
     "text": [
      "\r",
      "[********************  41%                       ]  162 of 395 completed"
     ]
    },
    {
     "name": "stdout",
     "output_type": "stream",
     "text": [
      "\r",
      "[********************  41%                       ]  163 of 395 completed\r",
      "[********************  41%                       ]  163 of 395 completed"
     ]
    },
    {
     "name": "stdout",
     "output_type": "stream",
     "text": [
      "\r",
      "[********************  42%                       ]  165 of 395 completed\r",
      "[********************  42%                       ]  165 of 395 completed\r",
      "[********************  42%                       ]  165 of 395 completed"
     ]
    },
    {
     "name": "stdout",
     "output_type": "stream",
     "text": [
      "\r",
      "[********************  42%                       ]  165 of 395 completed"
     ]
    },
    {
     "name": "stdout",
     "output_type": "stream",
     "text": [
      "\r",
      "[********************* 43%                       ]  169 of 395 completed\r",
      "[********************* 43%                       ]  169 of 395 completed"
     ]
    },
    {
     "name": "stdout",
     "output_type": "stream",
     "text": [
      "\r",
      "[********************* 43%                       ]  169 of 395 completed\r",
      "[********************* 44%                       ]  172 of 395 completed"
     ]
    },
    {
     "name": "stdout",
     "output_type": "stream",
     "text": [
      "\r",
      "[********************* 44%                       ]  173 of 395 completed"
     ]
    },
    {
     "name": "stdout",
     "output_type": "stream",
     "text": [
      "\r",
      "[********************* 44%                       ]  174 of 395 completed"
     ]
    },
    {
     "name": "stdout",
     "output_type": "stream",
     "text": [
      "\r",
      "[********************* 44%                       ]  175 of 395 completed\r",
      "[********************* 44%                       ]  175 of 395 completed"
     ]
    },
    {
     "name": "stdout",
     "output_type": "stream",
     "text": [
      "\r",
      "[**********************45%                       ]  177 of 395 completed"
     ]
    },
    {
     "name": "stdout",
     "output_type": "stream",
     "text": [
      "\r",
      "[**********************45%                       ]  178 of 395 completed\r",
      "[**********************45%                       ]  178 of 395 completed"
     ]
    },
    {
     "name": "stdout",
     "output_type": "stream",
     "text": [
      "\r",
      "[**********************45%                       ]  178 of 395 completed"
     ]
    },
    {
     "name": "stdout",
     "output_type": "stream",
     "text": [
      "\r",
      "[**********************45%                       ]  178 of 395 completed\r",
      "[**********************46%                       ]  182 of 395 completed"
     ]
    },
    {
     "name": "stdout",
     "output_type": "stream",
     "text": [
      "\r",
      "[**********************46%                       ]  183 of 395 completed"
     ]
    },
    {
     "name": "stdout",
     "output_type": "stream",
     "text": [
      "\r",
      "[**********************46%                       ]  183 of 395 completed"
     ]
    },
    {
     "name": "stdout",
     "output_type": "stream",
     "text": [
      "\r",
      "[**********************47%                       ]  185 of 395 completed"
     ]
    },
    {
     "name": "stdout",
     "output_type": "stream",
     "text": [
      "\r",
      "[**********************47%                       ]  185 of 395 completed"
     ]
    },
    {
     "name": "stdout",
     "output_type": "stream",
     "text": [
      "\r",
      "[**********************47%                       ]  187 of 395 completed"
     ]
    },
    {
     "name": "stdout",
     "output_type": "stream",
     "text": [
      "\r",
      "[**********************48%                       ]  188 of 395 completed"
     ]
    },
    {
     "name": "stdout",
     "output_type": "stream",
     "text": [
      "\r",
      "[**********************48%                       ]  189 of 395 completed"
     ]
    },
    {
     "name": "stdout",
     "output_type": "stream",
     "text": [
      "\r",
      "[**********************48%                       ]  189 of 395 completed"
     ]
    },
    {
     "name": "stdout",
     "output_type": "stream",
     "text": [
      "\r",
      "[**********************48%                       ]  189 of 395 completed"
     ]
    },
    {
     "name": "stdout",
     "output_type": "stream",
     "text": [
      "\r",
      "[**********************49%                       ]  192 of 395 completed"
     ]
    },
    {
     "name": "stdout",
     "output_type": "stream",
     "text": [
      "\r",
      "[**********************49%                       ]  193 of 395 completed\r",
      "[**********************49%                       ]  193 of 395 completed\r",
      "[**********************49%                       ]  193 of 395 completed\r",
      "[**********************49%                       ]  193 of 395 completed\r",
      "[**********************49%                       ]  193 of 395 completed\r",
      "[**********************49%                       ]  193 of 395 completed"
     ]
    },
    {
     "name": "stdout",
     "output_type": "stream",
     "text": [
      "\r",
      "[**********************50%                       ]  199 of 395 completed"
     ]
    },
    {
     "name": "stdout",
     "output_type": "stream",
     "text": [
      "\r",
      "[**********************51%                       ]  200 of 395 completed"
     ]
    },
    {
     "name": "stdout",
     "output_type": "stream",
     "text": [
      "\r",
      "[**********************51%                       ]  201 of 395 completed"
     ]
    },
    {
     "name": "stdout",
     "output_type": "stream",
     "text": [
      "\r",
      "[**********************51%                       ]  202 of 395 completed"
     ]
    },
    {
     "name": "stdout",
     "output_type": "stream",
     "text": [
      "\r",
      "[**********************51%                       ]  203 of 395 completed"
     ]
    },
    {
     "name": "stdout",
     "output_type": "stream",
     "text": [
      "\r",
      "[**********************52%                       ]  204 of 395 completed"
     ]
    },
    {
     "name": "stdout",
     "output_type": "stream",
     "text": [
      "\r",
      "[**********************52%                       ]  204 of 395 completed\r",
      "[**********************52%                       ]  204 of 395 completed\r",
      "[**********************52%                       ]  204 of 395 completed"
     ]
    },
    {
     "name": "stdout",
     "output_type": "stream",
     "text": [
      "\r",
      "[**********************52%                       ]  204 of 395 completed"
     ]
    },
    {
     "name": "stdout",
     "output_type": "stream",
     "text": [
      "\r",
      "[**********************52%                       ]  204 of 395 completed"
     ]
    },
    {
     "name": "stdout",
     "output_type": "stream",
     "text": [
      "\r",
      "[**********************52%                       ]  204 of 395 completed"
     ]
    },
    {
     "name": "stdout",
     "output_type": "stream",
     "text": [
      "\r",
      "[**********************53%                       ]  211 of 395 completed"
     ]
    },
    {
     "name": "stdout",
     "output_type": "stream",
     "text": [
      "\r",
      "[**********************54%*                      ]  212 of 395 completed"
     ]
    },
    {
     "name": "stdout",
     "output_type": "stream",
     "text": [
      "\r",
      "[**********************54%*                      ]  213 of 395 completed"
     ]
    },
    {
     "name": "stdout",
     "output_type": "stream",
     "text": [
      "\r",
      "[**********************54%*                      ]  214 of 395 completed\r",
      "[**********************54%*                      ]  214 of 395 completed\r",
      "[**********************54%*                      ]  214 of 395 completed"
     ]
    },
    {
     "name": "stdout",
     "output_type": "stream",
     "text": [
      "\r",
      "[**********************54%*                      ]  214 of 395 completed\r",
      "[**********************54%*                      ]  214 of 395 completed\r",
      "[**********************55%*                      ]  219 of 395 completed\r",
      "[**********************56%**                     ]  220 of 395 completed\r",
      "[**********************56%**                     ]  220 of 395 completed\r",
      "[**********************56%**                     ]  220 of 395 completed"
     ]
    },
    {
     "name": "stdout",
     "output_type": "stream",
     "text": [
      "\r",
      "[**********************56%**                     ]  223 of 395 completed\r",
      "[**********************56%**                     ]  223 of 395 completed"
     ]
    },
    {
     "name": "stdout",
     "output_type": "stream",
     "text": [
      "\r",
      "[**********************57%**                     ]  225 of 395 completed"
     ]
    },
    {
     "name": "stdout",
     "output_type": "stream",
     "text": [
      "\r",
      "[**********************57%**                     ]  225 of 395 completed"
     ]
    },
    {
     "name": "stdout",
     "output_type": "stream",
     "text": [
      "\r",
      "[**********************57%**                     ]  227 of 395 completed"
     ]
    },
    {
     "name": "stdout",
     "output_type": "stream",
     "text": [
      "\r",
      "[**********************58%***                    ]  228 of 395 completed"
     ]
    },
    {
     "name": "stdout",
     "output_type": "stream",
     "text": [
      "\r",
      "[**********************58%***                    ]  228 of 395 completed"
     ]
    },
    {
     "name": "stdout",
     "output_type": "stream",
     "text": [
      "\r",
      "[**********************58%***                    ]  230 of 395 completed\r",
      "[**********************58%***                    ]  230 of 395 completed"
     ]
    },
    {
     "name": "stdout",
     "output_type": "stream",
     "text": [
      "\r",
      "[**********************59%***                    ]  232 of 395 completed\r",
      "[**********************59%***                    ]  232 of 395 completed\r",
      "[**********************59%***                    ]  232 of 395 completed"
     ]
    },
    {
     "name": "stdout",
     "output_type": "stream",
     "text": [
      "\r",
      "[**********************59%***                    ]  235 of 395 completed"
     ]
    },
    {
     "name": "stdout",
     "output_type": "stream",
     "text": [
      "\r",
      "[**********************60%****                   ]  236 of 395 completed"
     ]
    },
    {
     "name": "stdout",
     "output_type": "stream",
     "text": [
      "\r",
      "[**********************60%****                   ]  237 of 395 completed"
     ]
    },
    {
     "name": "stdout",
     "output_type": "stream",
     "text": [
      "\r",
      "[**********************60%****                   ]  238 of 395 completed"
     ]
    },
    {
     "name": "stdout",
     "output_type": "stream",
     "text": [
      "\r",
      "[**********************61%****                   ]  239 of 395 completed\r",
      "[**********************61%****                   ]  239 of 395 completed"
     ]
    },
    {
     "name": "stdout",
     "output_type": "stream",
     "text": [
      "\r",
      "[**********************61%****                   ]  241 of 395 completed"
     ]
    },
    {
     "name": "stdout",
     "output_type": "stream",
     "text": [
      "\r",
      "[**********************61%****                   ]  242 of 395 completed\r",
      "[**********************61%****                   ]  242 of 395 completed\r",
      "[**********************61%****                   ]  242 of 395 completed"
     ]
    },
    {
     "name": "stdout",
     "output_type": "stream",
     "text": [
      "\r",
      "[**********************62%*****                  ]  245 of 395 completed"
     ]
    },
    {
     "name": "stdout",
     "output_type": "stream",
     "text": [
      "\r",
      "[**********************62%*****                  ]  245 of 395 completed\r",
      "[**********************63%*****                  ]  247 of 395 completed"
     ]
    },
    {
     "name": "stdout",
     "output_type": "stream",
     "text": [
      "\r",
      "[**********************63%*****                  ]  247 of 395 completed"
     ]
    },
    {
     "name": "stdout",
     "output_type": "stream",
     "text": [
      "\r",
      "[**********************63%*****                  ]  247 of 395 completed"
     ]
    },
    {
     "name": "stdout",
     "output_type": "stream",
     "text": [
      "\r",
      "[**********************63%*****                  ]  250 of 395 completed"
     ]
    },
    {
     "name": "stdout",
     "output_type": "stream",
     "text": [
      "\r",
      "[**********************64%******                 ]  251 of 395 completed"
     ]
    },
    {
     "name": "stdout",
     "output_type": "stream",
     "text": [
      "\r",
      "[**********************64%******                 ]  252 of 395 completed"
     ]
    },
    {
     "name": "stdout",
     "output_type": "stream",
     "text": [
      "\r",
      "[**********************64%******                 ]  253 of 395 completed"
     ]
    },
    {
     "name": "stdout",
     "output_type": "stream",
     "text": [
      "\r",
      "[**********************64%******                 ]  254 of 395 completed"
     ]
    },
    {
     "name": "stdout",
     "output_type": "stream",
     "text": [
      "\r",
      "[**********************65%******                 ]  255 of 395 completed\r",
      "[**********************65%******                 ]  255 of 395 completed\r",
      "[**********************65%******                 ]  255 of 395 completed"
     ]
    },
    {
     "name": "stdout",
     "output_type": "stream",
     "text": [
      "\r",
      "[**********************65%******                 ]  258 of 395 completed\r",
      "[**********************65%******                 ]  258 of 395 completed\r",
      "[**********************66%*******                ]  260 of 395 completed\r",
      "[**********************66%*******                ]  260 of 395 completed"
     ]
    },
    {
     "name": "stdout",
     "output_type": "stream",
     "text": [
      "\r",
      "[**********************66%*******                ]  262 of 395 completed"
     ]
    },
    {
     "name": "stdout",
     "output_type": "stream",
     "text": [
      "\r",
      "[**********************67%*******                ]  263 of 395 completed"
     ]
    },
    {
     "name": "stdout",
     "output_type": "stream",
     "text": [
      "\r",
      "[**********************67%*******                ]  264 of 395 completed"
     ]
    },
    {
     "name": "stdout",
     "output_type": "stream",
     "text": [
      "\r",
      "[**********************67%*******                ]  265 of 395 completed"
     ]
    },
    {
     "name": "stdout",
     "output_type": "stream",
     "text": [
      "\r",
      "[**********************67%*******                ]  266 of 395 completed\r",
      "[**********************67%*******                ]  266 of 395 completed"
     ]
    },
    {
     "name": "stdout",
     "output_type": "stream",
     "text": [
      "\r",
      "[**********************67%*******                ]  266 of 395 completed"
     ]
    },
    {
     "name": "stdout",
     "output_type": "stream",
     "text": [
      "\r",
      "[**********************67%*******                ]  266 of 395 completed\r",
      "[**********************67%*******                ]  266 of 395 completed\r",
      "[**********************67%*******                ]  266 of 395 completed\r",
      "[**********************67%*******                ]  266 of 395 completed"
     ]
    },
    {
     "name": "stdout",
     "output_type": "stream",
     "text": [
      "\r",
      "[**********************69%********               ]  273 of 395 completed\r",
      "[**********************69%********               ]  273 of 395 completed\r",
      "[**********************69%********               ]  273 of 395 completed"
     ]
    },
    {
     "name": "stdout",
     "output_type": "stream",
     "text": [
      "\r",
      "[**********************70%*********              ]  276 of 395 completed"
     ]
    },
    {
     "name": "stdout",
     "output_type": "stream",
     "text": [
      "\r",
      "[**********************70%*********              ]  277 of 395 completed"
     ]
    },
    {
     "name": "stdout",
     "output_type": "stream",
     "text": [
      "\r",
      "[**********************70%*********              ]  278 of 395 completed"
     ]
    },
    {
     "name": "stdout",
     "output_type": "stream",
     "text": [
      "\r",
      "[**********************71%*********              ]  279 of 395 completed"
     ]
    },
    {
     "name": "stdout",
     "output_type": "stream",
     "text": [
      "\r",
      "[**********************71%*********              ]  279 of 395 completed\r",
      "[**********************71%*********              ]  281 of 395 completed\r",
      "[**********************71%*********              ]  281 of 395 completed"
     ]
    },
    {
     "name": "stdout",
     "output_type": "stream",
     "text": [
      "\r",
      "[**********************71%*********              ]  281 of 395 completed"
     ]
    },
    {
     "name": "stdout",
     "output_type": "stream",
     "text": [
      "\r",
      "[**********************72%**********             ]  284 of 395 completed\r",
      "[**********************72%**********             ]  284 of 395 completed\r",
      "[**********************72%**********             ]  284 of 395 completed\r",
      "[**********************73%**********             ]  287 of 395 completed"
     ]
    },
    {
     "name": "stdout",
     "output_type": "stream",
     "text": [
      "\r",
      "[**********************73%**********             ]  288 of 395 completed"
     ]
    },
    {
     "name": "stdout",
     "output_type": "stream",
     "text": [
      "\r",
      "[**********************73%**********             ]  289 of 395 completed"
     ]
    },
    {
     "name": "stdout",
     "output_type": "stream",
     "text": [
      "\r",
      "[**********************73%**********             ]  290 of 395 completed"
     ]
    },
    {
     "name": "stdout",
     "output_type": "stream",
     "text": [
      "\r",
      "[**********************73%**********             ]  290 of 395 completed"
     ]
    },
    {
     "name": "stdout",
     "output_type": "stream",
     "text": [
      "\r",
      "[**********************74%***********            ]  292 of 395 completed\r",
      "[**********************74%***********            ]  293 of 395 completed"
     ]
    },
    {
     "name": "stdout",
     "output_type": "stream",
     "text": [
      "\r",
      "[**********************74%***********            ]  294 of 395 completed"
     ]
    },
    {
     "name": "stdout",
     "output_type": "stream",
     "text": [
      "\r",
      "[**********************74%***********            ]  294 of 395 completed"
     ]
    },
    {
     "name": "stdout",
     "output_type": "stream",
     "text": [
      "\r",
      "[**********************75%***********            ]  296 of 395 completed"
     ]
    },
    {
     "name": "stdout",
     "output_type": "stream",
     "text": [
      "\r",
      "[**********************75%***********            ]  297 of 395 completed\r",
      "[**********************75%***********            ]  297 of 395 completed"
     ]
    },
    {
     "name": "stdout",
     "output_type": "stream",
     "text": [
      "\r",
      "[**********************76%***********            ]  299 of 395 completed\r",
      "[**********************76%***********            ]  300 of 395 completed"
     ]
    },
    {
     "name": "stdout",
     "output_type": "stream",
     "text": [
      "\r",
      "[**********************76%***********            ]  301 of 395 completed"
     ]
    },
    {
     "name": "stdout",
     "output_type": "stream",
     "text": [
      "\r",
      "[**********************76%***********            ]  302 of 395 completed"
     ]
    },
    {
     "name": "stdout",
     "output_type": "stream",
     "text": [
      "\r",
      "[**********************77%************           ]  303 of 395 completed"
     ]
    },
    {
     "name": "stdout",
     "output_type": "stream",
     "text": [
      "\r",
      "[**********************77%************           ]  304 of 395 completed"
     ]
    },
    {
     "name": "stdout",
     "output_type": "stream",
     "text": [
      "\r",
      "[**********************77%************           ]  305 of 395 completed"
     ]
    },
    {
     "name": "stdout",
     "output_type": "stream",
     "text": [
      "\r",
      "[**********************77%************           ]  306 of 395 completed"
     ]
    },
    {
     "name": "stdout",
     "output_type": "stream",
     "text": [
      "\r",
      "[**********************78%************           ]  307 of 395 completed"
     ]
    },
    {
     "name": "stdout",
     "output_type": "stream",
     "text": [
      "\r",
      "[**********************78%************           ]  308 of 395 completed"
     ]
    },
    {
     "name": "stdout",
     "output_type": "stream",
     "text": [
      "\r",
      "[**********************78%************           ]  309 of 395 completed"
     ]
    },
    {
     "name": "stdout",
     "output_type": "stream",
     "text": [
      "\r",
      "[**********************78%************           ]  310 of 395 completed"
     ]
    },
    {
     "name": "stdout",
     "output_type": "stream",
     "text": [
      "\r",
      "[**********************79%*************          ]  311 of 395 completed"
     ]
    },
    {
     "name": "stdout",
     "output_type": "stream",
     "text": [
      "\r",
      "[**********************79%*************          ]  312 of 395 completed"
     ]
    },
    {
     "name": "stdout",
     "output_type": "stream",
     "text": [
      "\r",
      "[**********************79%*************          ]  313 of 395 completed"
     ]
    },
    {
     "name": "stdout",
     "output_type": "stream",
     "text": [
      "\r",
      "[**********************79%*************          ]  314 of 395 completed"
     ]
    },
    {
     "name": "stdout",
     "output_type": "stream",
     "text": [
      "\r",
      "[**********************80%*************          ]  315 of 395 completed"
     ]
    },
    {
     "name": "stdout",
     "output_type": "stream",
     "text": [
      "\r",
      "[**********************80%*************          ]  316 of 395 completed"
     ]
    },
    {
     "name": "stdout",
     "output_type": "stream",
     "text": [
      "\r",
      "[**********************80%*************          ]  317 of 395 completed"
     ]
    },
    {
     "name": "stdout",
     "output_type": "stream",
     "text": [
      "\r",
      "[**********************81%**************         ]  318 of 395 completed"
     ]
    },
    {
     "name": "stdout",
     "output_type": "stream",
     "text": [
      "\r",
      "[**********************81%**************         ]  319 of 395 completed\r",
      "[**********************81%**************         ]  319 of 395 completed"
     ]
    },
    {
     "name": "stdout",
     "output_type": "stream",
     "text": [
      "\r",
      "[**********************81%**************         ]  321 of 395 completed"
     ]
    },
    {
     "name": "stdout",
     "output_type": "stream",
     "text": [
      "\r",
      "[**********************82%**************         ]  322 of 395 completed"
     ]
    },
    {
     "name": "stdout",
     "output_type": "stream",
     "text": [
      "\r",
      "[**********************82%**************         ]  322 of 395 completed"
     ]
    },
    {
     "name": "stdout",
     "output_type": "stream",
     "text": [
      "\r",
      "[**********************82%**************         ]  324 of 395 completed"
     ]
    },
    {
     "name": "stdout",
     "output_type": "stream",
     "text": [
      "\r",
      "[**********************82%**************         ]  325 of 395 completed"
     ]
    },
    {
     "name": "stdout",
     "output_type": "stream",
     "text": [
      "\r",
      "[**********************83%***************        ]  326 of 395 completed"
     ]
    },
    {
     "name": "stdout",
     "output_type": "stream",
     "text": [
      "\r",
      "[**********************83%***************        ]  327 of 395 completed"
     ]
    },
    {
     "name": "stdout",
     "output_type": "stream",
     "text": [
      "\r",
      "[**********************83%***************        ]  328 of 395 completed"
     ]
    },
    {
     "name": "stdout",
     "output_type": "stream",
     "text": [
      "\r",
      "[**********************83%***************        ]  329 of 395 completed"
     ]
    },
    {
     "name": "stdout",
     "output_type": "stream",
     "text": [
      "\r",
      "[**********************84%***************        ]  330 of 395 completed\r",
      "[**********************84%***************        ]  330 of 395 completed"
     ]
    },
    {
     "name": "stdout",
     "output_type": "stream",
     "text": [
      "\r",
      "[**********************84%***************        ]  332 of 395 completed"
     ]
    },
    {
     "name": "stdout",
     "output_type": "stream",
     "text": [
      "\r",
      "[**********************84%***************        ]  333 of 395 completed"
     ]
    },
    {
     "name": "stdout",
     "output_type": "stream",
     "text": [
      "\r",
      "[**********************85%****************       ]  334 of 395 completed"
     ]
    },
    {
     "name": "stdout",
     "output_type": "stream",
     "text": [
      "\r",
      "[**********************85%****************       ]  335 of 395 completed"
     ]
    },
    {
     "name": "stdout",
     "output_type": "stream",
     "text": [
      "\r",
      "[**********************85%****************       ]  336 of 395 completed"
     ]
    },
    {
     "name": "stdout",
     "output_type": "stream",
     "text": [
      "\r",
      "[**********************85%****************       ]  337 of 395 completed"
     ]
    },
    {
     "name": "stdout",
     "output_type": "stream",
     "text": [
      "\r",
      "[**********************86%****************       ]  338 of 395 completed"
     ]
    },
    {
     "name": "stdout",
     "output_type": "stream",
     "text": [
      "\r",
      "[**********************86%****************       ]  339 of 395 completed"
     ]
    },
    {
     "name": "stdout",
     "output_type": "stream",
     "text": [
      "\r",
      "[**********************86%****************       ]  340 of 395 completed"
     ]
    },
    {
     "name": "stdout",
     "output_type": "stream",
     "text": [
      "\r",
      "[**********************86%****************       ]  341 of 395 completed"
     ]
    },
    {
     "name": "stdout",
     "output_type": "stream",
     "text": [
      "\r",
      "[**********************87%*****************      ]  342 of 395 completed"
     ]
    },
    {
     "name": "stdout",
     "output_type": "stream",
     "text": [
      "\r",
      "[**********************87%*****************      ]  343 of 395 completed"
     ]
    },
    {
     "name": "stdout",
     "output_type": "stream",
     "text": [
      "\r",
      "[**********************87%*****************      ]  344 of 395 completed"
     ]
    },
    {
     "name": "stdout",
     "output_type": "stream",
     "text": [
      "\r",
      "[**********************87%*****************      ]  345 of 395 completed"
     ]
    },
    {
     "name": "stdout",
     "output_type": "stream",
     "text": [
      "\r",
      "[**********************88%*****************      ]  346 of 395 completed"
     ]
    },
    {
     "name": "stdout",
     "output_type": "stream",
     "text": [
      "\r",
      "[**********************88%*****************      ]  347 of 395 completed"
     ]
    },
    {
     "name": "stdout",
     "output_type": "stream",
     "text": [
      "\r",
      "[**********************88%*****************      ]  348 of 395 completed"
     ]
    },
    {
     "name": "stdout",
     "output_type": "stream",
     "text": [
      "\r",
      "[**********************88%*****************      ]  349 of 395 completed"
     ]
    },
    {
     "name": "stdout",
     "output_type": "stream",
     "text": [
      "\r",
      "[**********************89%******************     ]  350 of 395 completed\r",
      "[**********************89%******************     ]  350 of 395 completed"
     ]
    },
    {
     "name": "stdout",
     "output_type": "stream",
     "text": [
      "\r",
      "[**********************89%******************     ]  352 of 395 completed"
     ]
    },
    {
     "name": "stdout",
     "output_type": "stream",
     "text": [
      "\r",
      "[**********************89%******************     ]  353 of 395 completed"
     ]
    },
    {
     "name": "stdout",
     "output_type": "stream",
     "text": [
      "\r",
      "[**********************90%******************     ]  354 of 395 completed"
     ]
    },
    {
     "name": "stdout",
     "output_type": "stream",
     "text": [
      "\r",
      "[**********************90%******************     ]  355 of 395 completed"
     ]
    },
    {
     "name": "stdout",
     "output_type": "stream",
     "text": [
      "\r",
      "[**********************90%******************     ]  356 of 395 completed"
     ]
    },
    {
     "name": "stdout",
     "output_type": "stream",
     "text": [
      "\r",
      "[**********************90%******************     ]  357 of 395 completed"
     ]
    },
    {
     "name": "stdout",
     "output_type": "stream",
     "text": [
      "\r",
      "[**********************91%*******************    ]  358 of 395 completed"
     ]
    },
    {
     "name": "stdout",
     "output_type": "stream",
     "text": [
      "\r",
      "[**********************91%*******************    ]  359 of 395 completed"
     ]
    },
    {
     "name": "stdout",
     "output_type": "stream",
     "text": [
      "\r",
      "[**********************91%*******************    ]  360 of 395 completed"
     ]
    },
    {
     "name": "stdout",
     "output_type": "stream",
     "text": [
      "\r",
      "[**********************91%*******************    ]  361 of 395 completed"
     ]
    },
    {
     "name": "stdout",
     "output_type": "stream",
     "text": [
      "\r",
      "[**********************92%*******************    ]  362 of 395 completed"
     ]
    },
    {
     "name": "stdout",
     "output_type": "stream",
     "text": [
      "\r",
      "[**********************92%*******************    ]  363 of 395 completed"
     ]
    },
    {
     "name": "stdout",
     "output_type": "stream",
     "text": [
      "\r",
      "[**********************92%*******************    ]  364 of 395 completed\r",
      "[**********************92%*******************    ]  364 of 395 completed"
     ]
    },
    {
     "name": "stdout",
     "output_type": "stream",
     "text": [
      "\r",
      "[**********************93%********************   ]  366 of 395 completed"
     ]
    },
    {
     "name": "stdout",
     "output_type": "stream",
     "text": [
      "\r",
      "[**********************93%********************   ]  367 of 395 completed"
     ]
    },
    {
     "name": "stdout",
     "output_type": "stream",
     "text": [
      "\r",
      "[**********************93%********************   ]  368 of 395 completed"
     ]
    },
    {
     "name": "stdout",
     "output_type": "stream",
     "text": [
      "\r",
      "[**********************93%********************   ]  369 of 395 completed"
     ]
    },
    {
     "name": "stdout",
     "output_type": "stream",
     "text": [
      "\r",
      "[**********************94%********************   ]  370 of 395 completed"
     ]
    },
    {
     "name": "stdout",
     "output_type": "stream",
     "text": [
      "\r",
      "[**********************94%********************   ]  371 of 395 completed"
     ]
    },
    {
     "name": "stdout",
     "output_type": "stream",
     "text": [
      "\r",
      "[**********************94%********************   ]  372 of 395 completed"
     ]
    },
    {
     "name": "stdout",
     "output_type": "stream",
     "text": [
      "\r",
      "[**********************94%********************   ]  373 of 395 completed\r",
      "[**********************94%********************   ]  373 of 395 completed"
     ]
    },
    {
     "name": "stdout",
     "output_type": "stream",
     "text": [
      "\r",
      "[**********************95%*********************  ]  375 of 395 completed"
     ]
    },
    {
     "name": "stdout",
     "output_type": "stream",
     "text": [
      "\r",
      "[**********************95%*********************  ]  376 of 395 completed"
     ]
    },
    {
     "name": "stdout",
     "output_type": "stream",
     "text": [
      "\r",
      "[**********************95%*********************  ]  377 of 395 completed"
     ]
    },
    {
     "name": "stdout",
     "output_type": "stream",
     "text": [
      "\r",
      "[**********************96%*********************  ]  378 of 395 completed"
     ]
    },
    {
     "name": "stdout",
     "output_type": "stream",
     "text": [
      "\r",
      "[**********************96%*********************  ]  379 of 395 completed"
     ]
    },
    {
     "name": "stdout",
     "output_type": "stream",
     "text": [
      "\r",
      "[**********************96%*********************  ]  380 of 395 completed\r",
      "[**********************96%*********************  ]  380 of 395 completed"
     ]
    },
    {
     "name": "stdout",
     "output_type": "stream",
     "text": [
      "\r",
      "[**********************97%********************** ]  382 of 395 completed\r",
      "[**********************97%********************** ]  382 of 395 completed"
     ]
    },
    {
     "name": "stdout",
     "output_type": "stream",
     "text": [
      "\r",
      "[**********************97%********************** ]  384 of 395 completed"
     ]
    },
    {
     "name": "stdout",
     "output_type": "stream",
     "text": [
      "\r",
      "[**********************97%********************** ]  385 of 395 completed"
     ]
    },
    {
     "name": "stdout",
     "output_type": "stream",
     "text": [
      "\r",
      "[**********************98%********************** ]  386 of 395 completed"
     ]
    },
    {
     "name": "stdout",
     "output_type": "stream",
     "text": [
      "\r",
      "[**********************98%********************** ]  387 of 395 completed"
     ]
    },
    {
     "name": "stdout",
     "output_type": "stream",
     "text": [
      "\r",
      "[**********************98%********************** ]  388 of 395 completed"
     ]
    },
    {
     "name": "stdout",
     "output_type": "stream",
     "text": [
      "\r",
      "[**********************98%********************** ]  389 of 395 completed"
     ]
    },
    {
     "name": "stdout",
     "output_type": "stream",
     "text": [
      "\r",
      "[**********************99%***********************]  390 of 395 completed"
     ]
    },
    {
     "name": "stdout",
     "output_type": "stream",
     "text": [
      "\r",
      "[**********************99%***********************]  391 of 395 completed"
     ]
    },
    {
     "name": "stdout",
     "output_type": "stream",
     "text": [
      "\r",
      "[**********************99%***********************]  392 of 395 completed"
     ]
    },
    {
     "name": "stdout",
     "output_type": "stream",
     "text": [
      "\r",
      "[**********************99%***********************]  393 of 395 completed"
     ]
    },
    {
     "name": "stdout",
     "output_type": "stream",
     "text": [
      "\r",
      "[*********************100%***********************]  394 of 395 completed"
     ]
    },
    {
     "name": "stdout",
     "output_type": "stream",
     "text": [
      "\r",
      "[*********************100%***********************]  395 of 395 completed"
     ]
    },
    {
     "name": "stdout",
     "output_type": "stream",
     "text": [
      "\n",
      "\n",
      "38 Failed downloads:\n",
      "- GLXY: No data found, symbol may be delisted\n",
      "- WDS: No data found for this date range, symbol may be delisted\n",
      "- WW: No data found for this date range, symbol may be delisted\n",
      "- IR: No data found for this date range, symbol may be delisted\n",
      "- ASRV: No data found for this date range, symbol may be delisted\n",
      "- JNJ: No data found for this date range, symbol may be delisted\n",
      "- COST: No data found for this date range, symbol may be delisted\n",
      "- TGT: No data found for this date range, symbol may be delisted\n",
      "- SLB: No data found for this date range, symbol may be delisted\n",
      "- NTIP: No data found for this date range, symbol may be delisted\n",
      "- ORCL: No data found for this date range, symbol may be delisted\n",
      "- AEP: No data found for this date range, symbol may be delisted\n",
      "- ROST: No data found for this date range, symbol may be delisted\n",
      "- CCL: No data found for this date range, symbol may be delisted\n",
      "- CWEN: No data found for this date range, symbol may be delisted\n",
      "- ROK: No data found for this date range, symbol may be delisted\n",
      "- BKR: No data found for this date range, symbol may be delisted\n",
      "- NKE: No data found for this date range, symbol may be delisted\n",
      "- APTV: No data found for this date range, symbol may be delisted\n",
      "- STX: No data found for this date range, symbol may be delisted\n",
      "- SECI: No data found for this date range, symbol may be delisted\n",
      "- SONY: No data found for this date range, symbol may be delisted\n",
      "- VST: No data found for this date range, symbol may be delisted\n",
      "- SFDL: No data found for this date range, symbol may be delisted\n",
      "- VGR: No data found for this date range, symbol may be delisted\n",
      "- NDAQ: No data found for this date range, symbol may be delisted\n",
      "- HPQ: No data found for this date range, symbol may be delisted\n",
      "- FRO: No data found for this date range, symbol may be delisted\n",
      "- TSN: No data found for this date range, symbol may be delisted\n",
      "- SCCO: No data found for this date range, symbol may be delisted\n",
      "- AAPL: No data found for this date range, symbol may be delisted\n",
      "- WWD: No data found for this date range, symbol may be delisted\n",
      "- SIRI: No data found for this date range, symbol may be delisted\n",
      "- NVDA: No data found for this date range, symbol may be delisted\n",
      "- HAS: No data found for this date range, symbol may be delisted\n",
      "- VERU: No data found for this date range, symbol may be delisted\n",
      "- POOL: No data found for this date range, symbol may be delisted\n",
      "- RL: No data found for this date range, symbol may be delisted\n"
     ]
    }
   ],
   "source": [
    "df= yf.download(ticker_names, start=start_date, threads=True, progress=True, timeout=1)"
   ]
  },
  {
   "cell_type": "code",
   "execution_count": 8,
   "id": "d1409bb1",
   "metadata": {
    "execution": {
     "iopub.execute_input": "2022-04-19T04:24:08.186682Z",
     "iopub.status.busy": "2022-04-19T04:24:08.186455Z",
     "iopub.status.idle": "2022-04-19T04:24:08.197492Z",
     "shell.execute_reply": "2022-04-19T04:24:08.196917Z"
    },
    "papermill": {
     "duration": 0.073216,
     "end_time": "2022-04-19T04:24:08.199291",
     "exception": false,
     "start_time": "2022-04-19T04:24:08.126075",
     "status": "completed"
    },
    "tags": []
   },
   "outputs": [],
   "source": [
    "df = df.sort_index()"
   ]
  },
  {
   "cell_type": "code",
   "execution_count": 9,
   "id": "4eb86b48",
   "metadata": {
    "execution": {
     "iopub.execute_input": "2022-04-19T04:24:08.322040Z",
     "iopub.status.busy": "2022-04-19T04:24:08.321846Z",
     "iopub.status.idle": "2022-04-19T04:24:08.645369Z",
     "shell.execute_reply": "2022-04-19T04:24:08.644594Z"
    },
    "papermill": {
     "duration": 0.388547,
     "end_time": "2022-04-19T04:24:08.647342",
     "exception": false,
     "start_time": "2022-04-19T04:24:08.258795",
     "status": "completed"
    },
    "tags": []
   },
   "outputs": [
    {
     "name": "stdout",
     "output_type": "stream",
     "text": [
      "Saved file /Users/aiujdm2/market_watch/output/data/raw/yfinance_all_ticker_data_Open-raw.csv\n",
      "Saved file /Users/aiujdm2/market_watch/output/data/raw/yfinance_all_ticker_data_Close-raw.csv\n",
      "Saved file /Users/aiujdm2/market_watch/output/data/raw/yfinance_all_ticker_data_High-raw.csv\n",
      "Saved file /Users/aiujdm2/market_watch/output/data/raw/yfinance_all_ticker_data_Low-raw.csv\n",
      "Saved file /Users/aiujdm2/market_watch/output/data/raw/yfinance_all_ticker_data_Volume-raw.csv\n"
     ]
    },
    {
     "name": "stdout",
     "output_type": "stream",
     "text": [
      "Saved file /Users/aiujdm2/market_watch/output/data/raw/yfinance_ticker_data-raw.xlsx\n"
     ]
    }
   ],
   "source": [
    "output_file_path = product['data']\n",
    "file_prefix = \"snp500\" if snp_filter == True else \"all\"\n",
    "\n",
    "parent_path = Path(output_file_path).parent\n",
    "\n",
    "for field in yahoo_fields:\n",
    "    file_path = str(parent_path) + f\"/yfinance_{file_prefix}_ticker_data_{field}-raw.csv\"\n",
    "    df[field].to_csv(file_path)\n",
    "    print(f\"Saved file {file_path}\")\n",
    "\n",
    "df.to_csv(output_file_path)\n",
    "print(f\"Saved file {output_file_path}\")  "
   ]
  },
  {
   "cell_type": "code",
   "execution_count": 10,
   "id": "b769fed2",
   "metadata": {
    "execution": {
     "iopub.execute_input": "2022-04-19T04:24:08.775314Z",
     "iopub.status.busy": "2022-04-19T04:24:08.775121Z",
     "iopub.status.idle": "2022-04-19T04:24:11.540436Z",
     "shell.execute_reply": "2022-04-19T04:24:11.539738Z"
    },
    "papermill": {
     "duration": 2.832076,
     "end_time": "2022-04-19T04:24:11.542356",
     "exception": false,
     "start_time": "2022-04-19T04:24:08.710280",
     "status": "completed"
    },
    "tags": []
   },
   "outputs": [
    {
     "name": "stdout",
     "output_type": "stream",
     "text": [
      "Saved sheet Open\n"
     ]
    },
    {
     "name": "stdout",
     "output_type": "stream",
     "text": [
      "Saved sheet Close\n"
     ]
    },
    {
     "name": "stdout",
     "output_type": "stream",
     "text": [
      "Saved sheet High\n"
     ]
    },
    {
     "name": "stdout",
     "output_type": "stream",
     "text": [
      "Saved sheet Low\n"
     ]
    },
    {
     "name": "stdout",
     "output_type": "stream",
     "text": [
      "Saved sheet Volume\n"
     ]
    },
    {
     "name": "stdout",
     "output_type": "stream",
     "text": [
      "Saved file /Users/aiujdm2/market_watch/output/data/raw/yfinance_ticker_data-raw.xlsx\n"
     ]
    }
   ],
   "source": [
    "with pd.ExcelWriter(output_file_path, engine='openpyxl') as writer:\n",
    "    for field in yahoo_fields:\n",
    "        df[field].to_excel(writer, sheet_name=field)\n",
    "        print(f\"Saved sheet {field}\")\n",
    "    \n",
    "print(f\"Saved file {output_file_path}\")"
   ]
  },
  {
   "cell_type": "code",
   "execution_count": 11,
   "id": "2f703efe",
   "metadata": {
    "execution": {
     "iopub.execute_input": "2022-04-19T04:24:11.667025Z",
     "iopub.status.busy": "2022-04-19T04:24:11.666777Z",
     "iopub.status.idle": "2022-04-19T04:24:11.669922Z",
     "shell.execute_reply": "2022-04-19T04:24:11.669365Z"
    },
    "papermill": {
     "duration": 0.069251,
     "end_time": "2022-04-19T04:24:11.671550",
     "exception": false,
     "start_time": "2022-04-19T04:24:11.602299",
     "status": "completed"
    },
    "tags": []
   },
   "outputs": [],
   "source": [
    "del df, securities_df"
   ]
  },
  {
   "cell_type": "code",
   "execution_count": null,
   "id": "c21d539c",
   "metadata": {
    "papermill": {
     "duration": 0.063683,
     "end_time": "2022-04-19T04:24:11.797930",
     "exception": false,
     "start_time": "2022-04-19T04:24:11.734247",
     "status": "completed"
    },
    "tags": []
   },
   "outputs": [],
   "source": []
  }
 ],
 "metadata": {
  "jupytext": {
   "text_representation": {
    "extension": ".py",
    "format_name": "percent",
    "format_version": "1.3",
    "jupytext_version": "1.13.7"
   }
  },
  "kernelspec": {
   "display_name": "Python 3 (ipykernel)",
   "language": "python",
   "name": "python3"
  },
  "language_info": {
   "codemirror_mode": {
    "name": "ipython",
    "version": 3
   },
   "file_extension": ".py",
   "mimetype": "text/x-python",
   "name": "python",
   "nbconvert_exporter": "python",
   "pygments_lexer": "ipython3",
   "version": "3.9.10"
  },
  "papermill": {
   "duration": 18.859532,
   "end_time": "2022-04-19T04:24:12.283700",
   "exception": null,
   "input_path": "/var/folders/b0/4tc1nfbd6z7_vhx4nxcj2n91c0l9h6/T/tmpxq33pkyc.ipynb",
   "output_path": "/Users/aiujdm2/market_watch/output/notebooks/fetch_yfinance_data.ipynb",
   "parameters": {
    "product": {
     "data": "/Users/aiujdm2/market_watch/output/data/raw/yfinance_ticker_data-raw.xlsx",
     "nb": "/Users/aiujdm2/market_watch/output/notebooks/fetch_yfinance_data.ipynb"
    },
    "rolling_window": 120,
    "sample_pct": 1,
    "snp_filter": false,
    "upstream": {
     "total_org_count": {
      "data": "/Users/aiujdm2/market_watch/output/data/interim/total_org_counts.csv",
      "nb": "/Users/aiujdm2/market_watch/output/notebooks/total_org_count.ipynb"
     }
    },
    "yahoo_fields": [
     "Open",
     "Close",
     "High",
     "Low",
     "Volume"
    ]
   },
   "start_time": "2022-04-19T04:23:53.424168"
  }
 },
 "nbformat": 4,
 "nbformat_minor": 5
}