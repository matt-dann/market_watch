{
 "cells": [
  {
   "cell_type": "code",
   "execution_count": 1,
   "id": "51f0e2f9",
   "metadata": {
    "execution": {
     "iopub.execute_input": "2022-03-23T17:45:44.746921Z",
     "iopub.status.busy": "2022-03-23T17:45:44.746633Z",
     "iopub.status.idle": "2022-03-23T17:45:44.755457Z",
     "shell.execute_reply": "2022-03-23T17:45:44.754544Z"
    },
    "lines_to_next_cell": 2,
    "papermill": {
     "duration": 0.021686,
     "end_time": "2022-03-23T17:45:44.758035",
     "exception": false,
     "start_time": "2022-03-23T17:45:44.736349",
     "status": "completed"
    },
    "tags": [
     "parameters"
    ]
   },
   "outputs": [],
   "source": [
    "# If this task has dependencies, list them them here\n",
    "# (e.g. upstream = ['some_task']), otherwise leave as None.\n",
    "upstream = None\n",
    "\n",
    "# This is a placeholder, leave it as None\n",
    "product = None"
   ]
  },
  {
   "cell_type": "code",
   "execution_count": 2,
   "id": "de9774e9",
   "metadata": {
    "execution": {
     "iopub.execute_input": "2022-03-23T17:45:44.771512Z",
     "iopub.status.busy": "2022-03-23T17:45:44.771283Z",
     "iopub.status.idle": "2022-03-23T17:45:44.774896Z",
     "shell.execute_reply": "2022-03-23T17:45:44.774241Z"
    },
    "papermill": {
     "duration": 0.012032,
     "end_time": "2022-03-23T17:45:44.776953",
     "exception": false,
     "start_time": "2022-03-23T17:45:44.764921",
     "status": "completed"
    },
    "tags": [
     "injected-parameters"
    ]
   },
   "outputs": [],
   "source": [
    "# Parameters\n",
    "query_params = {\"rolling_window\": 1, \"tickers\": [\"TSLA\"]}\n",
    "product = {\n",
    "    \"nb\": \"/Users/aiujdm2/market_watch/output/notebooks/fetch_yfinance_data.ipynb\",\n",
    "    \"data\": \"/Users/aiujdm2/market_watch/output/data/raw/yfinance_ticker_data-raw.csv\",\n",
    "}\n"
   ]
  },
  {
   "cell_type": "code",
   "execution_count": 3,
   "id": "6fb118de",
   "metadata": {
    "execution": {
     "iopub.execute_input": "2022-03-23T17:45:44.789395Z",
     "iopub.status.busy": "2022-03-23T17:45:44.789161Z",
     "iopub.status.idle": "2022-03-23T17:45:45.358644Z",
     "shell.execute_reply": "2022-03-23T17:45:45.357891Z"
    },
    "lines_to_next_cell": 2,
    "papermill": {
     "duration": 0.578427,
     "end_time": "2022-03-23T17:45:45.360990",
     "exception": false,
     "start_time": "2022-03-23T17:45:44.782563",
     "status": "completed"
    },
    "tags": []
   },
   "outputs": [],
   "source": [
    "# your code here...\n",
    "import yfinance as yf\n",
    "import pandas as pd\n",
    "from src import utils\n",
    "import altair as alt\n",
    "\n",
    "alt.data_transformers.disable_max_rows()\n",
    "alt.themes.enable('fivethirtyeight')\n",
    "pd.set_option('display.float_format',  '{:,.2f}'.format)"
   ]
  },
  {
   "cell_type": "code",
   "execution_count": 4,
   "id": "a68bf3b5",
   "metadata": {
    "execution": {
     "iopub.execute_input": "2022-03-23T17:45:45.373626Z",
     "iopub.status.busy": "2022-03-23T17:45:45.373366Z",
     "iopub.status.idle": "2022-03-23T17:45:45.377475Z",
     "shell.execute_reply": "2022-03-23T17:45:45.376823Z"
    },
    "papermill": {
     "duration": 0.012695,
     "end_time": "2022-03-23T17:45:45.379577",
     "exception": false,
     "start_time": "2022-03-23T17:45:45.366882",
     "status": "completed"
    },
    "tags": []
   },
   "outputs": [],
   "source": [
    "tickers = query_params['tickers']\n",
    "rolling_window = query_params['rolling_window']\n",
    "\n",
    "start_date = utils.get_start_date(rolling_window)\n",
    "start_date = utils.general_date_format(start_date)"
   ]
  },
  {
   "cell_type": "code",
   "execution_count": 5,
   "id": "20e3e9ea",
   "metadata": {
    "execution": {
     "iopub.execute_input": "2022-03-23T17:45:45.393377Z",
     "iopub.status.busy": "2022-03-23T17:45:45.393146Z",
     "iopub.status.idle": "2022-03-23T17:45:45.399817Z",
     "shell.execute_reply": "2022-03-23T17:45:45.399342Z"
    },
    "papermill": {
     "duration": 0.016051,
     "end_time": "2022-03-23T17:45:45.401514",
     "exception": false,
     "start_time": "2022-03-23T17:45:45.385463",
     "status": "completed"
    },
    "tags": []
   },
   "outputs": [],
   "source": [
    "ticker = yf.Ticker(tickers[0])"
   ]
  },
  {
   "cell_type": "code",
   "execution_count": 6,
   "id": "04200ec4",
   "metadata": {
    "execution": {
     "iopub.execute_input": "2022-03-23T17:45:45.414470Z",
     "iopub.status.busy": "2022-03-23T17:45:45.414243Z",
     "iopub.status.idle": "2022-03-23T17:45:45.587762Z",
     "shell.execute_reply": "2022-03-23T17:45:45.587087Z"
    },
    "papermill": {
     "duration": 0.182545,
     "end_time": "2022-03-23T17:45:45.589902",
     "exception": false,
     "start_time": "2022-03-23T17:45:45.407357",
     "status": "completed"
    },
    "tags": []
   },
   "outputs": [],
   "source": [
    "ticker_history = ticker.history(start=start_date)"
   ]
  },
  {
   "cell_type": "code",
   "execution_count": 7,
   "id": "9dc189e8",
   "metadata": {
    "execution": {
     "iopub.execute_input": "2022-03-23T17:45:45.603209Z",
     "iopub.status.busy": "2022-03-23T17:45:45.602982Z",
     "iopub.status.idle": "2022-03-23T17:45:45.609519Z",
     "shell.execute_reply": "2022-03-23T17:45:45.608677Z"
    },
    "papermill": {
     "duration": 0.015115,
     "end_time": "2022-03-23T17:45:45.611443",
     "exception": false,
     "start_time": "2022-03-23T17:45:45.596328",
     "status": "completed"
    },
    "tags": []
   },
   "outputs": [],
   "source": [
    "history = ticker_history.reset_index()\n",
    "output_file_path = product['data']\n",
    "history.to_csv(output_file_path)"
   ]
  }
 ],
 "metadata": {
  "jupytext": {
   "text_representation": {
    "extension": ".py",
    "format_name": "percent",
    "format_version": "1.3",
    "jupytext_version": "1.13.7"
   }
  },
  "kernelspec": {
   "display_name": "Python 3 (ipykernel)",
   "language": "python",
   "name": "python3"
  },
  "language_info": {
   "codemirror_mode": {
    "name": "ipython",
    "version": 3
   },
   "file_extension": ".py",
   "mimetype": "text/x-python",
   "name": "python",
   "nbconvert_exporter": "python",
   "pygments_lexer": "ipython3",
   "version": "3.9.10"
  },
  "papermill": {
   "duration": 2.455322,
   "end_time": "2022-03-23T17:45:45.938974",
   "exception": null,
   "input_path": "/var/folders/b0/4tc1nfbd6z7_vhx4nxcj2n91c0l9h6/T/tmp099jn3vo.ipynb",
   "output_path": "/Users/aiujdm2/market_watch/output/notebooks/fetch_yfinance_data.ipynb",
   "parameters": {
    "product": {
     "data": "/Users/aiujdm2/market_watch/output/data/raw/yfinance_ticker_data-raw.csv",
     "nb": "/Users/aiujdm2/market_watch/output/notebooks/fetch_yfinance_data.ipynb"
    },
    "query_params": {
     "rolling_window": 1,
     "tickers": [
      "TSLA"
     ]
    }
   },
   "start_time": "2022-03-23T17:45:43.483652"
  }
 },
 "nbformat": 4,
 "nbformat_minor": 5
}