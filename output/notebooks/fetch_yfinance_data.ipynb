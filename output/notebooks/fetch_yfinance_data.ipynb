{
 "cells": [
  {
   "cell_type": "code",
   "execution_count": 1,
   "id": "a387b73a",
   "metadata": {
    "execution": {
     "iopub.execute_input": "2022-03-23T18:29:37.664245Z",
     "iopub.status.busy": "2022-03-23T18:29:37.663950Z",
     "iopub.status.idle": "2022-03-23T18:29:37.672019Z",
     "shell.execute_reply": "2022-03-23T18:29:37.671441Z"
    },
    "lines_to_next_cell": 2,
    "papermill": {
     "duration": 0.019554,
     "end_time": "2022-03-23T18:29:37.674094",
     "exception": false,
     "start_time": "2022-03-23T18:29:37.654540",
     "status": "completed"
    },
    "tags": [
     "parameters"
    ]
   },
   "outputs": [],
   "source": [
    "# If this task has dependencies, list them them here\n",
    "# (e.g. upstream = ['some_task']), otherwise leave as None.\n",
    "upstream = None\n",
    "\n",
    "# This is a placeholder, leave it as None\n",
    "product = None"
   ]
  },
  {
   "cell_type": "code",
   "execution_count": 2,
   "id": "0ff2e3ae",
   "metadata": {
    "execution": {
     "iopub.execute_input": "2022-03-23T18:29:37.686486Z",
     "iopub.status.busy": "2022-03-23T18:29:37.686269Z",
     "iopub.status.idle": "2022-03-23T18:29:37.689652Z",
     "shell.execute_reply": "2022-03-23T18:29:37.689096Z"
    },
    "papermill": {
     "duration": 0.011481,
     "end_time": "2022-03-23T18:29:37.691659",
     "exception": false,
     "start_time": "2022-03-23T18:29:37.680178",
     "status": "completed"
    },
    "tags": [
     "injected-parameters"
    ]
   },
   "outputs": [],
   "source": [
    "# Parameters\n",
    "query_params = {\"rolling_window\": 90, \"tickers\": [\"TSLA\"]}\n",
    "product = {\n",
    "    \"nb\": \"/Users/aiujdm2/market_watch/output/notebooks/fetch_yfinance_data.ipynb\",\n",
    "    \"data\": \"/Users/aiujdm2/market_watch/output/data/raw/yfinance_ticker_data-raw.csv\",\n",
    "}\n"
   ]
  },
  {
   "cell_type": "code",
   "execution_count": 3,
   "id": "12692de8",
   "metadata": {
    "execution": {
     "iopub.execute_input": "2022-03-23T18:29:37.703523Z",
     "iopub.status.busy": "2022-03-23T18:29:37.703287Z",
     "iopub.status.idle": "2022-03-23T18:29:38.158803Z",
     "shell.execute_reply": "2022-03-23T18:29:38.158232Z"
    },
    "lines_to_next_cell": 2,
    "papermill": {
     "duration": 0.463565,
     "end_time": "2022-03-23T18:29:38.160715",
     "exception": false,
     "start_time": "2022-03-23T18:29:37.697150",
     "status": "completed"
    },
    "tags": []
   },
   "outputs": [],
   "source": [
    "# your code here...\n",
    "import yfinance as yf\n",
    "import pandas as pd\n",
    "from src import utils\n",
    "import altair as alt\n",
    "\n",
    "alt.data_transformers.disable_max_rows()\n",
    "alt.themes.enable('fivethirtyeight')\n",
    "pd.set_option('display.float_format',  '{:,.2f}'.format)"
   ]
  },
  {
   "cell_type": "code",
   "execution_count": 4,
   "id": "997c35d3",
   "metadata": {
    "execution": {
     "iopub.execute_input": "2022-03-23T18:29:38.170450Z",
     "iopub.status.busy": "2022-03-23T18:29:38.170244Z",
     "iopub.status.idle": "2022-03-23T18:29:38.173812Z",
     "shell.execute_reply": "2022-03-23T18:29:38.173239Z"
    },
    "papermill": {
     "duration": 0.009949,
     "end_time": "2022-03-23T18:29:38.175398",
     "exception": false,
     "start_time": "2022-03-23T18:29:38.165449",
     "status": "completed"
    },
    "tags": []
   },
   "outputs": [],
   "source": [
    "tickers = query_params['tickers']\n",
    "rolling_window = query_params['rolling_window']\n",
    "\n",
    "start_date = utils.get_start_date(rolling_window)\n",
    "start_date = utils.general_date_format(start_date)"
   ]
  },
  {
   "cell_type": "code",
   "execution_count": 5,
   "id": "8315f7d5",
   "metadata": {
    "execution": {
     "iopub.execute_input": "2022-03-23T18:29:38.185611Z",
     "iopub.status.busy": "2022-03-23T18:29:38.185400Z",
     "iopub.status.idle": "2022-03-23T18:29:38.191994Z",
     "shell.execute_reply": "2022-03-23T18:29:38.191433Z"
    },
    "papermill": {
     "duration": 0.013605,
     "end_time": "2022-03-23T18:29:38.193621",
     "exception": false,
     "start_time": "2022-03-23T18:29:38.180016",
     "status": "completed"
    },
    "tags": []
   },
   "outputs": [],
   "source": [
    "ticker = yf.Ticker(tickers[0])"
   ]
  },
  {
   "cell_type": "code",
   "execution_count": 6,
   "id": "6f2d0276",
   "metadata": {
    "execution": {
     "iopub.execute_input": "2022-03-23T18:29:38.203580Z",
     "iopub.status.busy": "2022-03-23T18:29:38.203096Z",
     "iopub.status.idle": "2022-03-23T18:29:38.398439Z",
     "shell.execute_reply": "2022-03-23T18:29:38.397840Z"
    },
    "papermill": {
     "duration": 0.20219,
     "end_time": "2022-03-23T18:29:38.400105",
     "exception": false,
     "start_time": "2022-03-23T18:29:38.197915",
     "status": "completed"
    },
    "tags": []
   },
   "outputs": [],
   "source": [
    "ticker_history = ticker.history(start=start_date)"
   ]
  },
  {
   "cell_type": "code",
   "execution_count": 7,
   "id": "8a25850a",
   "metadata": {
    "execution": {
     "iopub.execute_input": "2022-03-23T18:29:38.410116Z",
     "iopub.status.busy": "2022-03-23T18:29:38.409814Z",
     "iopub.status.idle": "2022-03-23T18:29:38.415553Z",
     "shell.execute_reply": "2022-03-23T18:29:38.415032Z"
    },
    "papermill": {
     "duration": 0.012284,
     "end_time": "2022-03-23T18:29:38.417090",
     "exception": false,
     "start_time": "2022-03-23T18:29:38.404806",
     "status": "completed"
    },
    "tags": []
   },
   "outputs": [],
   "source": [
    "history = ticker_history.reset_index()\n",
    "output_file_path = product['data']\n",
    "history.to_csv(output_file_path)"
   ]
  }
 ],
 "metadata": {
  "jupytext": {
   "text_representation": {
    "extension": ".py",
    "format_name": "percent",
    "format_version": "1.3",
    "jupytext_version": "1.13.7"
   }
  },
  "kernelspec": {
   "display_name": "Python 3 (ipykernel)",
   "language": "python",
   "name": "python3"
  },
  "language_info": {
   "codemirror_mode": {
    "name": "ipython",
    "version": 3
   },
   "file_extension": ".py",
   "mimetype": "text/x-python",
   "name": "python",
   "nbconvert_exporter": "python",
   "pygments_lexer": "ipython3",
   "version": "3.9.10"
  },
  "papermill": {
   "duration": 1.906137,
   "end_time": "2022-03-23T18:29:38.639545",
   "exception": null,
   "input_path": "/var/folders/b0/4tc1nfbd6z7_vhx4nxcj2n91c0l9h6/T/tmpc55aa_d3.ipynb",
   "output_path": "/Users/aiujdm2/market_watch/output/notebooks/fetch_yfinance_data.ipynb",
   "parameters": {
    "product": {
     "data": "/Users/aiujdm2/market_watch/output/data/raw/yfinance_ticker_data-raw.csv",
     "nb": "/Users/aiujdm2/market_watch/output/notebooks/fetch_yfinance_data.ipynb"
    },
    "query_params": {
     "rolling_window": 90,
     "tickers": [
      "TSLA"
     ]
    }
   },
   "start_time": "2022-03-23T18:29:36.733408"
  }
 },
 "nbformat": 4,
 "nbformat_minor": 5
}