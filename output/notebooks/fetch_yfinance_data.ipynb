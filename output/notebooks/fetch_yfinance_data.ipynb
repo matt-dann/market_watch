{
 "cells": [
  {
   "cell_type": "code",
   "execution_count": 1,
   "id": "dacec545",
   "metadata": {
    "execution": {
     "iopub.execute_input": "2022-03-23T16:38:58.620874Z",
     "iopub.status.busy": "2022-03-23T16:38:58.620581Z",
     "iopub.status.idle": "2022-03-23T16:38:58.628194Z",
     "shell.execute_reply": "2022-03-23T16:38:58.627616Z"
    },
    "lines_to_next_cell": 2,
    "papermill": {
     "duration": 0.018965,
     "end_time": "2022-03-23T16:38:58.630252",
     "exception": false,
     "start_time": "2022-03-23T16:38:58.611287",
     "status": "completed"
    },
    "tags": [
     "parameters"
    ]
   },
   "outputs": [],
   "source": [
    "# If this task has dependencies, list them them here\n",
    "# (e.g. upstream = ['some_task']), otherwise leave as None.\n",
    "upstream = None\n",
    "\n",
    "# This is a placeholder, leave it as None\n",
    "product = None"
   ]
  },
  {
   "cell_type": "code",
   "execution_count": 2,
   "id": "810b89f7",
   "metadata": {
    "execution": {
     "iopub.execute_input": "2022-03-23T16:38:58.643266Z",
     "iopub.status.busy": "2022-03-23T16:38:58.643043Z",
     "iopub.status.idle": "2022-03-23T16:38:58.646350Z",
     "shell.execute_reply": "2022-03-23T16:38:58.645707Z"
    },
    "papermill": {
     "duration": 0.011564,
     "end_time": "2022-03-23T16:38:58.648319",
     "exception": false,
     "start_time": "2022-03-23T16:38:58.636755",
     "status": "completed"
    },
    "tags": [
     "injected-parameters"
    ]
   },
   "outputs": [],
   "source": [
    "# Parameters\n",
    "query_params = {\"rolling_window\": 1, \"tickers\": [\"TSLA\"]}\n",
    "product = {\n",
    "    \"nb\": \"/Users/aiujdm2/market_watch/output/notebooks/fetch_yfinance_data.ipynb\",\n",
    "    \"data\": \"/Users/aiujdm2/market_watch/output/data/raw/finance_data.csv\",\n",
    "}\n"
   ]
  },
  {
   "cell_type": "code",
   "execution_count": 3,
   "id": "f1849713",
   "metadata": {
    "execution": {
     "iopub.execute_input": "2022-03-23T16:38:58.660062Z",
     "iopub.status.busy": "2022-03-23T16:38:58.659846Z",
     "iopub.status.idle": "2022-03-23T16:38:59.105649Z",
     "shell.execute_reply": "2022-03-23T16:38:59.104853Z"
    },
    "lines_to_next_cell": 2,
    "papermill": {
     "duration": 0.454021,
     "end_time": "2022-03-23T16:38:59.107734",
     "exception": false,
     "start_time": "2022-03-23T16:38:58.653713",
     "status": "completed"
    },
    "tags": []
   },
   "outputs": [],
   "source": [
    "# your code here...\n",
    "import yfinance as yf\n",
    "import pandas as pd\n",
    "from src import utils\n",
    "import altair as alt\n",
    "\n",
    "alt.data_transformers.disable_max_rows()\n",
    "alt.themes.enable('fivethirtyeight')\n",
    "pd.set_option('display.float_format',  '{:,.2f}'.format)"
   ]
  },
  {
   "cell_type": "code",
   "execution_count": 4,
   "id": "45613cac",
   "metadata": {
    "execution": {
     "iopub.execute_input": "2022-03-23T16:38:59.120173Z",
     "iopub.status.busy": "2022-03-23T16:38:59.119953Z",
     "iopub.status.idle": "2022-03-23T16:38:59.123962Z",
     "shell.execute_reply": "2022-03-23T16:38:59.123299Z"
    },
    "papermill": {
     "duration": 0.012079,
     "end_time": "2022-03-23T16:38:59.125717",
     "exception": false,
     "start_time": "2022-03-23T16:38:59.113638",
     "status": "completed"
    },
    "tags": []
   },
   "outputs": [],
   "source": [
    "tickers = query_params['tickers']\n",
    "rolling_window = query_params['rolling_window']\n",
    "\n",
    "start_date = utils.get_start_date(rolling_window)\n",
    "start_date = utils.general_date_format(start_date)"
   ]
  },
  {
   "cell_type": "code",
   "execution_count": 5,
   "id": "798692d0",
   "metadata": {
    "execution": {
     "iopub.execute_input": "2022-03-23T16:38:59.137172Z",
     "iopub.status.busy": "2022-03-23T16:38:59.136970Z",
     "iopub.status.idle": "2022-03-23T16:38:59.143234Z",
     "shell.execute_reply": "2022-03-23T16:38:59.142706Z"
    },
    "papermill": {
     "duration": 0.01379,
     "end_time": "2022-03-23T16:38:59.144867",
     "exception": false,
     "start_time": "2022-03-23T16:38:59.131077",
     "status": "completed"
    },
    "tags": []
   },
   "outputs": [],
   "source": [
    "ticker = yf.Ticker(tickers[0])"
   ]
  },
  {
   "cell_type": "code",
   "execution_count": 6,
   "id": "92c8b3cb",
   "metadata": {
    "execution": {
     "iopub.execute_input": "2022-03-23T16:38:59.155976Z",
     "iopub.status.busy": "2022-03-23T16:38:59.155783Z",
     "iopub.status.idle": "2022-03-23T16:38:59.376526Z",
     "shell.execute_reply": "2022-03-23T16:38:59.375851Z"
    },
    "papermill": {
     "duration": 0.228422,
     "end_time": "2022-03-23T16:38:59.378480",
     "exception": false,
     "start_time": "2022-03-23T16:38:59.150058",
     "status": "completed"
    },
    "tags": []
   },
   "outputs": [],
   "source": [
    "ticker_history = ticker.history(start=start_date)"
   ]
  },
  {
   "cell_type": "code",
   "execution_count": 7,
   "id": "8a44de00",
   "metadata": {
    "execution": {
     "iopub.execute_input": "2022-03-23T16:38:59.391538Z",
     "iopub.status.busy": "2022-03-23T16:38:59.391323Z",
     "iopub.status.idle": "2022-03-23T16:38:59.397133Z",
     "shell.execute_reply": "2022-03-23T16:38:59.396580Z"
    },
    "papermill": {
     "duration": 0.013749,
     "end_time": "2022-03-23T16:38:59.398910",
     "exception": false,
     "start_time": "2022-03-23T16:38:59.385161",
     "status": "completed"
    },
    "tags": []
   },
   "outputs": [],
   "source": [
    "history = ticker_history.reset_index()\n",
    "output_file_path = product['data']\n",
    "history.to_csv(output_file_path)"
   ]
  }
 ],
 "metadata": {
  "jupytext": {
   "text_representation": {
    "extension": ".py",
    "format_name": "percent",
    "format_version": "1.3",
    "jupytext_version": "1.13.7"
   }
  },
  "kernelspec": {
   "display_name": "Python 3 (ipykernel)",
   "language": "python",
   "name": "python3"
  },
  "language_info": {
   "codemirror_mode": {
    "name": "ipython",
    "version": 3
   },
   "file_extension": ".py",
   "mimetype": "text/x-python",
   "name": "python",
   "nbconvert_exporter": "python",
   "pygments_lexer": "ipython3",
   "version": "3.9.10"
  },
  "papermill": {
   "duration": 2.037377,
   "end_time": "2022-03-23T16:38:59.725466",
   "exception": null,
   "input_path": "/var/folders/b0/4tc1nfbd6z7_vhx4nxcj2n91c0l9h6/T/tmpagvvnao4.ipynb",
   "output_path": "/Users/aiujdm2/market_watch/output/notebooks/fetch_yfinance_data.ipynb",
   "parameters": {
    "product": {
     "data": "/Users/aiujdm2/market_watch/output/data/raw/finance_data.csv",
     "nb": "/Users/aiujdm2/market_watch/output/notebooks/fetch_yfinance_data.ipynb"
    },
    "query_params": {
     "rolling_window": 1,
     "tickers": [
      "TSLA"
     ]
    }
   },
   "start_time": "2022-03-23T16:38:57.688089"
  }
 },
 "nbformat": 4,
 "nbformat_minor": 5
}