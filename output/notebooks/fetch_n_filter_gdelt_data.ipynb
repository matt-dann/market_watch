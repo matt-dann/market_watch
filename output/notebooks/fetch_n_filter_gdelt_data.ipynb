{
 "cells": [
  {
   "cell_type": "markdown",
   "id": "fa4a1ed9",
   "metadata": {
    "tags": [
     "papermill-error-cell-tag"
    ]
   },
   "source": [
    "<span style=\"color:red; font-family:Helvetica Neue, Helvetica, Arial, sans-serif; font-size:2em;\">An Exception was encountered at '<a href=\"#papermill-error-cell\">In [10]</a>'.</span>"
   ]
  },
  {
   "cell_type": "code",
   "execution_count": 1,
   "id": "adbd1d73",
   "metadata": {
    "execution": {
     "iopub.execute_input": "2022-03-21T14:38:20.313705Z",
     "iopub.status.busy": "2022-03-21T14:38:20.313407Z",
     "iopub.status.idle": "2022-03-21T14:38:20.321489Z",
     "shell.execute_reply": "2022-03-21T14:38:20.320609Z"
    },
    "papermill": {
     "duration": 0.022369,
     "end_time": "2022-03-21T14:38:20.323773",
     "exception": false,
     "start_time": "2022-03-21T14:38:20.301404",
     "status": "completed"
    },
    "tags": [
     "parameters"
    ]
   },
   "outputs": [],
   "source": [
    "# declare a list tasks whose products you want to use as inputs\n",
    "upstream = None"
   ]
  },
  {
   "cell_type": "code",
   "execution_count": 2,
   "id": "1c32e48d",
   "metadata": {
    "execution": {
     "iopub.execute_input": "2022-03-21T14:38:20.342966Z",
     "iopub.status.busy": "2022-03-21T14:38:20.342684Z",
     "iopub.status.idle": "2022-03-21T14:38:20.346479Z",
     "shell.execute_reply": "2022-03-21T14:38:20.345851Z"
    },
    "papermill": {
     "duration": 0.014885,
     "end_time": "2022-03-21T14:38:20.348387",
     "exception": false,
     "start_time": "2022-03-21T14:38:20.333502",
     "status": "completed"
    },
    "tags": [
     "injected-parameters"
    ]
   },
   "outputs": [],
   "source": [
    "# Parameters\n",
    "query_params = {\n",
    "    \"rolling_window\": 90,\n",
    "    \"search_terms\": [\"Tesla\", \"Tesla Inc\", \"Tesla Motors\"],\n",
    "    \"gdelt_gkg_base_url\": \"http://data.gdeltproject.org/gdeltv2/\",\n",
    "}\n",
    "product = {\n",
    "    \"nb\": \"/Users/aiujdm2/market_watch/output/notebooks/fetch_n_filter_gdelt_data.ipynb\",\n",
    "    \"data\": \"/Users/aiujdm2/market_watch/output/data/raw/gdelt-gkg-tesla.csv\",\n",
    "}\n"
   ]
  },
  {
   "cell_type": "code",
   "execution_count": 3,
   "id": "4036914a",
   "metadata": {
    "execution": {
     "iopub.execute_input": "2022-03-21T14:38:20.364940Z",
     "iopub.status.busy": "2022-03-21T14:38:20.364725Z",
     "iopub.status.idle": "2022-03-21T14:38:20.840288Z",
     "shell.execute_reply": "2022-03-21T14:38:20.839164Z"
    },
    "papermill": {
     "duration": 0.486174,
     "end_time": "2022-03-21T14:38:20.842679",
     "exception": false,
     "start_time": "2022-03-21T14:38:20.356505",
     "status": "completed"
    },
    "tags": []
   },
   "outputs": [],
   "source": [
    "import datetime\n",
    "from pathlib import Path\n",
    "from urllib.error import HTTPError\n",
    "import gdelt\n",
    "import pandas as pd\n",
    "import os\n",
    "\n",
    "import sys\n",
    "\n",
    "import warnings\n",
    "\n",
    "warnings.filterwarnings('ignore')"
   ]
  },
  {
   "cell_type": "code",
   "execution_count": 4,
   "id": "c891f1f4",
   "metadata": {
    "execution": {
     "iopub.execute_input": "2022-03-21T14:38:20.861903Z",
     "iopub.status.busy": "2022-03-21T14:38:20.861643Z",
     "iopub.status.idle": "2022-03-21T14:38:20.865718Z",
     "shell.execute_reply": "2022-03-21T14:38:20.865101Z"
    },
    "papermill": {
     "duration": 0.016449,
     "end_time": "2022-03-21T14:38:20.868063",
     "exception": false,
     "start_time": "2022-03-21T14:38:20.851614",
     "status": "completed"
    },
    "tags": []
   },
   "outputs": [
    {
     "name": "stdout",
     "output_type": "stream",
     "text": [
      "/Users/aiujdm2/.local/share/virtualenvs/market_watch-dtlP-L11/bin/python\n"
     ]
    }
   ],
   "source": [
    "print(sys.executable)"
   ]
  },
  {
   "cell_type": "code",
   "execution_count": 5,
   "id": "1f01266a",
   "metadata": {
    "execution": {
     "iopub.execute_input": "2022-03-21T14:38:20.886205Z",
     "iopub.status.busy": "2022-03-21T14:38:20.885985Z",
     "iopub.status.idle": "2022-03-21T14:38:20.890949Z",
     "shell.execute_reply": "2022-03-21T14:38:20.890464Z"
    },
    "papermill": {
     "duration": 0.015657,
     "end_time": "2022-03-21T14:38:20.892702",
     "exception": false,
     "start_time": "2022-03-21T14:38:20.877045",
     "status": "completed"
    },
    "tags": []
   },
   "outputs": [],
   "source": [
    "col_names = ['GKGRECORDID', 'DATE', 'SourceCollectionIdentifier', 'SourceCommonName',\n",
    "             'DocumentIdentifier', 'Counts', 'V2Counts', 'Themes', 'V2Themes',\n",
    "             'Locations', 'V2Locations', 'Persons', 'V2Persons', 'Organizations',\n",
    "             'V2Organizations', 'V2Tone', 'Dates', 'GCAM', 'SharingImage',\n",
    "             'RelatedImages', 'SocialImageEmbeds', 'SocialVideoEmbeds', 'Quotations',\n",
    "             'AllNames', 'Amounts', 'TranslationInfo', 'Extras']\n",
    "\n",
    "filter_cols = [\n",
    "    'GKGRECORDID',\n",
    "    'DATE',\n",
    "    'SourceCollectionIdentifier',\n",
    "    'SourceCommonName',\n",
    "    'DocumentIdentifier',\n",
    "    'V2Counts',\n",
    "    'V2Themes',\n",
    "    'V2Locations',\n",
    "    'V2Persons',\n",
    "    'V2Organizations',\n",
    "    'V2Tone',\n",
    "    'GCAM',\n",
    "    'SharingImage',\n",
    "    'RelatedImages',\n",
    "    'SocialImageEmbeds',\n",
    "    'SocialVideoEmbeds',\n",
    "    'Quotations',\n",
    "    'AllNames',\n",
    "    'Amounts',\n",
    "    'TranslationInfo',\n",
    "    'Extras'\n",
    "]\n",
    "#  config parameter that tells us rolling window for getting data \n",
    "# i.e. a value of 30 in env.yaml means 30 days rolling window. We will fetch data from today to 30 days back.\n",
    "rolling_window = query_params[\"rolling_window\"]\n",
    "gdelt_gkg_base_url = query_params[\"gdelt_gkg_base_url\"]"
   ]
  },
  {
   "cell_type": "code",
   "execution_count": 6,
   "id": "4c706043",
   "metadata": {
    "execution": {
     "iopub.execute_input": "2022-03-21T14:38:20.909315Z",
     "iopub.status.busy": "2022-03-21T14:38:20.909119Z",
     "iopub.status.idle": "2022-03-21T14:38:20.911574Z",
     "shell.execute_reply": "2022-03-21T14:38:20.911160Z"
    },
    "papermill": {
     "duration": 0.012385,
     "end_time": "2022-03-21T14:38:20.913069",
     "exception": false,
     "start_time": "2022-03-21T14:38:20.900684",
     "status": "completed"
    },
    "tags": []
   },
   "outputs": [],
   "source": [
    "gd = gdelt.gdelt(version=2)"
   ]
  },
  {
   "cell_type": "code",
   "execution_count": 7,
   "id": "c6b67be0",
   "metadata": {
    "execution": {
     "iopub.execute_input": "2022-03-21T14:38:20.926650Z",
     "iopub.status.busy": "2022-03-21T14:38:20.926498Z",
     "iopub.status.idle": "2022-03-21T14:38:20.931644Z",
     "shell.execute_reply": "2022-03-21T14:38:20.931243Z"
    },
    "papermill": {
     "duration": 0.013775,
     "end_time": "2022-03-21T14:38:20.933209",
     "exception": false,
     "start_time": "2022-03-21T14:38:20.919434",
     "status": "completed"
    },
    "tags": []
   },
   "outputs": [],
   "source": [
    "from datetime import datetime, timedelta\n",
    "\n",
    "\n",
    "def datetime_range(start, end, delta):\n",
    "    current = start\n",
    "    while current < end:\n",
    "        yield current\n",
    "        current += delta\n",
    "\n",
    "def get_gkg_file_url(rolling_window, base_url):\n",
    "    today = datetime.utcnow()\n",
    "\n",
    "    pd_ts = pd.Timestamp(today)\n",
    "    today_ts = pd_ts.round('15T')\n",
    "\n",
    "    how_far_back = timedelta(days=rolling_window)\n",
    "    start_date = today_ts - how_far_back\n",
    "    for dt in datetime_range(start_date, today_ts,timedelta(minutes=15)):\n",
    "            yield base_url + f'{dt.strftime(\"%Y%m%d%H%M00\")}.gkg.csv.zip'\n",
    "    \n",
    "def get_urls(rolling_window, base_url):\n",
    "    today = datetime.utcnow()\n",
    "\n",
    "    pd_ts = pd.Timestamp(today)\n",
    "    today_ts = pd_ts.round('15T')\n",
    "\n",
    "    how_far_back = timedelta(days=rolling_window)\n",
    "    start_date = today_ts - how_far_back\n",
    "    urls = [\n",
    "        base_url + f'{dt.strftime(\"%Y%m%d%H%M00\")}.gkg.csv.zip'\n",
    "        for dt in\n",
    "        datetime_range(\n",
    "            start_date,\n",
    "            today_ts,\n",
    "            timedelta(minutes=15)\n",
    "        )\n",
    "    ]\n",
    "    return urls"
   ]
  },
  {
   "cell_type": "code",
   "execution_count": 8,
   "id": "44aa9bed",
   "metadata": {
    "execution": {
     "iopub.execute_input": "2022-03-21T14:38:20.946970Z",
     "iopub.status.busy": "2022-03-21T14:38:20.946820Z",
     "iopub.status.idle": "2022-03-21T14:38:21.006709Z",
     "shell.execute_reply": "2022-03-21T14:38:21.006169Z"
    },
    "papermill": {
     "duration": 0.068734,
     "end_time": "2022-03-21T14:38:21.008452",
     "exception": false,
     "start_time": "2022-03-21T14:38:20.939718",
     "status": "completed"
    },
    "tags": []
   },
   "outputs": [],
   "source": [
    "urls = get_urls(\n",
    "    rolling_window=rolling_window,\n",
    "    base_url='http://data.gdeltproject.org/gdeltv2/'\n",
    ")"
   ]
  },
  {
   "cell_type": "code",
   "execution_count": 9,
   "id": "913edaa8",
   "metadata": {
    "execution": {
     "iopub.execute_input": "2022-03-21T14:38:21.023196Z",
     "iopub.status.busy": "2022-03-21T14:38:21.022954Z",
     "iopub.status.idle": "2022-03-21T14:38:21.029123Z",
     "shell.execute_reply": "2022-03-21T14:38:21.028695Z"
    },
    "papermill": {
     "duration": 0.015165,
     "end_time": "2022-03-21T14:38:21.030602",
     "exception": false,
     "start_time": "2022-03-21T14:38:21.015437",
     "status": "completed"
    },
    "tags": []
   },
   "outputs": [],
   "source": [
    "def read_and_filter_files():\n",
    "    \n",
    "    data = []\n",
    "\n",
    "    for url in get_gkg_file_url(rolling_window, base_url=gdelt_gkg_base_url):\n",
    "        file_name = os.path.basename(url).split(\".\")[0]\n",
    "        try:\n",
    "            search_results = pd.read_csv(url, sep='\\t', names=col_names, on_bad_lines='skip', encoding_errors='ignore')\n",
    "        except HTTPError as err:\n",
    "            print(f\"Unable to fetch {url}. Encountered {err.code}\")\n",
    "            pass\n",
    "        # Add search date to file name     \n",
    "        file_path = product[\"data\"]\n",
    "        Path(file_path).parent.mkdir(exist_ok=True, parents=True)\n",
    "        # Form a query friendly search terms     \n",
    "        search_terms = \"|\".join(query_params['search_terms'])\n",
    "        organizations = search_results['V2Organizations'].str.lower()\n",
    "        filter_cond = organizations.str.contains(search_terms, regex=True, case=False, na=False)\n",
    "        df = search_results[filter_cond]\n",
    "\n",
    "        if len(df) > 0:\n",
    "            print(f\"==> Found {len(df)} matchign records out of {len(search_results)} for {search_terms} on {file_name}\")\n",
    "            data.append(df[filter_cols])\n",
    "            \n",
    "    data_df = pd.concat(data)\n",
    "    data_df.to_csv(file_path) \n",
    "    print(f\"Processed merged file with {len(data_df)} records\")\n",
    "\n",
    "\n",
    "    # # fetch data for each day and then filter it on search terms\n",
    "# for url in urls:\n",
    "#     file_name = os.path.basename(url).split(\".\")[0]\n",
    "#     search_results = pd.read_csv(url, sep='\\t', names=col_names, on_bad_lines='skip', encoding_errors='ignore')\n",
    "#     # Add search date to file name     \n",
    "#     file_path = f'{product[\"data\"]}/{str(file_name)}'\n",
    "#     Path(file_path).parent.mkdir(exist_ok=True, parents=True)\n",
    "\n",
    "#     # Form a query friendly search terms     \n",
    "#     search_terms = \"|\".join(query_params['search_terms'])\n",
    "#     organizations = search_results['V2Organizations'].str.lower()\n",
    "#     filter_cond = organizations.str.contains(search_terms, regex=True, case=False, na=False)\n",
    "#     df = search_results[filter_cond]\n",
    "\n",
    "#     if len(df) > 0:\n",
    "#         print(f\"==> Found {len(df)} matchign records out of {len(search_results)} for {search_terms} on {file_name}\")\n",
    "#         df[filter_cols].to_csv(file_path + '.csv')"
   ]
  },
  {
   "cell_type": "markdown",
   "id": "a9153039",
   "metadata": {
    "tags": [
     "papermill-error-cell-tag"
    ]
   },
   "source": [
    "<span id=\"papermill-error-cell\" style=\"color:red; font-family:Helvetica Neue, Helvetica, Arial, sans-serif; font-size:2em;\">Execution using papermill encountered an exception here and stopped:</span>"
   ]
  },
  {
   "cell_type": "code",
   "execution_count": 10,
   "id": "c78a624b",
   "metadata": {
    "execution": {
     "iopub.execute_input": "2022-03-21T14:38:21.045238Z",
     "iopub.status.busy": "2022-03-21T14:38:21.045069Z",
     "iopub.status.idle": "2022-03-21T14:59:33.523457Z",
     "shell.execute_reply": "2022-03-21T14:59:33.522481Z"
    },
    "papermill": {
     "duration": 1272.72017,
     "end_time": "2022-03-21T14:59:33.757710",
     "exception": true,
     "start_time": "2022-03-21T14:38:21.037540",
     "status": "failed"
    },
    "tags": []
   },
   "outputs": [
    {
     "name": "stdout",
     "output_type": "stream",
     "text": [
      "==> Found 1 matchign records out of 1564 for Tesla|Tesla Inc|Tesla Motors on 20211221150000\n"
     ]
    },
    {
     "name": "stdout",
     "output_type": "stream",
     "text": [
      "==> Found 3 matchign records out of 1562 for Tesla|Tesla Inc|Tesla Motors on 20211221151500\n"
     ]
    },
    {
     "name": "stdout",
     "output_type": "stream",
     "text": [
      "==> Found 2 matchign records out of 1539 for Tesla|Tesla Inc|Tesla Motors on 20211221154500\n"
     ]
    },
    {
     "name": "stdout",
     "output_type": "stream",
     "text": [
      "==> Found 2 matchign records out of 1859 for Tesla|Tesla Inc|Tesla Motors on 20211221160000\n"
     ]
    },
    {
     "name": "stdout",
     "output_type": "stream",
     "text": [
      "==> Found 3 matchign records out of 1915 for Tesla|Tesla Inc|Tesla Motors on 20211221163000\n"
     ]
    },
    {
     "name": "stdout",
     "output_type": "stream",
     "text": [
      "==> Found 3 matchign records out of 1911 for Tesla|Tesla Inc|Tesla Motors on 20211221173000\n"
     ]
    },
    {
     "name": "stdout",
     "output_type": "stream",
     "text": [
      "==> Found 2 matchign records out of 1869 for Tesla|Tesla Inc|Tesla Motors on 20211221174500\n"
     ]
    },
    {
     "name": "stdout",
     "output_type": "stream",
     "text": [
      "==> Found 3 matchign records out of 2023 for Tesla|Tesla Inc|Tesla Motors on 20211221180000\n"
     ]
    },
    {
     "name": "stdout",
     "output_type": "stream",
     "text": [
      "==> Found 4 matchign records out of 2135 for Tesla|Tesla Inc|Tesla Motors on 20211221181500\n"
     ]
    },
    {
     "name": "stdout",
     "output_type": "stream",
     "text": [
      "==> Found 3 matchign records out of 2075 for Tesla|Tesla Inc|Tesla Motors on 20211221183000\n"
     ]
    },
    {
     "name": "stdout",
     "output_type": "stream",
     "text": [
      "==> Found 4 matchign records out of 2013 for Tesla|Tesla Inc|Tesla Motors on 20211221184500\n"
     ]
    },
    {
     "name": "stdout",
     "output_type": "stream",
     "text": [
      "==> Found 1 matchign records out of 2035 for Tesla|Tesla Inc|Tesla Motors on 20211221190000\n"
     ]
    },
    {
     "name": "stdout",
     "output_type": "stream",
     "text": [
      "==> Found 1 matchign records out of 2025 for Tesla|Tesla Inc|Tesla Motors on 20211221191500\n"
     ]
    },
    {
     "name": "stdout",
     "output_type": "stream",
     "text": [
      "==> Found 1 matchign records out of 1971 for Tesla|Tesla Inc|Tesla Motors on 20211221194500\n"
     ]
    },
    {
     "name": "stdout",
     "output_type": "stream",
     "text": [
      "==> Found 2 matchign records out of 1933 for Tesla|Tesla Inc|Tesla Motors on 20211221200000\n"
     ]
    },
    {
     "name": "stdout",
     "output_type": "stream",
     "text": [
      "==> Found 2 matchign records out of 2045 for Tesla|Tesla Inc|Tesla Motors on 20211221201500\n"
     ]
    },
    {
     "name": "stdout",
     "output_type": "stream",
     "text": [
      "==> Found 1 matchign records out of 1939 for Tesla|Tesla Inc|Tesla Motors on 20211221204500\n"
     ]
    },
    {
     "name": "stdout",
     "output_type": "stream",
     "text": [
      "==> Found 1 matchign records out of 1819 for Tesla|Tesla Inc|Tesla Motors on 20211221211500\n"
     ]
    },
    {
     "name": "stdout",
     "output_type": "stream",
     "text": [
      "==> Found 2 matchign records out of 1843 for Tesla|Tesla Inc|Tesla Motors on 20211221213000\n"
     ]
    },
    {
     "name": "stdout",
     "output_type": "stream",
     "text": [
      "==> Found 1 matchign records out of 1870 for Tesla|Tesla Inc|Tesla Motors on 20211221214500\n"
     ]
    },
    {
     "name": "stdout",
     "output_type": "stream",
     "text": [
      "==> Found 5 matchign records out of 1491 for Tesla|Tesla Inc|Tesla Motors on 20211221220000\n"
     ]
    },
    {
     "name": "stdout",
     "output_type": "stream",
     "text": [
      "==> Found 2 matchign records out of 1633 for Tesla|Tesla Inc|Tesla Motors on 20211221221500\n"
     ]
    },
    {
     "name": "stdout",
     "output_type": "stream",
     "text": [
      "==> Found 1 matchign records out of 1426 for Tesla|Tesla Inc|Tesla Motors on 20211221224500\n"
     ]
    },
    {
     "name": "stdout",
     "output_type": "stream",
     "text": [
      "==> Found 1 matchign records out of 1318 for Tesla|Tesla Inc|Tesla Motors on 20211222000000\n"
     ]
    },
    {
     "name": "stdout",
     "output_type": "stream",
     "text": [
      "==> Found 1 matchign records out of 1431 for Tesla|Tesla Inc|Tesla Motors on 20211222010000\n"
     ]
    },
    {
     "name": "stdout",
     "output_type": "stream",
     "text": [
      "==> Found 1 matchign records out of 1438 for Tesla|Tesla Inc|Tesla Motors on 20211222013000\n"
     ]
    },
    {
     "name": "stdout",
     "output_type": "stream",
     "text": [
      "==> Found 1 matchign records out of 898 for Tesla|Tesla Inc|Tesla Motors on 20211222031500\n"
     ]
    },
    {
     "name": "stdout",
     "output_type": "stream",
     "text": [
      "==> Found 2 matchign records out of 905 for Tesla|Tesla Inc|Tesla Motors on 20211222033000\n"
     ]
    },
    {
     "name": "stdout",
     "output_type": "stream",
     "text": [
      "==> Found 1 matchign records out of 900 for Tesla|Tesla Inc|Tesla Motors on 20211222044500\n"
     ]
    },
    {
     "name": "stdout",
     "output_type": "stream",
     "text": [
      "==> Found 1 matchign records out of 958 for Tesla|Tesla Inc|Tesla Motors on 20211222053000\n"
     ]
    },
    {
     "name": "stdout",
     "output_type": "stream",
     "text": [
      "==> Found 2 matchign records out of 920 for Tesla|Tesla Inc|Tesla Motors on 20211222054500\n"
     ]
    },
    {
     "name": "stdout",
     "output_type": "stream",
     "text": [
      "==> Found 1 matchign records out of 897 for Tesla|Tesla Inc|Tesla Motors on 20211222060000\n"
     ]
    },
    {
     "name": "stdout",
     "output_type": "stream",
     "text": [
      "==> Found 1 matchign records out of 800 for Tesla|Tesla Inc|Tesla Motors on 20211222061500\n"
     ]
    },
    {
     "name": "stdout",
     "output_type": "stream",
     "text": [
      "==> Found 2 matchign records out of 945 for Tesla|Tesla Inc|Tesla Motors on 20211222063000\n"
     ]
    },
    {
     "name": "stdout",
     "output_type": "stream",
     "text": [
      "==> Found 2 matchign records out of 881 for Tesla|Tesla Inc|Tesla Motors on 20211222064500\n"
     ]
    },
    {
     "name": "stdout",
     "output_type": "stream",
     "text": [
      "==> Found 2 matchign records out of 1078 for Tesla|Tesla Inc|Tesla Motors on 20211222070000\n"
     ]
    },
    {
     "name": "stdout",
     "output_type": "stream",
     "text": [
      "==> Found 1 matchign records out of 897 for Tesla|Tesla Inc|Tesla Motors on 20211222071500\n"
     ]
    },
    {
     "name": "stdout",
     "output_type": "stream",
     "text": [
      "==> Found 2 matchign records out of 940 for Tesla|Tesla Inc|Tesla Motors on 20211222073000\n"
     ]
    },
    {
     "name": "stdout",
     "output_type": "stream",
     "text": [
      "==> Found 2 matchign records out of 968 for Tesla|Tesla Inc|Tesla Motors on 20211222074500\n"
     ]
    },
    {
     "name": "stdout",
     "output_type": "stream",
     "text": [
      "==> Found 1 matchign records out of 957 for Tesla|Tesla Inc|Tesla Motors on 20211222080000\n"
     ]
    },
    {
     "name": "stdout",
     "output_type": "stream",
     "text": [
      "==> Found 3 matchign records out of 875 for Tesla|Tesla Inc|Tesla Motors on 20211222081500\n"
     ]
    },
    {
     "name": "stdout",
     "output_type": "stream",
     "text": [
      "==> Found 2 matchign records out of 986 for Tesla|Tesla Inc|Tesla Motors on 20211222083000\n"
     ]
    },
    {
     "name": "stdout",
     "output_type": "stream",
     "text": [
      "==> Found 1 matchign records out of 942 for Tesla|Tesla Inc|Tesla Motors on 20211222090000\n"
     ]
    },
    {
     "name": "stdout",
     "output_type": "stream",
     "text": [
      "==> Found 1 matchign records out of 949 for Tesla|Tesla Inc|Tesla Motors on 20211222094500\n"
     ]
    },
    {
     "name": "stdout",
     "output_type": "stream",
     "text": [
      "==> Found 1 matchign records out of 1055 for Tesla|Tesla Inc|Tesla Motors on 20211222100000\n"
     ]
    },
    {
     "name": "stdout",
     "output_type": "stream",
     "text": [
      "==> Found 1 matchign records out of 1318 for Tesla|Tesla Inc|Tesla Motors on 20211222113000\n"
     ]
    },
    {
     "name": "stdout",
     "output_type": "stream",
     "text": [
      "==> Found 1 matchign records out of 1420 for Tesla|Tesla Inc|Tesla Motors on 20211222120000\n"
     ]
    },
    {
     "name": "stdout",
     "output_type": "stream",
     "text": [
      "==> Found 3 matchign records out of 1467 for Tesla|Tesla Inc|Tesla Motors on 20211222121500\n"
     ]
    },
    {
     "name": "stdout",
     "output_type": "stream",
     "text": [
      "==> Found 1 matchign records out of 1316 for Tesla|Tesla Inc|Tesla Motors on 20211222130000\n"
     ]
    },
    {
     "name": "stdout",
     "output_type": "stream",
     "text": [
      "==> Found 1 matchign records out of 1358 for Tesla|Tesla Inc|Tesla Motors on 20211222131500\n"
     ]
    },
    {
     "name": "stdout",
     "output_type": "stream",
     "text": [
      "==> Found 4 matchign records out of 1480 for Tesla|Tesla Inc|Tesla Motors on 20211222133000\n"
     ]
    },
    {
     "name": "stdout",
     "output_type": "stream",
     "text": [
      "==> Found 2 matchign records out of 1653 for Tesla|Tesla Inc|Tesla Motors on 20211222134500\n"
     ]
    },
    {
     "name": "stdout",
     "output_type": "stream",
     "text": [
      "==> Found 3 matchign records out of 1489 for Tesla|Tesla Inc|Tesla Motors on 20211222140000\n"
     ]
    },
    {
     "name": "stdout",
     "output_type": "stream",
     "text": [
      "==> Found 3 matchign records out of 1465 for Tesla|Tesla Inc|Tesla Motors on 20211222143000\n"
     ]
    },
    {
     "name": "stdout",
     "output_type": "stream",
     "text": [
      "==> Found 1 matchign records out of 1739 for Tesla|Tesla Inc|Tesla Motors on 20211222144500\n"
     ]
    },
    {
     "name": "stdout",
     "output_type": "stream",
     "text": [
      "==> Found 3 matchign records out of 1696 for Tesla|Tesla Inc|Tesla Motors on 20211222150000\n"
     ]
    },
    {
     "name": "stdout",
     "output_type": "stream",
     "text": [
      "==> Found 3 matchign records out of 1694 for Tesla|Tesla Inc|Tesla Motors on 20211222151500\n"
     ]
    },
    {
     "name": "stdout",
     "output_type": "stream",
     "text": [
      "==> Found 3 matchign records out of 1544 for Tesla|Tesla Inc|Tesla Motors on 20211222153000\n"
     ]
    },
    {
     "name": "stdout",
     "output_type": "stream",
     "text": [
      "==> Found 5 matchign records out of 1862 for Tesla|Tesla Inc|Tesla Motors on 20211222154500\n"
     ]
    },
    {
     "name": "stdout",
     "output_type": "stream",
     "text": [
      "==> Found 4 matchign records out of 1762 for Tesla|Tesla Inc|Tesla Motors on 20211222161500\n"
     ]
    },
    {
     "name": "stdout",
     "output_type": "stream",
     "text": [
      "==> Found 2 matchign records out of 1607 for Tesla|Tesla Inc|Tesla Motors on 20211222163000\n"
     ]
    },
    {
     "name": "stdout",
     "output_type": "stream",
     "text": [
      "==> Found 2 matchign records out of 1915 for Tesla|Tesla Inc|Tesla Motors on 20211222164500\n"
     ]
    },
    {
     "name": "stdout",
     "output_type": "stream",
     "text": [
      "==> Found 2 matchign records out of 1825 for Tesla|Tesla Inc|Tesla Motors on 20211222170000\n"
     ]
    },
    {
     "name": "stdout",
     "output_type": "stream",
     "text": [
      "==> Found 1 matchign records out of 1802 for Tesla|Tesla Inc|Tesla Motors on 20211222171500\n"
     ]
    },
    {
     "name": "stdout",
     "output_type": "stream",
     "text": [
      "==> Found 2 matchign records out of 1969 for Tesla|Tesla Inc|Tesla Motors on 20211222174500\n"
     ]
    },
    {
     "name": "stdout",
     "output_type": "stream",
     "text": [
      "==> Found 1 matchign records out of 1924 for Tesla|Tesla Inc|Tesla Motors on 20211222180000\n"
     ]
    },
    {
     "name": "stdout",
     "output_type": "stream",
     "text": [
      "==> Found 1 matchign records out of 1818 for Tesla|Tesla Inc|Tesla Motors on 20211222183000\n"
     ]
    },
    {
     "name": "stdout",
     "output_type": "stream",
     "text": [
      "==> Found 1 matchign records out of 1896 for Tesla|Tesla Inc|Tesla Motors on 20211222184500\n"
     ]
    },
    {
     "name": "stdout",
     "output_type": "stream",
     "text": [
      "==> Found 1 matchign records out of 1938 for Tesla|Tesla Inc|Tesla Motors on 20211222190000\n"
     ]
    },
    {
     "name": "stdout",
     "output_type": "stream",
     "text": [
      "==> Found 1 matchign records out of 1975 for Tesla|Tesla Inc|Tesla Motors on 20211222191500\n"
     ]
    },
    {
     "name": "stdout",
     "output_type": "stream",
     "text": [
      "==> Found 2 matchign records out of 1993 for Tesla|Tesla Inc|Tesla Motors on 20211222193000\n"
     ]
    },
    {
     "name": "stdout",
     "output_type": "stream",
     "text": [
      "==> Found 1 matchign records out of 2078 for Tesla|Tesla Inc|Tesla Motors on 20211222194500\n"
     ]
    },
    {
     "name": "stdout",
     "output_type": "stream",
     "text": [
      "==> Found 2 matchign records out of 1959 for Tesla|Tesla Inc|Tesla Motors on 20211222200000\n"
     ]
    },
    {
     "name": "stdout",
     "output_type": "stream",
     "text": [
      "==> Found 2 matchign records out of 1733 for Tesla|Tesla Inc|Tesla Motors on 20211222210000\n"
     ]
    },
    {
     "name": "stdout",
     "output_type": "stream",
     "text": [
      "==> Found 3 matchign records out of 1628 for Tesla|Tesla Inc|Tesla Motors on 20211222211500\n"
     ]
    },
    {
     "name": "stdout",
     "output_type": "stream",
     "text": [
      "==> Found 3 matchign records out of 1808 for Tesla|Tesla Inc|Tesla Motors on 20211222213000\n"
     ]
    },
    {
     "name": "stdout",
     "output_type": "stream",
     "text": [
      "==> Found 2 matchign records out of 1603 for Tesla|Tesla Inc|Tesla Motors on 20211222214500\n"
     ]
    },
    {
     "name": "stdout",
     "output_type": "stream",
     "text": [
      "==> Found 1 matchign records out of 1767 for Tesla|Tesla Inc|Tesla Motors on 20211222220000\n"
     ]
    },
    {
     "name": "stdout",
     "output_type": "stream",
     "text": [
      "==> Found 2 matchign records out of 1669 for Tesla|Tesla Inc|Tesla Motors on 20211222221500\n"
     ]
    },
    {
     "name": "stdout",
     "output_type": "stream",
     "text": [
      "==> Found 2 matchign records out of 1500 for Tesla|Tesla Inc|Tesla Motors on 20211222223000\n"
     ]
    },
    {
     "name": "stdout",
     "output_type": "stream",
     "text": [
      "==> Found 4 matchign records out of 1618 for Tesla|Tesla Inc|Tesla Motors on 20211222230000\n"
     ]
    },
    {
     "name": "stdout",
     "output_type": "stream",
     "text": [
      "==> Found 1 matchign records out of 1402 for Tesla|Tesla Inc|Tesla Motors on 20211222231500\n"
     ]
    },
    {
     "name": "stdout",
     "output_type": "stream",
     "text": [
      "==> Found 1 matchign records out of 1412 for Tesla|Tesla Inc|Tesla Motors on 20211222233000\n"
     ]
    },
    {
     "name": "stdout",
     "output_type": "stream",
     "text": [
      "==> Found 1 matchign records out of 1552 for Tesla|Tesla Inc|Tesla Motors on 20211222234500\n"
     ]
    },
    {
     "name": "stdout",
     "output_type": "stream",
     "text": [
      "==> Found 1 matchign records out of 1441 for Tesla|Tesla Inc|Tesla Motors on 20211223000000\n"
     ]
    },
    {
     "name": "stdout",
     "output_type": "stream",
     "text": [
      "==> Found 1 matchign records out of 1339 for Tesla|Tesla Inc|Tesla Motors on 20211223001500\n"
     ]
    },
    {
     "name": "stdout",
     "output_type": "stream",
     "text": [
      "==> Found 3 matchign records out of 1340 for Tesla|Tesla Inc|Tesla Motors on 20211223010000\n"
     ]
    },
    {
     "name": "stdout",
     "output_type": "stream",
     "text": [
      "==> Found 3 matchign records out of 1199 for Tesla|Tesla Inc|Tesla Motors on 20211223013000\n"
     ]
    },
    {
     "name": "stdout",
     "output_type": "stream",
     "text": [
      "==> Found 2 matchign records out of 1280 for Tesla|Tesla Inc|Tesla Motors on 20211223014500\n"
     ]
    },
    {
     "name": "stdout",
     "output_type": "stream",
     "text": [
      "==> Found 1 matchign records out of 1382 for Tesla|Tesla Inc|Tesla Motors on 20211223020000\n"
     ]
    },
    {
     "name": "stdout",
     "output_type": "stream",
     "text": [
      "==> Found 1 matchign records out of 1221 for Tesla|Tesla Inc|Tesla Motors on 20211223023000\n"
     ]
    },
    {
     "name": "stdout",
     "output_type": "stream",
     "text": [
      "==> Found 3 matchign records out of 1232 for Tesla|Tesla Inc|Tesla Motors on 20211223030000\n"
     ]
    },
    {
     "name": "stdout",
     "output_type": "stream",
     "text": [
      "==> Found 1 matchign records out of 970 for Tesla|Tesla Inc|Tesla Motors on 20211223033000\n"
     ]
    },
    {
     "name": "stdout",
     "output_type": "stream",
     "text": [
      "==> Found 1 matchign records out of 949 for Tesla|Tesla Inc|Tesla Motors on 20211223041500\n"
     ]
    },
    {
     "name": "stdout",
     "output_type": "stream",
     "text": [
      "==> Found 1 matchign records out of 958 for Tesla|Tesla Inc|Tesla Motors on 20211223050000\n"
     ]
    },
    {
     "name": "stdout",
     "output_type": "stream",
     "text": [
      "==> Found 2 matchign records out of 765 for Tesla|Tesla Inc|Tesla Motors on 20211223060000\n"
     ]
    },
    {
     "name": "stdout",
     "output_type": "stream",
     "text": [
      "==> Found 1 matchign records out of 785 for Tesla|Tesla Inc|Tesla Motors on 20211223064500\n"
     ]
    },
    {
     "name": "stdout",
     "output_type": "stream",
     "text": [
      "==> Found 1 matchign records out of 862 for Tesla|Tesla Inc|Tesla Motors on 20211223071500\n"
     ]
    },
    {
     "name": "stdout",
     "output_type": "stream",
     "text": [
      "==> Found 3 matchign records out of 873 for Tesla|Tesla Inc|Tesla Motors on 20211223073000\n"
     ]
    },
    {
     "name": "stdout",
     "output_type": "stream",
     "text": [
      "==> Found 1 matchign records out of 982 for Tesla|Tesla Inc|Tesla Motors on 20211223074500\n"
     ]
    },
    {
     "name": "stdout",
     "output_type": "stream",
     "text": [
      "==> Found 1 matchign records out of 1121 for Tesla|Tesla Inc|Tesla Motors on 20211223080000\n"
     ]
    },
    {
     "name": "stdout",
     "output_type": "stream",
     "text": [
      "==> Found 2 matchign records out of 1190 for Tesla|Tesla Inc|Tesla Motors on 20211223083000\n"
     ]
    },
    {
     "name": "stdout",
     "output_type": "stream",
     "text": [
      "==> Found 3 matchign records out of 1081 for Tesla|Tesla Inc|Tesla Motors on 20211223090000\n"
     ]
    },
    {
     "name": "stdout",
     "output_type": "stream",
     "text": [
      "==> Found 4 matchign records out of 988 for Tesla|Tesla Inc|Tesla Motors on 20211223093000\n"
     ]
    },
    {
     "name": "stdout",
     "output_type": "stream",
     "text": [
      "==> Found 1 matchign records out of 1092 for Tesla|Tesla Inc|Tesla Motors on 20211223094500\n"
     ]
    },
    {
     "name": "stdout",
     "output_type": "stream",
     "text": [
      "==> Found 2 matchign records out of 1095 for Tesla|Tesla Inc|Tesla Motors on 20211223100000\n"
     ]
    },
    {
     "name": "stdout",
     "output_type": "stream",
     "text": [
      "==> Found 4 matchign records out of 1268 for Tesla|Tesla Inc|Tesla Motors on 20211223101500\n"
     ]
    },
    {
     "name": "stdout",
     "output_type": "stream",
     "text": [
      "==> Found 7 matchign records out of 1103 for Tesla|Tesla Inc|Tesla Motors on 20211223103000\n"
     ]
    },
    {
     "name": "stdout",
     "output_type": "stream",
     "text": [
      "==> Found 1 matchign records out of 1206 for Tesla|Tesla Inc|Tesla Motors on 20211223110000\n"
     ]
    },
    {
     "name": "stdout",
     "output_type": "stream",
     "text": [
      "==> Found 1 matchign records out of 1258 for Tesla|Tesla Inc|Tesla Motors on 20211223111500\n"
     ]
    },
    {
     "name": "stdout",
     "output_type": "stream",
     "text": [
      "==> Found 3 matchign records out of 1266 for Tesla|Tesla Inc|Tesla Motors on 20211223113000\n"
     ]
    },
    {
     "name": "stdout",
     "output_type": "stream",
     "text": [
      "==> Found 3 matchign records out of 949 for Tesla|Tesla Inc|Tesla Motors on 20211223114500\n"
     ]
    },
    {
     "name": "stdout",
     "output_type": "stream",
     "text": [
      "==> Found 1 matchign records out of 1171 for Tesla|Tesla Inc|Tesla Motors on 20211223120000\n"
     ]
    },
    {
     "name": "stdout",
     "output_type": "stream",
     "text": [
      "==> Found 3 matchign records out of 1395 for Tesla|Tesla Inc|Tesla Motors on 20211223121500\n"
     ]
    },
    {
     "name": "stdout",
     "output_type": "stream",
     "text": [
      "==> Found 1 matchign records out of 1562 for Tesla|Tesla Inc|Tesla Motors on 20211223123000\n"
     ]
    },
    {
     "name": "stdout",
     "output_type": "stream",
     "text": [
      "==> Found 1 matchign records out of 1479 for Tesla|Tesla Inc|Tesla Motors on 20211223130000\n"
     ]
    },
    {
     "name": "stdout",
     "output_type": "stream",
     "text": [
      "==> Found 1 matchign records out of 1254 for Tesla|Tesla Inc|Tesla Motors on 20211223131500\n"
     ]
    },
    {
     "name": "stdout",
     "output_type": "stream",
     "text": [
      "==> Found 3 matchign records out of 1363 for Tesla|Tesla Inc|Tesla Motors on 20211223134500\n"
     ]
    },
    {
     "name": "stdout",
     "output_type": "stream",
     "text": [
      "==> Found 1 matchign records out of 1402 for Tesla|Tesla Inc|Tesla Motors on 20211223140000\n"
     ]
    },
    {
     "name": "stdout",
     "output_type": "stream",
     "text": [
      "==> Found 1 matchign records out of 1620 for Tesla|Tesla Inc|Tesla Motors on 20211223151500\n"
     ]
    },
    {
     "name": "stdout",
     "output_type": "stream",
     "text": [
      "==> Found 1 matchign records out of 1700 for Tesla|Tesla Inc|Tesla Motors on 20211223153000\n"
     ]
    },
    {
     "name": "stdout",
     "output_type": "stream",
     "text": [
      "==> Found 3 matchign records out of 1441 for Tesla|Tesla Inc|Tesla Motors on 20211223154500\n"
     ]
    },
    {
     "name": "stdout",
     "output_type": "stream",
     "text": [
      "==> Found 1 matchign records out of 1724 for Tesla|Tesla Inc|Tesla Motors on 20211223170000\n"
     ]
    },
    {
     "name": "stdout",
     "output_type": "stream",
     "text": [
      "==> Found 1 matchign records out of 1804 for Tesla|Tesla Inc|Tesla Motors on 20211223171500\n"
     ]
    },
    {
     "name": "stdout",
     "output_type": "stream",
     "text": [
      "==> Found 1 matchign records out of 1708 for Tesla|Tesla Inc|Tesla Motors on 20211223183000\n"
     ]
    },
    {
     "name": "stdout",
     "output_type": "stream",
     "text": [
      "==> Found 1 matchign records out of 1768 for Tesla|Tesla Inc|Tesla Motors on 20211223190000\n"
     ]
    },
    {
     "name": "stdout",
     "output_type": "stream",
     "text": [
      "==> Found 1 matchign records out of 1825 for Tesla|Tesla Inc|Tesla Motors on 20211223193000\n"
     ]
    },
    {
     "name": "stdout",
     "output_type": "stream",
     "text": [
      "==> Found 1 matchign records out of 1470 for Tesla|Tesla Inc|Tesla Motors on 20211223210000\n"
     ]
    },
    {
     "name": "stdout",
     "output_type": "stream",
     "text": [
      "==> Found 1 matchign records out of 1544 for Tesla|Tesla Inc|Tesla Motors on 20211223213000\n"
     ]
    },
    {
     "name": "stdout",
     "output_type": "stream",
     "text": [
      "==> Found 2 matchign records out of 1465 for Tesla|Tesla Inc|Tesla Motors on 20211223214500\n"
     ]
    },
    {
     "name": "stdout",
     "output_type": "stream",
     "text": [
      "==> Found 6 matchign records out of 1624 for Tesla|Tesla Inc|Tesla Motors on 20211223220000\n"
     ]
    },
    {
     "name": "stdout",
     "output_type": "stream",
     "text": [
      "==> Found 2 matchign records out of 1520 for Tesla|Tesla Inc|Tesla Motors on 20211223221500\n"
     ]
    },
    {
     "name": "stdout",
     "output_type": "stream",
     "text": [
      "==> Found 2 matchign records out of 1568 for Tesla|Tesla Inc|Tesla Motors on 20211223223000\n"
     ]
    },
    {
     "name": "stdout",
     "output_type": "stream",
     "text": [
      "==> Found 3 matchign records out of 1197 for Tesla|Tesla Inc|Tesla Motors on 20211223224500\n"
     ]
    },
    {
     "name": "stdout",
     "output_type": "stream",
     "text": [
      "==> Found 1 matchign records out of 1390 for Tesla|Tesla Inc|Tesla Motors on 20211223230000\n"
     ]
    },
    {
     "name": "stdout",
     "output_type": "stream",
     "text": [
      "==> Found 3 matchign records out of 1451 for Tesla|Tesla Inc|Tesla Motors on 20211223231500\n"
     ]
    },
    {
     "name": "stdout",
     "output_type": "stream",
     "text": [
      "==> Found 1 matchign records out of 1325 for Tesla|Tesla Inc|Tesla Motors on 20211223234500\n"
     ]
    },
    {
     "name": "stdout",
     "output_type": "stream",
     "text": [
      "==> Found 3 matchign records out of 1611 for Tesla|Tesla Inc|Tesla Motors on 20211224000000\n"
     ]
    },
    {
     "name": "stdout",
     "output_type": "stream",
     "text": [
      "==> Found 1 matchign records out of 1137 for Tesla|Tesla Inc|Tesla Motors on 20211224001500\n"
     ]
    },
    {
     "name": "stdout",
     "output_type": "stream",
     "text": [
      "==> Found 1 matchign records out of 1339 for Tesla|Tesla Inc|Tesla Motors on 20211224004500\n"
     ]
    },
    {
     "name": "stdout",
     "output_type": "stream",
     "text": [
      "==> Found 2 matchign records out of 1090 for Tesla|Tesla Inc|Tesla Motors on 20211224013000\n"
     ]
    },
    {
     "name": "stdout",
     "output_type": "stream",
     "text": [
      "==> Found 1 matchign records out of 1145 for Tesla|Tesla Inc|Tesla Motors on 20211224014500\n"
     ]
    },
    {
     "name": "stdout",
     "output_type": "stream",
     "text": [
      "==> Found 5 matchign records out of 1073 for Tesla|Tesla Inc|Tesla Motors on 20211224021500\n"
     ]
    },
    {
     "name": "stdout",
     "output_type": "stream",
     "text": [
      "==> Found 2 matchign records out of 1074 for Tesla|Tesla Inc|Tesla Motors on 20211224024500\n"
     ]
    },
    {
     "name": "stdout",
     "output_type": "stream",
     "text": [
      "==> Found 3 matchign records out of 957 for Tesla|Tesla Inc|Tesla Motors on 20211224031500\n"
     ]
    },
    {
     "name": "stdout",
     "output_type": "stream",
     "text": [
      "==> Found 1 matchign records out of 1073 for Tesla|Tesla Inc|Tesla Motors on 20211224041500\n"
     ]
    },
    {
     "name": "stdout",
     "output_type": "stream",
     "text": [
      "==> Found 1 matchign records out of 730 for Tesla|Tesla Inc|Tesla Motors on 20211224043000\n"
     ]
    },
    {
     "name": "stdout",
     "output_type": "stream",
     "text": [
      "==> Found 2 matchign records out of 838 for Tesla|Tesla Inc|Tesla Motors on 20211224050000\n"
     ]
    },
    {
     "name": "stdout",
     "output_type": "stream",
     "text": [
      "==> Found 2 matchign records out of 861 for Tesla|Tesla Inc|Tesla Motors on 20211224054500\n"
     ]
    },
    {
     "name": "stdout",
     "output_type": "stream",
     "text": [
      "==> Found 1 matchign records out of 817 for Tesla|Tesla Inc|Tesla Motors on 20211224060000\n"
     ]
    },
    {
     "name": "stdout",
     "output_type": "stream",
     "text": [
      "==> Found 1 matchign records out of 827 for Tesla|Tesla Inc|Tesla Motors on 20211224064500\n"
     ]
    },
    {
     "name": "stdout",
     "output_type": "stream",
     "text": [
      "==> Found 1 matchign records out of 964 for Tesla|Tesla Inc|Tesla Motors on 20211224070000\n"
     ]
    },
    {
     "name": "stdout",
     "output_type": "stream",
     "text": [
      "==> Found 2 matchign records out of 845 for Tesla|Tesla Inc|Tesla Motors on 20211224071500\n"
     ]
    },
    {
     "name": "stdout",
     "output_type": "stream",
     "text": [
      "==> Found 1 matchign records out of 817 for Tesla|Tesla Inc|Tesla Motors on 20211224073000\n"
     ]
    },
    {
     "name": "stdout",
     "output_type": "stream",
     "text": [
      "==> Found 1 matchign records out of 755 for Tesla|Tesla Inc|Tesla Motors on 20211224081500\n"
     ]
    },
    {
     "name": "stdout",
     "output_type": "stream",
     "text": [
      "==> Found 1 matchign records out of 928 for Tesla|Tesla Inc|Tesla Motors on 20211224083000\n"
     ]
    },
    {
     "name": "stdout",
     "output_type": "stream",
     "text": [
      "==> Found 2 matchign records out of 903 for Tesla|Tesla Inc|Tesla Motors on 20211224093000\n"
     ]
    },
    {
     "name": "stdout",
     "output_type": "stream",
     "text": [
      "==> Found 1 matchign records out of 995 for Tesla|Tesla Inc|Tesla Motors on 20211224101500\n"
     ]
    },
    {
     "name": "stdout",
     "output_type": "stream",
     "text": [
      "==> Found 1 matchign records out of 1014 for Tesla|Tesla Inc|Tesla Motors on 20211224104500\n"
     ]
    },
    {
     "name": "stdout",
     "output_type": "stream",
     "text": [
      "==> Found 1 matchign records out of 1084 for Tesla|Tesla Inc|Tesla Motors on 20211224120000\n"
     ]
    },
    {
     "name": "stdout",
     "output_type": "stream",
     "text": [
      "==> Found 1 matchign records out of 1239 for Tesla|Tesla Inc|Tesla Motors on 20211224121500\n"
     ]
    },
    {
     "name": "stdout",
     "output_type": "stream",
     "text": [
      "==> Found 1 matchign records out of 1050 for Tesla|Tesla Inc|Tesla Motors on 20211224130000\n"
     ]
    },
    {
     "name": "stdout",
     "output_type": "stream",
     "text": [
      "==> Found 2 matchign records out of 1106 for Tesla|Tesla Inc|Tesla Motors on 20211224133000\n"
     ]
    },
    {
     "name": "stdout",
     "output_type": "stream",
     "text": [
      "==> Found 1 matchign records out of 1221 for Tesla|Tesla Inc|Tesla Motors on 20211224140000\n"
     ]
    },
    {
     "name": "stdout",
     "output_type": "stream",
     "text": [
      "==> Found 1 matchign records out of 1070 for Tesla|Tesla Inc|Tesla Motors on 20211224141500\n"
     ]
    },
    {
     "name": "stdout",
     "output_type": "stream",
     "text": [
      "==> Found 1 matchign records out of 1123 for Tesla|Tesla Inc|Tesla Motors on 20211224170000\n"
     ]
    },
    {
     "name": "stdout",
     "output_type": "stream",
     "text": [
      "==> Found 1 matchign records out of 1012 for Tesla|Tesla Inc|Tesla Motors on 20211224180000\n"
     ]
    },
    {
     "name": "stdout",
     "output_type": "stream",
     "text": [
      "==> Found 1 matchign records out of 1007 for Tesla|Tesla Inc|Tesla Motors on 20211224181500\n"
     ]
    },
    {
     "name": "stdout",
     "output_type": "stream",
     "text": [
      "==> Found 1 matchign records out of 939 for Tesla|Tesla Inc|Tesla Motors on 20211224194500\n"
     ]
    },
    {
     "name": "stdout",
     "output_type": "stream",
     "text": [
      "==> Found 2 matchign records out of 825 for Tesla|Tesla Inc|Tesla Motors on 20211224211500\n"
     ]
    },
    {
     "name": "stdout",
     "output_type": "stream",
     "text": [
      "==> Found 1 matchign records out of 474 for Tesla|Tesla Inc|Tesla Motors on 20211225100000\n"
     ]
    },
    {
     "name": "stdout",
     "output_type": "stream",
     "text": [
      "==> Found 1 matchign records out of 520 for Tesla|Tesla Inc|Tesla Motors on 20211225141500\n"
     ]
    },
    {
     "name": "stdout",
     "output_type": "stream",
     "text": [
      "==> Found 1 matchign records out of 545 for Tesla|Tesla Inc|Tesla Motors on 20211225144500\n"
     ]
    },
    {
     "name": "stdout",
     "output_type": "stream",
     "text": [
      "==> Found 3 matchign records out of 648 for Tesla|Tesla Inc|Tesla Motors on 20211225163000\n"
     ]
    },
    {
     "name": "stdout",
     "output_type": "stream",
     "text": [
      "==> Found 1 matchign records out of 651 for Tesla|Tesla Inc|Tesla Motors on 20211225180000\n"
     ]
    },
    {
     "name": "stdout",
     "output_type": "stream",
     "text": [
      "==> Found 1 matchign records out of 745 for Tesla|Tesla Inc|Tesla Motors on 20211225184500\n"
     ]
    },
    {
     "name": "stdout",
     "output_type": "stream",
     "text": [
      "==> Found 1 matchign records out of 530 for Tesla|Tesla Inc|Tesla Motors on 20211225223000\n"
     ]
    },
    {
     "name": "stdout",
     "output_type": "stream",
     "text": [
      "==> Found 1 matchign records out of 518 for Tesla|Tesla Inc|Tesla Motors on 20211226003000\n"
     ]
    },
    {
     "name": "stdout",
     "output_type": "stream",
     "text": [
      "==> Found 1 matchign records out of 473 for Tesla|Tesla Inc|Tesla Motors on 20211226011500\n"
     ]
    },
    {
     "name": "stdout",
     "output_type": "stream",
     "text": [
      "==> Found 1 matchign records out of 523 for Tesla|Tesla Inc|Tesla Motors on 20211226020000\n"
     ]
    },
    {
     "name": "stdout",
     "output_type": "stream",
     "text": [
      "==> Found 1 matchign records out of 486 for Tesla|Tesla Inc|Tesla Motors on 20211226023000\n"
     ]
    },
    {
     "name": "stdout",
     "output_type": "stream",
     "text": [
      "==> Found 1 matchign records out of 501 for Tesla|Tesla Inc|Tesla Motors on 20211226041500\n"
     ]
    },
    {
     "name": "stdout",
     "output_type": "stream",
     "text": [
      "==> Found 1 matchign records out of 419 for Tesla|Tesla Inc|Tesla Motors on 20211226050000\n"
     ]
    },
    {
     "name": "stdout",
     "output_type": "stream",
     "text": [
      "==> Found 1 matchign records out of 378 for Tesla|Tesla Inc|Tesla Motors on 20211226061500\n"
     ]
    },
    {
     "name": "stdout",
     "output_type": "stream",
     "text": [
      "==> Found 1 matchign records out of 671 for Tesla|Tesla Inc|Tesla Motors on 20211226213000\n"
     ]
    },
    {
     "name": "stdout",
     "output_type": "stream",
     "text": [
      "==> Found 1 matchign records out of 679 for Tesla|Tesla Inc|Tesla Motors on 20211227023000\n"
     ]
    },
    {
     "name": "stdout",
     "output_type": "stream",
     "text": [
      "==> Found 1 matchign records out of 804 for Tesla|Tesla Inc|Tesla Motors on 20211227123000\n"
     ]
    },
    {
     "name": "stdout",
     "output_type": "stream",
     "text": [
      "==> Found 4 matchign records out of 1060 for Tesla|Tesla Inc|Tesla Motors on 20211227131500\n"
     ]
    },
    {
     "name": "stdout",
     "output_type": "stream",
     "text": [
      "==> Found 1 matchign records out of 1119 for Tesla|Tesla Inc|Tesla Motors on 20211227133000\n"
     ]
    },
    {
     "name": "stdout",
     "output_type": "stream",
     "text": [
      "==> Found 1 matchign records out of 1124 for Tesla|Tesla Inc|Tesla Motors on 20211227134500\n"
     ]
    },
    {
     "name": "stdout",
     "output_type": "stream",
     "text": [
      "==> Found 2 matchign records out of 1119 for Tesla|Tesla Inc|Tesla Motors on 20211227140000\n"
     ]
    },
    {
     "name": "stdout",
     "output_type": "stream",
     "text": [
      "==> Found 1 matchign records out of 1179 for Tesla|Tesla Inc|Tesla Motors on 20211227141500\n"
     ]
    },
    {
     "name": "stdout",
     "output_type": "stream",
     "text": [
      "==> Found 1 matchign records out of 1129 for Tesla|Tesla Inc|Tesla Motors on 20211227144500\n"
     ]
    },
    {
     "name": "stdout",
     "output_type": "stream",
     "text": [
      "==> Found 2 matchign records out of 1178 for Tesla|Tesla Inc|Tesla Motors on 20211227150000\n"
     ]
    },
    {
     "name": "stdout",
     "output_type": "stream",
     "text": [
      "==> Found 4 matchign records out of 1153 for Tesla|Tesla Inc|Tesla Motors on 20211227151500\n"
     ]
    },
    {
     "name": "stdout",
     "output_type": "stream",
     "text": [
      "==> Found 2 matchign records out of 1122 for Tesla|Tesla Inc|Tesla Motors on 20211227163000\n"
     ]
    },
    {
     "name": "stdout",
     "output_type": "stream",
     "text": [
      "==> Found 2 matchign records out of 1212 for Tesla|Tesla Inc|Tesla Motors on 20211227164500\n"
     ]
    },
    {
     "name": "stdout",
     "output_type": "stream",
     "text": [
      "==> Found 5 matchign records out of 1264 for Tesla|Tesla Inc|Tesla Motors on 20211227170000\n"
     ]
    },
    {
     "name": "stdout",
     "output_type": "stream",
     "text": [
      "==> Found 3 matchign records out of 1347 for Tesla|Tesla Inc|Tesla Motors on 20211227171500\n"
     ]
    },
    {
     "name": "stdout",
     "output_type": "stream",
     "text": [
      "==> Found 2 matchign records out of 1033 for Tesla|Tesla Inc|Tesla Motors on 20211227173000\n"
     ]
    },
    {
     "name": "stdout",
     "output_type": "stream",
     "text": [
      "==> Found 2 matchign records out of 1224 for Tesla|Tesla Inc|Tesla Motors on 20211227174500\n"
     ]
    },
    {
     "name": "stdout",
     "output_type": "stream",
     "text": [
      "==> Found 4 matchign records out of 1461 for Tesla|Tesla Inc|Tesla Motors on 20211227181500\n"
     ]
    },
    {
     "name": "stdout",
     "output_type": "stream",
     "text": [
      "==> Found 6 matchign records out of 1326 for Tesla|Tesla Inc|Tesla Motors on 20211227184500\n"
     ]
    },
    {
     "name": "stdout",
     "output_type": "stream",
     "text": [
      "==> Found 2 matchign records out of 1255 for Tesla|Tesla Inc|Tesla Motors on 20211227191500\n"
     ]
    },
    {
     "name": "stdout",
     "output_type": "stream",
     "text": [
      "==> Found 3 matchign records out of 1319 for Tesla|Tesla Inc|Tesla Motors on 20211227193000\n"
     ]
    },
    {
     "name": "stdout",
     "output_type": "stream",
     "text": [
      "==> Found 2 matchign records out of 1293 for Tesla|Tesla Inc|Tesla Motors on 20211227194500\n"
     ]
    },
    {
     "name": "stdout",
     "output_type": "stream",
     "text": [
      "==> Found 1 matchign records out of 1277 for Tesla|Tesla Inc|Tesla Motors on 20211227200000\n"
     ]
    },
    {
     "name": "stdout",
     "output_type": "stream",
     "text": [
      "==> Found 1 matchign records out of 1101 for Tesla|Tesla Inc|Tesla Motors on 20211227201500\n"
     ]
    },
    {
     "name": "stdout",
     "output_type": "stream",
     "text": [
      "==> Found 3 matchign records out of 1140 for Tesla|Tesla Inc|Tesla Motors on 20211227204500\n"
     ]
    },
    {
     "name": "stdout",
     "output_type": "stream",
     "text": [
      "==> Found 2 matchign records out of 1128 for Tesla|Tesla Inc|Tesla Motors on 20211227210000\n"
     ]
    },
    {
     "name": "stdout",
     "output_type": "stream",
     "text": [
      "==> Found 1 matchign records out of 1252 for Tesla|Tesla Inc|Tesla Motors on 20211227211500\n"
     ]
    },
    {
     "name": "stdout",
     "output_type": "stream",
     "text": [
      "==> Found 2 matchign records out of 1301 for Tesla|Tesla Inc|Tesla Motors on 20211227213000\n"
     ]
    },
    {
     "name": "stdout",
     "output_type": "stream",
     "text": [
      "==> Found 2 matchign records out of 1118 for Tesla|Tesla Inc|Tesla Motors on 20211227214500\n"
     ]
    },
    {
     "name": "stdout",
     "output_type": "stream",
     "text": [
      "==> Found 1 matchign records out of 1078 for Tesla|Tesla Inc|Tesla Motors on 20211227220000\n"
     ]
    },
    {
     "name": "stdout",
     "output_type": "stream",
     "text": [
      "==> Found 5 matchign records out of 1085 for Tesla|Tesla Inc|Tesla Motors on 20211227221500\n"
     ]
    },
    {
     "name": "stdout",
     "output_type": "stream",
     "text": [
      "==> Found 3 matchign records out of 1209 for Tesla|Tesla Inc|Tesla Motors on 20211227223000\n"
     ]
    },
    {
     "name": "stdout",
     "output_type": "stream",
     "text": [
      "==> Found 2 matchign records out of 1080 for Tesla|Tesla Inc|Tesla Motors on 20211227224500\n"
     ]
    },
    {
     "name": "stdout",
     "output_type": "stream",
     "text": [
      "==> Found 3 matchign records out of 1302 for Tesla|Tesla Inc|Tesla Motors on 20211227230000\n"
     ]
    },
    {
     "name": "stdout",
     "output_type": "stream",
     "text": [
      "==> Found 3 matchign records out of 1173 for Tesla|Tesla Inc|Tesla Motors on 20211227231500\n"
     ]
    },
    {
     "name": "stdout",
     "output_type": "stream",
     "text": [
      "==> Found 1 matchign records out of 954 for Tesla|Tesla Inc|Tesla Motors on 20211227233000\n"
     ]
    },
    {
     "name": "stdout",
     "output_type": "stream",
     "text": [
      "==> Found 1 matchign records out of 987 for Tesla|Tesla Inc|Tesla Motors on 20211227234500\n"
     ]
    },
    {
     "name": "stdout",
     "output_type": "stream",
     "text": [
      "==> Found 3 matchign records out of 949 for Tesla|Tesla Inc|Tesla Motors on 20211228001500\n"
     ]
    },
    {
     "name": "stdout",
     "output_type": "stream",
     "text": [
      "==> Found 1 matchign records out of 995 for Tesla|Tesla Inc|Tesla Motors on 20211228003000\n"
     ]
    },
    {
     "name": "stdout",
     "output_type": "stream",
     "text": [
      "==> Found 2 matchign records out of 1181 for Tesla|Tesla Inc|Tesla Motors on 20211228004500\n"
     ]
    },
    {
     "name": "stdout",
     "output_type": "stream",
     "text": [
      "==> Found 1 matchign records out of 1029 for Tesla|Tesla Inc|Tesla Motors on 20211228010000\n"
     ]
    },
    {
     "name": "stdout",
     "output_type": "stream",
     "text": [
      "==> Found 2 matchign records out of 950 for Tesla|Tesla Inc|Tesla Motors on 20211228020000\n"
     ]
    },
    {
     "name": "stdout",
     "output_type": "stream",
     "text": [
      "==> Found 1 matchign records out of 1074 for Tesla|Tesla Inc|Tesla Motors on 20211228021500\n"
     ]
    },
    {
     "name": "stdout",
     "output_type": "stream",
     "text": [
      "==> Found 2 matchign records out of 964 for Tesla|Tesla Inc|Tesla Motors on 20211228023000\n"
     ]
    },
    {
     "name": "stdout",
     "output_type": "stream",
     "text": [
      "==> Found 1 matchign records out of 886 for Tesla|Tesla Inc|Tesla Motors on 20211228024500\n"
     ]
    },
    {
     "name": "stdout",
     "output_type": "stream",
     "text": [
      "==> Found 2 matchign records out of 777 for Tesla|Tesla Inc|Tesla Motors on 20211228030000\n"
     ]
    },
    {
     "name": "stdout",
     "output_type": "stream",
     "text": [
      "==> Found 1 matchign records out of 851 for Tesla|Tesla Inc|Tesla Motors on 20211228034500\n"
     ]
    },
    {
     "name": "stdout",
     "output_type": "stream",
     "text": [
      "==> Found 2 matchign records out of 770 for Tesla|Tesla Inc|Tesla Motors on 20211228043000\n"
     ]
    },
    {
     "name": "stdout",
     "output_type": "stream",
     "text": [
      "==> Found 1 matchign records out of 747 for Tesla|Tesla Inc|Tesla Motors on 20211228051500\n"
     ]
    },
    {
     "name": "stdout",
     "output_type": "stream",
     "text": [
      "==> Found 1 matchign records out of 803 for Tesla|Tesla Inc|Tesla Motors on 20211228064500\n"
     ]
    },
    {
     "name": "stdout",
     "output_type": "stream",
     "text": [
      "==> Found 1 matchign records out of 875 for Tesla|Tesla Inc|Tesla Motors on 20211228084500\n"
     ]
    },
    {
     "name": "stdout",
     "output_type": "stream",
     "text": [
      "==> Found 1 matchign records out of 916 for Tesla|Tesla Inc|Tesla Motors on 20211228101500\n"
     ]
    },
    {
     "name": "stdout",
     "output_type": "stream",
     "text": [
      "==> Found 1 matchign records out of 1144 for Tesla|Tesla Inc|Tesla Motors on 20211228114500\n"
     ]
    },
    {
     "name": "stdout",
     "output_type": "stream",
     "text": [
      "==> Found 1 matchign records out of 952 for Tesla|Tesla Inc|Tesla Motors on 20211228121500\n"
     ]
    },
    {
     "name": "stdout",
     "output_type": "stream",
     "text": [
      "==> Found 1 matchign records out of 894 for Tesla|Tesla Inc|Tesla Motors on 20211228124500\n"
     ]
    },
    {
     "name": "stdout",
     "output_type": "stream",
     "text": [
      "==> Found 4 matchign records out of 1190 for Tesla|Tesla Inc|Tesla Motors on 20211228144500\n"
     ]
    },
    {
     "name": "stdout",
     "output_type": "stream",
     "text": [
      "==> Found 1 matchign records out of 1352 for Tesla|Tesla Inc|Tesla Motors on 20211228154500\n"
     ]
    },
    {
     "name": "stdout",
     "output_type": "stream",
     "text": [
      "==> Found 3 matchign records out of 1091 for Tesla|Tesla Inc|Tesla Motors on 20211228161500\n"
     ]
    },
    {
     "name": "stdout",
     "output_type": "stream",
     "text": [
      "==> Found 1 matchign records out of 1484 for Tesla|Tesla Inc|Tesla Motors on 20211228163000\n"
     ]
    },
    {
     "name": "stdout",
     "output_type": "stream",
     "text": [
      "==> Found 1 matchign records out of 1486 for Tesla|Tesla Inc|Tesla Motors on 20211228174500\n"
     ]
    },
    {
     "name": "stdout",
     "output_type": "stream",
     "text": [
      "==> Found 1 matchign records out of 1532 for Tesla|Tesla Inc|Tesla Motors on 20211228183000\n"
     ]
    },
    {
     "name": "stdout",
     "output_type": "stream",
     "text": [
      "==> Found 1 matchign records out of 1604 for Tesla|Tesla Inc|Tesla Motors on 20211228190000\n"
     ]
    },
    {
     "name": "stdout",
     "output_type": "stream",
     "text": [
      "==> Found 1 matchign records out of 1270 for Tesla|Tesla Inc|Tesla Motors on 20211228204500\n"
     ]
    },
    {
     "name": "stdout",
     "output_type": "stream",
     "text": [
      "==> Found 2 matchign records out of 1420 for Tesla|Tesla Inc|Tesla Motors on 20211228214500\n"
     ]
    },
    {
     "name": "stdout",
     "output_type": "stream",
     "text": [
      "==> Found 2 matchign records out of 1449 for Tesla|Tesla Inc|Tesla Motors on 20211228220000\n"
     ]
    },
    {
     "name": "stdout",
     "output_type": "stream",
     "text": [
      "==> Found 1 matchign records out of 1291 for Tesla|Tesla Inc|Tesla Motors on 20211228221500\n"
     ]
    },
    {
     "name": "stdout",
     "output_type": "stream",
     "text": [
      "==> Found 1 matchign records out of 1170 for Tesla|Tesla Inc|Tesla Motors on 20211228230000\n"
     ]
    },
    {
     "name": "stdout",
     "output_type": "stream",
     "text": [
      "==> Found 1 matchign records out of 1136 for Tesla|Tesla Inc|Tesla Motors on 20211228233000\n"
     ]
    },
    {
     "name": "stdout",
     "output_type": "stream",
     "text": [
      "==> Found 1 matchign records out of 1148 for Tesla|Tesla Inc|Tesla Motors on 20211229011500\n"
     ]
    },
    {
     "name": "stdout",
     "output_type": "stream",
     "text": [
      "==> Found 2 matchign records out of 997 for Tesla|Tesla Inc|Tesla Motors on 20211229021500\n"
     ]
    },
    {
     "name": "stdout",
     "output_type": "stream",
     "text": [
      "==> Found 1 matchign records out of 1049 for Tesla|Tesla Inc|Tesla Motors on 20211229030000\n"
     ]
    },
    {
     "name": "stdout",
     "output_type": "stream",
     "text": [
      "==> Found 2 matchign records out of 965 for Tesla|Tesla Inc|Tesla Motors on 20211229034500\n"
     ]
    },
    {
     "name": "stdout",
     "output_type": "stream",
     "text": [
      "==> Found 1 matchign records out of 946 for Tesla|Tesla Inc|Tesla Motors on 20211229040000\n"
     ]
    },
    {
     "name": "stdout",
     "output_type": "stream",
     "text": [
      "==> Found 1 matchign records out of 887 for Tesla|Tesla Inc|Tesla Motors on 20211229043000\n"
     ]
    },
    {
     "name": "stdout",
     "output_type": "stream",
     "text": [
      "==> Found 1 matchign records out of 772 for Tesla|Tesla Inc|Tesla Motors on 20211229044500\n"
     ]
    },
    {
     "name": "stdout",
     "output_type": "stream",
     "text": [
      "==> Found 1 matchign records out of 731 for Tesla|Tesla Inc|Tesla Motors on 20211229050000\n"
     ]
    },
    {
     "name": "stdout",
     "output_type": "stream",
     "text": [
      "==> Found 1 matchign records out of 821 for Tesla|Tesla Inc|Tesla Motors on 20211229053000\n"
     ]
    },
    {
     "name": "stdout",
     "output_type": "stream",
     "text": [
      "==> Found 3 matchign records out of 887 for Tesla|Tesla Inc|Tesla Motors on 20211229060000\n"
     ]
    },
    {
     "name": "stdout",
     "output_type": "stream",
     "text": [
      "==> Found 1 matchign records out of 724 for Tesla|Tesla Inc|Tesla Motors on 20211229061500\n"
     ]
    },
    {
     "name": "stdout",
     "output_type": "stream",
     "text": [
      "==> Found 3 matchign records out of 850 for Tesla|Tesla Inc|Tesla Motors on 20211229063000\n"
     ]
    },
    {
     "name": "stdout",
     "output_type": "stream",
     "text": [
      "==> Found 1 matchign records out of 835 for Tesla|Tesla Inc|Tesla Motors on 20211229064500\n"
     ]
    },
    {
     "name": "stdout",
     "output_type": "stream",
     "text": [
      "==> Found 2 matchign records out of 756 for Tesla|Tesla Inc|Tesla Motors on 20211229070000\n"
     ]
    },
    {
     "name": "stdout",
     "output_type": "stream",
     "text": [
      "==> Found 3 matchign records out of 803 for Tesla|Tesla Inc|Tesla Motors on 20211229073000\n"
     ]
    },
    {
     "name": "stdout",
     "output_type": "stream",
     "text": [
      "==> Found 1 matchign records out of 837 for Tesla|Tesla Inc|Tesla Motors on 20211229074500\n"
     ]
    },
    {
     "name": "stdout",
     "output_type": "stream",
     "text": [
      "==> Found 1 matchign records out of 818 for Tesla|Tesla Inc|Tesla Motors on 20211229080000\n"
     ]
    },
    {
     "name": "stdout",
     "output_type": "stream",
     "text": [
      "==> Found 1 matchign records out of 821 for Tesla|Tesla Inc|Tesla Motors on 20211229083000\n"
     ]
    },
    {
     "name": "stdout",
     "output_type": "stream",
     "text": [
      "==> Found 1 matchign records out of 851 for Tesla|Tesla Inc|Tesla Motors on 20211229084500\n"
     ]
    },
    {
     "name": "stdout",
     "output_type": "stream",
     "text": [
      "==> Found 5 matchign records out of 835 for Tesla|Tesla Inc|Tesla Motors on 20211229090000\n"
     ]
    },
    {
     "name": "stdout",
     "output_type": "stream",
     "text": [
      "==> Found 1 matchign records out of 872 for Tesla|Tesla Inc|Tesla Motors on 20211229091500\n"
     ]
    },
    {
     "name": "stdout",
     "output_type": "stream",
     "text": [
      "==> Found 1 matchign records out of 1036 for Tesla|Tesla Inc|Tesla Motors on 20211229101500\n"
     ]
    },
    {
     "name": "stdout",
     "output_type": "stream",
     "text": [
      "==> Found 1 matchign records out of 1111 for Tesla|Tesla Inc|Tesla Motors on 20211229104500\n"
     ]
    },
    {
     "name": "stdout",
     "output_type": "stream",
     "text": [
      "==> Found 1 matchign records out of 915 for Tesla|Tesla Inc|Tesla Motors on 20211229110000\n"
     ]
    },
    {
     "name": "stdout",
     "output_type": "stream",
     "text": [
      "==> Found 3 matchign records out of 953 for Tesla|Tesla Inc|Tesla Motors on 20211229111500\n"
     ]
    },
    {
     "name": "stdout",
     "output_type": "stream",
     "text": [
      "==> Found 1 matchign records out of 1005 for Tesla|Tesla Inc|Tesla Motors on 20211229113000\n"
     ]
    },
    {
     "name": "stdout",
     "output_type": "stream",
     "text": [
      "==> Found 1 matchign records out of 1113 for Tesla|Tesla Inc|Tesla Motors on 20211229120000\n"
     ]
    },
    {
     "name": "stdout",
     "output_type": "stream",
     "text": [
      "==> Found 2 matchign records out of 1267 for Tesla|Tesla Inc|Tesla Motors on 20211229121500\n"
     ]
    },
    {
     "name": "stdout",
     "output_type": "stream",
     "text": [
      "==> Found 1 matchign records out of 1321 for Tesla|Tesla Inc|Tesla Motors on 20211229134500\n"
     ]
    },
    {
     "name": "stdout",
     "output_type": "stream",
     "text": [
      "==> Found 1 matchign records out of 1207 for Tesla|Tesla Inc|Tesla Motors on 20211229140000\n"
     ]
    },
    {
     "name": "stdout",
     "output_type": "stream",
     "text": [
      "==> Found 3 matchign records out of 1419 for Tesla|Tesla Inc|Tesla Motors on 20211229141500\n"
     ]
    },
    {
     "name": "stdout",
     "output_type": "stream",
     "text": [
      "==> Found 2 matchign records out of 1274 for Tesla|Tesla Inc|Tesla Motors on 20211229143000\n"
     ]
    },
    {
     "name": "stdout",
     "output_type": "stream",
     "text": [
      "==> Found 1 matchign records out of 1338 for Tesla|Tesla Inc|Tesla Motors on 20211229150000\n"
     ]
    },
    {
     "name": "stdout",
     "output_type": "stream",
     "text": [
      "==> Found 1 matchign records out of 1403 for Tesla|Tesla Inc|Tesla Motors on 20211229151500\n"
     ]
    },
    {
     "name": "stdout",
     "output_type": "stream",
     "text": [
      "==> Found 1 matchign records out of 1589 for Tesla|Tesla Inc|Tesla Motors on 20211229153000\n"
     ]
    },
    {
     "name": "stdout",
     "output_type": "stream",
     "text": [
      "==> Found 1 matchign records out of 1424 for Tesla|Tesla Inc|Tesla Motors on 20211229154500\n"
     ]
    },
    {
     "name": "stdout",
     "output_type": "stream",
     "text": [
      "==> Found 2 matchign records out of 1598 for Tesla|Tesla Inc|Tesla Motors on 20211229163000\n"
     ]
    },
    {
     "name": "stdout",
     "output_type": "stream",
     "text": [
      "==> Found 1 matchign records out of 1678 for Tesla|Tesla Inc|Tesla Motors on 20211229180000\n"
     ]
    },
    {
     "name": "stdout",
     "output_type": "stream",
     "text": [
      "==> Found 1 matchign records out of 1542 for Tesla|Tesla Inc|Tesla Motors on 20211229190000\n"
     ]
    },
    {
     "name": "stdout",
     "output_type": "stream",
     "text": [
      "==> Found 3 matchign records out of 1727 for Tesla|Tesla Inc|Tesla Motors on 20211229191500\n"
     ]
    },
    {
     "name": "stdout",
     "output_type": "stream",
     "text": [
      "==> Found 4 matchign records out of 1595 for Tesla|Tesla Inc|Tesla Motors on 20211229200000\n"
     ]
    },
    {
     "name": "stdout",
     "output_type": "stream",
     "text": [
      "==> Found 3 matchign records out of 1347 for Tesla|Tesla Inc|Tesla Motors on 20211229204500\n"
     ]
    },
    {
     "name": "stdout",
     "output_type": "stream",
     "text": [
      "==> Found 1 matchign records out of 1408 for Tesla|Tesla Inc|Tesla Motors on 20211229210000\n"
     ]
    },
    {
     "name": "stdout",
     "output_type": "stream",
     "text": [
      "==> Found 2 matchign records out of 1416 for Tesla|Tesla Inc|Tesla Motors on 20211229211500\n"
     ]
    },
    {
     "name": "stdout",
     "output_type": "stream",
     "text": [
      "==> Found 1 matchign records out of 1607 for Tesla|Tesla Inc|Tesla Motors on 20211229213000\n"
     ]
    },
    {
     "name": "stdout",
     "output_type": "stream",
     "text": [
      "==> Found 1 matchign records out of 1451 for Tesla|Tesla Inc|Tesla Motors on 20211229214500\n"
     ]
    },
    {
     "name": "stdout",
     "output_type": "stream",
     "text": [
      "==> Found 2 matchign records out of 1270 for Tesla|Tesla Inc|Tesla Motors on 20211229220000\n"
     ]
    },
    {
     "name": "stdout",
     "output_type": "stream",
     "text": [
      "==> Found 2 matchign records out of 1582 for Tesla|Tesla Inc|Tesla Motors on 20211229221500\n"
     ]
    },
    {
     "name": "stdout",
     "output_type": "stream",
     "text": [
      "==> Found 3 matchign records out of 1362 for Tesla|Tesla Inc|Tesla Motors on 20211229223000\n"
     ]
    },
    {
     "name": "stdout",
     "output_type": "stream",
     "text": [
      "==> Found 3 matchign records out of 1631 for Tesla|Tesla Inc|Tesla Motors on 20211229224500\n"
     ]
    },
    {
     "name": "stdout",
     "output_type": "stream",
     "text": [
      "==> Found 1 matchign records out of 1306 for Tesla|Tesla Inc|Tesla Motors on 20211229231500\n"
     ]
    },
    {
     "name": "stdout",
     "output_type": "stream",
     "text": [
      "==> Found 3 matchign records out of 1405 for Tesla|Tesla Inc|Tesla Motors on 20211229234500\n"
     ]
    },
    {
     "name": "stdout",
     "output_type": "stream",
     "text": [
      "==> Found 1 matchign records out of 1308 for Tesla|Tesla Inc|Tesla Motors on 20211230003000\n"
     ]
    },
    {
     "name": "stdout",
     "output_type": "stream",
     "text": [
      "==> Found 1 matchign records out of 1224 for Tesla|Tesla Inc|Tesla Motors on 20211230004500\n"
     ]
    },
    {
     "name": "stdout",
     "output_type": "stream",
     "text": [
      "==> Found 1 matchign records out of 1323 for Tesla|Tesla Inc|Tesla Motors on 20211230013000\n"
     ]
    },
    {
     "name": "stdout",
     "output_type": "stream",
     "text": [
      "==> Found 3 matchign records out of 1055 for Tesla|Tesla Inc|Tesla Motors on 20211230014500\n"
     ]
    },
    {
     "name": "stdout",
     "output_type": "stream",
     "text": [
      "==> Found 1 matchign records out of 1064 for Tesla|Tesla Inc|Tesla Motors on 20211230031500\n"
     ]
    },
    {
     "name": "stdout",
     "output_type": "stream",
     "text": [
      "==> Found 1 matchign records out of 831 for Tesla|Tesla Inc|Tesla Motors on 20211230044500\n"
     ]
    },
    {
     "name": "stdout",
     "output_type": "stream",
     "text": [
      "==> Found 2 matchign records out of 823 for Tesla|Tesla Inc|Tesla Motors on 20211230051500\n"
     ]
    },
    {
     "name": "stdout",
     "output_type": "stream",
     "text": [
      "==> Found 1 matchign records out of 808 for Tesla|Tesla Inc|Tesla Motors on 20211230053000\n"
     ]
    },
    {
     "name": "stdout",
     "output_type": "stream",
     "text": [
      "==> Found 1 matchign records out of 777 for Tesla|Tesla Inc|Tesla Motors on 20211230060000\n"
     ]
    },
    {
     "name": "stdout",
     "output_type": "stream",
     "text": [
      "==> Found 1 matchign records out of 1001 for Tesla|Tesla Inc|Tesla Motors on 20211230073000\n"
     ]
    },
    {
     "name": "stdout",
     "output_type": "stream",
     "text": [
      "==> Found 1 matchign records out of 845 for Tesla|Tesla Inc|Tesla Motors on 20211230074500\n"
     ]
    },
    {
     "name": "stdout",
     "output_type": "stream",
     "text": [
      "==> Found 1 matchign records out of 886 for Tesla|Tesla Inc|Tesla Motors on 20211230081500\n"
     ]
    },
    {
     "name": "stdout",
     "output_type": "stream",
     "text": [
      "==> Found 1 matchign records out of 787 for Tesla|Tesla Inc|Tesla Motors on 20211230083000\n"
     ]
    },
    {
     "name": "stdout",
     "output_type": "stream",
     "text": [
      "==> Found 2 matchign records out of 957 for Tesla|Tesla Inc|Tesla Motors on 20211230084500\n"
     ]
    },
    {
     "name": "stdout",
     "output_type": "stream",
     "text": [
      "==> Found 1 matchign records out of 791 for Tesla|Tesla Inc|Tesla Motors on 20211230090000\n"
     ]
    },
    {
     "name": "stdout",
     "output_type": "stream",
     "text": [
      "==> Found 1 matchign records out of 996 for Tesla|Tesla Inc|Tesla Motors on 20211230091500\n"
     ]
    },
    {
     "name": "stdout",
     "output_type": "stream",
     "text": [
      "==> Found 2 matchign records out of 1209 for Tesla|Tesla Inc|Tesla Motors on 20211230093000\n"
     ]
    },
    {
     "name": "stdout",
     "output_type": "stream",
     "text": [
      "==> Found 2 matchign records out of 1079 for Tesla|Tesla Inc|Tesla Motors on 20211230094500\n"
     ]
    },
    {
     "name": "stdout",
     "output_type": "stream",
     "text": [
      "==> Found 1 matchign records out of 982 for Tesla|Tesla Inc|Tesla Motors on 20211230100000\n"
     ]
    },
    {
     "name": "stdout",
     "output_type": "stream",
     "text": [
      "==> Found 1 matchign records out of 910 for Tesla|Tesla Inc|Tesla Motors on 20211230101500\n"
     ]
    },
    {
     "name": "stdout",
     "output_type": "stream",
     "text": [
      "==> Found 3 matchign records out of 909 for Tesla|Tesla Inc|Tesla Motors on 20211230104500\n"
     ]
    },
    {
     "name": "stdout",
     "output_type": "stream",
     "text": [
      "==> Found 2 matchign records out of 986 for Tesla|Tesla Inc|Tesla Motors on 20211230111500\n"
     ]
    },
    {
     "name": "stdout",
     "output_type": "stream",
     "text": [
      "==> Found 1 matchign records out of 1219 for Tesla|Tesla Inc|Tesla Motors on 20211230113000\n"
     ]
    },
    {
     "name": "stdout",
     "output_type": "stream",
     "text": [
      "==> Found 1 matchign records out of 1161 for Tesla|Tesla Inc|Tesla Motors on 20211230123000\n"
     ]
    },
    {
     "name": "stdout",
     "output_type": "stream",
     "text": [
      "==> Found 1 matchign records out of 1313 for Tesla|Tesla Inc|Tesla Motors on 20211230124500\n"
     ]
    },
    {
     "name": "stdout",
     "output_type": "stream",
     "text": [
      "==> Found 3 matchign records out of 1271 for Tesla|Tesla Inc|Tesla Motors on 20211230134500\n"
     ]
    },
    {
     "name": "stdout",
     "output_type": "stream",
     "text": [
      "==> Found 1 matchign records out of 1301 for Tesla|Tesla Inc|Tesla Motors on 20211230141500\n"
     ]
    },
    {
     "name": "stdout",
     "output_type": "stream",
     "text": [
      "==> Found 3 matchign records out of 1359 for Tesla|Tesla Inc|Tesla Motors on 20211230143000\n"
     ]
    },
    {
     "name": "stdout",
     "output_type": "stream",
     "text": [
      "==> Found 4 matchign records out of 1281 for Tesla|Tesla Inc|Tesla Motors on 20211230144500\n"
     ]
    },
    {
     "name": "stdout",
     "output_type": "stream",
     "text": [
      "==> Found 3 matchign records out of 1101 for Tesla|Tesla Inc|Tesla Motors on 20211230150000\n"
     ]
    },
    {
     "name": "stdout",
     "output_type": "stream",
     "text": [
      "==> Found 3 matchign records out of 1232 for Tesla|Tesla Inc|Tesla Motors on 20211230151500\n"
     ]
    },
    {
     "name": "stdout",
     "output_type": "stream",
     "text": [
      "==> Found 3 matchign records out of 1309 for Tesla|Tesla Inc|Tesla Motors on 20211230153000\n"
     ]
    },
    {
     "name": "stdout",
     "output_type": "stream",
     "text": [
      "==> Found 3 matchign records out of 1486 for Tesla|Tesla Inc|Tesla Motors on 20211230154500\n"
     ]
    },
    {
     "name": "stdout",
     "output_type": "stream",
     "text": [
      "==> Found 2 matchign records out of 1361 for Tesla|Tesla Inc|Tesla Motors on 20211230160000\n"
     ]
    },
    {
     "name": "stdout",
     "output_type": "stream",
     "text": [
      "==> Found 3 matchign records out of 1367 for Tesla|Tesla Inc|Tesla Motors on 20211230161500\n"
     ]
    },
    {
     "name": "stdout",
     "output_type": "stream",
     "text": [
      "==> Found 2 matchign records out of 1415 for Tesla|Tesla Inc|Tesla Motors on 20211230163000\n"
     ]
    },
    {
     "name": "stdout",
     "output_type": "stream",
     "text": [
      "==> Found 4 matchign records out of 1561 for Tesla|Tesla Inc|Tesla Motors on 20211230164500\n"
     ]
    },
    {
     "name": "stdout",
     "output_type": "stream",
     "text": [
      "==> Found 2 matchign records out of 1560 for Tesla|Tesla Inc|Tesla Motors on 20211230170000\n"
     ]
    },
    {
     "name": "stdout",
     "output_type": "stream",
     "text": [
      "==> Found 3 matchign records out of 1439 for Tesla|Tesla Inc|Tesla Motors on 20211230173000\n"
     ]
    },
    {
     "name": "stdout",
     "output_type": "stream",
     "text": [
      "==> Found 3 matchign records out of 1589 for Tesla|Tesla Inc|Tesla Motors on 20211230174500\n"
     ]
    },
    {
     "name": "stdout",
     "output_type": "stream",
     "text": [
      "==> Found 1 matchign records out of 1503 for Tesla|Tesla Inc|Tesla Motors on 20211230181500\n"
     ]
    },
    {
     "name": "stdout",
     "output_type": "stream",
     "text": [
      "==> Found 5 matchign records out of 1701 for Tesla|Tesla Inc|Tesla Motors on 20211230183000\n"
     ]
    },
    {
     "name": "stdout",
     "output_type": "stream",
     "text": [
      "==> Found 2 matchign records out of 1533 for Tesla|Tesla Inc|Tesla Motors on 20211230184500\n"
     ]
    },
    {
     "name": "stdout",
     "output_type": "stream",
     "text": [
      "==> Found 5 matchign records out of 1672 for Tesla|Tesla Inc|Tesla Motors on 20211230190000\n"
     ]
    },
    {
     "name": "stdout",
     "output_type": "stream",
     "text": [
      "==> Found 1 matchign records out of 1484 for Tesla|Tesla Inc|Tesla Motors on 20211230191500\n"
     ]
    },
    {
     "name": "stdout",
     "output_type": "stream",
     "text": [
      "==> Found 2 matchign records out of 1452 for Tesla|Tesla Inc|Tesla Motors on 20211230193000\n"
     ]
    },
    {
     "name": "stdout",
     "output_type": "stream",
     "text": [
      "==> Found 1 matchign records out of 1389 for Tesla|Tesla Inc|Tesla Motors on 20211230200000\n"
     ]
    },
    {
     "name": "stdout",
     "output_type": "stream",
     "text": [
      "==> Found 1 matchign records out of 1580 for Tesla|Tesla Inc|Tesla Motors on 20211230201500\n"
     ]
    },
    {
     "name": "stdout",
     "output_type": "stream",
     "text": [
      "==> Found 1 matchign records out of 1540 for Tesla|Tesla Inc|Tesla Motors on 20211230203000\n"
     ]
    },
    {
     "name": "stdout",
     "output_type": "stream",
     "text": [
      "==> Found 1 matchign records out of 1502 for Tesla|Tesla Inc|Tesla Motors on 20211230211500\n"
     ]
    },
    {
     "name": "stdout",
     "output_type": "stream",
     "text": [
      "==> Found 1 matchign records out of 1388 for Tesla|Tesla Inc|Tesla Motors on 20211230220000\n"
     ]
    },
    {
     "name": "stdout",
     "output_type": "stream",
     "text": [
      "==> Found 1 matchign records out of 1398 for Tesla|Tesla Inc|Tesla Motors on 20211230221500\n"
     ]
    },
    {
     "name": "stdout",
     "output_type": "stream",
     "text": [
      "==> Found 1 matchign records out of 1383 for Tesla|Tesla Inc|Tesla Motors on 20211230223000\n"
     ]
    },
    {
     "name": "stdout",
     "output_type": "stream",
     "text": [
      "==> Found 1 matchign records out of 1271 for Tesla|Tesla Inc|Tesla Motors on 20211230224500\n"
     ]
    },
    {
     "name": "stdout",
     "output_type": "stream",
     "text": [
      "==> Found 1 matchign records out of 1204 for Tesla|Tesla Inc|Tesla Motors on 20211230231500\n"
     ]
    },
    {
     "name": "stdout",
     "output_type": "stream",
     "text": [
      "==> Found 2 matchign records out of 1324 for Tesla|Tesla Inc|Tesla Motors on 20211230233000\n"
     ]
    },
    {
     "name": "stdout",
     "output_type": "stream",
     "text": [
      "==> Found 2 matchign records out of 1454 for Tesla|Tesla Inc|Tesla Motors on 20211230234500\n"
     ]
    },
    {
     "name": "stdout",
     "output_type": "stream",
     "text": [
      "==> Found 1 matchign records out of 1207 for Tesla|Tesla Inc|Tesla Motors on 20211231003000\n"
     ]
    },
    {
     "name": "stdout",
     "output_type": "stream",
     "text": [
      "==> Found 1 matchign records out of 1159 for Tesla|Tesla Inc|Tesla Motors on 20211231020000\n"
     ]
    },
    {
     "name": "stdout",
     "output_type": "stream",
     "text": [
      "==> Found 2 matchign records out of 1022 for Tesla|Tesla Inc|Tesla Motors on 20211231021500\n"
     ]
    },
    {
     "name": "stdout",
     "output_type": "stream",
     "text": [
      "==> Found 1 matchign records out of 843 for Tesla|Tesla Inc|Tesla Motors on 20211231030000\n"
     ]
    },
    {
     "name": "stdout",
     "output_type": "stream",
     "text": [
      "==> Found 1 matchign records out of 863 for Tesla|Tesla Inc|Tesla Motors on 20211231031500\n"
     ]
    },
    {
     "name": "stdout",
     "output_type": "stream",
     "text": [
      "==> Found 1 matchign records out of 772 for Tesla|Tesla Inc|Tesla Motors on 20211231044500\n"
     ]
    },
    {
     "name": "stdout",
     "output_type": "stream",
     "text": [
      "==> Found 1 matchign records out of 883 for Tesla|Tesla Inc|Tesla Motors on 20211231050000\n"
     ]
    },
    {
     "name": "stdout",
     "output_type": "stream",
     "text": [
      "==> Found 1 matchign records out of 674 for Tesla|Tesla Inc|Tesla Motors on 20211231061500\n"
     ]
    },
    {
     "name": "stdout",
     "output_type": "stream",
     "text": [
      "==> Found 2 matchign records out of 799 for Tesla|Tesla Inc|Tesla Motors on 20211231064500\n"
     ]
    },
    {
     "name": "stdout",
     "output_type": "stream",
     "text": [
      "==> Found 2 matchign records out of 908 for Tesla|Tesla Inc|Tesla Motors on 20211231073000\n"
     ]
    },
    {
     "name": "stdout",
     "output_type": "stream",
     "text": [
      "==> Found 1 matchign records out of 853 for Tesla|Tesla Inc|Tesla Motors on 20211231081500\n"
     ]
    },
    {
     "name": "stdout",
     "output_type": "stream",
     "text": [
      "==> Found 3 matchign records out of 945 for Tesla|Tesla Inc|Tesla Motors on 20211231090000\n"
     ]
    },
    {
     "name": "stdout",
     "output_type": "stream",
     "text": [
      "==> Found 1 matchign records out of 775 for Tesla|Tesla Inc|Tesla Motors on 20211231094500\n"
     ]
    },
    {
     "name": "stdout",
     "output_type": "stream",
     "text": [
      "==> Found 1 matchign records out of 898 for Tesla|Tesla Inc|Tesla Motors on 20211231100000\n"
     ]
    },
    {
     "name": "stdout",
     "output_type": "stream",
     "text": [
      "==> Found 2 matchign records out of 864 for Tesla|Tesla Inc|Tesla Motors on 20211231101500\n"
     ]
    },
    {
     "name": "stdout",
     "output_type": "stream",
     "text": [
      "==> Found 1 matchign records out of 914 for Tesla|Tesla Inc|Tesla Motors on 20211231103000\n"
     ]
    },
    {
     "name": "stdout",
     "output_type": "stream",
     "text": [
      "==> Found 1 matchign records out of 852 for Tesla|Tesla Inc|Tesla Motors on 20211231104500\n"
     ]
    },
    {
     "name": "stdout",
     "output_type": "stream",
     "text": [
      "==> Found 1 matchign records out of 902 for Tesla|Tesla Inc|Tesla Motors on 20211231110000\n"
     ]
    },
    {
     "name": "stdout",
     "output_type": "stream",
     "text": [
      "==> Found 1 matchign records out of 1174 for Tesla|Tesla Inc|Tesla Motors on 20211231120000\n"
     ]
    },
    {
     "name": "stdout",
     "output_type": "stream",
     "text": [
      "==> Found 1 matchign records out of 899 for Tesla|Tesla Inc|Tesla Motors on 20211231121500\n"
     ]
    },
    {
     "name": "stdout",
     "output_type": "stream",
     "text": [
      "==> Found 1 matchign records out of 953 for Tesla|Tesla Inc|Tesla Motors on 20211231123000\n"
     ]
    },
    {
     "name": "stdout",
     "output_type": "stream",
     "text": [
      "==> Found 1 matchign records out of 1185 for Tesla|Tesla Inc|Tesla Motors on 20211231124500\n"
     ]
    },
    {
     "name": "stdout",
     "output_type": "stream",
     "text": [
      "==> Found 2 matchign records out of 983 for Tesla|Tesla Inc|Tesla Motors on 20211231130000\n"
     ]
    },
    {
     "name": "stdout",
     "output_type": "stream",
     "text": [
      "==> Found 1 matchign records out of 1028 for Tesla|Tesla Inc|Tesla Motors on 20211231131500\n"
     ]
    },
    {
     "name": "stdout",
     "output_type": "stream",
     "text": [
      "==> Found 1 matchign records out of 992 for Tesla|Tesla Inc|Tesla Motors on 20211231133000\n"
     ]
    },
    {
     "name": "stdout",
     "output_type": "stream",
     "text": [
      "==> Found 1 matchign records out of 1071 for Tesla|Tesla Inc|Tesla Motors on 20211231140000\n"
     ]
    },
    {
     "name": "stdout",
     "output_type": "stream",
     "text": [
      "==> Found 1 matchign records out of 1006 for Tesla|Tesla Inc|Tesla Motors on 20211231141500\n"
     ]
    },
    {
     "name": "stdout",
     "output_type": "stream",
     "text": [
      "==> Found 1 matchign records out of 960 for Tesla|Tesla Inc|Tesla Motors on 20211231150000\n"
     ]
    },
    {
     "name": "stdout",
     "output_type": "stream",
     "text": [
      "==> Found 1 matchign records out of 1045 for Tesla|Tesla Inc|Tesla Motors on 20211231153000\n"
     ]
    },
    {
     "name": "stdout",
     "output_type": "stream",
     "text": [
      "==> Found 4 matchign records out of 1306 for Tesla|Tesla Inc|Tesla Motors on 20211231154500\n"
     ]
    },
    {
     "name": "stdout",
     "output_type": "stream",
     "text": [
      "==> Found 2 matchign records out of 1126 for Tesla|Tesla Inc|Tesla Motors on 20211231160000\n"
     ]
    },
    {
     "name": "stdout",
     "output_type": "stream",
     "text": [
      "==> Found 2 matchign records out of 1296 for Tesla|Tesla Inc|Tesla Motors on 20211231161500\n"
     ]
    },
    {
     "name": "stdout",
     "output_type": "stream",
     "text": [
      "==> Found 2 matchign records out of 1357 for Tesla|Tesla Inc|Tesla Motors on 20211231163000\n"
     ]
    },
    {
     "name": "stdout",
     "output_type": "stream",
     "text": [
      "==> Found 4 matchign records out of 1282 for Tesla|Tesla Inc|Tesla Motors on 20211231164500\n"
     ]
    },
    {
     "name": "stdout",
     "output_type": "stream",
     "text": [
      "==> Found 1 matchign records out of 1264 for Tesla|Tesla Inc|Tesla Motors on 20211231170000\n"
     ]
    },
    {
     "name": "stdout",
     "output_type": "stream",
     "text": [
      "==> Found 1 matchign records out of 1319 for Tesla|Tesla Inc|Tesla Motors on 20211231171500\n"
     ]
    },
    {
     "name": "stdout",
     "output_type": "stream",
     "text": [
      "==> Found 1 matchign records out of 1200 for Tesla|Tesla Inc|Tesla Motors on 20211231173000\n"
     ]
    },
    {
     "name": "stdout",
     "output_type": "stream",
     "text": [
      "==> Found 1 matchign records out of 1155 for Tesla|Tesla Inc|Tesla Motors on 20211231174500\n"
     ]
    },
    {
     "name": "stdout",
     "output_type": "stream",
     "text": [
      "==> Found 1 matchign records out of 1195 for Tesla|Tesla Inc|Tesla Motors on 20211231180000\n"
     ]
    },
    {
     "name": "stdout",
     "output_type": "stream",
     "text": [
      "==> Found 1 matchign records out of 1328 for Tesla|Tesla Inc|Tesla Motors on 20211231181500\n"
     ]
    },
    {
     "name": "stdout",
     "output_type": "stream",
     "text": [
      "==> Found 2 matchign records out of 1229 for Tesla|Tesla Inc|Tesla Motors on 20211231183000\n"
     ]
    },
    {
     "name": "stdout",
     "output_type": "stream",
     "text": [
      "==> Found 3 matchign records out of 1240 for Tesla|Tesla Inc|Tesla Motors on 20211231184500\n"
     ]
    },
    {
     "name": "stdout",
     "output_type": "stream",
     "text": [
      "==> Found 4 matchign records out of 1245 for Tesla|Tesla Inc|Tesla Motors on 20211231190000\n"
     ]
    },
    {
     "name": "stdout",
     "output_type": "stream",
     "text": [
      "==> Found 2 matchign records out of 1149 for Tesla|Tesla Inc|Tesla Motors on 20211231191500\n"
     ]
    },
    {
     "name": "stdout",
     "output_type": "stream",
     "text": [
      "==> Found 2 matchign records out of 1137 for Tesla|Tesla Inc|Tesla Motors on 20211231193000\n"
     ]
    },
    {
     "name": "stdout",
     "output_type": "stream",
     "text": [
      "==> Found 1 matchign records out of 1142 for Tesla|Tesla Inc|Tesla Motors on 20211231194500\n"
     ]
    },
    {
     "name": "stdout",
     "output_type": "stream",
     "text": [
      "==> Found 3 matchign records out of 1235 for Tesla|Tesla Inc|Tesla Motors on 20211231200000\n"
     ]
    },
    {
     "name": "stdout",
     "output_type": "stream",
     "text": [
      "==> Found 1 matchign records out of 1176 for Tesla|Tesla Inc|Tesla Motors on 20211231201500\n"
     ]
    },
    {
     "name": "stdout",
     "output_type": "stream",
     "text": [
      "==> Found 5 matchign records out of 1361 for Tesla|Tesla Inc|Tesla Motors on 20211231203000\n"
     ]
    },
    {
     "name": "stdout",
     "output_type": "stream",
     "text": [
      "==> Found 2 matchign records out of 1346 for Tesla|Tesla Inc|Tesla Motors on 20211231204500\n"
     ]
    },
    {
     "name": "stdout",
     "output_type": "stream",
     "text": [
      "==> Found 1 matchign records out of 1188 for Tesla|Tesla Inc|Tesla Motors on 20211231210000\n"
     ]
    },
    {
     "name": "stdout",
     "output_type": "stream",
     "text": [
      "==> Found 1 matchign records out of 1150 for Tesla|Tesla Inc|Tesla Motors on 20211231211500\n"
     ]
    },
    {
     "name": "stdout",
     "output_type": "stream",
     "text": [
      "==> Found 2 matchign records out of 1221 for Tesla|Tesla Inc|Tesla Motors on 20211231220000\n"
     ]
    },
    {
     "name": "stdout",
     "output_type": "stream",
     "text": [
      "==> Found 1 matchign records out of 985 for Tesla|Tesla Inc|Tesla Motors on 20211231221500\n"
     ]
    },
    {
     "name": "stdout",
     "output_type": "stream",
     "text": [
      "==> Found 1 matchign records out of 1107 for Tesla|Tesla Inc|Tesla Motors on 20211231230000\n"
     ]
    },
    {
     "name": "stdout",
     "output_type": "stream",
     "text": [
      "==> Found 1 matchign records out of 1093 for Tesla|Tesla Inc|Tesla Motors on 20211231231500\n"
     ]
    },
    {
     "name": "stdout",
     "output_type": "stream",
     "text": [
      "==> Found 1 matchign records out of 949 for Tesla|Tesla Inc|Tesla Motors on 20220101010000\n"
     ]
    },
    {
     "name": "stdout",
     "output_type": "stream",
     "text": [
      "==> Found 1 matchign records out of 736 for Tesla|Tesla Inc|Tesla Motors on 20220101021500\n"
     ]
    },
    {
     "name": "stdout",
     "output_type": "stream",
     "text": [
      "==> Found 1 matchign records out of 705 for Tesla|Tesla Inc|Tesla Motors on 20220101033000\n"
     ]
    },
    {
     "name": "stdout",
     "output_type": "stream",
     "text": [
      "==> Found 1 matchign records out of 580 for Tesla|Tesla Inc|Tesla Motors on 20220101040000\n"
     ]
    },
    {
     "name": "stdout",
     "output_type": "stream",
     "text": [
      "==> Found 2 matchign records out of 684 for Tesla|Tesla Inc|Tesla Motors on 20220101054500\n"
     ]
    },
    {
     "name": "stdout",
     "output_type": "stream",
     "text": [
      "==> Found 1 matchign records out of 734 for Tesla|Tesla Inc|Tesla Motors on 20220101063000\n"
     ]
    },
    {
     "name": "stdout",
     "output_type": "stream",
     "text": [
      "==> Found 1 matchign records out of 672 for Tesla|Tesla Inc|Tesla Motors on 20220101090000\n"
     ]
    },
    {
     "name": "stdout",
     "output_type": "stream",
     "text": [
      "==> Found 2 matchign records out of 593 for Tesla|Tesla Inc|Tesla Motors on 20220101094500\n"
     ]
    },
    {
     "name": "stdout",
     "output_type": "stream",
     "text": [
      "==> Found 1 matchign records out of 533 for Tesla|Tesla Inc|Tesla Motors on 20220101110000\n"
     ]
    },
    {
     "name": "stdout",
     "output_type": "stream",
     "text": [
      "==> Found 1 matchign records out of 725 for Tesla|Tesla Inc|Tesla Motors on 20220101114500\n"
     ]
    },
    {
     "name": "stdout",
     "output_type": "stream",
     "text": [
      "==> Found 1 matchign records out of 757 for Tesla|Tesla Inc|Tesla Motors on 20220101141500\n"
     ]
    },
    {
     "name": "stdout",
     "output_type": "stream",
     "text": [
      "==> Found 1 matchign records out of 586 for Tesla|Tesla Inc|Tesla Motors on 20220101144500\n"
     ]
    },
    {
     "name": "stdout",
     "output_type": "stream",
     "text": [
      "==> Found 1 matchign records out of 708 for Tesla|Tesla Inc|Tesla Motors on 20220101160000\n"
     ]
    },
    {
     "name": "stdout",
     "output_type": "stream",
     "text": [
      "==> Found 1 matchign records out of 758 for Tesla|Tesla Inc|Tesla Motors on 20220101170000\n"
     ]
    },
    {
     "name": "stdout",
     "output_type": "stream",
     "text": [
      "==> Found 1 matchign records out of 824 for Tesla|Tesla Inc|Tesla Motors on 20220101180000\n"
     ]
    },
    {
     "name": "stdout",
     "output_type": "stream",
     "text": [
      "==> Found 1 matchign records out of 846 for Tesla|Tesla Inc|Tesla Motors on 20220101200000\n"
     ]
    },
    {
     "name": "stdout",
     "output_type": "stream",
     "text": [
      "==> Found 1 matchign records out of 621 for Tesla|Tesla Inc|Tesla Motors on 20220102021500\n"
     ]
    },
    {
     "name": "stdout",
     "output_type": "stream",
     "text": [
      "==> Found 1 matchign records out of 676 for Tesla|Tesla Inc|Tesla Motors on 20220102080000\n"
     ]
    },
    {
     "name": "stdout",
     "output_type": "stream",
     "text": [
      "==> Found 1 matchign records out of 838 for Tesla|Tesla Inc|Tesla Motors on 20220102094500\n"
     ]
    },
    {
     "name": "stdout",
     "output_type": "stream",
     "text": [
      "==> Found 1 matchign records out of 544 for Tesla|Tesla Inc|Tesla Motors on 20220102121500\n"
     ]
    },
    {
     "name": "stdout",
     "output_type": "stream",
     "text": [
      "==> Found 1 matchign records out of 917 for Tesla|Tesla Inc|Tesla Motors on 20220102164500\n"
     ]
    },
    {
     "name": "stdout",
     "output_type": "stream",
     "text": [
      "==> Found 1 matchign records out of 1004 for Tesla|Tesla Inc|Tesla Motors on 20220102171500\n"
     ]
    },
    {
     "name": "stdout",
     "output_type": "stream",
     "text": [
      "==> Found 4 matchign records out of 866 for Tesla|Tesla Inc|Tesla Motors on 20220102173000\n"
     ]
    },
    {
     "name": "stdout",
     "output_type": "stream",
     "text": [
      "==> Found 1 matchign records out of 899 for Tesla|Tesla Inc|Tesla Motors on 20220102174500\n"
     ]
    },
    {
     "name": "stdout",
     "output_type": "stream",
     "text": [
      "==> Found 1 matchign records out of 768 for Tesla|Tesla Inc|Tesla Motors on 20220102180000\n"
     ]
    },
    {
     "name": "stdout",
     "output_type": "stream",
     "text": [
      "==> Found 1 matchign records out of 950 for Tesla|Tesla Inc|Tesla Motors on 20220102181500\n"
     ]
    },
    {
     "name": "stdout",
     "output_type": "stream",
     "text": [
      "==> Found 2 matchign records out of 933 for Tesla|Tesla Inc|Tesla Motors on 20220102184500\n"
     ]
    },
    {
     "name": "stdout",
     "output_type": "stream",
     "text": [
      "==> Found 1 matchign records out of 865 for Tesla|Tesla Inc|Tesla Motors on 20220102194500\n"
     ]
    },
    {
     "name": "stdout",
     "output_type": "stream",
     "text": [
      "==> Found 2 matchign records out of 791 for Tesla|Tesla Inc|Tesla Motors on 20220102200000\n"
     ]
    },
    {
     "name": "stdout",
     "output_type": "stream",
     "text": [
      "==> Found 1 matchign records out of 924 for Tesla|Tesla Inc|Tesla Motors on 20220102201500\n"
     ]
    },
    {
     "name": "stdout",
     "output_type": "stream",
     "text": [
      "==> Found 1 matchign records out of 891 for Tesla|Tesla Inc|Tesla Motors on 20220102204500\n"
     ]
    },
    {
     "name": "stdout",
     "output_type": "stream",
     "text": [
      "==> Found 1 matchign records out of 786 for Tesla|Tesla Inc|Tesla Motors on 20220102210000\n"
     ]
    },
    {
     "name": "stdout",
     "output_type": "stream",
     "text": [
      "==> Found 1 matchign records out of 670 for Tesla|Tesla Inc|Tesla Motors on 20220102223000\n"
     ]
    },
    {
     "name": "stdout",
     "output_type": "stream",
     "text": [
      "==> Found 1 matchign records out of 664 for Tesla|Tesla Inc|Tesla Motors on 20220102233000\n"
     ]
    },
    {
     "name": "stdout",
     "output_type": "stream",
     "text": [
      "==> Found 1 matchign records out of 833 for Tesla|Tesla Inc|Tesla Motors on 20220103011500\n"
     ]
    },
    {
     "name": "stdout",
     "output_type": "stream",
     "text": [
      "==> Found 1 matchign records out of 686 for Tesla|Tesla Inc|Tesla Motors on 20220103013000\n"
     ]
    },
    {
     "name": "stdout",
     "output_type": "stream",
     "text": [
      "==> Found 1 matchign records out of 739 for Tesla|Tesla Inc|Tesla Motors on 20220103014500\n"
     ]
    },
    {
     "name": "stdout",
     "output_type": "stream",
     "text": [
      "==> Found 1 matchign records out of 658 for Tesla|Tesla Inc|Tesla Motors on 20220103020000\n"
     ]
    },
    {
     "name": "stdout",
     "output_type": "stream",
     "text": [
      "==> Found 1 matchign records out of 530 for Tesla|Tesla Inc|Tesla Motors on 20220103021500\n"
     ]
    },
    {
     "name": "stdout",
     "output_type": "stream",
     "text": [
      "==> Found 3 matchign records out of 799 for Tesla|Tesla Inc|Tesla Motors on 20220103030000\n"
     ]
    },
    {
     "name": "stdout",
     "output_type": "stream",
     "text": [
      "==> Found 3 matchign records out of 706 for Tesla|Tesla Inc|Tesla Motors on 20220103033000\n"
     ]
    },
    {
     "name": "stdout",
     "output_type": "stream",
     "text": [
      "==> Found 2 matchign records out of 669 for Tesla|Tesla Inc|Tesla Motors on 20220103034500\n"
     ]
    },
    {
     "name": "stdout",
     "output_type": "stream",
     "text": [
      "==> Found 1 matchign records out of 570 for Tesla|Tesla Inc|Tesla Motors on 20220103041500\n"
     ]
    },
    {
     "name": "stdout",
     "output_type": "stream",
     "text": [
      "==> Found 1 matchign records out of 685 for Tesla|Tesla Inc|Tesla Motors on 20220103050000\n"
     ]
    },
    {
     "name": "stdout",
     "output_type": "stream",
     "text": [
      "==> Found 1 matchign records out of 618 for Tesla|Tesla Inc|Tesla Motors on 20220103054500\n"
     ]
    },
    {
     "name": "stdout",
     "output_type": "stream",
     "text": [
      "==> Found 1 matchign records out of 563 for Tesla|Tesla Inc|Tesla Motors on 20220103060000\n"
     ]
    },
    {
     "name": "stdout",
     "output_type": "stream",
     "text": [
      "==> Found 1 matchign records out of 615 for Tesla|Tesla Inc|Tesla Motors on 20220103061500\n"
     ]
    },
    {
     "name": "stdout",
     "output_type": "stream",
     "text": [
      "==> Found 2 matchign records out of 795 for Tesla|Tesla Inc|Tesla Motors on 20220103063000\n"
     ]
    },
    {
     "name": "stdout",
     "output_type": "stream",
     "text": [
      "==> Found 1 matchign records out of 842 for Tesla|Tesla Inc|Tesla Motors on 20220103071500\n"
     ]
    },
    {
     "name": "stdout",
     "output_type": "stream",
     "text": [
      "==> Found 1 matchign records out of 850 for Tesla|Tesla Inc|Tesla Motors on 20220103080000\n"
     ]
    },
    {
     "name": "stdout",
     "output_type": "stream",
     "text": [
      "==> Found 2 matchign records out of 777 for Tesla|Tesla Inc|Tesla Motors on 20220103081500\n"
     ]
    },
    {
     "name": "stdout",
     "output_type": "stream",
     "text": [
      "==> Found 1 matchign records out of 707 for Tesla|Tesla Inc|Tesla Motors on 20220103084500\n"
     ]
    },
    {
     "name": "stdout",
     "output_type": "stream",
     "text": [
      "==> Found 2 matchign records out of 823 for Tesla|Tesla Inc|Tesla Motors on 20220103090000\n"
     ]
    },
    {
     "name": "stdout",
     "output_type": "stream",
     "text": [
      "==> Found 2 matchign records out of 949 for Tesla|Tesla Inc|Tesla Motors on 20220103091500\n"
     ]
    },
    {
     "name": "stdout",
     "output_type": "stream",
     "text": [
      "==> Found 1 matchign records out of 855 for Tesla|Tesla Inc|Tesla Motors on 20220103093000\n"
     ]
    },
    {
     "name": "stdout",
     "output_type": "stream",
     "text": [
      "==> Found 1 matchign records out of 789 for Tesla|Tesla Inc|Tesla Motors on 20220103100000\n"
     ]
    },
    {
     "name": "stdout",
     "output_type": "stream",
     "text": [
      "==> Found 1 matchign records out of 763 for Tesla|Tesla Inc|Tesla Motors on 20220103101500\n"
     ]
    },
    {
     "name": "stdout",
     "output_type": "stream",
     "text": [
      "==> Found 1 matchign records out of 882 for Tesla|Tesla Inc|Tesla Motors on 20220103111500\n"
     ]
    },
    {
     "name": "stdout",
     "output_type": "stream",
     "text": [
      "==> Found 1 matchign records out of 906 for Tesla|Tesla Inc|Tesla Motors on 20220103113000\n"
     ]
    },
    {
     "name": "stdout",
     "output_type": "stream",
     "text": [
      "==> Found 1 matchign records out of 1062 for Tesla|Tesla Inc|Tesla Motors on 20220103114500\n"
     ]
    },
    {
     "name": "stdout",
     "output_type": "stream",
     "text": [
      "==> Found 1 matchign records out of 947 for Tesla|Tesla Inc|Tesla Motors on 20220103120000\n"
     ]
    },
    {
     "name": "stdout",
     "output_type": "stream",
     "text": [
      "==> Found 1 matchign records out of 1022 for Tesla|Tesla Inc|Tesla Motors on 20220103123000\n"
     ]
    },
    {
     "name": "stdout",
     "output_type": "stream",
     "text": [
      "==> Found 2 matchign records out of 1156 for Tesla|Tesla Inc|Tesla Motors on 20220103130000\n"
     ]
    },
    {
     "name": "stdout",
     "output_type": "stream",
     "text": [
      "==> Found 1 matchign records out of 1083 for Tesla|Tesla Inc|Tesla Motors on 20220103131500\n"
     ]
    },
    {
     "name": "stdout",
     "output_type": "stream",
     "text": [
      "==> Found 4 matchign records out of 1091 for Tesla|Tesla Inc|Tesla Motors on 20220103133000\n"
     ]
    },
    {
     "name": "stdout",
     "output_type": "stream",
     "text": [
      "==> Found 1 matchign records out of 1054 for Tesla|Tesla Inc|Tesla Motors on 20220103134500\n"
     ]
    },
    {
     "name": "stdout",
     "output_type": "stream",
     "text": [
      "==> Found 2 matchign records out of 1252 for Tesla|Tesla Inc|Tesla Motors on 20220103140000\n"
     ]
    },
    {
     "name": "stdout",
     "output_type": "stream",
     "text": [
      "==> Found 2 matchign records out of 1125 for Tesla|Tesla Inc|Tesla Motors on 20220103141500\n"
     ]
    },
    {
     "name": "stdout",
     "output_type": "stream",
     "text": [
      "==> Found 4 matchign records out of 1233 for Tesla|Tesla Inc|Tesla Motors on 20220103143000\n"
     ]
    },
    {
     "name": "stdout",
     "output_type": "stream",
     "text": [
      "==> Found 2 matchign records out of 993 for Tesla|Tesla Inc|Tesla Motors on 20220103144500\n"
     ]
    },
    {
     "name": "stdout",
     "output_type": "stream",
     "text": [
      "==> Found 3 matchign records out of 1347 for Tesla|Tesla Inc|Tesla Motors on 20220103150000\n"
     ]
    },
    {
     "name": "stdout",
     "output_type": "stream",
     "text": [
      "==> Found 3 matchign records out of 1258 for Tesla|Tesla Inc|Tesla Motors on 20220103151500\n"
     ]
    },
    {
     "name": "stdout",
     "output_type": "stream",
     "text": [
      "==> Found 3 matchign records out of 1445 for Tesla|Tesla Inc|Tesla Motors on 20220103153000\n"
     ]
    },
    {
     "name": "stdout",
     "output_type": "stream",
     "text": [
      "==> Found 2 matchign records out of 1382 for Tesla|Tesla Inc|Tesla Motors on 20220103160000\n"
     ]
    },
    {
     "name": "stdout",
     "output_type": "stream",
     "text": [
      "==> Found 4 matchign records out of 1386 for Tesla|Tesla Inc|Tesla Motors on 20220103161500\n"
     ]
    },
    {
     "name": "stdout",
     "output_type": "stream",
     "text": [
      "==> Found 2 matchign records out of 1393 for Tesla|Tesla Inc|Tesla Motors on 20220103163000\n"
     ]
    },
    {
     "name": "stdout",
     "output_type": "stream",
     "text": [
      "==> Found 2 matchign records out of 1439 for Tesla|Tesla Inc|Tesla Motors on 20220103170000\n"
     ]
    },
    {
     "name": "stdout",
     "output_type": "stream",
     "text": [
      "==> Found 1 matchign records out of 1471 for Tesla|Tesla Inc|Tesla Motors on 20220103171500\n"
     ]
    },
    {
     "name": "stdout",
     "output_type": "stream",
     "text": [
      "==> Found 4 matchign records out of 1415 for Tesla|Tesla Inc|Tesla Motors on 20220103173000\n"
     ]
    },
    {
     "name": "stdout",
     "output_type": "stream",
     "text": [
      "==> Found 4 matchign records out of 1647 for Tesla|Tesla Inc|Tesla Motors on 20220103174500\n"
     ]
    },
    {
     "name": "stdout",
     "output_type": "stream",
     "text": [
      "==> Found 1 matchign records out of 1480 for Tesla|Tesla Inc|Tesla Motors on 20220103180000\n"
     ]
    },
    {
     "name": "stdout",
     "output_type": "stream",
     "text": [
      "==> Found 1 matchign records out of 1470 for Tesla|Tesla Inc|Tesla Motors on 20220103181500\n"
     ]
    },
    {
     "name": "stdout",
     "output_type": "stream",
     "text": [
      "==> Found 6 matchign records out of 1677 for Tesla|Tesla Inc|Tesla Motors on 20220103183000\n"
     ]
    },
    {
     "name": "stdout",
     "output_type": "stream",
     "text": [
      "==> Found 2 matchign records out of 1386 for Tesla|Tesla Inc|Tesla Motors on 20220103184500\n"
     ]
    },
    {
     "name": "stdout",
     "output_type": "stream",
     "text": [
      "==> Found 2 matchign records out of 1472 for Tesla|Tesla Inc|Tesla Motors on 20220103190000\n"
     ]
    },
    {
     "name": "stdout",
     "output_type": "stream",
     "text": [
      "==> Found 2 matchign records out of 1550 for Tesla|Tesla Inc|Tesla Motors on 20220103193000\n"
     ]
    },
    {
     "name": "stdout",
     "output_type": "stream",
     "text": [
      "==> Found 3 matchign records out of 1736 for Tesla|Tesla Inc|Tesla Motors on 20220103194500\n"
     ]
    },
    {
     "name": "stdout",
     "output_type": "stream",
     "text": [
      "==> Found 1 matchign records out of 1605 for Tesla|Tesla Inc|Tesla Motors on 20220103200000\n"
     ]
    },
    {
     "name": "stdout",
     "output_type": "stream",
     "text": [
      "==> Found 14 matchign records out of 1485 for Tesla|Tesla Inc|Tesla Motors on 20220103201500\n"
     ]
    },
    {
     "name": "stdout",
     "output_type": "stream",
     "text": [
      "==> Found 7 matchign records out of 1573 for Tesla|Tesla Inc|Tesla Motors on 20220103203000\n"
     ]
    },
    {
     "name": "stdout",
     "output_type": "stream",
     "text": [
      "==> Found 2 matchign records out of 1527 for Tesla|Tesla Inc|Tesla Motors on 20220103204500\n"
     ]
    },
    {
     "name": "stdout",
     "output_type": "stream",
     "text": [
      "==> Found 2 matchign records out of 1334 for Tesla|Tesla Inc|Tesla Motors on 20220103210000\n"
     ]
    },
    {
     "name": "stdout",
     "output_type": "stream",
     "text": [
      "==> Found 2 matchign records out of 1515 for Tesla|Tesla Inc|Tesla Motors on 20220103211500\n"
     ]
    },
    {
     "name": "stdout",
     "output_type": "stream",
     "text": [
      "==> Found 6 matchign records out of 1554 for Tesla|Tesla Inc|Tesla Motors on 20220103213000\n"
     ]
    },
    {
     "name": "stdout",
     "output_type": "stream",
     "text": [
      "==> Found 4 matchign records out of 1526 for Tesla|Tesla Inc|Tesla Motors on 20220103214500\n"
     ]
    },
    {
     "name": "stdout",
     "output_type": "stream",
     "text": [
      "==> Found 4 matchign records out of 1335 for Tesla|Tesla Inc|Tesla Motors on 20220103220000\n"
     ]
    },
    {
     "name": "stdout",
     "output_type": "stream",
     "text": [
      "==> Found 1 matchign records out of 1309 for Tesla|Tesla Inc|Tesla Motors on 20220103221500\n"
     ]
    },
    {
     "name": "stdout",
     "output_type": "stream",
     "text": [
      "==> Found 2 matchign records out of 1575 for Tesla|Tesla Inc|Tesla Motors on 20220103223000\n"
     ]
    },
    {
     "name": "stdout",
     "output_type": "stream",
     "text": [
      "==> Found 8 matchign records out of 1439 for Tesla|Tesla Inc|Tesla Motors on 20220103224500\n"
     ]
    },
    {
     "name": "stdout",
     "output_type": "stream",
     "text": [
      "==> Found 2 matchign records out of 1296 for Tesla|Tesla Inc|Tesla Motors on 20220103230000\n"
     ]
    },
    {
     "name": "stdout",
     "output_type": "stream",
     "text": [
      "==> Found 2 matchign records out of 1361 for Tesla|Tesla Inc|Tesla Motors on 20220103231500\n"
     ]
    },
    {
     "name": "stdout",
     "output_type": "stream",
     "text": [
      "==> Found 6 matchign records out of 1398 for Tesla|Tesla Inc|Tesla Motors on 20220104000000\n"
     ]
    },
    {
     "name": "stdout",
     "output_type": "stream",
     "text": [
      "==> Found 2 matchign records out of 1300 for Tesla|Tesla Inc|Tesla Motors on 20220104001500\n"
     ]
    },
    {
     "name": "stdout",
     "output_type": "stream",
     "text": [
      "==> Found 1 matchign records out of 1270 for Tesla|Tesla Inc|Tesla Motors on 20220104003000\n"
     ]
    },
    {
     "name": "stdout",
     "output_type": "stream",
     "text": [
      "==> Found 2 matchign records out of 1275 for Tesla|Tesla Inc|Tesla Motors on 20220104004500\n"
     ]
    },
    {
     "name": "stdout",
     "output_type": "stream",
     "text": [
      "==> Found 4 matchign records out of 1379 for Tesla|Tesla Inc|Tesla Motors on 20220104010000\n"
     ]
    },
    {
     "name": "stdout",
     "output_type": "stream",
     "text": [
      "==> Found 2 matchign records out of 1244 for Tesla|Tesla Inc|Tesla Motors on 20220104011500\n"
     ]
    },
    {
     "name": "stdout",
     "output_type": "stream",
     "text": [
      "==> Found 3 matchign records out of 1176 for Tesla|Tesla Inc|Tesla Motors on 20220104014500\n"
     ]
    },
    {
     "name": "stdout",
     "output_type": "stream",
     "text": [
      "==> Found 3 matchign records out of 1251 for Tesla|Tesla Inc|Tesla Motors on 20220104020000\n"
     ]
    },
    {
     "name": "stdout",
     "output_type": "stream",
     "text": [
      "==> Found 2 matchign records out of 1147 for Tesla|Tesla Inc|Tesla Motors on 20220104021500\n"
     ]
    },
    {
     "name": "stdout",
     "output_type": "stream",
     "text": [
      "==> Found 2 matchign records out of 1020 for Tesla|Tesla Inc|Tesla Motors on 20220104023000\n"
     ]
    },
    {
     "name": "stdout",
     "output_type": "stream",
     "text": [
      "==> Found 1 matchign records out of 1109 for Tesla|Tesla Inc|Tesla Motors on 20220104024500\n"
     ]
    },
    {
     "name": "stdout",
     "output_type": "stream",
     "text": [
      "==> Found 3 matchign records out of 1124 for Tesla|Tesla Inc|Tesla Motors on 20220104030000\n"
     ]
    },
    {
     "name": "stdout",
     "output_type": "stream",
     "text": [
      "==> Found 1 matchign records out of 985 for Tesla|Tesla Inc|Tesla Motors on 20220104033000\n"
     ]
    },
    {
     "name": "stdout",
     "output_type": "stream",
     "text": [
      "==> Found 3 matchign records out of 1047 for Tesla|Tesla Inc|Tesla Motors on 20220104034500\n"
     ]
    },
    {
     "name": "stdout",
     "output_type": "stream",
     "text": [
      "==> Found 1 matchign records out of 938 for Tesla|Tesla Inc|Tesla Motors on 20220104040000\n"
     ]
    },
    {
     "name": "stdout",
     "output_type": "stream",
     "text": [
      "==> Found 4 matchign records out of 932 for Tesla|Tesla Inc|Tesla Motors on 20220104041500\n"
     ]
    },
    {
     "name": "stdout",
     "output_type": "stream",
     "text": [
      "==> Found 3 matchign records out of 903 for Tesla|Tesla Inc|Tesla Motors on 20220104043000\n"
     ]
    },
    {
     "name": "stdout",
     "output_type": "stream",
     "text": [
      "==> Found 1 matchign records out of 822 for Tesla|Tesla Inc|Tesla Motors on 20220104044500\n"
     ]
    },
    {
     "name": "stdout",
     "output_type": "stream",
     "text": [
      "==> Found 1 matchign records out of 923 for Tesla|Tesla Inc|Tesla Motors on 20220104050000\n"
     ]
    },
    {
     "name": "stdout",
     "output_type": "stream",
     "text": [
      "==> Found 2 matchign records out of 947 for Tesla|Tesla Inc|Tesla Motors on 20220104054500\n"
     ]
    },
    {
     "name": "stdout",
     "output_type": "stream",
     "text": [
      "==> Found 3 matchign records out of 895 for Tesla|Tesla Inc|Tesla Motors on 20220104060000\n"
     ]
    },
    {
     "name": "stdout",
     "output_type": "stream",
     "text": [
      "==> Found 3 matchign records out of 849 for Tesla|Tesla Inc|Tesla Motors on 20220104061500\n"
     ]
    },
    {
     "name": "stdout",
     "output_type": "stream",
     "text": [
      "==> Found 2 matchign records out of 806 for Tesla|Tesla Inc|Tesla Motors on 20220104063000\n"
     ]
    },
    {
     "name": "stdout",
     "output_type": "stream",
     "text": [
      "==> Found 1 matchign records out of 1016 for Tesla|Tesla Inc|Tesla Motors on 20220104064500\n"
     ]
    },
    {
     "name": "stdout",
     "output_type": "stream",
     "text": [
      "==> Found 4 matchign records out of 968 for Tesla|Tesla Inc|Tesla Motors on 20220104070000\n"
     ]
    },
    {
     "name": "stdout",
     "output_type": "stream",
     "text": [
      "==> Found 2 matchign records out of 918 for Tesla|Tesla Inc|Tesla Motors on 20220104071500\n"
     ]
    },
    {
     "name": "stdout",
     "output_type": "stream",
     "text": [
      "==> Found 3 matchign records out of 916 for Tesla|Tesla Inc|Tesla Motors on 20220104073000\n"
     ]
    },
    {
     "name": "stdout",
     "output_type": "stream",
     "text": [
      "==> Found 4 matchign records out of 890 for Tesla|Tesla Inc|Tesla Motors on 20220104074500\n"
     ]
    },
    {
     "name": "stdout",
     "output_type": "stream",
     "text": [
      "==> Found 2 matchign records out of 864 for Tesla|Tesla Inc|Tesla Motors on 20220104080000\n"
     ]
    },
    {
     "name": "stdout",
     "output_type": "stream",
     "text": [
      "==> Found 8 matchign records out of 826 for Tesla|Tesla Inc|Tesla Motors on 20220104081500\n"
     ]
    },
    {
     "name": "stdout",
     "output_type": "stream",
     "text": [
      "==> Found 6 matchign records out of 1081 for Tesla|Tesla Inc|Tesla Motors on 20220104083000\n"
     ]
    },
    {
     "name": "stdout",
     "output_type": "stream",
     "text": [
      "==> Found 3 matchign records out of 1101 for Tesla|Tesla Inc|Tesla Motors on 20220104084500\n"
     ]
    },
    {
     "name": "stdout",
     "output_type": "stream",
     "text": [
      "==> Found 3 matchign records out of 906 for Tesla|Tesla Inc|Tesla Motors on 20220104091500\n"
     ]
    },
    {
     "name": "stdout",
     "output_type": "stream",
     "text": [
      "==> Found 5 matchign records out of 1034 for Tesla|Tesla Inc|Tesla Motors on 20220104093000\n"
     ]
    },
    {
     "name": "stdout",
     "output_type": "stream",
     "text": [
      "==> Found 5 matchign records out of 984 for Tesla|Tesla Inc|Tesla Motors on 20220104094500\n"
     ]
    },
    {
     "name": "stdout",
     "output_type": "stream",
     "text": [
      "==> Found 1 matchign records out of 1146 for Tesla|Tesla Inc|Tesla Motors on 20220104100000\n"
     ]
    },
    {
     "name": "stdout",
     "output_type": "stream",
     "text": [
      "==> Found 4 matchign records out of 1189 for Tesla|Tesla Inc|Tesla Motors on 20220104101500\n"
     ]
    },
    {
     "name": "stdout",
     "output_type": "stream",
     "text": [
      "==> Found 1 matchign records out of 1095 for Tesla|Tesla Inc|Tesla Motors on 20220104103000\n"
     ]
    },
    {
     "name": "stdout",
     "output_type": "stream",
     "text": [
      "==> Found 3 matchign records out of 1023 for Tesla|Tesla Inc|Tesla Motors on 20220104104500\n"
     ]
    },
    {
     "name": "stdout",
     "output_type": "stream",
     "text": [
      "==> Found 4 matchign records out of 1344 for Tesla|Tesla Inc|Tesla Motors on 20220104110000\n"
     ]
    },
    {
     "name": "stdout",
     "output_type": "stream",
     "text": [
      "==> Found 5 matchign records out of 1170 for Tesla|Tesla Inc|Tesla Motors on 20220104111500\n"
     ]
    },
    {
     "name": "stdout",
     "output_type": "stream",
     "text": [
      "==> Found 3 matchign records out of 1015 for Tesla|Tesla Inc|Tesla Motors on 20220104113000\n"
     ]
    },
    {
     "name": "stdout",
     "output_type": "stream",
     "text": [
      "==> Found 3 matchign records out of 1435 for Tesla|Tesla Inc|Tesla Motors on 20220104114500\n"
     ]
    },
    {
     "name": "stdout",
     "output_type": "stream",
     "text": [
      "==> Found 11 matchign records out of 1199 for Tesla|Tesla Inc|Tesla Motors on 20220104120000\n"
     ]
    },
    {
     "name": "stdout",
     "output_type": "stream",
     "text": [
      "==> Found 5 matchign records out of 1170 for Tesla|Tesla Inc|Tesla Motors on 20220104121500\n"
     ]
    },
    {
     "name": "stdout",
     "output_type": "stream",
     "text": [
      "==> Found 6 matchign records out of 1297 for Tesla|Tesla Inc|Tesla Motors on 20220104123000\n"
     ]
    },
    {
     "name": "stdout",
     "output_type": "stream",
     "text": [
      "==> Found 8 matchign records out of 1364 for Tesla|Tesla Inc|Tesla Motors on 20220104124500\n"
     ]
    },
    {
     "name": "stdout",
     "output_type": "stream",
     "text": [
      "==> Found 5 matchign records out of 1287 for Tesla|Tesla Inc|Tesla Motors on 20220104130000\n"
     ]
    },
    {
     "name": "stdout",
     "output_type": "stream",
     "text": [
      "==> Found 9 matchign records out of 1460 for Tesla|Tesla Inc|Tesla Motors on 20220104131500\n"
     ]
    },
    {
     "name": "stdout",
     "output_type": "stream",
     "text": [
      "==> Found 10 matchign records out of 1441 for Tesla|Tesla Inc|Tesla Motors on 20220104133000\n"
     ]
    },
    {
     "name": "stdout",
     "output_type": "stream",
     "text": [
      "==> Found 9 matchign records out of 1451 for Tesla|Tesla Inc|Tesla Motors on 20220104134500\n"
     ]
    },
    {
     "name": "stdout",
     "output_type": "stream",
     "text": [
      "==> Found 9 matchign records out of 1532 for Tesla|Tesla Inc|Tesla Motors on 20220104140000\n"
     ]
    },
    {
     "name": "stdout",
     "output_type": "stream",
     "text": [
      "==> Found 8 matchign records out of 1453 for Tesla|Tesla Inc|Tesla Motors on 20220104141500\n"
     ]
    },
    {
     "name": "stdout",
     "output_type": "stream",
     "text": [
      "==> Found 4 matchign records out of 1388 for Tesla|Tesla Inc|Tesla Motors on 20220104143000\n"
     ]
    },
    {
     "name": "stdout",
     "output_type": "stream",
     "text": [
      "==> Found 6 matchign records out of 1697 for Tesla|Tesla Inc|Tesla Motors on 20220104144500\n"
     ]
    },
    {
     "name": "stdout",
     "output_type": "stream",
     "text": [
      "==> Found 4 matchign records out of 1427 for Tesla|Tesla Inc|Tesla Motors on 20220104150000\n"
     ]
    },
    {
     "name": "stdout",
     "output_type": "stream",
     "text": [
      "==> Found 7 matchign records out of 1787 for Tesla|Tesla Inc|Tesla Motors on 20220104151500\n"
     ]
    },
    {
     "name": "stdout",
     "output_type": "stream",
     "text": [
      "==> Found 5 matchign records out of 1504 for Tesla|Tesla Inc|Tesla Motors on 20220104153000\n"
     ]
    },
    {
     "name": "stdout",
     "output_type": "stream",
     "text": [
      "==> Found 8 matchign records out of 1617 for Tesla|Tesla Inc|Tesla Motors on 20220104154500\n"
     ]
    },
    {
     "name": "stdout",
     "output_type": "stream",
     "text": [
      "==> Found 7 matchign records out of 1958 for Tesla|Tesla Inc|Tesla Motors on 20220104160000\n"
     ]
    },
    {
     "name": "stdout",
     "output_type": "stream",
     "text": [
      "==> Found 8 matchign records out of 1932 for Tesla|Tesla Inc|Tesla Motors on 20220104161500\n"
     ]
    },
    {
     "name": "stdout",
     "output_type": "stream",
     "text": [
      "==> Found 4 matchign records out of 1686 for Tesla|Tesla Inc|Tesla Motors on 20220104163000\n"
     ]
    },
    {
     "name": "stdout",
     "output_type": "stream",
     "text": [
      "==> Found 3 matchign records out of 2211 for Tesla|Tesla Inc|Tesla Motors on 20220104164500\n"
     ]
    },
    {
     "name": "stdout",
     "output_type": "stream",
     "text": [
      "==> Found 2 matchign records out of 1630 for Tesla|Tesla Inc|Tesla Motors on 20220104170000\n"
     ]
    },
    {
     "name": "stdout",
     "output_type": "stream",
     "text": [
      "==> Found 4 matchign records out of 2003 for Tesla|Tesla Inc|Tesla Motors on 20220104171500\n"
     ]
    },
    {
     "name": "stdout",
     "output_type": "stream",
     "text": [
      "==> Found 2 matchign records out of 2023 for Tesla|Tesla Inc|Tesla Motors on 20220104173000\n"
     ]
    },
    {
     "name": "stdout",
     "output_type": "stream",
     "text": [
      "==> Found 2 matchign records out of 1834 for Tesla|Tesla Inc|Tesla Motors on 20220104174500\n"
     ]
    },
    {
     "name": "stdout",
     "output_type": "stream",
     "text": [
      "==> Found 6 matchign records out of 1988 for Tesla|Tesla Inc|Tesla Motors on 20220104180000\n"
     ]
    },
    {
     "name": "stdout",
     "output_type": "stream",
     "text": [
      "==> Found 3 matchign records out of 2132 for Tesla|Tesla Inc|Tesla Motors on 20220104181500\n"
     ]
    },
    {
     "name": "stdout",
     "output_type": "stream",
     "text": [
      "==> Found 2 matchign records out of 2072 for Tesla|Tesla Inc|Tesla Motors on 20220104184500\n"
     ]
    },
    {
     "name": "stdout",
     "output_type": "stream",
     "text": [
      "==> Found 2 matchign records out of 1981 for Tesla|Tesla Inc|Tesla Motors on 20220104190000\n"
     ]
    },
    {
     "name": "stdout",
     "output_type": "stream",
     "text": [
      "==> Found 2 matchign records out of 2205 for Tesla|Tesla Inc|Tesla Motors on 20220104191500\n"
     ]
    },
    {
     "name": "stdout",
     "output_type": "stream",
     "text": [
      "==> Found 4 matchign records out of 2042 for Tesla|Tesla Inc|Tesla Motors on 20220104193000\n"
     ]
    },
    {
     "name": "stdout",
     "output_type": "stream",
     "text": [
      "==> Found 2 matchign records out of 1926 for Tesla|Tesla Inc|Tesla Motors on 20220104194500\n"
     ]
    },
    {
     "name": "stdout",
     "output_type": "stream",
     "text": [
      "==> Found 2 matchign records out of 1919 for Tesla|Tesla Inc|Tesla Motors on 20220104201500\n"
     ]
    },
    {
     "name": "stdout",
     "output_type": "stream",
     "text": [
      "==> Found 3 matchign records out of 1898 for Tesla|Tesla Inc|Tesla Motors on 20220104203000\n"
     ]
    },
    {
     "name": "stdout",
     "output_type": "stream",
     "text": [
      "==> Found 4 matchign records out of 1807 for Tesla|Tesla Inc|Tesla Motors on 20220104204500\n"
     ]
    },
    {
     "name": "stdout",
     "output_type": "stream",
     "text": [
      "==> Found 3 matchign records out of 1722 for Tesla|Tesla Inc|Tesla Motors on 20220104211500\n"
     ]
    },
    {
     "name": "stdout",
     "output_type": "stream",
     "text": [
      "==> Found 3 matchign records out of 1737 for Tesla|Tesla Inc|Tesla Motors on 20220104214500\n"
     ]
    },
    {
     "name": "stdout",
     "output_type": "stream",
     "text": [
      "==> Found 4 matchign records out of 1562 for Tesla|Tesla Inc|Tesla Motors on 20220104220000\n"
     ]
    },
    {
     "name": "stdout",
     "output_type": "stream",
     "text": [
      "==> Found 2 matchign records out of 1713 for Tesla|Tesla Inc|Tesla Motors on 20220104221500\n"
     ]
    },
    {
     "name": "stdout",
     "output_type": "stream",
     "text": [
      "==> Found 4 matchign records out of 1725 for Tesla|Tesla Inc|Tesla Motors on 20220104223000\n"
     ]
    },
    {
     "name": "stdout",
     "output_type": "stream",
     "text": [
      "==> Found 2 matchign records out of 1599 for Tesla|Tesla Inc|Tesla Motors on 20220104224500\n"
     ]
    },
    {
     "name": "stdout",
     "output_type": "stream",
     "text": [
      "==> Found 4 matchign records out of 1614 for Tesla|Tesla Inc|Tesla Motors on 20220104230000\n"
     ]
    },
    {
     "name": "stdout",
     "output_type": "stream",
     "text": [
      "==> Found 4 matchign records out of 1521 for Tesla|Tesla Inc|Tesla Motors on 20220104231500\n"
     ]
    },
    {
     "name": "stdout",
     "output_type": "stream",
     "text": [
      "==> Found 3 matchign records out of 1546 for Tesla|Tesla Inc|Tesla Motors on 20220104233000\n"
     ]
    },
    {
     "name": "stdout",
     "output_type": "stream",
     "text": [
      "==> Found 6 matchign records out of 1773 for Tesla|Tesla Inc|Tesla Motors on 20220104234500\n"
     ]
    },
    {
     "name": "stdout",
     "output_type": "stream",
     "text": [
      "==> Found 1 matchign records out of 1350 for Tesla|Tesla Inc|Tesla Motors on 20220105000000\n"
     ]
    },
    {
     "name": "stdout",
     "output_type": "stream",
     "text": [
      "==> Found 3 matchign records out of 1453 for Tesla|Tesla Inc|Tesla Motors on 20220105001500\n"
     ]
    },
    {
     "name": "stdout",
     "output_type": "stream",
     "text": [
      "==> Found 3 matchign records out of 1498 for Tesla|Tesla Inc|Tesla Motors on 20220105003000\n"
     ]
    },
    {
     "name": "stdout",
     "output_type": "stream",
     "text": [
      "==> Found 2 matchign records out of 1596 for Tesla|Tesla Inc|Tesla Motors on 20220105010000\n"
     ]
    },
    {
     "name": "stdout",
     "output_type": "stream",
     "text": [
      "==> Found 4 matchign records out of 1386 for Tesla|Tesla Inc|Tesla Motors on 20220105013000\n"
     ]
    },
    {
     "name": "stdout",
     "output_type": "stream",
     "text": [
      "==> Found 1 matchign records out of 1214 for Tesla|Tesla Inc|Tesla Motors on 20220105020000\n"
     ]
    },
    {
     "name": "stdout",
     "output_type": "stream",
     "text": [
      "==> Found 2 matchign records out of 1166 for Tesla|Tesla Inc|Tesla Motors on 20220105021500\n"
     ]
    },
    {
     "name": "stdout",
     "output_type": "stream",
     "text": [
      "==> Found 1 matchign records out of 1164 for Tesla|Tesla Inc|Tesla Motors on 20220105024500\n"
     ]
    },
    {
     "name": "stdout",
     "output_type": "stream",
     "text": [
      "==> Found 2 matchign records out of 1189 for Tesla|Tesla Inc|Tesla Motors on 20220105030000\n"
     ]
    },
    {
     "name": "stdout",
     "output_type": "stream",
     "text": [
      "==> Found 1 matchign records out of 1292 for Tesla|Tesla Inc|Tesla Motors on 20220105033000\n"
     ]
    },
    {
     "name": "stdout",
     "output_type": "stream",
     "text": [
      "==> Found 2 matchign records out of 1116 for Tesla|Tesla Inc|Tesla Motors on 20220105034500\n"
     ]
    },
    {
     "name": "stdout",
     "output_type": "stream",
     "text": [
      "==> Found 1 matchign records out of 913 for Tesla|Tesla Inc|Tesla Motors on 20220105040000\n"
     ]
    },
    {
     "name": "stdout",
     "output_type": "stream",
     "text": [
      "==> Found 3 matchign records out of 1053 for Tesla|Tesla Inc|Tesla Motors on 20220105041500\n"
     ]
    },
    {
     "name": "stdout",
     "output_type": "stream",
     "text": [
      "==> Found 2 matchign records out of 1029 for Tesla|Tesla Inc|Tesla Motors on 20220105043000\n"
     ]
    },
    {
     "name": "stdout",
     "output_type": "stream",
     "text": [
      "==> Found 1 matchign records out of 936 for Tesla|Tesla Inc|Tesla Motors on 20220105044500\n"
     ]
    },
    {
     "name": "stdout",
     "output_type": "stream",
     "text": [
      "==> Found 6 matchign records out of 870 for Tesla|Tesla Inc|Tesla Motors on 20220105050000\n"
     ]
    },
    {
     "name": "stdout",
     "output_type": "stream",
     "text": [
      "==> Found 2 matchign records out of 1001 for Tesla|Tesla Inc|Tesla Motors on 20220105054500\n"
     ]
    },
    {
     "name": "stdout",
     "output_type": "stream",
     "text": [
      "==> Found 2 matchign records out of 753 for Tesla|Tesla Inc|Tesla Motors on 20220105060000\n"
     ]
    },
    {
     "name": "stdout",
     "output_type": "stream",
     "text": [
      "==> Found 1 matchign records out of 1039 for Tesla|Tesla Inc|Tesla Motors on 20220105061500\n"
     ]
    },
    {
     "name": "stdout",
     "output_type": "stream",
     "text": [
      "==> Found 2 matchign records out of 942 for Tesla|Tesla Inc|Tesla Motors on 20220105063000\n"
     ]
    },
    {
     "name": "stdout",
     "output_type": "stream",
     "text": [
      "==> Found 1 matchign records out of 1171 for Tesla|Tesla Inc|Tesla Motors on 20220105073000\n"
     ]
    },
    {
     "name": "stdout",
     "output_type": "stream",
     "text": [
      "==> Found 2 matchign records out of 936 for Tesla|Tesla Inc|Tesla Motors on 20220105074500\n"
     ]
    },
    {
     "name": "stdout",
     "output_type": "stream",
     "text": [
      "==> Found 1 matchign records out of 1140 for Tesla|Tesla Inc|Tesla Motors on 20220105083000\n"
     ]
    },
    {
     "name": "stdout",
     "output_type": "stream",
     "text": [
      "==> Found 2 matchign records out of 982 for Tesla|Tesla Inc|Tesla Motors on 20220105090000\n"
     ]
    },
    {
     "name": "stdout",
     "output_type": "stream",
     "text": [
      "==> Found 1 matchign records out of 1089 for Tesla|Tesla Inc|Tesla Motors on 20220105101500\n"
     ]
    },
    {
     "name": "stdout",
     "output_type": "stream",
     "text": [
      "==> Found 1 matchign records out of 1161 for Tesla|Tesla Inc|Tesla Motors on 20220105103000\n"
     ]
    },
    {
     "name": "stdout",
     "output_type": "stream",
     "text": [
      "==> Found 1 matchign records out of 1074 for Tesla|Tesla Inc|Tesla Motors on 20220105104500\n"
     ]
    },
    {
     "name": "stdout",
     "output_type": "stream",
     "text": [
      "==> Found 1 matchign records out of 1411 for Tesla|Tesla Inc|Tesla Motors on 20220105110000\n"
     ]
    },
    {
     "name": "stdout",
     "output_type": "stream",
     "text": [
      "==> Found 1 matchign records out of 1175 for Tesla|Tesla Inc|Tesla Motors on 20220105113000\n"
     ]
    },
    {
     "name": "stdout",
     "output_type": "stream",
     "text": [
      "==> Found 1 matchign records out of 1427 for Tesla|Tesla Inc|Tesla Motors on 20220105123000\n"
     ]
    },
    {
     "name": "stdout",
     "output_type": "stream",
     "text": [
      "==> Found 1 matchign records out of 1657 for Tesla|Tesla Inc|Tesla Motors on 20220105124500\n"
     ]
    },
    {
     "name": "stdout",
     "output_type": "stream",
     "text": [
      "==> Found 1 matchign records out of 1471 for Tesla|Tesla Inc|Tesla Motors on 20220105130000\n"
     ]
    },
    {
     "name": "stdout",
     "output_type": "stream",
     "text": [
      "==> Found 2 matchign records out of 1418 for Tesla|Tesla Inc|Tesla Motors on 20220105131500\n"
     ]
    },
    {
     "name": "stdout",
     "output_type": "stream",
     "text": [
      "==> Found 1 matchign records out of 1676 for Tesla|Tesla Inc|Tesla Motors on 20220105134500\n"
     ]
    },
    {
     "name": "stdout",
     "output_type": "stream",
     "text": [
      "==> Found 2 matchign records out of 1668 for Tesla|Tesla Inc|Tesla Motors on 20220105143000\n"
     ]
    },
    {
     "name": "stdout",
     "output_type": "stream",
     "text": [
      "==> Found 2 matchign records out of 1622 for Tesla|Tesla Inc|Tesla Motors on 20220105150000\n"
     ]
    },
    {
     "name": "stdout",
     "output_type": "stream",
     "text": [
      "==> Found 1 matchign records out of 1759 for Tesla|Tesla Inc|Tesla Motors on 20220105151500\n"
     ]
    },
    {
     "name": "stdout",
     "output_type": "stream",
     "text": [
      "==> Found 2 matchign records out of 1762 for Tesla|Tesla Inc|Tesla Motors on 20220105153000\n"
     ]
    },
    {
     "name": "stdout",
     "output_type": "stream",
     "text": [
      "==> Found 3 matchign records out of 1821 for Tesla|Tesla Inc|Tesla Motors on 20220105154500\n"
     ]
    },
    {
     "name": "stdout",
     "output_type": "stream",
     "text": [
      "==> Found 3 matchign records out of 2024 for Tesla|Tesla Inc|Tesla Motors on 20220105161500\n"
     ]
    },
    {
     "name": "stdout",
     "output_type": "stream",
     "text": [
      "==> Found 2 matchign records out of 2281 for Tesla|Tesla Inc|Tesla Motors on 20220105164500\n"
     ]
    },
    {
     "name": "stdout",
     "output_type": "stream",
     "text": [
      "==> Found 5 matchign records out of 1956 for Tesla|Tesla Inc|Tesla Motors on 20220105170000\n"
     ]
    },
    {
     "name": "stdout",
     "output_type": "stream",
     "text": [
      "==> Found 2 matchign records out of 2026 for Tesla|Tesla Inc|Tesla Motors on 20220105171500\n"
     ]
    },
    {
     "name": "stdout",
     "output_type": "stream",
     "text": [
      "==> Found 4 matchign records out of 1952 for Tesla|Tesla Inc|Tesla Motors on 20220105174500\n"
     ]
    },
    {
     "name": "stdout",
     "output_type": "stream",
     "text": [
      "==> Found 2 matchign records out of 2230 for Tesla|Tesla Inc|Tesla Motors on 20220105181500\n"
     ]
    },
    {
     "name": "stdout",
     "output_type": "stream",
     "text": [
      "==> Found 1 matchign records out of 1966 for Tesla|Tesla Inc|Tesla Motors on 20220105191500\n"
     ]
    },
    {
     "name": "stdout",
     "output_type": "stream",
     "text": [
      "==> Found 1 matchign records out of 1908 for Tesla|Tesla Inc|Tesla Motors on 20220105193000\n"
     ]
    },
    {
     "name": "stdout",
     "output_type": "stream",
     "text": [
      "==> Found 2 matchign records out of 2107 for Tesla|Tesla Inc|Tesla Motors on 20220105194500\n"
     ]
    },
    {
     "name": "stdout",
     "output_type": "stream",
     "text": [
      "==> Found 1 matchign records out of 2057 for Tesla|Tesla Inc|Tesla Motors on 20220105200000\n"
     ]
    },
    {
     "name": "stdout",
     "output_type": "stream",
     "text": [
      "==> Found 1 matchign records out of 1867 for Tesla|Tesla Inc|Tesla Motors on 20220105203000\n"
     ]
    },
    {
     "name": "stdout",
     "output_type": "stream",
     "text": [
      "==> Found 2 matchign records out of 1932 for Tesla|Tesla Inc|Tesla Motors on 20220105213000\n"
     ]
    },
    {
     "name": "stdout",
     "output_type": "stream",
     "text": [
      "==> Found 1 matchign records out of 1730 for Tesla|Tesla Inc|Tesla Motors on 20220105220000\n"
     ]
    },
    {
     "name": "stdout",
     "output_type": "stream",
     "text": [
      "==> Found 1 matchign records out of 1689 for Tesla|Tesla Inc|Tesla Motors on 20220105223000\n"
     ]
    },
    {
     "name": "stdout",
     "output_type": "stream",
     "text": [
      "==> Found 1 matchign records out of 1905 for Tesla|Tesla Inc|Tesla Motors on 20220105224500\n"
     ]
    },
    {
     "name": "stdout",
     "output_type": "stream",
     "text": [
      "==> Found 1 matchign records out of 1740 for Tesla|Tesla Inc|Tesla Motors on 20220105234500\n"
     ]
    },
    {
     "name": "stdout",
     "output_type": "stream",
     "text": [
      "==> Found 2 matchign records out of 1475 for Tesla|Tesla Inc|Tesla Motors on 20220106010000\n"
     ]
    },
    {
     "name": "stdout",
     "output_type": "stream",
     "text": [
      "==> Found 1 matchign records out of 1500 for Tesla|Tesla Inc|Tesla Motors on 20220106013000\n"
     ]
    },
    {
     "name": "stdout",
     "output_type": "stream",
     "text": [
      "==> Found 1 matchign records out of 1008 for Tesla|Tesla Inc|Tesla Motors on 20220106024500\n"
     ]
    },
    {
     "name": "stdout",
     "output_type": "stream",
     "text": [
      "==> Found 1 matchign records out of 1229 for Tesla|Tesla Inc|Tesla Motors on 20220106034500\n"
     ]
    },
    {
     "name": "stdout",
     "output_type": "stream",
     "text": [
      "==> Found 1 matchign records out of 1085 for Tesla|Tesla Inc|Tesla Motors on 20220106043000\n"
     ]
    },
    {
     "name": "stdout",
     "output_type": "stream",
     "text": [
      "==> Found 1 matchign records out of 895 for Tesla|Tesla Inc|Tesla Motors on 20220106054500\n"
     ]
    },
    {
     "name": "stdout",
     "output_type": "stream",
     "text": [
      "==> Found 1 matchign records out of 974 for Tesla|Tesla Inc|Tesla Motors on 20220106071500\n"
     ]
    },
    {
     "name": "stdout",
     "output_type": "stream",
     "text": [
      "==> Found 1 matchign records out of 1005 for Tesla|Tesla Inc|Tesla Motors on 20220106073000\n"
     ]
    },
    {
     "name": "stdout",
     "output_type": "stream",
     "text": [
      "==> Found 1 matchign records out of 1006 for Tesla|Tesla Inc|Tesla Motors on 20220106080000\n"
     ]
    },
    {
     "name": "stdout",
     "output_type": "stream",
     "text": [
      "==> Found 1 matchign records out of 816 for Tesla|Tesla Inc|Tesla Motors on 20220106083000\n"
     ]
    },
    {
     "name": "stdout",
     "output_type": "stream",
     "text": [
      "==> Found 1 matchign records out of 1110 for Tesla|Tesla Inc|Tesla Motors on 20220106094500\n"
     ]
    },
    {
     "name": "stdout",
     "output_type": "stream",
     "text": [
      "==> Found 1 matchign records out of 1357 for Tesla|Tesla Inc|Tesla Motors on 20220106104500\n"
     ]
    },
    {
     "name": "stdout",
     "output_type": "stream",
     "text": [
      "==> Found 1 matchign records out of 1278 for Tesla|Tesla Inc|Tesla Motors on 20220106114500\n"
     ]
    },
    {
     "name": "stdout",
     "output_type": "stream",
     "text": [
      "==> Found 3 matchign records out of 1485 for Tesla|Tesla Inc|Tesla Motors on 20220106120000\n"
     ]
    },
    {
     "name": "stdout",
     "output_type": "stream",
     "text": [
      "==> Found 1 matchign records out of 1678 for Tesla|Tesla Inc|Tesla Motors on 20220106123000\n"
     ]
    },
    {
     "name": "stdout",
     "output_type": "stream",
     "text": [
      "==> Found 1 matchign records out of 1349 for Tesla|Tesla Inc|Tesla Motors on 20220106131500\n"
     ]
    },
    {
     "name": "stdout",
     "output_type": "stream",
     "text": [
      "==> Found 1 matchign records out of 1376 for Tesla|Tesla Inc|Tesla Motors on 20220106133000\n"
     ]
    },
    {
     "name": "stdout",
     "output_type": "stream",
     "text": [
      "==> Found 1 matchign records out of 1746 for Tesla|Tesla Inc|Tesla Motors on 20220106144500\n"
     ]
    },
    {
     "name": "stdout",
     "output_type": "stream",
     "text": [
      "==> Found 1 matchign records out of 1536 for Tesla|Tesla Inc|Tesla Motors on 20220106150000\n"
     ]
    },
    {
     "name": "stdout",
     "output_type": "stream",
     "text": [
      "==> Found 2 matchign records out of 1699 for Tesla|Tesla Inc|Tesla Motors on 20220106151500\n"
     ]
    },
    {
     "name": "stdout",
     "output_type": "stream",
     "text": [
      "==> Found 1 matchign records out of 1750 for Tesla|Tesla Inc|Tesla Motors on 20220106154500\n"
     ]
    },
    {
     "name": "stdout",
     "output_type": "stream",
     "text": [
      "==> Found 3 matchign records out of 1554 for Tesla|Tesla Inc|Tesla Motors on 20220106160000\n"
     ]
    },
    {
     "name": "stdout",
     "output_type": "stream",
     "text": [
      "==> Found 2 matchign records out of 2044 for Tesla|Tesla Inc|Tesla Motors on 20220106161500\n"
     ]
    },
    {
     "name": "stdout",
     "output_type": "stream",
     "text": [
      "==> Found 1 matchign records out of 1829 for Tesla|Tesla Inc|Tesla Motors on 20220106163000\n"
     ]
    },
    {
     "name": "stdout",
     "output_type": "stream",
     "text": [
      "==> Found 2 matchign records out of 2033 for Tesla|Tesla Inc|Tesla Motors on 20220106164500\n"
     ]
    },
    {
     "name": "stdout",
     "output_type": "stream",
     "text": [
      "==> Found 2 matchign records out of 2001 for Tesla|Tesla Inc|Tesla Motors on 20220106170000\n"
     ]
    },
    {
     "name": "stdout",
     "output_type": "stream",
     "text": [
      "==> Found 2 matchign records out of 1862 for Tesla|Tesla Inc|Tesla Motors on 20220106171500\n"
     ]
    },
    {
     "name": "stdout",
     "output_type": "stream",
     "text": [
      "==> Found 1 matchign records out of 2039 for Tesla|Tesla Inc|Tesla Motors on 20220106173000\n"
     ]
    },
    {
     "name": "stdout",
     "output_type": "stream",
     "text": [
      "==> Found 1 matchign records out of 2184 for Tesla|Tesla Inc|Tesla Motors on 20220106174500\n"
     ]
    },
    {
     "name": "stdout",
     "output_type": "stream",
     "text": [
      "==> Found 4 matchign records out of 1931 for Tesla|Tesla Inc|Tesla Motors on 20220106180000\n"
     ]
    },
    {
     "name": "stdout",
     "output_type": "stream",
     "text": [
      "==> Found 2 matchign records out of 2314 for Tesla|Tesla Inc|Tesla Motors on 20220106183000\n"
     ]
    },
    {
     "name": "stdout",
     "output_type": "stream",
     "text": [
      "==> Found 1 matchign records out of 2074 for Tesla|Tesla Inc|Tesla Motors on 20220106184500\n"
     ]
    },
    {
     "name": "stdout",
     "output_type": "stream",
     "text": [
      "==> Found 4 matchign records out of 2030 for Tesla|Tesla Inc|Tesla Motors on 20220106190000\n"
     ]
    },
    {
     "name": "stdout",
     "output_type": "stream",
     "text": [
      "==> Found 1 matchign records out of 1914 for Tesla|Tesla Inc|Tesla Motors on 20220106193000\n"
     ]
    },
    {
     "name": "stdout",
     "output_type": "stream",
     "text": [
      "==> Found 1 matchign records out of 1985 for Tesla|Tesla Inc|Tesla Motors on 20220106194500\n"
     ]
    },
    {
     "name": "stdout",
     "output_type": "stream",
     "text": [
      "==> Found 3 matchign records out of 1839 for Tesla|Tesla Inc|Tesla Motors on 20220106200000\n"
     ]
    },
    {
     "name": "stdout",
     "output_type": "stream",
     "text": [
      "==> Found 2 matchign records out of 1844 for Tesla|Tesla Inc|Tesla Motors on 20220106201500\n"
     ]
    },
    {
     "name": "stdout",
     "output_type": "stream",
     "text": [
      "==> Found 1 matchign records out of 1895 for Tesla|Tesla Inc|Tesla Motors on 20220106203000\n"
     ]
    },
    {
     "name": "stdout",
     "output_type": "stream",
     "text": [
      "==> Found 2 matchign records out of 1970 for Tesla|Tesla Inc|Tesla Motors on 20220106204500\n"
     ]
    },
    {
     "name": "stdout",
     "output_type": "stream",
     "text": [
      "==> Found 1 matchign records out of 1747 for Tesla|Tesla Inc|Tesla Motors on 20220106210000\n"
     ]
    },
    {
     "name": "stdout",
     "output_type": "stream",
     "text": [
      "==> Found 2 matchign records out of 1864 for Tesla|Tesla Inc|Tesla Motors on 20220106213000\n"
     ]
    },
    {
     "name": "stdout",
     "output_type": "stream",
     "text": [
      "==> Found 2 matchign records out of 1791 for Tesla|Tesla Inc|Tesla Motors on 20220106214500\n"
     ]
    },
    {
     "name": "stdout",
     "output_type": "stream",
     "text": [
      "==> Found 1 matchign records out of 1724 for Tesla|Tesla Inc|Tesla Motors on 20220106220000\n"
     ]
    },
    {
     "name": "stdout",
     "output_type": "stream",
     "text": [
      "==> Found 1 matchign records out of 1850 for Tesla|Tesla Inc|Tesla Motors on 20220106221500\n"
     ]
    },
    {
     "name": "stdout",
     "output_type": "stream",
     "text": [
      "==> Found 1 matchign records out of 1744 for Tesla|Tesla Inc|Tesla Motors on 20220106224500\n"
     ]
    },
    {
     "name": "stdout",
     "output_type": "stream",
     "text": [
      "==> Found 2 matchign records out of 1707 for Tesla|Tesla Inc|Tesla Motors on 20220106230000\n"
     ]
    },
    {
     "name": "stdout",
     "output_type": "stream",
     "text": [
      "==> Found 6 matchign records out of 1689 for Tesla|Tesla Inc|Tesla Motors on 20220106231500\n"
     ]
    },
    {
     "name": "stdout",
     "output_type": "stream",
     "text": [
      "==> Found 4 matchign records out of 1674 for Tesla|Tesla Inc|Tesla Motors on 20220106233000\n"
     ]
    },
    {
     "name": "stdout",
     "output_type": "stream",
     "text": [
      "==> Found 2 matchign records out of 1686 for Tesla|Tesla Inc|Tesla Motors on 20220106234500\n"
     ]
    },
    {
     "name": "stdout",
     "output_type": "stream",
     "text": [
      "==> Found 1 matchign records out of 1463 for Tesla|Tesla Inc|Tesla Motors on 20220107000000\n"
     ]
    },
    {
     "name": "stdout",
     "output_type": "stream",
     "text": [
      "==> Found 2 matchign records out of 1590 for Tesla|Tesla Inc|Tesla Motors on 20220107001500\n"
     ]
    },
    {
     "name": "stdout",
     "output_type": "stream",
     "text": [
      "==> Found 3 matchign records out of 1613 for Tesla|Tesla Inc|Tesla Motors on 20220107003000\n"
     ]
    },
    {
     "name": "stdout",
     "output_type": "stream",
     "text": [
      "==> Found 1 matchign records out of 1678 for Tesla|Tesla Inc|Tesla Motors on 20220107010000\n"
     ]
    },
    {
     "name": "stdout",
     "output_type": "stream",
     "text": [
      "==> Found 2 matchign records out of 1457 for Tesla|Tesla Inc|Tesla Motors on 20220107030000\n"
     ]
    },
    {
     "name": "stdout",
     "output_type": "stream",
     "text": [
      "==> Found 1 matchign records out of 1262 for Tesla|Tesla Inc|Tesla Motors on 20220107031500\n"
     ]
    },
    {
     "name": "stdout",
     "output_type": "stream",
     "text": [
      "==> Found 1 matchign records out of 992 for Tesla|Tesla Inc|Tesla Motors on 20220107040000\n"
     ]
    },
    {
     "name": "stdout",
     "output_type": "stream",
     "text": [
      "==> Found 2 matchign records out of 911 for Tesla|Tesla Inc|Tesla Motors on 20220107050000\n"
     ]
    },
    {
     "name": "stdout",
     "output_type": "stream",
     "text": [
      "==> Found 1 matchign records out of 931 for Tesla|Tesla Inc|Tesla Motors on 20220107053000\n"
     ]
    },
    {
     "name": "stdout",
     "output_type": "stream",
     "text": [
      "==> Found 1 matchign records out of 946 for Tesla|Tesla Inc|Tesla Motors on 20220107064500\n"
     ]
    },
    {
     "name": "stdout",
     "output_type": "stream",
     "text": [
      "==> Found 1 matchign records out of 937 for Tesla|Tesla Inc|Tesla Motors on 20220107071500\n"
     ]
    },
    {
     "name": "stdout",
     "output_type": "stream",
     "text": [
      "==> Found 1 matchign records out of 1081 for Tesla|Tesla Inc|Tesla Motors on 20220107073000\n"
     ]
    },
    {
     "name": "stdout",
     "output_type": "stream",
     "text": [
      "==> Found 1 matchign records out of 1120 for Tesla|Tesla Inc|Tesla Motors on 20220107091500\n"
     ]
    },
    {
     "name": "stdout",
     "output_type": "stream",
     "text": [
      "==> Found 1 matchign records out of 934 for Tesla|Tesla Inc|Tesla Motors on 20220107100000\n"
     ]
    },
    {
     "name": "stdout",
     "output_type": "stream",
     "text": [
      "==> Found 2 matchign records out of 1424 for Tesla|Tesla Inc|Tesla Motors on 20220107114500\n"
     ]
    },
    {
     "name": "stdout",
     "output_type": "stream",
     "text": [
      "==> Found 1 matchign records out of 1354 for Tesla|Tesla Inc|Tesla Motors on 20220107123000\n"
     ]
    },
    {
     "name": "stdout",
     "output_type": "stream",
     "text": [
      "==> Found 1 matchign records out of 1272 for Tesla|Tesla Inc|Tesla Motors on 20220107130000\n"
     ]
    },
    {
     "name": "stdout",
     "output_type": "stream",
     "text": [
      "==> Found 1 matchign records out of 1370 for Tesla|Tesla Inc|Tesla Motors on 20220107133000\n"
     ]
    },
    {
     "name": "stdout",
     "output_type": "stream",
     "text": [
      "==> Found 1 matchign records out of 1665 for Tesla|Tesla Inc|Tesla Motors on 20220107134500\n"
     ]
    },
    {
     "name": "stdout",
     "output_type": "stream",
     "text": [
      "==> Found 1 matchign records out of 1385 for Tesla|Tesla Inc|Tesla Motors on 20220107140000\n"
     ]
    },
    {
     "name": "stdout",
     "output_type": "stream",
     "text": [
      "==> Found 4 matchign records out of 1411 for Tesla|Tesla Inc|Tesla Motors on 20220107141500\n"
     ]
    },
    {
     "name": "stdout",
     "output_type": "stream",
     "text": [
      "==> Found 4 matchign records out of 1690 for Tesla|Tesla Inc|Tesla Motors on 20220107144500\n"
     ]
    },
    {
     "name": "stdout",
     "output_type": "stream",
     "text": [
      "==> Found 1 matchign records out of 1660 for Tesla|Tesla Inc|Tesla Motors on 20220107151500\n"
     ]
    },
    {
     "name": "stdout",
     "output_type": "stream",
     "text": [
      "==> Found 1 matchign records out of 1809 for Tesla|Tesla Inc|Tesla Motors on 20220107164500\n"
     ]
    },
    {
     "name": "stdout",
     "output_type": "stream",
     "text": [
      "==> Found 2 matchign records out of 2052 for Tesla|Tesla Inc|Tesla Motors on 20220107174500\n"
     ]
    },
    {
     "name": "stdout",
     "output_type": "stream",
     "text": [
      "==> Found 1 matchign records out of 1876 for Tesla|Tesla Inc|Tesla Motors on 20220107180000\n"
     ]
    },
    {
     "name": "stdout",
     "output_type": "stream",
     "text": [
      "==> Found 1 matchign records out of 2004 for Tesla|Tesla Inc|Tesla Motors on 20220107190000\n"
     ]
    },
    {
     "name": "stdout",
     "output_type": "stream",
     "text": [
      "==> Found 1 matchign records out of 2028 for Tesla|Tesla Inc|Tesla Motors on 20220107191500\n"
     ]
    },
    {
     "name": "stdout",
     "output_type": "stream",
     "text": [
      "==> Found 1 matchign records out of 1927 for Tesla|Tesla Inc|Tesla Motors on 20220107194500\n"
     ]
    },
    {
     "name": "stdout",
     "output_type": "stream",
     "text": [
      "==> Found 10 matchign records out of 1836 for Tesla|Tesla Inc|Tesla Motors on 20220107201500\n"
     ]
    },
    {
     "name": "stdout",
     "output_type": "stream",
     "text": [
      "==> Found 1 matchign records out of 2000 for Tesla|Tesla Inc|Tesla Motors on 20220107203000\n"
     ]
    },
    {
     "name": "stdout",
     "output_type": "stream",
     "text": [
      "==> Found 2 matchign records out of 1982 for Tesla|Tesla Inc|Tesla Motors on 20220107210000\n"
     ]
    },
    {
     "name": "stdout",
     "output_type": "stream",
     "text": [
      "==> Found 1 matchign records out of 1665 for Tesla|Tesla Inc|Tesla Motors on 20220107213000\n"
     ]
    },
    {
     "name": "stdout",
     "output_type": "stream",
     "text": [
      "==> Found 1 matchign records out of 1754 for Tesla|Tesla Inc|Tesla Motors on 20220107214500\n"
     ]
    },
    {
     "name": "stdout",
     "output_type": "stream",
     "text": [
      "==> Found 1 matchign records out of 1678 for Tesla|Tesla Inc|Tesla Motors on 20220107220000\n"
     ]
    },
    {
     "name": "stdout",
     "output_type": "stream",
     "text": [
      "==> Found 2 matchign records out of 1624 for Tesla|Tesla Inc|Tesla Motors on 20220107223000\n"
     ]
    },
    {
     "name": "stdout",
     "output_type": "stream",
     "text": [
      "==> Found 1 matchign records out of 1598 for Tesla|Tesla Inc|Tesla Motors on 20220107224500\n"
     ]
    },
    {
     "name": "stdout",
     "output_type": "stream",
     "text": [
      "==> Found 1 matchign records out of 1627 for Tesla|Tesla Inc|Tesla Motors on 20220107230000\n"
     ]
    },
    {
     "name": "stdout",
     "output_type": "stream",
     "text": [
      "==> Found 2 matchign records out of 1516 for Tesla|Tesla Inc|Tesla Motors on 20220107233000\n"
     ]
    },
    {
     "name": "stdout",
     "output_type": "stream",
     "text": [
      "==> Found 1 matchign records out of 1424 for Tesla|Tesla Inc|Tesla Motors on 20220108011500\n"
     ]
    },
    {
     "name": "stdout",
     "output_type": "stream",
     "text": [
      "==> Found 2 matchign records out of 1130 for Tesla|Tesla Inc|Tesla Motors on 20220108014500\n"
     ]
    },
    {
     "name": "stdout",
     "output_type": "stream",
     "text": [
      "==> Found 3 matchign records out of 1137 for Tesla|Tesla Inc|Tesla Motors on 20220108020000\n"
     ]
    },
    {
     "name": "stdout",
     "output_type": "stream",
     "text": [
      "==> Found 2 matchign records out of 1312 for Tesla|Tesla Inc|Tesla Motors on 20220108021500\n"
     ]
    },
    {
     "name": "stdout",
     "output_type": "stream",
     "text": [
      "==> Found 1 matchign records out of 1049 for Tesla|Tesla Inc|Tesla Motors on 20220108031500\n"
     ]
    },
    {
     "name": "stdout",
     "output_type": "stream",
     "text": [
      "==> Found 3 matchign records out of 862 for Tesla|Tesla Inc|Tesla Motors on 20220108033000\n"
     ]
    },
    {
     "name": "stdout",
     "output_type": "stream",
     "text": [
      "==> Found 2 matchign records out of 798 for Tesla|Tesla Inc|Tesla Motors on 20220108034500\n"
     ]
    },
    {
     "name": "stdout",
     "output_type": "stream",
     "text": [
      "==> Found 3 matchign records out of 842 for Tesla|Tesla Inc|Tesla Motors on 20220108041500\n"
     ]
    },
    {
     "name": "stdout",
     "output_type": "stream",
     "text": [
      "==> Found 1 matchign records out of 671 for Tesla|Tesla Inc|Tesla Motors on 20220108044500\n"
     ]
    },
    {
     "name": "stdout",
     "output_type": "stream",
     "text": [
      "==> Found 1 matchign records out of 794 for Tesla|Tesla Inc|Tesla Motors on 20220108053000\n"
     ]
    },
    {
     "name": "stdout",
     "output_type": "stream",
     "text": [
      "==> Found 1 matchign records out of 797 for Tesla|Tesla Inc|Tesla Motors on 20220108054500\n"
     ]
    },
    {
     "name": "stdout",
     "output_type": "stream",
     "text": [
      "==> Found 1 matchign records out of 818 for Tesla|Tesla Inc|Tesla Motors on 20220108063000\n"
     ]
    },
    {
     "name": "stdout",
     "output_type": "stream",
     "text": [
      "==> Found 2 matchign records out of 818 for Tesla|Tesla Inc|Tesla Motors on 20220108071500\n"
     ]
    },
    {
     "name": "stdout",
     "output_type": "stream",
     "text": [
      "==> Found 1 matchign records out of 684 for Tesla|Tesla Inc|Tesla Motors on 20220108103000\n"
     ]
    },
    {
     "name": "stdout",
     "output_type": "stream",
     "text": [
      "==> Found 2 matchign records out of 834 for Tesla|Tesla Inc|Tesla Motors on 20220108134500\n"
     ]
    },
    {
     "name": "stdout",
     "output_type": "stream",
     "text": [
      "==> Found 1 matchign records out of 820 for Tesla|Tesla Inc|Tesla Motors on 20220108160000\n"
     ]
    },
    {
     "name": "stdout",
     "output_type": "stream",
     "text": [
      "==> Found 1 matchign records out of 875 for Tesla|Tesla Inc|Tesla Motors on 20220108163000\n"
     ]
    },
    {
     "name": "stdout",
     "output_type": "stream",
     "text": [
      "==> Found 2 matchign records out of 924 for Tesla|Tesla Inc|Tesla Motors on 20220108164500\n"
     ]
    },
    {
     "name": "stdout",
     "output_type": "stream",
     "text": [
      "==> Found 1 matchign records out of 957 for Tesla|Tesla Inc|Tesla Motors on 20220108173000\n"
     ]
    },
    {
     "name": "stdout",
     "output_type": "stream",
     "text": [
      "==> Found 1 matchign records out of 757 for Tesla|Tesla Inc|Tesla Motors on 20220108180000\n"
     ]
    },
    {
     "name": "stdout",
     "output_type": "stream",
     "text": [
      "==> Found 2 matchign records out of 908 for Tesla|Tesla Inc|Tesla Motors on 20220108181500\n"
     ]
    },
    {
     "name": "stdout",
     "output_type": "stream",
     "text": [
      "==> Found 1 matchign records out of 891 for Tesla|Tesla Inc|Tesla Motors on 20220108184500\n"
     ]
    },
    {
     "name": "stdout",
     "output_type": "stream",
     "text": [
      "==> Found 1 matchign records out of 1032 for Tesla|Tesla Inc|Tesla Motors on 20220108191500\n"
     ]
    },
    {
     "name": "stdout",
     "output_type": "stream",
     "text": [
      "==> Found 1 matchign records out of 813 for Tesla|Tesla Inc|Tesla Motors on 20220108211500\n"
     ]
    },
    {
     "name": "stdout",
     "output_type": "stream",
     "text": [
      "==> Found 1 matchign records out of 701 for Tesla|Tesla Inc|Tesla Motors on 20220108221500\n"
     ]
    },
    {
     "name": "stdout",
     "output_type": "stream",
     "text": [
      "==> Found 1 matchign records out of 808 for Tesla|Tesla Inc|Tesla Motors on 20220109003000\n"
     ]
    },
    {
     "name": "stdout",
     "output_type": "stream",
     "text": [
      "==> Found 2 matchign records out of 679 for Tesla|Tesla Inc|Tesla Motors on 20220109013000\n"
     ]
    },
    {
     "name": "stdout",
     "output_type": "stream",
     "text": [
      "==> Found 1 matchign records out of 595 for Tesla|Tesla Inc|Tesla Motors on 20220109030000\n"
     ]
    },
    {
     "name": "stdout",
     "output_type": "stream",
     "text": [
      "==> Found 2 matchign records out of 467 for Tesla|Tesla Inc|Tesla Motors on 20220109043000\n"
     ]
    },
    {
     "name": "stdout",
     "output_type": "stream",
     "text": [
      "==> Found 1 matchign records out of 531 for Tesla|Tesla Inc|Tesla Motors on 20220109060000\n"
     ]
    },
    {
     "name": "stdout",
     "output_type": "stream",
     "text": [
      "==> Found 1 matchign records out of 721 for Tesla|Tesla Inc|Tesla Motors on 20220109100000\n"
     ]
    },
    {
     "name": "stdout",
     "output_type": "stream",
     "text": [
      "==> Found 1 matchign records out of 860 for Tesla|Tesla Inc|Tesla Motors on 20220109151500\n"
     ]
    },
    {
     "name": "stdout",
     "output_type": "stream",
     "text": [
      "==> Found 1 matchign records out of 863 for Tesla|Tesla Inc|Tesla Motors on 20220109180000\n"
     ]
    },
    {
     "name": "stdout",
     "output_type": "stream",
     "text": [
      "==> Found 1 matchign records out of 890 for Tesla|Tesla Inc|Tesla Motors on 20220110013000\n"
     ]
    },
    {
     "name": "stdout",
     "output_type": "stream",
     "text": [
      "==> Found 1 matchign records out of 790 for Tesla|Tesla Inc|Tesla Motors on 20220110020000\n"
     ]
    },
    {
     "name": "stdout",
     "output_type": "stream",
     "text": [
      "==> Found 1 matchign records out of 677 for Tesla|Tesla Inc|Tesla Motors on 20220110033000\n"
     ]
    },
    {
     "name": "stdout",
     "output_type": "stream",
     "text": [
      "==> Found 1 matchign records out of 717 for Tesla|Tesla Inc|Tesla Motors on 20220110043000\n"
     ]
    },
    {
     "name": "stdout",
     "output_type": "stream",
     "text": [
      "==> Found 1 matchign records out of 860 for Tesla|Tesla Inc|Tesla Motors on 20220110064500\n"
     ]
    },
    {
     "name": "stdout",
     "output_type": "stream",
     "text": [
      "==> Found 1 matchign records out of 822 for Tesla|Tesla Inc|Tesla Motors on 20220110081500\n"
     ]
    },
    {
     "name": "stdout",
     "output_type": "stream",
     "text": [
      "==> Found 1 matchign records out of 1003 for Tesla|Tesla Inc|Tesla Motors on 20220110091500\n"
     ]
    },
    {
     "name": "stdout",
     "output_type": "stream",
     "text": [
      "==> Found 1 matchign records out of 1234 for Tesla|Tesla Inc|Tesla Motors on 20220110093000\n"
     ]
    },
    {
     "name": "stdout",
     "output_type": "stream",
     "text": [
      "==> Found 1 matchign records out of 1085 for Tesla|Tesla Inc|Tesla Motors on 20220110094500\n"
     ]
    },
    {
     "name": "stdout",
     "output_type": "stream",
     "text": [
      "==> Found 1 matchign records out of 1431 for Tesla|Tesla Inc|Tesla Motors on 20220110114500\n"
     ]
    },
    {
     "name": "stdout",
     "output_type": "stream",
     "text": [
      "==> Found 1 matchign records out of 1416 for Tesla|Tesla Inc|Tesla Motors on 20220110123000\n"
     ]
    },
    {
     "name": "stdout",
     "output_type": "stream",
     "text": [
      "==> Found 1 matchign records out of 1216 for Tesla|Tesla Inc|Tesla Motors on 20220110130000\n"
     ]
    },
    {
     "name": "stdout",
     "output_type": "stream",
     "text": [
      "==> Found 1 matchign records out of 1236 for Tesla|Tesla Inc|Tesla Motors on 20220110131500\n"
     ]
    },
    {
     "name": "stdout",
     "output_type": "stream",
     "text": [
      "==> Found 3 matchign records out of 1583 for Tesla|Tesla Inc|Tesla Motors on 20220110141500\n"
     ]
    },
    {
     "name": "stdout",
     "output_type": "stream",
     "text": [
      "==> Found 4 matchign records out of 1813 for Tesla|Tesla Inc|Tesla Motors on 20220110143000\n"
     ]
    },
    {
     "name": "stdout",
     "output_type": "stream",
     "text": [
      "==> Found 3 matchign records out of 1741 for Tesla|Tesla Inc|Tesla Motors on 20220110144500\n"
     ]
    },
    {
     "name": "stdout",
     "output_type": "stream",
     "text": [
      "==> Found 1 matchign records out of 1632 for Tesla|Tesla Inc|Tesla Motors on 20220110150000\n"
     ]
    },
    {
     "name": "stdout",
     "output_type": "stream",
     "text": [
      "==> Found 2 matchign records out of 1828 for Tesla|Tesla Inc|Tesla Motors on 20220110153000\n"
     ]
    },
    {
     "name": "stdout",
     "output_type": "stream",
     "text": [
      "==> Found 1 matchign records out of 1788 for Tesla|Tesla Inc|Tesla Motors on 20220110154500\n"
     ]
    },
    {
     "name": "stdout",
     "output_type": "stream",
     "text": [
      "==> Found 3 matchign records out of 1670 for Tesla|Tesla Inc|Tesla Motors on 20220110160000\n"
     ]
    },
    {
     "name": "stdout",
     "output_type": "stream",
     "text": [
      "==> Found 1 matchign records out of 2125 for Tesla|Tesla Inc|Tesla Motors on 20220110164500\n"
     ]
    },
    {
     "name": "stdout",
     "output_type": "stream",
     "text": [
      "==> Found 1 matchign records out of 1745 for Tesla|Tesla Inc|Tesla Motors on 20220110170000\n"
     ]
    },
    {
     "name": "stdout",
     "output_type": "stream",
     "text": [
      "==> Found 2 matchign records out of 1854 for Tesla|Tesla Inc|Tesla Motors on 20220110171500\n"
     ]
    },
    {
     "name": "stdout",
     "output_type": "stream",
     "text": [
      "==> Found 2 matchign records out of 1891 for Tesla|Tesla Inc|Tesla Motors on 20220110173000\n"
     ]
    },
    {
     "name": "stdout",
     "output_type": "stream",
     "text": [
      "==> Found 2 matchign records out of 1913 for Tesla|Tesla Inc|Tesla Motors on 20220110174500\n"
     ]
    },
    {
     "name": "stdout",
     "output_type": "stream",
     "text": [
      "==> Found 2 matchign records out of 1909 for Tesla|Tesla Inc|Tesla Motors on 20220110180000\n"
     ]
    },
    {
     "name": "stdout",
     "output_type": "stream",
     "text": [
      "==> Found 2 matchign records out of 1874 for Tesla|Tesla Inc|Tesla Motors on 20220110181500\n"
     ]
    },
    {
     "name": "stdout",
     "output_type": "stream",
     "text": [
      "==> Found 1 matchign records out of 1936 for Tesla|Tesla Inc|Tesla Motors on 20220110183000\n"
     ]
    },
    {
     "name": "stdout",
     "output_type": "stream",
     "text": [
      "==> Found 1 matchign records out of 2234 for Tesla|Tesla Inc|Tesla Motors on 20220110184500\n"
     ]
    },
    {
     "name": "stdout",
     "output_type": "stream",
     "text": [
      "==> Found 1 matchign records out of 2129 for Tesla|Tesla Inc|Tesla Motors on 20220110191500\n"
     ]
    },
    {
     "name": "stdout",
     "output_type": "stream",
     "text": [
      "==> Found 1 matchign records out of 1948 for Tesla|Tesla Inc|Tesla Motors on 20220110201500\n"
     ]
    },
    {
     "name": "stdout",
     "output_type": "stream",
     "text": [
      "==> Found 1 matchign records out of 1917 for Tesla|Tesla Inc|Tesla Motors on 20220110210000\n"
     ]
    },
    {
     "name": "stdout",
     "output_type": "stream",
     "text": [
      "==> Found 1 matchign records out of 1683 for Tesla|Tesla Inc|Tesla Motors on 20220110211500\n"
     ]
    },
    {
     "name": "stdout",
     "output_type": "stream",
     "text": [
      "==> Found 1 matchign records out of 1898 for Tesla|Tesla Inc|Tesla Motors on 20220110213000\n"
     ]
    },
    {
     "name": "stdout",
     "output_type": "stream",
     "text": [
      "==> Found 1 matchign records out of 1709 for Tesla|Tesla Inc|Tesla Motors on 20220110214500\n"
     ]
    },
    {
     "name": "stdout",
     "output_type": "stream",
     "text": [
      "==> Found 3 matchign records out of 1909 for Tesla|Tesla Inc|Tesla Motors on 20220110220000\n"
     ]
    },
    {
     "name": "stdout",
     "output_type": "stream",
     "text": [
      "==> Found 1 matchign records out of 1937 for Tesla|Tesla Inc|Tesla Motors on 20220110221500\n"
     ]
    },
    {
     "name": "stdout",
     "output_type": "stream",
     "text": [
      "==> Found 1 matchign records out of 1622 for Tesla|Tesla Inc|Tesla Motors on 20220110224500\n"
     ]
    },
    {
     "name": "stdout",
     "output_type": "stream",
     "text": [
      "==> Found 2 matchign records out of 1555 for Tesla|Tesla Inc|Tesla Motors on 20220110230000\n"
     ]
    },
    {
     "name": "stdout",
     "output_type": "stream",
     "text": [
      "==> Found 1 matchign records out of 1419 for Tesla|Tesla Inc|Tesla Motors on 20220110233000\n"
     ]
    },
    {
     "name": "stdout",
     "output_type": "stream",
     "text": [
      "==> Found 2 matchign records out of 1702 for Tesla|Tesla Inc|Tesla Motors on 20220110234500\n"
     ]
    },
    {
     "name": "stdout",
     "output_type": "stream",
     "text": [
      "==> Found 2 matchign records out of 1759 for Tesla|Tesla Inc|Tesla Motors on 20220111001500\n"
     ]
    },
    {
     "name": "stdout",
     "output_type": "stream",
     "text": [
      "==> Found 2 matchign records out of 1614 for Tesla|Tesla Inc|Tesla Motors on 20220111003000\n"
     ]
    },
    {
     "name": "stdout",
     "output_type": "stream",
     "text": [
      "==> Found 2 matchign records out of 1664 for Tesla|Tesla Inc|Tesla Motors on 20220111013000\n"
     ]
    },
    {
     "name": "stdout",
     "output_type": "stream",
     "text": [
      "==> Found 1 matchign records out of 1336 for Tesla|Tesla Inc|Tesla Motors on 20220111021500\n"
     ]
    },
    {
     "name": "stdout",
     "output_type": "stream",
     "text": [
      "==> Found 1 matchign records out of 1299 for Tesla|Tesla Inc|Tesla Motors on 20220111024500\n"
     ]
    },
    {
     "name": "stdout",
     "output_type": "stream",
     "text": [
      "==> Found 2 matchign records out of 958 for Tesla|Tesla Inc|Tesla Motors on 20220111034500\n"
     ]
    },
    {
     "name": "stdout",
     "output_type": "stream",
     "text": [
      "==> Found 1 matchign records out of 980 for Tesla|Tesla Inc|Tesla Motors on 20220111043000\n"
     ]
    },
    {
     "name": "stdout",
     "output_type": "stream",
     "text": [
      "==> Found 1 matchign records out of 1049 for Tesla|Tesla Inc|Tesla Motors on 20220111050000\n"
     ]
    },
    {
     "name": "stdout",
     "output_type": "stream",
     "text": [
      "==> Found 2 matchign records out of 993 for Tesla|Tesla Inc|Tesla Motors on 20220111053000\n"
     ]
    },
    {
     "name": "stdout",
     "output_type": "stream",
     "text": [
      "==> Found 3 matchign records out of 1011 for Tesla|Tesla Inc|Tesla Motors on 20220111060000\n"
     ]
    },
    {
     "name": "stdout",
     "output_type": "stream",
     "text": [
      "==> Found 1 matchign records out of 1003 for Tesla|Tesla Inc|Tesla Motors on 20220111063000\n"
     ]
    },
    {
     "name": "stdout",
     "output_type": "stream",
     "text": [
      "==> Found 1 matchign records out of 984 for Tesla|Tesla Inc|Tesla Motors on 20220111074500\n"
     ]
    },
    {
     "name": "stdout",
     "output_type": "stream",
     "text": [
      "==> Found 1 matchign records out of 1186 for Tesla|Tesla Inc|Tesla Motors on 20220111080000\n"
     ]
    },
    {
     "name": "stdout",
     "output_type": "stream",
     "text": [
      "==> Found 2 matchign records out of 1185 for Tesla|Tesla Inc|Tesla Motors on 20220111104500\n"
     ]
    },
    {
     "name": "stdout",
     "output_type": "stream",
     "text": [
      "==> Found 1 matchign records out of 1295 for Tesla|Tesla Inc|Tesla Motors on 20220111110000\n"
     ]
    },
    {
     "name": "stdout",
     "output_type": "stream",
     "text": [
      "==> Found 3 matchign records out of 1095 for Tesla|Tesla Inc|Tesla Motors on 20220111111500\n"
     ]
    },
    {
     "name": "stdout",
     "output_type": "stream",
     "text": [
      "==> Found 1 matchign records out of 1487 for Tesla|Tesla Inc|Tesla Motors on 20220111114500\n"
     ]
    },
    {
     "name": "stdout",
     "output_type": "stream",
     "text": [
      "==> Found 1 matchign records out of 1419 for Tesla|Tesla Inc|Tesla Motors on 20220111120000\n"
     ]
    },
    {
     "name": "stdout",
     "output_type": "stream",
     "text": [
      "==> Found 1 matchign records out of 1431 for Tesla|Tesla Inc|Tesla Motors on 20220111124500\n"
     ]
    },
    {
     "name": "stdout",
     "output_type": "stream",
     "text": [
      "==> Found 1 matchign records out of 1572 for Tesla|Tesla Inc|Tesla Motors on 20220111130000\n"
     ]
    },
    {
     "name": "stdout",
     "output_type": "stream",
     "text": [
      "==> Found 3 matchign records out of 1615 for Tesla|Tesla Inc|Tesla Motors on 20220111131500\n"
     ]
    },
    {
     "name": "stdout",
     "output_type": "stream",
     "text": [
      "==> Found 3 matchign records out of 1328 for Tesla|Tesla Inc|Tesla Motors on 20220111133000\n"
     ]
    },
    {
     "name": "stdout",
     "output_type": "stream",
     "text": [
      "==> Found 2 matchign records out of 1669 for Tesla|Tesla Inc|Tesla Motors on 20220111141500\n"
     ]
    },
    {
     "name": "stdout",
     "output_type": "stream",
     "text": [
      "==> Found 1 matchign records out of 1709 for Tesla|Tesla Inc|Tesla Motors on 20220111143000\n"
     ]
    },
    {
     "name": "stdout",
     "output_type": "stream",
     "text": [
      "==> Found 1 matchign records out of 1936 for Tesla|Tesla Inc|Tesla Motors on 20220111150000\n"
     ]
    },
    {
     "name": "stdout",
     "output_type": "stream",
     "text": [
      "==> Found 1 matchign records out of 1903 for Tesla|Tesla Inc|Tesla Motors on 20220111153000\n"
     ]
    },
    {
     "name": "stdout",
     "output_type": "stream",
     "text": [
      "==> Found 3 matchign records out of 1791 for Tesla|Tesla Inc|Tesla Motors on 20220111154500\n"
     ]
    },
    {
     "name": "stdout",
     "output_type": "stream",
     "text": [
      "==> Found 1 matchign records out of 1825 for Tesla|Tesla Inc|Tesla Motors on 20220111160000\n"
     ]
    },
    {
     "name": "stdout",
     "output_type": "stream",
     "text": [
      "==> Found 1 matchign records out of 2339 for Tesla|Tesla Inc|Tesla Motors on 20220111163000\n"
     ]
    },
    {
     "name": "stdout",
     "output_type": "stream",
     "text": [
      "==> Found 1 matchign records out of 2003 for Tesla|Tesla Inc|Tesla Motors on 20220111164500\n"
     ]
    },
    {
     "name": "stdout",
     "output_type": "stream",
     "text": [
      "==> Found 1 matchign records out of 2217 for Tesla|Tesla Inc|Tesla Motors on 20220111171500\n"
     ]
    },
    {
     "name": "stdout",
     "output_type": "stream",
     "text": [
      "==> Found 1 matchign records out of 1898 for Tesla|Tesla Inc|Tesla Motors on 20220111180000\n"
     ]
    },
    {
     "name": "stdout",
     "output_type": "stream",
     "text": [
      "==> Found 1 matchign records out of 1878 for Tesla|Tesla Inc|Tesla Motors on 20220111181500\n"
     ]
    },
    {
     "name": "stdout",
     "output_type": "stream",
     "text": [
      "==> Found 2 matchign records out of 1926 for Tesla|Tesla Inc|Tesla Motors on 20220111184500\n"
     ]
    },
    {
     "name": "stdout",
     "output_type": "stream",
     "text": [
      "==> Found 3 matchign records out of 1847 for Tesla|Tesla Inc|Tesla Motors on 20220111190000\n"
     ]
    },
    {
     "name": "stdout",
     "output_type": "stream",
     "text": [
      "==> Found 3 matchign records out of 2091 for Tesla|Tesla Inc|Tesla Motors on 20220111191500\n"
     ]
    },
    {
     "name": "stdout",
     "output_type": "stream",
     "text": [
      "==> Found 2 matchign records out of 2360 for Tesla|Tesla Inc|Tesla Motors on 20220111193000\n"
     ]
    },
    {
     "name": "stdout",
     "output_type": "stream",
     "text": [
      "==> Found 2 matchign records out of 1969 for Tesla|Tesla Inc|Tesla Motors on 20220111194500\n"
     ]
    },
    {
     "name": "stdout",
     "output_type": "stream",
     "text": [
      "==> Found 1 matchign records out of 1873 for Tesla|Tesla Inc|Tesla Motors on 20220111204500\n"
     ]
    },
    {
     "name": "stdout",
     "output_type": "stream",
     "text": [
      "==> Found 1 matchign records out of 1775 for Tesla|Tesla Inc|Tesla Motors on 20220111213000\n"
     ]
    },
    {
     "name": "stdout",
     "output_type": "stream",
     "text": [
      "==> Found 1 matchign records out of 1709 for Tesla|Tesla Inc|Tesla Motors on 20220111214500\n"
     ]
    },
    {
     "name": "stdout",
     "output_type": "stream",
     "text": [
      "==> Found 2 matchign records out of 1862 for Tesla|Tesla Inc|Tesla Motors on 20220111221500\n"
     ]
    },
    {
     "name": "stdout",
     "output_type": "stream",
     "text": [
      "==> Found 2 matchign records out of 1594 for Tesla|Tesla Inc|Tesla Motors on 20220111223000\n"
     ]
    },
    {
     "name": "stdout",
     "output_type": "stream",
     "text": [
      "==> Found 2 matchign records out of 2027 for Tesla|Tesla Inc|Tesla Motors on 20220111231500\n"
     ]
    },
    {
     "name": "stdout",
     "output_type": "stream",
     "text": [
      "==> Found 4 matchign records out of 1487 for Tesla|Tesla Inc|Tesla Motors on 20220111233000\n"
     ]
    },
    {
     "name": "stdout",
     "output_type": "stream",
     "text": [
      "==> Found 2 matchign records out of 1576 for Tesla|Tesla Inc|Tesla Motors on 20220111234500\n"
     ]
    },
    {
     "name": "stdout",
     "output_type": "stream",
     "text": [
      "==> Found 1 matchign records out of 1711 for Tesla|Tesla Inc|Tesla Motors on 20220112003000\n"
     ]
    },
    {
     "name": "stdout",
     "output_type": "stream",
     "text": [
      "==> Found 1 matchign records out of 1520 for Tesla|Tesla Inc|Tesla Motors on 20220112013000\n"
     ]
    },
    {
     "name": "stdout",
     "output_type": "stream",
     "text": [
      "==> Found 1 matchign records out of 1120 for Tesla|Tesla Inc|Tesla Motors on 20220112033000\n"
     ]
    },
    {
     "name": "stdout",
     "output_type": "stream",
     "text": [
      "==> Found 1 matchign records out of 947 for Tesla|Tesla Inc|Tesla Motors on 20220112040000\n"
     ]
    },
    {
     "name": "stdout",
     "output_type": "stream",
     "text": [
      "==> Found 1 matchign records out of 1112 for Tesla|Tesla Inc|Tesla Motors on 20220112061500\n"
     ]
    },
    {
     "name": "stdout",
     "output_type": "stream",
     "text": [
      "==> Found 1 matchign records out of 982 for Tesla|Tesla Inc|Tesla Motors on 20220112070000\n"
     ]
    },
    {
     "name": "stdout",
     "output_type": "stream",
     "text": [
      "==> Found 1 matchign records out of 1157 for Tesla|Tesla Inc|Tesla Motors on 20220112071500\n"
     ]
    },
    {
     "name": "stdout",
     "output_type": "stream",
     "text": [
      "==> Found 1 matchign records out of 1065 for Tesla|Tesla Inc|Tesla Motors on 20220112073000\n"
     ]
    },
    {
     "name": "stdout",
     "output_type": "stream",
     "text": [
      "==> Found 1 matchign records out of 934 for Tesla|Tesla Inc|Tesla Motors on 20220112080000\n"
     ]
    },
    {
     "name": "stdout",
     "output_type": "stream",
     "text": [
      "==> Found 1 matchign records out of 1208 for Tesla|Tesla Inc|Tesla Motors on 20220112090000\n"
     ]
    },
    {
     "name": "stdout",
     "output_type": "stream",
     "text": [
      "==> Found 2 matchign records out of 911 for Tesla|Tesla Inc|Tesla Motors on 20220112091500\n"
     ]
    },
    {
     "name": "stdout",
     "output_type": "stream",
     "text": [
      "==> Found 1 matchign records out of 1157 for Tesla|Tesla Inc|Tesla Motors on 20220112093000\n"
     ]
    },
    {
     "name": "stdout",
     "output_type": "stream",
     "text": [
      "==> Found 1 matchign records out of 988 for Tesla|Tesla Inc|Tesla Motors on 20220112101500\n"
     ]
    },
    {
     "name": "stdout",
     "output_type": "stream",
     "text": [
      "==> Found 1 matchign records out of 1354 for Tesla|Tesla Inc|Tesla Motors on 20220112103000\n"
     ]
    },
    {
     "name": "stdout",
     "output_type": "stream",
     "text": [
      "==> Found 1 matchign records out of 1057 for Tesla|Tesla Inc|Tesla Motors on 20220112104500\n"
     ]
    },
    {
     "name": "stdout",
     "output_type": "stream",
     "text": [
      "==> Found 3 matchign records out of 1585 for Tesla|Tesla Inc|Tesla Motors on 20220112113000\n"
     ]
    },
    {
     "name": "stdout",
     "output_type": "stream",
     "text": [
      "==> Found 2 matchign records out of 1193 for Tesla|Tesla Inc|Tesla Motors on 20220112114500\n"
     ]
    },
    {
     "name": "stdout",
     "output_type": "stream",
     "text": [
      "==> Found 2 matchign records out of 1428 for Tesla|Tesla Inc|Tesla Motors on 20220112120000\n"
     ]
    },
    {
     "name": "stdout",
     "output_type": "stream",
     "text": [
      "==> Found 1 matchign records out of 1281 for Tesla|Tesla Inc|Tesla Motors on 20220112124500\n"
     ]
    },
    {
     "name": "stdout",
     "output_type": "stream",
     "text": [
      "==> Found 4 matchign records out of 1711 for Tesla|Tesla Inc|Tesla Motors on 20220112133000\n"
     ]
    },
    {
     "name": "stdout",
     "output_type": "stream",
     "text": [
      "==> Found 1 matchign records out of 1432 for Tesla|Tesla Inc|Tesla Motors on 20220112134500\n"
     ]
    },
    {
     "name": "stdout",
     "output_type": "stream",
     "text": [
      "==> Found 3 matchign records out of 1665 for Tesla|Tesla Inc|Tesla Motors on 20220112140000\n"
     ]
    },
    {
     "name": "stdout",
     "output_type": "stream",
     "text": [
      "==> Found 2 matchign records out of 1643 for Tesla|Tesla Inc|Tesla Motors on 20220112141500\n"
     ]
    },
    {
     "name": "stdout",
     "output_type": "stream",
     "text": [
      "==> Found 2 matchign records out of 2003 for Tesla|Tesla Inc|Tesla Motors on 20220112143000\n"
     ]
    },
    {
     "name": "stdout",
     "output_type": "stream",
     "text": [
      "==> Found 3 matchign records out of 1746 for Tesla|Tesla Inc|Tesla Motors on 20220112151500\n"
     ]
    },
    {
     "name": "stdout",
     "output_type": "stream",
     "text": [
      "==> Found 4 matchign records out of 1794 for Tesla|Tesla Inc|Tesla Motors on 20220112153000\n"
     ]
    },
    {
     "name": "stdout",
     "output_type": "stream",
     "text": [
      "==> Found 6 matchign records out of 1987 for Tesla|Tesla Inc|Tesla Motors on 20220112154500\n"
     ]
    },
    {
     "name": "stdout",
     "output_type": "stream",
     "text": [
      "==> Found 2 matchign records out of 2083 for Tesla|Tesla Inc|Tesla Motors on 20220112160000\n"
     ]
    },
    {
     "name": "stdout",
     "output_type": "stream",
     "text": [
      "==> Found 3 matchign records out of 2158 for Tesla|Tesla Inc|Tesla Motors on 20220112161500\n"
     ]
    },
    {
     "name": "stdout",
     "output_type": "stream",
     "text": [
      "==> Found 5 matchign records out of 2246 for Tesla|Tesla Inc|Tesla Motors on 20220112163000\n"
     ]
    },
    {
     "name": "stdout",
     "output_type": "stream",
     "text": [
      "==> Found 2 matchign records out of 2146 for Tesla|Tesla Inc|Tesla Motors on 20220112164500\n"
     ]
    },
    {
     "name": "stdout",
     "output_type": "stream",
     "text": [
      "==> Found 2 matchign records out of 1959 for Tesla|Tesla Inc|Tesla Motors on 20220112170000\n"
     ]
    },
    {
     "name": "stdout",
     "output_type": "stream",
     "text": [
      "==> Found 1 matchign records out of 2076 for Tesla|Tesla Inc|Tesla Motors on 20220112171500\n"
     ]
    },
    {
     "name": "stdout",
     "output_type": "stream",
     "text": [
      "==> Found 2 matchign records out of 2114 for Tesla|Tesla Inc|Tesla Motors on 20220112173000\n"
     ]
    },
    {
     "name": "stdout",
     "output_type": "stream",
     "text": [
      "==> Found 4 matchign records out of 2163 for Tesla|Tesla Inc|Tesla Motors on 20220112174500\n"
     ]
    },
    {
     "name": "stdout",
     "output_type": "stream",
     "text": [
      "==> Found 3 matchign records out of 1937 for Tesla|Tesla Inc|Tesla Motors on 20220112180000\n"
     ]
    },
    {
     "name": "stdout",
     "output_type": "stream",
     "text": [
      "==> Found 2 matchign records out of 2200 for Tesla|Tesla Inc|Tesla Motors on 20220112181500\n"
     ]
    },
    {
     "name": "stdout",
     "output_type": "stream",
     "text": [
      "==> Found 2 matchign records out of 2097 for Tesla|Tesla Inc|Tesla Motors on 20220112184500\n"
     ]
    },
    {
     "name": "stdout",
     "output_type": "stream",
     "text": [
      "==> Found 4 matchign records out of 2326 for Tesla|Tesla Inc|Tesla Motors on 20220112190000\n"
     ]
    },
    {
     "name": "stdout",
     "output_type": "stream",
     "text": [
      "==> Found 3 matchign records out of 2457 for Tesla|Tesla Inc|Tesla Motors on 20220112191500\n"
     ]
    },
    {
     "name": "stdout",
     "output_type": "stream",
     "text": [
      "==> Found 2 matchign records out of 1767 for Tesla|Tesla Inc|Tesla Motors on 20220112194500\n"
     ]
    },
    {
     "name": "stdout",
     "output_type": "stream",
     "text": [
      "==> Found 1 matchign records out of 2138 for Tesla|Tesla Inc|Tesla Motors on 20220112200000\n"
     ]
    },
    {
     "name": "stdout",
     "output_type": "stream",
     "text": [
      "==> Found 1 matchign records out of 2249 for Tesla|Tesla Inc|Tesla Motors on 20220112203000\n"
     ]
    },
    {
     "name": "stdout",
     "output_type": "stream",
     "text": [
      "==> Found 1 matchign records out of 2094 for Tesla|Tesla Inc|Tesla Motors on 20220112210000\n"
     ]
    },
    {
     "name": "stdout",
     "output_type": "stream",
     "text": [
      "==> Found 1 matchign records out of 1790 for Tesla|Tesla Inc|Tesla Motors on 20220112211500\n"
     ]
    },
    {
     "name": "stdout",
     "output_type": "stream",
     "text": [
      "==> Found 1 matchign records out of 1868 for Tesla|Tesla Inc|Tesla Motors on 20220112220000\n"
     ]
    },
    {
     "name": "stdout",
     "output_type": "stream",
     "text": [
      "==> Found 2 matchign records out of 1663 for Tesla|Tesla Inc|Tesla Motors on 20220112221500\n"
     ]
    },
    {
     "name": "stdout",
     "output_type": "stream",
     "text": [
      "==> Found 2 matchign records out of 1686 for Tesla|Tesla Inc|Tesla Motors on 20220112223000\n"
     ]
    },
    {
     "name": "stdout",
     "output_type": "stream",
     "text": [
      "==> Found 1 matchign records out of 1861 for Tesla|Tesla Inc|Tesla Motors on 20220112224500\n"
     ]
    },
    {
     "name": "stdout",
     "output_type": "stream",
     "text": [
      "==> Found 1 matchign records out of 1743 for Tesla|Tesla Inc|Tesla Motors on 20220112231500\n"
     ]
    },
    {
     "name": "stdout",
     "output_type": "stream",
     "text": [
      "==> Found 2 matchign records out of 1740 for Tesla|Tesla Inc|Tesla Motors on 20220112233000\n"
     ]
    },
    {
     "name": "stdout",
     "output_type": "stream",
     "text": [
      "==> Found 2 matchign records out of 1690 for Tesla|Tesla Inc|Tesla Motors on 20220112234500\n"
     ]
    },
    {
     "name": "stdout",
     "output_type": "stream",
     "text": [
      "==> Found 1 matchign records out of 1360 for Tesla|Tesla Inc|Tesla Motors on 20220113000000\n"
     ]
    },
    {
     "name": "stdout",
     "output_type": "stream",
     "text": [
      "==> Found 1 matchign records out of 1605 for Tesla|Tesla Inc|Tesla Motors on 20220113010000\n"
     ]
    },
    {
     "name": "stdout",
     "output_type": "stream",
     "text": [
      "==> Found 1 matchign records out of 1259 for Tesla|Tesla Inc|Tesla Motors on 20220113014500\n"
     ]
    },
    {
     "name": "stdout",
     "output_type": "stream",
     "text": [
      "==> Found 1 matchign records out of 1013 for Tesla|Tesla Inc|Tesla Motors on 20220113041500\n"
     ]
    },
    {
     "name": "stdout",
     "output_type": "stream",
     "text": [
      "==> Found 1 matchign records out of 918 for Tesla|Tesla Inc|Tesla Motors on 20220113043000\n"
     ]
    },
    {
     "name": "stdout",
     "output_type": "stream",
     "text": [
      "==> Found 2 matchign records out of 951 for Tesla|Tesla Inc|Tesla Motors on 20220113044500\n"
     ]
    },
    {
     "name": "stdout",
     "output_type": "stream",
     "text": [
      "==> Found 3 matchign records out of 1101 for Tesla|Tesla Inc|Tesla Motors on 20220113050000\n"
     ]
    },
    {
     "name": "stdout",
     "output_type": "stream",
     "text": [
      "==> Found 2 matchign records out of 1087 for Tesla|Tesla Inc|Tesla Motors on 20220113051500\n"
     ]
    },
    {
     "name": "stdout",
     "output_type": "stream",
     "text": [
      "==> Found 1 matchign records out of 990 for Tesla|Tesla Inc|Tesla Motors on 20220113053000\n"
     ]
    },
    {
     "name": "stdout",
     "output_type": "stream",
     "text": [
      "==> Found 2 matchign records out of 990 for Tesla|Tesla Inc|Tesla Motors on 20220113061500\n"
     ]
    },
    {
     "name": "stdout",
     "output_type": "stream",
     "text": [
      "==> Found 1 matchign records out of 1143 for Tesla|Tesla Inc|Tesla Motors on 20220113063000\n"
     ]
    },
    {
     "name": "stdout",
     "output_type": "stream",
     "text": [
      "==> Found 1 matchign records out of 1100 for Tesla|Tesla Inc|Tesla Motors on 20220113064500\n"
     ]
    },
    {
     "name": "stdout",
     "output_type": "stream",
     "text": [
      "==> Found 1 matchign records out of 922 for Tesla|Tesla Inc|Tesla Motors on 20220113070000\n"
     ]
    },
    {
     "name": "stdout",
     "output_type": "stream",
     "text": [
      "==> Found 2 matchign records out of 955 for Tesla|Tesla Inc|Tesla Motors on 20220113071500\n"
     ]
    },
    {
     "name": "stdout",
     "output_type": "stream",
     "text": [
      "==> Found 1 matchign records out of 1130 for Tesla|Tesla Inc|Tesla Motors on 20220113073000\n"
     ]
    },
    {
     "name": "stdout",
     "output_type": "stream",
     "text": [
      "==> Found 1 matchign records out of 977 for Tesla|Tesla Inc|Tesla Motors on 20220113074500\n"
     ]
    },
    {
     "name": "stdout",
     "output_type": "stream",
     "text": [
      "==> Found 2 matchign records out of 940 for Tesla|Tesla Inc|Tesla Motors on 20220113081500\n"
     ]
    },
    {
     "name": "stdout",
     "output_type": "stream",
     "text": [
      "==> Found 3 matchign records out of 1097 for Tesla|Tesla Inc|Tesla Motors on 20220113090000\n"
     ]
    },
    {
     "name": "stdout",
     "output_type": "stream",
     "text": [
      "==> Found 1 matchign records out of 1204 for Tesla|Tesla Inc|Tesla Motors on 20220113093000\n"
     ]
    },
    {
     "name": "stdout",
     "output_type": "stream",
     "text": [
      "==> Found 1 matchign records out of 951 for Tesla|Tesla Inc|Tesla Motors on 20220113094500\n"
     ]
    },
    {
     "name": "stdout",
     "output_type": "stream",
     "text": [
      "==> Found 3 matchign records out of 1331 for Tesla|Tesla Inc|Tesla Motors on 20220113110000\n"
     ]
    },
    {
     "name": "stdout",
     "output_type": "stream",
     "text": [
      "==> Found 1 matchign records out of 1399 for Tesla|Tesla Inc|Tesla Motors on 20220113111500\n"
     ]
    },
    {
     "name": "stdout",
     "output_type": "stream",
     "text": [
      "==> Found 1 matchign records out of 1379 for Tesla|Tesla Inc|Tesla Motors on 20220113114500\n"
     ]
    },
    {
     "name": "stdout",
     "output_type": "stream",
     "text": [
      "==> Found 1 matchign records out of 1271 for Tesla|Tesla Inc|Tesla Motors on 20220113130000\n"
     ]
    },
    {
     "name": "stdout",
     "output_type": "stream",
     "text": [
      "==> Found 1 matchign records out of 1471 for Tesla|Tesla Inc|Tesla Motors on 20220113134500\n"
     ]
    },
    {
     "name": "stdout",
     "output_type": "stream",
     "text": [
      "==> Found 2 matchign records out of 1796 for Tesla|Tesla Inc|Tesla Motors on 20220113141500\n"
     ]
    },
    {
     "name": "stdout",
     "output_type": "stream",
     "text": [
      "==> Found 1 matchign records out of 1467 for Tesla|Tesla Inc|Tesla Motors on 20220113151500\n"
     ]
    },
    {
     "name": "stdout",
     "output_type": "stream",
     "text": [
      "==> Found 2 matchign records out of 2163 for Tesla|Tesla Inc|Tesla Motors on 20220113153000\n"
     ]
    },
    {
     "name": "stdout",
     "output_type": "stream",
     "text": [
      "==> Found 1 matchign records out of 2121 for Tesla|Tesla Inc|Tesla Motors on 20220113154500\n"
     ]
    },
    {
     "name": "stdout",
     "output_type": "stream",
     "text": [
      "==> Found 1 matchign records out of 2044 for Tesla|Tesla Inc|Tesla Motors on 20220113163000\n"
     ]
    },
    {
     "name": "stdout",
     "output_type": "stream",
     "text": [
      "==> Found 2 matchign records out of 1685 for Tesla|Tesla Inc|Tesla Motors on 20220113171500\n"
     ]
    },
    {
     "name": "stdout",
     "output_type": "stream",
     "text": [
      "==> Found 3 matchign records out of 2360 for Tesla|Tesla Inc|Tesla Motors on 20220113174500\n"
     ]
    },
    {
     "name": "stdout",
     "output_type": "stream",
     "text": [
      "==> Found 2 matchign records out of 1945 for Tesla|Tesla Inc|Tesla Motors on 20220113180000\n"
     ]
    },
    {
     "name": "stdout",
     "output_type": "stream",
     "text": [
      "==> Found 3 matchign records out of 2221 for Tesla|Tesla Inc|Tesla Motors on 20220113181500\n"
     ]
    },
    {
     "name": "stdout",
     "output_type": "stream",
     "text": [
      "==> Found 5 matchign records out of 2018 for Tesla|Tesla Inc|Tesla Motors on 20220113183000\n"
     ]
    },
    {
     "name": "stdout",
     "output_type": "stream",
     "text": [
      "==> Found 4 matchign records out of 2023 for Tesla|Tesla Inc|Tesla Motors on 20220113184500\n"
     ]
    },
    {
     "name": "stdout",
     "output_type": "stream",
     "text": [
      "==> Found 2 matchign records out of 1940 for Tesla|Tesla Inc|Tesla Motors on 20220113190000\n"
     ]
    },
    {
     "name": "stdout",
     "output_type": "stream",
     "text": [
      "==> Found 4 matchign records out of 1983 for Tesla|Tesla Inc|Tesla Motors on 20220113191500\n"
     ]
    },
    {
     "name": "stdout",
     "output_type": "stream",
     "text": [
      "==> Found 7 matchign records out of 2243 for Tesla|Tesla Inc|Tesla Motors on 20220113193000\n"
     ]
    },
    {
     "name": "stdout",
     "output_type": "stream",
     "text": [
      "==> Found 4 matchign records out of 1942 for Tesla|Tesla Inc|Tesla Motors on 20220113194500\n"
     ]
    },
    {
     "name": "stdout",
     "output_type": "stream",
     "text": [
      "==> Found 3 matchign records out of 2169 for Tesla|Tesla Inc|Tesla Motors on 20220113201500\n"
     ]
    },
    {
     "name": "stdout",
     "output_type": "stream",
     "text": [
      "==> Found 2 matchign records out of 2231 for Tesla|Tesla Inc|Tesla Motors on 20220113203000\n"
     ]
    },
    {
     "name": "stdout",
     "output_type": "stream",
     "text": [
      "==> Found 3 matchign records out of 2034 for Tesla|Tesla Inc|Tesla Motors on 20220113210000\n"
     ]
    },
    {
     "name": "stdout",
     "output_type": "stream",
     "text": [
      "==> Found 1 matchign records out of 1830 for Tesla|Tesla Inc|Tesla Motors on 20220113211500\n"
     ]
    },
    {
     "name": "stdout",
     "output_type": "stream",
     "text": [
      "==> Found 3 matchign records out of 1973 for Tesla|Tesla Inc|Tesla Motors on 20220113213000\n"
     ]
    },
    {
     "name": "stdout",
     "output_type": "stream",
     "text": [
      "==> Found 2 matchign records out of 1970 for Tesla|Tesla Inc|Tesla Motors on 20220113214500\n"
     ]
    },
    {
     "name": "stdout",
     "output_type": "stream",
     "text": [
      "==> Found 3 matchign records out of 1779 for Tesla|Tesla Inc|Tesla Motors on 20220113220000\n"
     ]
    },
    {
     "name": "stdout",
     "output_type": "stream",
     "text": [
      "==> Found 3 matchign records out of 1845 for Tesla|Tesla Inc|Tesla Motors on 20220113221500\n"
     ]
    },
    {
     "name": "stdout",
     "output_type": "stream",
     "text": [
      "==> Found 2 matchign records out of 1778 for Tesla|Tesla Inc|Tesla Motors on 20220113223000\n"
     ]
    },
    {
     "name": "stdout",
     "output_type": "stream",
     "text": [
      "==> Found 3 matchign records out of 1700 for Tesla|Tesla Inc|Tesla Motors on 20220113230000\n"
     ]
    },
    {
     "name": "stdout",
     "output_type": "stream",
     "text": [
      "==> Found 3 matchign records out of 2007 for Tesla|Tesla Inc|Tesla Motors on 20220113231500\n"
     ]
    },
    {
     "name": "stdout",
     "output_type": "stream",
     "text": [
      "==> Found 3 matchign records out of 1740 for Tesla|Tesla Inc|Tesla Motors on 20220113233000\n"
     ]
    },
    {
     "name": "stdout",
     "output_type": "stream",
     "text": [
      "==> Found 1 matchign records out of 1489 for Tesla|Tesla Inc|Tesla Motors on 20220113234500\n"
     ]
    },
    {
     "name": "stdout",
     "output_type": "stream",
     "text": [
      "==> Found 2 matchign records out of 1762 for Tesla|Tesla Inc|Tesla Motors on 20220114000000\n"
     ]
    },
    {
     "name": "stdout",
     "output_type": "stream",
     "text": [
      "==> Found 2 matchign records out of 1649 for Tesla|Tesla Inc|Tesla Motors on 20220114001500\n"
     ]
    },
    {
     "name": "stdout",
     "output_type": "stream",
     "text": [
      "==> Found 2 matchign records out of 1573 for Tesla|Tesla Inc|Tesla Motors on 20220114003000\n"
     ]
    },
    {
     "name": "stdout",
     "output_type": "stream",
     "text": [
      "==> Found 1 matchign records out of 1621 for Tesla|Tesla Inc|Tesla Motors on 20220114004500\n"
     ]
    },
    {
     "name": "stdout",
     "output_type": "stream",
     "text": [
      "==> Found 2 matchign records out of 1691 for Tesla|Tesla Inc|Tesla Motors on 20220114010000\n"
     ]
    },
    {
     "name": "stdout",
     "output_type": "stream",
     "text": [
      "==> Found 1 matchign records out of 1452 for Tesla|Tesla Inc|Tesla Motors on 20220114011500\n"
     ]
    },
    {
     "name": "stdout",
     "output_type": "stream",
     "text": [
      "==> Found 3 matchign records out of 1740 for Tesla|Tesla Inc|Tesla Motors on 20220114013000\n"
     ]
    },
    {
     "name": "stdout",
     "output_type": "stream",
     "text": [
      "==> Found 2 matchign records out of 1325 for Tesla|Tesla Inc|Tesla Motors on 20220114021500\n"
     ]
    },
    {
     "name": "stdout",
     "output_type": "stream",
     "text": [
      "==> Found 3 matchign records out of 1378 for Tesla|Tesla Inc|Tesla Motors on 20220114023000\n"
     ]
    },
    {
     "name": "stdout",
     "output_type": "stream",
     "text": [
      "==> Found 1 matchign records out of 1072 for Tesla|Tesla Inc|Tesla Motors on 20220114024500\n"
     ]
    },
    {
     "name": "stdout",
     "output_type": "stream",
     "text": [
      "==> Found 1 matchign records out of 1285 for Tesla|Tesla Inc|Tesla Motors on 20220114030000\n"
     ]
    },
    {
     "name": "stdout",
     "output_type": "stream",
     "text": [
      "==> Found 2 matchign records out of 1069 for Tesla|Tesla Inc|Tesla Motors on 20220114031500\n"
     ]
    },
    {
     "name": "stdout",
     "output_type": "stream",
     "text": [
      "==> Found 3 matchign records out of 1131 for Tesla|Tesla Inc|Tesla Motors on 20220114034500\n"
     ]
    },
    {
     "name": "stdout",
     "output_type": "stream",
     "text": [
      "==> Found 1 matchign records out of 910 for Tesla|Tesla Inc|Tesla Motors on 20220114043000\n"
     ]
    },
    {
     "name": "stdout",
     "output_type": "stream",
     "text": [
      "==> Found 2 matchign records out of 975 for Tesla|Tesla Inc|Tesla Motors on 20220114044500\n"
     ]
    },
    {
     "name": "stdout",
     "output_type": "stream",
     "text": [
      "==> Found 1 matchign records out of 923 for Tesla|Tesla Inc|Tesla Motors on 20220114050000\n"
     ]
    },
    {
     "name": "stdout",
     "output_type": "stream",
     "text": [
      "==> Found 5 matchign records out of 967 for Tesla|Tesla Inc|Tesla Motors on 20220114051500\n"
     ]
    },
    {
     "name": "stdout",
     "output_type": "stream",
     "text": [
      "==> Found 3 matchign records out of 1080 for Tesla|Tesla Inc|Tesla Motors on 20220114053000\n"
     ]
    },
    {
     "name": "stdout",
     "output_type": "stream",
     "text": [
      "==> Found 1 matchign records out of 1123 for Tesla|Tesla Inc|Tesla Motors on 20220114060000\n"
     ]
    },
    {
     "name": "stdout",
     "output_type": "stream",
     "text": [
      "==> Found 1 matchign records out of 1030 for Tesla|Tesla Inc|Tesla Motors on 20220114070000\n"
     ]
    },
    {
     "name": "stdout",
     "output_type": "stream",
     "text": [
      "==> Found 1 matchign records out of 888 for Tesla|Tesla Inc|Tesla Motors on 20220114073000\n"
     ]
    },
    {
     "name": "stdout",
     "output_type": "stream",
     "text": [
      "==> Found 1 matchign records out of 875 for Tesla|Tesla Inc|Tesla Motors on 20220114074500\n"
     ]
    },
    {
     "name": "stdout",
     "output_type": "stream",
     "text": [
      "==> Found 3 matchign records out of 1016 for Tesla|Tesla Inc|Tesla Motors on 20220114080000\n"
     ]
    },
    {
     "name": "stdout",
     "output_type": "stream",
     "text": [
      "==> Found 4 matchign records out of 1221 for Tesla|Tesla Inc|Tesla Motors on 20220114083000\n"
     ]
    },
    {
     "name": "stdout",
     "output_type": "stream",
     "text": [
      "==> Found 1 matchign records out of 835 for Tesla|Tesla Inc|Tesla Motors on 20220114084500\n"
     ]
    },
    {
     "name": "stdout",
     "output_type": "stream",
     "text": [
      "==> Found 3 matchign records out of 991 for Tesla|Tesla Inc|Tesla Motors on 20220114090000\n"
     ]
    },
    {
     "name": "stdout",
     "output_type": "stream",
     "text": [
      "==> Found 3 matchign records out of 1157 for Tesla|Tesla Inc|Tesla Motors on 20220114091500\n"
     ]
    },
    {
     "name": "stdout",
     "output_type": "stream",
     "text": [
      "==> Found 1 matchign records out of 1178 for Tesla|Tesla Inc|Tesla Motors on 20220114093000\n"
     ]
    },
    {
     "name": "stdout",
     "output_type": "stream",
     "text": [
      "==> Found 2 matchign records out of 1239 for Tesla|Tesla Inc|Tesla Motors on 20220114094500\n"
     ]
    },
    {
     "name": "stdout",
     "output_type": "stream",
     "text": [
      "==> Found 2 matchign records out of 1253 for Tesla|Tesla Inc|Tesla Motors on 20220114100000\n"
     ]
    },
    {
     "name": "stdout",
     "output_type": "stream",
     "text": [
      "==> Found 1 matchign records out of 1221 for Tesla|Tesla Inc|Tesla Motors on 20220114101500\n"
     ]
    },
    {
     "name": "stdout",
     "output_type": "stream",
     "text": [
      "==> Found 2 matchign records out of 1403 for Tesla|Tesla Inc|Tesla Motors on 20220114114500\n"
     ]
    },
    {
     "name": "stdout",
     "output_type": "stream",
     "text": [
      "==> Found 1 matchign records out of 1191 for Tesla|Tesla Inc|Tesla Motors on 20220114120000\n"
     ]
    },
    {
     "name": "stdout",
     "output_type": "stream",
     "text": [
      "==> Found 3 matchign records out of 1311 for Tesla|Tesla Inc|Tesla Motors on 20220114121500\n"
     ]
    },
    {
     "name": "stdout",
     "output_type": "stream",
     "text": [
      "==> Found 1 matchign records out of 1276 for Tesla|Tesla Inc|Tesla Motors on 20220114123000\n"
     ]
    },
    {
     "name": "stdout",
     "output_type": "stream",
     "text": [
      "==> Found 1 matchign records out of 1573 for Tesla|Tesla Inc|Tesla Motors on 20220114124500\n"
     ]
    },
    {
     "name": "stdout",
     "output_type": "stream",
     "text": [
      "==> Found 1 matchign records out of 1410 for Tesla|Tesla Inc|Tesla Motors on 20220114130000\n"
     ]
    },
    {
     "name": "stdout",
     "output_type": "stream",
     "text": [
      "==> Found 3 matchign records out of 1609 for Tesla|Tesla Inc|Tesla Motors on 20220114133000\n"
     ]
    },
    {
     "name": "stdout",
     "output_type": "stream",
     "text": [
      "==> Found 2 matchign records out of 1432 for Tesla|Tesla Inc|Tesla Motors on 20220114134500\n"
     ]
    },
    {
     "name": "stdout",
     "output_type": "stream",
     "text": [
      "==> Found 1 matchign records out of 1663 for Tesla|Tesla Inc|Tesla Motors on 20220114140000\n"
     ]
    },
    {
     "name": "stdout",
     "output_type": "stream",
     "text": [
      "==> Found 2 matchign records out of 1570 for Tesla|Tesla Inc|Tesla Motors on 20220114141500\n"
     ]
    },
    {
     "name": "stdout",
     "output_type": "stream",
     "text": [
      "==> Found 1 matchign records out of 1590 for Tesla|Tesla Inc|Tesla Motors on 20220114144500\n"
     ]
    },
    {
     "name": "stdout",
     "output_type": "stream",
     "text": [
      "==> Found 1 matchign records out of 1842 for Tesla|Tesla Inc|Tesla Motors on 20220114150000\n"
     ]
    },
    {
     "name": "stdout",
     "output_type": "stream",
     "text": [
      "==> Found 3 matchign records out of 1858 for Tesla|Tesla Inc|Tesla Motors on 20220114151500\n"
     ]
    },
    {
     "name": "stdout",
     "output_type": "stream",
     "text": [
      "==> Found 2 matchign records out of 1665 for Tesla|Tesla Inc|Tesla Motors on 20220114153000\n"
     ]
    },
    {
     "name": "stdout",
     "output_type": "stream",
     "text": [
      "==> Found 2 matchign records out of 1773 for Tesla|Tesla Inc|Tesla Motors on 20220114154500\n"
     ]
    },
    {
     "name": "stdout",
     "output_type": "stream",
     "text": [
      "==> Found 2 matchign records out of 1841 for Tesla|Tesla Inc|Tesla Motors on 20220114160000\n"
     ]
    },
    {
     "name": "stdout",
     "output_type": "stream",
     "text": [
      "==> Found 1 matchign records out of 2052 for Tesla|Tesla Inc|Tesla Motors on 20220114161500\n"
     ]
    },
    {
     "name": "stdout",
     "output_type": "stream",
     "text": [
      "==> Found 4 matchign records out of 1942 for Tesla|Tesla Inc|Tesla Motors on 20220114163000\n"
     ]
    },
    {
     "name": "stdout",
     "output_type": "stream",
     "text": [
      "==> Found 2 matchign records out of 1809 for Tesla|Tesla Inc|Tesla Motors on 20220114164500\n"
     ]
    },
    {
     "name": "stdout",
     "output_type": "stream",
     "text": [
      "==> Found 3 matchign records out of 2191 for Tesla|Tesla Inc|Tesla Motors on 20220114171500\n"
     ]
    },
    {
     "name": "stdout",
     "output_type": "stream",
     "text": [
      "==> Found 3 matchign records out of 1892 for Tesla|Tesla Inc|Tesla Motors on 20220114173000\n"
     ]
    },
    {
     "name": "stdout",
     "output_type": "stream",
     "text": [
      "==> Found 1 matchign records out of 1938 for Tesla|Tesla Inc|Tesla Motors on 20220114174500\n"
     ]
    },
    {
     "name": "stdout",
     "output_type": "stream",
     "text": [
      "==> Found 2 matchign records out of 1937 for Tesla|Tesla Inc|Tesla Motors on 20220114180000\n"
     ]
    },
    {
     "name": "stdout",
     "output_type": "stream",
     "text": [
      "==> Found 1 matchign records out of 1968 for Tesla|Tesla Inc|Tesla Motors on 20220114181500\n"
     ]
    },
    {
     "name": "stdout",
     "output_type": "stream",
     "text": [
      "==> Found 2 matchign records out of 1914 for Tesla|Tesla Inc|Tesla Motors on 20220114183000\n"
     ]
    },
    {
     "name": "stdout",
     "output_type": "stream",
     "text": [
      "==> Found 1 matchign records out of 1834 for Tesla|Tesla Inc|Tesla Motors on 20220114184500\n"
     ]
    },
    {
     "name": "stdout",
     "output_type": "stream",
     "text": [
      "==> Found 1 matchign records out of 1812 for Tesla|Tesla Inc|Tesla Motors on 20220114190000\n"
     ]
    },
    {
     "name": "stdout",
     "output_type": "stream",
     "text": [
      "==> Found 1 matchign records out of 1859 for Tesla|Tesla Inc|Tesla Motors on 20220114193000\n"
     ]
    },
    {
     "name": "stdout",
     "output_type": "stream",
     "text": [
      "==> Found 2 matchign records out of 2078 for Tesla|Tesla Inc|Tesla Motors on 20220114200000\n"
     ]
    },
    {
     "name": "stdout",
     "output_type": "stream",
     "text": [
      "==> Found 1 matchign records out of 1674 for Tesla|Tesla Inc|Tesla Motors on 20220114201500\n"
     ]
    },
    {
     "name": "stdout",
     "output_type": "stream",
     "text": [
      "==> Found 5 matchign records out of 1602 for Tesla|Tesla Inc|Tesla Motors on 20220114204500\n"
     ]
    },
    {
     "name": "stdout",
     "output_type": "stream",
     "text": [
      "==> Found 2 matchign records out of 1975 for Tesla|Tesla Inc|Tesla Motors on 20220114210000\n"
     ]
    },
    {
     "name": "stdout",
     "output_type": "stream",
     "text": [
      "==> Found 1 matchign records out of 1730 for Tesla|Tesla Inc|Tesla Motors on 20220114213000\n"
     ]
    },
    {
     "name": "stdout",
     "output_type": "stream",
     "text": [
      "==> Found 1 matchign records out of 1595 for Tesla|Tesla Inc|Tesla Motors on 20220114220000\n"
     ]
    },
    {
     "name": "stdout",
     "output_type": "stream",
     "text": [
      "==> Found 1 matchign records out of 1774 for Tesla|Tesla Inc|Tesla Motors on 20220114230000\n"
     ]
    },
    {
     "name": "stdout",
     "output_type": "stream",
     "text": [
      "==> Found 2 matchign records out of 1520 for Tesla|Tesla Inc|Tesla Motors on 20220114231500\n"
     ]
    },
    {
     "name": "stdout",
     "output_type": "stream",
     "text": [
      "==> Found 1 matchign records out of 1789 for Tesla|Tesla Inc|Tesla Motors on 20220114233000\n"
     ]
    },
    {
     "name": "stdout",
     "output_type": "stream",
     "text": [
      "==> Found 1 matchign records out of 1716 for Tesla|Tesla Inc|Tesla Motors on 20220115000000\n"
     ]
    },
    {
     "name": "stdout",
     "output_type": "stream",
     "text": [
      "==> Found 1 matchign records out of 1453 for Tesla|Tesla Inc|Tesla Motors on 20220115011500\n"
     ]
    },
    {
     "name": "stdout",
     "output_type": "stream",
     "text": [
      "==> Found 1 matchign records out of 800 for Tesla|Tesla Inc|Tesla Motors on 20220115060000\n"
     ]
    },
    {
     "name": "stdout",
     "output_type": "stream",
     "text": [
      "==> Found 1 matchign records out of 782 for Tesla|Tesla Inc|Tesla Motors on 20220115084500\n"
     ]
    },
    {
     "name": "stdout",
     "output_type": "stream",
     "text": [
      "==> Found 1 matchign records out of 715 for Tesla|Tesla Inc|Tesla Motors on 20220115091500\n"
     ]
    },
    {
     "name": "stdout",
     "output_type": "stream",
     "text": [
      "==> Found 1 matchign records out of 708 for Tesla|Tesla Inc|Tesla Motors on 20220115104500\n"
     ]
    },
    {
     "name": "stdout",
     "output_type": "stream",
     "text": [
      "==> Found 1 matchign records out of 826 for Tesla|Tesla Inc|Tesla Motors on 20220115124500\n"
     ]
    },
    {
     "name": "stdout",
     "output_type": "stream",
     "text": [
      "==> Found 1 matchign records out of 718 for Tesla|Tesla Inc|Tesla Motors on 20220115130000\n"
     ]
    },
    {
     "name": "stdout",
     "output_type": "stream",
     "text": [
      "==> Found 1 matchign records out of 859 for Tesla|Tesla Inc|Tesla Motors on 20220115140000\n"
     ]
    },
    {
     "name": "stdout",
     "output_type": "stream",
     "text": [
      "==> Found 1 matchign records out of 896 for Tesla|Tesla Inc|Tesla Motors on 20220115163000\n"
     ]
    },
    {
     "name": "stdout",
     "output_type": "stream",
     "text": [
      "==> Found 1 matchign records out of 680 for Tesla|Tesla Inc|Tesla Motors on 20220115180000\n"
     ]
    },
    {
     "name": "stdout",
     "output_type": "stream",
     "text": [
      "==> Found 1 matchign records out of 930 for Tesla|Tesla Inc|Tesla Motors on 20220115201500\n"
     ]
    },
    {
     "name": "stdout",
     "output_type": "stream",
     "text": [
      "==> Found 1 matchign records out of 854 for Tesla|Tesla Inc|Tesla Motors on 20220115203000\n"
     ]
    },
    {
     "name": "stdout",
     "output_type": "stream",
     "text": [
      "==> Found 2 matchign records out of 737 for Tesla|Tesla Inc|Tesla Motors on 20220115214500\n"
     ]
    },
    {
     "name": "stdout",
     "output_type": "stream",
     "text": [
      "==> Found 1 matchign records out of 564 for Tesla|Tesla Inc|Tesla Motors on 20220116024500\n"
     ]
    },
    {
     "name": "stdout",
     "output_type": "stream",
     "text": [
      "==> Found 1 matchign records out of 575 for Tesla|Tesla Inc|Tesla Motors on 20220116051500\n"
     ]
    },
    {
     "name": "stdout",
     "output_type": "stream",
     "text": [
      "==> Found 1 matchign records out of 622 for Tesla|Tesla Inc|Tesla Motors on 20220116054500\n"
     ]
    },
    {
     "name": "stdout",
     "output_type": "stream",
     "text": [
      "==> Found 1 matchign records out of 546 for Tesla|Tesla Inc|Tesla Motors on 20220116060000\n"
     ]
    },
    {
     "name": "stdout",
     "output_type": "stream",
     "text": [
      "==> Found 1 matchign records out of 530 for Tesla|Tesla Inc|Tesla Motors on 20220116073000\n"
     ]
    },
    {
     "name": "stdout",
     "output_type": "stream",
     "text": [
      "==> Found 1 matchign records out of 688 for Tesla|Tesla Inc|Tesla Motors on 20220116081500\n"
     ]
    },
    {
     "name": "stdout",
     "output_type": "stream",
     "text": [
      "==> Found 1 matchign records out of 547 for Tesla|Tesla Inc|Tesla Motors on 20220116091500\n"
     ]
    },
    {
     "name": "stdout",
     "output_type": "stream",
     "text": [
      "==> Found 1 matchign records out of 644 for Tesla|Tesla Inc|Tesla Motors on 20220116120000\n"
     ]
    },
    {
     "name": "stdout",
     "output_type": "stream",
     "text": [
      "==> Found 1 matchign records out of 845 for Tesla|Tesla Inc|Tesla Motors on 20220116144500\n"
     ]
    },
    {
     "name": "stdout",
     "output_type": "stream",
     "text": [
      "==> Found 1 matchign records out of 877 for Tesla|Tesla Inc|Tesla Motors on 20220116151500\n"
     ]
    },
    {
     "name": "stdout",
     "output_type": "stream",
     "text": [
      "==> Found 1 matchign records out of 875 for Tesla|Tesla Inc|Tesla Motors on 20220116173000\n"
     ]
    },
    {
     "name": "stdout",
     "output_type": "stream",
     "text": [
      "==> Found 2 matchign records out of 1172 for Tesla|Tesla Inc|Tesla Motors on 20220116174500\n"
     ]
    },
    {
     "name": "stdout",
     "output_type": "stream",
     "text": [
      "==> Found 1 matchign records out of 732 for Tesla|Tesla Inc|Tesla Motors on 20220116180000\n"
     ]
    },
    {
     "name": "stdout",
     "output_type": "stream",
     "text": [
      "==> Found 1 matchign records out of 1036 for Tesla|Tesla Inc|Tesla Motors on 20220116190000\n"
     ]
    },
    {
     "name": "stdout",
     "output_type": "stream",
     "text": [
      "==> Found 2 matchign records out of 882 for Tesla|Tesla Inc|Tesla Motors on 20220116191500\n"
     ]
    },
    {
     "name": "stdout",
     "output_type": "stream",
     "text": [
      "==> Found 1 matchign records out of 950 for Tesla|Tesla Inc|Tesla Motors on 20220116193000\n"
     ]
    },
    {
     "name": "stdout",
     "output_type": "stream",
     "text": [
      "==> Found 1 matchign records out of 748 for Tesla|Tesla Inc|Tesla Motors on 20220116194500\n"
     ]
    },
    {
     "name": "stdout",
     "output_type": "stream",
     "text": [
      "==> Found 1 matchign records out of 757 for Tesla|Tesla Inc|Tesla Motors on 20220116203000\n"
     ]
    },
    {
     "name": "stdout",
     "output_type": "stream",
     "text": [
      "==> Found 2 matchign records out of 790 for Tesla|Tesla Inc|Tesla Motors on 20220116211500\n"
     ]
    },
    {
     "name": "stdout",
     "output_type": "stream",
     "text": [
      "==> Found 3 matchign records out of 706 for Tesla|Tesla Inc|Tesla Motors on 20220116214500\n"
     ]
    },
    {
     "name": "stdout",
     "output_type": "stream",
     "text": [
      "==> Found 1 matchign records out of 902 for Tesla|Tesla Inc|Tesla Motors on 20220116221500\n"
     ]
    },
    {
     "name": "stdout",
     "output_type": "stream",
     "text": [
      "==> Found 3 matchign records out of 711 for Tesla|Tesla Inc|Tesla Motors on 20220116223000\n"
     ]
    },
    {
     "name": "stdout",
     "output_type": "stream",
     "text": [
      "==> Found 1 matchign records out of 791 for Tesla|Tesla Inc|Tesla Motors on 20220116234500\n"
     ]
    },
    {
     "name": "stdout",
     "output_type": "stream",
     "text": [
      "==> Found 1 matchign records out of 718 for Tesla|Tesla Inc|Tesla Motors on 20220117000000\n"
     ]
    },
    {
     "name": "stdout",
     "output_type": "stream",
     "text": [
      "==> Found 1 matchign records out of 772 for Tesla|Tesla Inc|Tesla Motors on 20220117021500\n"
     ]
    },
    {
     "name": "stdout",
     "output_type": "stream",
     "text": [
      "==> Found 2 matchign records out of 841 for Tesla|Tesla Inc|Tesla Motors on 20220117023000\n"
     ]
    },
    {
     "name": "stdout",
     "output_type": "stream",
     "text": [
      "==> Found 1 matchign records out of 770 for Tesla|Tesla Inc|Tesla Motors on 20220117030000\n"
     ]
    },
    {
     "name": "stdout",
     "output_type": "stream",
     "text": [
      "==> Found 1 matchign records out of 729 for Tesla|Tesla Inc|Tesla Motors on 20220117033000\n"
     ]
    },
    {
     "name": "stdout",
     "output_type": "stream",
     "text": [
      "==> Found 1 matchign records out of 593 for Tesla|Tesla Inc|Tesla Motors on 20220117034500\n"
     ]
    },
    {
     "name": "stdout",
     "output_type": "stream",
     "text": [
      "==> Found 1 matchign records out of 680 for Tesla|Tesla Inc|Tesla Motors on 20220117043000\n"
     ]
    },
    {
     "name": "stdout",
     "output_type": "stream",
     "text": [
      "==> Found 1 matchign records out of 685 for Tesla|Tesla Inc|Tesla Motors on 20220117051500\n"
     ]
    },
    {
     "name": "stdout",
     "output_type": "stream",
     "text": [
      "==> Found 1 matchign records out of 634 for Tesla|Tesla Inc|Tesla Motors on 20220117053000\n"
     ]
    },
    {
     "name": "stdout",
     "output_type": "stream",
     "text": [
      "==> Found 2 matchign records out of 796 for Tesla|Tesla Inc|Tesla Motors on 20220117054500\n"
     ]
    },
    {
     "name": "stdout",
     "output_type": "stream",
     "text": [
      "==> Found 2 matchign records out of 814 for Tesla|Tesla Inc|Tesla Motors on 20220117060000\n"
     ]
    },
    {
     "name": "stdout",
     "output_type": "stream",
     "text": [
      "==> Found 2 matchign records out of 754 for Tesla|Tesla Inc|Tesla Motors on 20220117063000\n"
     ]
    },
    {
     "name": "stdout",
     "output_type": "stream",
     "text": [
      "==> Found 1 matchign records out of 777 for Tesla|Tesla Inc|Tesla Motors on 20220117070000\n"
     ]
    },
    {
     "name": "stdout",
     "output_type": "stream",
     "text": [
      "==> Found 1 matchign records out of 704 for Tesla|Tesla Inc|Tesla Motors on 20220117073000\n"
     ]
    },
    {
     "name": "stdout",
     "output_type": "stream",
     "text": [
      "==> Found 1 matchign records out of 838 for Tesla|Tesla Inc|Tesla Motors on 20220117074500\n"
     ]
    },
    {
     "name": "stdout",
     "output_type": "stream",
     "text": [
      "==> Found 1 matchign records out of 1090 for Tesla|Tesla Inc|Tesla Motors on 20220117091500\n"
     ]
    },
    {
     "name": "stdout",
     "output_type": "stream",
     "text": [
      "==> Found 4 matchign records out of 971 for Tesla|Tesla Inc|Tesla Motors on 20220117094500\n"
     ]
    },
    {
     "name": "stdout",
     "output_type": "stream",
     "text": [
      "==> Found 1 matchign records out of 1206 for Tesla|Tesla Inc|Tesla Motors on 20220117111500\n"
     ]
    },
    {
     "name": "stdout",
     "output_type": "stream",
     "text": [
      "==> Found 1 matchign records out of 1268 for Tesla|Tesla Inc|Tesla Motors on 20220117113000\n"
     ]
    },
    {
     "name": "stdout",
     "output_type": "stream",
     "text": [
      "Unable to fetch http://data.gdeltproject.org/gdeltv2/20220117124500.gkg.csv.zip. Encountered 404\n"
     ]
    },
    {
     "name": "stdout",
     "output_type": "stream",
     "text": [
      "==> Found 1 matchign records out of 1308 for Tesla|Tesla Inc|Tesla Motors on 20220117131500\n"
     ]
    },
    {
     "name": "stdout",
     "output_type": "stream",
     "text": [
      "==> Found 1 matchign records out of 1521 for Tesla|Tesla Inc|Tesla Motors on 20220117133000\n"
     ]
    },
    {
     "name": "stdout",
     "output_type": "stream",
     "text": [
      "==> Found 1 matchign records out of 1391 for Tesla|Tesla Inc|Tesla Motors on 20220117144500\n"
     ]
    },
    {
     "name": "stdout",
     "output_type": "stream",
     "text": [
      "==> Found 1 matchign records out of 1354 for Tesla|Tesla Inc|Tesla Motors on 20220117151500\n"
     ]
    },
    {
     "name": "stdout",
     "output_type": "stream",
     "text": [
      "==> Found 2 matchign records out of 1506 for Tesla|Tesla Inc|Tesla Motors on 20220117153000\n"
     ]
    },
    {
     "name": "stdout",
     "output_type": "stream",
     "text": [
      "==> Found 1 matchign records out of 1693 for Tesla|Tesla Inc|Tesla Motors on 20220117154500\n"
     ]
    },
    {
     "name": "stdout",
     "output_type": "stream",
     "text": [
      "==> Found 2 matchign records out of 1374 for Tesla|Tesla Inc|Tesla Motors on 20220117160000\n"
     ]
    },
    {
     "name": "stdout",
     "output_type": "stream",
     "text": [
      "==> Found 1 matchign records out of 1373 for Tesla|Tesla Inc|Tesla Motors on 20220117161500\n"
     ]
    },
    {
     "name": "stdout",
     "output_type": "stream",
     "text": [
      "==> Found 1 matchign records out of 1672 for Tesla|Tesla Inc|Tesla Motors on 20220117173000\n"
     ]
    },
    {
     "ename": "URLError",
     "evalue": "<urlopen error [Errno 60] Operation timed out>",
     "output_type": "error",
     "traceback": [
      "\u001b[0;31m---------------------------------------------------------------------------\u001b[0m",
      "\u001b[0;31mTimeoutError\u001b[0m                              Traceback (most recent call last)",
      "\u001b[0;32m/usr/local/Cellar/python@3.9/3.9.10/Frameworks/Python.framework/Versions/3.9/lib/python3.9/urllib/request.py\u001b[0m in \u001b[0;36mdo_open\u001b[0;34m(self, http_class, req, **http_conn_args)\u001b[0m\n\u001b[1;32m   1345\u001b[0m             \u001b[0;32mtry\u001b[0m\u001b[0;34m:\u001b[0m\u001b[0;34m\u001b[0m\u001b[0;34m\u001b[0m\u001b[0m\n\u001b[0;32m-> 1346\u001b[0;31m                 h.request(req.get_method(), req.selector, req.data, headers,\n\u001b[0m\u001b[1;32m   1347\u001b[0m                           encode_chunked=req.has_header('Transfer-encoding'))\n",
      "\u001b[0;32m/usr/local/Cellar/python@3.9/3.9.10/Frameworks/Python.framework/Versions/3.9/lib/python3.9/http/client.py\u001b[0m in \u001b[0;36mrequest\u001b[0;34m(self, method, url, body, headers, encode_chunked)\u001b[0m\n\u001b[1;32m   1284\u001b[0m         \u001b[0;34m\"\"\"Send a complete request to the server.\"\"\"\u001b[0m\u001b[0;34m\u001b[0m\u001b[0;34m\u001b[0m\u001b[0m\n\u001b[0;32m-> 1285\u001b[0;31m         \u001b[0mself\u001b[0m\u001b[0;34m.\u001b[0m\u001b[0m_send_request\u001b[0m\u001b[0;34m(\u001b[0m\u001b[0mmethod\u001b[0m\u001b[0;34m,\u001b[0m \u001b[0murl\u001b[0m\u001b[0;34m,\u001b[0m \u001b[0mbody\u001b[0m\u001b[0;34m,\u001b[0m \u001b[0mheaders\u001b[0m\u001b[0;34m,\u001b[0m \u001b[0mencode_chunked\u001b[0m\u001b[0;34m)\u001b[0m\u001b[0;34m\u001b[0m\u001b[0;34m\u001b[0m\u001b[0m\n\u001b[0m\u001b[1;32m   1286\u001b[0m \u001b[0;34m\u001b[0m\u001b[0m\n",
      "\u001b[0;32m/usr/local/Cellar/python@3.9/3.9.10/Frameworks/Python.framework/Versions/3.9/lib/python3.9/http/client.py\u001b[0m in \u001b[0;36m_send_request\u001b[0;34m(self, method, url, body, headers, encode_chunked)\u001b[0m\n\u001b[1;32m   1330\u001b[0m             \u001b[0mbody\u001b[0m \u001b[0;34m=\u001b[0m \u001b[0m_encode\u001b[0m\u001b[0;34m(\u001b[0m\u001b[0mbody\u001b[0m\u001b[0;34m,\u001b[0m \u001b[0;34m'body'\u001b[0m\u001b[0;34m)\u001b[0m\u001b[0;34m\u001b[0m\u001b[0;34m\u001b[0m\u001b[0m\n\u001b[0;32m-> 1331\u001b[0;31m         \u001b[0mself\u001b[0m\u001b[0;34m.\u001b[0m\u001b[0mendheaders\u001b[0m\u001b[0;34m(\u001b[0m\u001b[0mbody\u001b[0m\u001b[0;34m,\u001b[0m \u001b[0mencode_chunked\u001b[0m\u001b[0;34m=\u001b[0m\u001b[0mencode_chunked\u001b[0m\u001b[0;34m)\u001b[0m\u001b[0;34m\u001b[0m\u001b[0;34m\u001b[0m\u001b[0m\n\u001b[0m\u001b[1;32m   1332\u001b[0m \u001b[0;34m\u001b[0m\u001b[0m\n",
      "\u001b[0;32m/usr/local/Cellar/python@3.9/3.9.10/Frameworks/Python.framework/Versions/3.9/lib/python3.9/http/client.py\u001b[0m in \u001b[0;36mendheaders\u001b[0;34m(self, message_body, encode_chunked)\u001b[0m\n\u001b[1;32m   1279\u001b[0m             \u001b[0;32mraise\u001b[0m \u001b[0mCannotSendHeader\u001b[0m\u001b[0;34m(\u001b[0m\u001b[0;34m)\u001b[0m\u001b[0;34m\u001b[0m\u001b[0;34m\u001b[0m\u001b[0m\n\u001b[0;32m-> 1280\u001b[0;31m         \u001b[0mself\u001b[0m\u001b[0;34m.\u001b[0m\u001b[0m_send_output\u001b[0m\u001b[0;34m(\u001b[0m\u001b[0mmessage_body\u001b[0m\u001b[0;34m,\u001b[0m \u001b[0mencode_chunked\u001b[0m\u001b[0;34m=\u001b[0m\u001b[0mencode_chunked\u001b[0m\u001b[0;34m)\u001b[0m\u001b[0;34m\u001b[0m\u001b[0;34m\u001b[0m\u001b[0m\n\u001b[0m\u001b[1;32m   1281\u001b[0m \u001b[0;34m\u001b[0m\u001b[0m\n",
      "\u001b[0;32m/usr/local/Cellar/python@3.9/3.9.10/Frameworks/Python.framework/Versions/3.9/lib/python3.9/http/client.py\u001b[0m in \u001b[0;36m_send_output\u001b[0;34m(self, message_body, encode_chunked)\u001b[0m\n\u001b[1;32m   1039\u001b[0m         \u001b[0;32mdel\u001b[0m \u001b[0mself\u001b[0m\u001b[0;34m.\u001b[0m\u001b[0m_buffer\u001b[0m\u001b[0;34m[\u001b[0m\u001b[0;34m:\u001b[0m\u001b[0;34m]\u001b[0m\u001b[0;34m\u001b[0m\u001b[0;34m\u001b[0m\u001b[0m\n\u001b[0;32m-> 1040\u001b[0;31m         \u001b[0mself\u001b[0m\u001b[0;34m.\u001b[0m\u001b[0msend\u001b[0m\u001b[0;34m(\u001b[0m\u001b[0mmsg\u001b[0m\u001b[0;34m)\u001b[0m\u001b[0;34m\u001b[0m\u001b[0;34m\u001b[0m\u001b[0m\n\u001b[0m\u001b[1;32m   1041\u001b[0m \u001b[0;34m\u001b[0m\u001b[0m\n",
      "\u001b[0;32m/usr/local/Cellar/python@3.9/3.9.10/Frameworks/Python.framework/Versions/3.9/lib/python3.9/http/client.py\u001b[0m in \u001b[0;36msend\u001b[0;34m(self, data)\u001b[0m\n\u001b[1;32m    979\u001b[0m             \u001b[0;32mif\u001b[0m \u001b[0mself\u001b[0m\u001b[0;34m.\u001b[0m\u001b[0mauto_open\u001b[0m\u001b[0;34m:\u001b[0m\u001b[0;34m\u001b[0m\u001b[0;34m\u001b[0m\u001b[0m\n\u001b[0;32m--> 980\u001b[0;31m                 \u001b[0mself\u001b[0m\u001b[0;34m.\u001b[0m\u001b[0mconnect\u001b[0m\u001b[0;34m(\u001b[0m\u001b[0;34m)\u001b[0m\u001b[0;34m\u001b[0m\u001b[0;34m\u001b[0m\u001b[0m\n\u001b[0m\u001b[1;32m    981\u001b[0m             \u001b[0;32melse\u001b[0m\u001b[0;34m:\u001b[0m\u001b[0;34m\u001b[0m\u001b[0;34m\u001b[0m\u001b[0m\n",
      "\u001b[0;32m/usr/local/Cellar/python@3.9/3.9.10/Frameworks/Python.framework/Versions/3.9/lib/python3.9/http/client.py\u001b[0m in \u001b[0;36mconnect\u001b[0;34m(self)\u001b[0m\n\u001b[1;32m    945\u001b[0m         \u001b[0;34m\"\"\"Connect to the host and port specified in __init__.\"\"\"\u001b[0m\u001b[0;34m\u001b[0m\u001b[0;34m\u001b[0m\u001b[0m\n\u001b[0;32m--> 946\u001b[0;31m         self.sock = self._create_connection(\n\u001b[0m\u001b[1;32m    947\u001b[0m             (self.host,self.port), self.timeout, self.source_address)\n",
      "\u001b[0;32m/usr/local/Cellar/python@3.9/3.9.10/Frameworks/Python.framework/Versions/3.9/lib/python3.9/socket.py\u001b[0m in \u001b[0;36mcreate_connection\u001b[0;34m(address, timeout, source_address)\u001b[0m\n\u001b[1;32m    843\u001b[0m         \u001b[0;32mtry\u001b[0m\u001b[0;34m:\u001b[0m\u001b[0;34m\u001b[0m\u001b[0;34m\u001b[0m\u001b[0m\n\u001b[0;32m--> 844\u001b[0;31m             \u001b[0;32mraise\u001b[0m \u001b[0merr\u001b[0m\u001b[0;34m\u001b[0m\u001b[0;34m\u001b[0m\u001b[0m\n\u001b[0m\u001b[1;32m    845\u001b[0m         \u001b[0;32mfinally\u001b[0m\u001b[0;34m:\u001b[0m\u001b[0;34m\u001b[0m\u001b[0;34m\u001b[0m\u001b[0m\n",
      "\u001b[0;32m/usr/local/Cellar/python@3.9/3.9.10/Frameworks/Python.framework/Versions/3.9/lib/python3.9/socket.py\u001b[0m in \u001b[0;36mcreate_connection\u001b[0;34m(address, timeout, source_address)\u001b[0m\n\u001b[1;32m    831\u001b[0m                 \u001b[0msock\u001b[0m\u001b[0;34m.\u001b[0m\u001b[0mbind\u001b[0m\u001b[0;34m(\u001b[0m\u001b[0msource_address\u001b[0m\u001b[0;34m)\u001b[0m\u001b[0;34m\u001b[0m\u001b[0;34m\u001b[0m\u001b[0m\n\u001b[0;32m--> 832\u001b[0;31m             \u001b[0msock\u001b[0m\u001b[0;34m.\u001b[0m\u001b[0mconnect\u001b[0m\u001b[0;34m(\u001b[0m\u001b[0msa\u001b[0m\u001b[0;34m)\u001b[0m\u001b[0;34m\u001b[0m\u001b[0;34m\u001b[0m\u001b[0m\n\u001b[0m\u001b[1;32m    833\u001b[0m             \u001b[0;31m# Break explicitly a reference cycle\u001b[0m\u001b[0;34m\u001b[0m\u001b[0;34m\u001b[0m\u001b[0m\n",
      "\u001b[0;31mTimeoutError\u001b[0m: [Errno 60] Operation timed out",
      "\nDuring handling of the above exception, another exception occurred:\n",
      "\u001b[0;31mURLError\u001b[0m                                  Traceback (most recent call last)",
      "\u001b[0;32m/var/folders/b0/4tc1nfbd6z7_vhx4nxcj2n91c0l9h6/T/ipykernel_14512/308782029.py\u001b[0m in \u001b[0;36m<cell line: 1>\u001b[0;34m()\u001b[0m\n\u001b[0;32m----> 1\u001b[0;31m \u001b[0mread_and_filter_files\u001b[0m\u001b[0;34m(\u001b[0m\u001b[0;34m)\u001b[0m\u001b[0;34m\u001b[0m\u001b[0;34m\u001b[0m\u001b[0m\n\u001b[0m",
      "\u001b[0;32m/var/folders/b0/4tc1nfbd6z7_vhx4nxcj2n91c0l9h6/T/ipykernel_14512/2625478858.py\u001b[0m in \u001b[0;36mread_and_filter_files\u001b[0;34m()\u001b[0m\n\u001b[1;32m      6\u001b[0m         \u001b[0mfile_name\u001b[0m \u001b[0;34m=\u001b[0m \u001b[0mos\u001b[0m\u001b[0;34m.\u001b[0m\u001b[0mpath\u001b[0m\u001b[0;34m.\u001b[0m\u001b[0mbasename\u001b[0m\u001b[0;34m(\u001b[0m\u001b[0murl\u001b[0m\u001b[0;34m)\u001b[0m\u001b[0;34m.\u001b[0m\u001b[0msplit\u001b[0m\u001b[0;34m(\u001b[0m\u001b[0;34m\".\"\u001b[0m\u001b[0;34m)\u001b[0m\u001b[0;34m[\u001b[0m\u001b[0;36m0\u001b[0m\u001b[0;34m]\u001b[0m\u001b[0;34m\u001b[0m\u001b[0;34m\u001b[0m\u001b[0m\n\u001b[1;32m      7\u001b[0m         \u001b[0;32mtry\u001b[0m\u001b[0;34m:\u001b[0m\u001b[0;34m\u001b[0m\u001b[0;34m\u001b[0m\u001b[0m\n\u001b[0;32m----> 8\u001b[0;31m             \u001b[0msearch_results\u001b[0m \u001b[0;34m=\u001b[0m \u001b[0mpd\u001b[0m\u001b[0;34m.\u001b[0m\u001b[0mread_csv\u001b[0m\u001b[0;34m(\u001b[0m\u001b[0murl\u001b[0m\u001b[0;34m,\u001b[0m \u001b[0msep\u001b[0m\u001b[0;34m=\u001b[0m\u001b[0;34m'\\t'\u001b[0m\u001b[0;34m,\u001b[0m \u001b[0mnames\u001b[0m\u001b[0;34m=\u001b[0m\u001b[0mcol_names\u001b[0m\u001b[0;34m,\u001b[0m \u001b[0mon_bad_lines\u001b[0m\u001b[0;34m=\u001b[0m\u001b[0;34m'skip'\u001b[0m\u001b[0;34m,\u001b[0m \u001b[0mencoding_errors\u001b[0m\u001b[0;34m=\u001b[0m\u001b[0;34m'ignore'\u001b[0m\u001b[0;34m)\u001b[0m\u001b[0;34m\u001b[0m\u001b[0;34m\u001b[0m\u001b[0m\n\u001b[0m\u001b[1;32m      9\u001b[0m         \u001b[0;32mexcept\u001b[0m \u001b[0mHTTPError\u001b[0m \u001b[0;32mas\u001b[0m \u001b[0merr\u001b[0m\u001b[0;34m:\u001b[0m\u001b[0;34m\u001b[0m\u001b[0;34m\u001b[0m\u001b[0m\n\u001b[1;32m     10\u001b[0m             \u001b[0mprint\u001b[0m\u001b[0;34m(\u001b[0m\u001b[0;34mf\"Unable to fetch {url}. Encountered {err.code}\"\u001b[0m\u001b[0;34m)\u001b[0m\u001b[0;34m\u001b[0m\u001b[0;34m\u001b[0m\u001b[0m\n",
      "\u001b[0;32m~/.local/share/virtualenvs/market_watch-dtlP-L11/lib/python3.9/site-packages/pandas/util/_decorators.py\u001b[0m in \u001b[0;36mwrapper\u001b[0;34m(*args, **kwargs)\u001b[0m\n\u001b[1;32m    309\u001b[0m                     \u001b[0mstacklevel\u001b[0m\u001b[0;34m=\u001b[0m\u001b[0mstacklevel\u001b[0m\u001b[0;34m,\u001b[0m\u001b[0;34m\u001b[0m\u001b[0;34m\u001b[0m\u001b[0m\n\u001b[1;32m    310\u001b[0m                 )\n\u001b[0;32m--> 311\u001b[0;31m             \u001b[0;32mreturn\u001b[0m \u001b[0mfunc\u001b[0m\u001b[0;34m(\u001b[0m\u001b[0;34m*\u001b[0m\u001b[0margs\u001b[0m\u001b[0;34m,\u001b[0m \u001b[0;34m**\u001b[0m\u001b[0mkwargs\u001b[0m\u001b[0;34m)\u001b[0m\u001b[0;34m\u001b[0m\u001b[0;34m\u001b[0m\u001b[0m\n\u001b[0m\u001b[1;32m    312\u001b[0m \u001b[0;34m\u001b[0m\u001b[0m\n\u001b[1;32m    313\u001b[0m         \u001b[0;32mreturn\u001b[0m \u001b[0mwrapper\u001b[0m\u001b[0;34m\u001b[0m\u001b[0;34m\u001b[0m\u001b[0m\n",
      "\u001b[0;32m~/.local/share/virtualenvs/market_watch-dtlP-L11/lib/python3.9/site-packages/pandas/io/parsers/readers.py\u001b[0m in \u001b[0;36mread_csv\u001b[0;34m(filepath_or_buffer, sep, delimiter, header, names, index_col, usecols, squeeze, prefix, mangle_dupe_cols, dtype, engine, converters, true_values, false_values, skipinitialspace, skiprows, skipfooter, nrows, na_values, keep_default_na, na_filter, verbose, skip_blank_lines, parse_dates, infer_datetime_format, keep_date_col, date_parser, dayfirst, cache_dates, iterator, chunksize, compression, thousands, decimal, lineterminator, quotechar, quoting, doublequote, escapechar, comment, encoding, encoding_errors, dialect, error_bad_lines, warn_bad_lines, on_bad_lines, delim_whitespace, low_memory, memory_map, float_precision, storage_options)\u001b[0m\n\u001b[1;32m    678\u001b[0m     \u001b[0mkwds\u001b[0m\u001b[0;34m.\u001b[0m\u001b[0mupdate\u001b[0m\u001b[0;34m(\u001b[0m\u001b[0mkwds_defaults\u001b[0m\u001b[0;34m)\u001b[0m\u001b[0;34m\u001b[0m\u001b[0;34m\u001b[0m\u001b[0m\n\u001b[1;32m    679\u001b[0m \u001b[0;34m\u001b[0m\u001b[0m\n\u001b[0;32m--> 680\u001b[0;31m     \u001b[0;32mreturn\u001b[0m \u001b[0m_read\u001b[0m\u001b[0;34m(\u001b[0m\u001b[0mfilepath_or_buffer\u001b[0m\u001b[0;34m,\u001b[0m \u001b[0mkwds\u001b[0m\u001b[0;34m)\u001b[0m\u001b[0;34m\u001b[0m\u001b[0;34m\u001b[0m\u001b[0m\n\u001b[0m\u001b[1;32m    681\u001b[0m \u001b[0;34m\u001b[0m\u001b[0m\n\u001b[1;32m    682\u001b[0m \u001b[0;34m\u001b[0m\u001b[0m\n",
      "\u001b[0;32m~/.local/share/virtualenvs/market_watch-dtlP-L11/lib/python3.9/site-packages/pandas/io/parsers/readers.py\u001b[0m in \u001b[0;36m_read\u001b[0;34m(filepath_or_buffer, kwds)\u001b[0m\n\u001b[1;32m    573\u001b[0m \u001b[0;34m\u001b[0m\u001b[0m\n\u001b[1;32m    574\u001b[0m     \u001b[0;31m# Create the parser.\u001b[0m\u001b[0;34m\u001b[0m\u001b[0;34m\u001b[0m\u001b[0m\n\u001b[0;32m--> 575\u001b[0;31m     \u001b[0mparser\u001b[0m \u001b[0;34m=\u001b[0m \u001b[0mTextFileReader\u001b[0m\u001b[0;34m(\u001b[0m\u001b[0mfilepath_or_buffer\u001b[0m\u001b[0;34m,\u001b[0m \u001b[0;34m**\u001b[0m\u001b[0mkwds\u001b[0m\u001b[0;34m)\u001b[0m\u001b[0;34m\u001b[0m\u001b[0;34m\u001b[0m\u001b[0m\n\u001b[0m\u001b[1;32m    576\u001b[0m \u001b[0;34m\u001b[0m\u001b[0m\n\u001b[1;32m    577\u001b[0m     \u001b[0;32mif\u001b[0m \u001b[0mchunksize\u001b[0m \u001b[0;32mor\u001b[0m \u001b[0miterator\u001b[0m\u001b[0;34m:\u001b[0m\u001b[0;34m\u001b[0m\u001b[0;34m\u001b[0m\u001b[0m\n",
      "\u001b[0;32m~/.local/share/virtualenvs/market_watch-dtlP-L11/lib/python3.9/site-packages/pandas/io/parsers/readers.py\u001b[0m in \u001b[0;36m__init__\u001b[0;34m(self, f, engine, **kwds)\u001b[0m\n\u001b[1;32m    931\u001b[0m \u001b[0;34m\u001b[0m\u001b[0m\n\u001b[1;32m    932\u001b[0m         \u001b[0mself\u001b[0m\u001b[0;34m.\u001b[0m\u001b[0mhandles\u001b[0m\u001b[0;34m:\u001b[0m \u001b[0mIOHandles\u001b[0m \u001b[0;34m|\u001b[0m \u001b[0;32mNone\u001b[0m \u001b[0;34m=\u001b[0m \u001b[0;32mNone\u001b[0m\u001b[0;34m\u001b[0m\u001b[0;34m\u001b[0m\u001b[0m\n\u001b[0;32m--> 933\u001b[0;31m         \u001b[0mself\u001b[0m\u001b[0;34m.\u001b[0m\u001b[0m_engine\u001b[0m \u001b[0;34m=\u001b[0m \u001b[0mself\u001b[0m\u001b[0;34m.\u001b[0m\u001b[0m_make_engine\u001b[0m\u001b[0;34m(\u001b[0m\u001b[0mf\u001b[0m\u001b[0;34m,\u001b[0m \u001b[0mself\u001b[0m\u001b[0;34m.\u001b[0m\u001b[0mengine\u001b[0m\u001b[0;34m)\u001b[0m\u001b[0;34m\u001b[0m\u001b[0;34m\u001b[0m\u001b[0m\n\u001b[0m\u001b[1;32m    934\u001b[0m \u001b[0;34m\u001b[0m\u001b[0m\n\u001b[1;32m    935\u001b[0m     \u001b[0;32mdef\u001b[0m \u001b[0mclose\u001b[0m\u001b[0;34m(\u001b[0m\u001b[0mself\u001b[0m\u001b[0;34m)\u001b[0m\u001b[0;34m:\u001b[0m\u001b[0;34m\u001b[0m\u001b[0;34m\u001b[0m\u001b[0m\n",
      "\u001b[0;32m~/.local/share/virtualenvs/market_watch-dtlP-L11/lib/python3.9/site-packages/pandas/io/parsers/readers.py\u001b[0m in \u001b[0;36m_make_engine\u001b[0;34m(self, f, engine)\u001b[0m\n\u001b[1;32m   1215\u001b[0m             \u001b[0;31m# \"Union[str, PathLike[str], ReadCsvBuffer[bytes], ReadCsvBuffer[str]]\"\u001b[0m\u001b[0;34m\u001b[0m\u001b[0;34m\u001b[0m\u001b[0m\n\u001b[1;32m   1216\u001b[0m             \u001b[0;31m# , \"str\", \"bool\", \"Any\", \"Any\", \"Any\", \"Any\", \"Any\"\u001b[0m\u001b[0;34m\u001b[0m\u001b[0;34m\u001b[0m\u001b[0m\n\u001b[0;32m-> 1217\u001b[0;31m             self.handles = get_handle(  # type: ignore[call-overload]\n\u001b[0m\u001b[1;32m   1218\u001b[0m                 \u001b[0mf\u001b[0m\u001b[0;34m,\u001b[0m\u001b[0;34m\u001b[0m\u001b[0;34m\u001b[0m\u001b[0m\n\u001b[1;32m   1219\u001b[0m                 \u001b[0mmode\u001b[0m\u001b[0;34m,\u001b[0m\u001b[0;34m\u001b[0m\u001b[0;34m\u001b[0m\u001b[0m\n",
      "\u001b[0;32m~/.local/share/virtualenvs/market_watch-dtlP-L11/lib/python3.9/site-packages/pandas/io/common.py\u001b[0m in \u001b[0;36mget_handle\u001b[0;34m(path_or_buf, mode, encoding, compression, memory_map, is_text, errors, storage_options)\u001b[0m\n\u001b[1;32m    668\u001b[0m \u001b[0;34m\u001b[0m\u001b[0m\n\u001b[1;32m    669\u001b[0m     \u001b[0;31m# open URLs\u001b[0m\u001b[0;34m\u001b[0m\u001b[0;34m\u001b[0m\u001b[0m\n\u001b[0;32m--> 670\u001b[0;31m     ioargs = _get_filepath_or_buffer(\n\u001b[0m\u001b[1;32m    671\u001b[0m         \u001b[0mpath_or_buf\u001b[0m\u001b[0;34m,\u001b[0m\u001b[0;34m\u001b[0m\u001b[0;34m\u001b[0m\u001b[0m\n\u001b[1;32m    672\u001b[0m         \u001b[0mencoding\u001b[0m\u001b[0;34m=\u001b[0m\u001b[0mencoding\u001b[0m\u001b[0;34m,\u001b[0m\u001b[0;34m\u001b[0m\u001b[0;34m\u001b[0m\u001b[0m\n",
      "\u001b[0;32m~/.local/share/virtualenvs/market_watch-dtlP-L11/lib/python3.9/site-packages/pandas/io/common.py\u001b[0m in \u001b[0;36m_get_filepath_or_buffer\u001b[0;34m(filepath_or_buffer, encoding, compression, mode, storage_options)\u001b[0m\n\u001b[1;32m    337\u001b[0m         \u001b[0;31m# assuming storage_options is to be interpreted as headers\u001b[0m\u001b[0;34m\u001b[0m\u001b[0;34m\u001b[0m\u001b[0m\n\u001b[1;32m    338\u001b[0m         \u001b[0mreq_info\u001b[0m \u001b[0;34m=\u001b[0m \u001b[0murllib\u001b[0m\u001b[0;34m.\u001b[0m\u001b[0mrequest\u001b[0m\u001b[0;34m.\u001b[0m\u001b[0mRequest\u001b[0m\u001b[0;34m(\u001b[0m\u001b[0mfilepath_or_buffer\u001b[0m\u001b[0;34m,\u001b[0m \u001b[0mheaders\u001b[0m\u001b[0;34m=\u001b[0m\u001b[0mstorage_options\u001b[0m\u001b[0;34m)\u001b[0m\u001b[0;34m\u001b[0m\u001b[0;34m\u001b[0m\u001b[0m\n\u001b[0;32m--> 339\u001b[0;31m         \u001b[0;32mwith\u001b[0m \u001b[0murlopen\u001b[0m\u001b[0;34m(\u001b[0m\u001b[0mreq_info\u001b[0m\u001b[0;34m)\u001b[0m \u001b[0;32mas\u001b[0m \u001b[0mreq\u001b[0m\u001b[0;34m:\u001b[0m\u001b[0;34m\u001b[0m\u001b[0;34m\u001b[0m\u001b[0m\n\u001b[0m\u001b[1;32m    340\u001b[0m             \u001b[0mcontent_encoding\u001b[0m \u001b[0;34m=\u001b[0m \u001b[0mreq\u001b[0m\u001b[0;34m.\u001b[0m\u001b[0mheaders\u001b[0m\u001b[0;34m.\u001b[0m\u001b[0mget\u001b[0m\u001b[0;34m(\u001b[0m\u001b[0;34m\"Content-Encoding\"\u001b[0m\u001b[0;34m,\u001b[0m \u001b[0;32mNone\u001b[0m\u001b[0;34m)\u001b[0m\u001b[0;34m\u001b[0m\u001b[0;34m\u001b[0m\u001b[0m\n\u001b[1;32m    341\u001b[0m             \u001b[0;32mif\u001b[0m \u001b[0mcontent_encoding\u001b[0m \u001b[0;34m==\u001b[0m \u001b[0;34m\"gzip\"\u001b[0m\u001b[0;34m:\u001b[0m\u001b[0;34m\u001b[0m\u001b[0;34m\u001b[0m\u001b[0m\n",
      "\u001b[0;32m~/.local/share/virtualenvs/market_watch-dtlP-L11/lib/python3.9/site-packages/pandas/io/common.py\u001b[0m in \u001b[0;36murlopen\u001b[0;34m(*args, **kwargs)\u001b[0m\n\u001b[1;32m    237\u001b[0m     \u001b[0;32mimport\u001b[0m \u001b[0murllib\u001b[0m\u001b[0;34m.\u001b[0m\u001b[0mrequest\u001b[0m\u001b[0;34m\u001b[0m\u001b[0;34m\u001b[0m\u001b[0m\n\u001b[1;32m    238\u001b[0m \u001b[0;34m\u001b[0m\u001b[0m\n\u001b[0;32m--> 239\u001b[0;31m     \u001b[0;32mreturn\u001b[0m \u001b[0murllib\u001b[0m\u001b[0;34m.\u001b[0m\u001b[0mrequest\u001b[0m\u001b[0;34m.\u001b[0m\u001b[0murlopen\u001b[0m\u001b[0;34m(\u001b[0m\u001b[0;34m*\u001b[0m\u001b[0margs\u001b[0m\u001b[0;34m,\u001b[0m \u001b[0;34m**\u001b[0m\u001b[0mkwargs\u001b[0m\u001b[0;34m)\u001b[0m\u001b[0;34m\u001b[0m\u001b[0;34m\u001b[0m\u001b[0m\n\u001b[0m\u001b[1;32m    240\u001b[0m \u001b[0;34m\u001b[0m\u001b[0m\n\u001b[1;32m    241\u001b[0m \u001b[0;34m\u001b[0m\u001b[0m\n",
      "\u001b[0;32m/usr/local/Cellar/python@3.9/3.9.10/Frameworks/Python.framework/Versions/3.9/lib/python3.9/urllib/request.py\u001b[0m in \u001b[0;36murlopen\u001b[0;34m(url, data, timeout, cafile, capath, cadefault, context)\u001b[0m\n\u001b[1;32m    212\u001b[0m     \u001b[0;32melse\u001b[0m\u001b[0;34m:\u001b[0m\u001b[0;34m\u001b[0m\u001b[0;34m\u001b[0m\u001b[0m\n\u001b[1;32m    213\u001b[0m         \u001b[0mopener\u001b[0m \u001b[0;34m=\u001b[0m \u001b[0m_opener\u001b[0m\u001b[0;34m\u001b[0m\u001b[0;34m\u001b[0m\u001b[0m\n\u001b[0;32m--> 214\u001b[0;31m     \u001b[0;32mreturn\u001b[0m \u001b[0mopener\u001b[0m\u001b[0;34m.\u001b[0m\u001b[0mopen\u001b[0m\u001b[0;34m(\u001b[0m\u001b[0murl\u001b[0m\u001b[0;34m,\u001b[0m \u001b[0mdata\u001b[0m\u001b[0;34m,\u001b[0m \u001b[0mtimeout\u001b[0m\u001b[0;34m)\u001b[0m\u001b[0;34m\u001b[0m\u001b[0;34m\u001b[0m\u001b[0m\n\u001b[0m\u001b[1;32m    215\u001b[0m \u001b[0;34m\u001b[0m\u001b[0m\n\u001b[1;32m    216\u001b[0m \u001b[0;32mdef\u001b[0m \u001b[0minstall_opener\u001b[0m\u001b[0;34m(\u001b[0m\u001b[0mopener\u001b[0m\u001b[0;34m)\u001b[0m\u001b[0;34m:\u001b[0m\u001b[0;34m\u001b[0m\u001b[0;34m\u001b[0m\u001b[0m\n",
      "\u001b[0;32m/usr/local/Cellar/python@3.9/3.9.10/Frameworks/Python.framework/Versions/3.9/lib/python3.9/urllib/request.py\u001b[0m in \u001b[0;36mopen\u001b[0;34m(self, fullurl, data, timeout)\u001b[0m\n\u001b[1;32m    515\u001b[0m \u001b[0;34m\u001b[0m\u001b[0m\n\u001b[1;32m    516\u001b[0m         \u001b[0msys\u001b[0m\u001b[0;34m.\u001b[0m\u001b[0maudit\u001b[0m\u001b[0;34m(\u001b[0m\u001b[0;34m'urllib.Request'\u001b[0m\u001b[0;34m,\u001b[0m \u001b[0mreq\u001b[0m\u001b[0;34m.\u001b[0m\u001b[0mfull_url\u001b[0m\u001b[0;34m,\u001b[0m \u001b[0mreq\u001b[0m\u001b[0;34m.\u001b[0m\u001b[0mdata\u001b[0m\u001b[0;34m,\u001b[0m \u001b[0mreq\u001b[0m\u001b[0;34m.\u001b[0m\u001b[0mheaders\u001b[0m\u001b[0;34m,\u001b[0m \u001b[0mreq\u001b[0m\u001b[0;34m.\u001b[0m\u001b[0mget_method\u001b[0m\u001b[0;34m(\u001b[0m\u001b[0;34m)\u001b[0m\u001b[0;34m)\u001b[0m\u001b[0;34m\u001b[0m\u001b[0;34m\u001b[0m\u001b[0m\n\u001b[0;32m--> 517\u001b[0;31m         \u001b[0mresponse\u001b[0m \u001b[0;34m=\u001b[0m \u001b[0mself\u001b[0m\u001b[0;34m.\u001b[0m\u001b[0m_open\u001b[0m\u001b[0;34m(\u001b[0m\u001b[0mreq\u001b[0m\u001b[0;34m,\u001b[0m \u001b[0mdata\u001b[0m\u001b[0;34m)\u001b[0m\u001b[0;34m\u001b[0m\u001b[0;34m\u001b[0m\u001b[0m\n\u001b[0m\u001b[1;32m    518\u001b[0m \u001b[0;34m\u001b[0m\u001b[0m\n\u001b[1;32m    519\u001b[0m         \u001b[0;31m# post-process response\u001b[0m\u001b[0;34m\u001b[0m\u001b[0;34m\u001b[0m\u001b[0m\n",
      "\u001b[0;32m/usr/local/Cellar/python@3.9/3.9.10/Frameworks/Python.framework/Versions/3.9/lib/python3.9/urllib/request.py\u001b[0m in \u001b[0;36m_open\u001b[0;34m(self, req, data)\u001b[0m\n\u001b[1;32m    532\u001b[0m \u001b[0;34m\u001b[0m\u001b[0m\n\u001b[1;32m    533\u001b[0m         \u001b[0mprotocol\u001b[0m \u001b[0;34m=\u001b[0m \u001b[0mreq\u001b[0m\u001b[0;34m.\u001b[0m\u001b[0mtype\u001b[0m\u001b[0;34m\u001b[0m\u001b[0;34m\u001b[0m\u001b[0m\n\u001b[0;32m--> 534\u001b[0;31m         result = self._call_chain(self.handle_open, protocol, protocol +\n\u001b[0m\u001b[1;32m    535\u001b[0m                                   '_open', req)\n\u001b[1;32m    536\u001b[0m         \u001b[0;32mif\u001b[0m \u001b[0mresult\u001b[0m\u001b[0;34m:\u001b[0m\u001b[0;34m\u001b[0m\u001b[0;34m\u001b[0m\u001b[0m\n",
      "\u001b[0;32m/usr/local/Cellar/python@3.9/3.9.10/Frameworks/Python.framework/Versions/3.9/lib/python3.9/urllib/request.py\u001b[0m in \u001b[0;36m_call_chain\u001b[0;34m(self, chain, kind, meth_name, *args)\u001b[0m\n\u001b[1;32m    492\u001b[0m         \u001b[0;32mfor\u001b[0m \u001b[0mhandler\u001b[0m \u001b[0;32min\u001b[0m \u001b[0mhandlers\u001b[0m\u001b[0;34m:\u001b[0m\u001b[0;34m\u001b[0m\u001b[0;34m\u001b[0m\u001b[0m\n\u001b[1;32m    493\u001b[0m             \u001b[0mfunc\u001b[0m \u001b[0;34m=\u001b[0m \u001b[0mgetattr\u001b[0m\u001b[0;34m(\u001b[0m\u001b[0mhandler\u001b[0m\u001b[0;34m,\u001b[0m \u001b[0mmeth_name\u001b[0m\u001b[0;34m)\u001b[0m\u001b[0;34m\u001b[0m\u001b[0;34m\u001b[0m\u001b[0m\n\u001b[0;32m--> 494\u001b[0;31m             \u001b[0mresult\u001b[0m \u001b[0;34m=\u001b[0m \u001b[0mfunc\u001b[0m\u001b[0;34m(\u001b[0m\u001b[0;34m*\u001b[0m\u001b[0margs\u001b[0m\u001b[0;34m)\u001b[0m\u001b[0;34m\u001b[0m\u001b[0;34m\u001b[0m\u001b[0m\n\u001b[0m\u001b[1;32m    495\u001b[0m             \u001b[0;32mif\u001b[0m \u001b[0mresult\u001b[0m \u001b[0;32mis\u001b[0m \u001b[0;32mnot\u001b[0m \u001b[0;32mNone\u001b[0m\u001b[0;34m:\u001b[0m\u001b[0;34m\u001b[0m\u001b[0;34m\u001b[0m\u001b[0m\n\u001b[1;32m    496\u001b[0m                 \u001b[0;32mreturn\u001b[0m \u001b[0mresult\u001b[0m\u001b[0;34m\u001b[0m\u001b[0;34m\u001b[0m\u001b[0m\n",
      "\u001b[0;32m/usr/local/Cellar/python@3.9/3.9.10/Frameworks/Python.framework/Versions/3.9/lib/python3.9/urllib/request.py\u001b[0m in \u001b[0;36mhttp_open\u001b[0;34m(self, req)\u001b[0m\n\u001b[1;32m   1373\u001b[0m \u001b[0;34m\u001b[0m\u001b[0m\n\u001b[1;32m   1374\u001b[0m     \u001b[0;32mdef\u001b[0m \u001b[0mhttp_open\u001b[0m\u001b[0;34m(\u001b[0m\u001b[0mself\u001b[0m\u001b[0;34m,\u001b[0m \u001b[0mreq\u001b[0m\u001b[0;34m)\u001b[0m\u001b[0;34m:\u001b[0m\u001b[0;34m\u001b[0m\u001b[0;34m\u001b[0m\u001b[0m\n\u001b[0;32m-> 1375\u001b[0;31m         \u001b[0;32mreturn\u001b[0m \u001b[0mself\u001b[0m\u001b[0;34m.\u001b[0m\u001b[0mdo_open\u001b[0m\u001b[0;34m(\u001b[0m\u001b[0mhttp\u001b[0m\u001b[0;34m.\u001b[0m\u001b[0mclient\u001b[0m\u001b[0;34m.\u001b[0m\u001b[0mHTTPConnection\u001b[0m\u001b[0;34m,\u001b[0m \u001b[0mreq\u001b[0m\u001b[0;34m)\u001b[0m\u001b[0;34m\u001b[0m\u001b[0;34m\u001b[0m\u001b[0m\n\u001b[0m\u001b[1;32m   1376\u001b[0m \u001b[0;34m\u001b[0m\u001b[0m\n\u001b[1;32m   1377\u001b[0m     \u001b[0mhttp_request\u001b[0m \u001b[0;34m=\u001b[0m \u001b[0mAbstractHTTPHandler\u001b[0m\u001b[0;34m.\u001b[0m\u001b[0mdo_request_\u001b[0m\u001b[0;34m\u001b[0m\u001b[0;34m\u001b[0m\u001b[0m\n",
      "\u001b[0;32m/usr/local/Cellar/python@3.9/3.9.10/Frameworks/Python.framework/Versions/3.9/lib/python3.9/urllib/request.py\u001b[0m in \u001b[0;36mdo_open\u001b[0;34m(self, http_class, req, **http_conn_args)\u001b[0m\n\u001b[1;32m   1347\u001b[0m                           encode_chunked=req.has_header('Transfer-encoding'))\n\u001b[1;32m   1348\u001b[0m             \u001b[0;32mexcept\u001b[0m \u001b[0mOSError\u001b[0m \u001b[0;32mas\u001b[0m \u001b[0merr\u001b[0m\u001b[0;34m:\u001b[0m \u001b[0;31m# timeout error\u001b[0m\u001b[0;34m\u001b[0m\u001b[0;34m\u001b[0m\u001b[0m\n\u001b[0;32m-> 1349\u001b[0;31m                 \u001b[0;32mraise\u001b[0m \u001b[0mURLError\u001b[0m\u001b[0;34m(\u001b[0m\u001b[0merr\u001b[0m\u001b[0;34m)\u001b[0m\u001b[0;34m\u001b[0m\u001b[0;34m\u001b[0m\u001b[0m\n\u001b[0m\u001b[1;32m   1350\u001b[0m             \u001b[0mr\u001b[0m \u001b[0;34m=\u001b[0m \u001b[0mh\u001b[0m\u001b[0;34m.\u001b[0m\u001b[0mgetresponse\u001b[0m\u001b[0;34m(\u001b[0m\u001b[0;34m)\u001b[0m\u001b[0;34m\u001b[0m\u001b[0;34m\u001b[0m\u001b[0m\n\u001b[1;32m   1351\u001b[0m         \u001b[0;32mexcept\u001b[0m\u001b[0;34m:\u001b[0m\u001b[0;34m\u001b[0m\u001b[0;34m\u001b[0m\u001b[0m\n",
      "\u001b[0;31mURLError\u001b[0m: <urlopen error [Errno 60] Operation timed out>"
     ]
    }
   ],
   "source": [
    "read_and_filter_files()"
   ]
  },
  {
   "cell_type": "code",
   "execution_count": null,
   "id": "2f96b4d1",
   "metadata": {
    "papermill": {
     "duration": null,
     "end_time": null,
     "exception": null,
     "start_time": null,
     "status": "pending"
    },
    "tags": []
   },
   "outputs": [],
   "source": [
    "# #  config parameter that tells us rolling window for getting data \n",
    "# # i.e. a value of 30 in env.yaml means 30 days rolling window. We will fetch data from today to 30 days back.\n",
    "# rolling_window = query_params[\"rolling_window\"]\n",
    "\n",
    "# # fetch data for each day and then filter it on search terms\n",
    "# for day_num in range(rolling_window):\n",
    "\n",
    "#     today = datetime.today()\n",
    "#     how_far_back = timedelta(days=day_num)\n",
    "#     search_date = today - how_far_back\n",
    "\n",
    "#     print(f\"Searching for {search_date}\")\n",
    "#     # try:\n",
    "#     search_results = gd.Search(\n",
    "#         str(search_date),\n",
    "#         table='gkg', \n",
    "#         coverage=False,\n",
    "#         translation=True\n",
    "#     )\n",
    "#     # except:\n",
    "#     #     print(f\"=> No records returnd for date {search_date}\")\n",
    "#     #     continue;\n",
    "#     print(search_results.columns)\n",
    "#     break\n",
    "#     print(f\"=> Returned {len(search_results)} records\")\n",
    "\n",
    "#     # Add search date to file name     \n",
    "#     file_path = f'{product[\"data\"]}/{str(search_date)}'\n",
    "#     Path(file_path).parent.mkdir(exist_ok=True, parents=True)\n",
    "\n",
    "#     # Form a query friendly search terms     \n",
    "#     search_terms = \"|\".join(query_params['search_terms'])\n",
    "#     organizations = search_results['V2Organizations'].str.lower()\n",
    "#     filter_cond = organizations.str.contains(search_terms, regex=True, case=False, na=False)\n",
    "#     df = search_results[filter_cond]\n",
    "\n",
    "#     if len(df) > 0 :\n",
    "#         print(f\"==> Found {len(df)} matchign records for {search_terms} on {search_date}\")\n",
    "#         df[filter_cols].to_csv(file_path + '.csv')"
   ]
  }
 ],
 "metadata": {
  "jupytext": {
   "cell_metadata_filter": "tags,-all",
   "main_language": "python",
   "notebook_metadata_filter": "-all",
   "text_representation": {
    "extension": ".py",
    "format_name": "light"
   }
  },
  "kernelspec": {
   "display_name": "Python 3 (ipykernel)",
   "language": "python",
   "name": "python3"
  },
  "language_info": {
   "codemirror_mode": {
    "name": "ipython",
    "version": 3
   },
   "file_extension": ".py",
   "mimetype": "text/x-python",
   "name": "python",
   "nbconvert_exporter": "python",
   "pygments_lexer": "ipython3",
   "version": "3.9.10"
  },
  "papermill": {
   "duration": 1277.246089,
   "end_time": "2022-03-21T14:59:36.612687",
   "exception": true,
   "input_path": "/var/folders/b0/4tc1nfbd6z7_vhx4nxcj2n91c0l9h6/T/tmpslk2_p7w.ipynb",
   "output_path": "/Users/aiujdm2/market_watch/output/notebooks/fetch_n_filter_gdelt_data.ipynb",
   "parameters": {
    "product": {
     "data": "/Users/aiujdm2/market_watch/output/data/raw/gdelt-gkg-tesla.csv",
     "nb": "/Users/aiujdm2/market_watch/output/notebooks/fetch_n_filter_gdelt_data.ipynb"
    },
    "query_params": {
     "gdelt_gkg_base_url": "http://data.gdeltproject.org/gdeltv2/",
     "rolling_window": 90,
     "search_terms": [
      "Tesla",
      "Tesla Inc",
      "Tesla Motors"
     ]
    }
   },
   "start_time": "2022-03-21T14:38:19.366598"
  }
 },
 "nbformat": 4,
 "nbformat_minor": 5
}