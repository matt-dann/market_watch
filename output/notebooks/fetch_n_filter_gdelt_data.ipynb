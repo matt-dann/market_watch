{
 "cells": [
  {
   "cell_type": "code",
   "execution_count": 1,
   "id": "12760321",
   "metadata": {
    "execution": {
     "iopub.execute_input": "2022-03-23T17:45:52.235798Z",
     "iopub.status.busy": "2022-03-23T17:45:52.235534Z",
     "iopub.status.idle": "2022-03-23T17:45:52.243443Z",
     "shell.execute_reply": "2022-03-23T17:45:52.242713Z"
    },
    "papermill": {
     "duration": 0.021334,
     "end_time": "2022-03-23T17:45:52.245585",
     "exception": false,
     "start_time": "2022-03-23T17:45:52.224251",
     "status": "completed"
    },
    "tags": [
     "parameters"
    ]
   },
   "outputs": [],
   "source": [
    "# declare a list tasks whose products you want to use as inputs\n",
    "upstream = None"
   ]
  },
  {
   "cell_type": "code",
   "execution_count": 2,
   "id": "a1a87452",
   "metadata": {
    "execution": {
     "iopub.execute_input": "2022-03-23T17:45:52.262369Z",
     "iopub.status.busy": "2022-03-23T17:45:52.261942Z",
     "iopub.status.idle": "2022-03-23T17:45:52.265453Z",
     "shell.execute_reply": "2022-03-23T17:45:52.264906Z"
    },
    "papermill": {
     "duration": 0.014046,
     "end_time": "2022-03-23T17:45:52.267434",
     "exception": false,
     "start_time": "2022-03-23T17:45:52.253388",
     "status": "completed"
    },
    "tags": [
     "injected-parameters"
    ]
   },
   "outputs": [],
   "source": [
    "# Parameters\n",
    "query_params = {\n",
    "    \"rolling_window\": 1,\n",
    "    \"search_term\": \"tesla\",\n",
    "    \"gdelt_gkg_base_url\": \"http://data.gdeltproject.org/gdeltv2/\",\n",
    "}\n",
    "product = {\n",
    "    \"nb\": \"/Users/aiujdm2/market_watch/output/notebooks/fetch_n_filter_gdelt_data.ipynb\",\n",
    "    \"data\": \"/Users/aiujdm2/market_watch/output/data/raw/gdelt_gkg_data-raw.csv\",\n",
    "}\n"
   ]
  },
  {
   "cell_type": "code",
   "execution_count": 3,
   "id": "cb4ec3b1",
   "metadata": {
    "execution": {
     "iopub.execute_input": "2022-03-23T17:45:52.283646Z",
     "iopub.status.busy": "2022-03-23T17:45:52.283426Z",
     "iopub.status.idle": "2022-03-23T17:45:52.764751Z",
     "shell.execute_reply": "2022-03-23T17:45:52.764065Z"
    },
    "papermill": {
     "duration": 0.49207,
     "end_time": "2022-03-23T17:45:52.766921",
     "exception": false,
     "start_time": "2022-03-23T17:45:52.274851",
     "status": "completed"
    },
    "tags": []
   },
   "outputs": [],
   "source": [
    "from pathlib import Path\n",
    "from urllib.error import HTTPError, URLError\n",
    "from datetime import timedelta, datetime\n",
    "import gdelt\n",
    "import pandas as pd\n",
    "import os\n",
    "import sys\n",
    "import warnings\n",
    "from src import utils\n",
    "from dotenv import load_dotenv, find_dotenv\n",
    "\n",
    "# import numpy as np\n",
    "# import altair as alt\n",
    "# from altair import datum\n",
    "# alt.data_transformers.disable_max_rows()\n",
    "# alt.themes.enable('fivethirtyeight')\n",
    "\n",
    "warnings.filterwarnings('ignore')"
   ]
  },
  {
   "cell_type": "code",
   "execution_count": 4,
   "id": "4393a47c",
   "metadata": {
    "execution": {
     "iopub.execute_input": "2022-03-23T17:45:52.784552Z",
     "iopub.status.busy": "2022-03-23T17:45:52.784298Z",
     "iopub.status.idle": "2022-03-23T17:45:52.796413Z",
     "shell.execute_reply": "2022-03-23T17:45:52.795855Z"
    },
    "papermill": {
     "duration": 0.023109,
     "end_time": "2022-03-23T17:45:52.798208",
     "exception": false,
     "start_time": "2022-03-23T17:45:52.775099",
     "status": "completed"
    },
    "tags": []
   },
   "outputs": [
    {
     "data": {
      "text/plain": [
       "True"
      ]
     },
     "execution_count": 4,
     "metadata": {},
     "output_type": "execute_result"
    }
   ],
   "source": [
    "load_dotenv(find_dotenv('market_watch.env'))"
   ]
  },
  {
   "cell_type": "code",
   "execution_count": 5,
   "id": "0301e7ca",
   "metadata": {
    "execution": {
     "iopub.execute_input": "2022-03-23T17:45:52.815593Z",
     "iopub.status.busy": "2022-03-23T17:45:52.815353Z",
     "iopub.status.idle": "2022-03-23T17:45:52.819185Z",
     "shell.execute_reply": "2022-03-23T17:45:52.818640Z"
    },
    "papermill": {
     "duration": 0.014939,
     "end_time": "2022-03-23T17:45:52.820916",
     "exception": false,
     "start_time": "2022-03-23T17:45:52.805977",
     "status": "completed"
    },
    "tags": []
   },
   "outputs": [
    {
     "name": "stdout",
     "output_type": "stream",
     "text": [
      "/Users/aiujdm2/.local/share/virtualenvs/market_watch-dtlP-L11/bin/python\n",
      "/Users/aiujdm2/.ssh/vgaurav-4d0e95d3663a.json\n"
     ]
    }
   ],
   "source": [
    "print(sys.executable)\n",
    "api_key_file = os.environ['GOOGLE_APPLICATION_CREDENTIALS']\n",
    "print(api_key_file)"
   ]
  },
  {
   "cell_type": "code",
   "execution_count": 6,
   "id": "fe199bb2",
   "metadata": {
    "execution": {
     "iopub.execute_input": "2022-03-23T17:45:52.838541Z",
     "iopub.status.busy": "2022-03-23T17:45:52.838242Z",
     "iopub.status.idle": "2022-03-23T17:45:52.844291Z",
     "shell.execute_reply": "2022-03-23T17:45:52.843698Z"
    },
    "papermill": {
     "duration": 0.017012,
     "end_time": "2022-03-23T17:45:52.846270",
     "exception": false,
     "start_time": "2022-03-23T17:45:52.829258",
     "status": "completed"
    },
    "tags": []
   },
   "outputs": [],
   "source": [
    "col_names = ['GKGRECORDID', 'DATE', 'SourceCollectionIdentifier', 'SourceCommonName',\n",
    "             'DocumentIdentifier', 'Counts', 'V2Counts', 'Themes', 'V2Themes',\n",
    "             'Locations', 'V2Locations', 'Persons', 'V2Persons', 'Organizations',\n",
    "             'V2Organizations', 'V2Tone', 'Dates', 'GCAM', 'SharingImage',\n",
    "             'RelatedImages', 'SocialImageEmbeds', 'SocialVideoEmbeds', 'Quotations',\n",
    "             'AllNames', 'Amounts', 'TranslationInfo', 'Extras']\n",
    "\n",
    "filter_cols = [\n",
    "    'GKGRECORDID',\n",
    "    'DATE',\n",
    "    'SourceCollectionIdentifier',\n",
    "    'SourceCommonName',\n",
    "    'DocumentIdentifier',\n",
    "    'V2Counts',\n",
    "    'V2Themes',\n",
    "    'V2Locations',\n",
    "    'V2Persons',\n",
    "    'V2Organizations',\n",
    "    'V2Tone',\n",
    "    'GCAM',\n",
    "    'SharingImage',\n",
    "    'RelatedImages',\n",
    "    'SocialImageEmbeds',\n",
    "    'SocialVideoEmbeds',\n",
    "    'Quotations',\n",
    "    'AllNames',\n",
    "    'Amounts',\n",
    "    'TranslationInfo',\n",
    "    'Extras'\n",
    "]\n",
    "#  config parameter that tells us rolling window for getting data \n",
    "# i.e. a value of 30 in env.yaml means 30 days rolling window. We will fetch data from today to 30 days back.\n",
    "rolling_window = query_params[\"rolling_window\"]\n",
    "gdelt_gkg_base_url = query_params[\"gdelt_gkg_base_url\"]"
   ]
  },
  {
   "cell_type": "code",
   "execution_count": 7,
   "id": "f93e157f",
   "metadata": {
    "execution": {
     "iopub.execute_input": "2022-03-23T17:45:52.863634Z",
     "iopub.status.busy": "2022-03-23T17:45:52.863408Z",
     "iopub.status.idle": "2022-03-23T17:45:52.866390Z",
     "shell.execute_reply": "2022-03-23T17:45:52.865795Z"
    },
    "papermill": {
     "duration": 0.013782,
     "end_time": "2022-03-23T17:45:52.868030",
     "exception": false,
     "start_time": "2022-03-23T17:45:52.854248",
     "status": "completed"
    },
    "tags": []
   },
   "outputs": [],
   "source": [
    "gd = gdelt.gdelt(version=2)"
   ]
  },
  {
   "cell_type": "code",
   "execution_count": 8,
   "id": "0f957d10",
   "metadata": {
    "execution": {
     "iopub.execute_input": "2022-03-23T17:45:52.886034Z",
     "iopub.status.busy": "2022-03-23T17:45:52.885808Z",
     "iopub.status.idle": "2022-03-23T17:45:52.889494Z",
     "shell.execute_reply": "2022-03-23T17:45:52.888816Z"
    },
    "papermill": {
     "duration": 0.015442,
     "end_time": "2022-03-23T17:45:52.892047",
     "exception": false,
     "start_time": "2022-03-23T17:45:52.876605",
     "status": "completed"
    },
    "tags": []
   },
   "outputs": [],
   "source": [
    "def get_gkg_file_url(rolling_window, base_url):\n",
    "    \n",
    "    start_date = utils.get_start_date(rolling_window)\n",
    "    today_ts = datetime.utcnow()\n",
    "    for dt in utils.datetime_range(start_date, today_ts, timedelta(minutes=15)):\n",
    "        yield base_url + f'{dt.strftime(\"%Y%m%d%H%M00\")}.gkg.csv.zip'"
   ]
  },
  {
   "cell_type": "code",
   "execution_count": 9,
   "id": "adc23913",
   "metadata": {
    "execution": {
     "iopub.execute_input": "2022-03-23T17:45:52.909872Z",
     "iopub.status.busy": "2022-03-23T17:45:52.909643Z",
     "iopub.status.idle": "2022-03-23T17:45:52.916817Z",
     "shell.execute_reply": "2022-03-23T17:45:52.916282Z"
    },
    "papermill": {
     "duration": 0.018225,
     "end_time": "2022-03-23T17:45:52.918464",
     "exception": false,
     "start_time": "2022-03-23T17:45:52.900239",
     "status": "completed"
    },
    "tags": []
   },
   "outputs": [],
   "source": [
    "def read_and_filter_files():\n",
    "    data = []\n",
    "\n",
    "    for url in get_gkg_file_url(rolling_window, base_url=gdelt_gkg_base_url):\n",
    "\n",
    "        file_name = os.path.basename(url).split(\".\")[0]\n",
    "\n",
    "        try:\n",
    "            search_results = pd.read_csv(url, sep='\\t', names=col_names, on_bad_lines='skip', encoding_errors='ignore')\n",
    "        except HTTPError as http_err:\n",
    "            print(f\"Unable to fetch {url}. Encountered {http_err.code}\")\n",
    "            pass\n",
    "        except URLError as url_err:\n",
    "            print(f\"Unable to fetch {url}. Encountered {url_err.code}\")\n",
    "            pass\n",
    "        except:\n",
    "            print(f\"Unable to fetch {url}. Some Generic Error.\")\n",
    "            pass\n",
    "\n",
    "        # Add search date to file name     \n",
    "        file_path = product[\"data\"]\n",
    "\n",
    "        Path(file_path).parent.mkdir(exist_ok=True, parents=True)\n",
    "        # Form a query friendly search terms     \n",
    "        search_terms = \"|\".join(query_params['search_term'])\n",
    "        organizations = search_results['V2Organizations'].str.lower()\n",
    "        filter_cond = organizations.str.contains(search_terms, regex=True, case=False, na=False)\n",
    "        df = search_results[filter_cond]\n",
    "\n",
    "        if len(df) > 0:\n",
    "            data.append(df[filter_cols])\n",
    "\n",
    "    data_df = pd.concat(data)\n",
    "    data_df.to_csv(file_path)\n",
    "    print(f\"Processed merged file with {len(data_df)} records\")"
   ]
  },
  {
   "cell_type": "code",
   "execution_count": 10,
   "id": "ce5a7702",
   "metadata": {
    "execution": {
     "iopub.execute_input": "2022-03-23T17:45:52.936095Z",
     "iopub.status.busy": "2022-03-23T17:45:52.935851Z",
     "iopub.status.idle": "2022-03-23T17:47:17.188700Z",
     "shell.execute_reply": "2022-03-23T17:47:17.188128Z"
    },
    "papermill": {
     "duration": 84.273604,
     "end_time": "2022-03-23T17:47:17.200460",
     "exception": false,
     "start_time": "2022-03-23T17:45:52.926856",
     "status": "completed"
    },
    "tags": []
   },
   "outputs": [
    {
     "name": "stdout",
     "output_type": "stream",
     "text": [
      "Processed merged file with 101597 records\n"
     ]
    }
   ],
   "source": [
    "read_and_filter_files()"
   ]
  }
 ],
 "metadata": {
  "jupytext": {
   "cell_metadata_filter": "tags,-all",
   "main_language": "python",
   "notebook_metadata_filter": "-all",
   "text_representation": {
    "extension": ".py",
    "format_name": "light"
   }
  },
  "kernelspec": {
   "display_name": "Python 3 (ipykernel)",
   "language": "python",
   "name": "python3"
  },
  "language_info": {
   "codemirror_mode": {
    "name": "ipython",
    "version": 3
   },
   "file_extension": ".py",
   "mimetype": "text/x-python",
   "name": "python",
   "nbconvert_exporter": "python",
   "pygments_lexer": "ipython3",
   "version": "3.9.10"
  },
  "papermill": {
   "duration": 88.788868,
   "end_time": "2022-03-23T17:47:19.830194",
   "exception": null,
   "input_path": "/var/folders/b0/4tc1nfbd6z7_vhx4nxcj2n91c0l9h6/T/tmp2n_hoqzh.ipynb",
   "output_path": "/Users/aiujdm2/market_watch/output/notebooks/fetch_n_filter_gdelt_data.ipynb",
   "parameters": {
    "product": {
     "data": "/Users/aiujdm2/market_watch/output/data/raw/gdelt_gkg_data-raw.csv",
     "nb": "/Users/aiujdm2/market_watch/output/notebooks/fetch_n_filter_gdelt_data.ipynb"
    },
    "query_params": {
     "gdelt_gkg_base_url": "http://data.gdeltproject.org/gdeltv2/",
     "rolling_window": 1,
     "search_term": "tesla"
    }
   },
   "start_time": "2022-03-23T17:45:51.041326"
  }
 },
 "nbformat": 4,
 "nbformat_minor": 5
}