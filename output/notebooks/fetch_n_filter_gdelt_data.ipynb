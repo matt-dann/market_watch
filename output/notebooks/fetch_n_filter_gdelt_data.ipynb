{
 "cells": [
  {
   "cell_type": "code",
   "execution_count": 1,
   "id": "37a399c6",
   "metadata": {
    "execution": {
     "iopub.execute_input": "2022-03-21T16:58:47.883337Z",
     "iopub.status.busy": "2022-03-21T16:58:47.883038Z",
     "iopub.status.idle": "2022-03-21T16:58:47.890489Z",
     "shell.execute_reply": "2022-03-21T16:58:47.889930Z"
    },
    "papermill": {
     "duration": 0.020322,
     "end_time": "2022-03-21T16:58:47.892430",
     "exception": false,
     "start_time": "2022-03-21T16:58:47.872108",
     "status": "completed"
    },
    "tags": [
     "parameters"
    ]
   },
   "outputs": [],
   "source": [
    "# declare a list tasks whose products you want to use as inputs\n",
    "upstream = None"
   ]
  },
  {
   "cell_type": "code",
   "execution_count": 2,
   "id": "7935934c",
   "metadata": {
    "execution": {
     "iopub.execute_input": "2022-03-21T16:58:47.908603Z",
     "iopub.status.busy": "2022-03-21T16:58:47.908383Z",
     "iopub.status.idle": "2022-03-21T16:58:47.911951Z",
     "shell.execute_reply": "2022-03-21T16:58:47.911372Z"
    },
    "papermill": {
     "duration": 0.013345,
     "end_time": "2022-03-21T16:58:47.913730",
     "exception": false,
     "start_time": "2022-03-21T16:58:47.900385",
     "status": "completed"
    },
    "tags": [
     "injected-parameters"
    ]
   },
   "outputs": [],
   "source": [
    "# Parameters\n",
    "query_params = {\n",
    "    \"rolling_window\": 1,\n",
    "    \"search_term\": \"tesla\",\n",
    "    \"gdelt_gkg_base_url\": \"http://data.gdeltproject.org/gdeltv2/\",\n",
    "}\n",
    "product = {\n",
    "    \"nb\": \"/Users/aiujdm2/market_watch/output/notebooks/fetch_n_filter_gdelt_data.ipynb\",\n",
    "    \"data\": \"/Users/aiujdm2/market_watch/output/data/raw/gdelt-gkg-data.csv\",\n",
    "}\n"
   ]
  },
  {
   "cell_type": "code",
   "execution_count": 3,
   "id": "2f0da0ca",
   "metadata": {
    "execution": {
     "iopub.execute_input": "2022-03-21T16:58:47.929058Z",
     "iopub.status.busy": "2022-03-21T16:58:47.928839Z",
     "iopub.status.idle": "2022-03-21T16:58:48.346347Z",
     "shell.execute_reply": "2022-03-21T16:58:48.345287Z"
    },
    "papermill": {
     "duration": 0.427798,
     "end_time": "2022-03-21T16:58:48.348715",
     "exception": false,
     "start_time": "2022-03-21T16:58:47.920917",
     "status": "completed"
    },
    "tags": []
   },
   "outputs": [],
   "source": [
    "from pathlib import Path\n",
    "from urllib.error import HTTPError, URLError\n",
    "from datetime import datetime, timedelta\n",
    "import gdelt\n",
    "import pandas as pd\n",
    "import os\n",
    "import sys\n",
    "import warnings\n",
    "\n",
    "# import numpy as np\n",
    "# import altair as alt\n",
    "# from altair import datum\n",
    "# alt.data_transformers.disable_max_rows()\n",
    "# alt.themes.enable('fivethirtyeight')\n",
    "\n",
    "warnings.filterwarnings('ignore')"
   ]
  },
  {
   "cell_type": "code",
   "execution_count": 4,
   "id": "7d6219cc",
   "metadata": {
    "execution": {
     "iopub.execute_input": "2022-03-21T16:58:48.365592Z",
     "iopub.status.busy": "2022-03-21T16:58:48.365348Z",
     "iopub.status.idle": "2022-03-21T16:58:48.369472Z",
     "shell.execute_reply": "2022-03-21T16:58:48.368855Z"
    },
    "papermill": {
     "duration": 0.014817,
     "end_time": "2022-03-21T16:58:48.371516",
     "exception": false,
     "start_time": "2022-03-21T16:58:48.356699",
     "status": "completed"
    },
    "tags": []
   },
   "outputs": [
    {
     "name": "stdout",
     "output_type": "stream",
     "text": [
      "/Users/aiujdm2/.local/share/virtualenvs/market_watch-dtlP-L11/bin/python\n",
      "/Users/aiujdm2/.ssh/vgaurav-4d0e95d3663a.json\n"
     ]
    }
   ],
   "source": [
    "print(sys.executable)\n",
    "api_key_file = os.environ['GOOGLE_APPLICATION_CREDENTIALS']\n",
    "print(api_key_file)"
   ]
  },
  {
   "cell_type": "code",
   "execution_count": 5,
   "id": "ef00eac3",
   "metadata": {
    "execution": {
     "iopub.execute_input": "2022-03-21T16:58:48.387507Z",
     "iopub.status.busy": "2022-03-21T16:58:48.387114Z",
     "iopub.status.idle": "2022-03-21T16:58:48.391137Z",
     "shell.execute_reply": "2022-03-21T16:58:48.390633Z"
    },
    "papermill": {
     "duration": 0.013696,
     "end_time": "2022-03-21T16:58:48.392874",
     "exception": false,
     "start_time": "2022-03-21T16:58:48.379178",
     "status": "completed"
    },
    "tags": []
   },
   "outputs": [],
   "source": [
    "def get_start_date(window):\n",
    "    # get today's UTC datetime\n",
    "    today = datetime.utcnow()\n",
    "    # round datetime to nearest 15min slot\n",
    "    pd_ts = pd.Timestamp(today)\n",
    "    today_ts = pd_ts.round('15T')\n",
    "    # how far back we want to go?\n",
    "    how_far_back = timedelta(days=window)\n",
    "    start_date = today_ts - how_far_back\n",
    "\n",
    "    return start_date.strftime(\"%Y%m%d%H%M00\")"
   ]
  },
  {
   "cell_type": "code",
   "execution_count": 6,
   "id": "fc828b5c",
   "metadata": {
    "execution": {
     "iopub.execute_input": "2022-03-21T16:58:48.408301Z",
     "iopub.status.busy": "2022-03-21T16:58:48.408130Z",
     "iopub.status.idle": "2022-03-21T16:58:48.412474Z",
     "shell.execute_reply": "2022-03-21T16:58:48.412014Z"
    },
    "papermill": {
     "duration": 0.013825,
     "end_time": "2022-03-21T16:58:48.414022",
     "exception": false,
     "start_time": "2022-03-21T16:58:48.400197",
     "status": "completed"
    },
    "tags": []
   },
   "outputs": [],
   "source": [
    "col_names = ['GKGRECORDID', 'DATE', 'SourceCollectionIdentifier', 'SourceCommonName',\n",
    "             'DocumentIdentifier', 'Counts', 'V2Counts', 'Themes', 'V2Themes',\n",
    "             'Locations', 'V2Locations', 'Persons', 'V2Persons', 'Organizations',\n",
    "             'V2Organizations', 'V2Tone', 'Dates', 'GCAM', 'SharingImage',\n",
    "             'RelatedImages', 'SocialImageEmbeds', 'SocialVideoEmbeds', 'Quotations',\n",
    "             'AllNames', 'Amounts', 'TranslationInfo', 'Extras']\n",
    "\n",
    "filter_cols = [\n",
    "    'GKGRECORDID',\n",
    "    'DATE',\n",
    "    'SourceCollectionIdentifier',\n",
    "    'SourceCommonName',\n",
    "    'DocumentIdentifier',\n",
    "    'V2Counts',\n",
    "    'V2Themes',\n",
    "    'V2Locations',\n",
    "    'V2Persons',\n",
    "    'V2Organizations',\n",
    "    'V2Tone',\n",
    "    'GCAM',\n",
    "    'SharingImage',\n",
    "    'RelatedImages',\n",
    "    'SocialImageEmbeds',\n",
    "    'SocialVideoEmbeds',\n",
    "    'Quotations',\n",
    "    'AllNames',\n",
    "    'Amounts',\n",
    "    'TranslationInfo',\n",
    "    'Extras'\n",
    "]\n",
    "#  config parameter that tells us rolling window for getting data \n",
    "# i.e. a value of 30 in env.yaml means 30 days rolling window. We will fetch data from today to 30 days back.\n",
    "rolling_window = query_params[\"rolling_window\"]\n",
    "gdelt_gkg_base_url = query_params[\"gdelt_gkg_base_url\"]"
   ]
  },
  {
   "cell_type": "code",
   "execution_count": 7,
   "id": "389d8561",
   "metadata": {
    "execution": {
     "iopub.execute_input": "2022-03-21T16:58:48.426726Z",
     "iopub.status.busy": "2022-03-21T16:58:48.426572Z",
     "iopub.status.idle": "2022-03-21T16:58:48.429015Z",
     "shell.execute_reply": "2022-03-21T16:58:48.428564Z"
    },
    "lines_to_next_cell": 2,
    "papermill": {
     "duration": 0.010505,
     "end_time": "2022-03-21T16:58:48.430493",
     "exception": false,
     "start_time": "2022-03-21T16:58:48.419988",
     "status": "completed"
    },
    "tags": []
   },
   "outputs": [],
   "source": [
    "gd = gdelt.gdelt(version=2)"
   ]
  },
  {
   "cell_type": "code",
   "execution_count": 8,
   "id": "0bafa292",
   "metadata": {
    "execution": {
     "iopub.execute_input": "2022-03-21T16:58:48.443532Z",
     "iopub.status.busy": "2022-03-21T16:58:48.443385Z",
     "iopub.status.idle": "2022-03-21T16:58:48.448786Z",
     "shell.execute_reply": "2022-03-21T16:58:48.448308Z"
    },
    "papermill": {
     "duration": 0.013821,
     "end_time": "2022-03-21T16:58:48.450445",
     "exception": false,
     "start_time": "2022-03-21T16:58:48.436624",
     "status": "completed"
    },
    "tags": []
   },
   "outputs": [],
   "source": [
    "\n",
    "\n",
    "def datetime_range(start, end, delta):\n",
    "    current = start\n",
    "    while current < end:\n",
    "        yield current\n",
    "        current += delta\n",
    "\n",
    "\n",
    "def get_gkg_file_url(rolling_window, base_url):\n",
    "    today = datetime.utcnow()\n",
    "\n",
    "    pd_ts = pd.Timestamp(today)\n",
    "    today_ts = pd_ts.round('15T')\n",
    "\n",
    "    how_far_back = timedelta(days=rolling_window)\n",
    "    start_date = today_ts - how_far_back\n",
    "    for dt in datetime_range(start_date, today_ts, timedelta(minutes=15)):\n",
    "        yield base_url + f'{dt.strftime(\"%Y%m%d%H%M00\")}.gkg.csv.zip'"
   ]
  },
  {
   "cell_type": "code",
   "execution_count": 9,
   "id": "c60f9551",
   "metadata": {
    "execution": {
     "iopub.execute_input": "2022-03-21T16:58:48.465261Z",
     "iopub.status.busy": "2022-03-21T16:58:48.465092Z",
     "iopub.status.idle": "2022-03-21T16:58:48.470477Z",
     "shell.execute_reply": "2022-03-21T16:58:48.470063Z"
    },
    "papermill": {
     "duration": 0.014479,
     "end_time": "2022-03-21T16:58:48.472082",
     "exception": false,
     "start_time": "2022-03-21T16:58:48.457603",
     "status": "completed"
    },
    "tags": []
   },
   "outputs": [],
   "source": [
    "def read_and_filter_files():\n",
    "    data = []\n",
    "\n",
    "    for url in get_gkg_file_url(rolling_window, base_url=gdelt_gkg_base_url):\n",
    "\n",
    "        file_name = os.path.basename(url).split(\".\")[0]\n",
    "\n",
    "        try:\n",
    "            search_results = pd.read_csv(url, sep='\\t', names=col_names, on_bad_lines='skip', encoding_errors='ignore')\n",
    "        except HTTPError as http_err:\n",
    "            print(f\"Unable to fetch {url}. Encountered {http_err.code}\")\n",
    "            pass\n",
    "        except URLError as url_err:\n",
    "            print(f\"Unable to fetch {url}. Encountered {url_err.code}\")\n",
    "            pass\n",
    "        except:\n",
    "            print(f\"Unable to fetch {url}. Some Generic Error.\")\n",
    "            pass\n",
    "\n",
    "        # Add search date to file name     \n",
    "        file_path = product[\"data\"]\n",
    "\n",
    "        Path(file_path).parent.mkdir(exist_ok=True, parents=True)\n",
    "        # Form a query friendly search terms     \n",
    "        search_terms = \"|\".join(query_params['search_term'])\n",
    "        organizations = search_results['V2Organizations'].str.lower()\n",
    "        filter_cond = organizations.str.contains(search_terms, regex=True, case=False, na=False)\n",
    "        df = search_results[filter_cond]\n",
    "\n",
    "        if len(df) > 0:\n",
    "            data.append(df[filter_cols])\n",
    "\n",
    "    data_df = pd.concat(data)\n",
    "    data_df.to_csv(file_path)\n",
    "    print(f\"Processed merged file with {len(data_df)} records\")"
   ]
  },
  {
   "cell_type": "code",
   "execution_count": 10,
   "id": "627c7c1f",
   "metadata": {
    "execution": {
     "iopub.execute_input": "2022-03-21T16:58:48.485733Z",
     "iopub.status.busy": "2022-03-21T16:58:48.485557Z",
     "iopub.status.idle": "2022-03-21T16:59:47.754301Z",
     "shell.execute_reply": "2022-03-21T16:59:47.753405Z"
    },
    "papermill": {
     "duration": 59.286579,
     "end_time": "2022-03-21T16:59:47.765087",
     "exception": false,
     "start_time": "2022-03-21T16:58:48.478508",
     "status": "completed"
    },
    "tags": []
   },
   "outputs": [
    {
     "name": "stdout",
     "output_type": "stream",
     "text": [
      "Processed merged file with 66689 records\n"
     ]
    }
   ],
   "source": [
    "read_and_filter_files()"
   ]
  }
 ],
 "metadata": {
  "jupytext": {
   "cell_metadata_filter": "tags,-all",
   "main_language": "python",
   "notebook_metadata_filter": "-all",
   "text_representation": {
    "extension": ".py",
    "format_name": "light"
   }
  },
  "kernelspec": {
   "display_name": "Python 3 (ipykernel)",
   "language": "python",
   "name": "python3"
  },
  "papermill": {
   "duration": null,
   "end_time": null,
   "exception": null,
   "input_path": "/var/folders/b0/4tc1nfbd6z7_vhx4nxcj2n91c0l9h6/T/tmpa24b_fsq.ipynb",
   "output_path": "/Users/aiujdm2/market_watch/output/notebooks/fetch_n_filter_gdelt_data.ipynb",
   "parameters": {
    "product": {
     "data": "/Users/aiujdm2/market_watch/output/data/raw/gdelt-gkg-data.csv",
     "nb": "/Users/aiujdm2/market_watch/output/notebooks/fetch_n_filter_gdelt_data.ipynb"
    },
    "query_params": {
     "gdelt_gkg_base_url": "http://data.gdeltproject.org/gdeltv2/",
     "rolling_window": 1,
     "search_term": "tesla"
    }
   },
   "start_time": "2022-03-21T16:58:46.952626"
  }
 },
 "nbformat": 4,
 "nbformat_minor": 5
}