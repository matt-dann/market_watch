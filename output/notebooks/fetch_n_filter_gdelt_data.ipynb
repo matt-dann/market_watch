{
 "cells": [
  {
   "cell_type": "code",
   "execution_count": 1,
   "id": "20a95f15",
   "metadata": {
    "execution": {
     "iopub.execute_input": "2022-03-23T16:47:38.600485Z",
     "iopub.status.busy": "2022-03-23T16:47:38.600190Z",
     "iopub.status.idle": "2022-03-23T16:47:38.607650Z",
     "shell.execute_reply": "2022-03-23T16:47:38.607088Z"
    },
    "papermill": {
     "duration": 0.021173,
     "end_time": "2022-03-23T16:47:38.609984",
     "exception": false,
     "start_time": "2022-03-23T16:47:38.588811",
     "status": "completed"
    },
    "tags": [
     "parameters"
    ]
   },
   "outputs": [],
   "source": [
    "# declare a list tasks whose products you want to use as inputs\n",
    "upstream = None"
   ]
  },
  {
   "cell_type": "code",
   "execution_count": 2,
   "id": "8328392a",
   "metadata": {
    "execution": {
     "iopub.execute_input": "2022-03-23T16:47:38.626328Z",
     "iopub.status.busy": "2022-03-23T16:47:38.626114Z",
     "iopub.status.idle": "2022-03-23T16:47:38.629427Z",
     "shell.execute_reply": "2022-03-23T16:47:38.628935Z"
    },
    "papermill": {
     "duration": 0.013283,
     "end_time": "2022-03-23T16:47:38.631247",
     "exception": false,
     "start_time": "2022-03-23T16:47:38.617964",
     "status": "completed"
    },
    "tags": [
     "injected-parameters"
    ]
   },
   "outputs": [],
   "source": [
    "# Parameters\n",
    "query_params = {\n",
    "    \"rolling_window\": 1,\n",
    "    \"search_term\": \"tesla\",\n",
    "    \"gdelt_gkg_base_url\": \"http://data.gdeltproject.org/gdeltv2/\",\n",
    "}\n",
    "product = {\n",
    "    \"nb\": \"/Users/aiujdm2/market_watch/output/notebooks/fetch_n_filter_gdelt_data.ipynb\",\n",
    "    \"data\": \"/Users/aiujdm2/market_watch/output/data/raw/gdelt-gkg-data.csv\",\n",
    "}\n"
   ]
  },
  {
   "cell_type": "code",
   "execution_count": 3,
   "id": "8ae937a5",
   "metadata": {
    "execution": {
     "iopub.execute_input": "2022-03-23T16:47:38.645344Z",
     "iopub.status.busy": "2022-03-23T16:47:38.645142Z",
     "iopub.status.idle": "2022-03-23T16:47:39.128885Z",
     "shell.execute_reply": "2022-03-23T16:47:39.128005Z"
    },
    "papermill": {
     "duration": 0.493507,
     "end_time": "2022-03-23T16:47:39.131378",
     "exception": false,
     "start_time": "2022-03-23T16:47:38.637871",
     "status": "completed"
    },
    "tags": []
   },
   "outputs": [],
   "source": [
    "from pathlib import Path\n",
    "from urllib.error import HTTPError, URLError\n",
    "from datetime import timedelta, datetime\n",
    "import gdelt\n",
    "import pandas as pd\n",
    "import os\n",
    "import sys\n",
    "import warnings\n",
    "from src import utils\n",
    "from dotenv import load_dotenv, find_dotenv\n",
    "\n",
    "# import numpy as np\n",
    "# import altair as alt\n",
    "# from altair import datum\n",
    "# alt.data_transformers.disable_max_rows()\n",
    "# alt.themes.enable('fivethirtyeight')\n",
    "\n",
    "warnings.filterwarnings('ignore')"
   ]
  },
  {
   "cell_type": "code",
   "execution_count": 4,
   "id": "cacc8d54",
   "metadata": {
    "execution": {
     "iopub.execute_input": "2022-03-23T16:47:39.148380Z",
     "iopub.status.busy": "2022-03-23T16:47:39.148116Z",
     "iopub.status.idle": "2022-03-23T16:47:39.160435Z",
     "shell.execute_reply": "2022-03-23T16:47:39.159829Z"
    },
    "papermill": {
     "duration": 0.022912,
     "end_time": "2022-03-23T16:47:39.162300",
     "exception": false,
     "start_time": "2022-03-23T16:47:39.139388",
     "status": "completed"
    },
    "tags": []
   },
   "outputs": [
    {
     "data": {
      "text/plain": [
       "True"
      ]
     },
     "execution_count": 4,
     "metadata": {},
     "output_type": "execute_result"
    }
   ],
   "source": [
    "load_dotenv(find_dotenv('market_watch.env'))"
   ]
  },
  {
   "cell_type": "code",
   "execution_count": 5,
   "id": "e1f05b27",
   "metadata": {
    "execution": {
     "iopub.execute_input": "2022-03-23T16:47:39.178422Z",
     "iopub.status.busy": "2022-03-23T16:47:39.178207Z",
     "iopub.status.idle": "2022-03-23T16:47:39.181803Z",
     "shell.execute_reply": "2022-03-23T16:47:39.181200Z"
    },
    "papermill": {
     "duration": 0.013267,
     "end_time": "2022-03-23T16:47:39.183518",
     "exception": false,
     "start_time": "2022-03-23T16:47:39.170251",
     "status": "completed"
    },
    "tags": []
   },
   "outputs": [
    {
     "name": "stdout",
     "output_type": "stream",
     "text": [
      "/Users/aiujdm2/.local/share/virtualenvs/market_watch-dtlP-L11/bin/python\n",
      "/Users/aiujdm2/.ssh/vgaurav-4d0e95d3663a.json\n"
     ]
    }
   ],
   "source": [
    "print(sys.executable)\n",
    "api_key_file = os.environ['GOOGLE_APPLICATION_CREDENTIALS']\n",
    "print(api_key_file)"
   ]
  },
  {
   "cell_type": "code",
   "execution_count": 6,
   "id": "da43a6c3",
   "metadata": {
    "execution": {
     "iopub.execute_input": "2022-03-23T16:47:39.198391Z",
     "iopub.status.busy": "2022-03-23T16:47:39.198241Z",
     "iopub.status.idle": "2022-03-23T16:47:39.202387Z",
     "shell.execute_reply": "2022-03-23T16:47:39.201815Z"
    },
    "papermill": {
     "duration": 0.013095,
     "end_time": "2022-03-23T16:47:39.203917",
     "exception": false,
     "start_time": "2022-03-23T16:47:39.190822",
     "status": "completed"
    },
    "tags": []
   },
   "outputs": [],
   "source": [
    "col_names = ['GKGRECORDID', 'DATE', 'SourceCollectionIdentifier', 'SourceCommonName',\n",
    "             'DocumentIdentifier', 'Counts', 'V2Counts', 'Themes', 'V2Themes',\n",
    "             'Locations', 'V2Locations', 'Persons', 'V2Persons', 'Organizations',\n",
    "             'V2Organizations', 'V2Tone', 'Dates', 'GCAM', 'SharingImage',\n",
    "             'RelatedImages', 'SocialImageEmbeds', 'SocialVideoEmbeds', 'Quotations',\n",
    "             'AllNames', 'Amounts', 'TranslationInfo', 'Extras']\n",
    "\n",
    "filter_cols = [\n",
    "    'GKGRECORDID',\n",
    "    'DATE',\n",
    "    'SourceCollectionIdentifier',\n",
    "    'SourceCommonName',\n",
    "    'DocumentIdentifier',\n",
    "    'V2Counts',\n",
    "    'V2Themes',\n",
    "    'V2Locations',\n",
    "    'V2Persons',\n",
    "    'V2Organizations',\n",
    "    'V2Tone',\n",
    "    'GCAM',\n",
    "    'SharingImage',\n",
    "    'RelatedImages',\n",
    "    'SocialImageEmbeds',\n",
    "    'SocialVideoEmbeds',\n",
    "    'Quotations',\n",
    "    'AllNames',\n",
    "    'Amounts',\n",
    "    'TranslationInfo',\n",
    "    'Extras'\n",
    "]\n",
    "#  config parameter that tells us rolling window for getting data \n",
    "# i.e. a value of 30 in env.yaml means 30 days rolling window. We will fetch data from today to 30 days back.\n",
    "rolling_window = query_params[\"rolling_window\"]\n",
    "gdelt_gkg_base_url = query_params[\"gdelt_gkg_base_url\"]"
   ]
  },
  {
   "cell_type": "code",
   "execution_count": 7,
   "id": "892c8b41",
   "metadata": {
    "execution": {
     "iopub.execute_input": "2022-03-23T16:47:39.217205Z",
     "iopub.status.busy": "2022-03-23T16:47:39.217050Z",
     "iopub.status.idle": "2022-03-23T16:47:39.219386Z",
     "shell.execute_reply": "2022-03-23T16:47:39.218973Z"
    },
    "papermill": {
     "duration": 0.010867,
     "end_time": "2022-03-23T16:47:39.220998",
     "exception": false,
     "start_time": "2022-03-23T16:47:39.210131",
     "status": "completed"
    },
    "tags": []
   },
   "outputs": [],
   "source": [
    "gd = gdelt.gdelt(version=2)"
   ]
  },
  {
   "cell_type": "code",
   "execution_count": 8,
   "id": "ccc4effe",
   "metadata": {
    "execution": {
     "iopub.execute_input": "2022-03-23T16:47:39.234378Z",
     "iopub.status.busy": "2022-03-23T16:47:39.234227Z",
     "iopub.status.idle": "2022-03-23T16:47:39.237630Z",
     "shell.execute_reply": "2022-03-23T16:47:39.236924Z"
    },
    "papermill": {
     "duration": 0.011789,
     "end_time": "2022-03-23T16:47:39.239041",
     "exception": false,
     "start_time": "2022-03-23T16:47:39.227252",
     "status": "completed"
    },
    "tags": []
   },
   "outputs": [],
   "source": [
    "def get_gkg_file_url(rolling_window, base_url):\n",
    "    \n",
    "    start_date = utils.get_start_date(rolling_window)\n",
    "    today_ts = datetime.utcnow()\n",
    "    for dt in utils.datetime_range(start_date, today_ts, timedelta(minutes=15)):\n",
    "        yield base_url + f'{dt.strftime(\"%Y%m%d%H%M00\")}.gkg.csv.zip'"
   ]
  },
  {
   "cell_type": "code",
   "execution_count": 9,
   "id": "c5fea2bc",
   "metadata": {
    "execution": {
     "iopub.execute_input": "2022-03-23T16:47:39.253072Z",
     "iopub.status.busy": "2022-03-23T16:47:39.252917Z",
     "iopub.status.idle": "2022-03-23T16:47:39.258628Z",
     "shell.execute_reply": "2022-03-23T16:47:39.258184Z"
    },
    "papermill": {
     "duration": 0.014319,
     "end_time": "2022-03-23T16:47:39.260275",
     "exception": false,
     "start_time": "2022-03-23T16:47:39.245956",
     "status": "completed"
    },
    "tags": []
   },
   "outputs": [],
   "source": [
    "def read_and_filter_files():\n",
    "    data = []\n",
    "\n",
    "    for url in get_gkg_file_url(rolling_window, base_url=gdelt_gkg_base_url):\n",
    "\n",
    "        file_name = os.path.basename(url).split(\".\")[0]\n",
    "\n",
    "        try:\n",
    "            search_results = pd.read_csv(url, sep='\\t', names=col_names, on_bad_lines='skip', encoding_errors='ignore')\n",
    "        except HTTPError as http_err:\n",
    "            print(f\"Unable to fetch {url}. Encountered {http_err.code}\")\n",
    "            pass\n",
    "        except URLError as url_err:\n",
    "            print(f\"Unable to fetch {url}. Encountered {url_err.code}\")\n",
    "            pass\n",
    "        except:\n",
    "            print(f\"Unable to fetch {url}. Some Generic Error.\")\n",
    "            pass\n",
    "\n",
    "        # Add search date to file name     \n",
    "        file_path = product[\"data\"]\n",
    "\n",
    "        Path(file_path).parent.mkdir(exist_ok=True, parents=True)\n",
    "        # Form a query friendly search terms     \n",
    "        search_terms = \"|\".join(query_params['search_term'])\n",
    "        organizations = search_results['V2Organizations'].str.lower()\n",
    "        filter_cond = organizations.str.contains(search_terms, regex=True, case=False, na=False)\n",
    "        df = search_results[filter_cond]\n",
    "\n",
    "        if len(df) > 0:\n",
    "            data.append(df[filter_cols])\n",
    "\n",
    "    data_df = pd.concat(data)\n",
    "    data_df.to_csv(file_path)\n",
    "    print(f\"Processed merged file with {len(data_df)} records\")"
   ]
  },
  {
   "cell_type": "code",
   "execution_count": 10,
   "id": "ef083575",
   "metadata": {
    "execution": {
     "iopub.execute_input": "2022-03-23T16:47:39.274254Z",
     "iopub.status.busy": "2022-03-23T16:47:39.274096Z",
     "iopub.status.idle": "2022-03-23T16:48:54.021324Z",
     "shell.execute_reply": "2022-03-23T16:48:54.020716Z"
    },
    "papermill": {
     "duration": 74.765069,
     "end_time": "2022-03-23T16:48:54.032005",
     "exception": false,
     "start_time": "2022-03-23T16:47:39.266936",
     "status": "completed"
    },
    "tags": []
   },
   "outputs": [
    {
     "name": "stdout",
     "output_type": "stream",
     "text": [
      "Processed merged file with 100707 records\n"
     ]
    }
   ],
   "source": [
    "read_and_filter_files()"
   ]
  }
 ],
 "metadata": {
  "jupytext": {
   "cell_metadata_filter": "tags,-all",
   "main_language": "python",
   "notebook_metadata_filter": "-all",
   "text_representation": {
    "extension": ".py",
    "format_name": "light"
   }
  },
  "kernelspec": {
   "display_name": "Python 3 (ipykernel)",
   "language": "python",
   "name": "python3"
  },
  "language_info": {
   "codemirror_mode": {
    "name": "ipython",
    "version": 3
   },
   "file_extension": ".py",
   "mimetype": "text/x-python",
   "name": "python",
   "nbconvert_exporter": "python",
   "pygments_lexer": "ipython3",
   "version": "3.9.10"
  },
  "papermill": {
   "duration": 78.991694,
   "end_time": "2022-03-23T16:48:56.662509",
   "exception": null,
   "input_path": "/var/folders/b0/4tc1nfbd6z7_vhx4nxcj2n91c0l9h6/T/tmpg5w6odiq.ipynb",
   "output_path": "/Users/aiujdm2/market_watch/output/notebooks/fetch_n_filter_gdelt_data.ipynb",
   "parameters": {
    "product": {
     "data": "/Users/aiujdm2/market_watch/output/data/raw/gdelt-gkg-data.csv",
     "nb": "/Users/aiujdm2/market_watch/output/notebooks/fetch_n_filter_gdelt_data.ipynb"
    },
    "query_params": {
     "gdelt_gkg_base_url": "http://data.gdeltproject.org/gdeltv2/",
     "rolling_window": 1,
     "search_term": "tesla"
    }
   },
   "start_time": "2022-03-23T16:47:37.670815"
  }
 },
 "nbformat": 4,
 "nbformat_minor": 5
}