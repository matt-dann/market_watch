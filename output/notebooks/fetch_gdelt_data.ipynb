{
 "cells": [
  {
   "cell_type": "code",
   "execution_count": 1,
   "id": "d06e6c2f",
   "metadata": {
    "execution": {
     "iopub.execute_input": "2022-03-21T02:29:40.310698Z",
     "iopub.status.busy": "2022-03-21T02:29:40.310406Z",
     "iopub.status.idle": "2022-03-21T02:29:40.318278Z",
     "shell.execute_reply": "2022-03-21T02:29:40.317532Z"
    },
    "lines_to_next_cell": 2,
    "papermill": {
     "duration": 0.019723,
     "end_time": "2022-03-21T02:29:40.320531",
     "exception": false,
     "start_time": "2022-03-21T02:29:40.300808",
     "status": "completed"
    },
    "tags": [
     "parameters"
    ]
   },
   "outputs": [],
   "source": [
    "# declare a list tasks whose products you want to use as inputs\n",
    "upstream = None"
   ]
  },
  {
   "cell_type": "code",
   "execution_count": 2,
   "id": "1e0aab8d",
   "metadata": {
    "execution": {
     "iopub.execute_input": "2022-03-21T02:29:40.334489Z",
     "iopub.status.busy": "2022-03-21T02:29:40.334261Z",
     "iopub.status.idle": "2022-03-21T02:29:40.337971Z",
     "shell.execute_reply": "2022-03-21T02:29:40.337406Z"
    },
    "papermill": {
     "duration": 0.012403,
     "end_time": "2022-03-21T02:29:40.339829",
     "exception": false,
     "start_time": "2022-03-21T02:29:40.327426",
     "status": "completed"
    },
    "tags": [
     "injected-parameters"
    ]
   },
   "outputs": [],
   "source": [
    "# Parameters\n",
    "query_params = {\n",
    "    \"rolling_window\": 90,\n",
    "    \"search_terms\": [\"Tesla\", \"Tesla Inc\", \"Tesla Motors\"],\n",
    "}\n",
    "product = {\n",
    "    \"nb\": \"/Users/aiujdm2/market_watch/output/notebooks/fetch_gdelt_data.ipynb\",\n",
    "    \"data\": \"/Users/aiujdm2/market_watch/output/data/raw\",\n",
    "}\n"
   ]
  },
  {
   "cell_type": "code",
   "execution_count": 3,
   "id": "d748a1f3",
   "metadata": {
    "execution": {
     "iopub.execute_input": "2022-03-21T02:29:40.353162Z",
     "iopub.status.busy": "2022-03-21T02:29:40.352937Z",
     "iopub.status.idle": "2022-03-21T02:29:40.813953Z",
     "shell.execute_reply": "2022-03-21T02:29:40.812858Z"
    },
    "papermill": {
     "duration": 0.470463,
     "end_time": "2022-03-21T02:29:40.816501",
     "exception": false,
     "start_time": "2022-03-21T02:29:40.346038",
     "status": "completed"
    },
    "tags": []
   },
   "outputs": [],
   "source": [
    "import datetime\n",
    "from pathlib import Path\n",
    "import gdelt\n",
    "import pandas as pd\n",
    "\n",
    "import sys\n",
    "\n",
    "import warnings\n",
    "warnings.filterwarnings('ignore')"
   ]
  },
  {
   "cell_type": "code",
   "execution_count": 4,
   "id": "5b037691",
   "metadata": {
    "execution": {
     "iopub.execute_input": "2022-03-21T02:29:40.831028Z",
     "iopub.status.busy": "2022-03-21T02:29:40.830782Z",
     "iopub.status.idle": "2022-03-21T02:29:40.834841Z",
     "shell.execute_reply": "2022-03-21T02:29:40.834251Z"
    },
    "papermill": {
     "duration": 0.013543,
     "end_time": "2022-03-21T02:29:40.836988",
     "exception": false,
     "start_time": "2022-03-21T02:29:40.823445",
     "status": "completed"
    },
    "tags": []
   },
   "outputs": [
    {
     "name": "stdout",
     "output_type": "stream",
     "text": [
      "/Users/aiujdm2/.local/share/virtualenvs/market_watch-dtlP-L11/bin/python\n"
     ]
    }
   ],
   "source": [
    "print(sys.executable)"
   ]
  },
  {
   "cell_type": "code",
   "execution_count": 5,
   "id": "b01ce5f6",
   "metadata": {
    "execution": {
     "iopub.execute_input": "2022-03-21T02:29:40.851783Z",
     "iopub.status.busy": "2022-03-21T02:29:40.851550Z",
     "iopub.status.idle": "2022-03-21T02:29:40.854874Z",
     "shell.execute_reply": "2022-03-21T02:29:40.854033Z"
    },
    "papermill": {
     "duration": 0.012819,
     "end_time": "2022-03-21T02:29:40.856819",
     "exception": false,
     "start_time": "2022-03-21T02:29:40.844000",
     "status": "completed"
    },
    "tags": []
   },
   "outputs": [],
   "source": [
    "gd = gdelt.gdelt(version=2)"
   ]
  },
  {
   "cell_type": "code",
   "execution_count": 6,
   "id": "88cd6d0f",
   "metadata": {
    "execution": {
     "iopub.execute_input": "2022-03-21T02:29:40.870480Z",
     "iopub.status.busy": "2022-03-21T02:29:40.870260Z",
     "iopub.status.idle": "2022-03-21T02:29:40.873898Z",
     "shell.execute_reply": "2022-03-21T02:29:40.873366Z"
    },
    "papermill": {
     "duration": 0.012336,
     "end_time": "2022-03-21T02:29:40.875543",
     "exception": false,
     "start_time": "2022-03-21T02:29:40.863207",
     "status": "completed"
    },
    "tags": []
   },
   "outputs": [],
   "source": [
    "filter_cols = [\n",
    "    'GKGRECORDID',\n",
    "    'DATE',\n",
    "    'SourceCollectionIdentifier',\n",
    "    'SourceCommonName',\n",
    "    'DocumentIdentifier',\n",
    "    'V2Counts',\n",
    "    'V2Themes',\n",
    "    'V2Locations',\n",
    "    'V2Persons', \n",
    "    'V2Organizations',\n",
    "    'V2Tone',\n",
    "    'GCAM',\n",
    "    'SharingImage',\n",
    "    'RelatedImages',\n",
    "    'SocialImageEmbeds',\n",
    "    'SocialVideoEmbeds',\n",
    "    'Quotations',\n",
    "    'AllNames',\n",
    "    'Amounts',\n",
    "    'TranslationInfo',\n",
    "    'Extras'\n",
    "]"
   ]
  },
  {
   "cell_type": "code",
   "execution_count": 7,
   "id": "05729f3d",
   "metadata": {
    "execution": {
     "iopub.execute_input": "2022-03-21T02:29:40.892171Z",
     "iopub.status.busy": "2022-03-21T02:29:40.891933Z",
     "iopub.status.idle": "2022-03-21T02:30:41.561232Z",
     "shell.execute_reply": "2022-03-21T02:30:41.560802Z"
    },
    "papermill": {
     "duration": 60.705235,
     "end_time": "2022-03-21T02:30:41.587646",
     "exception": false,
     "start_time": "2022-03-21T02:29:40.882411",
     "status": "completed"
    },
    "tags": []
   },
   "outputs": [
    {
     "name": "stdout",
     "output_type": "stream",
     "text": [
      "Searching for 2022-03-20\n"
     ]
    },
    {
     "name": "stdout",
     "output_type": "stream",
     "text": [
      "=> Returned 898 records\n",
      "==> Found 2 matchign records for Tesla|Tesla Inc|Tesla Motors on 2022-03-20\n",
      "Searching for 2022-03-19\n"
     ]
    },
    {
     "name": "stdout",
     "output_type": "stream",
     "text": [
      "=> Returned 660 records\n",
      "Searching for 2022-03-18\n"
     ]
    },
    {
     "name": "stdout",
     "output_type": "stream",
     "text": [
      "=> Returned 1308 records\n",
      "Searching for 2022-03-17\n"
     ]
    },
    {
     "name": "stdout",
     "output_type": "stream",
     "text": [
      "=> Returned 1460 records\n",
      "Searching for 2022-03-16\n"
     ]
    },
    {
     "name": "stdout",
     "output_type": "stream",
     "text": [
      "=> Returned 1451 records\n",
      "==> Found 1 matchign records for Tesla|Tesla Inc|Tesla Motors on 2022-03-16\n",
      "Searching for 2022-03-15\n"
     ]
    },
    {
     "name": "stdout",
     "output_type": "stream",
     "text": [
      "Searching for 2022-03-14\n"
     ]
    },
    {
     "name": "stdout",
     "output_type": "stream",
     "text": [
      "=> Returned 1575 records\n",
      "Searching for 2022-03-13\n"
     ]
    },
    {
     "name": "stdout",
     "output_type": "stream",
     "text": [
      "=> Returned 755 records\n",
      "Searching for 2022-03-12\n"
     ]
    },
    {
     "name": "stdout",
     "output_type": "stream",
     "text": [
      "=> Returned 758 records\n",
      "Searching for 2022-03-11\n"
     ]
    },
    {
     "name": "stdout",
     "output_type": "stream",
     "text": [
      "=> Returned 1479 records\n",
      "Searching for 2022-03-10\n"
     ]
    },
    {
     "name": "stdout",
     "output_type": "stream",
     "text": [
      "=> Returned 1597 records\n",
      "==> Found 2 matchign records for Tesla|Tesla Inc|Tesla Motors on 2022-03-10\n",
      "Searching for 2022-03-09\n"
     ]
    },
    {
     "name": "stdout",
     "output_type": "stream",
     "text": [
      "=> Returned 1597 records\n",
      "Searching for 2022-03-08\n"
     ]
    },
    {
     "name": "stdout",
     "output_type": "stream",
     "text": [
      "=> Returned 1402 records\n",
      "Searching for 2022-03-07\n"
     ]
    },
    {
     "name": "stdout",
     "output_type": "stream",
     "text": [
      "=> Returned 1438 records\n",
      "Searching for 2022-03-06\n"
     ]
    },
    {
     "name": "stdout",
     "output_type": "stream",
     "text": [
      "=> Returned 752 records\n",
      "Searching for 2022-03-05\n"
     ]
    },
    {
     "name": "stdout",
     "output_type": "stream",
     "text": [
      "=> Returned 673 records\n",
      "Searching for 2022-03-04\n"
     ]
    },
    {
     "name": "stdout",
     "output_type": "stream",
     "text": [
      "Searching for 2022-03-03\n"
     ]
    },
    {
     "name": "stdout",
     "output_type": "stream",
     "text": [
      "=> Returned 1672 records\n",
      "==> Found 1 matchign records for Tesla|Tesla Inc|Tesla Motors on 2022-03-03\n",
      "Searching for 2022-03-02\n"
     ]
    },
    {
     "name": "stdout",
     "output_type": "stream",
     "text": [
      "Searching for 2022-03-01\n"
     ]
    },
    {
     "name": "stdout",
     "output_type": "stream",
     "text": [
      "=> Returned 1683 records\n",
      "Searching for 2022-02-28\n"
     ]
    },
    {
     "name": "stdout",
     "output_type": "stream",
     "text": [
      "=> Returned 1598 records\n",
      "==> Found 1 matchign records for Tesla|Tesla Inc|Tesla Motors on 2022-02-28\n",
      "Searching for 2022-02-27\n"
     ]
    },
    {
     "name": "stdout",
     "output_type": "stream",
     "text": [
      "Searching for 2022-02-26\n"
     ]
    },
    {
     "name": "stdout",
     "output_type": "stream",
     "text": [
      "Searching for 2022-02-25\n"
     ]
    },
    {
     "name": "stdout",
     "output_type": "stream",
     "text": [
      "=> Returned 1390 records\n",
      "==> Found 1 matchign records for Tesla|Tesla Inc|Tesla Motors on 2022-02-25\n",
      "Searching for 2022-02-24\n"
     ]
    },
    {
     "name": "stdout",
     "output_type": "stream",
     "text": [
      "=> Returned 1641 records\n",
      "==> Found 1 matchign records for Tesla|Tesla Inc|Tesla Motors on 2022-02-24\n",
      "Searching for 2022-02-23\n"
     ]
    },
    {
     "name": "stdout",
     "output_type": "stream",
     "text": [
      "Searching for 2022-02-22\n"
     ]
    },
    {
     "name": "stdout",
     "output_type": "stream",
     "text": [
      "Searching for 2022-02-21\n"
     ]
    },
    {
     "name": "stdout",
     "output_type": "stream",
     "text": [
      "Searching for 2022-02-20\n"
     ]
    },
    {
     "name": "stdout",
     "output_type": "stream",
     "text": [
      "=> Returned 650 records\n",
      "Searching for 2022-02-19\n"
     ]
    },
    {
     "name": "stdout",
     "output_type": "stream",
     "text": [
      "=> Returned 586 records\n",
      "==> Found 1 matchign records for Tesla|Tesla Inc|Tesla Motors on 2022-02-19\n",
      "Searching for 2022-02-18\n"
     ]
    },
    {
     "name": "stdout",
     "output_type": "stream",
     "text": [
      "=> Returned 1473 records\n",
      "==> Found 1 matchign records for Tesla|Tesla Inc|Tesla Motors on 2022-02-18\n",
      "Searching for 2022-02-17\n"
     ]
    },
    {
     "name": "stdout",
     "output_type": "stream",
     "text": [
      "Searching for 2022-02-16\n"
     ]
    },
    {
     "name": "stdout",
     "output_type": "stream",
     "text": [
      "=> Returned 1672 records\n",
      "Searching for 2022-02-15\n"
     ]
    },
    {
     "name": "stdout",
     "output_type": "stream",
     "text": [
      "=> Returned 1761 records\n",
      "Searching for 2022-02-14\n"
     ]
    },
    {
     "name": "stdout",
     "output_type": "stream",
     "text": [
      "=> Returned 1600 records\n",
      "Searching for 2022-02-13\n"
     ]
    },
    {
     "name": "stdout",
     "output_type": "stream",
     "text": [
      "=> Returned 702 records\n",
      "Searching for 2022-02-12\n"
     ]
    },
    {
     "name": "stdout",
     "output_type": "stream",
     "text": [
      "Searching for 2022-02-11\n"
     ]
    },
    {
     "name": "stdout",
     "output_type": "stream",
     "text": [
      "=> Returned 1329 records\n",
      "Searching for 2022-02-10\n"
     ]
    },
    {
     "name": "stdout",
     "output_type": "stream",
     "text": [
      "=> Returned 1666 records\n",
      "==> Found 4 matchign records for Tesla|Tesla Inc|Tesla Motors on 2022-02-10\n",
      "Searching for 2022-02-09\n"
     ]
    },
    {
     "name": "stdout",
     "output_type": "stream",
     "text": [
      "=> Returned 1946 records\n",
      "Searching for 2022-02-08\n"
     ]
    },
    {
     "name": "stdout",
     "output_type": "stream",
     "text": [
      "=> Returned 1674 records\n",
      "Searching for 2022-02-07\n"
     ]
    },
    {
     "name": "stdout",
     "output_type": "stream",
     "text": [
      "=> Returned 1434 records\n",
      "==> Found 2 matchign records for Tesla|Tesla Inc|Tesla Motors on 2022-02-07\n",
      "Searching for 2022-02-06\n"
     ]
    },
    {
     "name": "stdout",
     "output_type": "stream",
     "text": [
      "=> Returned 704 records\n",
      "Searching for 2022-02-05\n"
     ]
    },
    {
     "name": "stdout",
     "output_type": "stream",
     "text": [
      "=> Returned 602 records\n",
      "Searching for 2022-02-04\n"
     ]
    },
    {
     "name": "stdout",
     "output_type": "stream",
     "text": [
      "Searching for 2022-02-03\n"
     ]
    },
    {
     "name": "stdout",
     "output_type": "stream",
     "text": [
      "=> Returned 1847 records\n",
      "==> Found 2 matchign records for Tesla|Tesla Inc|Tesla Motors on 2022-02-03\n",
      "Searching for 2022-02-02\n"
     ]
    },
    {
     "name": "stdout",
     "output_type": "stream",
     "text": [
      "Searching for 2022-02-01\n"
     ]
    },
    {
     "name": "stdout",
     "output_type": "stream",
     "text": [
      "=> Returned 1686 records\n",
      "Searching for 2022-01-31\n"
     ]
    },
    {
     "name": "stdout",
     "output_type": "stream",
     "text": [
      "=> Returned 1864 records\n",
      "==> Found 1 matchign records for Tesla|Tesla Inc|Tesla Motors on 2022-01-31\n",
      "Searching for 2022-01-30\n"
     ]
    },
    {
     "name": "stdout",
     "output_type": "stream",
     "text": [
      "=> Returned 787 records\n",
      "Searching for 2022-01-29\n"
     ]
    },
    {
     "name": "stdout",
     "output_type": "stream",
     "text": [
      "=> Returned 730 records\n",
      "Searching for 2022-01-28\n"
     ]
    },
    {
     "name": "stdout",
     "output_type": "stream",
     "text": [
      "=> Returned 1502 records\n",
      "Searching for 2022-01-27\n"
     ]
    },
    {
     "name": "stdout",
     "output_type": "stream",
     "text": [
      "Searching for 2022-01-26\n"
     ]
    },
    {
     "name": "stdout",
     "output_type": "stream",
     "text": [
      "=> Returned 1945 records\n",
      "==> Found 1 matchign records for Tesla|Tesla Inc|Tesla Motors on 2022-01-26\n",
      "Searching for 2022-01-25\n"
     ]
    },
    {
     "name": "stdout",
     "output_type": "stream",
     "text": [
      "Searching for 2022-01-24\n"
     ]
    },
    {
     "name": "stdout",
     "output_type": "stream",
     "text": [
      "=> Returned 1673 records\n",
      "Searching for 2022-01-23\n"
     ]
    },
    {
     "name": "stdout",
     "output_type": "stream",
     "text": [
      "=> Returned 705 records\n",
      "Searching for 2022-01-22\n"
     ]
    },
    {
     "name": "stdout",
     "output_type": "stream",
     "text": [
      "Searching for 2022-01-21\n"
     ]
    },
    {
     "name": "stdout",
     "output_type": "stream",
     "text": [
      "Searching for 2022-01-20\n"
     ]
    },
    {
     "name": "stdout",
     "output_type": "stream",
     "text": [
      "=> Returned 1729 records\n",
      "Searching for 2022-01-19\n"
     ]
    },
    {
     "name": "stdout",
     "output_type": "stream",
     "text": [
      "Searching for 2022-01-18\n"
     ]
    },
    {
     "name": "stdout",
     "output_type": "stream",
     "text": [
      "=> Returned 1719 records\n",
      "==> Found 1 matchign records for Tesla|Tesla Inc|Tesla Motors on 2022-01-18\n",
      "Searching for 2022-01-17\n"
     ]
    },
    {
     "name": "stdout",
     "output_type": "stream",
     "text": [
      "=> Returned 1237 records\n",
      "Searching for 2022-01-16\n"
     ]
    },
    {
     "name": "stdout",
     "output_type": "stream",
     "text": [
      "Searching for 2022-01-15\n"
     ]
    },
    {
     "name": "stdout",
     "output_type": "stream",
     "text": [
      "=> Returned 724 records\n",
      "Searching for 2022-01-14\n"
     ]
    },
    {
     "name": "stdout",
     "output_type": "stream",
     "text": [
      "=> Returned 1526 records\n",
      "Searching for 2022-01-13\n"
     ]
    },
    {
     "name": "stdout",
     "output_type": "stream",
     "text": [
      "Searching for 2022-01-12\n"
     ]
    },
    {
     "name": "stdout",
     "output_type": "stream",
     "text": [
      "=> Returned 1690 records\n",
      "==> Found 2 matchign records for Tesla|Tesla Inc|Tesla Motors on 2022-01-12\n",
      "Searching for 2022-01-11\n"
     ]
    },
    {
     "name": "stdout",
     "output_type": "stream",
     "text": [
      "=> Returned 1576 records\n",
      "==> Found 2 matchign records for Tesla|Tesla Inc|Tesla Motors on 2022-01-11\n",
      "Searching for 2022-01-10\n"
     ]
    },
    {
     "name": "stdout",
     "output_type": "stream",
     "text": [
      "=> Returned 1702 records\n",
      "==> Found 2 matchign records for Tesla|Tesla Inc|Tesla Motors on 2022-01-10\n",
      "Searching for 2022-01-09\n"
     ]
    },
    {
     "name": "stdout",
     "output_type": "stream",
     "text": [
      "=> Returned 683 records\n",
      "Searching for 2022-01-08\n"
     ]
    },
    {
     "name": "stdout",
     "output_type": "stream",
     "text": [
      "=> Returned 751 records\n",
      "Searching for 2022-01-07\n"
     ]
    },
    {
     "name": "stdout",
     "output_type": "stream",
     "text": [
      "=> Returned 1556 records\n",
      "Searching for 2022-01-06\n"
     ]
    },
    {
     "name": "stdout",
     "output_type": "stream",
     "text": [
      "=> Returned 1686 records\n",
      "==> Found 2 matchign records for Tesla|Tesla Inc|Tesla Motors on 2022-01-06\n",
      "Searching for 2022-01-05\n"
     ]
    },
    {
     "name": "stdout",
     "output_type": "stream",
     "text": [
      "=> Returned 1740 records\n",
      "==> Found 1 matchign records for Tesla|Tesla Inc|Tesla Motors on 2022-01-05\n",
      "Searching for 2022-01-04\n"
     ]
    },
    {
     "name": "stdout",
     "output_type": "stream",
     "text": [
      "=> Returned 1773 records\n",
      "==> Found 6 matchign records for Tesla|Tesla Inc|Tesla Motors on 2022-01-04\n",
      "Searching for 2022-01-03\n"
     ]
    },
    {
     "name": "stdout",
     "output_type": "stream",
     "text": [
      "=> Returned 1461 records\n",
      "Searching for 2022-01-02\n"
     ]
    },
    {
     "name": "stdout",
     "output_type": "stream",
     "text": [
      "=> Returned 649 records\n",
      "Searching for 2022-01-01\n"
     ]
    },
    {
     "name": "stdout",
     "output_type": "stream",
     "text": [
      "=> Returned 665 records\n",
      "Searching for 2021-12-31\n"
     ]
    },
    {
     "name": "stdout",
     "output_type": "stream",
     "text": [
      "=> Returned 1022 records\n",
      "Searching for 2021-12-30\n"
     ]
    },
    {
     "name": "stdout",
     "output_type": "stream",
     "text": [
      "Searching for 2021-12-29\n"
     ]
    },
    {
     "name": "stdout",
     "output_type": "stream",
     "text": [
      "=> Returned 1405 records\n",
      "==> Found 3 matchign records for Tesla|Tesla Inc|Tesla Motors on 2021-12-29\n",
      "Searching for 2021-12-28\n"
     ]
    },
    {
     "name": "stdout",
     "output_type": "stream",
     "text": [
      "=> Returned 1427 records\n",
      "Searching for 2021-12-27\n"
     ]
    },
    {
     "name": "stdout",
     "output_type": "stream",
     "text": [
      "=> Returned 987 records\n",
      "==> Found 1 matchign records for Tesla|Tesla Inc|Tesla Motors on 2021-12-27\n",
      "Searching for 2021-12-26\n"
     ]
    },
    {
     "name": "stdout",
     "output_type": "stream",
     "text": [
      "=> Returned 589 records\n",
      "Searching for 2021-12-25\n"
     ]
    },
    {
     "name": "stdout",
     "output_type": "stream",
     "text": [
      "=> Returned 536 records\n",
      "Searching for 2021-12-24\n"
     ]
    },
    {
     "name": "stdout",
     "output_type": "stream",
     "text": [
      "Searching for 2021-12-23\n"
     ]
    },
    {
     "name": "stdout",
     "output_type": "stream",
     "text": [
      "=> Returned 1325 records\n",
      "==> Found 1 matchign records for Tesla|Tesla Inc|Tesla Motors on 2021-12-23\n",
      "Searching for 2021-12-22\n"
     ]
    },
    {
     "name": "stdout",
     "output_type": "stream",
     "text": [
      "=> Returned 1552 records\n",
      "==> Found 1 matchign records for Tesla|Tesla Inc|Tesla Motors on 2021-12-22\n",
      "Searching for 2021-12-21\n"
     ]
    },
    {
     "name": "stdout",
     "output_type": "stream",
     "text": [
      "=> Returned 1359 records\n"
     ]
    }
   ],
   "source": [
    "for day_num in range(query_params[\"rolling_window\"]):\n",
    "    \n",
    "    today = datetime.date.today()\n",
    "    how_far_back = datetime.timedelta(days=day_num)\n",
    "    search_date = today - how_far_back\n",
    "    \n",
    "    print(f\"Searching for {search_date}\")\n",
    "    try:\n",
    "        search_results = gd.Search(\n",
    "            str(search_date),\n",
    "            table='gkg'\n",
    "        )\n",
    "    except:\n",
    "        continue;\n",
    "        print(f\"=> No records returnd for date {search_date}\")\n",
    "    print(f\"=> Returned {len(search_results)} records\")\n",
    "    \n",
    "    file_path = f'{product[\"data\"]}/{str(search_date)}'\n",
    "    Path(file_path).parent.mkdir(exist_ok=True, parents=True)\n",
    "    \n",
    "    search_terms = \"|\".join(query_params['search_terms'])\n",
    "    filter_cond = search_results['V2Organizations'].str.contains(search_terms, regex=True, case=False, na=False)\n",
    "    df = search_results[filter_cond]\n",
    "    \n",
    "    if len(df) > 0 :\n",
    "        print(f\"==> Found {len(df)} matchign records for {search_terms} on {search_date}\")\n",
    "        df[filter_cols].to_csv(file_path + '.csv')"
   ]
  },
  {
   "cell_type": "code",
   "execution_count": null,
   "id": "7121ce71",
   "metadata": {
    "papermill": {
     "duration": 0.025717,
     "end_time": "2022-03-21T02:30:41.638956",
     "exception": false,
     "start_time": "2022-03-21T02:30:41.613239",
     "status": "completed"
    },
    "tags": []
   },
   "outputs": [],
   "source": []
  }
 ],
 "metadata": {
  "jupytext": {
   "cell_metadata_filter": "tags,-all",
   "main_language": "python",
   "notebook_metadata_filter": "-all",
   "text_representation": {
    "extension": ".py",
    "format_name": "light"
   }
  },
  "kernelspec": {
   "display_name": "Python 3 (ipykernel)",
   "language": "python",
   "name": "python3"
  },
  "language_info": {
   "codemirror_mode": {
    "name": "ipython",
    "version": 3
   },
   "file_extension": ".py",
   "mimetype": "text/x-python",
   "name": "python",
   "nbconvert_exporter": "python",
   "pygments_lexer": "ipython3",
   "version": "3.9.10"
  },
  "papermill": {
   "duration": 64.907806,
   "end_time": "2022-03-21T02:30:44.283816",
   "exception": null,
   "input_path": "/var/folders/b0/4tc1nfbd6z7_vhx4nxcj2n91c0l9h6/T/tmpsul4f8dp.ipynb",
   "output_path": "/Users/aiujdm2/market_watch/output/notebooks/fetch_gdelt_data.ipynb",
   "parameters": {
    "product": {
     "data": "/Users/aiujdm2/market_watch/output/data/raw",
     "nb": "/Users/aiujdm2/market_watch/output/notebooks/fetch_gdelt_data.ipynb"
    },
    "query_params": {
     "rolling_window": 90,
     "search_terms": [
      "Tesla",
      "Tesla Inc",
      "Tesla Motors"
     ]
    }
   },
   "start_time": "2022-03-21T02:29:39.376010"
  }
 },
 "nbformat": 4,
 "nbformat_minor": 5
}