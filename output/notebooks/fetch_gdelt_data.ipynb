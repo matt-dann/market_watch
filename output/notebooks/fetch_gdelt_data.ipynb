{
 "cells": [
  {
   "cell_type": "code",
   "execution_count": 1,
   "id": "8f23c43c",
   "metadata": {
    "execution": {
     "iopub.execute_input": "2022-03-21T03:08:24.424901Z",
     "iopub.status.busy": "2022-03-21T03:08:24.424610Z",
     "iopub.status.idle": "2022-03-21T03:08:24.432412Z",
     "shell.execute_reply": "2022-03-21T03:08:24.431697Z"
    },
    "lines_to_next_cell": 2,
    "papermill": {
     "duration": 0.019561,
     "end_time": "2022-03-21T03:08:24.434655",
     "exception": false,
     "start_time": "2022-03-21T03:08:24.415094",
     "status": "completed"
    },
    "tags": [
     "parameters"
    ]
   },
   "outputs": [],
   "source": [
    "# declare a list tasks whose products you want to use as inputs\n",
    "upstream = None"
   ]
  },
  {
   "cell_type": "code",
   "execution_count": 2,
   "id": "aaebc39e",
   "metadata": {
    "execution": {
     "iopub.execute_input": "2022-03-21T03:08:24.448512Z",
     "iopub.status.busy": "2022-03-21T03:08:24.448281Z",
     "iopub.status.idle": "2022-03-21T03:08:24.451769Z",
     "shell.execute_reply": "2022-03-21T03:08:24.451218Z"
    },
    "papermill": {
     "duration": 0.012166,
     "end_time": "2022-03-21T03:08:24.453620",
     "exception": false,
     "start_time": "2022-03-21T03:08:24.441454",
     "status": "completed"
    },
    "tags": [
     "injected-parameters"
    ]
   },
   "outputs": [],
   "source": [
    "# Parameters\n",
    "query_params = {\n",
    "    \"rolling_window\": 90,\n",
    "    \"search_terms\": [\"Tesla\", \"Tesla Inc\", \"Tesla Motors\"],\n",
    "}\n",
    "product = {\n",
    "    \"nb\": \"/Users/aiujdm2/market_watch/output/notebooks/fetch_gdelt_data.ipynb\",\n",
    "    \"data\": \"/Users/aiujdm2/market_watch/output/data/raw\",\n",
    "}\n"
   ]
  },
  {
   "cell_type": "code",
   "execution_count": 3,
   "id": "f6271ad9",
   "metadata": {
    "execution": {
     "iopub.execute_input": "2022-03-21T03:08:24.465974Z",
     "iopub.status.busy": "2022-03-21T03:08:24.465766Z",
     "iopub.status.idle": "2022-03-21T03:08:24.950618Z",
     "shell.execute_reply": "2022-03-21T03:08:24.949759Z"
    },
    "papermill": {
     "duration": 0.493529,
     "end_time": "2022-03-21T03:08:24.952965",
     "exception": false,
     "start_time": "2022-03-21T03:08:24.459436",
     "status": "completed"
    },
    "tags": []
   },
   "outputs": [],
   "source": [
    "import datetime\n",
    "from pathlib import Path\n",
    "import gdelt\n",
    "import pandas as pd\n",
    "\n",
    "import sys\n",
    "\n",
    "import warnings\n",
    "warnings.filterwarnings('ignore')"
   ]
  },
  {
   "cell_type": "code",
   "execution_count": 4,
   "id": "6388d4d6",
   "metadata": {
    "execution": {
     "iopub.execute_input": "2022-03-21T03:08:24.967362Z",
     "iopub.status.busy": "2022-03-21T03:08:24.967092Z",
     "iopub.status.idle": "2022-03-21T03:08:24.971342Z",
     "shell.execute_reply": "2022-03-21T03:08:24.970767Z"
    },
    "papermill": {
     "duration": 0.013601,
     "end_time": "2022-03-21T03:08:24.973452",
     "exception": false,
     "start_time": "2022-03-21T03:08:24.959851",
     "status": "completed"
    },
    "tags": []
   },
   "outputs": [
    {
     "name": "stdout",
     "output_type": "stream",
     "text": [
      "/Users/aiujdm2/.local/share/virtualenvs/market_watch-dtlP-L11/bin/python\n"
     ]
    }
   ],
   "source": [
    "print(sys.executable)"
   ]
  },
  {
   "cell_type": "code",
   "execution_count": 5,
   "id": "2b322680",
   "metadata": {
    "execution": {
     "iopub.execute_input": "2022-03-21T03:08:24.987516Z",
     "iopub.status.busy": "2022-03-21T03:08:24.987306Z",
     "iopub.status.idle": "2022-03-21T03:08:24.990466Z",
     "shell.execute_reply": "2022-03-21T03:08:24.989825Z"
    },
    "papermill": {
     "duration": 0.011957,
     "end_time": "2022-03-21T03:08:24.992299",
     "exception": false,
     "start_time": "2022-03-21T03:08:24.980342",
     "status": "completed"
    },
    "tags": []
   },
   "outputs": [],
   "source": [
    "gd = gdelt.gdelt(version=2)"
   ]
  },
  {
   "cell_type": "code",
   "execution_count": 6,
   "id": "01a756e3",
   "metadata": {
    "execution": {
     "iopub.execute_input": "2022-03-21T03:08:25.005727Z",
     "iopub.status.busy": "2022-03-21T03:08:25.005524Z",
     "iopub.status.idle": "2022-03-21T03:08:25.009232Z",
     "shell.execute_reply": "2022-03-21T03:08:25.008686Z"
    },
    "papermill": {
     "duration": 0.012353,
     "end_time": "2022-03-21T03:08:25.010890",
     "exception": false,
     "start_time": "2022-03-21T03:08:24.998537",
     "status": "completed"
    },
    "tags": []
   },
   "outputs": [],
   "source": [
    "filter_cols = [\n",
    "    'GKGRECORDID',\n",
    "    'DATE',\n",
    "    'SourceCollectionIdentifier',\n",
    "    'SourceCommonName',\n",
    "    'DocumentIdentifier',\n",
    "    'V2Counts',\n",
    "    'V2Themes',\n",
    "    'V2Locations',\n",
    "    'V2Persons', \n",
    "    'V2Organizations',\n",
    "    'V2Tone',\n",
    "    'GCAM',\n",
    "    'SharingImage',\n",
    "    'RelatedImages',\n",
    "    'SocialImageEmbeds',\n",
    "    'SocialVideoEmbeds',\n",
    "    'Quotations',\n",
    "    'AllNames',\n",
    "    'Amounts',\n",
    "    'TranslationInfo',\n",
    "    'Extras'\n",
    "]"
   ]
  },
  {
   "cell_type": "code",
   "execution_count": 7,
   "id": "b173506f",
   "metadata": {
    "execution": {
     "iopub.execute_input": "2022-03-21T03:08:25.022451Z",
     "iopub.status.busy": "2022-03-21T03:08:25.022303Z",
     "iopub.status.idle": "2022-03-21T03:10:50.969535Z",
     "shell.execute_reply": "2022-03-21T03:10:50.968571Z"
    },
    "lines_to_next_cell": 0,
    "papermill": {
     "duration": 145.987462,
     "end_time": "2022-03-21T03:10:51.004068",
     "exception": false,
     "start_time": "2022-03-21T03:08:25.016606",
     "status": "completed"
    },
    "tags": []
   },
   "outputs": [
    {
     "name": "stdout",
     "output_type": "stream",
     "text": [
      "Searching for 2022-03-20\n"
     ]
    },
    {
     "name": "stdout",
     "output_type": "stream",
     "text": [
      "=> No records returnd for date 2022-03-20\n",
      "Searching for 2022-03-19\n"
     ]
    },
    {
     "name": "stdout",
     "output_type": "stream",
     "text": [
      "=> Returned 660 records\n",
      "Searching for 2022-03-18\n"
     ]
    },
    {
     "name": "stdout",
     "output_type": "stream",
     "text": [
      "=> Returned 1308 records\n",
      "Searching for 2022-03-17\n"
     ]
    },
    {
     "name": "stdout",
     "output_type": "stream",
     "text": [
      "=> Returned 1460 records\n",
      "Searching for 2022-03-16\n"
     ]
    },
    {
     "name": "stdout",
     "output_type": "stream",
     "text": [
      "=> Returned 1451 records\n",
      "==> Found 1 matchign records for Tesla|Tesla Inc|Tesla Motors on 2022-03-16\n",
      "Searching for 2022-03-15\n"
     ]
    },
    {
     "name": "stdout",
     "output_type": "stream",
     "text": [
      "=> No records returnd for date 2022-03-15\n",
      "Searching for 2022-03-14\n"
     ]
    },
    {
     "name": "stdout",
     "output_type": "stream",
     "text": [
      "=> Returned 1575 records\n",
      "Searching for 2022-03-13\n"
     ]
    },
    {
     "name": "stdout",
     "output_type": "stream",
     "text": [
      "=> Returned 755 records\n",
      "Searching for 2022-03-12\n"
     ]
    },
    {
     "name": "stdout",
     "output_type": "stream",
     "text": [
      "=> Returned 758 records\n",
      "Searching for 2022-03-11\n"
     ]
    },
    {
     "name": "stdout",
     "output_type": "stream",
     "text": [
      "=> Returned 1479 records\n",
      "Searching for 2022-03-10\n"
     ]
    },
    {
     "name": "stdout",
     "output_type": "stream",
     "text": [
      "=> Returned 1597 records\n",
      "==> Found 2 matchign records for Tesla|Tesla Inc|Tesla Motors on 2022-03-10\n",
      "Searching for 2022-03-09\n"
     ]
    },
    {
     "name": "stdout",
     "output_type": "stream",
     "text": [
      "=> Returned 1597 records\n",
      "Searching for 2022-03-08\n"
     ]
    },
    {
     "name": "stdout",
     "output_type": "stream",
     "text": [
      "=> Returned 1402 records\n",
      "Searching for 2022-03-07\n"
     ]
    },
    {
     "name": "stdout",
     "output_type": "stream",
     "text": [
      "=> Returned 1438 records\n",
      "Searching for 2022-03-06\n"
     ]
    },
    {
     "name": "stdout",
     "output_type": "stream",
     "text": [
      "=> Returned 752 records\n",
      "Searching for 2022-03-05\n"
     ]
    },
    {
     "name": "stdout",
     "output_type": "stream",
     "text": [
      "=> Returned 673 records\n",
      "Searching for 2022-03-04\n"
     ]
    },
    {
     "name": "stdout",
     "output_type": "stream",
     "text": [
      "=> No records returnd for date 2022-03-04\n",
      "Searching for 2022-03-03\n"
     ]
    },
    {
     "name": "stdout",
     "output_type": "stream",
     "text": [
      "=> Returned 1672 records\n",
      "==> Found 1 matchign records for Tesla|Tesla Inc|Tesla Motors on 2022-03-03\n",
      "Searching for 2022-03-02\n"
     ]
    },
    {
     "name": "stdout",
     "output_type": "stream",
     "text": [
      "=> No records returnd for date 2022-03-02\n",
      "Searching for 2022-03-01\n"
     ]
    },
    {
     "name": "stdout",
     "output_type": "stream",
     "text": [
      "=> Returned 1683 records\n",
      "Searching for 2022-02-28\n"
     ]
    },
    {
     "name": "stdout",
     "output_type": "stream",
     "text": [
      "=> Returned 1598 records\n",
      "==> Found 1 matchign records for Tesla|Tesla Inc|Tesla Motors on 2022-02-28\n",
      "Searching for 2022-02-27\n"
     ]
    },
    {
     "name": "stdout",
     "output_type": "stream",
     "text": [
      "=> No records returnd for date 2022-02-27\n",
      "Searching for 2022-02-26\n"
     ]
    },
    {
     "name": "stdout",
     "output_type": "stream",
     "text": [
      "=> No records returnd for date 2022-02-26\n",
      "Searching for 2022-02-25\n"
     ]
    },
    {
     "name": "stdout",
     "output_type": "stream",
     "text": [
      "=> Returned 1390 records\n",
      "==> Found 1 matchign records for Tesla|Tesla Inc|Tesla Motors on 2022-02-25\n",
      "Searching for 2022-02-24\n"
     ]
    },
    {
     "name": "stdout",
     "output_type": "stream",
     "text": [
      "=> Returned 1641 records\n",
      "==> Found 1 matchign records for Tesla|Tesla Inc|Tesla Motors on 2022-02-24\n",
      "Searching for 2022-02-23\n"
     ]
    },
    {
     "name": "stdout",
     "output_type": "stream",
     "text": [
      "=> No records returnd for date 2022-02-23\n",
      "Searching for 2022-02-22\n"
     ]
    },
    {
     "name": "stdout",
     "output_type": "stream",
     "text": [
      "=> No records returnd for date 2022-02-22\n",
      "Searching for 2022-02-21\n"
     ]
    },
    {
     "name": "stdout",
     "output_type": "stream",
     "text": [
      "=> No records returnd for date 2022-02-21\n",
      "Searching for 2022-02-20\n"
     ]
    },
    {
     "name": "stdout",
     "output_type": "stream",
     "text": [
      "=> Returned 650 records\n",
      "Searching for 2022-02-19\n"
     ]
    },
    {
     "name": "stdout",
     "output_type": "stream",
     "text": [
      "=> Returned 586 records\n",
      "==> Found 1 matchign records for Tesla|Tesla Inc|Tesla Motors on 2022-02-19\n",
      "Searching for 2022-02-18\n"
     ]
    },
    {
     "name": "stdout",
     "output_type": "stream",
     "text": [
      "=> Returned 1473 records\n",
      "==> Found 1 matchign records for Tesla|Tesla Inc|Tesla Motors on 2022-02-18\n",
      "Searching for 2022-02-17\n"
     ]
    },
    {
     "name": "stdout",
     "output_type": "stream",
     "text": [
      "=> No records returnd for date 2022-02-17\n",
      "Searching for 2022-02-16\n"
     ]
    },
    {
     "name": "stdout",
     "output_type": "stream",
     "text": [
      "=> Returned 1672 records\n",
      "Searching for 2022-02-15\n"
     ]
    },
    {
     "name": "stdout",
     "output_type": "stream",
     "text": [
      "=> Returned 1761 records\n",
      "Searching for 2022-02-14\n"
     ]
    },
    {
     "name": "stdout",
     "output_type": "stream",
     "text": [
      "=> Returned 1600 records\n",
      "Searching for 2022-02-13\n"
     ]
    },
    {
     "name": "stdout",
     "output_type": "stream",
     "text": [
      "=> Returned 702 records\n",
      "Searching for 2022-02-12\n"
     ]
    },
    {
     "name": "stdout",
     "output_type": "stream",
     "text": [
      "=> No records returnd for date 2022-02-12\n",
      "Searching for 2022-02-11\n"
     ]
    },
    {
     "name": "stdout",
     "output_type": "stream",
     "text": [
      "=> Returned 1329 records\n",
      "Searching for 2022-02-10\n"
     ]
    },
    {
     "name": "stdout",
     "output_type": "stream",
     "text": [
      "=> Returned 1666 records\n",
      "==> Found 4 matchign records for Tesla|Tesla Inc|Tesla Motors on 2022-02-10\n",
      "Searching for 2022-02-09\n"
     ]
    },
    {
     "name": "stdout",
     "output_type": "stream",
     "text": [
      "=> Returned 1946 records\n",
      "Searching for 2022-02-08\n"
     ]
    },
    {
     "name": "stdout",
     "output_type": "stream",
     "text": [
      "=> Returned 1674 records\n",
      "Searching for 2022-02-07\n"
     ]
    },
    {
     "name": "stdout",
     "output_type": "stream",
     "text": [
      "=> Returned 1434 records\n",
      "==> Found 2 matchign records for Tesla|Tesla Inc|Tesla Motors on 2022-02-07\n",
      "Searching for 2022-02-06\n"
     ]
    },
    {
     "name": "stdout",
     "output_type": "stream",
     "text": [
      "=> Returned 704 records\n",
      "Searching for 2022-02-05\n"
     ]
    },
    {
     "name": "stdout",
     "output_type": "stream",
     "text": [
      "=> Returned 602 records\n",
      "Searching for 2022-02-04\n"
     ]
    },
    {
     "name": "stdout",
     "output_type": "stream",
     "text": [
      "=> No records returnd for date 2022-02-04\n",
      "Searching for 2022-02-03\n"
     ]
    },
    {
     "name": "stdout",
     "output_type": "stream",
     "text": [
      "=> Returned 1847 records\n",
      "==> Found 2 matchign records for Tesla|Tesla Inc|Tesla Motors on 2022-02-03\n",
      "Searching for 2022-02-02\n"
     ]
    },
    {
     "name": "stdout",
     "output_type": "stream",
     "text": [
      "=> No records returnd for date 2022-02-02\n",
      "Searching for 2022-02-01\n"
     ]
    },
    {
     "name": "stdout",
     "output_type": "stream",
     "text": [
      "=> Returned 1686 records\n",
      "Searching for 2022-01-31\n"
     ]
    },
    {
     "name": "stdout",
     "output_type": "stream",
     "text": [
      "=> Returned 1864 records\n",
      "==> Found 1 matchign records for Tesla|Tesla Inc|Tesla Motors on 2022-01-31\n",
      "Searching for 2022-01-30\n"
     ]
    },
    {
     "name": "stdout",
     "output_type": "stream",
     "text": [
      "=> Returned 787 records\n",
      "Searching for 2022-01-29\n"
     ]
    },
    {
     "name": "stdout",
     "output_type": "stream",
     "text": [
      "=> Returned 730 records\n",
      "Searching for 2022-01-28\n"
     ]
    },
    {
     "name": "stdout",
     "output_type": "stream",
     "text": [
      "=> Returned 1502 records\n",
      "Searching for 2022-01-27\n"
     ]
    },
    {
     "name": "stdout",
     "output_type": "stream",
     "text": [
      "=> No records returnd for date 2022-01-27\n",
      "Searching for 2022-01-26\n"
     ]
    },
    {
     "name": "stdout",
     "output_type": "stream",
     "text": [
      "=> Returned 1945 records\n",
      "==> Found 1 matchign records for Tesla|Tesla Inc|Tesla Motors on 2022-01-26\n",
      "Searching for 2022-01-25\n"
     ]
    },
    {
     "name": "stdout",
     "output_type": "stream",
     "text": [
      "=> No records returnd for date 2022-01-25\n",
      "Searching for 2022-01-24\n"
     ]
    },
    {
     "name": "stdout",
     "output_type": "stream",
     "text": [
      "=> Returned 1673 records\n",
      "Searching for 2022-01-23\n"
     ]
    },
    {
     "name": "stdout",
     "output_type": "stream",
     "text": [
      "=> Returned 705 records\n",
      "Searching for 2022-01-22\n"
     ]
    },
    {
     "name": "stdout",
     "output_type": "stream",
     "text": [
      "=> No records returnd for date 2022-01-22\n",
      "Searching for 2022-01-21\n"
     ]
    },
    {
     "name": "stdout",
     "output_type": "stream",
     "text": [
      "=> No records returnd for date 2022-01-21\n",
      "Searching for 2022-01-20\n"
     ]
    },
    {
     "name": "stdout",
     "output_type": "stream",
     "text": [
      "=> Returned 1729 records\n",
      "Searching for 2022-01-19\n"
     ]
    },
    {
     "name": "stdout",
     "output_type": "stream",
     "text": [
      "=> No records returnd for date 2022-01-19\n",
      "Searching for 2022-01-18\n"
     ]
    },
    {
     "name": "stdout",
     "output_type": "stream",
     "text": [
      "=> Returned 1719 records\n",
      "==> Found 1 matchign records for Tesla|Tesla Inc|Tesla Motors on 2022-01-18\n",
      "Searching for 2022-01-17\n"
     ]
    },
    {
     "name": "stdout",
     "output_type": "stream",
     "text": [
      "=> Returned 1237 records\n",
      "Searching for 2022-01-16\n"
     ]
    },
    {
     "name": "stdout",
     "output_type": "stream",
     "text": [
      "=> No records returnd for date 2022-01-16\n",
      "Searching for 2022-01-15\n"
     ]
    },
    {
     "name": "stdout",
     "output_type": "stream",
     "text": [
      "=> Returned 724 records\n",
      "Searching for 2022-01-14\n"
     ]
    },
    {
     "name": "stdout",
     "output_type": "stream",
     "text": [
      "=> Returned 1526 records\n",
      "Searching for 2022-01-13\n"
     ]
    },
    {
     "name": "stdout",
     "output_type": "stream",
     "text": [
      "=> No records returnd for date 2022-01-13\n",
      "Searching for 2022-01-12\n"
     ]
    },
    {
     "name": "stdout",
     "output_type": "stream",
     "text": [
      "=> Returned 1690 records\n",
      "==> Found 2 matchign records for Tesla|Tesla Inc|Tesla Motors on 2022-01-12\n",
      "Searching for 2022-01-11\n"
     ]
    },
    {
     "name": "stdout",
     "output_type": "stream",
     "text": [
      "=> Returned 1576 records\n",
      "==> Found 2 matchign records for Tesla|Tesla Inc|Tesla Motors on 2022-01-11\n",
      "Searching for 2022-01-10\n"
     ]
    },
    {
     "name": "stdout",
     "output_type": "stream",
     "text": [
      "=> Returned 1702 records\n",
      "==> Found 2 matchign records for Tesla|Tesla Inc|Tesla Motors on 2022-01-10\n",
      "Searching for 2022-01-09\n"
     ]
    },
    {
     "name": "stdout",
     "output_type": "stream",
     "text": [
      "=> Returned 683 records\n",
      "Searching for 2022-01-08\n"
     ]
    },
    {
     "name": "stdout",
     "output_type": "stream",
     "text": [
      "=> Returned 751 records\n",
      "Searching for 2022-01-07\n"
     ]
    },
    {
     "name": "stdout",
     "output_type": "stream",
     "text": [
      "=> Returned 1556 records\n",
      "Searching for 2022-01-06\n"
     ]
    },
    {
     "name": "stdout",
     "output_type": "stream",
     "text": [
      "=> Returned 1686 records\n",
      "==> Found 2 matchign records for Tesla|Tesla Inc|Tesla Motors on 2022-01-06\n",
      "Searching for 2022-01-05\n"
     ]
    },
    {
     "name": "stdout",
     "output_type": "stream",
     "text": [
      "=> Returned 1740 records\n",
      "==> Found 1 matchign records for Tesla|Tesla Inc|Tesla Motors on 2022-01-05\n",
      "Searching for 2022-01-04\n"
     ]
    },
    {
     "name": "stdout",
     "output_type": "stream",
     "text": [
      "=> Returned 1773 records\n",
      "==> Found 6 matchign records for Tesla|Tesla Inc|Tesla Motors on 2022-01-04\n",
      "Searching for 2022-01-03\n"
     ]
    },
    {
     "name": "stdout",
     "output_type": "stream",
     "text": [
      "=> Returned 1461 records\n",
      "Searching for 2022-01-02\n"
     ]
    },
    {
     "name": "stdout",
     "output_type": "stream",
     "text": [
      "=> Returned 649 records\n",
      "Searching for 2022-01-01\n"
     ]
    },
    {
     "name": "stdout",
     "output_type": "stream",
     "text": [
      "=> Returned 665 records\n",
      "Searching for 2021-12-31\n"
     ]
    },
    {
     "name": "stdout",
     "output_type": "stream",
     "text": [
      "=> Returned 1022 records\n",
      "Searching for 2021-12-30\n"
     ]
    },
    {
     "name": "stdout",
     "output_type": "stream",
     "text": [
      "=> No records returnd for date 2021-12-30\n",
      "Searching for 2021-12-29\n"
     ]
    },
    {
     "name": "stdout",
     "output_type": "stream",
     "text": [
      "=> Returned 1405 records\n",
      "==> Found 3 matchign records for Tesla|Tesla Inc|Tesla Motors on 2021-12-29\n",
      "Searching for 2021-12-28\n"
     ]
    },
    {
     "name": "stdout",
     "output_type": "stream",
     "text": [
      "=> Returned 1427 records\n",
      "Searching for 2021-12-27\n"
     ]
    },
    {
     "name": "stdout",
     "output_type": "stream",
     "text": [
      "=> Returned 987 records\n",
      "==> Found 1 matchign records for Tesla|Tesla Inc|Tesla Motors on 2021-12-27\n",
      "Searching for 2021-12-26\n"
     ]
    },
    {
     "name": "stdout",
     "output_type": "stream",
     "text": [
      "=> No records returnd for date 2021-12-26\n",
      "Searching for 2021-12-25\n"
     ]
    },
    {
     "name": "stdout",
     "output_type": "stream",
     "text": [
      "=> No records returnd for date 2021-12-25\n",
      "Searching for 2021-12-24\n"
     ]
    },
    {
     "name": "stdout",
     "output_type": "stream",
     "text": [
      "=> No records returnd for date 2021-12-24\n",
      "Searching for 2021-12-23\n"
     ]
    },
    {
     "name": "stdout",
     "output_type": "stream",
     "text": [
      "=> No records returnd for date 2021-12-23\n",
      "Searching for 2021-12-22\n"
     ]
    },
    {
     "name": "stdout",
     "output_type": "stream",
     "text": [
      "=> No records returnd for date 2021-12-22\n",
      "Searching for 2021-12-21\n"
     ]
    },
    {
     "name": "stdout",
     "output_type": "stream",
     "text": [
      "=> No records returnd for date 2021-12-21\n"
     ]
    }
   ],
   "source": [
    "#  config parameter that tells us rolling window for getting data \n",
    "# i.e. a value of 30 in env.yaml means 30 days rolling window. We will fetch data from today to 30 days back.\n",
    "rolling_window = query_params[\"rolling_window\"]\n",
    "\n",
    "# fetch data for each day and then filter it on search terms\n",
    "for day_num in range(rolling_window):\n",
    "    \n",
    "    today = datetime.date.today()\n",
    "    how_far_back = datetime.timedelta(days=day_num)\n",
    "    search_date = today - how_far_back\n",
    "    \n",
    "    print(f\"Searching for {search_date}\")\n",
    "    try:\n",
    "        search_results = gd.Search(\n",
    "            str(search_date),\n",
    "            table='gkg'\n",
    "        )\n",
    "    except:\n",
    "        print(f\"=> No records returnd for date {search_date}\")\n",
    "        continue;\n",
    "\n",
    "    print(f\"=> Returned {len(search_results)} records\")\n",
    "    \n",
    "    # Add search date to file name     \n",
    "    file_path = f'{product[\"data\"]}/{str(search_date)}'\n",
    "    Path(file_path).parent.mkdir(exist_ok=True, parents=True)\n",
    "    \n",
    "    # Form a query friendly search terms     \n",
    "    search_terms = \"|\".join(query_params['search_terms'])\n",
    "    filter_cond = search_results['V2Organizations'].str.contains(search_terms, regex=True, case=False, na=False)\n",
    "    df = search_results[filter_cond]\n",
    "    \n",
    "    if len(df) > 0 :\n",
    "        print(f\"==> Found {len(df)} matchign records for {search_terms} on {search_date}\")\n",
    "        df[filter_cols].to_csv(file_path + '.csv')"
   ]
  },
  {
   "cell_type": "code",
   "execution_count": null,
   "id": "28c3b6af",
   "metadata": {
    "lines_to_next_cell": 2,
    "papermill": {
     "duration": 0.023741,
     "end_time": "2022-03-21T03:10:51.054967",
     "exception": false,
     "start_time": "2022-03-21T03:10:51.031226",
     "status": "completed"
    },
    "tags": []
   },
   "outputs": [],
   "source": []
  }
 ],
 "metadata": {
  "jupytext": {
   "cell_metadata_filter": "tags,-all",
   "main_language": "python",
   "notebook_metadata_filter": "-all",
   "text_representation": {
    "extension": ".py",
    "format_name": "light"
   }
  },
  "kernelspec": {
   "display_name": "Python 3 (ipykernel)",
   "language": "python",
   "name": "python3"
  },
  "language_info": {
   "codemirror_mode": {
    "name": "ipython",
    "version": 3
   },
   "file_extension": ".py",
   "mimetype": "text/x-python",
   "name": "python",
   "nbconvert_exporter": "python",
   "pygments_lexer": "ipython3",
   "version": "3.9.10"
  },
  "papermill": {
   "duration": 150.206101,
   "end_time": "2022-03-21T03:10:53.700229",
   "exception": null,
   "input_path": "/var/folders/b0/4tc1nfbd6z7_vhx4nxcj2n91c0l9h6/T/tmp81g6m_va.ipynb",
   "output_path": "/Users/aiujdm2/market_watch/output/notebooks/fetch_gdelt_data.ipynb",
   "parameters": {
    "product": {
     "data": "/Users/aiujdm2/market_watch/output/data/raw",
     "nb": "/Users/aiujdm2/market_watch/output/notebooks/fetch_gdelt_data.ipynb"
    },
    "query_params": {
     "rolling_window": 90,
     "search_terms": [
      "Tesla",
      "Tesla Inc",
      "Tesla Motors"
     ]
    }
   },
   "start_time": "2022-03-21T03:08:23.494128"
  }
 },
 "nbformat": 4,
 "nbformat_minor": 5
}