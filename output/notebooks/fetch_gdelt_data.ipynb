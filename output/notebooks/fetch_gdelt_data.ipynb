{
 "cells": [
  {
   "cell_type": "code",
   "execution_count": 1,
   "id": "8d079691",
   "metadata": {
    "execution": {
     "iopub.execute_input": "2022-03-21T05:31:51.111914Z",
     "iopub.status.busy": "2022-03-21T05:31:51.111618Z",
     "iopub.status.idle": "2022-03-21T05:31:51.119542Z",
     "shell.execute_reply": "2022-03-21T05:31:51.118777Z"
    },
    "papermill": {
     "duration": 0.021435,
     "end_time": "2022-03-21T05:31:51.121896",
     "exception": false,
     "start_time": "2022-03-21T05:31:51.100461",
     "status": "completed"
    },
    "tags": [
     "parameters"
    ]
   },
   "outputs": [],
   "source": [
    "# declare a list tasks whose products you want to use as inputs\n",
    "upstream = None"
   ]
  },
  {
   "cell_type": "code",
   "execution_count": 2,
   "id": "0089c111",
   "metadata": {
    "execution": {
     "iopub.execute_input": "2022-03-21T05:31:51.138449Z",
     "iopub.status.busy": "2022-03-21T05:31:51.138225Z",
     "iopub.status.idle": "2022-03-21T05:31:51.141787Z",
     "shell.execute_reply": "2022-03-21T05:31:51.141205Z"
    },
    "papermill": {
     "duration": 0.013536,
     "end_time": "2022-03-21T05:31:51.143621",
     "exception": false,
     "start_time": "2022-03-21T05:31:51.130085",
     "status": "completed"
    },
    "tags": [
     "injected-parameters"
    ]
   },
   "outputs": [],
   "source": [
    "# Parameters\n",
    "query_params = {\n",
    "    \"rolling_window\": 90,\n",
    "    \"search_terms\": [\"Tesla\", \"Tesla Inc\", \"Tesla Motors\"],\n",
    "    \"gdelt_gkg_base_url\": \"http://data.gdeltproject.org/gdeltv2/\",\n",
    "}\n",
    "product = {\n",
    "    \"nb\": \"/Users/aiujdm2/market_watch/output/notebooks/fetch_gdelt_data.ipynb\",\n",
    "    \"data\": \"/Users/aiujdm2/market_watch/output/data/raw\",\n",
    "}\n"
   ]
  },
  {
   "cell_type": "code",
   "execution_count": 3,
   "id": "ce967c79",
   "metadata": {
    "execution": {
     "iopub.execute_input": "2022-03-21T05:31:51.158509Z",
     "iopub.status.busy": "2022-03-21T05:31:51.158291Z",
     "iopub.status.idle": "2022-03-21T05:31:51.685364Z",
     "shell.execute_reply": "2022-03-21T05:31:51.684584Z"
    },
    "papermill": {
     "duration": 0.536747,
     "end_time": "2022-03-21T05:31:51.687430",
     "exception": false,
     "start_time": "2022-03-21T05:31:51.150683",
     "status": "completed"
    },
    "tags": []
   },
   "outputs": [],
   "source": [
    "import datetime\n",
    "from pathlib import Path\n",
    "import gdelt\n",
    "import pandas as pd\n",
    "import os\n",
    "\n",
    "import sys\n",
    "\n",
    "import warnings\n",
    "\n",
    "warnings.filterwarnings('ignore')"
   ]
  },
  {
   "cell_type": "code",
   "execution_count": 4,
   "id": "d9b762cc",
   "metadata": {
    "execution": {
     "iopub.execute_input": "2022-03-21T05:31:51.704220Z",
     "iopub.status.busy": "2022-03-21T05:31:51.703975Z",
     "iopub.status.idle": "2022-03-21T05:31:51.708216Z",
     "shell.execute_reply": "2022-03-21T05:31:51.707635Z"
    },
    "papermill": {
     "duration": 0.014808,
     "end_time": "2022-03-21T05:31:51.710224",
     "exception": false,
     "start_time": "2022-03-21T05:31:51.695416",
     "status": "completed"
    },
    "tags": []
   },
   "outputs": [
    {
     "name": "stdout",
     "output_type": "stream",
     "text": [
      "/Users/aiujdm2/.local/share/virtualenvs/market_watch-dtlP-L11/bin/python\n"
     ]
    }
   ],
   "source": [
    "print(sys.executable)"
   ]
  },
  {
   "cell_type": "code",
   "execution_count": 5,
   "id": "40b82e46",
   "metadata": {
    "execution": {
     "iopub.execute_input": "2022-03-21T05:31:51.727575Z",
     "iopub.status.busy": "2022-03-21T05:31:51.727356Z",
     "iopub.status.idle": "2022-03-21T05:31:51.732412Z",
     "shell.execute_reply": "2022-03-21T05:31:51.731865Z"
    },
    "papermill": {
     "duration": 0.015235,
     "end_time": "2022-03-21T05:31:51.734173",
     "exception": false,
     "start_time": "2022-03-21T05:31:51.718938",
     "status": "completed"
    },
    "tags": []
   },
   "outputs": [],
   "source": [
    "col_names = ['GKGRECORDID', 'DATE', 'SourceCollectionIdentifier', 'SourceCommonName',\n",
    "             'DocumentIdentifier', 'Counts', 'V2Counts', 'Themes', 'V2Themes',\n",
    "             'Locations', 'V2Locations', 'Persons', 'V2Persons', 'Organizations',\n",
    "             'V2Organizations', 'V2Tone', 'Dates', 'GCAM', 'SharingImage',\n",
    "             'RelatedImages', 'SocialImageEmbeds', 'SocialVideoEmbeds', 'Quotations',\n",
    "             'AllNames', 'Amounts', 'TranslationInfo', 'Extras']\n",
    "\n",
    "filter_cols = [\n",
    "    'GKGRECORDID',\n",
    "    'DATE',\n",
    "    'SourceCollectionIdentifier',\n",
    "    'SourceCommonName',\n",
    "    'DocumentIdentifier',\n",
    "    'V2Counts',\n",
    "    'V2Themes',\n",
    "    'V2Locations',\n",
    "    'V2Persons',\n",
    "    'V2Organizations',\n",
    "    'V2Tone',\n",
    "    'GCAM',\n",
    "    'SharingImage',\n",
    "    'RelatedImages',\n",
    "    'SocialImageEmbeds',\n",
    "    'SocialVideoEmbeds',\n",
    "    'Quotations',\n",
    "    'AllNames',\n",
    "    'Amounts',\n",
    "    'TranslationInfo',\n",
    "    'Extras'\n",
    "]\n",
    "rolling_window = query_params[\"rolling_window\"]\n",
    "gdelt_gkg_base_url = query_params[\"gdelt_gkg_base_url\"]"
   ]
  },
  {
   "cell_type": "code",
   "execution_count": 6,
   "id": "cacc70fc",
   "metadata": {
    "execution": {
     "iopub.execute_input": "2022-03-21T05:31:51.749575Z",
     "iopub.status.busy": "2022-03-21T05:31:51.749383Z",
     "iopub.status.idle": "2022-03-21T05:31:51.751952Z",
     "shell.execute_reply": "2022-03-21T05:31:51.751433Z"
    },
    "papermill": {
     "duration": 0.011862,
     "end_time": "2022-03-21T05:31:51.753439",
     "exception": false,
     "start_time": "2022-03-21T05:31:51.741577",
     "status": "completed"
    },
    "tags": []
   },
   "outputs": [],
   "source": [
    "gd = gdelt.gdelt(version=2)"
   ]
  },
  {
   "cell_type": "code",
   "execution_count": 7,
   "id": "66ce54f6",
   "metadata": {
    "execution": {
     "iopub.execute_input": "2022-03-21T05:31:51.766291Z",
     "iopub.status.busy": "2022-03-21T05:31:51.766137Z",
     "iopub.status.idle": "2022-03-21T05:31:51.770078Z",
     "shell.execute_reply": "2022-03-21T05:31:51.769680Z"
    },
    "papermill": {
     "duration": 0.01232,
     "end_time": "2022-03-21T05:31:51.771785",
     "exception": false,
     "start_time": "2022-03-21T05:31:51.759465",
     "status": "completed"
    },
    "tags": []
   },
   "outputs": [],
   "source": [
    "from datetime import datetime, timedelta\n",
    "\n",
    "\n",
    "def datetime_range(start, end, delta):\n",
    "    current = start\n",
    "    while current < end:\n",
    "        yield current\n",
    "        current += delta\n",
    "\n",
    "\n",
    "def get_urls(rolling_window, base_url):\n",
    "    today = datetime.utcnow()\n",
    "\n",
    "    pd_ts = pd.Timestamp(today)\n",
    "    today_ts = pd_ts.round('15T')\n",
    "\n",
    "    how_far_back = timedelta(days=rolling_window)\n",
    "    start_date = today_ts - how_far_back\n",
    "    urls = [\n",
    "        base_url + f'{dt.strftime(\"%Y%m%d%H%M00\")}.gkg.csv.zip'\n",
    "        for dt in\n",
    "        datetime_range(\n",
    "            start_date,\n",
    "            today_ts,\n",
    "            timedelta(minutes=15)\n",
    "        )\n",
    "    ]\n",
    "    return urls"
   ]
  },
  {
   "cell_type": "code",
   "execution_count": 8,
   "id": "071036c1",
   "metadata": {
    "execution": {
     "iopub.execute_input": "2022-03-21T05:31:51.784739Z",
     "iopub.status.busy": "2022-03-21T05:31:51.784590Z",
     "iopub.status.idle": "2022-03-21T05:31:51.844301Z",
     "shell.execute_reply": "2022-03-21T05:31:51.843753Z"
    },
    "papermill": {
     "duration": 0.068152,
     "end_time": "2022-03-21T05:31:51.845976",
     "exception": false,
     "start_time": "2022-03-21T05:31:51.777824",
     "status": "completed"
    },
    "tags": []
   },
   "outputs": [],
   "source": [
    "urls = get_urls(\n",
    "    rolling_window=rolling_window,\n",
    "    base_url='http://data.gdeltproject.org/gdeltv2/'\n",
    ")"
   ]
  },
  {
   "cell_type": "code",
   "execution_count": 9,
   "id": "5d612acc",
   "metadata": {
    "execution": {
     "iopub.execute_input": "2022-03-21T05:31:51.859427Z",
     "iopub.status.busy": "2022-03-21T05:31:51.859248Z"
    },
    "papermill": {
     "duration": null,
     "end_time": null,
     "exception": false,
     "start_time": "2022-03-21T05:31:51.852420",
     "status": "running"
    },
    "tags": []
   },
   "outputs": [
    {
     "name": "stdout",
     "output_type": "stream",
     "text": [
      "==> Found 2 matchign records out of 909 for Tesla|Tesla Inc|Tesla Motors on 20211221054500\n"
     ]
    },
    {
     "name": "stdout",
     "output_type": "stream",
     "text": [
      "==> Found 1 matchign records out of 834 for Tesla|Tesla Inc|Tesla Motors on 20211221070000\n"
     ]
    },
    {
     "name": "stdout",
     "output_type": "stream",
     "text": [
      "==> Found 2 matchign records out of 911 for Tesla|Tesla Inc|Tesla Motors on 20211221080000\n"
     ]
    },
    {
     "name": "stdout",
     "output_type": "stream",
     "text": [
      "==> Found 2 matchign records out of 1071 for Tesla|Tesla Inc|Tesla Motors on 20211221091500\n"
     ]
    },
    {
     "name": "stdout",
     "output_type": "stream",
     "text": [
      "==> Found 1 matchign records out of 1123 for Tesla|Tesla Inc|Tesla Motors on 20211221093000\n"
     ]
    },
    {
     "name": "stdout",
     "output_type": "stream",
     "text": [
      "==> Found 1 matchign records out of 991 for Tesla|Tesla Inc|Tesla Motors on 20211221101500\n"
     ]
    },
    {
     "name": "stdout",
     "output_type": "stream",
     "text": [
      "==> Found 1 matchign records out of 1540 for Tesla|Tesla Inc|Tesla Motors on 20211221120000\n"
     ]
    },
    {
     "name": "stdout",
     "output_type": "stream",
     "text": [
      "==> Found 1 matchign records out of 1357 for Tesla|Tesla Inc|Tesla Motors on 20211221121500\n"
     ]
    },
    {
     "name": "stdout",
     "output_type": "stream",
     "text": [
      "==> Found 1 matchign records out of 1405 for Tesla|Tesla Inc|Tesla Motors on 20211221133000\n"
     ]
    },
    {
     "name": "stdout",
     "output_type": "stream",
     "text": [
      "==> Found 1 matchign records out of 1658 for Tesla|Tesla Inc|Tesla Motors on 20211221140000\n"
     ]
    },
    {
     "name": "stdout",
     "output_type": "stream",
     "text": [
      "==> Found 1 matchign records out of 1802 for Tesla|Tesla Inc|Tesla Motors on 20211221143000\n"
     ]
    },
    {
     "name": "stdout",
     "output_type": "stream",
     "text": [
      "==> Found 1 matchign records out of 1564 for Tesla|Tesla Inc|Tesla Motors on 20211221150000\n"
     ]
    },
    {
     "name": "stdout",
     "output_type": "stream",
     "text": [
      "==> Found 3 matchign records out of 1562 for Tesla|Tesla Inc|Tesla Motors on 20211221151500\n"
     ]
    },
    {
     "name": "stdout",
     "output_type": "stream",
     "text": [
      "==> Found 2 matchign records out of 1539 for Tesla|Tesla Inc|Tesla Motors on 20211221154500\n"
     ]
    },
    {
     "name": "stdout",
     "output_type": "stream",
     "text": [
      "==> Found 2 matchign records out of 1859 for Tesla|Tesla Inc|Tesla Motors on 20211221160000\n"
     ]
    },
    {
     "name": "stdout",
     "output_type": "stream",
     "text": [
      "==> Found 3 matchign records out of 1915 for Tesla|Tesla Inc|Tesla Motors on 20211221163000\n"
     ]
    },
    {
     "name": "stdout",
     "output_type": "stream",
     "text": [
      "==> Found 3 matchign records out of 1911 for Tesla|Tesla Inc|Tesla Motors on 20211221173000\n"
     ]
    },
    {
     "name": "stdout",
     "output_type": "stream",
     "text": [
      "==> Found 2 matchign records out of 1869 for Tesla|Tesla Inc|Tesla Motors on 20211221174500\n"
     ]
    },
    {
     "name": "stdout",
     "output_type": "stream",
     "text": [
      "==> Found 3 matchign records out of 2023 for Tesla|Tesla Inc|Tesla Motors on 20211221180000\n"
     ]
    },
    {
     "name": "stdout",
     "output_type": "stream",
     "text": [
      "==> Found 4 matchign records out of 2135 for Tesla|Tesla Inc|Tesla Motors on 20211221181500\n"
     ]
    },
    {
     "name": "stdout",
     "output_type": "stream",
     "text": [
      "==> Found 3 matchign records out of 2075 for Tesla|Tesla Inc|Tesla Motors on 20211221183000\n"
     ]
    },
    {
     "name": "stdout",
     "output_type": "stream",
     "text": [
      "==> Found 4 matchign records out of 2013 for Tesla|Tesla Inc|Tesla Motors on 20211221184500\n"
     ]
    },
    {
     "name": "stdout",
     "output_type": "stream",
     "text": [
      "==> Found 1 matchign records out of 2035 for Tesla|Tesla Inc|Tesla Motors on 20211221190000\n"
     ]
    },
    {
     "name": "stdout",
     "output_type": "stream",
     "text": [
      "==> Found 1 matchign records out of 2025 for Tesla|Tesla Inc|Tesla Motors on 20211221191500\n"
     ]
    },
    {
     "name": "stdout",
     "output_type": "stream",
     "text": [
      "==> Found 1 matchign records out of 1971 for Tesla|Tesla Inc|Tesla Motors on 20211221194500\n"
     ]
    },
    {
     "name": "stdout",
     "output_type": "stream",
     "text": [
      "==> Found 2 matchign records out of 1933 for Tesla|Tesla Inc|Tesla Motors on 20211221200000\n"
     ]
    },
    {
     "name": "stdout",
     "output_type": "stream",
     "text": [
      "==> Found 2 matchign records out of 2045 for Tesla|Tesla Inc|Tesla Motors on 20211221201500\n"
     ]
    },
    {
     "name": "stdout",
     "output_type": "stream",
     "text": [
      "==> Found 1 matchign records out of 1939 for Tesla|Tesla Inc|Tesla Motors on 20211221204500\n"
     ]
    },
    {
     "name": "stdout",
     "output_type": "stream",
     "text": [
      "==> Found 1 matchign records out of 1819 for Tesla|Tesla Inc|Tesla Motors on 20211221211500\n"
     ]
    },
    {
     "name": "stdout",
     "output_type": "stream",
     "text": [
      "==> Found 2 matchign records out of 1843 for Tesla|Tesla Inc|Tesla Motors on 20211221213000\n"
     ]
    },
    {
     "name": "stdout",
     "output_type": "stream",
     "text": [
      "==> Found 1 matchign records out of 1870 for Tesla|Tesla Inc|Tesla Motors on 20211221214500\n"
     ]
    },
    {
     "name": "stdout",
     "output_type": "stream",
     "text": [
      "==> Found 5 matchign records out of 1491 for Tesla|Tesla Inc|Tesla Motors on 20211221220000\n"
     ]
    },
    {
     "name": "stdout",
     "output_type": "stream",
     "text": [
      "==> Found 2 matchign records out of 1633 for Tesla|Tesla Inc|Tesla Motors on 20211221221500\n"
     ]
    },
    {
     "name": "stdout",
     "output_type": "stream",
     "text": [
      "==> Found 1 matchign records out of 1426 for Tesla|Tesla Inc|Tesla Motors on 20211221224500\n"
     ]
    },
    {
     "name": "stdout",
     "output_type": "stream",
     "text": [
      "==> Found 1 matchign records out of 1318 for Tesla|Tesla Inc|Tesla Motors on 20211222000000\n"
     ]
    },
    {
     "name": "stdout",
     "output_type": "stream",
     "text": [
      "==> Found 1 matchign records out of 1431 for Tesla|Tesla Inc|Tesla Motors on 20211222010000\n"
     ]
    },
    {
     "name": "stdout",
     "output_type": "stream",
     "text": [
      "==> Found 1 matchign records out of 1438 for Tesla|Tesla Inc|Tesla Motors on 20211222013000\n"
     ]
    },
    {
     "name": "stdout",
     "output_type": "stream",
     "text": [
      "==> Found 1 matchign records out of 898 for Tesla|Tesla Inc|Tesla Motors on 20211222031500\n"
     ]
    },
    {
     "name": "stdout",
     "output_type": "stream",
     "text": [
      "==> Found 2 matchign records out of 905 for Tesla|Tesla Inc|Tesla Motors on 20211222033000\n"
     ]
    },
    {
     "name": "stdout",
     "output_type": "stream",
     "text": [
      "==> Found 1 matchign records out of 900 for Tesla|Tesla Inc|Tesla Motors on 20211222044500\n"
     ]
    },
    {
     "name": "stdout",
     "output_type": "stream",
     "text": [
      "==> Found 1 matchign records out of 958 for Tesla|Tesla Inc|Tesla Motors on 20211222053000\n"
     ]
    },
    {
     "name": "stdout",
     "output_type": "stream",
     "text": [
      "==> Found 2 matchign records out of 920 for Tesla|Tesla Inc|Tesla Motors on 20211222054500\n"
     ]
    },
    {
     "name": "stdout",
     "output_type": "stream",
     "text": [
      "==> Found 1 matchign records out of 897 for Tesla|Tesla Inc|Tesla Motors on 20211222060000\n"
     ]
    },
    {
     "name": "stdout",
     "output_type": "stream",
     "text": [
      "==> Found 1 matchign records out of 800 for Tesla|Tesla Inc|Tesla Motors on 20211222061500\n"
     ]
    },
    {
     "name": "stdout",
     "output_type": "stream",
     "text": [
      "==> Found 2 matchign records out of 945 for Tesla|Tesla Inc|Tesla Motors on 20211222063000\n"
     ]
    },
    {
     "name": "stdout",
     "output_type": "stream",
     "text": [
      "==> Found 2 matchign records out of 881 for Tesla|Tesla Inc|Tesla Motors on 20211222064500\n"
     ]
    },
    {
     "name": "stdout",
     "output_type": "stream",
     "text": [
      "==> Found 2 matchign records out of 1078 for Tesla|Tesla Inc|Tesla Motors on 20211222070000\n"
     ]
    },
    {
     "name": "stdout",
     "output_type": "stream",
     "text": [
      "==> Found 1 matchign records out of 897 for Tesla|Tesla Inc|Tesla Motors on 20211222071500\n"
     ]
    },
    {
     "name": "stdout",
     "output_type": "stream",
     "text": [
      "==> Found 2 matchign records out of 940 for Tesla|Tesla Inc|Tesla Motors on 20211222073000\n"
     ]
    },
    {
     "name": "stdout",
     "output_type": "stream",
     "text": [
      "==> Found 2 matchign records out of 968 for Tesla|Tesla Inc|Tesla Motors on 20211222074500\n"
     ]
    },
    {
     "name": "stdout",
     "output_type": "stream",
     "text": [
      "==> Found 1 matchign records out of 957 for Tesla|Tesla Inc|Tesla Motors on 20211222080000\n"
     ]
    },
    {
     "name": "stdout",
     "output_type": "stream",
     "text": [
      "==> Found 3 matchign records out of 875 for Tesla|Tesla Inc|Tesla Motors on 20211222081500\n"
     ]
    },
    {
     "name": "stdout",
     "output_type": "stream",
     "text": [
      "==> Found 2 matchign records out of 986 for Tesla|Tesla Inc|Tesla Motors on 20211222083000\n"
     ]
    },
    {
     "name": "stdout",
     "output_type": "stream",
     "text": [
      "==> Found 1 matchign records out of 942 for Tesla|Tesla Inc|Tesla Motors on 20211222090000\n"
     ]
    },
    {
     "name": "stdout",
     "output_type": "stream",
     "text": [
      "==> Found 1 matchign records out of 949 for Tesla|Tesla Inc|Tesla Motors on 20211222094500\n"
     ]
    },
    {
     "name": "stdout",
     "output_type": "stream",
     "text": [
      "==> Found 1 matchign records out of 1055 for Tesla|Tesla Inc|Tesla Motors on 20211222100000\n"
     ]
    },
    {
     "name": "stdout",
     "output_type": "stream",
     "text": [
      "==> Found 1 matchign records out of 1318 for Tesla|Tesla Inc|Tesla Motors on 20211222113000\n"
     ]
    },
    {
     "name": "stdout",
     "output_type": "stream",
     "text": [
      "==> Found 1 matchign records out of 1420 for Tesla|Tesla Inc|Tesla Motors on 20211222120000\n"
     ]
    },
    {
     "name": "stdout",
     "output_type": "stream",
     "text": [
      "==> Found 3 matchign records out of 1467 for Tesla|Tesla Inc|Tesla Motors on 20211222121500\n"
     ]
    },
    {
     "name": "stdout",
     "output_type": "stream",
     "text": [
      "==> Found 1 matchign records out of 1316 for Tesla|Tesla Inc|Tesla Motors on 20211222130000\n"
     ]
    },
    {
     "name": "stdout",
     "output_type": "stream",
     "text": [
      "==> Found 1 matchign records out of 1358 for Tesla|Tesla Inc|Tesla Motors on 20211222131500\n"
     ]
    },
    {
     "name": "stdout",
     "output_type": "stream",
     "text": [
      "==> Found 4 matchign records out of 1480 for Tesla|Tesla Inc|Tesla Motors on 20211222133000\n"
     ]
    },
    {
     "name": "stdout",
     "output_type": "stream",
     "text": [
      "==> Found 2 matchign records out of 1653 for Tesla|Tesla Inc|Tesla Motors on 20211222134500\n"
     ]
    },
    {
     "name": "stdout",
     "output_type": "stream",
     "text": [
      "==> Found 3 matchign records out of 1489 for Tesla|Tesla Inc|Tesla Motors on 20211222140000\n"
     ]
    },
    {
     "name": "stdout",
     "output_type": "stream",
     "text": [
      "==> Found 3 matchign records out of 1465 for Tesla|Tesla Inc|Tesla Motors on 20211222143000\n"
     ]
    },
    {
     "name": "stdout",
     "output_type": "stream",
     "text": [
      "==> Found 1 matchign records out of 1739 for Tesla|Tesla Inc|Tesla Motors on 20211222144500\n"
     ]
    },
    {
     "name": "stdout",
     "output_type": "stream",
     "text": [
      "==> Found 3 matchign records out of 1696 for Tesla|Tesla Inc|Tesla Motors on 20211222150000\n"
     ]
    },
    {
     "name": "stdout",
     "output_type": "stream",
     "text": [
      "==> Found 3 matchign records out of 1694 for Tesla|Tesla Inc|Tesla Motors on 20211222151500\n"
     ]
    },
    {
     "name": "stdout",
     "output_type": "stream",
     "text": [
      "==> Found 3 matchign records out of 1544 for Tesla|Tesla Inc|Tesla Motors on 20211222153000\n"
     ]
    },
    {
     "name": "stdout",
     "output_type": "stream",
     "text": [
      "==> Found 5 matchign records out of 1862 for Tesla|Tesla Inc|Tesla Motors on 20211222154500\n"
     ]
    },
    {
     "name": "stdout",
     "output_type": "stream",
     "text": [
      "==> Found 4 matchign records out of 1762 for Tesla|Tesla Inc|Tesla Motors on 20211222161500\n"
     ]
    },
    {
     "name": "stdout",
     "output_type": "stream",
     "text": [
      "==> Found 2 matchign records out of 1607 for Tesla|Tesla Inc|Tesla Motors on 20211222163000\n"
     ]
    },
    {
     "name": "stdout",
     "output_type": "stream",
     "text": [
      "==> Found 2 matchign records out of 1915 for Tesla|Tesla Inc|Tesla Motors on 20211222164500\n"
     ]
    },
    {
     "name": "stdout",
     "output_type": "stream",
     "text": [
      "==> Found 2 matchign records out of 1825 for Tesla|Tesla Inc|Tesla Motors on 20211222170000\n"
     ]
    },
    {
     "name": "stdout",
     "output_type": "stream",
     "text": [
      "==> Found 1 matchign records out of 1802 for Tesla|Tesla Inc|Tesla Motors on 20211222171500\n"
     ]
    },
    {
     "name": "stdout",
     "output_type": "stream",
     "text": [
      "==> Found 2 matchign records out of 1969 for Tesla|Tesla Inc|Tesla Motors on 20211222174500\n"
     ]
    },
    {
     "name": "stdout",
     "output_type": "stream",
     "text": [
      "==> Found 1 matchign records out of 1924 for Tesla|Tesla Inc|Tesla Motors on 20211222180000\n"
     ]
    },
    {
     "name": "stdout",
     "output_type": "stream",
     "text": [
      "==> Found 1 matchign records out of 1818 for Tesla|Tesla Inc|Tesla Motors on 20211222183000\n"
     ]
    },
    {
     "name": "stdout",
     "output_type": "stream",
     "text": [
      "==> Found 1 matchign records out of 1896 for Tesla|Tesla Inc|Tesla Motors on 20211222184500\n"
     ]
    },
    {
     "name": "stdout",
     "output_type": "stream",
     "text": [
      "==> Found 1 matchign records out of 1938 for Tesla|Tesla Inc|Tesla Motors on 20211222190000\n"
     ]
    },
    {
     "name": "stdout",
     "output_type": "stream",
     "text": [
      "==> Found 1 matchign records out of 1975 for Tesla|Tesla Inc|Tesla Motors on 20211222191500\n"
     ]
    },
    {
     "name": "stdout",
     "output_type": "stream",
     "text": [
      "==> Found 2 matchign records out of 1993 for Tesla|Tesla Inc|Tesla Motors on 20211222193000\n"
     ]
    },
    {
     "name": "stdout",
     "output_type": "stream",
     "text": [
      "==> Found 1 matchign records out of 2078 for Tesla|Tesla Inc|Tesla Motors on 20211222194500\n"
     ]
    },
    {
     "name": "stdout",
     "output_type": "stream",
     "text": [
      "==> Found 2 matchign records out of 1959 for Tesla|Tesla Inc|Tesla Motors on 20211222200000\n"
     ]
    },
    {
     "name": "stdout",
     "output_type": "stream",
     "text": [
      "==> Found 2 matchign records out of 1733 for Tesla|Tesla Inc|Tesla Motors on 20211222210000\n"
     ]
    },
    {
     "name": "stdout",
     "output_type": "stream",
     "text": [
      "==> Found 3 matchign records out of 1628 for Tesla|Tesla Inc|Tesla Motors on 20211222211500\n"
     ]
    },
    {
     "name": "stdout",
     "output_type": "stream",
     "text": [
      "==> Found 3 matchign records out of 1808 for Tesla|Tesla Inc|Tesla Motors on 20211222213000\n"
     ]
    },
    {
     "name": "stdout",
     "output_type": "stream",
     "text": [
      "==> Found 2 matchign records out of 1603 for Tesla|Tesla Inc|Tesla Motors on 20211222214500\n"
     ]
    },
    {
     "name": "stdout",
     "output_type": "stream",
     "text": [
      "==> Found 1 matchign records out of 1767 for Tesla|Tesla Inc|Tesla Motors on 20211222220000\n"
     ]
    },
    {
     "name": "stdout",
     "output_type": "stream",
     "text": [
      "==> Found 2 matchign records out of 1669 for Tesla|Tesla Inc|Tesla Motors on 20211222221500\n"
     ]
    },
    {
     "name": "stdout",
     "output_type": "stream",
     "text": [
      "==> Found 2 matchign records out of 1500 for Tesla|Tesla Inc|Tesla Motors on 20211222223000\n"
     ]
    },
    {
     "name": "stdout",
     "output_type": "stream",
     "text": [
      "==> Found 4 matchign records out of 1618 for Tesla|Tesla Inc|Tesla Motors on 20211222230000\n"
     ]
    },
    {
     "name": "stdout",
     "output_type": "stream",
     "text": [
      "==> Found 1 matchign records out of 1402 for Tesla|Tesla Inc|Tesla Motors on 20211222231500\n"
     ]
    },
    {
     "name": "stdout",
     "output_type": "stream",
     "text": [
      "==> Found 1 matchign records out of 1412 for Tesla|Tesla Inc|Tesla Motors on 20211222233000\n"
     ]
    },
    {
     "name": "stdout",
     "output_type": "stream",
     "text": [
      "==> Found 1 matchign records out of 1552 for Tesla|Tesla Inc|Tesla Motors on 20211222234500\n"
     ]
    },
    {
     "name": "stdout",
     "output_type": "stream",
     "text": [
      "==> Found 1 matchign records out of 1441 for Tesla|Tesla Inc|Tesla Motors on 20211223000000\n"
     ]
    },
    {
     "name": "stdout",
     "output_type": "stream",
     "text": [
      "==> Found 1 matchign records out of 1339 for Tesla|Tesla Inc|Tesla Motors on 20211223001500\n"
     ]
    },
    {
     "name": "stdout",
     "output_type": "stream",
     "text": [
      "==> Found 3 matchign records out of 1340 for Tesla|Tesla Inc|Tesla Motors on 20211223010000\n"
     ]
    },
    {
     "name": "stdout",
     "output_type": "stream",
     "text": [
      "==> Found 3 matchign records out of 1199 for Tesla|Tesla Inc|Tesla Motors on 20211223013000\n"
     ]
    },
    {
     "name": "stdout",
     "output_type": "stream",
     "text": [
      "==> Found 2 matchign records out of 1280 for Tesla|Tesla Inc|Tesla Motors on 20211223014500\n"
     ]
    },
    {
     "name": "stdout",
     "output_type": "stream",
     "text": [
      "==> Found 1 matchign records out of 1382 for Tesla|Tesla Inc|Tesla Motors on 20211223020000\n"
     ]
    },
    {
     "name": "stdout",
     "output_type": "stream",
     "text": [
      "==> Found 1 matchign records out of 1221 for Tesla|Tesla Inc|Tesla Motors on 20211223023000\n"
     ]
    },
    {
     "name": "stdout",
     "output_type": "stream",
     "text": [
      "==> Found 3 matchign records out of 1232 for Tesla|Tesla Inc|Tesla Motors on 20211223030000\n"
     ]
    },
    {
     "name": "stdout",
     "output_type": "stream",
     "text": [
      "==> Found 1 matchign records out of 970 for Tesla|Tesla Inc|Tesla Motors on 20211223033000\n"
     ]
    },
    {
     "name": "stdout",
     "output_type": "stream",
     "text": [
      "==> Found 1 matchign records out of 949 for Tesla|Tesla Inc|Tesla Motors on 20211223041500\n"
     ]
    },
    {
     "name": "stdout",
     "output_type": "stream",
     "text": [
      "==> Found 1 matchign records out of 958 for Tesla|Tesla Inc|Tesla Motors on 20211223050000\n"
     ]
    },
    {
     "name": "stdout",
     "output_type": "stream",
     "text": [
      "==> Found 2 matchign records out of 765 for Tesla|Tesla Inc|Tesla Motors on 20211223060000\n"
     ]
    },
    {
     "name": "stdout",
     "output_type": "stream",
     "text": [
      "==> Found 1 matchign records out of 785 for Tesla|Tesla Inc|Tesla Motors on 20211223064500\n"
     ]
    },
    {
     "name": "stdout",
     "output_type": "stream",
     "text": [
      "==> Found 1 matchign records out of 862 for Tesla|Tesla Inc|Tesla Motors on 20211223071500\n"
     ]
    },
    {
     "name": "stdout",
     "output_type": "stream",
     "text": [
      "==> Found 3 matchign records out of 873 for Tesla|Tesla Inc|Tesla Motors on 20211223073000\n"
     ]
    },
    {
     "name": "stdout",
     "output_type": "stream",
     "text": [
      "==> Found 1 matchign records out of 982 for Tesla|Tesla Inc|Tesla Motors on 20211223074500\n"
     ]
    },
    {
     "name": "stdout",
     "output_type": "stream",
     "text": [
      "==> Found 1 matchign records out of 1121 for Tesla|Tesla Inc|Tesla Motors on 20211223080000\n"
     ]
    },
    {
     "name": "stdout",
     "output_type": "stream",
     "text": [
      "==> Found 2 matchign records out of 1190 for Tesla|Tesla Inc|Tesla Motors on 20211223083000\n"
     ]
    },
    {
     "name": "stdout",
     "output_type": "stream",
     "text": [
      "==> Found 3 matchign records out of 1081 for Tesla|Tesla Inc|Tesla Motors on 20211223090000\n"
     ]
    },
    {
     "name": "stdout",
     "output_type": "stream",
     "text": [
      "==> Found 4 matchign records out of 988 for Tesla|Tesla Inc|Tesla Motors on 20211223093000\n"
     ]
    },
    {
     "name": "stdout",
     "output_type": "stream",
     "text": [
      "==> Found 1 matchign records out of 1092 for Tesla|Tesla Inc|Tesla Motors on 20211223094500\n"
     ]
    },
    {
     "name": "stdout",
     "output_type": "stream",
     "text": [
      "==> Found 2 matchign records out of 1095 for Tesla|Tesla Inc|Tesla Motors on 20211223100000\n"
     ]
    },
    {
     "name": "stdout",
     "output_type": "stream",
     "text": [
      "==> Found 4 matchign records out of 1268 for Tesla|Tesla Inc|Tesla Motors on 20211223101500\n"
     ]
    },
    {
     "name": "stdout",
     "output_type": "stream",
     "text": [
      "==> Found 7 matchign records out of 1103 for Tesla|Tesla Inc|Tesla Motors on 20211223103000\n"
     ]
    },
    {
     "name": "stdout",
     "output_type": "stream",
     "text": [
      "==> Found 1 matchign records out of 1206 for Tesla|Tesla Inc|Tesla Motors on 20211223110000\n"
     ]
    },
    {
     "name": "stdout",
     "output_type": "stream",
     "text": [
      "==> Found 1 matchign records out of 1258 for Tesla|Tesla Inc|Tesla Motors on 20211223111500\n"
     ]
    },
    {
     "name": "stdout",
     "output_type": "stream",
     "text": [
      "==> Found 3 matchign records out of 1266 for Tesla|Tesla Inc|Tesla Motors on 20211223113000\n"
     ]
    },
    {
     "name": "stdout",
     "output_type": "stream",
     "text": [
      "==> Found 3 matchign records out of 949 for Tesla|Tesla Inc|Tesla Motors on 20211223114500\n"
     ]
    },
    {
     "name": "stdout",
     "output_type": "stream",
     "text": [
      "==> Found 1 matchign records out of 1171 for Tesla|Tesla Inc|Tesla Motors on 20211223120000\n"
     ]
    },
    {
     "name": "stdout",
     "output_type": "stream",
     "text": [
      "==> Found 3 matchign records out of 1395 for Tesla|Tesla Inc|Tesla Motors on 20211223121500\n"
     ]
    },
    {
     "name": "stdout",
     "output_type": "stream",
     "text": [
      "==> Found 1 matchign records out of 1562 for Tesla|Tesla Inc|Tesla Motors on 20211223123000\n"
     ]
    },
    {
     "name": "stdout",
     "output_type": "stream",
     "text": [
      "==> Found 1 matchign records out of 1479 for Tesla|Tesla Inc|Tesla Motors on 20211223130000\n"
     ]
    },
    {
     "name": "stdout",
     "output_type": "stream",
     "text": [
      "==> Found 1 matchign records out of 1254 for Tesla|Tesla Inc|Tesla Motors on 20211223131500\n"
     ]
    },
    {
     "name": "stdout",
     "output_type": "stream",
     "text": [
      "==> Found 3 matchign records out of 1363 for Tesla|Tesla Inc|Tesla Motors on 20211223134500\n"
     ]
    },
    {
     "name": "stdout",
     "output_type": "stream",
     "text": [
      "==> Found 1 matchign records out of 1402 for Tesla|Tesla Inc|Tesla Motors on 20211223140000\n"
     ]
    },
    {
     "name": "stdout",
     "output_type": "stream",
     "text": [
      "==> Found 1 matchign records out of 1620 for Tesla|Tesla Inc|Tesla Motors on 20211223151500\n"
     ]
    },
    {
     "name": "stdout",
     "output_type": "stream",
     "text": [
      "==> Found 1 matchign records out of 1700 for Tesla|Tesla Inc|Tesla Motors on 20211223153000\n"
     ]
    },
    {
     "name": "stdout",
     "output_type": "stream",
     "text": [
      "==> Found 3 matchign records out of 1441 for Tesla|Tesla Inc|Tesla Motors on 20211223154500\n"
     ]
    },
    {
     "name": "stdout",
     "output_type": "stream",
     "text": [
      "==> Found 1 matchign records out of 1724 for Tesla|Tesla Inc|Tesla Motors on 20211223170000\n"
     ]
    },
    {
     "name": "stdout",
     "output_type": "stream",
     "text": [
      "==> Found 1 matchign records out of 1804 for Tesla|Tesla Inc|Tesla Motors on 20211223171500\n"
     ]
    },
    {
     "name": "stdout",
     "output_type": "stream",
     "text": [
      "==> Found 1 matchign records out of 1708 for Tesla|Tesla Inc|Tesla Motors on 20211223183000\n"
     ]
    },
    {
     "name": "stdout",
     "output_type": "stream",
     "text": [
      "==> Found 1 matchign records out of 1768 for Tesla|Tesla Inc|Tesla Motors on 20211223190000\n"
     ]
    },
    {
     "name": "stdout",
     "output_type": "stream",
     "text": [
      "==> Found 1 matchign records out of 1825 for Tesla|Tesla Inc|Tesla Motors on 20211223193000\n"
     ]
    },
    {
     "name": "stdout",
     "output_type": "stream",
     "text": [
      "==> Found 1 matchign records out of 1470 for Tesla|Tesla Inc|Tesla Motors on 20211223210000\n"
     ]
    },
    {
     "name": "stdout",
     "output_type": "stream",
     "text": [
      "==> Found 1 matchign records out of 1544 for Tesla|Tesla Inc|Tesla Motors on 20211223213000\n"
     ]
    },
    {
     "name": "stdout",
     "output_type": "stream",
     "text": [
      "==> Found 2 matchign records out of 1465 for Tesla|Tesla Inc|Tesla Motors on 20211223214500\n"
     ]
    },
    {
     "name": "stdout",
     "output_type": "stream",
     "text": [
      "==> Found 6 matchign records out of 1624 for Tesla|Tesla Inc|Tesla Motors on 20211223220000\n"
     ]
    },
    {
     "name": "stdout",
     "output_type": "stream",
     "text": [
      "==> Found 2 matchign records out of 1520 for Tesla|Tesla Inc|Tesla Motors on 20211223221500\n"
     ]
    },
    {
     "name": "stdout",
     "output_type": "stream",
     "text": [
      "==> Found 2 matchign records out of 1568 for Tesla|Tesla Inc|Tesla Motors on 20211223223000\n"
     ]
    },
    {
     "name": "stdout",
     "output_type": "stream",
     "text": [
      "==> Found 3 matchign records out of 1197 for Tesla|Tesla Inc|Tesla Motors on 20211223224500\n"
     ]
    },
    {
     "name": "stdout",
     "output_type": "stream",
     "text": [
      "==> Found 1 matchign records out of 1390 for Tesla|Tesla Inc|Tesla Motors on 20211223230000\n"
     ]
    },
    {
     "name": "stdout",
     "output_type": "stream",
     "text": [
      "==> Found 3 matchign records out of 1451 for Tesla|Tesla Inc|Tesla Motors on 20211223231500\n"
     ]
    },
    {
     "name": "stdout",
     "output_type": "stream",
     "text": [
      "==> Found 1 matchign records out of 1325 for Tesla|Tesla Inc|Tesla Motors on 20211223234500\n"
     ]
    },
    {
     "name": "stdout",
     "output_type": "stream",
     "text": [
      "==> Found 3 matchign records out of 1611 for Tesla|Tesla Inc|Tesla Motors on 20211224000000\n"
     ]
    },
    {
     "name": "stdout",
     "output_type": "stream",
     "text": [
      "==> Found 1 matchign records out of 1137 for Tesla|Tesla Inc|Tesla Motors on 20211224001500\n"
     ]
    },
    {
     "name": "stdout",
     "output_type": "stream",
     "text": [
      "==> Found 1 matchign records out of 1339 for Tesla|Tesla Inc|Tesla Motors on 20211224004500\n"
     ]
    },
    {
     "name": "stdout",
     "output_type": "stream",
     "text": [
      "==> Found 2 matchign records out of 1090 for Tesla|Tesla Inc|Tesla Motors on 20211224013000\n"
     ]
    },
    {
     "name": "stdout",
     "output_type": "stream",
     "text": [
      "==> Found 1 matchign records out of 1145 for Tesla|Tesla Inc|Tesla Motors on 20211224014500\n"
     ]
    },
    {
     "name": "stdout",
     "output_type": "stream",
     "text": [
      "==> Found 5 matchign records out of 1073 for Tesla|Tesla Inc|Tesla Motors on 20211224021500\n"
     ]
    },
    {
     "name": "stdout",
     "output_type": "stream",
     "text": [
      "==> Found 2 matchign records out of 1074 for Tesla|Tesla Inc|Tesla Motors on 20211224024500\n"
     ]
    },
    {
     "name": "stdout",
     "output_type": "stream",
     "text": [
      "==> Found 3 matchign records out of 957 for Tesla|Tesla Inc|Tesla Motors on 20211224031500\n"
     ]
    },
    {
     "name": "stdout",
     "output_type": "stream",
     "text": [
      "==> Found 1 matchign records out of 1073 for Tesla|Tesla Inc|Tesla Motors on 20211224041500\n"
     ]
    },
    {
     "name": "stdout",
     "output_type": "stream",
     "text": [
      "==> Found 1 matchign records out of 730 for Tesla|Tesla Inc|Tesla Motors on 20211224043000\n"
     ]
    },
    {
     "name": "stdout",
     "output_type": "stream",
     "text": [
      "==> Found 2 matchign records out of 838 for Tesla|Tesla Inc|Tesla Motors on 20211224050000\n"
     ]
    },
    {
     "name": "stdout",
     "output_type": "stream",
     "text": [
      "==> Found 2 matchign records out of 861 for Tesla|Tesla Inc|Tesla Motors on 20211224054500\n"
     ]
    },
    {
     "name": "stdout",
     "output_type": "stream",
     "text": [
      "==> Found 1 matchign records out of 817 for Tesla|Tesla Inc|Tesla Motors on 20211224060000\n"
     ]
    },
    {
     "name": "stdout",
     "output_type": "stream",
     "text": [
      "==> Found 1 matchign records out of 827 for Tesla|Tesla Inc|Tesla Motors on 20211224064500\n"
     ]
    },
    {
     "name": "stdout",
     "output_type": "stream",
     "text": [
      "==> Found 1 matchign records out of 964 for Tesla|Tesla Inc|Tesla Motors on 20211224070000\n"
     ]
    },
    {
     "name": "stdout",
     "output_type": "stream",
     "text": [
      "==> Found 2 matchign records out of 845 for Tesla|Tesla Inc|Tesla Motors on 20211224071500\n"
     ]
    },
    {
     "name": "stdout",
     "output_type": "stream",
     "text": [
      "==> Found 1 matchign records out of 817 for Tesla|Tesla Inc|Tesla Motors on 20211224073000\n"
     ]
    },
    {
     "name": "stdout",
     "output_type": "stream",
     "text": [
      "==> Found 1 matchign records out of 755 for Tesla|Tesla Inc|Tesla Motors on 20211224081500\n"
     ]
    },
    {
     "name": "stdout",
     "output_type": "stream",
     "text": [
      "==> Found 1 matchign records out of 928 for Tesla|Tesla Inc|Tesla Motors on 20211224083000\n"
     ]
    },
    {
     "name": "stdout",
     "output_type": "stream",
     "text": [
      "==> Found 2 matchign records out of 903 for Tesla|Tesla Inc|Tesla Motors on 20211224093000\n"
     ]
    },
    {
     "name": "stdout",
     "output_type": "stream",
     "text": [
      "==> Found 1 matchign records out of 995 for Tesla|Tesla Inc|Tesla Motors on 20211224101500\n"
     ]
    },
    {
     "name": "stdout",
     "output_type": "stream",
     "text": [
      "==> Found 1 matchign records out of 1014 for Tesla|Tesla Inc|Tesla Motors on 20211224104500\n"
     ]
    },
    {
     "name": "stdout",
     "output_type": "stream",
     "text": [
      "==> Found 1 matchign records out of 1084 for Tesla|Tesla Inc|Tesla Motors on 20211224120000\n"
     ]
    },
    {
     "name": "stdout",
     "output_type": "stream",
     "text": [
      "==> Found 1 matchign records out of 1239 for Tesla|Tesla Inc|Tesla Motors on 20211224121500\n"
     ]
    },
    {
     "name": "stdout",
     "output_type": "stream",
     "text": [
      "==> Found 1 matchign records out of 1050 for Tesla|Tesla Inc|Tesla Motors on 20211224130000\n"
     ]
    },
    {
     "name": "stdout",
     "output_type": "stream",
     "text": [
      "==> Found 2 matchign records out of 1106 for Tesla|Tesla Inc|Tesla Motors on 20211224133000\n"
     ]
    },
    {
     "name": "stdout",
     "output_type": "stream",
     "text": [
      "==> Found 1 matchign records out of 1221 for Tesla|Tesla Inc|Tesla Motors on 20211224140000\n"
     ]
    },
    {
     "name": "stdout",
     "output_type": "stream",
     "text": [
      "==> Found 1 matchign records out of 1070 for Tesla|Tesla Inc|Tesla Motors on 20211224141500\n"
     ]
    },
    {
     "name": "stdout",
     "output_type": "stream",
     "text": [
      "==> Found 1 matchign records out of 1123 for Tesla|Tesla Inc|Tesla Motors on 20211224170000\n"
     ]
    }
   ],
   "source": [
    "#  config parameter that tells us rolling window for getting data \n",
    "# i.e. a value of 30 in env.yaml means 30 days rolling window. We will fetch data from today to 30 days back.\n",
    "rolling_window = query_params[\"rolling_window\"]\n",
    "\n",
    "# fetch data for each day and then filter it on search terms\n",
    "for url in urls:\n",
    "    file_name = os.path.basename(url).split(\".\")[0]\n",
    "    search_results = pd.read_csv(url, sep='\\t', names=col_names, on_bad_lines='skip', encoding_errors='ignore')\n",
    "    # Add search date to file name     \n",
    "    file_path = f'{product[\"data\"]}/{str(file_name)}'\n",
    "    Path(file_path).parent.mkdir(exist_ok=True, parents=True)\n",
    "\n",
    "    # Form a query friendly search terms     \n",
    "    search_terms = \"|\".join(query_params['search_terms'])\n",
    "    organizations = search_results['V2Organizations'].str.lower()\n",
    "    filter_cond = organizations.str.contains(search_terms, regex=True, case=False, na=False)\n",
    "    df = search_results[filter_cond]\n",
    "\n",
    "    if len(df) > 0:\n",
    "        print(f\"==> Found {len(df)} matchign records out of {len(search_results)} for {search_terms} on {file_name}\")\n",
    "        df[filter_cols].to_csv(file_path + '.csv')"
   ]
  },
  {
   "cell_type": "code",
   "execution_count": null,
   "id": "11c2bfed",
   "metadata": {
    "papermill": {
     "duration": null,
     "end_time": null,
     "exception": null,
     "start_time": null,
     "status": "pending"
    },
    "tags": []
   },
   "outputs": [],
   "source": [
    "# #  config parameter that tells us rolling window for getting data \n",
    "# # i.e. a value of 30 in env.yaml means 30 days rolling window. We will fetch data from today to 30 days back.\n",
    "# rolling_window = query_params[\"rolling_window\"]\n",
    "\n",
    "# # fetch data for each day and then filter it on search terms\n",
    "# for day_num in range(rolling_window):\n",
    "\n",
    "#     today = datetime.today()\n",
    "#     how_far_back = timedelta(days=day_num)\n",
    "#     search_date = today - how_far_back\n",
    "\n",
    "#     print(f\"Searching for {search_date}\")\n",
    "#     # try:\n",
    "#     search_results = gd.Search(\n",
    "#         str(search_date),\n",
    "#         table='gkg', \n",
    "#         coverage=False,\n",
    "#         translation=True\n",
    "#     )\n",
    "#     # except:\n",
    "#     #     print(f\"=> No records returnd for date {search_date}\")\n",
    "#     #     continue;\n",
    "#     print(search_results.columns)\n",
    "#     break\n",
    "#     print(f\"=> Returned {len(search_results)} records\")\n",
    "\n",
    "#     # Add search date to file name     \n",
    "#     file_path = f'{product[\"data\"]}/{str(search_date)}'\n",
    "#     Path(file_path).parent.mkdir(exist_ok=True, parents=True)\n",
    "\n",
    "#     # Form a query friendly search terms     \n",
    "#     search_terms = \"|\".join(query_params['search_terms'])\n",
    "#     organizations = search_results['V2Organizations'].str.lower()\n",
    "#     filter_cond = organizations.str.contains(search_terms, regex=True, case=False, na=False)\n",
    "#     df = search_results[filter_cond]\n",
    "\n",
    "#     if len(df) > 0 :\n",
    "#         print(f\"==> Found {len(df)} matchign records for {search_terms} on {search_date}\")\n",
    "#         df[filter_cols].to_csv(file_path + '.csv')"
   ]
  }
 ],
 "metadata": {
  "jupytext": {
   "cell_metadata_filter": "tags,-all",
   "main_language": "python",
   "notebook_metadata_filter": "-all",
   "text_representation": {
    "extension": ".py",
    "format_name": "light"
   }
  },
  "kernelspec": {
   "display_name": "Python 3 (ipykernel)",
   "language": "python",
   "name": "python3"
  },
  "papermill": {
   "duration": null,
   "end_time": null,
   "exception": null,
   "input_path": "/var/folders/b0/4tc1nfbd6z7_vhx4nxcj2n91c0l9h6/T/tmp3tv7z4bt.ipynb",
   "output_path": "/Users/aiujdm2/market_watch/output/notebooks/fetch_gdelt_data.ipynb",
   "parameters": {
    "product": {
     "data": "/Users/aiujdm2/market_watch/output/data/raw",
     "nb": "/Users/aiujdm2/market_watch/output/notebooks/fetch_gdelt_data.ipynb"
    },
    "query_params": {
     "gdelt_gkg_base_url": "http://data.gdeltproject.org/gdeltv2/",
     "rolling_window": 90,
     "search_terms": [
      "Tesla",
      "Tesla Inc",
      "Tesla Motors"
     ]
    }
   },
   "start_time": "2022-03-21T05:31:50.175235"
  }
 },
 "nbformat": 4,
 "nbformat_minor": 5
}