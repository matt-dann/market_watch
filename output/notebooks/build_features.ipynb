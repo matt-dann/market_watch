{
 "cells": [
  {
   "cell_type": "code",
   "execution_count": 1,
   "id": "e2b59249",
   "metadata": {
    "execution": {
     "iopub.execute_input": "2022-03-22T00:11:24.203388Z",
     "iopub.status.busy": "2022-03-22T00:11:24.203078Z",
     "iopub.status.idle": "2022-03-22T00:11:24.504640Z",
     "shell.execute_reply": "2022-03-22T00:11:24.504076Z"
    },
    "papermill": {
     "duration": 0.314833,
     "end_time": "2022-03-22T00:11:24.506513",
     "exception": false,
     "start_time": "2022-03-22T00:11:24.191680",
     "status": "completed"
    },
    "tags": []
   },
   "outputs": [],
   "source": [
    "import pandas as pd"
   ]
  },
  {
   "cell_type": "code",
   "execution_count": 2,
   "id": "987247fd",
   "metadata": {
    "execution": {
     "iopub.execute_input": "2022-03-22T00:11:24.519767Z",
     "iopub.status.busy": "2022-03-22T00:11:24.519575Z",
     "iopub.status.idle": "2022-03-22T00:11:24.522238Z",
     "shell.execute_reply": "2022-03-22T00:11:24.521746Z"
    },
    "lines_to_next_cell": 2,
    "papermill": {
     "duration": 0.010951,
     "end_time": "2022-03-22T00:11:24.523902",
     "exception": false,
     "start_time": "2022-03-22T00:11:24.512951",
     "status": "completed"
    },
    "tags": [
     "parameters"
    ]
   },
   "outputs": [],
   "source": [
    "# declare a list tasks whose products you want to use as inputs\n",
    "upstream = ['clean_gdelt_data']\n"
   ]
  },
  {
   "cell_type": "code",
   "execution_count": 3,
   "id": "53b7b2de",
   "metadata": {
    "execution": {
     "iopub.execute_input": "2022-03-22T00:11:24.537434Z",
     "iopub.status.busy": "2022-03-22T00:11:24.537240Z",
     "iopub.status.idle": "2022-03-22T00:11:24.540360Z",
     "shell.execute_reply": "2022-03-22T00:11:24.539690Z"
    },
    "papermill": {
     "duration": 0.011784,
     "end_time": "2022-03-22T00:11:24.542326",
     "exception": false,
     "start_time": "2022-03-22T00:11:24.530542",
     "status": "completed"
    },
    "tags": [
     "injected-parameters"
    ]
   },
   "outputs": [],
   "source": [
    "# Parameters\n",
    "upstream = {\n",
    "    \"clean_gdelt_data\": {\n",
    "        \"nb\": \"/Users/aiujdm2/market_watch/output/notebooks/clean_gdelt_data.ipynb\",\n",
    "        \"data\": \"/Users/aiujdm2/market_watch/output/data/interim/cleaned-gdelt-data.csv\",\n",
    "    }\n",
    "}\n",
    "product = {\"nb\": \"/Users/aiujdm2/market_watch/output/notebooks/build_features.ipynb\"}\n"
   ]
  },
  {
   "cell_type": "code",
   "execution_count": 4,
   "id": "8ae0428f",
   "metadata": {
    "execution": {
     "iopub.execute_input": "2022-03-22T00:11:24.555323Z",
     "iopub.status.busy": "2022-03-22T00:11:24.555130Z",
     "iopub.status.idle": "2022-03-22T00:11:24.557577Z",
     "shell.execute_reply": "2022-03-22T00:11:24.557185Z"
    },
    "papermill": {
     "duration": 0.010954,
     "end_time": "2022-03-22T00:11:24.559299",
     "exception": false,
     "start_time": "2022-03-22T00:11:24.548345",
     "status": "completed"
    },
    "tags": []
   },
   "outputs": [],
   "source": [
    "input_file_path = str(upstream['clean_gdelt_data']['data'])"
   ]
  },
  {
   "cell_type": "code",
   "execution_count": 5,
   "id": "74b27c28",
   "metadata": {
    "execution": {
     "iopub.execute_input": "2022-03-22T00:11:24.572435Z",
     "iopub.status.busy": "2022-03-22T00:11:24.572241Z",
     "iopub.status.idle": "2022-03-22T00:11:24.575506Z",
     "shell.execute_reply": "2022-03-22T00:11:24.574980Z"
    },
    "papermill": {
     "duration": 0.011829,
     "end_time": "2022-03-22T00:11:24.577203",
     "exception": false,
     "start_time": "2022-03-22T00:11:24.565374",
     "status": "completed"
    },
    "tags": []
   },
   "outputs": [],
   "source": [
    "def read_data(input_file_path):\n",
    "    print(f\"reading {input_file_path}\")\n",
    "    data = pd.read_csv(input_file_path, index_col=0)\n",
    "    return data"
   ]
  },
  {
   "cell_type": "code",
   "execution_count": 6,
   "id": "f69ca6c7",
   "metadata": {
    "execution": {
     "iopub.execute_input": "2022-03-22T00:11:24.591816Z",
     "iopub.status.busy": "2022-03-22T00:11:24.591623Z",
     "iopub.status.idle": "2022-03-22T00:11:24.635425Z",
     "shell.execute_reply": "2022-03-22T00:11:24.634816Z"
    },
    "papermill": {
     "duration": 0.053226,
     "end_time": "2022-03-22T00:11:24.637251",
     "exception": false,
     "start_time": "2022-03-22T00:11:24.584025",
     "status": "completed"
    },
    "tags": []
   },
   "outputs": [
    {
     "name": "stdout",
     "output_type": "stream",
     "text": [
      "reading /Users/aiujdm2/market_watch/output/data/interim/cleaned-gdelt-data.csv\n"
     ]
    }
   ],
   "source": [
    "data_df = read_data(input_file_path)"
   ]
  },
  {
   "cell_type": "code",
   "execution_count": 7,
   "id": "6b7e0be8",
   "metadata": {
    "execution": {
     "iopub.execute_input": "2022-03-22T00:11:24.654642Z",
     "iopub.status.busy": "2022-03-22T00:11:24.654412Z",
     "iopub.status.idle": "2022-03-22T00:11:24.667222Z",
     "shell.execute_reply": "2022-03-22T00:11:24.666761Z"
    },
    "papermill": {
     "duration": 0.023501,
     "end_time": "2022-03-22T00:11:24.668925",
     "exception": false,
     "start_time": "2022-03-22T00:11:24.645424",
     "status": "completed"
    },
    "tags": []
   },
   "outputs": [
    {
     "name": "stdout",
     "output_type": "stream",
     "text": [
      "<class 'pandas.core.frame.DataFrame'>\n",
      "Int64Index: 7305 entries, 0 to 7304\n",
      "Data columns (total 8 columns):\n",
      " #   Column         Non-Null Count  Dtype  \n",
      "---  ------         --------------  -----  \n",
      " 0   GKGRECORDID    7305 non-null   object \n",
      " 1   Locations      7305 non-null   object \n",
      " 2   Persons        5779 non-null   object \n",
      " 3   Organizations  7277 non-null   object \n",
      " 4   AvgTone        7305 non-null   float64\n",
      " 5   PosScore       7305 non-null   float64\n",
      " 6   NegScore       7305 non-null   float64\n",
      " 7   Polarity       7305 non-null   float64\n",
      "dtypes: float64(4), object(4)\n",
      "memory usage: 513.6+ KB\n"
     ]
    }
   ],
   "source": [
    "data_df.info()"
   ]
  },
  {
   "cell_type": "code",
   "execution_count": 8,
   "id": "660ae518",
   "metadata": {
    "execution": {
     "iopub.execute_input": "2022-03-22T00:11:24.685418Z",
     "iopub.status.busy": "2022-03-22T00:11:24.685225Z",
     "iopub.status.idle": "2022-03-22T00:11:24.698155Z",
     "shell.execute_reply": "2022-03-22T00:11:24.697753Z"
    },
    "papermill": {
     "duration": 0.023078,
     "end_time": "2022-03-22T00:11:24.700096",
     "exception": false,
     "start_time": "2022-03-22T00:11:24.677018",
     "status": "completed"
    },
    "tags": []
   },
   "outputs": [
    {
     "data": {
      "text/html": [
       "<div>\n",
       "<style scoped>\n",
       "    .dataframe tbody tr th:only-of-type {\n",
       "        vertical-align: middle;\n",
       "    }\n",
       "\n",
       "    .dataframe tbody tr th {\n",
       "        vertical-align: top;\n",
       "    }\n",
       "\n",
       "    .dataframe thead th {\n",
       "        text-align: right;\n",
       "    }\n",
       "</style>\n",
       "<table border=\"1\" class=\"dataframe\">\n",
       "  <thead>\n",
       "    <tr style=\"text-align: right;\">\n",
       "      <th></th>\n",
       "      <th>GKGRECORDID</th>\n",
       "      <th>Locations</th>\n",
       "      <th>Persons</th>\n",
       "      <th>Organizations</th>\n",
       "      <th>AvgTone</th>\n",
       "      <th>PosScore</th>\n",
       "      <th>NegScore</th>\n",
       "      <th>Polarity</th>\n",
       "    </tr>\n",
       "  </thead>\n",
       "  <tbody>\n",
       "    <tr>\n",
       "      <th>0</th>\n",
       "      <td>20211222093000-T1621</td>\n",
       "      <td>['India', 'Beijing, Beijing, China', 'Shanghai...</td>\n",
       "      <td>['Tesla Zhengzhou', 'Tesla Square', 'Tesla Squ...</td>\n",
       "      <td>['Anyang Peoples']</td>\n",
       "      <td>-7.093822</td>\n",
       "      <td>0.915332</td>\n",
       "      <td>8.009153</td>\n",
       "      <td>8.924485</td>\n",
       "    </tr>\n",
       "    <tr>\n",
       "      <th>1</th>\n",
       "      <td>20211222100000-177</td>\n",
       "      <td>['Japan', 'American', 'American', 'China', 'Ch...</td>\n",
       "      <td>['Chris Bryant', 'Stephen Diehl', 'Peter Atwat...</td>\n",
       "      <td>['Robinhood Markets', 'Robinhood Markets', 'Fo...</td>\n",
       "      <td>-1.909612</td>\n",
       "      <td>3.278167</td>\n",
       "      <td>5.187778</td>\n",
       "      <td>8.465945</td>\n",
       "    </tr>\n",
       "    <tr>\n",
       "      <th>2</th>\n",
       "      <td>20211222100000-898</td>\n",
       "      <td>['New Jersey, United States', 'Chicago, Illino...</td>\n",
       "      <td>['Michael Burry', 'Michael Burry', 'Michael Bu...</td>\n",
       "      <td>['Harris Associates', 'Goldman Sachs', 'Number...</td>\n",
       "      <td>1.026958</td>\n",
       "      <td>2.182285</td>\n",
       "      <td>1.155327</td>\n",
       "      <td>3.337612</td>\n",
       "    </tr>\n",
       "    <tr>\n",
       "      <th>3</th>\n",
       "      <td>20211222094500-T1630</td>\n",
       "      <td>['Texas, United States', 'Texas, United States...</td>\n",
       "      <td>['Jalan Tesla']</td>\n",
       "      <td>['United States', 'United States', 'United Sta...</td>\n",
       "      <td>-0.405680</td>\n",
       "      <td>2.636917</td>\n",
       "      <td>3.042596</td>\n",
       "      <td>5.679513</td>\n",
       "    </tr>\n",
       "    <tr>\n",
       "      <th>4</th>\n",
       "      <td>20211222080000-T1480</td>\n",
       "      <td>['New Market, Suffolk, United Kingdom', 'New M...</td>\n",
       "      <td>NaN</td>\n",
       "      <td>['United States', 'Morgan Stanley', 'United St...</td>\n",
       "      <td>-1.226994</td>\n",
       "      <td>3.067485</td>\n",
       "      <td>4.294479</td>\n",
       "      <td>7.361963</td>\n",
       "    </tr>\n",
       "  </tbody>\n",
       "</table>\n",
       "</div>"
      ],
      "text/plain": [
       "            GKGRECORDID                                          Locations  \\\n",
       "0  20211222093000-T1621  ['India', 'Beijing, Beijing, China', 'Shanghai...   \n",
       "1    20211222100000-177  ['Japan', 'American', 'American', 'China', 'Ch...   \n",
       "2    20211222100000-898  ['New Jersey, United States', 'Chicago, Illino...   \n",
       "3  20211222094500-T1630  ['Texas, United States', 'Texas, United States...   \n",
       "4  20211222080000-T1480  ['New Market, Suffolk, United Kingdom', 'New M...   \n",
       "\n",
       "                                             Persons  \\\n",
       "0  ['Tesla Zhengzhou', 'Tesla Square', 'Tesla Squ...   \n",
       "1  ['Chris Bryant', 'Stephen Diehl', 'Peter Atwat...   \n",
       "2  ['Michael Burry', 'Michael Burry', 'Michael Bu...   \n",
       "3                                    ['Jalan Tesla']   \n",
       "4                                                NaN   \n",
       "\n",
       "                                       Organizations   AvgTone  PosScore  \\\n",
       "0                                 ['Anyang Peoples'] -7.093822  0.915332   \n",
       "1  ['Robinhood Markets', 'Robinhood Markets', 'Fo... -1.909612  3.278167   \n",
       "2  ['Harris Associates', 'Goldman Sachs', 'Number...  1.026958  2.182285   \n",
       "3  ['United States', 'United States', 'United Sta... -0.405680  2.636917   \n",
       "4  ['United States', 'Morgan Stanley', 'United St... -1.226994  3.067485   \n",
       "\n",
       "   NegScore  Polarity  \n",
       "0  8.009153  8.924485  \n",
       "1  5.187778  8.465945  \n",
       "2  1.155327  3.337612  \n",
       "3  3.042596  5.679513  \n",
       "4  4.294479  7.361963  "
      ]
     },
     "execution_count": 8,
     "metadata": {},
     "output_type": "execute_result"
    }
   ],
   "source": [
    "data_df.head()"
   ]
  },
  {
   "cell_type": "code",
   "execution_count": 9,
   "id": "90db546d",
   "metadata": {
    "execution": {
     "iopub.execute_input": "2022-03-22T00:11:24.715712Z",
     "iopub.status.busy": "2022-03-22T00:11:24.715522Z",
     "iopub.status.idle": "2022-03-22T00:11:24.726803Z",
     "shell.execute_reply": "2022-03-22T00:11:24.726300Z"
    },
    "papermill": {
     "duration": 0.020972,
     "end_time": "2022-03-22T00:11:24.728435",
     "exception": false,
     "start_time": "2022-03-22T00:11:24.707463",
     "status": "completed"
    },
    "tags": []
   },
   "outputs": [
    {
     "data": {
      "text/html": [
       "<div>\n",
       "<style scoped>\n",
       "    .dataframe tbody tr th:only-of-type {\n",
       "        vertical-align: middle;\n",
       "    }\n",
       "\n",
       "    .dataframe tbody tr th {\n",
       "        vertical-align: top;\n",
       "    }\n",
       "\n",
       "    .dataframe thead th {\n",
       "        text-align: right;\n",
       "    }\n",
       "</style>\n",
       "<table border=\"1\" class=\"dataframe\">\n",
       "  <thead>\n",
       "    <tr style=\"text-align: right;\">\n",
       "      <th></th>\n",
       "      <th>GKGRECORDID</th>\n",
       "      <th>Locations</th>\n",
       "      <th>Persons</th>\n",
       "      <th>Organizations</th>\n",
       "      <th>AvgTone</th>\n",
       "      <th>PosScore</th>\n",
       "      <th>NegScore</th>\n",
       "      <th>Polarity</th>\n",
       "    </tr>\n",
       "  </thead>\n",
       "  <tbody>\n",
       "    <tr>\n",
       "      <th>398</th>\n",
       "      <td>20220103074500-T809</td>\n",
       "      <td>['Chi-Ho, South Korea (General), South Korea',...</td>\n",
       "      <td>['King Yu', 'King Yu']</td>\n",
       "      <td>['Health River', 'Health Han', 'Health Han', '...</td>\n",
       "      <td>14.309211</td>\n",
       "      <td>16.611842</td>\n",
       "      <td>2.302632</td>\n",
       "      <td>18.914474</td>\n",
       "    </tr>\n",
       "    <tr>\n",
       "      <th>1805</th>\n",
       "      <td>20211230133000-T1405</td>\n",
       "      <td>['Zhao Wei, Yunnan, China', 'Han', 'Han', 'Chi...</td>\n",
       "      <td>['King Yu', 'King Yu']</td>\n",
       "      <td>['Health River', 'Health Han', 'Health Han', '...</td>\n",
       "      <td>13.929314</td>\n",
       "      <td>15.592516</td>\n",
       "      <td>1.663202</td>\n",
       "      <td>17.255717</td>\n",
       "    </tr>\n",
       "    <tr>\n",
       "      <th>1809</th>\n",
       "      <td>20211230143000-1217</td>\n",
       "      <td>[]</td>\n",
       "      <td>NaN</td>\n",
       "      <td>['Traffic Safety']</td>\n",
       "      <td>2.040816</td>\n",
       "      <td>10.204082</td>\n",
       "      <td>8.163265</td>\n",
       "      <td>18.367347</td>\n",
       "    </tr>\n",
       "    <tr>\n",
       "      <th>1816</th>\n",
       "      <td>20211230150000-995</td>\n",
       "      <td>[]</td>\n",
       "      <td>NaN</td>\n",
       "      <td>['Thomson Reuters']</td>\n",
       "      <td>1.818182</td>\n",
       "      <td>9.090909</td>\n",
       "      <td>7.272727</td>\n",
       "      <td>16.363636</td>\n",
       "    </tr>\n",
       "    <tr>\n",
       "      <th>2438</th>\n",
       "      <td>20211230173000-1079</td>\n",
       "      <td>[]</td>\n",
       "      <td>NaN</td>\n",
       "      <td>['Thomson Reuters']</td>\n",
       "      <td>1.818182</td>\n",
       "      <td>9.090909</td>\n",
       "      <td>7.272727</td>\n",
       "      <td>16.363636</td>\n",
       "    </tr>\n",
       "    <tr>\n",
       "      <th>2454</th>\n",
       "      <td>20211230161500-98</td>\n",
       "      <td>[]</td>\n",
       "      <td>NaN</td>\n",
       "      <td>['Thomson Reuters']</td>\n",
       "      <td>1.818182</td>\n",
       "      <td>9.090909</td>\n",
       "      <td>7.272727</td>\n",
       "      <td>16.363636</td>\n",
       "    </tr>\n",
       "    <tr>\n",
       "      <th>2455</th>\n",
       "      <td>20211230161500-330</td>\n",
       "      <td>[]</td>\n",
       "      <td>NaN</td>\n",
       "      <td>['Thomson Reuters']</td>\n",
       "      <td>1.818182</td>\n",
       "      <td>9.090909</td>\n",
       "      <td>7.272727</td>\n",
       "      <td>16.363636</td>\n",
       "    </tr>\n",
       "    <tr>\n",
       "      <th>2457</th>\n",
       "      <td>20211230163000-268</td>\n",
       "      <td>[]</td>\n",
       "      <td>NaN</td>\n",
       "      <td>['Thomson Reuters']</td>\n",
       "      <td>1.818182</td>\n",
       "      <td>9.090909</td>\n",
       "      <td>7.272727</td>\n",
       "      <td>16.363636</td>\n",
       "    </tr>\n",
       "    <tr>\n",
       "      <th>2458</th>\n",
       "      <td>20211230163000-1182</td>\n",
       "      <td>[]</td>\n",
       "      <td>NaN</td>\n",
       "      <td>['Thomson Reuters']</td>\n",
       "      <td>1.818182</td>\n",
       "      <td>9.090909</td>\n",
       "      <td>7.272727</td>\n",
       "      <td>16.363636</td>\n",
       "    </tr>\n",
       "    <tr>\n",
       "      <th>2466</th>\n",
       "      <td>20211230154500-59</td>\n",
       "      <td>[]</td>\n",
       "      <td>NaN</td>\n",
       "      <td>['Thomson Reuters']</td>\n",
       "      <td>1.818182</td>\n",
       "      <td>9.090909</td>\n",
       "      <td>7.272727</td>\n",
       "      <td>16.363636</td>\n",
       "    </tr>\n",
       "    <tr>\n",
       "      <th>3373</th>\n",
       "      <td>20220131174500-743</td>\n",
       "      <td>[]</td>\n",
       "      <td>['Dan Levy']</td>\n",
       "      <td>['Credit Suisse']</td>\n",
       "      <td>7.692308</td>\n",
       "      <td>11.538462</td>\n",
       "      <td>3.846154</td>\n",
       "      <td>15.384615</td>\n",
       "    </tr>\n",
       "    <tr>\n",
       "      <th>4218</th>\n",
       "      <td>20220217033000-T896</td>\n",
       "      <td>['Beijing, Beijing, China', 'China', 'China', ...</td>\n",
       "      <td>['Nicholas Garcia']</td>\n",
       "      <td>['United States', 'United States', 'United Sta...</td>\n",
       "      <td>-15.555556</td>\n",
       "      <td>0.000000</td>\n",
       "      <td>15.555556</td>\n",
       "      <td>15.555556</td>\n",
       "    </tr>\n",
       "    <tr>\n",
       "      <th>4747</th>\n",
       "      <td>20220224084500-210</td>\n",
       "      <td>[]</td>\n",
       "      <td>NaN</td>\n",
       "      <td>['Motors Inc', 'National Ambient', 'Air Qualit...</td>\n",
       "      <td>-8.038585</td>\n",
       "      <td>4.501608</td>\n",
       "      <td>12.540193</td>\n",
       "      <td>17.041801</td>\n",
       "    </tr>\n",
       "    <tr>\n",
       "      <th>5133</th>\n",
       "      <td>20220223073000-520</td>\n",
       "      <td>['California, United States', 'San Francisco, ...</td>\n",
       "      <td>['Martha Guzman']</td>\n",
       "      <td>['Us Environmental', 'Protection Agency']</td>\n",
       "      <td>-5.017921</td>\n",
       "      <td>5.017921</td>\n",
       "      <td>10.035842</td>\n",
       "      <td>15.053763</td>\n",
       "    </tr>\n",
       "    <tr>\n",
       "      <th>6502</th>\n",
       "      <td>20220223164500-441</td>\n",
       "      <td>['Nevada, United States', 'American']</td>\n",
       "      <td>NaN</td>\n",
       "      <td>['Alameda County', 'Superior Court']</td>\n",
       "      <td>-6.481481</td>\n",
       "      <td>6.481481</td>\n",
       "      <td>12.962963</td>\n",
       "      <td>19.444444</td>\n",
       "    </tr>\n",
       "  </tbody>\n",
       "</table>\n",
       "</div>"
      ],
      "text/plain": [
       "               GKGRECORDID                                          Locations  \\\n",
       "398    20220103074500-T809  ['Chi-Ho, South Korea (General), South Korea',...   \n",
       "1805  20211230133000-T1405  ['Zhao Wei, Yunnan, China', 'Han', 'Han', 'Chi...   \n",
       "1809   20211230143000-1217                                                 []   \n",
       "1816    20211230150000-995                                                 []   \n",
       "2438   20211230173000-1079                                                 []   \n",
       "2454     20211230161500-98                                                 []   \n",
       "2455    20211230161500-330                                                 []   \n",
       "2457    20211230163000-268                                                 []   \n",
       "2458   20211230163000-1182                                                 []   \n",
       "2466     20211230154500-59                                                 []   \n",
       "3373    20220131174500-743                                                 []   \n",
       "4218   20220217033000-T896  ['Beijing, Beijing, China', 'China', 'China', ...   \n",
       "4747    20220224084500-210                                                 []   \n",
       "5133    20220223073000-520  ['California, United States', 'San Francisco, ...   \n",
       "6502    20220223164500-441              ['Nevada, United States', 'American']   \n",
       "\n",
       "                     Persons  \\\n",
       "398   ['King Yu', 'King Yu']   \n",
       "1805  ['King Yu', 'King Yu']   \n",
       "1809                     NaN   \n",
       "1816                     NaN   \n",
       "2438                     NaN   \n",
       "2454                     NaN   \n",
       "2455                     NaN   \n",
       "2457                     NaN   \n",
       "2458                     NaN   \n",
       "2466                     NaN   \n",
       "3373            ['Dan Levy']   \n",
       "4218     ['Nicholas Garcia']   \n",
       "4747                     NaN   \n",
       "5133       ['Martha Guzman']   \n",
       "6502                     NaN   \n",
       "\n",
       "                                          Organizations    AvgTone   PosScore  \\\n",
       "398   ['Health River', 'Health Han', 'Health Han', '...  14.309211  16.611842   \n",
       "1805  ['Health River', 'Health Han', 'Health Han', '...  13.929314  15.592516   \n",
       "1809                                 ['Traffic Safety']   2.040816  10.204082   \n",
       "1816                                ['Thomson Reuters']   1.818182   9.090909   \n",
       "2438                                ['Thomson Reuters']   1.818182   9.090909   \n",
       "2454                                ['Thomson Reuters']   1.818182   9.090909   \n",
       "2455                                ['Thomson Reuters']   1.818182   9.090909   \n",
       "2457                                ['Thomson Reuters']   1.818182   9.090909   \n",
       "2458                                ['Thomson Reuters']   1.818182   9.090909   \n",
       "2466                                ['Thomson Reuters']   1.818182   9.090909   \n",
       "3373                                  ['Credit Suisse']   7.692308  11.538462   \n",
       "4218  ['United States', 'United States', 'United Sta... -15.555556   0.000000   \n",
       "4747  ['Motors Inc', 'National Ambient', 'Air Qualit...  -8.038585   4.501608   \n",
       "5133          ['Us Environmental', 'Protection Agency']  -5.017921   5.017921   \n",
       "6502               ['Alameda County', 'Superior Court']  -6.481481   6.481481   \n",
       "\n",
       "       NegScore   Polarity  \n",
       "398    2.302632  18.914474  \n",
       "1805   1.663202  17.255717  \n",
       "1809   8.163265  18.367347  \n",
       "1816   7.272727  16.363636  \n",
       "2438   7.272727  16.363636  \n",
       "2454   7.272727  16.363636  \n",
       "2455   7.272727  16.363636  \n",
       "2457   7.272727  16.363636  \n",
       "2458   7.272727  16.363636  \n",
       "2466   7.272727  16.363636  \n",
       "3373   3.846154  15.384615  \n",
       "4218  15.555556  15.555556  \n",
       "4747  12.540193  17.041801  \n",
       "5133  10.035842  15.053763  \n",
       "6502  12.962963  19.444444  "
      ]
     },
     "execution_count": 9,
     "metadata": {},
     "output_type": "execute_result"
    }
   ],
   "source": [
    "data_df.query(\"Polarity > 15\")"
   ]
  },
  {
   "cell_type": "code",
   "execution_count": null,
   "id": "ef261274",
   "metadata": {
    "papermill": {
     "duration": 0.007652,
     "end_time": "2022-03-22T00:11:24.744518",
     "exception": false,
     "start_time": "2022-03-22T00:11:24.736866",
     "status": "completed"
    },
    "tags": []
   },
   "outputs": [],
   "source": []
  },
  {
   "cell_type": "code",
   "execution_count": null,
   "id": "2e9b2366",
   "metadata": {
    "papermill": {
     "duration": 0.007754,
     "end_time": "2022-03-22T00:11:24.759986",
     "exception": false,
     "start_time": "2022-03-22T00:11:24.752232",
     "status": "completed"
    },
    "tags": []
   },
   "outputs": [],
   "source": []
  }
 ],
 "metadata": {
  "jupytext": {
   "cell_metadata_filter": "tags,-all",
   "main_language": "python",
   "notebook_metadata_filter": "-all",
   "text_representation": {
    "extension": ".py",
    "format_name": "light"
   }
  },
  "kernelspec": {
   "display_name": "Python 3 (ipykernel)",
   "language": "python",
   "name": "python3"
  },
  "language_info": {
   "codemirror_mode": {
    "name": "ipython",
    "version": 3
   },
   "file_extension": ".py",
   "mimetype": "text/x-python",
   "name": "python",
   "nbconvert_exporter": "python",
   "pygments_lexer": "ipython3",
   "version": "3.9.10"
  },
  "papermill": {
   "duration": 1.584791,
   "end_time": "2022-03-22T00:11:24.990289",
   "exception": null,
   "input_path": "/var/folders/b0/4tc1nfbd6z7_vhx4nxcj2n91c0l9h6/T/tmpnm3e44hb.ipynb",
   "output_path": "/Users/aiujdm2/market_watch/output/notebooks/build_features.ipynb",
   "parameters": {
    "product": {
     "nb": "/Users/aiujdm2/market_watch/output/notebooks/build_features.ipynb"
    },
    "upstream": {
     "clean_gdelt_data": {
      "data": "/Users/aiujdm2/market_watch/output/data/interim/cleaned-gdelt-data.csv",
      "nb": "/Users/aiujdm2/market_watch/output/notebooks/clean_gdelt_data.ipynb"
     }
    }
   },
   "start_time": "2022-03-22T00:11:23.405498"
  }
 },
 "nbformat": 4,
 "nbformat_minor": 5
}