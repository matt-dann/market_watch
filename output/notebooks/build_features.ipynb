{
 "cells": [
  {
   "cell_type": "code",
   "execution_count": 1,
   "id": "d3255574",
   "metadata": {
    "execution": {
     "iopub.execute_input": "2022-03-20T20:05:25.025755Z",
     "iopub.status.busy": "2022-03-20T20:05:25.025527Z",
     "iopub.status.idle": "2022-03-20T20:05:25.389258Z",
     "shell.execute_reply": "2022-03-20T20:05:25.388664Z"
    },
    "papermill": {
     "duration": 0.370887,
     "end_time": "2022-03-20T20:05:25.391590",
     "exception": false,
     "start_time": "2022-03-20T20:05:25.020703",
     "status": "completed"
    },
    "tags": []
   },
   "outputs": [],
   "source": [
    "import pandas as pd"
   ]
  },
  {
   "cell_type": "code",
   "execution_count": 2,
   "id": "8091ce83",
   "metadata": {
    "execution": {
     "iopub.execute_input": "2022-03-20T20:05:25.401182Z",
     "iopub.status.busy": "2022-03-20T20:05:25.400955Z",
     "iopub.status.idle": "2022-03-20T20:05:25.403835Z",
     "shell.execute_reply": "2022-03-20T20:05:25.403252Z"
    },
    "lines_to_next_cell": 2,
    "papermill": {
     "duration": 0.009447,
     "end_time": "2022-03-20T20:05:25.405518",
     "exception": false,
     "start_time": "2022-03-20T20:05:25.396071",
     "status": "completed"
    },
    "tags": [
     "parameters"
    ]
   },
   "outputs": [],
   "source": [
    "# declare a list tasks whose products you want to use as inputs\n",
    "upstream = ['make_dataset']\n"
   ]
  },
  {
   "cell_type": "code",
   "execution_count": 3,
   "id": "f1ebf3e0",
   "metadata": {
    "execution": {
     "iopub.execute_input": "2022-03-20T20:05:25.414616Z",
     "iopub.status.busy": "2022-03-20T20:05:25.414397Z",
     "iopub.status.idle": "2022-03-20T20:05:25.417611Z",
     "shell.execute_reply": "2022-03-20T20:05:25.417115Z"
    },
    "papermill": {
     "duration": 0.00974,
     "end_time": "2022-03-20T20:05:25.419349",
     "exception": false,
     "start_time": "2022-03-20T20:05:25.409609",
     "status": "completed"
    },
    "tags": [
     "injected-parameters"
    ]
   },
   "outputs": [],
   "source": [
    "# Parameters\n",
    "upstream = {\n",
    "    \"make_dataset\": {\n",
    "        \"nb\": \"/Users/aiujdm2/market_watch/output/notebooks/make_dataset.ipynb\",\n",
    "        \"data\": \"/Users/aiujdm2/market_watch/output/data/interim/iris.parquet\",\n",
    "    }\n",
    "}\n",
    "product = {\n",
    "    \"nb\": \"/Users/aiujdm2/market_watch/output/notebooks/build_features.ipynb\",\n",
    "    \"data\": \"/Users/aiujdm2/market_watch/output/data/features/features.parquet\",\n",
    "}\n"
   ]
  },
  {
   "cell_type": "code",
   "execution_count": 4,
   "id": "1114564c",
   "metadata": {
    "execution": {
     "iopub.execute_input": "2022-03-20T20:05:25.428713Z",
     "iopub.status.busy": "2022-03-20T20:05:25.428495Z",
     "iopub.status.idle": "2022-03-20T20:05:25.432143Z",
     "shell.execute_reply": "2022-03-20T20:05:25.431590Z"
    },
    "papermill": {
     "duration": 0.010538,
     "end_time": "2022-03-20T20:05:25.433962",
     "exception": false,
     "start_time": "2022-03-20T20:05:25.423424",
     "status": "completed"
    },
    "tags": []
   },
   "outputs": [],
   "source": [
    "def build_features(product):\n",
    "    data = pd.read_parquet(str(upstream['make_dataset']['data']))\n",
    "    data['sepal area (cm2)'] = data['sepal length (cm)'] * data['sepal width (cm)']\n",
    "    data.to_parquet(str(product['data']))\n",
    "    print(\"Hello\")"
   ]
  },
  {
   "cell_type": "code",
   "execution_count": 5,
   "id": "1013dd5c",
   "metadata": {
    "execution": {
     "iopub.execute_input": "2022-03-20T20:05:25.443421Z",
     "iopub.status.busy": "2022-03-20T20:05:25.443204Z",
     "iopub.status.idle": "2022-03-20T20:05:25.706643Z",
     "shell.execute_reply": "2022-03-20T20:05:25.706138Z"
    },
    "papermill": {
     "duration": 0.270223,
     "end_time": "2022-03-20T20:05:25.708345",
     "exception": false,
     "start_time": "2022-03-20T20:05:25.438122",
     "status": "completed"
    },
    "tags": []
   },
   "outputs": [
    {
     "name": "stdout",
     "output_type": "stream",
     "text": [
      "Hello\n"
     ]
    }
   ],
   "source": [
    "build_features(product)"
   ]
  }
 ],
 "metadata": {
  "jupytext": {
   "cell_metadata_filter": "tags,-all",
   "main_language": "python",
   "notebook_metadata_filter": "-all",
   "text_representation": {
    "extension": ".py",
    "format_name": "light"
   }
  },
  "kernelspec": {
   "display_name": "Python 3 (ipykernel)",
   "language": "python",
   "name": "python3"
  },
  "language_info": {
   "codemirror_mode": {
    "name": "ipython",
    "version": 3
   },
   "file_extension": ".py",
   "mimetype": "text/x-python",
   "name": "python",
   "nbconvert_exporter": "python",
   "pygments_lexer": "ipython3",
   "version": "3.9.10"
  },
  "papermill": {
   "duration": 1.738325,
   "end_time": "2022-03-20T20:05:25.930772",
   "exception": null,
   "input_path": "/var/folders/b0/4tc1nfbd6z7_vhx4nxcj2n91c0l9h6/T/tmpl_i8m0tn.ipynb",
   "output_path": "/Users/aiujdm2/market_watch/output/notebooks/build_features.ipynb",
   "parameters": {
    "product": {
     "data": "/Users/aiujdm2/market_watch/output/data/features/features.parquet",
     "nb": "/Users/aiujdm2/market_watch/output/notebooks/build_features.ipynb"
    },
    "upstream": {
     "make_dataset": {
      "data": "/Users/aiujdm2/market_watch/output/data/interim/iris.parquet",
      "nb": "/Users/aiujdm2/market_watch/output/notebooks/make_dataset.ipynb"
     }
    }
   },
   "start_time": "2022-03-20T20:05:24.192447"
  }
 },
 "nbformat": 4,
 "nbformat_minor": 5
}