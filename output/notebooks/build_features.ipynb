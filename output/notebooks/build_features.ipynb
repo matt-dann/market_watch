{
 "cells": [
  {
   "cell_type": "code",
   "execution_count": 1,
   "id": "4f8346bc",
   "metadata": {
    "execution": {
     "iopub.execute_input": "2022-03-23T17:47:25.979737Z",
     "iopub.status.busy": "2022-03-23T17:47:25.979441Z",
     "iopub.status.idle": "2022-03-23T17:47:26.331971Z",
     "shell.execute_reply": "2022-03-23T17:47:26.331254Z"
    },
    "papermill": {
     "duration": 0.365694,
     "end_time": "2022-03-23T17:47:26.334069",
     "exception": false,
     "start_time": "2022-03-23T17:47:25.968375",
     "status": "completed"
    },
    "tags": []
   },
   "outputs": [],
   "source": [
    "import pandas as pd"
   ]
  },
  {
   "cell_type": "code",
   "execution_count": 2,
   "id": "2b9999a0",
   "metadata": {
    "execution": {
     "iopub.execute_input": "2022-03-23T17:47:26.351168Z",
     "iopub.status.busy": "2022-03-23T17:47:26.350772Z",
     "iopub.status.idle": "2022-03-23T17:47:26.353846Z",
     "shell.execute_reply": "2022-03-23T17:47:26.353305Z"
    },
    "lines_to_next_cell": 2,
    "papermill": {
     "duration": 0.013556,
     "end_time": "2022-03-23T17:47:26.355534",
     "exception": false,
     "start_time": "2022-03-23T17:47:26.341978",
     "status": "completed"
    },
    "tags": [
     "parameters"
    ]
   },
   "outputs": [],
   "source": [
    "# declare a list tasks whose products you want to use as inputs\n",
    "upstream = ['clean_gdelt_data']\n"
   ]
  },
  {
   "cell_type": "code",
   "execution_count": 3,
   "id": "6142c254",
   "metadata": {
    "execution": {
     "iopub.execute_input": "2022-03-23T17:47:26.371264Z",
     "iopub.status.busy": "2022-03-23T17:47:26.371022Z",
     "iopub.status.idle": "2022-03-23T17:47:26.374242Z",
     "shell.execute_reply": "2022-03-23T17:47:26.373727Z"
    },
    "papermill": {
     "duration": 0.013251,
     "end_time": "2022-03-23T17:47:26.376092",
     "exception": false,
     "start_time": "2022-03-23T17:47:26.362841",
     "status": "completed"
    },
    "tags": [
     "injected-parameters"
    ]
   },
   "outputs": [],
   "source": [
    "# Parameters\n",
    "upstream = {\n",
    "    \"clean_gdelt_data\": {\n",
    "        \"nb\": \"/Users/aiujdm2/market_watch/output/notebooks/clean_gdelt_data.ipynb\",\n",
    "        \"data\": \"/Users/aiujdm2/market_watch/output/data/interim/gdelt_gkg_data-cleaned.csv\",\n",
    "    }\n",
    "}\n",
    "product = {\"nb\": \"/Users/aiujdm2/market_watch/output/notebooks/build_features.ipynb\"}\n"
   ]
  },
  {
   "cell_type": "code",
   "execution_count": 4,
   "id": "f02226b8",
   "metadata": {
    "execution": {
     "iopub.execute_input": "2022-03-23T17:47:26.392015Z",
     "iopub.status.busy": "2022-03-23T17:47:26.391783Z",
     "iopub.status.idle": "2022-03-23T17:47:26.394930Z",
     "shell.execute_reply": "2022-03-23T17:47:26.394259Z"
    },
    "papermill": {
     "duration": 0.012812,
     "end_time": "2022-03-23T17:47:26.396658",
     "exception": false,
     "start_time": "2022-03-23T17:47:26.383846",
     "status": "completed"
    },
    "tags": []
   },
   "outputs": [],
   "source": [
    "input_file_path = str(upstream['clean_gdelt_data']['data'])"
   ]
  },
  {
   "cell_type": "code",
   "execution_count": 5,
   "id": "1f26c7c9",
   "metadata": {
    "execution": {
     "iopub.execute_input": "2022-03-23T17:47:26.412745Z",
     "iopub.status.busy": "2022-03-23T17:47:26.412476Z",
     "iopub.status.idle": "2022-03-23T17:47:26.415991Z",
     "shell.execute_reply": "2022-03-23T17:47:26.415451Z"
    },
    "papermill": {
     "duration": 0.013924,
     "end_time": "2022-03-23T17:47:26.417765",
     "exception": false,
     "start_time": "2022-03-23T17:47:26.403841",
     "status": "completed"
    },
    "tags": []
   },
   "outputs": [],
   "source": [
    "def read_data(input_file_path):\n",
    "    print(f\"reading {input_file_path}\")\n",
    "    data = pd.read_csv(input_file_path, index_col=0)\n",
    "    return data"
   ]
  },
  {
   "cell_type": "code",
   "execution_count": 6,
   "id": "458d452d",
   "metadata": {
    "execution": {
     "iopub.execute_input": "2022-03-23T17:47:26.433699Z",
     "iopub.status.busy": "2022-03-23T17:47:26.433471Z",
     "iopub.status.idle": "2022-03-23T17:47:26.441447Z",
     "shell.execute_reply": "2022-03-23T17:47:26.440794Z"
    },
    "papermill": {
     "duration": 0.01824,
     "end_time": "2022-03-23T17:47:26.443301",
     "exception": false,
     "start_time": "2022-03-23T17:47:26.425061",
     "status": "completed"
    },
    "tags": []
   },
   "outputs": [
    {
     "name": "stdout",
     "output_type": "stream",
     "text": [
      "reading /Users/aiujdm2/market_watch/output/data/interim/gdelt_gkg_data-cleaned.csv\n"
     ]
    }
   ],
   "source": [
    "data_df = read_data(input_file_path)"
   ]
  },
  {
   "cell_type": "code",
   "execution_count": 7,
   "id": "5a26bd61",
   "metadata": {
    "execution": {
     "iopub.execute_input": "2022-03-23T17:47:26.461133Z",
     "iopub.status.busy": "2022-03-23T17:47:26.460816Z",
     "iopub.status.idle": "2022-03-23T17:47:26.470107Z",
     "shell.execute_reply": "2022-03-23T17:47:26.469549Z"
    },
    "papermill": {
     "duration": 0.020086,
     "end_time": "2022-03-23T17:47:26.472167",
     "exception": false,
     "start_time": "2022-03-23T17:47:26.452081",
     "status": "completed"
    },
    "tags": []
   },
   "outputs": [
    {
     "name": "stdout",
     "output_type": "stream",
     "text": [
      "<class 'pandas.core.frame.DataFrame'>\n",
      "Int64Index: 102 entries, 0 to 101\n",
      "Data columns (total 9 columns):\n",
      " #   Column         Non-Null Count  Dtype  \n",
      "---  ------         --------------  -----  \n",
      " 0   GKGRECORDID    102 non-null    object \n",
      " 1   Locations      102 non-null    object \n",
      " 2   Persons        84 non-null     object \n",
      " 3   Organizations  102 non-null    object \n",
      " 4   AvgTone        102 non-null    float64\n",
      " 5   PosScore       102 non-null    float64\n",
      " 6   NegScore       102 non-null    float64\n",
      " 7   Polarity       102 non-null    float64\n",
      " 8   Org Count      102 non-null    object \n",
      "dtypes: float64(4), object(5)\n",
      "memory usage: 8.0+ KB\n"
     ]
    }
   ],
   "source": [
    "data_df.info()"
   ]
  },
  {
   "cell_type": "code",
   "execution_count": 8,
   "id": "f79fd188",
   "metadata": {
    "execution": {
     "iopub.execute_input": "2022-03-23T17:47:26.490811Z",
     "iopub.status.busy": "2022-03-23T17:47:26.490575Z",
     "iopub.status.idle": "2022-03-23T17:47:26.509066Z",
     "shell.execute_reply": "2022-03-23T17:47:26.508427Z"
    },
    "papermill": {
     "duration": 0.029972,
     "end_time": "2022-03-23T17:47:26.511245",
     "exception": false,
     "start_time": "2022-03-23T17:47:26.481273",
     "status": "completed"
    },
    "tags": []
   },
   "outputs": [
    {
     "data": {
      "text/html": [
       "<div>\n",
       "<style scoped>\n",
       "    .dataframe tbody tr th:only-of-type {\n",
       "        vertical-align: middle;\n",
       "    }\n",
       "\n",
       "    .dataframe tbody tr th {\n",
       "        vertical-align: top;\n",
       "    }\n",
       "\n",
       "    .dataframe thead th {\n",
       "        text-align: right;\n",
       "    }\n",
       "</style>\n",
       "<table border=\"1\" class=\"dataframe\">\n",
       "  <thead>\n",
       "    <tr style=\"text-align: right;\">\n",
       "      <th></th>\n",
       "      <th>GKGRECORDID</th>\n",
       "      <th>Locations</th>\n",
       "      <th>Persons</th>\n",
       "      <th>Organizations</th>\n",
       "      <th>AvgTone</th>\n",
       "      <th>PosScore</th>\n",
       "      <th>NegScore</th>\n",
       "      <th>Polarity</th>\n",
       "      <th>Org Count</th>\n",
       "    </tr>\n",
       "  </thead>\n",
       "  <tbody>\n",
       "    <tr>\n",
       "      <th>81</th>\n",
       "      <td>20220323141500-1823</td>\n",
       "      <td>['New York, United States', 'Gibraltar', 'Anti...</td>\n",
       "      <td>['David Massey', 'David Massey', 'Ian Parker',...</td>\n",
       "      <td>See Stock Market,8036;Solar Integrated Roofing...</td>\n",
       "      <td>1.121795</td>\n",
       "      <td>2.483974</td>\n",
       "      <td>1.362179</td>\n",
       "      <td>3.846154</td>\n",
       "      <td>{'See Stock Market': 1, 'Solar Integrated Roof...</td>\n",
       "    </tr>\n",
       "    <tr>\n",
       "      <th>70</th>\n",
       "      <td>20220323160000-1451</td>\n",
       "      <td>['America']</td>\n",
       "      <td>['Zachary Kirkhorn', 'Banque Pictet', 'Banque ...</td>\n",
       "      <td>Securities Exchange Commission,2540;Zacks Inve...</td>\n",
       "      <td>0.715137</td>\n",
       "      <td>1.072706</td>\n",
       "      <td>0.357569</td>\n",
       "      <td>1.430274</td>\n",
       "      <td>{'Securities Exchange Commission': 1, 'Zacks I...</td>\n",
       "    </tr>\n",
       "    <tr>\n",
       "      <th>2</th>\n",
       "      <td>20220323173000-1587</td>\n",
       "      <td>[]</td>\n",
       "      <td>NaN</td>\n",
       "      <td>Tesla Inc,10;Nasdaq,869;Nasdaq,921</td>\n",
       "      <td>1.550388</td>\n",
       "      <td>1.937984</td>\n",
       "      <td>0.387597</td>\n",
       "      <td>2.325581</td>\n",
       "      <td>{'Tesla Inc': 1, 'Nasdaq': 2}</td>\n",
       "    </tr>\n",
       "    <tr>\n",
       "      <th>57</th>\n",
       "      <td>20220323083000-T995</td>\n",
       "      <td>['China', 'China', 'China', 'China', 'China', ...</td>\n",
       "      <td>['Tesla Xiaopeng']</td>\n",
       "      <td>Tesla A Service,7530;Toyota,3543</td>\n",
       "      <td>-1.046025</td>\n",
       "      <td>1.115760</td>\n",
       "      <td>2.161785</td>\n",
       "      <td>3.277545</td>\n",
       "      <td>{'Tesla A Service': 1, 'Toyota': 1}</td>\n",
       "    </tr>\n",
       "    <tr>\n",
       "      <th>56</th>\n",
       "      <td>20220323084500-889</td>\n",
       "      <td>['American', 'American']</td>\n",
       "      <td>['Alison Nathan']</td>\n",
       "      <td>Exchange Commission,36;Twitter,106;Twitter,128...</td>\n",
       "      <td>-4.761905</td>\n",
       "      <td>1.465201</td>\n",
       "      <td>6.227106</td>\n",
       "      <td>7.692308</td>\n",
       "      <td>{'Exchange Commission': 1, 'Twitter': 2, 'Reut...</td>\n",
       "    </tr>\n",
       "    <tr>\n",
       "      <th>12</th>\n",
       "      <td>20220323043000-T490</td>\n",
       "      <td>['Chinese']</td>\n",
       "      <td>NaN</td>\n",
       "      <td>Tesla App Store,20;Tesla App Store,263;Tesla A...</td>\n",
       "      <td>1.806452</td>\n",
       "      <td>2.709677</td>\n",
       "      <td>0.903226</td>\n",
       "      <td>3.612903</td>\n",
       "      <td>{'Tesla App Store': 4, 'Twitter': 2, 'Ministry...</td>\n",
       "    </tr>\n",
       "    <tr>\n",
       "      <th>76</th>\n",
       "      <td>20220323151500-1933</td>\n",
       "      <td>['Japan', 'Arizona, United States', 'Arizona, ...</td>\n",
       "      <td>['Joe Biden']</td>\n",
       "      <td>Bloomberg,383;Bloomberg,915;Bloomberg,1403;Lg ...</td>\n",
       "      <td>1.687764</td>\n",
       "      <td>1.687764</td>\n",
       "      <td>0.000000</td>\n",
       "      <td>1.687764</td>\n",
       "      <td>{'Bloomberg': 3, 'Lg Energy': 1, 'China Contem...</td>\n",
       "    </tr>\n",
       "    <tr>\n",
       "      <th>93</th>\n",
       "      <td>20220322194500-1718</td>\n",
       "      <td>[]</td>\n",
       "      <td>['Citi Daniel', 'Cathie Wood', 'Glen Santangelo']</td>\n",
       "      <td>Babylon Holdings Ltd,1051;Health Catalyst Inc,...</td>\n",
       "      <td>1.842105</td>\n",
       "      <td>5.263158</td>\n",
       "      <td>3.421053</td>\n",
       "      <td>8.684211</td>\n",
       "      <td>{'Babylon Holdings Ltd': 1, 'Health Catalyst I...</td>\n",
       "    </tr>\n",
       "    <tr>\n",
       "      <th>1</th>\n",
       "      <td>20220323171500-241</td>\n",
       "      <td>['America', 'America', 'America', 'Canadian', ...</td>\n",
       "      <td>['Carlos Tavares', 'Joe Biden']</td>\n",
       "      <td>Bloomberg,2149;Lg Energy Solution,18;Lg Energy...</td>\n",
       "      <td>1.445783</td>\n",
       "      <td>1.686747</td>\n",
       "      <td>0.240964</td>\n",
       "      <td>1.927711</td>\n",
       "      <td>{'Bloomberg': 1, 'Lg Energy Solution': 2, 'Chi...</td>\n",
       "    </tr>\n",
       "    <tr>\n",
       "      <th>78</th>\n",
       "      <td>20220323154500-1029</td>\n",
       "      <td>['Arkansas, United States', 'Arkansas, United ...</td>\n",
       "      <td>['Joe Ehrhardt', 'Jack Hudgens']</td>\n",
       "      <td>Teslar Software,61;Teslar Software,257;Teslar ...</td>\n",
       "      <td>4.946237</td>\n",
       "      <td>5.591398</td>\n",
       "      <td>0.645161</td>\n",
       "      <td>6.236559</td>\n",
       "      <td>{'Teslar Software': 6, 'First National Bank': 6}</td>\n",
       "    </tr>\n",
       "  </tbody>\n",
       "</table>\n",
       "</div>"
      ],
      "text/plain": [
       "            GKGRECORDID                                          Locations  \\\n",
       "81  20220323141500-1823  ['New York, United States', 'Gibraltar', 'Anti...   \n",
       "70  20220323160000-1451                                        ['America']   \n",
       "2   20220323173000-1587                                                 []   \n",
       "57  20220323083000-T995  ['China', 'China', 'China', 'China', 'China', ...   \n",
       "56   20220323084500-889                           ['American', 'American']   \n",
       "12  20220323043000-T490                                        ['Chinese']   \n",
       "76  20220323151500-1933  ['Japan', 'Arizona, United States', 'Arizona, ...   \n",
       "93  20220322194500-1718                                                 []   \n",
       "1    20220323171500-241  ['America', 'America', 'America', 'Canadian', ...   \n",
       "78  20220323154500-1029  ['Arkansas, United States', 'Arkansas, United ...   \n",
       "\n",
       "                                              Persons  \\\n",
       "81  ['David Massey', 'David Massey', 'Ian Parker',...   \n",
       "70  ['Zachary Kirkhorn', 'Banque Pictet', 'Banque ...   \n",
       "2                                                 NaN   \n",
       "57                                 ['Tesla Xiaopeng']   \n",
       "56                                  ['Alison Nathan']   \n",
       "12                                                NaN   \n",
       "76                                      ['Joe Biden']   \n",
       "93  ['Citi Daniel', 'Cathie Wood', 'Glen Santangelo']   \n",
       "1                     ['Carlos Tavares', 'Joe Biden']   \n",
       "78                   ['Joe Ehrhardt', 'Jack Hudgens']   \n",
       "\n",
       "                                        Organizations   AvgTone  PosScore  \\\n",
       "81  See Stock Market,8036;Solar Integrated Roofing...  1.121795  2.483974   \n",
       "70  Securities Exchange Commission,2540;Zacks Inve...  0.715137  1.072706   \n",
       "2                  Tesla Inc,10;Nasdaq,869;Nasdaq,921  1.550388  1.937984   \n",
       "57                   Tesla A Service,7530;Toyota,3543 -1.046025  1.115760   \n",
       "56  Exchange Commission,36;Twitter,106;Twitter,128... -4.761905  1.465201   \n",
       "12  Tesla App Store,20;Tesla App Store,263;Tesla A...  1.806452  2.709677   \n",
       "76  Bloomberg,383;Bloomberg,915;Bloomberg,1403;Lg ...  1.687764  1.687764   \n",
       "93  Babylon Holdings Ltd,1051;Health Catalyst Inc,...  1.842105  5.263158   \n",
       "1   Bloomberg,2149;Lg Energy Solution,18;Lg Energy...  1.445783  1.686747   \n",
       "78  Teslar Software,61;Teslar Software,257;Teslar ...  4.946237  5.591398   \n",
       "\n",
       "    NegScore  Polarity                                          Org Count  \n",
       "81  1.362179  3.846154  {'See Stock Market': 1, 'Solar Integrated Roof...  \n",
       "70  0.357569  1.430274  {'Securities Exchange Commission': 1, 'Zacks I...  \n",
       "2   0.387597  2.325581                      {'Tesla Inc': 1, 'Nasdaq': 2}  \n",
       "57  2.161785  3.277545                {'Tesla A Service': 1, 'Toyota': 1}  \n",
       "56  6.227106  7.692308  {'Exchange Commission': 1, 'Twitter': 2, 'Reut...  \n",
       "12  0.903226  3.612903  {'Tesla App Store': 4, 'Twitter': 2, 'Ministry...  \n",
       "76  0.000000  1.687764  {'Bloomberg': 3, 'Lg Energy': 1, 'China Contem...  \n",
       "93  3.421053  8.684211  {'Babylon Holdings Ltd': 1, 'Health Catalyst I...  \n",
       "1   0.240964  1.927711  {'Bloomberg': 1, 'Lg Energy Solution': 2, 'Chi...  \n",
       "78  0.645161  6.236559   {'Teslar Software': 6, 'First National Bank': 6}  "
      ]
     },
     "execution_count": 8,
     "metadata": {},
     "output_type": "execute_result"
    }
   ],
   "source": [
    "data_df.sample(10)"
   ]
  },
  {
   "cell_type": "code",
   "execution_count": 9,
   "id": "274bf152",
   "metadata": {
    "execution": {
     "iopub.execute_input": "2022-03-23T17:47:26.530516Z",
     "iopub.status.busy": "2022-03-23T17:47:26.530261Z",
     "iopub.status.idle": "2022-03-23T17:47:26.537823Z",
     "shell.execute_reply": "2022-03-23T17:47:26.537334Z"
    },
    "papermill": {
     "duration": 0.01901,
     "end_time": "2022-03-23T17:47:26.539527",
     "exception": false,
     "start_time": "2022-03-23T17:47:26.520517",
     "status": "completed"
    },
    "tags": []
   },
   "outputs": [
    {
     "data": {
      "text/html": [
       "<div>\n",
       "<style scoped>\n",
       "    .dataframe tbody tr th:only-of-type {\n",
       "        vertical-align: middle;\n",
       "    }\n",
       "\n",
       "    .dataframe tbody tr th {\n",
       "        vertical-align: top;\n",
       "    }\n",
       "\n",
       "    .dataframe thead th {\n",
       "        text-align: right;\n",
       "    }\n",
       "</style>\n",
       "<table border=\"1\" class=\"dataframe\">\n",
       "  <thead>\n",
       "    <tr style=\"text-align: right;\">\n",
       "      <th></th>\n",
       "      <th>GKGRECORDID</th>\n",
       "      <th>Locations</th>\n",
       "      <th>Persons</th>\n",
       "      <th>Organizations</th>\n",
       "      <th>AvgTone</th>\n",
       "      <th>PosScore</th>\n",
       "      <th>NegScore</th>\n",
       "      <th>Polarity</th>\n",
       "      <th>Org Count</th>\n",
       "    </tr>\n",
       "  </thead>\n",
       "  <tbody>\n",
       "  </tbody>\n",
       "</table>\n",
       "</div>"
      ],
      "text/plain": [
       "Empty DataFrame\n",
       "Columns: [GKGRECORDID, Locations, Persons, Organizations, AvgTone, PosScore, NegScore, Polarity, Org Count]\n",
       "Index: []"
      ]
     },
     "execution_count": 9,
     "metadata": {},
     "output_type": "execute_result"
    }
   ],
   "source": [
    "cond = (data_df['NegScore'] > 10) | (data_df['PosScore'] > 10)\n",
    "data_df[cond]"
   ]
  },
  {
   "cell_type": "code",
   "execution_count": null,
   "id": "48cfc96e",
   "metadata": {
    "papermill": {
     "duration": 0.008944,
     "end_time": "2022-03-23T17:47:26.558241",
     "exception": false,
     "start_time": "2022-03-23T17:47:26.549297",
     "status": "completed"
    },
    "tags": []
   },
   "outputs": [],
   "source": []
  },
  {
   "cell_type": "code",
   "execution_count": null,
   "id": "023eda9f",
   "metadata": {
    "papermill": {
     "duration": 0.008935,
     "end_time": "2022-03-23T17:47:26.576483",
     "exception": false,
     "start_time": "2022-03-23T17:47:26.567548",
     "status": "completed"
    },
    "tags": []
   },
   "outputs": [],
   "source": []
  }
 ],
 "metadata": {
  "jupytext": {
   "cell_metadata_filter": "tags,-all",
   "main_language": "python",
   "notebook_metadata_filter": "-all",
   "text_representation": {
    "extension": ".py",
    "format_name": "light"
   }
  },
  "kernelspec": {
   "display_name": "Python 3 (ipykernel)",
   "language": "python",
   "name": "python3"
  },
  "language_info": {
   "codemirror_mode": {
    "name": "ipython",
    "version": 3
   },
   "file_extension": ".py",
   "mimetype": "text/x-python",
   "name": "python",
   "nbconvert_exporter": "python",
   "pygments_lexer": "ipython3",
   "version": "3.9.10"
  },
  "papermill": {
   "duration": 1.875392,
   "end_time": "2022-03-23T17:47:26.804438",
   "exception": null,
   "input_path": "/var/folders/b0/4tc1nfbd6z7_vhx4nxcj2n91c0l9h6/T/tmp878o3sn_.ipynb",
   "output_path": "/Users/aiujdm2/market_watch/output/notebooks/build_features.ipynb",
   "parameters": {
    "product": {
     "nb": "/Users/aiujdm2/market_watch/output/notebooks/build_features.ipynb"
    },
    "upstream": {
     "clean_gdelt_data": {
      "data": "/Users/aiujdm2/market_watch/output/data/interim/gdelt_gkg_data-cleaned.csv",
      "nb": "/Users/aiujdm2/market_watch/output/notebooks/clean_gdelt_data.ipynb"
     }
    }
   },
   "start_time": "2022-03-23T17:47:24.929046"
  }
 },
 "nbformat": 4,
 "nbformat_minor": 5
}