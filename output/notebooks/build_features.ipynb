{
 "cells": [
  {
   "cell_type": "code",
   "execution_count": 1,
   "id": "c1d9d1f8",
   "metadata": {
    "execution": {
     "iopub.execute_input": "2022-03-23T16:37:42.977811Z",
     "iopub.status.busy": "2022-03-23T16:37:42.977517Z",
     "iopub.status.idle": "2022-03-23T16:37:43.261946Z",
     "shell.execute_reply": "2022-03-23T16:37:43.261394Z"
    },
    "papermill": {
     "duration": 0.297704,
     "end_time": "2022-03-23T16:37:43.263756",
     "exception": false,
     "start_time": "2022-03-23T16:37:42.966052",
     "status": "completed"
    },
    "tags": []
   },
   "outputs": [],
   "source": [
    "import pandas as pd"
   ]
  },
  {
   "cell_type": "code",
   "execution_count": 2,
   "id": "f64d8b3a",
   "metadata": {
    "execution": {
     "iopub.execute_input": "2022-03-23T16:37:43.276749Z",
     "iopub.status.busy": "2022-03-23T16:37:43.276571Z",
     "iopub.status.idle": "2022-03-23T16:37:43.278907Z",
     "shell.execute_reply": "2022-03-23T16:37:43.278499Z"
    },
    "lines_to_next_cell": 2,
    "papermill": {
     "duration": 0.010446,
     "end_time": "2022-03-23T16:37:43.280572",
     "exception": false,
     "start_time": "2022-03-23T16:37:43.270126",
     "status": "completed"
    },
    "tags": [
     "parameters"
    ]
   },
   "outputs": [],
   "source": [
    "# declare a list tasks whose products you want to use as inputs\n",
    "upstream = ['clean_gdelt_data']\n"
   ]
  },
  {
   "cell_type": "code",
   "execution_count": 3,
   "id": "dc328663",
   "metadata": {
    "execution": {
     "iopub.execute_input": "2022-03-23T16:37:43.292727Z",
     "iopub.status.busy": "2022-03-23T16:37:43.292508Z",
     "iopub.status.idle": "2022-03-23T16:37:43.295883Z",
     "shell.execute_reply": "2022-03-23T16:37:43.295258Z"
    },
    "papermill": {
     "duration": 0.011903,
     "end_time": "2022-03-23T16:37:43.297965",
     "exception": false,
     "start_time": "2022-03-23T16:37:43.286062",
     "status": "completed"
    },
    "tags": [
     "injected-parameters"
    ]
   },
   "outputs": [],
   "source": [
    "# Parameters\n",
    "upstream = {\n",
    "    \"clean_gdelt_data\": {\n",
    "        \"nb\": \"/Users/aiujdm2/market_watch/output/notebooks/clean_gdelt_data.ipynb\",\n",
    "        \"data\": \"/Users/aiujdm2/market_watch/output/data/interim/cleaned-gdelt-data.csv\",\n",
    "    }\n",
    "}\n",
    "product = {\"nb\": \"/Users/aiujdm2/market_watch/output/notebooks/build_features.ipynb\"}\n"
   ]
  },
  {
   "cell_type": "code",
   "execution_count": 4,
   "id": "9c5baa2f",
   "metadata": {
    "execution": {
     "iopub.execute_input": "2022-03-23T16:37:43.311748Z",
     "iopub.status.busy": "2022-03-23T16:37:43.311489Z",
     "iopub.status.idle": "2022-03-23T16:37:43.314295Z",
     "shell.execute_reply": "2022-03-23T16:37:43.313874Z"
    },
    "papermill": {
     "duration": 0.01155,
     "end_time": "2022-03-23T16:37:43.316069",
     "exception": false,
     "start_time": "2022-03-23T16:37:43.304519",
     "status": "completed"
    },
    "tags": []
   },
   "outputs": [],
   "source": [
    "input_file_path = str(upstream['clean_gdelt_data']['data'])"
   ]
  },
  {
   "cell_type": "code",
   "execution_count": 5,
   "id": "d489f7f2",
   "metadata": {
    "execution": {
     "iopub.execute_input": "2022-03-23T16:37:43.328440Z",
     "iopub.status.busy": "2022-03-23T16:37:43.328259Z",
     "iopub.status.idle": "2022-03-23T16:37:43.331163Z",
     "shell.execute_reply": "2022-03-23T16:37:43.330537Z"
    },
    "papermill": {
     "duration": 0.011049,
     "end_time": "2022-03-23T16:37:43.332918",
     "exception": false,
     "start_time": "2022-03-23T16:37:43.321869",
     "status": "completed"
    },
    "tags": []
   },
   "outputs": [],
   "source": [
    "def read_data(input_file_path):\n",
    "    print(f\"reading {input_file_path}\")\n",
    "    data = pd.read_csv(input_file_path, index_col=0)\n",
    "    return data"
   ]
  },
  {
   "cell_type": "code",
   "execution_count": 6,
   "id": "7787c263",
   "metadata": {
    "execution": {
     "iopub.execute_input": "2022-03-23T16:37:43.345188Z",
     "iopub.status.busy": "2022-03-23T16:37:43.345007Z",
     "iopub.status.idle": "2022-03-23T16:37:43.352263Z",
     "shell.execute_reply": "2022-03-23T16:37:43.351833Z"
    },
    "papermill": {
     "duration": 0.015308,
     "end_time": "2022-03-23T16:37:43.353988",
     "exception": false,
     "start_time": "2022-03-23T16:37:43.338680",
     "status": "completed"
    },
    "tags": []
   },
   "outputs": [
    {
     "name": "stdout",
     "output_type": "stream",
     "text": [
      "reading /Users/aiujdm2/market_watch/output/data/interim/cleaned-gdelt-data.csv\n"
     ]
    }
   ],
   "source": [
    "data_df = read_data(input_file_path)"
   ]
  },
  {
   "cell_type": "code",
   "execution_count": 7,
   "id": "070c6ded",
   "metadata": {
    "execution": {
     "iopub.execute_input": "2022-03-23T16:37:43.366997Z",
     "iopub.status.busy": "2022-03-23T16:37:43.366802Z",
     "iopub.status.idle": "2022-03-23T16:37:43.374370Z",
     "shell.execute_reply": "2022-03-23T16:37:43.373825Z"
    },
    "papermill": {
     "duration": 0.016158,
     "end_time": "2022-03-23T16:37:43.376222",
     "exception": false,
     "start_time": "2022-03-23T16:37:43.360064",
     "status": "completed"
    },
    "tags": []
   },
   "outputs": [
    {
     "name": "stdout",
     "output_type": "stream",
     "text": [
      "<class 'pandas.core.frame.DataFrame'>\n",
      "Int64Index: 104 entries, 0 to 103\n",
      "Data columns (total 9 columns):\n",
      " #   Column         Non-Null Count  Dtype  \n",
      "---  ------         --------------  -----  \n",
      " 0   GKGRECORDID    104 non-null    object \n",
      " 1   Locations      104 non-null    object \n",
      " 2   Persons        86 non-null     object \n",
      " 3   Organizations  104 non-null    object \n",
      " 4   AvgTone        104 non-null    float64\n",
      " 5   PosScore       104 non-null    float64\n",
      " 6   NegScore       104 non-null    float64\n",
      " 7   Polarity       104 non-null    float64\n",
      " 8   Org Count      104 non-null    object \n",
      "dtypes: float64(4), object(5)\n",
      "memory usage: 8.1+ KB\n"
     ]
    }
   ],
   "source": [
    "data_df.info()"
   ]
  },
  {
   "cell_type": "code",
   "execution_count": 8,
   "id": "a098bad1",
   "metadata": {
    "execution": {
     "iopub.execute_input": "2022-03-23T16:37:43.390566Z",
     "iopub.status.busy": "2022-03-23T16:37:43.390411Z",
     "iopub.status.idle": "2022-03-23T16:37:43.405990Z",
     "shell.execute_reply": "2022-03-23T16:37:43.405401Z"
    },
    "papermill": {
     "duration": 0.024561,
     "end_time": "2022-03-23T16:37:43.407561",
     "exception": false,
     "start_time": "2022-03-23T16:37:43.383000",
     "status": "completed"
    },
    "tags": []
   },
   "outputs": [
    {
     "data": {
      "text/html": [
       "<div>\n",
       "<style scoped>\n",
       "    .dataframe tbody tr th:only-of-type {\n",
       "        vertical-align: middle;\n",
       "    }\n",
       "\n",
       "    .dataframe tbody tr th {\n",
       "        vertical-align: top;\n",
       "    }\n",
       "\n",
       "    .dataframe thead th {\n",
       "        text-align: right;\n",
       "    }\n",
       "</style>\n",
       "<table border=\"1\" class=\"dataframe\">\n",
       "  <thead>\n",
       "    <tr style=\"text-align: right;\">\n",
       "      <th></th>\n",
       "      <th>GKGRECORDID</th>\n",
       "      <th>Locations</th>\n",
       "      <th>Persons</th>\n",
       "      <th>Organizations</th>\n",
       "      <th>AvgTone</th>\n",
       "      <th>PosScore</th>\n",
       "      <th>NegScore</th>\n",
       "      <th>Polarity</th>\n",
       "      <th>Org Count</th>\n",
       "    </tr>\n",
       "  </thead>\n",
       "  <tbody>\n",
       "    <tr>\n",
       "      <th>85</th>\n",
       "      <td>20220322213000-1067</td>\n",
       "      <td>['Delft, Zuid-Holland, Netherlands', 'Germany'...</td>\n",
       "      <td>['Nico Caballero', 'Andreas Ludt']</td>\n",
       "      <td>Courtesy Of Tesla Inc,1264;Courtesy Of Tesla I...</td>\n",
       "      <td>2.474527</td>\n",
       "      <td>2.911208</td>\n",
       "      <td>0.436681</td>\n",
       "      <td>3.347889</td>\n",
       "      <td>{'Courtesy Of Tesla Inc': 3, 'Tesla Inc': 3}</td>\n",
       "    </tr>\n",
       "    <tr>\n",
       "      <th>75</th>\n",
       "      <td>20220322194500-1266</td>\n",
       "      <td>[]</td>\n",
       "      <td>['Alex Spiro', 'Elon Musk']</td>\n",
       "      <td>Exchange Commission,182;Exchange Commission,21...</td>\n",
       "      <td>1.790281</td>\n",
       "      <td>4.092072</td>\n",
       "      <td>2.301790</td>\n",
       "      <td>6.393862</td>\n",
       "      <td>{'Exchange Commission': 2, 'Twitter': 4, 'Tesl...</td>\n",
       "    </tr>\n",
       "    <tr>\n",
       "      <th>58</th>\n",
       "      <td>20220323160000-1451</td>\n",
       "      <td>['America']</td>\n",
       "      <td>['Zachary Kirkhorn', 'Banque Pictet', 'Banque ...</td>\n",
       "      <td>Securities Exchange Commission,2540;Zacks Inve...</td>\n",
       "      <td>0.715137</td>\n",
       "      <td>1.072706</td>\n",
       "      <td>0.357569</td>\n",
       "      <td>1.430274</td>\n",
       "      <td>{'Securities Exchange Commission': 1, 'Zacks I...</td>\n",
       "    </tr>\n",
       "    <tr>\n",
       "      <th>97</th>\n",
       "      <td>20220323120000-967</td>\n",
       "      <td>['Minnesota, United States', 'Minnesota, Unite...</td>\n",
       "      <td>['Brian Goldner', 'Volodymyr Liskovych', 'Todd...</td>\n",
       "      <td>National Instrument,7178;Minnesota-- Newsfile ...</td>\n",
       "      <td>-0.415704</td>\n",
       "      <td>1.062356</td>\n",
       "      <td>1.478060</td>\n",
       "      <td>2.540416</td>\n",
       "      <td>{'National Instrument': 1, 'Minnesota-- Newsfi...</td>\n",
       "    </tr>\n",
       "    <tr>\n",
       "      <th>71</th>\n",
       "      <td>20220322173000-1678</td>\n",
       "      <td>['Russian', 'New York, United States', 'New Yo...</td>\n",
       "      <td>['Jerome Powell', 'Sriraj Kalluvila', 'Peter C...</td>\n",
       "      <td>York Stock Exchange,121;Microsoft Corp,1611;Al...</td>\n",
       "      <td>-1.102941</td>\n",
       "      <td>1.470588</td>\n",
       "      <td>2.573529</td>\n",
       "      <td>4.044118</td>\n",
       "      <td>{'York Stock Exchange': 1, 'Microsoft Corp': 1...</td>\n",
       "    </tr>\n",
       "    <tr>\n",
       "      <th>50</th>\n",
       "      <td>20220322233000-T800</td>\n",
       "      <td>['Chinese']</td>\n",
       "      <td>NaN</td>\n",
       "      <td>Tesla App Store,20;Tesla App Store,263;Tesla A...</td>\n",
       "      <td>1.806452</td>\n",
       "      <td>2.709677</td>\n",
       "      <td>0.903226</td>\n",
       "      <td>3.612903</td>\n",
       "      <td>{'Tesla App Store': 4, 'Twitter': 2, 'Ministry...</td>\n",
       "    </tr>\n",
       "    <tr>\n",
       "      <th>30</th>\n",
       "      <td>20220323053000-T1001</td>\n",
       "      <td>['Taiwan', 'California, United States', 'Germa...</td>\n",
       "      <td>['Andy Herron']</td>\n",
       "      <td>Tesla Is Research It,2777</td>\n",
       "      <td>1.097179</td>\n",
       "      <td>2.351097</td>\n",
       "      <td>1.253918</td>\n",
       "      <td>3.605016</td>\n",
       "      <td>{'Tesla Is Research It': 1}</td>\n",
       "    </tr>\n",
       "    <tr>\n",
       "      <th>43</th>\n",
       "      <td>20220322223000-1105</td>\n",
       "      <td>['United Kingdom', 'Beijing, Beijing, China', ...</td>\n",
       "      <td>['Jerome Powell', 'Katie Haun']</td>\n",
       "      <td>United Airlines,1309;Delta Airlines,1252;Tesla...</td>\n",
       "      <td>0.931677</td>\n",
       "      <td>2.639752</td>\n",
       "      <td>1.708075</td>\n",
       "      <td>4.347826</td>\n",
       "      <td>{'United Airlines': 1, 'Delta Airlines': 1, 'T...</td>\n",
       "    </tr>\n",
       "    <tr>\n",
       "      <th>67</th>\n",
       "      <td>20220322190000-81</td>\n",
       "      <td>['Texas, United States', 'Germany', 'Germany',...</td>\n",
       "      <td>['Lebron James', 'Elon Musk', 'Robert Habeck',...</td>\n",
       "      <td>Twitter,752;Twitter,2131;Spacex,121;Volkswagen...</td>\n",
       "      <td>3.638814</td>\n",
       "      <td>4.986523</td>\n",
       "      <td>1.347709</td>\n",
       "      <td>6.334232</td>\n",
       "      <td>{'Twitter': 2, 'Spacex': 1, 'Volkswagen': 2, '...</td>\n",
       "    </tr>\n",
       "    <tr>\n",
       "      <th>64</th>\n",
       "      <td>20220322181500-1224</td>\n",
       "      <td>['United States', 'United States', 'United Sta...</td>\n",
       "      <td>['Gary Gensler', 'Robbie Schingler', 'Peter Pl...</td>\n",
       "      <td>Exelon Corp,5345;Dominion Energy,5376;Ford Mot...</td>\n",
       "      <td>0.786026</td>\n",
       "      <td>2.270742</td>\n",
       "      <td>1.484716</td>\n",
       "      <td>3.755459</td>\n",
       "      <td>{'Exelon Corp': 1, 'Dominion Energy': 1, 'Ford...</td>\n",
       "    </tr>\n",
       "  </tbody>\n",
       "</table>\n",
       "</div>"
      ],
      "text/plain": [
       "             GKGRECORDID                                          Locations  \\\n",
       "85   20220322213000-1067  ['Delft, Zuid-Holland, Netherlands', 'Germany'...   \n",
       "75   20220322194500-1266                                                 []   \n",
       "58   20220323160000-1451                                        ['America']   \n",
       "97    20220323120000-967  ['Minnesota, United States', 'Minnesota, Unite...   \n",
       "71   20220322173000-1678  ['Russian', 'New York, United States', 'New Yo...   \n",
       "50   20220322233000-T800                                        ['Chinese']   \n",
       "30  20220323053000-T1001  ['Taiwan', 'California, United States', 'Germa...   \n",
       "43   20220322223000-1105  ['United Kingdom', 'Beijing, Beijing, China', ...   \n",
       "67     20220322190000-81  ['Texas, United States', 'Germany', 'Germany',...   \n",
       "64   20220322181500-1224  ['United States', 'United States', 'United Sta...   \n",
       "\n",
       "                                              Persons  \\\n",
       "85                 ['Nico Caballero', 'Andreas Ludt']   \n",
       "75                        ['Alex Spiro', 'Elon Musk']   \n",
       "58  ['Zachary Kirkhorn', 'Banque Pictet', 'Banque ...   \n",
       "97  ['Brian Goldner', 'Volodymyr Liskovych', 'Todd...   \n",
       "71  ['Jerome Powell', 'Sriraj Kalluvila', 'Peter C...   \n",
       "50                                                NaN   \n",
       "30                                    ['Andy Herron']   \n",
       "43                    ['Jerome Powell', 'Katie Haun']   \n",
       "67  ['Lebron James', 'Elon Musk', 'Robert Habeck',...   \n",
       "64  ['Gary Gensler', 'Robbie Schingler', 'Peter Pl...   \n",
       "\n",
       "                                        Organizations   AvgTone  PosScore  \\\n",
       "85  Courtesy Of Tesla Inc,1264;Courtesy Of Tesla I...  2.474527  2.911208   \n",
       "75  Exchange Commission,182;Exchange Commission,21...  1.790281  4.092072   \n",
       "58  Securities Exchange Commission,2540;Zacks Inve...  0.715137  1.072706   \n",
       "97  National Instrument,7178;Minnesota-- Newsfile ... -0.415704  1.062356   \n",
       "71  York Stock Exchange,121;Microsoft Corp,1611;Al... -1.102941  1.470588   \n",
       "50  Tesla App Store,20;Tesla App Store,263;Tesla A...  1.806452  2.709677   \n",
       "30                          Tesla Is Research It,2777  1.097179  2.351097   \n",
       "43  United Airlines,1309;Delta Airlines,1252;Tesla...  0.931677  2.639752   \n",
       "67  Twitter,752;Twitter,2131;Spacex,121;Volkswagen...  3.638814  4.986523   \n",
       "64  Exelon Corp,5345;Dominion Energy,5376;Ford Mot...  0.786026  2.270742   \n",
       "\n",
       "    NegScore  Polarity                                          Org Count  \n",
       "85  0.436681  3.347889       {'Courtesy Of Tesla Inc': 3, 'Tesla Inc': 3}  \n",
       "75  2.301790  6.393862  {'Exchange Commission': 2, 'Twitter': 4, 'Tesl...  \n",
       "58  0.357569  1.430274  {'Securities Exchange Commission': 1, 'Zacks I...  \n",
       "97  1.478060  2.540416  {'National Instrument': 1, 'Minnesota-- Newsfi...  \n",
       "71  2.573529  4.044118  {'York Stock Exchange': 1, 'Microsoft Corp': 1...  \n",
       "50  0.903226  3.612903  {'Tesla App Store': 4, 'Twitter': 2, 'Ministry...  \n",
       "30  1.253918  3.605016                        {'Tesla Is Research It': 1}  \n",
       "43  1.708075  4.347826  {'United Airlines': 1, 'Delta Airlines': 1, 'T...  \n",
       "67  1.347709  6.334232  {'Twitter': 2, 'Spacex': 1, 'Volkswagen': 2, '...  \n",
       "64  1.484716  3.755459  {'Exelon Corp': 1, 'Dominion Energy': 1, 'Ford...  "
      ]
     },
     "execution_count": 8,
     "metadata": {},
     "output_type": "execute_result"
    }
   ],
   "source": [
    "data_df.sample(10)"
   ]
  },
  {
   "cell_type": "code",
   "execution_count": 9,
   "id": "369c7468",
   "metadata": {
    "execution": {
     "iopub.execute_input": "2022-03-23T16:37:43.422727Z",
     "iopub.status.busy": "2022-03-23T16:37:43.422553Z",
     "iopub.status.idle": "2022-03-23T16:37:43.429117Z",
     "shell.execute_reply": "2022-03-23T16:37:43.428439Z"
    },
    "papermill": {
     "duration": 0.016103,
     "end_time": "2022-03-23T16:37:43.430841",
     "exception": false,
     "start_time": "2022-03-23T16:37:43.414738",
     "status": "completed"
    },
    "tags": []
   },
   "outputs": [
    {
     "data": {
      "text/html": [
       "<div>\n",
       "<style scoped>\n",
       "    .dataframe tbody tr th:only-of-type {\n",
       "        vertical-align: middle;\n",
       "    }\n",
       "\n",
       "    .dataframe tbody tr th {\n",
       "        vertical-align: top;\n",
       "    }\n",
       "\n",
       "    .dataframe thead th {\n",
       "        text-align: right;\n",
       "    }\n",
       "</style>\n",
       "<table border=\"1\" class=\"dataframe\">\n",
       "  <thead>\n",
       "    <tr style=\"text-align: right;\">\n",
       "      <th></th>\n",
       "      <th>GKGRECORDID</th>\n",
       "      <th>Locations</th>\n",
       "      <th>Persons</th>\n",
       "      <th>Organizations</th>\n",
       "      <th>AvgTone</th>\n",
       "      <th>PosScore</th>\n",
       "      <th>NegScore</th>\n",
       "      <th>Polarity</th>\n",
       "      <th>Org Count</th>\n",
       "    </tr>\n",
       "  </thead>\n",
       "  <tbody>\n",
       "  </tbody>\n",
       "</table>\n",
       "</div>"
      ],
      "text/plain": [
       "Empty DataFrame\n",
       "Columns: [GKGRECORDID, Locations, Persons, Organizations, AvgTone, PosScore, NegScore, Polarity, Org Count]\n",
       "Index: []"
      ]
     },
     "execution_count": 9,
     "metadata": {},
     "output_type": "execute_result"
    }
   ],
   "source": [
    "cond = (data_df['NegScore'] > 10) | (data_df['PosScore'] > 10)\n",
    "data_df[cond]"
   ]
  },
  {
   "cell_type": "code",
   "execution_count": null,
   "id": "e685388c",
   "metadata": {
    "papermill": {
     "duration": 0.007491,
     "end_time": "2022-03-23T16:37:43.445844",
     "exception": false,
     "start_time": "2022-03-23T16:37:43.438353",
     "status": "completed"
    },
    "tags": []
   },
   "outputs": [],
   "source": []
  },
  {
   "cell_type": "code",
   "execution_count": null,
   "id": "eb7c8861",
   "metadata": {
    "papermill": {
     "duration": 0.007456,
     "end_time": "2022-03-23T16:37:43.460784",
     "exception": false,
     "start_time": "2022-03-23T16:37:43.453328",
     "status": "completed"
    },
    "tags": []
   },
   "outputs": [],
   "source": []
  }
 ],
 "metadata": {
  "jupytext": {
   "cell_metadata_filter": "tags,-all",
   "main_language": "python",
   "notebook_metadata_filter": "-all",
   "text_representation": {
    "extension": ".py",
    "format_name": "light"
   }
  },
  "kernelspec": {
   "display_name": "Python 3 (ipykernel)",
   "language": "python",
   "name": "python3"
  },
  "language_info": {
   "codemirror_mode": {
    "name": "ipython",
    "version": 3
   },
   "file_extension": ".py",
   "mimetype": "text/x-python",
   "name": "python",
   "nbconvert_exporter": "python",
   "pygments_lexer": "ipython3",
   "version": "3.9.10"
  },
  "papermill": {
   "duration": 1.603587,
   "end_time": "2022-03-23T16:37:43.690323",
   "exception": null,
   "input_path": "/var/folders/b0/4tc1nfbd6z7_vhx4nxcj2n91c0l9h6/T/tmp4obfpu_q.ipynb",
   "output_path": "/Users/aiujdm2/market_watch/output/notebooks/build_features.ipynb",
   "parameters": {
    "product": {
     "nb": "/Users/aiujdm2/market_watch/output/notebooks/build_features.ipynb"
    },
    "upstream": {
     "clean_gdelt_data": {
      "data": "/Users/aiujdm2/market_watch/output/data/interim/cleaned-gdelt-data.csv",
      "nb": "/Users/aiujdm2/market_watch/output/notebooks/clean_gdelt_data.ipynb"
     }
    }
   },
   "start_time": "2022-03-23T16:37:42.086736"
  }
 },
 "nbformat": 4,
 "nbformat_minor": 5
}