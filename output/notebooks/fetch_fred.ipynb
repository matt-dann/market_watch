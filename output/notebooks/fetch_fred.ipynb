{
 "cells": [
  {
   "cell_type": "code",
   "execution_count": 1,
   "id": "2fffdbeb",
   "metadata": {
    "execution": {
     "iopub.execute_input": "2022-04-19T13:23:48.546187Z",
     "iopub.status.busy": "2022-04-19T13:23:48.544977Z",
     "iopub.status.idle": "2022-04-19T13:23:48.557499Z",
     "shell.execute_reply": "2022-04-19T13:23:48.556291Z"
    },
    "lines_to_next_cell": 2,
    "papermill": {
     "duration": 0.019978,
     "end_time": "2022-04-19T13:23:48.559727",
     "exception": false,
     "start_time": "2022-04-19T13:23:48.539749",
     "status": "completed"
    },
    "tags": [
     "parameters"
    ]
   },
   "outputs": [],
   "source": [
    "# If this task has dependencies, list them them here\n",
    "# (e.g. upstream = ['some_task']), otherwise leave as None.\n",
    "upstream = None\n",
    "\n",
    "# This is a placeholder, leave it as None\n",
    "product = None"
   ]
  },
  {
   "cell_type": "code",
   "execution_count": 2,
   "id": "504bb8f5",
   "metadata": {
    "execution": {
     "iopub.execute_input": "2022-04-19T13:23:48.566431Z",
     "iopub.status.busy": "2022-04-19T13:23:48.566270Z",
     "iopub.status.idle": "2022-04-19T13:23:48.570177Z",
     "shell.execute_reply": "2022-04-19T13:23:48.569641Z"
    },
    "papermill": {
     "duration": 0.007538,
     "end_time": "2022-04-19T13:23:48.571161",
     "exception": false,
     "start_time": "2022-04-19T13:23:48.563623",
     "status": "completed"
    },
    "tags": [
     "injected-parameters"
    ]
   },
   "outputs": [],
   "source": [
    "# Parameters\n",
    "api_key = \"ebc6d771a26e9b8009c65cb0ab76ba3d\"\n",
    "obs_start = \"2015-01-01\"\n",
    "obs_stop = \"2021-12-30\"\n",
    "units = \"lin\"\n",
    "series_list = [\n",
    "    \"CROASMIDTIER\",\n",
    "    \"VIXCLS\",\n",
    "    \"TOTALSL\",\n",
    "    \"CPIAUCSL\",\n",
    "    \"M1REAL\",\n",
    "    \"M1V\",\n",
    "    \"WM1NS\",\n",
    "    \"WM2NS\",\n",
    "    \"DTWEXBGS\",\n",
    "    \"SP500\",\n",
    "    \"UMCSENT\",\n",
    "    \"USSLIND\",\n",
    "]\n",
    "fred_series_info_url = \"https://api.stlouisfed.org/fred/series\"\n",
    "fred_series_observations_url = \"https://api.stlouisfed.org/fred/series/observations\"\n",
    "product = {\n",
    "    \"nb\": \"/home/vgaurav/market_watch/output/notebooks/fetch_fred.ipynb\",\n",
    "    \"data\": \"/home/vgaurav/market_watch/output/data/raw/fred_series_data.csv\",\n",
    "}\n"
   ]
  },
  {
   "cell_type": "code",
   "execution_count": 3,
   "id": "a7b7861c",
   "metadata": {
    "execution": {
     "iopub.execute_input": "2022-04-19T13:23:48.575195Z",
     "iopub.status.busy": "2022-04-19T13:23:48.575060Z",
     "iopub.status.idle": "2022-04-19T13:23:48.864432Z",
     "shell.execute_reply": "2022-04-19T13:23:48.863868Z"
    },
    "papermill": {
     "duration": 0.292815,
     "end_time": "2022-04-19T13:23:48.865647",
     "exception": false,
     "start_time": "2022-04-19T13:23:48.572832",
     "status": "completed"
    },
    "tags": []
   },
   "outputs": [],
   "source": [
    "# your code here...\n",
    "\n",
    "import requests\n",
    "import pandas as pd\n",
    "import numpy as np\n",
    "import warnings\n",
    "from tqdm import tqdm\n",
    "import json\n",
    "from pathlib import Path\n",
    "\n",
    "pd.options.display.max_rows=500\n",
    "pd.options.display.max_columns=100\n",
    "warnings.filterwarnings(\"ignore\")"
   ]
  },
  {
   "cell_type": "code",
   "execution_count": 4,
   "id": "21c13ebf",
   "metadata": {
    "execution": {
     "iopub.execute_input": "2022-04-19T13:23:48.870267Z",
     "iopub.status.busy": "2022-04-19T13:23:48.870102Z",
     "iopub.status.idle": "2022-04-19T13:23:48.875081Z",
     "shell.execute_reply": "2022-04-19T13:23:48.874487Z"
    },
    "papermill": {
     "duration": 0.008564,
     "end_time": "2022-04-19T13:23:48.876156",
     "exception": false,
     "start_time": "2022-04-19T13:23:48.867592",
     "status": "completed"
    },
    "tags": []
   },
   "outputs": [],
   "source": [
    "def fetch_fred_data(fred_url, series_list, api_key, obs_start, obs_stop, record_path, meta_columns=None):\n",
    "    \n",
    "    session = requests.Session()\n",
    "    query_params =  {\n",
    "        'file_type': 'json',\n",
    "        'api_key' : api_key,\n",
    "        'observation_start': obs_start,\n",
    "        'observation_end' : obs_stop,\n",
    "    }\n",
    "    \n",
    "    df_lst = []\n",
    "    for series_id in tqdm(series_list):\n",
    "        query_params['series_id'] = series_id\n",
    "        response = session.get(\n",
    "           fred_url,\n",
    "           params=query_params\n",
    "        )\n",
    "        data = json.loads(response.text)\n",
    "        df = pd.json_normalize(\n",
    "            data, \n",
    "            record_path=record_path, \n",
    "            meta=meta_columns,\n",
    "        )\n",
    "        df['id'] = series_id\n",
    "        df_lst.append(df)\n",
    "\n",
    "    df = pd.concat(df_lst)\n",
    "    \n",
    "    return df"
   ]
  },
  {
   "cell_type": "code",
   "execution_count": 5,
   "id": "f0b9ef38",
   "metadata": {
    "execution": {
     "iopub.execute_input": "2022-04-19T13:23:48.880483Z",
     "iopub.status.busy": "2022-04-19T13:23:48.880320Z",
     "iopub.status.idle": "2022-04-19T13:23:48.883811Z",
     "shell.execute_reply": "2022-04-19T13:23:48.883313Z"
    },
    "papermill": {
     "duration": 0.007144,
     "end_time": "2022-04-19T13:23:48.884940",
     "exception": false,
     "start_time": "2022-04-19T13:23:48.877796",
     "status": "completed"
    },
    "tags": []
   },
   "outputs": [],
   "source": [
    "def get_series_info(fred_series_info_url, series_list, api_key, obs_start, obs_stop):\n",
    "    \n",
    "    record_path = ['seriess']\n",
    "    df = fetch_fred_data(fred_series_info_url, series_list, api_key, obs_start, obs_stop, record_path)\n",
    "    \n",
    "    return df"
   ]
  },
  {
   "cell_type": "code",
   "execution_count": 6,
   "id": "ac7d9c9c",
   "metadata": {
    "execution": {
     "iopub.execute_input": "2022-04-19T13:23:48.889607Z",
     "iopub.status.busy": "2022-04-19T13:23:48.889129Z",
     "iopub.status.idle": "2022-04-19T13:23:48.892418Z",
     "shell.execute_reply": "2022-04-19T13:23:48.891872Z"
    },
    "papermill": {
     "duration": 0.006834,
     "end_time": "2022-04-19T13:23:48.893459",
     "exception": false,
     "start_time": "2022-04-19T13:23:48.886625",
     "status": "completed"
    },
    "tags": []
   },
   "outputs": [],
   "source": [
    "def get_series_observations(fred_series_observations_url, series_list, api_key, obs_start, obs_stop):\n",
    "    \n",
    "    record_path = ['observations']\n",
    "    df = fetch_fred_data(fred_series_observations_url, series_list, api_key, obs_start, obs_stop, record_path)\n",
    "    df = df[['id','date','value']]\n",
    "    return df"
   ]
  },
  {
   "cell_type": "code",
   "execution_count": 7,
   "id": "aa6e390d",
   "metadata": {
    "execution": {
     "iopub.execute_input": "2022-04-19T13:23:48.897975Z",
     "iopub.status.busy": "2022-04-19T13:23:48.897812Z",
     "iopub.status.idle": "2022-04-19T13:23:48.900961Z",
     "shell.execute_reply": "2022-04-19T13:23:48.900446Z"
    },
    "papermill": {
     "duration": 0.006934,
     "end_time": "2022-04-19T13:23:48.902137",
     "exception": false,
     "start_time": "2022-04-19T13:23:48.895203",
     "status": "completed"
    },
    "tags": []
   },
   "outputs": [],
   "source": [
    "def clean_series_data(series_df):\n",
    "    \n",
    "    series_df.date = pd.to_datetime(series_df.date)\n",
    "    # holidays are represented as . in dataset, let's replace them by null values\n",
    "    series_df.value = series_df.value.replace('.', np.nan)\n",
    "    # convert value to float as it comes as object\n",
    "    series_df.value = series_df.value.astype(float)\n",
    "    \n",
    "    return series_df"
   ]
  },
  {
   "cell_type": "code",
   "execution_count": 8,
   "id": "fe31f154",
   "metadata": {
    "execution": {
     "iopub.execute_input": "2022-04-19T13:23:48.906646Z",
     "iopub.status.busy": "2022-04-19T13:23:48.906479Z",
     "iopub.status.idle": "2022-04-19T13:23:48.909647Z",
     "shell.execute_reply": "2022-04-19T13:23:48.909113Z"
    },
    "papermill": {
     "duration": 0.006672,
     "end_time": "2022-04-19T13:23:48.910638",
     "exception": false,
     "start_time": "2022-04-19T13:23:48.903966",
     "status": "completed"
    },
    "tags": []
   },
   "outputs": [],
   "source": [
    "def resample(series_df, method='ffill'):\n",
    "    series_df = series_df.set_index('date')\n",
    "    sampled = series_df.resample('B')\n",
    "    sampled_df = sampled.interpolate(method=method)\n",
    "    sampled_df = sampled_df.reset_index()\n",
    "    return sampled_df"
   ]
  },
  {
   "cell_type": "code",
   "execution_count": 9,
   "id": "8b81081d",
   "metadata": {
    "execution": {
     "iopub.execute_input": "2022-04-19T13:23:48.915250Z",
     "iopub.status.busy": "2022-04-19T13:23:48.915094Z",
     "iopub.status.idle": "2022-04-19T13:23:48.918691Z",
     "shell.execute_reply": "2022-04-19T13:23:48.918169Z"
    },
    "papermill": {
     "duration": 0.007182,
     "end_time": "2022-04-19T13:23:48.919740",
     "exception": false,
     "start_time": "2022-04-19T13:23:48.912558",
     "status": "completed"
    },
    "tags": []
   },
   "outputs": [],
   "source": [
    "def convert_to_wide_format(series_obs_df):\n",
    "    df_lst = []\n",
    "    #  we need to resample each series individually becuase of date collission\n",
    "    series_list = series_obs_df.id.unique()\n",
    "    for series_id in series_list:\n",
    "        # filter for given series id    \n",
    "        filter_cond = series_obs_df['id'] == series_id\n",
    "        # get individual series dataframe    \n",
    "        series_df = series_obs_df[filter_cond]\n",
    "        series_df = resample(series_df)\n",
    "        series_df = series_df.pivot(index='date', columns='id', values='value')\n",
    "        df_lst.append(series_df)\n",
    "    \n",
    "    df = pd.concat(df_lst, axis=1).sort_index()\n",
    "    \n",
    "    return df"
   ]
  },
  {
   "cell_type": "code",
   "execution_count": 10,
   "id": "909d29d9",
   "metadata": {
    "execution": {
     "iopub.execute_input": "2022-04-19T13:23:48.924134Z",
     "iopub.status.busy": "2022-04-19T13:23:48.923983Z",
     "iopub.status.idle": "2022-04-19T13:23:53.606225Z",
     "shell.execute_reply": "2022-04-19T13:23:53.604640Z"
    },
    "papermill": {
     "duration": 4.687729,
     "end_time": "2022-04-19T13:23:53.609248",
     "exception": false,
     "start_time": "2022-04-19T13:23:48.921519",
     "status": "completed"
    },
    "tags": []
   },
   "outputs": [
    {
     "name": "stderr",
     "output_type": "stream",
     "text": [
      "\r",
      "  0%|                                                            | 0/12 [00:00<?, ?it/s]"
     ]
    },
    {
     "name": "stderr",
     "output_type": "stream",
     "text": [
      "\r",
      "  8%|████▎                                               | 1/12 [00:00<00:02,  5.06it/s]"
     ]
    },
    {
     "name": "stderr",
     "output_type": "stream",
     "text": [
      "\r",
      " 17%|████████▋                                           | 2/12 [00:01<00:10,  1.08s/it]"
     ]
    },
    {
     "name": "stderr",
     "output_type": "stream",
     "text": [
      "\r",
      " 33%|█████████████████▎                                  | 4/12 [00:02<00:03,  2.08it/s]"
     ]
    },
    {
     "name": "stderr",
     "output_type": "stream",
     "text": [
      "\r",
      " 42%|█████████████████████▋                              | 5/12 [00:02<00:02,  2.68it/s]"
     ]
    },
    {
     "name": "stderr",
     "output_type": "stream",
     "text": [
      "\r",
      " 50%|██████████████████████████                          | 6/12 [00:02<00:01,  3.41it/s]"
     ]
    },
    {
     "name": "stderr",
     "output_type": "stream",
     "text": [
      "\r",
      " 58%|██████████████████████████████▎                     | 7/12 [00:02<00:01,  4.10it/s]"
     ]
    },
    {
     "name": "stderr",
     "output_type": "stream",
     "text": [
      "\r",
      " 67%|██████████████████████████████████▋                 | 8/12 [00:02<00:00,  4.95it/s]"
     ]
    },
    {
     "name": "stderr",
     "output_type": "stream",
     "text": [
      "\r",
      " 75%|███████████████████████████████████████             | 9/12 [00:03<00:00,  3.86it/s]"
     ]
    },
    {
     "name": "stderr",
     "output_type": "stream",
     "text": [
      "\r",
      " 83%|██████████████████████████████████████████▌        | 10/12 [00:03<00:00,  4.60it/s]"
     ]
    },
    {
     "name": "stderr",
     "output_type": "stream",
     "text": [
      "\r",
      " 92%|██████████████████████████████████████████████▊    | 11/12 [00:04<00:00,  1.85it/s]"
     ]
    },
    {
     "name": "stderr",
     "output_type": "stream",
     "text": [
      "\r",
      "100%|███████████████████████████████████████████████████| 12/12 [00:04<00:00,  2.27it/s]"
     ]
    },
    {
     "name": "stderr",
     "output_type": "stream",
     "text": [
      "\r",
      "100%|███████████████████████████████████████████████████| 12/12 [00:04<00:00,  2.58it/s]"
     ]
    },
    {
     "name": "stderr",
     "output_type": "stream",
     "text": [
      "\n"
     ]
    },
    {
     "data": {
      "text/plain": [
       "Index(['id', 'realtime_start', 'realtime_end', 'title', 'observation_start',\n",
       "       'observation_end', 'frequency', 'frequency_short', 'units',\n",
       "       'units_short', 'seasonal_adjustment', 'seasonal_adjustment_short',\n",
       "       'last_updated', 'popularity', 'notes'],\n",
       "      dtype='object')"
      ]
     },
     "execution_count": 10,
     "metadata": {},
     "output_type": "execute_result"
    }
   ],
   "source": [
    "series_info_df = get_series_info(fred_series_info_url, series_list, api_key, obs_start, obs_stop)\n",
    "series_info_df.columns"
   ]
  },
  {
   "cell_type": "code",
   "execution_count": 11,
   "id": "d03f9492",
   "metadata": {
    "execution": {
     "iopub.execute_input": "2022-04-19T13:23:53.651846Z",
     "iopub.status.busy": "2022-04-19T13:23:53.650904Z",
     "iopub.status.idle": "2022-04-19T13:24:05.956970Z",
     "shell.execute_reply": "2022-04-19T13:24:05.956318Z"
    },
    "papermill": {
     "duration": 12.341549,
     "end_time": "2022-04-19T13:24:05.958205",
     "exception": false,
     "start_time": "2022-04-19T13:23:53.616656",
     "status": "completed"
    },
    "tags": []
   },
   "outputs": [
    {
     "name": "stderr",
     "output_type": "stream",
     "text": [
      "\r",
      "  0%|                                                            | 0/12 [00:00<?, ?it/s]"
     ]
    },
    {
     "name": "stderr",
     "output_type": "stream",
     "text": [
      "\r",
      "  8%|████▎                                               | 1/12 [00:02<00:25,  2.34s/it]"
     ]
    },
    {
     "name": "stderr",
     "output_type": "stream",
     "text": [
      "\r",
      " 17%|████████▋                                           | 2/12 [00:02<00:10,  1.09s/it]"
     ]
    },
    {
     "name": "stderr",
     "output_type": "stream",
     "text": [
      "\r",
      " 25%|█████████████                                       | 3/12 [00:03<00:08,  1.09it/s]"
     ]
    },
    {
     "name": "stderr",
     "output_type": "stream",
     "text": [
      "\r",
      " 33%|█████████████████▎                                  | 4/12 [00:04<00:06,  1.17it/s]"
     ]
    },
    {
     "name": "stderr",
     "output_type": "stream",
     "text": [
      "\r",
      " 42%|█████████████████████▋                              | 5/12 [00:04<00:04,  1.67it/s]"
     ]
    },
    {
     "name": "stderr",
     "output_type": "stream",
     "text": [
      "\r",
      " 50%|██████████████████████████                          | 6/12 [00:04<00:02,  2.12it/s]"
     ]
    },
    {
     "name": "stderr",
     "output_type": "stream",
     "text": [
      "\r",
      " 58%|██████████████████████████████▎                     | 7/12 [00:04<00:01,  2.64it/s]"
     ]
    },
    {
     "name": "stderr",
     "output_type": "stream",
     "text": [
      "\r",
      " 67%|██████████████████████████████████▋                 | 8/12 [00:05<00:02,  1.81it/s]"
     ]
    },
    {
     "name": "stderr",
     "output_type": "stream",
     "text": [
      "\r",
      " 75%|███████████████████████████████████████             | 9/12 [00:10<00:05,  1.92s/it]"
     ]
    },
    {
     "name": "stderr",
     "output_type": "stream",
     "text": [
      "\r",
      " 83%|██████████████████████████████████████████▌        | 10/12 [00:10<00:02,  1.39s/it]"
     ]
    },
    {
     "name": "stderr",
     "output_type": "stream",
     "text": [
      "\r",
      " 92%|██████████████████████████████████████████████▊    | 11/12 [00:10<00:01,  1.01s/it]"
     ]
    },
    {
     "name": "stderr",
     "output_type": "stream",
     "text": [
      "\r",
      "100%|███████████████████████████████████████████████████| 12/12 [00:12<00:00,  1.16s/it]"
     ]
    },
    {
     "name": "stderr",
     "output_type": "stream",
     "text": [
      "\r",
      "100%|███████████████████████████████████████████████████| 12/12 [00:12<00:00,  1.02s/it]"
     ]
    },
    {
     "name": "stderr",
     "output_type": "stream",
     "text": [
      "\n"
     ]
    },
    {
     "data": {
      "text/plain": [
       "Index(['id', 'date', 'value'], dtype='object')"
      ]
     },
     "execution_count": 11,
     "metadata": {},
     "output_type": "execute_result"
    }
   ],
   "source": [
    "# need to call below functions in order\n",
    "series_obs_df = get_series_observations(fred_series_observations_url, series_list, api_key, obs_start, obs_stop)\n",
    "series_obs_df.columns"
   ]
  },
  {
   "cell_type": "code",
   "execution_count": 12,
   "id": "8e4333cf",
   "metadata": {
    "execution": {
     "iopub.execute_input": "2022-04-19T13:24:05.992131Z",
     "iopub.status.busy": "2022-04-19T13:24:05.990485Z",
     "iopub.status.idle": "2022-04-19T13:24:06.019544Z",
     "shell.execute_reply": "2022-04-19T13:24:06.018084Z"
    },
    "papermill": {
     "duration": 0.060242,
     "end_time": "2022-04-19T13:24:06.022297",
     "exception": false,
     "start_time": "2022-04-19T13:24:05.962055",
     "status": "completed"
    },
    "tags": []
   },
   "outputs": [
    {
     "name": "stdout",
     "output_type": "stream",
     "text": [
      "<class 'pandas.core.frame.DataFrame'>\n",
      "Int64Index: 6713 entries, 0 to 61\n",
      "Data columns (total 3 columns):\n",
      " #   Column  Non-Null Count  Dtype         \n",
      "---  ------  --------------  -----         \n",
      " 0   id      6713 non-null   object        \n",
      " 1   date    6713 non-null   datetime64[ns]\n",
      " 2   value   6500 non-null   float64       \n",
      "dtypes: datetime64[ns](1), float64(1), object(1)\n",
      "memory usage: 209.8+ KB\n"
     ]
    }
   ],
   "source": [
    "series_obs_df = clean_series_data(series_obs_df)\n",
    "series_obs_df.info()"
   ]
  },
  {
   "cell_type": "code",
   "execution_count": 13,
   "id": "dc459684",
   "metadata": {
    "execution": {
     "iopub.execute_input": "2022-04-19T13:24:06.032769Z",
     "iopub.status.busy": "2022-04-19T13:24:06.032579Z",
     "iopub.status.idle": "2022-04-19T13:24:06.411328Z",
     "shell.execute_reply": "2022-04-19T13:24:06.410670Z"
    },
    "papermill": {
     "duration": 0.386219,
     "end_time": "2022-04-19T13:24:06.412553",
     "exception": false,
     "start_time": "2022-04-19T13:24:06.026334",
     "status": "completed"
    },
    "tags": []
   },
   "outputs": [
    {
     "data": {
      "text/plain": [
       "Index(['CROASMIDTIER', 'VIXCLS', 'TOTALSL', 'CPIAUCSL', 'M1REAL', 'M1V',\n",
       "       'WM1NS', 'WM2NS', 'DTWEXBGS', 'SP500', 'UMCSENT', 'USSLIND'],\n",
       "      dtype='object', name='id')"
      ]
     },
     "execution_count": 13,
     "metadata": {},
     "output_type": "execute_result"
    }
   ],
   "source": [
    "series_wide_df = convert_to_wide_format(series_obs_df)\n",
    "series_wide_df = series_wide_df.fillna(method='ffill')\n",
    "series_wide_df.columns"
   ]
  },
  {
   "cell_type": "code",
   "execution_count": 14,
   "id": "1aba0b59",
   "metadata": {
    "execution": {
     "iopub.execute_input": "2022-04-19T13:24:06.439162Z",
     "iopub.status.busy": "2022-04-19T13:24:06.436717Z",
     "iopub.status.idle": "2022-04-19T13:24:06.488556Z",
     "shell.execute_reply": "2022-04-19T13:24:06.487563Z"
    },
    "papermill": {
     "duration": 0.073904,
     "end_time": "2022-04-19T13:24:06.490371",
     "exception": false,
     "start_time": "2022-04-19T13:24:06.416467",
     "status": "completed"
    },
    "tags": []
   },
   "outputs": [
    {
     "data": {
      "text/html": [
       "<div>\n",
       "<style scoped>\n",
       "    .dataframe tbody tr th:only-of-type {\n",
       "        vertical-align: middle;\n",
       "    }\n",
       "\n",
       "    .dataframe tbody tr th {\n",
       "        vertical-align: top;\n",
       "    }\n",
       "\n",
       "    .dataframe thead th {\n",
       "        text-align: right;\n",
       "    }\n",
       "</style>\n",
       "<table border=\"1\" class=\"dataframe\">\n",
       "  <thead>\n",
       "    <tr style=\"text-align: right;\">\n",
       "      <th>id</th>\n",
       "      <th>CROASMIDTIER</th>\n",
       "      <th>VIXCLS</th>\n",
       "      <th>TOTALSL</th>\n",
       "      <th>CPIAUCSL</th>\n",
       "      <th>M1REAL</th>\n",
       "      <th>M1V</th>\n",
       "      <th>WM1NS</th>\n",
       "      <th>WM2NS</th>\n",
       "      <th>DTWEXBGS</th>\n",
       "      <th>SP500</th>\n",
       "      <th>UMCSENT</th>\n",
       "      <th>USSLIND</th>\n",
       "    </tr>\n",
       "    <tr>\n",
       "      <th>date</th>\n",
       "      <th></th>\n",
       "      <th></th>\n",
       "      <th></th>\n",
       "      <th></th>\n",
       "      <th></th>\n",
       "      <th></th>\n",
       "      <th></th>\n",
       "      <th></th>\n",
       "      <th></th>\n",
       "      <th></th>\n",
       "      <th></th>\n",
       "      <th></th>\n",
       "    </tr>\n",
       "  </thead>\n",
       "  <tbody>\n",
       "    <tr>\n",
       "      <th>2021-11-26</th>\n",
       "      <td>324.308697</td>\n",
       "      <td>28.62</td>\n",
       "      <td>4411.21508</td>\n",
       "      <td>278.524</td>\n",
       "      <td>7282.5</td>\n",
       "      <td>1.185</td>\n",
       "      <td>20297.2</td>\n",
       "      <td>21416.5</td>\n",
       "      <td>116.5112</td>\n",
       "      <td>4594.62</td>\n",
       "      <td>67.4</td>\n",
       "      <td>1.57</td>\n",
       "    </tr>\n",
       "    <tr>\n",
       "      <th>2021-11-29</th>\n",
       "      <td>324.308697</td>\n",
       "      <td>22.96</td>\n",
       "      <td>4411.21508</td>\n",
       "      <td>278.524</td>\n",
       "      <td>7282.5</td>\n",
       "      <td>1.185</td>\n",
       "      <td>20324.5</td>\n",
       "      <td>21445.3</td>\n",
       "      <td>116.5858</td>\n",
       "      <td>4655.27</td>\n",
       "      <td>67.4</td>\n",
       "      <td>1.57</td>\n",
       "    </tr>\n",
       "    <tr>\n",
       "      <th>2021-11-30</th>\n",
       "      <td>324.308697</td>\n",
       "      <td>27.19</td>\n",
       "      <td>4411.21508</td>\n",
       "      <td>278.524</td>\n",
       "      <td>7282.5</td>\n",
       "      <td>1.185</td>\n",
       "      <td>20324.5</td>\n",
       "      <td>21445.3</td>\n",
       "      <td>116.2178</td>\n",
       "      <td>4567.00</td>\n",
       "      <td>67.4</td>\n",
       "      <td>1.57</td>\n",
       "    </tr>\n",
       "    <tr>\n",
       "      <th>2021-12-01</th>\n",
       "      <td>333.873647</td>\n",
       "      <td>31.12</td>\n",
       "      <td>4431.89944</td>\n",
       "      <td>280.126</td>\n",
       "      <td>7296.5</td>\n",
       "      <td>1.185</td>\n",
       "      <td>20324.5</td>\n",
       "      <td>21445.3</td>\n",
       "      <td>115.8992</td>\n",
       "      <td>4513.04</td>\n",
       "      <td>70.6</td>\n",
       "      <td>1.57</td>\n",
       "    </tr>\n",
       "    <tr>\n",
       "      <th>2021-12-02</th>\n",
       "      <td>333.873647</td>\n",
       "      <td>27.95</td>\n",
       "      <td>4431.89944</td>\n",
       "      <td>280.126</td>\n",
       "      <td>7296.5</td>\n",
       "      <td>1.185</td>\n",
       "      <td>20324.5</td>\n",
       "      <td>21445.3</td>\n",
       "      <td>116.0314</td>\n",
       "      <td>4577.10</td>\n",
       "      <td>70.6</td>\n",
       "      <td>1.57</td>\n",
       "    </tr>\n",
       "    <tr>\n",
       "      <th>2021-12-03</th>\n",
       "      <td>333.873647</td>\n",
       "      <td>30.67</td>\n",
       "      <td>4431.89944</td>\n",
       "      <td>280.126</td>\n",
       "      <td>7296.5</td>\n",
       "      <td>1.185</td>\n",
       "      <td>20324.5</td>\n",
       "      <td>21445.3</td>\n",
       "      <td>116.2445</td>\n",
       "      <td>4538.43</td>\n",
       "      <td>70.6</td>\n",
       "      <td>1.57</td>\n",
       "    </tr>\n",
       "    <tr>\n",
       "      <th>2021-12-06</th>\n",
       "      <td>333.873647</td>\n",
       "      <td>27.18</td>\n",
       "      <td>4431.89944</td>\n",
       "      <td>280.126</td>\n",
       "      <td>7296.5</td>\n",
       "      <td>1.185</td>\n",
       "      <td>20478.1</td>\n",
       "      <td>21589.8</td>\n",
       "      <td>116.1674</td>\n",
       "      <td>4591.67</td>\n",
       "      <td>70.6</td>\n",
       "      <td>1.57</td>\n",
       "    </tr>\n",
       "    <tr>\n",
       "      <th>2021-12-07</th>\n",
       "      <td>333.873647</td>\n",
       "      <td>21.89</td>\n",
       "      <td>4431.89944</td>\n",
       "      <td>280.126</td>\n",
       "      <td>7296.5</td>\n",
       "      <td>1.185</td>\n",
       "      <td>20478.1</td>\n",
       "      <td>21589.8</td>\n",
       "      <td>115.8815</td>\n",
       "      <td>4686.75</td>\n",
       "      <td>70.6</td>\n",
       "      <td>1.57</td>\n",
       "    </tr>\n",
       "    <tr>\n",
       "      <th>2021-12-08</th>\n",
       "      <td>333.873647</td>\n",
       "      <td>19.90</td>\n",
       "      <td>4431.89944</td>\n",
       "      <td>280.126</td>\n",
       "      <td>7296.5</td>\n",
       "      <td>1.185</td>\n",
       "      <td>20478.1</td>\n",
       "      <td>21589.8</td>\n",
       "      <td>115.4694</td>\n",
       "      <td>4701.21</td>\n",
       "      <td>70.6</td>\n",
       "      <td>1.57</td>\n",
       "    </tr>\n",
       "    <tr>\n",
       "      <th>2021-12-09</th>\n",
       "      <td>333.873647</td>\n",
       "      <td>21.58</td>\n",
       "      <td>4431.89944</td>\n",
       "      <td>280.126</td>\n",
       "      <td>7296.5</td>\n",
       "      <td>1.185</td>\n",
       "      <td>20478.1</td>\n",
       "      <td>21589.8</td>\n",
       "      <td>115.8058</td>\n",
       "      <td>4667.45</td>\n",
       "      <td>70.6</td>\n",
       "      <td>1.57</td>\n",
       "    </tr>\n",
       "    <tr>\n",
       "      <th>2021-12-10</th>\n",
       "      <td>333.873647</td>\n",
       "      <td>18.69</td>\n",
       "      <td>4431.89944</td>\n",
       "      <td>280.126</td>\n",
       "      <td>7296.5</td>\n",
       "      <td>1.185</td>\n",
       "      <td>20478.1</td>\n",
       "      <td>21589.8</td>\n",
       "      <td>115.5967</td>\n",
       "      <td>4712.02</td>\n",
       "      <td>70.6</td>\n",
       "      <td>1.57</td>\n",
       "    </tr>\n",
       "    <tr>\n",
       "      <th>2021-12-13</th>\n",
       "      <td>333.873647</td>\n",
       "      <td>20.31</td>\n",
       "      <td>4431.89944</td>\n",
       "      <td>280.126</td>\n",
       "      <td>7296.5</td>\n",
       "      <td>1.185</td>\n",
       "      <td>20529.6</td>\n",
       "      <td>21647.1</td>\n",
       "      <td>115.8625</td>\n",
       "      <td>4668.97</td>\n",
       "      <td>70.6</td>\n",
       "      <td>1.57</td>\n",
       "    </tr>\n",
       "    <tr>\n",
       "      <th>2021-12-14</th>\n",
       "      <td>333.873647</td>\n",
       "      <td>21.89</td>\n",
       "      <td>4431.89944</td>\n",
       "      <td>280.126</td>\n",
       "      <td>7296.5</td>\n",
       "      <td>1.185</td>\n",
       "      <td>20529.6</td>\n",
       "      <td>21647.1</td>\n",
       "      <td>116.2524</td>\n",
       "      <td>4634.09</td>\n",
       "      <td>70.6</td>\n",
       "      <td>1.57</td>\n",
       "    </tr>\n",
       "    <tr>\n",
       "      <th>2021-12-15</th>\n",
       "      <td>333.873647</td>\n",
       "      <td>19.29</td>\n",
       "      <td>4431.89944</td>\n",
       "      <td>280.126</td>\n",
       "      <td>7296.5</td>\n",
       "      <td>1.185</td>\n",
       "      <td>20529.6</td>\n",
       "      <td>21647.1</td>\n",
       "      <td>116.4299</td>\n",
       "      <td>4709.85</td>\n",
       "      <td>70.6</td>\n",
       "      <td>1.57</td>\n",
       "    </tr>\n",
       "    <tr>\n",
       "      <th>2021-12-16</th>\n",
       "      <td>333.873647</td>\n",
       "      <td>20.57</td>\n",
       "      <td>4431.89944</td>\n",
       "      <td>280.126</td>\n",
       "      <td>7296.5</td>\n",
       "      <td>1.185</td>\n",
       "      <td>20529.6</td>\n",
       "      <td>21647.1</td>\n",
       "      <td>115.7307</td>\n",
       "      <td>4668.67</td>\n",
       "      <td>70.6</td>\n",
       "      <td>1.57</td>\n",
       "    </tr>\n",
       "    <tr>\n",
       "      <th>2021-12-17</th>\n",
       "      <td>333.873647</td>\n",
       "      <td>21.57</td>\n",
       "      <td>4431.89944</td>\n",
       "      <td>280.126</td>\n",
       "      <td>7296.5</td>\n",
       "      <td>1.185</td>\n",
       "      <td>20529.6</td>\n",
       "      <td>21647.1</td>\n",
       "      <td>115.8123</td>\n",
       "      <td>4620.64</td>\n",
       "      <td>70.6</td>\n",
       "      <td>1.57</td>\n",
       "    </tr>\n",
       "    <tr>\n",
       "      <th>2021-12-20</th>\n",
       "      <td>333.873647</td>\n",
       "      <td>22.87</td>\n",
       "      <td>4431.89944</td>\n",
       "      <td>280.126</td>\n",
       "      <td>7296.5</td>\n",
       "      <td>1.185</td>\n",
       "      <td>20654.7</td>\n",
       "      <td>21774.7</td>\n",
       "      <td>116.0211</td>\n",
       "      <td>4568.02</td>\n",
       "      <td>70.6</td>\n",
       "      <td>1.57</td>\n",
       "    </tr>\n",
       "    <tr>\n",
       "      <th>2021-12-21</th>\n",
       "      <td>333.873647</td>\n",
       "      <td>21.01</td>\n",
       "      <td>4431.89944</td>\n",
       "      <td>280.126</td>\n",
       "      <td>7296.5</td>\n",
       "      <td>1.185</td>\n",
       "      <td>20654.7</td>\n",
       "      <td>21774.7</td>\n",
       "      <td>116.1256</td>\n",
       "      <td>4649.23</td>\n",
       "      <td>70.6</td>\n",
       "      <td>1.57</td>\n",
       "    </tr>\n",
       "    <tr>\n",
       "      <th>2021-12-22</th>\n",
       "      <td>333.873647</td>\n",
       "      <td>18.63</td>\n",
       "      <td>4431.89944</td>\n",
       "      <td>280.126</td>\n",
       "      <td>7296.5</td>\n",
       "      <td>1.185</td>\n",
       "      <td>20654.7</td>\n",
       "      <td>21774.7</td>\n",
       "      <td>115.7657</td>\n",
       "      <td>4696.56</td>\n",
       "      <td>70.6</td>\n",
       "      <td>1.57</td>\n",
       "    </tr>\n",
       "    <tr>\n",
       "      <th>2021-12-23</th>\n",
       "      <td>333.873647</td>\n",
       "      <td>17.96</td>\n",
       "      <td>4431.89944</td>\n",
       "      <td>280.126</td>\n",
       "      <td>7296.5</td>\n",
       "      <td>1.185</td>\n",
       "      <td>20654.7</td>\n",
       "      <td>21774.7</td>\n",
       "      <td>115.5575</td>\n",
       "      <td>4725.79</td>\n",
       "      <td>70.6</td>\n",
       "      <td>1.57</td>\n",
       "    </tr>\n",
       "    <tr>\n",
       "      <th>2021-12-24</th>\n",
       "      <td>333.873647</td>\n",
       "      <td>17.96</td>\n",
       "      <td>4431.89944</td>\n",
       "      <td>280.126</td>\n",
       "      <td>7296.5</td>\n",
       "      <td>1.185</td>\n",
       "      <td>20654.7</td>\n",
       "      <td>21774.7</td>\n",
       "      <td>115.5575</td>\n",
       "      <td>4725.79</td>\n",
       "      <td>70.6</td>\n",
       "      <td>1.57</td>\n",
       "    </tr>\n",
       "    <tr>\n",
       "      <th>2021-12-27</th>\n",
       "      <td>333.873647</td>\n",
       "      <td>17.68</td>\n",
       "      <td>4431.89944</td>\n",
       "      <td>280.126</td>\n",
       "      <td>7296.5</td>\n",
       "      <td>1.185</td>\n",
       "      <td>20688.6</td>\n",
       "      <td>21823.4</td>\n",
       "      <td>115.4964</td>\n",
       "      <td>4791.19</td>\n",
       "      <td>70.6</td>\n",
       "      <td>1.57</td>\n",
       "    </tr>\n",
       "    <tr>\n",
       "      <th>2021-12-28</th>\n",
       "      <td>333.873647</td>\n",
       "      <td>17.54</td>\n",
       "      <td>4431.89944</td>\n",
       "      <td>280.126</td>\n",
       "      <td>7296.5</td>\n",
       "      <td>1.185</td>\n",
       "      <td>20688.6</td>\n",
       "      <td>21823.4</td>\n",
       "      <td>115.4497</td>\n",
       "      <td>4786.35</td>\n",
       "      <td>70.6</td>\n",
       "      <td>1.57</td>\n",
       "    </tr>\n",
       "    <tr>\n",
       "      <th>2021-12-29</th>\n",
       "      <td>333.873647</td>\n",
       "      <td>16.95</td>\n",
       "      <td>4431.89944</td>\n",
       "      <td>280.126</td>\n",
       "      <td>7296.5</td>\n",
       "      <td>1.185</td>\n",
       "      <td>20688.6</td>\n",
       "      <td>21823.4</td>\n",
       "      <td>115.3964</td>\n",
       "      <td>4793.06</td>\n",
       "      <td>70.6</td>\n",
       "      <td>1.57</td>\n",
       "    </tr>\n",
       "    <tr>\n",
       "      <th>2021-12-30</th>\n",
       "      <td>333.873647</td>\n",
       "      <td>17.33</td>\n",
       "      <td>4431.89944</td>\n",
       "      <td>280.126</td>\n",
       "      <td>7296.5</td>\n",
       "      <td>1.185</td>\n",
       "      <td>20688.6</td>\n",
       "      <td>21823.4</td>\n",
       "      <td>115.3163</td>\n",
       "      <td>4778.73</td>\n",
       "      <td>70.6</td>\n",
       "      <td>1.57</td>\n",
       "    </tr>\n",
       "  </tbody>\n",
       "</table>\n",
       "</div>"
      ],
      "text/plain": [
       "id          CROASMIDTIER  VIXCLS     TOTALSL  CPIAUCSL  M1REAL    M1V  \\\n",
       "date                                                                    \n",
       "2021-11-26    324.308697   28.62  4411.21508   278.524  7282.5  1.185   \n",
       "2021-11-29    324.308697   22.96  4411.21508   278.524  7282.5  1.185   \n",
       "2021-11-30    324.308697   27.19  4411.21508   278.524  7282.5  1.185   \n",
       "2021-12-01    333.873647   31.12  4431.89944   280.126  7296.5  1.185   \n",
       "2021-12-02    333.873647   27.95  4431.89944   280.126  7296.5  1.185   \n",
       "2021-12-03    333.873647   30.67  4431.89944   280.126  7296.5  1.185   \n",
       "2021-12-06    333.873647   27.18  4431.89944   280.126  7296.5  1.185   \n",
       "2021-12-07    333.873647   21.89  4431.89944   280.126  7296.5  1.185   \n",
       "2021-12-08    333.873647   19.90  4431.89944   280.126  7296.5  1.185   \n",
       "2021-12-09    333.873647   21.58  4431.89944   280.126  7296.5  1.185   \n",
       "2021-12-10    333.873647   18.69  4431.89944   280.126  7296.5  1.185   \n",
       "2021-12-13    333.873647   20.31  4431.89944   280.126  7296.5  1.185   \n",
       "2021-12-14    333.873647   21.89  4431.89944   280.126  7296.5  1.185   \n",
       "2021-12-15    333.873647   19.29  4431.89944   280.126  7296.5  1.185   \n",
       "2021-12-16    333.873647   20.57  4431.89944   280.126  7296.5  1.185   \n",
       "2021-12-17    333.873647   21.57  4431.89944   280.126  7296.5  1.185   \n",
       "2021-12-20    333.873647   22.87  4431.89944   280.126  7296.5  1.185   \n",
       "2021-12-21    333.873647   21.01  4431.89944   280.126  7296.5  1.185   \n",
       "2021-12-22    333.873647   18.63  4431.89944   280.126  7296.5  1.185   \n",
       "2021-12-23    333.873647   17.96  4431.89944   280.126  7296.5  1.185   \n",
       "2021-12-24    333.873647   17.96  4431.89944   280.126  7296.5  1.185   \n",
       "2021-12-27    333.873647   17.68  4431.89944   280.126  7296.5  1.185   \n",
       "2021-12-28    333.873647   17.54  4431.89944   280.126  7296.5  1.185   \n",
       "2021-12-29    333.873647   16.95  4431.89944   280.126  7296.5  1.185   \n",
       "2021-12-30    333.873647   17.33  4431.89944   280.126  7296.5  1.185   \n",
       "\n",
       "id            WM1NS    WM2NS  DTWEXBGS    SP500  UMCSENT  USSLIND  \n",
       "date                                                               \n",
       "2021-11-26  20297.2  21416.5  116.5112  4594.62     67.4     1.57  \n",
       "2021-11-29  20324.5  21445.3  116.5858  4655.27     67.4     1.57  \n",
       "2021-11-30  20324.5  21445.3  116.2178  4567.00     67.4     1.57  \n",
       "2021-12-01  20324.5  21445.3  115.8992  4513.04     70.6     1.57  \n",
       "2021-12-02  20324.5  21445.3  116.0314  4577.10     70.6     1.57  \n",
       "2021-12-03  20324.5  21445.3  116.2445  4538.43     70.6     1.57  \n",
       "2021-12-06  20478.1  21589.8  116.1674  4591.67     70.6     1.57  \n",
       "2021-12-07  20478.1  21589.8  115.8815  4686.75     70.6     1.57  \n",
       "2021-12-08  20478.1  21589.8  115.4694  4701.21     70.6     1.57  \n",
       "2021-12-09  20478.1  21589.8  115.8058  4667.45     70.6     1.57  \n",
       "2021-12-10  20478.1  21589.8  115.5967  4712.02     70.6     1.57  \n",
       "2021-12-13  20529.6  21647.1  115.8625  4668.97     70.6     1.57  \n",
       "2021-12-14  20529.6  21647.1  116.2524  4634.09     70.6     1.57  \n",
       "2021-12-15  20529.6  21647.1  116.4299  4709.85     70.6     1.57  \n",
       "2021-12-16  20529.6  21647.1  115.7307  4668.67     70.6     1.57  \n",
       "2021-12-17  20529.6  21647.1  115.8123  4620.64     70.6     1.57  \n",
       "2021-12-20  20654.7  21774.7  116.0211  4568.02     70.6     1.57  \n",
       "2021-12-21  20654.7  21774.7  116.1256  4649.23     70.6     1.57  \n",
       "2021-12-22  20654.7  21774.7  115.7657  4696.56     70.6     1.57  \n",
       "2021-12-23  20654.7  21774.7  115.5575  4725.79     70.6     1.57  \n",
       "2021-12-24  20654.7  21774.7  115.5575  4725.79     70.6     1.57  \n",
       "2021-12-27  20688.6  21823.4  115.4964  4791.19     70.6     1.57  \n",
       "2021-12-28  20688.6  21823.4  115.4497  4786.35     70.6     1.57  \n",
       "2021-12-29  20688.6  21823.4  115.3964  4793.06     70.6     1.57  \n",
       "2021-12-30  20688.6  21823.4  115.3163  4778.73     70.6     1.57  "
      ]
     },
     "execution_count": 14,
     "metadata": {},
     "output_type": "execute_result"
    }
   ],
   "source": [
    "series_wide_df.tail(25)"
   ]
  },
  {
   "cell_type": "code",
   "execution_count": 15,
   "id": "fe17fc14",
   "metadata": {
    "execution": {
     "iopub.execute_input": "2022-04-19T13:24:06.511037Z",
     "iopub.status.busy": "2022-04-19T13:24:06.510830Z",
     "iopub.status.idle": "2022-04-19T13:24:06.514819Z",
     "shell.execute_reply": "2022-04-19T13:24:06.514171Z"
    },
    "papermill": {
     "duration": 0.018365,
     "end_time": "2022-04-19T13:24:06.516080",
     "exception": false,
     "start_time": "2022-04-19T13:24:06.497715",
     "status": "completed"
    },
    "tags": []
   },
   "outputs": [
    {
     "name": "stdout",
     "output_type": "stream",
     "text": [
      "Writing to /home/vgaurav/market_watch/output/data/raw/fred_series_data.csv \n",
      " /home/vgaurav/market_watch/output/data/raw/fred_series_info.csv\n"
     ]
    }
   ],
   "source": [
    "output_file_path = product['data']\n",
    "parent_file_path = Path(output_file_path).parent\n",
    "series_info_file_path = str(parent_file_path) + \"/fred_series_info.csv\"\n",
    "print(f\"Writing to {output_file_path} \\n {series_info_file_path}\")"
   ]
  },
  {
   "cell_type": "code",
   "execution_count": 16,
   "id": "e1842310",
   "metadata": {
    "execution": {
     "iopub.execute_input": "2022-04-19T13:24:06.554928Z",
     "iopub.status.busy": "2022-04-19T13:24:06.554712Z",
     "iopub.status.idle": "2022-04-19T13:24:06.580999Z",
     "shell.execute_reply": "2022-04-19T13:24:06.580447Z"
    },
    "lines_to_next_cell": 2,
    "papermill": {
     "duration": 0.04756,
     "end_time": "2022-04-19T13:24:06.582160",
     "exception": false,
     "start_time": "2022-04-19T13:24:06.534600",
     "status": "completed"
    },
    "tags": []
   },
   "outputs": [],
   "source": [
    "series_wide_df.to_csv(output_file_path)\n",
    "series_info_df.to_csv(series_info_file_path)"
   ]
  },
  {
   "cell_type": "code",
   "execution_count": null,
   "id": "b9af16c4",
   "metadata": {
    "papermill": {
     "duration": 0.015559,
     "end_time": "2022-04-19T13:24:06.600719",
     "exception": false,
     "start_time": "2022-04-19T13:24:06.585160",
     "status": "completed"
    },
    "tags": []
   },
   "outputs": [],
   "source": []
  }
 ],
 "metadata": {
  "jupytext": {
   "text_representation": {
    "extension": ".py",
    "format_name": "percent",
    "format_version": "1.3",
    "jupytext_version": "1.13.7"
   }
  },
  "kernelspec": {
   "display_name": "Python 3 (ipykernel)",
   "language": "python",
   "name": "python3"
  },
  "language_info": {
   "codemirror_mode": {
    "name": "ipython",
    "version": 3
   },
   "file_extension": ".py",
   "mimetype": "text/x-python",
   "name": "python",
   "nbconvert_exporter": "python",
   "pygments_lexer": "ipython3",
   "version": "3.8.10"
  },
  "papermill": {
   "duration": 19.034883,
   "end_time": "2022-04-19T13:24:06.859637",
   "exception": null,
   "input_path": "/tmp/tmpl3ue8xj7.ipynb",
   "output_path": "/home/vgaurav/market_watch/output/notebooks/fetch_fred.ipynb",
   "parameters": {
    "api_key": "ebc6d771a26e9b8009c65cb0ab76ba3d",
    "fred_series_info_url": "https://api.stlouisfed.org/fred/series",
    "fred_series_observations_url": "https://api.stlouisfed.org/fred/series/observations",
    "obs_start": "2015-01-01",
    "obs_stop": "2021-12-30",
    "product": {
     "data": "/home/vgaurav/market_watch/output/data/raw/fred_series_data.csv",
     "nb": "/home/vgaurav/market_watch/output/notebooks/fetch_fred.ipynb"
    },
    "series_list": [
     "CROASMIDTIER",
     "VIXCLS",
     "TOTALSL",
     "CPIAUCSL",
     "M1REAL",
     "M1V",
     "WM1NS",
     "WM2NS",
     "DTWEXBGS",
     "SP500",
     "UMCSENT",
     "USSLIND"
    ],
    "units": "lin"
   },
   "start_time": "2022-04-19T13:23:47.824754"
  }
 },
 "nbformat": 4,
 "nbformat_minor": 5
}