{
 "cells": [
  {
   "cell_type": "code",
   "execution_count": 1,
   "id": "88e0be74",
   "metadata": {
    "execution": {
     "iopub.execute_input": "2022-04-10T21:19:05.021467Z",
     "iopub.status.busy": "2022-04-10T21:19:05.021183Z",
     "iopub.status.idle": "2022-04-10T21:19:05.025314Z",
     "shell.execute_reply": "2022-04-10T21:19:05.024634Z"
    },
    "lines_to_next_cell": 2,
    "papermill": {
     "duration": 0.018816,
     "end_time": "2022-04-10T21:19:05.027427",
     "exception": false,
     "start_time": "2022-04-10T21:19:05.008611",
     "status": "completed"
    },
    "tags": []
   },
   "outputs": [],
   "source": [
    "# Add description here\n",
    "#\n",
    "# *Note:* You can open this file as a notebook (JupyterLab: right-click on it in the side bar -> Open With -> Notebook)"
   ]
  },
  {
   "cell_type": "code",
   "execution_count": 2,
   "id": "ee777c66",
   "metadata": {
    "execution": {
     "iopub.execute_input": "2022-04-10T21:19:05.045873Z",
     "iopub.status.busy": "2022-04-10T21:19:05.045659Z",
     "iopub.status.idle": "2022-04-10T21:19:05.048503Z",
     "shell.execute_reply": "2022-04-10T21:19:05.047897Z"
    },
    "papermill": {
     "duration": 0.013867,
     "end_time": "2022-04-10T21:19:05.050256",
     "exception": false,
     "start_time": "2022-04-10T21:19:05.036389",
     "status": "completed"
    },
    "tags": []
   },
   "outputs": [],
   "source": [
    "# Uncomment the next two lines to enable auto reloading for imported modules\n",
    "# %load_ext autoreload\n",
    "# %autoreload 2\n",
    "# For more info, see:\n",
    "# https://docs.ploomber.io/en/latest/user-guide/faq_index.html#auto-reloading-code-in-jupyter"
   ]
  },
  {
   "cell_type": "code",
   "execution_count": 3,
   "id": "afa21967",
   "metadata": {
    "execution": {
     "iopub.execute_input": "2022-04-10T21:19:05.067996Z",
     "iopub.status.busy": "2022-04-10T21:19:05.067593Z",
     "iopub.status.idle": "2022-04-10T21:19:05.075594Z",
     "shell.execute_reply": "2022-04-10T21:19:05.075083Z"
    },
    "lines_to_next_cell": 2,
    "papermill": {
     "duration": 0.019038,
     "end_time": "2022-04-10T21:19:05.077403",
     "exception": false,
     "start_time": "2022-04-10T21:19:05.058365",
     "status": "completed"
    },
    "tags": [
     "parameters"
    ]
   },
   "outputs": [],
   "source": [
    "# If this task has dependencies, list them them here\n",
    "# (e.g. upstream = ['some_task']), otherwise leave as None.\n",
    "upstream = None\n",
    "\n",
    "# This is a placeholder, leave it as None\n",
    "product = None"
   ]
  },
  {
   "cell_type": "code",
   "execution_count": 4,
   "id": "3c99546a",
   "metadata": {
    "execution": {
     "iopub.execute_input": "2022-04-10T21:19:05.093818Z",
     "iopub.status.busy": "2022-04-10T21:19:05.093666Z",
     "iopub.status.idle": "2022-04-10T21:19:05.097061Z",
     "shell.execute_reply": "2022-04-10T21:19:05.096453Z"
    },
    "papermill": {
     "duration": 0.013594,
     "end_time": "2022-04-10T21:19:05.099054",
     "exception": false,
     "start_time": "2022-04-10T21:19:05.085460",
     "status": "completed"
    },
    "tags": [
     "injected-parameters"
    ]
   },
   "outputs": [],
   "source": [
    "# Parameters\n",
    "api_params = {\n",
    "    \"api_key\": \"ebc6d771a26e9b8009c65cb0ab76ba3d\",\n",
    "    \"obs_start\": \"2015-01-01\",\n",
    "    \"obs_stop\": \"2021-12-30\",\n",
    "    \"units\": \"lin\",\n",
    "    \"series_list\": \"CROASMIDTIER VIXCLS TOTALSL CPIAUCSL M1REAL M1V WM1NS WM2NS DTWEXBGS SP500 UMCSENT\",\n",
    "}\n",
    "product = {\n",
    "    \"nb\": \"/Users/aiujdm2/market_watch/output/notebooks/fetch_fred.ipynb\",\n",
    "    \"data\": \"/Users/aiujdm2/market_watch/output/data/raw/fred.csv\",\n",
    "}\n"
   ]
  },
  {
   "cell_type": "code",
   "execution_count": 5,
   "id": "084a91ce",
   "metadata": {
    "execution": {
     "iopub.execute_input": "2022-04-10T21:19:05.112362Z",
     "iopub.status.busy": "2022-04-10T21:19:05.112210Z",
     "iopub.status.idle": "2022-04-10T21:19:05.417042Z",
     "shell.execute_reply": "2022-04-10T21:19:05.416478Z"
    },
    "lines_to_next_cell": 2,
    "papermill": {
     "duration": 0.313607,
     "end_time": "2022-04-10T21:19:05.418803",
     "exception": false,
     "start_time": "2022-04-10T21:19:05.105196",
     "status": "completed"
    },
    "tags": []
   },
   "outputs": [],
   "source": [
    "# your code here...\n",
    "\n",
    "import requests\n",
    "import pandas as pd\n",
    "import numpy as np\n",
    "import warnings\n",
    "\n",
    "pd.options.display.max_rows=500\n",
    "pd.options.display.max_columns=100\n",
    "warnings.filterwarnings(\"ignore\")"
   ]
  },
  {
   "cell_type": "code",
   "execution_count": 6,
   "id": "2c96d12c",
   "metadata": {
    "execution": {
     "iopub.execute_input": "2022-04-10T21:19:05.433048Z",
     "iopub.status.busy": "2022-04-10T21:19:05.432849Z",
     "iopub.status.idle": "2022-04-10T21:19:05.614540Z",
     "shell.execute_reply": "2022-04-10T21:19:05.613953Z"
    },
    "papermill": {
     "duration": 0.190945,
     "end_time": "2022-04-10T21:19:05.616602",
     "exception": false,
     "start_time": "2022-04-10T21:19:05.425657",
     "status": "completed"
    },
    "tags": []
   },
   "outputs": [
    {
     "data": {
      "text/plain": [
       "{'realtime_start': '2022-04-10',\n",
       " 'realtime_end': '2022-04-10',\n",
       " 'seriess': [{'id': 'VIXCLS',\n",
       "   'realtime_start': '2022-04-10',\n",
       "   'realtime_end': '2022-04-10',\n",
       "   'title': 'CBOE Volatility Index: VIX',\n",
       "   'observation_start': '1990-01-02',\n",
       "   'observation_end': '2022-04-07',\n",
       "   'frequency': 'Daily, Close',\n",
       "   'frequency_short': 'D',\n",
       "   'units': 'Index',\n",
       "   'units_short': 'Index',\n",
       "   'seasonal_adjustment': 'Not Seasonally Adjusted',\n",
       "   'seasonal_adjustment_short': 'NSA',\n",
       "   'last_updated': '2022-04-08 08:36:02-05',\n",
       "   'popularity': 75,\n",
       "   'notes': 'VIX measures market expectation of near term volatility conveyed by stock index option prices. Copyright, 2016, Chicago Board Options Exchange, Inc. Reprinted with permission.'}]}"
      ]
     },
     "execution_count": 6,
     "metadata": {},
     "output_type": "execute_result"
    }
   ],
   "source": [
    "r=requests.get('https://api.stlouisfed.org/fred/series', {\n",
    "    'series_id' : 'VIXCLS',\n",
    "    'api_key' : 'ebc6d771a26e9b8009c65cb0ab76ba3d', \n",
    "    'file_type':'json'\n",
    "})\n",
    "\n",
    "r.json()\n",
    "\n"
   ]
  },
  {
   "cell_type": "code",
   "execution_count": 7,
   "id": "bacb2f64",
   "metadata": {
    "execution": {
     "iopub.execute_input": "2022-04-10T21:19:05.637055Z",
     "iopub.status.busy": "2022-04-10T21:19:05.636826Z",
     "iopub.status.idle": "2022-04-10T21:19:05.639734Z",
     "shell.execute_reply": "2022-04-10T21:19:05.639137Z"
    },
    "papermill": {
     "duration": 0.015075,
     "end_time": "2022-04-10T21:19:05.641545",
     "exception": false,
     "start_time": "2022-04-10T21:19:05.626470",
     "status": "completed"
    },
    "tags": []
   },
   "outputs": [],
   "source": [
    "# r=requests.get('https://api.stlouisfed.org/fred/series/observations', {\n",
    "#     'series_id' : 'SP500',\n",
    "#     'api_key' : 'ebc6d771a26e9b8009c65cb0ab76ba3d',\n",
    "#     'file_type': 'json',\n",
    "#     'observation_start': '2022-01-01',\n",
    "#     'observation_end' : '2022-01-05',\n",
    "#     'units' : 'lin',\n",
    "#     'frequencies': 'D'   \n",
    "# })\n",
    "\n",
    "# r= r.json()"
   ]
  },
  {
   "cell_type": "code",
   "execution_count": 8,
   "id": "1db42a34",
   "metadata": {
    "execution": {
     "iopub.execute_input": "2022-04-10T21:19:05.660152Z",
     "iopub.status.busy": "2022-04-10T21:19:05.659945Z",
     "iopub.status.idle": "2022-04-10T21:19:05.671238Z",
     "shell.execute_reply": "2022-04-10T21:19:05.670690Z"
    },
    "papermill": {
     "duration": 0.022388,
     "end_time": "2022-04-10T21:19:05.672843",
     "exception": false,
     "start_time": "2022-04-10T21:19:05.650455",
     "status": "completed"
    },
    "tags": []
   },
   "outputs": [],
   "source": [
    "def get_series_metainfo(series_id, api_key):\n",
    "    '''Returns the metadata for the series_id'''\n",
    "    r= requests.get('https://api.stlouisfed.org/fred/series', {\n",
    "    'series_id' : series_id,\n",
    "    'file_type': 'json',\n",
    "    'api_key' : api_key})\n",
    "    json= r.json()\n",
    "    json=json['seriess'][0]\n",
    "    \n",
    "    try:\n",
    "        result= pd.Series([json['title'],\n",
    "                     json['id'],\n",
    "                     json['frequency_short'],\n",
    "                     json['seasonal_adjustment'],\n",
    "                     json['popularity'],\n",
    "\n",
    "                     json['observation_start'],\n",
    "                     json['observation_end'],\n",
    "                     json['notes']], index= ['Title','ID','Frequency','Seasonally Adjusted', 'Popularity','Observation Start', 'Observation End', 'Notes'])\n",
    "\n",
    "    except:\n",
    "        result= pd.Series([json['title'],\n",
    "                     json['id'],\n",
    "                     json['frequency_short'],\n",
    "                     json['seasonal_adjustment'],\n",
    "                     json['popularity'],\n",
    "\n",
    "                     json['observation_start'],\n",
    "                     json['observation_end'],\n",
    "                     None], index= ['Title','ID','Frequency','Seasonally Adjusted', 'Popularity','Observation Start', 'Observation End', 'Notes'])\n",
    "\n",
    "    return result\n",
    "\n",
    "def get_series_obs(series_id, api_key, obs_start, obs_end, freq, units= 'lin'):\n",
    "    '''Returns the observations for series_id'''\n",
    "    \n",
    "    json= requests.get('https://api.stlouisfed.org/fred/series/observations',{\n",
    "        'series_id' : series_id,\n",
    "        'file_type': 'json',\n",
    "        'api_key' : api_key,\n",
    "        'observation_start': obs_start,\n",
    "        'observation_end' : obs_end,\n",
    "        'units' : units,\n",
    "        'frequencies': freq \n",
    "    }).json()\n",
    "    json= json['observations']\n",
    "    df= pd.DataFrame(json)\n",
    "    df= df[['date','value']]\n",
    "    df.columns= ['DATE',series_id]\n",
    "    return df\n",
    "\n",
    "def convert_dfs_to_daily(df):\n",
    "    '''\n",
    "    Takes FRED data and returns a df convertion to daily timeframe\n",
    "    using ffill. Example... a monthly frequency will be converted to daily (weekdays only) where the last recorded value\n",
    "    will be propagated forward.\n",
    "    '''\n",
    "\n",
    "    cols= df.columns\n",
    "    df.iloc[:,1]= df.iloc[:,1].replace('.', np.nan)\n",
    "    df.dropna(inplace=True)\n",
    "    df.reset_index(inplace=True, drop=True)\n",
    "    all_days_df= pd.DataFrame()\n",
    "    for i, row in df.iterrows():\n",
    "        all_days_df= all_days_df.append(row)\n",
    "        if i+1 < df.shape[0]:\n",
    "            time_delta= df.loc[i+1, 'DATE'] - row['DATE']\n",
    "            if time_delta > pd.Timedelta(1,'D'):\n",
    "                range_= pd.date_range(row['DATE'],df.loc[i+1,'DATE'])[1:-1]\n",
    "                for n, d in enumerate(range_, 1):\n",
    "                    all_days_df= all_days_df.append({df.columns[0] : pd.to_datetime(d),\n",
    "                                                    df.columns[1]: np.nan}, ignore_index=True)\n",
    "                all_days_df.fillna(method='ffill',inplace=True)  \n",
    "    return all_days_df"
   ]
  },
  {
   "cell_type": "code",
   "execution_count": null,
   "id": "7de18b1e",
   "metadata": {
    "papermill": {
     "duration": 0.00693,
     "end_time": "2022-04-10T21:19:05.688013",
     "exception": false,
     "start_time": "2022-04-10T21:19:05.681083",
     "status": "completed"
    },
    "tags": []
   },
   "outputs": [],
   "source": []
  },
  {
   "cell_type": "code",
   "execution_count": 9,
   "id": "c0ca426e",
   "metadata": {
    "execution": {
     "iopub.execute_input": "2022-04-10T21:19:05.703638Z",
     "iopub.status.busy": "2022-04-10T21:19:05.703393Z",
     "iopub.status.idle": "2022-04-10T21:22:32.983729Z",
     "shell.execute_reply": "2022-04-10T21:22:32.983035Z"
    },
    "papermill": {
     "duration": 207.290612,
     "end_time": "2022-04-10T21:22:32.985951",
     "exception": false,
     "start_time": "2022-04-10T21:19:05.695339",
     "status": "completed"
    },
    "tags": []
   },
   "outputs": [
    {
     "name": "stdout",
     "output_type": "stream",
     "text": [
      "CROASMIDTIER\n"
     ]
    },
    {
     "name": "stdout",
     "output_type": "stream",
     "text": [
      "VIXCLS\n"
     ]
    },
    {
     "name": "stdout",
     "output_type": "stream",
     "text": [
      "TOTALSL\n"
     ]
    },
    {
     "name": "stdout",
     "output_type": "stream",
     "text": [
      "CPIAUCSL\n"
     ]
    },
    {
     "name": "stdout",
     "output_type": "stream",
     "text": [
      "M1REAL\n"
     ]
    },
    {
     "name": "stdout",
     "output_type": "stream",
     "text": [
      "M1V\n"
     ]
    },
    {
     "name": "stdout",
     "output_type": "stream",
     "text": [
      "WM1NS\n"
     ]
    },
    {
     "name": "stdout",
     "output_type": "stream",
     "text": [
      "WM2NS\n"
     ]
    },
    {
     "name": "stdout",
     "output_type": "stream",
     "text": [
      "DTWEXBGS\n"
     ]
    },
    {
     "name": "stdout",
     "output_type": "stream",
     "text": [
      "SP500\n"
     ]
    },
    {
     "name": "stdout",
     "output_type": "stream",
     "text": [
      "UMCSENT\n"
     ]
    },
    {
     "name": "stdout",
     "output_type": "stream",
     "text": [
      "CPU times: user 3min 17s, sys: 7.13 s, total: 3min 24s\n",
      "Wall time: 3min 27s\n"
     ]
    }
   ],
   "source": [
    "%%time\n",
    "series_ids= api_params['series_list'].split(' ')\n",
    "key= api_params['api_key']\n",
    "obs_start= api_params['obs_start']\n",
    "obs_stop= api_params['obs_stop']\n",
    "unit= api_params['units']\n",
    "\n",
    "\n",
    "meta_df= pd.DataFrame()\n",
    "obs_df= pd.DataFrame(columns= ['DATE'])\n",
    "\n",
    "for id_ in series_ids:\n",
    "    meta_df= meta_df.append(get_series_metainfo(id_, key), ignore_index=True)\n",
    "\n",
    "for id_ in series_ids:\n",
    "    print(id_)\n",
    "    freq= meta_df[meta_df['ID'] == id_]['Frequency']\n",
    "    series_df= get_series_obs(id_, key, obs_start, obs_stop, freq)\n",
    "    series_df['DATE']= series_df['DATE'].astype('datetime64')\n",
    "    series_df= convert_dfs_to_daily(series_df)\n",
    "    obs_df= obs_df.merge(series_df, how='outer', on='DATE')\n",
    "obs_df.dropna(axis=0, inplace=True)\n",
    "obs_df.reset_index(drop=True, inplace=True)"
   ]
  },
  {
   "cell_type": "code",
   "execution_count": 10,
   "id": "81404719",
   "metadata": {
    "execution": {
     "iopub.execute_input": "2022-04-10T21:22:33.006150Z",
     "iopub.status.busy": "2022-04-10T21:22:33.005912Z",
     "iopub.status.idle": "2022-04-10T21:22:33.016535Z",
     "shell.execute_reply": "2022-04-10T21:22:33.016036Z"
    },
    "papermill": {
     "duration": 0.02297,
     "end_time": "2022-04-10T21:22:33.018304",
     "exception": false,
     "start_time": "2022-04-10T21:22:32.995334",
     "status": "completed"
    },
    "tags": []
   },
   "outputs": [
    {
     "data": {
      "text/html": [
       "<div>\n",
       "<style scoped>\n",
       "    .dataframe tbody tr th:only-of-type {\n",
       "        vertical-align: middle;\n",
       "    }\n",
       "\n",
       "    .dataframe tbody tr th {\n",
       "        vertical-align: top;\n",
       "    }\n",
       "\n",
       "    .dataframe thead th {\n",
       "        text-align: right;\n",
       "    }\n",
       "</style>\n",
       "<table border=\"1\" class=\"dataframe\">\n",
       "  <thead>\n",
       "    <tr style=\"text-align: right;\">\n",
       "      <th></th>\n",
       "      <th>Title</th>\n",
       "      <th>ID</th>\n",
       "      <th>Frequency</th>\n",
       "      <th>Seasonally Adjusted</th>\n",
       "      <th>Popularity</th>\n",
       "      <th>Observation Start</th>\n",
       "      <th>Observation End</th>\n",
       "      <th>Notes</th>\n",
       "    </tr>\n",
       "  </thead>\n",
       "  <tbody>\n",
       "    <tr>\n",
       "      <th>0</th>\n",
       "      <td>AD&amp;Co US Mortgage High Yield Index, Credit-and...</td>\n",
       "      <td>CROASMIDTIER</td>\n",
       "      <td>M</td>\n",
       "      <td>Not Seasonally Adjusted</td>\n",
       "      <td>38</td>\n",
       "      <td>2015-06-01</td>\n",
       "      <td>2022-02-01</td>\n",
       "      <td>The AD&amp;Co US Mortgage High Yield Index crOAS, ...</td>\n",
       "    </tr>\n",
       "    <tr>\n",
       "      <th>1</th>\n",
       "      <td>CBOE Volatility Index: VIX</td>\n",
       "      <td>VIXCLS</td>\n",
       "      <td>D</td>\n",
       "      <td>Not Seasonally Adjusted</td>\n",
       "      <td>75</td>\n",
       "      <td>1990-01-02</td>\n",
       "      <td>2022-04-07</td>\n",
       "      <td>VIX measures market expectation of near term v...</td>\n",
       "    </tr>\n",
       "    <tr>\n",
       "      <th>2</th>\n",
       "      <td>Total Consumer Credit Owned and Securitized</td>\n",
       "      <td>TOTALSL</td>\n",
       "      <td>M</td>\n",
       "      <td>Seasonally Adjusted</td>\n",
       "      <td>61</td>\n",
       "      <td>1943-01-01</td>\n",
       "      <td>2022-02-01</td>\n",
       "      <td>For further information, please refer to the B...</td>\n",
       "    </tr>\n",
       "    <tr>\n",
       "      <th>3</th>\n",
       "      <td>Consumer Price Index for All Urban Consumers: ...</td>\n",
       "      <td>CPIAUCSL</td>\n",
       "      <td>M</td>\n",
       "      <td>Seasonally Adjusted</td>\n",
       "      <td>92</td>\n",
       "      <td>1947-01-01</td>\n",
       "      <td>2022-02-01</td>\n",
       "      <td>The Consumer Price Index for All Urban Consume...</td>\n",
       "    </tr>\n",
       "    <tr>\n",
       "      <th>4</th>\n",
       "      <td>Real M1 Money Stock</td>\n",
       "      <td>M1REAL</td>\n",
       "      <td>M</td>\n",
       "      <td>Seasonally Adjusted</td>\n",
       "      <td>58</td>\n",
       "      <td>1959-01-01</td>\n",
       "      <td>2022-02-01</td>\n",
       "      <td>This series deflates M1 money stock (https://f...</td>\n",
       "    </tr>\n",
       "    <tr>\n",
       "      <th>5</th>\n",
       "      <td>Velocity of M1 Money Stock</td>\n",
       "      <td>M1V</td>\n",
       "      <td>Q</td>\n",
       "      <td>Seasonally Adjusted</td>\n",
       "      <td>71</td>\n",
       "      <td>1959-01-01</td>\n",
       "      <td>2021-10-01</td>\n",
       "      <td>Calculated as the ratio of quarterly nominal G...</td>\n",
       "    </tr>\n",
       "    <tr>\n",
       "      <th>6</th>\n",
       "      <td>M1</td>\n",
       "      <td>WM1NS</td>\n",
       "      <td>W</td>\n",
       "      <td>Not Seasonally Adjusted</td>\n",
       "      <td>71</td>\n",
       "      <td>1975-01-06</td>\n",
       "      <td>2022-02-28</td>\n",
       "      <td>Before May 2020, M1 consists of (1) currency o...</td>\n",
       "    </tr>\n",
       "    <tr>\n",
       "      <th>7</th>\n",
       "      <td>M2</td>\n",
       "      <td>WM2NS</td>\n",
       "      <td>W</td>\n",
       "      <td>Not Seasonally Adjusted</td>\n",
       "      <td>79</td>\n",
       "      <td>1980-11-03</td>\n",
       "      <td>2022-02-28</td>\n",
       "      <td>Before May 2020, M2 consists of M1 plus (1) sa...</td>\n",
       "    </tr>\n",
       "    <tr>\n",
       "      <th>8</th>\n",
       "      <td>Nominal Broad U.S. Dollar Index</td>\n",
       "      <td>DTWEXBGS</td>\n",
       "      <td>D</td>\n",
       "      <td>Not Seasonally Adjusted</td>\n",
       "      <td>74</td>\n",
       "      <td>2006-01-02</td>\n",
       "      <td>2022-04-01</td>\n",
       "      <td>None</td>\n",
       "    </tr>\n",
       "    <tr>\n",
       "      <th>9</th>\n",
       "      <td>S&amp;P 500</td>\n",
       "      <td>SP500</td>\n",
       "      <td>D</td>\n",
       "      <td>Not Seasonally Adjusted</td>\n",
       "      <td>82</td>\n",
       "      <td>2012-04-09</td>\n",
       "      <td>2022-04-08</td>\n",
       "      <td>The observations for the S&amp;P 500 represent the...</td>\n",
       "    </tr>\n",
       "    <tr>\n",
       "      <th>10</th>\n",
       "      <td>University of Michigan: Consumer Sentiment</td>\n",
       "      <td>UMCSENT</td>\n",
       "      <td>M</td>\n",
       "      <td>Not Seasonally Adjusted</td>\n",
       "      <td>78</td>\n",
       "      <td>1952-11-01</td>\n",
       "      <td>2022-02-01</td>\n",
       "      <td>At the request of the source, the data is dela...</td>\n",
       "    </tr>\n",
       "  </tbody>\n",
       "</table>\n",
       "</div>"
      ],
      "text/plain": [
       "                                                Title            ID Frequency  \\\n",
       "0   AD&Co US Mortgage High Yield Index, Credit-and...  CROASMIDTIER         M   \n",
       "1                          CBOE Volatility Index: VIX        VIXCLS         D   \n",
       "2         Total Consumer Credit Owned and Securitized       TOTALSL         M   \n",
       "3   Consumer Price Index for All Urban Consumers: ...      CPIAUCSL         M   \n",
       "4                                 Real M1 Money Stock        M1REAL         M   \n",
       "5                          Velocity of M1 Money Stock           M1V         Q   \n",
       "6                                                  M1         WM1NS         W   \n",
       "7                                                  M2         WM2NS         W   \n",
       "8                     Nominal Broad U.S. Dollar Index      DTWEXBGS         D   \n",
       "9                                             S&P 500         SP500         D   \n",
       "10         University of Michigan: Consumer Sentiment       UMCSENT         M   \n",
       "\n",
       "        Seasonally Adjusted  Popularity Observation Start Observation End  \\\n",
       "0   Not Seasonally Adjusted          38        2015-06-01      2022-02-01   \n",
       "1   Not Seasonally Adjusted          75        1990-01-02      2022-04-07   \n",
       "2       Seasonally Adjusted          61        1943-01-01      2022-02-01   \n",
       "3       Seasonally Adjusted          92        1947-01-01      2022-02-01   \n",
       "4       Seasonally Adjusted          58        1959-01-01      2022-02-01   \n",
       "5       Seasonally Adjusted          71        1959-01-01      2021-10-01   \n",
       "6   Not Seasonally Adjusted          71        1975-01-06      2022-02-28   \n",
       "7   Not Seasonally Adjusted          79        1980-11-03      2022-02-28   \n",
       "8   Not Seasonally Adjusted          74        2006-01-02      2022-04-01   \n",
       "9   Not Seasonally Adjusted          82        2012-04-09      2022-04-08   \n",
       "10  Not Seasonally Adjusted          78        1952-11-01      2022-02-01   \n",
       "\n",
       "                                                Notes  \n",
       "0   The AD&Co US Mortgage High Yield Index crOAS, ...  \n",
       "1   VIX measures market expectation of near term v...  \n",
       "2   For further information, please refer to the B...  \n",
       "3   The Consumer Price Index for All Urban Consume...  \n",
       "4   This series deflates M1 money stock (https://f...  \n",
       "5   Calculated as the ratio of quarterly nominal G...  \n",
       "6   Before May 2020, M1 consists of (1) currency o...  \n",
       "7   Before May 2020, M2 consists of M1 plus (1) sa...  \n",
       "8                                                None  \n",
       "9   The observations for the S&P 500 represent the...  \n",
       "10  At the request of the source, the data is dela...  "
      ]
     },
     "execution_count": 10,
     "metadata": {},
     "output_type": "execute_result"
    }
   ],
   "source": [
    "\n",
    "meta_df"
   ]
  },
  {
   "cell_type": "code",
   "execution_count": 11,
   "id": "8b41eac7",
   "metadata": {
    "execution": {
     "iopub.execute_input": "2022-04-10T21:22:33.043927Z",
     "iopub.status.busy": "2022-04-10T21:22:33.043720Z",
     "iopub.status.idle": "2022-04-10T21:22:33.103222Z",
     "shell.execute_reply": "2022-04-10T21:22:33.102267Z"
    },
    "lines_to_next_cell": 2,
    "papermill": {
     "duration": 0.076523,
     "end_time": "2022-04-10T21:22:33.105055",
     "exception": false,
     "start_time": "2022-04-10T21:22:33.028532",
     "status": "completed"
    },
    "tags": []
   },
   "outputs": [],
   "source": [
    "\n",
    "dt= \"<class 'pandas._libs.tslibs.timestamps.Timestamp'>\"\n",
    "\n",
    "def fix_value(cell):\n",
    "    '''Corrects issue where floats were becoming pd.datetimes from the API'''\n",
    "    if str(type(cell)) == dt:\n",
    "        if int(cell.month) < 10:\n",
    "            return f'{cell.year}.0{cell.month}'\n",
    "        else:\n",
    "            return f'{cell.year}.{cell.month}'\n",
    "    else:\n",
    "        return cell\n",
    "obs_df.iloc[:,1:]= obs_df.iloc[:,1:].applymap(fix_value)\n",
    "\n",
    "\n",
    "\n",
    "obs_df.iloc[:, 1:]= obs_df.iloc[:, 1:].astype(float)\n",
    "obs_df.to_csv(product['data'])\n",
    "meta_df.to_csv('C:\\\\Users\\\\mattd\\\\OneDrive\\\\Masters\\\\SIADS-697 Capstone Project III\\\\market_watch2\\\\data\\\\meta\\\\fred_series_meta.csv')"
   ]
  }
 ],
 "metadata": {
  "jupytext": {
   "text_representation": {
    "extension": ".py",
    "format_name": "percent",
    "format_version": "1.3",
    "jupytext_version": "1.13.7"
   }
  },
  "kernelspec": {
   "display_name": "Python 3 (ipykernel)",
   "language": "python",
   "name": "python3"
  },
  "language_info": {
   "codemirror_mode": {
    "name": "ipython",
    "version": 3
   },
   "file_extension": ".py",
   "mimetype": "text/x-python",
   "name": "python",
   "nbconvert_exporter": "python",
   "pygments_lexer": "ipython3",
   "version": "3.9.10"
  },
  "papermill": {
   "duration": 209.393989,
   "end_time": "2022-04-10T21:22:33.335083",
   "exception": null,
   "input_path": "/var/folders/b0/4tc1nfbd6z7_vhx4nxcj2n91c0l9h6/T/tmpmk_6152k.ipynb",
   "output_path": "/Users/aiujdm2/market_watch/output/notebooks/fetch_fred.ipynb",
   "parameters": {
    "api_params": {
     "api_key": "ebc6d771a26e9b8009c65cb0ab76ba3d",
     "obs_start": "2015-01-01",
     "obs_stop": "2021-12-30",
     "series_list": "CROASMIDTIER VIXCLS TOTALSL CPIAUCSL M1REAL M1V WM1NS WM2NS DTWEXBGS SP500 UMCSENT",
     "units": "lin"
    },
    "product": {
     "data": "/Users/aiujdm2/market_watch/output/data/raw/fred.csv",
     "nb": "/Users/aiujdm2/market_watch/output/notebooks/fetch_fred.ipynb"
    }
   },
   "start_time": "2022-04-10T21:19:03.941094"
  }
 },
 "nbformat": 4,
 "nbformat_minor": 5
}