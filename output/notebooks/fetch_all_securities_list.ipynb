{
 "cells": [
  {
   "cell_type": "code",
   "execution_count": 1,
   "id": "51826daf",
   "metadata": {
    "execution": {
     "iopub.execute_input": "2022-04-18T15:33:21.531432Z",
     "iopub.status.busy": "2022-04-18T15:33:21.531154Z",
     "iopub.status.idle": "2022-04-18T15:33:21.538337Z",
     "shell.execute_reply": "2022-04-18T15:33:21.537690Z"
    },
    "papermill": {
     "duration": 0.020355,
     "end_time": "2022-04-18T15:33:21.540232",
     "exception": false,
     "start_time": "2022-04-18T15:33:21.519877",
     "status": "completed"
    },
    "tags": [
     "parameters"
    ]
   },
   "outputs": [],
   "source": [
    "# declare a list tasks whose products you want to use as inputs\n",
    "upstream = None"
   ]
  },
  {
   "cell_type": "code",
   "execution_count": 2,
   "id": "ee8e6a4d",
   "metadata": {
    "execution": {
     "iopub.execute_input": "2022-04-18T15:33:21.556655Z",
     "iopub.status.busy": "2022-04-18T15:33:21.556449Z",
     "iopub.status.idle": "2022-04-18T15:33:21.559534Z",
     "shell.execute_reply": "2022-04-18T15:33:21.558974Z"
    },
    "papermill": {
     "duration": 0.012347,
     "end_time": "2022-04-18T15:33:21.561198",
     "exception": false,
     "start_time": "2022-04-18T15:33:21.548851",
     "status": "completed"
    },
    "tags": [
     "injected-parameters"
    ]
   },
   "outputs": [],
   "source": [
    "# Parameters\n",
    "sec_ticker_url = \"https://www.sec.gov/files/company_tickers.json\"\n",
    "retry_count = 6\n",
    "product = {\n",
    "    \"nb\": \"/Users/aiujdm2/market_watch/output/notebooks/fetch_all_securities_list.ipynb\",\n",
    "    \"data\": \"/Users/aiujdm2/market_watch/output/data/raw/all_securities_list.csv\",\n",
    "}\n"
   ]
  },
  {
   "cell_type": "code",
   "execution_count": 3,
   "id": "874b7094",
   "metadata": {
    "execution": {
     "iopub.execute_input": "2022-04-18T15:33:21.575781Z",
     "iopub.status.busy": "2022-04-18T15:33:21.575574Z",
     "iopub.status.idle": "2022-04-18T15:33:21.873626Z",
     "shell.execute_reply": "2022-04-18T15:33:21.873070Z"
    },
    "papermill": {
     "duration": 0.307441,
     "end_time": "2022-04-18T15:33:21.875432",
     "exception": false,
     "start_time": "2022-04-18T15:33:21.567991",
     "status": "completed"
    },
    "tags": []
   },
   "outputs": [],
   "source": [
    "import pandas as pd\n",
    "import json\n",
    "import requests\n",
    "import time \n",
    "from pathlib import Path"
   ]
  },
  {
   "cell_type": "markdown",
   "id": "0a84630e",
   "metadata": {
    "papermill": {
     "duration": 0.005458,
     "end_time": "2022-04-18T15:33:21.887046",
     "exception": false,
     "start_time": "2022-04-18T15:33:21.881588",
     "status": "completed"
    },
    "tags": []
   },
   "source": [
    "Get list of publicaly traded companies, ticker and associated cik ID. We will use cik ID to pull data from SEC's [DATA APIS](https://www.sec.gov/edgar/sec-api-documentation)"
   ]
  },
  {
   "cell_type": "code",
   "execution_count": 4,
   "id": "56fa151f",
   "metadata": {
    "execution": {
     "iopub.execute_input": "2022-04-18T15:33:21.901476Z",
     "iopub.status.busy": "2022-04-18T15:33:21.901263Z",
     "iopub.status.idle": "2022-04-18T15:33:22.302141Z",
     "shell.execute_reply": "2022-04-18T15:33:22.301631Z"
    },
    "lines_to_next_cell": 0,
    "papermill": {
     "duration": 0.411366,
     "end_time": "2022-04-18T15:33:22.303995",
     "exception": false,
     "start_time": "2022-04-18T15:33:21.892629",
     "status": "completed"
    },
    "tags": []
   },
   "outputs": [],
   "source": [
    "counter = 0\n",
    "while True:\n",
    "    try:\n",
    "        traded_company_df = pd.read_json(\n",
    "            sec_ticker_url, \n",
    "            orient='index', \n",
    "            encoding_errors='ignore', \n",
    "            storage_options = {'User-Agent': 'vgaurav@umich.edu'}\n",
    "        )\n",
    "        break\n",
    "    except:\n",
    "        print(f\"Error in file load. Proceeding retry after 10 second for {retry_count} times.\")\n",
    "        counter += 1\n",
    "        if counter == retry_count:\n",
    "            break\n",
    "        time.sleep(10)\n",
    "        \n",
    "# traded_company_df['cik'] = traded_company_df.cik_str\n",
    "# traded_company_df.cik_str = traded_company_df.cik_str.astype(str).str.zfill(10)"
   ]
  },
  {
   "cell_type": "code",
   "execution_count": 5,
   "id": "fb55a479",
   "metadata": {
    "execution": {
     "iopub.execute_input": "2022-04-18T15:33:22.318718Z",
     "iopub.status.busy": "2022-04-18T15:33:22.318530Z",
     "iopub.status.idle": "2022-04-18T15:33:22.324128Z",
     "shell.execute_reply": "2022-04-18T15:33:22.323500Z"
    },
    "papermill": {
     "duration": 0.014393,
     "end_time": "2022-04-18T15:33:22.325689",
     "exception": false,
     "start_time": "2022-04-18T15:33:22.311296",
     "status": "completed"
    },
    "tags": []
   },
   "outputs": [],
   "source": [
    "traded_company_df.drop_duplicates(subset=['cik_str'], inplace=True)"
   ]
  },
  {
   "cell_type": "code",
   "execution_count": 6,
   "id": "3d9d8632",
   "metadata": {
    "execution": {
     "iopub.execute_input": "2022-04-18T15:33:22.338306Z",
     "iopub.status.busy": "2022-04-18T15:33:22.338127Z",
     "iopub.status.idle": "2022-04-18T15:33:22.348545Z",
     "shell.execute_reply": "2022-04-18T15:33:22.348078Z"
    },
    "papermill": {
     "duration": 0.018816,
     "end_time": "2022-04-18T15:33:22.350441",
     "exception": false,
     "start_time": "2022-04-18T15:33:22.331625",
     "status": "completed"
    },
    "tags": []
   },
   "outputs": [
    {
     "name": "stdout",
     "output_type": "stream",
     "text": [
      "<class 'pandas.core.frame.DataFrame'>\n",
      "Int64Index: 9213 entries, 0 to 12160\n",
      "Data columns (total 3 columns):\n",
      " #   Column   Non-Null Count  Dtype \n",
      "---  ------   --------------  ----- \n",
      " 0   cik_str  9213 non-null   int64 \n",
      " 1   ticker   9213 non-null   object\n",
      " 2   title    9213 non-null   object\n",
      "dtypes: int64(1), object(2)\n",
      "memory usage: 287.9+ KB\n"
     ]
    }
   ],
   "source": [
    "traded_company_df.info()"
   ]
  },
  {
   "cell_type": "code",
   "execution_count": 7,
   "id": "237ee372",
   "metadata": {
    "execution": {
     "iopub.execute_input": "2022-04-18T15:33:22.365819Z",
     "iopub.status.busy": "2022-04-18T15:33:22.365660Z",
     "iopub.status.idle": "2022-04-18T15:33:22.379395Z",
     "shell.execute_reply": "2022-04-18T15:33:22.378778Z"
    },
    "papermill": {
     "duration": 0.022848,
     "end_time": "2022-04-18T15:33:22.381107",
     "exception": false,
     "start_time": "2022-04-18T15:33:22.358259",
     "status": "completed"
    },
    "tags": []
   },
   "outputs": [
    {
     "data": {
      "text/html": [
       "<div>\n",
       "<style scoped>\n",
       "    .dataframe tbody tr th:only-of-type {\n",
       "        vertical-align: middle;\n",
       "    }\n",
       "\n",
       "    .dataframe tbody tr th {\n",
       "        vertical-align: top;\n",
       "    }\n",
       "\n",
       "    .dataframe thead th {\n",
       "        text-align: right;\n",
       "    }\n",
       "</style>\n",
       "<table border=\"1\" class=\"dataframe\">\n",
       "  <thead>\n",
       "    <tr style=\"text-align: right;\">\n",
       "      <th></th>\n",
       "      <th>cik_str</th>\n",
       "      <th>ticker</th>\n",
       "      <th>title</th>\n",
       "    </tr>\n",
       "  </thead>\n",
       "  <tbody>\n",
       "    <tr>\n",
       "      <th>2297</th>\n",
       "      <td>1622194</td>\n",
       "      <td>DEA</td>\n",
       "      <td>Easterly Government Properties, Inc.</td>\n",
       "    </tr>\n",
       "    <tr>\n",
       "      <th>872</th>\n",
       "      <td>1533232</td>\n",
       "      <td>BEP</td>\n",
       "      <td>Brookfield Renewable Partners L.P.</td>\n",
       "    </tr>\n",
       "    <tr>\n",
       "      <th>7437</th>\n",
       "      <td>1415744</td>\n",
       "      <td>NMEX</td>\n",
       "      <td>NORTHERN MINERALS &amp; EXPLORATION LTD.</td>\n",
       "    </tr>\n",
       "    <tr>\n",
       "      <th>1765</th>\n",
       "      <td>1142596</td>\n",
       "      <td>NUVA</td>\n",
       "      <td>NUVASIVE INC</td>\n",
       "    </tr>\n",
       "    <tr>\n",
       "      <th>4227</th>\n",
       "      <td>1158289</td>\n",
       "      <td>JRS</td>\n",
       "      <td>NUVEEN REAL ESTATE INCOME FUND</td>\n",
       "    </tr>\n",
       "  </tbody>\n",
       "</table>\n",
       "</div>"
      ],
      "text/plain": [
       "      cik_str ticker                                 title\n",
       "2297  1622194    DEA  Easterly Government Properties, Inc.\n",
       "872   1533232    BEP    Brookfield Renewable Partners L.P.\n",
       "7437  1415744   NMEX  NORTHERN MINERALS & EXPLORATION LTD.\n",
       "1765  1142596   NUVA                          NUVASIVE INC\n",
       "4227  1158289    JRS        NUVEEN REAL ESTATE INCOME FUND"
      ]
     },
     "execution_count": 7,
     "metadata": {},
     "output_type": "execute_result"
    }
   ],
   "source": [
    "traded_company_df.sample(5)"
   ]
  },
  {
   "cell_type": "code",
   "execution_count": 8,
   "id": "55d69080",
   "metadata": {
    "execution": {
     "iopub.execute_input": "2022-04-18T15:33:22.396366Z",
     "iopub.status.busy": "2022-04-18T15:33:22.396211Z",
     "iopub.status.idle": "2022-04-18T15:33:22.419399Z",
     "shell.execute_reply": "2022-04-18T15:33:22.418985Z"
    },
    "papermill": {
     "duration": 0.032127,
     "end_time": "2022-04-18T15:33:22.421006",
     "exception": false,
     "start_time": "2022-04-18T15:33:22.388879",
     "status": "completed"
    },
    "tags": []
   },
   "outputs": [
    {
     "name": "stdout",
     "output_type": "stream",
     "text": [
      "Saved file /Users/aiujdm2/market_watch/output/data/raw/all_securities_list.csv\n"
     ]
    }
   ],
   "source": [
    "file_path = product[\"data\"]\n",
    "Path(file_path).parent.mkdir(exist_ok=True, parents=True)\n",
    "traded_company_df.to_csv(file_path)\n",
    "print(f\"Saved file {file_path}\")"
   ]
  },
  {
   "cell_type": "code",
   "execution_count": 9,
   "id": "999178e9",
   "metadata": {
    "execution": {
     "iopub.execute_input": "2022-04-18T15:33:22.435997Z",
     "iopub.status.busy": "2022-04-18T15:33:22.435814Z",
     "iopub.status.idle": "2022-04-18T15:33:22.439463Z",
     "shell.execute_reply": "2022-04-18T15:33:22.439012Z"
    },
    "papermill": {
     "duration": 0.012769,
     "end_time": "2022-04-18T15:33:22.440925",
     "exception": false,
     "start_time": "2022-04-18T15:33:22.428156",
     "status": "completed"
    },
    "tags": []
   },
   "outputs": [],
   "source": [
    "del traded_company_df"
   ]
  },
  {
   "cell_type": "code",
   "execution_count": null,
   "id": "aedfa6a5",
   "metadata": {
    "papermill": {
     "duration": 0.0072,
     "end_time": "2022-04-18T15:33:22.455134",
     "exception": false,
     "start_time": "2022-04-18T15:33:22.447934",
     "status": "completed"
    },
    "tags": []
   },
   "outputs": [],
   "source": []
  }
 ],
 "metadata": {
  "jupytext": {
   "cell_metadata_filter": "tags,-all",
   "main_language": "python",
   "notebook_metadata_filter": "-all",
   "text_representation": {
    "extension": ".py",
    "format_name": "light"
   }
  },
  "kernelspec": {
   "display_name": "Python 3 (ipykernel)",
   "language": "python",
   "name": "python3"
  },
  "language_info": {
   "codemirror_mode": {
    "name": "ipython",
    "version": 3
   },
   "file_extension": ".py",
   "mimetype": "text/x-python",
   "name": "python",
   "nbconvert_exporter": "python",
   "pygments_lexer": "ipython3",
   "version": "3.9.10"
  },
  "papermill": {
   "duration": 2.082308,
   "end_time": "2022-04-18T15:33:22.681768",
   "exception": null,
   "input_path": "/var/folders/b0/4tc1nfbd6z7_vhx4nxcj2n91c0l9h6/T/tmp6jwtk2gs.ipynb",
   "output_path": "/Users/aiujdm2/market_watch/output/notebooks/fetch_all_securities_list.ipynb",
   "parameters": {
    "product": {
     "data": "/Users/aiujdm2/market_watch/output/data/raw/all_securities_list.csv",
     "nb": "/Users/aiujdm2/market_watch/output/notebooks/fetch_all_securities_list.ipynb"
    },
    "retry_count": 6,
    "sec_ticker_url": "https://www.sec.gov/files/company_tickers.json"
   },
   "start_time": "2022-04-18T15:33:20.599460"
  }
 },
 "nbformat": 4,
 "nbformat_minor": 5
}