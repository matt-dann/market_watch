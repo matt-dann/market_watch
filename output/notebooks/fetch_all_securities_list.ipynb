{
 "cells": [
  {
   "cell_type": "code",
   "execution_count": 1,
   "id": "d4ca3bd5",
   "metadata": {
    "execution": {
     "iopub.execute_input": "2022-04-19T13:23:19.395215Z",
     "iopub.status.busy": "2022-04-19T13:23:19.394996Z",
     "iopub.status.idle": "2022-04-19T13:23:19.402156Z",
     "shell.execute_reply": "2022-04-19T13:23:19.401507Z"
    },
    "papermill": {
     "duration": 0.0108,
     "end_time": "2022-04-19T13:23:19.403372",
     "exception": false,
     "start_time": "2022-04-19T13:23:19.392572",
     "status": "completed"
    },
    "tags": [
     "parameters"
    ]
   },
   "outputs": [],
   "source": [
    "# declare a list tasks whose products you want to use as inputs\n",
    "upstream = None"
   ]
  },
  {
   "cell_type": "code",
   "execution_count": 2,
   "id": "561b3c93",
   "metadata": {
    "execution": {
     "iopub.execute_input": "2022-04-19T13:23:19.407116Z",
     "iopub.status.busy": "2022-04-19T13:23:19.406953Z",
     "iopub.status.idle": "2022-04-19T13:23:19.410300Z",
     "shell.execute_reply": "2022-04-19T13:23:19.409685Z"
    },
    "papermill": {
     "duration": 0.006555,
     "end_time": "2022-04-19T13:23:19.411595",
     "exception": false,
     "start_time": "2022-04-19T13:23:19.405040",
     "status": "completed"
    },
    "tags": [
     "injected-parameters"
    ]
   },
   "outputs": [],
   "source": [
    "# Parameters\n",
    "sec_ticker_url = \"https://www.sec.gov/files/company_tickers.json\"\n",
    "retry_count = 6\n",
    "product = {\n",
    "    \"nb\": \"/home/vgaurav/market_watch/output/notebooks/fetch_all_securities_list.ipynb\",\n",
    "    \"data\": \"/home/vgaurav/market_watch/output/data/raw/all_securities_list.csv\",\n",
    "}\n"
   ]
  },
  {
   "cell_type": "code",
   "execution_count": 3,
   "id": "8b317f35",
   "metadata": {
    "execution": {
     "iopub.execute_input": "2022-04-19T13:23:19.415289Z",
     "iopub.status.busy": "2022-04-19T13:23:19.415096Z",
     "iopub.status.idle": "2022-04-19T13:23:19.666578Z",
     "shell.execute_reply": "2022-04-19T13:23:19.665888Z"
    },
    "papermill": {
     "duration": 0.254883,
     "end_time": "2022-04-19T13:23:19.667841",
     "exception": false,
     "start_time": "2022-04-19T13:23:19.412958",
     "status": "completed"
    },
    "tags": []
   },
   "outputs": [],
   "source": [
    "import pandas as pd\n",
    "import json\n",
    "import requests\n",
    "import time \n",
    "from pathlib import Path"
   ]
  },
  {
   "cell_type": "markdown",
   "id": "67ae30d6",
   "metadata": {
    "papermill": {
     "duration": 0.001502,
     "end_time": "2022-04-19T13:23:19.671038",
     "exception": false,
     "start_time": "2022-04-19T13:23:19.669536",
     "status": "completed"
    },
    "tags": []
   },
   "source": [
    "Get list of publicaly traded companies, ticker and associated cik ID. We will use cik ID to pull data from SEC's [DATA APIS](https://www.sec.gov/edgar/sec-api-documentation)"
   ]
  },
  {
   "cell_type": "code",
   "execution_count": 4,
   "id": "8ff12a65",
   "metadata": {
    "execution": {
     "iopub.execute_input": "2022-04-19T13:23:19.674809Z",
     "iopub.status.busy": "2022-04-19T13:23:19.674631Z",
     "iopub.status.idle": "2022-04-19T13:23:21.253425Z",
     "shell.execute_reply": "2022-04-19T13:23:21.252803Z"
    },
    "lines_to_next_cell": 0,
    "papermill": {
     "duration": 1.582088,
     "end_time": "2022-04-19T13:23:21.254609",
     "exception": false,
     "start_time": "2022-04-19T13:23:19.672521",
     "status": "completed"
    },
    "tags": []
   },
   "outputs": [],
   "source": [
    "counter = 0\n",
    "while True:\n",
    "    try:\n",
    "        traded_company_df = pd.read_json(\n",
    "            sec_ticker_url, \n",
    "            orient='index', \n",
    "            encoding_errors='ignore', \n",
    "            storage_options = {'User-Agent': 'vgaurav@umich.edu'}\n",
    "        )\n",
    "        break\n",
    "    except:\n",
    "        print(f\"Error in file load. Proceeding retry after 10 second for {retry_count} times.\")\n",
    "        counter += 1\n",
    "        if counter == retry_count:\n",
    "            break\n",
    "        time.sleep(10)\n",
    "        \n",
    "# traded_company_df['cik'] = traded_company_df.cik_str\n",
    "# traded_company_df.cik_str = traded_company_df.cik_str.astype(str).str.zfill(10)"
   ]
  },
  {
   "cell_type": "code",
   "execution_count": 5,
   "id": "a5992340",
   "metadata": {
    "execution": {
     "iopub.execute_input": "2022-04-19T13:23:21.262520Z",
     "iopub.status.busy": "2022-04-19T13:23:21.262318Z",
     "iopub.status.idle": "2022-04-19T13:23:21.299879Z",
     "shell.execute_reply": "2022-04-19T13:23:21.299318Z"
    },
    "papermill": {
     "duration": 0.045081,
     "end_time": "2022-04-19T13:23:21.301051",
     "exception": false,
     "start_time": "2022-04-19T13:23:21.255970",
     "status": "completed"
    },
    "tags": []
   },
   "outputs": [],
   "source": [
    "traded_company_df.drop_duplicates(subset=['cik_str'], inplace=True)"
   ]
  },
  {
   "cell_type": "code",
   "execution_count": 6,
   "id": "c240c9c9",
   "metadata": {
    "execution": {
     "iopub.execute_input": "2022-04-19T13:23:21.343712Z",
     "iopub.status.busy": "2022-04-19T13:23:21.343526Z",
     "iopub.status.idle": "2022-04-19T13:23:21.383390Z",
     "shell.execute_reply": "2022-04-19T13:23:21.382830Z"
    },
    "papermill": {
     "duration": 0.081922,
     "end_time": "2022-04-19T13:23:21.384443",
     "exception": false,
     "start_time": "2022-04-19T13:23:21.302521",
     "status": "completed"
    },
    "tags": []
   },
   "outputs": [
    {
     "name": "stdout",
     "output_type": "stream",
     "text": [
      "<class 'pandas.core.frame.DataFrame'>\n",
      "Int64Index: 9213 entries, 0 to 12160\n",
      "Data columns (total 3 columns):\n",
      " #   Column   Non-Null Count  Dtype \n",
      "---  ------   --------------  ----- \n",
      " 0   cik_str  9213 non-null   int64 \n",
      " 1   ticker   9213 non-null   object\n",
      " 2   title    9213 non-null   object\n",
      "dtypes: int64(1), object(2)\n",
      "memory usage: 287.9+ KB\n"
     ]
    }
   ],
   "source": [
    "traded_company_df.info()"
   ]
  },
  {
   "cell_type": "code",
   "execution_count": 7,
   "id": "528d621a",
   "metadata": {
    "execution": {
     "iopub.execute_input": "2022-04-19T13:23:21.430757Z",
     "iopub.status.busy": "2022-04-19T13:23:21.430583Z",
     "iopub.status.idle": "2022-04-19T13:23:21.453812Z",
     "shell.execute_reply": "2022-04-19T13:23:21.453133Z"
    },
    "papermill": {
     "duration": 0.067442,
     "end_time": "2022-04-19T13:23:21.455058",
     "exception": false,
     "start_time": "2022-04-19T13:23:21.387616",
     "status": "completed"
    },
    "tags": []
   },
   "outputs": [
    {
     "data": {
      "text/html": [
       "<div>\n",
       "<style scoped>\n",
       "    .dataframe tbody tr th:only-of-type {\n",
       "        vertical-align: middle;\n",
       "    }\n",
       "\n",
       "    .dataframe tbody tr th {\n",
       "        vertical-align: top;\n",
       "    }\n",
       "\n",
       "    .dataframe thead th {\n",
       "        text-align: right;\n",
       "    }\n",
       "</style>\n",
       "<table border=\"1\" class=\"dataframe\">\n",
       "  <thead>\n",
       "    <tr style=\"text-align: right;\">\n",
       "      <th></th>\n",
       "      <th>cik_str</th>\n",
       "      <th>ticker</th>\n",
       "      <th>title</th>\n",
       "    </tr>\n",
       "  </thead>\n",
       "  <tbody>\n",
       "    <tr>\n",
       "      <th>1006</th>\n",
       "      <td>1021860</td>\n",
       "      <td>NOV</td>\n",
       "      <td>NOV Inc.</td>\n",
       "    </tr>\n",
       "    <tr>\n",
       "      <th>5812</th>\n",
       "      <td>908259</td>\n",
       "      <td>OTLC</td>\n",
       "      <td>Oncotelic Therapeutics, Inc.</td>\n",
       "    </tr>\n",
       "    <tr>\n",
       "      <th>3496</th>\n",
       "      <td>1652362</td>\n",
       "      <td>IEA</td>\n",
       "      <td>Infrastructure &amp; Energy Alternatives, Inc.</td>\n",
       "    </tr>\n",
       "    <tr>\n",
       "      <th>6717</th>\n",
       "      <td>1396536</td>\n",
       "      <td>DUOT</td>\n",
       "      <td>DUOS TECHNOLOGIES GROUP, INC.</td>\n",
       "    </tr>\n",
       "    <tr>\n",
       "      <th>3003</th>\n",
       "      <td>1120914</td>\n",
       "      <td>PDFS</td>\n",
       "      <td>PDF SOLUTIONS INC</td>\n",
       "    </tr>\n",
       "  </tbody>\n",
       "</table>\n",
       "</div>"
      ],
      "text/plain": [
       "      cik_str ticker                                       title\n",
       "1006  1021860    NOV                                    NOV Inc.\n",
       "5812   908259   OTLC                Oncotelic Therapeutics, Inc.\n",
       "3496  1652362    IEA  Infrastructure & Energy Alternatives, Inc.\n",
       "6717  1396536   DUOT               DUOS TECHNOLOGIES GROUP, INC.\n",
       "3003  1120914   PDFS                           PDF SOLUTIONS INC"
      ]
     },
     "execution_count": 7,
     "metadata": {},
     "output_type": "execute_result"
    }
   ],
   "source": [
    "traded_company_df.sample(5)"
   ]
  },
  {
   "cell_type": "code",
   "execution_count": 8,
   "id": "c891c2b7",
   "metadata": {
    "execution": {
     "iopub.execute_input": "2022-04-19T13:23:21.501286Z",
     "iopub.status.busy": "2022-04-19T13:23:21.501106Z",
     "iopub.status.idle": "2022-04-19T13:23:21.526238Z",
     "shell.execute_reply": "2022-04-19T13:23:21.525713Z"
    },
    "papermill": {
     "duration": 0.065334,
     "end_time": "2022-04-19T13:23:21.527412",
     "exception": false,
     "start_time": "2022-04-19T13:23:21.462078",
     "status": "completed"
    },
    "tags": []
   },
   "outputs": [
    {
     "name": "stdout",
     "output_type": "stream",
     "text": [
      "Saved file /home/vgaurav/market_watch/output/data/raw/all_securities_list.csv\n"
     ]
    }
   ],
   "source": [
    "file_path = product[\"data\"]\n",
    "Path(file_path).parent.mkdir(exist_ok=True, parents=True)\n",
    "traded_company_df.to_csv(file_path)\n",
    "print(f\"Saved file {file_path}\")"
   ]
  },
  {
   "cell_type": "code",
   "execution_count": 9,
   "id": "7c2cd96d",
   "metadata": {
    "execution": {
     "iopub.execute_input": "2022-04-19T13:23:21.598271Z",
     "iopub.status.busy": "2022-04-19T13:23:21.597549Z",
     "iopub.status.idle": "2022-04-19T13:23:21.601434Z",
     "shell.execute_reply": "2022-04-19T13:23:21.600828Z"
    },
    "papermill": {
     "duration": 0.056748,
     "end_time": "2022-04-19T13:23:21.602600",
     "exception": false,
     "start_time": "2022-04-19T13:23:21.545852",
     "status": "completed"
    },
    "tags": []
   },
   "outputs": [],
   "source": [
    "del traded_company_df"
   ]
  },
  {
   "cell_type": "code",
   "execution_count": null,
   "id": "ee3102a6",
   "metadata": {
    "papermill": {
     "duration": 0.038197,
     "end_time": "2022-04-19T13:23:21.665711",
     "exception": false,
     "start_time": "2022-04-19T13:23:21.627514",
     "status": "completed"
    },
    "tags": []
   },
   "outputs": [],
   "source": []
  }
 ],
 "metadata": {
  "jupytext": {
   "cell_metadata_filter": "tags,-all",
   "main_language": "python",
   "notebook_metadata_filter": "-all",
   "text_representation": {
    "extension": ".py",
    "format_name": "light"
   }
  },
  "kernelspec": {
   "display_name": "Python 3 (ipykernel)",
   "language": "python",
   "name": "python3"
  },
  "language_info": {
   "codemirror_mode": {
    "name": "ipython",
    "version": 3
   },
   "file_extension": ".py",
   "mimetype": "text/x-python",
   "name": "python",
   "nbconvert_exporter": "python",
   "pygments_lexer": "ipython3",
   "version": "3.8.10"
  },
  "papermill": {
   "duration": 3.642789,
   "end_time": "2022-04-19T13:23:22.027915",
   "exception": null,
   "input_path": "/tmp/tmpthaxs87a.ipynb",
   "output_path": "/home/vgaurav/market_watch/output/notebooks/fetch_all_securities_list.ipynb",
   "parameters": {
    "product": {
     "data": "/home/vgaurav/market_watch/output/data/raw/all_securities_list.csv",
     "nb": "/home/vgaurav/market_watch/output/notebooks/fetch_all_securities_list.ipynb"
    },
    "retry_count": 6,
    "sec_ticker_url": "https://www.sec.gov/files/company_tickers.json"
   },
   "start_time": "2022-04-19T13:23:18.385126"
  }
 },
 "nbformat": 4,
 "nbformat_minor": 5
}