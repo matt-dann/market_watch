{
 "cells": [
  {
   "cell_type": "code",
   "execution_count": 1,
<<<<<<< HEAD
   "id": "5b93039a",
   "metadata": {
    "execution": {
     "iopub.execute_input": "2022-04-06T17:43:32.837526Z",
     "iopub.status.busy": "2022-04-06T17:43:32.835550Z",
     "iopub.status.idle": "2022-04-06T17:43:33.095139Z",
     "shell.execute_reply": "2022-04-06T17:43:33.094538Z"
    },
    "papermill": {
     "duration": 0.275013,
     "end_time": "2022-04-06T17:43:33.096713",
     "exception": false,
     "start_time": "2022-04-06T17:43:32.821700",
=======
   "id": "cc5bb961",
   "metadata": {
    "execution": {
     "iopub.execute_input": "2022-03-27T15:31:21.683337Z",
     "iopub.status.busy": "2022-03-27T15:31:21.683052Z",
     "iopub.status.idle": "2022-03-27T15:31:21.970789Z",
     "shell.execute_reply": "2022-03-27T15:31:21.970228Z"
    },
    "papermill": {
     "duration": 0.302103,
     "end_time": "2022-03-27T15:31:21.973668",
     "exception": false,
     "start_time": "2022-03-27T15:31:21.671565",
>>>>>>> origin/merge_dev
     "status": "completed"
    },
    "tags": []
   },
   "outputs": [],
   "source": [
    "import pandas as pd"
   ]
  },
  {
   "cell_type": "code",
   "execution_count": 2,
<<<<<<< HEAD
   "id": "309b6b12",
   "metadata": {
    "execution": {
     "iopub.execute_input": "2022-04-06T17:43:33.101465Z",
     "iopub.status.busy": "2022-04-06T17:43:33.101265Z",
     "iopub.status.idle": "2022-04-06T17:43:33.104595Z",
     "shell.execute_reply": "2022-04-06T17:43:33.104031Z"
    },
    "lines_to_next_cell": 2,
    "papermill": {
     "duration": 0.00746,
     "end_time": "2022-04-06T17:43:33.105857",
     "exception": false,
     "start_time": "2022-04-06T17:43:33.098397",
=======
   "id": "e0b9abad",
   "metadata": {
    "execution": {
     "iopub.execute_input": "2022-03-27T15:31:21.991966Z",
     "iopub.status.busy": "2022-03-27T15:31:21.991743Z",
     "iopub.status.idle": "2022-03-27T15:31:21.994673Z",
     "shell.execute_reply": "2022-03-27T15:31:21.994064Z"
    },
    "lines_to_next_cell": 2,
    "papermill": {
     "duration": 0.013088,
     "end_time": "2022-03-27T15:31:21.996465",
     "exception": false,
     "start_time": "2022-03-27T15:31:21.983377",
>>>>>>> origin/merge_dev
     "status": "completed"
    },
    "tags": [
     "parameters"
    ]
   },
   "outputs": [],
   "source": [
    "# declare a list tasks whose products you want to use as inputs\n",
    "upstream = ['fetch_yfinance_data']\n"
   ]
  },
  {
   "cell_type": "code",
   "execution_count": 3,
<<<<<<< HEAD
   "id": "b2efd7e3",
   "metadata": {
    "execution": {
     "iopub.execute_input": "2022-04-06T17:43:33.110302Z",
     "iopub.status.busy": "2022-04-06T17:43:33.110142Z",
     "iopub.status.idle": "2022-04-06T17:43:33.113597Z",
     "shell.execute_reply": "2022-04-06T17:43:33.113025Z"
    },
    "papermill": {
     "duration": 0.007463,
     "end_time": "2022-04-06T17:43:33.115012",
     "exception": false,
     "start_time": "2022-04-06T17:43:33.107549",
=======
   "id": "02802044",
   "metadata": {
    "execution": {
     "iopub.execute_input": "2022-03-27T15:31:22.010767Z",
     "iopub.status.busy": "2022-03-27T15:31:22.010551Z",
     "iopub.status.idle": "2022-03-27T15:31:22.013632Z",
     "shell.execute_reply": "2022-03-27T15:31:22.013153Z"
    },
    "papermill": {
     "duration": 0.012345,
     "end_time": "2022-03-27T15:31:22.015302",
     "exception": false,
     "start_time": "2022-03-27T15:31:22.002957",
>>>>>>> origin/merge_dev
     "status": "completed"
    },
    "tags": [
     "injected-parameters"
    ]
   },
   "outputs": [],
   "source": [
    "# Parameters\n",
    "upstream = {\n",
    "    \"fetch_yfinance_data\": {\n",
<<<<<<< HEAD
    "        \"nb\": \"/root/market_watch/output/notebooks/fetch_yfinance_data.ipynb\",\n",
    "        \"data\": \"/root/market_watch/output/data/raw/yfinance_ticker_data-raw.csv\",\n",
    "    }\n",
    "}\n",
    "product = {\"nb\": \"/root/market_watch/output/notebooks/build_financial_features.ipynb\"}\n"
=======
    "        \"nb\": \"/Users/aiujdm2/market_watch/output/notebooks/fetch_yfinance_data.ipynb\",\n",
    "        \"data\": \"/Users/aiujdm2/market_watch/output/data/raw/yfinance_ticker_data-raw.csv\",\n",
    "    }\n",
    "}\n",
    "product = {\n",
    "    \"nb\": \"/Users/aiujdm2/market_watch/output/notebooks/build_financial_features.ipynb\",\n",
    "    \"data\": \"/Users/aiujdm2/market_watch/output/data/features/financial_features.parquet\",\n",
    "}\n"
>>>>>>> origin/merge_dev
   ]
  },
  {
   "cell_type": "code",
   "execution_count": 4,
<<<<<<< HEAD
   "id": "386e2a97",
   "metadata": {
    "execution": {
     "iopub.execute_input": "2022-04-06T17:43:33.119170Z",
     "iopub.status.busy": "2022-04-06T17:43:33.119011Z",
     "iopub.status.idle": "2022-04-06T17:43:33.122201Z",
     "shell.execute_reply": "2022-04-06T17:43:33.121567Z"
    },
    "papermill": {
     "duration": 0.006949,
     "end_time": "2022-04-06T17:43:33.123418",
     "exception": false,
     "start_time": "2022-04-06T17:43:33.116469",
=======
   "id": "6c888135",
   "metadata": {
    "execution": {
     "iopub.execute_input": "2022-03-27T15:31:22.027438Z",
     "iopub.status.busy": "2022-03-27T15:31:22.027287Z",
     "iopub.status.idle": "2022-03-27T15:31:22.029746Z",
     "shell.execute_reply": "2022-03-27T15:31:22.029242Z"
    },
    "papermill": {
     "duration": 0.011156,
     "end_time": "2022-03-27T15:31:22.032473",
     "exception": false,
     "start_time": "2022-03-27T15:31:22.021317",
>>>>>>> origin/merge_dev
     "status": "completed"
    },
    "tags": []
   },
   "outputs": [],
   "source": [
    "input_file_path = str(upstream['fetch_yfinance_data']['data'])"
   ]
  },
  {
   "cell_type": "code",
   "execution_count": 5,
<<<<<<< HEAD
   "id": "418b7c72",
   "metadata": {
    "execution": {
     "iopub.execute_input": "2022-04-06T17:43:33.128618Z",
     "iopub.status.busy": "2022-04-06T17:43:33.128458Z",
     "iopub.status.idle": "2022-04-06T17:43:33.131735Z",
     "shell.execute_reply": "2022-04-06T17:43:33.131141Z"
    },
    "papermill": {
     "duration": 0.007712,
     "end_time": "2022-04-06T17:43:33.132869",
     "exception": false,
     "start_time": "2022-04-06T17:43:33.125157",
=======
   "id": "20599987",
   "metadata": {
    "execution": {
     "iopub.execute_input": "2022-03-27T15:31:22.045938Z",
     "iopub.status.busy": "2022-03-27T15:31:22.045757Z",
     "iopub.status.idle": "2022-03-27T15:31:22.048606Z",
     "shell.execute_reply": "2022-03-27T15:31:22.048120Z"
    },
    "papermill": {
     "duration": 0.011468,
     "end_time": "2022-03-27T15:31:22.050151",
     "exception": false,
     "start_time": "2022-03-27T15:31:22.038683",
>>>>>>> origin/merge_dev
     "status": "completed"
    },
    "tags": []
   },
   "outputs": [],
   "source": [
    "def read_data(input_file_path):\n",
    "    print(f\"reading {input_file_path}\")\n",
    "    data = pd.read_csv(input_file_path, index_col=0)\n",
    "    return data"
   ]
  },
  {
   "cell_type": "code",
   "execution_count": 6,
<<<<<<< HEAD
   "id": "d22ae1a3",
   "metadata": {
    "execution": {
     "iopub.execute_input": "2022-04-06T17:43:33.136632Z",
     "iopub.status.busy": "2022-04-06T17:43:33.136478Z",
     "iopub.status.idle": "2022-04-06T17:43:33.145355Z",
     "shell.execute_reply": "2022-04-06T17:43:33.144762Z"
    },
    "papermill": {
     "duration": 0.012176,
     "end_time": "2022-04-06T17:43:33.146536",
     "exception": false,
     "start_time": "2022-04-06T17:43:33.134360",
=======
   "id": "bd190bf1",
   "metadata": {
    "execution": {
     "iopub.execute_input": "2022-03-27T15:31:22.063747Z",
     "iopub.status.busy": "2022-03-27T15:31:22.063543Z",
     "iopub.status.idle": "2022-03-27T15:31:22.081719Z",
     "shell.execute_reply": "2022-03-27T15:31:22.081245Z"
    },
    "papermill": {
     "duration": 0.027703,
     "end_time": "2022-03-27T15:31:22.083419",
     "exception": false,
     "start_time": "2022-03-27T15:31:22.055716",
>>>>>>> origin/merge_dev
     "status": "completed"
    },
    "tags": []
   },
   "outputs": [
    {
     "name": "stdout",
     "output_type": "stream",
     "text": [
<<<<<<< HEAD
      "reading /root/market_watch/output/data/raw/yfinance_ticker_data-raw.csv\n"
=======
      "reading /Users/aiujdm2/market_watch/output/data/raw/yfinance_ticker_data-raw.csv\n"
>>>>>>> origin/merge_dev
     ]
    }
   ],
   "source": [
    "data_df = read_data(input_file_path)"
   ]
  },
  {
   "cell_type": "code",
   "execution_count": 7,
<<<<<<< HEAD
   "id": "9a38c35c",
   "metadata": {
    "execution": {
     "iopub.execute_input": "2022-04-06T17:43:33.150839Z",
     "iopub.status.busy": "2022-04-06T17:43:33.150677Z",
     "iopub.status.idle": "2022-04-06T17:43:33.161733Z",
     "shell.execute_reply": "2022-04-06T17:43:33.161126Z"
    },
    "papermill": {
     "duration": 0.014701,
     "end_time": "2022-04-06T17:43:33.162905",
     "exception": false,
     "start_time": "2022-04-06T17:43:33.148204",
=======
   "id": "21aaf1ea",
   "metadata": {
    "execution": {
     "iopub.execute_input": "2022-03-27T15:31:22.102560Z",
     "iopub.status.busy": "2022-03-27T15:31:22.102325Z",
     "iopub.status.idle": "2022-03-27T15:31:22.121629Z",
     "shell.execute_reply": "2022-03-27T15:31:22.121100Z"
    },
    "papermill": {
     "duration": 0.032247,
     "end_time": "2022-03-27T15:31:22.123920",
     "exception": false,
     "start_time": "2022-03-27T15:31:22.091673",
>>>>>>> origin/merge_dev
     "status": "completed"
    },
    "tags": []
   },
   "outputs": [
    {
     "name": "stdout",
     "output_type": "stream",
     "text": [
      "<class 'pandas.core.frame.DataFrame'>\n",
<<<<<<< HEAD
      "Int64Index: 63 entries, 0 to 62\n",
      "Data columns (total 8 columns):\n",
      " #   Column        Non-Null Count  Dtype  \n",
      "---  ------        --------------  -----  \n",
      " 0   Date          63 non-null     object \n",
      " 1   Open          63 non-null     float64\n",
      " 2   High          63 non-null     float64\n",
      " 3   Low           63 non-null     float64\n",
      " 4   Close         63 non-null     float64\n",
      " 5   Volume        63 non-null     int64  \n",
      " 6   Dividends     63 non-null     int64  \n",
      " 7   Stock Splits  63 non-null     int64  \n",
=======
      "Int64Index: 62 entries, 0 to 61\n",
      "Data columns (total 8 columns):\n",
      " #   Column        Non-Null Count  Dtype  \n",
      "---  ------        --------------  -----  \n",
      " 0   Date          62 non-null     object \n",
      " 1   Open          62 non-null     float64\n",
      " 2   High          62 non-null     float64\n",
      " 3   Low           62 non-null     float64\n",
      " 4   Close         62 non-null     float64\n",
      " 5   Volume        62 non-null     int64  \n",
      " 6   Dividends     62 non-null     int64  \n",
      " 7   Stock Splits  62 non-null     int64  \n",
>>>>>>> origin/merge_dev
      "dtypes: float64(4), int64(3), object(1)\n",
      "memory usage: 4.4+ KB\n"
     ]
    }
   ],
   "source": [
    "data_df.info()"
   ]
  },
  {
   "cell_type": "code",
   "execution_count": 8,
<<<<<<< HEAD
   "id": "6ade71dc",
   "metadata": {
    "execution": {
     "iopub.execute_input": "2022-04-06T17:43:33.167215Z",
     "iopub.status.busy": "2022-04-06T17:43:33.167053Z",
     "iopub.status.idle": "2022-04-06T17:43:33.181733Z",
     "shell.execute_reply": "2022-04-06T17:43:33.181091Z"
    },
    "papermill": {
     "duration": 0.018329,
     "end_time": "2022-04-06T17:43:33.182954",
     "exception": false,
     "start_time": "2022-04-06T17:43:33.164625",
=======
   "id": "1865149e",
   "metadata": {
    "execution": {
     "iopub.execute_input": "2022-03-27T15:31:22.141730Z",
     "iopub.status.busy": "2022-03-27T15:31:22.141493Z",
     "iopub.status.idle": "2022-03-27T15:31:22.161613Z",
     "shell.execute_reply": "2022-03-27T15:31:22.161112Z"
    },
    "papermill": {
     "duration": 0.031463,
     "end_time": "2022-03-27T15:31:22.163342",
     "exception": false,
     "start_time": "2022-03-27T15:31:22.131879",
>>>>>>> origin/merge_dev
     "status": "completed"
    },
    "tags": []
   },
   "outputs": [
    {
     "data": {
      "text/html": [
       "<div>\n",
       "<style scoped>\n",
       "    .dataframe tbody tr th:only-of-type {\n",
       "        vertical-align: middle;\n",
       "    }\n",
       "\n",
       "    .dataframe tbody tr th {\n",
       "        vertical-align: top;\n",
       "    }\n",
       "\n",
       "    .dataframe thead th {\n",
       "        text-align: right;\n",
       "    }\n",
       "</style>\n",
       "<table border=\"1\" class=\"dataframe\">\n",
       "  <thead>\n",
       "    <tr style=\"text-align: right;\">\n",
       "      <th></th>\n",
       "      <th>Date</th>\n",
       "      <th>Open</th>\n",
       "      <th>High</th>\n",
       "      <th>Low</th>\n",
       "      <th>Close</th>\n",
       "      <th>Volume</th>\n",
       "      <th>Dividends</th>\n",
       "      <th>Stock Splits</th>\n",
       "    </tr>\n",
       "  </thead>\n",
       "  <tbody>\n",
       "    <tr>\n",
<<<<<<< HEAD
       "      <th>51</th>\n",
       "      <td>2022-03-22</td>\n",
       "      <td>930.000000</td>\n",
       "      <td>997.859985</td>\n",
       "      <td>921.750000</td>\n",
       "      <td>993.979980</td>\n",
       "      <td>35289500</td>\n",
=======
       "      <th>34</th>\n",
       "      <td>2022-02-11</td>\n",
       "      <td>909.630005</td>\n",
       "      <td>915.960022</td>\n",
       "      <td>850.700012</td>\n",
       "      <td>860.000000</td>\n",
       "      <td>26548600</td>\n",
       "      <td>0</td>\n",
       "      <td>0</td>\n",
       "    </tr>\n",
       "    <tr>\n",
       "      <th>20</th>\n",
       "      <td>2022-01-24</td>\n",
       "      <td>904.760010</td>\n",
       "      <td>933.510010</td>\n",
       "      <td>851.469971</td>\n",
       "      <td>930.000000</td>\n",
       "      <td>50521900</td>\n",
>>>>>>> origin/merge_dev
       "      <td>0</td>\n",
       "      <td>0</td>\n",
       "    </tr>\n",
       "    <tr>\n",
<<<<<<< HEAD
       "      <th>12</th>\n",
       "      <td>2022-01-25</td>\n",
       "      <td>914.200012</td>\n",
       "      <td>951.260010</td>\n",
       "      <td>903.210022</td>\n",
       "      <td>918.400024</td>\n",
       "      <td>28865300</td>\n",
       "      <td>0</td>\n",
       "      <td>0</td>\n",
       "    </tr>\n",
       "    <tr>\n",
       "      <th>35</th>\n",
       "      <td>2022-02-28</td>\n",
       "      <td>815.010010</td>\n",
       "      <td>876.859985</td>\n",
       "      <td>814.710022</td>\n",
       "      <td>870.429993</td>\n",
       "      <td>33002300</td>\n",
       "      <td>0</td>\n",
       "      <td>0</td>\n",
       "    </tr>\n",
       "    <tr>\n",
       "      <th>52</th>\n",
       "      <td>2022-03-23</td>\n",
       "      <td>979.940002</td>\n",
       "      <td>1040.699951</td>\n",
       "      <td>976.400024</td>\n",
       "      <td>999.109985</td>\n",
       "      <td>40225400</td>\n",
       "      <td>0</td>\n",
       "      <td>0</td>\n",
       "    </tr>\n",
       "    <tr>\n",
       "      <th>31</th>\n",
       "      <td>2022-02-22</td>\n",
       "      <td>834.130005</td>\n",
       "      <td>856.729980</td>\n",
       "      <td>801.099976</td>\n",
       "      <td>821.530029</td>\n",
       "      <td>27762700</td>\n",
       "      <td>0</td>\n",
       "      <td>0</td>\n",
       "    </tr>\n",
       "    <tr>\n",
       "      <th>16</th>\n",
       "      <td>2022-01-31</td>\n",
       "      <td>872.710022</td>\n",
       "      <td>937.989990</td>\n",
       "      <td>862.049988</td>\n",
       "      <td>936.719971</td>\n",
       "      <td>34812000</td>\n",
       "      <td>0</td>\n",
       "      <td>0</td>\n",
       "    </tr>\n",
       "    <tr>\n",
       "      <th>24</th>\n",
=======
       "      <th>33</th>\n",
>>>>>>> origin/merge_dev
       "      <td>2022-02-10</td>\n",
       "      <td>908.369995</td>\n",
       "      <td>943.809998</td>\n",
       "      <td>896.700012</td>\n",
       "      <td>904.549988</td>\n",
       "      <td>22042300</td>\n",
       "      <td>0</td>\n",
       "      <td>0</td>\n",
       "    </tr>\n",
       "    <tr>\n",
<<<<<<< HEAD
       "      <th>49</th>\n",
       "      <td>2022-03-18</td>\n",
       "      <td>874.489990</td>\n",
       "      <td>907.849976</td>\n",
       "      <td>867.390015</td>\n",
       "      <td>905.390015</td>\n",
       "      <td>33408500</td>\n",
=======
       "      <th>2</th>\n",
       "      <td>2021-12-28</td>\n",
       "      <td>1109.489990</td>\n",
       "      <td>1119.000000</td>\n",
       "      <td>1078.420044</td>\n",
       "      <td>1088.469971</td>\n",
       "      <td>20108000</td>\n",
>>>>>>> origin/merge_dev
       "      <td>0</td>\n",
       "      <td>0</td>\n",
       "    </tr>\n",
       "    <tr>\n",
<<<<<<< HEAD
       "      <th>6</th>\n",
       "      <td>2022-01-14</td>\n",
       "      <td>1019.880005</td>\n",
       "      <td>1052.000000</td>\n",
       "      <td>1013.380005</td>\n",
       "      <td>1049.609985</td>\n",
       "      <td>24308100</td>\n",
=======
       "      <th>39</th>\n",
       "      <td>2022-02-18</td>\n",
       "      <td>886.000000</td>\n",
       "      <td>886.869995</td>\n",
       "      <td>837.609985</td>\n",
       "      <td>856.979980</td>\n",
       "      <td>22833900</td>\n",
>>>>>>> origin/merge_dev
       "      <td>0</td>\n",
       "      <td>0</td>\n",
       "    </tr>\n",
       "    <tr>\n",
<<<<<<< HEAD
       "      <th>5</th>\n",
       "      <td>2022-01-13</td>\n",
       "      <td>1109.069946</td>\n",
       "      <td>1115.599976</td>\n",
       "      <td>1026.540039</td>\n",
       "      <td>1031.560059</td>\n",
       "      <td>32403300</td>\n",
=======
       "      <th>31</th>\n",
       "      <td>2022-02-08</td>\n",
       "      <td>905.530029</td>\n",
       "      <td>926.289978</td>\n",
       "      <td>894.799988</td>\n",
       "      <td>922.000000</td>\n",
       "      <td>16909700</td>\n",
       "      <td>0</td>\n",
       "      <td>0</td>\n",
       "    </tr>\n",
       "    <tr>\n",
       "      <th>16</th>\n",
       "      <td>2022-01-18</td>\n",
       "      <td>1026.609985</td>\n",
       "      <td>1070.790039</td>\n",
       "      <td>1016.059998</td>\n",
       "      <td>1030.510010</td>\n",
       "      <td>22247800</td>\n",
       "      <td>0</td>\n",
       "      <td>0</td>\n",
       "    </tr>\n",
       "    <tr>\n",
       "      <th>7</th>\n",
       "      <td>2022-01-04</td>\n",
       "      <td>1189.550049</td>\n",
       "      <td>1208.000000</td>\n",
       "      <td>1123.050049</td>\n",
       "      <td>1149.589966</td>\n",
       "      <td>33416100</td>\n",
       "      <td>0</td>\n",
       "      <td>0</td>\n",
       "    </tr>\n",
       "    <tr>\n",
       "      <th>12</th>\n",
       "      <td>2022-01-11</td>\n",
       "      <td>1053.670044</td>\n",
       "      <td>1075.849976</td>\n",
       "      <td>1038.819946</td>\n",
       "      <td>1064.400024</td>\n",
       "      <td>22021100</td>\n",
       "      <td>0</td>\n",
       "      <td>0</td>\n",
       "    </tr>\n",
       "    <tr>\n",
       "      <th>60</th>\n",
       "      <td>2022-03-22</td>\n",
       "      <td>930.000000</td>\n",
       "      <td>997.859985</td>\n",
       "      <td>921.750000</td>\n",
       "      <td>993.979980</td>\n",
       "      <td>35200400</td>\n",
>>>>>>> origin/merge_dev
       "      <td>0</td>\n",
       "      <td>0</td>\n",
       "    </tr>\n",
       "  </tbody>\n",
       "</table>\n",
       "</div>"
      ],
      "text/plain": [
       "          Date         Open         High          Low        Close    Volume  \\\n",
<<<<<<< HEAD
       "51  2022-03-22   930.000000   997.859985   921.750000   993.979980  35289500   \n",
       "12  2022-01-25   914.200012   951.260010   903.210022   918.400024  28865300   \n",
       "35  2022-02-28   815.010010   876.859985   814.710022   870.429993  33002300   \n",
       "52  2022-03-23   979.940002  1040.699951   976.400024   999.109985  40225400   \n",
       "31  2022-02-22   834.130005   856.729980   801.099976   821.530029  27762700   \n",
       "16  2022-01-31   872.710022   937.989990   862.049988   936.719971  34812000   \n",
       "24  2022-02-10   908.369995   943.809998   896.700012   904.549988  22042300   \n",
       "49  2022-03-18   874.489990   907.849976   867.390015   905.390015  33408500   \n",
       "6   2022-01-14  1019.880005  1052.000000  1013.380005  1049.609985  24308100   \n",
       "5   2022-01-13  1109.069946  1115.599976  1026.540039  1031.560059  32403300   \n",
       "\n",
       "    Dividends  Stock Splits  \n",
       "51          0             0  \n",
       "12          0             0  \n",
       "35          0             0  \n",
       "52          0             0  \n",
       "31          0             0  \n",
       "16          0             0  \n",
       "24          0             0  \n",
       "49          0             0  \n",
       "6           0             0  \n",
       "5           0             0  "
=======
       "34  2022-02-11   909.630005   915.960022   850.700012   860.000000  26548600   \n",
       "20  2022-01-24   904.760010   933.510010   851.469971   930.000000  50521900   \n",
       "33  2022-02-10   908.369995   943.809998   896.700012   904.549988  22042300   \n",
       "2   2021-12-28  1109.489990  1119.000000  1078.420044  1088.469971  20108000   \n",
       "39  2022-02-18   886.000000   886.869995   837.609985   856.979980  22833900   \n",
       "31  2022-02-08   905.530029   926.289978   894.799988   922.000000  16909700   \n",
       "16  2022-01-18  1026.609985  1070.790039  1016.059998  1030.510010  22247800   \n",
       "7   2022-01-04  1189.550049  1208.000000  1123.050049  1149.589966  33416100   \n",
       "12  2022-01-11  1053.670044  1075.849976  1038.819946  1064.400024  22021100   \n",
       "60  2022-03-22   930.000000   997.859985   921.750000   993.979980  35200400   \n",
       "\n",
       "    Dividends  Stock Splits  \n",
       "34          0             0  \n",
       "20          0             0  \n",
       "33          0             0  \n",
       "2           0             0  \n",
       "39          0             0  \n",
       "31          0             0  \n",
       "16          0             0  \n",
       "7           0             0  \n",
       "12          0             0  \n",
       "60          0             0  "
>>>>>>> origin/merge_dev
      ]
     },
     "execution_count": 8,
     "metadata": {},
     "output_type": "execute_result"
    }
   ],
   "source": [
    "data_df.sample(10)"
   ]
  },
  {
   "cell_type": "code",
   "execution_count": null,
<<<<<<< HEAD
   "id": "285182ed",
   "metadata": {
    "papermill": {
     "duration": 0.001951,
     "end_time": "2022-04-06T17:43:33.186888",
     "exception": false,
     "start_time": "2022-04-06T17:43:33.184937",
=======
   "id": "c4df8f91",
   "metadata": {
    "papermill": {
     "duration": 0.00793,
     "end_time": "2022-03-27T15:31:22.179664",
     "exception": false,
     "start_time": "2022-03-27T15:31:22.171734",
>>>>>>> origin/merge_dev
     "status": "completed"
    },
    "tags": []
   },
   "outputs": [],
   "source": []
  },
  {
   "cell_type": "code",
   "execution_count": null,
<<<<<<< HEAD
   "id": "5ae23f61",
   "metadata": {
    "papermill": {
     "duration": 0.002472,
     "end_time": "2022-04-06T17:43:33.191591",
     "exception": false,
     "start_time": "2022-04-06T17:43:33.189119",
=======
   "id": "7dda231c",
   "metadata": {
    "papermill": {
     "duration": 0.006604,
     "end_time": "2022-03-27T15:31:22.193192",
     "exception": false,
     "start_time": "2022-03-27T15:31:22.186588",
>>>>>>> origin/merge_dev
     "status": "completed"
    },
    "tags": []
   },
   "outputs": [],
   "source": []
  }
 ],
 "metadata": {
  "jupytext": {
   "cell_metadata_filter": "tags,-all",
   "main_language": "python",
   "notebook_metadata_filter": "-all",
   "text_representation": {
    "extension": ".py",
    "format_name": "light"
   }
  },
  "kernelspec": {
   "display_name": "Python 3 (ipykernel)",
   "language": "python",
   "name": "python3"
  },
  "language_info": {
   "codemirror_mode": {
    "name": "ipython",
    "version": 3
   },
   "file_extension": ".py",
   "mimetype": "text/x-python",
   "name": "python",
   "nbconvert_exporter": "python",
   "pygments_lexer": "ipython3",
<<<<<<< HEAD
   "version": "3.8.13"
  },
  "papermill": {
   "duration": 1.415702,
   "end_time": "2022-04-06T17:43:33.416171",
   "exception": null,
   "input_path": "/tmp/tmpnw_wg85q.ipynb",
   "output_path": "/root/market_watch/output/notebooks/build_financial_features.ipynb",
   "parameters": {
    "product": {
     "nb": "/root/market_watch/output/notebooks/build_financial_features.ipynb"
    },
    "upstream": {
     "fetch_yfinance_data": {
      "data": "/root/market_watch/output/data/raw/yfinance_ticker_data-raw.csv",
      "nb": "/root/market_watch/output/notebooks/fetch_yfinance_data.ipynb"
     }
    }
   },
   "start_time": "2022-04-06T17:43:32.000469"
=======
   "version": "3.9.10"
  },
  "papermill": {
   "duration": 1.692632,
   "end_time": "2022-03-27T15:31:22.418002",
   "exception": null,
   "input_path": "/var/folders/b0/4tc1nfbd6z7_vhx4nxcj2n91c0l9h6/T/tmp8lcq66w2.ipynb",
   "output_path": "/Users/aiujdm2/market_watch/output/notebooks/build_financial_features.ipynb",
   "parameters": {
    "product": {
     "data": "/Users/aiujdm2/market_watch/output/data/features/financial_features.parquet",
     "nb": "/Users/aiujdm2/market_watch/output/notebooks/build_financial_features.ipynb"
    },
    "upstream": {
     "fetch_yfinance_data": {
      "data": "/Users/aiujdm2/market_watch/output/data/raw/yfinance_ticker_data-raw.csv",
      "nb": "/Users/aiujdm2/market_watch/output/notebooks/fetch_yfinance_data.ipynb"
     }
    }
   },
   "start_time": "2022-03-27T15:31:20.725370"
>>>>>>> origin/merge_dev
  }
 },
 "nbformat": 4,
 "nbformat_minor": 5
}