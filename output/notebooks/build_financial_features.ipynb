{
 "cells": [
  {
   "cell_type": "code",
   "execution_count": 1,
   "id": "cc5bb961",
   "metadata": {
    "execution": {
     "iopub.execute_input": "2022-03-27T15:31:21.683337Z",
     "iopub.status.busy": "2022-03-27T15:31:21.683052Z",
     "iopub.status.idle": "2022-03-27T15:31:21.970789Z",
     "shell.execute_reply": "2022-03-27T15:31:21.970228Z"
    },
    "papermill": {
     "duration": 0.302103,
     "end_time": "2022-03-27T15:31:21.973668",
     "exception": false,
     "start_time": "2022-03-27T15:31:21.671565",
     "status": "completed"
    },
    "tags": []
   },
   "outputs": [],
   "source": [
    "import pandas as pd"
   ]
  },
  {
   "cell_type": "code",
   "execution_count": 2,
   "id": "e0b9abad",
   "metadata": {
    "execution": {
     "iopub.execute_input": "2022-03-27T15:31:21.991966Z",
     "iopub.status.busy": "2022-03-27T15:31:21.991743Z",
     "iopub.status.idle": "2022-03-27T15:31:21.994673Z",
     "shell.execute_reply": "2022-03-27T15:31:21.994064Z"
    },
    "lines_to_next_cell": 2,
    "papermill": {
     "duration": 0.013088,
     "end_time": "2022-03-27T15:31:21.996465",
     "exception": false,
     "start_time": "2022-03-27T15:31:21.983377",
     "status": "completed"
    },
    "tags": [
     "parameters"
    ]
   },
   "outputs": [],
   "source": [
    "# declare a list tasks whose products you want to use as inputs\n",
    "upstream = ['fetch_yfinance_data']\n"
   ]
  },
  {
   "cell_type": "code",
   "execution_count": 3,
   "id": "02802044",
   "metadata": {
    "execution": {
     "iopub.execute_input": "2022-03-27T15:31:22.010767Z",
     "iopub.status.busy": "2022-03-27T15:31:22.010551Z",
     "iopub.status.idle": "2022-03-27T15:31:22.013632Z",
     "shell.execute_reply": "2022-03-27T15:31:22.013153Z"
    },
    "papermill": {
     "duration": 0.012345,
     "end_time": "2022-03-27T15:31:22.015302",
     "exception": false,
     "start_time": "2022-03-27T15:31:22.002957",
     "status": "completed"
    },
    "tags": [
     "injected-parameters"
    ]
   },
   "outputs": [],
   "source": [
    "# Parameters\n",
    "upstream = {\n",
    "    \"fetch_yfinance_data\": {\n",
    "        \"nb\": \"/Users/aiujdm2/market_watch/output/notebooks/fetch_yfinance_data.ipynb\",\n",
    "        \"data\": \"/Users/aiujdm2/market_watch/output/data/raw/yfinance_ticker_data-raw.csv\",\n",
    "    }\n",
    "}\n",
    "product = {\n",
    "    \"nb\": \"/Users/aiujdm2/market_watch/output/notebooks/build_financial_features.ipynb\",\n",
    "    \"data\": \"/Users/aiujdm2/market_watch/output/data/features/financial_features.parquet\",\n",
    "}\n"
   ]
  },
  {
   "cell_type": "code",
   "execution_count": 4,
   "id": "6c888135",
   "metadata": {
    "execution": {
     "iopub.execute_input": "2022-03-27T15:31:22.027438Z",
     "iopub.status.busy": "2022-03-27T15:31:22.027287Z",
     "iopub.status.idle": "2022-03-27T15:31:22.029746Z",
     "shell.execute_reply": "2022-03-27T15:31:22.029242Z"
    },
    "papermill": {
     "duration": 0.011156,
     "end_time": "2022-03-27T15:31:22.032473",
     "exception": false,
     "start_time": "2022-03-27T15:31:22.021317",
     "status": "completed"
    },
    "tags": []
   },
   "outputs": [],
   "source": [
    "input_file_path = str(upstream['fetch_yfinance_data']['data'])"
   ]
  },
  {
   "cell_type": "code",
   "execution_count": 5,
   "id": "20599987",
   "metadata": {
    "execution": {
     "iopub.execute_input": "2022-03-27T15:31:22.045938Z",
     "iopub.status.busy": "2022-03-27T15:31:22.045757Z",
     "iopub.status.idle": "2022-03-27T15:31:22.048606Z",
     "shell.execute_reply": "2022-03-27T15:31:22.048120Z"
    },
    "papermill": {
     "duration": 0.011468,
     "end_time": "2022-03-27T15:31:22.050151",
     "exception": false,
     "start_time": "2022-03-27T15:31:22.038683",
     "status": "completed"
    },
    "tags": []
   },
   "outputs": [],
   "source": [
    "def read_data(input_file_path):\n",
    "    print(f\"reading {input_file_path}\")\n",
    "    data = pd.read_csv(input_file_path, index_col=0)\n",
    "    return data"
   ]
  },
  {
   "cell_type": "code",
   "execution_count": 6,
   "id": "bd190bf1",
   "metadata": {
    "execution": {
     "iopub.execute_input": "2022-03-27T15:31:22.063747Z",
     "iopub.status.busy": "2022-03-27T15:31:22.063543Z",
     "iopub.status.idle": "2022-03-27T15:31:22.081719Z",
     "shell.execute_reply": "2022-03-27T15:31:22.081245Z"
    },
    "papermill": {
     "duration": 0.027703,
     "end_time": "2022-03-27T15:31:22.083419",
     "exception": false,
     "start_time": "2022-03-27T15:31:22.055716",
     "status": "completed"
    },
    "tags": []
   },
   "outputs": [
    {
     "name": "stdout",
     "output_type": "stream",
     "text": [
      "reading /Users/aiujdm2/market_watch/output/data/raw/yfinance_ticker_data-raw.csv\n"
     ]
    }
   ],
   "source": [
    "data_df = read_data(input_file_path)"
   ]
  },
  {
   "cell_type": "code",
   "execution_count": 7,
   "id": "21aaf1ea",
   "metadata": {
    "execution": {
     "iopub.execute_input": "2022-03-27T15:31:22.102560Z",
     "iopub.status.busy": "2022-03-27T15:31:22.102325Z",
     "iopub.status.idle": "2022-03-27T15:31:22.121629Z",
     "shell.execute_reply": "2022-03-27T15:31:22.121100Z"
    },
    "papermill": {
     "duration": 0.032247,
     "end_time": "2022-03-27T15:31:22.123920",
     "exception": false,
     "start_time": "2022-03-27T15:31:22.091673",
     "status": "completed"
    },
    "tags": []
   },
   "outputs": [
    {
     "name": "stdout",
     "output_type": "stream",
     "text": [
      "<class 'pandas.core.frame.DataFrame'>\n",
      "Int64Index: 62 entries, 0 to 61\n",
      "Data columns (total 8 columns):\n",
      " #   Column        Non-Null Count  Dtype  \n",
      "---  ------        --------------  -----  \n",
      " 0   Date          62 non-null     object \n",
      " 1   Open          62 non-null     float64\n",
      " 2   High          62 non-null     float64\n",
      " 3   Low           62 non-null     float64\n",
      " 4   Close         62 non-null     float64\n",
      " 5   Volume        62 non-null     int64  \n",
      " 6   Dividends     62 non-null     int64  \n",
      " 7   Stock Splits  62 non-null     int64  \n",
      "dtypes: float64(4), int64(3), object(1)\n",
      "memory usage: 4.4+ KB\n"
     ]
    }
   ],
   "source": [
    "data_df.info()"
   ]
  },
  {
   "cell_type": "code",
   "execution_count": 8,
   "id": "1865149e",
   "metadata": {
    "execution": {
     "iopub.execute_input": "2022-03-27T15:31:22.141730Z",
     "iopub.status.busy": "2022-03-27T15:31:22.141493Z",
     "iopub.status.idle": "2022-03-27T15:31:22.161613Z",
     "shell.execute_reply": "2022-03-27T15:31:22.161112Z"
    },
    "papermill": {
     "duration": 0.031463,
     "end_time": "2022-03-27T15:31:22.163342",
     "exception": false,
     "start_time": "2022-03-27T15:31:22.131879",
     "status": "completed"
    },
    "tags": []
   },
   "outputs": [
    {
     "data": {
      "text/html": [
       "<div>\n",
       "<style scoped>\n",
       "    .dataframe tbody tr th:only-of-type {\n",
       "        vertical-align: middle;\n",
       "    }\n",
       "\n",
       "    .dataframe tbody tr th {\n",
       "        vertical-align: top;\n",
       "    }\n",
       "\n",
       "    .dataframe thead th {\n",
       "        text-align: right;\n",
       "    }\n",
       "</style>\n",
       "<table border=\"1\" class=\"dataframe\">\n",
       "  <thead>\n",
       "    <tr style=\"text-align: right;\">\n",
       "      <th></th>\n",
       "      <th>Date</th>\n",
       "      <th>Open</th>\n",
       "      <th>High</th>\n",
       "      <th>Low</th>\n",
       "      <th>Close</th>\n",
       "      <th>Volume</th>\n",
       "      <th>Dividends</th>\n",
       "      <th>Stock Splits</th>\n",
       "    </tr>\n",
       "  </thead>\n",
       "  <tbody>\n",
       "    <tr>\n",
       "      <th>34</th>\n",
       "      <td>2022-02-11</td>\n",
       "      <td>909.630005</td>\n",
       "      <td>915.960022</td>\n",
       "      <td>850.700012</td>\n",
       "      <td>860.000000</td>\n",
       "      <td>26548600</td>\n",
       "      <td>0</td>\n",
       "      <td>0</td>\n",
       "    </tr>\n",
       "    <tr>\n",
       "      <th>20</th>\n",
       "      <td>2022-01-24</td>\n",
       "      <td>904.760010</td>\n",
       "      <td>933.510010</td>\n",
       "      <td>851.469971</td>\n",
       "      <td>930.000000</td>\n",
       "      <td>50521900</td>\n",
       "      <td>0</td>\n",
       "      <td>0</td>\n",
       "    </tr>\n",
       "    <tr>\n",
       "      <th>33</th>\n",
       "      <td>2022-02-10</td>\n",
       "      <td>908.369995</td>\n",
       "      <td>943.809998</td>\n",
       "      <td>896.700012</td>\n",
       "      <td>904.549988</td>\n",
       "      <td>22042300</td>\n",
       "      <td>0</td>\n",
       "      <td>0</td>\n",
       "    </tr>\n",
       "    <tr>\n",
       "      <th>2</th>\n",
       "      <td>2021-12-28</td>\n",
       "      <td>1109.489990</td>\n",
       "      <td>1119.000000</td>\n",
       "      <td>1078.420044</td>\n",
       "      <td>1088.469971</td>\n",
       "      <td>20108000</td>\n",
       "      <td>0</td>\n",
       "      <td>0</td>\n",
       "    </tr>\n",
       "    <tr>\n",
       "      <th>39</th>\n",
       "      <td>2022-02-18</td>\n",
       "      <td>886.000000</td>\n",
       "      <td>886.869995</td>\n",
       "      <td>837.609985</td>\n",
       "      <td>856.979980</td>\n",
       "      <td>22833900</td>\n",
       "      <td>0</td>\n",
       "      <td>0</td>\n",
       "    </tr>\n",
       "    <tr>\n",
       "      <th>31</th>\n",
       "      <td>2022-02-08</td>\n",
       "      <td>905.530029</td>\n",
       "      <td>926.289978</td>\n",
       "      <td>894.799988</td>\n",
       "      <td>922.000000</td>\n",
       "      <td>16909700</td>\n",
       "      <td>0</td>\n",
       "      <td>0</td>\n",
       "    </tr>\n",
       "    <tr>\n",
       "      <th>16</th>\n",
       "      <td>2022-01-18</td>\n",
       "      <td>1026.609985</td>\n",
       "      <td>1070.790039</td>\n",
       "      <td>1016.059998</td>\n",
       "      <td>1030.510010</td>\n",
       "      <td>22247800</td>\n",
       "      <td>0</td>\n",
       "      <td>0</td>\n",
       "    </tr>\n",
       "    <tr>\n",
       "      <th>7</th>\n",
       "      <td>2022-01-04</td>\n",
       "      <td>1189.550049</td>\n",
       "      <td>1208.000000</td>\n",
       "      <td>1123.050049</td>\n",
       "      <td>1149.589966</td>\n",
       "      <td>33416100</td>\n",
       "      <td>0</td>\n",
       "      <td>0</td>\n",
       "    </tr>\n",
       "    <tr>\n",
       "      <th>12</th>\n",
       "      <td>2022-01-11</td>\n",
       "      <td>1053.670044</td>\n",
       "      <td>1075.849976</td>\n",
       "      <td>1038.819946</td>\n",
       "      <td>1064.400024</td>\n",
       "      <td>22021100</td>\n",
       "      <td>0</td>\n",
       "      <td>0</td>\n",
       "    </tr>\n",
       "    <tr>\n",
       "      <th>60</th>\n",
       "      <td>2022-03-22</td>\n",
       "      <td>930.000000</td>\n",
       "      <td>997.859985</td>\n",
       "      <td>921.750000</td>\n",
       "      <td>993.979980</td>\n",
       "      <td>35200400</td>\n",
       "      <td>0</td>\n",
       "      <td>0</td>\n",
       "    </tr>\n",
       "  </tbody>\n",
       "</table>\n",
       "</div>"
      ],
      "text/plain": [
       "          Date         Open         High          Low        Close    Volume  \\\n",
       "34  2022-02-11   909.630005   915.960022   850.700012   860.000000  26548600   \n",
       "20  2022-01-24   904.760010   933.510010   851.469971   930.000000  50521900   \n",
       "33  2022-02-10   908.369995   943.809998   896.700012   904.549988  22042300   \n",
       "2   2021-12-28  1109.489990  1119.000000  1078.420044  1088.469971  20108000   \n",
       "39  2022-02-18   886.000000   886.869995   837.609985   856.979980  22833900   \n",
       "31  2022-02-08   905.530029   926.289978   894.799988   922.000000  16909700   \n",
       "16  2022-01-18  1026.609985  1070.790039  1016.059998  1030.510010  22247800   \n",
       "7   2022-01-04  1189.550049  1208.000000  1123.050049  1149.589966  33416100   \n",
       "12  2022-01-11  1053.670044  1075.849976  1038.819946  1064.400024  22021100   \n",
       "60  2022-03-22   930.000000   997.859985   921.750000   993.979980  35200400   \n",
       "\n",
       "    Dividends  Stock Splits  \n",
       "34          0             0  \n",
       "20          0             0  \n",
       "33          0             0  \n",
       "2           0             0  \n",
       "39          0             0  \n",
       "31          0             0  \n",
       "16          0             0  \n",
       "7           0             0  \n",
       "12          0             0  \n",
       "60          0             0  "
      ]
     },
     "execution_count": 8,
     "metadata": {},
     "output_type": "execute_result"
    }
   ],
   "source": [
    "data_df.sample(10)"
   ]
  },
  {
   "cell_type": "code",
   "execution_count": null,
   "id": "c4df8f91",
   "metadata": {
    "papermill": {
     "duration": 0.00793,
     "end_time": "2022-03-27T15:31:22.179664",
     "exception": false,
     "start_time": "2022-03-27T15:31:22.171734",
     "status": "completed"
    },
    "tags": []
   },
   "outputs": [],
   "source": []
  },
  {
   "cell_type": "code",
   "execution_count": null,
   "id": "7dda231c",
   "metadata": {
    "papermill": {
     "duration": 0.006604,
     "end_time": "2022-03-27T15:31:22.193192",
     "exception": false,
     "start_time": "2022-03-27T15:31:22.186588",
     "status": "completed"
    },
    "tags": []
   },
   "outputs": [],
   "source": []
  }
 ],
 "metadata": {
  "jupytext": {
   "cell_metadata_filter": "tags,-all",
   "main_language": "python",
   "notebook_metadata_filter": "-all",
   "text_representation": {
    "extension": ".py",
    "format_name": "light"
   }
  },
  "kernelspec": {
   "display_name": "Python 3 (ipykernel)",
   "language": "python",
   "name": "python3"
  },
  "language_info": {
   "codemirror_mode": {
    "name": "ipython",
    "version": 3
   },
   "file_extension": ".py",
   "mimetype": "text/x-python",
   "name": "python",
   "nbconvert_exporter": "python",
   "pygments_lexer": "ipython3",
   "version": "3.9.10"
  },
  "papermill": {
   "duration": 1.692632,
   "end_time": "2022-03-27T15:31:22.418002",
   "exception": null,
   "input_path": "/var/folders/b0/4tc1nfbd6z7_vhx4nxcj2n91c0l9h6/T/tmp8lcq66w2.ipynb",
   "output_path": "/Users/aiujdm2/market_watch/output/notebooks/build_financial_features.ipynb",
   "parameters": {
    "product": {
     "data": "/Users/aiujdm2/market_watch/output/data/features/financial_features.parquet",
     "nb": "/Users/aiujdm2/market_watch/output/notebooks/build_financial_features.ipynb"
    },
    "upstream": {
     "fetch_yfinance_data": {
      "data": "/Users/aiujdm2/market_watch/output/data/raw/yfinance_ticker_data-raw.csv",
      "nb": "/Users/aiujdm2/market_watch/output/notebooks/fetch_yfinance_data.ipynb"
     }
    }
   },
   "start_time": "2022-03-27T15:31:20.725370"
  }
 },
 "nbformat": 4,
 "nbformat_minor": 5
}