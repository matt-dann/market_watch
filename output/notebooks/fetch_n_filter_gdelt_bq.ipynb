{
 "cells": [
  {
   "cell_type": "code",
   "execution_count": 1,
   "id": "1960463c",
   "metadata": {
    "execution": {
     "iopub.execute_input": "2022-04-10T12:12:55.278851Z",
     "iopub.status.busy": "2022-04-10T12:12:55.277845Z",
     "iopub.status.idle": "2022-04-10T12:12:55.299789Z",
     "shell.execute_reply": "2022-04-10T12:12:55.298823Z"
    },
    "papermill": {
     "duration": 0.032946,
     "end_time": "2022-04-10T12:12:55.300818",
     "exception": false,
     "start_time": "2022-04-10T12:12:55.267872",
     "status": "completed"
    },
    "tags": [
     "parameters"
    ]
   },
   "outputs": [],
   "source": [
    "# declare a list tasks whose products you want to use as inputs\n",
    "upstream = None"
   ]
  },
  {
   "cell_type": "code",
   "execution_count": 2,
   "id": "d94a9db0",
   "metadata": {
    "execution": {
     "iopub.execute_input": "2022-04-10T12:12:55.321732Z",
     "iopub.status.busy": "2022-04-10T12:12:55.321732Z",
     "iopub.status.idle": "2022-04-10T12:12:55.331707Z",
     "shell.execute_reply": "2022-04-10T12:12:55.330704Z"
    },
    "papermill": {
     "duration": 0.021938,
     "end_time": "2022-04-10T12:12:55.332699",
     "exception": false,
     "start_time": "2022-04-10T12:12:55.310761",
     "status": "completed"
    },
    "tags": [
     "injected-parameters"
    ]
   },
   "outputs": [],
   "source": [
    "# Parameters\n",
    "query_params = {\n",
    "    \"rolling_window\": 90,\n",
    "    \"search_term\": \"tesla\",\n",
    "    \"bq_table_name\": \"`gdelt-bq.gdeltv2.gkg`\",\n",
    "    \"sp500_path\": \"data/external/\",\n",
    "    \"exchanges_path\": \"data/external/nasdaq_nyse_amex.csv\",\n",
    "}\n",
    "product = {\n",
    "    \"nb\": \"C:\\\\Users\\\\mattd\\\\OneDrive\\\\Masters\\\\SIADS-697 Capstone Project III\\\\market_watch2\\\\output\\\\notebooks\\\\fetch_n_filter_gdelt_bq.ipynb\",\n",
    "    \"data\": \"C:\\\\Users\\\\mattd\\\\OneDrive\\\\Masters\\\\SIADS-697 Capstone Project III\\\\market_watch2\\\\output\\\\data\\\\raw\",\n",
    "}\n"
   ]
  },
  {
   "cell_type": "code",
   "execution_count": 3,
   "id": "61951a81",
   "metadata": {
    "execution": {
     "iopub.execute_input": "2022-04-10T12:12:55.352644Z",
     "iopub.status.busy": "2022-04-10T12:12:55.351649Z",
     "iopub.status.idle": "2022-04-10T12:12:56.214554Z",
     "shell.execute_reply": "2022-04-10T12:12:56.214554Z"
    },
    "papermill": {
     "duration": 0.874839,
     "end_time": "2022-04-10T12:12:56.216514",
     "exception": false,
     "start_time": "2022-04-10T12:12:55.341675",
     "status": "completed"
    },
    "tags": []
   },
   "outputs": [],
   "source": [
    "from pathlib import Path\n",
    "from dotenv import load_dotenv, find_dotenv\n",
    "from google.cloud import bigquery\n",
    "import pandas as pd\n",
    "import datetime\n",
    "from tqdm import tqdm\n",
    "import re\n",
    "import collections\n",
    "import json\n",
    "\n",
    "import os\n",
    "import sys\n",
    "import warnings\n",
    "from src import utils\n",
    "\n",
    "# import numpy as np\n",
    "# import altair as alt\n",
    "# from altair import datum\n",
    "# alt.data_transformers.disable_max_rows()\n",
    "# alt.themes.enable('fivethirtyeight')\n",
    "\n",
    "warnings.filterwarnings('ignore')"
   ]
  },
  {
   "cell_type": "code",
   "execution_count": 4,
   "id": "2b4a028a",
   "metadata": {
    "execution": {
     "iopub.execute_input": "2022-04-10T12:12:56.238455Z",
     "iopub.status.busy": "2022-04-10T12:12:56.237462Z",
     "iopub.status.idle": "2022-04-10T12:12:56.263390Z",
     "shell.execute_reply": "2022-04-10T12:12:56.262427Z"
    },
    "papermill": {
     "duration": 0.037888,
     "end_time": "2022-04-10T12:12:56.264386",
     "exception": false,
     "start_time": "2022-04-10T12:12:56.226498",
     "status": "completed"
    },
    "tags": []
   },
   "outputs": [
    {
     "data": {
      "text/plain": [
       "True"
      ]
     },
     "execution_count": 4,
     "metadata": {},
     "output_type": "execute_result"
    }
   ],
   "source": [
    "load_dotenv(find_dotenv('market_watch.env'))"
   ]
  },
  {
   "cell_type": "code",
   "execution_count": 5,
   "id": "aa6dec11",
   "metadata": {
    "execution": {
     "iopub.execute_input": "2022-04-10T12:12:56.285357Z",
     "iopub.status.busy": "2022-04-10T12:12:56.285357Z",
     "iopub.status.idle": "2022-04-10T12:12:56.294347Z",
     "shell.execute_reply": "2022-04-10T12:12:56.294347Z"
    },
    "papermill": {
     "duration": 0.021907,
     "end_time": "2022-04-10T12:12:56.296301",
     "exception": false,
     "start_time": "2022-04-10T12:12:56.274394",
     "status": "completed"
    },
    "tags": []
   },
   "outputs": [
    {
     "name": "stdout",
     "output_type": "stream",
     "text": [
      "C:\\Users\\mattd\\.virtualenvs\\market_watch-vmCw7pNT\\Scripts\\python.exe\n",
      "C:\\Users\\mattd\\.virtualenvs\\market_watch-vmCw7pNT\\.ssh\\capstone-market-watch-483ab9f304dd.json\n"
     ]
    }
   ],
   "source": [
    "print(sys.executable)\n",
    "api_key_file = os.environ['GOOGLE_APPLICATION_CREDENTIALS']\n",
    "print(api_key_file)"
   ]
  },
  {
   "cell_type": "code",
   "execution_count": 6,
   "id": "5b5c9000",
   "metadata": {
    "execution": {
     "iopub.execute_input": "2022-04-10T12:12:56.317246Z",
     "iopub.status.busy": "2022-04-10T12:12:56.317246Z",
     "iopub.status.idle": "2022-04-10T12:12:56.325259Z",
     "shell.execute_reply": "2022-04-10T12:12:56.325259Z"
    },
    "papermill": {
     "duration": 0.020978,
     "end_time": "2022-04-10T12:12:56.327252",
     "exception": false,
     "start_time": "2022-04-10T12:12:56.306274",
     "status": "completed"
    },
    "tags": []
   },
   "outputs": [],
   "source": [
    "def build_gdelt_query(table_name, search_term, start_date):\n",
    "    query_string = f\"\"\"\n",
    "        SELECT\n",
    "          GKGRECORDID,\n",
    "          DATE,\n",
    "          SourceCollectionIdentifier,\n",
    "          DocumentIdentifier,\n",
    "          V2Locations AS Locations,\n",
    "          V2Persons AS Persons,\n",
    "          V2Organizations AS Organizations,\n",
    "          V2Tone AS Tone\n",
    "        FROM\n",
    "          {table_name}\n",
    "        WHERE\n",
    "          LOWER(Organizations) LIKE \"%{search_term}%\"\n",
    "          AND DATE > {start_date}\n",
    "    \"\"\"\n",
    "    return query_string"
   ]
  },
  {
   "cell_type": "code",
   "execution_count": 7,
   "id": "b779f455",
   "metadata": {
    "execution": {
     "iopub.execute_input": "2022-04-10T12:12:56.349198Z",
     "iopub.status.busy": "2022-04-10T12:12:56.349198Z",
     "iopub.status.idle": "2022-04-10T12:12:56.358150Z",
     "shell.execute_reply": "2022-04-10T12:12:56.357172Z"
    },
    "papermill": {
     "duration": 0.021976,
     "end_time": "2022-04-10T12:12:56.359167",
     "exception": false,
     "start_time": "2022-04-10T12:12:56.337191",
     "status": "completed"
    },
    "tags": []
   },
   "outputs": [],
   "source": [
    "def build_gdelt_query_for_counter(table_name, start_date, end_date):\n",
    "    query_string= f'''\n",
    "        Select\n",
    "            V2Organizations As Organizations\n",
    "        From\n",
    "            {table_name}\n",
    "        Where\n",
    "            date between {start_date} and {end_date}\n",
    "    '''\n",
    "    return query_string"
   ]
  },
  {
   "cell_type": "code",
   "execution_count": 8,
   "id": "8bbff10d",
   "metadata": {
    "execution": {
     "iopub.execute_input": "2022-04-10T12:12:56.385067Z",
     "iopub.status.busy": "2022-04-10T12:12:56.385067Z",
     "iopub.status.idle": "2022-04-10T12:12:56.406009Z",
     "shell.execute_reply": "2022-04-10T12:12:56.405044Z"
    },
    "papermill": {
     "duration": 0.037868,
     "end_time": "2022-04-10T12:12:56.407009",
     "exception": false,
     "start_time": "2022-04-10T12:12:56.369141",
     "status": "completed"
    },
    "tags": []
   },
   "outputs": [],
   "source": [
    "def fetch_data(bqclient, query_string):\n",
    "    df = (\n",
    "        bqclient.query(query_string)\n",
    "            .result()\n",
    "            .to_dataframe(\n",
    "            # Optionally, explicitly request to use the BigQuery Storage API. As of\n",
    "            # google-cloud-bigquery version 1.26.0 and above, the BigQuery Storage\n",
    "            # API is used by default.\n",
    "            create_bqstorage_client=True,\n",
    "        )\n",
    "    )\n",
    "    return df"
   ]
  },
  {
   "cell_type": "code",
   "execution_count": 9,
   "id": "5b6e2144",
   "metadata": {
    "execution": {
     "iopub.execute_input": "2022-04-10T12:12:56.429948Z",
     "iopub.status.busy": "2022-04-10T12:12:56.428947Z",
     "iopub.status.idle": "2022-04-10T12:12:56.436952Z",
     "shell.execute_reply": "2022-04-10T12:12:56.436952Z"
    },
    "papermill": {
     "duration": 0.021937,
     "end_time": "2022-04-10T12:12:56.438950",
     "exception": false,
     "start_time": "2022-04-10T12:12:56.417013",
     "status": "completed"
    },
    "tags": []
   },
   "outputs": [],
   "source": [
    "rolling_window = query_params[\"rolling_window\"]\n",
    "table_name = query_params[\"bq_table_name\"]\n",
    "search_term = query_params[\"search_term\"]\n",
    "file_path = product[\"data\"] + 'gdelt_gkg_bqdata-raw.csv'\n",
    "# file_path2= product[\"data\"] + 'gdelt_gkg_bqdata-counter.csv'\n",
    "start_date = utils.get_start_date(rolling_window)\n",
    "start_date = utils.gdelt_date_format(start_date)\n",
    "query = build_gdelt_query(table_name, search_term, start_date)\n",
    "# counter_query= build_gdelt_query_for_counter(table_name, start_date)\n",
    "# print(query)"
   ]
  },
  {
   "cell_type": "code",
   "execution_count": 10,
   "id": "16e4b788",
   "metadata": {
    "execution": {
     "iopub.execute_input": "2022-04-10T12:12:56.462894Z",
     "iopub.status.busy": "2022-04-10T12:12:56.461874Z",
     "iopub.status.idle": "2022-04-10T12:13:03.690954Z",
     "shell.execute_reply": "2022-04-10T12:13:03.689983Z"
    },
    "papermill": {
     "duration": 7.242052,
     "end_time": "2022-04-10T12:13:03.691942",
     "exception": false,
     "start_time": "2022-04-10T12:12:56.449890",
     "status": "completed"
    },
    "tags": []
   },
   "outputs": [
    {
     "name": "stdout",
     "output_type": "stream",
     "text": [
      "Processed merged file with 7310 records\n"
     ]
    }
   ],
   "source": [
    "client = bigquery.Client()\n",
    "data_df = fetch_data(client, query)\n",
    "print(f\"Processed merged file with {len(data_df)} records\")"
   ]
  },
  {
   "cell_type": "code",
   "execution_count": 11,
   "id": "eec47d60",
   "metadata": {
    "execution": {
     "iopub.execute_input": "2022-04-10T12:13:03.714880Z",
     "iopub.status.busy": "2022-04-10T12:13:03.713883Z",
     "iopub.status.idle": "2022-04-10T12:13:03.897393Z",
     "shell.execute_reply": "2022-04-10T12:13:03.896432Z"
    },
    "papermill": {
     "duration": 0.195511,
     "end_time": "2022-04-10T12:13:03.898423",
     "exception": false,
     "start_time": "2022-04-10T12:13:03.702912",
     "status": "completed"
    },
    "tags": []
   },
   "outputs": [
    {
     "name": "stdout",
     "output_type": "stream",
     "text": [
      "Saved file C:\\Users\\mattd\\OneDrive\\Masters\\SIADS-697 Capstone Project III\\market_watch2\\output\\data\\rawgdelt_gkg_bqdata-raw.csv\n"
     ]
    }
   ],
   "source": [
    "# Save records\n",
    "Path(file_path).parent.mkdir(exist_ok=True, parents=True)\n",
    "data_df.to_csv(file_path)\n",
    "print(f\"Saved file {file_path}\")\n",
    "del data_df"
   ]
  },
  {
   "cell_type": "code",
   "execution_count": 12,
   "id": "181175d0",
   "metadata": {
    "execution": {
     "iopub.execute_input": "2022-04-10T12:13:03.922340Z",
     "iopub.status.busy": "2022-04-10T12:13:03.922340Z",
     "iopub.status.idle": "2022-04-10T12:13:03.944266Z",
     "shell.execute_reply": "2022-04-10T12:13:03.943270Z"
    },
    "papermill": {
     "duration": 0.036893,
     "end_time": "2022-04-10T12:13:03.946265",
     "exception": false,
     "start_time": "2022-04-10T12:13:03.909372",
     "status": "completed"
    },
    "tags": []
   },
   "outputs": [],
   "source": [
    "def create_increments(start_date):\n",
    "    dt= pd.to_datetime(start_date)\n",
    "    range_= pd.date_range(dt, end= datetime.date.today(), freq='2D')\n",
    "    string_range= []\n",
    "    for date in range_:\n",
    "        # print(date)\n",
    "        string_range.append(utils.gdelt_date_format(date))\n",
    "        # string_range.append(f'{date.year}{date.month}{date.day}000000')\n",
    "    end_range= string_range[1:]\n",
    "    date_range= zip(string_range, end_range)\n",
    "    return list(date_range)\n",
    "\n",
    "def get_rel_company_names(path):\n",
    "    rel_company = pd.read_csv(path)\n",
    "    rel_company = rel_company['Name']\n",
    "    rel_company = rel_company.str.lower()\n",
    "    rel_company = rel_company[rel_company.str.contains('common|ordinary', regex=True)]\n",
    "    rel_company = rel_company.str.split('(corp|ltd|inc|corporation|limited|incorporation|incorporated)',regex=True)\n",
    "    rel_company = rel_company.map(lambda x: ''.join(x[:2]))\n",
    "    expand_rel_company = {}\n",
    "    # stop_words= ['unit', 'common', 'class', 'warrants', 'warrant', 'depository']\n",
    "    for company in rel_company:\n",
    "        # company = company.lower()\n",
    "        company_name_list = []\n",
    "        company_name_list.append(company)\n",
    "        if 'inc' in company_name_list[0]:\n",
    "            company_name_list.append(company_name_list[0] + 'orporation')\n",
    "            company_name_list.append(company_name_list[0] + 'orporated')\n",
    "        elif 'corp' in company_name_list[0]:\n",
    "            company_name_list.append(company_name_list[0] + 'oration')\n",
    "        elif 'ltd' in company_name_list[0]:\n",
    "            w_name= company_name_list[0].split('ltd')[0]\n",
    "            company_name_list.append(w_name + 'limited ')\n",
    "            company_name_list.append(w_name + 'limited company')\n",
    "        elif 'corporation' in company_name_list[0]:\n",
    "            w_name= company_name_list[0].split('corporation')[0]\n",
    "            company_name_list.append(w_name + 'corp')\n",
    "        words = company.split(' ')\n",
    "        for n in range(1, len(words)):\n",
    "            if words[0:n] not in company_name_list:\n",
    "                company_name_list.append(' '.join(words[0:n]))\n",
    "        expand_rel_company.update({company: company_name_list})\n",
    "    return expand_rel_company\n"
   ]
  },
  {
   "cell_type": "code",
   "execution_count": 13,
   "id": "a6d58485",
   "metadata": {
    "execution": {
     "iopub.execute_input": "2022-04-10T12:13:03.974190Z",
     "iopub.status.busy": "2022-04-10T12:13:03.974190Z",
     "iopub.status.idle": "2022-04-10T12:13:03.991142Z",
     "shell.execute_reply": "2022-04-10T12:13:03.991142Z"
    },
    "papermill": {
     "duration": 0.034945,
     "end_time": "2022-04-10T12:13:03.993176",
     "exception": false,
     "start_time": "2022-04-10T12:13:03.958231",
     "status": "completed"
    },
    "tags": []
   },
   "outputs": [],
   "source": [
    "# exchanges_path= query_params['exchanges_path']\n",
    "# exchanges_dict= get_rel_company_names(exchanges_path)\n",
    "# exchanges_dict"
   ]
  },
  {
   "cell_type": "code",
   "execution_count": 14,
   "id": "19e29b46",
   "metadata": {
    "execution": {
     "iopub.execute_input": "2022-04-10T12:13:04.016078Z",
     "iopub.status.busy": "2022-04-10T12:13:04.016078Z"
    },
    "lines_to_end_of_cell_marker": 2,
    "lines_to_next_cell": 2,
    "papermill": {
     "duration": null,
     "end_time": null,
     "exception": false,
     "start_time": "2022-04-10T12:13:04.004141",
     "status": "running"
    },
    "tags": []
   },
   "outputs": [
    {
     "name": "stderr",
     "output_type": "stream",
     "text": [
      "\r",
      "  0%|                                                                                                                                                           | 0/44 [00:00<?, ?it/s]"
     ]
    },
    {
     "name": "stdout",
     "output_type": "stream",
     "text": [
      "Size:  693166\n"
     ]
    },
    {
     "name": "stderr",
     "output_type": "stream",
     "text": [
      "\r",
      "  2%|███▎                                                                                                                                            | 1/44 [13:54<9:58:09, 834.64s/it]"
     ]
    },
    {
     "name": "stdout",
     "output_type": "stream",
     "text": [
      "Size:  725528\n"
     ]
    },
    {
     "name": "stderr",
     "output_type": "stream",
     "text": [
      "\r",
      "  5%|██████▌                                                                                                                                        | 2/44 [28:54<10:11:03, 872.95s/it]"
     ]
    },
    {
     "name": "stdout",
     "output_type": "stream",
     "text": [
      "Size:  491671\n"
     ]
    },
    {
     "name": "stderr",
     "output_type": "stream",
     "text": [
      "\r",
      "  7%|█████████▊                                                                                                                                      | 3/44 [40:03<8:52:54, 779.87s/it]"
     ]
    },
    {
     "name": "stdout",
     "output_type": "stream",
     "text": [
      "Size:  562753\n"
     ]
    },
    {
     "name": "stderr",
     "output_type": "stream",
     "text": [
      "\r",
      "  9%|█████████████                                                                                                                                   | 4/44 [52:34<8:32:16, 768.41s/it]"
     ]
    }
   ],
   "source": [
    "%%time\n",
    "# C:\\\\Users\\\\mattd\\\\OneDrive\\\\Masters\\\\SIADS-697 Capstone Project III\\\\market_watch2\\\\data\\\\external\\\\\n",
    "\n",
    "# sp_500= query_params['sp500_path'] + 'sp500_list.xlsx'\n",
    "# sp500_dict= get_rel_company_names(sp_500)\n",
    "exchanges_path= query_params['exchanges_path']\n",
    "exchanges_dict= get_rel_company_names(exchanges_path)\n",
    "\n",
    "def fetch_counter_data(bqclient, table_name, start, sp500_dict):\n",
    "    word_list= []\n",
    "    date_range= create_increments(start)\n",
    "    sp500_names= [val for list_ in sp500_dict.values() for val in list_]\n",
    "    if len(date_range) == 0:\n",
    "        end_date= utils.gdelt_date_format(datetime.date.today())\n",
    "        # end_date= '20220330153000'\n",
    "        date_range= [(start, end_date)]\n",
    "    for start_dates, end_date in tqdm(date_range):\n",
    "\n",
    "        query_string= build_gdelt_query_for_counter(table_name, start_dates, end_date)\n",
    "        text = (\n",
    "            bqclient.query(query_string)\n",
    "                .result()\n",
    "                .to_dataframe(\n",
    "                # Optionally, explicitly request to use the BigQuery Storage API. As of\n",
    "                # google-cloud-bigquery version 1.26.0 and above, the BigQuery Storage\n",
    "                # API is used by default.\n",
    "                create_bqstorage_client=True,\n",
    "                ))\n",
    "        print('Size: ', len(text))\n",
    "        # print('Query: ', datetime.datetime.now())\n",
    "        # text= re.sub('\\\\n\\d+' , ' ', series.to_string())\n",
    "        text= text.replace('Organizations', '', limit= 1)\n",
    "        text.dropna(inplace=True)\n",
    "        text= text['Organizations'].map(lambda x: re.sub('\\s{2,}', '', x))\n",
    "        text= text.str.lower()\n",
    "        text= text.map(lambda x: re.split(',\\d+;?', x))\n",
    "        # print('Mapping: ', datetime.datetime.now())\n",
    "        \n",
    "        sp_count=0\n",
    "        for n, item in text.iteritems():\n",
    "            for word in item:\n",
    "                if word in sp500_names:\n",
    "                    for key, names_list in sp500_dict.items():\n",
    "                        if word in names_list:\n",
    "                            word_list.append(key)\n",
    "                            sp_count+=1\n",
    "                else:\n",
    "                    word_list.append(word)\n",
    "    result= collections.Counter(word_list)\n",
    "    result= {k:v for k,v in sorted(result.items(), key= lambda x: x[1], reverse=True)}\n",
    "    print(sp_count)\n",
    "    \n",
    "    return result\n",
    "\n",
    "counts= fetch_counter_data(client, table_name, start_date, exchanges_dict)"
   ]
  },
  {
   "cell_type": "code",
   "execution_count": null,
   "id": "653487d0",
   "metadata": {
    "papermill": {
     "duration": null,
     "end_time": null,
     "exception": null,
     "start_time": null,
     "status": "pending"
    },
    "tags": []
   },
   "outputs": [],
   "source": [
    "with open(product['data'] + '\\\\org_totals.txt', 'w') as convert_file:\n",
    "     convert_file.write(json.dumps(counts))"
   ]
  },
  {
   "cell_type": "code",
   "execution_count": null,
   "id": "74681053",
   "metadata": {
    "papermill": {
     "duration": null,
     "end_time": null,
     "exception": null,
     "start_time": null,
     "status": "pending"
    },
    "tags": []
   },
   "outputs": [],
   "source": [
    "# start_date, end_date= ('20220101231500', '20220101233000')\n",
    "# query_string= build_gdelt_query_for_counter(table_name, start_date, end_date)\n",
    "# text= (\n",
    "#             client.query(query_string)\n",
    "#                 .result()\n",
    "#                 .to_dataframe(\n",
    "#                 # Optionally, explicitly request to use the BigQuery Storage API. As of\n",
    "#                 # google-cloud-bigquery version 1.26.0 and above, the BigQuery Storage\n",
    "#                 # API is used by default.\n",
    "#                 create_bqstorage_client=True,\n",
    "#                 ))"
   ]
  },
  {
   "cell_type": "code",
   "execution_count": null,
   "id": "9f7d3994",
   "metadata": {
    "lines_to_next_cell": 2,
    "papermill": {
     "duration": null,
     "end_time": null,
     "exception": null,
     "start_time": null,
     "status": "pending"
    },
    "tags": []
   },
   "outputs": [],
   "source": [
    "# x= text.copy().replace('Organizations', '', limit= 1)\n",
    "# x= x.dropna()\n",
    "# x= x['Organizations'].map(lambda x: re.sub('\\s{2,}', '', x))\n",
    "# x=x.map(lambda x: re.split(',\\d+;?', x))"
   ]
  },
  {
   "cell_type": "code",
   "execution_count": null,
   "id": "c12787a4",
   "metadata": {
    "papermill": {
     "duration": null,
     "end_time": null,
     "exception": null,
     "start_time": null,
     "status": "pending"
    },
    "tags": []
   },
   "outputs": [],
   "source": [
    "# with open(product['data'] + '\\\\org_totals.txt', 'w') as convert_file:\n",
    "#      convert_file.write(json.dumps({'a':'b'}))"
   ]
  }
 ],
 "metadata": {
  "jupytext": {
   "cell_metadata_filter": "tags,-all",
   "main_language": "python",
   "notebook_metadata_filter": "-all",
   "text_representation": {
    "extension": ".py",
    "format_name": "light"
   }
  },
  "kernelspec": {
   "display_name": "Python 3 (ipykernel)",
   "language": "python",
   "name": "python3"
  },
  "papermill": {
   "duration": null,
   "end_time": null,
   "exception": null,
   "input_path": "C:\\Users\\mattd\\AppData\\Local\\Temp\\tmpvv7gh6c1.ipynb",
   "output_path": "C:\\Users\\mattd\\OneDrive\\Masters\\SIADS-697 Capstone Project III\\market_watch2\\output\\notebooks\\fetch_n_filter_gdelt_bq.ipynb",
   "parameters": {
    "product": {
     "data": "C:\\Users\\mattd\\OneDrive\\Masters\\SIADS-697 Capstone Project III\\market_watch2\\output\\data\\raw",
     "nb": "C:\\Users\\mattd\\OneDrive\\Masters\\SIADS-697 Capstone Project III\\market_watch2\\output\\notebooks\\fetch_n_filter_gdelt_bq.ipynb"
    },
    "query_params": {
     "bq_table_name": "`gdelt-bq.gdeltv2.gkg`",
     "exchanges_path": "data/external/nasdaq_nyse_amex.csv",
     "rolling_window": 90,
     "search_term": "tesla",
     "sp500_path": "data/external/"
    }
   },
   "start_time": "2022-04-10T12:12:53.441969"
  }
 },
 "nbformat": 4,
 "nbformat_minor": 5
}