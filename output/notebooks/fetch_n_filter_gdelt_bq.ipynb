{
 "cells": [
  {
   "cell_type": "code",
   "execution_count": 1,
   "id": "add12629",
   "metadata": {
    "execution": {
     "iopub.execute_input": "2022-03-22T20:40:19.049008Z",
     "iopub.status.busy": "2022-03-22T20:40:19.048721Z",
     "iopub.status.idle": "2022-03-22T20:40:19.057614Z",
     "shell.execute_reply": "2022-03-22T20:40:19.057002Z"
    },
    "papermill": {
     "duration": 0.024462,
     "end_time": "2022-03-22T20:40:19.059624",
     "exception": false,
     "start_time": "2022-03-22T20:40:19.035162",
     "status": "completed"
    },
    "tags": [
     "parameters"
    ]
   },
   "outputs": [],
   "source": [
    "# declare a list tasks whose products you want to use as inputs\n",
    "upstream = None"
   ]
  },
  {
   "cell_type": "code",
   "execution_count": 2,
   "id": "424a841a",
   "metadata": {
    "execution": {
     "iopub.execute_input": "2022-03-22T20:40:19.077167Z",
     "iopub.status.busy": "2022-03-22T20:40:19.076912Z",
     "iopub.status.idle": "2022-03-22T20:40:19.080338Z",
     "shell.execute_reply": "2022-03-22T20:40:19.079817Z"
    },
    "papermill": {
     "duration": 0.013891,
     "end_time": "2022-03-22T20:40:19.082034",
     "exception": false,
     "start_time": "2022-03-22T20:40:19.068143",
     "status": "completed"
    },
    "tags": [
     "injected-parameters"
    ]
   },
   "outputs": [],
   "source": [
    "# Parameters\n",
    "query_params = {\n",
    "    \"rolling_window\": 90,\n",
    "    \"search_term\": \"tesla\",\n",
    "    \"bq_table_name\": \"`gdelt-bq.gdeltv2.gkg`\",\n",
    "}\n",
    "product = {\n",
    "    \"nb\": \"/Users/aiujdm2/market_watch/output/notebooks/fetch_n_filter_gdelt_bq.ipynb\",\n",
    "    \"data\": \"/Users/aiujdm2/market_watch/output/data/raw/gdelt-gkg-bq.csv\",\n",
    "}\n"
   ]
  },
  {
   "cell_type": "code",
   "execution_count": 3,
   "id": "4b1c4dc7",
   "metadata": {
    "execution": {
     "iopub.execute_input": "2022-03-22T20:40:19.097854Z",
     "iopub.status.busy": "2022-03-22T20:40:19.097644Z",
     "iopub.status.idle": "2022-03-22T20:40:19.746983Z",
     "shell.execute_reply": "2022-03-22T20:40:19.746226Z"
    },
    "papermill": {
     "duration": 0.659528,
     "end_time": "2022-03-22T20:40:19.749143",
     "exception": false,
     "start_time": "2022-03-22T20:40:19.089615",
     "status": "completed"
    },
    "tags": []
   },
   "outputs": [],
   "source": [
    "from pathlib import Path\n",
    "from dotenv import load_dotenv, find_dotenv\n",
    "from datetime import datetime, timedelta\n",
    "from google.cloud import bigquery\n",
    "\n",
    "import pandas as pd\n",
    "import os\n",
    "import sys\n",
    "import warnings\n",
    "\n",
    "# import numpy as np\n",
    "# import altair as alt\n",
    "# from altair import datum\n",
    "# alt.data_transformers.disable_max_rows()\n",
    "# alt.themes.enable('fivethirtyeight')\n",
    "\n",
    "ret_value = load_dotenv(find_dotenv('market_watch.env'))\n",
    "warnings.filterwarnings('ignore')"
   ]
  },
  {
   "cell_type": "code",
   "execution_count": 4,
   "id": "49af4005",
   "metadata": {
    "execution": {
     "iopub.execute_input": "2022-03-22T20:40:19.766543Z",
     "iopub.status.busy": "2022-03-22T20:40:19.766317Z",
     "iopub.status.idle": "2022-03-22T20:40:19.770009Z",
     "shell.execute_reply": "2022-03-22T20:40:19.769449Z"
    },
    "papermill": {
     "duration": 0.014706,
     "end_time": "2022-03-22T20:40:19.772219",
     "exception": false,
     "start_time": "2022-03-22T20:40:19.757513",
     "status": "completed"
    },
    "tags": []
   },
   "outputs": [
    {
     "name": "stdout",
     "output_type": "stream",
     "text": [
      "/Users/aiujdm2/.local/share/virtualenvs/market_watch-dtlP-L11/bin/python\n",
      "/Users/aiujdm2/.ssh/vgaurav-4d0e95d3663a.json\n"
     ]
    }
   ],
   "source": [
    "print(sys.executable)\n",
    "api_key_file = os.environ['GOOGLE_APPLICATION_CREDENTIALS']\n",
    "print(api_key_file)"
   ]
  },
  {
   "cell_type": "code",
   "execution_count": 5,
   "id": "05486293",
   "metadata": {
    "execution": {
     "iopub.execute_input": "2022-03-22T20:40:19.789510Z",
     "iopub.status.busy": "2022-03-22T20:40:19.789284Z",
     "iopub.status.idle": "2022-03-22T20:40:19.793112Z",
     "shell.execute_reply": "2022-03-22T20:40:19.792570Z"
    },
    "papermill": {
     "duration": 0.014555,
     "end_time": "2022-03-22T20:40:19.794900",
     "exception": false,
     "start_time": "2022-03-22T20:40:19.780345",
     "status": "completed"
    },
    "tags": []
   },
   "outputs": [],
   "source": [
    "def get_start_date(window):\n",
    "    # get today's UTC datetime\n",
    "    today = datetime.utcnow()\n",
    "    # round datetime to nearest 15min slot\n",
    "    pd_ts = pd.Timestamp(today)\n",
    "    today_ts = pd_ts.round('15T')\n",
    "    # how far back we want to go?\n",
    "    how_far_back = timedelta(days=window)\n",
    "    start_date = today_ts - how_far_back\n",
    "    \n",
    "    return start_date.strftime(\"%Y%m%d%H%M00\")"
   ]
  },
  {
   "cell_type": "code",
   "execution_count": 6,
   "id": "00356a4e",
   "metadata": {
    "execution": {
     "iopub.execute_input": "2022-03-22T20:40:19.810062Z",
     "iopub.status.busy": "2022-03-22T20:40:19.809879Z",
     "iopub.status.idle": "2022-03-22T20:40:19.813161Z",
     "shell.execute_reply": "2022-03-22T20:40:19.812733Z"
    },
    "papermill": {
     "duration": 0.012312,
     "end_time": "2022-03-22T20:40:19.814833",
     "exception": false,
     "start_time": "2022-03-22T20:40:19.802521",
     "status": "completed"
    },
    "tags": []
   },
   "outputs": [],
   "source": [
    "def build_gdelt_query(table_name, search_term, start_date):\n",
    "\n",
    "    query_string = f\"\"\"\n",
    "        SELECT\n",
    "          GKGRECORDID,\n",
    "          DATE,\n",
    "          SourceCollectionIdentifier,\n",
    "          DocumentIdentifier,\n",
    "          V2Locations AS Locations,\n",
    "          V2Persons AS Persons,\n",
    "          V2Organizations AS Organizations,\n",
    "          V2Tone AS Tone\n",
    "        FROM\n",
    "          {table_name}\n",
    "        WHERE\n",
    "          LOWER(Organizations) LIKE \"%{search_term}%\"\n",
    "          AND DATE > {start_date}\n",
    "    \"\"\"\n",
    "    return query_string"
   ]
  },
  {
   "cell_type": "code",
   "execution_count": 7,
   "id": "ac673e5d",
   "metadata": {
    "execution": {
     "iopub.execute_input": "2022-03-22T20:40:19.827942Z",
     "iopub.status.busy": "2022-03-22T20:40:19.827759Z",
     "iopub.status.idle": "2022-03-22T20:40:19.830747Z",
     "shell.execute_reply": "2022-03-22T20:40:19.830182Z"
    },
    "papermill": {
     "duration": 0.011206,
     "end_time": "2022-03-22T20:40:19.832281",
     "exception": false,
     "start_time": "2022-03-22T20:40:19.821075",
     "status": "completed"
    },
    "tags": []
   },
   "outputs": [],
   "source": [
    "def fetch_data(bqclient, query_string):\n",
    "    df = (\n",
    "        bqclient.query(query_string)\n",
    "        .result()\n",
    "        .to_dataframe(\n",
    "            # Optionally, explicitly request to use the BigQuery Storage API. As of\n",
    "            # google-cloud-bigquery version 1.26.0 and above, the BigQuery Storage\n",
    "            # API is used by default.\n",
    "            create_bqstorage_client=True,\n",
    "        )\n",
    "    )\n",
    "    return df"
   ]
  },
  {
   "cell_type": "code",
   "execution_count": 8,
   "id": "1ab26a3c",
   "metadata": {
    "execution": {
     "iopub.execute_input": "2022-03-22T20:40:19.845486Z",
     "iopub.status.busy": "2022-03-22T20:40:19.845304Z",
     "iopub.status.idle": "2022-03-22T20:40:19.858028Z",
     "shell.execute_reply": "2022-03-22T20:40:19.857420Z"
    },
    "papermill": {
     "duration": 0.021216,
     "end_time": "2022-03-22T20:40:19.859613",
     "exception": false,
     "start_time": "2022-03-22T20:40:19.838397",
     "status": "completed"
    },
    "tags": []
   },
   "outputs": [
    {
     "name": "stdout",
     "output_type": "stream",
     "text": [
      "\n",
      "        SELECT\n",
      "          GKGRECORDID,\n",
      "          DATE,\n",
      "          SourceCollectionIdentifier,\n",
      "          DocumentIdentifier,\n",
      "          V2Locations AS Locations,\n",
      "          V2Persons AS Persons,\n",
      "          V2Organizations AS Organizations,\n",
      "          V2Tone AS Tone\n",
      "        FROM\n",
      "          `gdelt-bq.gdeltv2.gkg`\n",
      "        WHERE\n",
      "          LOWER(Organizations) LIKE \"%tesla%\"\n",
      "          AND DATE > 20211222204500\n",
      "    \n"
     ]
    }
   ],
   "source": [
    "rolling_window = query_params[\"rolling_window\"]\n",
    "table_name = query_params[\"bq_table_name\"]\n",
    "search_term = query_params[\"search_term\"]\n",
    "file_path = product[\"data\"]\n",
    "start_date = get_start_date(rolling_window)\n",
    "query = build_gdelt_query(table_name, search_term, start_date)\n",
    "print(query)"
   ]
  },
  {
   "cell_type": "code",
   "execution_count": 9,
   "id": "c1dbc8e0",
   "metadata": {
    "execution": {
     "iopub.execute_input": "2022-03-22T20:40:19.875643Z",
     "iopub.status.busy": "2022-03-22T20:40:19.875489Z",
     "iopub.status.idle": "2022-03-22T20:40:26.862627Z",
     "shell.execute_reply": "2022-03-22T20:40:26.862056Z"
    },
    "lines_to_next_cell": 2,
    "papermill": {
     "duration": 6.996591,
     "end_time": "2022-03-22T20:40:26.864466",
     "exception": false,
     "start_time": "2022-03-22T20:40:19.867875",
     "status": "completed"
    },
    "tags": []
   },
   "outputs": [
    {
     "name": "stdout",
     "output_type": "stream",
     "text": [
      "Processed merged file with 7262 records\n"
     ]
    }
   ],
   "source": [
    "client = bigquery.Client()\n",
    "data_df = fetch_data(client, query)\n",
    "print(f\"Processed merged file with {len(data_df)} records\")"
   ]
  },
  {
   "cell_type": "code",
   "execution_count": 10,
   "id": "0796274c",
   "metadata": {
    "execution": {
     "iopub.execute_input": "2022-03-22T20:40:26.884641Z",
     "iopub.status.busy": "2022-03-22T20:40:26.884420Z",
     "iopub.status.idle": "2022-03-22T20:40:27.076073Z",
     "shell.execute_reply": "2022-03-22T20:40:27.075645Z"
    },
    "papermill": {
     "duration": 0.203427,
     "end_time": "2022-03-22T20:40:27.077573",
     "exception": false,
     "start_time": "2022-03-22T20:40:26.874146",
     "status": "completed"
    },
    "tags": []
   },
   "outputs": [
    {
     "name": "stdout",
     "output_type": "stream",
     "text": [
      "Saved file /Users/aiujdm2/market_watch/output/data/raw/gdelt-gkg-bq.csv\n"
     ]
    }
   ],
   "source": [
    "# Save records\n",
    "Path(file_path).parent.mkdir(exist_ok=True, parents=True)\n",
    "data_df.to_csv(file_path)\n",
    "print(f\"Saved file {file_path}\")"
   ]
  },
  {
   "cell_type": "code",
   "execution_count": null,
   "id": "219f09ef",
   "metadata": {
    "papermill": {
     "duration": 0.007338,
     "end_time": "2022-03-22T20:40:27.092410",
     "exception": false,
     "start_time": "2022-03-22T20:40:27.085072",
     "status": "completed"
    },
    "tags": []
   },
   "outputs": [],
   "source": []
  }
 ],
 "metadata": {
  "jupytext": {
   "cell_metadata_filter": "tags,-all",
   "main_language": "python",
   "notebook_metadata_filter": "-all",
   "text_representation": {
    "extension": ".py",
    "format_name": "light"
   }
  },
  "kernelspec": {
   "display_name": "Python 3 (ipykernel)",
   "language": "python",
   "name": "python3"
  },
  "language_info": {
   "codemirror_mode": {
    "name": "ipython",
    "version": 3
   },
   "file_extension": ".py",
   "mimetype": "text/x-python",
   "name": "python",
   "nbconvert_exporter": "python",
   "pygments_lexer": "ipython3",
   "version": "3.9.10"
  },
  "papermill": {
   "duration": 9.333902,
   "end_time": "2022-03-22T20:40:27.422043",
   "exception": null,
   "input_path": "/var/folders/b0/4tc1nfbd6z7_vhx4nxcj2n91c0l9h6/T/tmp3mfrr8w_.ipynb",
   "output_path": "/Users/aiujdm2/market_watch/output/notebooks/fetch_n_filter_gdelt_bq.ipynb",
   "parameters": {
    "product": {
     "data": "/Users/aiujdm2/market_watch/output/data/raw/gdelt-gkg-bq.csv",
     "nb": "/Users/aiujdm2/market_watch/output/notebooks/fetch_n_filter_gdelt_bq.ipynb"
    },
    "query_params": {
     "bq_table_name": "`gdelt-bq.gdeltv2.gkg`",
     "rolling_window": 90,
     "search_term": "tesla"
    }
   },
   "start_time": "2022-03-22T20:40:18.088141"
  }
 },
 "nbformat": 4,
 "nbformat_minor": 5
}