{
 "cells": [
  {
   "cell_type": "code",
   "execution_count": 1,
   "id": "f66ed802",
   "metadata": {
    "execution": {
     "iopub.execute_input": "2022-04-19T17:37:25.940151Z",
     "iopub.status.busy": "2022-04-19T17:37:25.938237Z",
     "iopub.status.idle": "2022-04-19T17:37:25.962784Z",
     "shell.execute_reply": "2022-04-19T17:37:25.960898Z"
    },
    "papermill": {
     "duration": 0.044728,
     "end_time": "2022-04-19T17:37:25.966525",
     "exception": false,
     "start_time": "2022-04-19T17:37:25.921797",
     "status": "completed"
    },
    "tags": [
     "parameters"
    ]
   },
   "outputs": [],
   "source": [
    "# declare a list tasks whose products you want to use as inputs\n",
    "upstream = None"
   ]
  },
  {
   "cell_type": "code",
   "execution_count": 2,
   "id": "518bc21f",
   "metadata": {
    "execution": {
     "iopub.execute_input": "2022-04-19T17:37:25.983246Z",
     "iopub.status.busy": "2022-04-19T17:37:25.981556Z",
     "iopub.status.idle": "2022-04-19T17:37:25.991086Z",
     "shell.execute_reply": "2022-04-19T17:37:25.989042Z"
    },
    "papermill": {
     "duration": 0.02123,
     "end_time": "2022-04-19T17:37:25.994447",
     "exception": false,
     "start_time": "2022-04-19T17:37:25.973217",
     "status": "completed"
    },
    "tags": [
     "injected-parameters"
    ]
   },
   "outputs": [],
   "source": [
    "# Parameters\n",
    "query_params = {\n",
    "    \"rolling_window\": 120,\n",
    "    \"search_term\": \"tesla\",\n",
    "    \"bq_table_name\": \"`gdelt-bq.gdeltv2.gkg`\",\n",
    "}\n",
    "product = {\n",
    "    \"nb\": \"/root/market_watch/output/notebooks/fetch_n_filter_gdelt_bq.ipynb\",\n",
    "    \"data\": \"/root/market_watch/output/data/raw/gdelt_gkg_bqdata-raw.csv\",\n",
    "}\n"
   ]
  },
  {
   "cell_type": "code",
   "execution_count": 3,
   "id": "cc38b3dc",
   "metadata": {
    "execution": {
     "iopub.execute_input": "2022-04-19T17:37:26.010048Z",
     "iopub.status.busy": "2022-04-19T17:37:26.008376Z",
     "iopub.status.idle": "2022-04-19T17:37:26.843048Z",
     "shell.execute_reply": "2022-04-19T17:37:26.842424Z"
    },
    "papermill": {
     "duration": 0.844062,
     "end_time": "2022-04-19T17:37:26.844488",
     "exception": false,
     "start_time": "2022-04-19T17:37:26.000426",
     "status": "completed"
    },
    "tags": []
   },
   "outputs": [],
   "source": [
    "from pathlib import Path\n",
    "from dotenv import load_dotenv, find_dotenv\n",
    "from google.cloud import bigquery\n",
    "from tqdm import tqdm\n",
    "from src import utils\n",
    "\n",
    "import re\n",
    "import collections\n",
    "import pandas as pd\n",
    "import datetime\n",
    "import json\n",
    "import os\n",
    "import sys\n",
    "import warnings\n",
    "\n",
    "warnings.filterwarnings('ignore')"
   ]
  },
  {
   "cell_type": "code",
   "execution_count": 4,
   "id": "e333da12",
   "metadata": {
    "execution": {
     "iopub.execute_input": "2022-04-19T17:37:26.850376Z",
     "iopub.status.busy": "2022-04-19T17:37:26.849970Z",
     "iopub.status.idle": "2022-04-19T17:37:26.859069Z",
     "shell.execute_reply": "2022-04-19T17:37:26.858482Z"
    },
    "papermill": {
     "duration": 0.013543,
     "end_time": "2022-04-19T17:37:26.860252",
     "exception": false,
     "start_time": "2022-04-19T17:37:26.846709",
     "status": "completed"
    },
    "tags": []
   },
   "outputs": [
    {
     "data": {
      "text/plain": [
       "True"
      ]
     },
     "execution_count": 4,
     "metadata": {},
     "output_type": "execute_result"
    }
   ],
   "source": [
    "load_dotenv(find_dotenv('market_watch.env'))"
   ]
  },
  {
   "cell_type": "markdown",
   "id": "74539436",
   "metadata": {
    "papermill": {
     "duration": 0.001945,
     "end_time": "2022-04-19T17:37:26.864315",
     "exception": false,
     "start_time": "2022-04-19T17:37:26.862370",
     "status": "completed"
    },
    "tags": []
   },
   "source": [
    "Load Google API key. This will enable us to call GDELT's BigQuery Dataset"
   ]
  },
  {
   "cell_type": "code",
   "execution_count": 5,
   "id": "c73b8025",
   "metadata": {
    "execution": {
     "iopub.execute_input": "2022-04-19T17:37:26.870128Z",
     "iopub.status.busy": "2022-04-19T17:37:26.869332Z",
     "iopub.status.idle": "2022-04-19T17:37:26.873296Z",
     "shell.execute_reply": "2022-04-19T17:37:26.872738Z"
    },
    "papermill": {
     "duration": 0.008008,
     "end_time": "2022-04-19T17:37:26.874552",
     "exception": false,
     "start_time": "2022-04-19T17:37:26.866544",
     "status": "completed"
    },
    "tags": []
   },
   "outputs": [
    {
     "name": "stdout",
     "output_type": "stream",
     "text": [
      "/usr/local/bin/python\n",
      "/root/market_watch/../.ssh/vgaurav-4d0e95d3663a.json\n"
     ]
    }
   ],
   "source": [
    "# debug code to see on which env our executable is running\n",
    "print(sys.executable)\n",
    "api_key_file = os.environ['GOOGLE_APPLICATION_CREDENTIALS']\n",
    "# debug code to see if we have loaded Google API key\n",
    "print(api_key_file)"
   ]
  },
  {
   "cell_type": "code",
   "execution_count": 6,
   "id": "1426b026",
   "metadata": {
    "execution": {
     "iopub.execute_input": "2022-04-19T17:37:26.879889Z",
     "iopub.status.busy": "2022-04-19T17:37:26.879452Z",
     "iopub.status.idle": "2022-04-19T17:37:26.883019Z",
     "shell.execute_reply": "2022-04-19T17:37:26.882291Z"
    },
    "papermill": {
     "duration": 0.007533,
     "end_time": "2022-04-19T17:37:26.884155",
     "exception": false,
     "start_time": "2022-04-19T17:37:26.876622",
     "status": "completed"
    },
    "tags": []
   },
   "outputs": [],
   "source": [
    "def build_gdelt_query(table_name, search_term, start_date):\n",
    "    query_string = f\"\"\"\n",
    "        SELECT\n",
    "          GKGRECORDID,\n",
    "          DATE,\n",
    "          SourceCollectionIdentifier,\n",
    "          DocumentIdentifier,\n",
    "          V2Locations AS Locations,\n",
    "          V2Persons AS Persons,\n",
    "          V2Organizations AS Organizations,\n",
    "          V2Tone AS Tone\n",
    "        FROM\n",
    "          {table_name}\n",
    "        WHERE\n",
    "          LOWER(Organizations) LIKE \"%{search_term}%\"\n",
    "          AND DATE > {start_date}\n",
    "    \"\"\"\n",
    "    return query_string"
   ]
  },
  {
   "cell_type": "code",
   "execution_count": 7,
   "id": "f772e4f2",
   "metadata": {
    "execution": {
     "iopub.execute_input": "2022-04-19T17:37:26.889776Z",
     "iopub.status.busy": "2022-04-19T17:37:26.889356Z",
     "iopub.status.idle": "2022-04-19T17:37:26.892690Z",
     "shell.execute_reply": "2022-04-19T17:37:26.892102Z"
    },
    "papermill": {
     "duration": 0.007558,
     "end_time": "2022-04-19T17:37:26.893816",
     "exception": false,
     "start_time": "2022-04-19T17:37:26.886258",
     "status": "completed"
    },
    "tags": []
   },
   "outputs": [],
   "source": [
    "def fetch_data(bqclient, query_string):\n",
    "    df = (\n",
    "        bqclient.query(query_string).result().to_dataframe(\n",
    "            # Optionally, explicitly request to use the BigQuery Storage API. As of\n",
    "            # google-cloud-bigquery version 1.26.0 and above, the BigQuery Storage\n",
    "            # API is used by default.\n",
    "            create_bqstorage_client=True,\n",
    "        )\n",
    "    )\n",
    "    return df"
   ]
  },
  {
   "cell_type": "code",
   "execution_count": 8,
   "id": "2dff3423",
   "metadata": {
    "execution": {
     "iopub.execute_input": "2022-04-19T17:37:26.898830Z",
     "iopub.status.busy": "2022-04-19T17:37:26.898674Z",
     "iopub.status.idle": "2022-04-19T17:37:26.901987Z",
     "shell.execute_reply": "2022-04-19T17:37:26.901447Z"
    },
    "papermill": {
     "duration": 0.00735,
     "end_time": "2022-04-19T17:37:26.903249",
     "exception": false,
     "start_time": "2022-04-19T17:37:26.895899",
     "status": "completed"
    },
    "tags": []
   },
   "outputs": [],
   "source": [
    "rolling_window = query_params[\"rolling_window\"]\n",
    "table_name = query_params[\"bq_table_name\"]\n",
    "search_term = query_params[\"search_term\"]\n",
    "gkg_file_path = product[\"data\"]"
   ]
  },
  {
   "cell_type": "code",
   "execution_count": 9,
   "id": "26804b90",
   "metadata": {
    "execution": {
     "iopub.execute_input": "2022-04-19T17:37:26.908830Z",
     "iopub.status.busy": "2022-04-19T17:37:26.908664Z",
     "iopub.status.idle": "2022-04-19T17:37:26.912366Z",
     "shell.execute_reply": "2022-04-19T17:37:26.911760Z"
    },
    "papermill": {
     "duration": 0.007896,
     "end_time": "2022-04-19T17:37:26.913590",
     "exception": false,
     "start_time": "2022-04-19T17:37:26.905694",
     "status": "completed"
    },
    "tags": []
   },
   "outputs": [],
   "source": [
    "start_date = utils.get_start_date(rolling_window)\n",
    "start_date = utils.gdelt_date_format(start_date)\n",
    "gkg_query = build_gdelt_query(table_name, search_term, start_date)"
   ]
  },
  {
   "cell_type": "code",
   "execution_count": 10,
   "id": "5801435f",
   "metadata": {
    "execution": {
     "iopub.execute_input": "2022-04-19T17:37:26.919021Z",
     "iopub.status.busy": "2022-04-19T17:37:26.918862Z",
     "iopub.status.idle": "2022-04-19T17:37:40.747937Z",
     "shell.execute_reply": "2022-04-19T17:37:40.747123Z"
    },
    "papermill": {
     "duration": 13.833772,
     "end_time": "2022-04-19T17:37:40.749534",
     "exception": false,
     "start_time": "2022-04-19T17:37:26.915762",
     "status": "completed"
    },
    "tags": []
   },
   "outputs": [
    {
     "name": "stdout",
     "output_type": "stream",
     "text": [
      "Processed file with 10700 records\n"
     ]
    }
   ],
   "source": [
    "client = bigquery.Client()\n",
    "data_df = fetch_data(client, gkg_query)\n",
    "print(f\"Processed file with {len(data_df)} records\")"
   ]
  },
  {
   "cell_type": "code",
   "execution_count": 11,
   "id": "931ecccd",
   "metadata": {
    "execution": {
     "iopub.execute_input": "2022-04-19T17:37:40.757673Z",
     "iopub.status.busy": "2022-04-19T17:37:40.757280Z",
     "iopub.status.idle": "2022-04-19T17:37:40.768021Z",
     "shell.execute_reply": "2022-04-19T17:37:40.767413Z"
    },
    "papermill": {
     "duration": 0.016178,
     "end_time": "2022-04-19T17:37:40.769321",
     "exception": false,
     "start_time": "2022-04-19T17:37:40.753143",
     "status": "completed"
    },
    "tags": []
   },
   "outputs": [
    {
     "data": {
      "text/html": [
       "<div>\n",
       "<style scoped>\n",
       "    .dataframe tbody tr th:only-of-type {\n",
       "        vertical-align: middle;\n",
       "    }\n",
       "\n",
       "    .dataframe tbody tr th {\n",
       "        vertical-align: top;\n",
       "    }\n",
       "\n",
       "    .dataframe thead th {\n",
       "        text-align: right;\n",
       "    }\n",
       "</style>\n",
       "<table border=\"1\" class=\"dataframe\">\n",
       "  <thead>\n",
       "    <tr style=\"text-align: right;\">\n",
       "      <th></th>\n",
       "      <th>GKGRECORDID</th>\n",
       "      <th>DATE</th>\n",
       "      <th>SourceCollectionIdentifier</th>\n",
       "      <th>DocumentIdentifier</th>\n",
       "      <th>Locations</th>\n",
       "      <th>Persons</th>\n",
       "      <th>Organizations</th>\n",
       "      <th>Tone</th>\n",
       "    </tr>\n",
       "  </thead>\n",
       "  <tbody>\n",
       "    <tr>\n",
       "      <th>0</th>\n",
       "      <td>20211221054500-326</td>\n",
       "      <td>20211221054500</td>\n",
       "      <td>1</td>\n",
       "      <td>https://www.thehindu.com/sci-tech/technology/r...</td>\n",
       "      <td>3#Boston, Massachusetts, United States#US#USMA...</td>\n",
       "      <td>Nathaniel Mendell,2375;Igor Sladkov,2004;Nikol...</td>\n",
       "      <td>Exchange Commission,1128;Democratic Party,1732...</td>\n",
       "      <td>-4.69135802469136,1.97530864197531,6.666666666...</td>\n",
       "    </tr>\n",
       "    <tr>\n",
       "      <th>1</th>\n",
       "      <td>20211221054500-436</td>\n",
       "      <td>20211221054500</td>\n",
       "      <td>1</td>\n",
       "      <td>https://news.am/eng/news/678328.html</td>\n",
       "      <td>1#Americans#US#US##39.828175#-98.5795#US#883;1...</td>\n",
       "      <td>Elon Musk,28;Elon Musk,349</td>\n",
       "      <td>Space Exploration Technologies Corp,586;Twitte...</td>\n",
       "      <td>-0.921658986175115,2.30414746543779,3.22580645...</td>\n",
       "    </tr>\n",
       "    <tr>\n",
       "      <th>2</th>\n",
       "      <td>20211221040000-T864</td>\n",
       "      <td>20211221040000</td>\n",
       "      <td>1</td>\n",
       "      <td>https://tech.ifeng.com/c/8C9OfDFwt8Q</td>\n",
       "      <td>1#Finland#FI#FI##64#26#FI#242;4#Beijing, Beiji...</td>\n",
       "      <td>None</td>\n",
       "      <td>Tesla Shanghai,2306;Technology Science,4028</td>\n",
       "      <td>-2.9940119760479,2.54491017964072,5.5389221556...</td>\n",
       "    </tr>\n",
       "    <tr>\n",
       "      <th>3</th>\n",
       "      <td>20211221043000-T739</td>\n",
       "      <td>20211221043000</td>\n",
       "      <td>1</td>\n",
       "      <td>https://www.chinatimes.com/realtimenews/202112...</td>\n",
       "      <td>2#Texas, United States#US#USTX##31.106#-97.647...</td>\n",
       "      <td>Tesla A Tesla,1816</td>\n",
       "      <td>Samsung,7;Samsung,98;Samsung,473;Samsung,527;S...</td>\n",
       "      <td>-1.36054421768708,0.340136054421769,1.70068027...</td>\n",
       "    </tr>\n",
       "    <tr>\n",
       "      <th>4</th>\n",
       "      <td>20211221044500-T834</td>\n",
       "      <td>20211221044500</td>\n",
       "      <td>1</td>\n",
       "      <td>https://digi.china.com/digi/20211221/202112219...</td>\n",
       "      <td>3#Houston, Texas, United States#US#USTX#TX201#...</td>\n",
       "      <td>Tesla Roewe,58</td>\n",
       "      <td>Technology Tesla,1852</td>\n",
       "      <td>-5.24781341107872,1.45772594752187,6.705539358...</td>\n",
       "    </tr>\n",
       "  </tbody>\n",
       "</table>\n",
       "</div>"
      ],
      "text/plain": [
       "           GKGRECORDID            DATE  SourceCollectionIdentifier  \\\n",
       "0   20211221054500-326  20211221054500                           1   \n",
       "1   20211221054500-436  20211221054500                           1   \n",
       "2  20211221040000-T864  20211221040000                           1   \n",
       "3  20211221043000-T739  20211221043000                           1   \n",
       "4  20211221044500-T834  20211221044500                           1   \n",
       "\n",
       "                                  DocumentIdentifier  \\\n",
       "0  https://www.thehindu.com/sci-tech/technology/r...   \n",
       "1               https://news.am/eng/news/678328.html   \n",
       "2               https://tech.ifeng.com/c/8C9OfDFwt8Q   \n",
       "3  https://www.chinatimes.com/realtimenews/202112...   \n",
       "4  https://digi.china.com/digi/20211221/202112219...   \n",
       "\n",
       "                                           Locations  \\\n",
       "0  3#Boston, Massachusetts, United States#US#USMA...   \n",
       "1  1#Americans#US#US##39.828175#-98.5795#US#883;1...   \n",
       "2  1#Finland#FI#FI##64#26#FI#242;4#Beijing, Beiji...   \n",
       "3  2#Texas, United States#US#USTX##31.106#-97.647...   \n",
       "4  3#Houston, Texas, United States#US#USTX#TX201#...   \n",
       "\n",
       "                                             Persons  \\\n",
       "0  Nathaniel Mendell,2375;Igor Sladkov,2004;Nikol...   \n",
       "1                         Elon Musk,28;Elon Musk,349   \n",
       "2                                               None   \n",
       "3                                 Tesla A Tesla,1816   \n",
       "4                                     Tesla Roewe,58   \n",
       "\n",
       "                                       Organizations  \\\n",
       "0  Exchange Commission,1128;Democratic Party,1732...   \n",
       "1  Space Exploration Technologies Corp,586;Twitte...   \n",
       "2        Tesla Shanghai,2306;Technology Science,4028   \n",
       "3  Samsung,7;Samsung,98;Samsung,473;Samsung,527;S...   \n",
       "4                              Technology Tesla,1852   \n",
       "\n",
       "                                                Tone  \n",
       "0  -4.69135802469136,1.97530864197531,6.666666666...  \n",
       "1  -0.921658986175115,2.30414746543779,3.22580645...  \n",
       "2  -2.9940119760479,2.54491017964072,5.5389221556...  \n",
       "3  -1.36054421768708,0.340136054421769,1.70068027...  \n",
       "4  -5.24781341107872,1.45772594752187,6.705539358...  "
      ]
     },
     "execution_count": 11,
     "metadata": {},
     "output_type": "execute_result"
    }
   ],
   "source": [
    "data_df.head()"
   ]
  },
  {
   "cell_type": "code",
   "execution_count": 12,
   "id": "347a4d1e",
   "metadata": {
    "execution": {
     "iopub.execute_input": "2022-04-19T17:37:40.775530Z",
     "iopub.status.busy": "2022-04-19T17:37:40.775348Z",
     "iopub.status.idle": "2022-04-19T17:37:40.990004Z",
     "shell.execute_reply": "2022-04-19T17:37:40.989156Z"
    },
    "papermill": {
     "duration": 0.219749,
     "end_time": "2022-04-19T17:37:40.991709",
     "exception": false,
     "start_time": "2022-04-19T17:37:40.771960",
     "status": "completed"
    },
    "tags": []
   },
   "outputs": [
    {
     "name": "stdout",
     "output_type": "stream",
     "text": [
      "Saved file /root/market_watch/output/data/raw/gdelt_gkg_bqdata-raw.csv\n"
     ]
    }
   ],
   "source": [
    "# Save GKG records\n",
    "Path(gkg_file_path).parent.mkdir(exist_ok=True, parents=True)\n",
    "data_df.to_csv(gkg_file_path)\n",
    "print(f\"Saved file {gkg_file_path}\")"
   ]
  },
  {
   "cell_type": "code",
   "execution_count": 13,
   "id": "a06abe19",
   "metadata": {
    "execution": {
     "iopub.execute_input": "2022-04-19T17:37:40.998988Z",
     "iopub.status.busy": "2022-04-19T17:37:40.998799Z",
     "iopub.status.idle": "2022-04-19T17:37:41.002255Z",
     "shell.execute_reply": "2022-04-19T17:37:41.001555Z"
    },
    "papermill": {
     "duration": 0.009377,
     "end_time": "2022-04-19T17:37:41.004319",
     "exception": false,
     "start_time": "2022-04-19T17:37:40.994942",
     "status": "completed"
    },
    "tags": []
   },
   "outputs": [],
   "source": [
    "del data_df"
   ]
  },
  {
   "cell_type": "code",
   "execution_count": null,
   "id": "d4308fd2",
   "metadata": {
    "papermill": {
     "duration": 0.003195,
     "end_time": "2022-04-19T17:37:41.010647",
     "exception": false,
     "start_time": "2022-04-19T17:37:41.007452",
     "status": "completed"
    },
    "tags": []
   },
   "outputs": [],
   "source": []
  }
 ],
 "metadata": {
  "jupytext": {
   "cell_metadata_filter": "tags,-all",
   "main_language": "python",
   "notebook_metadata_filter": "-all",
   "text_representation": {
    "extension": ".py",
    "format_name": "light"
   }
  },
  "kernelspec": {
   "display_name": "Python 3 (ipykernel)",
   "language": "python",
   "name": "python3"
  },
  "language_info": {
   "codemirror_mode": {
    "name": "ipython",
    "version": 3
   },
   "file_extension": ".py",
   "mimetype": "text/x-python",
   "name": "python",
   "nbconvert_exporter": "python",
   "pygments_lexer": "ipython3",
   "version": "3.8.13"
  },
  "papermill": {
   "duration": 16.085525,
   "end_time": "2022-04-19T17:37:41.336029",
   "exception": null,
   "input_path": "/tmp/tmpvbwtzsz_.ipynb",
   "output_path": "/root/market_watch/output/notebooks/fetch_n_filter_gdelt_bq.ipynb",
   "parameters": {
    "product": {
     "data": "/root/market_watch/output/data/raw/gdelt_gkg_bqdata-raw.csv",
     "nb": "/root/market_watch/output/notebooks/fetch_n_filter_gdelt_bq.ipynb"
    },
    "query_params": {
     "bq_table_name": "`gdelt-bq.gdeltv2.gkg`",
     "rolling_window": 120,
     "search_term": "tesla"
    }
   },
   "start_time": "2022-04-19T17:37:25.250504"
  }
 },
 "nbformat": 4,
 "nbformat_minor": 5
}