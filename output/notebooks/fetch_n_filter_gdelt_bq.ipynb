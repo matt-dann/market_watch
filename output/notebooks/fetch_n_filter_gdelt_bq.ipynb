{
 "cells": [
  {
   "cell_type": "code",
   "execution_count": 1,
   "id": "3540c079",
   "metadata": {
    "execution": {
     "iopub.execute_input": "2022-04-06T17:43:14.655030Z",
     "iopub.status.busy": "2022-04-06T17:43:14.652995Z",
     "iopub.status.idle": "2022-04-06T17:43:14.682517Z",
     "shell.execute_reply": "2022-04-06T17:43:14.680946Z"
    },
    "papermill": {
     "duration": 0.046975,
     "end_time": "2022-04-06T17:43:14.685897",
     "exception": false,
     "start_time": "2022-04-06T17:43:14.638922",
     "status": "completed"
    },
    "tags": [
     "parameters"
    ]
   },
   "outputs": [],
   "source": [
    "# declare a list tasks whose products you want to use as inputs\n",
    "upstream = None"
   ]
  },
  {
   "cell_type": "code",
   "execution_count": 2,
   "id": "7e36f450",
   "metadata": {
    "execution": {
     "iopub.execute_input": "2022-04-06T17:43:14.694979Z",
     "iopub.status.busy": "2022-04-06T17:43:14.694704Z",
     "iopub.status.idle": "2022-04-06T17:43:14.699934Z",
     "shell.execute_reply": "2022-04-06T17:43:14.698922Z"
    },
    "papermill": {
     "duration": 0.011076,
     "end_time": "2022-04-06T17:43:14.701878",
     "exception": false,
     "start_time": "2022-04-06T17:43:14.690802",
     "status": "completed"
    },
    "tags": [
     "injected-parameters"
    ]
   },
   "outputs": [],
   "source": [
    "# Parameters\n",
    "query_params = {\n",
    "    \"rolling_window\": 90,\n",
    "    \"search_term\": \"tesla\",\n",
    "    \"bq_table_name\": \"`gdelt-bq.gdeltv2.gkg`\",\n",
    "}\n",
    "product = {\n",
    "    \"nb\": \"/root/market_watch/output/notebooks/fetch_n_filter_gdelt_bq.ipynb\",\n",
    "    \"data\": \"/root/market_watch/output/data/raw/gdelt_gkg_bqdata-raw.csv\",\n",
    "}\n"
   ]
  },
  {
   "cell_type": "code",
   "execution_count": 3,
   "id": "29237522",
   "metadata": {
    "execution": {
     "iopub.execute_input": "2022-04-06T17:43:14.710648Z",
     "iopub.status.busy": "2022-04-06T17:43:14.710381Z",
     "iopub.status.idle": "2022-04-06T17:43:15.305667Z",
     "shell.execute_reply": "2022-04-06T17:43:15.305091Z"
    },
    "papermill": {
     "duration": 0.602021,
     "end_time": "2022-04-06T17:43:15.307099",
     "exception": false,
     "start_time": "2022-04-06T17:43:14.705078",
     "status": "completed"
    },
    "tags": []
   },
   "outputs": [],
   "source": [
    "from pathlib import Path\n",
    "from dotenv import load_dotenv, find_dotenv\n",
    "from google.cloud import bigquery\n",
    "\n",
    "import os\n",
    "import sys\n",
    "import warnings\n",
    "from src import utils\n",
    "\n",
    "warnings.filterwarnings('ignore')"
   ]
  },
  {
   "cell_type": "code",
   "execution_count": 4,
   "id": "0d3a010f",
   "metadata": {
    "execution": {
     "iopub.execute_input": "2022-04-06T17:43:15.312223Z",
     "iopub.status.busy": "2022-04-06T17:43:15.312021Z",
     "iopub.status.idle": "2022-04-06T17:43:15.321646Z",
     "shell.execute_reply": "2022-04-06T17:43:15.320993Z"
    },
    "papermill": {
     "duration": 0.013882,
     "end_time": "2022-04-06T17:43:15.322825",
     "exception": false,
     "start_time": "2022-04-06T17:43:15.308943",
     "status": "completed"
    },
    "tags": []
   },
   "outputs": [
    {
     "data": {
      "text/plain": [
       "True"
      ]
     },
     "execution_count": 4,
     "metadata": {},
     "output_type": "execute_result"
    }
   ],
   "source": [
    "load_dotenv(find_dotenv('market_watch.env'))"
   ]
  },
  {
   "cell_type": "code",
   "execution_count": 5,
   "id": "137c5188",
   "metadata": {
    "execution": {
     "iopub.execute_input": "2022-04-06T17:43:15.327320Z",
     "iopub.status.busy": "2022-04-06T17:43:15.327172Z",
     "iopub.status.idle": "2022-04-06T17:43:15.330795Z",
     "shell.execute_reply": "2022-04-06T17:43:15.330190Z"
    },
    "papermill": {
     "duration": 0.007679,
     "end_time": "2022-04-06T17:43:15.332246",
     "exception": false,
     "start_time": "2022-04-06T17:43:15.324567",
     "status": "completed"
    },
    "tags": []
   },
   "outputs": [
    {
     "name": "stdout",
     "output_type": "stream",
     "text": [
      "/root/.local/share/virtualenvs/market_watch-4z4nDwB_/bin/python\n",
      "/root/.ssh/vgaurav-4d0e95d3663a.json\n"
     ]
    }
   ],
   "source": [
    "print(sys.executable)\n",
    "api_key_file = os.environ['GOOGLE_APPLICATION_CREDENTIALS']\n",
    "print(api_key_file)"
   ]
  },
  {
   "cell_type": "code",
   "execution_count": 6,
   "id": "673cbc8e",
   "metadata": {
    "execution": {
     "iopub.execute_input": "2022-04-06T17:43:15.337179Z",
     "iopub.status.busy": "2022-04-06T17:43:15.337015Z",
     "iopub.status.idle": "2022-04-06T17:43:15.340651Z",
     "shell.execute_reply": "2022-04-06T17:43:15.340095Z"
    },
    "papermill": {
     "duration": 0.007814,
     "end_time": "2022-04-06T17:43:15.341882",
     "exception": false,
     "start_time": "2022-04-06T17:43:15.334068",
     "status": "completed"
    },
    "tags": []
   },
   "outputs": [],
   "source": [
    "def build_gdelt_query(table_name, search_term, start_date):\n",
    "    query_string = f\"\"\"\n",
    "        SELECT\n",
    "          GKGRECORDID,\n",
    "          DATE,\n",
    "          SourceCollectionIdentifier,\n",
    "          DocumentIdentifier,\n",
    "          V2Locations AS Locations,\n",
    "          V2Persons AS Persons,\n",
    "          V2Organizations AS Organizations,\n",
    "          V2Tone AS Tone\n",
    "        FROM\n",
    "          {table_name}\n",
    "        WHERE\n",
    "          LOWER(Organizations) LIKE \"%{search_term}%\"\n",
    "          AND DATE > {start_date}\n",
    "    \"\"\"\n",
    "    return query_string"
   ]
  },
  {
   "cell_type": "code",
   "execution_count": 7,
   "id": "580daa2f",
   "metadata": {
    "execution": {
     "iopub.execute_input": "2022-04-06T17:43:15.346218Z",
     "iopub.status.busy": "2022-04-06T17:43:15.346074Z",
     "iopub.status.idle": "2022-04-06T17:43:15.349601Z",
     "shell.execute_reply": "2022-04-06T17:43:15.349036Z"
    },
    "papermill": {
     "duration": 0.007204,
     "end_time": "2022-04-06T17:43:15.350767",
     "exception": false,
     "start_time": "2022-04-06T17:43:15.343563",
     "status": "completed"
    },
    "tags": []
   },
   "outputs": [],
   "source": [
    "def fetch_data(bqclient, query_string):\n",
    "    df = (\n",
    "        bqclient.query(query_string)\n",
    "            .result()\n",
    "            .to_dataframe(\n",
    "            # Optionally, explicitly request to use the BigQuery Storage API. As of\n",
    "            # google-cloud-bigquery version 1.26.0 and above, the BigQuery Storage\n",
    "            # API is used by default.\n",
    "            create_bqstorage_client=True,\n",
    "        )\n",
    "    )\n",
    "    return df"
   ]
  },
  {
   "cell_type": "code",
   "execution_count": 8,
   "id": "fc4827cb",
   "metadata": {
    "execution": {
     "iopub.execute_input": "2022-04-06T17:43:15.355090Z",
     "iopub.status.busy": "2022-04-06T17:43:15.354936Z",
     "iopub.status.idle": "2022-04-06T17:43:15.359311Z",
     "shell.execute_reply": "2022-04-06T17:43:15.358753Z"
    },
    "papermill": {
     "duration": 0.007919,
     "end_time": "2022-04-06T17:43:15.360469",
     "exception": false,
     "start_time": "2022-04-06T17:43:15.352550",
     "status": "completed"
    },
    "tags": []
   },
   "outputs": [
    {
     "name": "stdout",
     "output_type": "stream",
     "text": [
      "\n",
      "        SELECT\n",
      "          GKGRECORDID,\n",
      "          DATE,\n",
      "          SourceCollectionIdentifier,\n",
      "          DocumentIdentifier,\n",
      "          V2Locations AS Locations,\n",
      "          V2Persons AS Persons,\n",
      "          V2Organizations AS Organizations,\n",
      "          V2Tone AS Tone\n",
      "        FROM\n",
      "          `gdelt-bq.gdeltv2.gkg`\n",
      "        WHERE\n",
      "          LOWER(Organizations) LIKE \"%tesla%\"\n",
      "          AND DATE > 20220106174500\n",
      "    \n"
     ]
    }
   ],
   "source": [
    "rolling_window = query_params[\"rolling_window\"]\n",
    "table_name = query_params[\"bq_table_name\"]\n",
    "search_term = query_params[\"search_term\"]\n",
    "file_path = product[\"data\"]\n",
    "start_date = utils.get_start_date(rolling_window)\n",
    "start_date = utils.gdelt_date_format(start_date)\n",
    "query = build_gdelt_query(table_name, search_term, start_date)\n",
    "print(query)"
   ]
  },
  {
   "cell_type": "code",
   "execution_count": 9,
   "id": "53d67d92",
   "metadata": {
    "execution": {
     "iopub.execute_input": "2022-04-06T17:43:15.365095Z",
     "iopub.status.busy": "2022-04-06T17:43:15.364948Z",
     "iopub.status.idle": "2022-04-06T17:43:24.654429Z",
     "shell.execute_reply": "2022-04-06T17:43:24.652327Z"
    },
    "papermill": {
     "duration": 9.295762,
     "end_time": "2022-04-06T17:43:24.658007",
     "exception": false,
     "start_time": "2022-04-06T17:43:15.362245",
     "status": "completed"
    },
    "tags": []
   },
   "outputs": [
    {
     "name": "stdout",
     "output_type": "stream",
     "text": [
      "Processed merged file with 7139 records\n"
     ]
    }
   ],
   "source": [
    "client = bigquery.Client()\n",
    "data_df = fetch_data(client, query)\n",
    "print(f\"Processed merged file with {len(data_df)} records\")"
   ]
  },
  {
   "cell_type": "code",
   "execution_count": 10,
   "id": "c0ca0c45",
   "metadata": {
    "execution": {
     "iopub.execute_input": "2022-04-06T17:43:24.676389Z",
     "iopub.status.busy": "2022-04-06T17:43:24.675320Z",
     "iopub.status.idle": "2022-04-06T17:43:24.864506Z",
     "shell.execute_reply": "2022-04-06T17:43:24.863931Z"
    },
    "papermill": {
     "duration": 0.200858,
     "end_time": "2022-04-06T17:43:24.865770",
     "exception": false,
     "start_time": "2022-04-06T17:43:24.664912",
     "status": "completed"
    },
    "tags": []
   },
   "outputs": [
    {
     "name": "stdout",
     "output_type": "stream",
     "text": [
      "Saved file /root/market_watch/output/data/raw/gdelt_gkg_bqdata-raw.csv\n"
     ]
    }
   ],
   "source": [
    "# Save records\n",
    "Path(file_path).parent.mkdir(exist_ok=True, parents=True)\n",
    "data_df.to_csv(file_path)\n",
    "print(f\"Saved file {file_path}\")"
   ]
  }
 ],
 "metadata": {
  "jupytext": {
   "cell_metadata_filter": "tags,-all",
   "main_language": "python",
   "notebook_metadata_filter": "-all",
   "text_representation": {
    "extension": ".py",
    "format_name": "light"
   }
  },
  "kernelspec": {
   "display_name": "Python 3 (ipykernel)",
   "language": "python",
   "name": "python3"
  },
  "language_info": {
   "codemirror_mode": {
    "name": "ipython",
    "version": 3
   },
   "file_extension": ".py",
   "mimetype": "text/x-python",
   "name": "python",
   "nbconvert_exporter": "python",
   "pygments_lexer": "ipython3",
   "version": "3.8.13"
  },
  "papermill": {
   "duration": 11.219432,
   "end_time": "2022-04-06T17:43:25.086243",
   "exception": null,
   "input_path": "/tmp/tmpv3u5e8pu.ipynb",
   "output_path": "/root/market_watch/output/notebooks/fetch_n_filter_gdelt_bq.ipynb",
   "parameters": {
    "product": {
     "data": "/root/market_watch/output/data/raw/gdelt_gkg_bqdata-raw.csv",
     "nb": "/root/market_watch/output/notebooks/fetch_n_filter_gdelt_bq.ipynb"
    },
    "query_params": {
     "bq_table_name": "`gdelt-bq.gdeltv2.gkg`",
     "rolling_window": 90,
     "search_term": "tesla"
    }
   },
   "start_time": "2022-04-06T17:43:13.866811"
  }
 },
 "nbformat": 4,
 "nbformat_minor": 5
}