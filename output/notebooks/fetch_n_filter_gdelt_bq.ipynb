{
 "cells": [
  {
   "cell_type": "markdown",
   "id": "b73898c5",
   "metadata": {
    "tags": [
     "papermill-error-cell-tag"
    ]
   },
   "source": [
    "<span style=\"color:red; font-family:Helvetica Neue, Helvetica, Arial, sans-serif; font-size:2em;\">An Exception was encountered at '<a href=\"#papermill-error-cell\">In [14]</a>'.</span>"
   ]
  },
  {
   "cell_type": "code",
   "execution_count": 1,
   "id": "a64a3ba1",
   "metadata": {
    "execution": {
     "iopub.execute_input": "2022-04-10T22:59:19.014411Z",
     "iopub.status.busy": "2022-04-10T22:59:19.014114Z",
     "iopub.status.idle": "2022-04-10T22:59:19.022685Z",
     "shell.execute_reply": "2022-04-10T22:59:19.022159Z"
    },
    "papermill": {
     "duration": 0.025248,
     "end_time": "2022-04-10T22:59:19.024728",
     "exception": false,
     "start_time": "2022-04-10T22:59:18.999480",
     "status": "completed"
    },
    "tags": [
     "parameters"
    ]
   },
   "outputs": [],
   "source": [
    "# declare a list tasks whose products you want to use as inputs\n",
    "upstream = None"
   ]
  },
  {
   "cell_type": "code",
   "execution_count": 2,
   "id": "674330c4",
   "metadata": {
    "execution": {
     "iopub.execute_input": "2022-04-10T22:59:19.045875Z",
     "iopub.status.busy": "2022-04-10T22:59:19.045662Z",
     "iopub.status.idle": "2022-04-10T22:59:19.049023Z",
     "shell.execute_reply": "2022-04-10T22:59:19.048539Z"
    },
    "papermill": {
     "duration": 0.015214,
     "end_time": "2022-04-10T22:59:19.050735",
     "exception": false,
     "start_time": "2022-04-10T22:59:19.035521",
     "status": "completed"
    },
    "tags": [
     "injected-parameters"
    ]
   },
   "outputs": [],
   "source": [
    "# Parameters\n",
    "query_params = {\n",
    "    \"rolling_window\": 90,\n",
    "    \"search_term\": \"tesla\",\n",
    "    \"bq_table_name\": \"`gdelt-bq.gdeltv2.gkg`\",\n",
    "    \"sp500_path\": \"data/\",\n",
    "    \"exchanges_path\": \"data/nasdaq_nyse_amax.csv\",\n",
    "}\n",
    "product = {\n",
    "    \"nb\": \"/Users/aiujdm2/market_watch/output/notebooks/fetch_n_filter_gdelt_bq.ipynb\",\n",
    "    \"data\": \"/Users/aiujdm2/market_watch/output/data/raw\",\n",
    "}\n"
   ]
  },
  {
   "cell_type": "code",
   "execution_count": 3,
   "id": "055c93a9",
   "metadata": {
    "execution": {
     "iopub.execute_input": "2022-04-10T22:59:19.069726Z",
     "iopub.status.busy": "2022-04-10T22:59:19.069543Z",
     "iopub.status.idle": "2022-04-10T22:59:19.709436Z",
     "shell.execute_reply": "2022-04-10T22:59:19.708614Z"
    },
    "papermill": {
     "duration": 0.65176,
     "end_time": "2022-04-10T22:59:19.711613",
     "exception": false,
     "start_time": "2022-04-10T22:59:19.059853",
     "status": "completed"
    },
    "tags": []
   },
   "outputs": [],
   "source": [
    "from pathlib import Path\n",
    "from dotenv import load_dotenv, find_dotenv\n",
    "from google.cloud import bigquery\n",
    "from tqdm import tqdm\n",
    "from src import utils\n",
    "\n",
    "\n",
    "import re\n",
    "import collections\n",
    "import pandas as pd\n",
    "import datetime\n",
    "import json\n",
    "import os\n",
    "import sys\n",
    "import warnings\n",
    "\n",
    "warnings.filterwarnings('ignore')"
   ]
  },
  {
   "cell_type": "code",
   "execution_count": 4,
   "id": "ad884a64",
   "metadata": {
    "execution": {
     "iopub.execute_input": "2022-04-10T22:59:19.732873Z",
     "iopub.status.busy": "2022-04-10T22:59:19.732654Z",
     "iopub.status.idle": "2022-04-10T22:59:19.742002Z",
     "shell.execute_reply": "2022-04-10T22:59:19.741461Z"
    },
    "papermill": {
     "duration": 0.021591,
     "end_time": "2022-04-10T22:59:19.743750",
     "exception": false,
     "start_time": "2022-04-10T22:59:19.722159",
     "status": "completed"
    },
    "tags": []
   },
   "outputs": [
    {
     "data": {
      "text/plain": [
       "True"
      ]
     },
     "execution_count": 4,
     "metadata": {},
     "output_type": "execute_result"
    }
   ],
   "source": [
    "load_dotenv(find_dotenv('market_watch.env'))"
   ]
  },
  {
   "cell_type": "markdown",
   "id": "37e5320a",
   "metadata": {
    "papermill": {
     "duration": 0.009349,
     "end_time": "2022-04-10T22:59:19.762981",
     "exception": false,
     "start_time": "2022-04-10T22:59:19.753632",
     "status": "completed"
    },
    "tags": []
   },
   "source": [
    "Load Google API key. This will enable us to call GDELT's BigQuery Dataset"
   ]
  },
  {
   "cell_type": "code",
   "execution_count": 5,
   "id": "e7ff8882",
   "metadata": {
    "execution": {
     "iopub.execute_input": "2022-04-10T22:59:19.780741Z",
     "iopub.status.busy": "2022-04-10T22:59:19.780386Z",
     "iopub.status.idle": "2022-04-10T22:59:19.784690Z",
     "shell.execute_reply": "2022-04-10T22:59:19.784178Z"
    },
    "papermill": {
     "duration": 0.015466,
     "end_time": "2022-04-10T22:59:19.786297",
     "exception": false,
     "start_time": "2022-04-10T22:59:19.770831",
     "status": "completed"
    },
    "tags": []
   },
   "outputs": [
    {
     "name": "stdout",
     "output_type": "stream",
     "text": [
      "/Users/aiujdm2/.local/share/virtualenvs/market_watch-dtlP-L11/bin/python\n",
      "/Users/aiujdm2/market_watch/../.ssh/vgaurav-4d0e95d3663a.json\n"
     ]
    }
   ],
   "source": [
    "# debug code to see on which env our executable is running\n",
    "print(sys.executable)\n",
    "api_key_file = os.environ['GOOGLE_APPLICATION_CREDENTIALS']\n",
    "# debug code to see if we have loaded Google API key\n",
    "print(api_key_file)"
   ]
  },
  {
   "cell_type": "code",
   "execution_count": 6,
   "id": "8c870ba3",
   "metadata": {
    "execution": {
     "iopub.execute_input": "2022-04-10T22:59:19.805509Z",
     "iopub.status.busy": "2022-04-10T22:59:19.805319Z",
     "iopub.status.idle": "2022-04-10T22:59:19.808525Z",
     "shell.execute_reply": "2022-04-10T22:59:19.808060Z"
    },
    "papermill": {
     "duration": 0.014239,
     "end_time": "2022-04-10T22:59:19.810201",
     "exception": false,
     "start_time": "2022-04-10T22:59:19.795962",
     "status": "completed"
    },
    "tags": []
   },
   "outputs": [],
   "source": [
    "def build_gdelt_query(table_name, search_term, start_date):\n",
    "    query_string = f\"\"\"\n",
    "        SELECT\n",
    "          GKGRECORDID,\n",
    "          DATE,\n",
    "          SourceCollectionIdentifier,\n",
    "          DocumentIdentifier,\n",
    "          V2Locations AS Locations,\n",
    "          V2Persons AS Persons,\n",
    "          V2Organizations AS Organizations,\n",
    "          V2Tone AS Tone\n",
    "        FROM\n",
    "          {table_name}\n",
    "        WHERE\n",
    "          LOWER(Organizations) LIKE \"%{search_term}%\"\n",
    "          AND DATE > {start_date}\n",
    "    \"\"\"\n",
    "    return query_string"
   ]
  },
  {
   "cell_type": "code",
   "execution_count": 7,
   "id": "dc545b36",
   "metadata": {
    "execution": {
     "iopub.execute_input": "2022-04-10T22:59:19.827475Z",
     "iopub.status.busy": "2022-04-10T22:59:19.827323Z",
     "iopub.status.idle": "2022-04-10T22:59:19.830232Z",
     "shell.execute_reply": "2022-04-10T22:59:19.829850Z"
    },
    "papermill": {
     "duration": 0.013431,
     "end_time": "2022-04-10T22:59:19.831748",
     "exception": false,
     "start_time": "2022-04-10T22:59:19.818317",
     "status": "completed"
    },
    "tags": []
   },
   "outputs": [],
   "source": [
    "def build_gdelt_query_for_counter(table_name, start_date, end_date):\n",
    "    query_string = f'''\n",
    "        Select\n",
    "            V2Organizations As Organizations\n",
    "        From\n",
    "            {table_name}\n",
    "        Where\n",
    "            date between {start_date} and {end_date}\n",
    "    '''\n",
    "    return query_string"
   ]
  },
  {
   "cell_type": "code",
   "execution_count": 8,
   "id": "aefc60f5",
   "metadata": {
    "execution": {
     "iopub.execute_input": "2022-04-10T22:59:19.849267Z",
     "iopub.status.busy": "2022-04-10T22:59:19.849114Z",
     "iopub.status.idle": "2022-04-10T22:59:19.852141Z",
     "shell.execute_reply": "2022-04-10T22:59:19.851730Z"
    },
    "papermill": {
     "duration": 0.013438,
     "end_time": "2022-04-10T22:59:19.853594",
     "exception": false,
     "start_time": "2022-04-10T22:59:19.840156",
     "status": "completed"
    },
    "tags": []
   },
   "outputs": [],
   "source": [
    "def fetch_data(bqclient, query_string):\n",
    "    df = (\n",
    "        bqclient.query(query_string).result().to_dataframe(\n",
    "            # Optionally, explicitly request to use the BigQuery Storage API. As of\n",
    "            # google-cloud-bigquery version 1.26.0 and above, the BigQuery Storage\n",
    "            # API is used by default.\n",
    "            create_bqstorage_client=True,\n",
    "        )\n",
    "    )\n",
    "    return df"
   ]
  },
  {
   "cell_type": "code",
   "execution_count": 9,
   "id": "54bab468",
   "metadata": {
    "execution": {
     "iopub.execute_input": "2022-04-10T22:59:19.871310Z",
     "iopub.status.busy": "2022-04-10T22:59:19.871160Z",
     "iopub.status.idle": "2022-04-10T22:59:19.875051Z",
     "shell.execute_reply": "2022-04-10T22:59:19.874508Z"
    },
    "papermill": {
     "duration": 0.014572,
     "end_time": "2022-04-10T22:59:19.876618",
     "exception": false,
     "start_time": "2022-04-10T22:59:19.862046",
     "status": "completed"
    },
    "tags": []
   },
   "outputs": [],
   "source": [
    "rolling_window = query_params[\"rolling_window\"]\n",
    "table_name = query_params[\"bq_table_name\"]\n",
    "search_term = query_params[\"search_term\"]\n",
    "gkg_file_path = product[\"data\"] + 'gdelt_gkg_bqdata-raw.csv'\n",
    "count_file_path = product[\"data\"] + 'gdelt_gkg_bqdata-counter.csv'\n",
    "exchanges_path = query_params['exchanges_path']\n",
    "\n",
    "start_date = utils.get_start_date(rolling_window)\n",
    "start_date = utils.gdelt_date_format(start_date)\n",
    "gkg_query = build_gdelt_query(table_name, search_term, start_date)\n",
    "# print(gkg_query)"
   ]
  },
  {
   "cell_type": "code",
   "execution_count": 10,
   "id": "9d5d7145",
   "metadata": {
    "execution": {
     "iopub.execute_input": "2022-04-10T22:59:19.894807Z",
     "iopub.status.busy": "2022-04-10T22:59:19.894627Z",
     "iopub.status.idle": "2022-04-10T22:59:28.940937Z",
     "shell.execute_reply": "2022-04-10T22:59:28.940305Z"
    },
    "papermill": {
     "duration": 9.057762,
     "end_time": "2022-04-10T22:59:28.942927",
     "exception": false,
     "start_time": "2022-04-10T22:59:19.885165",
     "status": "completed"
    },
    "tags": []
   },
   "outputs": [
    {
     "name": "stdout",
     "output_type": "stream",
     "text": [
      "Processed merged file with 7282 records\n"
     ]
    }
   ],
   "source": [
    "client = bigquery.Client()\n",
    "data_df = fetch_data(client, gkg_query)\n",
    "print(f\"Processed merged file with {len(data_df)} records\")"
   ]
  },
  {
   "cell_type": "code",
   "execution_count": 11,
   "id": "42733db9",
   "metadata": {
    "execution": {
     "iopub.execute_input": "2022-04-10T22:59:28.967458Z",
     "iopub.status.busy": "2022-04-10T22:59:28.967237Z",
     "iopub.status.idle": "2022-04-10T22:59:29.141913Z",
     "shell.execute_reply": "2022-04-10T22:59:29.141448Z"
    },
    "papermill": {
     "duration": 0.188429,
     "end_time": "2022-04-10T22:59:29.143561",
     "exception": false,
     "start_time": "2022-04-10T22:59:28.955132",
     "status": "completed"
    },
    "tags": []
   },
   "outputs": [
    {
     "name": "stdout",
     "output_type": "stream",
     "text": [
      "Saved file /Users/aiujdm2/market_watch/output/data/rawgdelt_gkg_bqdata-raw.csv\n"
     ]
    }
   ],
   "source": [
    "# Save GKG records\n",
    "Path(gkg_file_path).parent.mkdir(exist_ok=True, parents=True)\n",
    "data_df.to_csv(gkg_file_path)\n",
    "print(f\"Saved file {gkg_file_path}\")\n",
    "del data_df"
   ]
  },
  {
   "cell_type": "code",
   "execution_count": 12,
   "id": "697e4a50",
   "metadata": {
    "execution": {
     "iopub.execute_input": "2022-04-10T22:59:29.162476Z",
     "iopub.status.busy": "2022-04-10T22:59:29.162288Z",
     "iopub.status.idle": "2022-04-10T22:59:29.169693Z",
     "shell.execute_reply": "2022-04-10T22:59:29.169229Z"
    },
    "papermill": {
     "duration": 0.018742,
     "end_time": "2022-04-10T22:59:29.171330",
     "exception": false,
     "start_time": "2022-04-10T22:59:29.152588",
     "status": "completed"
    },
    "tags": []
   },
   "outputs": [],
   "source": [
    "def create_increments(start_date):\n",
    "    dt = pd.to_datetime(start_date)\n",
    "    range_ = pd.date_range(dt, end=datetime.date.today(), freq='2D')\n",
    "    string_range = []\n",
    "    for date in range_:\n",
    "        # print(date)\n",
    "        string_range.append(utils.gdelt_date_format(date))\n",
    "        # string_range.append(f'{date.year}{date.month}{date.day}000000')\n",
    "    end_range = string_range[1:]\n",
    "    date_range = zip(string_range, end_range)\n",
    "    return list(date_range)\n",
    "\n",
    "\n",
    "def get_rel_company_names(path):\n",
    "    rel_company = pd.read_csv(path)\n",
    "    rel_company = rel_company['Name']\n",
    "    rel_company = rel_company.str.lower()\n",
    "    rel_company = rel_company[rel_company.str.contains('common|ordinary', regex=True)]\n",
    "    rel_company = rel_company.str.split('(corp|ltd|inc|corporation|limited|incorporation|incorporated)', regex=True)\n",
    "    rel_company = rel_company.map(lambda x: ''.join(x[:2]))\n",
    "    expand_rel_company = {}\n",
    "    # stop_words= ['unit', 'common', 'class', 'warrants', 'warrant', 'depository']\n",
    "    for company in rel_company:\n",
    "        # company = company.lower()\n",
    "        company_name_list = []\n",
    "        company_name_list.append(company)\n",
    "        if 'inc' in company_name_list[0]:\n",
    "            company_name_list.append(company_name_list[0] + 'orporation')\n",
    "            company_name_list.append(company_name_list[0] + 'orporated')\n",
    "        elif 'corp' in company_name_list[0]:\n",
    "            company_name_list.append(company_name_list[0] + 'oration')\n",
    "        elif 'ltd' in company_name_list[0]:\n",
    "            w_name = company_name_list[0].split('ltd')[0]\n",
    "            company_name_list.append(w_name + 'limited ')\n",
    "            company_name_list.append(w_name + 'limited company')\n",
    "        elif 'corporation' in company_name_list[0]:\n",
    "            w_name = company_name_list[0].split('corporation')[0]\n",
    "            company_name_list.append(w_name + 'corp')\n",
    "        words = company.split(' ')\n",
    "        for n in range(1, len(words)):\n",
    "            if words[0:n] not in company_name_list:\n",
    "                company_name_list.append(' '.join(words[0:n]))\n",
    "        expand_rel_company.update({company: company_name_list})\n",
    "    return expand_rel_company"
   ]
  },
  {
   "cell_type": "code",
   "execution_count": 13,
   "id": "3f506fef",
   "metadata": {
    "execution": {
     "iopub.execute_input": "2022-04-10T22:59:29.190298Z",
     "iopub.status.busy": "2022-04-10T22:59:29.190048Z",
     "iopub.status.idle": "2022-04-10T22:59:29.327809Z",
     "shell.execute_reply": "2022-04-10T22:59:29.327331Z"
    },
    "papermill": {
     "duration": 0.14885,
     "end_time": "2022-04-10T22:59:29.329316",
     "exception": false,
     "start_time": "2022-04-10T22:59:29.180466",
     "status": "completed"
    },
    "tags": []
   },
   "outputs": [
    {
     "ename": "FileNotFoundError",
     "evalue": "[Errno 2] No such file or directory: 'data/nasdaq_nyse_amax.csv'",
     "output_type": "error",
     "traceback": [
      "\u001b[0;31m---------------------------------------------------------------------------\u001b[0m",
      "\u001b[0;31mFileNotFoundError\u001b[0m                         Traceback (most recent call last)",
      "\u001b[0;32m<timed exec>\u001b[0m in \u001b[0;36m<module>\u001b[0;34m\u001b[0m\n",
      "\u001b[0;32m/var/folders/b0/4tc1nfbd6z7_vhx4nxcj2n91c0l9h6/T/ipykernel_91954/114913753.py\u001b[0m in \u001b[0;36mget_rel_company_names\u001b[0;34m(path)\u001b[0m\n\u001b[1;32m     13\u001b[0m \u001b[0;34m\u001b[0m\u001b[0m\n\u001b[1;32m     14\u001b[0m \u001b[0;32mdef\u001b[0m \u001b[0mget_rel_company_names\u001b[0m\u001b[0;34m(\u001b[0m\u001b[0mpath\u001b[0m\u001b[0;34m)\u001b[0m\u001b[0;34m:\u001b[0m\u001b[0;34m\u001b[0m\u001b[0;34m\u001b[0m\u001b[0m\n\u001b[0;32m---> 15\u001b[0;31m     \u001b[0mrel_company\u001b[0m \u001b[0;34m=\u001b[0m \u001b[0mpd\u001b[0m\u001b[0;34m.\u001b[0m\u001b[0mread_csv\u001b[0m\u001b[0;34m(\u001b[0m\u001b[0mpath\u001b[0m\u001b[0;34m)\u001b[0m\u001b[0;34m\u001b[0m\u001b[0;34m\u001b[0m\u001b[0m\n\u001b[0m\u001b[1;32m     16\u001b[0m     \u001b[0mrel_company\u001b[0m \u001b[0;34m=\u001b[0m \u001b[0mrel_company\u001b[0m\u001b[0;34m[\u001b[0m\u001b[0;34m'Name'\u001b[0m\u001b[0;34m]\u001b[0m\u001b[0;34m\u001b[0m\u001b[0;34m\u001b[0m\u001b[0m\n\u001b[1;32m     17\u001b[0m     \u001b[0mrel_company\u001b[0m \u001b[0;34m=\u001b[0m \u001b[0mrel_company\u001b[0m\u001b[0;34m.\u001b[0m\u001b[0mstr\u001b[0m\u001b[0;34m.\u001b[0m\u001b[0mlower\u001b[0m\u001b[0;34m(\u001b[0m\u001b[0;34m)\u001b[0m\u001b[0;34m\u001b[0m\u001b[0;34m\u001b[0m\u001b[0m\n",
      "\u001b[0;32m~/.local/share/virtualenvs/market_watch-dtlP-L11/lib/python3.9/site-packages/pandas/util/_decorators.py\u001b[0m in \u001b[0;36mwrapper\u001b[0;34m(*args, **kwargs)\u001b[0m\n\u001b[1;32m    309\u001b[0m                     \u001b[0mstacklevel\u001b[0m\u001b[0;34m=\u001b[0m\u001b[0mstacklevel\u001b[0m\u001b[0;34m,\u001b[0m\u001b[0;34m\u001b[0m\u001b[0;34m\u001b[0m\u001b[0m\n\u001b[1;32m    310\u001b[0m                 )\n\u001b[0;32m--> 311\u001b[0;31m             \u001b[0;32mreturn\u001b[0m \u001b[0mfunc\u001b[0m\u001b[0;34m(\u001b[0m\u001b[0;34m*\u001b[0m\u001b[0margs\u001b[0m\u001b[0;34m,\u001b[0m \u001b[0;34m**\u001b[0m\u001b[0mkwargs\u001b[0m\u001b[0;34m)\u001b[0m\u001b[0;34m\u001b[0m\u001b[0;34m\u001b[0m\u001b[0m\n\u001b[0m\u001b[1;32m    312\u001b[0m \u001b[0;34m\u001b[0m\u001b[0m\n\u001b[1;32m    313\u001b[0m         \u001b[0;32mreturn\u001b[0m \u001b[0mwrapper\u001b[0m\u001b[0;34m\u001b[0m\u001b[0;34m\u001b[0m\u001b[0m\n",
      "\u001b[0;32m~/.local/share/virtualenvs/market_watch-dtlP-L11/lib/python3.9/site-packages/pandas/io/parsers/readers.py\u001b[0m in \u001b[0;36mread_csv\u001b[0;34m(filepath_or_buffer, sep, delimiter, header, names, index_col, usecols, squeeze, prefix, mangle_dupe_cols, dtype, engine, converters, true_values, false_values, skipinitialspace, skiprows, skipfooter, nrows, na_values, keep_default_na, na_filter, verbose, skip_blank_lines, parse_dates, infer_datetime_format, keep_date_col, date_parser, dayfirst, cache_dates, iterator, chunksize, compression, thousands, decimal, lineterminator, quotechar, quoting, doublequote, escapechar, comment, encoding, encoding_errors, dialect, error_bad_lines, warn_bad_lines, on_bad_lines, delim_whitespace, low_memory, memory_map, float_precision, storage_options)\u001b[0m\n\u001b[1;32m    678\u001b[0m     \u001b[0mkwds\u001b[0m\u001b[0;34m.\u001b[0m\u001b[0mupdate\u001b[0m\u001b[0;34m(\u001b[0m\u001b[0mkwds_defaults\u001b[0m\u001b[0;34m)\u001b[0m\u001b[0;34m\u001b[0m\u001b[0;34m\u001b[0m\u001b[0m\n\u001b[1;32m    679\u001b[0m \u001b[0;34m\u001b[0m\u001b[0m\n\u001b[0;32m--> 680\u001b[0;31m     \u001b[0;32mreturn\u001b[0m \u001b[0m_read\u001b[0m\u001b[0;34m(\u001b[0m\u001b[0mfilepath_or_buffer\u001b[0m\u001b[0;34m,\u001b[0m \u001b[0mkwds\u001b[0m\u001b[0;34m)\u001b[0m\u001b[0;34m\u001b[0m\u001b[0;34m\u001b[0m\u001b[0m\n\u001b[0m\u001b[1;32m    681\u001b[0m \u001b[0;34m\u001b[0m\u001b[0m\n\u001b[1;32m    682\u001b[0m \u001b[0;34m\u001b[0m\u001b[0m\n",
      "\u001b[0;32m~/.local/share/virtualenvs/market_watch-dtlP-L11/lib/python3.9/site-packages/pandas/io/parsers/readers.py\u001b[0m in \u001b[0;36m_read\u001b[0;34m(filepath_or_buffer, kwds)\u001b[0m\n\u001b[1;32m    573\u001b[0m \u001b[0;34m\u001b[0m\u001b[0m\n\u001b[1;32m    574\u001b[0m     \u001b[0;31m# Create the parser.\u001b[0m\u001b[0;34m\u001b[0m\u001b[0;34m\u001b[0m\u001b[0m\n\u001b[0;32m--> 575\u001b[0;31m     \u001b[0mparser\u001b[0m \u001b[0;34m=\u001b[0m \u001b[0mTextFileReader\u001b[0m\u001b[0;34m(\u001b[0m\u001b[0mfilepath_or_buffer\u001b[0m\u001b[0;34m,\u001b[0m \u001b[0;34m**\u001b[0m\u001b[0mkwds\u001b[0m\u001b[0;34m)\u001b[0m\u001b[0;34m\u001b[0m\u001b[0;34m\u001b[0m\u001b[0m\n\u001b[0m\u001b[1;32m    576\u001b[0m \u001b[0;34m\u001b[0m\u001b[0m\n\u001b[1;32m    577\u001b[0m     \u001b[0;32mif\u001b[0m \u001b[0mchunksize\u001b[0m \u001b[0;32mor\u001b[0m \u001b[0miterator\u001b[0m\u001b[0;34m:\u001b[0m\u001b[0;34m\u001b[0m\u001b[0;34m\u001b[0m\u001b[0m\n",
      "\u001b[0;32m~/.local/share/virtualenvs/market_watch-dtlP-L11/lib/python3.9/site-packages/pandas/io/parsers/readers.py\u001b[0m in \u001b[0;36m__init__\u001b[0;34m(self, f, engine, **kwds)\u001b[0m\n\u001b[1;32m    931\u001b[0m \u001b[0;34m\u001b[0m\u001b[0m\n\u001b[1;32m    932\u001b[0m         \u001b[0mself\u001b[0m\u001b[0;34m.\u001b[0m\u001b[0mhandles\u001b[0m\u001b[0;34m:\u001b[0m \u001b[0mIOHandles\u001b[0m \u001b[0;34m|\u001b[0m \u001b[0;32mNone\u001b[0m \u001b[0;34m=\u001b[0m \u001b[0;32mNone\u001b[0m\u001b[0;34m\u001b[0m\u001b[0;34m\u001b[0m\u001b[0m\n\u001b[0;32m--> 933\u001b[0;31m         \u001b[0mself\u001b[0m\u001b[0;34m.\u001b[0m\u001b[0m_engine\u001b[0m \u001b[0;34m=\u001b[0m \u001b[0mself\u001b[0m\u001b[0;34m.\u001b[0m\u001b[0m_make_engine\u001b[0m\u001b[0;34m(\u001b[0m\u001b[0mf\u001b[0m\u001b[0;34m,\u001b[0m \u001b[0mself\u001b[0m\u001b[0;34m.\u001b[0m\u001b[0mengine\u001b[0m\u001b[0;34m)\u001b[0m\u001b[0;34m\u001b[0m\u001b[0;34m\u001b[0m\u001b[0m\n\u001b[0m\u001b[1;32m    934\u001b[0m \u001b[0;34m\u001b[0m\u001b[0m\n\u001b[1;32m    935\u001b[0m     \u001b[0;32mdef\u001b[0m \u001b[0mclose\u001b[0m\u001b[0;34m(\u001b[0m\u001b[0mself\u001b[0m\u001b[0;34m)\u001b[0m\u001b[0;34m:\u001b[0m\u001b[0;34m\u001b[0m\u001b[0;34m\u001b[0m\u001b[0m\n",
      "\u001b[0;32m~/.local/share/virtualenvs/market_watch-dtlP-L11/lib/python3.9/site-packages/pandas/io/parsers/readers.py\u001b[0m in \u001b[0;36m_make_engine\u001b[0;34m(self, f, engine)\u001b[0m\n\u001b[1;32m   1215\u001b[0m             \u001b[0;31m# \"Union[str, PathLike[str], ReadCsvBuffer[bytes], ReadCsvBuffer[str]]\"\u001b[0m\u001b[0;34m\u001b[0m\u001b[0;34m\u001b[0m\u001b[0m\n\u001b[1;32m   1216\u001b[0m             \u001b[0;31m# , \"str\", \"bool\", \"Any\", \"Any\", \"Any\", \"Any\", \"Any\"\u001b[0m\u001b[0;34m\u001b[0m\u001b[0;34m\u001b[0m\u001b[0m\n\u001b[0;32m-> 1217\u001b[0;31m             self.handles = get_handle(  # type: ignore[call-overload]\n\u001b[0m\u001b[1;32m   1218\u001b[0m                 \u001b[0mf\u001b[0m\u001b[0;34m,\u001b[0m\u001b[0;34m\u001b[0m\u001b[0;34m\u001b[0m\u001b[0m\n\u001b[1;32m   1219\u001b[0m                 \u001b[0mmode\u001b[0m\u001b[0;34m,\u001b[0m\u001b[0;34m\u001b[0m\u001b[0;34m\u001b[0m\u001b[0m\n",
      "\u001b[0;32m~/.local/share/virtualenvs/market_watch-dtlP-L11/lib/python3.9/site-packages/pandas/io/common.py\u001b[0m in \u001b[0;36mget_handle\u001b[0;34m(path_or_buf, mode, encoding, compression, memory_map, is_text, errors, storage_options)\u001b[0m\n\u001b[1;32m    787\u001b[0m         \u001b[0;32mif\u001b[0m \u001b[0mioargs\u001b[0m\u001b[0;34m.\u001b[0m\u001b[0mencoding\u001b[0m \u001b[0;32mand\u001b[0m \u001b[0;34m\"b\"\u001b[0m \u001b[0;32mnot\u001b[0m \u001b[0;32min\u001b[0m \u001b[0mioargs\u001b[0m\u001b[0;34m.\u001b[0m\u001b[0mmode\u001b[0m\u001b[0;34m:\u001b[0m\u001b[0;34m\u001b[0m\u001b[0;34m\u001b[0m\u001b[0m\n\u001b[1;32m    788\u001b[0m             \u001b[0;31m# Encoding\u001b[0m\u001b[0;34m\u001b[0m\u001b[0;34m\u001b[0m\u001b[0m\n\u001b[0;32m--> 789\u001b[0;31m             handle = open(\n\u001b[0m\u001b[1;32m    790\u001b[0m                 \u001b[0mhandle\u001b[0m\u001b[0;34m,\u001b[0m\u001b[0;34m\u001b[0m\u001b[0;34m\u001b[0m\u001b[0m\n\u001b[1;32m    791\u001b[0m                 \u001b[0mioargs\u001b[0m\u001b[0;34m.\u001b[0m\u001b[0mmode\u001b[0m\u001b[0;34m,\u001b[0m\u001b[0;34m\u001b[0m\u001b[0;34m\u001b[0m\u001b[0m\n",
      "\u001b[0;31mFileNotFoundError\u001b[0m: [Errno 2] No such file or directory: 'data/nasdaq_nyse_amax.csv'"
     ]
    }
   ],
   "source": [
    "%%time\n",
    "\n",
    "\n",
    "exchanges_dict = get_rel_company_names(exchanges_path)\n",
    "\n",
    "\n",
    "def fetch_counter_data(bqclient, table_name, start, exchanges_dict):\n",
    "    word_list = []\n",
    "    date_range = create_increments(start)\n",
    "    sp500_names = [val for list_ in exchanges_dict.values() for val in list_]\n",
    "    if len(date_range) == 0:\n",
    "        end_date = utils.gdelt_date_format(datetime.date.today())\n",
    "        date_range = [(start, end_date)]\n",
    "    for start_dates, end_date in tqdm(date_range):\n",
    "\n",
    "        query_string = build_gdelt_query_for_counter(table_name, start_dates, end_date)\n",
    "        text = (\n",
    "            bqclient.query(query_string)\n",
    "                .result()\n",
    "                .to_dataframe(\n",
    "                # Optionally, explicitly request to use the BigQuery Storage API. As of\n",
    "                # google-cloud-bigquery version 1.26.0 and above, the BigQuery Storage\n",
    "                # API is used by default.\n",
    "                create_bqstorage_client=True,\n",
    "            ))\n",
    "        print('Size: ', len(text))\n",
    "        # print('Query: ', datetime.datetime.now())\n",
    "        # text= re.sub('\\\\n\\d+' , ' ', series.to_string())\n",
    "        text = text.replace('Organizations', '', limit=1)\n",
    "        text.dropna(inplace=True)\n",
    "        text = text['Organizations'].map(lambda x: re.sub('\\s{2,}', '', x))\n",
    "        text = text.str.lower()\n",
    "        text = text.map(lambda x: re.split(',\\d+;?', x))\n",
    "        # print('Mapping: ', datetime.datetime.now())\n",
    "\n",
    "        sp_count = 0\n",
    "        for n, item in text.iteritems():\n",
    "            for word in item:\n",
    "                if word in sp500_names:\n",
    "                    for key, names_list in exchanges_dict.items():\n",
    "                        if word in names_list:\n",
    "                            word_list.append(key)\n",
    "                            sp_count += 1\n",
    "                else:\n",
    "                    word_list.append(word)\n",
    "    result = collections.Counter(word_list)\n",
    "    result = {k: v for k, v in sorted(result.items(), key=lambda x: x[1], reverse=True)}\n",
    "    print(sp_count)\n",
    "\n",
    "    return result\n",
    "\n",
    "\n",
    "counts = fetch_counter_data(client, table_name, start_date, exchanges_dict)"
   ]
  },
  {
   "cell_type": "markdown",
   "id": "0acc6374",
   "metadata": {
    "tags": [
     "papermill-error-cell-tag"
    ]
   },
   "source": [
    "<span id=\"papermill-error-cell\" style=\"color:red; font-family:Helvetica Neue, Helvetica, Arial, sans-serif; font-size:2em;\">Execution using papermill encountered an exception here and stopped:</span>"
   ]
  },
  {
   "cell_type": "code",
   "execution_count": 14,
   "id": "df719234",
   "metadata": {
    "execution": {
     "iopub.execute_input": "2022-04-10T22:59:29.348913Z",
     "iopub.status.busy": "2022-04-10T22:59:29.348722Z",
     "iopub.status.idle": "2022-04-10T22:59:29.356399Z",
     "shell.execute_reply": "2022-04-10T22:59:29.355525Z"
    },
    "lines_to_next_cell": 2,
    "papermill": {
     "duration": 0.018964,
     "end_time": "2022-04-10T22:59:29.357683",
     "exception": true,
     "start_time": "2022-04-10T22:59:29.338719",
     "status": "failed"
    },
    "tags": []
   },
   "outputs": [
    {
     "ename": "NameError",
     "evalue": "name 'counts' is not defined",
     "output_type": "error",
     "traceback": [
      "\u001b[0;31m---------------------------------------------------------------------------\u001b[0m",
      "\u001b[0;31mNameError\u001b[0m                                 Traceback (most recent call last)",
      "\u001b[0;32m/var/folders/b0/4tc1nfbd6z7_vhx4nxcj2n91c0l9h6/T/ipykernel_91954/3173784607.py\u001b[0m in \u001b[0;36m<cell line: 1>\u001b[0;34m()\u001b[0m\n\u001b[1;32m      1\u001b[0m \u001b[0;32mwith\u001b[0m \u001b[0mopen\u001b[0m\u001b[0;34m(\u001b[0m\u001b[0mcount_file_path\u001b[0m\u001b[0;34m,\u001b[0m \u001b[0;34m'w'\u001b[0m\u001b[0;34m)\u001b[0m \u001b[0;32mas\u001b[0m \u001b[0mconvert_file\u001b[0m\u001b[0;34m:\u001b[0m\u001b[0;34m\u001b[0m\u001b[0;34m\u001b[0m\u001b[0m\n\u001b[0;32m----> 2\u001b[0;31m     \u001b[0mconvert_file\u001b[0m\u001b[0;34m.\u001b[0m\u001b[0mwrite\u001b[0m\u001b[0;34m(\u001b[0m\u001b[0mjson\u001b[0m\u001b[0;34m.\u001b[0m\u001b[0mdumps\u001b[0m\u001b[0;34m(\u001b[0m\u001b[0mcounts\u001b[0m\u001b[0;34m)\u001b[0m\u001b[0;34m)\u001b[0m\u001b[0;34m\u001b[0m\u001b[0;34m\u001b[0m\u001b[0m\n\u001b[0m",
      "\u001b[0;31mNameError\u001b[0m: name 'counts' is not defined"
     ]
    }
   ],
   "source": [
    "with open(count_file_path, 'w') as convert_file:\n",
    "    convert_file.write(json.dumps(counts))"
   ]
  }
 ],
 "metadata": {
  "jupytext": {
   "cell_metadata_filter": "tags,-all",
   "main_language": "python",
   "notebook_metadata_filter": "-all",
   "text_representation": {
    "extension": ".py",
    "format_name": "light"
   }
  },
  "kernelspec": {
   "display_name": "Python 3 (ipykernel)",
   "language": "python",
   "name": "python3"
  },
  "language_info": {
   "codemirror_mode": {
    "name": "ipython",
    "version": 3
   },
   "file_extension": ".py",
   "mimetype": "text/x-python",
   "name": "python",
   "nbconvert_exporter": "python",
   "pygments_lexer": "ipython3",
   "version": "3.9.10"
  },
  "papermill": {
   "duration": 11.618459,
   "end_time": "2022-04-10T22:59:29.689260",
   "exception": true,
   "input_path": "/var/folders/b0/4tc1nfbd6z7_vhx4nxcj2n91c0l9h6/T/tmpkgaprkjq.ipynb",
   "output_path": "/Users/aiujdm2/market_watch/output/notebooks/fetch_n_filter_gdelt_bq.ipynb",
   "parameters": {
    "product": {
     "data": "/Users/aiujdm2/market_watch/output/data/raw",
     "nb": "/Users/aiujdm2/market_watch/output/notebooks/fetch_n_filter_gdelt_bq.ipynb"
    },
    "query_params": {
     "bq_table_name": "`gdelt-bq.gdeltv2.gkg`",
     "exchanges_path": "data/nasdaq_nyse_amax.csv",
     "rolling_window": 90,
     "search_term": "tesla",
     "sp500_path": "data/"
    }
   },
   "start_time": "2022-04-10T22:59:18.070801"
  }
 },
 "nbformat": 4,
 "nbformat_minor": 5
}