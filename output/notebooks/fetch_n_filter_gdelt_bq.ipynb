{
 "cells": [
  {
   "cell_type": "code",
   "execution_count": 1,
   "id": "1b2445b9",
   "metadata": {
    "execution": {
     "iopub.execute_input": "2022-03-22T00:11:10.591239Z",
     "iopub.status.busy": "2022-03-22T00:11:10.590946Z",
     "iopub.status.idle": "2022-03-22T00:11:10.598411Z",
     "shell.execute_reply": "2022-03-22T00:11:10.597852Z"
    },
    "papermill": {
     "duration": 0.020694,
     "end_time": "2022-03-22T00:11:10.600259",
     "exception": false,
     "start_time": "2022-03-22T00:11:10.579565",
     "status": "completed"
    },
    "tags": [
     "parameters"
    ]
   },
   "outputs": [],
   "source": [
    "# declare a list tasks whose products you want to use as inputs\n",
    "upstream = None"
   ]
  },
  {
   "cell_type": "code",
   "execution_count": 2,
   "id": "6d33ebc2",
   "metadata": {
    "execution": {
     "iopub.execute_input": "2022-03-22T00:11:10.617224Z",
     "iopub.status.busy": "2022-03-22T00:11:10.617005Z",
     "iopub.status.idle": "2022-03-22T00:11:10.620286Z",
     "shell.execute_reply": "2022-03-22T00:11:10.619625Z"
    },
    "papermill": {
     "duration": 0.013368,
     "end_time": "2022-03-22T00:11:10.622028",
     "exception": false,
     "start_time": "2022-03-22T00:11:10.608660",
     "status": "completed"
    },
    "tags": [
     "injected-parameters"
    ]
   },
   "outputs": [],
   "source": [
    "# Parameters\n",
    "query_params = {\n",
    "    \"rolling_window\": 90,\n",
    "    \"search_term\": \"tesla\",\n",
    "    \"bq_table_name\": \"`gdelt-bq.gdeltv2.gkg`\",\n",
    "}\n",
    "product = {\n",
    "    \"nb\": \"/Users/aiujdm2/market_watch/output/notebooks/fetch_n_filter_gdelt_bq.ipynb\",\n",
    "    \"data\": \"/Users/aiujdm2/market_watch/output/data/raw/gdelt-gkg-bq.csv\",\n",
    "}\n"
   ]
  },
  {
   "cell_type": "code",
   "execution_count": 3,
   "id": "1b32ed47",
   "metadata": {
    "execution": {
     "iopub.execute_input": "2022-03-22T00:11:10.637496Z",
     "iopub.status.busy": "2022-03-22T00:11:10.637288Z",
     "iopub.status.idle": "2022-03-22T00:11:11.124240Z",
     "shell.execute_reply": "2022-03-22T00:11:11.123571Z"
    },
    "papermill": {
     "duration": 0.496747,
     "end_time": "2022-03-22T00:11:11.126106",
     "exception": false,
     "start_time": "2022-03-22T00:11:10.629359",
     "status": "completed"
    },
    "tags": []
   },
   "outputs": [],
   "source": [
    "from pathlib import Path\n",
    "from dotenv import load_dotenv, find_dotenv\n",
    "from datetime import datetime, timedelta\n",
    "from google.cloud import bigquery\n",
    "\n",
    "import pandas as pd\n",
    "import os\n",
    "import sys\n",
    "import warnings\n",
    "\n",
    "# import numpy as np\n",
    "# import altair as alt\n",
    "# from altair import datum\n",
    "# alt.data_transformers.disable_max_rows()\n",
    "# alt.themes.enable('fivethirtyeight')\n",
    "\n",
    "ret_value = load_dotenv(find_dotenv('market_watch.env'))\n",
    "warnings.filterwarnings('ignore')"
   ]
  },
  {
   "cell_type": "code",
   "execution_count": 4,
   "id": "0910af9a",
   "metadata": {
    "execution": {
     "iopub.execute_input": "2022-03-22T00:11:11.141886Z",
     "iopub.status.busy": "2022-03-22T00:11:11.141684Z",
     "iopub.status.idle": "2022-03-22T00:11:11.145051Z",
     "shell.execute_reply": "2022-03-22T00:11:11.144463Z"
    },
    "papermill": {
     "duration": 0.012975,
     "end_time": "2022-03-22T00:11:11.146693",
     "exception": false,
     "start_time": "2022-03-22T00:11:11.133718",
     "status": "completed"
    },
    "tags": []
   },
   "outputs": [
    {
     "name": "stdout",
     "output_type": "stream",
     "text": [
      "/Users/aiujdm2/.local/share/virtualenvs/market_watch-dtlP-L11/bin/python\n",
      "/Users/aiujdm2/.ssh/vgaurav-4d0e95d3663a.json\n"
     ]
    }
   ],
   "source": [
    "print(sys.executable)\n",
    "api_key_file = os.environ['GOOGLE_APPLICATION_CREDENTIALS']\n",
    "print(api_key_file)"
   ]
  },
  {
   "cell_type": "code",
   "execution_count": 5,
   "id": "29f938f4",
   "metadata": {
    "execution": {
     "iopub.execute_input": "2022-03-22T00:11:11.160642Z",
     "iopub.status.busy": "2022-03-22T00:11:11.160426Z",
     "iopub.status.idle": "2022-03-22T00:11:11.164626Z",
     "shell.execute_reply": "2022-03-22T00:11:11.164176Z"
    },
    "papermill": {
     "duration": 0.013174,
     "end_time": "2022-03-22T00:11:11.166419",
     "exception": false,
     "start_time": "2022-03-22T00:11:11.153245",
     "status": "completed"
    },
    "tags": []
   },
   "outputs": [],
   "source": [
    "def get_start_date(window):\n",
    "    # get today's UTC datetime\n",
    "    today = datetime.utcnow()\n",
    "    # round datetime to nearest 15min slot\n",
    "    pd_ts = pd.Timestamp(today)\n",
    "    today_ts = pd_ts.round('15T')\n",
    "    # how far back we want to go?\n",
    "    how_far_back = timedelta(days=window)\n",
    "    start_date = today_ts - how_far_back\n",
    "    \n",
    "    return start_date.strftime(\"%Y%m%d%H%M00\")"
   ]
  },
  {
   "cell_type": "code",
   "execution_count": 6,
   "id": "97121553",
   "metadata": {
    "execution": {
     "iopub.execute_input": "2022-03-22T00:11:11.180171Z",
     "iopub.status.busy": "2022-03-22T00:11:11.179978Z",
     "iopub.status.idle": "2022-03-22T00:11:11.183047Z",
     "shell.execute_reply": "2022-03-22T00:11:11.182635Z"
    },
    "papermill": {
     "duration": 0.011967,
     "end_time": "2022-03-22T00:11:11.184970",
     "exception": false,
     "start_time": "2022-03-22T00:11:11.173003",
     "status": "completed"
    },
    "tags": []
   },
   "outputs": [],
   "source": [
    "def build_gdelt_query(table_name, search_term, start_date):\n",
    "\n",
    "    query_string = f\"\"\"\n",
    "        SELECT\n",
    "          GKGRECORDID,\n",
    "          DATE,\n",
    "          SourceCollectionIdentifier,\n",
    "          DocumentIdentifier,\n",
    "          V2Locations AS Locations,\n",
    "          V2Persons AS Persons,\n",
    "          V2Organizations AS Organizations,\n",
    "          V2Tone AS Tone\n",
    "        FROM\n",
    "          {table_name}\n",
    "        WHERE\n",
    "          LOWER(Organizations) LIKE \"%{search_term}%\"\n",
    "          AND DATE > {start_date}\n",
    "    \"\"\"\n",
    "    return query_string"
   ]
  },
  {
   "cell_type": "code",
   "execution_count": 7,
   "id": "7dc8c0d1",
   "metadata": {
    "execution": {
     "iopub.execute_input": "2022-03-22T00:11:11.198059Z",
     "iopub.status.busy": "2022-03-22T00:11:11.197879Z",
     "iopub.status.idle": "2022-03-22T00:11:11.201724Z",
     "shell.execute_reply": "2022-03-22T00:11:11.201153Z"
    },
    "papermill": {
     "duration": 0.012261,
     "end_time": "2022-03-22T00:11:11.203333",
     "exception": false,
     "start_time": "2022-03-22T00:11:11.191072",
     "status": "completed"
    },
    "tags": []
   },
   "outputs": [],
   "source": [
    "def fetch_data(bqclient, query_string):\n",
    "    df = (\n",
    "        bqclient.query(query_string)\n",
    "        .result()\n",
    "        .to_dataframe(\n",
    "            # Optionally, explicitly request to use the BigQuery Storage API. As of\n",
    "            # google-cloud-bigquery version 1.26.0 and above, the BigQuery Storage\n",
    "            # API is used by default.\n",
    "            create_bqstorage_client=True,\n",
    "        )\n",
    "    )\n",
    "    return df"
   ]
  },
  {
   "cell_type": "code",
   "execution_count": 8,
   "id": "792a34aa",
   "metadata": {
    "execution": {
     "iopub.execute_input": "2022-03-22T00:11:11.217756Z",
     "iopub.status.busy": "2022-03-22T00:11:11.217612Z",
     "iopub.status.idle": "2022-03-22T00:11:11.221186Z",
     "shell.execute_reply": "2022-03-22T00:11:11.220706Z"
    },
    "papermill": {
     "duration": 0.012435,
     "end_time": "2022-03-22T00:11:11.222718",
     "exception": false,
     "start_time": "2022-03-22T00:11:11.210283",
     "status": "completed"
    },
    "tags": []
   },
   "outputs": [
    {
     "name": "stdout",
     "output_type": "stream",
     "text": [
      "\n",
      "        SELECT\n",
      "          GKGRECORDID,\n",
      "          DATE,\n",
      "          SourceCollectionIdentifier,\n",
      "          DocumentIdentifier,\n",
      "          V2Locations AS Locations,\n",
      "          V2Persons AS Persons,\n",
      "          V2Organizations AS Organizations,\n",
      "          V2Tone AS Tone\n",
      "        FROM\n",
      "          `gdelt-bq.gdeltv2.gkg`\n",
      "        WHERE\n",
      "          LOWER(Organizations) LIKE \"%tesla%\"\n",
      "          AND DATE > 20211222001500\n",
      "    \n"
     ]
    }
   ],
   "source": [
    "rolling_window = query_params[\"rolling_window\"]\n",
    "table_name = query_params[\"bq_table_name\"]\n",
    "search_term = query_params[\"search_term\"]\n",
    "file_path = product[\"data\"]\n",
    "start_date = get_start_date(rolling_window)\n",
    "query = build_gdelt_query(table_name, search_term, start_date)\n",
    "print(query)"
   ]
  },
  {
   "cell_type": "code",
   "execution_count": 9,
   "id": "551f6506",
   "metadata": {
    "execution": {
     "iopub.execute_input": "2022-03-22T00:11:11.236970Z",
     "iopub.status.busy": "2022-03-22T00:11:11.236822Z",
     "iopub.status.idle": "2022-03-22T00:11:20.374409Z",
     "shell.execute_reply": "2022-03-22T00:11:20.373802Z"
    },
    "lines_to_next_cell": 2,
    "papermill": {
     "duration": 9.146988,
     "end_time": "2022-03-22T00:11:20.376403",
     "exception": false,
     "start_time": "2022-03-22T00:11:11.229415",
     "status": "completed"
    },
    "tags": []
   },
   "outputs": [
    {
     "name": "stdout",
     "output_type": "stream",
     "text": [
      "Processed merged file with 7305 records\n"
     ]
    }
   ],
   "source": [
    "client = bigquery.Client()\n",
    "data_df = fetch_data(client, query)\n",
    "print(f\"Processed merged file with {len(data_df)} records\")"
   ]
  },
  {
   "cell_type": "code",
   "execution_count": 10,
   "id": "441e938d",
   "metadata": {
    "execution": {
     "iopub.execute_input": "2022-03-22T00:11:20.397290Z",
     "iopub.status.busy": "2022-03-22T00:11:20.397071Z",
     "iopub.status.idle": "2022-03-22T00:11:20.579772Z",
     "shell.execute_reply": "2022-03-22T00:11:20.579237Z"
    },
    "papermill": {
     "duration": 0.195058,
     "end_time": "2022-03-22T00:11:20.581504",
     "exception": false,
     "start_time": "2022-03-22T00:11:20.386446",
     "status": "completed"
    },
    "tags": []
   },
   "outputs": [
    {
     "name": "stdout",
     "output_type": "stream",
     "text": [
      "Saved file /Users/aiujdm2/market_watch/output/data/raw/gdelt-gkg-bq.csv\n"
     ]
    }
   ],
   "source": [
    "# Save records\n",
    "Path(file_path).parent.mkdir(exist_ok=True, parents=True)\n",
    "data_df.to_csv(file_path)\n",
    "print(f\"Saved file {file_path}\")"
   ]
  },
  {
   "cell_type": "code",
   "execution_count": null,
   "id": "332837d9",
   "metadata": {
    "papermill": {
     "duration": 0.007873,
     "end_time": "2022-03-22T00:11:20.597134",
     "exception": false,
     "start_time": "2022-03-22T00:11:20.589261",
     "status": "completed"
    },
    "tags": []
   },
   "outputs": [],
   "source": []
  }
 ],
 "metadata": {
  "jupytext": {
   "cell_metadata_filter": "tags,-all",
   "main_language": "python",
   "notebook_metadata_filter": "-all",
   "text_representation": {
    "extension": ".py",
    "format_name": "light"
   }
  },
  "kernelspec": {
   "display_name": "Python 3 (ipykernel)",
   "language": "python",
   "name": "python3"
  },
  "language_info": {
   "codemirror_mode": {
    "name": "ipython",
    "version": 3
   },
   "file_extension": ".py",
   "mimetype": "text/x-python",
   "name": "python",
   "nbconvert_exporter": "python",
   "pygments_lexer": "ipython3",
   "version": "3.9.10"
  },
  "papermill": {
   "duration": 11.268019,
   "end_time": "2022-03-22T00:11:20.926871",
   "exception": null,
   "input_path": "/var/folders/b0/4tc1nfbd6z7_vhx4nxcj2n91c0l9h6/T/tmpbjxtc9g5.ipynb",
   "output_path": "/Users/aiujdm2/market_watch/output/notebooks/fetch_n_filter_gdelt_bq.ipynb",
   "parameters": {
    "product": {
     "data": "/Users/aiujdm2/market_watch/output/data/raw/gdelt-gkg-bq.csv",
     "nb": "/Users/aiujdm2/market_watch/output/notebooks/fetch_n_filter_gdelt_bq.ipynb"
    },
    "query_params": {
     "bq_table_name": "`gdelt-bq.gdeltv2.gkg`",
     "rolling_window": 90,
     "search_term": "tesla"
    }
   },
   "start_time": "2022-03-22T00:11:09.658852"
  }
 },
 "nbformat": 4,
 "nbformat_minor": 5
}