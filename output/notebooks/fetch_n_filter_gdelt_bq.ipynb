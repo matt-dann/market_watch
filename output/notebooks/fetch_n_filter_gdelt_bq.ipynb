{
 "cells": [
  {
   "cell_type": "code",
   "execution_count": 1,
   "id": "118c92fd",
   "metadata": {
    "execution": {
     "iopub.execute_input": "2022-03-23T18:29:39.566619Z",
     "iopub.status.busy": "2022-03-23T18:29:39.566320Z",
     "iopub.status.idle": "2022-03-23T18:29:39.574051Z",
     "shell.execute_reply": "2022-03-23T18:29:39.573455Z"
    },
    "papermill": {
     "duration": 0.020868,
     "end_time": "2022-03-23T18:29:39.576179",
     "exception": false,
     "start_time": "2022-03-23T18:29:39.555311",
     "status": "completed"
    },
    "tags": [
     "parameters"
    ]
   },
   "outputs": [],
   "source": [
    "# declare a list tasks whose products you want to use as inputs\n",
    "upstream = None"
   ]
  },
  {
   "cell_type": "code",
   "execution_count": 2,
   "id": "369e4f82",
   "metadata": {
    "execution": {
     "iopub.execute_input": "2022-03-23T18:29:39.592138Z",
     "iopub.status.busy": "2022-03-23T18:29:39.591921Z",
     "iopub.status.idle": "2022-03-23T18:29:39.595335Z",
     "shell.execute_reply": "2022-03-23T18:29:39.594749Z"
    },
    "papermill": {
     "duration": 0.013128,
     "end_time": "2022-03-23T18:29:39.597133",
     "exception": false,
     "start_time": "2022-03-23T18:29:39.584005",
     "status": "completed"
    },
    "tags": [
     "injected-parameters"
    ]
   },
   "outputs": [],
   "source": [
    "# Parameters\n",
    "query_params = {\n",
    "    \"rolling_window\": 90,\n",
    "    \"search_term\": \"tesla\",\n",
    "    \"bq_table_name\": \"`gdelt-bq.gdeltv2.gkg`\",\n",
    "}\n",
    "product = {\n",
    "    \"nb\": \"/Users/aiujdm2/market_watch/output/notebooks/fetch_n_filter_gdelt_bq.ipynb\",\n",
    "    \"data\": \"/Users/aiujdm2/market_watch/output/data/raw/gdelt_gkg_bqdata-raw.csv\",\n",
    "}\n"
   ]
  },
  {
   "cell_type": "code",
   "execution_count": 3,
   "id": "25ec6e75",
   "metadata": {
    "execution": {
     "iopub.execute_input": "2022-03-23T18:29:39.611395Z",
     "iopub.status.busy": "2022-03-23T18:29:39.611184Z",
     "iopub.status.idle": "2022-03-23T18:29:40.098647Z",
     "shell.execute_reply": "2022-03-23T18:29:40.098115Z"
    },
    "papermill": {
     "duration": 0.496667,
     "end_time": "2022-03-23T18:29:40.100510",
     "exception": false,
     "start_time": "2022-03-23T18:29:39.603843",
     "status": "completed"
    },
    "tags": []
   },
   "outputs": [],
   "source": [
    "from pathlib import Path\n",
    "from dotenv import load_dotenv, find_dotenv\n",
    "from google.cloud import bigquery\n",
    "\n",
    "import os\n",
    "import sys\n",
    "import warnings\n",
    "from src import utils\n",
    "\n",
    "warnings.filterwarnings('ignore')"
   ]
  },
  {
   "cell_type": "code",
   "execution_count": 4,
   "id": "14b3faa5",
   "metadata": {
    "execution": {
     "iopub.execute_input": "2022-03-23T18:29:40.114633Z",
     "iopub.status.busy": "2022-03-23T18:29:40.114438Z",
     "iopub.status.idle": "2022-03-23T18:29:40.123075Z",
     "shell.execute_reply": "2022-03-23T18:29:40.122518Z"
    },
    "papermill": {
     "duration": 0.017678,
     "end_time": "2022-03-23T18:29:40.125060",
     "exception": false,
     "start_time": "2022-03-23T18:29:40.107382",
     "status": "completed"
    },
    "tags": []
   },
   "outputs": [
    {
     "data": {
      "text/plain": [
       "True"
      ]
     },
     "execution_count": 4,
     "metadata": {},
     "output_type": "execute_result"
    }
   ],
   "source": [
    "load_dotenv(find_dotenv('market_watch.env'))"
   ]
  },
  {
   "cell_type": "code",
   "execution_count": 5,
   "id": "e98b7feb",
   "metadata": {
    "execution": {
     "iopub.execute_input": "2022-03-23T18:29:40.137573Z",
     "iopub.status.busy": "2022-03-23T18:29:40.137374Z",
     "iopub.status.idle": "2022-03-23T18:29:40.140838Z",
     "shell.execute_reply": "2022-03-23T18:29:40.140427Z"
    },
    "papermill": {
     "duration": 0.011242,
     "end_time": "2022-03-23T18:29:40.142339",
     "exception": false,
     "start_time": "2022-03-23T18:29:40.131097",
     "status": "completed"
    },
    "tags": []
   },
   "outputs": [
    {
     "name": "stdout",
     "output_type": "stream",
     "text": [
      "/Users/aiujdm2/.local/share/virtualenvs/market_watch-dtlP-L11/bin/python\n",
      "/Users/aiujdm2/.ssh/vgaurav-4d0e95d3663a.json\n"
     ]
    }
   ],
   "source": [
    "print(sys.executable)\n",
    "api_key_file = os.environ['GOOGLE_APPLICATION_CREDENTIALS']\n",
    "print(api_key_file)"
   ]
  },
  {
   "cell_type": "code",
   "execution_count": 6,
   "id": "ef7bf966",
   "metadata": {
    "execution": {
     "iopub.execute_input": "2022-03-23T18:29:40.157766Z",
     "iopub.status.busy": "2022-03-23T18:29:40.157125Z",
     "iopub.status.idle": "2022-03-23T18:29:40.160913Z",
     "shell.execute_reply": "2022-03-23T18:29:40.160332Z"
    },
    "papermill": {
     "duration": 0.012896,
     "end_time": "2022-03-23T18:29:40.162535",
     "exception": false,
     "start_time": "2022-03-23T18:29:40.149639",
     "status": "completed"
    },
    "tags": []
   },
   "outputs": [],
   "source": [
    "def build_gdelt_query(table_name, search_term, start_date):\n",
    "    query_string = f\"\"\"\n",
    "        SELECT\n",
    "          GKGRECORDID,\n",
    "          DATE,\n",
    "          SourceCollectionIdentifier,\n",
    "          DocumentIdentifier,\n",
    "          V2Locations AS Locations,\n",
    "          V2Persons AS Persons,\n",
    "          V2Organizations AS Organizations,\n",
    "          V2Tone AS Tone\n",
    "        FROM\n",
    "          {table_name}\n",
    "        WHERE\n",
    "          LOWER(Organizations) LIKE \"%{search_term}%\"\n",
    "          AND DATE > {start_date}\n",
    "    \"\"\"\n",
    "    return query_string"
   ]
  },
  {
   "cell_type": "code",
   "execution_count": 7,
   "id": "8aa02834",
   "metadata": {
    "execution": {
     "iopub.execute_input": "2022-03-23T18:29:40.175799Z",
     "iopub.status.busy": "2022-03-23T18:29:40.175582Z",
     "iopub.status.idle": "2022-03-23T18:29:40.179108Z",
     "shell.execute_reply": "2022-03-23T18:29:40.178529Z"
    },
    "papermill": {
     "duration": 0.012062,
     "end_time": "2022-03-23T18:29:40.180851",
     "exception": false,
     "start_time": "2022-03-23T18:29:40.168789",
     "status": "completed"
    },
    "tags": []
   },
   "outputs": [],
   "source": [
    "def fetch_data(bqclient, query_string):\n",
    "    df = (\n",
    "        bqclient.query(query_string)\n",
    "            .result()\n",
    "            .to_dataframe(\n",
    "            # Optionally, explicitly request to use the BigQuery Storage API. As of\n",
    "            # google-cloud-bigquery version 1.26.0 and above, the BigQuery Storage\n",
    "            # API is used by default.\n",
    "            create_bqstorage_client=True,\n",
    "        )\n",
    "    )\n",
    "    return df"
   ]
  },
  {
   "cell_type": "code",
   "execution_count": 8,
   "id": "6a96e472",
   "metadata": {
    "execution": {
     "iopub.execute_input": "2022-03-23T18:29:40.194816Z",
     "iopub.status.busy": "2022-03-23T18:29:40.194657Z",
     "iopub.status.idle": "2022-03-23T18:29:40.199518Z",
     "shell.execute_reply": "2022-03-23T18:29:40.198904Z"
    },
    "papermill": {
     "duration": 0.01393,
     "end_time": "2022-03-23T18:29:40.201193",
     "exception": false,
     "start_time": "2022-03-23T18:29:40.187263",
     "status": "completed"
    },
    "tags": []
   },
   "outputs": [
    {
     "name": "stdout",
     "output_type": "stream",
     "text": [
      "\n",
      "        SELECT\n",
      "          GKGRECORDID,\n",
      "          DATE,\n",
      "          SourceCollectionIdentifier,\n",
      "          DocumentIdentifier,\n",
      "          V2Locations AS Locations,\n",
      "          V2Persons AS Persons,\n",
      "          V2Organizations AS Organizations,\n",
      "          V2Tone AS Tone\n",
      "        FROM\n",
      "          `gdelt-bq.gdeltv2.gkg`\n",
      "        WHERE\n",
      "          LOWER(Organizations) LIKE \"%tesla%\"\n",
      "          AND DATE > 20211223183000\n",
      "    \n"
     ]
    }
   ],
   "source": [
    "rolling_window = query_params[\"rolling_window\"]\n",
    "table_name = query_params[\"bq_table_name\"]\n",
    "search_term = query_params[\"search_term\"]\n",
    "file_path = product[\"data\"]\n",
    "start_date = utils.get_start_date(rolling_window)\n",
    "start_date = utils.gdelt_date_format(start_date)\n",
    "query = build_gdelt_query(table_name, search_term, start_date)\n",
    "print(query)"
   ]
  },
  {
   "cell_type": "code",
   "execution_count": null,
   "id": "817324f3",
   "metadata": {
    "papermill": {
     "duration": null,
     "end_time": null,
     "exception": false,
     "start_time": "2022-03-23T18:29:40.207827",
     "status": "running"
    },
    "tags": []
   },
   "outputs": [],
   "source": [
    "client = bigquery.Client()\n",
    "data_df = fetch_data(client, query)\n",
    "print(f\"Processed merged file with {len(data_df)} records\")"
   ]
  },
  {
   "cell_type": "code",
   "execution_count": null,
   "id": "9f788ec0",
   "metadata": {
    "papermill": {
     "duration": null,
     "end_time": null,
     "exception": null,
     "start_time": null,
     "status": "pending"
    },
    "tags": []
   },
   "outputs": [],
   "source": [
    "# Save records\n",
    "Path(file_path).parent.mkdir(exist_ok=True, parents=True)\n",
    "data_df.to_csv(file_path)\n",
    "print(f\"Saved file {file_path}\")"
   ]
  }
 ],
 "metadata": {
  "jupytext": {
   "cell_metadata_filter": "tags,-all",
   "main_language": "python",
   "notebook_metadata_filter": "-all",
   "text_representation": {
    "extension": ".py",
    "format_name": "light"
   }
  },
  "kernelspec": {
   "display_name": "Python 3 (ipykernel)",
   "language": "python",
   "name": "python3"
  },
  "papermill": {
   "duration": null,
   "end_time": null,
   "exception": null,
   "input_path": "/var/folders/b0/4tc1nfbd6z7_vhx4nxcj2n91c0l9h6/T/tmp7clkmkis.ipynb",
   "output_path": "/Users/aiujdm2/market_watch/output/notebooks/fetch_n_filter_gdelt_bq.ipynb",
   "parameters": {
    "product": {
     "data": "/Users/aiujdm2/market_watch/output/data/raw/gdelt_gkg_bqdata-raw.csv",
     "nb": "/Users/aiujdm2/market_watch/output/notebooks/fetch_n_filter_gdelt_bq.ipynb"
    },
    "query_params": {
     "bq_table_name": "`gdelt-bq.gdeltv2.gkg`",
     "rolling_window": 90,
     "search_term": "tesla"
    }
   },
   "start_time": "2022-03-23T18:29:38.667097"
  }
 },
 "nbformat": 4,
 "nbformat_minor": 5
}