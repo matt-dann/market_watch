{
 "cells": [
  {
   "cell_type": "code",
   "execution_count": 1,
   "id": "354cf762",
   "metadata": {
    "execution": {
     "iopub.execute_input": "2022-04-18T04:06:15.328353Z",
     "iopub.status.busy": "2022-04-18T04:06:15.328056Z",
     "iopub.status.idle": "2022-04-18T04:06:15.335636Z",
     "shell.execute_reply": "2022-04-18T04:06:15.335008Z"
    },
    "papermill": {
     "duration": 0.023162,
     "end_time": "2022-04-18T04:06:15.337764",
     "exception": false,
     "start_time": "2022-04-18T04:06:15.314602",
     "status": "completed"
    },
    "tags": [
     "parameters"
    ]
   },
   "outputs": [],
   "source": [
    "# declare a list tasks whose products you want to use as inputs\n",
    "upstream = None"
   ]
  },
  {
   "cell_type": "code",
   "execution_count": 2,
   "id": "9152a78f",
   "metadata": {
    "execution": {
     "iopub.execute_input": "2022-04-18T04:06:15.358578Z",
     "iopub.status.busy": "2022-04-18T04:06:15.358342Z",
     "iopub.status.idle": "2022-04-18T04:06:15.362011Z",
     "shell.execute_reply": "2022-04-18T04:06:15.361465Z"
    },
    "papermill": {
     "duration": 0.016291,
     "end_time": "2022-04-18T04:06:15.363857",
     "exception": false,
     "start_time": "2022-04-18T04:06:15.347566",
     "status": "completed"
    },
    "tags": [
     "injected-parameters"
    ]
   },
   "outputs": [],
   "source": [
    "# Parameters\n",
    "query_params = {\n",
    "    \"rolling_window\": 120,\n",
    "    \"search_term\": \"tesla\",\n",
    "    \"bq_table_name\": \"`gdelt-bq.gdeltv2.gkg`\",\n",
    "}\n",
    "product = {\n",
    "    \"nb\": \"/Users/aiujdm2/market_watch/output/notebooks/fetch_n_filter_gdelt_bq.ipynb\",\n",
    "    \"data\": \"/Users/aiujdm2/market_watch/output/data/raw/gdelt_gkg_bqdata-raw.csv\",\n",
    "}\n"
   ]
  },
  {
   "cell_type": "code",
   "execution_count": 3,
   "id": "c8f31673",
   "metadata": {
    "execution": {
     "iopub.execute_input": "2022-04-18T04:06:15.383094Z",
     "iopub.status.busy": "2022-04-18T04:06:15.382862Z",
     "iopub.status.idle": "2022-04-18T04:06:17.030213Z",
     "shell.execute_reply": "2022-04-18T04:06:17.029399Z"
    },
    "papermill": {
     "duration": 1.659656,
     "end_time": "2022-04-18T04:06:17.032343",
     "exception": false,
     "start_time": "2022-04-18T04:06:15.372687",
     "status": "completed"
    },
    "tags": []
   },
   "outputs": [],
   "source": [
    "from pathlib import Path\n",
    "from dotenv import load_dotenv, find_dotenv\n",
    "from google.cloud import bigquery\n",
    "from tqdm import tqdm\n",
    "from src import utils\n",
    "\n",
    "\n",
    "import re\n",
    "import collections\n",
    "import pandas as pd\n",
    "import datetime\n",
    "import json\n",
    "import os\n",
    "import sys\n",
    "import warnings\n",
    "\n",
    "warnings.filterwarnings('ignore')"
   ]
  },
  {
   "cell_type": "code",
   "execution_count": 4,
   "id": "525f94d3",
   "metadata": {
    "execution": {
     "iopub.execute_input": "2022-04-18T04:06:17.054273Z",
     "iopub.status.busy": "2022-04-18T04:06:17.054026Z",
     "iopub.status.idle": "2022-04-18T04:06:17.063807Z",
     "shell.execute_reply": "2022-04-18T04:06:17.063265Z"
    },
    "papermill": {
     "duration": 0.022507,
     "end_time": "2022-04-18T04:06:17.065636",
     "exception": false,
     "start_time": "2022-04-18T04:06:17.043129",
     "status": "completed"
    },
    "tags": []
   },
   "outputs": [
    {
     "data": {
      "text/plain": [
       "True"
      ]
     },
     "execution_count": 4,
     "metadata": {},
     "output_type": "execute_result"
    }
   ],
   "source": [
    "load_dotenv(find_dotenv('market_watch.env'))"
   ]
  },
  {
   "cell_type": "markdown",
   "id": "3ff541dd",
   "metadata": {
    "papermill": {
     "duration": 0.01273,
     "end_time": "2022-04-18T04:06:17.088416",
     "exception": false,
     "start_time": "2022-04-18T04:06:17.075686",
     "status": "completed"
    },
    "tags": []
   },
   "source": [
    "Load Google API key. This will enable us to call GDELT's BigQuery Dataset"
   ]
  },
  {
   "cell_type": "code",
   "execution_count": 5,
   "id": "e30cfbe7",
   "metadata": {
    "execution": {
     "iopub.execute_input": "2022-04-18T04:06:17.109158Z",
     "iopub.status.busy": "2022-04-18T04:06:17.108930Z",
     "iopub.status.idle": "2022-04-18T04:06:17.112496Z",
     "shell.execute_reply": "2022-04-18T04:06:17.111977Z"
    },
    "papermill": {
     "duration": 0.015879,
     "end_time": "2022-04-18T04:06:17.114323",
     "exception": false,
     "start_time": "2022-04-18T04:06:17.098444",
     "status": "completed"
    },
    "tags": []
   },
   "outputs": [
    {
     "name": "stdout",
     "output_type": "stream",
     "text": [
      "/Users/aiujdm2/.local/share/virtualenvs/market_watch-dtlP-L11/bin/python\n",
      "/Users/aiujdm2/market_watch/../.ssh/vgaurav-4d0e95d3663a.json\n"
     ]
    }
   ],
   "source": [
    "# debug code to see on which env our executable is running\n",
    "print(sys.executable)\n",
    "api_key_file = os.environ['GOOGLE_APPLICATION_CREDENTIALS']\n",
    "# debug code to see if we have loaded Google API key\n",
    "print(api_key_file)"
   ]
  },
  {
   "cell_type": "code",
   "execution_count": 6,
   "id": "88f335c0",
   "metadata": {
    "execution": {
     "iopub.execute_input": "2022-04-18T04:06:17.136805Z",
     "iopub.status.busy": "2022-04-18T04:06:17.136583Z",
     "iopub.status.idle": "2022-04-18T04:06:17.140334Z",
     "shell.execute_reply": "2022-04-18T04:06:17.139829Z"
    },
    "papermill": {
     "duration": 0.017966,
     "end_time": "2022-04-18T04:06:17.141964",
     "exception": false,
     "start_time": "2022-04-18T04:06:17.123998",
     "status": "completed"
    },
    "tags": []
   },
   "outputs": [],
   "source": [
    "def build_gdelt_query(table_name, search_term, start_date):\n",
    "    query_string = f\"\"\"\n",
    "        SELECT\n",
    "          GKGRECORDID,\n",
    "          DATE,\n",
    "          SourceCollectionIdentifier,\n",
    "          DocumentIdentifier,\n",
    "          V2Locations AS Locations,\n",
    "          V2Persons AS Persons,\n",
    "          V2Organizations AS Organizations,\n",
    "          V2Tone AS Tone\n",
    "        FROM\n",
    "          {table_name}\n",
    "        WHERE\n",
    "          LOWER(Organizations) LIKE \"%{search_term}%\"\n",
    "          AND DATE > {start_date}\n",
    "    \"\"\"\n",
    "    return query_string"
   ]
  },
  {
   "cell_type": "code",
   "execution_count": 7,
   "id": "91a2b2d2",
   "metadata": {
    "execution": {
     "iopub.execute_input": "2022-04-18T04:06:17.160794Z",
     "iopub.status.busy": "2022-04-18T04:06:17.160636Z",
     "iopub.status.idle": "2022-04-18T04:06:17.163989Z",
     "shell.execute_reply": "2022-04-18T04:06:17.163402Z"
    },
    "papermill": {
     "duration": 0.013938,
     "end_time": "2022-04-18T04:06:17.165712",
     "exception": false,
     "start_time": "2022-04-18T04:06:17.151774",
     "status": "completed"
    },
    "tags": []
   },
   "outputs": [],
   "source": [
    "def fetch_data(bqclient, query_string):\n",
    "    df = (\n",
    "        bqclient.query(query_string).result().to_dataframe(\n",
    "            # Optionally, explicitly request to use the BigQuery Storage API. As of\n",
    "            # google-cloud-bigquery version 1.26.0 and above, the BigQuery Storage\n",
    "            # API is used by default.\n",
    "            create_bqstorage_client=True,\n",
    "        )\n",
    "    )\n",
    "    return df"
   ]
  },
  {
   "cell_type": "code",
   "execution_count": 8,
   "id": "bae8ed04",
   "metadata": {
    "execution": {
     "iopub.execute_input": "2022-04-18T04:06:17.182530Z",
     "iopub.status.busy": "2022-04-18T04:06:17.182345Z",
     "iopub.status.idle": "2022-04-18T04:06:17.185876Z",
     "shell.execute_reply": "2022-04-18T04:06:17.185377Z"
    },
    "papermill": {
     "duration": 0.013947,
     "end_time": "2022-04-18T04:06:17.187723",
     "exception": false,
     "start_time": "2022-04-18T04:06:17.173776",
     "status": "completed"
    },
    "tags": []
   },
   "outputs": [],
   "source": [
    "rolling_window = query_params[\"rolling_window\"]\n",
    "table_name = query_params[\"bq_table_name\"]\n",
    "search_term = query_params[\"search_term\"]\n",
    "gkg_file_path = product[\"data\"]\n",
    "\n",
    "\n",
    "start_date = utils.get_start_date(rolling_window)\n",
    "start_date = utils.gdelt_date_format(start_date)\n",
    "gkg_query = build_gdelt_query(table_name, search_term, start_date)"
   ]
  },
  {
   "cell_type": "code",
   "execution_count": 9,
   "id": "a57ea494",
   "metadata": {
    "execution": {
     "iopub.execute_input": "2022-04-18T04:06:17.205667Z",
     "iopub.status.busy": "2022-04-18T04:06:17.205448Z",
     "iopub.status.idle": "2022-04-18T04:06:29.232897Z",
     "shell.execute_reply": "2022-04-18T04:06:29.232307Z"
    },
    "papermill": {
     "duration": 12.039089,
     "end_time": "2022-04-18T04:06:29.234891",
     "exception": false,
     "start_time": "2022-04-18T04:06:17.195802",
     "status": "completed"
    },
    "tags": []
   },
   "outputs": [
    {
     "name": "stdout",
     "output_type": "stream",
     "text": [
      "Processed file with 10553 records\n"
     ]
    }
   ],
   "source": [
    "client = bigquery.Client()\n",
    "data_df = fetch_data(client, gkg_query)\n",
    "print(f\"Processed file with {len(data_df)} records\")"
   ]
  },
  {
   "cell_type": "code",
   "execution_count": 10,
   "id": "f2cf7113",
   "metadata": {
    "execution": {
     "iopub.execute_input": "2022-04-18T04:06:29.259287Z",
     "iopub.status.busy": "2022-04-18T04:06:29.259055Z",
     "iopub.status.idle": "2022-04-18T04:06:29.269205Z",
     "shell.execute_reply": "2022-04-18T04:06:29.268698Z"
    },
    "papermill": {
     "duration": 0.024465,
     "end_time": "2022-04-18T04:06:29.271148",
     "exception": false,
     "start_time": "2022-04-18T04:06:29.246683",
     "status": "completed"
    },
    "tags": []
   },
   "outputs": [
    {
     "data": {
      "text/html": [
       "<div>\n",
       "<style scoped>\n",
       "    .dataframe tbody tr th:only-of-type {\n",
       "        vertical-align: middle;\n",
       "    }\n",
       "\n",
       "    .dataframe tbody tr th {\n",
       "        vertical-align: top;\n",
       "    }\n",
       "\n",
       "    .dataframe thead th {\n",
       "        text-align: right;\n",
       "    }\n",
       "</style>\n",
       "<table border=\"1\" class=\"dataframe\">\n",
       "  <thead>\n",
       "    <tr style=\"text-align: right;\">\n",
       "      <th></th>\n",
       "      <th>GKGRECORDID</th>\n",
       "      <th>DATE</th>\n",
       "      <th>SourceCollectionIdentifier</th>\n",
       "      <th>DocumentIdentifier</th>\n",
       "      <th>Locations</th>\n",
       "      <th>Persons</th>\n",
       "      <th>Organizations</th>\n",
       "      <th>Tone</th>\n",
       "    </tr>\n",
       "  </thead>\n",
       "  <tbody>\n",
       "    <tr>\n",
       "      <th>0</th>\n",
       "      <td>20211219053000-283</td>\n",
       "      <td>20211219053000</td>\n",
       "      <td>1</td>\n",
       "      <td>https://www.moneyweb.co.za/mineweb/the-world-w...</td>\n",
       "      <td>1#Serbian#RB#RB####RB#2122;1#Serbian#RB#RB####...</td>\n",
       "      <td>Mark Cutifani,5182;Ben Davis,1979;Aleksandar V...</td>\n",
       "      <td>Bloomberg,5709;Lithium Americas Corp,1370;Rio ...</td>\n",
       "      <td>-3.60824742268041,1.54639175257732,5.154639175...</td>\n",
       "    </tr>\n",
       "    <tr>\n",
       "      <th>1</th>\n",
       "      <td>20211219054500-T653</td>\n",
       "      <td>20211219054500</td>\n",
       "      <td>1</td>\n",
       "      <td>http://hk.eastmoney.com/a/202112192218549712.html</td>\n",
       "      <td>1#Chile#CI#CI##-30#-71#CI#9804;1#Chile#CI#CI##...</td>\n",
       "      <td>Broadcom Si,4001;Ali Baba,11124;Tesla Xiaopeng...</td>\n",
       "      <td>Landing Division,7339;Landing Hong Kong Exchan...</td>\n",
       "      <td>0.317796610169492,2.22457627118644,1.906779661...</td>\n",
       "    </tr>\n",
       "    <tr>\n",
       "      <th>2</th>\n",
       "      <td>20211219064500-103</td>\n",
       "      <td>20211219064500</td>\n",
       "      <td>1</td>\n",
       "      <td>https://www.afr.com/companies/mining/world-wan...</td>\n",
       "      <td>1#Serbian#RB#RB####RB#440;1#Serbian#RB#RB####R...</td>\n",
       "      <td>Mark Cutifani,3485;Ben Davis,297;Aleksandar Vu...</td>\n",
       "      <td>Bloomberg,4004;Bloomberg,4021;Rio Tinto,1238;T...</td>\n",
       "      <td>-2.84090909090909,1.5625,4.40340909090909,5.96...</td>\n",
       "    </tr>\n",
       "    <tr>\n",
       "      <th>3</th>\n",
       "      <td>20211219090000-141</td>\n",
       "      <td>20211219090000</td>\n",
       "      <td>1</td>\n",
       "      <td>https://www.torquenews.com/comment/reply/43229</td>\n",
       "      <td>1#Taiwan#TW#TW##24#121#TW#3025;4#Delft, Zuid-H...</td>\n",
       "      <td>Elon Musk,3542;Nico Caballero,4238;Tesla Cyber...</td>\n",
       "      <td>Samsung,42;Samsung,414;Samsung,943;Samsung,226...</td>\n",
       "      <td>1.84453227931489,2.23978919631094,0.3952569169...</td>\n",
       "    </tr>\n",
       "    <tr>\n",
       "      <th>4</th>\n",
       "      <td>20211219101500-T57</td>\n",
       "      <td>20211219101500</td>\n",
       "      <td>1</td>\n",
       "      <td>https://www.tomsguide.fr/le-developpement-de-g...</td>\n",
       "      <td>1#Germany#GM#GM##51.5#10.5#GM#1991;1#American#...</td>\n",
       "      <td>Willem Dafoe,558;Willem Dafoe,2947;Willem Dafo...</td>\n",
       "      <td>Forum Of Tesla,1598;Klipsch,4578;Klipsch,4745;...</td>\n",
       "      <td>1.06295993458708,4.82420278004906,3.7612428454...</td>\n",
       "    </tr>\n",
       "  </tbody>\n",
       "</table>\n",
       "</div>"
      ],
      "text/plain": [
       "           GKGRECORDID            DATE  SourceCollectionIdentifier  \\\n",
       "0   20211219053000-283  20211219053000                           1   \n",
       "1  20211219054500-T653  20211219054500                           1   \n",
       "2   20211219064500-103  20211219064500                           1   \n",
       "3   20211219090000-141  20211219090000                           1   \n",
       "4   20211219101500-T57  20211219101500                           1   \n",
       "\n",
       "                                  DocumentIdentifier  \\\n",
       "0  https://www.moneyweb.co.za/mineweb/the-world-w...   \n",
       "1  http://hk.eastmoney.com/a/202112192218549712.html   \n",
       "2  https://www.afr.com/companies/mining/world-wan...   \n",
       "3     https://www.torquenews.com/comment/reply/43229   \n",
       "4  https://www.tomsguide.fr/le-developpement-de-g...   \n",
       "\n",
       "                                           Locations  \\\n",
       "0  1#Serbian#RB#RB####RB#2122;1#Serbian#RB#RB####...   \n",
       "1  1#Chile#CI#CI##-30#-71#CI#9804;1#Chile#CI#CI##...   \n",
       "2  1#Serbian#RB#RB####RB#440;1#Serbian#RB#RB####R...   \n",
       "3  1#Taiwan#TW#TW##24#121#TW#3025;4#Delft, Zuid-H...   \n",
       "4  1#Germany#GM#GM##51.5#10.5#GM#1991;1#American#...   \n",
       "\n",
       "                                             Persons  \\\n",
       "0  Mark Cutifani,5182;Ben Davis,1979;Aleksandar V...   \n",
       "1  Broadcom Si,4001;Ali Baba,11124;Tesla Xiaopeng...   \n",
       "2  Mark Cutifani,3485;Ben Davis,297;Aleksandar Vu...   \n",
       "3  Elon Musk,3542;Nico Caballero,4238;Tesla Cyber...   \n",
       "4  Willem Dafoe,558;Willem Dafoe,2947;Willem Dafo...   \n",
       "\n",
       "                                       Organizations  \\\n",
       "0  Bloomberg,5709;Lithium Americas Corp,1370;Rio ...   \n",
       "1  Landing Division,7339;Landing Hong Kong Exchan...   \n",
       "2  Bloomberg,4004;Bloomberg,4021;Rio Tinto,1238;T...   \n",
       "3  Samsung,42;Samsung,414;Samsung,943;Samsung,226...   \n",
       "4  Forum Of Tesla,1598;Klipsch,4578;Klipsch,4745;...   \n",
       "\n",
       "                                                Tone  \n",
       "0  -3.60824742268041,1.54639175257732,5.154639175...  \n",
       "1  0.317796610169492,2.22457627118644,1.906779661...  \n",
       "2  -2.84090909090909,1.5625,4.40340909090909,5.96...  \n",
       "3  1.84453227931489,2.23978919631094,0.3952569169...  \n",
       "4  1.06295993458708,4.82420278004906,3.7612428454...  "
      ]
     },
     "execution_count": 10,
     "metadata": {},
     "output_type": "execute_result"
    }
   ],
   "source": [
    "data_df.head()"
   ]
  },
  {
   "cell_type": "code",
   "execution_count": 11,
   "id": "2b8729f5",
   "metadata": {
    "execution": {
     "iopub.execute_input": "2022-04-18T04:06:29.293264Z",
     "iopub.status.busy": "2022-04-18T04:06:29.293067Z",
     "iopub.status.idle": "2022-04-18T04:06:29.538066Z",
     "shell.execute_reply": "2022-04-18T04:06:29.537522Z"
    },
    "papermill": {
     "duration": 0.257868,
     "end_time": "2022-04-18T04:06:29.539878",
     "exception": false,
     "start_time": "2022-04-18T04:06:29.282010",
     "status": "completed"
    },
    "tags": []
   },
   "outputs": [
    {
     "name": "stdout",
     "output_type": "stream",
     "text": [
      "Saved file /Users/aiujdm2/market_watch/output/data/raw/gdelt_gkg_bqdata-raw.csv\n"
     ]
    }
   ],
   "source": [
    "# Save GKG records\n",
    "Path(gkg_file_path).parent.mkdir(exist_ok=True, parents=True)\n",
    "data_df.to_csv(gkg_file_path)\n",
    "print(f\"Saved file {gkg_file_path}\")"
   ]
  },
  {
   "cell_type": "code",
   "execution_count": 12,
   "id": "b2af3849",
   "metadata": {
    "execution": {
     "iopub.execute_input": "2022-04-18T04:06:29.558475Z",
     "iopub.status.busy": "2022-04-18T04:06:29.558297Z",
     "iopub.status.idle": "2022-04-18T04:06:29.561062Z",
     "shell.execute_reply": "2022-04-18T04:06:29.560501Z"
    },
    "papermill": {
     "duration": 0.013757,
     "end_time": "2022-04-18T04:06:29.562635",
     "exception": false,
     "start_time": "2022-04-18T04:06:29.548878",
     "status": "completed"
    },
    "tags": []
   },
   "outputs": [],
   "source": [
    "del data_df"
   ]
  },
  {
   "cell_type": "code",
   "execution_count": null,
   "id": "d5399bd7",
   "metadata": {
    "papermill": {
     "duration": 0.008894,
     "end_time": "2022-04-18T04:06:29.580406",
     "exception": false,
     "start_time": "2022-04-18T04:06:29.571512",
     "status": "completed"
    },
    "tags": []
   },
   "outputs": [],
   "source": []
  }
 ],
 "metadata": {
  "jupytext": {
   "cell_metadata_filter": "tags,-all",
   "main_language": "python",
   "notebook_metadata_filter": "-all",
   "text_representation": {
    "extension": ".py",
    "format_name": "light"
   }
  },
  "kernelspec": {
   "display_name": "Python 3 (ipykernel)",
   "language": "python",
   "name": "python3"
  },
  "language_info": {
   "codemirror_mode": {
    "name": "ipython",
    "version": 3
   },
   "file_extension": ".py",
   "mimetype": "text/x-python",
   "name": "python",
   "nbconvert_exporter": "python",
   "pygments_lexer": "ipython3",
   "version": "3.9.10"
  },
  "papermill": {
   "duration": 15.612118,
   "end_time": "2022-04-18T04:06:30.011750",
   "exception": null,
   "input_path": "/var/folders/b0/4tc1nfbd6z7_vhx4nxcj2n91c0l9h6/T/tmp7zcqihgu.ipynb",
   "output_path": "/Users/aiujdm2/market_watch/output/notebooks/fetch_n_filter_gdelt_bq.ipynb",
   "parameters": {
    "product": {
     "data": "/Users/aiujdm2/market_watch/output/data/raw/gdelt_gkg_bqdata-raw.csv",
     "nb": "/Users/aiujdm2/market_watch/output/notebooks/fetch_n_filter_gdelt_bq.ipynb"
    },
    "query_params": {
     "bq_table_name": "`gdelt-bq.gdeltv2.gkg`",
     "rolling_window": 120,
     "search_term": "tesla"
    }
   },
   "start_time": "2022-04-18T04:06:14.399632"
  }
 },
 "nbformat": 4,
 "nbformat_minor": 5
}