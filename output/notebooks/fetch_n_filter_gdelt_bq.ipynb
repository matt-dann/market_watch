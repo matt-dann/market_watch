{
 "cells": [
  {
   "cell_type": "code",
   "execution_count": 1,
   "id": "ca2289de",
   "metadata": {
    "execution": {
     "iopub.execute_input": "2022-03-21T17:06:25.717650Z",
     "iopub.status.busy": "2022-03-21T17:06:25.717340Z",
     "iopub.status.idle": "2022-03-21T17:06:25.725364Z",
     "shell.execute_reply": "2022-03-21T17:06:25.724657Z"
    },
    "papermill": {
     "duration": 0.020417,
     "end_time": "2022-03-21T17:06:25.727590",
     "exception": false,
     "start_time": "2022-03-21T17:06:25.707173",
     "status": "completed"
    },
    "tags": [
     "parameters"
    ]
   },
   "outputs": [],
   "source": [
    "# declare a list tasks whose products you want to use as inputs\n",
    "upstream = None"
   ]
  },
  {
   "cell_type": "code",
   "execution_count": 2,
   "id": "f1ae5aa8",
   "metadata": {
    "execution": {
     "iopub.execute_input": "2022-03-21T17:06:25.745299Z",
     "iopub.status.busy": "2022-03-21T17:06:25.745056Z",
     "iopub.status.idle": "2022-03-21T17:06:25.749009Z",
     "shell.execute_reply": "2022-03-21T17:06:25.748290Z"
    },
    "papermill": {
     "duration": 0.014902,
     "end_time": "2022-03-21T17:06:25.751127",
     "exception": false,
     "start_time": "2022-03-21T17:06:25.736225",
     "status": "completed"
    },
    "tags": [
     "injected-parameters"
    ]
   },
   "outputs": [],
   "source": [
    "# Parameters\n",
    "query_params = {\n",
    "    \"rolling_window\": 90,\n",
    "    \"search_term\": \"tesla\",\n",
    "    \"bq_table_name\": \"`gdelt-bq.gdeltv2.gkg`\",\n",
    "}\n",
    "product = {\n",
    "    \"nb\": \"/Users/aiujdm2/market_watch/output/notebooks/fetch_n_filter_gdelt_bq.ipynb\",\n",
    "    \"data\": \"/Users/aiujdm2/market_watch/output/data/raw/gdelt-gkg-bq.csv\",\n",
    "}\n"
   ]
  },
  {
   "cell_type": "code",
   "execution_count": 3,
   "id": "236ea35e",
   "metadata": {
    "execution": {
     "iopub.execute_input": "2022-03-21T17:06:25.767072Z",
     "iopub.status.busy": "2022-03-21T17:06:25.766845Z",
     "iopub.status.idle": "2022-03-21T17:06:26.346365Z",
     "shell.execute_reply": "2022-03-21T17:06:26.345669Z"
    },
    "papermill": {
     "duration": 0.589861,
     "end_time": "2022-03-21T17:06:26.348508",
     "exception": false,
     "start_time": "2022-03-21T17:06:25.758647",
     "status": "completed"
    },
    "tags": []
   },
   "outputs": [],
   "source": [
    "from pathlib import Path\n",
    "from dotenv import load_dotenv\n",
    "from datetime import datetime, timedelta\n",
    "from google.cloud import bigquery\n",
    "\n",
    "import pandas as pd\n",
    "import os\n",
    "import sys\n",
    "import warnings\n",
    "\n",
    "# import numpy as np\n",
    "# import altair as alt\n",
    "# from altair import datum\n",
    "# alt.data_transformers.disable_max_rows()\n",
    "# alt.themes.enable('fivethirtyeight')\n",
    "\n",
    "load_dotenv(\"big-query.env\")\n",
    "warnings.filterwarnings('ignore')"
   ]
  },
  {
   "cell_type": "code",
   "execution_count": 4,
   "id": "c03b8a01",
   "metadata": {
    "execution": {
     "iopub.execute_input": "2022-03-21T17:06:26.365084Z",
     "iopub.status.busy": "2022-03-21T17:06:26.364858Z",
     "iopub.status.idle": "2022-03-21T17:06:26.368457Z",
     "shell.execute_reply": "2022-03-21T17:06:26.367934Z"
    },
    "papermill": {
     "duration": 0.014342,
     "end_time": "2022-03-21T17:06:26.370760",
     "exception": false,
     "start_time": "2022-03-21T17:06:26.356418",
     "status": "completed"
    },
    "tags": []
   },
   "outputs": [
    {
     "name": "stdout",
     "output_type": "stream",
     "text": [
      "/Users/aiujdm2/.local/share/virtualenvs/market_watch-dtlP-L11/bin/python\n",
      "/Users/aiujdm2/.ssh/vgaurav-4d0e95d3663a.json\n"
     ]
    }
   ],
   "source": [
    "print(sys.executable)\n",
    "api_key_file = os.environ['GOOGLE_APPLICATION_CREDENTIALS']\n",
    "print(api_key_file)"
   ]
  },
  {
   "cell_type": "code",
   "execution_count": 5,
   "id": "1fc38c29",
   "metadata": {
    "execution": {
     "iopub.execute_input": "2022-03-21T17:06:26.387241Z",
     "iopub.status.busy": "2022-03-21T17:06:26.386999Z",
     "iopub.status.idle": "2022-03-21T17:06:26.390836Z",
     "shell.execute_reply": "2022-03-21T17:06:26.390271Z"
    },
    "papermill": {
     "duration": 0.013874,
     "end_time": "2022-03-21T17:06:26.392584",
     "exception": false,
     "start_time": "2022-03-21T17:06:26.378710",
     "status": "completed"
    },
    "tags": []
   },
   "outputs": [],
   "source": [
    "def get_start_date(window):\n",
    "    # get today's UTC datetime\n",
    "    today = datetime.utcnow()\n",
    "    # round datetime to nearest 15min slot\n",
    "    pd_ts = pd.Timestamp(today)\n",
    "    today_ts = pd_ts.round('15T')\n",
    "    # how far back we want to go?\n",
    "    how_far_back = timedelta(days=window)\n",
    "    start_date = today_ts - how_far_back\n",
    "    \n",
    "    return start_date.strftime(\"%Y%m%d%H%M00\")"
   ]
  },
  {
   "cell_type": "code",
   "execution_count": 6,
   "id": "8ba75911",
   "metadata": {
    "execution": {
     "iopub.execute_input": "2022-03-21T17:06:26.408884Z",
     "iopub.status.busy": "2022-03-21T17:06:26.408670Z",
     "iopub.status.idle": "2022-03-21T17:06:26.412638Z",
     "shell.execute_reply": "2022-03-21T17:06:26.412044Z"
    },
    "papermill": {
     "duration": 0.014242,
     "end_time": "2022-03-21T17:06:26.414447",
     "exception": false,
     "start_time": "2022-03-21T17:06:26.400205",
     "status": "completed"
    },
    "tags": []
   },
   "outputs": [],
   "source": [
    "def build_gdelt_query(table_name, search_term, start_date):\n",
    "\n",
    "    query_string = f\"\"\"\n",
    "        SELECT\n",
    "          GKGRECORDID,\n",
    "          DATE,\n",
    "          SourceCollectionIdentifier,\n",
    "          DocumentIdentifier,\n",
    "          V2Counts AS Counts,\n",
    "          V2Themes AS Themes,\n",
    "          V2Locations AS Locations,\n",
    "          V2Persons AS Persons,\n",
    "          V2Organizations AS Organizations,\n",
    "          V2Tone AS Tone,\n",
    "          GCAM,\n",
    "          AllNames,\n",
    "          Amounts,\n",
    "          TranslationInfo,\n",
    "          Extras\n",
    "        FROM\n",
    "          {table_name}\n",
    "        WHERE\n",
    "          LOWER(Organizations) LIKE \"%{search_term}%\"\n",
    "          AND DATE > {start_date}\n",
    "    \"\"\"\n",
    "    return query_string"
   ]
  },
  {
   "cell_type": "code",
   "execution_count": 7,
   "id": "c9622624",
   "metadata": {
    "execution": {
     "iopub.execute_input": "2022-03-21T17:06:26.430697Z",
     "iopub.status.busy": "2022-03-21T17:06:26.430411Z",
     "iopub.status.idle": "2022-03-21T17:06:26.434107Z",
     "shell.execute_reply": "2022-03-21T17:06:26.433637Z"
    },
    "papermill": {
     "duration": 0.013613,
     "end_time": "2022-03-21T17:06:26.435751",
     "exception": false,
     "start_time": "2022-03-21T17:06:26.422138",
     "status": "completed"
    },
    "tags": []
   },
   "outputs": [],
   "source": [
    "def fetch_data(bqclient, query_string):\n",
    "    df = (\n",
    "        bqclient.query(query_string)\n",
    "        .result()\n",
    "        .to_dataframe(\n",
    "            # Optionally, explicitly request to use the BigQuery Storage API. As of\n",
    "            # google-cloud-bigquery version 1.26.0 and above, the BigQuery Storage\n",
    "            # API is used by default.\n",
    "            create_bqstorage_client=True,\n",
    "        )\n",
    "    )\n",
    "    return df"
   ]
  },
  {
   "cell_type": "code",
   "execution_count": 8,
   "id": "9466f00e",
   "metadata": {
    "execution": {
     "iopub.execute_input": "2022-03-21T17:06:26.452178Z",
     "iopub.status.busy": "2022-03-21T17:06:26.451776Z",
     "iopub.status.idle": "2022-03-21T17:06:26.456330Z",
     "shell.execute_reply": "2022-03-21T17:06:26.455729Z"
    },
    "papermill": {
     "duration": 0.014905,
     "end_time": "2022-03-21T17:06:26.458214",
     "exception": false,
     "start_time": "2022-03-21T17:06:26.443309",
     "status": "completed"
    },
    "tags": []
   },
   "outputs": [
    {
     "name": "stdout",
     "output_type": "stream",
     "text": [
      "\n",
      "        SELECT\n",
      "          GKGRECORDID,\n",
      "          DATE,\n",
      "          SourceCollectionIdentifier,\n",
      "          DocumentIdentifier,\n",
      "          V2Counts AS Counts,\n",
      "          V2Themes AS Themes,\n",
      "          V2Locations AS Locations,\n",
      "          V2Persons AS Persons,\n",
      "          V2Organizations AS Organizations,\n",
      "          V2Tone AS Tone,\n",
      "          GCAM,\n",
      "          AllNames,\n",
      "          Amounts,\n",
      "          TranslationInfo,\n",
      "          Extras\n",
      "        FROM\n",
      "          `gdelt-bq.gdeltv2.gkg`\n",
      "        WHERE\n",
      "          LOWER(Organizations) LIKE \"%tesla%\"\n",
      "          AND DATE > 20211221170000\n",
      "    \n"
     ]
    }
   ],
   "source": [
    "rolling_window = query_params[\"rolling_window\"]\n",
    "table_name = query_params[\"bq_table_name\"]\n",
    "search_term = query_params[\"search_term\"]\n",
    "file_path = product[\"data\"]\n",
    "start_date = get_start_date(rolling_window)\n",
    "query = build_gdelt_query(table_name, search_term, start_date)\n",
    "print(query)"
   ]
  },
  {
   "cell_type": "code",
   "execution_count": 9,
   "id": "f6acfd8c",
   "metadata": {
    "execution": {
     "iopub.execute_input": "2022-03-21T17:06:26.475614Z",
     "iopub.status.busy": "2022-03-21T17:06:26.475392Z",
     "iopub.status.idle": "2022-03-21T17:06:41.903772Z",
     "shell.execute_reply": "2022-03-21T17:06:41.902953Z"
    },
    "papermill": {
     "duration": 15.439376,
     "end_time": "2022-03-21T17:06:41.905820",
     "exception": false,
     "start_time": "2022-03-21T17:06:26.466444",
     "status": "completed"
    },
    "tags": []
   },
   "outputs": [
    {
     "name": "stdout",
     "output_type": "stream",
     "text": [
      "Processed merged file with 7313 records\n"
     ]
    }
   ],
   "source": [
    "client = bigquery.Client()\n",
    "data_df = fetch_data(client, query)\n",
    "print(f\"Processed merged file with {len(data_df)} records\")"
   ]
  },
  {
   "cell_type": "code",
   "execution_count": 10,
   "id": "4e7342fd",
   "metadata": {
    "execution": {
     "iopub.execute_input": "2022-03-21T17:06:41.925500Z",
     "iopub.status.busy": "2022-03-21T17:06:41.925265Z",
     "iopub.status.idle": "2022-03-21T17:06:43.838483Z",
     "shell.execute_reply": "2022-03-21T17:06:43.838045Z"
    },
    "papermill": {
     "duration": 1.925026,
     "end_time": "2022-03-21T17:06:43.840232",
     "exception": false,
     "start_time": "2022-03-21T17:06:41.915206",
     "status": "completed"
    },
    "tags": []
   },
   "outputs": [
    {
     "name": "stdout",
     "output_type": "stream",
     "text": [
      "Saved file /Users/aiujdm2/market_watch/output/data/raw/gdelt-gkg-bq.csv\n"
     ]
    }
   ],
   "source": [
    "# Save records\n",
    "Path(file_path).parent.mkdir(exist_ok=True, parents=True)\n",
    "data_df.to_csv(file_path)\n",
    "print(f\"Saved file {file_path}\")"
   ]
  }
 ],
 "metadata": {
  "jupytext": {
   "cell_metadata_filter": "tags,-all",
   "main_language": "python",
   "notebook_metadata_filter": "-all",
   "text_representation": {
    "extension": ".py",
    "format_name": "light"
   }
  },
  "kernelspec": {
   "display_name": "Python 3 (ipykernel)",
   "language": "python",
   "name": "python3"
  },
  "language_info": {
   "codemirror_mode": {
    "name": "ipython",
    "version": 3
   },
   "file_extension": ".py",
   "mimetype": "text/x-python",
   "name": "python",
   "nbconvert_exporter": "python",
   "pygments_lexer": "ipython3",
   "version": "3.9.10"
  },
  "papermill": {
   "duration": 19.709473,
   "end_time": "2022-03-21T17:06:44.167212",
   "exception": null,
   "input_path": "/var/folders/b0/4tc1nfbd6z7_vhx4nxcj2n91c0l9h6/T/tmpdm_2vwik.ipynb",
   "output_path": "/Users/aiujdm2/market_watch/output/notebooks/fetch_n_filter_gdelt_bq.ipynb",
   "parameters": {
    "product": {
     "data": "/Users/aiujdm2/market_watch/output/data/raw/gdelt-gkg-bq.csv",
     "nb": "/Users/aiujdm2/market_watch/output/notebooks/fetch_n_filter_gdelt_bq.ipynb"
    },
    "query_params": {
     "bq_table_name": "`gdelt-bq.gdeltv2.gkg`",
     "rolling_window": 90,
     "search_term": "tesla"
    }
   },
   "start_time": "2022-03-21T17:06:24.457739"
  }
 },
 "nbformat": 4,
 "nbformat_minor": 5
}