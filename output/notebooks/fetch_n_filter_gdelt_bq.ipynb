{
 "cells": [
  {
   "cell_type": "code",
   "execution_count": 1,
   "id": "27800b98",
   "metadata": {
    "execution": {
     "iopub.execute_input": "2022-03-23T16:37:29.897206Z",
     "iopub.status.busy": "2022-03-23T16:37:29.896904Z",
     "iopub.status.idle": "2022-03-23T16:37:29.904475Z",
     "shell.execute_reply": "2022-03-23T16:37:29.903858Z"
    },
    "papermill": {
     "duration": 0.020821,
     "end_time": "2022-03-23T16:37:29.906564",
     "exception": false,
     "start_time": "2022-03-23T16:37:29.885743",
     "status": "completed"
    },
    "tags": [
     "parameters"
    ]
   },
   "outputs": [],
   "source": [
    "# declare a list tasks whose products you want to use as inputs\n",
    "upstream = None"
   ]
  },
  {
   "cell_type": "code",
   "execution_count": 2,
   "id": "0cf1ddcd",
   "metadata": {
    "execution": {
     "iopub.execute_input": "2022-03-23T16:37:29.922490Z",
     "iopub.status.busy": "2022-03-23T16:37:29.922267Z",
     "iopub.status.idle": "2022-03-23T16:37:29.925731Z",
     "shell.execute_reply": "2022-03-23T16:37:29.925166Z"
    },
    "papermill": {
     "duration": 0.013286,
     "end_time": "2022-03-23T16:37:29.927544",
     "exception": false,
     "start_time": "2022-03-23T16:37:29.914258",
     "status": "completed"
    },
    "tags": [
     "injected-parameters"
    ]
   },
   "outputs": [],
   "source": [
    "# Parameters\n",
    "query_params = {\n",
    "    \"rolling_window\": 1,\n",
    "    \"search_term\": \"tesla\",\n",
    "    \"bq_table_name\": \"`gdelt-bq.gdeltv2.gkg`\",\n",
    "}\n",
    "product = {\n",
    "    \"nb\": \"/Users/aiujdm2/market_watch/output/notebooks/fetch_n_filter_gdelt_bq.ipynb\",\n",
    "    \"data\": \"/Users/aiujdm2/market_watch/output/data/raw/gdelt-gkg-bq.csv\",\n",
    "}\n"
   ]
  },
  {
   "cell_type": "code",
   "execution_count": 3,
   "id": "e3022e10",
   "metadata": {
    "execution": {
     "iopub.execute_input": "2022-03-23T16:37:29.942168Z",
     "iopub.status.busy": "2022-03-23T16:37:29.941967Z",
     "iopub.status.idle": "2022-03-23T16:37:30.441430Z",
     "shell.execute_reply": "2022-03-23T16:37:30.440757Z"
    },
    "papermill": {
     "duration": 0.508846,
     "end_time": "2022-03-23T16:37:30.443295",
     "exception": false,
     "start_time": "2022-03-23T16:37:29.934449",
     "status": "completed"
    },
    "tags": []
   },
   "outputs": [],
   "source": [
    "from pathlib import Path\n",
    "from dotenv import load_dotenv, find_dotenv\n",
    "from google.cloud import bigquery\n",
    "\n",
    "import os\n",
    "import sys\n",
    "import warnings\n",
    "from src import utils\n",
    "\n",
    "# import numpy as np\n",
    "# import altair as alt\n",
    "# from altair import datum\n",
    "# alt.data_transformers.disable_max_rows()\n",
    "# alt.themes.enable('fivethirtyeight')\n",
    "\n",
    "warnings.filterwarnings('ignore')"
   ]
  },
  {
   "cell_type": "code",
   "execution_count": 4,
   "id": "f5e909ce",
   "metadata": {
    "execution": {
     "iopub.execute_input": "2022-03-23T16:37:30.457972Z",
     "iopub.status.busy": "2022-03-23T16:37:30.457774Z",
     "iopub.status.idle": "2022-03-23T16:37:30.466184Z",
     "shell.execute_reply": "2022-03-23T16:37:30.465684Z"
    },
    "papermill": {
     "duration": 0.017896,
     "end_time": "2022-03-23T16:37:30.468221",
     "exception": false,
     "start_time": "2022-03-23T16:37:30.450325",
     "status": "completed"
    },
    "tags": []
   },
   "outputs": [
    {
     "data": {
      "text/plain": [
       "True"
      ]
     },
     "execution_count": 4,
     "metadata": {},
     "output_type": "execute_result"
    }
   ],
   "source": [
    "load_dotenv(find_dotenv('market_watch.env'))"
   ]
  },
  {
   "cell_type": "code",
   "execution_count": 5,
   "id": "90ae7287",
   "metadata": {
    "execution": {
     "iopub.execute_input": "2022-03-23T16:37:30.480978Z",
     "iopub.status.busy": "2022-03-23T16:37:30.480794Z",
     "iopub.status.idle": "2022-03-23T16:37:30.483904Z",
     "shell.execute_reply": "2022-03-23T16:37:30.483412Z"
    },
    "papermill": {
     "duration": 0.011222,
     "end_time": "2022-03-23T16:37:30.485785",
     "exception": false,
     "start_time": "2022-03-23T16:37:30.474563",
     "status": "completed"
    },
    "tags": []
   },
   "outputs": [
    {
     "name": "stdout",
     "output_type": "stream",
     "text": [
      "/Users/aiujdm2/.local/share/virtualenvs/market_watch-dtlP-L11/bin/python\n",
      "/Users/aiujdm2/.ssh/vgaurav-4d0e95d3663a.json\n"
     ]
    }
   ],
   "source": [
    "print(sys.executable)\n",
    "api_key_file = os.environ['GOOGLE_APPLICATION_CREDENTIALS']\n",
    "print(api_key_file)"
   ]
  },
  {
   "cell_type": "code",
   "execution_count": 6,
   "id": "58ad7c5d",
   "metadata": {
    "execution": {
     "iopub.execute_input": "2022-03-23T16:37:30.499216Z",
     "iopub.status.busy": "2022-03-23T16:37:30.498887Z",
     "iopub.status.idle": "2022-03-23T16:37:30.501967Z",
     "shell.execute_reply": "2022-03-23T16:37:30.501571Z"
    },
    "papermill": {
     "duration": 0.011393,
     "end_time": "2022-03-23T16:37:30.503502",
     "exception": false,
     "start_time": "2022-03-23T16:37:30.492109",
     "status": "completed"
    },
    "tags": []
   },
   "outputs": [],
   "source": [
    "def build_gdelt_query(table_name, search_term, start_date):\n",
    "    query_string = f\"\"\"\n",
    "        SELECT\n",
    "          GKGRECORDID,\n",
    "          DATE,\n",
    "          SourceCollectionIdentifier,\n",
    "          DocumentIdentifier,\n",
    "          V2Locations AS Locations,\n",
    "          V2Persons AS Persons,\n",
    "          V2Organizations AS Organizations,\n",
    "          V2Tone AS Tone\n",
    "        FROM\n",
    "          {table_name}\n",
    "        WHERE\n",
    "          LOWER(Organizations) LIKE \"%{search_term}%\"\n",
    "          AND DATE > {start_date}\n",
    "    \"\"\"\n",
    "    return query_string"
   ]
  },
  {
   "cell_type": "code",
   "execution_count": 7,
   "id": "221a6062",
   "metadata": {
    "execution": {
     "iopub.execute_input": "2022-03-23T16:37:30.516522Z",
     "iopub.status.busy": "2022-03-23T16:37:30.516367Z",
     "iopub.status.idle": "2022-03-23T16:37:30.519157Z",
     "shell.execute_reply": "2022-03-23T16:37:30.518760Z"
    },
    "papermill": {
     "duration": 0.011101,
     "end_time": "2022-03-23T16:37:30.520695",
     "exception": false,
     "start_time": "2022-03-23T16:37:30.509594",
     "status": "completed"
    },
    "tags": []
   },
   "outputs": [],
   "source": [
    "def fetch_data(bqclient, query_string):\n",
    "    df = (\n",
    "        bqclient.query(query_string)\n",
    "            .result()\n",
    "            .to_dataframe(\n",
    "            # Optionally, explicitly request to use the BigQuery Storage API. As of\n",
    "            # google-cloud-bigquery version 1.26.0 and above, the BigQuery Storage\n",
    "            # API is used by default.\n",
    "            create_bqstorage_client=True,\n",
    "        )\n",
    "    )\n",
    "    return df"
   ]
  },
  {
   "cell_type": "code",
   "execution_count": 8,
   "id": "f3c6631d",
   "metadata": {
    "execution": {
     "iopub.execute_input": "2022-03-23T16:37:30.534008Z",
     "iopub.status.busy": "2022-03-23T16:37:30.533860Z",
     "iopub.status.idle": "2022-03-23T16:37:30.537680Z",
     "shell.execute_reply": "2022-03-23T16:37:30.537218Z"
    },
    "papermill": {
     "duration": 0.012216,
     "end_time": "2022-03-23T16:37:30.539180",
     "exception": false,
     "start_time": "2022-03-23T16:37:30.526964",
     "status": "completed"
    },
    "tags": []
   },
   "outputs": [
    {
     "name": "stdout",
     "output_type": "stream",
     "text": [
      "\n",
      "        SELECT\n",
      "          GKGRECORDID,\n",
      "          DATE,\n",
      "          SourceCollectionIdentifier,\n",
      "          DocumentIdentifier,\n",
      "          V2Locations AS Locations,\n",
      "          V2Persons AS Persons,\n",
      "          V2Organizations AS Organizations,\n",
      "          V2Tone AS Tone\n",
      "        FROM\n",
      "          `gdelt-bq.gdeltv2.gkg`\n",
      "        WHERE\n",
      "          LOWER(Organizations) LIKE \"%tesla%\"\n",
      "          AND DATE > 20220322164500\n",
      "    \n"
     ]
    }
   ],
   "source": [
    "rolling_window = query_params[\"rolling_window\"]\n",
    "table_name = query_params[\"bq_table_name\"]\n",
    "search_term = query_params[\"search_term\"]\n",
    "file_path = product[\"data\"]\n",
    "start_date = utils.get_start_date(rolling_window)\n",
    "start_date = utils.gdelt_date_format(start_date)\n",
    "query = build_gdelt_query(table_name, search_term, start_date)\n",
    "print(query)"
   ]
  },
  {
   "cell_type": "code",
   "execution_count": 9,
   "id": "d4fd37c3",
   "metadata": {
    "execution": {
     "iopub.execute_input": "2022-03-23T16:37:30.553161Z",
     "iopub.status.busy": "2022-03-23T16:37:30.553007Z",
     "iopub.status.idle": "2022-03-23T16:37:35.445807Z",
     "shell.execute_reply": "2022-03-23T16:37:35.444979Z"
    },
    "papermill": {
     "duration": 4.902209,
     "end_time": "2022-03-23T16:37:35.447963",
     "exception": false,
     "start_time": "2022-03-23T16:37:30.545754",
     "status": "completed"
    },
    "tags": []
   },
   "outputs": [
    {
     "name": "stdout",
     "output_type": "stream",
     "text": [
      "Processed merged file with 104 records\n"
     ]
    }
   ],
   "source": [
    "client = bigquery.Client()\n",
    "data_df = fetch_data(client, query)\n",
    "print(f\"Processed merged file with {len(data_df)} records\")"
   ]
  },
  {
   "cell_type": "code",
   "execution_count": 10,
   "id": "a5b1d216",
   "metadata": {
    "execution": {
     "iopub.execute_input": "2022-03-23T16:37:35.469018Z",
     "iopub.status.busy": "2022-03-23T16:37:35.468788Z",
     "iopub.status.idle": "2022-03-23T16:37:35.479639Z",
     "shell.execute_reply": "2022-03-23T16:37:35.478943Z"
    },
    "papermill": {
     "duration": 0.02323,
     "end_time": "2022-03-23T16:37:35.481486",
     "exception": false,
     "start_time": "2022-03-23T16:37:35.458256",
     "status": "completed"
    },
    "tags": []
   },
   "outputs": [
    {
     "name": "stdout",
     "output_type": "stream",
     "text": [
      "Saved file /Users/aiujdm2/market_watch/output/data/raw/gdelt-gkg-bq.csv\n"
     ]
    }
   ],
   "source": [
    "# Save records\n",
    "Path(file_path).parent.mkdir(exist_ok=True, parents=True)\n",
    "data_df.to_csv(file_path)\n",
    "print(f\"Saved file {file_path}\")"
   ]
  }
 ],
 "metadata": {
  "jupytext": {
   "cell_metadata_filter": "tags,-all",
   "main_language": "python",
   "notebook_metadata_filter": "-all",
   "text_representation": {
    "extension": ".py",
    "format_name": "light"
   }
  },
  "kernelspec": {
   "display_name": "Python 3 (ipykernel)",
   "language": "python",
   "name": "python3"
  },
  "language_info": {
   "codemirror_mode": {
    "name": "ipython",
    "version": 3
   },
   "file_extension": ".py",
   "mimetype": "text/x-python",
   "name": "python",
   "nbconvert_exporter": "python",
   "pygments_lexer": "ipython3",
   "version": "3.9.10"
  },
  "papermill": {
   "duration": 6.814656,
   "end_time": "2022-03-23T16:37:35.809825",
   "exception": null,
   "input_path": "/var/folders/b0/4tc1nfbd6z7_vhx4nxcj2n91c0l9h6/T/tmpo4ttyvfu.ipynb",
   "output_path": "/Users/aiujdm2/market_watch/output/notebooks/fetch_n_filter_gdelt_bq.ipynb",
   "parameters": {
    "product": {
     "data": "/Users/aiujdm2/market_watch/output/data/raw/gdelt-gkg-bq.csv",
     "nb": "/Users/aiujdm2/market_watch/output/notebooks/fetch_n_filter_gdelt_bq.ipynb"
    },
    "query_params": {
     "bq_table_name": "`gdelt-bq.gdeltv2.gkg`",
     "rolling_window": 1,
     "search_term": "tesla"
    }
   },
   "start_time": "2022-03-23T16:37:28.995169"
  }
 },
 "nbformat": 4,
 "nbformat_minor": 5
}