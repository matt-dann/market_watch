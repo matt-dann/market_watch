{
 "cells": [
  {
   "cell_type": "code",
   "execution_count": 1,
   "id": "a0aa2045",
   "metadata": {
    "execution": {
     "iopub.execute_input": "2022-03-23T18:05:52.531827Z",
     "iopub.status.busy": "2022-03-23T18:05:52.531531Z",
     "iopub.status.idle": "2022-03-23T18:05:52.538937Z",
     "shell.execute_reply": "2022-03-23T18:05:52.538361Z"
    },
    "papermill": {
     "duration": 0.020738,
     "end_time": "2022-03-23T18:05:52.541035",
     "exception": false,
     "start_time": "2022-03-23T18:05:52.520297",
     "status": "completed"
    },
    "tags": [
     "parameters"
    ]
   },
   "outputs": [],
   "source": [
    "# declare a list tasks whose products you want to use as inputs\n",
    "upstream = None"
   ]
  },
  {
   "cell_type": "code",
   "execution_count": 2,
   "id": "dcbaacb5",
   "metadata": {
    "execution": {
     "iopub.execute_input": "2022-03-23T18:05:52.556935Z",
     "iopub.status.busy": "2022-03-23T18:05:52.556729Z",
     "iopub.status.idle": "2022-03-23T18:05:52.560023Z",
     "shell.execute_reply": "2022-03-23T18:05:52.559531Z"
    },
    "papermill": {
     "duration": 0.012622,
     "end_time": "2022-03-23T18:05:52.561666",
     "exception": false,
     "start_time": "2022-03-23T18:05:52.549044",
     "status": "completed"
    },
    "tags": [
     "injected-parameters"
    ]
   },
   "outputs": [],
   "source": [
    "# Parameters\n",
    "query_params = {\n",
    "    \"rolling_window\": 90,\n",
    "    \"search_term\": \"tesla\",\n",
    "    \"bq_table_name\": \"`gdelt-bq.gdeltv2.gkg`\",\n",
    "}\n",
    "product = {\n",
    "    \"nb\": \"/Users/aiujdm2/market_watch/output/notebooks/fetch_n_filter_gdelt_bq.ipynb\",\n",
    "    \"data\": \"/Users/aiujdm2/market_watch/output/data/raw/gdelt_gkg_bqdata-raw.csv\",\n",
    "}\n"
   ]
  },
  {
   "cell_type": "code",
   "execution_count": 3,
   "id": "a8fb55a7",
   "metadata": {
    "execution": {
     "iopub.execute_input": "2022-03-23T18:05:52.576586Z",
     "iopub.status.busy": "2022-03-23T18:05:52.576387Z",
     "iopub.status.idle": "2022-03-23T18:05:53.194146Z",
     "shell.execute_reply": "2022-03-23T18:05:53.193007Z"
    },
    "papermill": {
     "duration": 0.627415,
     "end_time": "2022-03-23T18:05:53.196050",
     "exception": false,
     "start_time": "2022-03-23T18:05:52.568635",
     "status": "completed"
    },
    "tags": []
   },
   "outputs": [],
   "source": [
    "from pathlib import Path\n",
    "from dotenv import load_dotenv, find_dotenv\n",
    "from google.cloud import bigquery\n",
    "\n",
    "import os\n",
    "import sys\n",
    "import warnings\n",
    "from src import utils\n",
    "\n",
    "# import numpy as np\n",
    "# import altair as alt\n",
    "# from altair import datum\n",
    "# alt.data_transformers.disable_max_rows()\n",
    "# alt.themes.enable('fivethirtyeight')\n",
    "\n",
    "warnings.filterwarnings('ignore')"
   ]
  },
  {
   "cell_type": "code",
   "execution_count": 4,
   "id": "b8cdcc54",
   "metadata": {
    "execution": {
     "iopub.execute_input": "2022-03-23T18:05:53.211336Z",
     "iopub.status.busy": "2022-03-23T18:05:53.211124Z",
     "iopub.status.idle": "2022-03-23T18:05:53.220713Z",
     "shell.execute_reply": "2022-03-23T18:05:53.220206Z"
    },
    "papermill": {
     "duration": 0.01917,
     "end_time": "2022-03-23T18:05:53.222632",
     "exception": false,
     "start_time": "2022-03-23T18:05:53.203462",
     "status": "completed"
    },
    "tags": []
   },
   "outputs": [
    {
     "data": {
      "text/plain": [
       "True"
      ]
     },
     "execution_count": 4,
     "metadata": {},
     "output_type": "execute_result"
    }
   ],
   "source": [
    "load_dotenv(find_dotenv('market_watch.env'))"
   ]
  },
  {
   "cell_type": "code",
   "execution_count": 5,
   "id": "2ec1efa1",
   "metadata": {
    "execution": {
     "iopub.execute_input": "2022-03-23T18:05:53.237186Z",
     "iopub.status.busy": "2022-03-23T18:05:53.236997Z",
     "iopub.status.idle": "2022-03-23T18:05:53.240053Z",
     "shell.execute_reply": "2022-03-23T18:05:53.239557Z"
    },
    "papermill": {
     "duration": 0.011787,
     "end_time": "2022-03-23T18:05:53.241641",
     "exception": false,
     "start_time": "2022-03-23T18:05:53.229854",
     "status": "completed"
    },
    "tags": []
   },
   "outputs": [
    {
     "name": "stdout",
     "output_type": "stream",
     "text": [
      "/Users/aiujdm2/.local/share/virtualenvs/market_watch-dtlP-L11/bin/python\n",
      "/Users/aiujdm2/.ssh/vgaurav-4d0e95d3663a.json\n"
     ]
    }
   ],
   "source": [
    "print(sys.executable)\n",
    "api_key_file = os.environ['GOOGLE_APPLICATION_CREDENTIALS']\n",
    "print(api_key_file)"
   ]
  },
  {
   "cell_type": "code",
   "execution_count": 6,
   "id": "310be4b4",
   "metadata": {
    "execution": {
     "iopub.execute_input": "2022-03-23T18:05:53.254713Z",
     "iopub.status.busy": "2022-03-23T18:05:53.254559Z",
     "iopub.status.idle": "2022-03-23T18:05:53.257739Z",
     "shell.execute_reply": "2022-03-23T18:05:53.257213Z"
    },
    "papermill": {
     "duration": 0.011579,
     "end_time": "2022-03-23T18:05:53.259290",
     "exception": false,
     "start_time": "2022-03-23T18:05:53.247711",
     "status": "completed"
    },
    "tags": []
   },
   "outputs": [],
   "source": [
    "def build_gdelt_query(table_name, search_term, start_date):\n",
    "    query_string = f\"\"\"\n",
    "        SELECT\n",
    "          GKGRECORDID,\n",
    "          DATE,\n",
    "          SourceCollectionIdentifier,\n",
    "          DocumentIdentifier,\n",
    "          V2Locations AS Locations,\n",
    "          V2Persons AS Persons,\n",
    "          V2Organizations AS Organizations,\n",
    "          V2Tone AS Tone\n",
    "        FROM\n",
    "          {table_name}\n",
    "        WHERE\n",
    "          LOWER(Organizations) LIKE \"%{search_term}%\"\n",
    "          AND DATE > {start_date}\n",
    "    \"\"\"\n",
    "    return query_string"
   ]
  },
  {
   "cell_type": "code",
   "execution_count": 7,
   "id": "09a72e94",
   "metadata": {
    "execution": {
     "iopub.execute_input": "2022-03-23T18:05:53.272479Z",
     "iopub.status.busy": "2022-03-23T18:05:53.272305Z",
     "iopub.status.idle": "2022-03-23T18:05:53.275238Z",
     "shell.execute_reply": "2022-03-23T18:05:53.274820Z"
    },
    "papermill": {
     "duration": 0.011549,
     "end_time": "2022-03-23T18:05:53.276969",
     "exception": false,
     "start_time": "2022-03-23T18:05:53.265420",
     "status": "completed"
    },
    "tags": []
   },
   "outputs": [],
   "source": [
    "def fetch_data(bqclient, query_string):\n",
    "    df = (\n",
    "        bqclient.query(query_string)\n",
    "            .result()\n",
    "            .to_dataframe(\n",
    "            # Optionally, explicitly request to use the BigQuery Storage API. As of\n",
    "            # google-cloud-bigquery version 1.26.0 and above, the BigQuery Storage\n",
    "            # API is used by default.\n",
    "            create_bqstorage_client=True,\n",
    "        )\n",
    "    )\n",
    "    return df"
   ]
  },
  {
   "cell_type": "code",
   "execution_count": 8,
   "id": "81ab08a4",
   "metadata": {
    "execution": {
     "iopub.execute_input": "2022-03-23T18:05:53.290385Z",
     "iopub.status.busy": "2022-03-23T18:05:53.290208Z",
     "iopub.status.idle": "2022-03-23T18:05:53.294039Z",
     "shell.execute_reply": "2022-03-23T18:05:53.293585Z"
    },
    "papermill": {
     "duration": 0.012294,
     "end_time": "2022-03-23T18:05:53.295517",
     "exception": false,
     "start_time": "2022-03-23T18:05:53.283223",
     "status": "completed"
    },
    "tags": []
   },
   "outputs": [
    {
     "name": "stdout",
     "output_type": "stream",
     "text": [
      "\n",
      "        SELECT\n",
      "          GKGRECORDID,\n",
      "          DATE,\n",
      "          SourceCollectionIdentifier,\n",
      "          DocumentIdentifier,\n",
      "          V2Locations AS Locations,\n",
      "          V2Persons AS Persons,\n",
      "          V2Organizations AS Organizations,\n",
      "          V2Tone AS Tone\n",
      "        FROM\n",
      "          `gdelt-bq.gdeltv2.gkg`\n",
      "        WHERE\n",
      "          LOWER(Organizations) LIKE \"%tesla%\"\n",
      "          AND DATE > 20211223180000\n",
      "    \n"
     ]
    }
   ],
   "source": [
    "rolling_window = query_params[\"rolling_window\"]\n",
    "table_name = query_params[\"bq_table_name\"]\n",
    "search_term = query_params[\"search_term\"]\n",
    "file_path = product[\"data\"]\n",
    "start_date = utils.get_start_date(rolling_window)\n",
    "start_date = utils.gdelt_date_format(start_date)\n",
    "query = build_gdelt_query(table_name, search_term, start_date)\n",
    "print(query)"
   ]
  },
  {
   "cell_type": "code",
   "execution_count": 9,
   "id": "9ebedef2",
   "metadata": {
    "execution": {
     "iopub.execute_input": "2022-03-23T18:05:53.310389Z",
     "iopub.status.busy": "2022-03-23T18:05:53.310230Z",
     "iopub.status.idle": "2022-03-23T18:06:00.939697Z",
     "shell.execute_reply": "2022-03-23T18:06:00.938999Z"
    },
    "papermill": {
     "duration": 7.638483,
     "end_time": "2022-03-23T18:06:00.941539",
     "exception": false,
     "start_time": "2022-03-23T18:05:53.303056",
     "status": "completed"
    },
    "tags": []
   },
   "outputs": [
    {
     "name": "stdout",
     "output_type": "stream",
     "text": [
      "Processed merged file with 7212 records\n"
     ]
    }
   ],
   "source": [
    "client = bigquery.Client()\n",
    "data_df = fetch_data(client, query)\n",
    "print(f\"Processed merged file with {len(data_df)} records\")"
   ]
  },
  {
   "cell_type": "code",
   "execution_count": 10,
   "id": "5806a050",
   "metadata": {
    "execution": {
     "iopub.execute_input": "2022-03-23T18:06:00.961495Z",
     "iopub.status.busy": "2022-03-23T18:06:00.961249Z",
     "iopub.status.idle": "2022-03-23T18:06:01.146472Z",
     "shell.execute_reply": "2022-03-23T18:06:01.145480Z"
    },
    "papermill": {
     "duration": 0.197256,
     "end_time": "2022-03-23T18:06:01.148499",
     "exception": false,
     "start_time": "2022-03-23T18:06:00.951243",
     "status": "completed"
    },
    "tags": []
   },
   "outputs": [
    {
     "name": "stdout",
     "output_type": "stream",
     "text": [
      "Saved file /Users/aiujdm2/market_watch/output/data/raw/gdelt_gkg_bqdata-raw.csv\n"
     ]
    }
   ],
   "source": [
    "# Save records\n",
    "Path(file_path).parent.mkdir(exist_ok=True, parents=True)\n",
    "data_df.to_csv(file_path)\n",
    "print(f\"Saved file {file_path}\")"
   ]
  }
 ],
 "metadata": {
  "jupytext": {
   "cell_metadata_filter": "tags,-all",
   "main_language": "python",
   "notebook_metadata_filter": "-all",
   "text_representation": {
    "extension": ".py",
    "format_name": "light"
   }
  },
  "kernelspec": {
   "display_name": "Python 3 (ipykernel)",
   "language": "python",
   "name": "python3"
  },
  "language_info": {
   "codemirror_mode": {
    "name": "ipython",
    "version": 3
   },
   "file_extension": ".py",
   "mimetype": "text/x-python",
   "name": "python",
   "nbconvert_exporter": "python",
   "pygments_lexer": "ipython3",
   "version": "3.9.10"
  },
  "papermill": {
   "duration": 9.881836,
   "end_time": "2022-03-23T18:06:01.476401",
   "exception": null,
   "input_path": "/var/folders/b0/4tc1nfbd6z7_vhx4nxcj2n91c0l9h6/T/tmpuap3sf7r.ipynb",
   "output_path": "/Users/aiujdm2/market_watch/output/notebooks/fetch_n_filter_gdelt_bq.ipynb",
   "parameters": {
    "product": {
     "data": "/Users/aiujdm2/market_watch/output/data/raw/gdelt_gkg_bqdata-raw.csv",
     "nb": "/Users/aiujdm2/market_watch/output/notebooks/fetch_n_filter_gdelt_bq.ipynb"
    },
    "query_params": {
     "bq_table_name": "`gdelt-bq.gdeltv2.gkg`",
     "rolling_window": 90,
     "search_term": "tesla"
    }
   },
   "start_time": "2022-03-23T18:05:51.594565"
  }
 },
 "nbformat": 4,
 "nbformat_minor": 5
}