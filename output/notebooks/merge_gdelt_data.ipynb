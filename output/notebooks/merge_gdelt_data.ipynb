{
 "cells": [
  {
   "cell_type": "code",
   "execution_count": 1,
   "id": "a7b06a90",
   "metadata": {
    "execution": {
     "iopub.execute_input": "2022-03-21T03:10:54.801259Z",
     "iopub.status.busy": "2022-03-21T03:10:54.800982Z",
     "iopub.status.idle": "2022-03-21T03:10:54.808777Z",
     "shell.execute_reply": "2022-03-21T03:10:54.808052Z"
    },
    "lines_to_next_cell": 2,
    "papermill": {
     "duration": 0.021018,
     "end_time": "2022-03-21T03:10:54.810999",
     "exception": false,
     "start_time": "2022-03-21T03:10:54.789981",
     "status": "completed"
    },
    "tags": [
     "parameters"
    ]
   },
   "outputs": [],
   "source": [
    "# declare a list tasks whose products you want to use as inputs\n",
    "upstream = ['fetch_gdelt_data']"
   ]
  },
  {
   "cell_type": "code",
   "execution_count": 2,
   "id": "c6969df6",
   "metadata": {
    "execution": {
     "iopub.execute_input": "2022-03-21T03:10:54.826673Z",
     "iopub.status.busy": "2022-03-21T03:10:54.826460Z",
     "iopub.status.idle": "2022-03-21T03:10:54.829851Z",
     "shell.execute_reply": "2022-03-21T03:10:54.829310Z"
    },
    "papermill": {
     "duration": 0.013007,
     "end_time": "2022-03-21T03:10:54.831617",
     "exception": false,
     "start_time": "2022-03-21T03:10:54.818610",
     "status": "completed"
    },
    "tags": [
     "injected-parameters"
    ]
   },
   "outputs": [],
   "source": [
    "# Parameters\n",
    "upstream = {\n",
    "    \"fetch_gdelt_data\": {\n",
    "        \"nb\": \"/Users/aiujdm2/market_watch/output/notebooks/fetch_gdelt_data.ipynb\",\n",
    "        \"data\": \"/Users/aiujdm2/market_watch/output/data/raw\",\n",
    "    }\n",
    "}\n",
    "product = {\n",
    "    \"nb\": \"/Users/aiujdm2/market_watch/output/notebooks/merge_gdelt_data.ipynb\",\n",
    "    \"data\": \"/Users/aiujdm2/market_watch/output/data/interim/merged_data.csv\",\n",
    "}\n"
   ]
  },
  {
   "cell_type": "code",
   "execution_count": 3,
   "id": "90f769b7",
   "metadata": {
    "execution": {
     "iopub.execute_input": "2022-03-21T03:10:54.845423Z",
     "iopub.status.busy": "2022-03-21T03:10:54.845221Z",
     "iopub.status.idle": "2022-03-21T03:10:55.122071Z",
     "shell.execute_reply": "2022-03-21T03:10:55.120289Z"
    },
    "papermill": {
     "duration": 0.286407,
     "end_time": "2022-03-21T03:10:55.124462",
     "exception": false,
     "start_time": "2022-03-21T03:10:54.838055",
     "status": "completed"
    },
    "tags": []
   },
   "outputs": [],
   "source": [
    "import pandas as pd\n",
    "from pathlib import Path\n",
    "import os\n",
    "import sys"
   ]
  },
  {
   "cell_type": "code",
   "execution_count": 4,
   "id": "4092e4d2",
   "metadata": {
    "execution": {
     "iopub.execute_input": "2022-03-21T03:10:55.138456Z",
     "iopub.status.busy": "2022-03-21T03:10:55.138274Z",
     "iopub.status.idle": "2022-03-21T03:10:55.141306Z",
     "shell.execute_reply": "2022-03-21T03:10:55.140739Z"
    },
    "papermill": {
     "duration": 0.011868,
     "end_time": "2022-03-21T03:10:55.142925",
     "exception": false,
     "start_time": "2022-03-21T03:10:55.131057",
     "status": "completed"
    },
    "tags": []
   },
   "outputs": [
    {
     "name": "stdout",
     "output_type": "stream",
     "text": [
      "/Users/aiujdm2/.local/share/virtualenvs/market_watch-dtlP-L11/bin/python\n"
     ]
    }
   ],
   "source": [
    "print(sys.executable)"
   ]
  },
  {
   "cell_type": "code",
   "execution_count": 5,
   "id": "8fff65b2",
   "metadata": {
    "execution": {
     "iopub.execute_input": "2022-03-21T03:10:55.155493Z",
     "iopub.status.busy": "2022-03-21T03:10:55.155232Z",
     "iopub.status.idle": "2022-03-21T03:10:55.157919Z",
     "shell.execute_reply": "2022-03-21T03:10:55.157405Z"
    },
    "papermill": {
     "duration": 0.010848,
     "end_time": "2022-03-21T03:10:55.159443",
     "exception": false,
     "start_time": "2022-03-21T03:10:55.148595",
     "status": "completed"
    },
    "tags": []
   },
   "outputs": [],
   "source": [
    "# def get_themes(v2themes):\n",
    "#     return v2themes.map(lambda x: [theme_tuple.split(',')[0] for theme_tuple in x.split(';')])"
   ]
  },
  {
   "cell_type": "code",
   "execution_count": 6,
   "id": "3eb9e036",
   "metadata": {
    "execution": {
     "iopub.execute_input": "2022-03-21T03:10:55.172099Z",
     "iopub.status.busy": "2022-03-21T03:10:55.171906Z",
     "iopub.status.idle": "2022-03-21T03:10:55.174189Z",
     "shell.execute_reply": "2022-03-21T03:10:55.173793Z"
    },
    "papermill": {
     "duration": 0.010285,
     "end_time": "2022-03-21T03:10:55.175785",
     "exception": false,
     "start_time": "2022-03-21T03:10:55.165500",
     "status": "completed"
    },
    "tags": []
   },
   "outputs": [],
   "source": [
    "# gdelt_codes = {}\n",
    "# for key in cameo_codefile_urls:\n",
    "#     url = cameo_codefile_urls[key]\n",
    "#     gdelt_codes[key] = pd.read_csv(url, sep='\\t')"
   ]
  },
  {
   "cell_type": "code",
   "execution_count": 7,
   "id": "449fb303",
   "metadata": {
    "execution": {
     "iopub.execute_input": "2022-03-21T03:10:55.188084Z",
     "iopub.status.busy": "2022-03-21T03:10:55.187880Z",
     "iopub.status.idle": "2022-03-21T03:10:55.252991Z",
     "shell.execute_reply": "2022-03-21T03:10:55.252546Z"
    },
    "papermill": {
     "duration": 0.072851,
     "end_time": "2022-03-21T03:10:55.254511",
     "exception": false,
     "start_time": "2022-03-21T03:10:55.181660",
     "status": "completed"
    },
    "tags": []
   },
   "outputs": [
    {
     "name": "stdout",
     "output_type": "stream",
     "text": [
      "/Users/aiujdm2/market_watch/output/data/raw/2022-03-10.csv\n",
      "/Users/aiujdm2/market_watch/output/data/raw/2022-03-03.csv\n",
      "/Users/aiujdm2/market_watch/output/data/raw/2022-01-06.csv\n",
      "/Users/aiujdm2/market_watch/output/data/raw/2022-01-12.csv\n",
      "/Users/aiujdm2/market_watch/output/data/raw/2022-03-16.csv\n",
      "/Users/aiujdm2/market_watch/output/data/raw/2022-01-11.csv\n",
      "/Users/aiujdm2/market_watch/output/data/raw/2022-01-05.csv\n",
      "/Users/aiujdm2/market_watch/output/data/raw/2022-01-04.csv\n",
      "/Users/aiujdm2/market_watch/output/data/raw/2022-01-10.csv\n",
      "/Users/aiujdm2/market_watch/output/data/raw/2022-02-19.csv\n",
      "/Users/aiujdm2/market_watch/output/data/raw/2022-02-25.csv\n",
      "/Users/aiujdm2/market_watch/output/data/raw/2022-02-24.csv\n",
      "/Users/aiujdm2/market_watch/output/data/raw/2022-02-18.csv\n",
      "/Users/aiujdm2/market_watch/output/data/raw/2021-12-29.csv\n",
      "/Users/aiujdm2/market_watch/output/data/raw/2021-12-22.csv\n",
      "/Users/aiujdm2/market_watch/output/data/raw/2022-02-07.csv\n",
      "/Users/aiujdm2/market_watch/output/data/raw/2021-12-23.csv\n",
      "/Users/aiujdm2/market_watch/output/data/raw/2022-02-10.csv\n",
      "/Users/aiujdm2/market_watch/output/data/raw/2022-02-28.csv\n",
      "/Users/aiujdm2/market_watch/output/data/raw/2021-12-27.csv\n",
      "/Users/aiujdm2/market_watch/output/data/raw/2022-02-03.csv\n",
      "/Users/aiujdm2/market_watch/output/data/raw/2022-01-26.csv\n",
      "/Users/aiujdm2/market_watch/output/data/raw/2022-01-18.csv\n",
      "/Users/aiujdm2/market_watch/output/data/raw/2022-01-31.csv\n",
      "/Users/aiujdm2/market_watch/output/data/raw/2022-03-20.csv\n"
     ]
    }
   ],
   "source": [
    "# Read filenames from the given path\n",
    "data_dir = upstream['fetch_gdelt_data']['data']\n",
    "data_files = os.listdir(data_dir)\n",
    "\n",
    "def load_files(data_dir, filenames):\n",
    "    for filename in filenames:\n",
    "        file_path = os.path.join(data_dir, filename)\n",
    "        print(file_path)\n",
    "        yield pd.read_csv(file_path)\n",
    "\t\t\n",
    "\n",
    "data = pd.concat(load_files(data_dir, data_files))"
   ]
  },
  {
   "cell_type": "code",
   "execution_count": 8,
   "id": "16009d56",
   "metadata": {
    "execution": {
     "iopub.execute_input": "2022-03-21T03:10:55.268079Z",
     "iopub.status.busy": "2022-03-21T03:10:55.267919Z",
     "iopub.status.idle": "2022-03-21T03:10:55.282571Z",
     "shell.execute_reply": "2022-03-21T03:10:55.281959Z"
    },
    "lines_to_next_cell": 0,
    "papermill": {
     "duration": 0.023331,
     "end_time": "2022-03-21T03:10:55.284332",
     "exception": false,
     "start_time": "2022-03-21T03:10:55.261001",
     "status": "completed"
    },
    "tags": []
   },
   "outputs": [],
   "source": [
    "output_file = product['data']\n",
    "\n",
    "data.to_csv(output_file)"
   ]
  },
  {
   "cell_type": "code",
   "execution_count": 9,
   "id": "ab55c4fe",
   "metadata": {
    "execution": {
     "iopub.execute_input": "2022-03-21T03:10:55.298254Z",
     "iopub.status.busy": "2022-03-21T03:10:55.298070Z",
     "iopub.status.idle": "2022-03-21T03:10:55.300933Z",
     "shell.execute_reply": "2022-03-21T03:10:55.300423Z"
    },
    "papermill": {
     "duration": 0.011559,
     "end_time": "2022-03-21T03:10:55.302405",
     "exception": false,
     "start_time": "2022-03-21T03:10:55.290846",
     "status": "completed"
    },
    "tags": []
   },
   "outputs": [
    {
     "name": "stdout",
     "output_type": "stream",
     "text": [
      "Sucessfully generated merged file with 43 records\n"
     ]
    }
   ],
   "source": [
    "print(f\"Sucessfully generated merged file with {len(data)} records\")"
   ]
  },
  {
   "cell_type": "code",
   "execution_count": null,
   "id": "d32e7b14",
   "metadata": {
    "papermill": {
     "duration": 0.006747,
     "end_time": "2022-03-21T03:10:55.315888",
     "exception": false,
     "start_time": "2022-03-21T03:10:55.309141",
     "status": "completed"
    },
    "tags": []
   },
   "outputs": [],
   "source": []
  }
 ],
 "metadata": {
  "jupytext": {
   "cell_metadata_filter": "tags,-all",
   "main_language": "python",
   "notebook_metadata_filter": "-all",
   "text_representation": {
    "extension": ".py",
    "format_name": "light"
   }
  },
  "kernelspec": {
   "display_name": "Python 3 (ipykernel)",
   "language": "python",
   "name": "python3"
  },
  "language_info": {
   "codemirror_mode": {
    "name": "ipython",
    "version": 3
   },
   "file_extension": ".py",
   "mimetype": "text/x-python",
   "name": "python",
   "nbconvert_exporter": "python",
   "pygments_lexer": "ipython3",
   "version": "3.9.10"
  },
  "papermill": {
   "duration": 1.760703,
   "end_time": "2022-03-21T03:10:55.541647",
   "exception": null,
   "input_path": "/var/folders/b0/4tc1nfbd6z7_vhx4nxcj2n91c0l9h6/T/tmp78zb9ucf.ipynb",
   "output_path": "/Users/aiujdm2/market_watch/output/notebooks/merge_gdelt_data.ipynb",
   "parameters": {
    "product": {
     "data": "/Users/aiujdm2/market_watch/output/data/interim/merged_data.csv",
     "nb": "/Users/aiujdm2/market_watch/output/notebooks/merge_gdelt_data.ipynb"
    },
    "upstream": {
     "fetch_gdelt_data": {
      "data": "/Users/aiujdm2/market_watch/output/data/raw",
      "nb": "/Users/aiujdm2/market_watch/output/notebooks/fetch_gdelt_data.ipynb"
     }
    }
   },
   "start_time": "2022-03-21T03:10:53.780944"
  }
 },
 "nbformat": 4,
 "nbformat_minor": 5
}