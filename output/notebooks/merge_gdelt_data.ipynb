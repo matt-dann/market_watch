{
 "cells": [
  {
   "cell_type": "code",
   "execution_count": 1,
   "id": "df49d3e4",
   "metadata": {
    "execution": {
     "iopub.execute_input": "2022-03-21T03:12:33.642057Z",
     "iopub.status.busy": "2022-03-21T03:12:33.641767Z",
     "iopub.status.idle": "2022-03-21T03:12:33.649685Z",
     "shell.execute_reply": "2022-03-21T03:12:33.649111Z"
    },
    "lines_to_next_cell": 2,
    "papermill": {
     "duration": 0.021001,
     "end_time": "2022-03-21T03:12:33.651798",
     "exception": false,
     "start_time": "2022-03-21T03:12:33.630797",
     "status": "completed"
    },
    "tags": [
     "parameters"
    ]
   },
   "outputs": [],
   "source": [
    "# declare a list tasks whose products you want to use as inputs\n",
    "upstream = ['fetch_gdelt_data']"
   ]
  },
  {
   "cell_type": "code",
   "execution_count": 2,
   "id": "16ecfb67",
   "metadata": {
    "execution": {
     "iopub.execute_input": "2022-03-21T03:12:33.668221Z",
     "iopub.status.busy": "2022-03-21T03:12:33.667991Z",
     "iopub.status.idle": "2022-03-21T03:12:33.671650Z",
     "shell.execute_reply": "2022-03-21T03:12:33.671085Z"
    },
    "papermill": {
     "duration": 0.013779,
     "end_time": "2022-03-21T03:12:33.673610",
     "exception": false,
     "start_time": "2022-03-21T03:12:33.659831",
     "status": "completed"
    },
    "tags": [
     "injected-parameters"
    ]
   },
   "outputs": [],
   "source": [
    "# Parameters\n",
    "upstream = {\n",
    "    \"fetch_gdelt_data\": {\n",
    "        \"nb\": \"/Users/aiujdm2/market_watch/output/notebooks/fetch_gdelt_data.ipynb\",\n",
    "        \"data\": \"/Users/aiujdm2/market_watch/output/data/raw\",\n",
    "    }\n",
    "}\n",
    "product = {\n",
    "    \"nb\": \"/Users/aiujdm2/market_watch/output/notebooks/merge_gdelt_data.ipynb\",\n",
    "    \"data\": \"/Users/aiujdm2/market_watch/output/data/interim/merged_data.csv\",\n",
    "}\n"
   ]
  },
  {
   "cell_type": "code",
   "execution_count": 3,
   "id": "3cfab35d",
   "metadata": {
    "execution": {
     "iopub.execute_input": "2022-03-21T03:12:33.688395Z",
     "iopub.status.busy": "2022-03-21T03:12:33.688184Z",
     "iopub.status.idle": "2022-03-21T03:12:33.960375Z",
     "shell.execute_reply": "2022-03-21T03:12:33.959825Z"
    },
    "papermill": {
     "duration": 0.282609,
     "end_time": "2022-03-21T03:12:33.963145",
     "exception": false,
     "start_time": "2022-03-21T03:12:33.680536",
     "status": "completed"
    },
    "tags": []
   },
   "outputs": [],
   "source": [
    "import pandas as pd\n",
    "from pathlib import Path\n",
    "import os\n",
    "import sys"
   ]
  },
  {
   "cell_type": "code",
   "execution_count": 4,
   "id": "846ca81f",
   "metadata": {
    "execution": {
     "iopub.execute_input": "2022-03-21T03:12:33.978865Z",
     "iopub.status.busy": "2022-03-21T03:12:33.978654Z",
     "iopub.status.idle": "2022-03-21T03:12:33.981963Z",
     "shell.execute_reply": "2022-03-21T03:12:33.981441Z"
    },
    "papermill": {
     "duration": 0.012642,
     "end_time": "2022-03-21T03:12:33.983872",
     "exception": false,
     "start_time": "2022-03-21T03:12:33.971230",
     "status": "completed"
    },
    "tags": []
   },
   "outputs": [
    {
     "name": "stdout",
     "output_type": "stream",
     "text": [
      "/Users/aiujdm2/.local/share/virtualenvs/market_watch-dtlP-L11/bin/python\n"
     ]
    }
   ],
   "source": [
    "print(sys.executable)"
   ]
  },
  {
   "cell_type": "code",
   "execution_count": 5,
   "id": "1a519ffd",
   "metadata": {
    "execution": {
     "iopub.execute_input": "2022-03-21T03:12:33.997544Z",
     "iopub.status.busy": "2022-03-21T03:12:33.997347Z",
     "iopub.status.idle": "2022-03-21T03:12:34.000144Z",
     "shell.execute_reply": "2022-03-21T03:12:33.999255Z"
    },
    "papermill": {
     "duration": 0.011501,
     "end_time": "2022-03-21T03:12:34.002211",
     "exception": false,
     "start_time": "2022-03-21T03:12:33.990710",
     "status": "completed"
    },
    "tags": []
   },
   "outputs": [],
   "source": [
    "# def get_themes(v2themes):\n",
    "#     return v2themes.map(lambda x: [theme_tuple.split(',')[0] for theme_tuple in x.split(';')])"
   ]
  },
  {
   "cell_type": "code",
   "execution_count": 6,
   "id": "677c2f17",
   "metadata": {
    "execution": {
     "iopub.execute_input": "2022-03-21T03:12:34.015549Z",
     "iopub.status.busy": "2022-03-21T03:12:34.015365Z",
     "iopub.status.idle": "2022-03-21T03:12:34.018378Z",
     "shell.execute_reply": "2022-03-21T03:12:34.017818Z"
    },
    "papermill": {
     "duration": 0.012061,
     "end_time": "2022-03-21T03:12:34.020652",
     "exception": false,
     "start_time": "2022-03-21T03:12:34.008591",
     "status": "completed"
    },
    "tags": []
   },
   "outputs": [],
   "source": [
    "# gdelt_codes = {}\n",
    "# for key in cameo_codefile_urls:\n",
    "#     url = cameo_codefile_urls[key]\n",
    "#     gdelt_codes[key] = pd.read_csv(url, sep='\\t')"
   ]
  },
  {
   "cell_type": "code",
   "execution_count": 7,
   "id": "eeaf0511",
   "metadata": {
    "execution": {
     "iopub.execute_input": "2022-03-21T03:12:34.033798Z",
     "iopub.status.busy": "2022-03-21T03:12:34.033593Z",
     "iopub.status.idle": "2022-03-21T03:12:34.098235Z",
     "shell.execute_reply": "2022-03-21T03:12:34.097789Z"
    },
    "papermill": {
     "duration": 0.072948,
     "end_time": "2022-03-21T03:12:34.099752",
     "exception": false,
     "start_time": "2022-03-21T03:12:34.026804",
     "status": "completed"
    },
    "tags": []
   },
   "outputs": [
    {
     "name": "stdout",
     "output_type": "stream",
     "text": [
      "/Users/aiujdm2/market_watch/output/data/raw/2022-03-10.csv\n",
      "/Users/aiujdm2/market_watch/output/data/raw/2022-03-03.csv\n",
      "/Users/aiujdm2/market_watch/output/data/raw/2022-01-06.csv\n",
      "/Users/aiujdm2/market_watch/output/data/raw/2022-01-12.csv\n",
      "/Users/aiujdm2/market_watch/output/data/raw/2022-03-16.csv\n",
      "/Users/aiujdm2/market_watch/output/data/raw/2022-01-11.csv\n",
      "/Users/aiujdm2/market_watch/output/data/raw/2022-01-05.csv\n",
      "/Users/aiujdm2/market_watch/output/data/raw/2022-01-04.csv\n",
      "/Users/aiujdm2/market_watch/output/data/raw/2022-01-10.csv\n",
      "/Users/aiujdm2/market_watch/output/data/raw/2022-02-19.csv\n",
      "/Users/aiujdm2/market_watch/output/data/raw/2022-02-25.csv\n",
      "/Users/aiujdm2/market_watch/output/data/raw/2022-02-24.csv\n",
      "/Users/aiujdm2/market_watch/output/data/raw/2022-02-18.csv\n",
      "/Users/aiujdm2/market_watch/output/data/raw/2021-12-29.csv\n",
      "/Users/aiujdm2/market_watch/output/data/raw/2021-12-22.csv\n",
      "/Users/aiujdm2/market_watch/output/data/raw/2022-02-07.csv\n",
      "/Users/aiujdm2/market_watch/output/data/raw/2021-12-23.csv\n",
      "/Users/aiujdm2/market_watch/output/data/raw/2022-02-10.csv\n",
      "/Users/aiujdm2/market_watch/output/data/raw/2022-02-28.csv\n",
      "/Users/aiujdm2/market_watch/output/data/raw/2021-12-27.csv\n",
      "/Users/aiujdm2/market_watch/output/data/raw/2022-02-03.csv\n",
      "/Users/aiujdm2/market_watch/output/data/raw/2022-01-26.csv\n",
      "/Users/aiujdm2/market_watch/output/data/raw/2022-01-18.csv\n",
      "/Users/aiujdm2/market_watch/output/data/raw/2022-01-31.csv\n",
      "/Users/aiujdm2/market_watch/output/data/raw/2022-03-20.csv\n"
     ]
    }
   ],
   "source": [
    "# Read filenames from the given path\n",
    "data_dir = upstream['fetch_gdelt_data']['data']\n",
    "data_files = os.listdir(data_dir)\n",
    "\n",
    "def load_files(data_dir, filenames):\n",
    "    for filename in filenames:\n",
    "        file_path = os.path.join(data_dir, filename)\n",
    "        print(file_path)\n",
    "        yield pd.read_csv(file_path)\n",
    "\t\t\n",
    "\n",
    "data = pd.concat(load_files(data_dir, data_files))"
   ]
  },
  {
   "cell_type": "code",
   "execution_count": 8,
   "id": "7b926f72",
   "metadata": {
    "execution": {
     "iopub.execute_input": "2022-03-21T03:12:34.113508Z",
     "iopub.status.busy": "2022-03-21T03:12:34.113348Z",
     "iopub.status.idle": "2022-03-21T03:12:34.127918Z",
     "shell.execute_reply": "2022-03-21T03:12:34.127156Z"
    },
    "lines_to_next_cell": 0,
    "papermill": {
     "duration": 0.023217,
     "end_time": "2022-03-21T03:12:34.129565",
     "exception": false,
     "start_time": "2022-03-21T03:12:34.106348",
     "status": "completed"
    },
    "tags": []
   },
   "outputs": [],
   "source": [
    "output_file = product['data']\n",
    "\n",
    "data.to_csv(output_file)"
   ]
  },
  {
   "cell_type": "code",
   "execution_count": 9,
   "id": "9740426c",
   "metadata": {
    "execution": {
     "iopub.execute_input": "2022-03-21T03:12:34.143847Z",
     "iopub.status.busy": "2022-03-21T03:12:34.143658Z",
     "iopub.status.idle": "2022-03-21T03:12:34.146577Z",
     "shell.execute_reply": "2022-03-21T03:12:34.145950Z"
    },
    "papermill": {
     "duration": 0.011562,
     "end_time": "2022-03-21T03:12:34.148117",
     "exception": false,
     "start_time": "2022-03-21T03:12:34.136555",
     "status": "completed"
    },
    "tags": []
   },
   "outputs": [
    {
     "name": "stdout",
     "output_type": "stream",
     "text": [
      "Successfully generated merged file with 43 records\n"
     ]
    }
   ],
   "source": [
    "print(f\"Successfully generated merged file with {len(data)} records\")"
   ]
  },
  {
   "cell_type": "code",
   "execution_count": null,
   "id": "d796f6ab",
   "metadata": {
    "papermill": {
     "duration": 0.006712,
     "end_time": "2022-03-21T03:12:34.161590",
     "exception": false,
     "start_time": "2022-03-21T03:12:34.154878",
     "status": "completed"
    },
    "tags": []
   },
   "outputs": [],
   "source": []
  }
 ],
 "metadata": {
  "jupytext": {
   "cell_metadata_filter": "tags,-all",
   "main_language": "python",
   "notebook_metadata_filter": "-all",
   "text_representation": {
    "extension": ".py",
    "format_name": "light"
   }
  },
  "kernelspec": {
   "display_name": "Python 3 (ipykernel)",
   "language": "python",
   "name": "python3"
  },
  "language_info": {
   "codemirror_mode": {
    "name": "ipython",
    "version": 3
   },
   "file_extension": ".py",
   "mimetype": "text/x-python",
   "name": "python",
   "nbconvert_exporter": "python",
   "pygments_lexer": "ipython3",
   "version": "3.9.10"
  },
  "papermill": {
   "duration": 1.681583,
   "end_time": "2022-03-21T03:12:34.387646",
   "exception": null,
   "input_path": "/var/folders/b0/4tc1nfbd6z7_vhx4nxcj2n91c0l9h6/T/tmpsla6wjsh.ipynb",
   "output_path": "/Users/aiujdm2/market_watch/output/notebooks/merge_gdelt_data.ipynb",
   "parameters": {
    "product": {
     "data": "/Users/aiujdm2/market_watch/output/data/interim/merged_data.csv",
     "nb": "/Users/aiujdm2/market_watch/output/notebooks/merge_gdelt_data.ipynb"
    },
    "upstream": {
     "fetch_gdelt_data": {
      "data": "/Users/aiujdm2/market_watch/output/data/raw",
      "nb": "/Users/aiujdm2/market_watch/output/notebooks/fetch_gdelt_data.ipynb"
     }
    }
   },
   "start_time": "2022-03-21T03:12:32.706063"
  }
 },
 "nbformat": 4,
 "nbformat_minor": 5
}