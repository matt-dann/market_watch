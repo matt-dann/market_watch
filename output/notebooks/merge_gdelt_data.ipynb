{
 "cells": [
  {
   "cell_type": "code",
   "execution_count": 1,
   "id": "411f0730",
   "metadata": {
    "execution": {
     "iopub.execute_input": "2022-03-21T02:30:45.392547Z",
     "iopub.status.busy": "2022-03-21T02:30:45.392255Z",
     "iopub.status.idle": "2022-03-21T02:30:45.399832Z",
     "shell.execute_reply": "2022-03-21T02:30:45.399214Z"
    },
    "lines_to_next_cell": 2,
    "papermill": {
     "duration": 0.020771,
     "end_time": "2022-03-21T02:30:45.401997",
     "exception": false,
     "start_time": "2022-03-21T02:30:45.381226",
     "status": "completed"
    },
    "tags": [
     "parameters"
    ]
   },
   "outputs": [],
   "source": [
    "# declare a list tasks whose products you want to use as inputs\n",
    "upstream = ['fetch_gdelt_data']"
   ]
  },
  {
   "cell_type": "code",
   "execution_count": 2,
   "id": "26088b0d",
   "metadata": {
    "execution": {
     "iopub.execute_input": "2022-03-21T02:30:45.419558Z",
     "iopub.status.busy": "2022-03-21T02:30:45.419196Z",
     "iopub.status.idle": "2022-03-21T02:30:45.422938Z",
     "shell.execute_reply": "2022-03-21T02:30:45.422309Z"
    },
    "papermill": {
     "duration": 0.013956,
     "end_time": "2022-03-21T02:30:45.424937",
     "exception": false,
     "start_time": "2022-03-21T02:30:45.410981",
     "status": "completed"
    },
    "tags": [
     "injected-parameters"
    ]
   },
   "outputs": [],
   "source": [
    "# Parameters\n",
    "upstream = {\n",
    "    \"fetch_gdelt_data\": {\n",
    "        \"nb\": \"/Users/aiujdm2/market_watch/output/notebooks/fetch_gdelt_data.ipynb\",\n",
    "        \"data\": \"/Users/aiujdm2/market_watch/output/data/raw\",\n",
    "    }\n",
    "}\n",
    "product = {\n",
    "    \"nb\": \"/Users/aiujdm2/market_watch/output/notebooks/merge_gdelt_data.ipynb\",\n",
    "    \"data\": \"/Users/aiujdm2/market_watch/output/data/interim/merged_data.csv\",\n",
    "}\n"
   ]
  },
  {
   "cell_type": "code",
   "execution_count": 3,
   "id": "724df92e",
   "metadata": {
    "execution": {
     "iopub.execute_input": "2022-03-21T02:30:45.440425Z",
     "iopub.status.busy": "2022-03-21T02:30:45.440206Z",
     "iopub.status.idle": "2022-03-21T02:30:45.715589Z",
     "shell.execute_reply": "2022-03-21T02:30:45.714983Z"
    },
    "papermill": {
     "duration": 0.285107,
     "end_time": "2022-03-21T02:30:45.717300",
     "exception": false,
     "start_time": "2022-03-21T02:30:45.432193",
     "status": "completed"
    },
    "tags": []
   },
   "outputs": [],
   "source": [
    "import pandas as pd\n",
    "from pathlib import Path\n",
    "import os\n",
    "import sys"
   ]
  },
  {
   "cell_type": "code",
   "execution_count": 4,
   "id": "cbe02431",
   "metadata": {
    "execution": {
     "iopub.execute_input": "2022-03-21T02:30:45.729337Z",
     "iopub.status.busy": "2022-03-21T02:30:45.729156Z",
     "iopub.status.idle": "2022-03-21T02:30:45.732000Z",
     "shell.execute_reply": "2022-03-21T02:30:45.731596Z"
    },
    "papermill": {
     "duration": 0.011195,
     "end_time": "2022-03-21T02:30:45.734164",
     "exception": false,
     "start_time": "2022-03-21T02:30:45.722969",
     "status": "completed"
    },
    "tags": []
   },
   "outputs": [
    {
     "name": "stdout",
     "output_type": "stream",
     "text": [
      "/Users/aiujdm2/.local/share/virtualenvs/market_watch-dtlP-L11/bin/python\n"
     ]
    }
   ],
   "source": [
    "print(sys.executable)"
   ]
  },
  {
   "cell_type": "code",
   "execution_count": 5,
   "id": "925a6eb5",
   "metadata": {
    "execution": {
     "iopub.execute_input": "2022-03-21T02:30:45.747697Z",
     "iopub.status.busy": "2022-03-21T02:30:45.747504Z",
     "iopub.status.idle": "2022-03-21T02:30:45.749718Z",
     "shell.execute_reply": "2022-03-21T02:30:45.749235Z"
    },
    "papermill": {
     "duration": 0.011042,
     "end_time": "2022-03-21T02:30:45.751444",
     "exception": false,
     "start_time": "2022-03-21T02:30:45.740402",
     "status": "completed"
    },
    "tags": []
   },
   "outputs": [],
   "source": [
    "# def get_themes(v2themes):\n",
    "#     return v2themes.map(lambda x: [theme_tuple.split(',')[0] for theme_tuple in x.split(';')])"
   ]
  },
  {
   "cell_type": "code",
   "execution_count": 6,
   "id": "be469fe6",
   "metadata": {
    "execution": {
     "iopub.execute_input": "2022-03-21T02:30:45.765220Z",
     "iopub.status.busy": "2022-03-21T02:30:45.764916Z",
     "iopub.status.idle": "2022-03-21T02:30:45.767173Z",
     "shell.execute_reply": "2022-03-21T02:30:45.766764Z"
    },
    "papermill": {
     "duration": 0.011492,
     "end_time": "2022-03-21T02:30:45.768829",
     "exception": false,
     "start_time": "2022-03-21T02:30:45.757337",
     "status": "completed"
    },
    "tags": []
   },
   "outputs": [],
   "source": [
    "# gdelt_codes = {}\n",
    "# for key in cameo_codefile_urls:\n",
    "#     url = cameo_codefile_urls[key]\n",
    "#     gdelt_codes[key] = pd.read_csv(url, sep='\\t')"
   ]
  },
  {
   "cell_type": "code",
   "execution_count": 7,
   "id": "f1d49f24",
   "metadata": {
    "execution": {
     "iopub.execute_input": "2022-03-21T02:30:45.782386Z",
     "iopub.status.busy": "2022-03-21T02:30:45.782211Z",
     "iopub.status.idle": "2022-03-21T02:30:45.846483Z",
     "shell.execute_reply": "2022-03-21T02:30:45.845906Z"
    },
    "papermill": {
     "duration": 0.072645,
     "end_time": "2022-03-21T02:30:45.848047",
     "exception": false,
     "start_time": "2022-03-21T02:30:45.775402",
     "status": "completed"
    },
    "tags": []
   },
   "outputs": [
    {
     "name": "stdout",
     "output_type": "stream",
     "text": [
      "/Users/aiujdm2/market_watch/output/data/raw/2022-03-10.csv\n",
      "/Users/aiujdm2/market_watch/output/data/raw/2022-03-03.csv\n",
      "/Users/aiujdm2/market_watch/output/data/raw/2022-01-06.csv\n",
      "/Users/aiujdm2/market_watch/output/data/raw/2022-01-12.csv\n",
      "/Users/aiujdm2/market_watch/output/data/raw/2022-03-16.csv\n",
      "/Users/aiujdm2/market_watch/output/data/raw/2022-01-11.csv\n",
      "/Users/aiujdm2/market_watch/output/data/raw/2022-01-05.csv\n",
      "/Users/aiujdm2/market_watch/output/data/raw/2022-01-04.csv\n",
      "/Users/aiujdm2/market_watch/output/data/raw/2022-01-10.csv\n",
      "/Users/aiujdm2/market_watch/output/data/raw/2022-02-19.csv\n",
      "/Users/aiujdm2/market_watch/output/data/raw/2022-02-25.csv\n",
      "/Users/aiujdm2/market_watch/output/data/raw/2022-02-24.csv\n",
      "/Users/aiujdm2/market_watch/output/data/raw/2022-02-18.csv\n",
      "/Users/aiujdm2/market_watch/output/data/raw/2021-12-29.csv\n",
      "/Users/aiujdm2/market_watch/output/data/raw/2021-12-22.csv\n",
      "/Users/aiujdm2/market_watch/output/data/raw/2022-02-07.csv\n",
      "/Users/aiujdm2/market_watch/output/data/raw/2021-12-23.csv\n",
      "/Users/aiujdm2/market_watch/output/data/raw/2022-02-10.csv\n",
      "/Users/aiujdm2/market_watch/output/data/raw/2022-02-28.csv\n",
      "/Users/aiujdm2/market_watch/output/data/raw/2021-12-27.csv\n",
      "/Users/aiujdm2/market_watch/output/data/raw/2022-02-03.csv\n",
      "/Users/aiujdm2/market_watch/output/data/raw/2022-01-26.csv\n",
      "/Users/aiujdm2/market_watch/output/data/raw/2022-01-18.csv\n",
      "/Users/aiujdm2/market_watch/output/data/raw/2022-01-31.csv\n",
      "/Users/aiujdm2/market_watch/output/data/raw/2022-03-20.csv\n"
     ]
    }
   ],
   "source": [
    "# Read filenames from the given path\n",
    "data_dir = upstream['fetch_gdelt_data']['data']\n",
    "data_files = os.listdir(data_dir)\n",
    "\n",
    "def load_files(data_dir, filenames):\n",
    "    for filename in filenames:\n",
    "        file_path = os.path.join(data_dir, filename)\n",
    "        print(file_path)\n",
    "        yield pd.read_csv(file_path)\n",
    "\t\t\n",
    "\n",
    "data = pd.concat(load_files(data_dir, data_files))"
   ]
  },
  {
   "cell_type": "code",
   "execution_count": 8,
   "id": "989e5d57",
   "metadata": {
    "execution": {
     "iopub.execute_input": "2022-03-21T02:30:45.861760Z",
     "iopub.status.busy": "2022-03-21T02:30:45.861601Z",
     "iopub.status.idle": "2022-03-21T02:30:45.875752Z",
     "shell.execute_reply": "2022-03-21T02:30:45.875325Z"
    },
    "lines_to_next_cell": 0,
    "papermill": {
     "duration": 0.023173,
     "end_time": "2022-03-21T02:30:45.877840",
     "exception": false,
     "start_time": "2022-03-21T02:30:45.854667",
     "status": "completed"
    },
    "tags": []
   },
   "outputs": [],
   "source": [
    "output_file = product['data']\n",
    "\n",
    "data.to_csv(output_file)"
   ]
  },
  {
   "cell_type": "code",
   "execution_count": null,
   "id": "dcbb67ea",
   "metadata": {
    "papermill": {
     "duration": 0.006411,
     "end_time": "2022-03-21T02:30:45.891017",
     "exception": false,
     "start_time": "2022-03-21T02:30:45.884606",
     "status": "completed"
    },
    "tags": []
   },
   "outputs": [],
   "source": []
  },
  {
   "cell_type": "code",
   "execution_count": null,
   "id": "74f6c85d",
   "metadata": {
    "papermill": {
     "duration": 0.00884,
     "end_time": "2022-03-21T02:30:45.907963",
     "exception": false,
     "start_time": "2022-03-21T02:30:45.899123",
     "status": "completed"
    },
    "tags": []
   },
   "outputs": [],
   "source": []
  }
 ],
 "metadata": {
  "jupytext": {
   "cell_metadata_filter": "tags,-all",
   "main_language": "python",
   "notebook_metadata_filter": "-all",
   "text_representation": {
    "extension": ".py",
    "format_name": "light"
   }
  },
  "kernelspec": {
   "display_name": "Python 3 (ipykernel)",
   "language": "python",
   "name": "python3"
  },
  "language_info": {
   "codemirror_mode": {
    "name": "ipython",
    "version": 3
   },
   "file_extension": ".py",
   "mimetype": "text/x-python",
   "name": "python",
   "nbconvert_exporter": "python",
   "pygments_lexer": "ipython3",
   "version": "3.9.10"
  },
  "papermill": {
   "duration": 1.76986,
   "end_time": "2022-03-21T02:30:46.134744",
   "exception": null,
   "input_path": "/var/folders/b0/4tc1nfbd6z7_vhx4nxcj2n91c0l9h6/T/tmpg1dm3kh1.ipynb",
   "output_path": "/Users/aiujdm2/market_watch/output/notebooks/merge_gdelt_data.ipynb",
   "parameters": {
    "product": {
     "data": "/Users/aiujdm2/market_watch/output/data/interim/merged_data.csv",
     "nb": "/Users/aiujdm2/market_watch/output/notebooks/merge_gdelt_data.ipynb"
    },
    "upstream": {
     "fetch_gdelt_data": {
      "data": "/Users/aiujdm2/market_watch/output/data/raw",
      "nb": "/Users/aiujdm2/market_watch/output/notebooks/fetch_gdelt_data.ipynb"
     }
    }
   },
   "start_time": "2022-03-21T02:30:44.364884"
  }
 },
 "nbformat": 4,
 "nbformat_minor": 5
}