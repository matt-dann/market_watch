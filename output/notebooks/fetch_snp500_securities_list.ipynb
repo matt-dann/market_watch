{
 "cells": [
  {
   "cell_type": "code",
   "execution_count": 1,
   "id": "bbfef702",
   "metadata": {
    "execution": {
     "iopub.execute_input": "2022-04-19T13:23:22.799352Z",
     "iopub.status.busy": "2022-04-19T13:23:22.799134Z",
     "iopub.status.idle": "2022-04-19T13:23:22.805950Z",
     "shell.execute_reply": "2022-04-19T13:23:22.805386Z"
    },
    "papermill": {
     "duration": 0.010429,
     "end_time": "2022-04-19T13:23:22.807036",
     "exception": false,
     "start_time": "2022-04-19T13:23:22.796607",
     "status": "completed"
    },
    "tags": [
     "parameters"
    ]
   },
   "outputs": [],
   "source": [
    "# declare a list tasks whose products you want to use as inputs\n",
    "upstream = None"
   ]
  },
  {
   "cell_type": "code",
   "execution_count": 2,
   "id": "db960b92",
   "metadata": {
    "execution": {
     "iopub.execute_input": "2022-04-19T13:23:22.810541Z",
     "iopub.status.busy": "2022-04-19T13:23:22.810375Z",
     "iopub.status.idle": "2022-04-19T13:23:22.813578Z",
     "shell.execute_reply": "2022-04-19T13:23:22.812875Z"
    },
    "papermill": {
     "duration": 0.006408,
     "end_time": "2022-04-19T13:23:22.814773",
     "exception": false,
     "start_time": "2022-04-19T13:23:22.808365",
     "status": "completed"
    },
    "tags": [
     "injected-parameters"
    ]
   },
   "outputs": [],
   "source": [
    "# Parameters\n",
    "source_url = \"https://en.wikipedia.org/wiki/List_of_S%26P_500_companies\"\n",
    "product = {\n",
    "    \"nb\": \"/home/vgaurav/market_watch/output/notebooks/fetch_snp500_securities_list.ipynb\",\n",
    "    \"data\": \"/home/vgaurav/market_watch/output/data/raw/snp500_securities_list.csv\",\n",
    "}\n"
   ]
  },
  {
   "cell_type": "code",
   "execution_count": 3,
   "id": "f6bb44d6",
   "metadata": {
    "execution": {
     "iopub.execute_input": "2022-04-19T13:23:22.818422Z",
     "iopub.status.busy": "2022-04-19T13:23:22.818264Z",
     "iopub.status.idle": "2022-04-19T13:23:23.036841Z",
     "shell.execute_reply": "2022-04-19T13:23:23.036207Z"
    },
    "papermill": {
     "duration": 0.222102,
     "end_time": "2022-04-19T13:23:23.038309",
     "exception": false,
     "start_time": "2022-04-19T13:23:22.816207",
     "status": "completed"
    },
    "tags": []
   },
   "outputs": [],
   "source": [
    "import pandas as pd"
   ]
  },
  {
   "cell_type": "code",
   "execution_count": 4,
   "id": "27ad2579",
   "metadata": {
    "execution": {
     "iopub.execute_input": "2022-04-19T13:23:23.042303Z",
     "iopub.status.busy": "2022-04-19T13:23:23.042091Z",
     "iopub.status.idle": "2022-04-19T13:23:23.852260Z",
     "shell.execute_reply": "2022-04-19T13:23:23.851630Z"
    },
    "papermill": {
     "duration": 0.813638,
     "end_time": "2022-04-19T13:23:23.853484",
     "exception": false,
     "start_time": "2022-04-19T13:23:23.039846",
     "status": "completed"
    },
    "tags": []
   },
   "outputs": [],
   "source": [
    "# There are 2 tables on the Wikipedia page\n",
    "# we want the first table\n",
    "\n",
    "payload=pd.read_html(source_url)\n",
    "first_table = payload[0]\n",
    "second_table = payload[1]\n",
    "\n",
    "df = first_table"
   ]
  },
  {
   "cell_type": "code",
   "execution_count": 5,
   "id": "e14349f1",
   "metadata": {
    "execution": {
     "iopub.execute_input": "2022-04-19T13:23:23.856954Z",
     "iopub.status.busy": "2022-04-19T13:23:23.856791Z",
     "iopub.status.idle": "2022-04-19T13:23:23.861700Z",
     "shell.execute_reply": "2022-04-19T13:23:23.860984Z"
    },
    "papermill": {
     "duration": 0.008227,
     "end_time": "2022-04-19T13:23:23.863033",
     "exception": false,
     "start_time": "2022-04-19T13:23:23.854806",
     "status": "completed"
    },
    "tags": []
   },
   "outputs": [],
   "source": [
    "df.drop_duplicates(subset=['CIK'], inplace=True)"
   ]
  },
  {
   "cell_type": "code",
   "execution_count": 6,
   "id": "978c5f2a",
   "metadata": {
    "execution": {
     "iopub.execute_input": "2022-04-19T13:23:23.867146Z",
     "iopub.status.busy": "2022-04-19T13:23:23.866979Z",
     "iopub.status.idle": "2022-04-19T13:23:23.876616Z",
     "shell.execute_reply": "2022-04-19T13:23:23.875925Z"
    },
    "papermill": {
     "duration": 0.013306,
     "end_time": "2022-04-19T13:23:23.877962",
     "exception": false,
     "start_time": "2022-04-19T13:23:23.864656",
     "status": "completed"
    },
    "tags": []
   },
   "outputs": [
    {
     "name": "stdout",
     "output_type": "stream",
     "text": [
      "<class 'pandas.core.frame.DataFrame'>\n",
      "Int64Index: 500 entries, 0 to 503\n",
      "Data columns (total 9 columns):\n",
      " #   Column                 Non-Null Count  Dtype \n",
      "---  ------                 --------------  ----- \n",
      " 0   Symbol                 500 non-null    object\n",
      " 1   Security               500 non-null    object\n",
      " 2   SEC filings            500 non-null    object\n",
      " 3   GICS Sector            500 non-null    object\n",
      " 4   GICS Sub-Industry      500 non-null    object\n",
      " 5   Headquarters Location  500 non-null    object\n",
      " 6   Date first added       455 non-null    object\n",
      " 7   CIK                    500 non-null    int64 \n",
      " 8   Founded                500 non-null    object\n",
      "dtypes: int64(1), object(8)\n",
      "memory usage: 39.1+ KB\n"
     ]
    }
   ],
   "source": [
    "df.info()"
   ]
  },
  {
   "cell_type": "code",
   "execution_count": 7,
   "id": "2ca7359c",
   "metadata": {
    "execution": {
     "iopub.execute_input": "2022-04-19T13:23:23.881483Z",
     "iopub.status.busy": "2022-04-19T13:23:23.881286Z",
     "iopub.status.idle": "2022-04-19T13:23:23.895187Z",
     "shell.execute_reply": "2022-04-19T13:23:23.894576Z"
    },
    "papermill": {
     "duration": 0.017008,
     "end_time": "2022-04-19T13:23:23.896343",
     "exception": false,
     "start_time": "2022-04-19T13:23:23.879335",
     "status": "completed"
    },
    "tags": []
   },
   "outputs": [
    {
     "data": {
      "text/html": [
       "<div>\n",
       "<style scoped>\n",
       "    .dataframe tbody tr th:only-of-type {\n",
       "        vertical-align: middle;\n",
       "    }\n",
       "\n",
       "    .dataframe tbody tr th {\n",
       "        vertical-align: top;\n",
       "    }\n",
       "\n",
       "    .dataframe thead th {\n",
       "        text-align: right;\n",
       "    }\n",
       "</style>\n",
       "<table border=\"1\" class=\"dataframe\">\n",
       "  <thead>\n",
       "    <tr style=\"text-align: right;\">\n",
       "      <th></th>\n",
       "      <th>Symbol</th>\n",
       "      <th>Security</th>\n",
       "      <th>SEC filings</th>\n",
       "      <th>GICS Sector</th>\n",
       "      <th>GICS Sub-Industry</th>\n",
       "      <th>Headquarters Location</th>\n",
       "      <th>Date first added</th>\n",
       "      <th>CIK</th>\n",
       "      <th>Founded</th>\n",
       "    </tr>\n",
       "  </thead>\n",
       "  <tbody>\n",
       "    <tr>\n",
       "      <th>139</th>\n",
       "      <td>DHI</td>\n",
       "      <td>D.R. Horton</td>\n",
       "      <td>reports</td>\n",
       "      <td>Consumer Discretionary</td>\n",
       "      <td>Homebuilding</td>\n",
       "      <td>Arlington, Texas</td>\n",
       "      <td>2005-06-22</td>\n",
       "      <td>882184</td>\n",
       "      <td>1978</td>\n",
       "    </tr>\n",
       "    <tr>\n",
       "      <th>423</th>\n",
       "      <td>SEDG</td>\n",
       "      <td>SolarEdge</td>\n",
       "      <td>reports</td>\n",
       "      <td>Information Technology</td>\n",
       "      <td>Semiconductor Equipment</td>\n",
       "      <td>Herzliya, Israel</td>\n",
       "      <td>2021-12-20</td>\n",
       "      <td>1419612</td>\n",
       "      <td>2006</td>\n",
       "    </tr>\n",
       "    <tr>\n",
       "      <th>435</th>\n",
       "      <td>TMUS</td>\n",
       "      <td>T-Mobile</td>\n",
       "      <td>reports</td>\n",
       "      <td>Communication Services</td>\n",
       "      <td>Wireless Telecommunication Services</td>\n",
       "      <td>Bellevue, Washington</td>\n",
       "      <td>2019-07-15</td>\n",
       "      <td>1283699</td>\n",
       "      <td>1994</td>\n",
       "    </tr>\n",
       "    <tr>\n",
       "      <th>394</th>\n",
       "      <td>RL</td>\n",
       "      <td>Ralph Lauren</td>\n",
       "      <td>reports</td>\n",
       "      <td>Consumer Discretionary</td>\n",
       "      <td>Apparel, Accessories &amp; Luxury Goods</td>\n",
       "      <td>New York City, New York</td>\n",
       "      <td>2007-02-02</td>\n",
       "      <td>1037038</td>\n",
       "      <td>1967</td>\n",
       "    </tr>\n",
       "    <tr>\n",
       "      <th>391</th>\n",
       "      <td>PWR</td>\n",
       "      <td>Quanta</td>\n",
       "      <td>reports</td>\n",
       "      <td>Industrials</td>\n",
       "      <td>Construction &amp; Engineering</td>\n",
       "      <td>Houston, Texas</td>\n",
       "      <td>2009-07-01</td>\n",
       "      <td>1050915</td>\n",
       "      <td>1997</td>\n",
       "    </tr>\n",
       "    <tr>\n",
       "      <th>158</th>\n",
       "      <td>DOW</td>\n",
       "      <td>Dow</td>\n",
       "      <td>reports</td>\n",
       "      <td>Materials</td>\n",
       "      <td>Commodity Chemicals</td>\n",
       "      <td>Midland, Michigan</td>\n",
       "      <td>2019-04-01</td>\n",
       "      <td>1751788</td>\n",
       "      <td>2019</td>\n",
       "    </tr>\n",
       "    <tr>\n",
       "      <th>294</th>\n",
       "      <td>LYB</td>\n",
       "      <td>LyondellBasell</td>\n",
       "      <td>reports</td>\n",
       "      <td>Materials</td>\n",
       "      <td>Specialty Chemicals</td>\n",
       "      <td>Rotterdam, Netherlands</td>\n",
       "      <td>2012-09-05</td>\n",
       "      <td>1489393</td>\n",
       "      <td>2007</td>\n",
       "    </tr>\n",
       "    <tr>\n",
       "      <th>83</th>\n",
       "      <td>CZR</td>\n",
       "      <td>Caesars Entertainment</td>\n",
       "      <td>reports</td>\n",
       "      <td>Consumer Discretionary</td>\n",
       "      <td>Casinos &amp; Gaming</td>\n",
       "      <td>Reno, Nevada</td>\n",
       "      <td>2021-03-22</td>\n",
       "      <td>1590895</td>\n",
       "      <td>1973</td>\n",
       "    </tr>\n",
       "    <tr>\n",
       "      <th>414</th>\n",
       "      <td>SEE</td>\n",
       "      <td>Sealed Air</td>\n",
       "      <td>reports</td>\n",
       "      <td>Materials</td>\n",
       "      <td>Paper Packaging</td>\n",
       "      <td>Charlotte, North Carolina</td>\n",
       "      <td>1957-03-04</td>\n",
       "      <td>1012100</td>\n",
       "      <td>1960</td>\n",
       "    </tr>\n",
       "    <tr>\n",
       "      <th>60</th>\n",
       "      <td>BBWI</td>\n",
       "      <td>Bath &amp; Body Works</td>\n",
       "      <td>reports</td>\n",
       "      <td>Consumer Discretionary</td>\n",
       "      <td>Specialty Stores</td>\n",
       "      <td>Columbus, Ohio</td>\n",
       "      <td>1983-09-30</td>\n",
       "      <td>701985</td>\n",
       "      <td>1963</td>\n",
       "    </tr>\n",
       "  </tbody>\n",
       "</table>\n",
       "</div>"
      ],
      "text/plain": [
       "    Symbol               Security SEC filings             GICS Sector  \\\n",
       "139    DHI            D.R. Horton     reports  Consumer Discretionary   \n",
       "423   SEDG              SolarEdge     reports  Information Technology   \n",
       "435   TMUS               T-Mobile     reports  Communication Services   \n",
       "394     RL           Ralph Lauren     reports  Consumer Discretionary   \n",
       "391    PWR                 Quanta     reports             Industrials   \n",
       "158    DOW                    Dow     reports               Materials   \n",
       "294    LYB         LyondellBasell     reports               Materials   \n",
       "83     CZR  Caesars Entertainment     reports  Consumer Discretionary   \n",
       "414    SEE             Sealed Air     reports               Materials   \n",
       "60    BBWI      Bath & Body Works     reports  Consumer Discretionary   \n",
       "\n",
       "                       GICS Sub-Industry      Headquarters Location  \\\n",
       "139                         Homebuilding           Arlington, Texas   \n",
       "423              Semiconductor Equipment           Herzliya, Israel   \n",
       "435  Wireless Telecommunication Services       Bellevue, Washington   \n",
       "394  Apparel, Accessories & Luxury Goods    New York City, New York   \n",
       "391           Construction & Engineering             Houston, Texas   \n",
       "158                  Commodity Chemicals          Midland, Michigan   \n",
       "294                  Specialty Chemicals     Rotterdam, Netherlands   \n",
       "83                      Casinos & Gaming               Reno, Nevada   \n",
       "414                      Paper Packaging  Charlotte, North Carolina   \n",
       "60                      Specialty Stores             Columbus, Ohio   \n",
       "\n",
       "    Date first added      CIK Founded  \n",
       "139       2005-06-22   882184    1978  \n",
       "423       2021-12-20  1419612    2006  \n",
       "435       2019-07-15  1283699    1994  \n",
       "394       2007-02-02  1037038    1967  \n",
       "391       2009-07-01  1050915    1997  \n",
       "158       2019-04-01  1751788    2019  \n",
       "294       2012-09-05  1489393    2007  \n",
       "83        2021-03-22  1590895    1973  \n",
       "414       1957-03-04  1012100    1960  \n",
       "60        1983-09-30   701985    1963  "
      ]
     },
     "execution_count": 7,
     "metadata": {},
     "output_type": "execute_result"
    }
   ],
   "source": [
    "df.sample(10)"
   ]
  },
  {
   "cell_type": "code",
   "execution_count": 8,
   "id": "c68e3ebd",
   "metadata": {
    "execution": {
     "iopub.execute_input": "2022-04-19T13:23:23.900500Z",
     "iopub.status.busy": "2022-04-19T13:23:23.900170Z",
     "iopub.status.idle": "2022-04-19T13:23:23.907247Z",
     "shell.execute_reply": "2022-04-19T13:23:23.906647Z"
    },
    "papermill": {
     "duration": 0.010626,
     "end_time": "2022-04-19T13:23:23.908566",
     "exception": false,
     "start_time": "2022-04-19T13:23:23.897940",
     "status": "completed"
    },
    "tags": []
   },
   "outputs": [
    {
     "name": "stdout",
     "output_type": "stream",
     "text": [
      "Saved file /home/vgaurav/market_watch/output/data/raw/snp500_securities_list.csv\n"
     ]
    }
   ],
   "source": [
    "output_file_path = product['data']\n",
    "df.to_csv(output_file_path)\n",
    "print(f\"Saved file {output_file_path}\")  "
   ]
  },
  {
   "cell_type": "code",
   "execution_count": 9,
   "id": "1a9f5596",
   "metadata": {
    "execution": {
     "iopub.execute_input": "2022-04-19T13:23:23.913023Z",
     "iopub.status.busy": "2022-04-19T13:23:23.912835Z",
     "iopub.status.idle": "2022-04-19T13:23:23.915812Z",
     "shell.execute_reply": "2022-04-19T13:23:23.915172Z"
    },
    "papermill": {
     "duration": 0.006511,
     "end_time": "2022-04-19T13:23:23.916937",
     "exception": false,
     "start_time": "2022-04-19T13:23:23.910426",
     "status": "completed"
    },
    "tags": []
   },
   "outputs": [],
   "source": [
    "del df, first_table, second_table"
   ]
  },
  {
   "cell_type": "code",
   "execution_count": null,
   "id": "0fe23dfd",
   "metadata": {
    "papermill": {
     "duration": 0.001562,
     "end_time": "2022-04-19T13:23:23.920444",
     "exception": false,
     "start_time": "2022-04-19T13:23:23.918882",
     "status": "completed"
    },
    "tags": []
   },
   "outputs": [],
   "source": []
  }
 ],
 "metadata": {
  "jupytext": {
   "cell_metadata_filter": "tags,-all",
   "main_language": "python",
   "notebook_metadata_filter": "-all",
   "text_representation": {
    "extension": ".py",
    "format_name": "light"
   }
  },
  "kernelspec": {
   "display_name": "Python 3 (ipykernel)",
   "language": "python",
   "name": "python3"
  },
  "language_info": {
   "codemirror_mode": {
    "name": "ipython",
    "version": 3
   },
   "file_extension": ".py",
   "mimetype": "text/x-python",
   "name": "python",
   "nbconvert_exporter": "python",
   "pygments_lexer": "ipython3",
   "version": "3.8.10"
  },
  "papermill": {
   "duration": 5.02567,
   "end_time": "2022-04-19T13:23:27.064427",
   "exception": null,
   "input_path": "/tmp/tmphx_7k0v5.ipynb",
   "output_path": "/home/vgaurav/market_watch/output/notebooks/fetch_snp500_securities_list.ipynb",
   "parameters": {
    "product": {
     "data": "/home/vgaurav/market_watch/output/data/raw/snp500_securities_list.csv",
     "nb": "/home/vgaurav/market_watch/output/notebooks/fetch_snp500_securities_list.ipynb"
    },
    "source_url": "https://en.wikipedia.org/wiki/List_of_S%26P_500_companies"
   },
   "start_time": "2022-04-19T13:23:22.038757"
  }
 },
 "nbformat": 4,
 "nbformat_minor": 5
}