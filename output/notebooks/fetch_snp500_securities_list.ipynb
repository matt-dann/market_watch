{
 "cells": [
  {
   "cell_type": "code",
   "execution_count": 1,
   "id": "f799ae9f",
   "metadata": {
    "execution": {
     "iopub.execute_input": "2022-04-18T04:06:13.117889Z",
     "iopub.status.busy": "2022-04-18T04:06:13.117588Z",
     "iopub.status.idle": "2022-04-18T04:06:13.125485Z",
     "shell.execute_reply": "2022-04-18T04:06:13.124815Z"
    },
    "papermill": {
     "duration": 0.022484,
     "end_time": "2022-04-18T04:06:13.127482",
     "exception": false,
     "start_time": "2022-04-18T04:06:13.104998",
     "status": "completed"
    },
    "tags": [
     "parameters"
    ]
   },
   "outputs": [],
   "source": [
    "# declare a list tasks whose products you want to use as inputs\n",
    "upstream = None"
   ]
  },
  {
   "cell_type": "code",
   "execution_count": 2,
   "id": "d014e37a",
   "metadata": {
    "execution": {
     "iopub.execute_input": "2022-04-18T04:06:13.143239Z",
     "iopub.status.busy": "2022-04-18T04:06:13.143003Z",
     "iopub.status.idle": "2022-04-18T04:06:13.146368Z",
     "shell.execute_reply": "2022-04-18T04:06:13.145798Z"
    },
    "papermill": {
     "duration": 0.013187,
     "end_time": "2022-04-18T04:06:13.148248",
     "exception": false,
     "start_time": "2022-04-18T04:06:13.135061",
     "status": "completed"
    },
    "tags": [
     "injected-parameters"
    ]
   },
   "outputs": [],
   "source": [
    "# Parameters\n",
    "source_url = \"https://en.wikipedia.org/wiki/List_of_S%26P_500_companies\"\n",
    "product = {\n",
    "    \"nb\": \"/Users/aiujdm2/market_watch/output/notebooks/fetch_snp500_securities_list.ipynb\",\n",
    "    \"data\": \"/Users/aiujdm2/market_watch/output/data/raw/snp500_securities_list.csv\",\n",
    "}\n"
   ]
  },
  {
   "cell_type": "code",
   "execution_count": 3,
   "id": "4cc67b7d",
   "metadata": {
    "execution": {
     "iopub.execute_input": "2022-04-18T04:06:13.162795Z",
     "iopub.status.busy": "2022-04-18T04:06:13.162567Z",
     "iopub.status.idle": "2022-04-18T04:06:13.432955Z",
     "shell.execute_reply": "2022-04-18T04:06:13.432390Z"
    },
    "papermill": {
     "duration": 0.279422,
     "end_time": "2022-04-18T04:06:13.434669",
     "exception": false,
     "start_time": "2022-04-18T04:06:13.155247",
     "status": "completed"
    },
    "tags": []
   },
   "outputs": [],
   "source": [
    "import pandas as pd"
   ]
  },
  {
   "cell_type": "code",
   "execution_count": 4,
   "id": "0147ab3a",
   "metadata": {
    "execution": {
     "iopub.execute_input": "2022-04-18T04:06:13.447883Z",
     "iopub.status.busy": "2022-04-18T04:06:13.447667Z",
     "iopub.status.idle": "2022-04-18T04:06:14.003659Z",
     "shell.execute_reply": "2022-04-18T04:06:14.002851Z"
    },
    "papermill": {
     "duration": 0.564634,
     "end_time": "2022-04-18T04:06:14.005484",
     "exception": false,
     "start_time": "2022-04-18T04:06:13.440850",
     "status": "completed"
    },
    "tags": []
   },
   "outputs": [],
   "source": [
    "# There are 2 tables on the Wikipedia page\n",
    "# we want the first table\n",
    "\n",
    "payload=pd.read_html(source_url)\n",
    "first_table = payload[0]\n",
    "second_table = payload[1]\n",
    "\n",
    "df = first_table"
   ]
  },
  {
   "cell_type": "code",
   "execution_count": 5,
   "id": "c2a43c96",
   "metadata": {
    "execution": {
     "iopub.execute_input": "2022-04-18T04:06:14.017533Z",
     "iopub.status.busy": "2022-04-18T04:06:14.017254Z",
     "iopub.status.idle": "2022-04-18T04:06:14.022547Z",
     "shell.execute_reply": "2022-04-18T04:06:14.021797Z"
    },
    "papermill": {
     "duration": 0.0132,
     "end_time": "2022-04-18T04:06:14.024311",
     "exception": false,
     "start_time": "2022-04-18T04:06:14.011111",
     "status": "completed"
    },
    "tags": []
   },
   "outputs": [],
   "source": [
    "df.drop_duplicates(subset=['CIK'], inplace=True)"
   ]
  },
  {
   "cell_type": "code",
   "execution_count": 6,
   "id": "7f4d4c93",
   "metadata": {
    "execution": {
     "iopub.execute_input": "2022-04-18T04:06:14.036855Z",
     "iopub.status.busy": "2022-04-18T04:06:14.036667Z",
     "iopub.status.idle": "2022-04-18T04:06:14.044953Z",
     "shell.execute_reply": "2022-04-18T04:06:14.044510Z"
    },
    "papermill": {
     "duration": 0.016443,
     "end_time": "2022-04-18T04:06:14.046762",
     "exception": false,
     "start_time": "2022-04-18T04:06:14.030319",
     "status": "completed"
    },
    "tags": []
   },
   "outputs": [
    {
     "name": "stdout",
     "output_type": "stream",
     "text": [
      "<class 'pandas.core.frame.DataFrame'>\n",
      "Int64Index: 500 entries, 0 to 503\n",
      "Data columns (total 9 columns):\n",
      " #   Column                 Non-Null Count  Dtype \n",
      "---  ------                 --------------  ----- \n",
      " 0   Symbol                 500 non-null    object\n",
      " 1   Security               500 non-null    object\n",
      " 2   SEC filings            500 non-null    object\n",
      " 3   GICS Sector            500 non-null    object\n",
      " 4   GICS Sub-Industry      500 non-null    object\n",
      " 5   Headquarters Location  500 non-null    object\n",
      " 6   Date first added       455 non-null    object\n",
      " 7   CIK                    500 non-null    int64 \n",
      " 8   Founded                500 non-null    object\n",
      "dtypes: int64(1), object(8)\n",
      "memory usage: 39.1+ KB\n"
     ]
    }
   ],
   "source": [
    "df.info()"
   ]
  },
  {
   "cell_type": "code",
   "execution_count": 7,
   "id": "00a80db6",
   "metadata": {
    "execution": {
     "iopub.execute_input": "2022-04-18T04:06:14.059309Z",
     "iopub.status.busy": "2022-04-18T04:06:14.059134Z",
     "iopub.status.idle": "2022-04-18T04:06:14.071977Z",
     "shell.execute_reply": "2022-04-18T04:06:14.071551Z"
    },
    "papermill": {
     "duration": 0.020832,
     "end_time": "2022-04-18T04:06:14.073510",
     "exception": false,
     "start_time": "2022-04-18T04:06:14.052678",
     "status": "completed"
    },
    "tags": []
   },
   "outputs": [
    {
     "data": {
      "text/html": [
       "<div>\n",
       "<style scoped>\n",
       "    .dataframe tbody tr th:only-of-type {\n",
       "        vertical-align: middle;\n",
       "    }\n",
       "\n",
       "    .dataframe tbody tr th {\n",
       "        vertical-align: top;\n",
       "    }\n",
       "\n",
       "    .dataframe thead th {\n",
       "        text-align: right;\n",
       "    }\n",
       "</style>\n",
       "<table border=\"1\" class=\"dataframe\">\n",
       "  <thead>\n",
       "    <tr style=\"text-align: right;\">\n",
       "      <th></th>\n",
       "      <th>Symbol</th>\n",
       "      <th>Security</th>\n",
       "      <th>SEC filings</th>\n",
       "      <th>GICS Sector</th>\n",
       "      <th>GICS Sub-Industry</th>\n",
       "      <th>Headquarters Location</th>\n",
       "      <th>Date first added</th>\n",
       "      <th>CIK</th>\n",
       "      <th>Founded</th>\n",
       "    </tr>\n",
       "  </thead>\n",
       "  <tbody>\n",
       "    <tr>\n",
       "      <th>46</th>\n",
       "      <td>AAPL</td>\n",
       "      <td>Apple</td>\n",
       "      <td>reports</td>\n",
       "      <td>Information Technology</td>\n",
       "      <td>Technology Hardware, Storage &amp; Peripherals</td>\n",
       "      <td>Cupertino, California</td>\n",
       "      <td>1982-11-30</td>\n",
       "      <td>320193</td>\n",
       "      <td>1977</td>\n",
       "    </tr>\n",
       "    <tr>\n",
       "      <th>118</th>\n",
       "      <td>CMS</td>\n",
       "      <td>CMS Energy</td>\n",
       "      <td>reports</td>\n",
       "      <td>Utilities</td>\n",
       "      <td>Multi-Utilities</td>\n",
       "      <td>Jackson, Michigan</td>\n",
       "      <td>1999-05-03</td>\n",
       "      <td>811156</td>\n",
       "      <td>1886</td>\n",
       "    </tr>\n",
       "    <tr>\n",
       "      <th>127</th>\n",
       "      <td>STZ</td>\n",
       "      <td>Constellation Brands</td>\n",
       "      <td>reports</td>\n",
       "      <td>Consumer Staples</td>\n",
       "      <td>Distillers &amp; Vintners</td>\n",
       "      <td>Victor, New York</td>\n",
       "      <td>2005-07-01</td>\n",
       "      <td>16918</td>\n",
       "      <td>1945</td>\n",
       "    </tr>\n",
       "    <tr>\n",
       "      <th>16</th>\n",
       "      <td>AKAM</td>\n",
       "      <td>Akamai</td>\n",
       "      <td>reports</td>\n",
       "      <td>Information Technology</td>\n",
       "      <td>Internet Services &amp; Infrastructure</td>\n",
       "      <td>Cambridge, Massachusetts</td>\n",
       "      <td>2007-07-12</td>\n",
       "      <td>1086222</td>\n",
       "      <td>1998</td>\n",
       "    </tr>\n",
       "    <tr>\n",
       "      <th>466</th>\n",
       "      <td>UPS</td>\n",
       "      <td>United Parcel Service</td>\n",
       "      <td>reports</td>\n",
       "      <td>Industrials</td>\n",
       "      <td>Air Freight &amp; Logistics</td>\n",
       "      <td>Sandy Springs, Georgia</td>\n",
       "      <td>2002-07-22</td>\n",
       "      <td>1090727</td>\n",
       "      <td>1907</td>\n",
       "    </tr>\n",
       "    <tr>\n",
       "      <th>144</th>\n",
       "      <td>DAL</td>\n",
       "      <td>Delta Air Lines</td>\n",
       "      <td>reports</td>\n",
       "      <td>Industrials</td>\n",
       "      <td>Airlines</td>\n",
       "      <td>Atlanta, Georgia</td>\n",
       "      <td>2013-09-11</td>\n",
       "      <td>27904</td>\n",
       "      <td>1929</td>\n",
       "    </tr>\n",
       "    <tr>\n",
       "      <th>133</th>\n",
       "      <td>COST</td>\n",
       "      <td>Costco</td>\n",
       "      <td>reports</td>\n",
       "      <td>Consumer Staples</td>\n",
       "      <td>Hypermarkets &amp; Super Centers</td>\n",
       "      <td>Issaquah, Washington</td>\n",
       "      <td>1993-10-01</td>\n",
       "      <td>909832</td>\n",
       "      <td>1976</td>\n",
       "    </tr>\n",
       "    <tr>\n",
       "      <th>362</th>\n",
       "      <td>PARA</td>\n",
       "      <td>Paramount</td>\n",
       "      <td>reports</td>\n",
       "      <td>Communication Services</td>\n",
       "      <td>Movies &amp; Entertainment</td>\n",
       "      <td>New York City, New York</td>\n",
       "      <td>NaN</td>\n",
       "      <td>813828</td>\n",
       "      <td>2019 (1952)</td>\n",
       "    </tr>\n",
       "    <tr>\n",
       "      <th>5</th>\n",
       "      <td>ACN</td>\n",
       "      <td>Accenture</td>\n",
       "      <td>reports</td>\n",
       "      <td>Information Technology</td>\n",
       "      <td>IT Consulting &amp; Other Services</td>\n",
       "      <td>Dublin, Ireland</td>\n",
       "      <td>2011-07-06</td>\n",
       "      <td>1467373</td>\n",
       "      <td>1989</td>\n",
       "    </tr>\n",
       "    <tr>\n",
       "      <th>291</th>\n",
       "      <td>L</td>\n",
       "      <td>Loews Corporation</td>\n",
       "      <td>reports</td>\n",
       "      <td>Financials</td>\n",
       "      <td>Multi-line Insurance</td>\n",
       "      <td>New York City, New York</td>\n",
       "      <td>NaN</td>\n",
       "      <td>60086</td>\n",
       "      <td>1959</td>\n",
       "    </tr>\n",
       "  </tbody>\n",
       "</table>\n",
       "</div>"
      ],
      "text/plain": [
       "    Symbol               Security SEC filings             GICS Sector  \\\n",
       "46    AAPL                  Apple     reports  Information Technology   \n",
       "118    CMS             CMS Energy     reports               Utilities   \n",
       "127    STZ   Constellation Brands     reports        Consumer Staples   \n",
       "16    AKAM                 Akamai     reports  Information Technology   \n",
       "466    UPS  United Parcel Service     reports             Industrials   \n",
       "144    DAL        Delta Air Lines     reports             Industrials   \n",
       "133   COST                 Costco     reports        Consumer Staples   \n",
       "362   PARA              Paramount     reports  Communication Services   \n",
       "5      ACN              Accenture     reports  Information Technology   \n",
       "291      L      Loews Corporation     reports              Financials   \n",
       "\n",
       "                              GICS Sub-Industry     Headquarters Location  \\\n",
       "46   Technology Hardware, Storage & Peripherals     Cupertino, California   \n",
       "118                             Multi-Utilities         Jackson, Michigan   \n",
       "127                       Distillers & Vintners          Victor, New York   \n",
       "16           Internet Services & Infrastructure  Cambridge, Massachusetts   \n",
       "466                     Air Freight & Logistics    Sandy Springs, Georgia   \n",
       "144                                    Airlines          Atlanta, Georgia   \n",
       "133                Hypermarkets & Super Centers      Issaquah, Washington   \n",
       "362                      Movies & Entertainment   New York City, New York   \n",
       "5                IT Consulting & Other Services           Dublin, Ireland   \n",
       "291                        Multi-line Insurance   New York City, New York   \n",
       "\n",
       "    Date first added      CIK      Founded  \n",
       "46        1982-11-30   320193         1977  \n",
       "118       1999-05-03   811156         1886  \n",
       "127       2005-07-01    16918         1945  \n",
       "16        2007-07-12  1086222         1998  \n",
       "466       2002-07-22  1090727         1907  \n",
       "144       2013-09-11    27904         1929  \n",
       "133       1993-10-01   909832         1976  \n",
       "362              NaN   813828  2019 (1952)  \n",
       "5         2011-07-06  1467373         1989  \n",
       "291              NaN    60086         1959  "
      ]
     },
     "execution_count": 7,
     "metadata": {},
     "output_type": "execute_result"
    }
   ],
   "source": [
    "df.sample(10)"
   ]
  },
  {
   "cell_type": "code",
   "execution_count": 8,
   "id": "a8ddbe06",
   "metadata": {
    "execution": {
     "iopub.execute_input": "2022-04-18T04:06:14.087083Z",
     "iopub.status.busy": "2022-04-18T04:06:14.086906Z",
     "iopub.status.idle": "2022-04-18T04:06:14.093406Z",
     "shell.execute_reply": "2022-04-18T04:06:14.092998Z"
    },
    "papermill": {
     "duration": 0.01494,
     "end_time": "2022-04-18T04:06:14.094948",
     "exception": false,
     "start_time": "2022-04-18T04:06:14.080008",
     "status": "completed"
    },
    "tags": []
   },
   "outputs": [
    {
     "name": "stdout",
     "output_type": "stream",
     "text": [
      "Saved file /Users/aiujdm2/market_watch/output/data/raw/snp500_securities_list.csv\n"
     ]
    }
   ],
   "source": [
    "output_file_path = product['data']\n",
    "df.to_csv(output_file_path)\n",
    "print(f\"Saved file {output_file_path}\")  "
   ]
  },
  {
   "cell_type": "code",
   "execution_count": 9,
   "id": "7b157692",
   "metadata": {
    "execution": {
     "iopub.execute_input": "2022-04-18T04:06:14.109178Z",
     "iopub.status.busy": "2022-04-18T04:06:14.109015Z",
     "iopub.status.idle": "2022-04-18T04:06:14.111572Z",
     "shell.execute_reply": "2022-04-18T04:06:14.111147Z"
    },
    "papermill": {
     "duration": 0.011595,
     "end_time": "2022-04-18T04:06:14.113153",
     "exception": false,
     "start_time": "2022-04-18T04:06:14.101558",
     "status": "completed"
    },
    "tags": []
   },
   "outputs": [],
   "source": [
    "del df, first_table, second_table"
   ]
  },
  {
   "cell_type": "code",
   "execution_count": null,
   "id": "350b0e8c",
   "metadata": {
    "papermill": {
     "duration": 0.006655,
     "end_time": "2022-04-18T04:06:14.127051",
     "exception": false,
     "start_time": "2022-04-18T04:06:14.120396",
     "status": "completed"
    },
    "tags": []
   },
   "outputs": [],
   "source": []
  }
 ],
 "metadata": {
  "jupytext": {
   "cell_metadata_filter": "tags,-all",
   "main_language": "python",
   "notebook_metadata_filter": "-all",
   "text_representation": {
    "extension": ".py",
    "format_name": "light"
   }
  },
  "kernelspec": {
   "display_name": "Python 3 (ipykernel)",
   "language": "python",
   "name": "python3"
  },
  "language_info": {
   "codemirror_mode": {
    "name": "ipython",
    "version": 3
   },
   "file_extension": ".py",
   "mimetype": "text/x-python",
   "name": "python",
   "nbconvert_exporter": "python",
   "pygments_lexer": "ipython3",
   "version": "3.9.10"
  },
  "papermill": {
   "duration": 2.139122,
   "end_time": "2022-04-18T04:06:14.353892",
   "exception": null,
   "input_path": "/var/folders/b0/4tc1nfbd6z7_vhx4nxcj2n91c0l9h6/T/tmp7t1hcg4d.ipynb",
   "output_path": "/Users/aiujdm2/market_watch/output/notebooks/fetch_snp500_securities_list.ipynb",
   "parameters": {
    "product": {
     "data": "/Users/aiujdm2/market_watch/output/data/raw/snp500_securities_list.csv",
     "nb": "/Users/aiujdm2/market_watch/output/notebooks/fetch_snp500_securities_list.ipynb"
    },
    "source_url": "https://en.wikipedia.org/wiki/List_of_S%26P_500_companies"
   },
   "start_time": "2022-04-18T04:06:12.214770"
  }
 },
 "nbformat": 4,
 "nbformat_minor": 5
}